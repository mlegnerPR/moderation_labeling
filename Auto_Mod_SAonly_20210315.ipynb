{
 "cells": [
  {
   "cell_type": "code",
   "execution_count": 1,
   "metadata": {},
   "outputs": [
    {
     "data": {
      "application/vnd.jupyter.widget-view+json": {
       "model_id": "e585feb6d31a4cdbad2deb586b216153",
       "version_major": 2,
       "version_minor": 0
      },
      "text/plain": [
       "VBox()"
      ]
     },
     "metadata": {},
     "output_type": "display_data"
    },
    {
     "name": "stdout",
     "output_type": "stream",
     "text": [
      "Starting Spark application\n"
     ]
    },
    {
     "data": {
      "text/html": [
       "<table>\n",
       "<tr><th>ID</th><th>YARN Application ID</th><th>Kind</th><th>State</th><th>Spark UI</th><th>Driver log</th><th>Current session?</th></tr><tr><td>3</td><td>application_1615921700910_0004</td><td>pyspark</td><td>idle</td><td><a target=\"_blank\" href=\"http://ip-10-101-213-108.us-west-2.compute.internal:20888/proxy/application_1615921700910_0004/\">Link</a></td><td><a target=\"_blank\" href=\"http://ip-10-101-213-108.us-west-2.compute.internal:8042/node/containerlogs/container_1615921700910_0004_01_000001/livy\">Link</a></td><td>✔</td></tr></table>"
      ],
      "text/plain": [
       "<IPython.core.display.HTML object>"
      ]
     },
     "metadata": {},
     "output_type": "display_data"
    },
    {
     "data": {
      "application/vnd.jupyter.widget-view+json": {
       "model_id": "",
       "version_major": 2,
       "version_minor": 0
      },
      "text/plain": [
       "FloatProgress(value=0.0, bar_style='info', description='Progress:', layout=Layout(height='25px', width='50%'),…"
      ]
     },
     "metadata": {},
     "output_type": "display_data"
    },
    {
     "name": "stdout",
     "output_type": "stream",
     "text": [
      "SparkSession available as 'spark'.\n"
     ]
    },
    {
     "data": {
      "application/vnd.jupyter.widget-view+json": {
       "model_id": "",
       "version_major": 2,
       "version_minor": 0
      },
      "text/plain": [
       "FloatProgress(value=0.0, bar_style='info', description='Progress:', layout=Layout(height='25px', width='50%'),…"
      ]
     },
     "metadata": {},
     "output_type": "display_data"
    }
   ],
   "source": [
    "#Import packages\n",
    "import numpy as np\n",
    "from numpy import argmax\n",
    "import pyspark.sql.functions as F\n",
    "import snowflake.connector\n",
    "import pandas as pd\n",
    "import spacy\n",
    "#from sparknlp.base import Finisher, DocumentAssembler\n",
    "#from sparknlp.annotator import  Normalizer, LemmatizerModel, StopWordsCleaner, Tokenizer\n",
    "#from pyspark.ml import Pipeline\n",
    "#from pyspark.ml.feature import CountVectorizer, VectorAssembler, HashingTF, IDF, Tokenizer\n",
    "#from nltk.corpus import stopwords\n",
    "from sklearn.feature_extraction.text import TfidfVectorizer\n",
    "from sklearn.model_selection import train_test_split\n",
    "from scipy import sparse\n",
    "from sklearn.linear_model import LogisticRegression\n",
    "from sklearn import svm\n",
    "from sklearn.multiclass import OneVsRestClassifier\n",
    "from sklearn import metrics\n",
    "from sklearn.metrics import f1_score, accuracy_score, recall_score, precision_score, confusion_matrix, plot_confusion_matrix, \\\n",
    "                            roc_curve, auc, classification_report, precision_recall_curve\n",
    "import matplotlib.pyplot as plt\n",
    "import boto3\n",
    "import json"
   ]
  },
  {
   "cell_type": "code",
   "execution_count": 2,
   "metadata": {},
   "outputs": [
    {
     "data": {
      "application/vnd.jupyter.widget-view+json": {
       "model_id": "e1a46a8d04c746928870632265ecfa14",
       "version_major": 2,
       "version_minor": 0
      },
      "text/plain": [
       "VBox()"
      ]
     },
     "metadata": {},
     "output_type": "display_data"
    },
    {
     "data": {
      "application/vnd.jupyter.widget-view+json": {
       "model_id": "",
       "version_major": 2,
       "version_minor": 0
      },
      "text/plain": [
       "FloatProgress(value=0.0, bar_style='info', description='Progress:', layout=Layout(height='25px', width='50%'),…"
      ]
     },
     "metadata": {},
     "output_type": "display_data"
    }
   ],
   "source": [
    "sm_client = boto3.client('secretsmanager',region_name='us-west-2')\n",
    "secret_value = sm_client.get_secret_value(SecretId = 'emr_spark_qa')\n",
    "username = json.loads(secret_value['SecretString'])['emr_spark_username']\n",
    "password = json.loads(secret_value['SecretString'])['emr_spark_password']\n",
    "\n",
    "#SPARK connection info\n",
    "sfOptions = {\n",
    "  'sfURL' : 'powerreviews.snowflakecomputing.com',\n",
    "  'sfAccount' : 'powerreviews',\n",
    "  'sfUser' : username,\n",
    "  'sfPassword' : password,\n",
    "  'sfDatabase' : 'ANALYTICS_PROD',\n",
    "  'sfSchema' : 'ANALYTICS',\n",
    "  'sfWarehouse' : 'LOWER_ENV_WAREHOUSE'\n",
    "}\n",
    "SNOWFLAKE_SOURCE_NAME = \"net.snowflake.spark.snowflake\"\n",
    "\n",
    "#PYTHON connection info\n",
    "conn = snowflake.connector.connect(\n",
    "    account='powerreviews',\n",
    "    database='analytics_prod',\n",
    "    warehouse='LOWER_ENV_WAREHOUSE',\n",
    "    user=username,\n",
    "    password=password\n",
    "    )\n"
   ]
  },
  {
   "cell_type": "code",
   "execution_count": 3,
   "metadata": {},
   "outputs": [
    {
     "data": {
      "application/vnd.jupyter.widget-view+json": {
       "model_id": "12f7ad7ac468419db9da73a96055ea34",
       "version_major": 2,
       "version_minor": 0
      },
      "text/plain": [
       "VBox()"
      ]
     },
     "metadata": {},
     "output_type": "display_data"
    },
    {
     "data": {
      "application/vnd.jupyter.widget-view+json": {
       "model_id": "",
       "version_major": 2,
       "version_minor": 0
      },
      "text/plain": [
       "FloatProgress(value=0.0, bar_style='info', description='Progress:', layout=Layout(height='25px', width='50%'),…"
      ]
     },
     "metadata": {},
     "output_type": "display_data"
    }
   ],
   "source": [
    "#Use review data set to get observation codes bc they are already comma separated and less joins to perform\n",
    "#Still need observation set though to get observation created date\n",
    "#This is bc review could be from ages ago but we could have imported recently and moderated it\n",
    "#Want to make sure we include as many observation labels as possible for most accurate model\n",
    "\n"
   ]
  },
  {
   "cell_type": "code",
   "execution_count": 4,
   "metadata": {},
   "outputs": [
    {
     "data": {
      "application/vnd.jupyter.widget-view+json": {
       "model_id": "57f9f0e22ff44b8ba445b24f695b8bb9",
       "version_major": 2,
       "version_minor": 0
      },
      "text/plain": [
       "VBox()"
      ]
     },
     "metadata": {},
     "output_type": "display_data"
    },
    {
     "data": {
      "application/vnd.jupyter.widget-view+json": {
       "model_id": "",
       "version_major": 2,
       "version_minor": 0
      },
      "text/plain": [
       "FloatProgress(value=0.0, bar_style='info', description='Progress:', layout=Layout(height='25px', width='50%'),…"
      ]
     },
     "metadata": {},
     "output_type": "display_data"
    }
   ],
   "source": [
    "#Careful not to get SSC for SC\n",
    "#PM,SC - contains(r.observations, ',SC')\n",
    "#Look for comma before, will always be before bc 'PM' is alphabetically before SC\n",
    "\n",
    "\n",
    "#HAVE OBS LABEL IN QUESTION\n",
    "query_testing = \"select distinct r.ugc_id,  r.review_headline, r.review_comments, r.review_rating, \\\n",
    "case when (contains(r.observations, 'SA')) then 1 else 0 end as SA \\\n",
    "from analytics.review as r \\\n",
    "where r.locale in ('en_US','en_GB','en_CA') and contains(r.observations, 'PM') \\\n",
    "and not contains(r.observations, 'IA') and not contains(r.observations, 'IR') \\\n",
    "and (contains(r.observations, 'SA')) \\\n",
    "and r.created_date > '2019-01-01' \\\n",
    "\""
   ]
  },
  {
   "cell_type": "code",
   "execution_count": 5,
   "metadata": {},
   "outputs": [
    {
     "data": {
      "application/vnd.jupyter.widget-view+json": {
       "model_id": "c4dbfe144dc149bfaad126581e6e363e",
       "version_major": 2,
       "version_minor": 0
      },
      "text/plain": [
       "VBox()"
      ]
     },
     "metadata": {},
     "output_type": "display_data"
    },
    {
     "data": {
      "application/vnd.jupyter.widget-view+json": {
       "model_id": "",
       "version_major": 2,
       "version_minor": 0
      },
      "text/plain": [
       "FloatProgress(value=0.0, bar_style='info', description='Progress:', layout=Layout(height='25px', width='50%'),…"
      ]
     },
     "metadata": {},
     "output_type": "display_data"
    },
    {
     "name": "stdout",
     "output_type": "stream",
     "text": [
      "       UGC_ID                  REVIEW_HEADLINE  ... REVIEW_RATING  SA\n",
      "0   242917583                             NONE  ...             1   1\n",
      "1   280446415                         Dont buy  ...             1   1\n",
      "2   240886791                            AWFUL  ...             1   1\n",
      "3   240805291   THIS PRODUCT KILLED MY CAT!!!!  ...             1   1\n",
      "4   285464796                       Do not buy  ...             1   1\n",
      "..        ...                              ...  ...           ...  ..\n",
      "95  264113044  They shouldn't be selling this.  ...             1   1\n",
      "96  268390198               Expires too early!  ...             3   1\n",
      "97  268388939    Definitely not slip resistant  ...             2   1\n",
      "98  268396419   I don't think that was chicken  ...             1   1\n",
      "99  278285137      Wish it was a better review  ...             1   1\n",
      "\n",
      "[100 rows x 5 columns]"
     ]
    }
   ],
   "source": [
    "#pd.set_option('display.max_colwidth', -1)\n",
    "#pd.set_option('display.max_columns', None)\n",
    "#pd.set_option('display.max_rows', None)\n",
    "reviews = pd.read_sql(query_testing, conn)\n",
    "reviews.head(100)\n",
    "#reviews.info()\n"
   ]
  },
  {
   "cell_type": "code",
   "execution_count": 6,
   "metadata": {},
   "outputs": [
    {
     "data": {
      "application/vnd.jupyter.widget-view+json": {
       "model_id": "db449080c3f74c53bef78625056701e7",
       "version_major": 2,
       "version_minor": 0
      },
      "text/plain": [
       "VBox()"
      ]
     },
     "metadata": {},
     "output_type": "display_data"
    },
    {
     "data": {
      "application/vnd.jupyter.widget-view+json": {
       "model_id": "",
       "version_major": 2,
       "version_minor": 0
      },
      "text/plain": [
       "FloatProgress(value=0.0, bar_style='info', description='Progress:', layout=Layout(height='25px', width='50%'),…"
      ]
     },
     "metadata": {},
     "output_type": "display_data"
    },
    {
     "name": "stdout",
     "output_type": "stream",
     "text": [
      "<class 'pandas.core.frame.DataFrame'>\n",
      "RangeIndex: 9856 entries, 0 to 9855\n",
      "Data columns (total 5 columns):\n",
      " #   Column           Non-Null Count  Dtype \n",
      "---  ------           --------------  ----- \n",
      " 0   UGC_ID           9856 non-null   int64 \n",
      " 1   REVIEW_HEADLINE  9856 non-null   object\n",
      " 2   REVIEW_COMMENTS  9856 non-null   object\n",
      " 3   REVIEW_RATING    9856 non-null   int64 \n",
      " 4   SA               9856 non-null   int64 \n",
      "dtypes: int64(3), object(2)\n",
      "memory usage: 385.1+ KB"
     ]
    }
   ],
   "source": [
    "reviews.info()"
   ]
  },
  {
   "cell_type": "code",
   "execution_count": 7,
   "metadata": {},
   "outputs": [
    {
     "data": {
      "application/vnd.jupyter.widget-view+json": {
       "model_id": "0c5a3060da8f40d289e8074e1380b747",
       "version_major": 2,
       "version_minor": 0
      },
      "text/plain": [
       "VBox()"
      ]
     },
     "metadata": {},
     "output_type": "display_data"
    },
    {
     "data": {
      "application/vnd.jupyter.widget-view+json": {
       "model_id": "",
       "version_major": 2,
       "version_minor": 0
      },
      "text/plain": [
       "FloatProgress(value=0.0, bar_style='info', description='Progress:', layout=Layout(height='25px', width='50%'),…"
      ]
     },
     "metadata": {},
     "output_type": "display_data"
    }
   ],
   "source": [
    "#DONT HAVE OBS LABEL IN QUESTION\n",
    "query_testing_2 = \"select distinct r.ugc_id,  r.review_headline, r.review_comments, r.review_rating, \\\n",
    "case when (contains(r.observations, 'SA')) then 1 else 0 end as SA \\\n",
    "from analytics.review as r \\\n",
    "where r.locale in ('en_US','en_GB','en_CA') and contains(r.observations, 'PM') \\\n",
    "and not contains(r.observations, 'IA') and not contains(r.observations, 'IR') \\\n",
    "and not contains(r.observations, 'SA') \\\n",
    "and r.created_date > '2019-01-01' \\\n",
    "\""
   ]
  },
  {
   "cell_type": "code",
   "execution_count": 8,
   "metadata": {},
   "outputs": [
    {
     "data": {
      "application/vnd.jupyter.widget-view+json": {
       "model_id": "7697b0de86ce4be89bf8b21e9d975d1c",
       "version_major": 2,
       "version_minor": 0
      },
      "text/plain": [
       "VBox()"
      ]
     },
     "metadata": {},
     "output_type": "display_data"
    },
    {
     "data": {
      "application/vnd.jupyter.widget-view+json": {
       "model_id": "",
       "version_major": 2,
       "version_minor": 0
      },
      "text/plain": [
       "FloatProgress(value=0.0, bar_style='info', description='Progress:', layout=Layout(height='25px', width='50%'),…"
      ]
     },
     "metadata": {},
     "output_type": "display_data"
    },
    {
     "name": "stdout",
     "output_type": "stream",
     "text": [
      "<class 'pandas.core.frame.DataFrame'>\n",
      "RangeIndex: 15026985 entries, 0 to 15026984\n",
      "Data columns (total 5 columns):\n",
      " #   Column           Dtype  \n",
      "---  ------           -----  \n",
      " 0   UGC_ID           int64  \n",
      " 1   REVIEW_HEADLINE  object \n",
      " 2   REVIEW_COMMENTS  object \n",
      " 3   REVIEW_RATING    float64\n",
      " 4   SA               int64  \n",
      "dtypes: float64(1), int64(2), object(2)\n",
      "memory usage: 573.2+ MB"
     ]
    }
   ],
   "source": [
    "reviews_2 = pd.read_sql(query_testing_2, conn)\n",
    "reviews_2.head(100)\n",
    "reviews_2.info()"
   ]
  },
  {
   "cell_type": "code",
   "execution_count": 9,
   "metadata": {},
   "outputs": [
    {
     "data": {
      "application/vnd.jupyter.widget-view+json": {
       "model_id": "358de961f94647efaf70140695898f83",
       "version_major": 2,
       "version_minor": 0
      },
      "text/plain": [
       "VBox()"
      ]
     },
     "metadata": {},
     "output_type": "display_data"
    },
    {
     "data": {
      "application/vnd.jupyter.widget-view+json": {
       "model_id": "",
       "version_major": 2,
       "version_minor": 0
      },
      "text/plain": [
       "FloatProgress(value=0.0, bar_style='info', description='Progress:', layout=Layout(height='25px', width='50%'),…"
      ]
     },
     "metadata": {},
     "output_type": "display_data"
    }
   ],
   "source": [
    "#Take same # of those without obs as those with obs\n",
    "#Using limit 500000 is not random, pull in all w/ no labels and then take random sample from there\n",
    "from random import sample \n",
    "reviews_2 = reviews_2.sample(n=9856, random_state=1)"
   ]
  },
  {
   "cell_type": "code",
   "execution_count": 10,
   "metadata": {},
   "outputs": [
    {
     "data": {
      "application/vnd.jupyter.widget-view+json": {
       "model_id": "5e530ab754b04a8c970e5da269a83078",
       "version_major": 2,
       "version_minor": 0
      },
      "text/plain": [
       "VBox()"
      ]
     },
     "metadata": {},
     "output_type": "display_data"
    },
    {
     "data": {
      "application/vnd.jupyter.widget-view+json": {
       "model_id": "",
       "version_major": 2,
       "version_minor": 0
      },
      "text/plain": [
       "FloatProgress(value=0.0, bar_style='info', description='Progress:', layout=Layout(height='25px', width='50%'),…"
      ]
     },
     "metadata": {},
     "output_type": "display_data"
    },
    {
     "name": "stdout",
     "output_type": "stream",
     "text": [
      "0"
     ]
    }
   ],
   "source": [
    "reviews_2['SA'].sum(axis=0)\n",
    "#reviews_2[reviews_2['SASC']==1]"
   ]
  },
  {
   "cell_type": "code",
   "execution_count": 11,
   "metadata": {},
   "outputs": [
    {
     "data": {
      "application/vnd.jupyter.widget-view+json": {
       "model_id": "cb64b66b453240aa84c51dde0a0485bc",
       "version_major": 2,
       "version_minor": 0
      },
      "text/plain": [
       "VBox()"
      ]
     },
     "metadata": {},
     "output_type": "display_data"
    },
    {
     "data": {
      "application/vnd.jupyter.widget-view+json": {
       "model_id": "",
       "version_major": 2,
       "version_minor": 0
      },
      "text/plain": [
       "FloatProgress(value=0.0, bar_style='info', description='Progress:', layout=Layout(height='25px', width='50%'),…"
      ]
     },
     "metadata": {},
     "output_type": "display_data"
    },
    {
     "name": "stdout",
     "output_type": "stream",
     "text": [
      "             UGC_ID                   REVIEW_HEADLINE  ... REVIEW_RATING  SA\n",
      "0         242917583                              NONE  ...           1.0   1\n",
      "1         280446415                          Dont buy  ...           1.0   1\n",
      "2         240886791                             AWFUL  ...           1.0   1\n",
      "3         240805291    THIS PRODUCT KILLED MY CAT!!!!  ...           1.0   1\n",
      "4         285464796                        Do not buy  ...           1.0   1\n",
      "...             ...                               ...  ...           ...  ..\n",
      "9558211   273732873                        Love owls!  ...           5.0   0\n",
      "5649941   239359837                      Lovely priht  ...           4.0   0\n",
      "10275781  317581704                     Get this ASAP  ...           5.0   0\n",
      "1739032   330529285  Super comfy, like walking on air  ...           5.0   0\n",
      "3264988   244586202                     Twin Mattress  ...           5.0   0\n",
      "\n",
      "[19712 rows x 5 columns]"
     ]
    }
   ],
   "source": [
    "reviews = pd.concat([reviews, reviews_2], axis=0)\n",
    "reviews"
   ]
  },
  {
   "cell_type": "code",
   "execution_count": 12,
   "metadata": {},
   "outputs": [
    {
     "data": {
      "application/vnd.jupyter.widget-view+json": {
       "model_id": "268ac8acb6564b74ac608d25e5c790a2",
       "version_major": 2,
       "version_minor": 0
      },
      "text/plain": [
       "VBox()"
      ]
     },
     "metadata": {},
     "output_type": "display_data"
    },
    {
     "data": {
      "application/vnd.jupyter.widget-view+json": {
       "model_id": "",
       "version_major": 2,
       "version_minor": 0
      },
      "text/plain": [
       "FloatProgress(value=0.0, bar_style='info', description='Progress:', layout=Layout(height='25px', width='50%'),…"
      ]
     },
     "metadata": {},
     "output_type": "display_data"
    },
    {
     "name": "stdout",
     "output_type": "stream",
     "text": [
      "9856"
     ]
    }
   ],
   "source": [
    "reviews['SA'].sum(axis=0)"
   ]
  },
  {
   "cell_type": "code",
   "execution_count": 13,
   "metadata": {},
   "outputs": [
    {
     "data": {
      "application/vnd.jupyter.widget-view+json": {
       "model_id": "69695982351a413b9b5f35f749d948f0",
       "version_major": 2,
       "version_minor": 0
      },
      "text/plain": [
       "VBox()"
      ]
     },
     "metadata": {},
     "output_type": "display_data"
    },
    {
     "data": {
      "application/vnd.jupyter.widget-view+json": {
       "model_id": "",
       "version_major": 2,
       "version_minor": 0
      },
      "text/plain": [
       "FloatProgress(value=0.0, bar_style='info', description='Progress:', layout=Layout(height='25px', width='50%'),…"
      ]
     },
     "metadata": {},
     "output_type": "display_data"
    },
    {
     "name": "stdout",
     "output_type": "stream",
     "text": [
      "<class 'pandas.core.frame.DataFrame'>\n",
      "Int64Index: 19712 entries, 0 to 3264988\n",
      "Data columns (total 5 columns):\n",
      " #   Column           Non-Null Count  Dtype  \n",
      "---  ------           --------------  -----  \n",
      " 0   UGC_ID           19712 non-null  int64  \n",
      " 1   REVIEW_HEADLINE  19711 non-null  object \n",
      " 2   REVIEW_COMMENTS  19712 non-null  object \n",
      " 3   REVIEW_RATING    19712 non-null  float64\n",
      " 4   SA               19712 non-null  int64  \n",
      "dtypes: float64(1), int64(2), object(2)\n",
      "memory usage: 924.0+ KB"
     ]
    }
   ],
   "source": [
    "reviews.info()"
   ]
  },
  {
   "cell_type": "code",
   "execution_count": 14,
   "metadata": {},
   "outputs": [
    {
     "data": {
      "application/vnd.jupyter.widget-view+json": {
       "model_id": "fa67e0a6d0944c758aed99fed6c830ec",
       "version_major": 2,
       "version_minor": 0
      },
      "text/plain": [
       "VBox()"
      ]
     },
     "metadata": {},
     "output_type": "display_data"
    },
    {
     "data": {
      "application/vnd.jupyter.widget-view+json": {
       "model_id": "",
       "version_major": 2,
       "version_minor": 0
      },
      "text/plain": [
       "FloatProgress(value=0.0, bar_style='info', description='Progress:', layout=Layout(height='25px', width='50%'),…"
      ]
     },
     "metadata": {},
     "output_type": "display_data"
    },
    {
     "name": "stdout",
     "output_type": "stream",
     "text": [
      "       UGC_ID                  REVIEW_HEADLINE  \\\n",
      "0   242917583  NONE                              \n",
      "1   280446415  Dont buy                          \n",
      "2   240886791  AWFUL                             \n",
      "3   240805291  THIS PRODUCT KILLED MY CAT!!!!    \n",
      "4   285464796  Do not buy                        \n",
      "..        ...         ...                        \n",
      "95  264113044  They shouldn't be selling this.   \n",
      "96  268390198  Expires too early!                \n",
      "97  268388939  Definitely not slip resistant     \n",
      "98  268396419  I don't think that was chicken    \n",
      "99  278285137  Wish it was a better review       \n",
      "\n",
      "                                                                                                                                                                                                                                                                                                                                                                                                                                                                                                                                                                                                                                                                                                                                                                                                                                                                                                                                                                                                                                                                                                                                                                                                                                                                                                                                                                                                                                                                                                                                                                                                                                                                                                                                                                                                                                                                                                                                                                                                                                          REVIEW_COMMENTS  \\\n",
      "0   The scent is overwhelming strong. Gets into every space, hard to get it out. Fragrance gave me a headache for 2 days. The warmer part is good, just needs a much lighter scent.                                                                                                                                                                                                                                                                                                                                                                                                                                                                                                                                                                                                                                                                                                                                                                                                                                                                                                                                                                                                                                                                                                                                                                                                                                                                                                                                                                                                                                                                                                                                                                                                                                                                                                                                                                                                                                                                         \n",
      "1   Please dont give this tablet to your dog, a few hours after giving this tablet as advised and sold by pets at home my dog started constantly being sick and couldnt stop for hours.  I googled the reviews and were horrified to read that this happens to most dogs. PETS AT HOME WHY IS THIS STILL BEING SOLD !!!!                                                                                                                                                                                                                                                                                                                                                                                                                                                                                                                                                                                                                                                                                                                                                                                                                                                                                                                                                                                                                                                                                                                                                                                                                                                                                                                                                                                                                                                                                                                                                                                                                                                                                                                                    \n",
      "2   I DON'T KNOW IF I GOT A TAINTED TUB; BUT I GOT EXTREMELY SICK AND VOMITING ALL DAY AFTER DRINKING IT!! I tried some at my daughter's house out of her tub and I liked it...so I ordered some when I got home; the first time I only used 1/2 a scoop and felt my stomach was upset, the next time I used a full scoop (not really thinking that caused my stomach ache) and within a short time I began vomiting out of control!!!!                                                                                                                                                                                                                                                                                                                                                                                                                                                                                                                                                                                                                                                                                                                                                                                                                                                                                                                                                                                                                                                                                                                                                                                                                                                                                                                                                                                                                                                                                                                                                                                                                     \n",
      "3   I have never had an automatic air freshener in my 60+ years of life.  I found this Glade air freshener on sale at my local drug store, so I thought I would try it.  I put it together one afternoon, set it to spray every 36 minutes and placed it on the back of my toilet in the bathroom.  My beloved cat's litterbox is in the bathroom.  She is also fed in the bathroom.  My cat was perfectly healthy that afternoon.  She ate her full dinner that evening and used her litterbox.  That night she DIED!\\n\\nCrushed and full of grief, I began to research the safety of using air fresheners around pets.  Horrified, I have come to realize that air fresheners are extremely poisonous to family pets ... especially CATS!!  There are tons of articles and journals explaining the dangers of the chemicals that are contained in air fresheners... especially GLADE.  It does no good to contact the Glade organization -- they deny everything!  The really scary thing is that the chemical dangers are not restricted only to pets.  Children and adults are susceptible to a wide array of serious health risks, as well ... even death.  \\n\\nIt wasn't until AFTER my cat died that I read the TINY INCONSPICUOUS SENTENCE at the very bottom of the can of Glade Air Freshener that read something like this: \"Do not use in confined pet areas with little ventilation.\"    This is ALL that it said... NO major warning of any kind.  No definition of what they consider a \"CONFINED AREA\".  No explanation of what they mean my \"LITTLE VENTILATION\".  \\n\\nAfter talking to several different people at the Glade Company, then I was referred to their \"VET TECH\".  I asked her about the sentence on the can; \"What exactly would happen to a pet if confined in an area with the air freshener spray?\"  Her response was, \"Just a little sneezing and coughing.\"  This was totally contrary to what the research had demonstrated!  The company is lying!\\n\\nI regret ever purchasing that Glade Automatic Air Freshener!   \n",
      "4   Firstly the wheel did not fit and could not take the piece off it was supposed to be attached to. Then the water bottle did not work, unfortunately by the time this was realised as it had previously been working it was too late. Our hamster unfortunately passed away due to dehydration and a stroke. We tried our best to bring him round when noticed the issue but sadly failed.                                                                                                                                                                                                                                                                                                                                                                                                                                                                                                                                                                                                                                                                                                                                                                                                                                                                                                                                                                                                                                                                                                                                                                                                                                                                                                                                                                                                                                                                                                                                                                                                                                                               \n",
      "..                                                                                                                                                                                                                                                                                                                                                                                        ...                                                                                                                                                                                                                                                                                                                                                                                                                                                                                                                                                                                                                                                                                                                                                                                                                                                                                                                                                                                                                                                                                                                                                                                                                                                                                                                                                                                                                                                                                                                                                                                                                                                               \n",
      "95  If the majority of users are being burnt and are experiencing pain then pull it off the market. My fiancé never has reactions to things and just got what looked like a chemical burn.                                                                                                                                                                                                                                                                                                                                                                                                                                                                                                                                                                                                                                                                                                                                                                                                                                                                                                                                                                                                                                                                                                                                                                                                                                                                                                                                                                                                                                                                                                                                                                                                                                                                                                                                                                                                                                                                  \n",
      "96  This product was a good concept, but the execution is lacking.  The smell and taste can be off-putting, but the worst thing is how quickly they go rancid!  As in, nasty rancid far before the expiration date.  PF, you need to start again with this product.  \\n\\nGreat colors and I love the texture and shine.                                                                                                                                                                                                                                                                                                                                                                                                                                                                                                                                                                                                                                                                                                                                                                                                                                                                                                                                                                                                                                                                                                                                                                                                                                                                                                                                                                                                                                                                                                                                                                                                                                                                                                                                     \n",
      "97  It's a stylish and comfortable pair of shoes, but the site indicates that they are made for restaurant workers which was why I bought them. The paper removable tag specifies that that are slip resistant, but there is no indication on the sole or inner part of the shoe that specifies it, most restaurant shoes need to say it on the shoes for insurance purposes. With that being said, I have owned a few pairs of non-slip restaurant shoes so I know how they should thread on floors in the kitchen, I almost slipped a few times which leads me to believe they are not actually slip resistant. But besides that I like the shoes, just don't chose these for restaurant work.                                                                                                                                                                                                                                                                                                                                                                                                                                                                                                                                                                                                                                                                                                                                                                                                                                                                                                                                                                                                                                                                                                                                                                                                                                                                                                                                                            \n",
      "98  I managed to eat half of it because I was starving but gave up and threw the rest away. Bit into a piece of bone or something and hurt my tooth. Absolutely disgusting.                                                                                                                                                                                                                                                                                                                                                                                                                                                                                                                                                                                                                                                                                                                                                                                                                                                                                                                                                                                                                                                                                                                                                                                                                                                                                                                                                                                                                                                                                                                                                                                                                                                                                                                                                                                                                                                                                 \n",
      "99  I wish this was a better review. My kids were so excited for these as they love starburst. Unfortunately, these were not at all like starburst and it will so hard instead of chewy like it was advertised that my 4 year old started choking on them. We threw them out and will not consider purchasing them                                                                                                                                                                                                                                                                                                                                                                                                                                                                                                                                                                                                                                                                                                                                                                                                                                                                                                                                                                                                                                                                                                                                                                                                                                                                                                                                                                                                                                                                                                                                                                                                                                                                                                                                          \n",
      "\n",
      "    REVIEW_RATING  SA  \\\n",
      "0   1.0            1    \n",
      "1   1.0            1    \n",
      "2   1.0            1    \n",
      "3   1.0            1    \n",
      "4   1.0            1    \n",
      "..  ...           ..    \n",
      "95  1.0            1    \n",
      "96  3.0            1    \n",
      "97  2.0            1    \n",
      "98  1.0            1    \n",
      "99  1.0            1    \n",
      "\n",
      "                                                                                                                                                                                                                                                                                                                                                                                                                                                                                                                                                                                                                                                                                                                                                                                                                                                                                                                                                                                                                                                                                                                                                                                                                                                                                                                                                                                                                                                                                                                                                                                                                                                                                                                                                                                                                                                                                                                                                                                                                                                                                ALL_TEXT  \n",
      "0   NONE The scent is overwhelming strong. Gets into every space, hard to get it out. Fragrance gave me a headache for 2 days. The warmer part is good, just needs a much lighter scent.                                                                                                                                                                                                                                                                                                                                                                                                                                                                                                                                                                                                                                                                                                                                                                                                                                                                                                                                                                                                                                                                                                                                                                                                                                                                                                                                                                                                                                                                                                                                                                                                                                                                                                                                                                                                                                                                                                  \n",
      "1   Dont buy Please dont give this tablet to your dog, a few hours after giving this tablet as advised and sold by pets at home my dog started constantly being sick and couldnt stop for hours.  I googled the reviews and were horrified to read that this happens to most dogs. PETS AT HOME WHY IS THIS STILL BEING SOLD !!!!                                                                                                                                                                                                                                                                                                                                                                                                                                                                                                                                                                                                                                                                                                                                                                                                                                                                                                                                                                                                                                                                                                                                                                                                                                                                                                                                                                                                                                                                                                                                                                                                                                                                                                                                                         \n",
      "2   AWFUL I DON'T KNOW IF I GOT A TAINTED TUB; BUT I GOT EXTREMELY SICK AND VOMITING ALL DAY AFTER DRINKING IT!! I tried some at my daughter's house out of her tub and I liked it...so I ordered some when I got home; the first time I only used 1/2 a scoop and felt my stomach was upset, the next time I used a full scoop (not really thinking that caused my stomach ache) and within a short time I began vomiting out of control!!!!                                                                                                                                                                                                                                                                                                                                                                                                                                                                                                                                                                                                                                                                                                                                                                                                                                                                                                                                                                                                                                                                                                                                                                                                                                                                                                                                                                                                                                                                                                                                                                                                                                             \n",
      "3   THIS PRODUCT KILLED MY CAT!!!! I have never had an automatic air freshener in my 60+ years of life.  I found this Glade air freshener on sale at my local drug store, so I thought I would try it.  I put it together one afternoon, set it to spray every 36 minutes and placed it on the back of my toilet in the bathroom.  My beloved cat's litterbox is in the bathroom.  She is also fed in the bathroom.  My cat was perfectly healthy that afternoon.  She ate her full dinner that evening and used her litterbox.  That night she DIED!\\n\\nCrushed and full of grief, I began to research the safety of using air fresheners around pets.  Horrified, I have come to realize that air fresheners are extremely poisonous to family pets ... especially CATS!!  There are tons of articles and journals explaining the dangers of the chemicals that are contained in air fresheners... especially GLADE.  It does no good to contact the Glade organization -- they deny everything!  The really scary thing is that the chemical dangers are not restricted only to pets.  Children and adults are susceptible to a wide array of serious health risks, as well ... even death.  \\n\\nIt wasn't until AFTER my cat died that I read the TINY INCONSPICUOUS SENTENCE at the very bottom of the can of Glade Air Freshener that read something like this: \"Do not use in confined pet areas with little ventilation.\"    This is ALL that it said... NO major warning of any kind.  No definition of what they consider a \"CONFINED AREA\".  No explanation of what they mean my \"LITTLE VENTILATION\".  \\n\\nAfter talking to several different people at the Glade Company, then I was referred to their \"VET TECH\".  I asked her about the sentence on the can; \"What exactly would happen to a pet if confined in an area with the air freshener spray?\"  Her response was, \"Just a little sneezing and coughing.\"  This was totally contrary to what the research had demonstrated!  The company is lying!\\n\\nI regret ever purchasing that Glade Automatic Air Freshener!  \n",
      "4   Do not buy Firstly the wheel did not fit and could not take the piece off it was supposed to be attached to. Then the water bottle did not work, unfortunately by the time this was realised as it had previously been working it was too late. Our hamster unfortunately passed away due to dehydration and a stroke. We tried our best to bring him round when noticed the issue but sadly failed.                                                                                                                                                                                                                                                                                                                                                                                                                                                                                                                                                                                                                                                                                                                                                                                                                                                                                                                                                                                                                                                                                                                                                                                                                                                                                                                                                                                                                                                                                                                                                                                                                                                                                  \n",
      "..                                                                                                                                                                                                                                                                                                                                                                                                   ...                                                                                                                                                                                                                                                                                                                                                                                                                                                                                                                                                                                                                                                                                                                                                                                                                                                                                                                                                                                                                                                                                                                                                                                                                                                                                                                                                                                                                                                                                                                                                                                                                                                                                  \n",
      "95  They shouldn't be selling this. If the majority of users are being burnt and are experiencing pain then pull it off the market. My fiancé never has reactions to things and just got what looked like a chemical burn.                                                                                                                                                                                                                                                                                                                                                                                                                                                                                                                                                                                                                                                                                                                                                                                                                                                                                                                                                                                                                                                                                                                                                                                                                                                                                                                                                                                                                                                                                                                                                                                                                                                                                                                                                                                                                                                                \n",
      "96  Expires too early! This product was a good concept, but the execution is lacking.  The smell and taste can be off-putting, but the worst thing is how quickly they go rancid!  As in, nasty rancid far before the expiration date.  PF, you need to start again with this product.  \\n\\nGreat colors and I love the texture and shine.                                                                                                                                                                                                                                                                                                                                                                                                                                                                                                                                                                                                                                                                                                                                                                                                                                                                                                                                                                                                                                                                                                                                                                                                                                                                                                                                                                                                                                                                                                                                                                                                                                                                                                                                                \n",
      "97  Definitely not slip resistant It's a stylish and comfortable pair of shoes, but the site indicates that they are made for restaurant workers which was why I bought them. The paper removable tag specifies that that are slip resistant, but there is no indication on the sole or inner part of the shoe that specifies it, most restaurant shoes need to say it on the shoes for insurance purposes. With that being said, I have owned a few pairs of non-slip restaurant shoes so I know how they should thread on floors in the kitchen, I almost slipped a few times which leads me to believe they are not actually slip resistant. But besides that I like the shoes, just don't chose these for restaurant work.                                                                                                                                                                                                                                                                                                                                                                                                                                                                                                                                                                                                                                                                                                                                                                                                                                                                                                                                                                                                                                                                                                                                                                                                                                                                                                                                                            \n",
      "98  I don't think that was chicken I managed to eat half of it because I was starving but gave up and threw the rest away. Bit into a piece of bone or something and hurt my tooth. Absolutely disgusting.                                                                                                                                                                                                                                                                                                                                                                                                                                                                                                                                                                                                                                                                                                                                                                                                                                                                                                                                                                                                                                                                                                                                                                                                                                                                                                                                                                                                                                                                                                                                                                                                                                                                                                                                                                                                                                                                                \n",
      "99  Wish it was a better review I wish this was a better review. My kids were so excited for these as they love starburst. Unfortunately, these were not at all like starburst and it will so hard instead of chewy like it was advertised that my 4 year old started choking on them. We threw them out and will not consider purchasing them                                                                                                                                                                                                                                                                                                                                                                                                                                                                                                                                                                                                                                                                                                                                                                                                                                                                                                                                                                                                                                                                                                                                                                                                                                                                                                                                                                                                                                                                                                                                                                                                                                                                                                                                            \n",
      "\n",
      "[100 rows x 6 columns]\n",
      "<string>:5: FutureWarning: Passing a negative integer is deprecated in version 1.0 and will not be supported in future version. Instead, use None to not limit the column width."
     ]
    }
   ],
   "source": [
    "#reviews['ALL_TEXT'] = 'headline ' + reviews['REVIEW_HEADLINE'] + ' comment ' + reviews['REVIEW_COMMENTS'] + \\\n",
    "#        ' nickname ' + reviews['REVIEWER_NICKNAME'] + ' location ' + reviews['REVIEWER_LOCATION']\n",
    "reviews['ALL_TEXT'] =  reviews['REVIEW_HEADLINE']  + ' ' + reviews['REVIEW_COMMENTS']\n",
    "#Use set_option so text doesn't truncate\n",
    "pd.set_option('display.max_colwidth', -1)\n",
    "pd.set_option('display.max_columns', None)\n",
    "reviews.head(100)\n",
    "\n",
    "#reviews.dtypes"
   ]
  },
  {
   "cell_type": "code",
   "execution_count": 15,
   "metadata": {},
   "outputs": [
    {
     "data": {
      "application/vnd.jupyter.widget-view+json": {
       "model_id": "252caf65502b4e429019ebe62484e41b",
       "version_major": 2,
       "version_minor": 0
      },
      "text/plain": [
       "VBox()"
      ]
     },
     "metadata": {},
     "output_type": "display_data"
    },
    {
     "data": {
      "application/vnd.jupyter.widget-view+json": {
       "model_id": "",
       "version_major": 2,
       "version_minor": 0
      },
      "text/plain": [
       "FloatProgress(value=0.0, bar_style='info', description='Progress:', layout=Layout(height='25px', width='50%'),…"
      ]
     },
     "metadata": {},
     "output_type": "display_data"
    },
    {
     "name": "stdout",
     "output_type": "stream",
     "text": [
      "<class 'pandas.core.frame.DataFrame'>\n",
      "Int64Index: 19712 entries, 0 to 3264988\n",
      "Data columns (total 6 columns):\n",
      " #   Column           Non-Null Count  Dtype  \n",
      "---  ------           --------------  -----  \n",
      " 0   UGC_ID           19712 non-null  int64  \n",
      " 1   REVIEW_HEADLINE  19711 non-null  object \n",
      " 2   REVIEW_COMMENTS  19712 non-null  object \n",
      " 3   REVIEW_RATING    19712 non-null  float64\n",
      " 4   SA               19712 non-null  int64  \n",
      " 5   ALL_TEXT         19711 non-null  object \n",
      "dtypes: float64(1), int64(2), object(3)\n",
      "memory usage: 1.1+ MB"
     ]
    }
   ],
   "source": [
    "reviews.info()"
   ]
  },
  {
   "cell_type": "code",
   "execution_count": 16,
   "metadata": {},
   "outputs": [
    {
     "data": {
      "application/vnd.jupyter.widget-view+json": {
       "model_id": "a6f66ae292a149929797d4e062094c66",
       "version_major": 2,
       "version_minor": 0
      },
      "text/plain": [
       "VBox()"
      ]
     },
     "metadata": {},
     "output_type": "display_data"
    },
    {
     "data": {
      "application/vnd.jupyter.widget-view+json": {
       "model_id": "",
       "version_major": 2,
       "version_minor": 0
      },
      "text/plain": [
       "FloatProgress(value=0.0, bar_style='info', description='Progress:', layout=Layout(height='25px', width='50%'),…"
      ]
     },
     "metadata": {},
     "output_type": "display_data"
    },
    {
     "name": "stdout",
     "output_type": "stream",
     "text": [
      "             UGC_ID                   REVIEW_HEADLINE  \\\n",
      "0         242917583  NONE                               \n",
      "1         280446415  Dont buy                           \n",
      "2         240886791  AWFUL                              \n",
      "3         240805291  THIS PRODUCT KILLED MY CAT!!!!     \n",
      "4         285464796  Do not buy                         \n",
      "...             ...         ...                         \n",
      "9558211   273732873  Love owls!                         \n",
      "5649941   239359837  Lovely priht                       \n",
      "10275781  317581704  Get this ASAP                      \n",
      "1739032   330529285  Super comfy, like walking on air   \n",
      "3264988   244586202  Twin Mattress                      \n",
      "\n",
      "                                                                                                                                                                                                                                                                                                                                                                                                                                                                                                                                                                                                                                                                                                                                                                                                                                                                                                                                                                                                                                                                                                                                                                                                                                                                                                                                                                                                                                                                                                                                                                                                                                                                                                                                                                                                                                                                                                                                                                                                                                                REVIEW_COMMENTS  \\\n",
      "0         The scent is overwhelming strong. Gets into every space, hard to get it out. Fragrance gave me a headache for 2 days. The warmer part is good, just needs a much lighter scent.                                                                                                                                                                                                                                                                                                                                                                                                                                                                                                                                                                                                                                                                                                                                                                                                                                                                                                                                                                                                                                                                                                                                                                                                                                                                                                                                                                                                                                                                                                                                                                                                                                                                                                                                                                                                                                                                         \n",
      "1         Please dont give this tablet to your dog, a few hours after giving this tablet as advised and sold by pets at home my dog started constantly being sick and couldnt stop for hours.  I googled the reviews and were horrified to read that this happens to most dogs. PETS AT HOME WHY IS THIS STILL BEING SOLD !!!!                                                                                                                                                                                                                                                                                                                                                                                                                                                                                                                                                                                                                                                                                                                                                                                                                                                                                                                                                                                                                                                                                                                                                                                                                                                                                                                                                                                                                                                                                                                                                                                                                                                                                                                                    \n",
      "2         I DON'T KNOW IF I GOT A TAINTED TUB; BUT I GOT EXTREMELY SICK AND VOMITING ALL DAY AFTER DRINKING IT!! I tried some at my daughter's house out of her tub and I liked it...so I ordered some when I got home; the first time I only used 1/2 a scoop and felt my stomach was upset, the next time I used a full scoop (not really thinking that caused my stomach ache) and within a short time I began vomiting out of control!!!!                                                                                                                                                                                                                                                                                                                                                                                                                                                                                                                                                                                                                                                                                                                                                                                                                                                                                                                                                                                                                                                                                                                                                                                                                                                                                                                                                                                                                                                                                                                                                                                                                     \n",
      "3         I have never had an automatic air freshener in my 60+ years of life.  I found this Glade air freshener on sale at my local drug store, so I thought I would try it.  I put it together one afternoon, set it to spray every 36 minutes and placed it on the back of my toilet in the bathroom.  My beloved cat's litterbox is in the bathroom.  She is also fed in the bathroom.  My cat was perfectly healthy that afternoon.  She ate her full dinner that evening and used her litterbox.  That night she DIED!\\n\\nCrushed and full of grief, I began to research the safety of using air fresheners around pets.  Horrified, I have come to realize that air fresheners are extremely poisonous to family pets ... especially CATS!!  There are tons of articles and journals explaining the dangers of the chemicals that are contained in air fresheners... especially GLADE.  It does no good to contact the Glade organization -- they deny everything!  The really scary thing is that the chemical dangers are not restricted only to pets.  Children and adults are susceptible to a wide array of serious health risks, as well ... even death.  \\n\\nIt wasn't until AFTER my cat died that I read the TINY INCONSPICUOUS SENTENCE at the very bottom of the can of Glade Air Freshener that read something like this: \"Do not use in confined pet areas with little ventilation.\"    This is ALL that it said... NO major warning of any kind.  No definition of what they consider a \"CONFINED AREA\".  No explanation of what they mean my \"LITTLE VENTILATION\".  \\n\\nAfter talking to several different people at the Glade Company, then I was referred to their \"VET TECH\".  I asked her about the sentence on the can; \"What exactly would happen to a pet if confined in an area with the air freshener spray?\"  Her response was, \"Just a little sneezing and coughing.\"  This was totally contrary to what the research had demonstrated!  The company is lying!\\n\\nI regret ever purchasing that Glade Automatic Air Freshener!   \n",
      "4         Firstly the wheel did not fit and could not take the piece off it was supposed to be attached to. Then the water bottle did not work, unfortunately by the time this was realised as it had previously been working it was too late. Our hamster unfortunately passed away due to dehydration and a stroke. We tried our best to bring him round when noticed the issue but sadly failed.                                                                                                                                                                                                                                                                                                                                                                                                                                                                                                                                                                                                                                                                                                                                                                                                                                                                                                                                                                                                                                                                                                                                                                                                                                                                                                                                                                                                                                                                                                                                                                                                                                                               \n",
      "...                                                                                                                                                                                                                                                                                                                                                                                             ...                                                                                                                                                                                                                                                                                                                                                                                                                                                                                                                                                                                                                                                                                                                                                                                                                                                                                                                                                                                                                                                                                                                                                                                                                                                                                                                                                                                                                                                                                                                                                                                                                                                               \n",
      "9558211   I put succulents in it and it's teally cute.                                                                                                                                                                                                                                                                                                                                                                                                                                                                                                                                                                                                                                                                                                                                                                                                                                                                                                                                                                                                                                                                                                                                                                                                                                                                                                                                                                                                                                                                                                                                                                                                                                                                                                                                                                                                                                                                                                                                                                                                            \n",
      "5649941   Lovely dress and beautiful material.  Good fit but just didn't suit me so had to send it back.                                                                                                                                                                                                                                                                                                                                                                                                                                                                                                                                                                                                                                                                                                                                                                                                                                                                                                                                                                                                                                                                                                                                                                                                                                                                                                                                                                                                                                                                                                                                                                                                                                                                                                                                                                                                                                                                                                                                                          \n",
      "10275781  This product was complimentary from Dr. Brandt. The double sided lip plumping product has left my lips soft and not cracked during the cold days. The PM one almost feels like a sleeping lip mask as I still feel the product or affect on my lip the next morning. I don't think it plumps as much as it claims to but maybe after full usage you can see a difference. Thank you Dr. Brandt.                                                                                                                                                                                                                                                                                                                                                                                                                                                                                                                                                                                                                                                                                                                                                                                                                                                                                                                                                                                                                                                                                                                                                                                                                                                                                                                                                                                                                                                                                                                                                                                                                                                         \n",
      "1739032   When I first got the box delivered, it felt like nothing was in it! So I had to shake it to make sure. The shoes are super cute, and slim. I'm not much of a sneaker person because they're so bulky to me. But these are light, comfy, and sleek   It didn't take much to break them in.                                                                                                                                                                                                                                                                                                                                                                                                                                                                                                                                                                                                                                                                                                                                                                                                                                                                                                                                                                                                                                                                                                                                                                                                                                                                                                                                                                                                                                                                                                                                                                                                                                                                                                                                                               \n",
      "3264988   Bought 2 inexpensive twin mattress from sleep outfitters for a bunk bed. Marc was my sales person.                                                                                                                                                                                                                                                                                                                                                                                                                                                                                                                                                                                                                                                                                                                                                                                                                                                                                                                                                                                                                                                                                                                                                                                                                                                                                                                                                                                                                                                                                                                                                                                                                                                                                                                                                                                                                                                                                                                                                      \n",
      "\n",
      "          REVIEW_RATING  \\\n",
      "0         1.0             \n",
      "1         1.0             \n",
      "2         1.0             \n",
      "3         1.0             \n",
      "4         1.0             \n",
      "...       ...             \n",
      "9558211   5.0             \n",
      "5649941   4.0             \n",
      "10275781  5.0             \n",
      "1739032   5.0             \n",
      "3264988   5.0             \n",
      "\n",
      "                                                                                                                                                                                                                                                                                                                                                                                                                                                                                                                                                                                                                                                                                                                                                                                                                                                                                                                                                                                                                                                                                                                                                                                                                                                                                                                                                                                                                                                                                                                                                                                                                                                                                                                                                                                                                                                                                                                                                                                                                                                                                      ALL_TEXT  \n",
      "0         NONE The scent is overwhelming strong. Gets into every space, hard to get it out. Fragrance gave me a headache for 2 days. The warmer part is good, just needs a much lighter scent.                                                                                                                                                                                                                                                                                                                                                                                                                                                                                                                                                                                                                                                                                                                                                                                                                                                                                                                                                                                                                                                                                                                                                                                                                                                                                                                                                                                                                                                                                                                                                                                                                                                                                                                                                                                                                                                                                                  \n",
      "1         Dont buy Please dont give this tablet to your dog, a few hours after giving this tablet as advised and sold by pets at home my dog started constantly being sick and couldnt stop for hours.  I googled the reviews and were horrified to read that this happens to most dogs. PETS AT HOME WHY IS THIS STILL BEING SOLD !!!!                                                                                                                                                                                                                                                                                                                                                                                                                                                                                                                                                                                                                                                                                                                                                                                                                                                                                                                                                                                                                                                                                                                                                                                                                                                                                                                                                                                                                                                                                                                                                                                                                                                                                                                                                         \n",
      "2         AWFUL I DON'T KNOW IF I GOT A TAINTED TUB; BUT I GOT EXTREMELY SICK AND VOMITING ALL DAY AFTER DRINKING IT!! I tried some at my daughter's house out of her tub and I liked it...so I ordered some when I got home; the first time I only used 1/2 a scoop and felt my stomach was upset, the next time I used a full scoop (not really thinking that caused my stomach ache) and within a short time I began vomiting out of control!!!!                                                                                                                                                                                                                                                                                                                                                                                                                                                                                                                                                                                                                                                                                                                                                                                                                                                                                                                                                                                                                                                                                                                                                                                                                                                                                                                                                                                                                                                                                                                                                                                                                                             \n",
      "3         THIS PRODUCT KILLED MY CAT!!!! I have never had an automatic air freshener in my 60+ years of life.  I found this Glade air freshener on sale at my local drug store, so I thought I would try it.  I put it together one afternoon, set it to spray every 36 minutes and placed it on the back of my toilet in the bathroom.  My beloved cat's litterbox is in the bathroom.  She is also fed in the bathroom.  My cat was perfectly healthy that afternoon.  She ate her full dinner that evening and used her litterbox.  That night she DIED!\\n\\nCrushed and full of grief, I began to research the safety of using air fresheners around pets.  Horrified, I have come to realize that air fresheners are extremely poisonous to family pets ... especially CATS!!  There are tons of articles and journals explaining the dangers of the chemicals that are contained in air fresheners... especially GLADE.  It does no good to contact the Glade organization -- they deny everything!  The really scary thing is that the chemical dangers are not restricted only to pets.  Children and adults are susceptible to a wide array of serious health risks, as well ... even death.  \\n\\nIt wasn't until AFTER my cat died that I read the TINY INCONSPICUOUS SENTENCE at the very bottom of the can of Glade Air Freshener that read something like this: \"Do not use in confined pet areas with little ventilation.\"    This is ALL that it said... NO major warning of any kind.  No definition of what they consider a \"CONFINED AREA\".  No explanation of what they mean my \"LITTLE VENTILATION\".  \\n\\nAfter talking to several different people at the Glade Company, then I was referred to their \"VET TECH\".  I asked her about the sentence on the can; \"What exactly would happen to a pet if confined in an area with the air freshener spray?\"  Her response was, \"Just a little sneezing and coughing.\"  This was totally contrary to what the research had demonstrated!  The company is lying!\\n\\nI regret ever purchasing that Glade Automatic Air Freshener!  \n",
      "4         Do not buy Firstly the wheel did not fit and could not take the piece off it was supposed to be attached to. Then the water bottle did not work, unfortunately by the time this was realised as it had previously been working it was too late. Our hamster unfortunately passed away due to dehydration and a stroke. We tried our best to bring him round when noticed the issue but sadly failed.                                                                                                                                                                                                                                                                                                                                                                                                                                                                                                                                                                                                                                                                                                                                                                                                                                                                                                                                                                                                                                                                                                                                                                                                                                                                                                                                                                                                                                                                                                                                                                                                                                                                                  \n",
      "...                                                                                                                                                                                                                                                                                                                                                                                                        ...                                                                                                                                                                                                                                                                                                                                                                                                                                                                                                                                                                                                                                                                                                                                                                                                                                                                                                                                                                                                                                                                                                                                                                                                                                                                                                                                                                                                                                                                                                                                                                                                                                                                                  \n",
      "9558211   Love owls! I put succulents in it and it's teally cute.                                                                                                                                                                                                                                                                                                                                                                                                                                                                                                                                                                                                                                                                                                                                                                                                                                                                                                                                                                                                                                                                                                                                                                                                                                                                                                                                                                                                                                                                                                                                                                                                                                                                                                                                                                                                                                                                                                                                                                                                                               \n",
      "5649941   Lovely priht Lovely dress and beautiful material.  Good fit but just didn't suit me so had to send it back.                                                                                                                                                                                                                                                                                                                                                                                                                                                                                                                                                                                                                                                                                                                                                                                                                                                                                                                                                                                                                                                                                                                                                                                                                                                                                                                                                                                                                                                                                                                                                                                                                                                                                                                                                                                                                                                                                                                                                                           \n",
      "10275781  Get this ASAP This product was complimentary from Dr. Brandt. The double sided lip plumping product has left my lips soft and not cracked during the cold days. The PM one almost feels like a sleeping lip mask as I still feel the product or affect on my lip the next morning. I don't think it plumps as much as it claims to but maybe after full usage you can see a difference. Thank you Dr. Brandt.                                                                                                                                                                                                                                                                                                                                                                                                                                                                                                                                                                                                                                                                                                                                                                                                                                                                                                                                                                                                                                                                                                                                                                                                                                                                                                                                                                                                                                                                                                                                                                                                                                                                         \n",
      "1739032   Super comfy, like walking on air When I first got the box delivered, it felt like nothing was in it! So I had to shake it to make sure. The shoes are super cute, and slim. I'm not much of a sneaker person because they're so bulky to me. But these are light, comfy, and sleek   It didn't take much to break them in.                                                                                                                                                                                                                                                                                                                                                                                                                                                                                                                                                                                                                                                                                                                                                                                                                                                                                                                                                                                                                                                                                                                                                                                                                                                                                                                                                                                                                                                                                                                                                                                                                                                                                                                                                            \n",
      "3264988   Twin Mattress Bought 2 inexpensive twin mattress from sleep outfitters for a bunk bed. Marc was my sales person.                                                                                                                                                                                                                                                                                                                                                                                                                                                                                                                                                                                                                                                                                                                                                                                                                                                                                                                                                                                                                                                                                                                                                                                                                                                                                                                                                                                                                                                                                                                                                                                                                                                                                                                                                                                                                                                                                                                                                                      \n",
      "\n",
      "[19712 rows x 5 columns]"
     ]
    }
   ],
   "source": [
    "#X = reviews[['ALL_TEXT','REVIEW_RATING']]\n",
    "#df.loc[:, df.columns != 'b']\n",
    "X = reviews.loc[:, reviews.columns != 'SA']\n",
    "X"
   ]
  },
  {
   "cell_type": "code",
   "execution_count": 17,
   "metadata": {},
   "outputs": [
    {
     "data": {
      "application/vnd.jupyter.widget-view+json": {
       "model_id": "49816470189c4d9c9a876c7c57b79aef",
       "version_major": 2,
       "version_minor": 0
      },
      "text/plain": [
       "VBox()"
      ]
     },
     "metadata": {},
     "output_type": "display_data"
    },
    {
     "data": {
      "application/vnd.jupyter.widget-view+json": {
       "model_id": "",
       "version_major": 2,
       "version_minor": 0
      },
      "text/plain": [
       "FloatProgress(value=0.0, bar_style='info', description='Progress:', layout=Layout(height='25px', width='50%'),…"
      ]
     },
     "metadata": {},
     "output_type": "display_data"
    },
    {
     "name": "stdout",
     "output_type": "stream",
     "text": [
      "          SA\n",
      "0         1 \n",
      "1         1 \n",
      "2         1 \n",
      "3         1 \n",
      "4         1 \n",
      "...      .. \n",
      "9558211   0 \n",
      "5649941   0 \n",
      "10275781  0 \n",
      "1739032   0 \n",
      "3264988   0 \n",
      "\n",
      "[19712 rows x 1 columns]"
     ]
    }
   ],
   "source": [
    "\n",
    "y = reviews[['SA']]\n",
    "y"
   ]
  },
  {
   "cell_type": "code",
   "execution_count": 18,
   "metadata": {},
   "outputs": [
    {
     "data": {
      "application/vnd.jupyter.widget-view+json": {
       "model_id": "6efc694f2d4c40f3adc575e6ef3ba8c8",
       "version_major": 2,
       "version_minor": 0
      },
      "text/plain": [
       "VBox()"
      ]
     },
     "metadata": {},
     "output_type": "display_data"
    },
    {
     "data": {
      "application/vnd.jupyter.widget-view+json": {
       "model_id": "",
       "version_major": 2,
       "version_minor": 0
      },
      "text/plain": [
       "FloatProgress(value=0.0, bar_style='info', description='Progress:', layout=Layout(height='25px', width='50%'),…"
      ]
     },
     "metadata": {},
     "output_type": "display_data"
    },
    {
     "name": "stdout",
     "output_type": "stream",
     "text": [
      "SA    9856\n",
      "dtype: int64"
     ]
    }
   ],
   "source": [
    "y.sum(axis=0)"
   ]
  },
  {
   "cell_type": "code",
   "execution_count": null,
   "metadata": {},
   "outputs": [],
   "source": []
  },
  {
   "cell_type": "code",
   "execution_count": 19,
   "metadata": {},
   "outputs": [
    {
     "data": {
      "application/vnd.jupyter.widget-view+json": {
       "model_id": "dc0732720c15400b8e225b924aff89de",
       "version_major": 2,
       "version_minor": 0
      },
      "text/plain": [
       "VBox()"
      ]
     },
     "metadata": {},
     "output_type": "display_data"
    },
    {
     "data": {
      "application/vnd.jupyter.widget-view+json": {
       "model_id": "",
       "version_major": 2,
       "version_minor": 0
      },
      "text/plain": [
       "FloatProgress(value=0.0, bar_style='info', description='Progress:', layout=Layout(height='25px', width='50%'),…"
      ]
     },
     "metadata": {},
     "output_type": "display_data"
    }
   ],
   "source": [
    "#test_size is what % of data goes to test set vs training\n",
    "#random_state - use so that when comparing models - same data is always going to test and train sets\n",
    "xtrain, xtest, ytrain, ytest = train_test_split(X, y, test_size=0.2, random_state=9, stratify = y)"
   ]
  },
  {
   "cell_type": "code",
   "execution_count": 20,
   "metadata": {},
   "outputs": [
    {
     "data": {
      "application/vnd.jupyter.widget-view+json": {
       "model_id": "2abebf086e4445669bb6af584d23960e",
       "version_major": 2,
       "version_minor": 0
      },
      "text/plain": [
       "VBox()"
      ]
     },
     "metadata": {},
     "output_type": "display_data"
    },
    {
     "data": {
      "application/vnd.jupyter.widget-view+json": {
       "model_id": "",
       "version_major": 2,
       "version_minor": 0
      },
      "text/plain": [
       "FloatProgress(value=0.0, bar_style='info', description='Progress:', layout=Layout(height='25px', width='50%'),…"
      ]
     },
     "metadata": {},
     "output_type": "display_data"
    },
    {
     "name": "stdout",
     "output_type": "stream",
     "text": [
      "             UGC_ID  \\\n",
      "13577900  278892916   \n",
      "2124      240796783   \n",
      "14610327  281413250   \n",
      "3327      285179834   \n",
      "14962491  264146134   \n",
      "...             ...   \n",
      "7908432   327554260   \n",
      "7140      235842572   \n",
      "9653458   237912258   \n",
      "8874032   265755782   \n",
      "734       233608522   \n",
      "\n",
      "                                                    REVIEW_HEADLINE  \\\n",
      "13577900  I knew what I was looking for and it was easy to find it.   \n",
      "2124      Will never buy again!!!                                     \n",
      "14610327  Yes                                                         \n",
      "3327      I would never buy anything again from The Pond Guy          \n",
      "14962491  A good product it they could make improvements              \n",
      "...                                                  ...              \n",
      "7908432   These are the best shoes!!!!                                \n",
      "7140      absolutely terrible -5 stars                                \n",
      "9653458   Undisclosed                                                 \n",
      "8874032   Undisclosed                                                 \n",
      "734       I would not buy again                                       \n",
      "\n",
      "                                                                                                                                                                                                                                                                                                                                                                                                       REVIEW_COMMENTS  \\\n",
      "13577900  I knew what I was looking for and it was easy to find it.                                                                                                                                                                                                                                                                                                                                                      \n",
      "2124      You changed the shoe this year.  It is not the same shoe.  Caused inflamed nerve in foot.   Doctor looked at both shoes, this model and last years model ,and said \" This is not the same shoe\" .  Had to  get from podiatrist orthopedic doctor meds for inflammation.  Did not have any problems with model before you changed this year.  If it works, don't fix it.  Will never buy a Brooks shoe again.   \n",
      "14610327  Very comfortable and nice style                                                                                                                                                                                                                                                                                                                                                                                \n",
      "3327      They failed to provide proper warnings on the actual product & killed my Koi                                                                                                                                                                                                                                                                                                                                   \n",
      "14962491  The styling was very good but the transition from 'far' to 'near' was not at all acceptable. When I needed to read up close there was not enough of a 'window' at the bottom of the lenses to read. This has also happened with other types of computer reading glasses and I have read of similar problems encountered by others.                                                                             \n",
      "...                                                                                                                                                                                                                                                                                                                                      ...                                                                             \n",
      "7908432   Running up and down the halls all day long, these shoes have been heaven sent. The problems with my feet became ancient history. I am definitely buying many more work and home.                                                                                                                                                                                                                               \n",
      "7140      computer wasn't that dirty, i just got these to clean my computer. i now have streaks all over the screen and it just looks dirty. ugh i just ruined my computer screen                                                                                                                                                                                                                                        \n",
      "9653458   I cannot remember the gentleman&#39;s name who helped me. I hope you can look it up and recognize him. It was busy and I just dropped in to get a quote. I ended up making my decision on the spot due to the knowledge level and professionalism.  New location so I was actually expecting a few bumps. No bumps! Highly recommend.  Thanks!                                                                 \n",
      "8874032   Wait time too long.had an apointment at 1:30 didnt get done till after 3..just went in for tire rotation and for check on a low tire..                                                                                                                                                                                                                                                                         \n",
      "734       Too tight for 6.5 Grendel chamber with seated bullet . .002 bigger than seated Lapua brass. Using a Sheridan case checker confirmed it would not seat in chamber                                                                                                                                                                                                                                               \n",
      "\n",
      "          REVIEW_RATING  \\\n",
      "13577900  5.0             \n",
      "2124      1.0             \n",
      "14610327  5.0             \n",
      "3327      1.0             \n",
      "14962491  2.0             \n",
      "...       ...             \n",
      "7908432   5.0             \n",
      "7140      1.0             \n",
      "9653458   5.0             \n",
      "8874032   3.0             \n",
      "734       2.0             \n",
      "\n",
      "                                                                                                                                                                                                                                                                                                                                                                                                                                      ALL_TEXT  \n",
      "13577900  I knew what I was looking for and it was easy to find it. I knew what I was looking for and it was easy to find it.                                                                                                                                                                                                                                                                                                                   \n",
      "2124      Will never buy again!!! You changed the shoe this year.  It is not the same shoe.  Caused inflamed nerve in foot.   Doctor looked at both shoes, this model and last years model ,and said \" This is not the same shoe\" .  Had to  get from podiatrist orthopedic doctor meds for inflammation.  Did not have any problems with model before you changed this year.  If it works, don't fix it.  Will never buy a Brooks shoe again.  \n",
      "14610327  Yes Very comfortable and nice style                                                                                                                                                                                                                                                                                                                                                                                                   \n",
      "3327      I would never buy anything again from The Pond Guy They failed to provide proper warnings on the actual product & killed my Koi                                                                                                                                                                                                                                                                                                       \n",
      "14962491  A good product it they could make improvements The styling was very good but the transition from 'far' to 'near' was not at all acceptable. When I needed to read up close there was not enough of a 'window' at the bottom of the lenses to read. This has also happened with other types of computer reading glasses and I have read of similar problems encountered by others.                                                     \n",
      "...                                                                                                                                                                                                                                                                                                                                                                                     ...                                                     \n",
      "7908432   These are the best shoes!!!! Running up and down the halls all day long, these shoes have been heaven sent. The problems with my feet became ancient history. I am definitely buying many more work and home.                                                                                                                                                                                                                         \n",
      "7140      absolutely terrible -5 stars computer wasn't that dirty, i just got these to clean my computer. i now have streaks all over the screen and it just looks dirty. ugh i just ruined my computer screen                                                                                                                                                                                                                                  \n",
      "9653458   Undisclosed I cannot remember the gentleman&#39;s name who helped me. I hope you can look it up and recognize him. It was busy and I just dropped in to get a quote. I ended up making my decision on the spot due to the knowledge level and professionalism.  New location so I was actually expecting a few bumps. No bumps! Highly recommend.  Thanks!                                                                            \n",
      "8874032   Undisclosed Wait time too long.had an apointment at 1:30 didnt get done till after 3..just went in for tire rotation and for check on a low tire..                                                                                                                                                                                                                                                                                    \n",
      "734       I would not buy again Too tight for 6.5 Grendel chamber with seated bullet . .002 bigger than seated Lapua brass. Using a Sheridan case checker confirmed it would not seat in chamber                                                                                                                                                                                                                                                \n",
      "\n",
      "[15769 rows x 5 columns]"
     ]
    }
   ],
   "source": [
    "print(xtrain)"
   ]
  },
  {
   "cell_type": "code",
   "execution_count": 21,
   "metadata": {},
   "outputs": [
    {
     "data": {
      "application/vnd.jupyter.widget-view+json": {
       "model_id": "3ec9d768ba2347de99dc0c912c187932",
       "version_major": 2,
       "version_minor": 0
      },
      "text/plain": [
       "VBox()"
      ]
     },
     "metadata": {},
     "output_type": "display_data"
    },
    {
     "data": {
      "application/vnd.jupyter.widget-view+json": {
       "model_id": "",
       "version_major": 2,
       "version_minor": 0
      },
      "text/plain": [
       "FloatProgress(value=0.0, bar_style='info', description='Progress:', layout=Layout(height='25px', width='50%'),…"
      ]
     },
     "metadata": {},
     "output_type": "display_data"
    }
   ],
   "source": [
    "#analyzer : default = word, can also test n_grams\n",
    "#max_df :  ignore terms that have a document frequency strictly higher than the given threshold\n",
    "#max_features : set total # of features used\n",
    "vectorizer = TfidfVectorizer(analyzer = 'word', max_features = 30000, stop_words= 'english', lowercase=True)\n",
    "#vectors = vectorizer.fit_transform(reviews['ALL_TEXT'].values.astype('U'))\n",
    "tfidf_vectors_xtrain = vectorizer.fit_transform(xtrain['ALL_TEXT'].apply(lambda x: np.str_(x)))\n",
    "tfidf_vectors_xtest = vectorizer.transform(xtest['ALL_TEXT'].apply(lambda x: np.str_(x)))"
   ]
  },
  {
   "cell_type": "code",
   "execution_count": 22,
   "metadata": {},
   "outputs": [
    {
     "data": {
      "application/vnd.jupyter.widget-view+json": {
       "model_id": "fcef3bdc870d46aba33855ad8b053b72",
       "version_major": 2,
       "version_minor": 0
      },
      "text/plain": [
       "VBox()"
      ]
     },
     "metadata": {},
     "output_type": "display_data"
    },
    {
     "data": {
      "application/vnd.jupyter.widget-view+json": {
       "model_id": "",
       "version_major": 2,
       "version_minor": 0
      },
      "text/plain": [
       "FloatProgress(value=0.0, bar_style='info', description='Progress:', layout=Layout(height='25px', width='50%'),…"
      ]
     },
     "metadata": {},
     "output_type": "display_data"
    },
    {
     "name": "stdout",
     "output_type": "stream",
     "text": [
      "  (0, 6887)\t0.4553633325474204\n",
      "  (0, 11966)\t0.5265503915512859\n",
      "  (0, 11321)\t0.7179059273529471\n",
      "  (1, 3147)\t0.20077096717244194\n",
      "  (1, 8146)\t0.14332830364602522\n",
      "  (1, 6535)\t0.07905422285743467\n",
      "  (1, 22294)\t0.09529923464361997\n",
      "  (1, 15488)\t0.12648581298264913\n",
      "  (1, 6130)\t0.08345184407286224\n",
      "  (1, 10548)\t0.1759155652467636\n",
      "  (1, 12515)\t0.1523533359572193\n",
      "  (1, 13965)\t0.20077096717244194\n",
      "  (1, 15020)\t0.2048958760420879\n",
      "  (1, 17227)\t0.10541847457046616\n",
      "  (1, 22449)\t0.09296545576524815\n",
      "  (1, 12890)\t0.4519350773059636\n",
      "  (1, 17953)\t0.1121886540975752\n",
      "  (1, 11965)\t0.11181592141965323\n",
      "  (1, 6502)\t0.24355853789766221\n",
      "  (1, 8389)\t0.13118352110078116\n",
      "  (1, 13359)\t0.1850889545605542\n",
      "  (1, 10547)\t0.16361661268875327\n",
      "  (1, 3739)\t0.11031422784359694\n",
      "  (1, 22448)\t0.20344975234104165\n",
      "  (1, 17949)\t0.49578835322362164\n",
      "  :\t:\n",
      "  (15767, 21764)\t0.23228453002731927\n",
      "  (15767, 392)\t0.21747562186506503\n",
      "  (15767, 3943)\t0.21859504122642873\n",
      "  (15767, 22012)\t0.1767198820169195\n",
      "  (15767, 20332)\t0.28370075917315635\n",
      "  (15767, 11955)\t0.17153269027450585\n",
      "  (15767, 20340)\t0.13559749132020013\n",
      "  (15767, 6132)\t0.2555772274188984\n",
      "  (15767, 11162)\t0.1250186908957514\n",
      "  (15768, 17888)\t0.25830079915612947\n",
      "  (15768, 9263)\t0.25830079915612947\n",
      "  (15768, 3945)\t0.2477989513437758\n",
      "  (15768, 3859)\t0.4806955434817125\n",
      "  (15768, 2)\t0.2477989513437758\n",
      "  (15768, 11474)\t0.2477989513437758\n",
      "  (15768, 17582)\t0.4596918478570051\n",
      "  (15768, 3021)\t0.21189289651322935\n",
      "  (15768, 3250)\t0.20611331259996984\n",
      "  (15768, 4725)\t0.19186670344777654\n",
      "  (15768, 2536)\t0.16584724793793762\n",
      "  (15768, 3675)\t0.1432328279644456\n",
      "  (15768, 17579)\t0.1702072577694234\n",
      "  (15768, 20316)\t0.15474442783706005\n",
      "  (15768, 21371)\t0.09677418927472266\n",
      "  (15768, 3364)\t0.07393888635444631"
     ]
    }
   ],
   "source": [
    "print(tfidf_vectors_xtrain)\n",
    "#print(tfidf_vectors_xtest)"
   ]
  },
  {
   "cell_type": "code",
   "execution_count": 23,
   "metadata": {},
   "outputs": [
    {
     "data": {
      "application/vnd.jupyter.widget-view+json": {
       "model_id": "f3b445b9f9754b5d84915576b219f01c",
       "version_major": 2,
       "version_minor": 0
      },
      "text/plain": [
       "VBox()"
      ]
     },
     "metadata": {},
     "output_type": "display_data"
    },
    {
     "data": {
      "application/vnd.jupyter.widget-view+json": {
       "model_id": "",
       "version_major": 2,
       "version_minor": 0
      },
      "text/plain": [
       "FloatProgress(value=0.0, bar_style='info', description='Progress:', layout=Layout(height='25px', width='50%'),…"
      ]
     },
     "metadata": {},
     "output_type": "display_data"
    }
   ],
   "source": [
    "#Test to see what output looks like - don't use for modeling - dense vectors are memory intensive\n",
    "#feature_names = vectorizer.get_feature_names()\n",
    "#dense = tfidf_vectors_xtrain.todense()\n",
    "#denselist = dense.tolist()\n",
    "#df = pd.DataFrame(denselist, columns=feature_names)\n",
    "#df.head()\n",
    "#feature_names"
   ]
  },
  {
   "cell_type": "code",
   "execution_count": 24,
   "metadata": {},
   "outputs": [
    {
     "data": {
      "application/vnd.jupyter.widget-view+json": {
       "model_id": "a41352cdc357457a81b6d031d439a344",
       "version_major": 2,
       "version_minor": 0
      },
      "text/plain": [
       "VBox()"
      ]
     },
     "metadata": {},
     "output_type": "display_data"
    },
    {
     "data": {
      "application/vnd.jupyter.widget-view+json": {
       "model_id": "",
       "version_major": 2,
       "version_minor": 0
      },
      "text/plain": [
       "FloatProgress(value=0.0, bar_style='info', description='Progress:', layout=Layout(height='25px', width='50%'),…"
      ]
     },
     "metadata": {},
     "output_type": "display_data"
    }
   ],
   "source": [
    "#Convert ratings to sparse vector so can join to TF-IDF sparse vector\n",
    "#ratings_vector_xtrain=sparse.csr_matrix((xtrain['REVIEW_RATING']/5).values).reshape(808202,1)\n",
    "#print(ratings_vector_xtrain)\n",
    "#ratings_vector_xtest=sparse.csr_matrix((xtest['REVIEW_RATING']/5).values).reshape(202051,1)\n",
    "#print(ratings_vector_xtest)"
   ]
  },
  {
   "cell_type": "code",
   "execution_count": 25,
   "metadata": {},
   "outputs": [
    {
     "data": {
      "application/vnd.jupyter.widget-view+json": {
       "model_id": "86dc2b460dd840ca824d6fbd44d29759",
       "version_major": 2,
       "version_minor": 0
      },
      "text/plain": [
       "VBox()"
      ]
     },
     "metadata": {},
     "output_type": "display_data"
    },
    {
     "data": {
      "application/vnd.jupyter.widget-view+json": {
       "model_id": "",
       "version_major": 2,
       "version_minor": 0
      },
      "text/plain": [
       "FloatProgress(value=0.0, bar_style='info', description='Progress:', layout=Layout(height='25px', width='50%'),…"
      ]
     },
     "metadata": {},
     "output_type": "display_data"
    }
   ],
   "source": [
    "#Combine TF-IDF and ratings vectors\n",
    "#xtrain_final = sparse.hstack([tfidf_vectors_xtrain, ratings_vector_xtrain])\n",
    "#print(xtrain_final)\n",
    "#xtest_final = sparse.hstack([tfidf_vectors_xtest, ratings_vector_xtest])\n",
    "#print(xtest_final)"
   ]
  },
  {
   "cell_type": "code",
   "execution_count": 26,
   "metadata": {},
   "outputs": [
    {
     "data": {
      "application/vnd.jupyter.widget-view+json": {
       "model_id": "568c817bc1544a47bb11d084548e34d0",
       "version_major": 2,
       "version_minor": 0
      },
      "text/plain": [
       "VBox()"
      ]
     },
     "metadata": {},
     "output_type": "display_data"
    },
    {
     "data": {
      "application/vnd.jupyter.widget-view+json": {
       "model_id": "",
       "version_major": 2,
       "version_minor": 0
      },
      "text/plain": [
       "FloatProgress(value=0.0, bar_style='info', description='Progress:', layout=Layout(height='25px', width='50%'),…"
      ]
     },
     "metadata": {},
     "output_type": "display_data"
    }
   ],
   "source": [
    "xtrain_final = tfidf_vectors_xtrain\n",
    "xtest_final = tfidf_vectors_xtest"
   ]
  },
  {
   "cell_type": "code",
   "execution_count": 27,
   "metadata": {},
   "outputs": [
    {
     "data": {
      "application/vnd.jupyter.widget-view+json": {
       "model_id": "b1aea9b50f874cf4a8d728b630146ea8",
       "version_major": 2,
       "version_minor": 0
      },
      "text/plain": [
       "VBox()"
      ]
     },
     "metadata": {},
     "output_type": "display_data"
    },
    {
     "data": {
      "application/vnd.jupyter.widget-view+json": {
       "model_id": "",
       "version_major": 2,
       "version_minor": 0
      },
      "text/plain": [
       "FloatProgress(value=0.0, bar_style='info', description='Progress:', layout=Layout(height='25px', width='50%'),…"
      ]
     },
     "metadata": {},
     "output_type": "display_data"
    }
   ],
   "source": [
    "#max_iter : default =100 but getting error about not converging\n",
    "lr = LogisticRegression(max_iter=1000, solver = 'lbfgs')\n",
    "clf = lr\n"
   ]
  },
  {
   "cell_type": "code",
   "execution_count": 28,
   "metadata": {},
   "outputs": [
    {
     "data": {
      "application/vnd.jupyter.widget-view+json": {
       "model_id": "bc78a8c7a23c44b6b28ad996789fc025",
       "version_major": 2,
       "version_minor": 0
      },
      "text/plain": [
       "VBox()"
      ]
     },
     "metadata": {},
     "output_type": "display_data"
    },
    {
     "data": {
      "application/vnd.jupyter.widget-view+json": {
       "model_id": "",
       "version_major": 2,
       "version_minor": 0
      },
      "text/plain": [
       "FloatProgress(value=0.0, bar_style='info', description='Progress:', layout=Layout(height='25px', width='50%'),…"
      ]
     },
     "metadata": {},
     "output_type": "display_data"
    }
   ],
   "source": [
    "#Support Vector Machine model\n",
    "#clf = svm.SVC(probability=True)\n",
    "\n",
    "#Need to change input type of y for training model\n",
    "#ytrain = ytrain['NR'].ravel()\n",
    "#ytrain.shape"
   ]
  },
  {
   "cell_type": "code",
   "execution_count": 29,
   "metadata": {},
   "outputs": [
    {
     "data": {
      "application/vnd.jupyter.widget-view+json": {
       "model_id": "e87a319e0318480eab740db5ac116b11",
       "version_major": 2,
       "version_minor": 0
      },
      "text/plain": [
       "VBox()"
      ]
     },
     "metadata": {},
     "output_type": "display_data"
    },
    {
     "data": {
      "application/vnd.jupyter.widget-view+json": {
       "model_id": "",
       "version_major": 2,
       "version_minor": 0
      },
      "text/plain": [
       "FloatProgress(value=0.0, bar_style='info', description='Progress:', layout=Layout(height='25px', width='50%'),…"
      ]
     },
     "metadata": {},
     "output_type": "display_data"
    },
    {
     "name": "stdout",
     "output_type": "stream",
     "text": [
      "LogisticRegression(max_iter=1000)\n",
      "/usr/local/lib64/python3.7/site-packages/sklearn/utils/validation.py:63: DataConversionWarning: A column-vector y was passed when a 1d array was expected. Please change the shape of y to (n_samples, ), for example using ravel().\n",
      "  return f(*args, **kwargs)"
     ]
    }
   ],
   "source": [
    "#Train model\n",
    "clf.fit(xtrain_final, ytrain)"
   ]
  },
  {
   "cell_type": "code",
   "execution_count": 30,
   "metadata": {},
   "outputs": [
    {
     "data": {
      "application/vnd.jupyter.widget-view+json": {
       "model_id": "98c7dc49d010433aada34eae220ebfd1",
       "version_major": 2,
       "version_minor": 0
      },
      "text/plain": [
       "VBox()"
      ]
     },
     "metadata": {},
     "output_type": "display_data"
    },
    {
     "data": {
      "application/vnd.jupyter.widget-view+json": {
       "model_id": "",
       "version_major": 2,
       "version_minor": 0
      },
      "text/plain": [
       "FloatProgress(value=0.0, bar_style='info', description='Progress:', layout=Layout(height='25px', width='50%'),…"
      ]
     },
     "metadata": {},
     "output_type": "display_data"
    },
    {
     "name": "stdout",
     "output_type": "stream",
     "text": [
      "SA    7885\n",
      "dtype: int64"
     ]
    }
   ],
   "source": [
    "#ytrain.dtypes\n",
    "ytrain.sum(axis=0)"
   ]
  },
  {
   "cell_type": "code",
   "execution_count": 31,
   "metadata": {},
   "outputs": [
    {
     "data": {
      "application/vnd.jupyter.widget-view+json": {
       "model_id": "fad0bd4b09f74197802b92c79dc00db0",
       "version_major": 2,
       "version_minor": 0
      },
      "text/plain": [
       "VBox()"
      ]
     },
     "metadata": {},
     "output_type": "display_data"
    },
    {
     "data": {
      "application/vnd.jupyter.widget-view+json": {
       "model_id": "",
       "version_major": 2,
       "version_minor": 0
      },
      "text/plain": [
       "FloatProgress(value=0.0, bar_style='info', description='Progress:', layout=Layout(height='25px', width='50%'),…"
      ]
     },
     "metadata": {},
     "output_type": "display_data"
    }
   ],
   "source": [
    "y_pred = clf.predict(xtest_final)"
   ]
  },
  {
   "cell_type": "code",
   "execution_count": 32,
   "metadata": {},
   "outputs": [
    {
     "data": {
      "application/vnd.jupyter.widget-view+json": {
       "model_id": "cd78b5bc7ee149589c076cb7c3def794",
       "version_major": 2,
       "version_minor": 0
      },
      "text/plain": [
       "VBox()"
      ]
     },
     "metadata": {},
     "output_type": "display_data"
    },
    {
     "data": {
      "application/vnd.jupyter.widget-view+json": {
       "model_id": "",
       "version_major": 2,
       "version_minor": 0
      },
      "text/plain": [
       "FloatProgress(value=0.0, bar_style='info', description='Progress:', layout=Layout(height='25px', width='50%'),…"
      ]
     },
     "metadata": {},
     "output_type": "display_data"
    }
   ],
   "source": [
    "plt.clf()"
   ]
  },
  {
   "cell_type": "code",
   "execution_count": 33,
   "metadata": {},
   "outputs": [],
   "source": [
    "%matplotlib inline"
   ]
  },
  {
   "cell_type": "code",
   "execution_count": 34,
   "metadata": {},
   "outputs": [
    {
     "data": {
      "application/vnd.jupyter.widget-view+json": {
       "model_id": "7a5a18a08919420b8094039bc2c301b0",
       "version_major": 2,
       "version_minor": 0
      },
      "text/plain": [
       "VBox()"
      ]
     },
     "metadata": {},
     "output_type": "display_data"
    },
    {
     "data": {
      "application/vnd.jupyter.widget-view+json": {
       "model_id": "",
       "version_major": 2,
       "version_minor": 0
      },
      "text/plain": [
       "FloatProgress(value=0.0, bar_style='info', description='Progress:', layout=Layout(height='25px', width='50%'),…"
      ]
     },
     "metadata": {},
     "output_type": "display_data"
    }
   ],
   "source": [
    "#Confusion matrix\n",
    "#confusion_matrix(ytest, y_pred)\n",
    "#tn, fp, fn, tp = confusion_matrix(ytest, y_pred).ravel()\n",
    "#print(\"TN: {}\".format(tn), \"FP: {}\".format(fp), \"FN: {}\".format(fn), \"TP: {}\".format(tp))\n",
    "plot_confusion_matrix(clf, xtest_final, ytest, values_format = '.5g')\n",
    "plt.show()"
   ]
  },
  {
   "cell_type": "code",
   "execution_count": 35,
   "metadata": {},
   "outputs": [
    {
     "data": {
      "application/vnd.jupyter.widget-view+json": {
       "model_id": "",
       "version_major": 2,
       "version_minor": 0
      },
      "text/plain": [
       "FloatProgress(value=0.0, bar_style='info', description='Progress:', layout=Layout(height='25px', width='50%'),…"
      ]
     },
     "metadata": {},
     "output_type": "display_data"
    },
    {
     "data": {
      "image/png": "[encoded data removed]",
      "text/plain": [
       "<IPython.core.display.Image object>"
      ]
     },
     "metadata": {},
     "output_type": "display_data"
    }
   ],
   "source": [
    "%matplot plt"
   ]
  },
  {
   "cell_type": "code",
   "execution_count": null,
   "metadata": {},
   "outputs": [],
   "source": []
  },
  {
   "cell_type": "code",
   "execution_count": 36,
   "metadata": {},
   "outputs": [
    {
     "data": {
      "application/vnd.jupyter.widget-view+json": {
       "model_id": "6950ff6c0f4a466797f5a0cd1fedd76c",
       "version_major": 2,
       "version_minor": 0
      },
      "text/plain": [
       "VBox()"
      ]
     },
     "metadata": {},
     "output_type": "display_data"
    },
    {
     "data": {
      "application/vnd.jupyter.widget-view+json": {
       "model_id": "",
       "version_major": 2,
       "version_minor": 0
      },
      "text/plain": [
       "FloatProgress(value=0.0, bar_style='info', description='Progress:', layout=Layout(height='25px', width='50%'),…"
      ]
     },
     "metadata": {},
     "output_type": "display_data"
    },
    {
     "name": "stdout",
     "output_type": "stream",
     "text": [
      "<string>:1: SettingWithCopyWarning: \n",
      "A value is trying to be set on a copy of a slice from a DataFrame.\n",
      "Try using .loc[row_indexer,col_indexer] = value instead\n",
      "\n",
      "See the caveats in the documentation: https://pandas.pydata.org/pandas-docs/stable/user_guide/indexing.html#returning-a-view-versus-a-copy\n",
      "<string>:2: SettingWithCopyWarning: \n",
      "A value is trying to be set on a copy of a slice from a DataFrame.\n",
      "Try using .loc[row_indexer,col_indexer] = value instead\n",
      "\n",
      "See the caveats in the documentation: https://pandas.pydata.org/pandas-docs/stable/user_guide/indexing.html#returning-a-view-versus-a-copy"
     ]
    }
   ],
   "source": [
    "xtest['SA'] = ytest\n",
    "xtest['model_SA'] = y_pred"
   ]
  },
  {
   "cell_type": "code",
   "execution_count": 37,
   "metadata": {},
   "outputs": [
    {
     "data": {
      "application/vnd.jupyter.widget-view+json": {
       "model_id": "e1f64a7b12e2482b9321f2a8d85d6cd9",
       "version_major": 2,
       "version_minor": 0
      },
      "text/plain": [
       "VBox()"
      ]
     },
     "metadata": {},
     "output_type": "display_data"
    },
    {
     "data": {
      "application/vnd.jupyter.widget-view+json": {
       "model_id": "",
       "version_major": 2,
       "version_minor": 0
      },
      "text/plain": [
       "FloatProgress(value=0.0, bar_style='info', description='Progress:', layout=Layout(height='25px', width='50%'),…"
      ]
     },
     "metadata": {},
     "output_type": "display_data"
    },
    {
     "name": "stdout",
     "output_type": "stream",
     "text": [
      "<class 'pandas.core.frame.DataFrame'>\n",
      "Int64Index: 3943 entries, 827 to 7156\n",
      "Data columns (total 7 columns):\n",
      " #   Column           Non-Null Count  Dtype  \n",
      "---  ------           --------------  -----  \n",
      " 0   UGC_ID           3943 non-null   int64  \n",
      " 1   REVIEW_HEADLINE  3943 non-null   object \n",
      " 2   REVIEW_COMMENTS  3943 non-null   object \n",
      " 3   REVIEW_RATING    3943 non-null   float64\n",
      " 4   ALL_TEXT         3943 non-null   object \n",
      " 5   SA               3943 non-null   int64  \n",
      " 6   model_SA         3943 non-null   int64  \n",
      "dtypes: float64(1), int64(3), object(3)\n",
      "memory usage: 246.4+ KB"
     ]
    }
   ],
   "source": [
    "xtest.info()"
   ]
  },
  {
   "cell_type": "code",
   "execution_count": 38,
   "metadata": {},
   "outputs": [
    {
     "data": {
      "application/vnd.jupyter.widget-view+json": {
       "model_id": "a83ae50eeb5d4b3ca9839d20677e78fd",
       "version_major": 2,
       "version_minor": 0
      },
      "text/plain": [
       "VBox()"
      ]
     },
     "metadata": {},
     "output_type": "display_data"
    },
    {
     "data": {
      "application/vnd.jupyter.widget-view+json": {
       "model_id": "",
       "version_major": 2,
       "version_minor": 0
      },
      "text/plain": [
       "FloatProgress(value=0.0, bar_style='info', description='Progress:', layout=Layout(height='25px', width='50%'),…"
      ]
     },
     "metadata": {},
     "output_type": "display_data"
    }
   ],
   "source": [
    "from pyspark.sql.types import *\n",
    "\n",
    "mySchema = StructType([StructField(\"UGC_ID\", StringType(), True)\\\n",
    ",StructField(\"REVIEW_HEADLINE\", StringType(), True)\\\n",
    ",StructField(\"REVIEW_COMMENTS\", StringType(), True)\\\n",
    ",StructField(\"REVIEW_RATING\", FloatType(), True)\\\n",
    ",StructField(\"ALL_TEXT\", StringType(), True)\\\n",
    ",StructField(\"SA\", IntegerType(), True)\\\n",
    ",StructField(\"model_SA\", IntegerType(), True)])   "
   ]
  },
  {
   "cell_type": "code",
   "execution_count": 39,
   "metadata": {},
   "outputs": [
    {
     "data": {
      "application/vnd.jupyter.widget-view+json": {
       "model_id": "0ca16e96dcc84f07a648afb19a887165",
       "version_major": 2,
       "version_minor": 0
      },
      "text/plain": [
       "VBox()"
      ]
     },
     "metadata": {},
     "output_type": "display_data"
    },
    {
     "data": {
      "application/vnd.jupyter.widget-view+json": {
       "model_id": "",
       "version_major": 2,
       "version_minor": 0
      },
      "text/plain": [
       "FloatProgress(value=0.0, bar_style='info', description='Progress:', layout=Layout(height='25px', width='50%'),…"
      ]
     },
     "metadata": {},
     "output_type": "display_data"
    }
   ],
   "source": [
    "SNOWFLAKE_SOURCE_NAME = \"net.snowflake.spark.snowflake\"\n",
    "\n",
    "sfOptions = {\n",
    "  'sfURL' : 'powerreviews.snowflakecomputing.com',\n",
    "  'sfAccount' : 'powerreviews',\n",
    "  'sfUser' : username,\n",
    "  'sfPassword' : password,\n",
    "  'sfDatabase' : 'ANALYTICS_WORKSHOP',\n",
    "  'sfSchema' : 'DATA_SCIENCE',\n",
    "  'sfWarehouse' : 'LOWER_ENV_WAREHOUSE'\n",
    "}"
   ]
  },
  {
   "cell_type": "code",
   "execution_count": 40,
   "metadata": {},
   "outputs": [
    {
     "data": {
      "application/vnd.jupyter.widget-view+json": {
       "model_id": "44dbba0b7c114dd6af95b4fdb0d03304",
       "version_major": 2,
       "version_minor": 0
      },
      "text/plain": [
       "VBox()"
      ]
     },
     "metadata": {},
     "output_type": "display_data"
    },
    {
     "data": {
      "application/vnd.jupyter.widget-view+json": {
       "model_id": "",
       "version_major": 2,
       "version_minor": 0
      },
      "text/plain": [
       "FloatProgress(value=0.0, bar_style='info', description='Progress:', layout=Layout(height='25px', width='50%'),…"
      ]
     },
     "metadata": {},
     "output_type": "display_data"
    }
   ],
   "source": [
    "#Turn into spark dataframe in order to write to Snowflake\n",
    "#Couldn't get write_pandas() to work to write directly from pandas to Snowflake\n",
    "xtest = spark.createDataFrame(xtest, schema=mySchema)"
   ]
  },
  {
   "cell_type": "code",
   "execution_count": 41,
   "metadata": {},
   "outputs": [
    {
     "data": {
      "application/vnd.jupyter.widget-view+json": {
       "model_id": "367e1610dac646488bb91660aa58cf15",
       "version_major": 2,
       "version_minor": 0
      },
      "text/plain": [
       "VBox()"
      ]
     },
     "metadata": {},
     "output_type": "display_data"
    },
    {
     "data": {
      "application/vnd.jupyter.widget-view+json": {
       "model_id": "",
       "version_major": 2,
       "version_minor": 0
      },
      "text/plain": [
       "FloatProgress(value=0.0, bar_style='info', description='Progress:', layout=Layout(height='25px', width='50%'),…"
      ]
     },
     "metadata": {},
     "output_type": "display_data"
    }
   ],
   "source": [
    "xtest.write.format(SNOWFLAKE_SOURCE_NAME).options(**sfOptions) \\\n",
    "    .option(\"dbtable\",\"SA_test1\").mode(\"append\").save()"
   ]
  },
  {
   "cell_type": "code",
   "execution_count": null,
   "metadata": {},
   "outputs": [],
   "source": []
  },
  {
   "cell_type": "code",
   "execution_count": null,
   "metadata": {},
   "outputs": [],
   "source": []
  },
  {
   "cell_type": "code",
   "execution_count": 42,
   "metadata": {},
   "outputs": [
    {
     "data": {
      "application/vnd.jupyter.widget-view+json": {
       "model_id": "52aae5c254a54929a6d7357a380c8a6e",
       "version_major": 2,
       "version_minor": 0
      },
      "text/plain": [
       "VBox()"
      ]
     },
     "metadata": {},
     "output_type": "display_data"
    },
    {
     "data": {
      "application/vnd.jupyter.widget-view+json": {
       "model_id": "",
       "version_major": 2,
       "version_minor": 0
      },
      "text/plain": [
       "FloatProgress(value=0.0, bar_style='info', description='Progress:', layout=Layout(height='25px', width='50%'),…"
      ]
     },
     "metadata": {},
     "output_type": "display_data"
    }
   ],
   "source": [
    "#Evaluating model performance\n",
    "#There are inherently mostly NOLABEL so accuracy could be high just bc of those\n",
    "#Want to make sure that when there is a label besides NOLABEL that it is being accurately predicted\n"
   ]
  },
  {
   "cell_type": "code",
   "execution_count": 91,
   "metadata": {},
   "outputs": [
    {
     "data": {
      "application/vnd.jupyter.widget-view+json": {
       "model_id": "6df0e480f8d04d939bb52376977991a0",
       "version_major": 2,
       "version_minor": 0
      },
      "text/plain": [
       "VBox()"
      ]
     },
     "metadata": {},
     "output_type": "display_data"
    },
    {
     "data": {
      "application/vnd.jupyter.widget-view+json": {
       "model_id": "",
       "version_major": 2,
       "version_minor": 0
      },
      "text/plain": [
       "FloatProgress(value=0.0, bar_style='info', description='Progress:', layout=Layout(height='25px', width='50%'),…"
      ]
     },
     "metadata": {},
     "output_type": "display_data"
    },
    {
     "name": "stdout",
     "output_type": "stream",
     "text": [
      "Accuracy is:  0.9320941494854539\n",
      "Precision is:  0.9358477011494253\n",
      "Recall is:  0.9277829214443416\n",
      "F1 Score is:  0.9317978613068203"
     ]
    }
   ],
   "source": [
    "#Model performance metrics\n",
    "#Assess at individual label level as well as overall\n",
    "\n",
    "#Accuracy is overall correct predictions - not great measurement tool for imbalanced data\n",
    "#Precision - TP / TP + FP = spam detection - don't want to mark something as spam (FP) when it isn't\n",
    "#Recall - TP / TP + FN = sickness - don't want to tell someone they aren't sick (FN) when they are and can spread it\n",
    "#F1 - balance of precision and recall\n",
    "\n",
    "#We want to make sure if bomb emoji then it gets marked - even at the expense of marking other things potentially offensive that aren't \n",
    "#Important not to have FN - USE RECALL\n",
    "#Also don't want to be marking a bunch of stuff as offensive when it isn't and making moderation do everything anyway\n",
    "#Important not to have too many FP - USE PRECISION\n",
    "#Use F1 for balance between both\n",
    "print(\"Accuracy is:  {}\" .format(accuracy_score(ytest, y_pred)))\n",
    "print(\"Precision is:  {}\" .format(precision_score(ytest, y_pred)))\n",
    "print(\"Recall is:  {}\" .format(recall_score(ytest, y_pred)))\n",
    "print(\"F1 Score is:  {}\" .format(f1_score(ytest, y_pred)))"
   ]
  },
  {
   "cell_type": "code",
   "execution_count": 55,
   "metadata": {},
   "outputs": [
    {
     "data": {
      "application/vnd.jupyter.widget-view+json": {
       "model_id": "f0b20ed3ca4346728fa378bc6230e7ec",
       "version_major": 2,
       "version_minor": 0
      },
      "text/plain": [
       "VBox()"
      ]
     },
     "metadata": {},
     "output_type": "display_data"
    },
    {
     "data": {
      "application/vnd.jupyter.widget-view+json": {
       "model_id": "",
       "version_major": 2,
       "version_minor": 0
      },
      "text/plain": [
       "FloatProgress(value=0.0, bar_style='info', description='Progress:', layout=Layout(height='25px', width='50%'),…"
      ]
     },
     "metadata": {},
     "output_type": "display_data"
    },
    {
     "name": "stdout",
     "output_type": "stream",
     "text": [
      "              precision    recall  f1-score   support\n",
      "\n",
      "           0       0.93      0.97      0.95      3937\n",
      "           1       0.93      0.84      0.89      1969\n",
      "\n",
      "    accuracy                           0.93      5906\n",
      "   macro avg       0.93      0.91      0.92      5906\n",
      "weighted avg       0.93      0.93      0.93      5906"
     ]
    }
   ],
   "source": [
    "print(classification_report(ytest,y_pred))"
   ]
  },
  {
   "cell_type": "code",
   "execution_count": 38,
   "metadata": {},
   "outputs": [
    {
     "data": {
      "application/vnd.jupyter.widget-view+json": {
       "model_id": "3dd93431bcd9419c9740612887e66ec3",
       "version_major": 2,
       "version_minor": 0
      },
      "text/plain": [
       "VBox()"
      ]
     },
     "metadata": {},
     "output_type": "display_data"
    },
    {
     "data": {
      "application/vnd.jupyter.widget-view+json": {
       "model_id": "",
       "version_major": 2,
       "version_minor": 0
      },
      "text/plain": [
       "FloatProgress(value=0.0, bar_style='info', description='Progress:', layout=Layout(height='25px', width='50%'),…"
      ]
     },
     "metadata": {},
     "output_type": "display_data"
    }
   ],
   "source": [
    "probs = clf.predict_proba(xtest_final)\n",
    "preds = probs[:,1]\n",
    "fpr, tpr, threshold = roc_curve(ytest, preds)\n",
    "roc_auc = metrics.auc(fpr, tpr)\n",
    "#print(roc_auc)"
   ]
  },
  {
   "cell_type": "code",
   "execution_count": 39,
   "metadata": {},
   "outputs": [
    {
     "data": {
      "application/vnd.jupyter.widget-view+json": {
       "model_id": "c17e9be6ff27470b808a00f0a8ace60a",
       "version_major": 2,
       "version_minor": 0
      },
      "text/plain": [
       "VBox()"
      ]
     },
     "metadata": {},
     "output_type": "display_data"
    },
    {
     "data": {
      "application/vnd.jupyter.widget-view+json": {
       "model_id": "",
       "version_major": 2,
       "version_minor": 0
      },
      "text/plain": [
       "FloatProgress(value=0.0, bar_style='info', description='Progress:', layout=Layout(height='25px', width='50%'),…"
      ]
     },
     "metadata": {},
     "output_type": "display_data"
    }
   ],
   "source": [
    "plt.clf()"
   ]
  },
  {
   "cell_type": "code",
   "execution_count": null,
   "metadata": {},
   "outputs": [],
   "source": []
  },
  {
   "cell_type": "code",
   "execution_count": null,
   "metadata": {},
   "outputs": [],
   "source": []
  },
  {
   "cell_type": "code",
   "execution_count": null,
   "metadata": {},
   "outputs": [],
   "source": []
  },
  {
   "cell_type": "code",
   "execution_count": null,
   "metadata": {},
   "outputs": [],
   "source": []
  },
  {
   "cell_type": "code",
   "execution_count": 40,
   "metadata": {},
   "outputs": [
    {
     "data": {
      "application/vnd.jupyter.widget-view+json": {
       "model_id": "e25bfe7297a34978aea956607d713a12",
       "version_major": 2,
       "version_minor": 0
      },
      "text/plain": [
       "VBox()"
      ]
     },
     "metadata": {},
     "output_type": "display_data"
    },
    {
     "data": {
      "application/vnd.jupyter.widget-view+json": {
       "model_id": "",
       "version_major": 2,
       "version_minor": 0
      },
      "text/plain": [
       "FloatProgress(value=0.0, bar_style='info', description='Progress:', layout=Layout(height='25px', width='50%'),…"
      ]
     },
     "metadata": {},
     "output_type": "display_data"
    }
   ],
   "source": [
    "#ROC CURVE\n",
    "#Assumes we care about 0 and 1 classification the same - we don't\n",
    "#We care more about performance of 1 classification - use precision recall curve\n",
    "plt.title('Receiver Operating Characteristic')\n",
    "plt.plot(fpr, tpr, 'b', label = 'AUC = %0.4f' % roc_auc)\n",
    "plt.legend(loc = 'lower right')\n",
    "plt.plot([0, 1], [0, 1],'r--')\n",
    "plt.xlim([0, 1])\n",
    "plt.ylim([0, 1])\n",
    "plt.ylabel('True Positive Rate')\n",
    "plt.xlabel('False Positive Rate')\n",
    "plt.show()"
   ]
  },
  {
   "cell_type": "code",
   "execution_count": 41,
   "metadata": {},
   "outputs": [
    {
     "data": {
      "application/vnd.jupyter.widget-view+json": {
       "model_id": "",
       "version_major": 2,
       "version_minor": 0
      },
      "text/plain": [
       "FloatProgress(value=0.0, bar_style='info', description='Progress:', layout=Layout(height='25px', width='50%'),…"
      ]
     },
     "metadata": {},
     "output_type": "display_data"
    },
    {
     "data": {
      "image/png": "[encoded data removed]",
      "text/plain": [
       "<IPython.core.display.Image object>"
      ]
     },
     "metadata": {},
     "output_type": "display_data"
    }
   ],
   "source": [
    "%matplot plt"
   ]
  },
  {
   "cell_type": "code",
   "execution_count": 42,
   "metadata": {},
   "outputs": [
    {
     "data": {
      "application/vnd.jupyter.widget-view+json": {
       "model_id": "1be649d176c04b9783bd6ab4d502221f",
       "version_major": 2,
       "version_minor": 0
      },
      "text/plain": [
       "VBox()"
      ]
     },
     "metadata": {},
     "output_type": "display_data"
    },
    {
     "data": {
      "application/vnd.jupyter.widget-view+json": {
       "model_id": "",
       "version_major": 2,
       "version_minor": 0
      },
      "text/plain": [
       "FloatProgress(value=0.0, bar_style='info', description='Progress:', layout=Layout(height='25px', width='50%'),…"
      ]
     },
     "metadata": {},
     "output_type": "display_data"
    },
    {
     "name": "stdout",
     "output_type": "stream",
     "text": [
      "Optimal threshold value: 0.45946357547928174\n",
      "Optimal tpr value: 0.9333503575076609\n",
      "Optimal fpr value: 0.08037538304392237"
     ]
    }
   ],
   "source": [
    "#Find best threshold (ROC Curve)\n",
    "#Ideally want tpr = 1 and fpr = 0, so want tpr - fpr as close to 1 as possible\n",
    "optimal_idx = np.argmax(tpr - fpr)\n",
    "optimal_threshold = threshold[optimal_idx]\n",
    "opt_tpr = tpr[optimal_idx]\n",
    "opt_fpr = fpr[optimal_idx]\n",
    "print(\"Optimal threshold value:\", optimal_threshold)\n",
    "print(\"Optimal tpr value:\", opt_tpr)\n",
    "print(\"Optimal fpr value:\", opt_fpr)"
   ]
  },
  {
   "cell_type": "code",
   "execution_count": 43,
   "metadata": {},
   "outputs": [
    {
     "data": {
      "application/vnd.jupyter.widget-view+json": {
       "model_id": "d36d27e424194f5688761ad7bda66157",
       "version_major": 2,
       "version_minor": 0
      },
      "text/plain": [
       "VBox()"
      ]
     },
     "metadata": {},
     "output_type": "display_data"
    },
    {
     "data": {
      "application/vnd.jupyter.widget-view+json": {
       "model_id": "",
       "version_major": 2,
       "version_minor": 0
      },
      "text/plain": [
       "FloatProgress(value=0.0, bar_style='info', description='Progress:', layout=Layout(height='25px', width='50%'),…"
      ]
     },
     "metadata": {},
     "output_type": "display_data"
    }
   ],
   "source": [
    "t = optimal_threshold\n",
    "y_pred_new = (preds >= t).astype(int)\n",
    "#y_pred_new"
   ]
  },
  {
   "cell_type": "code",
   "execution_count": 44,
   "metadata": {},
   "outputs": [
    {
     "data": {
      "application/vnd.jupyter.widget-view+json": {
       "model_id": "b805bd0a63bc4223a95bdff571677a1a",
       "version_major": 2,
       "version_minor": 0
      },
      "text/plain": [
       "VBox()"
      ]
     },
     "metadata": {},
     "output_type": "display_data"
    },
    {
     "data": {
      "application/vnd.jupyter.widget-view+json": {
       "model_id": "",
       "version_major": 2,
       "version_minor": 0
      },
      "text/plain": [
       "FloatProgress(value=0.0, bar_style='info', description='Progress:', layout=Layout(height='25px', width='50%'),…"
      ]
     },
     "metadata": {},
     "output_type": "display_data"
    },
    {
     "name": "stdout",
     "output_type": "stream",
     "text": [
      "Accuracy is:  0.9264874872318692\n",
      "Precision is:  0.9207128912400026\n",
      "Recall is:  0.9333503575076609\n",
      "F1 Score is:  0.9269885553054561"
     ]
    }
   ],
   "source": [
    "#Scores with best threshold cutoff\n",
    "print(\"Accuracy is:  {}\" .format(accuracy_score(ytest, y_pred_new)))\n",
    "print(\"Precision is:  {}\" .format(precision_score(ytest, y_pred_new)))\n",
    "print(\"Recall is:  {}\" .format(recall_score(ytest, y_pred_new)))\n",
    "print(\"F1 Score is:  {}\" .format(f1_score(ytest, y_pred_new)))"
   ]
  },
  {
   "cell_type": "code",
   "execution_count": 65,
   "metadata": {},
   "outputs": [
    {
     "data": {
      "application/vnd.jupyter.widget-view+json": {
       "model_id": "a1d8661e814946209547ee637adc7c9b",
       "version_major": 2,
       "version_minor": 0
      },
      "text/plain": [
       "VBox()"
      ]
     },
     "metadata": {},
     "output_type": "display_data"
    },
    {
     "data": {
      "application/vnd.jupyter.widget-view+json": {
       "model_id": "",
       "version_major": 2,
       "version_minor": 0
      },
      "text/plain": [
       "FloatProgress(value=0.0, bar_style='info', description='Progress:', layout=Layout(height='25px', width='50%'),…"
      ]
     },
     "metadata": {},
     "output_type": "display_data"
    },
    {
     "name": "stdout",
     "output_type": "stream",
     "text": [
      "24900"
     ]
    }
   ],
   "source": [
    "len(y_pred_new)"
   ]
  },
  {
   "cell_type": "code",
   "execution_count": null,
   "metadata": {},
   "outputs": [],
   "source": []
  },
  {
   "cell_type": "code",
   "execution_count": 66,
   "metadata": {},
   "outputs": [
    {
     "data": {
      "application/vnd.jupyter.widget-view+json": {
       "model_id": "fc409ba4e06b4b38aede532abd1b6d13",
       "version_major": 2,
       "version_minor": 0
      },
      "text/plain": [
       "VBox()"
      ]
     },
     "metadata": {},
     "output_type": "display_data"
    },
    {
     "data": {
      "application/vnd.jupyter.widget-view+json": {
       "model_id": "",
       "version_major": 2,
       "version_minor": 0
      },
      "text/plain": [
       "FloatProgress(value=0.0, bar_style='info', description='Progress:', layout=Layout(height='25px', width='50%'),…"
      ]
     },
     "metadata": {},
     "output_type": "display_data"
    }
   ],
   "source": [
    "#PRECISION RECALL CURVE\n",
    "#Better for what we want to assess which is how well label is assigned (i.e. when it gets a 1 instead of a 0)\n",
    "\n",
    "precision, recall, pr_threshold = precision_recall_curve(ytest, preds)\n",
    "pr_auc = metrics.auc(recall, precision)"
   ]
  },
  {
   "cell_type": "code",
   "execution_count": 67,
   "metadata": {},
   "outputs": [
    {
     "data": {
      "application/vnd.jupyter.widget-view+json": {
       "model_id": "99d58ae18c1444b3a185b30dc81f3ca3",
       "version_major": 2,
       "version_minor": 0
      },
      "text/plain": [
       "VBox()"
      ]
     },
     "metadata": {},
     "output_type": "display_data"
    },
    {
     "data": {
      "application/vnd.jupyter.widget-view+json": {
       "model_id": "",
       "version_major": 2,
       "version_minor": 0
      },
      "text/plain": [
       "FloatProgress(value=0.0, bar_style='info', description='Progress:', layout=Layout(height='25px', width='50%'),…"
      ]
     },
     "metadata": {},
     "output_type": "display_data"
    }
   ],
   "source": [
    "plt.clf()"
   ]
  },
  {
   "cell_type": "code",
   "execution_count": 70,
   "metadata": {},
   "outputs": [
    {
     "data": {
      "application/vnd.jupyter.widget-view+json": {
       "model_id": "0c3c650e35be46dbad6e1909bc1b47bc",
       "version_major": 2,
       "version_minor": 0
      },
      "text/plain": [
       "VBox()"
      ]
     },
     "metadata": {},
     "output_type": "display_data"
    },
    {
     "data": {
      "application/vnd.jupyter.widget-view+json": {
       "model_id": "",
       "version_major": 2,
       "version_minor": 0
      },
      "text/plain": [
       "FloatProgress(value=0.0, bar_style='info', description='Progress:', layout=Layout(height='25px', width='50%'),…"
      ]
     },
     "metadata": {},
     "output_type": "display_data"
    }
   ],
   "source": [
    "plt.title('Precision - Recall Curve')\n",
    "plt.plot(recall, precision, 'b', label = 'AUC = %0.4f' % pr_auc)\n",
    "plt.legend(loc = 'lower right')\n",
    "no_skill = len(ytest[ytest['CS']==1]) / len(ytest)\n",
    "plt.plot([0, 1], [no_skill, no_skill], 'r--', label='No Skill')\n",
    "#plt.xlim([0, 1])\n",
    "#plt.ylim([0, 1])\n",
    "plt.ylabel('Precision')\n",
    "plt.xlabel('Recall')\n",
    "plt.show()"
   ]
  },
  {
   "cell_type": "code",
   "execution_count": 71,
   "metadata": {},
   "outputs": [
    {
     "data": {
      "application/vnd.jupyter.widget-view+json": {
       "model_id": "",
       "version_major": 2,
       "version_minor": 0
      },
      "text/plain": [
       "FloatProgress(value=0.0, bar_style='info', description='Progress:', layout=Layout(height='25px', width='50%'),…"
      ]
     },
     "metadata": {},
     "output_type": "display_data"
    },
    {
     "data": {
      "image/png": "[encoded data removed]",
      "text/plain": [
       "<IPython.core.display.Image object>"
      ]
     },
     "metadata": {},
     "output_type": "display_data"
    }
   ],
   "source": [
    "%matplot plt"
   ]
  },
  {
   "cell_type": "code",
   "execution_count": 72,
   "metadata": {},
   "outputs": [
    {
     "data": {
      "application/vnd.jupyter.widget-view+json": {
       "model_id": "d0e3be2b9d5d4642b0bbacbc4ac60295",
       "version_major": 2,
       "version_minor": 0
      },
      "text/plain": [
       "VBox()"
      ]
     },
     "metadata": {},
     "output_type": "display_data"
    },
    {
     "data": {
      "application/vnd.jupyter.widget-view+json": {
       "model_id": "",
       "version_major": 2,
       "version_minor": 0
      },
      "text/plain": [
       "FloatProgress(value=0.0, bar_style='info', description='Progress:', layout=Layout(height='25px', width='50%'),…"
      ]
     },
     "metadata": {},
     "output_type": "display_data"
    },
    {
     "name": "stdout",
     "output_type": "stream",
     "text": [
      "Best Threshold=0.414175, F-Score=0.886\n",
      "Recall=0.925221\n",
      "Precision=0.850173"
     ]
    }
   ],
   "source": [
    "#Best F1 score optimizes precision recall trade off\n",
    "\n",
    "fscore = (2 * precision * recall) / (precision + recall)\n",
    "ix = argmax(fscore)\n",
    "print('Best Threshold=%f, F-Score=%.3f' % (pr_threshold[ix], fscore[ix]))\n",
    "\n",
    "print('Recall=%f' % recall[ix])\n",
    "print('Precision=%f' % precision[ix])"
   ]
  },
  {
   "cell_type": "code",
   "execution_count": 73,
   "metadata": {},
   "outputs": [
    {
     "data": {
      "application/vnd.jupyter.widget-view+json": {
       "model_id": "20fe4eaef915400caa458d95ccf5fbed",
       "version_major": 2,
       "version_minor": 0
      },
      "text/plain": [
       "VBox()"
      ]
     },
     "metadata": {},
     "output_type": "display_data"
    },
    {
     "data": {
      "application/vnd.jupyter.widget-view+json": {
       "model_id": "",
       "version_major": 2,
       "version_minor": 0
      },
      "text/plain": [
       "FloatProgress(value=0.0, bar_style='info', description='Progress:', layout=Layout(height='25px', width='50%'),…"
      ]
     },
     "metadata": {},
     "output_type": "display_data"
    }
   ],
   "source": [
    "plt.clf()"
   ]
  },
  {
   "cell_type": "code",
   "execution_count": 74,
   "metadata": {},
   "outputs": [
    {
     "data": {
      "application/vnd.jupyter.widget-view+json": {
       "model_id": "430f99baf6654cd2a20757d8c342b763",
       "version_major": 2,
       "version_minor": 0
      },
      "text/plain": [
       "VBox()"
      ]
     },
     "metadata": {},
     "output_type": "display_data"
    },
    {
     "data": {
      "application/vnd.jupyter.widget-view+json": {
       "model_id": "",
       "version_major": 2,
       "version_minor": 0
      },
      "text/plain": [
       "FloatProgress(value=0.0, bar_style='info', description='Progress:', layout=Layout(height='25px', width='50%'),…"
      ]
     },
     "metadata": {},
     "output_type": "display_data"
    }
   ],
   "source": [
    "plt.hist(preds, bins=10)\n",
    "plt.show()"
   ]
  },
  {
   "cell_type": "code",
   "execution_count": 75,
   "metadata": {},
   "outputs": [
    {
     "data": {
      "application/vnd.jupyter.widget-view+json": {
       "model_id": "",
       "version_major": 2,
       "version_minor": 0
      },
      "text/plain": [
       "FloatProgress(value=0.0, bar_style='info', description='Progress:', layout=Layout(height='25px', width='50%'),…"
      ]
     },
     "metadata": {},
     "output_type": "display_data"
    },
    {
     "data": {
      "image/png": "[encoded data removed]",
      "text/plain": [
       "<IPython.core.display.Image object>"
      ]
     },
     "metadata": {},
     "output_type": "display_data"
    }
   ],
   "source": [
    "%matplot plt"
   ]
  },
  {
   "cell_type": "code",
   "execution_count": null,
   "metadata": {},
   "outputs": [],
   "source": []
  },
  {
   "cell_type": "code",
   "execution_count": null,
   "metadata": {},
   "outputs": [],
   "source": []
  },
  {
   "cell_type": "code",
   "execution_count": 76,
   "metadata": {},
   "outputs": [
    {
     "data": {
      "application/vnd.jupyter.widget-view+json": {
       "model_id": "50041ddd95fc4de38c76915d057b22bc",
       "version_major": 2,
       "version_minor": 0
      },
      "text/plain": [
       "VBox()"
      ]
     },
     "metadata": {},
     "output_type": "display_data"
    },
    {
     "data": {
      "application/vnd.jupyter.widget-view+json": {
       "model_id": "",
       "version_major": 2,
       "version_minor": 0
      },
      "text/plain": [
       "FloatProgress(value=0.0, bar_style='info', description='Progress:', layout=Layout(height='25px', width='50%'),…"
      ]
     },
     "metadata": {},
     "output_type": "display_data"
    }
   ],
   "source": [
    "preds_df = pd.DataFrame(data=preds, columns = ['pred_prob'])\n",
    "#preds_df"
   ]
  },
  {
   "cell_type": "code",
   "execution_count": 77,
   "metadata": {},
   "outputs": [
    {
     "data": {
      "application/vnd.jupyter.widget-view+json": {
       "model_id": "a5562f6b61fa45a0827a833cd58bb508",
       "version_major": 2,
       "version_minor": 0
      },
      "text/plain": [
       "VBox()"
      ]
     },
     "metadata": {},
     "output_type": "display_data"
    },
    {
     "data": {
      "application/vnd.jupyter.widget-view+json": {
       "model_id": "",
       "version_major": 2,
       "version_minor": 0
      },
      "text/plain": [
       "FloatProgress(value=0.0, bar_style='info', description='Progress:', layout=Layout(height='25px', width='50%'),…"
      ]
     },
     "metadata": {},
     "output_type": "display_data"
    }
   ],
   "source": [
    "ytest.reset_index(drop=True, inplace=True)\n",
    "preds_df.reset_index(drop=True, inplace=True)"
   ]
  },
  {
   "cell_type": "code",
   "execution_count": 78,
   "metadata": {},
   "outputs": [
    {
     "data": {
      "application/vnd.jupyter.widget-view+json": {
       "model_id": "23ac1501f2a64a459bd99e5cde599492",
       "version_major": 2,
       "version_minor": 0
      },
      "text/plain": [
       "VBox()"
      ]
     },
     "metadata": {},
     "output_type": "display_data"
    },
    {
     "data": {
      "application/vnd.jupyter.widget-view+json": {
       "model_id": "",
       "version_major": 2,
       "version_minor": 0
      },
      "text/plain": [
       "FloatProgress(value=0.0, bar_style='info', description='Progress:', layout=Layout(height='25px', width='50%'),…"
      ]
     },
     "metadata": {},
     "output_type": "display_data"
    }
   ],
   "source": [
    "hist_plot_data = pd.concat([ytest, preds_df], axis = 1)\n",
    "#hist_plot_data"
   ]
  },
  {
   "cell_type": "code",
   "execution_count": null,
   "metadata": {},
   "outputs": [],
   "source": []
  },
  {
   "cell_type": "code",
   "execution_count": 80,
   "metadata": {},
   "outputs": [
    {
     "data": {
      "application/vnd.jupyter.widget-view+json": {
       "model_id": "2d0183a5fa2d41b49003f08de0890c96",
       "version_major": 2,
       "version_minor": 0
      },
      "text/plain": [
       "VBox()"
      ]
     },
     "metadata": {},
     "output_type": "display_data"
    },
    {
     "data": {
      "application/vnd.jupyter.widget-view+json": {
       "model_id": "",
       "version_major": 2,
       "version_minor": 0
      },
      "text/plain": [
       "FloatProgress(value=0.0, bar_style='info', description='Progress:', layout=Layout(height='25px', width='50%'),…"
      ]
     },
     "metadata": {},
     "output_type": "display_data"
    }
   ],
   "source": [
    "CS_0 = hist_plot_data.loc[hist_plot_data.CS == 0, 'pred_prob']\n",
    "CS_1 = hist_plot_data.loc[hist_plot_data.CS == 1, 'pred_prob']"
   ]
  },
  {
   "cell_type": "code",
   "execution_count": 81,
   "metadata": {},
   "outputs": [
    {
     "data": {
      "application/vnd.jupyter.widget-view+json": {
       "model_id": "8cc7f71484fa4f04bc0d0ba9e632ce62",
       "version_major": 2,
       "version_minor": 0
      },
      "text/plain": [
       "VBox()"
      ]
     },
     "metadata": {},
     "output_type": "display_data"
    },
    {
     "data": {
      "application/vnd.jupyter.widget-view+json": {
       "model_id": "",
       "version_major": 2,
       "version_minor": 0
      },
      "text/plain": [
       "FloatProgress(value=0.0, bar_style='info', description='Progress:', layout=Layout(height='25px', width='50%'),…"
      ]
     },
     "metadata": {},
     "output_type": "display_data"
    }
   ],
   "source": [
    "plt.clf()"
   ]
  },
  {
   "cell_type": "code",
   "execution_count": 82,
   "metadata": {},
   "outputs": [
    {
     "data": {
      "application/vnd.jupyter.widget-view+json": {
       "model_id": "fd43239d5e344053a184b4986cb9fb25",
       "version_major": 2,
       "version_minor": 0
      },
      "text/plain": [
       "VBox()"
      ]
     },
     "metadata": {},
     "output_type": "display_data"
    },
    {
     "data": {
      "application/vnd.jupyter.widget-view+json": {
       "model_id": "",
       "version_major": 2,
       "version_minor": 0
      },
      "text/plain": [
       "FloatProgress(value=0.0, bar_style='info', description='Progress:', layout=Layout(height='25px', width='50%'),…"
      ]
     },
     "metadata": {},
     "output_type": "display_data"
    },
    {
     "name": "stdout",
     "output_type": "stream",
     "text": [
      "<matplotlib.legend.Legend object at 0x7fc2b27b8b10>"
     ]
    }
   ],
   "source": [
    "kwargs = dict(alpha=0.5, bins=20)\n",
    "\n",
    "plt.hist(CS_0, **kwargs, color='b', label='CS=0')\n",
    "plt.hist(CS_1, **kwargs, color='g', label='CS=1')\n",
    "plt.gca().set(title='Histogram of CS Label Probs', ylabel='Frequency', xlabel = 'Predicted Probability')\n",
    "plt.legend();"
   ]
  },
  {
   "cell_type": "code",
   "execution_count": 83,
   "metadata": {},
   "outputs": [
    {
     "data": {
      "application/vnd.jupyter.widget-view+json": {
       "model_id": "",
       "version_major": 2,
       "version_minor": 0
      },
      "text/plain": [
       "FloatProgress(value=0.0, bar_style='info', description='Progress:', layout=Layout(height='25px', width='50%'),…"
      ]
     },
     "metadata": {},
     "output_type": "display_data"
    },
    {
     "data": {
      "image/png": "[encoded data removed]",
      "text/plain": [
       "<IPython.core.display.Image object>"
      ]
     },
     "metadata": {},
     "output_type": "display_data"
    }
   ],
   "source": [
    "%matplot plt"
   ]
  },
  {
   "cell_type": "code",
   "execution_count": 316,
   "metadata": {},
   "outputs": [
    {
     "data": {
      "application/vnd.jupyter.widget-view+json": {
       "model_id": "d395c296710a4dc59d80ce7df321e932",
       "version_major": 2,
       "version_minor": 0
      },
      "text/plain": [
       "VBox()"
      ]
     },
     "metadata": {},
     "output_type": "display_data"
    },
    {
     "data": {
      "application/vnd.jupyter.widget-view+json": {
       "model_id": "",
       "version_major": 2,
       "version_minor": 0
      },
      "text/plain": [
       "FloatProgress(value=0.0, bar_style='info', description='Progress:', layout=Layout(height='25px', width='50%'),…"
      ]
     },
     "metadata": {},
     "output_type": "display_data"
    },
    {
     "name": "stdout",
     "output_type": "stream",
     "text": [
      "NR           3233\n",
      "pred_prob    3233\n",
      "dtype: int64"
     ]
    }
   ],
   "source": [
    "#Amount of data that is actually 0 but predicted as 1 with probability > 80%\n",
    "hist_plot_data.loc[(hist_plot_data.NR == 0) & (hist_plot_data.pred_prob > 0.8)].count()\n",
    "#3233 / 204885 = ~1%"
   ]
  },
  {
   "cell_type": "code",
   "execution_count": 317,
   "metadata": {},
   "outputs": [
    {
     "data": {
      "application/vnd.jupyter.widget-view+json": {
       "model_id": "5de5ae5762b145ed9e7cb5df8a537aa4",
       "version_major": 2,
       "version_minor": 0
      },
      "text/plain": [
       "VBox()"
      ]
     },
     "metadata": {},
     "output_type": "display_data"
    },
    {
     "data": {
      "application/vnd.jupyter.widget-view+json": {
       "model_id": "",
       "version_major": 2,
       "version_minor": 0
      },
      "text/plain": [
       "FloatProgress(value=0.0, bar_style='info', description='Progress:', layout=Layout(height='25px', width='50%'),…"
      ]
     },
     "metadata": {},
     "output_type": "display_data"
    },
    {
     "name": "stdout",
     "output_type": "stream",
     "text": [
      "NR           3683\n",
      "pred_prob    3683\n",
      "dtype: int64"
     ]
    }
   ],
   "source": [
    "#Amount of data that is actually 1 but predicted as 0 with probability < 20%\n",
    "hist_plot_data.loc[(hist_plot_data.NR == 1) & (hist_plot_data.pred_prob < 0.2)].count()\n",
    "#3683 / 204885 = ~1%"
   ]
  },
  {
   "cell_type": "code",
   "execution_count": 318,
   "metadata": {},
   "outputs": [
    {
     "data": {
      "application/vnd.jupyter.widget-view+json": {
       "model_id": "e6e8465115924d3592827621e77cd3ad",
       "version_major": 2,
       "version_minor": 0
      },
      "text/plain": [
       "VBox()"
      ]
     },
     "metadata": {},
     "output_type": "display_data"
    },
    {
     "data": {
      "application/vnd.jupyter.widget-view+json": {
       "model_id": "",
       "version_major": 2,
       "version_minor": 0
      },
      "text/plain": [
       "FloatProgress(value=0.0, bar_style='info', description='Progress:', layout=Layout(height='25px', width='50%'),…"
      ]
     },
     "metadata": {},
     "output_type": "display_data"
    },
    {
     "name": "stdout",
     "output_type": "stream",
     "text": [
      "NR           47346\n",
      "pred_prob    47346\n",
      "dtype: int64"
     ]
    }
   ],
   "source": [
    "#Amount of data (0 or 1) that is between probabilities 20% - 80%\n",
    "hist_plot_data.loc[(hist_plot_data.pred_prob <0.8) & (hist_plot_data.pred_prob > 0.2)].count()\n",
    "#47346 / 204885 = ~23%"
   ]
  },
  {
   "cell_type": "code",
   "execution_count": 161,
   "metadata": {},
   "outputs": [
    {
     "data": {
      "application/vnd.jupyter.widget-view+json": {
       "model_id": "c777b1358e6249348dcc4c7210e64844",
       "version_major": 2,
       "version_minor": 0
      },
      "text/plain": [
       "VBox()"
      ]
     },
     "metadata": {},
     "output_type": "display_data"
    },
    {
     "data": {
      "application/vnd.jupyter.widget-view+json": {
       "model_id": "",
       "version_major": 2,
       "version_minor": 0
      },
      "text/plain": [
       "FloatProgress(value=0.0, bar_style='info', description='Progress:', layout=Layout(height='25px', width='50%'),…"
      ]
     },
     "metadata": {},
     "output_type": "display_data"
    }
   ],
   "source": [
    "#importance = clf.coef_\n",
    "#importance"
   ]
  },
  {
   "cell_type": "code",
   "execution_count": 162,
   "metadata": {},
   "outputs": [
    {
     "data": {
      "application/vnd.jupyter.widget-view+json": {
       "model_id": "ef529e01c7034a18acdc12c79c1fd802",
       "version_major": 2,
       "version_minor": 0
      },
      "text/plain": [
       "VBox()"
      ]
     },
     "metadata": {},
     "output_type": "display_data"
    },
    {
     "data": {
      "application/vnd.jupyter.widget-view+json": {
       "model_id": "",
       "version_major": 2,
       "version_minor": 0
      },
      "text/plain": [
       "FloatProgress(value=0.0, bar_style='info', description='Progress:', layout=Layout(height='25px', width='50%'),…"
      ]
     },
     "metadata": {},
     "output_type": "display_data"
    }
   ],
   "source": [
    "\n",
    "#feature_names = vectorizer.get_feature_names()\n",
    "#dense = importance\n",
    "#denselist = dense.tolist()\n",
    "#df = pd.DataFrame(denselist, columns=feature_names)\n",
    "#df"
   ]
  },
  {
   "cell_type": "code",
   "execution_count": null,
   "metadata": {},
   "outputs": [],
   "source": []
  },
  {
   "cell_type": "code",
   "execution_count": null,
   "metadata": {},
   "outputs": [],
   "source": []
  },
  {
   "cell_type": "code",
   "execution_count": null,
   "metadata": {},
   "outputs": [],
   "source": []
  },
  {
   "cell_type": "code",
   "execution_count": null,
   "metadata": {},
   "outputs": [],
   "source": []
  },
  {
   "cell_type": "code",
   "execution_count": null,
   "metadata": {},
   "outputs": [],
   "source": []
  },
  {
   "cell_type": "code",
   "execution_count": null,
   "metadata": {},
   "outputs": [],
   "source": []
  },
  {
   "cell_type": "code",
   "execution_count": 287,
   "metadata": {},
   "outputs": [
    {
     "data": {
      "application/vnd.jupyter.widget-view+json": {
       "model_id": "808ea30218d34df1bdad838bce6fe775",
       "version_major": 2,
       "version_minor": 0
      },
      "text/plain": [
       "VBox()"
      ]
     },
     "metadata": {},
     "output_type": "display_data"
    },
    {
     "data": {
      "application/vnd.jupyter.widget-view+json": {
       "model_id": "",
       "version_major": 2,
       "version_minor": 0
      },
      "text/plain": [
       "FloatProgress(value=0.0, bar_style='info', description='Progress:', layout=Layout(height='25px', width='50%'),…"
      ]
     },
     "metadata": {},
     "output_type": "display_data"
    }
   ],
   "source": [
    "xtest.reset_index(drop=True, inplace=True)\n",
    "hist_plot_data.reset_index(drop=True, inplace=True)"
   ]
  },
  {
   "cell_type": "code",
   "execution_count": 303,
   "metadata": {},
   "outputs": [
    {
     "data": {
      "application/vnd.jupyter.widget-view+json": {
       "model_id": "8bd8f8f1e5c44e8e85ae93be35c101a9",
       "version_major": 2,
       "version_minor": 0
      },
      "text/plain": [
       "VBox()"
      ]
     },
     "metadata": {},
     "output_type": "display_data"
    },
    {
     "data": {
      "application/vnd.jupyter.widget-view+json": {
       "model_id": "",
       "version_major": 2,
       "version_minor": 0
      },
      "text/plain": [
       "FloatProgress(value=0.0, bar_style='info', description='Progress:', layout=Layout(height='25px', width='50%'),…"
      ]
     },
     "metadata": {},
     "output_type": "display_data"
    },
    {
     "name": "stdout",
     "output_type": "stream",
     "text": [
      "                                                                                                                                                                                                                                                                                                                                                                                                                           ALL_TEXT  \\\n",
      "0       headline Daughter loves it!! comment This is so cute, my daughter loves all the robots from Star Wars, and here they are all on one shirt!!                                                                                                                                                                                                                                                                                   \n",
      "1       headline Love these too!!! comment The warmest earmuffs I have ever used in my life and they don't even make my ears sweat!! These are the best earmuffs EVER!!! At first I thought they were way too expensive for earmuffs but they work excellently well, they look good and I am extremely happy with them.                                                                                                               \n",
      "2       headline Five Stars comment The dress is really pretty.                                                                                                                                                                                                                                                                                                                                                                       \n",
      "3       headline Good goods comment Good running shoe\\nIt is like walking on a cloud                                                                                                                                                                                                                                                                                                                                                  \n",
      "4       headline Love, love, love these! comment I love that the ankle is cuffed so it doesn't swallow my sons foot. These are so soft, and cute! I think they run really big compared to other clothes that I have purchased for my son. I got 9/12 and even tightened all the way there is a gap. He usually wears 12/18 months. But that's okay because he can get good use out of these!                                          \n",
      "...                                                                                                                                                                                                                                                                                                                                                                                      ...                                          \n",
      "204880  headline Have not received my order, going on 3 weeks. comment I'll never order from North face again, what do I do with my egift card.                                                                                                                                                                                                                                                                                       \n",
      "204881  headline Hated them comment Hated these shoes tried to take them back to my nearest store and bc they had a little scuff on them the nasty person at Columbia mall in Baltimore Maryland said he would not take back or return them. So I told him to throw away and I won't buy another shoe from here. Which sucks bc I only wear sketchers.                                                                                \n",
      "204882  headline I can not say I was asked to review a product I don't have comment I purchased my order on 4/16 to be delivered to my new place on 5/8. I received a call on 5/6 advising me that I would not receive my bed set till 5/15. To make this worst I received a email from costumer service asking if how I like my bed. The bed set  I was supposed to sleep one in my new place but won't receive till the 15 of May   \n",
      "204883  headline Purse not received comment Purse not received                                                                                                                                                                                                                                                                                                                                                                        \n",
      "204884  headline Not worth the price tag comment Pillow sinks low after a week. I now have to fold it to get adequate support. Moreover, purchased from Mattress Firm at $99 when price here is below that. Ridiculous.                                                                                                                                                                                                               \n",
      "\n",
      "        REVIEW_RATING  NR  pred_prob  \n",
      "0       5.0            0   0.009026   \n",
      "1       5.0            0   0.312612   \n",
      "2       5.0            0   0.030589   \n",
      "3       5.0            0   0.180927   \n",
      "4       5.0            0   0.003680   \n",
      "...     ...           ..        ...   \n",
      "204880  1.0            1   0.986691   \n",
      "204881  1.0            1   0.887608   \n",
      "204882  1.0            1   0.994918   \n",
      "204883  1.0            1   0.947040   \n",
      "204884  1.0            1   0.477791   \n",
      "\n",
      "[204885 rows x 4 columns]"
     ]
    }
   ],
   "source": [
    "results = pd.concat([xtest, hist_plot_data], axis=1)\n",
    "results"
   ]
  },
  {
   "cell_type": "code",
   "execution_count": 304,
   "metadata": {},
   "outputs": [
    {
     "data": {
      "application/vnd.jupyter.widget-view+json": {
       "model_id": "81a47ff6d9b94a659c85ea4bb5665180",
       "version_major": 2,
       "version_minor": 0
      },
      "text/plain": [
       "VBox()"
      ]
     },
     "metadata": {},
     "output_type": "display_data"
    },
    {
     "data": {
      "application/vnd.jupyter.widget-view+json": {
       "model_id": "",
       "version_major": 2,
       "version_minor": 0
      },
      "text/plain": [
       "FloatProgress(value=0.0, bar_style='info', description='Progress:', layout=Layout(height='25px', width='50%'),…"
      ]
     },
     "metadata": {},
     "output_type": "display_data"
    },
    {
     "name": "stdout",
     "output_type": "stream",
     "text": [
      "                                                                                                                                                                                                                                                                                                                                                                                                                           ALL_TEXT  \\\n",
      "0       headline Daughter loves it!! comment This is so cute, my daughter loves all the robots from Star Wars, and here they are all on one shirt!!                                                                                                                                                                                                                                                                                   \n",
      "1       headline Love these too!!! comment The warmest earmuffs I have ever used in my life and they don't even make my ears sweat!! These are the best earmuffs EVER!!! At first I thought they were way too expensive for earmuffs but they work excellently well, they look good and I am extremely happy with them.                                                                                                               \n",
      "2       headline Five Stars comment The dress is really pretty.                                                                                                                                                                                                                                                                                                                                                                       \n",
      "3       headline Good goods comment Good running shoe\\nIt is like walking on a cloud                                                                                                                                                                                                                                                                                                                                                  \n",
      "4       headline Love, love, love these! comment I love that the ankle is cuffed so it doesn't swallow my sons foot. These are so soft, and cute! I think they run really big compared to other clothes that I have purchased for my son. I got 9/12 and even tightened all the way there is a gap. He usually wears 12/18 months. But that's okay because he can get good use out of these!                                          \n",
      "...                                                                                                                                                                                                                                                                                                                                                                                      ...                                          \n",
      "204880  headline Have not received my order, going on 3 weeks. comment I'll never order from North face again, what do I do with my egift card.                                                                                                                                                                                                                                                                                       \n",
      "204881  headline Hated them comment Hated these shoes tried to take them back to my nearest store and bc they had a little scuff on them the nasty person at Columbia mall in Baltimore Maryland said he would not take back or return them. So I told him to throw away and I won't buy another shoe from here. Which sucks bc I only wear sketchers.                                                                                \n",
      "204882  headline I can not say I was asked to review a product I don't have comment I purchased my order on 4/16 to be delivered to my new place on 5/8. I received a call on 5/6 advising me that I would not receive my bed set till 5/15. To make this worst I received a email from costumer service asking if how I like my bed. The bed set  I was supposed to sleep one in my new place but won't receive till the 15 of May   \n",
      "204883  headline Purse not received comment Purse not received                                                                                                                                                                                                                                                                                                                                                                        \n",
      "204884  headline Not worth the price tag comment Pillow sinks low after a week. I now have to fold it to get adequate support. Moreover, purchased from Mattress Firm at $99 when price here is below that. Ridiculous.                                                                                                                                                                                                               \n",
      "\n",
      "        REVIEW_RATING  NR  pred_prob  \n",
      "0       5.0            0   0.009026   \n",
      "1       5.0            0   0.312612   \n",
      "2       5.0            0   0.030589   \n",
      "3       5.0            0   0.180927   \n",
      "4       5.0            0   0.003680   \n",
      "...     ...           ..        ...   \n",
      "204880  1.0            1   0.986691   \n",
      "204881  1.0            1   0.887608   \n",
      "204882  1.0            1   0.994918   \n",
      "204883  1.0            1   0.947040   \n",
      "204884  1.0            1   0.477791   \n",
      "\n",
      "[204885 rows x 4 columns]"
     ]
    }
   ],
   "source": [
    "results['ALL_TEXT'] = results['ALL_TEXT'].astype(str)\n",
    "results"
   ]
  },
  {
   "cell_type": "code",
   "execution_count": 305,
   "metadata": {},
   "outputs": [
    {
     "data": {
      "application/vnd.jupyter.widget-view+json": {
       "model_id": "f187bf2f8ba341aea537001b2ec150c6",
       "version_major": 2,
       "version_minor": 0
      },
      "text/plain": [
       "VBox()"
      ]
     },
     "metadata": {},
     "output_type": "display_data"
    },
    {
     "data": {
      "application/vnd.jupyter.widget-view+json": {
       "model_id": "",
       "version_major": 2,
       "version_minor": 0
      },
      "text/plain": [
       "FloatProgress(value=0.0, bar_style='info', description='Progress:', layout=Layout(height='25px', width='50%'),…"
      ]
     },
     "metadata": {},
     "output_type": "display_data"
    }
   ],
   "source": [
    "results_sparkdf = spark.createDataFrame(results)"
   ]
  },
  {
   "cell_type": "code",
   "execution_count": 306,
   "metadata": {},
   "outputs": [
    {
     "data": {
      "application/vnd.jupyter.widget-view+json": {
       "model_id": "ce4974c112564d3288cb57c5500c6132",
       "version_major": 2,
       "version_minor": 0
      },
      "text/plain": [
       "VBox()"
      ]
     },
     "metadata": {},
     "output_type": "display_data"
    },
    {
     "data": {
      "application/vnd.jupyter.widget-view+json": {
       "model_id": "",
       "version_major": 2,
       "version_minor": 0
      },
      "text/plain": [
       "FloatProgress(value=0.0, bar_style='info', description='Progress:', layout=Layout(height='25px', width='50%'),…"
      ]
     },
     "metadata": {},
     "output_type": "display_data"
    }
   ],
   "source": [
    "sfOptions2 = {\n",
    "  'sfURL' : 'powerreviews.snowflakecomputing.com',\n",
    "  'sfAccount' : 'powerreviews',\n",
    "  'sfUser' : 'APP_SPARK_PROD',\n",
    "  'sfPassword' : '>6txhcQ*7&^Qrq`j',\n",
    "  'sfDatabase' : 'ANALYTICS_WORKSHOP',\n",
    "  'sfSchema' : 'DATA_SCIENCE',\n",
    "  'sfWarehouse' : 'LOWER_ENV_WAREHOUSE'\n",
    "}\n"
   ]
  },
  {
   "cell_type": "code",
   "execution_count": 307,
   "metadata": {},
   "outputs": [
    {
     "data": {
      "application/vnd.jupyter.widget-view+json": {
       "model_id": "bfc456d12a5b407ebac6b424c7f637b0",
       "version_major": 2,
       "version_minor": 0
      },
      "text/plain": [
       "VBox()"
      ]
     },
     "metadata": {},
     "output_type": "display_data"
    },
    {
     "data": {
      "application/vnd.jupyter.widget-view+json": {
       "model_id": "",
       "version_major": 2,
       "version_minor": 0
      },
      "text/plain": [
       "FloatProgress(value=0.0, bar_style='info', description='Progress:', layout=Layout(height='25px', width='50%'),…"
      ]
     },
     "metadata": {},
     "output_type": "display_data"
    }
   ],
   "source": [
    " results_sparkdf.write.format(SNOWFLAKE_SOURCE_NAME).options(**sfOptions2) \\\n",
    "    .option(\"dbtable\",\"MODLABEL_TEST_2\").mode(\"append\").save()"
   ]
  },
  {
   "cell_type": "code",
   "execution_count": null,
   "metadata": {},
   "outputs": [],
   "source": []
  },
  {
   "cell_type": "code",
   "execution_count": null,
   "metadata": {},
   "outputs": [],
   "source": []
  },
  {
   "cell_type": "code",
   "execution_count": null,
   "metadata": {},
   "outputs": [],
   "source": []
  },
  {
   "cell_type": "code",
   "execution_count": null,
   "metadata": {},
   "outputs": [],
   "source": []
  },
  {
   "cell_type": "code",
   "execution_count": null,
   "metadata": {},
   "outputs": [],
   "source": []
  },
  {
   "cell_type": "code",
   "execution_count": null,
   "metadata": {},
   "outputs": [],
   "source": []
  },
  {
   "cell_type": "code",
   "execution_count": null,
   "metadata": {},
   "outputs": [],
   "source": []
  }
 ],
 "metadata": {
  "kernelspec": {
   "display_name": "PySpark",
   "language": "",
   "name": "pysparkkernel"
  },
  "language_info": {
   "codemirror_mode": {
    "name": "python",
    "version": 2
   },
   "mimetype": "text/x-python",
   "name": "pyspark",
   "pygments_lexer": "python2"
  }
 },
 "nbformat": 4,
 "nbformat_minor": 4
}
