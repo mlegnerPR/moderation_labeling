{
 "cells": [
  {
   "cell_type": "code",
   "execution_count": 1,
   "metadata": {},
   "outputs": [
    {
     "data": {
      "application/vnd.jupyter.widget-view+json": {
       "model_id": "d349466f691f425baaf646a822bce0a7",
       "version_major": 2,
       "version_minor": 0
      },
      "text/plain": [
       "VBox()"
      ]
     },
     "metadata": {},
     "output_type": "display_data"
    },
    {
     "name": "stdout",
     "output_type": "stream",
     "text": [
      "Starting Spark application\n"
     ]
    },
    {
     "data": {
      "text/html": [
       "<table>\n",
       "<tr><th>ID</th><th>YARN Application ID</th><th>Kind</th><th>State</th><th>Spark UI</th><th>Driver log</th><th>Current session?</th></tr><tr><td>1</td><td>application_1612881296901_0002</td><td>pyspark</td><td>idle</td><td><a target=\"_blank\" href=\"http://ip-10-101-213-48.us-west-2.compute.internal:20888/proxy/application_1612881296901_0002/\">Link</a></td><td><a target=\"_blank\" href=\"http://ip-10-101-213-48.us-west-2.compute.internal:8042/node/containerlogs/container_1612881296901_0002_01_000001/livy\">Link</a></td><td>✔</td></tr></table>"
      ],
      "text/plain": [
       "<IPython.core.display.HTML object>"
      ]
     },
     "metadata": {},
     "output_type": "display_data"
    },
    {
     "data": {
      "application/vnd.jupyter.widget-view+json": {
       "model_id": "",
       "version_major": 2,
       "version_minor": 0
      },
      "text/plain": [
       "FloatProgress(value=0.0, bar_style='info', description='Progress:', layout=Layout(height='25px', width='50%'),…"
      ]
     },
     "metadata": {},
     "output_type": "display_data"
    },
    {
     "name": "stdout",
     "output_type": "stream",
     "text": [
      "SparkSession available as 'spark'.\n"
     ]
    },
    {
     "data": {
      "application/vnd.jupyter.widget-view+json": {
       "model_id": "",
       "version_major": 2,
       "version_minor": 0
      },
      "text/plain": [
       "FloatProgress(value=0.0, bar_style='info', description='Progress:', layout=Layout(height='25px', width='50%'),…"
      ]
     },
     "metadata": {},
     "output_type": "display_data"
    }
   ],
   "source": [
    "#Import packages\n",
    "import numpy as np\n",
    "from numpy import argmax\n",
    "import pyspark.sql.functions as F\n",
    "import snowflake.connector\n",
    "import pandas as pd\n",
    "import spacy\n",
    "#from sparknlp.base import Finisher, DocumentAssembler\n",
    "#from sparknlp.annotator import  Normalizer, LemmatizerModel, StopWordsCleaner, Tokenizer\n",
    "#from pyspark.ml import Pipeline\n",
    "#from pyspark.ml.feature import CountVectorizer, VectorAssembler, HashingTF, IDF, Tokenizer\n",
    "#from nltk.corpus import stopwords\n",
    "from sklearn.feature_extraction.text import TfidfVectorizer\n",
    "from sklearn.model_selection import train_test_split\n",
    "from scipy import sparse\n",
    "from sklearn.linear_model import LogisticRegression\n",
    "from sklearn import svm\n",
    "from sklearn.multiclass import OneVsRestClassifier\n",
    "from sklearn import metrics\n",
    "from sklearn.metrics import f1_score, accuracy_score, recall_score, precision_score, confusion_matrix, plot_confusion_matrix, \\\n",
    "                            roc_curve, auc, classification_report, precision_recall_curve\n",
    "import matplotlib.pyplot as plt\n",
    "import boto3\n",
    "import json"
   ]
  },
  {
   "cell_type": "code",
   "execution_count": 2,
   "metadata": {},
   "outputs": [
    {
     "data": {
      "application/vnd.jupyter.widget-view+json": {
       "model_id": "5929e3659dc0489286ca914caa71c859",
       "version_major": 2,
       "version_minor": 0
      },
      "text/plain": [
       "VBox()"
      ]
     },
     "metadata": {},
     "output_type": "display_data"
    },
    {
     "data": {
      "application/vnd.jupyter.widget-view+json": {
       "model_id": "",
       "version_major": 2,
       "version_minor": 0
      },
      "text/plain": [
       "FloatProgress(value=0.0, bar_style='info', description='Progress:', layout=Layout(height='25px', width='50%'),…"
      ]
     },
     "metadata": {},
     "output_type": "display_data"
    }
   ],
   "source": [
    "sm_client = boto3.client('secretsmanager',region_name='us-west-2')\n",
    "secret_value = sm_client.get_secret_value(SecretId = 'emr_spark_qa')\n",
    "username = json.loads(secret_value['SecretString'])['emr_spark_username']\n",
    "password = json.loads(secret_value['SecretString'])['emr_spark_password']\n",
    "\n",
    "#SPARK connection info\n",
    "sfOptions = {\n",
    "  'sfURL' : 'powerreviews.snowflakecomputing.com',\n",
    "  'sfAccount' : 'powerreviews',\n",
    "  'sfUser' : username,\n",
    "  'sfPassword' : password,\n",
    "  'sfDatabase' : 'ANALYTICS_PROD',\n",
    "  'sfSchema' : 'ANALYTICS',\n",
    "  'sfWarehouse' : 'LOWER_ENV_WAREHOUSE'\n",
    "}\n",
    "SNOWFLAKE_SOURCE_NAME = \"net.snowflake.spark.snowflake\"\n",
    "\n",
    "#PYTHON connection info\n",
    "conn = snowflake.connector.connect(\n",
    "    account='powerreviews',\n",
    "    database='analytics_prod',\n",
    "    warehouse='LOWER_ENV_WAREHOUSE',\n",
    "    user=username,\n",
    "    password=password\n",
    "    )\n"
   ]
  },
  {
   "cell_type": "code",
   "execution_count": 3,
   "metadata": {},
   "outputs": [
    {
     "data": {
      "application/vnd.jupyter.widget-view+json": {
       "model_id": "f74d0850221c4529b4751c876875bcc9",
       "version_major": 2,
       "version_minor": 0
      },
      "text/plain": [
       "VBox()"
      ]
     },
     "metadata": {},
     "output_type": "display_data"
    },
    {
     "data": {
      "application/vnd.jupyter.widget-view+json": {
       "model_id": "",
       "version_major": 2,
       "version_minor": 0
      },
      "text/plain": [
       "FloatProgress(value=0.0, bar_style='info', description='Progress:', layout=Layout(height='25px', width='50%'),…"
      ]
     },
     "metadata": {},
     "output_type": "display_data"
    }
   ],
   "source": [
    "#Use review data set to get observation codes bc they are already comma separated and less joins to perform\n",
    "#Still need observation set though to get observation created date\n",
    "#This is bc review could be from ages ago but we could have imported recently and moderated it\n",
    "#Want to make sure we include as many observation labels as possible for most accurate model\n",
    "\n"
   ]
  },
  {
   "cell_type": "code",
   "execution_count": 4,
   "metadata": {},
   "outputs": [
    {
     "data": {
      "application/vnd.jupyter.widget-view+json": {
       "model_id": "73afc6dd23094f1ab709d70eb8148db5",
       "version_major": 2,
       "version_minor": 0
      },
      "text/plain": [
       "VBox()"
      ]
     },
     "metadata": {},
     "output_type": "display_data"
    },
    {
     "data": {
      "application/vnd.jupyter.widget-view+json": {
       "model_id": "",
       "version_major": 2,
       "version_minor": 0
      },
      "text/plain": [
       "FloatProgress(value=0.0, bar_style='info', description='Progress:', layout=Layout(height='25px', width='50%'),…"
      ]
     },
     "metadata": {},
     "output_type": "display_data"
    }
   ],
   "source": [
    "query = \"select distinct r.ugc_id, r.created_date, r.review_headline, r.review_rating, \\\n",
    "r.review_comments, r.review_rating, r.reviewer_nickname, r.locale, r.observations, \\\n",
    "ADD IN CASE WHEN HERE \\\n",
    "from analytics.review as r \\\n",
    "left join cdm.observation as o \\\n",
    "on r.ugc_id = o.ugc_id \\\n",
    "where contains(r.observations, 'PM') \\\n",
    "and r.locale in ('en_US','en_GB','en_CA') \\\n",
    "and o.created_date > '2020-09-23'  \\\n",
    "limit 100\""
   ]
  },
  {
   "cell_type": "code",
   "execution_count": 5,
   "metadata": {},
   "outputs": [
    {
     "data": {
      "application/vnd.jupyter.widget-view+json": {
       "model_id": "1c1da9fe76c642349129c92ff459af5e",
       "version_major": 2,
       "version_minor": 0
      },
      "text/plain": [
       "VBox()"
      ]
     },
     "metadata": {},
     "output_type": "display_data"
    },
    {
     "data": {
      "application/vnd.jupyter.widget-view+json": {
       "model_id": "",
       "version_major": 2,
       "version_minor": 0
      },
      "text/plain": [
       "FloatProgress(value=0.0, bar_style='info', description='Progress:', layout=Layout(height='25px', width='50%'),…"
      ]
     },
     "metadata": {},
     "output_type": "display_data"
    }
   ],
   "source": [
    "#Careful not to get CNR for NR\n",
    "#CNR, NR, PM - contains(r.observations, ',NR,')\n",
    "#NR, PM - substring(r.observations, 1, 2) = 'NR'\n",
    "#CNR, PM - DONT WANT\n",
    "\n",
    "query_testing = \"select distinct r.ugc_id,  r.review_headline, r.review_comments, r.review_rating, \\\n",
    "case when (contains(r.observations, ',NR,') or substring(r.observations, 1, 2) = 'NR')  then 1 else 0 end as NR, \\\n",
    "case when contains(r.observations, 'CS') then 1 else 0 end as CS \\\n",
    "from analytics.review as r \\\n",
    "where r.locale in ('en_US','en_GB','en_CA') and contains(r.observations, 'PM') and not contains(r.observations, 'IA') and not contains(r.observations, 'IR') \\\n",
    "and (contains(r.observations, ',NR,') or substring(r.observations, 1, 2) = 'NR') \\\n",
    "and r.created_date > '2020-01-01' \\\n",
    " \""
   ]
  },
  {
   "cell_type": "code",
   "execution_count": 6,
   "metadata": {},
   "outputs": [
    {
     "data": {
      "application/vnd.jupyter.widget-view+json": {
       "model_id": "4509aabb374047f2a9c5ff6e6592422c",
       "version_major": 2,
       "version_minor": 0
      },
      "text/plain": [
       "VBox()"
      ]
     },
     "metadata": {},
     "output_type": "display_data"
    },
    {
     "data": {
      "application/vnd.jupyter.widget-view+json": {
       "model_id": "",
       "version_major": 2,
       "version_minor": 0
      },
      "text/plain": [
       "FloatProgress(value=0.0, bar_style='info', description='Progress:', layout=Layout(height='25px', width='50%'),…"
      ]
     },
     "metadata": {},
     "output_type": "display_data"
    },
    {
     "name": "stdout",
     "output_type": "stream",
     "text": [
      "       UGC_ID                                    REVIEW_HEADLINE  ... NR  CS\n",
      "0   308014468                                 In all my 71 years  ...  1   0\n",
      "1   284211201                                               Yoyo  ...  1   0\n",
      "2   314500594                          9pcs Turquoise Blue Brush  ...  1   0\n",
      "3   284215922                   HOW DO I INFLATE THE RAINBOW????  ...  1   0\n",
      "4   314500543                                           The Zulu  ...  1   0\n",
      "..        ...                                                ...  ... ..  ..\n",
      "95  284284512                                                yes  ...  1   0\n",
      "96  270371951  No I will not buy this item. I want 000980 and...  ...  1   0\n",
      "97  298293918                                             5 Star  ...  1   0\n",
      "98  298298514                                        Undisclosed  ...  1   0\n",
      "99  298342989                                The one that got me  ...  1   0\n",
      "\n",
      "[100 rows x 6 columns]"
     ]
    }
   ],
   "source": [
    "#pd.set_option('display.max_colwidth', -1)\n",
    "#pd.set_option('display.max_columns', None)\n",
    "#pd.set_option('display.max_rows', None)\n",
    "reviews = pd.read_sql(query_testing, conn)\n",
    "reviews.head(100)\n",
    "#reviews.info()\n"
   ]
  },
  {
   "cell_type": "code",
   "execution_count": 7,
   "metadata": {},
   "outputs": [
    {
     "data": {
      "application/vnd.jupyter.widget-view+json": {
       "model_id": "9626dad0de354f7c89feec6716e38623",
       "version_major": 2,
       "version_minor": 0
      },
      "text/plain": [
       "VBox()"
      ]
     },
     "metadata": {},
     "output_type": "display_data"
    },
    {
     "data": {
      "application/vnd.jupyter.widget-view+json": {
       "model_id": "",
       "version_major": 2,
       "version_minor": 0
      },
      "text/plain": [
       "FloatProgress(value=0.0, bar_style='info', description='Progress:', layout=Layout(height='25px', width='50%'),…"
      ]
     },
     "metadata": {},
     "output_type": "display_data"
    },
    {
     "name": "stdout",
     "output_type": "stream",
     "text": [
      "<class 'pandas.core.frame.DataFrame'>\n",
      "RangeIndex: 391785 entries, 0 to 391784\n",
      "Data columns (total 6 columns):\n",
      " #   Column           Non-Null Count   Dtype \n",
      "---  ------           --------------   ----- \n",
      " 0   UGC_ID           391785 non-null  int64 \n",
      " 1   REVIEW_HEADLINE  391785 non-null  object\n",
      " 2   REVIEW_COMMENTS  391540 non-null  object\n",
      " 3   REVIEW_RATING    391785 non-null  int64 \n",
      " 4   NR               391785 non-null  int64 \n",
      " 5   CS               391785 non-null  int64 \n",
      "dtypes: int64(4), object(2)\n",
      "memory usage: 17.9+ MB"
     ]
    }
   ],
   "source": [
    "reviews.info()"
   ]
  },
  {
   "cell_type": "code",
   "execution_count": 8,
   "metadata": {},
   "outputs": [
    {
     "data": {
      "application/vnd.jupyter.widget-view+json": {
       "model_id": "ca7d72c304e740f0a5a21588738834c4",
       "version_major": 2,
       "version_minor": 0
      },
      "text/plain": [
       "VBox()"
      ]
     },
     "metadata": {},
     "output_type": "display_data"
    },
    {
     "data": {
      "application/vnd.jupyter.widget-view+json": {
       "model_id": "",
       "version_major": 2,
       "version_minor": 0
      },
      "text/plain": [
       "FloatProgress(value=0.0, bar_style='info', description='Progress:', layout=Layout(height='25px', width='50%'),…"
      ]
     },
     "metadata": {},
     "output_type": "display_data"
    }
   ],
   "source": [
    "query_testing_2 = \"select distinct r.ugc_id,  r.review_headline, r.review_comments, r.review_rating, \\\n",
    "case when (contains(r.observations, ',NR,') or substring(r.observations, 1, 2) = 'NR')  then 1 else 0 end as NR, \\\n",
    "case when contains(r.observations, 'CS') then 1 else 0 end as CS \\\n",
    "from analytics.review as r \\\n",
    "where r.locale in ('en_US','en_GB','en_CA') and contains(r.observations, 'PM') and not contains(r.observations, 'IA') and not contains(r.observations, 'IR') \\\n",
    "and not contains(r.observations, ',NR,') and substring(r.observations, 1, 2) != 'NR' \\\n",
    "and r.created_date > '2020-01-01' \\\n",
    " \""
   ]
  },
  {
   "cell_type": "code",
   "execution_count": 9,
   "metadata": {},
   "outputs": [
    {
     "data": {
      "application/vnd.jupyter.widget-view+json": {
       "model_id": "034e35eed1dd45cc889023203c70ce7f",
       "version_major": 2,
       "version_minor": 0
      },
      "text/plain": [
       "VBox()"
      ]
     },
     "metadata": {},
     "output_type": "display_data"
    },
    {
     "data": {
      "application/vnd.jupyter.widget-view+json": {
       "model_id": "",
       "version_major": 2,
       "version_minor": 0
      },
      "text/plain": [
       "FloatProgress(value=0.0, bar_style='info', description='Progress:', layout=Layout(height='25px', width='50%'),…"
      ]
     },
     "metadata": {},
     "output_type": "display_data"
    },
    {
     "name": "stdout",
     "output_type": "stream",
     "text": [
      "<class 'pandas.core.frame.DataFrame'>\n",
      "RangeIndex: 7893123 entries, 0 to 7893122\n",
      "Data columns (total 6 columns):\n",
      " #   Column           Dtype \n",
      "---  ------           ----- \n",
      " 0   UGC_ID           int64 \n",
      " 1   REVIEW_HEADLINE  object\n",
      " 2   REVIEW_COMMENTS  object\n",
      " 3   REVIEW_RATING    int64 \n",
      " 4   NR               int64 \n",
      " 5   CS               int64 \n",
      "dtypes: int64(4), object(2)\n",
      "memory usage: 361.3+ MB"
     ]
    }
   ],
   "source": [
    "reviews_2 = pd.read_sql(query_testing_2, conn)\n",
    "reviews_2.head(100)\n",
    "reviews_2.info()"
   ]
  },
  {
   "cell_type": "code",
   "execution_count": 10,
   "metadata": {},
   "outputs": [
    {
     "data": {
      "application/vnd.jupyter.widget-view+json": {
       "model_id": "68f968e8812b4f93acd243b5c2ea9fb7",
       "version_major": 2,
       "version_minor": 0
      },
      "text/plain": [
       "VBox()"
      ]
     },
     "metadata": {},
     "output_type": "display_data"
    },
    {
     "data": {
      "application/vnd.jupyter.widget-view+json": {
       "model_id": "",
       "version_major": 2,
       "version_minor": 0
      },
      "text/plain": [
       "FloatProgress(value=0.0, bar_style='info', description='Progress:', layout=Layout(height='25px', width='50%'),…"
      ]
     },
     "metadata": {},
     "output_type": "display_data"
    }
   ],
   "source": [
    "#Using limit 500000 is not random, pull in all w/ no labels and then take random sample from there\n",
    "from random import sample \n",
    "reviews_2 = reviews_2.sample(n=390653, random_state=1)"
   ]
  },
  {
   "cell_type": "code",
   "execution_count": null,
   "metadata": {},
   "outputs": [],
   "source": []
  },
  {
   "cell_type": "code",
   "execution_count": 11,
   "metadata": {},
   "outputs": [
    {
     "data": {
      "application/vnd.jupyter.widget-view+json": {
       "model_id": "74f925f2303343a69b247a0d86ad282d",
       "version_major": 2,
       "version_minor": 0
      },
      "text/plain": [
       "VBox()"
      ]
     },
     "metadata": {},
     "output_type": "display_data"
    },
    {
     "data": {
      "application/vnd.jupyter.widget-view+json": {
       "model_id": "",
       "version_major": 2,
       "version_minor": 0
      },
      "text/plain": [
       "FloatProgress(value=0.0, bar_style='info', description='Progress:', layout=Layout(height='25px', width='50%'),…"
      ]
     },
     "metadata": {},
     "output_type": "display_data"
    },
    {
     "name": "stdout",
     "output_type": "stream",
     "text": [
      "0"
     ]
    }
   ],
   "source": [
    "reviews_2['NR'].sum(axis=0)\n",
    "#reviews_2[reviews_2['NR']==1]"
   ]
  },
  {
   "cell_type": "code",
   "execution_count": 12,
   "metadata": {},
   "outputs": [
    {
     "data": {
      "application/vnd.jupyter.widget-view+json": {
       "model_id": "3e0c8b27929045a8bc5ecfc21eadeb5a",
       "version_major": 2,
       "version_minor": 0
      },
      "text/plain": [
       "VBox()"
      ]
     },
     "metadata": {},
     "output_type": "display_data"
    },
    {
     "data": {
      "application/vnd.jupyter.widget-view+json": {
       "model_id": "",
       "version_major": 2,
       "version_minor": 0
      },
      "text/plain": [
       "FloatProgress(value=0.0, bar_style='info', description='Progress:', layout=Layout(height='25px', width='50%'),…"
      ]
     },
     "metadata": {},
     "output_type": "display_data"
    },
    {
     "name": "stdout",
     "output_type": "stream",
     "text": [
      "            UGC_ID                             REVIEW_HEADLINE  ... NR  CS\n",
      "0        308014468                          In all my 71 years  ...  1   0\n",
      "1        284211201                                        Yoyo  ...  1   0\n",
      "2        314500594                   9pcs Turquoise Blue Brush  ...  1   0\n",
      "3        284215922            HOW DO I INFLATE THE RAINBOW????  ...  1   0\n",
      "4        314500543                                    The Zulu  ...  1   0\n",
      "...            ...                                         ...  ... ..  ..\n",
      "3070080  283770501  Italian Sausage and Turkey Pepperoni Pizza  ...  0   0\n",
      "1793287  264826569               Great place to leave your car  ...  0   0\n",
      "5297535  283387867                  Not big deal for the price  ...  0   0\n",
      "2243079  268250510                                 Great value  ...  0   0\n",
      "3541846  318431620                   This is a great work shoe  ...  0   0\n",
      "\n",
      "[782438 rows x 6 columns]"
     ]
    }
   ],
   "source": [
    "reviews = pd.concat([reviews, reviews_2], axis=0)\n",
    "reviews"
   ]
  },
  {
   "cell_type": "code",
   "execution_count": 13,
   "metadata": {},
   "outputs": [
    {
     "data": {
      "application/vnd.jupyter.widget-view+json": {
       "model_id": "7eafd48372184b38a08850d63c7a59c8",
       "version_major": 2,
       "version_minor": 0
      },
      "text/plain": [
       "VBox()"
      ]
     },
     "metadata": {},
     "output_type": "display_data"
    },
    {
     "data": {
      "application/vnd.jupyter.widget-view+json": {
       "model_id": "",
       "version_major": 2,
       "version_minor": 0
      },
      "text/plain": [
       "FloatProgress(value=0.0, bar_style='info', description='Progress:', layout=Layout(height='25px', width='50%'),…"
      ]
     },
     "metadata": {},
     "output_type": "display_data"
    },
    {
     "name": "stdout",
     "output_type": "stream",
     "text": [
      "391785"
     ]
    }
   ],
   "source": [
    "reviews['NR'].sum(axis=0)"
   ]
  },
  {
   "cell_type": "code",
   "execution_count": 14,
   "metadata": {},
   "outputs": [
    {
     "data": {
      "application/vnd.jupyter.widget-view+json": {
       "model_id": "6ab37bd2a1004a06ae2d8e2c8e11271d",
       "version_major": 2,
       "version_minor": 0
      },
      "text/plain": [
       "VBox()"
      ]
     },
     "metadata": {},
     "output_type": "display_data"
    },
    {
     "data": {
      "application/vnd.jupyter.widget-view+json": {
       "model_id": "",
       "version_major": 2,
       "version_minor": 0
      },
      "text/plain": [
       "FloatProgress(value=0.0, bar_style='info', description='Progress:', layout=Layout(height='25px', width='50%'),…"
      ]
     },
     "metadata": {},
     "output_type": "display_data"
    },
    {
     "name": "stdout",
     "output_type": "stream",
     "text": [
      "<class 'pandas.core.frame.DataFrame'>\n",
      "Int64Index: 782438 entries, 0 to 3541846\n",
      "Data columns (total 6 columns):\n",
      " #   Column           Non-Null Count   Dtype \n",
      "---  ------           --------------   ----- \n",
      " 0   UGC_ID           782438 non-null  int64 \n",
      " 1   REVIEW_HEADLINE  782438 non-null  object\n",
      " 2   REVIEW_COMMENTS  782159 non-null  object\n",
      " 3   REVIEW_RATING    782438 non-null  int64 \n",
      " 4   NR               782438 non-null  int64 \n",
      " 5   CS               782438 non-null  int64 \n",
      "dtypes: int64(4), object(2)\n",
      "memory usage: 41.8+ MB"
     ]
    }
   ],
   "source": [
    "reviews.info()"
   ]
  },
  {
   "cell_type": "code",
   "execution_count": 71,
   "metadata": {},
   "outputs": [
    {
     "data": {
      "application/vnd.jupyter.widget-view+json": {
       "model_id": "e112ae4c72564684b2f82c0d537938b6",
       "version_major": 2,
       "version_minor": 0
      },
      "text/plain": [
       "VBox()"
      ]
     },
     "metadata": {},
     "output_type": "display_data"
    },
    {
     "data": {
      "application/vnd.jupyter.widget-view+json": {
       "model_id": "",
       "version_major": 2,
       "version_minor": 0
      },
      "text/plain": [
       "FloatProgress(value=0.0, bar_style='info', description='Progress:', layout=Layout(height='25px', width='50%'),…"
      ]
     },
     "metadata": {},
     "output_type": "display_data"
    },
    {
     "name": "stdout",
     "output_type": "stream",
     "text": [
      "       UGC_ID                                               REVIEW_HEADLINE  \\\n",
      "0   308014468  In all my 71 years                                             \n",
      "1   284211201  Yoyo                                                           \n",
      "2   314500594  9pcs Turquoise Blue Brush                                      \n",
      "3   284215922  HOW DO I INFLATE THE RAINBOW????                               \n",
      "4   314500543  The Zulu                                                       \n",
      "..        ...       ...                                                       \n",
      "95  284284512  yes                                                            \n",
      "96  270371951  No I will not buy this item. I want 000980 and I will not ac   \n",
      "97  298293918  5 Star                                                         \n",
      "98  298298514  Undisclosed                                                    \n",
      "99  298342989  The one that got me                                            \n",
      "\n",
      "                                                                                                                                                                                                                    REVIEW_COMMENTS  \\\n",
      "0   In all my 71 years I have never experienced such a wonderfully smelling and easy to use face cleanser. Just massage in and rinse off (I use a Muslim cloth) and you are left with a clear and soft complexion. Heaven in a jar!   \n",
      "1   Yoyo                                                                                                                                                                                                                              \n",
      "2   9pcs Turquoise Blue Brush Set                                                                                                                                                                                                     \n",
      "3   HOW DO I INFLATE THE RAINBOW????                                                                                                                                                                                                  \n",
      "4   The Zulu                                                                                                                                                                                                                          \n",
      "..       ...                                                                                                                                                                                                                          \n",
      "95  no complaints                                                                                                                                                                                                                     \n",
      "96  Why no steel toe, and why not in black???                                                                                                                                                                                         \n",
      "97  Damage from falling tree limb to our car. Car was parked and in our driveway. High winds caused a limb to fall and it our car doing body damage.                                                                                  \n",
      "98  No comments available                                                                                                                                                                                                             \n",
      "99  This was my first lush purchase and kept me coming back to try more. And more. And now there's no turning back as I've loved everything I got but please, please don't ever let this one leave us.                                \n",
      "\n",
      "    REVIEW_RATING  NR  CS  \\\n",
      "0   5              1   0    \n",
      "1   5              1   0    \n",
      "2   5              1   0    \n",
      "3   1              1   0    \n",
      "4   5              1   0    \n",
      ".. ..             ..  ..    \n",
      "95  5              1   0    \n",
      "96  1              1   0    \n",
      "97  5              1   0    \n",
      "98  5              1   0    \n",
      "99  5              1   0    \n",
      "\n",
      "                                                                                                                                                                                                                                              ALL_TEXT  \n",
      "0   In all my 71 years In all my 71 years I have never experienced such a wonderfully smelling and easy to use face cleanser. Just massage in and rinse off (I use a Muslim cloth) and you are left with a clear and soft complexion. Heaven in a jar!  \n",
      "1   Yoyo Yoyo                                                                                                                                                                                                                                           \n",
      "2   9pcs Turquoise Blue Brush 9pcs Turquoise Blue Brush Set                                                                                                                                                                                             \n",
      "3   HOW DO I INFLATE THE RAINBOW???? HOW DO I INFLATE THE RAINBOW????                                                                                                                                                                                   \n",
      "4   The Zulu The Zulu                                                                                                                                                                                                                                   \n",
      "..                ...                                                                                                                                                                                                                                   \n",
      "95  yes no complaints                                                                                                                                                                                                                                   \n",
      "96  No I will not buy this item. I want 000980 and I will not ac Why no steel toe, and why not in black???                                                                                                                                              \n",
      "97  5 Star Damage from falling tree limb to our car. Car was parked and in our driveway. High winds caused a limb to fall and it our car doing body damage.                                                                                             \n",
      "98  Undisclosed No comments available                                                                                                                                                                                                                   \n",
      "99  The one that got me This was my first lush purchase and kept me coming back to try more. And more. And now there's no turning back as I've loved everything I got but please, please don't ever let this one leave us.                              \n",
      "\n",
      "[100 rows x 7 columns]\n",
      "<string>:5: FutureWarning: Passing a negative integer is deprecated in version 1.0 and will not be supported in future version. Instead, use None to not limit the column width."
     ]
    }
   ],
   "source": [
    "#reviews['ALL_TEXT'] = 'headline ' + reviews['REVIEW_HEADLINE'] + ' comment ' + reviews['REVIEW_COMMENTS'] + \\\n",
    "#        ' nickname ' + reviews['REVIEWER_NICKNAME'] + ' location ' + reviews['REVIEWER_LOCATION']\n",
    "reviews['ALL_TEXT'] =  reviews['REVIEW_HEADLINE']  + ' ' + reviews['REVIEW_COMMENTS']\n",
    "#Use set_option so text doesn't truncate\n",
    "pd.set_option('display.max_colwidth', -1)\n",
    "pd.set_option('display.max_columns', None)\n",
    "reviews.head(100)\n",
    "\n",
    "#reviews.dtypes"
   ]
  },
  {
   "cell_type": "code",
   "execution_count": 72,
   "metadata": {},
   "outputs": [
    {
     "data": {
      "application/vnd.jupyter.widget-view+json": {
       "model_id": "d5d7a5659489468b974f1131254d3795",
       "version_major": 2,
       "version_minor": 0
      },
      "text/plain": [
       "VBox()"
      ]
     },
     "metadata": {},
     "output_type": "display_data"
    },
    {
     "data": {
      "application/vnd.jupyter.widget-view+json": {
       "model_id": "",
       "version_major": 2,
       "version_minor": 0
      },
      "text/plain": [
       "FloatProgress(value=0.0, bar_style='info', description='Progress:', layout=Layout(height='25px', width='50%'),…"
      ]
     },
     "metadata": {},
     "output_type": "display_data"
    },
    {
     "name": "stdout",
     "output_type": "stream",
     "text": [
      "<class 'pandas.core.frame.DataFrame'>\n",
      "Int64Index: 782438 entries, 0 to 3541846\n",
      "Data columns (total 7 columns):\n",
      " #   Column           Non-Null Count   Dtype \n",
      "---  ------           --------------   ----- \n",
      " 0   UGC_ID           782438 non-null  int64 \n",
      " 1   REVIEW_HEADLINE  782438 non-null  object\n",
      " 2   REVIEW_COMMENTS  782159 non-null  object\n",
      " 3   REVIEW_RATING    782438 non-null  int64 \n",
      " 4   NR               782438 non-null  int64 \n",
      " 5   CS               782438 non-null  int64 \n",
      " 6   ALL_TEXT         782159 non-null  object\n",
      "dtypes: int64(4), object(3)\n",
      "memory usage: 47.8+ MB"
     ]
    }
   ],
   "source": [
    "reviews.info()"
   ]
  },
  {
   "cell_type": "code",
   "execution_count": 73,
   "metadata": {},
   "outputs": [
    {
     "data": {
      "application/vnd.jupyter.widget-view+json": {
       "model_id": "0577cdc2f5654d37bb8fe357ca0fd139",
       "version_major": 2,
       "version_minor": 0
      },
      "text/plain": [
       "VBox()"
      ]
     },
     "metadata": {},
     "output_type": "display_data"
    },
    {
     "data": {
      "application/vnd.jupyter.widget-view+json": {
       "model_id": "",
       "version_major": 2,
       "version_minor": 0
      },
      "text/plain": [
       "FloatProgress(value=0.0, bar_style='info', description='Progress:', layout=Layout(height='25px', width='50%'),…"
      ]
     },
     "metadata": {},
     "output_type": "display_data"
    },
    {
     "name": "stdout",
     "output_type": "stream",
     "text": [
      "            UGC_ID                             REVIEW_HEADLINE  \\\n",
      "0        308014468  In all my 71 years                           \n",
      "1        284211201  Yoyo                                         \n",
      "2        314500594  9pcs Turquoise Blue Brush                    \n",
      "3        284215922  HOW DO I INFLATE THE RAINBOW????             \n",
      "4        314500543  The Zulu                                     \n",
      "...            ...       ...                                     \n",
      "3070080  283770501  Italian Sausage and Turkey Pepperoni Pizza   \n",
      "1793287  264826569  Great place to leave your car                \n",
      "5297535  283387867  Not big deal for the price                   \n",
      "2243079  268250510  Great value                                  \n",
      "3541846  318431620  This is a great work shoe                    \n",
      "\n",
      "                                                                                                                                                                                                                                                                                                                                                                                                                                                                                                                                                                                                                                                                                                                                                                                                                                                                                                                                                                                                                                                                                                                                                                                                                                                                                                                                                                                                                           REVIEW_COMMENTS  \\\n",
      "0        In all my 71 years I have never experienced such a wonderfully smelling and easy to use face cleanser. Just massage in and rinse off (I use a Muslim cloth) and you are left with a clear and soft complexion. Heaven in a jar!                                                                                                                                                                                                                                                                                                                                                                                                                                                                                                                                                                                                                                                                                                                                                                                                                                                                                                                                                                                                                                                                                                                                                                                                     \n",
      "1        Yoyo                                                                                                                                                                                                                                                                                                                                                                                                                                                                                                                                                                                                                                                                                                                                                                                                                                                                                                                                                                                                                                                                                                                                                                                                                                                                                                                                                                                                                                \n",
      "2        9pcs Turquoise Blue Brush Set                                                                                                                                                                                                                                                                                                                                                                                                                                                                                                                                                                                                                                                                                                                                                                                                                                                                                                                                                                                                                                                                                                                                                                                                                                                                                                                                                                                                       \n",
      "3        HOW DO I INFLATE THE RAINBOW????                                                                                                                                                                                                                                                                                                                                                                                                                                                                                                                                                                                                                                                                                                                                                                                                                                                                                                                                                                                                                                                                                                                                                                                                                                                                                                                                                                                                    \n",
      "4        The Zulu                                                                                                                                                                                                                                                                                                                                                                                                                                                                                                                                                                                                                                                                                                                                                                                                                                                                                                                                                                                                                                                                                                                                                                                                                                                                                                                                                                                                                            \n",
      "...           ...                                                                                                                                                                                                                                                                                                                                                                                                                                                                                                                                                                                                                                                                                                                                                                                                                                                                                                                                                                                                                                                                                                                                                                                                                                                                                                                                                                                                                            \n",
      "3070080  Okay for a pizza but not a huge fan                                                                                                                                                                                                                                                                                                                                                                                                                                                                                                                                                                                                                                                                                                                                                                                                                                                                                                                                                                                                                                                                                                                                                                                                                                                                                                                                                                                                 \n",
      "1793287  I leave my car here all the time without any issues and car is safe.                                                                                                                                                                                                                                                                                                                                                                                                                                                                                                                                                                                                                                                                                                                                                                                                                                                                                                                                                                                                                                                                                                                                                                                                                                                                                                                                                                \n",
      "5297535  So tiny for the price and doesn't do much I love Sunday Riley but I'm not happy with this good gene product                                                                                                                                                                                                                                                                                                                                                                                                                                                                                                                                                                                                                                                                                                                                                                                                                                                                                                                                                                                                                                                                                                                                                                                                                                                                                                                         \n",
      "2243079  I graduated in 2005 and had a great experience at LeMoyne socially, academically, and spiritually. The quality of the education aligns itself with the rigor of the Jesuit legacy and their contribution to maintaining extremely high standards in the pursuit of learning and truth. The school has a vibrant community of students and adjunct faculty that come to LeMoyne from other top ranked schools to complete their doctorate degrees. The facilities are excellent and modern for a 21st learning experience incorporating the latest technologies to enhance the overall student experience. I was fortunate to represent LeMoyne in the Syracuse University ROTC program and garnered a diverse learning experience with this partnership. The opportunities I had a LeMoyne prepared me as a US Army officer and now at JPMorgan. I would highly recommend this school to individuals who are driven and want to be challenged in every dimension of their lives including spiritually. The finance, economics, and business administration programs allowed me to curate a path specific to my interests and flexible enough for me to gain 2 minors while pursing my major in business. The city has a lot to offer and the surrounding area has Scaneateles Lake, Skiing at Greek Peak, and access to Ithaca/Cortland for a diverse college experience. LeMoyne is a great school and has an amazing tradition.   \n",
      "3541846  This shoe is great for food industry workplaces. I get this shoe every 6 months and it works well on hard concrete floors.                                                                                                                                                                                                                                                                                                                                                                                                                                                                                                                                                                                                                                                                                                                                                                                                                                                                                                                                                                                                                                                                                                                                                                                                                                                                                                          \n",
      "\n",
      "         REVIEW_RATING  CS  \\\n",
      "0        5              0    \n",
      "1        5              0    \n",
      "2        5              0    \n",
      "3        1              0    \n",
      "4        5              0    \n",
      "...     ..             ..    \n",
      "3070080  4              0    \n",
      "1793287  5              0    \n",
      "5297535  3              0    \n",
      "2243079  5              0    \n",
      "3541846  5              0    \n",
      "\n",
      "                                                                                                                                                                                                                                                                                                                                                                                                                                                                                                                                                                                                                                                                                                                                                                                                                                                                                                                                                                                                                                                                                                                                                                                                                                                                                                                                                                                                                                              ALL_TEXT  \n",
      "0        In all my 71 years In all my 71 years I have never experienced such a wonderfully smelling and easy to use face cleanser. Just massage in and rinse off (I use a Muslim cloth) and you are left with a clear and soft complexion. Heaven in a jar!                                                                                                                                                                                                                                                                                                                                                                                                                                                                                                                                                                                                                                                                                                                                                                                                                                                                                                                                                                                                                                                                                                                                                                                             \n",
      "1        Yoyo Yoyo                                                                                                                                                                                                                                                                                                                                                                                                                                                                                                                                                                                                                                                                                                                                                                                                                                                                                                                                                                                                                                                                                                                                                                                                                                                                                                                                                                                                                                      \n",
      "2        9pcs Turquoise Blue Brush 9pcs Turquoise Blue Brush Set                                                                                                                                                                                                                                                                                                                                                                                                                                                                                                                                                                                                                                                                                                                                                                                                                                                                                                                                                                                                                                                                                                                                                                                                                                                                                                                                                                                        \n",
      "3        HOW DO I INFLATE THE RAINBOW???? HOW DO I INFLATE THE RAINBOW????                                                                                                                                                                                                                                                                                                                                                                                                                                                                                                                                                                                                                                                                                                                                                                                                                                                                                                                                                                                                                                                                                                                                                                                                                                                                                                                                                                              \n",
      "4        The Zulu The Zulu                                                                                                                                                                                                                                                                                                                                                                                                                                                                                                                                                                                                                                                                                                                                                                                                                                                                                                                                                                                                                                                                                                                                                                                                                                                                                                                                                                                                                              \n",
      "...                    ...                                                                                                                                                                                                                                                                                                                                                                                                                                                                                                                                                                                                                                                                                                                                                                                                                                                                                                                                                                                                                                                                                                                                                                                                                                                                                                                                                                                                                              \n",
      "3070080  Italian Sausage and Turkey Pepperoni Pizza Okay for a pizza but not a huge fan                                                                                                                                                                                                                                                                                                                                                                                                                                                                                                                                                                                                                                                                                                                                                                                                                                                                                                                                                                                                                                                                                                                                                                                                                                                                                                                                                                 \n",
      "1793287  Great place to leave your car I leave my car here all the time without any issues and car is safe.                                                                                                                                                                                                                                                                                                                                                                                                                                                                                                                                                                                                                                                                                                                                                                                                                                                                                                                                                                                                                                                                                                                                                                                                                                                                                                                                             \n",
      "5297535  Not big deal for the price So tiny for the price and doesn't do much I love Sunday Riley but I'm not happy with this good gene product                                                                                                                                                                                                                                                                                                                                                                                                                                                                                                                                                                                                                                                                                                                                                                                                                                                                                                                                                                                                                                                                                                                                                                                                                                                                                                         \n",
      "2243079  Great value I graduated in 2005 and had a great experience at LeMoyne socially, academically, and spiritually. The quality of the education aligns itself with the rigor of the Jesuit legacy and their contribution to maintaining extremely high standards in the pursuit of learning and truth. The school has a vibrant community of students and adjunct faculty that come to LeMoyne from other top ranked schools to complete their doctorate degrees. The facilities are excellent and modern for a 21st learning experience incorporating the latest technologies to enhance the overall student experience. I was fortunate to represent LeMoyne in the Syracuse University ROTC program and garnered a diverse learning experience with this partnership. The opportunities I had a LeMoyne prepared me as a US Army officer and now at JPMorgan. I would highly recommend this school to individuals who are driven and want to be challenged in every dimension of their lives including spiritually. The finance, economics, and business administration programs allowed me to curate a path specific to my interests and flexible enough for me to gain 2 minors while pursing my major in business. The city has a lot to offer and the surrounding area has Scaneateles Lake, Skiing at Greek Peak, and access to Ithaca/Cortland for a diverse college experience. LeMoyne is a great school and has an amazing tradition.  \n",
      "3541846  This is a great work shoe This shoe is great for food industry workplaces. I get this shoe every 6 months and it works well on hard concrete floors.                                                                                                                                                                                                                                                                                                                                                                                                                                                                                                                                                                                                                                                                                                                                                                                                                                                                                                                                                                                                                                                                                                                                                                                                                                                                                           \n",
      "\n",
      "[782438 rows x 6 columns]"
     ]
    }
   ],
   "source": [
    "#X = reviews[['ALL_TEXT','REVIEW_RATING']]\n",
    "#df.loc[:, df.columns != 'b']\n",
    "X = reviews.loc[:, reviews.columns != 'NR']\n",
    "X"
   ]
  },
  {
   "cell_type": "code",
   "execution_count": 74,
   "metadata": {},
   "outputs": [
    {
     "data": {
      "application/vnd.jupyter.widget-view+json": {
       "model_id": "09037321184b42dbb3f4e72b7a314a1d",
       "version_major": 2,
       "version_minor": 0
      },
      "text/plain": [
       "VBox()"
      ]
     },
     "metadata": {},
     "output_type": "display_data"
    },
    {
     "data": {
      "application/vnd.jupyter.widget-view+json": {
       "model_id": "",
       "version_major": 2,
       "version_minor": 0
      },
      "text/plain": [
       "FloatProgress(value=0.0, bar_style='info', description='Progress:', layout=Layout(height='25px', width='50%'),…"
      ]
     },
     "metadata": {},
     "output_type": "display_data"
    },
    {
     "name": "stdout",
     "output_type": "stream",
     "text": [
      "         NR\n",
      "0        1 \n",
      "1        1 \n",
      "2        1 \n",
      "3        1 \n",
      "4        1 \n",
      "...     .. \n",
      "3070080  0 \n",
      "1793287  0 \n",
      "5297535  0 \n",
      "2243079  0 \n",
      "3541846  0 \n",
      "\n",
      "[782438 rows x 1 columns]"
     ]
    }
   ],
   "source": [
    "#y = reviews[['NR','PII','PR','CS','DC','CR','FRD','TST','CC','SC','PIM','LC','WEB','FL','SA','URL','CV','US','NOLABEL']]\n",
    "#y = reviews[['NR','PII','PR','CS','DC','CR','FRD','TST','CC','SC','PIM','LC','WEB','FL','SA','URL','CV','US']]\n",
    "y = reviews[['NR']]\n",
    "y"
   ]
  },
  {
   "cell_type": "code",
   "execution_count": 75,
   "metadata": {},
   "outputs": [
    {
     "data": {
      "application/vnd.jupyter.widget-view+json": {
       "model_id": "ea9cb6601ad749068da33f06a6c9c954",
       "version_major": 2,
       "version_minor": 0
      },
      "text/plain": [
       "VBox()"
      ]
     },
     "metadata": {},
     "output_type": "display_data"
    },
    {
     "data": {
      "application/vnd.jupyter.widget-view+json": {
       "model_id": "",
       "version_major": 2,
       "version_minor": 0
      },
      "text/plain": [
       "FloatProgress(value=0.0, bar_style='info', description='Progress:', layout=Layout(height='25px', width='50%'),…"
      ]
     },
     "metadata": {},
     "output_type": "display_data"
    },
    {
     "name": "stdout",
     "output_type": "stream",
     "text": [
      "NR    391785\n",
      "dtype: int64"
     ]
    }
   ],
   "source": [
    "y.sum(axis=0)"
   ]
  },
  {
   "cell_type": "code",
   "execution_count": null,
   "metadata": {},
   "outputs": [],
   "source": []
  },
  {
   "cell_type": "code",
   "execution_count": 76,
   "metadata": {},
   "outputs": [
    {
     "data": {
      "application/vnd.jupyter.widget-view+json": {
       "model_id": "8b11843f4ae043eba5fb40027efe7f61",
       "version_major": 2,
       "version_minor": 0
      },
      "text/plain": [
       "VBox()"
      ]
     },
     "metadata": {},
     "output_type": "display_data"
    },
    {
     "data": {
      "application/vnd.jupyter.widget-view+json": {
       "model_id": "",
       "version_major": 2,
       "version_minor": 0
      },
      "text/plain": [
       "FloatProgress(value=0.0, bar_style='info', description='Progress:', layout=Layout(height='25px', width='50%'),…"
      ]
     },
     "metadata": {},
     "output_type": "display_data"
    }
   ],
   "source": [
    "#test_size is what % of data goes to test set vs training\n",
    "#random_state - use so that when comparing models - same data is always going to test and train sets\n",
    "xtrain, xtest, ytrain, ytest = train_test_split(X, y, test_size=0.2, random_state=9, stratify = y)"
   ]
  },
  {
   "cell_type": "code",
   "execution_count": 77,
   "metadata": {},
   "outputs": [
    {
     "data": {
      "application/vnd.jupyter.widget-view+json": {
       "model_id": "0312da5a0d214688bcd8941bbab52031",
       "version_major": 2,
       "version_minor": 0
      },
      "text/plain": [
       "VBox()"
      ]
     },
     "metadata": {},
     "output_type": "display_data"
    },
    {
     "data": {
      "application/vnd.jupyter.widget-view+json": {
       "model_id": "",
       "version_major": 2,
       "version_minor": 0
      },
      "text/plain": [
       "FloatProgress(value=0.0, bar_style='info', description='Progress:', layout=Layout(height='25px', width='50%'),…"
      ]
     },
     "metadata": {},
     "output_type": "display_data"
    },
    {
     "name": "stdout",
     "output_type": "stream",
     "text": [
      "            UGC_ID                   REVIEW_HEADLINE  \\\n",
      "964787   315252527  So far, so good.                   \n",
      "515173   282755301  This top's material looks cheap.   \n",
      "372554   264564259  product never arrived              \n",
      "2605943  298659846  Runs big                           \n",
      "377780   273046966  Shipping is ridiculously slow      \n",
      "...            ...                            ...      \n",
      "205810   297164801  None                               \n",
      "523040   318595859  NICE AND EASY                      \n",
      "456510   326909036  It's soft and comfortable          \n",
      "168429   274145338  Split bag upon delivery            \n",
      "3142998  318062077  Size runs large.                   \n",
      "\n",
      "                                                                                                                                                                                                                                                                                                                                                                                                                                                                                                                                                                                                                                                                                                                                                                                                                                                                                                                                                                                                REVIEW_COMMENTS  \\\n",
      "964787   So far, so good.                                                                                                                                                                                                                                                                                                                                                                                                                                                                                                                                                                                                                                                                                                                                                                                                                                                                                                                                                                                         \n",
      "515173   The blouse disappointed me because of the cheap material. The shipping charges are too high. I will return this item.                                                                                                                                                                                                                                                                                                                                                                                                                                                                                                                                                                                                                                                                                                                                                                                                                                                                                    \n",
      "372554   Customer Service is horrible. I have reached out three different times to inquire about my lost order, but never rec'd any reply.\\nUPS has also informed you that the entire order was lost.                                                                                                                                                                                                                                                                                                                                                                                                                                                                                                                                                                                                                                                                                                                                                                                                             \n",
      "2605943  I've worn a size 8 women's since I was a teen (over 30 years). I ordered an 8 and they're way too big. Like flopping off my feet big. Most reviews said they run true to size so maybe my shoes were labeled wrong. All I know is the closest finish line to me is closed until further notice so now I have to mail these shoes back and wait for a refund before I can buy a pair that actually fit :(                                                                                                                                                                                                                                                                                                                                                                                                                                                                                                                                                                                                 \n",
      "377780   I ordered this on April 8, 2020, as of today, April 21,2020, it hasn't even shipped!!!!                                                                                                                                                                                                                                                                                                                                                                                                                                                                                                                                                                                                                                                                                                                                                                                                                                                                                                                  \n",
      "...                                                                                          ...                                                                                                                                                                                                                                                                                                                                                                                                                                                                                                                                                                                                                                                                                                                                                                                                                                                                                                                  \n",
      "205810   None                                                                                                                                                                                                                                                                                                                                                                                                                                                                                                                                                                                                                                                                                                                                                                                                                                                                                                                                                                                                     \n",
      "523040   NICE AND EASY                                                                                                                                                                                                                                                                                                                                                                                                                                                                                                                                                                                                                                                                                                                                                                                                                                                                                                                                                                                            \n",
      "456510   Husband loves it. He says it's comfortable                                                                                                                                                                                                                                                                                                                                                                                                                                                                                                                                                                                                                                                                                                                                                                                                                                                                                                                                                               \n",
      "168429   Product arrived split - bag ripped -                                                                                                                                                                                                                                                                                                                                                                                                                                                                                                                                                                                                                                                                                                                                                                                                                                                                                                                                                                     \n",
      "3142998  I like the look of the jacket. It runs large. I usually wear a large and this is sized at least to a 1XL.  The pockets are useless.  What appears to be snaps are buttons with very tight button holes on the flaps.  For the life of me I can't imagine why they would put 2 BUTTONS on all of the pockets.  Fake snaps with velcro would have been an improvement.  To get the pockets open I'd have to take the jacket off and use both hands to work the buttons loose.    I am perplexed as to why this method was used because the storm flap has snaps that match these foolish buttons.   I bought this for the pockets to stow some essential gear when I take my quad out.   It's not going to work for that.  So this is just another casual jacket to throw on to go to the store or take the dog out.   This company just cannot get things right.  I have a parka from them that's like a sleeping bag and has no adjustment cord at the waist, so the cold goes right through the coat.   \n",
      "\n",
      "         REVIEW_RATING  CS  \\\n",
      "964787   5              0    \n",
      "515173   3              0    \n",
      "372554   1              0    \n",
      "2605943  3              0    \n",
      "377780   1              0    \n",
      "...     ..             ..    \n",
      "205810   5              0    \n",
      "523040   5              0    \n",
      "456510   5              0    \n",
      "168429   1              0    \n",
      "3142998  2              0    \n",
      "\n",
      "                                                                                                                                                                                                                                                                                                                                                                                                                                                                                                                                                                                                                                                                                                                                                                                                                                                                                                                                                                                                                        ALL_TEXT  \n",
      "964787   So far, so good. So far, so good.                                                                                                                                                                                                                                                                                                                                                                                                                                                                                                                                                                                                                                                                                                                                                                                                                                                                                                                                                                                        \n",
      "515173   This top's material looks cheap. The blouse disappointed me because of the cheap material. The shipping charges are too high. I will return this item.                                                                                                                                                                                                                                                                                                                                                                                                                                                                                                                                                                                                                                                                                                                                                                                                                                                                   \n",
      "372554   product never arrived Customer Service is horrible. I have reached out three different times to inquire about my lost order, but never rec'd any reply.\\nUPS has also informed you that the entire order was lost.                                                                                                                                                                                                                                                                                                                                                                                                                                                                                                                                                                                                                                                                                                                                                                                                       \n",
      "2605943  Runs big I've worn a size 8 women's since I was a teen (over 30 years). I ordered an 8 and they're way too big. Like flopping off my feet big. Most reviews said they run true to size so maybe my shoes were labeled wrong. All I know is the closest finish line to me is closed until further notice so now I have to mail these shoes back and wait for a refund before I can buy a pair that actually fit :(                                                                                                                                                                                                                                                                                                                                                                                                                                                                                                                                                                                                        \n",
      "377780   Shipping is ridiculously slow I ordered this on April 8, 2020, as of today, April 21,2020, it hasn't even shipped!!!!                                                                                                                                                                                                                                                                                                                                                                                                                                                                                                                                                                                                                                                                                                                                                                                                                                                                                                    \n",
      "...                                                                                                                        ...                                                                                                                                                                                                                                                                                                                                                                                                                                                                                                                                                                                                                                                                                                                                                                                                                                                                                                    \n",
      "205810   None None                                                                                                                                                                                                                                                                                                                                                                                                                                                                                                                                                                                                                                                                                                                                                                                                                                                                                                                                                                                                                \n",
      "523040   NICE AND EASY NICE AND EASY                                                                                                                                                                                                                                                                                                                                                                                                                                                                                                                                                                                                                                                                                                                                                                                                                                                                                                                                                                                              \n",
      "456510   It's soft and comfortable Husband loves it. He says it's comfortable                                                                                                                                                                                                                                                                                                                                                                                                                                                                                                                                                                                                                                                                                                                                                                                                                                                                                                                                                     \n",
      "168429   Split bag upon delivery Product arrived split - bag ripped -                                                                                                                                                                                                                                                                                                                                                                                                                                                                                                                                                                                                                                                                                                                                                                                                                                                                                                                                                             \n",
      "3142998  Size runs large. I like the look of the jacket. It runs large. I usually wear a large and this is sized at least to a 1XL.  The pockets are useless.  What appears to be snaps are buttons with very tight button holes on the flaps.  For the life of me I can't imagine why they would put 2 BUTTONS on all of the pockets.  Fake snaps with velcro would have been an improvement.  To get the pockets open I'd have to take the jacket off and use both hands to work the buttons loose.    I am perplexed as to why this method was used because the storm flap has snaps that match these foolish buttons.   I bought this for the pockets to stow some essential gear when I take my quad out.   It's not going to work for that.  So this is just another casual jacket to throw on to go to the store or take the dog out.   This company just cannot get things right.  I have a parka from them that's like a sleeping bag and has no adjustment cord at the waist, so the cold goes right through the coat.  \n",
      "\n",
      "[625950 rows x 6 columns]"
     ]
    }
   ],
   "source": [
    "print(xtrain)"
   ]
  },
  {
   "cell_type": "code",
   "execution_count": 78,
   "metadata": {},
   "outputs": [
    {
     "data": {
      "application/vnd.jupyter.widget-view+json": {
       "model_id": "a6339b92fef44b98a921fcfc34b2db1f",
       "version_major": 2,
       "version_minor": 0
      },
      "text/plain": [
       "VBox()"
      ]
     },
     "metadata": {},
     "output_type": "display_data"
    },
    {
     "data": {
      "application/vnd.jupyter.widget-view+json": {
       "model_id": "",
       "version_major": 2,
       "version_minor": 0
      },
      "text/plain": [
       "FloatProgress(value=0.0, bar_style='info', description='Progress:', layout=Layout(height='25px', width='50%'),…"
      ]
     },
     "metadata": {},
     "output_type": "display_data"
    }
   ],
   "source": [
    "#analyzer : default = word, can also test n_grams\n",
    "#max_df :  ignore terms that have a document frequency strictly higher than the given threshold\n",
    "#max_features : set total # of features used\n",
    "vectorizer = TfidfVectorizer(analyzer = 'word', max_features = 30000, stop_words= 'english', lowercase=True)\n",
    "#vectors = vectorizer.fit_transform(reviews['ALL_TEXT'].values.astype('U'))\n",
    "tfidf_vectors_xtrain = vectorizer.fit_transform(xtrain['ALL_TEXT'].apply(lambda x: np.str_(x)))\n",
    "tfidf_vectors_xtest = vectorizer.transform(xtest['ALL_TEXT'].apply(lambda x: np.str_(x)))\n",
    "#25 mins for 65 mil rows\n",
    "#16 mins for 30 mil rows"
   ]
  },
  {
   "cell_type": "code",
   "execution_count": 79,
   "metadata": {},
   "outputs": [
    {
     "data": {
      "application/vnd.jupyter.widget-view+json": {
       "model_id": "6aa4f46313ba4690933cb7ec2f4f7176",
       "version_major": 2,
       "version_minor": 0
      },
      "text/plain": [
       "VBox()"
      ]
     },
     "metadata": {},
     "output_type": "display_data"
    },
    {
     "data": {
      "application/vnd.jupyter.widget-view+json": {
       "model_id": "",
       "version_major": 2,
       "version_minor": 0
      },
      "text/plain": [
       "FloatProgress(value=0.0, bar_style='info', description='Progress:', layout=Layout(height='25px', width='50%'),…"
      ]
     },
     "metadata": {},
     "output_type": "display_data"
    },
    {
     "name": "stdout",
     "output_type": "stream",
     "text": [
      "  (0, 11988)\t0.5313530210427503\n",
      "  (0, 10347)\t0.8471504984527499\n",
      "  (1, 14372)\t0.17287818220041912\n",
      "  (1, 22205)\t0.20205591754943625\n",
      "  (1, 13030)\t0.23822479504945876\n",
      "  (1, 5373)\t0.33722947703877326\n",
      "  (1, 23774)\t0.20145471683295577\n",
      "  (1, 8334)\t0.18854881797191209\n",
      "  (1, 3838)\t0.3521782798210184\n",
      "  (1, 5404)\t0.5308636041137844\n",
      "  (1, 15825)\t0.2052126501274013\n",
      "  (1, 16483)\t0.48447824381142396\n",
      "  (2, 9622)\t0.25197358292506533\n",
      "  (2, 13918)\t0.26092611746604466\n",
      "  (2, 28197)\t0.24681459232007744\n",
      "  (2, 21939)\t0.24719321393995095\n",
      "  (2, 21371)\t0.32497948623439155\n",
      "  (2, 18517)\t0.253312374973701\n",
      "  (2, 15875)\t0.4403244746175701\n",
      "  (2, 13993)\t0.33268280649421295\n",
      "  (2, 26925)\t0.1867479372529766\n",
      "  (2, 8196)\t0.18636292237319158\n",
      "  (2, 21282)\t0.26949947219490106\n",
      "  (2, 13278)\t0.21677297630811226\n",
      "  (2, 23492)\t0.13835555994977822\n",
      "  :\t:\n",
      "  (625949, 5941)\t0.08327531226470797\n",
      "  (625949, 19941)\t0.34566253493504745\n",
      "  (625949, 14419)\t0.2348633647887251\n",
      "  (625949, 15818)\t0.057895852541872767\n",
      "  (625949, 28813)\t0.08600874090695264\n",
      "  (625949, 26874)\t0.07766666536786745\n",
      "  (625949, 24227)\t0.09699305266428761\n",
      "  (625949, 11966)\t0.062226108263820475\n",
      "  (625949, 29514)\t0.1131847065680507\n",
      "  (625949, 4105)\t0.050476588655512585\n",
      "  (625949, 29021)\t0.05827809033192244\n",
      "  (625949, 26739)\t0.07290470104456026\n",
      "  (625949, 25433)\t0.057776901389338574\n",
      "  (625949, 22353)\t0.12123938295609518\n",
      "  (625949, 4679)\t0.09287426300613212\n",
      "  (625949, 6202)\t0.059552192240914195\n",
      "  (625949, 2989)\t0.07137773340612583\n",
      "  (625949, 14721)\t0.09237605242127518\n",
      "  (625949, 28248)\t0.04675976579221452\n",
      "  (625949, 28251)\t0.05379606922856353\n",
      "  (625949, 28271)\t0.07685524271120954\n",
      "  (625949, 11956)\t0.0761586993303249\n",
      "  (625949, 15551)\t0.08752900522738846\n",
      "  (625949, 24084)\t0.05182633245332907\n",
      "  (625949, 22699)\t0.16730970626923905"
     ]
    }
   ],
   "source": [
    "print(tfidf_vectors_xtrain)\n",
    "#print(tfidf_vectors_xtest)"
   ]
  },
  {
   "cell_type": "code",
   "execution_count": 80,
   "metadata": {},
   "outputs": [
    {
     "data": {
      "application/vnd.jupyter.widget-view+json": {
       "model_id": "f19e2b7b3a4648edb67d55f35960c180",
       "version_major": 2,
       "version_minor": 0
      },
      "text/plain": [
       "VBox()"
      ]
     },
     "metadata": {},
     "output_type": "display_data"
    },
    {
     "data": {
      "application/vnd.jupyter.widget-view+json": {
       "model_id": "",
       "version_major": 2,
       "version_minor": 0
      },
      "text/plain": [
       "FloatProgress(value=0.0, bar_style='info', description='Progress:', layout=Layout(height='25px', width='50%'),…"
      ]
     },
     "metadata": {},
     "output_type": "display_data"
    }
   ],
   "source": [
    "#Test to see what output looks like - don't use for modeling - dense vectors are memory intensive\n",
    "#feature_names = vectorizer.get_feature_names()\n",
    "#dense = tfidf_vectors.todense()\n",
    "#denselist = dense.tolist()\n",
    "#df = pd.DataFrame(denselist, columns=feature_names)\n",
    "#df.head()"
   ]
  },
  {
   "cell_type": "code",
   "execution_count": 81,
   "metadata": {},
   "outputs": [
    {
     "data": {
      "application/vnd.jupyter.widget-view+json": {
       "model_id": "0c0f89089d0145cfba17536b83be6dad",
       "version_major": 2,
       "version_minor": 0
      },
      "text/plain": [
       "VBox()"
      ]
     },
     "metadata": {},
     "output_type": "display_data"
    },
    {
     "data": {
      "application/vnd.jupyter.widget-view+json": {
       "model_id": "",
       "version_major": 2,
       "version_minor": 0
      },
      "text/plain": [
       "FloatProgress(value=0.0, bar_style='info', description='Progress:', layout=Layout(height='25px', width='50%'),…"
      ]
     },
     "metadata": {},
     "output_type": "display_data"
    }
   ],
   "source": [
    "#Convert ratings to sparse vector so can join to TF-IDF sparse vector\n",
    "#ratings_vector_xtrain=sparse.csr_matrix((xtrain['REVIEW_RATING']/5).values).reshape(808202,1)\n",
    "#print(ratings_vector_xtrain)\n",
    "#ratings_vector_xtest=sparse.csr_matrix((xtest['REVIEW_RATING']/5).values).reshape(202051,1)\n",
    "#print(ratings_vector_xtest)"
   ]
  },
  {
   "cell_type": "code",
   "execution_count": 82,
   "metadata": {},
   "outputs": [
    {
     "data": {
      "application/vnd.jupyter.widget-view+json": {
       "model_id": "b9933010e7c545b5b1b835caff09eecd",
       "version_major": 2,
       "version_minor": 0
      },
      "text/plain": [
       "VBox()"
      ]
     },
     "metadata": {},
     "output_type": "display_data"
    },
    {
     "data": {
      "application/vnd.jupyter.widget-view+json": {
       "model_id": "",
       "version_major": 2,
       "version_minor": 0
      },
      "text/plain": [
       "FloatProgress(value=0.0, bar_style='info', description='Progress:', layout=Layout(height='25px', width='50%'),…"
      ]
     },
     "metadata": {},
     "output_type": "display_data"
    }
   ],
   "source": [
    "#Combine TF-IDF and ratings vectors\n",
    "#xtrain_final = sparse.hstack([tfidf_vectors_xtrain, ratings_vector_xtrain])\n",
    "#print(xtrain_final)\n",
    "#xtest_final = sparse.hstack([tfidf_vectors_xtest, ratings_vector_xtest])\n",
    "#print(xtest_final)"
   ]
  },
  {
   "cell_type": "code",
   "execution_count": 83,
   "metadata": {},
   "outputs": [
    {
     "data": {
      "application/vnd.jupyter.widget-view+json": {
       "model_id": "d7d2642caefc4791aeaa3560e0143e81",
       "version_major": 2,
       "version_minor": 0
      },
      "text/plain": [
       "VBox()"
      ]
     },
     "metadata": {},
     "output_type": "display_data"
    },
    {
     "data": {
      "application/vnd.jupyter.widget-view+json": {
       "model_id": "",
       "version_major": 2,
       "version_minor": 0
      },
      "text/plain": [
       "FloatProgress(value=0.0, bar_style='info', description='Progress:', layout=Layout(height='25px', width='50%'),…"
      ]
     },
     "metadata": {},
     "output_type": "display_data"
    }
   ],
   "source": [
    "xtrain_final = tfidf_vectors_xtrain\n",
    "xtest_final = tfidf_vectors_xtest"
   ]
  },
  {
   "cell_type": "code",
   "execution_count": 84,
   "metadata": {},
   "outputs": [
    {
     "data": {
      "application/vnd.jupyter.widget-view+json": {
       "model_id": "13a7b878463d4e59adabb6b3b5c035b9",
       "version_major": 2,
       "version_minor": 0
      },
      "text/plain": [
       "VBox()"
      ]
     },
     "metadata": {},
     "output_type": "display_data"
    },
    {
     "data": {
      "application/vnd.jupyter.widget-view+json": {
       "model_id": "",
       "version_major": 2,
       "version_minor": 0
      },
      "text/plain": [
       "FloatProgress(value=0.0, bar_style='info', description='Progress:', layout=Layout(height='25px', width='50%'),…"
      ]
     },
     "metadata": {},
     "output_type": "display_data"
    }
   ],
   "source": [
    "#max_iter : default =100 but getting error about not converging\n",
    "lr = LogisticRegression(max_iter=1000, solver = 'lbfgs')\n",
    "clf = lr\n"
   ]
  },
  {
   "cell_type": "code",
   "execution_count": 85,
   "metadata": {},
   "outputs": [
    {
     "data": {
      "application/vnd.jupyter.widget-view+json": {
       "model_id": "1559a284ce7b405eb919a6ad0c2114ae",
       "version_major": 2,
       "version_minor": 0
      },
      "text/plain": [
       "VBox()"
      ]
     },
     "metadata": {},
     "output_type": "display_data"
    },
    {
     "data": {
      "application/vnd.jupyter.widget-view+json": {
       "model_id": "",
       "version_major": 2,
       "version_minor": 0
      },
      "text/plain": [
       "FloatProgress(value=0.0, bar_style='info', description='Progress:', layout=Layout(height='25px', width='50%'),…"
      ]
     },
     "metadata": {},
     "output_type": "display_data"
    }
   ],
   "source": [
    "#Support Vector Machine model\n",
    "#clf = svm.SVC(probability=True)\n",
    "\n",
    "#Need to change input type of y for training model\n",
    "#ytrain = ytrain['NR'].ravel()\n",
    "#ytrain.shape"
   ]
  },
  {
   "cell_type": "code",
   "execution_count": 86,
   "metadata": {},
   "outputs": [
    {
     "data": {
      "application/vnd.jupyter.widget-view+json": {
       "model_id": "75d17b8fd83049ccb169be30cf328aa5",
       "version_major": 2,
       "version_minor": 0
      },
      "text/plain": [
       "VBox()"
      ]
     },
     "metadata": {},
     "output_type": "display_data"
    },
    {
     "data": {
      "application/vnd.jupyter.widget-view+json": {
       "model_id": "",
       "version_major": 2,
       "version_minor": 0
      },
      "text/plain": [
       "FloatProgress(value=0.0, bar_style='info', description='Progress:', layout=Layout(height='25px', width='50%'),…"
      ]
     },
     "metadata": {},
     "output_type": "display_data"
    },
    {
     "name": "stdout",
     "output_type": "stream",
     "text": [
      "LogisticRegression(max_iter=1000)\n",
      "/usr/local/lib64/python3.7/site-packages/sklearn/utils/validation.py:63: DataConversionWarning: A column-vector y was passed when a 1d array was expected. Please change the shape of y to (n_samples, ), for example using ravel().\n",
      "  return f(*args, **kwargs)"
     ]
    }
   ],
   "source": [
    "#Train model\n",
    "clf.fit(xtrain_final, ytrain)"
   ]
  },
  {
   "cell_type": "code",
   "execution_count": 87,
   "metadata": {},
   "outputs": [
    {
     "data": {
      "application/vnd.jupyter.widget-view+json": {
       "model_id": "8e4ac2f2f45648e5b608db84a4e93d2a",
       "version_major": 2,
       "version_minor": 0
      },
      "text/plain": [
       "VBox()"
      ]
     },
     "metadata": {},
     "output_type": "display_data"
    },
    {
     "data": {
      "application/vnd.jupyter.widget-view+json": {
       "model_id": "",
       "version_major": 2,
       "version_minor": 0
      },
      "text/plain": [
       "FloatProgress(value=0.0, bar_style='info', description='Progress:', layout=Layout(height='25px', width='50%'),…"
      ]
     },
     "metadata": {},
     "output_type": "display_data"
    },
    {
     "name": "stdout",
     "output_type": "stream",
     "text": [
      "NR    313428\n",
      "dtype: int64"
     ]
    }
   ],
   "source": [
    "#ytrain.dtypes\n",
    "ytrain.sum(axis=0)"
   ]
  },
  {
   "cell_type": "code",
   "execution_count": 88,
   "metadata": {},
   "outputs": [
    {
     "data": {
      "application/vnd.jupyter.widget-view+json": {
       "model_id": "4767703938484ce6b2de004df51270c1",
       "version_major": 2,
       "version_minor": 0
      },
      "text/plain": [
       "VBox()"
      ]
     },
     "metadata": {},
     "output_type": "display_data"
    },
    {
     "data": {
      "application/vnd.jupyter.widget-view+json": {
       "model_id": "",
       "version_major": 2,
       "version_minor": 0
      },
      "text/plain": [
       "FloatProgress(value=0.0, bar_style='info', description='Progress:', layout=Layout(height='25px', width='50%'),…"
      ]
     },
     "metadata": {},
     "output_type": "display_data"
    }
   ],
   "source": [
    "y_pred = clf.predict(xtest_final)"
   ]
  },
  {
   "cell_type": "code",
   "execution_count": 89,
   "metadata": {},
   "outputs": [
    {
     "data": {
      "application/vnd.jupyter.widget-view+json": {
       "model_id": "d96a96e165f449ad9c1b5878b74913c1",
       "version_major": 2,
       "version_minor": 0
      },
      "text/plain": [
       "VBox()"
      ]
     },
     "metadata": {},
     "output_type": "display_data"
    },
    {
     "data": {
      "application/vnd.jupyter.widget-view+json": {
       "model_id": "",
       "version_major": 2,
       "version_minor": 0
      },
      "text/plain": [
       "FloatProgress(value=0.0, bar_style='info', description='Progress:', layout=Layout(height='25px', width='50%'),…"
      ]
     },
     "metadata": {},
     "output_type": "display_data"
    }
   ],
   "source": [
    "plt.clf()"
   ]
  },
  {
   "cell_type": "code",
   "execution_count": 90,
   "metadata": {},
   "outputs": [],
   "source": [
    "%matplotlib inline"
   ]
  },
  {
   "cell_type": "code",
   "execution_count": 91,
   "metadata": {},
   "outputs": [
    {
     "data": {
      "application/vnd.jupyter.widget-view+json": {
       "model_id": "1bc284235c5641ce803aa54db0ed6c10",
       "version_major": 2,
       "version_minor": 0
      },
      "text/plain": [
       "VBox()"
      ]
     },
     "metadata": {},
     "output_type": "display_data"
    },
    {
     "data": {
      "application/vnd.jupyter.widget-view+json": {
       "model_id": "",
       "version_major": 2,
       "version_minor": 0
      },
      "text/plain": [
       "FloatProgress(value=0.0, bar_style='info', description='Progress:', layout=Layout(height='25px', width='50%'),…"
      ]
     },
     "metadata": {},
     "output_type": "display_data"
    }
   ],
   "source": [
    "#Confusion matrix\n",
    "#confusion_matrix(ytest, y_pred)\n",
    "#tn, fp, fn, tp = confusion_matrix(ytest, y_pred).ravel()\n",
    "#print(\"TN: {}\".format(tn), \"FP: {}\".format(fp), \"FN: {}\".format(fn), \"TP: {}\".format(tp))\n",
    "plot_confusion_matrix(clf, xtest_final, ytest, values_format = '.5g')\n",
    "plt.show()"
   ]
  },
  {
   "cell_type": "code",
   "execution_count": 92,
   "metadata": {},
   "outputs": [
    {
     "data": {
      "application/vnd.jupyter.widget-view+json": {
       "model_id": "",
       "version_major": 2,
       "version_minor": 0
      },
      "text/plain": [
       "FloatProgress(value=0.0, bar_style='info', description='Progress:', layout=Layout(height='25px', width='50%'),…"
      ]
     },
     "metadata": {},
     "output_type": "display_data"
    },
    {
     "data": {
      "image/png": "[encoded data removed]",
      "text/plain": [
       "<IPython.core.display.Image object>"
      ]
     },
     "metadata": {},
     "output_type": "display_data"
    }
   ],
   "source": [
    "%matplot plt"
   ]
  },
  {
   "cell_type": "code",
   "execution_count": null,
   "metadata": {},
   "outputs": [],
   "source": []
  },
  {
   "cell_type": "code",
   "execution_count": 93,
   "metadata": {},
   "outputs": [
    {
     "data": {
      "application/vnd.jupyter.widget-view+json": {
       "model_id": "4c4a2d96921e49e48d6fded27088833a",
       "version_major": 2,
       "version_minor": 0
      },
      "text/plain": [
       "VBox()"
      ]
     },
     "metadata": {},
     "output_type": "display_data"
    },
    {
     "data": {
      "application/vnd.jupyter.widget-view+json": {
       "model_id": "",
       "version_major": 2,
       "version_minor": 0
      },
      "text/plain": [
       "FloatProgress(value=0.0, bar_style='info', description='Progress:', layout=Layout(height='25px', width='50%'),…"
      ]
     },
     "metadata": {},
     "output_type": "display_data"
    },
    {
     "name": "stdout",
     "output_type": "stream",
     "text": [
      "            UGC_ID                                           REVIEW_HEADLINE  \\\n",
      "52114    284021619  Product is not even shipped for 4-5 weeks after ordering   \n",
      "351872   308870344  Not purchased                                              \n",
      "3728168  269825691  Looks lovely however is flimsy                             \n",
      "3870387  268558199  Not very bright                                            \n",
      "4520499  318630109  Yes I would buy again                                      \n",
      "\n",
      "                                                                                                                                                                                                                                                                                                                                                                                                                            REVIEW_COMMENTS  \\\n",
      "52114    I ordered this rug and expect it will have the quality of most products from the Company Store.  But I am chagrined to learn from phoning your company that it will not arrive until 4-5 weeks after I ordered it.  This should be stated in your online description.                                                                                                                                                                \n",
      "351872   Not sure how this purchase got attached to my email, but I haven't been in an At Home store for a couple of months and most certainly would NOT have purchased a rain gauge.                                                                                                                                                                                                                                                         \n",
      "3728168  This looks lovely in our garden only reason I didn't give full stars was one side of the arch the wood was cracked 😢 also you may want to cement into place as I found to be flimsy not sure how much wind it will with stand in the winter                                                                                                                                                                                          \n",
      "3870387  We live in the southwest, generally a lot of sun, so I am still giving this product a chance since we've had rain since putting it up.\\nThe first thing we noticed is that the lights are not very bright.  One night it did not go on at all when I walked in the back.\\nWe are looking for a light for the front as well, I don't think it will be this one.  When we find something better we will replace the one in the back.   \n",
      "4520499  Granddaughter loves this                                                                                                                                                                                                                                                                                                                                                                                                             \n",
      "\n",
      "         REVIEW_RATING  CS  \\\n",
      "52114    1              0    \n",
      "351872   1              0    \n",
      "3728168  4              0    \n",
      "3870387  2              0    \n",
      "4520499  5              0    \n",
      "\n",
      "                                                                                                                                                                                                                                                                                                                                                                                                                                                   ALL_TEXT  \\\n",
      "52114    Product is not even shipped for 4-5 weeks after ordering I ordered this rug and expect it will have the quality of most products from the Company Store.  But I am chagrined to learn from phoning your company that it will not arrive until 4-5 weeks after I ordered it.  This should be stated in your online description.                                                                                                                       \n",
      "351872   Not purchased Not sure how this purchase got attached to my email, but I haven't been in an At Home store for a couple of months and most certainly would NOT have purchased a rain gauge.                                                                                                                                                                                                                                                           \n",
      "3728168  Looks lovely however is flimsy This looks lovely in our garden only reason I didn't give full stars was one side of the arch the wood was cracked 😢 also you may want to cement into place as I found to be flimsy not sure how much wind it will with stand in the winter                                                                                                                                                                           \n",
      "3870387  Not very bright We live in the southwest, generally a lot of sun, so I am still giving this product a chance since we've had rain since putting it up.\\nThe first thing we noticed is that the lights are not very bright.  One night it did not go on at all when I walked in the back.\\nWe are looking for a light for the front as well, I don't think it will be this one.  When we find something better we will replace the one in the back.   \n",
      "4520499  Yes I would buy again Granddaughter loves this                                                                                                                                                                                                                                                                                                                                                                                                       \n",
      "\n",
      "         model_NR  NR  \n",
      "52114    1         1   \n",
      "351872   1         1   \n",
      "3728168  0         0   \n",
      "3870387  0         0   \n",
      "4520499  0         0   \n",
      "<string>:5: SettingWithCopyWarning: \n",
      "A value is trying to be set on a copy of a slice from a DataFrame.\n",
      "Try using .loc[row_indexer,col_indexer] = value instead\n",
      "\n",
      "See the caveats in the documentation: https://pandas.pydata.org/pandas-docs/stable/user_guide/indexing.html#returning-a-view-versus-a-copy\n",
      "<string>:6: SettingWithCopyWarning: \n",
      "A value is trying to be set on a copy of a slice from a DataFrame.\n",
      "Try using .loc[row_indexer,col_indexer] = value instead\n",
      "\n",
      "See the caveats in the documentation: https://pandas.pydata.org/pandas-docs/stable/user_guide/indexing.html#returning-a-view-versus-a-copy"
     ]
    }
   ],
   "source": [
    "reviews=xtest\n",
    "\n",
    "#Need to join y_pred back to initial set to see if CS label or not\n",
    "#Join actual ys back in as well so that we can compare predicted vs actual along w/ if CS or not\n",
    "reviews['model_NR'] = y_pred\n",
    "reviews['NR'] = ytest\n",
    "reviews.head()"
   ]
  },
  {
   "cell_type": "code",
   "execution_count": 94,
   "metadata": {},
   "outputs": [
    {
     "data": {
      "application/vnd.jupyter.widget-view+json": {
       "model_id": "7c415eb952464a1dbead6d5ce427183f",
       "version_major": 2,
       "version_minor": 0
      },
      "text/plain": [
       "VBox()"
      ]
     },
     "metadata": {},
     "output_type": "display_data"
    },
    {
     "data": {
      "application/vnd.jupyter.widget-view+json": {
       "model_id": "",
       "version_major": 2,
       "version_minor": 0
      },
      "text/plain": [
       "FloatProgress(value=0.0, bar_style='info', description='Progress:', layout=Layout(height='25px', width='50%'),…"
      ]
     },
     "metadata": {},
     "output_type": "display_data"
    },
    {
     "name": "stdout",
     "output_type": "stream",
     "text": [
      "/usr/local/lib64/python3.7/site-packages/pandas/core/strings/accessor.py:101: UserWarning: This pattern has match groups. To actually get the groups, use str.extract.\n",
      "  return func(self, *args, **kwargs)\n",
      "<string>:2: SettingWithCopyWarning: \n",
      "A value is trying to be set on a copy of a slice from a DataFrame.\n",
      "Try using .loc[row_indexer,col_indexer] = value instead\n",
      "\n",
      "See the caveats in the documentation: https://pandas.pydata.org/pandas-docs/stable/user_guide/indexing.html#returning-a-view-versus-a-copy"
     ]
    }
   ],
   "source": [
    "#reviews['regex_CS'] = reviews['ALL_TEXT'].str.contains(r'(CUSTOMER SERVICE|SHIP|STATUS|ORDER|DELIVER|RECEIVE|RECIEVE|REFUND|RETURN)', case=False)==True\n",
    "reviews['regex_CS'] = reviews['ALL_TEXT'].str.contains(r'(\\?|PLEASE|HELP)', case=False)==True"
   ]
  },
  {
   "cell_type": "code",
   "execution_count": 95,
   "metadata": {},
   "outputs": [
    {
     "data": {
      "application/vnd.jupyter.widget-view+json": {
       "model_id": "2dcd74b64c274f4ba6354f78ec0b75f1",
       "version_major": 2,
       "version_minor": 0
      },
      "text/plain": [
       "VBox()"
      ]
     },
     "metadata": {},
     "output_type": "display_data"
    },
    {
     "data": {
      "application/vnd.jupyter.widget-view+json": {
       "model_id": "",
       "version_major": 2,
       "version_minor": 0
      },
      "text/plain": [
       "FloatProgress(value=0.0, bar_style='info', description='Progress:', layout=Layout(height='25px', width='50%'),…"
      ]
     },
     "metadata": {},
     "output_type": "display_data"
    },
    {
     "name": "stdout",
     "output_type": "stream",
     "text": [
      "<string>:1: SettingWithCopyWarning: \n",
      "A value is trying to be set on a copy of a slice from a DataFrame.\n",
      "Try using .loc[row_indexer,col_indexer] = value instead\n",
      "\n",
      "See the caveats in the documentation: https://pandas.pydata.org/pandas-docs/stable/user_guide/indexing.html#returning-a-view-versus-a-copy\n",
      "/usr/local/lib64/python3.7/site-packages/pandas/core/indexing.py:1720: SettingWithCopyWarning: \n",
      "A value is trying to be set on a copy of a slice from a DataFrame.\n",
      "Try using .loc[row_indexer,col_indexer] = value instead\n",
      "\n",
      "See the caveats in the documentation: https://pandas.pydata.org/pandas-docs/stable/user_guide/indexing.html#returning-a-view-versus-a-copy\n",
      "  self._setitem_single_column(loc, value, pi)"
     ]
    }
   ],
   "source": [
    "reviews['model_CS'] = 0\n",
    "\n",
    "reviews.loc[(reviews['model_NR'] == 1) & (reviews['regex_CS'] == True), 'model_CS' ] = 1\n"
   ]
  },
  {
   "cell_type": "code",
   "execution_count": 96,
   "metadata": {},
   "outputs": [
    {
     "data": {
      "application/vnd.jupyter.widget-view+json": {
       "model_id": "f4ec0d13bf9c4779ad693c27b99c2f72",
       "version_major": 2,
       "version_minor": 0
      },
      "text/plain": [
       "VBox()"
      ]
     },
     "metadata": {},
     "output_type": "display_data"
    },
    {
     "data": {
      "application/vnd.jupyter.widget-view+json": {
       "model_id": "",
       "version_major": 2,
       "version_minor": 0
      },
      "text/plain": [
       "FloatProgress(value=0.0, bar_style='info', description='Progress:', layout=Layout(height='25px', width='50%'),…"
      ]
     },
     "metadata": {},
     "output_type": "display_data"
    },
    {
     "name": "stdout",
     "output_type": "stream",
     "text": [
      "            UGC_ID                                           REVIEW_HEADLINE  \\\n",
      "52114    284021619  Product is not even shipped for 4-5 weeks after ordering   \n",
      "351872   308870344  Not purchased                                              \n",
      "3728168  269825691  Looks lovely however is flimsy                             \n",
      "3870387  268558199  Not very bright                                            \n",
      "4520499  318630109  Yes I would buy again                                      \n",
      "\n",
      "                                                                                                                                                                                                                                                                                                                                                                                                                            REVIEW_COMMENTS  \\\n",
      "52114    I ordered this rug and expect it will have the quality of most products from the Company Store.  But I am chagrined to learn from phoning your company that it will not arrive until 4-5 weeks after I ordered it.  This should be stated in your online description.                                                                                                                                                                \n",
      "351872   Not sure how this purchase got attached to my email, but I haven't been in an At Home store for a couple of months and most certainly would NOT have purchased a rain gauge.                                                                                                                                                                                                                                                         \n",
      "3728168  This looks lovely in our garden only reason I didn't give full stars was one side of the arch the wood was cracked 😢 also you may want to cement into place as I found to be flimsy not sure how much wind it will with stand in the winter                                                                                                                                                                                          \n",
      "3870387  We live in the southwest, generally a lot of sun, so I am still giving this product a chance since we've had rain since putting it up.\\nThe first thing we noticed is that the lights are not very bright.  One night it did not go on at all when I walked in the back.\\nWe are looking for a light for the front as well, I don't think it will be this one.  When we find something better we will replace the one in the back.   \n",
      "4520499  Granddaughter loves this                                                                                                                                                                                                                                                                                                                                                                                                             \n",
      "\n",
      "         REVIEW_RATING  CS  \\\n",
      "52114    1              0    \n",
      "351872   1              0    \n",
      "3728168  4              0    \n",
      "3870387  2              0    \n",
      "4520499  5              0    \n",
      "\n",
      "                                                                                                                                                                                                                                                                                                                                                                                                                                                   ALL_TEXT  \\\n",
      "52114    Product is not even shipped for 4-5 weeks after ordering I ordered this rug and expect it will have the quality of most products from the Company Store.  But I am chagrined to learn from phoning your company that it will not arrive until 4-5 weeks after I ordered it.  This should be stated in your online description.                                                                                                                       \n",
      "351872   Not purchased Not sure how this purchase got attached to my email, but I haven't been in an At Home store for a couple of months and most certainly would NOT have purchased a rain gauge.                                                                                                                                                                                                                                                           \n",
      "3728168  Looks lovely however is flimsy This looks lovely in our garden only reason I didn't give full stars was one side of the arch the wood was cracked 😢 also you may want to cement into place as I found to be flimsy not sure how much wind it will with stand in the winter                                                                                                                                                                           \n",
      "3870387  Not very bright We live in the southwest, generally a lot of sun, so I am still giving this product a chance since we've had rain since putting it up.\\nThe first thing we noticed is that the lights are not very bright.  One night it did not go on at all when I walked in the back.\\nWe are looking for a light for the front as well, I don't think it will be this one.  When we find something better we will replace the one in the back.   \n",
      "4520499  Yes I would buy again Granddaughter loves this                                                                                                                                                                                                                                                                                                                                                                                                       \n",
      "\n",
      "         model_NR  NR  regex_CS  model_CS  \n",
      "52114    1         1   False     0         \n",
      "351872   1         1   False     0         \n",
      "3728168  0         0   False     0         \n",
      "3870387  0         0   False     0         \n",
      "4520499  0         0   False     0"
     ]
    }
   ],
   "source": [
    "reviews.head()"
   ]
  },
  {
   "cell_type": "code",
   "execution_count": 97,
   "metadata": {},
   "outputs": [
    {
     "data": {
      "application/vnd.jupyter.widget-view+json": {
       "model_id": "49fbaf07a85e44bab2f71b266d50f4ef",
       "version_major": 2,
       "version_minor": 0
      },
      "text/plain": [
       "VBox()"
      ]
     },
     "metadata": {},
     "output_type": "display_data"
    },
    {
     "data": {
      "application/vnd.jupyter.widget-view+json": {
       "model_id": "",
       "version_major": 2,
       "version_minor": 0
      },
      "text/plain": [
       "FloatProgress(value=0.0, bar_style='info', description='Progress:', layout=Layout(height='25px', width='50%'),…"
      ]
     },
     "metadata": {},
     "output_type": "display_data"
    }
   ],
   "source": [
    "FP = reviews[(reviews['CS'] == 0) & (reviews['model_CS'] == 1)]\n",
    "FN = reviews[(reviews['CS'] == 1) & (reviews['model_CS'] == 0)]\n",
    "TP = reviews[(reviews['CS'] == 1) & (reviews['model_CS'] == 1)]\n",
    "TN = reviews[(reviews['CS'] == 0) & (reviews['model_CS'] == 0)]\n"
   ]
  },
  {
   "cell_type": "code",
   "execution_count": 98,
   "metadata": {},
   "outputs": [
    {
     "data": {
      "application/vnd.jupyter.widget-view+json": {
       "model_id": "fdeeac53a73f44438fd64cb624274df4",
       "version_major": 2,
       "version_minor": 0
      },
      "text/plain": [
       "VBox()"
      ]
     },
     "metadata": {},
     "output_type": "display_data"
    },
    {
     "data": {
      "application/vnd.jupyter.widget-view+json": {
       "model_id": "",
       "version_major": 2,
       "version_minor": 0
      },
      "text/plain": [
       "FloatProgress(value=0.0, bar_style='info', description='Progress:', layout=Layout(height='25px', width='50%'),…"
      ]
     },
     "metadata": {},
     "output_type": "display_data"
    },
    {
     "name": "stdout",
     "output_type": "stream",
     "text": [
      "8302"
     ]
    }
   ],
   "source": [
    "FP['UGC_ID'].count()"
   ]
  },
  {
   "cell_type": "code",
   "execution_count": 99,
   "metadata": {},
   "outputs": [
    {
     "data": {
      "application/vnd.jupyter.widget-view+json": {
       "model_id": "4721064352a243009e50294953346a04",
       "version_major": 2,
       "version_minor": 0
      },
      "text/plain": [
       "VBox()"
      ]
     },
     "metadata": {},
     "output_type": "display_data"
    },
    {
     "data": {
      "application/vnd.jupyter.widget-view+json": {
       "model_id": "",
       "version_major": 2,
       "version_minor": 0
      },
      "text/plain": [
       "FloatProgress(value=0.0, bar_style='info', description='Progress:', layout=Layout(height='25px', width='50%'),…"
      ]
     },
     "metadata": {},
     "output_type": "display_data"
    },
    {
     "name": "stdout",
     "output_type": "stream",
     "text": [
      "2077"
     ]
    }
   ],
   "source": [
    "FN['UGC_ID'].count()"
   ]
  },
  {
   "cell_type": "code",
   "execution_count": 100,
   "metadata": {},
   "outputs": [
    {
     "data": {
      "application/vnd.jupyter.widget-view+json": {
       "model_id": "db3b869617ea41469d1f8b8a380884b5",
       "version_major": 2,
       "version_minor": 0
      },
      "text/plain": [
       "VBox()"
      ]
     },
     "metadata": {},
     "output_type": "display_data"
    },
    {
     "data": {
      "application/vnd.jupyter.widget-view+json": {
       "model_id": "",
       "version_major": 2,
       "version_minor": 0
      },
      "text/plain": [
       "FloatProgress(value=0.0, bar_style='info', description='Progress:', layout=Layout(height='25px', width='50%'),…"
      ]
     },
     "metadata": {},
     "output_type": "display_data"
    },
    {
     "name": "stdout",
     "output_type": "stream",
     "text": [
      "1781"
     ]
    }
   ],
   "source": [
    "TP['UGC_ID'].count()"
   ]
  },
  {
   "cell_type": "code",
   "execution_count": 101,
   "metadata": {},
   "outputs": [
    {
     "data": {
      "application/vnd.jupyter.widget-view+json": {
       "model_id": "882000ba565b4bd2a07ebaafec282731",
       "version_major": 2,
       "version_minor": 0
      },
      "text/plain": [
       "VBox()"
      ]
     },
     "metadata": {},
     "output_type": "display_data"
    },
    {
     "data": {
      "application/vnd.jupyter.widget-view+json": {
       "model_id": "",
       "version_major": 2,
       "version_minor": 0
      },
      "text/plain": [
       "FloatProgress(value=0.0, bar_style='info', description='Progress:', layout=Layout(height='25px', width='50%'),…"
      ]
     },
     "metadata": {},
     "output_type": "display_data"
    },
    {
     "name": "stdout",
     "output_type": "stream",
     "text": [
      "144328"
     ]
    }
   ],
   "source": [
    "TN['UGC_ID'].count()"
   ]
  },
  {
   "cell_type": "code",
   "execution_count": 102,
   "metadata": {},
   "outputs": [
    {
     "data": {
      "application/vnd.jupyter.widget-view+json": {
       "model_id": "87015eaac9104f8288106dbe5bb666ff",
       "version_major": 2,
       "version_minor": 0
      },
      "text/plain": [
       "VBox()"
      ]
     },
     "metadata": {},
     "output_type": "display_data"
    },
    {
     "data": {
      "application/vnd.jupyter.widget-view+json": {
       "model_id": "",
       "version_major": 2,
       "version_minor": 0
      },
      "text/plain": [
       "FloatProgress(value=0.0, bar_style='info', description='Progress:', layout=Layout(height='25px', width='50%'),…"
      ]
     },
     "metadata": {},
     "output_type": "display_data"
    },
    {
     "name": "stdout",
     "output_type": "stream",
     "text": [
      "            UGC_ID  \\\n",
      "377922   270350263   \n",
      "211095   323612736   \n",
      "5962585  278042677   \n",
      "177736   326276288   \n",
      "62656    276348016   \n",
      "232158   318678690   \n",
      "52220    275648296   \n",
      "180034   316032681   \n",
      "251932   277479790   \n",
      "271548   280616674   \n",
      "115119   320609688   \n",
      "229883   265048612   \n",
      "183697   264324527   \n",
      "63383    281644114   \n",
      "387706   283666340   \n",
      "120005   281625403   \n",
      "15511    318499363   \n",
      "160531   276268094   \n",
      "281700   288264860   \n",
      "290324   326936422   \n",
      "168516   275529062   \n",
      "178203   321599999   \n",
      "46615    326812074   \n",
      "173558   284427710   \n",
      "268609   325408379   \n",
      "259154   280932736   \n",
      "190748   297499695   \n",
      "161291   319132039   \n",
      "236004   318151090   \n",
      "58080    265341618   \n",
      "5467100  276214278   \n",
      "3067231  280591721   \n",
      "299165   275898319   \n",
      "254213   318719574   \n",
      "11910    322894980   \n",
      "332974   323740881   \n",
      "137625   323677374   \n",
      "32438    311912205   \n",
      "162386   318565037   \n",
      "4834592  297132065   \n",
      "307998   306712388   \n",
      "238033   319867750   \n",
      "234459   301966152   \n",
      "74159    293172014   \n",
      "269811   298299826   \n",
      "44502    281844917   \n",
      "375947   267661719   \n",
      "63807    316533799   \n",
      "167198   326773683   \n",
      "17249    320555769   \n",
      "346015   318253230   \n",
      "153831   283104948   \n",
      "123651   298978821   \n",
      "203265   285195827   \n",
      "196683   277583552   \n",
      "220324   312238538   \n",
      "369490   318460618   \n",
      "389031   266427267   \n",
      "49839    322329691   \n",
      "2815151  284364374   \n",
      "169256   326908551   \n",
      "46341    264852425   \n",
      "312305   276696923   \n",
      "280244   267304422   \n",
      "148530   298484657   \n",
      "209442   283482220   \n",
      "9477     285155420   \n",
      "286398   268953216   \n",
      "678      288539764   \n",
      "289404   272655620   \n",
      "263408   322052336   \n",
      "158810   327571750   \n",
      "9816     323517984   \n",
      "377042   273260082   \n",
      "310335   278313510   \n",
      "170140   325409926   \n",
      "313673   285835092   \n",
      "196325   298945604   \n",
      "337543   302110277   \n",
      "296839   275988312   \n",
      "4000     301039253   \n",
      "316723   320671991   \n",
      "158661   309965343   \n",
      "327886   325419821   \n",
      "56353    275639340   \n",
      "7729437  325251245   \n",
      "309609   274829733   \n",
      "160368   301160841   \n",
      "293542   322091530   \n",
      "55184    284363951   \n",
      "276507   304450560   \n",
      "79678    318494551   \n",
      "34694    293542283   \n",
      "369553   284411418   \n",
      "274648   326264047   \n",
      "2120269  321684484   \n",
      "335289   317434951   \n",
      "308369   279521509   \n",
      "3348869  279498909   \n",
      "3209791  298415417   \n",
      "\n",
      "                                                      REVIEW_HEADLINE  \\\n",
      "377922   Let your customers know a product is a limited item!!          \n",
      "211095   Shutterfly should have gone the extra mile to take care of t   \n",
      "5962585  Home Depot                                                     \n",
      "177736   Not good underwater                                            \n",
      "62656    My New Vans Ski Hi original Black and White                    \n",
      "232158   Poor Service                                                   \n",
      "52220    Love Costco                                                    \n",
      "180034   Item not received. Presume lost in transit ??                  \n",
      "251932   Sorely Lacking in Customer Appreciation                        \n",
      "271548   i have not receiced my shoes, so how can i enjoy them ?        \n",
      "115119   Where is this item because I don't have it?                    \n",
      "229883   Giving me a gift certificate for reviewing a certificate?      \n",
      "183697   I can't find the Question Tab???                               \n",
      "63383    Kuh?l Not so much... Overpriced, mistake-riddled, mediocrity   \n",
      "387706   Stuff Sack Replacements Not Available or Supported             \n",
      "120005   Shipping                                                       \n",
      "15511    Missing! Favorite Scent                                        \n",
      "160531   Question on sizing:                                            \n",
      "281700   ?                                                              \n",
      "290324   Will this world on other shoes besides vans?                   \n",
      "168516   Shoes great but Massey's disappointing                         \n",
      "178203   These were canceled on my order but they say i purchased       \n",
      "46615    12 weeks delivery???                                           \n",
      "173558   ?                                                              \n",
      "268609   $50 for 20 rounds?! Price gouge much?                          \n",
      "259154   Buying from TPG                                                \n",
      "190748   Order                                                          \n",
      "161291   $100 shipping - really?                                        \n",
      "236004   I don't know!                                                  \n",
      "58080    Please bring these pants back!!!!                              \n",
      "5467100  Bike broke 4 rides in                                          \n",
      "3067231  And say what?                                                  \n",
      "299165   Need it and can't find it                                      \n",
      "254213   HORRIBLE CUSTOMER SERVICE                                      \n",
      "11910    Never received my order!                                       \n",
      "332974   Looking forward to this product                                \n",
      "137625   Poor value for money!                                          \n",
      "32438    Not a review, but a question                                   \n",
      "162386   Are the EVER going to be in stock?  EVER?                      \n",
      "4834592  NO....NO   AND NO...                                           \n",
      "307998   Where is the Charger?                                          \n",
      "238033   Christmas present                                              \n",
      "234459   Bring more please!                                             \n",
      "74159    Are there no shoelaces??                                       \n",
      "269811   Do not buy, made in china                                      \n",
      "44502    Why aren't the wheel kits available for the unit??             \n",
      "375947   Toronto Driving Academy                                        \n",
      "63807    Hi my friends i am find good reveiw  TREK MARLIN 6             \n",
      "167198   Didn't help                                                    \n",
      "17249    What jumper?!?                                                 \n",
      "346015   If they don't have enough confidence beyond 90 days?           \n",
      "153831   the item was not the same model represented on site.           \n",
      "123651   I'll never buy from Skechers.com ever again! Never received    \n",
      "203265   Disappointed                                                   \n",
      "196683   Product won't even ship 3 months after purchase ?              \n",
      "220324   If I receive it, that would be great                           \n",
      "369490   STOLEN PRODUCT                                                 \n",
      "389031   No help, rediculous policy.                                    \n",
      "49839    What no wood?                                                  \n",
      "2815151  I purchase this product consistently.                          \n",
      "169256   Is Ted Cruz a liar?!                                           \n",
      "46341    Irrelevant                                                     \n",
      "312305   I wanted the shampoo and would like to make an equal switch.   \n",
      "280244   DO NOT DO ONLINE PICKUP                                        \n",
      "148530   No, disappointing!                                             \n",
      "209442   I'm super frustrated / sad                                     \n",
      "9477     Don't order from them                                          \n",
      "286398   No More Travel Perks Listed????                                \n",
      "678      RIP Off                                                        \n",
      "289404   Soylent needs to communicate better with their customers       \n",
      "263408   Is it available?                                               \n",
      "158810   yes                                                            \n",
      "9816     Big Lots doesn't like to work                                  \n",
      "377042   free gift?                                                     \n",
      "310335   Can you ad more ethnic group magazines?                        \n",
      "170140   $70 for 20 rounds of junk?                                     \n",
      "313673   ?                                                              \n",
      "196325   What no shed                                                   \n",
      "337543   I don't know yet.                                              \n",
      "296839   Never received what I ordered                                  \n",
      "4000     the addres for my ithem is.                                    \n",
      "316723   K-cups                                                         \n",
      "158661   Check availability before ordering                             \n",
      "327886   Have not received it yet                                       \n",
      "56353    Good customer service                                          \n",
      "7729437  Sliders                                                        \n",
      "309609   mattress topper                                                \n",
      "160368   Feels good to give back                                        \n",
      "293542   Nice purse                                                     \n",
      "55184    Terrible quality, bunching, wrinkling                          \n",
      "276507   Great service!                                                 \n",
      "79678    I saw this in a small business from 2018                       \n",
      "34694    Never shopping at beauty brands again                          \n",
      "369553   Discount for Loyal Customers                                   \n",
      "274648   What have they done?                                           \n",
      "2120269  What the hell?!                                                \n",
      "335289   MAKE MORE PRODUCT                                              \n",
      "308369   Not sure I will order in line ever again                       \n",
      "3348869  BUYER EWARE in these times.                                    \n",
      "3209791  well indexed web site!                                         \n",
      "\n",
      "                                                                                                                                                                                                                                                                                                                                                                                                                                                                                                                                                                                                                                                                                                                                                                                                                                                                                                                                                                                                                                                                                                                                                                                                                                                                                                                                                                                                                                                                                                                                                                                                                                                                                                                                                                                                                                                                                                                                                                                  REVIEW_COMMENTS  \\\n",
      "377922   I received my catalog less than a week ago and had decided to order this quilt.  However when I came on here to purchase it, the King was already unavailable!  I contacted customer service and was told this item was a limited edition, and TCS wouldn't be receiving any more.  Really??  Why wouldn't you let your customers know that this item is a limited edition and advertise it in your catalog knowing most customers wouldn't be able to purchase this product??  I'm really disappointed in The Company Store on this one.                                                                                                                                                                                                                                                                                                                                                                                                                                                                                                                                                                                                                                                                                                                                                                                                                                                                                                                                                                                                                                                                                                                                                                                                                                                                                                                                                                                                                                                  \n",
      "211095   Those are not the cards I ordered, and my order never arrived.I am so displeased with Shutterfly after being a long time customer.                                                                                                                                                                                                                                                                                                                                                                                                                                                                                                                                                                                                                                                                                                                                                                                                                                                                                                                                                                                                                                                                                                                                                                                                                                                                                                                                                                                                                                                                                                                                                                                                                                                                                                                                                                                                                                                         \n",
      "5962585  Everyone was as helpful as can be. All the checks were on time, just was every Thursday like clock walk. Thank you for everything                                                                                                                                                                                                                                                                                                                                                                                                                                                                                                                                                                                                                                                                                                                                                                                                                                                                                                                                                                                                                                                                                                                                                                                                                                                                                                                                                                                                                                                                                                                                                                                                                                                                                                                                                                                                                                                          \n",
      "177736   I needed a product that would seal a crack from an old prefab pond liner underwater, but it didnt work, and would not stick. I tried it on its own and with rubber tape, but neither method worked underwater.\\n\\nBased on help from the thePondguy staff, they recommended an aquatic epoxy for this tough job, which, when used with a silicone tape mesh, worked and I was able to repair the crack. I appreciated the recommendation from thePondGuys.\\n\\nMy recommendation is based on the claim it would work underwater. YMMV                                                                                                                                                                                                                                                                                                                                                                                                                                                                                                                                                                                                                                                                                                                                                                                                                                                                                                                                                                                                                                                                                                                                                                                                                                                                                                                                                                                                                                                       \n",
      "62656    Next pair I buy please do not have any cuts on my shoes please!                                                                                                                                                                                                                                                                                                                                                                                                                                                                                                                                                                                                                                                                                                                                                                                                                                                                                                                                                                                                                                                                                                                                                                                                                                                                                                                                                                                                                                                                                                                                                                                                                                                                                                                                                                                                                                                                                                                            \n",
      "232158   After ordering both items on line back in Oct (before lockdown). To my shock Hermes delivered an empty bag?? After getting in touch with JDSport they had to go through their investigations. They assumed me the items were still in stock and they would send them out again once the investigation was complete. After a week I receive an email to confirm my refund and that the  items were out of stock??? I did look on their website straightaway and both items were in stock and I could of re-ordered them again if I wanted. I chose not to and go else where. Can you believe I am still waiting for an apology or something to make my feel I would continue to shop with this company again. Shame on you JDSports just think it's customers like us that make you who you are.                                                                                                                                                                                                                                                                                                                                                                                                                                                                                                                                                                                                                                                                                                                                                                                                                                                                                                                                                                                                                                                                                                                                                                                            \n",
      "52220    Please bring back original hot dogs \"Nathan's \"                                                                                                                                                                                                                                                                                                                                                                                                                                                                                                                                                                                                                                                                                                                                                                                                                                                                                                                                                                                                                                                                                                                                                                                                                                                                                                                                                                                                                                                                                                                                                                                                                                                                                                                                                                                                                                                                                                                                            \n",
      "180034   Previous ones purchased are great                                                                                                                                                                                                                                                                                                                                                                                                                                                                                                                                                                                                                                                                                                                                                                                                                                                                                                                                                                                                                                                                                                                                                                                                                                                                                                                                                                                                                                                                                                                                                                                                                                                                                                                                                                                                                                                                                                                                                          \n",
      "251932   Bag itself is great. One star because a dust cover was not included. Called ilovedooney.com & told by a rep because the 'body' of the bag is not leather, but fabric; a dustcover/dustbag is not required to be sent...but sometimes, shipping will throw one in the box. Explained I wasn't aware of this, not listed in the description with the item, how am I to store it, etc. The East West Collins still has all leather trim and handles, so what does it matter? As all my prior bags were 'fully' leather, I have never encountered this before. I had to call Dooney & Bourke directly, be told I could 'purchase' a dustcover, go through several long holds and request to speak to a supervisor before being granted a dustcover as a 'one time courtesy'. A dustcover is the equivalent a WalMart plastic disposable shopping bag. Why in the world was it like pulling teeth to get what should have come with the bag anyway.? Apparently, dustcovers are included when shipping just arbitrarily decides on some occasions to 'throw one in the box'. I am willing to pay for quality, but I am not willing to be 'nickeled and dimed'. Dooney & Bourke is not the only maker of quality leather goods. Dustbags should come with all purses and totes. This left a bad taste in my mouth, like I am not appreciated as a customer. Going forward, it is NOT likely that I will continue to purchase DB bags. Change your policies.                                                                                                                                                                                                                                                                                                                                                                                                                                                                                                                                      \n",
      "271548   I have not received my shoes                                                                                                                                                                                                                                                                                                                                                                                                                                                                                                                                                                                                                                                                                                                                                                                                                                                                                                                                                                                                                                                                                                                                                                                                                                                                                                                                                                                                                                                                                                                                                                                                                                                                                                                                                                                                                                                                                                                                                               \n",
      "115119   I will rate this item as soon as I receive it.....                                                                                                                                                                                                                                                                                                                                                                                                                                                                                                                                                                                                                                                                                                                                                                                                                                                                                                                                                                                                                                                                                                                                                                                                                                                                                                                                                                                                                                                                                                                                                                                                                                                                                                                                                                                                                                                                                                                                         \n",
      "229883   Not sure inhave yet to attempt to use it.                                                                                                                                                                                                                                                                                                                                                                                                                                                                                                                                                                                                                                                                                                                                                                                                                                                                                                                                                                                                                                                                                                                                                                                                                                                                                                                                                                                                                                                                                                                                                                                                                                                                                                                                                                                                                                                                                                                                                  \n",
      "183697   I have tires on my car I bought new. FUSION HRI 225/6015 89 Mustang, they only have 8,000 miles but I put them on 10 years ago. Will they need replacing soon and will these Cooper CS5 last as long ( in years )                                                                                                                                                                                                                                                                                                                                                                                                                                                                                                                                                                                                                                                                                                                                                                                                                                                                                                                                                                                                                                                                                                                                                                                                                                                                                                                                                                                                                                                                                                                                                                                                                                                                                                                                                                          \n",
      "63383    apparently there are a couple \"versions\" of these shorts... some have belt loops some do not... mine did not... no way to tighten them at all.  Seems like a pretty big blunder... And now I am supposed to pay $10 to send these back?  Only plus is the material... All the pockets are made for 5 year olds (tiny)  2nd Kuhl item I have bought and the last... overpriced, mistake-riddled, mediocrity.  Oh and I read about the sizing being way off and it was... I have a 33\" waist and the 36\" it just a tiny bit big... belt loops or elastic would have easily fixed this problem                                                                                                                                                                                                                                                                                                                                                                                                                                                                                                                                                                                                                                                                                                                                                                                                                                                                                                                                                                                                                                                                                                                                                                                                                                                                                                                                                                                                \n",
      "387706   The stuff sack for my BA tent just shredded last week under normal use just slipping my tent in there. It's crazy the fabric would do that. it took several days to hear back from BA on my warranty request. Surprisingly, BA did NOT have a replacement and replied, basically saying 'too bad sucker! Buy one of our other stuff sacks that don't fit your tent, and pay full price for it as well.' Are you kidding me? What kind of support is this? I own lots of BA gear. It's expensive and I assumed great support would be part of the complete package. Other reviews express my same concern.                                                                                                                                                                                                                                                                                                                                                                                                                                                                                                                                                                                                                                                                                                                                                                                                                                                                                                                                                                                                                                                                                                                                                                                                                                                                                                                                                                                  \n",
      "120005   The box took 2 months get for me. It had to be replaced due to being lost and just not pleased with the shipping process.                                                                                                                                                                                                                                                                                                                                                                                                                                                                                                                                                                                                                                                                                                                                                                                                                                                                                                                                                                                                                                                                                                                                                                                                                                                                                                                                                                                                                                                                                                                                                                                                                                                                                                                                                                                                                                                                  \n",
      "15511    I'm only giving this scent a 4 star rating because I can't find it anywhere. It is a favorite in our household that we've been using for years but it's recently disappeared off the shelves and has been replaced with our least favorite Lavender Aloe. Please tell me the Lavender & Peach Blossom hasn't been discontinued.                                                                                                                                                                                                                                                                                                                                                                                                                                                                                                                                                                                                                                                                                                                                                                                                                                                                                                                                                                                                                                                                                                                                                                                                                                                                                                                                                                                                                                                                                                                                                                                                                                                            \n",
      "160531   I am confused- some people are saying size 2, 4, 6 etc. while others are saying S, M, L?                                                                                                                                                                                                                                                                                                                                                                                                                                                                                                                                                                                                                                                                                                                                                                                                                                                                                                                                                                                                                                                                                                                                                                                                                                                                                                                                                                                                                                                                                                                                                                                                                                                                                                                                                                                                                                                                                                   \n",
      "281700   Not sure yet                                                                                                                                                                                                                                                                                                                                                                                                                                                                                                                                                                                                                                                                                                                                                                                                                                                                                                                                                                                                                                                                                                                                                                                                                                                                                                                                                                                                                                                                                                                                                                                                                                                                                                                                                                                                                                                                                                                                                                               \n",
      "290324   Will this world on other shoes besides vans?                                                                                                                                                                                                                                                                                                                                                                                                                                                                                                                                                                                                                                                                                                                                                                                                                                                                                                                                                                                                                                                                                                                                                                                                                                                                                                                                                                                                                                                                                                                                                                                                                                                                                                                                                                                                                                                                                                                                               \n",
      "168516   I had purchased shoes before @ Macy's. So I loved the shoes. It's important to invest in your shoes rather their for working, standing or walking. I wasn't please with the additional cost of shipping and handling. I think that's unheard of to have to pay after spending much on the merchandise. Will pay off this account with the intentions of not making any future purchases. The only reason I purchased from Massey is because Macy's didn't have my size.                                                                                                                                                                                                                                                                                                                                                                                                                                                                                                                                                                                                                                                                                                                                                                                                                                                                                                                                                                                                                                                                                                                                                                                                                                                                                                                                                                                                                                                                                                                    \n",
      "178203   These were canceled on my order.  Did i get charged?  I have no idea.                                                                                                                                                                                                                                                                                                                                                                                                                                                                                                                                                                                                                                                                                                                                                                                                                                                                                                                                                                                                                                                                                                                                                                                                                                                                                                                                                                                                                                                                                                                                                                                                                                                                                                                                                                                                                                                                                                                      \n",
      "46615    6 weeks....Still waiting for product.    Found out it will be another 8 weeks\\n1                                                                                                                                                                                                                                                                                                                                                                                                                                                                                                                                                                                                                                                                                                                                                                                                                                                                                                                                                                                                                                                                                                                                                                                                                                                                                                                                                                                                                                                                                                                                                                                                                                                                                                                                                                                                                                                                                                           \n",
      "173558   I haven't recived them.                                                                                                                                                                                                                                                                                                                                                                                                                                                                                                                                                                                                                                                                                                                                                                                                                                                                                                                                                                                                                                                                                                                                                                                                                                                                                                                                                                                                                                                                                                                                                                                                                                                                                                                                                                                                                                                                                                                                                                    \n",
      "268609   Headline says it all.  Unsubscribing to this company  Any company that would charge this much for ammo  even in a time of shortage is unethical                                                                                                                                                                                                                                                                                                                                                                                                                                                                                                                                                                                                                                                                                                                                                                                                                                                                                                                                                                                                                                                                                                                                                                                                                                                                                                                                                                                                                                                                                                                                                                                                                                                                                                                                                                                                                                            \n",
      "259154   I purchase from you guys at a regular bases,  you guys are always courteous,  ready help in any way and if there's a problem ready to fix it. Thanks for being here to help me in my pond adventures thanks Penny Cate                                                                                                                                                                                                                                                                                                                                                                                                                                                                                                                                                                                                                                                                                                                                                                                                                                                                                                                                                                                                                                                                                                                                                                                                                                                                                                                                                                                                                                                                                                                                                                                                                                                                                                                                                                     \n",
      "190748   Ordered with a 14 day delivery option. After 20 days it hadn't arrived. Contacted customer services who replied after 3 days to inform me it was out of stock. Why take the order and my money in the first instance and if I hadn't of got in touch when would I have got my money refunded? Not impressed.                                                                                                                                                                                                                                                                                                                                                                                                                                                                                                                                                                                                                                                                                                                                                                                                                                                                                                                                                                                                                                                                                                                                                                                                                                                                                                                                                                                                                                                                                                                                                                                                                                                                               \n",
      "161291   Misleading ads                                                                                                                                                                                                                                                                                                                                                                                                                                                                                                                                                                                                                                                                                                                                                                                                                                                                                                                                                                                                                                                                                                                                                                                                                                                                                                                                                                                                                                                                                                                                                                                                                                                                                                                                                                                                                                                                                                                                                                             \n",
      "236004   Hi I'm not sure what going on because I never received my shoes. Please help!                                                                                                                                                                                                                                                                                                                                                                                                                                                                                                                                                                                                                                                                                                                                                                                                                                                                                                                                                                                                                                                                                                                                                                                                                                                                                                                                                                                                                                                                                                                                                                                                                                                                                                                                                                                                                                                                                                              \n",
      "58080    Best winter work pants ever! Will buy more if you bring them back!                                                                                                                                                                                                                                                                                                                                                                                                                                                                                                                                                                                                                                                                                                                                                                                                                                                                                                                                                                                                                                                                                                                                                                                                                                                                                                                                                                                                                                                                                                                                                                                                                                                                                                                                                                                                                                                                                                                         \n",
      "5467100  We loved using the bike the week we got it, however, our bike broke the first time my husband went to stand on the pedals. So after buying the bike in late March and receiving it the third week in April we are yet to get significant use out of it. Obviously the pandemic is affecting shipping of the bike and parts, but I can't help but be a little disappointed especially that it broke so early in. Something we've noticed about the bike is that the lowest gear seems stiff, waiting to see if it loosens with time.                                                                                                                                                                                                                                                                                                                                                                                                                                                                                                                                                                                                                                                                                                                                                                                                                                                                                                                                                                                                                                                                                                                                                                                                                                                                                                                                                                                                                                                        \n",
      "3067231  I collect cats,  This is a sweet statue.                                                                                                                                                                                                                                                                                                                                                                                                                                                                                                                                                                                                                                                                                                                                                                                                                                                                                                                                                                                                                                                                                                                                                                                                                                                                                                                                                                                                                                                                                                                                                                                                                                                                                                                                                                                                                                                                                                                                                   \n",
      "299165   Anywhere White Chocolate Raspberry creamer is available in the 92128 zip code??? Cannot find it anywhere. Thought this might be the situation months ago so got like 5 bottles before hoarding was a thing. Now about to run out! Amazon wants $19.50 a bottle! Please help, you're our only hope....                                                                                                                                                                                                                                                                                                                                                                                                                                                                                                                                                                                                                                                                                                                                                                                                                                                                                                                                                                                                                                                                                                                                                                                                                                                                                                                                                                                                                                                                                                                                                                                                                                                                                      \n",
      "254213   I ordered this couch on August 20th. Online they said that it would be 8-9 weeks. 9 weeks passed and nothing. I at least thought I would get an update. I reached out via email and never heard back. Had to call my local slumberland to figure out what was going on. When I called, they said that it would be delivered that Wednesday. The couch never showed up. I called again. Apparently it didn't make it on their delivery truck so I had to wait until Saturday. When my couch arrived, my mom had asked the guy if he was alone and if he was if he needed help getting the couch from the truck to our door. We told him that we would be taking it up our deck to bring it into our house as that is easier and he could leave it right in the front as we had help on the way. He proceeded to move the couch towards the deck- BREAKING MY CHRISTMAS DECORATIONS... he knew he broke them. I could hear them crack and fall from inside the house. He didn't say a word, no apology nothing. He proceeded to aggressively pull the couch onto my deck. He was having problems trying to get it up the second part of the deck and kept yanking it. I thought the couch was going to be broken. It took me opening the door, telling him to leave it where it was and that we would take it from there...even though we told him that leaving it where he put it the first time was fine. He left it and just walked to his truck. No words spoken except for him telling us he was alone and didn't need help. My dad and I got the couch moved into the house. They are lucky he didn't break it. For what I paid, its okay. definitely needs to be broken in. We called and talked to someone at Slumberland but apparently the manager was out sick. We never received a phone call back. I wouldn't be so upset if he would have apologized for breaking my decorations. If he would have left it where we asked him to, this would have been a much better review.   \n",
      "11910    I was so excited to give this puzzle to my dad for Christmas.  However, after ordering it during the week of  thanksgiving, I still have yet to receive it (today is January 2).  Where is my order, Shutterfly??                                                                                                                                                                                                                                                                                                                                                                                                                                                                                                                                                                                                                                                                                                                                                                                                                                                                                                                                                                                                                                                                                                                                                                                                                                                                                                                                                                                                                                                                                                                                                                                                                                                                                                                                                                          \n",
      "332974   Companies such as yours should hire people that can think. How can I share any opinions on this product when you haven't sent it to me yet?????                                                                                                                                                                                                                                                                                                                                                                                                                                                                                                                                                                                                                                                                                                                                                                                                                                                                                                                                                                                                                                                                                                                                                                                                                                                                                                                                                                                                                                                                                                                                                                                                                                                                                                                                                                                                                                            \n",
      "137625   I've not taken them, was considering trying, then read dosages. 3 per day?!  £15 a box and it won't even last 1 month? Poor value. Better off with a general multi-vitamin. Ridiculous! I am sure tess daley can afford £30+ a month on multi-vitamins, but it is silly for these.                                                                                                                                                                                                                                                                                                                                                                                                                                                                                                                                                                                                                                                                                                                                                                                                                                                                                                                                                                                                                                                                                                                                                                                                                                                                                                                                                                                                                                                                                                                                                                                                                                                                                                         \n",
      "32438    Is this set made in China? Unfortunately, some Melissa and Doug toys are.                                                                                                                                                                                                                                                                                                                                                                                                                                                                                                                                                                                                                                                                                                                                                                                                                                                                                                                                                                                                                                                                                                                                                                                                                                                                                                                                                                                                                                                                                                                                                                                                                                                                                                                                                                                                                                                                                                                  \n",
      "162386   It would be nice to actually be able to BUY these.  If they are unavailable...take them off your site.  I have been periodically checking these for upwards of 9 months only to find that, every time, they are out of stock.  Save the scroll guys, they don't have them.  EXTREMELY frustrating.                                                                                                                                                                                                                                                                                                                                                                                                                                                                                                                                                                                                                                                                                                                                                                                                                                                                                                                                                                                                                                                                                                                                                                                                                                                                                                                                                                                                                                                                                                                                                                                                                                                                                         \n",
      "4834592  The color is great... My big concern with the model in the store was the grinding noise when you raised and lowered the leg rest.   The sales associates who was very nice and helpful, did say a lot of people sat in those chairs so probably a new one would not grind or I could return. After shipping delays and incorrect voice messages left it took nearly a month from date of purchase to delivery.  Needless to say the time involved moving a chair into and out of the area because of the incorrect messages left my sons unhappy campers.   Finally the day arrived.    Guess what?   It has a slight grind when lifting and lowering the leg rest and I'm pretty sure it will get worse with use and time.   No way after all I went through to get it delivered will I take it back.   My sons are done with it.  I'm not paying delivery return charges and go through the hastle.\\nanother problem there is a I phone plug in in the arm of the chair along with the mechanical buttons used for raising and lowering.  There is a\\npointed small round apparatus at the elbow area that actually causes cuts and scratches to ones arm..   It is something that should not be filled down.    It was time consuming waiting on the phone for customer service about the communication, or lack of, regarding automatic messages left that were incorrect.   I have shopped at NFM since they were built here in KC.   I'm sorry to say their customer service is not what it use to be... Once item purchased..... heaven forbid you have to return it or get anyone who cares to help resolve the problem.    I am just living with the problem...  it's easier than returning.      Seriously reconsidering my buying options and shopping elsewhere...                                                                                                                                                                                                             \n",
      "307998   So no charger came with the watch, despite the insert stating to use the charger that came with the watch.  It had no charge, so it was basically a brick.  I called and they said they would send a charger, but I haven't seen it yet.                                                                                                                                                                                                                                                                                                                                                                                                                                                                                                                                                                                                                                                                                                                                                                                                                                                                                                                                                                                                                                                                                                                                                                                                                                                                                                                                                                                                                                                                                                                                                                                                                                                                                                                                                   \n",
      "238033   Has not been given get but I hope my wife will be pleased with it.                                                                                                                                                                                                                                                                                                                                                                                                                                                                                                                                                                                                                                                                                                                                                                                                                                                                                                                                                                                                                                                                                                                                                                                                                                                                                                                                                                                                                                                                                                                                                                                                                                                                                                                                                                                                                                                                                                                         \n",
      "234459   I've been wanting to order this for a while as reviews are great but my colour hasn't \\nBeen available!  Please try to bring more colours for us.  Thankyou JR and tsc!                                                                                                                                                                                                                                                                                                                                                                                                                                                                                                                                                                                                                                                                                                                                                                                                                                                                                                                                                                                                                                                                                                                                                                                                                                                                                                                                                                                                                                                                                                                                                                                                                                                                                                                                                                                                                    \n",
      "74159    I just have a question. Are there shoelaces? This is a great shoe with shoelaces. thx                                                                                                                                                                                                                                                                                                                                                                                                                                                                                                                                                                                                                                                                                                                                                                                                                                                                                                                                                                                                                                                                                                                                                                                                                                                                                                                                                                                                                                                                                                                                                                                                                                                                                                                                                                                                                                                                                                      \n",
      "269811   Did not realize these were made in china and not only when I put them on, I can't breathe very well because the fabric is heavy and my face started burning. Inwould have never bought these knowing they were made in china. What a joke. China gave us this virus and now we are to buy face masks from them?? I don't believe in masks but since they are mandatory, I needed to buy some. Definitely not buying from china. Can't return these. Banana republic, aren't you better than this? I love your clothes and always have but you need to stand up for the good!!!                                                                                                                                                                                                                                                                                                                                                                                                                                                                                                                                                                                                                                                                                                                                                                                                                                                                                                                                                                                                                                                                                                                                                                                                                                                                                                                                                                                                             \n",
      "44502    Second time I've asked this question.. no response on the 1st.. what do you have to say 2nd time round customer service?                                                                                                                                                                                                                                                                                                                                                                                                                                                                                                                                                                                                                                                                                                                                                                                                                                                                                                                                                                                                                                                                                                                                                                                                                                                                                                                                                                                                                                                                                                                                                                                                                                                                                                                                                                                                                                                                   \n",
      "375947   Toronto Driving Academy is dedicated to offering fast and affordable driver training at all levels. We strongly believe that quality driver education is the foundation to making our roads safer. Let's help you get on the road quickly and safely.\\n\\nToronto Driving Academy, providing defensive driving lessons in the city of Toronto and the surrounding areas for the past decade. We pride ourselves on our quality of services, our affordability. We strive for excellence everyday.\\n\\nToronto driving academy offers ten 1-hour private lessons, flexible appointment times, teaching adapted to each student's ability behind the wheel.\\n\\nWe also offer: A comprehensive program approved by the Ministry of Transportation and interactive classroom instruction.\\n\\nAreas that we service in Toronto, ON\\n\\nOld Toronto\\nEast York\\nEtobicoke\\nNorth York\\nScarborough\\nYork\\n\\nToronto Driving Academy\\n1127 Broadview Ave Suite B, East York, ON M4K 2S6\\n(416) 849-1555  \\n\\nhttps://www.torontodrivingacademy.com/                                                                                                                                                                                                                                                                                                                                                                                                                                                                                                                                                                                                                                                                                                                                                                                                                                                                                                                                                  \n",
      "63807    Hi my friends i am find good reveiw TREK MARLIN 6 2021. One minutes all main characteristics https://www.youtube.com/watch?v=9XXQr0B8y_c                                                                                                                                                                                                                                                                                                                                                                                                                                                                                                                                                                                                                                                                                                                                                                                                                                                                                                                                                                                                                                                                                                                                                                                                                                                                                                                                                                                                                                                                                                                                                                                                                                                                                                                                                                                                                                                   \n",
      "167198   I thought I would give this a shot since it was a new product and everyone swears by everything CBD.  Well, first of all the bottle is so small you can maybe cover one horse leg.  Secondly, there was no change.  I even tried it on myself and noticed nothing.  I hope it works for someone else that tries it.                                                                                                                                                                                                                                                                                                                                                                                                                                                                                                                                                                                                                                                                                                                                                                                                                                                                                                                                                                                                                                                                                                                                                                                                                                                                                                                                                                                                                                                                                                                                                                                                                                                                        \n",
      "17249    My order has not shipped yet. I've gotten two estimated delivery dates.  I should have had it by now. Extremely disappointed with the incorrect information given when I placed the order. If you're ordering a Christmas gift, don't order from Old Navy!                                                                                                                                                                                                                                                                                                                                                                                                                                                                                                                                                                                                                                                                                                                                                                                                                                                                                                                                                                                                                                                                                                                                                                                                                                                                                                                                                                                                                                                                                                                                                                                                                                                                                                                                 \n",
      "346015   They should be offering a warranty beyond that of a new one if they have confidence in their work on the product. Not what I would expect.                                                                                                                                                                                                                                                                                                                                                                                                                                                                                                                                                                                                                                                                                                                                                                                                                                                                                                                                                                                                                                                                                                                                                                                                                                                                                                                                                                                                                                                                                                                                                                                                                                                                                                                                                                                                                                                 \n",
      "153831   I believe I got a defective product. the white part was black and the black part was white. its the opposite color of what is shown in the pictures. I didn't even receive them in their original box. they were wrapped around a plastic bag, and now to return the item I have to print our the return label and send it back. why would you even send me the defective one? I don't understand.                                                                                                                                                                                                                                                                                                                                                                                                                                                                                                                                                                                                                                                                                                                                                                                                                                                                                                                                                                                                                                                                                                                                                                                                                                                                                                                                                                                                                                                                                                                                                                                         \n",
      "123651   Please contact me because I have never received my shoes                                                                                                                                                                                                                                                                                                                                                                                                                                                                                                                                                                                                                                                                                                                                                                                                                                                                                                                                                                                                                                                                                                                                                                                                                                                                                                                                                                                                                                                                                                                                                                                                                                                                                                                                                                                                                                                                                                                                   \n",
      "203265   If I could give it 0 stars I would...placed my order on 7/5/20 never was shipped they sent an email saying that the product was sold out however it is still available for purchase on their site. What kind of customer service is that??!                                                                                                                                                                                                                                                                                                                                                                                                                                                                                                                                                                                                                                                                                                                                                                                                                                                                                                                                                                                                                                                                                                                                                                                                                                                                                                                                                                                                                                                                                                                                                                                                                                                                                                                                                \n",
      "196683   NFM took the money including the service fee. It's supposed to be delivered in the future date. Prior to the supposed delivery date, got a call saying that it's been pushed 10 days due to delays from manufacturer.  No show on that date. When I called to find out what's going on , the customer agent mentioned that I received a message (which I did not) and disconnect the call without issuing any finite resolution to the issue. It looks like NFM sells an equipment they do not have in stock anywhere and are not even sure that it's gonna be manufactured / delivered on the date they advertise. It should have been honestly advertised as such, if that's is the case, to prevent unrealistic expectation. In general, I don't think this's an acceptable business practice. I'd advise anyone considering this product to go and purchase it somewhere it is in stock, even if it costs a bit more.                                                                                                                                                                                                                                                                                                                                                                                                                                                                                                                                                                                                                                                                                                                                                                                                                                                                                                                                                                                                                                                                  \n",
      "220324   I bought it about a month ago, it was damaged in shipping, I called customer service to have it replaced, was told I would get an email with the new tracking number but I haven't received the email so I hope that answers your question of \"Do you love it?\" I'd like to actually receive it.                                                                                                                                                                                                                                                                                                                                                                                                                                                                                                                                                                                                                                                                                                                                                                                                                                                                                                                                                                                                                                                                                                                                                                                                                                                                                                                                                                                                                                                                                                                                                                                                                                                                                           \n",
      "369490   This product is a direct copy of another company Sahicosmetics. I am incredibly disappointed in Ulta Beauty. Do better. You decline the offer to work with this company and you decided to copy it from their samples. You should be ashamed. If you are interested in the product please consider buying from Sahicomsetics.com. We need to support small businesses especially right now.                                                                                                                                                                                                                                                                                                                                                                                                                                                                                                                                                                                                                                                                                                                                                                                                                                                                                                                                                                                                                                                                                                                                                                                                                                                                                                                                                                                                                                                                                                                                                                                                \n",
      "389031   FedEx lost it, and asked me to give them some time till they can find it. And I waited and nothing came So they want me to call samsonit to file a claim to FedEx. And Samsonite said no! Because it's over 7 days and their policy won't customer do anything after that.                                                                                                                                                                                                                                                                                                                                                                                                                                                                                                                                                                                                                                                                                                                                                                                                                                                                                                                                                                                                                                                                                                                                                                                                                                                                                                                                                                                                                                                                                                                                                                                                                                                                                                                 \n",
      "49839    Not delivered got refund                                                                                                                                                                                                                                                                                                                                                                                                                                                                                                                                                                                                                                                                                                                                                                                                                                                                                                                                                                                                                                                                                                                                                                                                                                                                                                                                                                                                                                                                                                                                                                                                                                                                                                                                                                                                                                                                                                                                                                   \n",
      "2815151  Cats look forward to their feeding with this product. As they like the food, who am I to not agree?                                                                                                                                                                                                                                                                                                                                                                                                                                                                                                                                                                                                                                                                                                                                                                                                                                                                                                                                                                                                                                                                                                                                                                                                                                                                                                                                                                                                                                                                                                                                                                                                                                                                                                                                                                                                                                                                                        \n",
      "169256   I think Ted Cruz is a liar and a trump anus-licker. Oh yeah, and a seditionist. Think for yourselves, sheeple!                                                                                                                                                                                                                                                                                                                                                                                                                                                                                                                                                                                                                                                                                                                                                                                                                                                                                                                                                                                                                                                                                                                                                                                                                                                                                                                                                                                                                                                                                                                                                                                                                                                                                                                                                                                                                                                                             \n",
      "46341    I can't comment on the watch as I never received it.\\nFossil kept my money for over a week and only then informed me the product was out of stock. Surely they would've known this before I made my payment?\\n\\nI then get an email asking me for a review???                                                                                                                                                                                                                                                                                                                                                                                                                                                                                                                                                                                                                                                                                                                                                                                                                                                                                                                                                                                                                                                                                                                                                                                                                                                                                                                                                                                                                                                                                                                                                                                                                                                                                                                              \n",
      "312305   I wanted the 2 shampoos as I do not need the conditioner. Is there a way I can do an even return and send the 2 in Shampoo?                                                                                                                                                                                                                                                                                                                                                                                                                                                                                                                                                                                                                                                                                                                                                                                                                                                                                                                                                                                                                                                                                                                                                                                                                                                                                                                                                                                                                                                                                                                                                                                                                                                                                                                                                                                                                                                                \n",
      "280244   ZERO STARS. It's funny I received a confirmation for my purchase but they couldn't find my order and said it would fall off my bank statement since it was never filled, never got the email for pickup but now here I am still charged, getting this review email for a product they never gave me for a party that was three weeks ago. When I went in to find it myself it said there was 12 in stock but nowhere to be found even with the help of 2 employees. Incompetent online customer support, terrible service.                                                                                                                                                                                                                                                                                                                                                                                                                                                                                                                                                                                                                                                                                                                                                                                                                                                                                                                                                                                                                                                                                                                                                                                                                                                                                                                                                                                                                                                                 \n",
      "148530   If I received the item above,  I might of enjoyed giving it to my son for a birthday present, BUT, unfortunately my order was placed on 8-7-2020 (today is 9-1-2020)  and I still have not received the Tailgater Fit-Forever Jeans.  I received the shirts I ordered.  My son's birthday is September 9.  Can I hold out any hope that I might receive the jeans by his birthday?????   I AM QUITE SURE MY CREDIT CARD HAS BEEN BILLED FOR THESE JEANS...….       ORDER NO.9917232 PLACED ON 8-7-2020                                                                                                                                                                                                                                                                                                                                                                                                                                                                                                                                                                                                                                                                                                                                                                                                                                                                                                                                                                                                                                                                                                                                                                                                                                                                                                                                                                                                                                                                                     \n",
      "209442   I feel like I wasted my money. I did everything right (despite the instructions being absolutely AWFUL and no help at all) and then I try to take it down and there is NO instructions for disassembly whatsoever. And no videos or help on the internet so now it's just stuck and completely unstable and unusable. I'm super mad and I feel extremely cheated out of my hard earned money.                                                                                                                                                                                                                                                                                                                                                                                                                                                                                                                                                                                                                                                                                                                                                                                                                                                                                                                                                                                                                                                                                                                                                                                                                                                                                                                                                                                                                                                                                                                                                                                              \n",
      "9477     I don't have my shoes yet and I ordered them on July the 3rd it don't take this long for them to get to me please help me in finding my shoes or give me my money back                                                                                                                                                                                                                                                                                                                                                                                                                                                                                                                                                                                                                                                                                                                                                                                                                                                                                                                                                                                                                                                                                                                                                                                                                                                                                                                                                                                                                                                                                                                                                                                                                                                                                                                                                                                                                     \n",
      "286398   If you no longer have the above travel perks...then I'm OUT! I don't need monthly credit scores. These are provided FREE by Credit Karma! This is like a \"Non-Perk Perk\".                                                                                                                                                                                                                                                                                                                                                                                                                                                                                                                                                                                                                                                                                                                                                                                                                                                                                                                                                                                                                                                                                                                                                                                                                                                                                                                                                                                                                                                                                                                                                                                                                                                                                                                                                                                                                  \n",
      "678      You have no boards in Scotland yet 1000's in Newcastle but won't deliver. What's that about?\\nWhy can't you shift stuff around. Then you offer 4.8 metre boards at twice the price. Makes no sense at all. Can somebody explain this anomaly?                                                                                                                                                                                                                                                                                                                                                                                                                                                                                                                                                                                                                                                                                                                                                                                                                                                                                                                                                                                                                                                                                                                                                                                                                                                                                                                                                                                                                                                                                                                                                                                                                                                                                                                                              \n",
      "289404   I haven't even been able to try it yet. There's been no indicator at all during the ordering process of when they'll be delivered or if there is a delay of some kind -- no communication of any kind except the \"order received\" email that said delivery would take 3-5 days. If something is going on, could you tell me? And the ordering gui should be updated to say least provide an ETA.                                                                                                                                                                                                                                                                                                                                                                                                                                                                                                                                                                                                                                                                                                                                                                                                                                                                                                                                                                                                                                                                                                                                                                                                                                                                                                                                                                                                                                                                                                                                                                                           \n",
      "263408   I would gladly purchase this item IF I was sure to have the order filled.  You cancelled this order within minutes of my placing it.                                                                                                                                                                                                                                                                                                                                                                                                                                                                                                                                                                                                                                                                                                                                                                                                                                                                                                                                                                                                                                                                                                                                                                                                                                                                                                                                                                                                                                                                                                                                                                                                                                                                                                                                                                                                                                                       \n",
      "158810   i was very please with the service...when i first ordered...i received a msg almost immediately that my item wasn't available...i was given the choice to wait or refund...i decided to wait and my mini tool arrived two weeks later...i will order again...                                                                                                                                                                                                                                                                                                                                                                                                                                                                                                                                                                                                                                                                                                                                                                                                                                                                                                                                                                                                                                                                                                                                                                                                                                                                                                                                                                                                                                                                                                                                                                                                                                                                                                                              \n",
      "9816     I ordered this for online pick up. Big Lots never emailed me to pick it up. I ask customer service what's up? They really did not know....they said \"we check with store it ready for pickup on Dec 23\"....my online order said if it wasn't picked up by the 23rd it would automatically cancel. Uhhhhhh???? I never ended up getting the bed frame, I'm going to purchase it from a more competent business. Thanks for making me dumber, Big Lots.                                                                                                                                                                                                                                                                                                                                                                                                                                                                                                                                                                                                                                                                                                                                                                                                                                                                                                                                                                                                                                                                                                                                                                                                                                                                                                                                                                                                                                                                                                                                      \n",
      "377042   so is the free gift a mystery or what?                                                                                                                                                                                                                                                                                                                                                                                                                                                                                                                                                                                                                                                                                                                                                                                                                                                                                                                                                                                                                                                                                                                                                                                                                                                                                                                                                                                                                                                                                                                                                                                                                                                                                                                                                                                                                                                                                                                                                     \n",
      "310335   Can you ad more ethnic group magazines?                                                                                                                                                                                                                                                                                                                                                                                                                                                                                                                                                                                                                                                                                                                                                                                                                                                                                                                                                                                                                                                                                                                                                                                                                                                                                                                                                                                                                                                                                                                                                                                                                                                                                                                                                                                                                                                                                                                                                    \n",
      "170140   Are you kidding me right now?                                                                                                                                                                                                                                                                                                                                                                                                                                                                                                                                                                                                                                                                                                                                                                                                                                                                                                                                                                                                                                                                                                                                                                                                                                                                                                                                                                                                                                                                                                                                                                                                                                                                                                                                                                                                                                                                                                                                                              \n",
      "313673   NO COMMENT                                                                                                                                                                                                                                                                                                                                                                                                                                                                                                                                                                                                                                                                                                                                                                                                                                                                                                                                                                                                                                                                                                                                                                                                                                                                                                                                                                                                                                                                                                                                                                                                                                                                                                                                                                                                                                                                                                                                                                                 \n",
      "196325   I love this shed that I still haven't received yet! May help to ensure the customer has received it before asking them to review it - you owe me a few quid in interest you've made on my money!!                                                                                                                                                                                                                                                                                                                                                                                                                                                                                                                                                                                                                                                                                                                                                                                                                                                                                                                                                                                                                                                                                                                                                                                                                                                                                                                                                                                                                                                                                                                                                                                                                                                                                                                                                                                          \n",
      "337543   1. Not listed on crimson traces websit?. 2. It only has a one year warranty.   3. It's not auto shut off.                                                                                                                                                                                                                                                                                                                                                                                                                                                                                                                                                                                                                                                                                                                                                                                                                                                                                                                                                                                                                                                                                                                                                                                                                                                                                                                                                                                                                                                                                                                                                                                                                                                                                                                                                                                                                                                                                  \n",
      "296839   I never received my sewing machine. After weeks of waiting I received an email that my order was cancelled. This was after I received an email from Singer and was was asked to rate my purchase. Now, I receive another email to rate my purchase again. I will probably never buy another Singer machine. I realize times are bad. Singer, please mark your records to not send me another email asking to rate my machine... you cancelled my purchase!                                                                                                                                                                                                                                                                                                                                                                                                                                                                                                                                                                                                                                                                                                                                                                                                                                                                                                                                                                                                                                                                                                                                                                                                                                                                                                                                                                                                                                                                                                                                 \n",
      "4000     the addres for my ithem is... 1505 Hoover ave. National City Ca. 91950. Please                                                                                                                                                                                                                                                                                                                                                                                                                                                                                                                                                                                                                                                                                                                                                                                                                                                                                                                                                                                                                                                                                                                                                                                                                                                                                                                                                                                                                                                                                                                                                                                                                                                                                                                                                                                                                                                                                                             \n",
      "316723   So very disappointed you no longer offer British Blend in K-cups.  Please reconsider - it was the best!                                                                                                                                                                                                                                                                                                                                                                                                                                                                                                                                                                                                                                                                                                                                                                                                                                                                                                                                                                                                                                                                                                                                                                                                                                                                                                                                                                                                                                                                                                                                                                                                                                                                                                                                                                                                                                                                                    \n",
      "158661   Can't review the actual product.  It never arrived. Had an email asking me to click and collect and when I got there it wasn't there. Customer service were unhelpful and it took me ages on the phone to get a refund.                                                                                                                                                                                                                                                                                                                                                                                                                                                                                                                                                                                                                                                                                                                                                                                                                                                                                                                                                                                                                                                                                                                                                                                                                                                                                                                                                                                                                                                                                                                                                                                                                                                                                                                                                                    \n",
      "327886   Please let me know when this will be shipped. I have not yet received it                                                                                                                                                                                                                                                                                                                                                                                                                                                                                                                                                                                                                                                                                                                                                                                                                                                                                                                                                                                                                                                                                                                                                                                                                                                                                                                                                                                                                                                                                                                                                                                                                                                                                                                                                                                                                                                                                                                   \n",
      "56353    Service has been pretty good . When I've had issues, I called in or wrote in & got the help I needed .                                                                                                                                                                                                                                                                                                                                                                                                                                                                                                                                                                                                                                                                                                                                                                                                                                                                                                                                                                                                                                                                                                                                                                                                                                                                                                                                                                                                                                                                                                                                                                                                                                                                                                                                                                                                                                                                                     \n",
      "7729437  Delivered on time and pleased they were in stock                                                                                                                                                                                                                                                                                                                                                                                                                                                                                                                                                                                                                                                                                                                                                                                                                                                                                                                                                                                                                                                                                                                                                                                                                                                                                                                                                                                                                                                                                                                                                                                                                                                                                                                                                                                                                                                                                                                                           \n",
      "309609   I received my cool mattress topper and the zipper on the cool cover broke. When I called I was told the whole thing had to be returned as they could not just send the cover. I received the replacement and honestly it is not cool no more than 1 minute if that long. It is very soft which I am not pleased with.  Also I find I am sliding in the bed. The scheduled pick up for the mattress got cancelled due to COVID 19 and it is still sitting in my spare room.                                                                                                                                                                                                                                                                                                                                                                                                                                                                                                                                                                                                                                                                                                                                                                                                                                                                                                                                                                                                                                                                                                                                                                                                                                                                                                                                                                                                                                                                                                                 \n",
      "160368   Why not donate? If everyone did it I bet it would really add up                                                                                                                                                                                                                                                                                                                                                                                                                                                                                                                                                                                                                                                                                                                                                                                                                                                                                                                                                                                                                                                                                                                                                                                                                                                                                                                                                                                                                                                                                                                                                                                                                                                                                                                                                                                                                                                                                                                            \n",
      "293542   The product is nice, like the lighter lining rather than the red.  \\n\\nCustomer service was AWFUL.  The price in the cart was lower than the price listed when I made the actual puchase.  I attempted to cancel  the order within 5 minutes of placing it.  I did get a response that was not helpful and requested a cancellation again.  The order was not canceled and now I am stuck with returning the purse.  I called for a pre-paid return label and was on hold for too long and was not offered the label.  I was told I could write a note to request a refund for shipping.  Honestly, I doubt anyone would read it.\\n\\nCustomer service and the web site should be improved. \\n\\n I will not make a purchase  from this company again.                                                                                                                                                                                                                                                                                                                                                                                                                                                                                                                                                                                                                                                                                                                                                                                                                                                                                                                                                                                                                                                                                                                                                                                                                                       \n",
      "55184    THey bunch and wrinkle! Awful! And customer service is terrible, wouldn't help to facilitate a return.                                                                                                                                                                                                                                                                                                                                                                                                                                                                                                                                                                                                                                                                                                                                                                                                                                                                                                                                                                                                                                                                                                                                                                                                                                                                                                                                                                                                                                                                                                                                                                                                                                                                                                                                                                                                                                                                                     \n",
      "276507   From placing the order to receiving it everything went smoothly, Emma went out of her way to help, (We left it a bit late...) and her emails kept us up to date every step of the way.\\n\\nDefinitely recommend and will order again.\\n\\nThank you for great service Emma.                                                                                                                                                                                                                                                                                                                                                                                                                                                                                                                                                                                                                                                                                                                                                                                                                                                                                                                                                                                                                                                                                                                                                                                                                                                                                                                                                                                                                                                                                                                                                                                                                                                                                                                  \n",
      "79678    I saw this on a small business site and found out she listed it in 2018 and marketed to ulta but they weren't interested. Why can a big complaint just steal and blatantly copy products they didn't design?                                                                                                                                                                                                                                                                                                                                                                                                                                                                                                                                                                                                                                                                                                                                                                                                                                                                                                                                                                                                                                                                                                                                                                                                                                                                                                                                                                                                                                                                                                                                                                                                                                                                                                                                                                               \n",
      "34694    Spent my hard earned money on this product and a few others and never received them. (Ordered online) I contacted both Beauty Brands and FedEx. BOTH said they couldn't help me retrieve my products nor refund me. I will never spend my money here again. 60 dollars to a company that doesn't care about their customers receiving their products.                                                                                                                                                                                                                                                                                                                                                                                                                                                                                                                                                                                                                                                                                                                                                                                                                                                                                                                                                                                                                                                                                                                                                                                                                                                                                                                                                                                                                                                                                                                                                                                                                                      \n",
      "369553   Why don't you offer discounts to loyal customers who have purchased the same items for years ??                                                                                                                                                                                                                                                                                                                                                                                                                                                                                                                                                                                                                                                                                                                                                                                                                                                                                                                                                                                                                                                                                                                                                                                                                                                                                                                                                                                                                                                                                                                                                                                                                                                                                                                                                                                                                                                                                            \n",
      "274648   Tia Maria was once a quality Liqueur, not anymore!                                                                                                                                                                                                                                                                                                                                                                                                                                                                                                                                                                                                                                                                                                                                                                                                                                                                                                                                                                                                                                                                                                                                                                                                                                                                                                                                                                                                                                                                                                                                                                                                                                                                                                                                                                                                                                                                                                                                         \n",
      "2120269  I stopped in store to try these on and holy hell is their sizing WAY OFF. I've been wearing a 1X lately since their sizing is inconsistent but also used to bounce to an XL in older styles.  I've also been wearing Athleta for over 10 years and they used to have great pants that were comfortable and actually breathed. I tried on a 1X and I couldn't get these pants over my hips without the elastic band breaking! Even getting it over my stomach which really reached my bra line, I couldn't breathe! Over the last couple years they have gone to more compression for some stupid reason and now I've returned multiple different pants because I can't breath and it really hurts to bend over! Who is designing these clothes!? Men? Twigs? Teenagers without real bodies yet? I used to spend so much money at this store and more and more I keep returning or not even buying. Shameful                                                                                                                                                                                                                                                                                                                                                                                                                                                                                                                                                                                                                                                                                                                                                                                                                                                                                                                                                                                                                                                                                \n",
      "335289   Want the Hello 2021 and when you click on it, a different onesie shows up. Please make more in each size of popular items like this!                                                                                                                                                                                                                                                                                                                                                                                                                                                                                                                                                                                                                                                                                                                                                                                                                                                                                                                                                                                                                                                                                                                                                                                                                                                                                                                                                                                                                                                                                                                                                                                                                                                                                                                                                                                                                                                       \n",
      "308369   I am not please with our purchase from 5/19.  We still have not received it and it was supposed to be delivered 6/3.    Not pleased at all                                                                                                                                                                                                                                                                                                                                                                                                                                                                                                                                                                                                                                                                                                                                                                                                                                                                                                                                                                                                                                                                                                                                                                                                                                                                                                                                                                                                                                                                                                                                                                                                                                                                                                                                                                                                                                                 \n",
      "3348869  This camera I got was broke out of the box. When I put a fully charged battery(and I bought two extra batteries) it starts and ask to pick date, etc., etc. Then you take a few photos, video, whatever. Then when I turn it off it does not come back on until I remove the battery and put it back in Then it is back to picking the date and time. The next thing is if I leave say a fully charged battery in it overnight, by the next day the battery has drained and needs a new charged battery, even though the camera just sat there off. A not too fully charge battery goes dead even faster so if I was to turn it off and say not use it for a few hours and leave the battery in, it will be drained dead. Now Beach Camera has replied to my email for me to send it back to them yet in these times of everything shut down or deliveries being slow or lost in delivery I am not wasting MORE TIME with their JUNK. If I loose it in transit then what? If times were different I suspect I would send it yet NOT in these times... I already loss one other package going a couple states away that they loss tracking on for the last month. So my point is BUYER BEWARE!  #sweepstakes                                                                                                                                                                                                                                                                                                                                                                                                                                                                                                                                                                                                                                                                                                                                                                                \n",
      "3209791  well indexed web site! ...easy to order. \\nReviews from customers also very helpful                                                                                                                                                                                                                                                                                                                                                                                                                                                                                                                                                                                                                                                                                                                                                                                                                                                                                                                                                                                                                                                                                                                                                                                                                                                                                                                                                                                                                                                                                                                                                                                                                                                                                                                                                                                                                                                                                                        \n",
      "\n",
      "         REVIEW_RATING  CS  \\\n",
      "377922   1              0    \n",
      "211095   1              0    \n",
      "5962585  5              0    \n",
      "177736   1              0    \n",
      "62656    4              0    \n",
      "232158   1              0    \n",
      "52220    5              0    \n",
      "180034   1              0    \n",
      "251932   1              0    \n",
      "271548   1              0    \n",
      "115119   1              0    \n",
      "229883   4              0    \n",
      "183697   5              0    \n",
      "63383    1              0    \n",
      "387706   1              0    \n",
      "120005   1              0    \n",
      "15511    4              0    \n",
      "160531   4              0    \n",
      "281700   3              0    \n",
      "290324   1              0    \n",
      "168516   1              0    \n",
      "178203   1              0    \n",
      "46615    1              0    \n",
      "173558   1              0    \n",
      "268609   1              0    \n",
      "259154   5              0    \n",
      "190748   1              0    \n",
      "161291   2              0    \n",
      "236004   2              0    \n",
      "58080    5              0    \n",
      "5467100  2              0    \n",
      "3067231  5              0    \n",
      "299165   5              0    \n",
      "254213   2              0    \n",
      "11910    1              0    \n",
      "332974   1              0    \n",
      "137625   1              0    \n",
      "32438    1              0    \n",
      "162386   1              0    \n",
      "4834592  3              0    \n",
      "307998   2              0    \n",
      "238033   3              0    \n",
      "234459   5              0    \n",
      "74159    5              0    \n",
      "269811   1              0    \n",
      "44502    1              0    \n",
      "375947   5              0    \n",
      "63807    5              0    \n",
      "167198   2              0    \n",
      "17249    1              0    \n",
      "346015   1              0    \n",
      "153831   1              0    \n",
      "123651   1              0    \n",
      "203265   1              0    \n",
      "196683   1              0    \n",
      "220324   1              0    \n",
      "369490   1              0    \n",
      "389031   1              0    \n",
      "49839    1              0    \n",
      "2815151  5              0    \n",
      "169256   1              0    \n",
      "46341    1              0    \n",
      "312305   2              0    \n",
      "280244   1              0    \n",
      "148530   1              0    \n",
      "209442   1              0    \n",
      "9477     1              0    \n",
      "286398   2              0    \n",
      "678      1              0    \n",
      "289404   1              0    \n",
      "263408   1              0    \n",
      "158810   5              0    \n",
      "9816     1              0    \n",
      "377042   4              0    \n",
      "310335   4              0    \n",
      "170140   1              0    \n",
      "313673   5              0    \n",
      "196325   1              0    \n",
      "337543   4              0    \n",
      "296839   1              0    \n",
      "4000     5              0    \n",
      "316723   5              0    \n",
      "158661   1              0    \n",
      "327886   1              0    \n",
      "56353    5              0    \n",
      "7729437  5              0    \n",
      "309609   1              0    \n",
      "160368   5              0    \n",
      "293542   3              0    \n",
      "55184    1              0    \n",
      "276507   5              0    \n",
      "79678    1              0    \n",
      "34694    1              0    \n",
      "369553   1              0    \n",
      "274648   1              0    \n",
      "2120269  1              0    \n",
      "335289   1              0    \n",
      "308369   1              0    \n",
      "3348869  1              0    \n",
      "3209791  4              0    \n",
      "\n",
      "                                                                                                                                                                                                                                                                                                                                                                                                                                                                                                                                                                                                                                                                                                                                                                                                                                                                                                                                                                                                                                                                                                                                                                                                                                                                                                                                                                                                                                                                                                                                                                                                                                                                                                                                                                                                                                                                                                                                                                                                                   ALL_TEXT  \\\n",
      "377922   Let your customers know a product is a limited item!! I received my catalog less than a week ago and had decided to order this quilt.  However when I came on here to purchase it, the King was already unavailable!  I contacted customer service and was told this item was a limited edition, and TCS wouldn't be receiving any more.  Really??  Why wouldn't you let your customers know that this item is a limited edition and advertise it in your catalog knowing most customers wouldn't be able to purchase this product??  I'm really disappointed in The Company Store on this one.                                                                                                                                                                                                                                                                                                                                                                                                                                                                                                                                                                                                                                                                                                                                                                                                                                                                                                                                                                                                                                                                                                                                                                                                                                                                                                                                                                                                                      \n",
      "211095   Shutterfly should have gone the extra mile to take care of t Those are not the cards I ordered, and my order never arrived.I am so displeased with Shutterfly after being a long time customer.                                                                                                                                                                                                                                                                                                                                                                                                                                                                                                                                                                                                                                                                                                                                                                                                                                                                                                                                                                                                                                                                                                                                                                                                                                                                                                                                                                                                                                                                                                                                                                                                                                                                                                                                                                                                                      \n",
      "5962585  Home Depot Everyone was as helpful as can be. All the checks were on time, just was every Thursday like clock walk. Thank you for everything                                                                                                                                                                                                                                                                                                                                                                                                                                                                                                                                                                                                                                                                                                                                                                                                                                                                                                                                                                                                                                                                                                                                                                                                                                                                                                                                                                                                                                                                                                                                                                                                                                                                                                                                                                                                                                                                         \n",
      "177736   Not good underwater I needed a product that would seal a crack from an old prefab pond liner underwater, but it didnt work, and would not stick. I tried it on its own and with rubber tape, but neither method worked underwater.\\n\\nBased on help from the thePondguy staff, they recommended an aquatic epoxy for this tough job, which, when used with a silicone tape mesh, worked and I was able to repair the crack. I appreciated the recommendation from thePondGuys.\\n\\nMy recommendation is based on the claim it would work underwater. YMMV                                                                                                                                                                                                                                                                                                                                                                                                                                                                                                                                                                                                                                                                                                                                                                                                                                                                                                                                                                                                                                                                                                                                                                                                                                                                                                                                                                                                                                                             \n",
      "62656    My New Vans Ski Hi original Black and White Next pair I buy please do not have any cuts on my shoes please!                                                                                                                                                                                                                                                                                                                                                                                                                                                                                                                                                                                                                                                                                                                                                                                                                                                                                                                                                                                                                                                                                                                                                                                                                                                                                                                                                                                                                                                                                                                                                                                                                                                                                                                                                                                                                                                                                                          \n",
      "232158   Poor Service After ordering both items on line back in Oct (before lockdown). To my shock Hermes delivered an empty bag?? After getting in touch with JDSport they had to go through their investigations. They assumed me the items were still in stock and they would send them out again once the investigation was complete. After a week I receive an email to confirm my refund and that the  items were out of stock??? I did look on their website straightaway and both items were in stock and I could of re-ordered them again if I wanted. I chose not to and go else where. Can you believe I am still waiting for an apology or something to make my feel I would continue to shop with this company again. Shame on you JDSports just think it's customers like us that make you who you are.                                                                                                                                                                                                                                                                                                                                                                                                                                                                                                                                                                                                                                                                                                                                                                                                                                                                                                                                                                                                                                                                                                                                                                                                         \n",
      "52220    Love Costco Please bring back original hot dogs \"Nathan's \"                                                                                                                                                                                                                                                                                                                                                                                                                                                                                                                                                                                                                                                                                                                                                                                                                                                                                                                                                                                                                                                                                                                                                                                                                                                                                                                                                                                                                                                                                                                                                                                                                                                                                                                                                                                                                                                                                                                                                          \n",
      "180034   Item not received. Presume lost in transit ?? Previous ones purchased are great                                                                                                                                                                                                                                                                                                                                                                                                                                                                                                                                                                                                                                                                                                                                                                                                                                                                                                                                                                                                                                                                                                                                                                                                                                                                                                                                                                                                                                                                                                                                                                                                                                                                                                                                                                                                                                                                                                                                      \n",
      "251932   Sorely Lacking in Customer Appreciation Bag itself is great. One star because a dust cover was not included. Called ilovedooney.com & told by a rep because the 'body' of the bag is not leather, but fabric; a dustcover/dustbag is not required to be sent...but sometimes, shipping will throw one in the box. Explained I wasn't aware of this, not listed in the description with the item, how am I to store it, etc. The East West Collins still has all leather trim and handles, so what does it matter? As all my prior bags were 'fully' leather, I have never encountered this before. I had to call Dooney & Bourke directly, be told I could 'purchase' a dustcover, go through several long holds and request to speak to a supervisor before being granted a dustcover as a 'one time courtesy'. A dustcover is the equivalent a WalMart plastic disposable shopping bag. Why in the world was it like pulling teeth to get what should have come with the bag anyway.? Apparently, dustcovers are included when shipping just arbitrarily decides on some occasions to 'throw one in the box'. I am willing to pay for quality, but I am not willing to be 'nickeled and dimed'. Dooney & Bourke is not the only maker of quality leather goods. Dustbags should come with all purses and totes. This left a bad taste in my mouth, like I am not appreciated as a customer. Going forward, it is NOT likely that I will continue to purchase DB bags. Change your policies.                                                                                                                                                                                                                                                                                                                                                                                                                                                                                                                        \n",
      "271548   i have not receiced my shoes, so how can i enjoy them ? I have not received my shoes                                                                                                                                                                                                                                                                                                                                                                                                                                                                                                                                                                                                                                                                                                                                                                                                                                                                                                                                                                                                                                                                                                                                                                                                                                                                                                                                                                                                                                                                                                                                                                                                                                                                                                                                                                                                                                                                                                                                 \n",
      "115119   Where is this item because I don't have it? I will rate this item as soon as I receive it.....                                                                                                                                                                                                                                                                                                                                                                                                                                                                                                                                                                                                                                                                                                                                                                                                                                                                                                                                                                                                                                                                                                                                                                                                                                                                                                                                                                                                                                                                                                                                                                                                                                                                                                                                                                                                                                                                                                                       \n",
      "229883   Giving me a gift certificate for reviewing a certificate? Not sure inhave yet to attempt to use it.                                                                                                                                                                                                                                                                                                                                                                                                                                                                                                                                                                                                                                                                                                                                                                                                                                                                                                                                                                                                                                                                                                                                                                                                                                                                                                                                                                                                                                                                                                                                                                                                                                                                                                                                                                                                                                                                                                                  \n",
      "183697   I can't find the Question Tab??? I have tires on my car I bought new. FUSION HRI 225/6015 89 Mustang, they only have 8,000 miles but I put them on 10 years ago. Will they need replacing soon and will these Cooper CS5 last as long ( in years )                                                                                                                                                                                                                                                                                                                                                                                                                                                                                                                                                                                                                                                                                                                                                                                                                                                                                                                                                                                                                                                                                                                                                                                                                                                                                                                                                                                                                                                                                                                                                                                                                                                                                                                                                                   \n",
      "63383    Kuh?l Not so much... Overpriced, mistake-riddled, mediocrity apparently there are a couple \"versions\" of these shorts... some have belt loops some do not... mine did not... no way to tighten them at all.  Seems like a pretty big blunder... And now I am supposed to pay $10 to send these back?  Only plus is the material... All the pockets are made for 5 year olds (tiny)  2nd Kuhl item I have bought and the last... overpriced, mistake-riddled, mediocrity.  Oh and I read about the sizing being way off and it was... I have a 33\" waist and the 36\" it just a tiny bit big... belt loops or elastic would have easily fixed this problem                                                                                                                                                                                                                                                                                                                                                                                                                                                                                                                                                                                                                                                                                                                                                                                                                                                                                                                                                                                                                                                                                                                                                                                                                                                                                                                                                             \n",
      "387706   Stuff Sack Replacements Not Available or Supported The stuff sack for my BA tent just shredded last week under normal use just slipping my tent in there. It's crazy the fabric would do that. it took several days to hear back from BA on my warranty request. Surprisingly, BA did NOT have a replacement and replied, basically saying 'too bad sucker! Buy one of our other stuff sacks that don't fit your tent, and pay full price for it as well.' Are you kidding me? What kind of support is this? I own lots of BA gear. It's expensive and I assumed great support would be part of the complete package. Other reviews express my same concern.                                                                                                                                                                                                                                                                                                                                                                                                                                                                                                                                                                                                                                                                                                                                                                                                                                                                                                                                                                                                                                                                                                                                                                                                                                                                                                                                                         \n",
      "120005   Shipping The box took 2 months get for me. It had to be replaced due to being lost and just not pleased with the shipping process.                                                                                                                                                                                                                                                                                                                                                                                                                                                                                                                                                                                                                                                                                                                                                                                                                                                                                                                                                                                                                                                                                                                                                                                                                                                                                                                                                                                                                                                                                                                                                                                                                                                                                                                                                                                                                                                                                   \n",
      "15511    Missing! Favorite Scent I'm only giving this scent a 4 star rating because I can't find it anywhere. It is a favorite in our household that we've been using for years but it's recently disappeared off the shelves and has been replaced with our least favorite Lavender Aloe. Please tell me the Lavender & Peach Blossom hasn't been discontinued.                                                                                                                                                                                                                                                                                                                                                                                                                                                                                                                                                                                                                                                                                                                                                                                                                                                                                                                                                                                                                                                                                                                                                                                                                                                                                                                                                                                                                                                                                                                                                                                                                                                              \n",
      "160531   Question on sizing: I am confused- some people are saying size 2, 4, 6 etc. while others are saying S, M, L?                                                                                                                                                                                                                                                                                                                                                                                                                                                                                                                                                                                                                                                                                                                                                                                                                                                                                                                                                                                                                                                                                                                                                                                                                                                                                                                                                                                                                                                                                                                                                                                                                                                                                                                                                                                                                                                                                                         \n",
      "281700   ? Not sure yet                                                                                                                                                                                                                                                                                                                                                                                                                                                                                                                                                                                                                                                                                                                                                                                                                                                                                                                                                                                                                                                                                                                                                                                                                                                                                                                                                                                                                                                                                                                                                                                                                                                                                                                                                                                                                                                                                                                                                                                                       \n",
      "290324   Will this world on other shoes besides vans? Will this world on other shoes besides vans?                                                                                                                                                                                                                                                                                                                                                                                                                                                                                                                                                                                                                                                                                                                                                                                                                                                                                                                                                                                                                                                                                                                                                                                                                                                                                                                                                                                                                                                                                                                                                                                                                                                                                                                                                                                                                                                                                                                            \n",
      "168516   Shoes great but Massey's disappointing I had purchased shoes before @ Macy's. So I loved the shoes. It's important to invest in your shoes rather their for working, standing or walking. I wasn't please with the additional cost of shipping and handling. I think that's unheard of to have to pay after spending much on the merchandise. Will pay off this account with the intentions of not making any future purchases. The only reason I purchased from Massey is because Macy's didn't have my size.                                                                                                                                                                                                                                                                                                                                                                                                                                                                                                                                                                                                                                                                                                                                                                                                                                                                                                                                                                                                                                                                                                                                                                                                                                                                                                                                                                                                                                                                                                       \n",
      "178203   These were canceled on my order but they say i purchased These were canceled on my order.  Did i get charged?  I have no idea.                                                                                                                                                                                                                                                                                                                                                                                                                                                                                                                                                                                                                                                                                                                                                                                                                                                                                                                                                                                                                                                                                                                                                                                                                                                                                                                                                                                                                                                                                                                                                                                                                                                                                                                                                                                                                                                                                       \n",
      "46615    12 weeks delivery??? 6 weeks....Still waiting for product.    Found out it will be another 8 weeks\\n1                                                                                                                                                                                                                                                                                                                                                                                                                                                                                                                                                                                                                                                                                                                                                                                                                                                                                                                                                                                                                                                                                                                                                                                                                                                                                                                                                                                                                                                                                                                                                                                                                                                                                                                                                                                                                                                                                                                \n",
      "173558   ? I haven't recived them.                                                                                                                                                                                                                                                                                                                                                                                                                                                                                                                                                                                                                                                                                                                                                                                                                                                                                                                                                                                                                                                                                                                                                                                                                                                                                                                                                                                                                                                                                                                                                                                                                                                                                                                                                                                                                                                                                                                                                                                            \n",
      "268609   $50 for 20 rounds?! Price gouge much? Headline says it all.  Unsubscribing to this company  Any company that would charge this much for ammo  even in a time of shortage is unethical                                                                                                                                                                                                                                                                                                                                                                                                                                                                                                                                                                                                                                                                                                                                                                                                                                                                                                                                                                                                                                                                                                                                                                                                                                                                                                                                                                                                                                                                                                                                                                                                                                                                                                                                                                                                                                \n",
      "259154   Buying from TPG I purchase from you guys at a regular bases,  you guys are always courteous,  ready help in any way and if there's a problem ready to fix it. Thanks for being here to help me in my pond adventures thanks Penny Cate                                                                                                                                                                                                                                                                                                                                                                                                                                                                                                                                                                                                                                                                                                                                                                                                                                                                                                                                                                                                                                                                                                                                                                                                                                                                                                                                                                                                                                                                                                                                                                                                                                                                                                                                                                               \n",
      "190748   Order Ordered with a 14 day delivery option. After 20 days it hadn't arrived. Contacted customer services who replied after 3 days to inform me it was out of stock. Why take the order and my money in the first instance and if I hadn't of got in touch when would I have got my money refunded? Not impressed.                                                                                                                                                                                                                                                                                                                                                                                                                                                                                                                                                                                                                                                                                                                                                                                                                                                                                                                                                                                                                                                                                                                                                                                                                                                                                                                                                                                                                                                                                                                                                                                                                                                                                                   \n",
      "161291   $100 shipping - really? Misleading ads                                                                                                                                                                                                                                                                                                                                                                                                                                                                                                                                                                                                                                                                                                                                                                                                                                                                                                                                                                                                                                                                                                                                                                                                                                                                                                                                                                                                                                                                                                                                                                                                                                                                                                                                                                                                                                                                                                                                                                               \n",
      "236004   I don't know! Hi I'm not sure what going on because I never received my shoes. Please help!                                                                                                                                                                                                                                                                                                                                                                                                                                                                                                                                                                                                                                                                                                                                                                                                                                                                                                                                                                                                                                                                                                                                                                                                                                                                                                                                                                                                                                                                                                                                                                                                                                                                                                                                                                                                                                                                                                                          \n",
      "58080    Please bring these pants back!!!! Best winter work pants ever! Will buy more if you bring them back!                                                                                                                                                                                                                                                                                                                                                                                                                                                                                                                                                                                                                                                                                                                                                                                                                                                                                                                                                                                                                                                                                                                                                                                                                                                                                                                                                                                                                                                                                                                                                                                                                                                                                                                                                                                                                                                                                                                 \n",
      "5467100  Bike broke 4 rides in We loved using the bike the week we got it, however, our bike broke the first time my husband went to stand on the pedals. So after buying the bike in late March and receiving it the third week in April we are yet to get significant use out of it. Obviously the pandemic is affecting shipping of the bike and parts, but I can't help but be a little disappointed especially that it broke so early in. Something we've noticed about the bike is that the lowest gear seems stiff, waiting to see if it loosens with time.                                                                                                                                                                                                                                                                                                                                                                                                                                                                                                                                                                                                                                                                                                                                                                                                                                                                                                                                                                                                                                                                                                                                                                                                                                                                                                                                                                                                                                                            \n",
      "3067231  And say what? I collect cats,  This is a sweet statue.                                                                                                                                                                                                                                                                                                                                                                                                                                                                                                                                                                                                                                                                                                                                                                                                                                                                                                                                                                                                                                                                                                                                                                                                                                                                                                                                                                                                                                                                                                                                                                                                                                                                                                                                                                                                                                                                                                                                                               \n",
      "299165   Need it and can't find it Anywhere White Chocolate Raspberry creamer is available in the 92128 zip code??? Cannot find it anywhere. Thought this might be the situation months ago so got like 5 bottles before hoarding was a thing. Now about to run out! Amazon wants $19.50 a bottle! Please help, you're our only hope....                                                                                                                                                                                                                                                                                                                                                                                                                                                                                                                                                                                                                                                                                                                                                                                                                                                                                                                                                                                                                                                                                                                                                                                                                                                                                                                                                                                                                                                                                                                                                                                                                                                                                      \n",
      "254213   HORRIBLE CUSTOMER SERVICE I ordered this couch on August 20th. Online they said that it would be 8-9 weeks. 9 weeks passed and nothing. I at least thought I would get an update. I reached out via email and never heard back. Had to call my local slumberland to figure out what was going on. When I called, they said that it would be delivered that Wednesday. The couch never showed up. I called again. Apparently it didn't make it on their delivery truck so I had to wait until Saturday. When my couch arrived, my mom had asked the guy if he was alone and if he was if he needed help getting the couch from the truck to our door. We told him that we would be taking it up our deck to bring it into our house as that is easier and he could leave it right in the front as we had help on the way. He proceeded to move the couch towards the deck- BREAKING MY CHRISTMAS DECORATIONS... he knew he broke them. I could hear them crack and fall from inside the house. He didn't say a word, no apology nothing. He proceeded to aggressively pull the couch onto my deck. He was having problems trying to get it up the second part of the deck and kept yanking it. I thought the couch was going to be broken. It took me opening the door, telling him to leave it where it was and that we would take it from there...even though we told him that leaving it where he put it the first time was fine. He left it and just walked to his truck. No words spoken except for him telling us he was alone and didn't need help. My dad and I got the couch moved into the house. They are lucky he didn't break it. For what I paid, its okay. definitely needs to be broken in. We called and talked to someone at Slumberland but apparently the manager was out sick. We never received a phone call back. I wouldn't be so upset if he would have apologized for breaking my decorations. If he would have left it where we asked him to, this would have been a much better review.   \n",
      "11910    Never received my order! I was so excited to give this puzzle to my dad for Christmas.  However, after ordering it during the week of  thanksgiving, I still have yet to receive it (today is January 2).  Where is my order, Shutterfly??                                                                                                                                                                                                                                                                                                                                                                                                                                                                                                                                                                                                                                                                                                                                                                                                                                                                                                                                                                                                                                                                                                                                                                                                                                                                                                                                                                                                                                                                                                                                                                                                                                                                                                                                                                           \n",
      "332974   Looking forward to this product Companies such as yours should hire people that can think. How can I share any opinions on this product when you haven't sent it to me yet?????                                                                                                                                                                                                                                                                                                                                                                                                                                                                                                                                                                                                                                                                                                                                                                                                                                                                                                                                                                                                                                                                                                                                                                                                                                                                                                                                                                                                                                                                                                                                                                                                                                                                                                                                                                                                                                      \n",
      "137625   Poor value for money! I've not taken them, was considering trying, then read dosages. 3 per day?!  £15 a box and it won't even last 1 month? Poor value. Better off with a general multi-vitamin. Ridiculous! I am sure tess daley can afford £30+ a month on multi-vitamins, but it is silly for these.                                                                                                                                                                                                                                                                                                                                                                                                                                                                                                                                                                                                                                                                                                                                                                                                                                                                                                                                                                                                                                                                                                                                                                                                                                                                                                                                                                                                                                                                                                                                                                                                                                                                                                             \n",
      "32438    Not a review, but a question Is this set made in China? Unfortunately, some Melissa and Doug toys are.                                                                                                                                                                                                                                                                                                                                                                                                                                                                                                                                                                                                                                                                                                                                                                                                                                                                                                                                                                                                                                                                                                                                                                                                                                                                                                                                                                                                                                                                                                                                                                                                                                                                                                                                                                                                                                                                                                               \n",
      "162386   Are the EVER going to be in stock?  EVER? It would be nice to actually be able to BUY these.  If they are unavailable...take them off your site.  I have been periodically checking these for upwards of 9 months only to find that, every time, they are out of stock.  Save the scroll guys, they don't have them.  EXTREMELY frustrating.                                                                                                                                                                                                                                                                                                                                                                                                                                                                                                                                                                                                                                                                                                                                                                                                                                                                                                                                                                                                                                                                                                                                                                                                                                                                                                                                                                                                                                                                                                                                                                                                                                                                         \n",
      "4834592  NO....NO   AND NO... The color is great... My big concern with the model in the store was the grinding noise when you raised and lowered the leg rest.   The sales associates who was very nice and helpful, did say a lot of people sat in those chairs so probably a new one would not grind or I could return. After shipping delays and incorrect voice messages left it took nearly a month from date of purchase to delivery.  Needless to say the time involved moving a chair into and out of the area because of the incorrect messages left my sons unhappy campers.   Finally the day arrived.    Guess what?   It has a slight grind when lifting and lowering the leg rest and I'm pretty sure it will get worse with use and time.   No way after all I went through to get it delivered will I take it back.   My sons are done with it.  I'm not paying delivery return charges and go through the hastle.\\nanother problem there is a I phone plug in in the arm of the chair along with the mechanical buttons used for raising and lowering.  There is a\\npointed small round apparatus at the elbow area that actually causes cuts and scratches to ones arm..   It is something that should not be filled down.    It was time consuming waiting on the phone for customer service about the communication, or lack of, regarding automatic messages left that were incorrect.   I have shopped at NFM since they were built here in KC.   I'm sorry to say their customer service is not what it use to be... Once item purchased..... heaven forbid you have to return it or get anyone who cares to help resolve the problem.    I am just living with the problem...  it's easier than returning.      Seriously reconsidering my buying options and shopping elsewhere...                                                                                                                                                                                                                  \n",
      "307998   Where is the Charger? So no charger came with the watch, despite the insert stating to use the charger that came with the watch.  It had no charge, so it was basically a brick.  I called and they said they would send a charger, but I haven't seen it yet.                                                                                                                                                                                                                                                                                                                                                                                                                                                                                                                                                                                                                                                                                                                                                                                                                                                                                                                                                                                                                                                                                                                                                                                                                                                                                                                                                                                                                                                                                                                                                                                                                                                                                                                                                       \n",
      "238033   Christmas present Has not been given get but I hope my wife will be pleased with it.                                                                                                                                                                                                                                                                                                                                                                                                                                                                                                                                                                                                                                                                                                                                                                                                                                                                                                                                                                                                                                                                                                                                                                                                                                                                                                                                                                                                                                                                                                                                                                                                                                                                                                                                                                                                                                                                                                                                 \n",
      "234459   Bring more please! I've been wanting to order this for a while as reviews are great but my colour hasn't \\nBeen available!  Please try to bring more colours for us.  Thankyou JR and tsc!                                                                                                                                                                                                                                                                                                                                                                                                                                                                                                                                                                                                                                                                                                                                                                                                                                                                                                                                                                                                                                                                                                                                                                                                                                                                                                                                                                                                                                                                                                                                                                                                                                                                                                                                                                                                                           \n",
      "74159    Are there no shoelaces?? I just have a question. Are there shoelaces? This is a great shoe with shoelaces. thx                                                                                                                                                                                                                                                                                                                                                                                                                                                                                                                                                                                                                                                                                                                                                                                                                                                                                                                                                                                                                                                                                                                                                                                                                                                                                                                                                                                                                                                                                                                                                                                                                                                                                                                                                                                                                                                                                                       \n",
      "269811   Do not buy, made in china Did not realize these were made in china and not only when I put them on, I can't breathe very well because the fabric is heavy and my face started burning. Inwould have never bought these knowing they were made in china. What a joke. China gave us this virus and now we are to buy face masks from them?? I don't believe in masks but since they are mandatory, I needed to buy some. Definitely not buying from china. Can't return these. Banana republic, aren't you better than this? I love your clothes and always have but you need to stand up for the good!!!                                                                                                                                                                                                                                                                                                                                                                                                                                                                                                                                                                                                                                                                                                                                                                                                                                                                                                                                                                                                                                                                                                                                                                                                                                                                                                                                                                                                             \n",
      "44502    Why aren't the wheel kits available for the unit?? Second time I've asked this question.. no response on the 1st.. what do you have to say 2nd time round customer service?                                                                                                                                                                                                                                                                                                                                                                                                                                                                                                                                                                                                                                                                                                                                                                                                                                                                                                                                                                                                                                                                                                                                                                                                                                                                                                                                                                                                                                                                                                                                                                                                                                                                                                                                                                                                                                          \n",
      "375947   Toronto Driving Academy Toronto Driving Academy is dedicated to offering fast and affordable driver training at all levels. We strongly believe that quality driver education is the foundation to making our roads safer. Let's help you get on the road quickly and safely.\\n\\nToronto Driving Academy, providing defensive driving lessons in the city of Toronto and the surrounding areas for the past decade. We pride ourselves on our quality of services, our affordability. We strive for excellence everyday.\\n\\nToronto driving academy offers ten 1-hour private lessons, flexible appointment times, teaching adapted to each student's ability behind the wheel.\\n\\nWe also offer: A comprehensive program approved by the Ministry of Transportation and interactive classroom instruction.\\n\\nAreas that we service in Toronto, ON\\n\\nOld Toronto\\nEast York\\nEtobicoke\\nNorth York\\nScarborough\\nYork\\n\\nToronto Driving Academy\\n1127 Broadview Ave Suite B, East York, ON M4K 2S6\\n(416) 849-1555  \\n\\nhttps://www.torontodrivingacademy.com/                                                                                                                                                                                                                                                                                                                                                                                                                                                                                                                                                                                                                                                                                                                                                                                                                                                                                                                                                    \n",
      "63807    Hi my friends i am find good reveiw  TREK MARLIN 6 Hi my friends i am find good reveiw TREK MARLIN 6 2021. One minutes all main characteristics https://www.youtube.com/watch?v=9XXQr0B8y_c                                                                                                                                                                                                                                                                                                                                                                                                                                                                                                                                                                                                                                                                                                                                                                                                                                                                                                                                                                                                                                                                                                                                                                                                                                                                                                                                                                                                                                                                                                                                                                                                                                                                                                                                                                                                                          \n",
      "167198   Didn't help I thought I would give this a shot since it was a new product and everyone swears by everything CBD.  Well, first of all the bottle is so small you can maybe cover one horse leg.  Secondly, there was no change.  I even tried it on myself and noticed nothing.  I hope it works for someone else that tries it.                                                                                                                                                                                                                                                                                                                                                                                                                                                                                                                                                                                                                                                                                                                                                                                                                                                                                                                                                                                                                                                                                                                                                                                                                                                                                                                                                                                                                                                                                                                                                                                                                                                                                      \n",
      "17249    What jumper?!? My order has not shipped yet. I've gotten two estimated delivery dates.  I should have had it by now. Extremely disappointed with the incorrect information given when I placed the order. If you're ordering a Christmas gift, don't order from Old Navy!                                                                                                                                                                                                                                                                                                                                                                                                                                                                                                                                                                                                                                                                                                                                                                                                                                                                                                                                                                                                                                                                                                                                                                                                                                                                                                                                                                                                                                                                                                                                                                                                                                                                                                                                            \n",
      "346015   If they don't have enough confidence beyond 90 days? They should be offering a warranty beyond that of a new one if they have confidence in their work on the product. Not what I would expect.                                                                                                                                                                                                                                                                                                                                                                                                                                                                                                                                                                                                                                                                                                                                                                                                                                                                                                                                                                                                                                                                                                                                                                                                                                                                                                                                                                                                                                                                                                                                                                                                                                                                                                                                                                                                                      \n",
      "153831   the item was not the same model represented on site. I believe I got a defective product. the white part was black and the black part was white. its the opposite color of what is shown in the pictures. I didn't even receive them in their original box. they were wrapped around a plastic bag, and now to return the item I have to print our the return label and send it back. why would you even send me the defective one? I don't understand.                                                                                                                                                                                                                                                                                                                                                                                                                                                                                                                                                                                                                                                                                                                                                                                                                                                                                                                                                                                                                                                                                                                                                                                                                                                                                                                                                                                                                                                                                                                                                              \n",
      "123651   I'll never buy from Skechers.com ever again! Never received Please contact me because I have never received my shoes                                                                                                                                                                                                                                                                                                                                                                                                                                                                                                                                                                                                                                                                                                                                                                                                                                                                                                                                                                                                                                                                                                                                                                                                                                                                                                                                                                                                                                                                                                                                                                                                                                                                                                                                                                                                                                                                                                 \n",
      "203265   Disappointed If I could give it 0 stars I would...placed my order on 7/5/20 never was shipped they sent an email saying that the product was sold out however it is still available for purchase on their site. What kind of customer service is that??!                                                                                                                                                                                                                                                                                                                                                                                                                                                                                                                                                                                                                                                                                                                                                                                                                                                                                                                                                                                                                                                                                                                                                                                                                                                                                                                                                                                                                                                                                                                                                                                                                                                                                                                                                             \n",
      "196683   Product won't even ship 3 months after purchase ? NFM took the money including the service fee. It's supposed to be delivered in the future date. Prior to the supposed delivery date, got a call saying that it's been pushed 10 days due to delays from manufacturer.  No show on that date. When I called to find out what's going on , the customer agent mentioned that I received a message (which I did not) and disconnect the call without issuing any finite resolution to the issue. It looks like NFM sells an equipment they do not have in stock anywhere and are not even sure that it's gonna be manufactured / delivered on the date they advertise. It should have been honestly advertised as such, if that's is the case, to prevent unrealistic expectation. In general, I don't think this's an acceptable business practice. I'd advise anyone considering this product to go and purchase it somewhere it is in stock, even if it costs a bit more.                                                                                                                                                                                                                                                                                                                                                                                                                                                                                                                                                                                                                                                                                                                                                                                                                                                                                                                                                                                                                                          \n",
      "220324   If I receive it, that would be great I bought it about a month ago, it was damaged in shipping, I called customer service to have it replaced, was told I would get an email with the new tracking number but I haven't received the email so I hope that answers your question of \"Do you love it?\" I'd like to actually receive it.                                                                                                                                                                                                                                                                                                                                                                                                                                                                                                                                                                                                                                                                                                                                                                                                                                                                                                                                                                                                                                                                                                                                                                                                                                                                                                                                                                                                                                                                                                                                                                                                                                                                                \n",
      "369490   STOLEN PRODUCT This product is a direct copy of another company Sahicosmetics. I am incredibly disappointed in Ulta Beauty. Do better. You decline the offer to work with this company and you decided to copy it from their samples. You should be ashamed. If you are interested in the product please consider buying from Sahicomsetics.com. We need to support small businesses especially right now.                                                                                                                                                                                                                                                                                                                                                                                                                                                                                                                                                                                                                                                                                                                                                                                                                                                                                                                                                                                                                                                                                                                                                                                                                                                                                                                                                                                                                                                                                                                                                                                                           \n",
      "389031   No help, rediculous policy. FedEx lost it, and asked me to give them some time till they can find it. And I waited and nothing came So they want me to call samsonit to file a claim to FedEx. And Samsonite said no! Because it's over 7 days and their policy won't customer do anything after that.                                                                                                                                                                                                                                                                                                                                                                                                                                                                                                                                                                                                                                                                                                                                                                                                                                                                                                                                                                                                                                                                                                                                                                                                                                                                                                                                                                                                                                                                                                                                                                                                                                                                                                               \n",
      "49839    What no wood? Not delivered got refund                                                                                                                                                                                                                                                                                                                                                                                                                                                                                                                                                                                                                                                                                                                                                                                                                                                                                                                                                                                                                                                                                                                                                                                                                                                                                                                                                                                                                                                                                                                                                                                                                                                                                                                                                                                                                                                                                                                                                                               \n",
      "2815151  I purchase this product consistently. Cats look forward to their feeding with this product. As they like the food, who am I to not agree?                                                                                                                                                                                                                                                                                                                                                                                                                                                                                                                                                                                                                                                                                                                                                                                                                                                                                                                                                                                                                                                                                                                                                                                                                                                                                                                                                                                                                                                                                                                                                                                                                                                                                                                                                                                                                                                                            \n",
      "169256   Is Ted Cruz a liar?! I think Ted Cruz is a liar and a trump anus-licker. Oh yeah, and a seditionist. Think for yourselves, sheeple!                                                                                                                                                                                                                                                                                                                                                                                                                                                                                                                                                                                                                                                                                                                                                                                                                                                                                                                                                                                                                                                                                                                                                                                                                                                                                                                                                                                                                                                                                                                                                                                                                                                                                                                                                                                                                                                                                  \n",
      "46341    Irrelevant I can't comment on the watch as I never received it.\\nFossil kept my money for over a week and only then informed me the product was out of stock. Surely they would've known this before I made my payment?\\n\\nI then get an email asking me for a review???                                                                                                                                                                                                                                                                                                                                                                                                                                                                                                                                                                                                                                                                                                                                                                                                                                                                                                                                                                                                                                                                                                                                                                                                                                                                                                                                                                                                                                                                                                                                                                                                                                                                                                                                             \n",
      "312305   I wanted the shampoo and would like to make an equal switch. I wanted the 2 shampoos as I do not need the conditioner. Is there a way I can do an even return and send the 2 in Shampoo?                                                                                                                                                                                                                                                                                                                                                                                                                                                                                                                                                                                                                                                                                                                                                                                                                                                                                                                                                                                                                                                                                                                                                                                                                                                                                                                                                                                                                                                                                                                                                                                                                                                                                                                                                                                                                             \n",
      "280244   DO NOT DO ONLINE PICKUP ZERO STARS. It's funny I received a confirmation for my purchase but they couldn't find my order and said it would fall off my bank statement since it was never filled, never got the email for pickup but now here I am still charged, getting this review email for a product they never gave me for a party that was three weeks ago. When I went in to find it myself it said there was 12 in stock but nowhere to be found even with the help of 2 employees. Incompetent online customer support, terrible service.                                                                                                                                                                                                                                                                                                                                                                                                                                                                                                                                                                                                                                                                                                                                                                                                                                                                                                                                                                                                                                                                                                                                                                                                                                                                                                                                                                                                                                                                   \n",
      "148530   No, disappointing! If I received the item above,  I might of enjoyed giving it to my son for a birthday present, BUT, unfortunately my order was placed on 8-7-2020 (today is 9-1-2020)  and I still have not received the Tailgater Fit-Forever Jeans.  I received the shirts I ordered.  My son's birthday is September 9.  Can I hold out any hope that I might receive the jeans by his birthday?????   I AM QUITE SURE MY CREDIT CARD HAS BEEN BILLED FOR THESE JEANS...….       ORDER NO.9917232 PLACED ON 8-7-2020                                                                                                                                                                                                                                                                                                                                                                                                                                                                                                                                                                                                                                                                                                                                                                                                                                                                                                                                                                                                                                                                                                                                                                                                                                                                                                                                                                                                                                                                                            \n",
      "209442   I'm super frustrated / sad I feel like I wasted my money. I did everything right (despite the instructions being absolutely AWFUL and no help at all) and then I try to take it down and there is NO instructions for disassembly whatsoever. And no videos or help on the internet so now it's just stuck and completely unstable and unusable. I'm super mad and I feel extremely cheated out of my hard earned money.                                                                                                                                                                                                                                                                                                                                                                                                                                                                                                                                                                                                                                                                                                                                                                                                                                                                                                                                                                                                                                                                                                                                                                                                                                                                                                                                                                                                                                                                                                                                                                                             \n",
      "9477     Don't order from them I don't have my shoes yet and I ordered them on July the 3rd it don't take this long for them to get to me please help me in finding my shoes or give me my money back                                                                                                                                                                                                                                                                                                                                                                                                                                                                                                                                                                                                                                                                                                                                                                                                                                                                                                                                                                                                                                                                                                                                                                                                                                                                                                                                                                                                                                                                                                                                                                                                                                                                                                                                                                                                                         \n",
      "286398   No More Travel Perks Listed???? If you no longer have the above travel perks...then I'm OUT! I don't need monthly credit scores. These are provided FREE by Credit Karma! This is like a \"Non-Perk Perk\".                                                                                                                                                                                                                                                                                                                                                                                                                                                                                                                                                                                                                                                                                                                                                                                                                                                                                                                                                                                                                                                                                                                                                                                                                                                                                                                                                                                                                                                                                                                                                                                                                                                                                                                                                                                                            \n",
      "678      RIP Off You have no boards in Scotland yet 1000's in Newcastle but won't deliver. What's that about?\\nWhy can't you shift stuff around. Then you offer 4.8 metre boards at twice the price. Makes no sense at all. Can somebody explain this anomaly?                                                                                                                                                                                                                                                                                                                                                                                                                                                                                                                                                                                                                                                                                                                                                                                                                                                                                                                                                                                                                                                                                                                                                                                                                                                                                                                                                                                                                                                                                                                                                                                                                                                                                                                                                                \n",
      "289404   Soylent needs to communicate better with their customers I haven't even been able to try it yet. There's been no indicator at all during the ordering process of when they'll be delivered or if there is a delay of some kind -- no communication of any kind except the \"order received\" email that said delivery would take 3-5 days. If something is going on, could you tell me? And the ordering gui should be updated to say least provide an ETA.                                                                                                                                                                                                                                                                                                                                                                                                                                                                                                                                                                                                                                                                                                                                                                                                                                                                                                                                                                                                                                                                                                                                                                                                                                                                                                                                                                                                                                                                                                                                                            \n",
      "263408   Is it available? I would gladly purchase this item IF I was sure to have the order filled.  You cancelled this order within minutes of my placing it.                                                                                                                                                                                                                                                                                                                                                                                                                                                                                                                                                                                                                                                                                                                                                                                                                                                                                                                                                                                                                                                                                                                                                                                                                                                                                                                                                                                                                                                                                                                                                                                                                                                                                                                                                                                                                                                                \n",
      "158810   yes i was very please with the service...when i first ordered...i received a msg almost immediately that my item wasn't available...i was given the choice to wait or refund...i decided to wait and my mini tool arrived two weeks later...i will order again...                                                                                                                                                                                                                                                                                                                                                                                                                                                                                                                                                                                                                                                                                                                                                                                                                                                                                                                                                                                                                                                                                                                                                                                                                                                                                                                                                                                                                                                                                                                                                                                                                                                                                                                                                    \n",
      "9816     Big Lots doesn't like to work I ordered this for online pick up. Big Lots never emailed me to pick it up. I ask customer service what's up? They really did not know....they said \"we check with store it ready for pickup on Dec 23\"....my online order said if it wasn't picked up by the 23rd it would automatically cancel. Uhhhhhh???? I never ended up getting the bed frame, I'm going to purchase it from a more competent business. Thanks for making me dumber, Big Lots.                                                                                                                                                                                                                                                                                                                                                                                                                                                                                                                                                                                                                                                                                                                                                                                                                                                                                                                                                                                                                                                                                                                                                                                                                                                                                                                                                                                                                                                                                                                                  \n",
      "377042   free gift? so is the free gift a mystery or what?                                                                                                                                                                                                                                                                                                                                                                                                                                                                                                                                                                                                                                                                                                                                                                                                                                                                                                                                                                                                                                                                                                                                                                                                                                                                                                                                                                                                                                                                                                                                                                                                                                                                                                                                                                                                                                                                                                                                                                    \n",
      "310335   Can you ad more ethnic group magazines? Can you ad more ethnic group magazines?                                                                                                                                                                                                                                                                                                                                                                                                                                                                                                                                                                                                                                                                                                                                                                                                                                                                                                                                                                                                                                                                                                                                                                                                                                                                                                                                                                                                                                                                                                                                                                                                                                                                                                                                                                                                                                                                                                                                      \n",
      "170140   $70 for 20 rounds of junk? Are you kidding me right now?                                                                                                                                                                                                                                                                                                                                                                                                                                                                                                                                                                                                                                                                                                                                                                                                                                                                                                                                                                                                                                                                                                                                                                                                                                                                                                                                                                                                                                                                                                                                                                                                                                                                                                                                                                                                                                                                                                                                                             \n",
      "313673   ? NO COMMENT                                                                                                                                                                                                                                                                                                                                                                                                                                                                                                                                                                                                                                                                                                                                                                                                                                                                                                                                                                                                                                                                                                                                                                                                                                                                                                                                                                                                                                                                                                                                                                                                                                                                                                                                                                                                                                                                                                                                                                                                         \n",
      "196325   What no shed I love this shed that I still haven't received yet! May help to ensure the customer has received it before asking them to review it - you owe me a few quid in interest you've made on my money!!                                                                                                                                                                                                                                                                                                                                                                                                                                                                                                                                                                                                                                                                                                                                                                                                                                                                                                                                                                                                                                                                                                                                                                                                                                                                                                                                                                                                                                                                                                                                                                                                                                                                                                                                                                                                       \n",
      "337543   I don't know yet. 1. Not listed on crimson traces websit?. 2. It only has a one year warranty.   3. It's not auto shut off.                                                                                                                                                                                                                                                                                                                                                                                                                                                                                                                                                                                                                                                                                                                                                                                                                                                                                                                                                                                                                                                                                                                                                                                                                                                                                                                                                                                                                                                                                                                                                                                                                                                                                                                                                                                                                                                                                          \n",
      "296839   Never received what I ordered I never received my sewing machine. After weeks of waiting I received an email that my order was cancelled. This was after I received an email from Singer and was was asked to rate my purchase. Now, I receive another email to rate my purchase again. I will probably never buy another Singer machine. I realize times are bad. Singer, please mark your records to not send me another email asking to rate my machine... you cancelled my purchase!                                                                                                                                                                                                                                                                                                                                                                                                                                                                                                                                                                                                                                                                                                                                                                                                                                                                                                                                                                                                                                                                                                                                                                                                                                                                                                                                                                                                                                                                                                                             \n",
      "4000     the addres for my ithem is. the addres for my ithem is... 1505 Hoover ave. National City Ca. 91950. Please                                                                                                                                                                                                                                                                                                                                                                                                                                                                                                                                                                                                                                                                                                                                                                                                                                                                                                                                                                                                                                                                                                                                                                                                                                                                                                                                                                                                                                                                                                                                                                                                                                                                                                                                                                                                                                                                                                           \n",
      "316723   K-cups So very disappointed you no longer offer British Blend in K-cups.  Please reconsider - it was the best!                                                                                                                                                                                                                                                                                                                                                                                                                                                                                                                                                                                                                                                                                                                                                                                                                                                                                                                                                                                                                                                                                                                                                                                                                                                                                                                                                                                                                                                                                                                                                                                                                                                                                                                                                                                                                                                                                                       \n",
      "158661   Check availability before ordering Can't review the actual product.  It never arrived. Had an email asking me to click and collect and when I got there it wasn't there. Customer service were unhelpful and it took me ages on the phone to get a refund.                                                                                                                                                                                                                                                                                                                                                                                                                                                                                                                                                                                                                                                                                                                                                                                                                                                                                                                                                                                                                                                                                                                                                                                                                                                                                                                                                                                                                                                                                                                                                                                                                                                                                                                                                           \n",
      "327886   Have not received it yet Please let me know when this will be shipped. I have not yet received it                                                                                                                                                                                                                                                                                                                                                                                                                                                                                                                                                                                                                                                                                                                                                                                                                                                                                                                                                                                                                                                                                                                                                                                                                                                                                                                                                                                                                                                                                                                                                                                                                                                                                                                                                                                                                                                                                                                    \n",
      "56353    Good customer service Service has been pretty good . When I've had issues, I called in or wrote in & got the help I needed .                                                                                                                                                                                                                                                                                                                                                                                                                                                                                                                                                                                                                                                                                                                                                                                                                                                                                                                                                                                                                                                                                                                                                                                                                                                                                                                                                                                                                                                                                                                                                                                                                                                                                                                                                                                                                                                                                         \n",
      "7729437  Sliders Delivered on time and pleased they were in stock                                                                                                                                                                                                                                                                                                                                                                                                                                                                                                                                                                                                                                                                                                                                                                                                                                                                                                                                                                                                                                                                                                                                                                                                                                                                                                                                                                                                                                                                                                                                                                                                                                                                                                                                                                                                                                                                                                                                                             \n",
      "309609   mattress topper I received my cool mattress topper and the zipper on the cool cover broke. When I called I was told the whole thing had to be returned as they could not just send the cover. I received the replacement and honestly it is not cool no more than 1 minute if that long. It is very soft which I am not pleased with.  Also I find I am sliding in the bed. The scheduled pick up for the mattress got cancelled due to COVID 19 and it is still sitting in my spare room.                                                                                                                                                                                                                                                                                                                                                                                                                                                                                                                                                                                                                                                                                                                                                                                                                                                                                                                                                                                                                                                                                                                                                                                                                                                                                                                                                                                                                                                                                                                           \n",
      "160368   Feels good to give back Why not donate? If everyone did it I bet it would really add up                                                                                                                                                                                                                                                                                                                                                                                                                                                                                                                                                                                                                                                                                                                                                                                                                                                                                                                                                                                                                                                                                                                                                                                                                                                                                                                                                                                                                                                                                                                                                                                                                                                                                                                                                                                                                                                                                                                              \n",
      "293542   Nice purse The product is nice, like the lighter lining rather than the red.  \\n\\nCustomer service was AWFUL.  The price in the cart was lower than the price listed when I made the actual puchase.  I attempted to cancel  the order within 5 minutes of placing it.  I did get a response that was not helpful and requested a cancellation again.  The order was not canceled and now I am stuck with returning the purse.  I called for a pre-paid return label and was on hold for too long and was not offered the label.  I was told I could write a note to request a refund for shipping.  Honestly, I doubt anyone would read it.\\n\\nCustomer service and the web site should be improved. \\n\\n I will not make a purchase  from this company again.                                                                                                                                                                                                                                                                                                                                                                                                                                                                                                                                                                                                                                                                                                                                                                                                                                                                                                                                                                                                                                                                                                                                                                                                                                                      \n",
      "55184    Terrible quality, bunching, wrinkling THey bunch and wrinkle! Awful! And customer service is terrible, wouldn't help to facilitate a return.                                                                                                                                                                                                                                                                                                                                                                                                                                                                                                                                                                                                                                                                                                                                                                                                                                                                                                                                                                                                                                                                                                                                                                                                                                                                                                                                                                                                                                                                                                                                                                                                                                                                                                                                                                                                                                                                         \n",
      "276507   Great service! From placing the order to receiving it everything went smoothly, Emma went out of her way to help, (We left it a bit late...) and her emails kept us up to date every step of the way.\\n\\nDefinitely recommend and will order again.\\n\\nThank you for great service Emma.                                                                                                                                                                                                                                                                                                                                                                                                                                                                                                                                                                                                                                                                                                                                                                                                                                                                                                                                                                                                                                                                                                                                                                                                                                                                                                                                                                                                                                                                                                                                                                                                                                                                                                                             \n",
      "79678    I saw this in a small business from 2018 I saw this on a small business site and found out she listed it in 2018 and marketed to ulta but they weren't interested. Why can a big complaint just steal and blatantly copy products they didn't design?                                                                                                                                                                                                                                                                                                                                                                                                                                                                                                                                                                                                                                                                                                                                                                                                                                                                                                                                                                                                                                                                                                                                                                                                                                                                                                                                                                                                                                                                                                                                                                                                                                                                                                                                                                \n",
      "34694    Never shopping at beauty brands again Spent my hard earned money on this product and a few others and never received them. (Ordered online) I contacted both Beauty Brands and FedEx. BOTH said they couldn't help me retrieve my products nor refund me. I will never spend my money here again. 60 dollars to a company that doesn't care about their customers receiving their products.                                                                                                                                                                                                                                                                                                                                                                                                                                                                                                                                                                                                                                                                                                                                                                                                                                                                                                                                                                                                                                                                                                                                                                                                                                                                                                                                                                                                                                                                                                                                                                                                                          \n",
      "369553   Discount for Loyal Customers Why don't you offer discounts to loyal customers who have purchased the same items for years ??                                                                                                                                                                                                                                                                                                                                                                                                                                                                                                                                                                                                                                                                                                                                                                                                                                                                                                                                                                                                                                                                                                                                                                                                                                                                                                                                                                                                                                                                                                                                                                                                                                                                                                                                                                                                                                                                                         \n",
      "274648   What have they done? Tia Maria was once a quality Liqueur, not anymore!                                                                                                                                                                                                                                                                                                                                                                                                                                                                                                                                                                                                                                                                                                                                                                                                                                                                                                                                                                                                                                                                                                                                                                                                                                                                                                                                                                                                                                                                                                                                                                                                                                                                                                                                                                                                                                                                                                                                              \n",
      "2120269  What the hell?! I stopped in store to try these on and holy hell is their sizing WAY OFF. I've been wearing a 1X lately since their sizing is inconsistent but also used to bounce to an XL in older styles.  I've also been wearing Athleta for over 10 years and they used to have great pants that were comfortable and actually breathed. I tried on a 1X and I couldn't get these pants over my hips without the elastic band breaking! Even getting it over my stomach which really reached my bra line, I couldn't breathe! Over the last couple years they have gone to more compression for some stupid reason and now I've returned multiple different pants because I can't breath and it really hurts to bend over! Who is designing these clothes!? Men? Twigs? Teenagers without real bodies yet? I used to spend so much money at this store and more and more I keep returning or not even buying. Shameful                                                                                                                                                                                                                                                                                                                                                                                                                                                                                                                                                                                                                                                                                                                                                                                                                                                                                                                                                                                                                                                                                          \n",
      "335289   MAKE MORE PRODUCT Want the Hello 2021 and when you click on it, a different onesie shows up. Please make more in each size of popular items like this!                                                                                                                                                                                                                                                                                                                                                                                                                                                                                                                                                                                                                                                                                                                                                                                                                                                                                                                                                                                                                                                                                                                                                                                                                                                                                                                                                                                                                                                                                                                                                                                                                                                                                                                                                                                                                                                               \n",
      "308369   Not sure I will order in line ever again I am not please with our purchase from 5/19.  We still have not received it and it was supposed to be delivered 6/3.    Not pleased at all                                                                                                                                                                                                                                                                                                                                                                                                                                                                                                                                                                                                                                                                                                                                                                                                                                                                                                                                                                                                                                                                                                                                                                                                                                                                                                                                                                                                                                                                                                                                                                                                                                                                                                                                                                                                                                  \n",
      "3348869  BUYER EWARE in these times. This camera I got was broke out of the box. When I put a fully charged battery(and I bought two extra batteries) it starts and ask to pick date, etc., etc. Then you take a few photos, video, whatever. Then when I turn it off it does not come back on until I remove the battery and put it back in Then it is back to picking the date and time. The next thing is if I leave say a fully charged battery in it overnight, by the next day the battery has drained and needs a new charged battery, even though the camera just sat there off. A not too fully charge battery goes dead even faster so if I was to turn it off and say not use it for a few hours and leave the battery in, it will be drained dead. Now Beach Camera has replied to my email for me to send it back to them yet in these times of everything shut down or deliveries being slow or lost in delivery I am not wasting MORE TIME with their JUNK. If I loose it in transit then what? If times were different I suspect I would send it yet NOT in these times... I already loss one other package going a couple states away that they loss tracking on for the last month. So my point is BUYER BEWARE!  #sweepstakes                                                                                                                                                                                                                                                                                                                                                                                                                                                                                                                                                                                                                                                                                                                                                                              \n",
      "3209791  well indexed web site! well indexed web site! ...easy to order. \\nReviews from customers also very helpful                                                                                                                                                                                                                                                                                                                                                                                                                                                                                                                                                                                                                                                                                                                                                                                                                                                                                                                                                                                                                                                                                                                                                                                                                                                                                                                                                                                                                                                                                                                                                                                                                                                                                                                                                                                                                                                                                                           \n",
      "\n",
      "         model_NR  NR  regex_CS  model_CS  \n",
      "377922   1         1   True      1         \n",
      "211095   1         1   True      1         \n",
      "5962585  1         0   True      1         \n",
      "177736   1         1   True      1         \n",
      "62656    1         1   True      1         \n",
      "232158   1         1   True      1         \n",
      "52220    1         1   True      1         \n",
      "180034   1         1   True      1         \n",
      "251932   1         1   True      1         \n",
      "271548   1         1   True      1         \n",
      "115119   1         1   True      1         \n",
      "229883   1         1   True      1         \n",
      "183697   1         1   True      1         \n",
      "63383    1         1   True      1         \n",
      "387706   1         1   True      1         \n",
      "120005   1         1   True      1         \n",
      "15511    1         1   True      1         \n",
      "160531   1         1   True      1         \n",
      "281700   1         1   True      1         \n",
      "290324   1         1   True      1         \n",
      "168516   1         1   True      1         \n",
      "178203   1         1   True      1         \n",
      "46615    1         1   True      1         \n",
      "173558   1         1   True      1         \n",
      "268609   1         1   True      1         \n",
      "259154   1         1   True      1         \n",
      "190748   1         1   True      1         \n",
      "161291   1         1   True      1         \n",
      "236004   1         1   True      1         \n",
      "58080    1         1   True      1         \n",
      "5467100  1         0   True      1         \n",
      "3067231  1         0   True      1         \n",
      "299165   1         1   True      1         \n",
      "254213   1         1   True      1         \n",
      "11910    1         1   True      1         \n",
      "332974   1         1   True      1         \n",
      "137625   1         1   True      1         \n",
      "32438    1         1   True      1         \n",
      "162386   1         1   True      1         \n",
      "4834592  1         0   True      1         \n",
      "307998   1         1   True      1         \n",
      "238033   1         1   True      1         \n",
      "234459   1         1   True      1         \n",
      "74159    1         1   True      1         \n",
      "269811   1         1   True      1         \n",
      "44502    1         1   True      1         \n",
      "375947   1         1   True      1         \n",
      "63807    1         1   True      1         \n",
      "167198   1         1   True      1         \n",
      "17249    1         1   True      1         \n",
      "346015   1         1   True      1         \n",
      "153831   1         1   True      1         \n",
      "123651   1         1   True      1         \n",
      "203265   1         1   True      1         \n",
      "196683   1         1   True      1         \n",
      "220324   1         1   True      1         \n",
      "369490   1         1   True      1         \n",
      "389031   1         1   True      1         \n",
      "49839    1         1   True      1         \n",
      "2815151  1         0   True      1         \n",
      "169256   1         1   True      1         \n",
      "46341    1         1   True      1         \n",
      "312305   1         1   True      1         \n",
      "280244   1         1   True      1         \n",
      "148530   1         1   True      1         \n",
      "209442   1         1   True      1         \n",
      "9477     1         1   True      1         \n",
      "286398   1         1   True      1         \n",
      "678      1         1   True      1         \n",
      "289404   1         1   True      1         \n",
      "263408   1         1   True      1         \n",
      "158810   1         1   True      1         \n",
      "9816     1         1   True      1         \n",
      "377042   1         1   True      1         \n",
      "310335   1         1   True      1         \n",
      "170140   1         1   True      1         \n",
      "313673   1         1   True      1         \n",
      "196325   1         1   True      1         \n",
      "337543   1         1   True      1         \n",
      "296839   1         1   True      1         \n",
      "4000     1         1   True      1         \n",
      "316723   1         1   True      1         \n",
      "158661   1         1   True      1         \n",
      "327886   1         1   True      1         \n",
      "56353    1         1   True      1         \n",
      "7729437  1         0   True      1         \n",
      "309609   1         1   True      1         \n",
      "160368   1         1   True      1         \n",
      "293542   1         1   True      1         \n",
      "55184    1         1   True      1         \n",
      "276507   1         1   True      1         \n",
      "79678    1         1   True      1         \n",
      "34694    1         1   True      1         \n",
      "369553   1         1   True      1         \n",
      "274648   1         1   True      1         \n",
      "2120269  1         0   True      1         \n",
      "335289   1         1   True      1         \n",
      "308369   1         1   True      1         \n",
      "3348869  1         0   True      1         \n",
      "3209791  1         0   True      1         \n",
      "<string>:1: FutureWarning: Passing a negative integer is deprecated in version 1.0 and will not be supported in future version. Instead, use None to not limit the column width."
     ]
    }
   ],
   "source": [
    "pd.set_option('display.max_colwidth', -1)\n",
    "pd.set_option('display.max_columns', None)\n",
    "pd.set_option('display.max_rows', None)\n",
    "FP.head(100)"
   ]
  },
  {
   "cell_type": "code",
   "execution_count": null,
   "metadata": {},
   "outputs": [],
   "source": []
  },
  {
   "cell_type": "code",
   "execution_count": null,
   "metadata": {},
   "outputs": [],
   "source": []
  },
  {
   "cell_type": "code",
   "execution_count": 136,
   "metadata": {},
   "outputs": [
    {
     "data": {
      "application/vnd.jupyter.widget-view+json": {
       "model_id": "7df9d95cffe2456484d674689c2eba72",
       "version_major": 2,
       "version_minor": 0
      },
      "text/plain": [
       "VBox()"
      ]
     },
     "metadata": {},
     "output_type": "display_data"
    },
    {
     "data": {
      "application/vnd.jupyter.widget-view+json": {
       "model_id": "",
       "version_major": 2,
       "version_minor": 0
      },
      "text/plain": [
       "FloatProgress(value=0.0, bar_style='info', description='Progress:', layout=Layout(height='25px', width='50%'),…"
      ]
     },
     "metadata": {},
     "output_type": "display_data"
    }
   ],
   "source": [
    "from pyspark.sql.types import *\n",
    "\n",
    "mySchema = StructType([StructField(\"UGC_ID\", StringType(), True)\\\n",
    ",StructField(\"REVIEW_HEADLINE\", StrcingType(), True)\\\n",
    ",StructField(\"REVIEW_COMMENTS\", StringType(), True)\\\n",
    ",StructField(\"REVIEW_RATING\", IntegerType(), True)\\\n",
    ",StructField(\"CS\", IntegerType(), True)\\\n",
    ",StructField(\"ALL_TEXT\", StringType(), True)\\\n",
    ",StructField(\"model_NR\", IntegerType(), True)\\\n",
    ",StructField(\"NR\", IntegerType(), True)\\\n",
    ",StructField(\"regex_CS\", StringType(), True)\\\n",
    ",StructField(\"model_CS\", IntegerType(), True)])   \n",
    "\n"
   ]
  },
  {
   "cell_type": "code",
   "execution_count": 137,
   "metadata": {},
   "outputs": [
    {
     "data": {
      "application/vnd.jupyter.widget-view+json": {
       "model_id": "56756c2d759f4225b4b4d80fc5deb9fa",
       "version_major": 2,
       "version_minor": 0
      },
      "text/plain": [
       "VBox()"
      ]
     },
     "metadata": {},
     "output_type": "display_data"
    },
    {
     "data": {
      "application/vnd.jupyter.widget-view+json": {
       "model_id": "",
       "version_major": 2,
       "version_minor": 0
      },
      "text/plain": [
       "FloatProgress(value=0.0, bar_style='info', description='Progress:', layout=Layout(height='25px', width='50%'),…"
      ]
     },
     "metadata": {},
     "output_type": "display_data"
    }
   ],
   "source": [
    "SNOWFLAKE_SOURCE_NAME = \"net.snowflake.spark.snowflake\"\n",
    "\n",
    "sfOptions = {\n",
    "  'sfURL' : 'powerreviews.snowflakecomputing.com',\n",
    "  'sfAccount' : 'powerreviews',\n",
    "  'sfUser' : username,\n",
    "  'sfPassword' : password,\n",
    "  'sfDatabase' : 'ANALYTICS_WORKSHOP',\n",
    "  'sfSchema' : 'DATA_SCIENCE',\n",
    "  'sfWarehouse' : 'LOWER_ENV_WAREHOUSE'\n",
    "}"
   ]
  },
  {
   "cell_type": "code",
   "execution_count": 140,
   "metadata": {},
   "outputs": [
    {
     "data": {
      "application/vnd.jupyter.widget-view+json": {
       "model_id": "8a844a7aca24496d9176de5c5f0abc39",
       "version_major": 2,
       "version_minor": 0
      },
      "text/plain": [
       "VBox()"
      ]
     },
     "metadata": {},
     "output_type": "display_data"
    },
    {
     "data": {
      "application/vnd.jupyter.widget-view+json": {
       "model_id": "",
       "version_major": 2,
       "version_minor": 0
      },
      "text/plain": [
       "FloatProgress(value=0.0, bar_style='info', description='Progress:', layout=Layout(height='25px', width='50%'),…"
      ]
     },
     "metadata": {},
     "output_type": "display_data"
    }
   ],
   "source": [
    "#Turn into spark dataframe in order to write to Snowflake\n",
    "#Couldn't get write_pandas() to work to write directly from pandas to Snowflake\n",
    "FN = spark.createDataFrame(FN, schema=mySchema)"
   ]
  },
  {
   "cell_type": "code",
   "execution_count": 143,
   "metadata": {},
   "outputs": [
    {
     "data": {
      "application/vnd.jupyter.widget-view+json": {
       "model_id": "b2020639903e4e59ad499c1b0bb7c8c3",
       "version_major": 2,
       "version_minor": 0
      },
      "text/plain": [
       "VBox()"
      ]
     },
     "metadata": {},
     "output_type": "display_data"
    },
    {
     "data": {
      "application/vnd.jupyter.widget-view+json": {
       "model_id": "",
       "version_major": 2,
       "version_minor": 0
      },
      "text/plain": [
       "FloatProgress(value=0.0, bar_style='info', description='Progress:', layout=Layout(height='25px', width='50%'),…"
      ]
     },
     "metadata": {},
     "output_type": "display_data"
    }
   ],
   "source": [
    "FP.write.format(SNOWFLAKE_SOURCE_NAME).options(**sfOptions) \\\n",
    "    .option(\"dbtable\",\"CS_FP_test2_qmarkonly\").mode(\"append\").save()\n"
   ]
  },
  {
   "cell_type": "code",
   "execution_count": null,
   "metadata": {},
   "outputs": [],
   "source": []
  },
  {
   "cell_type": "code",
   "execution_count": null,
   "metadata": {},
   "outputs": [],
   "source": []
  },
  {
   "cell_type": "code",
   "execution_count": null,
   "metadata": {},
   "outputs": [],
   "source": []
  },
  {
   "cell_type": "code",
   "execution_count": 80,
   "metadata": {},
   "outputs": [
    {
     "data": {
      "application/vnd.jupyter.widget-view+json": {
       "model_id": "b51d492233d6427890d799fe5b464a5c",
       "version_major": 2,
       "version_minor": 0
      },
      "text/plain": [
       "VBox()"
      ]
     },
     "metadata": {},
     "output_type": "display_data"
    },
    {
     "data": {
      "application/vnd.jupyter.widget-view+json": {
       "model_id": "",
       "version_major": 2,
       "version_minor": 0
      },
      "text/plain": [
       "FloatProgress(value=0.0, bar_style='info', description='Progress:', layout=Layout(height='25px', width='50%'),…"
      ]
     },
     "metadata": {},
     "output_type": "display_data"
    },
    {
     "name": "stdout",
     "output_type": "stream",
     "text": [
      "<snowflake.connector.cursor.SnowflakeCursor object at 0x7f39190c9510>"
     ]
    }
   ],
   "source": [
    "#conn.cursor().execute(\"drop table if exists ANALYTICS_WORKSHOP.DATA_SCIENCE.CS_FN_test2\")\n",
    "conn.cursor().execute(\"drop table if exists ANALYTICS_WORKSHOP.DATA_SCIENCE.CS_FP_test1\")\n",
    "#conn.cursor().execute(\"drop table if exists ANALYTICS_WORKSHOP.DATA_SCIENCE.CS_FP_test2\")\n",
    "#conn.cursor().execute(\"drop table if exists ANALYTICS_WORKSHOP.DATA_SCIENCE.TEST_NLP_SPARK6\")\n",
    "#conn.cursor().execute(\"drop table if exists ANALYTICS_WORKSHOP.DATA_SCIENCE.TEST_NLP_SWAP_TOKENS\")"
   ]
  },
  {
   "cell_type": "code",
   "execution_count": null,
   "metadata": {},
   "outputs": [],
   "source": []
  },
  {
   "cell_type": "code",
   "execution_count": null,
   "metadata": {},
   "outputs": [],
   "source": []
  },
  {
   "cell_type": "code",
   "execution_count": null,
   "metadata": {},
   "outputs": [],
   "source": []
  },
  {
   "cell_type": "code",
   "execution_count": null,
   "metadata": {},
   "outputs": [],
   "source": []
  },
  {
   "cell_type": "code",
   "execution_count": 62,
   "metadata": {},
   "outputs": [
    {
     "data": {
      "application/vnd.jupyter.widget-view+json": {
       "model_id": "d94ca2255cce498885d269f67eec44ac",
       "version_major": 2,
       "version_minor": 0
      },
      "text/plain": [
       "VBox()"
      ]
     },
     "metadata": {},
     "output_type": "display_data"
    },
    {
     "data": {
      "application/vnd.jupyter.widget-view+json": {
       "model_id": "",
       "version_major": 2,
       "version_minor": 0
      },
      "text/plain": [
       "FloatProgress(value=0.0, bar_style='info', description='Progress:', layout=Layout(height='25px', width='50%'),…"
      ]
     },
     "metadata": {},
     "output_type": "display_data"
    }
   ],
   "source": [
    "#Evaluating model performance\n",
    "#There are inherently mostly NOLABEL so accuracy could be high just bc of those\n",
    "#Want to make sure that when there is a label besides NOLABEL that it is being accurately predicted\n"
   ]
  },
  {
   "cell_type": "code",
   "execution_count": 103,
   "metadata": {},
   "outputs": [
    {
     "data": {
      "application/vnd.jupyter.widget-view+json": {
       "model_id": "ea461f00fade486dbb4cd1f7fb7ccd76",
       "version_major": 2,
       "version_minor": 0
      },
      "text/plain": [
       "VBox()"
      ]
     },
     "metadata": {},
     "output_type": "display_data"
    },
    {
     "data": {
      "application/vnd.jupyter.widget-view+json": {
       "model_id": "",
       "version_major": 2,
       "version_minor": 0
      },
      "text/plain": [
       "FloatProgress(value=0.0, bar_style='info', description='Progress:', layout=Layout(height='25px', width='50%'),…"
      ]
     },
     "metadata": {},
     "output_type": "display_data"
    },
    {
     "name": "stdout",
     "output_type": "stream",
     "text": [
      "Accuracy is:  0.880048310413578\n",
      "Precision is:  0.882510784716516\n",
      "Recall is:  0.8772285820028842\n",
      "F1 Score is:  0.8798617555761784"
     ]
    }
   ],
   "source": [
    "#Model performance metrics\n",
    "#Assess at individual label level as well as overall\n",
    "\n",
    "#Accuracy is overall correct predictions - not great measurement tool for imbalanced data\n",
    "#Precision - TP / TP + FP = spam detection - don't want to mark something as spam (FP) when it isn't\n",
    "#Recall - TP / TP + FN = sickness - don't want to tell someone they aren't sick (FN) when they are and can spread it\n",
    "#F1 - balance of precision and recall\n",
    "\n",
    "#We want to make sure if bomb emoji then it gets marked - even at the expense of marking other things potentially offensive that aren't \n",
    "#Important not to have FN - USE RECALL\n",
    "#Also don't want to be marking a bunch of stuff as offensive when it isn't and making moderation do everything anyway\n",
    "#Important not to have too many FP - USE PRECISION\n",
    "#Use F1 for balance between both\n",
    "print(\"Accuracy is:  {}\" .format(accuracy_score(ytest, y_pred)))\n",
    "print(\"Precision is:  {}\" .format(precision_score(ytest, y_pred)))\n",
    "print(\"Recall is:  {}\" .format(recall_score(ytest, y_pred)))\n",
    "print(\"F1 Score is:  {}\" .format(f1_score(ytest, y_pred)))"
   ]
  },
  {
   "cell_type": "code",
   "execution_count": 48,
   "metadata": {},
   "outputs": [
    {
     "data": {
      "application/vnd.jupyter.widget-view+json": {
       "model_id": "982aa804e5724e58a37bb987e47e34f6",
       "version_major": 2,
       "version_minor": 0
      },
      "text/plain": [
       "VBox()"
      ]
     },
     "metadata": {},
     "output_type": "display_data"
    },
    {
     "data": {
      "application/vnd.jupyter.widget-view+json": {
       "model_id": "",
       "version_major": 2,
       "version_minor": 0
      },
      "text/plain": [
       "FloatProgress(value=0.0, bar_style='info', description='Progress:', layout=Layout(height='25px', width='50%'),…"
      ]
     },
     "metadata": {},
     "output_type": "display_data"
    },
    {
     "name": "stdout",
     "output_type": "stream",
     "text": [
      "              precision    recall  f1-score   support\n",
      "\n",
      "           0       0.87      0.89      0.88     78131\n",
      "           1       0.89      0.87      0.88     78131\n",
      "\n",
      "    accuracy                           0.88    156262\n",
      "   macro avg       0.88      0.88      0.88    156262\n",
      "weighted avg       0.88      0.88      0.88    156262"
     ]
    }
   ],
   "source": [
    "print(classification_report(ytest,y_pred))"
   ]
  },
  {
   "cell_type": "code",
   "execution_count": 49,
   "metadata": {},
   "outputs": [
    {
     "data": {
      "application/vnd.jupyter.widget-view+json": {
       "model_id": "fe3009f385ae465f9fbbab25fb39744d",
       "version_major": 2,
       "version_minor": 0
      },
      "text/plain": [
       "VBox()"
      ]
     },
     "metadata": {},
     "output_type": "display_data"
    },
    {
     "data": {
      "application/vnd.jupyter.widget-view+json": {
       "model_id": "",
       "version_major": 2,
       "version_minor": 0
      },
      "text/plain": [
       "FloatProgress(value=0.0, bar_style='info', description='Progress:', layout=Layout(height='25px', width='50%'),…"
      ]
     },
     "metadata": {},
     "output_type": "display_data"
    }
   ],
   "source": [
    "probs = clf.predict_proba(xtest_final)\n",
    "preds = probs[:,1]\n",
    "fpr, tpr, threshold = roc_curve(ytest, preds)\n",
    "roc_auc = metrics.auc(fpr, tpr)\n",
    "#print(roc_auc)"
   ]
  },
  {
   "cell_type": "code",
   "execution_count": 333,
   "metadata": {},
   "outputs": [
    {
     "data": {
      "application/vnd.jupyter.widget-view+json": {
       "model_id": "73942aa45c944a379ec2db66f83fb26e",
       "version_major": 2,
       "version_minor": 0
      },
      "text/plain": [
       "VBox()"
      ]
     },
     "metadata": {},
     "output_type": "display_data"
    },
    {
     "data": {
      "application/vnd.jupyter.widget-view+json": {
       "model_id": "",
       "version_major": 2,
       "version_minor": 0
      },
      "text/plain": [
       "FloatProgress(value=0.0, bar_style='info', description='Progress:', layout=Layout(height='25px', width='50%'),…"
      ]
     },
     "metadata": {},
     "output_type": "display_data"
    }
   ],
   "source": [
    "plt.clf()"
   ]
  },
  {
   "cell_type": "code",
   "execution_count": null,
   "metadata": {},
   "outputs": [],
   "source": []
  },
  {
   "cell_type": "code",
   "execution_count": null,
   "metadata": {},
   "outputs": [],
   "source": []
  },
  {
   "cell_type": "code",
   "execution_count": null,
   "metadata": {},
   "outputs": [],
   "source": []
  },
  {
   "cell_type": "code",
   "execution_count": null,
   "metadata": {},
   "outputs": [],
   "source": []
  },
  {
   "cell_type": "code",
   "execution_count": 334,
   "metadata": {},
   "outputs": [
    {
     "data": {
      "application/vnd.jupyter.widget-view+json": {
       "model_id": "3b585de6218b45918430db9953e76da0",
       "version_major": 2,
       "version_minor": 0
      },
      "text/plain": [
       "VBox()"
      ]
     },
     "metadata": {},
     "output_type": "display_data"
    },
    {
     "data": {
      "application/vnd.jupyter.widget-view+json": {
       "model_id": "",
       "version_major": 2,
       "version_minor": 0
      },
      "text/plain": [
       "FloatProgress(value=0.0, bar_style='info', description='Progress:', layout=Layout(height='25px', width='50%'),…"
      ]
     },
     "metadata": {},
     "output_type": "display_data"
    }
   ],
   "source": [
    "#ROC CURVE\n",
    "#Assumes we care about 0 and 1 classification the same - we don't\n",
    "#We care more about performance of 1 classification - use precision recall curve\n",
    "plt.title('Receiver Operating Characteristic')\n",
    "plt.plot(fpr, tpr, 'b', label = 'AUC = %0.4f' % roc_auc)\n",
    "plt.legend(loc = 'lower right')\n",
    "plt.plot([0, 1], [0, 1],'r--')\n",
    "plt.xlim([0, 1])\n",
    "plt.ylim([0, 1])\n",
    "plt.ylabel('True Positive Rate')\n",
    "plt.xlabel('False Positive Rate')\n",
    "plt.show()"
   ]
  },
  {
   "cell_type": "code",
   "execution_count": 335,
   "metadata": {},
   "outputs": [
    {
     "data": {
      "application/vnd.jupyter.widget-view+json": {
       "model_id": "",
       "version_major": 2,
       "version_minor": 0
      },
      "text/plain": [
       "FloatProgress(value=0.0, bar_style='info', description='Progress:', layout=Layout(height='25px', width='50%'),…"
      ]
     },
     "metadata": {},
     "output_type": "display_data"
    },
    {
     "data": {
      "image/png": "[encoded data removed]",
      "text/plain": [
       "<IPython.core.display.Image object>"
      ]
     },
     "metadata": {},
     "output_type": "display_data"
    }
   ],
   "source": [
    "%matplot plt"
   ]
  },
  {
   "cell_type": "code",
   "execution_count": 336,
   "metadata": {},
   "outputs": [
    {
     "data": {
      "application/vnd.jupyter.widget-view+json": {
       "model_id": "3a513db5673d4e8ab5773e60a9e79afe",
       "version_major": 2,
       "version_minor": 0
      },
      "text/plain": [
       "VBox()"
      ]
     },
     "metadata": {},
     "output_type": "display_data"
    },
    {
     "data": {
      "application/vnd.jupyter.widget-view+json": {
       "model_id": "",
       "version_major": 2,
       "version_minor": 0
      },
      "text/plain": [
       "FloatProgress(value=0.0, bar_style='info', description='Progress:', layout=Layout(height='25px', width='50%'),…"
      ]
     },
     "metadata": {},
     "output_type": "display_data"
    },
    {
     "name": "stdout",
     "output_type": "stream",
     "text": [
      "Optimal threshold value: 0.5011553148098223\n",
      "Optimal tpr value: 0.8880537279631401\n",
      "Optimal fpr value: 0.10233007623751744"
     ]
    }
   ],
   "source": [
    "#Find best threshold (ROC Curve)\n",
    "#Ideally want tpr = 1 and fpr = 0, so want tpr - fpr as close to 1 as possible\n",
    "optimal_idx = np.argmax(tpr - fpr)\n",
    "optimal_threshold = threshold[optimal_idx]\n",
    "opt_tpr = tpr[optimal_idx]\n",
    "opt_fpr = fpr[optimal_idx]\n",
    "print(\"Optimal threshold value:\", optimal_threshold)\n",
    "print(\"Optimal tpr value:\", opt_tpr)\n",
    "print(\"Optimal fpr value:\", opt_fpr)"
   ]
  },
  {
   "cell_type": "code",
   "execution_count": 337,
   "metadata": {},
   "outputs": [
    {
     "data": {
      "application/vnd.jupyter.widget-view+json": {
       "model_id": "e1d02693868a439f8243e67bc3ffb61e",
       "version_major": 2,
       "version_minor": 0
      },
      "text/plain": [
       "VBox()"
      ]
     },
     "metadata": {},
     "output_type": "display_data"
    },
    {
     "data": {
      "application/vnd.jupyter.widget-view+json": {
       "model_id": "",
       "version_major": 2,
       "version_minor": 0
      },
      "text/plain": [
       "FloatProgress(value=0.0, bar_style='info', description='Progress:', layout=Layout(height='25px', width='50%'),…"
      ]
     },
     "metadata": {},
     "output_type": "display_data"
    }
   ],
   "source": [
    "t = optimal_threshold\n",
    "y_pred_new = (preds >= t).astype(int)\n",
    "#y_pred_new"
   ]
  },
  {
   "cell_type": "code",
   "execution_count": 338,
   "metadata": {},
   "outputs": [
    {
     "data": {
      "application/vnd.jupyter.widget-view+json": {
       "model_id": "9479c71ca443485f8e9ab16ecb255fa6",
       "version_major": 2,
       "version_minor": 0
      },
      "text/plain": [
       "VBox()"
      ]
     },
     "metadata": {},
     "output_type": "display_data"
    },
    {
     "data": {
      "application/vnd.jupyter.widget-view+json": {
       "model_id": "",
       "version_major": 2,
       "version_minor": 0
      },
      "text/plain": [
       "FloatProgress(value=0.0, bar_style='info', description='Progress:', layout=Layout(height='25px', width='50%'),…"
      ]
     },
     "metadata": {},
     "output_type": "display_data"
    },
    {
     "name": "stdout",
     "output_type": "stream",
     "text": [
      "Accuracy is:  0.892861849330112\n",
      "Precision is:  0.89667543885587\n",
      "Recall is:  0.8880537279631401\n",
      "F1 Score is:  0.8923437584294185"
     ]
    }
   ],
   "source": [
    "#Scores with best threshold cutoff\n",
    "print(\"Accuracy is:  {}\" .format(accuracy_score(ytest, y_pred_new)))\n",
    "print(\"Precision is:  {}\" .format(precision_score(ytest, y_pred_new)))\n",
    "print(\"Recall is:  {}\" .format(recall_score(ytest, y_pred_new)))\n",
    "print(\"F1 Score is:  {}\" .format(f1_score(ytest, y_pred_new)))"
   ]
  },
  {
   "cell_type": "code",
   "execution_count": 339,
   "metadata": {},
   "outputs": [
    {
     "data": {
      "application/vnd.jupyter.widget-view+json": {
       "model_id": "473fa1a32c4041e09f9fce8e62b99841",
       "version_major": 2,
       "version_minor": 0
      },
      "text/plain": [
       "VBox()"
      ]
     },
     "metadata": {},
     "output_type": "display_data"
    },
    {
     "data": {
      "application/vnd.jupyter.widget-view+json": {
       "model_id": "",
       "version_major": 2,
       "version_minor": 0
      },
      "text/plain": [
       "FloatProgress(value=0.0, bar_style='info', description='Progress:', layout=Layout(height='25px', width='50%'),…"
      ]
     },
     "metadata": {},
     "output_type": "display_data"
    },
    {
     "name": "stdout",
     "output_type": "stream",
     "text": [
      "204885"
     ]
    }
   ],
   "source": [
    "len(y_pred_new)"
   ]
  },
  {
   "cell_type": "code",
   "execution_count": null,
   "metadata": {},
   "outputs": [],
   "source": []
  },
  {
   "cell_type": "code",
   "execution_count": 341,
   "metadata": {},
   "outputs": [
    {
     "data": {
      "application/vnd.jupyter.widget-view+json": {
       "model_id": "bcfc5bafd5a44f338365ef9f9318113b",
       "version_major": 2,
       "version_minor": 0
      },
      "text/plain": [
       "VBox()"
      ]
     },
     "metadata": {},
     "output_type": "display_data"
    },
    {
     "data": {
      "application/vnd.jupyter.widget-view+json": {
       "model_id": "",
       "version_major": 2,
       "version_minor": 0
      },
      "text/plain": [
       "FloatProgress(value=0.0, bar_style='info', description='Progress:', layout=Layout(height='25px', width='50%'),…"
      ]
     },
     "metadata": {},
     "output_type": "display_data"
    }
   ],
   "source": [
    "#PRECISION RECALL CURVE\n",
    "#Better for what we want to assess which is how well label is assigned (i.e. when it gets a 1 instead of a 0)\n",
    "\n",
    "precision, recall, pr_threshold = precision_recall_curve(ytest, preds)\n",
    "pr_auc = metrics.auc(recall, precision)"
   ]
  },
  {
   "cell_type": "code",
   "execution_count": 342,
   "metadata": {},
   "outputs": [
    {
     "data": {
      "application/vnd.jupyter.widget-view+json": {
       "model_id": "745f1be0d84b436d952fa1a1de9659b3",
       "version_major": 2,
       "version_minor": 0
      },
      "text/plain": [
       "VBox()"
      ]
     },
     "metadata": {},
     "output_type": "display_data"
    },
    {
     "data": {
      "application/vnd.jupyter.widget-view+json": {
       "model_id": "",
       "version_major": 2,
       "version_minor": 0
      },
      "text/plain": [
       "FloatProgress(value=0.0, bar_style='info', description='Progress:', layout=Layout(height='25px', width='50%'),…"
      ]
     },
     "metadata": {},
     "output_type": "display_data"
    }
   ],
   "source": [
    "plt.clf()"
   ]
  },
  {
   "cell_type": "code",
   "execution_count": 343,
   "metadata": {},
   "outputs": [
    {
     "data": {
      "application/vnd.jupyter.widget-view+json": {
       "model_id": "dcd2004b6cf74721ac0d5ce0d61ce132",
       "version_major": 2,
       "version_minor": 0
      },
      "text/plain": [
       "VBox()"
      ]
     },
     "metadata": {},
     "output_type": "display_data"
    },
    {
     "data": {
      "application/vnd.jupyter.widget-view+json": {
       "model_id": "",
       "version_major": 2,
       "version_minor": 0
      },
      "text/plain": [
       "FloatProgress(value=0.0, bar_style='info', description='Progress:', layout=Layout(height='25px', width='50%'),…"
      ]
     },
     "metadata": {},
     "output_type": "display_data"
    }
   ],
   "source": [
    "plt.title('Precision - Recall Curve')\n",
    "plt.plot(recall, precision, 'b', label = 'AUC = %0.4f' % pr_auc)\n",
    "plt.legend(loc = 'lower right')\n",
    "no_skill = len(ytest[ytest['NR']==1]) / len(ytest)\n",
    "plt.plot([0, 1], [no_skill, no_skill], 'r--', label='No Skill')\n",
    "#plt.xlim([0, 1])\n",
    "#plt.ylim([0, 1])\n",
    "plt.ylabel('Precision')\n",
    "plt.xlabel('Recall')\n",
    "plt.show()"
   ]
  },
  {
   "cell_type": "code",
   "execution_count": 344,
   "metadata": {},
   "outputs": [
    {
     "data": {
      "application/vnd.jupyter.widget-view+json": {
       "model_id": "",
       "version_major": 2,
       "version_minor": 0
      },
      "text/plain": [
       "FloatProgress(value=0.0, bar_style='info', description='Progress:', layout=Layout(height='25px', width='50%'),…"
      ]
     },
     "metadata": {},
     "output_type": "display_data"
    },
    {
     "data": {
      "image/png": "[encoded data removed]",
      "text/plain": [
       "<IPython.core.display.Image object>"
      ]
     },
     "metadata": {},
     "output_type": "display_data"
    }
   ],
   "source": [
    "%matplot plt"
   ]
  },
  {
   "cell_type": "code",
   "execution_count": 345,
   "metadata": {},
   "outputs": [
    {
     "data": {
      "application/vnd.jupyter.widget-view+json": {
       "model_id": "532142adbfed4db58b7817ab5ae59569",
       "version_major": 2,
       "version_minor": 0
      },
      "text/plain": [
       "VBox()"
      ]
     },
     "metadata": {},
     "output_type": "display_data"
    },
    {
     "data": {
      "application/vnd.jupyter.widget-view+json": {
       "model_id": "",
       "version_major": 2,
       "version_minor": 0
      },
      "text/plain": [
       "FloatProgress(value=0.0, bar_style='info', description='Progress:', layout=Layout(height='25px', width='50%'),…"
      ]
     },
     "metadata": {},
     "output_type": "display_data"
    },
    {
     "name": "stdout",
     "output_type": "stream",
     "text": [
      "Best Threshold=0.445000, F-Score=0.893\n",
      "Recall=0.904902\n",
      "Precision=0.882101"
     ]
    }
   ],
   "source": [
    "#Best F1 score optimizes precision recall trade off\n",
    "\n",
    "fscore = (2 * precision * recall) / (precision + recall)\n",
    "ix = argmax(fscore)\n",
    "print('Best Threshold=%f, F-Score=%.3f' % (pr_threshold[ix], fscore[ix]))\n",
    "\n",
    "print('Recall=%f' % recall[ix])\n",
    "print('Precision=%f' % precision[ix])"
   ]
  },
  {
   "cell_type": "code",
   "execution_count": 346,
   "metadata": {},
   "outputs": [
    {
     "data": {
      "application/vnd.jupyter.widget-view+json": {
       "model_id": "1c1ee7d6d69b49088122c6b2fdfa6aa5",
       "version_major": 2,
       "version_minor": 0
      },
      "text/plain": [
       "VBox()"
      ]
     },
     "metadata": {},
     "output_type": "display_data"
    },
    {
     "data": {
      "application/vnd.jupyter.widget-view+json": {
       "model_id": "",
       "version_major": 2,
       "version_minor": 0
      },
      "text/plain": [
       "FloatProgress(value=0.0, bar_style='info', description='Progress:', layout=Layout(height='25px', width='50%'),…"
      ]
     },
     "metadata": {},
     "output_type": "display_data"
    }
   ],
   "source": [
    "plt.clf()"
   ]
  },
  {
   "cell_type": "code",
   "execution_count": 347,
   "metadata": {},
   "outputs": [
    {
     "data": {
      "application/vnd.jupyter.widget-view+json": {
       "model_id": "675ce856a996420a81deb4238c0bfd77",
       "version_major": 2,
       "version_minor": 0
      },
      "text/plain": [
       "VBox()"
      ]
     },
     "metadata": {},
     "output_type": "display_data"
    },
    {
     "data": {
      "application/vnd.jupyter.widget-view+json": {
       "model_id": "",
       "version_major": 2,
       "version_minor": 0
      },
      "text/plain": [
       "FloatProgress(value=0.0, bar_style='info', description='Progress:', layout=Layout(height='25px', width='50%'),…"
      ]
     },
     "metadata": {},
     "output_type": "display_data"
    }
   ],
   "source": [
    "plt.hist(preds, bins=10)\n",
    "plt.show()"
   ]
  },
  {
   "cell_type": "code",
   "execution_count": 348,
   "metadata": {},
   "outputs": [
    {
     "data": {
      "application/vnd.jupyter.widget-view+json": {
       "model_id": "",
       "version_major": 2,
       "version_minor": 0
      },
      "text/plain": [
       "FloatProgress(value=0.0, bar_style='info', description='Progress:', layout=Layout(height='25px', width='50%'),…"
      ]
     },
     "metadata": {},
     "output_type": "display_data"
    },
    {
     "data": {
      "image/png": "[encoded data removed]",
      "text/plain": [
       "<IPython.core.display.Image object>"
      ]
     },
     "metadata": {},
     "output_type": "display_data"
    }
   ],
   "source": [
    "%matplot plt"
   ]
  },
  {
   "cell_type": "code",
   "execution_count": null,
   "metadata": {},
   "outputs": [],
   "source": []
  },
  {
   "cell_type": "code",
   "execution_count": null,
   "metadata": {},
   "outputs": [],
   "source": []
  },
  {
   "cell_type": "code",
   "execution_count": 349,
   "metadata": {},
   "outputs": [
    {
     "data": {
      "application/vnd.jupyter.widget-view+json": {
       "model_id": "d4aadff481a14b338ae4e90b944aca16",
       "version_major": 2,
       "version_minor": 0
      },
      "text/plain": [
       "VBox()"
      ]
     },
     "metadata": {},
     "output_type": "display_data"
    },
    {
     "data": {
      "application/vnd.jupyter.widget-view+json": {
       "model_id": "",
       "version_major": 2,
       "version_minor": 0
      },
      "text/plain": [
       "FloatProgress(value=0.0, bar_style='info', description='Progress:', layout=Layout(height='25px', width='50%'),…"
      ]
     },
     "metadata": {},
     "output_type": "display_data"
    }
   ],
   "source": [
    "preds_df = pd.DataFrame(data=preds, columns = ['pred_prob'])\n",
    "#preds_df"
   ]
  },
  {
   "cell_type": "code",
   "execution_count": 350,
   "metadata": {},
   "outputs": [
    {
     "data": {
      "application/vnd.jupyter.widget-view+json": {
       "model_id": "0a839728c268450a9b3eacf202c22c7b",
       "version_major": 2,
       "version_minor": 0
      },
      "text/plain": [
       "VBox()"
      ]
     },
     "metadata": {},
     "output_type": "display_data"
    },
    {
     "data": {
      "application/vnd.jupyter.widget-view+json": {
       "model_id": "",
       "version_major": 2,
       "version_minor": 0
      },
      "text/plain": [
       "FloatProgress(value=0.0, bar_style='info', description='Progress:', layout=Layout(height='25px', width='50%'),…"
      ]
     },
     "metadata": {},
     "output_type": "display_data"
    }
   ],
   "source": [
    "ytest.reset_index(drop=True, inplace=True)\n",
    "preds_df.reset_index(drop=True, inplace=True)"
   ]
  },
  {
   "cell_type": "code",
   "execution_count": 351,
   "metadata": {},
   "outputs": [
    {
     "data": {
      "application/vnd.jupyter.widget-view+json": {
       "model_id": "1a1fd8e9e7e14a6fbd9c008f9383ad61",
       "version_major": 2,
       "version_minor": 0
      },
      "text/plain": [
       "VBox()"
      ]
     },
     "metadata": {},
     "output_type": "display_data"
    },
    {
     "data": {
      "application/vnd.jupyter.widget-view+json": {
       "model_id": "",
       "version_major": 2,
       "version_minor": 0
      },
      "text/plain": [
       "FloatProgress(value=0.0, bar_style='info', description='Progress:', layout=Layout(height='25px', width='50%'),…"
      ]
     },
     "metadata": {},
     "output_type": "display_data"
    }
   ],
   "source": [
    "hist_plot_data = pd.concat([ytest, preds_df], axis = 1)\n",
    "#hist_plot_data"
   ]
  },
  {
   "cell_type": "code",
   "execution_count": null,
   "metadata": {},
   "outputs": [],
   "source": []
  },
  {
   "cell_type": "code",
   "execution_count": 352,
   "metadata": {},
   "outputs": [
    {
     "data": {
      "application/vnd.jupyter.widget-view+json": {
       "model_id": "f7271400ea0d4711a459e13872edb494",
       "version_major": 2,
       "version_minor": 0
      },
      "text/plain": [
       "VBox()"
      ]
     },
     "metadata": {},
     "output_type": "display_data"
    },
    {
     "data": {
      "application/vnd.jupyter.widget-view+json": {
       "model_id": "",
       "version_major": 2,
       "version_minor": 0
      },
      "text/plain": [
       "FloatProgress(value=0.0, bar_style='info', description='Progress:', layout=Layout(height='25px', width='50%'),…"
      ]
     },
     "metadata": {},
     "output_type": "display_data"
    }
   ],
   "source": [
    "NR_0 = hist_plot_data.loc[hist_plot_data.NR == 0, 'pred_prob']\n",
    "NR_1 = hist_plot_data.loc[hist_plot_data.NR == 1, 'pred_prob']"
   ]
  },
  {
   "cell_type": "code",
   "execution_count": 356,
   "metadata": {},
   "outputs": [
    {
     "data": {
      "application/vnd.jupyter.widget-view+json": {
       "model_id": "9a6eefcad5e148efb8635a06cfb7a160",
       "version_major": 2,
       "version_minor": 0
      },
      "text/plain": [
       "VBox()"
      ]
     },
     "metadata": {},
     "output_type": "display_data"
    },
    {
     "data": {
      "application/vnd.jupyter.widget-view+json": {
       "model_id": "",
       "version_major": 2,
       "version_minor": 0
      },
      "text/plain": [
       "FloatProgress(value=0.0, bar_style='info', description='Progress:', layout=Layout(height='25px', width='50%'),…"
      ]
     },
     "metadata": {},
     "output_type": "display_data"
    }
   ],
   "source": [
    "plt.clf()"
   ]
  },
  {
   "cell_type": "code",
   "execution_count": 357,
   "metadata": {},
   "outputs": [
    {
     "data": {
      "application/vnd.jupyter.widget-view+json": {
       "model_id": "07b6aabb4c924765bcb33b4ebcef680f",
       "version_major": 2,
       "version_minor": 0
      },
      "text/plain": [
       "VBox()"
      ]
     },
     "metadata": {},
     "output_type": "display_data"
    },
    {
     "data": {
      "application/vnd.jupyter.widget-view+json": {
       "model_id": "",
       "version_major": 2,
       "version_minor": 0
      },
      "text/plain": [
       "FloatProgress(value=0.0, bar_style='info', description='Progress:', layout=Layout(height='25px', width='50%'),…"
      ]
     },
     "metadata": {},
     "output_type": "display_data"
    },
    {
     "name": "stdout",
     "output_type": "stream",
     "text": [
      "<matplotlib.legend.Legend object at 0x7f376f287650>"
     ]
    }
   ],
   "source": [
    "kwargs = dict(alpha=0.5, bins=20)\n",
    "\n",
    "plt.hist(NR_0, **kwargs, color='b', label='NR=0')\n",
    "plt.hist(NR_1, **kwargs, color='g', label='NR=1')\n",
    "plt.gca().set(title='Histogram of NR Label Probs', ylabel='Frequency', xlabel = 'Predicted Probability')\n",
    "plt.legend();"
   ]
  },
  {
   "cell_type": "code",
   "execution_count": 358,
   "metadata": {},
   "outputs": [
    {
     "data": {
      "application/vnd.jupyter.widget-view+json": {
       "model_id": "",
       "version_major": 2,
       "version_minor": 0
      },
      "text/plain": [
       "FloatProgress(value=0.0, bar_style='info', description='Progress:', layout=Layout(height='25px', width='50%'),…"
      ]
     },
     "metadata": {},
     "output_type": "display_data"
    },
    {
     "data": {
      "image/png": "[encoded data removed]",
      "text/plain": [
       "<IPython.core.display.Image object>"
      ]
     },
     "metadata": {},
     "output_type": "display_data"
    }
   ],
   "source": [
    "%matplot plt"
   ]
  },
  {
   "cell_type": "code",
   "execution_count": 316,
   "metadata": {},
   "outputs": [
    {
     "data": {
      "application/vnd.jupyter.widget-view+json": {
       "model_id": "d395c296710a4dc59d80ce7df321e932",
       "version_major": 2,
       "version_minor": 0
      },
      "text/plain": [
       "VBox()"
      ]
     },
     "metadata": {},
     "output_type": "display_data"
    },
    {
     "data": {
      "application/vnd.jupyter.widget-view+json": {
       "model_id": "",
       "version_major": 2,
       "version_minor": 0
      },
      "text/plain": [
       "FloatProgress(value=0.0, bar_style='info', description='Progress:', layout=Layout(height='25px', width='50%'),…"
      ]
     },
     "metadata": {},
     "output_type": "display_data"
    },
    {
     "name": "stdout",
     "output_type": "stream",
     "text": [
      "NR           3233\n",
      "pred_prob    3233\n",
      "dtype: int64"
     ]
    }
   ],
   "source": [
    "#Amount of data that is actually 0 but predicted as 1 with probability > 80%\n",
    "hist_plot_data.loc[(hist_plot_data.NR == 0) & (hist_plot_data.pred_prob > 0.8)].count()\n",
    "#3233 / 204885 = ~1%"
   ]
  },
  {
   "cell_type": "code",
   "execution_count": 317,
   "metadata": {},
   "outputs": [
    {
     "data": {
      "application/vnd.jupyter.widget-view+json": {
       "model_id": "5de5ae5762b145ed9e7cb5df8a537aa4",
       "version_major": 2,
       "version_minor": 0
      },
      "text/plain": [
       "VBox()"
      ]
     },
     "metadata": {},
     "output_type": "display_data"
    },
    {
     "data": {
      "application/vnd.jupyter.widget-view+json": {
       "model_id": "",
       "version_major": 2,
       "version_minor": 0
      },
      "text/plain": [
       "FloatProgress(value=0.0, bar_style='info', description='Progress:', layout=Layout(height='25px', width='50%'),…"
      ]
     },
     "metadata": {},
     "output_type": "display_data"
    },
    {
     "name": "stdout",
     "output_type": "stream",
     "text": [
      "NR           3683\n",
      "pred_prob    3683\n",
      "dtype: int64"
     ]
    }
   ],
   "source": [
    "#Amount of data that is actually 1 but predicted as 0 with probability < 20%\n",
    "hist_plot_data.loc[(hist_plot_data.NR == 1) & (hist_plot_data.pred_prob < 0.2)].count()\n",
    "#3683 / 204885 = ~1%"
   ]
  },
  {
   "cell_type": "code",
   "execution_count": 318,
   "metadata": {},
   "outputs": [
    {
     "data": {
      "application/vnd.jupyter.widget-view+json": {
       "model_id": "e6e8465115924d3592827621e77cd3ad",
       "version_major": 2,
       "version_minor": 0
      },
      "text/plain": [
       "VBox()"
      ]
     },
     "metadata": {},
     "output_type": "display_data"
    },
    {
     "data": {
      "application/vnd.jupyter.widget-view+json": {
       "model_id": "",
       "version_major": 2,
       "version_minor": 0
      },
      "text/plain": [
       "FloatProgress(value=0.0, bar_style='info', description='Progress:', layout=Layout(height='25px', width='50%'),…"
      ]
     },
     "metadata": {},
     "output_type": "display_data"
    },
    {
     "name": "stdout",
     "output_type": "stream",
     "text": [
      "NR           47346\n",
      "pred_prob    47346\n",
      "dtype: int64"
     ]
    }
   ],
   "source": [
    "#Amount of data (0 or 1) that is between probabilities 20% - 80%\n",
    "hist_plot_data.loc[(hist_plot_data.pred_prob <0.8) & (hist_plot_data.pred_prob > 0.2)].count()\n",
    "#47346 / 204885 = ~23%"
   ]
  },
  {
   "cell_type": "code",
   "execution_count": 161,
   "metadata": {},
   "outputs": [
    {
     "data": {
      "application/vnd.jupyter.widget-view+json": {
       "model_id": "c777b1358e6249348dcc4c7210e64844",
       "version_major": 2,
       "version_minor": 0
      },
      "text/plain": [
       "VBox()"
      ]
     },
     "metadata": {},
     "output_type": "display_data"
    },
    {
     "data": {
      "application/vnd.jupyter.widget-view+json": {
       "model_id": "",
       "version_major": 2,
       "version_minor": 0
      },
      "text/plain": [
       "FloatProgress(value=0.0, bar_style='info', description='Progress:', layout=Layout(height='25px', width='50%'),…"
      ]
     },
     "metadata": {},
     "output_type": "display_data"
    }
   ],
   "source": [
    "#importance = clf.coef_\n",
    "#importance"
   ]
  },
  {
   "cell_type": "code",
   "execution_count": 162,
   "metadata": {},
   "outputs": [
    {
     "data": {
      "application/vnd.jupyter.widget-view+json": {
       "model_id": "ef529e01c7034a18acdc12c79c1fd802",
       "version_major": 2,
       "version_minor": 0
      },
      "text/plain": [
       "VBox()"
      ]
     },
     "metadata": {},
     "output_type": "display_data"
    },
    {
     "data": {
      "application/vnd.jupyter.widget-view+json": {
       "model_id": "",
       "version_major": 2,
       "version_minor": 0
      },
      "text/plain": [
       "FloatProgress(value=0.0, bar_style='info', description='Progress:', layout=Layout(height='25px', width='50%'),…"
      ]
     },
     "metadata": {},
     "output_type": "display_data"
    }
   ],
   "source": [
    "\n",
    "#feature_names = vectorizer.get_feature_names()\n",
    "#dense = importance\n",
    "#denselist = dense.tolist()\n",
    "#df = pd.DataFrame(denselist, columns=feature_names)\n",
    "#df"
   ]
  },
  {
   "cell_type": "code",
   "execution_count": null,
   "metadata": {},
   "outputs": [],
   "source": []
  },
  {
   "cell_type": "code",
   "execution_count": null,
   "metadata": {},
   "outputs": [],
   "source": []
  },
  {
   "cell_type": "code",
   "execution_count": null,
   "metadata": {},
   "outputs": [],
   "source": []
  },
  {
   "cell_type": "code",
   "execution_count": null,
   "metadata": {},
   "outputs": [],
   "source": []
  },
  {
   "cell_type": "code",
   "execution_count": null,
   "metadata": {},
   "outputs": [],
   "source": []
  },
  {
   "cell_type": "code",
   "execution_count": null,
   "metadata": {},
   "outputs": [],
   "source": []
  },
  {
   "cell_type": "code",
   "execution_count": 287,
   "metadata": {},
   "outputs": [
    {
     "data": {
      "application/vnd.jupyter.widget-view+json": {
       "model_id": "808ea30218d34df1bdad838bce6fe775",
       "version_major": 2,
       "version_minor": 0
      },
      "text/plain": [
       "VBox()"
      ]
     },
     "metadata": {},
     "output_type": "display_data"
    },
    {
     "data": {
      "application/vnd.jupyter.widget-view+json": {
       "model_id": "",
       "version_major": 2,
       "version_minor": 0
      },
      "text/plain": [
       "FloatProgress(value=0.0, bar_style='info', description='Progress:', layout=Layout(height='25px', width='50%'),…"
      ]
     },
     "metadata": {},
     "output_type": "display_data"
    }
   ],
   "source": [
    "xtest.reset_index(drop=True, inplace=True)\n",
    "hist_plot_data.reset_index(drop=True, inplace=True)"
   ]
  },
  {
   "cell_type": "code",
   "execution_count": 303,
   "metadata": {},
   "outputs": [
    {
     "data": {
      "application/vnd.jupyter.widget-view+json": {
       "model_id": "8bd8f8f1e5c44e8e85ae93be35c101a9",
       "version_major": 2,
       "version_minor": 0
      },
      "text/plain": [
       "VBox()"
      ]
     },
     "metadata": {},
     "output_type": "display_data"
    },
    {
     "data": {
      "application/vnd.jupyter.widget-view+json": {
       "model_id": "",
       "version_major": 2,
       "version_minor": 0
      },
      "text/plain": [
       "FloatProgress(value=0.0, bar_style='info', description='Progress:', layout=Layout(height='25px', width='50%'),…"
      ]
     },
     "metadata": {},
     "output_type": "display_data"
    },
    {
     "name": "stdout",
     "output_type": "stream",
     "text": [
      "                                                                                                                                                                                                                                                                                                                                                                                                                           ALL_TEXT  \\\n",
      "0       headline Daughter loves it!! comment This is so cute, my daughter loves all the robots from Star Wars, and here they are all on one shirt!!                                                                                                                                                                                                                                                                                   \n",
      "1       headline Love these too!!! comment The warmest earmuffs I have ever used in my life and they don't even make my ears sweat!! These are the best earmuffs EVER!!! At first I thought they were way too expensive for earmuffs but they work excellently well, they look good and I am extremely happy with them.                                                                                                               \n",
      "2       headline Five Stars comment The dress is really pretty.                                                                                                                                                                                                                                                                                                                                                                       \n",
      "3       headline Good goods comment Good running shoe\\nIt is like walking on a cloud                                                                                                                                                                                                                                                                                                                                                  \n",
      "4       headline Love, love, love these! comment I love that the ankle is cuffed so it doesn't swallow my sons foot. These are so soft, and cute! I think they run really big compared to other clothes that I have purchased for my son. I got 9/12 and even tightened all the way there is a gap. He usually wears 12/18 months. But that's okay because he can get good use out of these!                                          \n",
      "...                                                                                                                                                                                                                                                                                                                                                                                      ...                                          \n",
      "204880  headline Have not received my order, going on 3 weeks. comment I'll never order from North face again, what do I do with my egift card.                                                                                                                                                                                                                                                                                       \n",
      "204881  headline Hated them comment Hated these shoes tried to take them back to my nearest store and bc they had a little scuff on them the nasty person at Columbia mall in Baltimore Maryland said he would not take back or return them. So I told him to throw away and I won't buy another shoe from here. Which sucks bc I only wear sketchers.                                                                                \n",
      "204882  headline I can not say I was asked to review a product I don't have comment I purchased my order on 4/16 to be delivered to my new place on 5/8. I received a call on 5/6 advising me that I would not receive my bed set till 5/15. To make this worst I received a email from costumer service asking if how I like my bed. The bed set  I was supposed to sleep one in my new place but won't receive till the 15 of May   \n",
      "204883  headline Purse not received comment Purse not received                                                                                                                                                                                                                                                                                                                                                                        \n",
      "204884  headline Not worth the price tag comment Pillow sinks low after a week. I now have to fold it to get adequate support. Moreover, purchased from Mattress Firm at $99 when price here is below that. Ridiculous.                                                                                                                                                                                                               \n",
      "\n",
      "        REVIEW_RATING  NR  pred_prob  \n",
      "0       5.0            0   0.009026   \n",
      "1       5.0            0   0.312612   \n",
      "2       5.0            0   0.030589   \n",
      "3       5.0            0   0.180927   \n",
      "4       5.0            0   0.003680   \n",
      "...     ...           ..        ...   \n",
      "204880  1.0            1   0.986691   \n",
      "204881  1.0            1   0.887608   \n",
      "204882  1.0            1   0.994918   \n",
      "204883  1.0            1   0.947040   \n",
      "204884  1.0            1   0.477791   \n",
      "\n",
      "[204885 rows x 4 columns]"
     ]
    }
   ],
   "source": [
    "results = pd.concat([xtest, hist_plot_data], axis=1)\n",
    "results"
   ]
  },
  {
   "cell_type": "code",
   "execution_count": 304,
   "metadata": {},
   "outputs": [
    {
     "data": {
      "application/vnd.jupyter.widget-view+json": {
       "model_id": "81a47ff6d9b94a659c85ea4bb5665180",
       "version_major": 2,
       "version_minor": 0
      },
      "text/plain": [
       "VBox()"
      ]
     },
     "metadata": {},
     "output_type": "display_data"
    },
    {
     "data": {
      "application/vnd.jupyter.widget-view+json": {
       "model_id": "",
       "version_major": 2,
       "version_minor": 0
      },
      "text/plain": [
       "FloatProgress(value=0.0, bar_style='info', description='Progress:', layout=Layout(height='25px', width='50%'),…"
      ]
     },
     "metadata": {},
     "output_type": "display_data"
    },
    {
     "name": "stdout",
     "output_type": "stream",
     "text": [
      "                                                                                                                                                                                                                                                                                                                                                                                                                           ALL_TEXT  \\\n",
      "0       headline Daughter loves it!! comment This is so cute, my daughter loves all the robots from Star Wars, and here they are all on one shirt!!                                                                                                                                                                                                                                                                                   \n",
      "1       headline Love these too!!! comment The warmest earmuffs I have ever used in my life and they don't even make my ears sweat!! These are the best earmuffs EVER!!! At first I thought they were way too expensive for earmuffs but they work excellently well, they look good and I am extremely happy with them.                                                                                                               \n",
      "2       headline Five Stars comment The dress is really pretty.                                                                                                                                                                                                                                                                                                                                                                       \n",
      "3       headline Good goods comment Good running shoe\\nIt is like walking on a cloud                                                                                                                                                                                                                                                                                                                                                  \n",
      "4       headline Love, love, love these! comment I love that the ankle is cuffed so it doesn't swallow my sons foot. These are so soft, and cute! I think they run really big compared to other clothes that I have purchased for my son. I got 9/12 and even tightened all the way there is a gap. He usually wears 12/18 months. But that's okay because he can get good use out of these!                                          \n",
      "...                                                                                                                                                                                                                                                                                                                                                                                      ...                                          \n",
      "204880  headline Have not received my order, going on 3 weeks. comment I'll never order from North face again, what do I do with my egift card.                                                                                                                                                                                                                                                                                       \n",
      "204881  headline Hated them comment Hated these shoes tried to take them back to my nearest store and bc they had a little scuff on them the nasty person at Columbia mall in Baltimore Maryland said he would not take back or return them. So I told him to throw away and I won't buy another shoe from here. Which sucks bc I only wear sketchers.                                                                                \n",
      "204882  headline I can not say I was asked to review a product I don't have comment I purchased my order on 4/16 to be delivered to my new place on 5/8. I received a call on 5/6 advising me that I would not receive my bed set till 5/15. To make this worst I received a email from costumer service asking if how I like my bed. The bed set  I was supposed to sleep one in my new place but won't receive till the 15 of May   \n",
      "204883  headline Purse not received comment Purse not received                                                                                                                                                                                                                                                                                                                                                                        \n",
      "204884  headline Not worth the price tag comment Pillow sinks low after a week. I now have to fold it to get adequate support. Moreover, purchased from Mattress Firm at $99 when price here is below that. Ridiculous.                                                                                                                                                                                                               \n",
      "\n",
      "        REVIEW_RATING  NR  pred_prob  \n",
      "0       5.0            0   0.009026   \n",
      "1       5.0            0   0.312612   \n",
      "2       5.0            0   0.030589   \n",
      "3       5.0            0   0.180927   \n",
      "4       5.0            0   0.003680   \n",
      "...     ...           ..        ...   \n",
      "204880  1.0            1   0.986691   \n",
      "204881  1.0            1   0.887608   \n",
      "204882  1.0            1   0.994918   \n",
      "204883  1.0            1   0.947040   \n",
      "204884  1.0            1   0.477791   \n",
      "\n",
      "[204885 rows x 4 columns]"
     ]
    }
   ],
   "source": [
    "results['ALL_TEXT'] = results['ALL_TEXT'].astype(str)\n",
    "results"
   ]
  },
  {
   "cell_type": "code",
   "execution_count": 305,
   "metadata": {},
   "outputs": [
    {
     "data": {
      "application/vnd.jupyter.widget-view+json": {
       "model_id": "f187bf2f8ba341aea537001b2ec150c6",
       "version_major": 2,
       "version_minor": 0
      },
      "text/plain": [
       "VBox()"
      ]
     },
     "metadata": {},
     "output_type": "display_data"
    },
    {
     "data": {
      "application/vnd.jupyter.widget-view+json": {
       "model_id": "",
       "version_major": 2,
       "version_minor": 0
      },
      "text/plain": [
       "FloatProgress(value=0.0, bar_style='info', description='Progress:', layout=Layout(height='25px', width='50%'),…"
      ]
     },
     "metadata": {},
     "output_type": "display_data"
    }
   ],
   "source": [
    "results_sparkdf = spark.createDataFrame(results)"
   ]
  },
  {
   "cell_type": "code",
   "execution_count": 306,
   "metadata": {},
   "outputs": [
    {
     "data": {
      "application/vnd.jupyter.widget-view+json": {
       "model_id": "ce4974c112564d3288cb57c5500c6132",
       "version_major": 2,
       "version_minor": 0
      },
      "text/plain": [
       "VBox()"
      ]
     },
     "metadata": {},
     "output_type": "display_data"
    },
    {
     "data": {
      "application/vnd.jupyter.widget-view+json": {
       "model_id": "",
       "version_major": 2,
       "version_minor": 0
      },
      "text/plain": [
       "FloatProgress(value=0.0, bar_style='info', description='Progress:', layout=Layout(height='25px', width='50%'),…"
      ]
     },
     "metadata": {},
     "output_type": "display_data"
    }
   ],
   "source": [
    "sfOptions2 = {\n",
    "  'sfURL' : 'powerreviews.snowflakecomputing.com',\n",
    "  'sfAccount' : 'powerreviews',\n",
    "  'sfUser' : 'APP_SPARK_PROD',\n",
    "  'sfPassword' : '>6txhcQ*7&^Qrq`j',\n",
    "  'sfDatabase' : 'ANALYTICS_WORKSHOP',\n",
    "  'sfSchema' : 'DATA_SCIENCE',\n",
    "  'sfWarehouse' : 'LOWER_ENV_WAREHOUSE'\n",
    "}\n"
   ]
  },
  {
   "cell_type": "code",
   "execution_count": 307,
   "metadata": {},
   "outputs": [
    {
     "data": {
      "application/vnd.jupyter.widget-view+json": {
       "model_id": "bfc456d12a5b407ebac6b424c7f637b0",
       "version_major": 2,
       "version_minor": 0
      },
      "text/plain": [
       "VBox()"
      ]
     },
     "metadata": {},
     "output_type": "display_data"
    },
    {
     "data": {
      "application/vnd.jupyter.widget-view+json": {
       "model_id": "",
       "version_major": 2,
       "version_minor": 0
      },
      "text/plain": [
       "FloatProgress(value=0.0, bar_style='info', description='Progress:', layout=Layout(height='25px', width='50%'),…"
      ]
     },
     "metadata": {},
     "output_type": "display_data"
    }
   ],
   "source": [
    " results_sparkdf.write.format(SNOWFLAKE_SOURCE_NAME).options(**sfOptions2) \\\n",
    "    .option(\"dbtable\",\"MODLABEL_TEST_2\").mode(\"append\").save()"
   ]
  },
  {
   "cell_type": "code",
   "execution_count": null,
   "metadata": {},
   "outputs": [],
   "source": []
  },
  {
   "cell_type": "code",
   "execution_count": null,
   "metadata": {},
   "outputs": [],
   "source": []
  },
  {
   "cell_type": "code",
   "execution_count": null,
   "metadata": {},
   "outputs": [],
   "source": []
  },
  {
   "cell_type": "code",
   "execution_count": null,
   "metadata": {},
   "outputs": [],
   "source": []
  },
  {
   "cell_type": "code",
   "execution_count": null,
   "metadata": {},
   "outputs": [],
   "source": []
  },
  {
   "cell_type": "code",
   "execution_count": null,
   "metadata": {},
   "outputs": [],
   "source": []
  },
  {
   "cell_type": "code",
   "execution_count": null,
   "metadata": {},
   "outputs": [],
   "source": []
  }
 ],
 "metadata": {
  "kernelspec": {
   "display_name": "PySpark",
   "language": "",
   "name": "pysparkkernel"
  },
  "language_info": {
   "codemirror_mode": {
    "name": "python",
    "version": 2
   },
   "mimetype": "text/x-python",
   "name": "pyspark",
   "pygments_lexer": "python2"
  }
 },
 "nbformat": 4,
 "nbformat_minor": 4
}
