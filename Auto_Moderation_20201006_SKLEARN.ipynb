{
 "cells": [
  {
   "cell_type": "code",
   "execution_count": 43,
   "metadata": {},
   "outputs": [
    {
     "data": {
      "application/vnd.jupyter.widget-view+json": {
       "model_id": "71f9c0b15f284da182047114baca53e1",
       "version_major": 2,
       "version_minor": 0
      },
      "text/plain": [
       "VBox()"
      ]
     },
     "metadata": {},
     "output_type": "display_data"
    },
    {
     "data": {
      "application/vnd.jupyter.widget-view+json": {
       "model_id": "",
       "version_major": 2,
       "version_minor": 0
      },
      "text/plain": [
       "FloatProgress(value=0.0, bar_style='info', description='Progress:', layout=Layout(height='25px', width='50%'),…"
      ]
     },
     "metadata": {},
     "output_type": "display_data"
    }
   ],
   "source": [
    "#Import packages\n",
    "import numpy as np\n",
    "import pyspark.sql.functions as F\n",
    "import snowflake.connector\n",
    "import pandas as pd\n",
    "import spacy\n",
    "#from sparknlp.base import Finisher, DocumentAssembler\n",
    "#from sparknlp.annotator import  Normalizer, LemmatizerModel, StopWordsCleaner, Tokenizer\n",
    "#from pyspark.ml import Pipeline\n",
    "#from pyspark.ml.feature import CountVectorizer, VectorAssembler, HashingTF, IDF, Tokenizer\n",
    "#from nltk.corpus import stopwords\n",
    "from sklearn.feature_extraction.text import TfidfVectorizer\n",
    "#import re\n",
    "from sklearn.model_selection import train_test_split\n",
    "from scipy import sparse\n",
    "from sklearn.linear_model import LogisticRegression\n",
    "\n",
    "# Binary Relevance\n",
    "from sklearn.multiclass import OneVsRestClassifier\n",
    "\n",
    "# Performance metric\n",
    "from sklearn.metrics import f1_score, accuracy_score, recall_score, precision_score, confusion_matrix, roc_curve, auc"
   ]
  },
  {
   "cell_type": "code",
   "execution_count": 2,
   "metadata": {},
   "outputs": [
    {
     "data": {
      "application/vnd.jupyter.widget-view+json": {
       "model_id": "32ee759cbe8e48e68962e758a7e10594",
       "version_major": 2,
       "version_minor": 0
      },
      "text/plain": [
       "VBox()"
      ]
     },
     "metadata": {},
     "output_type": "display_data"
    },
    {
     "data": {
      "application/vnd.jupyter.widget-view+json": {
       "model_id": "",
       "version_major": 2,
       "version_minor": 0
      },
      "text/plain": [
       "FloatProgress(value=0.0, bar_style='info', description='Progress:', layout=Layout(height='25px', width='50%'),…"
      ]
     },
     "metadata": {},
     "output_type": "display_data"
    }
   ],
   "source": [
    "#SPARK connection info\n",
    "sfOptions = {\n",
    "  'sfURL' : 'powerreviews.snowflakecomputing.com',\n",
    "  'sfAccount' : 'powerreviews',\n",
    "  'sfUser' : 'APP_SPARK_PROD',\n",
    "  'sfPassword' : '>6txhcQ*7&^Qrq`j',\n",
    "  'sfDatabase' : 'ANALYTICS_PROD',\n",
    "  'sfSchema' : 'ANALYTICS',\n",
    "  'sfWarehouse' : 'LOWER_ENV_WAREHOUSE'\n",
    "}\n",
    "SNOWFLAKE_SOURCE_NAME = \"net.snowflake.spark.snowflake\"\n",
    "\n",
    "#PYTHON connection info\n",
    "conn = snowflake.connector.connect(\n",
    "    account='powerreviews',\n",
    "    database='analytics_prod',\n",
    "    warehouse='LOWER_ENV_WAREHOUSE',\n",
    "    user='APP_SPARK_PROD',\n",
    "    password='>6txhcQ*7&^Qrq`j'\n",
    "    )"
   ]
  },
  {
   "cell_type": "code",
   "execution_count": 3,
   "metadata": {},
   "outputs": [
    {
     "data": {
      "application/vnd.jupyter.widget-view+json": {
       "model_id": "03bcdcdbbbeb40e8a537b66e9628e9ab",
       "version_major": 2,
       "version_minor": 0
      },
      "text/plain": [
       "VBox()"
      ]
     },
     "metadata": {},
     "output_type": "display_data"
    },
    {
     "data": {
      "application/vnd.jupyter.widget-view+json": {
       "model_id": "",
       "version_major": 2,
       "version_minor": 0
      },
      "text/plain": [
       "FloatProgress(value=0.0, bar_style='info', description='Progress:', layout=Layout(height='25px', width='50%'),…"
      ]
     },
     "metadata": {},
     "output_type": "display_data"
    }
   ],
   "source": [
    "#Use review data set to get observation codes bc they are already comma separated and less joins to perform\n",
    "#Still need observation set though to get observation created date\n",
    "#This is bc review could be from ages ago but we could have imported recently and moderated it\n",
    "#Want to make sure we include as many observation labels as possible for most accurate model\n",
    "\n"
   ]
  },
  {
   "cell_type": "code",
   "execution_count": 4,
   "metadata": {},
   "outputs": [
    {
     "data": {
      "application/vnd.jupyter.widget-view+json": {
       "model_id": "a949e3d6e03f47e1955d38d1415c7161",
       "version_major": 2,
       "version_minor": 0
      },
      "text/plain": [
       "VBox()"
      ]
     },
     "metadata": {},
     "output_type": "display_data"
    },
    {
     "data": {
      "application/vnd.jupyter.widget-view+json": {
       "model_id": "",
       "version_major": 2,
       "version_minor": 0
      },
      "text/plain": [
       "FloatProgress(value=0.0, bar_style='info', description='Progress:', layout=Layout(height='25px', width='50%'),…"
      ]
     },
     "metadata": {},
     "output_type": "display_data"
    }
   ],
   "source": [
    "query = \"select distinct r.ugc_id, r.created_date, r.review_headline, \\\n",
    "r.review_comments, r.review_rating, r.reviewer_nickname, r.locale, r.observations, \\\n",
    "ADD IN CASE WHEN HERE \\\n",
    "from analytics.review as r \\\n",
    "left join cdm.observation as o \\\n",
    "on r.ugc_id = o.ugc_id \\\n",
    "where contains(r.observations, 'PM') \\\n",
    "and r.locale in ('en_US','en_GB','en_CA') \\\n",
    "and o.created_date > '2020-09-23'  \\\n",
    "limit 100\""
   ]
  },
  {
   "cell_type": "code",
   "execution_count": 5,
   "metadata": {},
   "outputs": [
    {
     "data": {
      "application/vnd.jupyter.widget-view+json": {
       "model_id": "2d9990d01e104623b5bd06a12e003dd3",
       "version_major": 2,
       "version_minor": 0
      },
      "text/plain": [
       "VBox()"
      ]
     },
     "metadata": {},
     "output_type": "display_data"
    },
    {
     "data": {
      "application/vnd.jupyter.widget-view+json": {
       "model_id": "",
       "version_major": 2,
       "version_minor": 0
      },
      "text/plain": [
       "FloatProgress(value=0.0, bar_style='info', description='Progress:', layout=Layout(height='25px', width='50%'),…"
      ]
     },
     "metadata": {},
     "output_type": "display_data"
    }
   ],
   "source": [
    "#Careful not to get CNR for NR\n",
    "#CNR, NR, PM - contains(r.observations, ',NR,')\n",
    "#NR, PM - substring(r.observations, 1, 2) = 'NR'\n",
    "#CNR, PM - DONT WANT\n",
    "#Careful not to get SSC for SC\n",
    "#PM, SC - \n",
    "#PM, SSC - DONT WANT\n",
    "#PM, SC, SSC\n",
    "#18 labels total - not including PM (doesn't yet include NOLABEL label - 19 labels with that)\n",
    "query_testing = \"select distinct r.ugc_id, r.created_date, r.review_headline, \\\n",
    "r.review_comments, r.review_rating, r.reviewer_nickname, r.reviewer_location, r.observations, \\\n",
    "case when contains(r.observations, 'PM') then 1 else 0 end as PM, \\\n",
    "case when (contains(r.observations, ',NR,') or substring(r.observations, 1, 2) = 'NR')  then 1 else 0 end as NR, \\\n",
    "case when contains(r.observations, 'PII') then 1 else 0 end as PII, \\\n",
    "case when contains(r.observations, 'PR') then 1 else 0 end as PR, \\\n",
    "case when contains(r.observations, 'CS') then 1 else 0 end as CS, \\\n",
    "case when contains(r.observations, 'DC') then 1 else 0 end as DC, \\\n",
    "case when contains(r.observations, 'CR') then 1 else 0 end as CR, \\\n",
    "case when contains(r.observations, 'FRD') then 1 else 0 end as FRD, \\\n",
    "case when contains(r.observations, 'TST') then 1 else 0 end as TST, \\\n",
    "case when contains(r.observations, 'CC') then 1 else 0 end as CC, \\\n",
    "case when contains(r.observations, ',SC') then 1 else 0 end as SC, \\\n",
    "case when contains(r.observations, 'PIM') then 1 else 0 end as PIM, \\\n",
    "case when contains(r.observations, 'LC') then 1 else 0 end as LC, \\\n",
    "case when contains(r.observations, 'WEB') then 1 else 0 end as WEB, \\\n",
    "case when contains(r.observations, 'FL') then 1 else 0 end as FL, \\\n",
    "case when contains(r.observations, 'SA') then 1 else 0 end as SA, \\\n",
    "case when contains(r.observations, 'URL') then 1 else 0 end as URL, \\\n",
    "case when contains(r.observations, 'CV') then 1 else 0 end as CV, \\\n",
    "case when contains(r.observations, 'US') then 1 else 0 end as US \\\n",
    "from analytics.review as r \\\n",
    "where r.locale in ('en_US','en_GB','en_CA') \\\n",
    "and r.created_date > '2019-09-01'  \\\n",
    "and contains(r.observations, 'PM') \\\n",
    "limit 250000\""
   ]
  },
  {
   "cell_type": "code",
   "execution_count": 9,
   "metadata": {},
   "outputs": [
    {
     "data": {
      "application/vnd.jupyter.widget-view+json": {
       "model_id": "24b72a5ad19e4ff3b333f880886c0dd4",
       "version_major": 2,
       "version_minor": 0
      },
      "text/plain": [
       "VBox()"
      ]
     },
     "metadata": {},
     "output_type": "display_data"
    },
    {
     "data": {
      "application/vnd.jupyter.widget-view+json": {
       "model_id": "",
       "version_major": 2,
       "version_minor": 0
      },
      "text/plain": [
       "FloatProgress(value=0.0, bar_style='info', description='Progress:', layout=Layout(height='25px', width='50%'),…"
      ]
     },
     "metadata": {},
     "output_type": "display_data"
    },
    {
     "name": "stdout",
     "output_type": "stream",
     "text": [
      "       UGC_ID        CREATED_DATE  ... CV US\n",
      "0   262848155 2019-11-23 10:31:12  ...  0  0\n",
      "1   262854906 2019-11-23 16:49:58  ...  0  0\n",
      "2   262769168 2019-11-23 23:13:56  ...  0  0\n",
      "3   297103320 2019-11-23 17:25:44  ...  0  0\n",
      "4   299257691 2019-11-23 17:25:44  ...  0  0\n",
      "..        ...                 ...  ... .. ..\n",
      "95  262011072 2019-11-23 01:49:28  ...  0  0\n",
      "96  262057754 2019-11-23 15:41:58  ...  0  0\n",
      "97  262751391 2019-11-23 18:18:37  ...  0  0\n",
      "98  262020452 2019-11-23 06:16:56  ...  0  0\n",
      "99  266831262 2019-11-23 16:00:00  ...  0  0\n",
      "\n",
      "[100 rows x 27 columns]"
     ]
    }
   ],
   "source": [
    "#pd.set_option('display.max_colwidth', -1)\n",
    "#pd.set_option('display.max_columns', None)\n",
    "#pd.set_option('display.max_rows', None)\n",
    "reviews = pd.read_sql(query_testing, conn)\n",
    "reviews.head(100)\n",
    "#reviews.info()\n",
    "\n",
    "#PULLING IN ALL REVIEWS SINCE '2019-09-01' (17,468,653) TAKES X MINS"
   ]
  },
  {
   "cell_type": "code",
   "execution_count": 10,
   "metadata": {},
   "outputs": [
    {
     "data": {
      "application/vnd.jupyter.widget-view+json": {
       "model_id": "457ccbf33cf843f9abbccad5819611cb",
       "version_major": 2,
       "version_minor": 0
      },
      "text/plain": [
       "VBox()"
      ]
     },
     "metadata": {},
     "output_type": "display_data"
    },
    {
     "data": {
      "application/vnd.jupyter.widget-view+json": {
       "model_id": "",
       "version_major": 2,
       "version_minor": 0
      },
      "text/plain": [
       "FloatProgress(value=0.0, bar_style='info', description='Progress:', layout=Layout(height='25px', width='50%'),…"
      ]
     },
     "metadata": {},
     "output_type": "display_data"
    }
   ],
   "source": [
    "reviews.loc[reviews['REVIEWER_LOCATION'] == 'US', 'REVIEWER_LOCATION'] = 'USA'\n",
    "\n",
    "#reviews['REVIEWER_LOCATION'].head(500)"
   ]
  },
  {
   "cell_type": "code",
   "execution_count": 8,
   "metadata": {},
   "outputs": [
    {
     "data": {
      "application/vnd.jupyter.widget-view+json": {
       "model_id": "359660dc0d7141bba83d29aad6ce6dd5",
       "version_major": 2,
       "version_minor": 0
      },
      "text/plain": [
       "VBox()"
      ]
     },
     "metadata": {},
     "output_type": "display_data"
    },
    {
     "data": {
      "application/vnd.jupyter.widget-view+json": {
       "model_id": "",
       "version_major": 2,
       "version_minor": 0
      },
      "text/plain": [
       "FloatProgress(value=0.0, bar_style='info', description='Progress:', layout=Layout(height='25px', width='50%'),…"
      ]
     },
     "metadata": {},
     "output_type": "display_data"
    },
    {
     "name": "stdout",
     "output_type": "stream",
     "text": [
      "           UGC_ID        CREATED_DATE  ... US LABEL_SUM\n",
      "0       262848155 2019-11-23 10:31:12  ...  0         0\n",
      "1       262854906 2019-11-23 16:49:58  ...  0         0\n",
      "2       262769168 2019-11-23 23:13:56  ...  0         0\n",
      "3       297103320 2019-11-23 17:25:44  ...  0         0\n",
      "4       299257691 2019-11-23 17:25:44  ...  0         0\n",
      "...           ...                 ...  ... ..       ...\n",
      "249995  272242825 2020-04-09 08:56:09  ...  0         0\n",
      "249996  272319032 2020-04-09 14:18:05  ...  0         0\n",
      "249997  272319061 2020-04-09 15:57:17  ...  0         0\n",
      "249998  272319082 2020-04-09 19:55:16  ...  0         0\n",
      "249999  270577008 2020-04-09 11:37:56  ...  0         0\n",
      "\n",
      "[250000 rows x 28 columns]"
     ]
    }
   ],
   "source": [
    "#Use set_option so text doesn't truncate\n",
    "#pd.set_option('display.max_colwidth', -1)\n",
    "#pd.set_option('display.max_columns', None)\n",
    "#pd.set_option('display.max_rows', None)\n",
    "reviews['LABEL_SUM']= reviews.iloc[:, -18:-1].sum(axis=1)\n",
    "reviews"
   ]
  },
  {
   "cell_type": "code",
   "execution_count": 10,
   "metadata": {},
   "outputs": [
    {
     "data": {
      "application/vnd.jupyter.widget-view+json": {
       "model_id": "77208aeee0c9452da0fce8b948922629",
       "version_major": 2,
       "version_minor": 0
      },
      "text/plain": [
       "VBox()"
      ]
     },
     "metadata": {},
     "output_type": "display_data"
    },
    {
     "data": {
      "application/vnd.jupyter.widget-view+json": {
       "model_id": "",
       "version_major": 2,
       "version_minor": 0
      },
      "text/plain": [
       "FloatProgress(value=0.0, bar_style='info', description='Progress:', layout=Layout(height='25px', width='50%'),…"
      ]
     },
     "metadata": {},
     "output_type": "display_data"
    },
    {
     "name": "stdout",
     "output_type": "stream",
     "text": [
      "           UGC_ID        CREATED_DATE  ... LABEL_SUM NOLABEL\n",
      "0       281456347 2020-06-16 12:36:22  ...         0       1\n",
      "1       281663273 2020-06-16 12:11:38  ...         0       1\n",
      "2       281661361 2020-06-16 07:31:56  ...         0       1\n",
      "3       281663375 2020-06-16 12:24:17  ...         0       1\n",
      "4       281662853 2020-06-16 13:04:11  ...         0       1\n",
      "...           ...                 ...  ...       ...     ...\n",
      "499995  258929055 2019-10-07 10:54:46  ...         0       1\n",
      "499996  258929104 2019-10-07 11:37:48  ...         0       1\n",
      "499997  258928991 2019-10-07 13:07:49  ...         0       1\n",
      "499998  258992068 2019-10-07 16:12:19  ...         0       1\n",
      "499999  258992136 2019-10-07 13:45:07  ...         0       1\n",
      "\n",
      "[500000 rows x 29 columns]"
     ]
    }
   ],
   "source": [
    "#LOOK AT OTHER LABELS - IF NONE THEN ADD NOLABEL = 1\n",
    "#df['new column name'] = df['column name'].apply(lambda x: 'value if condition is met' if x condition else 'value if condition is not met')\n",
    "reviews['NOLABEL'] = reviews['LABEL_SUM'].apply(lambda x: int(1) if x==0 else int(0))\n",
    "\n",
    "#df.loc[df['set_of_numbers'] <= 4, 'equal_or_lower_than_4?'] = 'True' \n",
    "#reviews.loc[reviews['NOLABEL'] == 0, 'TEST'] = 1\n",
    "#df['Fruit Total']= df.iloc[:, -4:-1].sum(axis=1)\n",
    "reviews"
   ]
  },
  {
   "cell_type": "code",
   "execution_count": 11,
   "metadata": {},
   "outputs": [
    {
     "data": {
      "application/vnd.jupyter.widget-view+json": {
       "model_id": "d2c35410a0cd41329fb18617d360dfed",
       "version_major": 2,
       "version_minor": 0
      },
      "text/plain": [
       "VBox()"
      ]
     },
     "metadata": {},
     "output_type": "display_data"
    },
    {
     "data": {
      "application/vnd.jupyter.widget-view+json": {
       "model_id": "",
       "version_major": 2,
       "version_minor": 0
      },
      "text/plain": [
       "FloatProgress(value=0.0, bar_style='info', description='Progress:', layout=Layout(height='25px', width='50%'),…"
      ]
     },
     "metadata": {},
     "output_type": "display_data"
    },
    {
     "name": "stdout",
     "output_type": "stream",
     "text": [
      "           UGC_ID        CREATED_DATE  ... US NOLABEL\n",
      "0       281456347 2020-06-16 12:36:22  ...  0       1\n",
      "1       281663273 2020-06-16 12:11:38  ...  0       1\n",
      "2       281661361 2020-06-16 07:31:56  ...  0       1\n",
      "3       281663375 2020-06-16 12:24:17  ...  0       1\n",
      "4       281662853 2020-06-16 13:04:11  ...  0       1\n",
      "...           ...                 ...  ... ..     ...\n",
      "499995  258929055 2019-10-07 10:54:46  ...  0       1\n",
      "499996  258929104 2019-10-07 11:37:48  ...  0       1\n",
      "499997  258928991 2019-10-07 13:07:49  ...  0       1\n",
      "499998  258992068 2019-10-07 16:12:19  ...  0       1\n",
      "499999  258992136 2019-10-07 13:45:07  ...  0       1\n",
      "\n",
      "[500000 rows x 28 columns]"
     ]
    }
   ],
   "source": [
    "reviews2 = reviews.drop(['LABEL_SUM'], axis=1)\n",
    "reviews2"
   ]
  },
  {
   "cell_type": "code",
   "execution_count": 12,
   "metadata": {},
   "outputs": [
    {
     "data": {
      "application/vnd.jupyter.widget-view+json": {
       "model_id": "69030acbb580433a8e84502b3b1f7b1b",
       "version_major": 2,
       "version_minor": 0
      },
      "text/plain": [
       "VBox()"
      ]
     },
     "metadata": {},
     "output_type": "display_data"
    },
    {
     "data": {
      "application/vnd.jupyter.widget-view+json": {
       "model_id": "",
       "version_major": 2,
       "version_minor": 0
      },
      "text/plain": [
       "FloatProgress(value=0.0, bar_style='info', description='Progress:', layout=Layout(height='25px', width='50%'),…"
      ]
     },
     "metadata": {},
     "output_type": "display_data"
    },
    {
     "name": "stdout",
     "output_type": "stream",
     "text": [
      "           UGC_ID        CREATED_DATE  ... US NOLABEL\n",
      "0       281456347 2020-06-16 12:36:22  ...  0       1\n",
      "1       281663273 2020-06-16 12:11:38  ...  0       1\n",
      "2       281661361 2020-06-16 07:31:56  ...  0       1\n",
      "3       281663375 2020-06-16 12:24:17  ...  0       1\n",
      "4       281662853 2020-06-16 13:04:11  ...  0       1\n",
      "...           ...                 ...  ... ..     ...\n",
      "499995  258929055 2019-10-07 10:54:46  ...  0       1\n",
      "499996  258929104 2019-10-07 11:37:48  ...  0       1\n",
      "499997  258928991 2019-10-07 13:07:49  ...  0       1\n",
      "499998  258992068 2019-10-07 16:12:19  ...  0       1\n",
      "499999  258992136 2019-10-07 13:45:07  ...  0       1\n",
      "\n",
      "[500000 rows x 28 columns]"
     ]
    }
   ],
   "source": [
    "reviews = reviews2\n",
    "reviews"
   ]
  },
  {
   "cell_type": "code",
   "execution_count": 11,
   "metadata": {},
   "outputs": [
    {
     "data": {
      "application/vnd.jupyter.widget-view+json": {
       "model_id": "f2400fdd0b334d54a92efc657a2aaba8",
       "version_major": 2,
       "version_minor": 0
      },
      "text/plain": [
       "VBox()"
      ]
     },
     "metadata": {},
     "output_type": "display_data"
    },
    {
     "data": {
      "application/vnd.jupyter.widget-view+json": {
       "model_id": "",
       "version_major": 2,
       "version_minor": 0
      },
      "text/plain": [
       "FloatProgress(value=0.0, bar_style='info', description='Progress:', layout=Layout(height='25px', width='50%'),…"
      ]
     },
     "metadata": {},
     "output_type": "display_data"
    },
    {
     "name": "stdout",
     "output_type": "stream",
     "text": [
      "UGC_ID                        int64\n",
      "CREATED_DATE         datetime64[ns]\n",
      "REVIEW_HEADLINE              object\n",
      "REVIEW_COMMENTS              object\n",
      "REVIEW_RATING                 int64\n",
      "REVIEWER_NICKNAME            object\n",
      "REVIEWER_LOCATION            object\n",
      "OBSERVATIONS                 object\n",
      "PM                            int64\n",
      "NR                            int64\n",
      "PII                           int64\n",
      "PR                            int64\n",
      "CS                            int64\n",
      "DC                            int64\n",
      "CR                            int64\n",
      "FRD                           int64\n",
      "TST                           int64\n",
      "CC                            int64\n",
      "SC                            int64\n",
      "PIM                           int64\n",
      "LC                            int64\n",
      "WEB                           int64\n",
      "FL                            int64\n",
      "SA                            int64\n",
      "URL                           int64\n",
      "CV                            int64\n",
      "US                            int64\n",
      "dtype: object"
     ]
    }
   ],
   "source": [
    "reviews.dtypes"
   ]
  },
  {
   "cell_type": "code",
   "execution_count": 12,
   "metadata": {},
   "outputs": [
    {
     "data": {
      "application/vnd.jupyter.widget-view+json": {
       "model_id": "cdd065386dd34a30adf27c551146d686",
       "version_major": 2,
       "version_minor": 0
      },
      "text/plain": [
       "VBox()"
      ]
     },
     "metadata": {},
     "output_type": "display_data"
    },
    {
     "data": {
      "application/vnd.jupyter.widget-view+json": {
       "model_id": "",
       "version_major": 2,
       "version_minor": 0
      },
      "text/plain": [
       "FloatProgress(value=0.0, bar_style='info', description='Progress:', layout=Layout(height='25px', width='50%'),…"
      ]
     },
     "metadata": {},
     "output_type": "display_data"
    },
    {
     "name": "stdout",
     "output_type": "stream",
     "text": [
      "       UGC_ID        CREATED_DATE  \\\n",
      "0   262848155 2019-11-23 10:31:12   \n",
      "1   262854906 2019-11-23 16:49:58   \n",
      "2   262769168 2019-11-23 23:13:56   \n",
      "3   297103320 2019-11-23 17:25:44   \n",
      "4   299257691 2019-11-23 17:25:44   \n",
      "..        ...                 ...   \n",
      "95  262011072 2019-11-23 01:49:28   \n",
      "96  262057754 2019-11-23 15:41:58   \n",
      "97  262751391 2019-11-23 18:18:37   \n",
      "98  262020452 2019-11-23 06:16:56   \n",
      "99  266831262 2019-11-23 16:00:00   \n",
      "\n",
      "                                                 REVIEW_HEADLINE  \\\n",
      "0   Great design and fit                                           \n",
      "1   The padding is uncomfortable its a lil too hard.               \n",
      "2   Shoes look amazing and feel even better                        \n",
      "3   Perfect for gift                                               \n",
      "4   Perfect for gift                                               \n",
      "..               ...                                               \n",
      "95  My husband only wears CrazyShirts and has been for 45+ yr...   \n",
      "96  All good                                                       \n",
      "97  Gray Moroccan Trellis                                          \n",
      "98  I wanted to add a gift note, but no matter how I tried I ...   \n",
      "99  Substantial                                                    \n",
      "\n",
      "                                                                                                                                                                                                                                                                               REVIEW_COMMENTS  \\\n",
      "0   Extremely happy with the fit\\r\\nGreat design and the elastic round the collar ensures it fit round the neck well                                                                                                                                                                             \n",
      "1   I like the quality but i dont like the padding its too hard.                                                                                                                                                                                                                                 \n",
      "2   These Ultraboosts are the best pair I own now. They are super bright, tight, and comfy! I got them 2 days after ordering them and I wore them all day today! Definitely getting another pair ASAP!                                                                                           \n",
      "3   Good product, fast shipping ! Makes good gifts! Would recommend                                                                                                                                                                                                                              \n",
      "4   Good product, fast shipping ! Makes good gifts! Would recommend                                                                                                                                                                                                                              \n",
      "..                                                              ...                                                                                                                                                                                                                              \n",
      "95  My husband only wears CrazyShirts and has been for 45+ yrs. I plan on making a T-Shirt quilt with the real old ones. We get a lot of compliments when we are traveling. Now I have to start a collection for my Grandson. I have 4 or 5 punch cards never used. Aloha to you. Dena Snyder.   \n",
      "96  All good                                                                                                                                                                                                                                                                                     \n",
      "97  Slightly unevenly cut and measurements aren't precise BUT I am about to buy a second one.                                                                                                                                                                                                    \n",
      "98  I wanted to add a gift note, but no matter how I tried I couldn't get that option.                                                                                                                                                                                                           \n",
      "99  After trying other keto bars that taste like chalk, these are great. Maybe a little dry but full of nuts and seeds. For those longing for a granola nut bar, these fit the bill. Will be buying again                                                                                        \n",
      "\n",
      "    REVIEW_RATING    REVIEWER_NICKNAME REVIEWER_LOCATION OBSERVATIONS  PM  NR  \\\n",
      "0   5              Mase467              undisclosed       IA,PM        1   0    \n",
      "1   5              Khazzy97             undisclosed       IA,PM        1   0    \n",
      "2   5              Croyer727            undisclosed       IR,PM        1   0    \n",
      "3   5              Vintageadidalover24  undisclosed       IA,PM        1   0    \n",
      "4   5              Adidavintagelover24  undisclosed       IA,PM        1   0    \n",
      ".. ..                              ...          ...         ...       ..  ..    \n",
      "95  5              vgk2037              USA               PM           1   0    \n",
      "96  5              aac35187             USA               PM           1   0    \n",
      "97  4              Meghan               undisclosed       IA,PM        1   0    \n",
      "98  4              dei30189             USA               PM           1   0    \n",
      "99  5              Paul                 USA               PM           1   0    \n",
      "\n",
      "    PII  PR  CS  DC  CR  FRD  TST  CC  SC  PIM  LC  WEB  FL  SA  URL  CV  US  \\\n",
      "0   0    0   0   0   0   0    0    0   0   0    0   0    0   0   0    0   0    \n",
      "1   0    0   0   0   0   0    0    0   0   0    0   0    0   0   0    0   0    \n",
      "2   0    0   0   0   0   0    0    0   0   0    0   0    0   0   0    0   0    \n",
      "3   0    0   0   0   0   0    0    0   0   0    0   0    0   0   0    0   0    \n",
      "4   0    0   0   0   0   0    0    0   0   0    0   0    0   0   0    0   0    \n",
      ".. ..   ..  ..  ..  ..  ..   ..   ..  ..  ..   ..  ..   ..  ..  ..   ..  ..    \n",
      "95  0    0   0   0   0   0    0    0   0   0    0   0    0   0   0    0   0    \n",
      "96  0    0   0   0   0   0    0    0   0   0    0   0    0   0   0    0   0    \n",
      "97  0    0   0   0   0   0    0    0   0   0    0   0    0   0   0    0   0    \n",
      "98  0    0   0   0   0   0    0    0   0   0    0   0    0   0   0    0   0    \n",
      "99  0    0   0   0   0   0    0    0   0   0    0   0    0   0   0    0   0    \n",
      "\n",
      "                                                                                                                                                                                                                                                                                                                                                                                                  ALL_TEXT  \n",
      "0   headline Great design and fit comment Extremely happy with the fit\\r\\nGreat design and the elastic round the collar ensures it fit round the neck well nickname Mase467 location undisclosed                                                                                                                                                                                                            \n",
      "1   headline The padding is uncomfortable its a lil too hard. comment I like the quality but i dont like the padding its too hard. nickname Khazzy97 location undisclosed                                                                                                                                                                                                                                   \n",
      "2   headline Shoes look amazing and feel even better comment These Ultraboosts are the best pair I own now. They are super bright, tight, and comfy! I got them 2 days after ordering them and I wore them all day today! Definitely getting another pair ASAP! nickname Croyer727 location undisclosed                                                                                                     \n",
      "3   headline Perfect for gift comment Good product, fast shipping ! Makes good gifts! Would recommend nickname Vintageadidalover24 location undisclosed                                                                                                                                                                                                                                                     \n",
      "4   headline Perfect for gift comment Good product, fast shipping ! Makes good gifts! Would recommend nickname Adidavintagelover24 location undisclosed                                                                                                                                                                                                                                                     \n",
      "..                                                                                                                                                  ...                                                                                                                                                                                                                                                     \n",
      "95  headline My husband only wears CrazyShirts and has been for 45+ yr... comment My husband only wears CrazyShirts and has been for 45+ yrs. I plan on making a T-Shirt quilt with the real old ones. We get a lot of compliments when we are traveling. Now I have to start a collection for my Grandson. I have 4 or 5 punch cards never used. Aloha to you. Dena Snyder. nickname vgk2037 location USA  \n",
      "96  headline All good comment All good nickname aac35187 location USA                                                                                                                                                                                                                                                                                                                                       \n",
      "97  headline Gray Moroccan Trellis comment Slightly unevenly cut and measurements aren't precise BUT I am about to buy a second one. nickname Meghan location undisclosed                                                                                                                                                                                                                                   \n",
      "98  headline I wanted to add a gift note, but no matter how I tried I ... comment I wanted to add a gift note, but no matter how I tried I couldn't get that option. nickname dei30189 location USA                                                                                                                                                                                                         \n",
      "99  headline Substantial comment After trying other keto bars that taste like chalk, these are great. Maybe a little dry but full of nuts and seeds. For those longing for a granola nut bar, these fit the bill. Will be buying again nickname Paul location USA                                                                                                                                           \n",
      "\n",
      "[100 rows x 28 columns]\n",
      "<string>:4: FutureWarning: Passing a negative integer is deprecated in version 1.0 and will not be supported in future version. Instead, use None to not limit the column width."
     ]
    }
   ],
   "source": [
    "reviews['ALL_TEXT'] = 'headline ' + reviews['REVIEW_HEADLINE'] + ' comment ' + reviews['REVIEW_COMMENTS'] + \\\n",
    "        ' nickname ' + reviews['REVIEWER_NICKNAME'] + ' location ' + reviews['REVIEWER_LOCATION']\n",
    "#Use set_option so text doesn't truncate\n",
    "pd.set_option('display.max_colwidth', -1)\n",
    "pd.set_option('display.max_columns', None)\n",
    "reviews.head(100)\n",
    "\n",
    "#reviews.dtypes"
   ]
  },
  {
   "cell_type": "code",
   "execution_count": 13,
   "metadata": {},
   "outputs": [
    {
     "data": {
      "application/vnd.jupyter.widget-view+json": {
       "model_id": "4f8837ba1f334effaf13020febe47309",
       "version_major": 2,
       "version_minor": 0
      },
      "text/plain": [
       "VBox()"
      ]
     },
     "metadata": {},
     "output_type": "display_data"
    },
    {
     "data": {
      "application/vnd.jupyter.widget-view+json": {
       "model_id": "",
       "version_major": 2,
       "version_minor": 0
      },
      "text/plain": [
       "FloatProgress(value=0.0, bar_style='info', description='Progress:', layout=Layout(height='25px', width='50%'),…"
      ]
     },
     "metadata": {},
     "output_type": "display_data"
    },
    {
     "name": "stdout",
     "output_type": "stream",
     "text": [
      "UGC_ID               int64         \n",
      "CREATED_DATE         datetime64[ns]\n",
      "REVIEW_HEADLINE      object        \n",
      "REVIEW_COMMENTS      object        \n",
      "REVIEW_RATING        int64         \n",
      "REVIEWER_NICKNAME    object        \n",
      "REVIEWER_LOCATION    object        \n",
      "OBSERVATIONS         object        \n",
      "PM                   int64         \n",
      "NR                   int64         \n",
      "PII                  int64         \n",
      "PR                   int64         \n",
      "CS                   int64         \n",
      "DC                   int64         \n",
      "CR                   int64         \n",
      "FRD                  int64         \n",
      "TST                  int64         \n",
      "CC                   int64         \n",
      "SC                   int64         \n",
      "PIM                  int64         \n",
      "LC                   int64         \n",
      "WEB                  int64         \n",
      "FL                   int64         \n",
      "SA                   int64         \n",
      "URL                  int64         \n",
      "CV                   int64         \n",
      "US                   int64         \n",
      "ALL_TEXT             object        \n",
      "dtype: object"
     ]
    }
   ],
   "source": [
    "reviews.dtypes"
   ]
  },
  {
   "cell_type": "code",
   "execution_count": 14,
   "metadata": {},
   "outputs": [
    {
     "data": {
      "application/vnd.jupyter.widget-view+json": {
       "model_id": "175239b6276f4275817ff272d2c16bc8",
       "version_major": 2,
       "version_minor": 0
      },
      "text/plain": [
       "VBox()"
      ]
     },
     "metadata": {},
     "output_type": "display_data"
    },
    {
     "data": {
      "application/vnd.jupyter.widget-view+json": {
       "model_id": "",
       "version_major": 2,
       "version_minor": 0
      },
      "text/plain": [
       "FloatProgress(value=0.0, bar_style='info', description='Progress:', layout=Layout(height='25px', width='50%'),…"
      ]
     },
     "metadata": {},
     "output_type": "display_data"
    }
   ],
   "source": [
    "\n",
    "\n",
    "#reviews['PRICE'] = bool(re.match('location', str(reviews['ALL_TEXT'])))\n",
    "#reviews[reviews['PRICE']==True].head()\n"
   ]
  },
  {
   "cell_type": "code",
   "execution_count": 15,
   "metadata": {},
   "outputs": [
    {
     "data": {
      "application/vnd.jupyter.widget-view+json": {
       "model_id": "5f4365caf22140889a4c353dad33a14a",
       "version_major": 2,
       "version_minor": 0
      },
      "text/plain": [
       "VBox()"
      ]
     },
     "metadata": {},
     "output_type": "display_data"
    },
    {
     "data": {
      "application/vnd.jupyter.widget-view+json": {
       "model_id": "",
       "version_major": 2,
       "version_minor": 0
      },
      "text/plain": [
       "FloatProgress(value=0.0, bar_style='info', description='Progress:', layout=Layout(height='25px', width='50%'),…"
      ]
     },
     "metadata": {},
     "output_type": "display_data"
    },
    {
     "name": "stdout",
     "output_type": "stream",
     "text": [
      "                                                                                                                                                                                                                                                                                                                                                                                                                                                                                                                                                                                                                                                                                                                                                                                                                                                                                                                                    ALL_TEXT  \\\n",
      "0       headline Great design and fit comment Extremely happy with the fit\\r\\nGreat design and the elastic round the collar ensures it fit round the neck well nickname Mase467 location undisclosed                                                                                                                                                                                                                                                                                                                                                                                                                                                                                                                                                                                                                                                                                                                                           \n",
      "1       headline The padding is uncomfortable its a lil too hard. comment I like the quality but i dont like the padding its too hard. nickname Khazzy97 location undisclosed                                                                                                                                                                                                                                                                                                                                                                                                                                                                                                                                                                                                                                                                                                                                                                  \n",
      "2       headline Shoes look amazing and feel even better comment These Ultraboosts are the best pair I own now. They are super bright, tight, and comfy! I got them 2 days after ordering them and I wore them all day today! Definitely getting another pair ASAP! nickname Croyer727 location undisclosed                                                                                                                                                                                                                                                                                                                                                                                                                                                                                                                                                                                                                                    \n",
      "3       headline Perfect for gift comment Good product, fast shipping ! Makes good gifts! Would recommend nickname Vintageadidalover24 location undisclosed                                                                                                                                                                                                                                                                                                                                                                                                                                                                                                                                                                                                                                                                                                                                                                                    \n",
      "4       headline Perfect for gift comment Good product, fast shipping ! Makes good gifts! Would recommend nickname Adidavintagelover24 location undisclosed                                                                                                                                                                                                                                                                                                                                                                                                                                                                                                                                                                                                                                                                                                                                                                                    \n",
      "...                                                                                                                                                     ...                                                                                                                                                                                                                                                                                                                                                                                                                                                                                                                                                                                                                                                                                                                                                                                    \n",
      "249995  headline amazing comment Im not sure if Im supposed to use this on my skin but I spread it all over my face !! This little wrinkles I saw on my cheeks are way less than they were !!! I recommend this to anyone nickname brittanys8c7d location undisclosed                                                                                                                                                                                                                                                                                                                                                                                                                                                                                                                                                                                                                                                                          \n",
      "249996  headline Nice Results, Pricey for 7 Day Supply comment I added this product to my already simple skincare routine and found my dry-to-normal skin drank it up! As long as I didn't use more than half an ampoule per application, it seemed to leave my face hydrated and healthy-looking (if I applied too much, it wasn't all able to absorb, leaving a thin mask-like feel on the skin). Though I understand the potential need for the ampoule packaging depending on the stability of the ingredients, I hate the idea of creating plastic waste every single day while using this product. The packaging design was at least easy to use as instructed. Overall, I feel the product delivered on it's claims and worked well to hydrate my skin. However, I do find the price tag to be slightly higher than what I'd want to spend for a \"single-use\" item from the drugstore. nickname jessinadressblog location undisclosed   \n",
      "249997  headline love it! comment I received this from influenster! I love how easy it is to apply and convenient the little pods are. it gets fully absorbed and doesn't leave an ugly residue. I didn't see a difference until day 7 which is ok. I would recommend this if you can afford it! nickname anisah_marie location undisclosed                                                                                                                                                                                                                                                                                                                                                                                                                                                                                                                                                                                                    \n",
      "249998  headline my skin loves it comment I truly loved using the ampoules. I used them consistently for the 7 days and then some. Each ampoule had enough product  for both the day and night application. I was able to make it last for 10 days, Ive notice more tightening and firmness in my face for sure. Will definitely continue using it nickname curlypina location undisclosed                                                                                                                                                                                                                                                                                                                                                                                                                                                                                                                                                     \n",
      "249999  headline Not great for sensitive skin comment I was not a fan of this moisturizer. Upon opening the smell was really strong, theres no need for a moisturizer to have this much fragrance. My skin is sensitive and my skin started turning red after testing this on my hand, so I know it would irritate my face more. nickname nellie13 location undisclosed                                                                                                                                                                                                                                                                                                                                                                                                                                                                                                                                                                        \n",
      "\n",
      "        REVIEW_RATING  \n",
      "0       5              \n",
      "1       5              \n",
      "2       5              \n",
      "3       5              \n",
      "4       5              \n",
      "...    ..              \n",
      "249995  5              \n",
      "249996  4              \n",
      "249997  4              \n",
      "249998  4              \n",
      "249999  1              \n",
      "\n",
      "[250000 rows x 2 columns]"
     ]
    }
   ],
   "source": [
    "X = reviews[['ALL_TEXT','REVIEW_RATING']]\n",
    "X"
   ]
  },
  {
   "cell_type": "code",
   "execution_count": 18,
   "metadata": {},
   "outputs": [
    {
     "data": {
      "application/vnd.jupyter.widget-view+json": {
       "model_id": "fa8737f3fedd45d79c2d0c8248a9f33f",
       "version_major": 2,
       "version_minor": 0
      },
      "text/plain": [
       "VBox()"
      ]
     },
     "metadata": {},
     "output_type": "display_data"
    },
    {
     "data": {
      "application/vnd.jupyter.widget-view+json": {
       "model_id": "",
       "version_major": 2,
       "version_minor": 0
      },
      "text/plain": [
       "FloatProgress(value=0.0, bar_style='info', description='Progress:', layout=Layout(height='25px', width='50%'),…"
      ]
     },
     "metadata": {},
     "output_type": "display_data"
    },
    {
     "name": "stdout",
     "output_type": "stream",
     "text": [
      "        NR\n",
      "0       0 \n",
      "1       0 \n",
      "2       0 \n",
      "3       0 \n",
      "4       0 \n",
      "...    .. \n",
      "249995  0 \n",
      "249996  0 \n",
      "249997  0 \n",
      "249998  0 \n",
      "249999  0 \n",
      "\n",
      "[250000 rows x 1 columns]"
     ]
    }
   ],
   "source": [
    "#y = reviews[['NR','PII','PR','CS','DC','CR','FRD','TST','CC','SC','PIM','LC','WEB','FL','SA','URL','CV','US','NOLABEL']]\n",
    "#y = reviews[['NR','PII','PR','CS','DC','CR','FRD','TST','CC','SC','PIM','LC','WEB','FL','SA','URL','CV','US']]\n",
    "y = reviews[['NR']]\n",
    "y"
   ]
  },
  {
   "cell_type": "code",
   "execution_count": 19,
   "metadata": {},
   "outputs": [
    {
     "data": {
      "application/vnd.jupyter.widget-view+json": {
       "model_id": "098b671851554190b43bb22c0547542f",
       "version_major": 2,
       "version_minor": 0
      },
      "text/plain": [
       "VBox()"
      ]
     },
     "metadata": {},
     "output_type": "display_data"
    },
    {
     "data": {
      "application/vnd.jupyter.widget-view+json": {
       "model_id": "",
       "version_major": 2,
       "version_minor": 0
      },
      "text/plain": [
       "FloatProgress(value=0.0, bar_style='info', description='Progress:', layout=Layout(height='25px', width='50%'),…"
      ]
     },
     "metadata": {},
     "output_type": "display_data"
    },
    {
     "name": "stdout",
     "output_type": "stream",
     "text": [
      "NR    4126\n",
      "dtype: int64"
     ]
    }
   ],
   "source": [
    "y.sum(axis=0)"
   ]
  },
  {
   "cell_type": "code",
   "execution_count": 20,
   "metadata": {},
   "outputs": [
    {
     "data": {
      "application/vnd.jupyter.widget-view+json": {
       "model_id": "42859031407d488abcd9331dab226f8e",
       "version_major": 2,
       "version_minor": 0
      },
      "text/plain": [
       "VBox()"
      ]
     },
     "metadata": {},
     "output_type": "display_data"
    },
    {
     "data": {
      "application/vnd.jupyter.widget-view+json": {
       "model_id": "",
       "version_major": 2,
       "version_minor": 0
      },
      "text/plain": [
       "FloatProgress(value=0.0, bar_style='info', description='Progress:', layout=Layout(height='25px', width='50%'),…"
      ]
     },
     "metadata": {},
     "output_type": "display_data"
    }
   ],
   "source": [
    "#test_size is what % of data goes to test set vs training\n",
    "#random_state - use so that when comparing models - same data is always going to test and train sets\n",
    "xtrain, xtest, ytrain, ytest = train_test_split(X, y, test_size=0.2, random_state=9)"
   ]
  },
  {
   "cell_type": "code",
   "execution_count": 21,
   "metadata": {},
   "outputs": [
    {
     "data": {
      "application/vnd.jupyter.widget-view+json": {
       "model_id": "2f4598c6e81a49f6b14cbe2430ed8742",
       "version_major": 2,
       "version_minor": 0
      },
      "text/plain": [
       "VBox()"
      ]
     },
     "metadata": {},
     "output_type": "display_data"
    },
    {
     "data": {
      "application/vnd.jupyter.widget-view+json": {
       "model_id": "",
       "version_major": 2,
       "version_minor": 0
      },
      "text/plain": [
       "FloatProgress(value=0.0, bar_style='info', description='Progress:', layout=Layout(height='25px', width='50%'),…"
      ]
     },
     "metadata": {},
     "output_type": "display_data"
    },
    {
     "name": "stdout",
     "output_type": "stream",
     "text": [
      "                                                                                                                                                                                                                                                                                                                                                                                                                                                                                                                                                                                                                              ALL_TEXT  \\\n",
      "172713  headline Cool comment Useful nickname APZ2 location New York                                                                                                                                                                                                                                                                                                                                                                                                                                                                                                                                                                     \n",
      "184110  headline Purina one is my miracle for &quot; Miracle &quot; comment I rescued kittens found on the off road in a box. Flea infested and malnurished. 3 out of 5 were put down. I died. I remained. I took him home. He&#039;s still with us, 10 years later thanks to Purina One Sensitive Stomach nickname Rain Shenandoah location Louisville, KY                                                                                                                                                                                                                                                                              \n",
      "31956   headline Delicious grains! comment This is a phenomenal grain dish! I was so happy to find it at Walmart.com. Not easy to find. High in protein and tastes delicious. A regular in our home. nickname Marthat location undisclosed                                                                                                                                                                                                                                                                                                                                                                                               \n",
      "126366  headline Dr. Scholl's is a Brand You Can Trust comment I received a bottle of Dr. Scholl's Odor-X Odor Fighting Foot Powder in exchange for my trial and my honest review.  Dr. Scholl's is a brand that has been used in my household for decades and it is one I trust for quality and efficacy.  I use the Odor Fighting Foot Powder every single day after showering and sprinkle it generously between my toes and in my shoes to help absorb sweat and control wetness and eliminate odors.  Dr. Scholl's Odor-X Odor Fighting Foot Powder is a part of my daily routine of hygiene. nickname gigdeb location Pueblo, CO   \n",
      "224912  headline Smells Great + Works! comment I received this #freeproduct with topbox and got my brother to try this dry antiperspirant! He has been loving it as it keeps him dry & smelling fresh the whole day! This is definitely an amazing product for anyone who is active and sweats because this antiperspirant really prevents sweating and protects you from any odour! nickname Manavb location undisclosed                                                                                                                                                                                                                \n",
      "...                                                                                                                                                                                                                                                                                                                                                                                                                   ...                                                                                                                                                                                                                \n",
      "153656  headline Favorite scent! comment I use this perfume everyday. nickname Adrian location Philippines                                                                                                                                                                                                                                                                                                                                                                                                                                                                                                                               \n",
      "196534  headline Boot/Shoe Rack comment I like the rack. Very sturdy. nickname Grams location undisclosed                                                                                                                                                                                                                                                                                                                                                                                                                                                                                                                                \n",
      "197109  headline Kernel cutter comment My husband loves his new kernel cutter. Says it works like a charm! nickname Jennifer location Undisclosed                                                                                                                                                                                                                                                                                                                                                                                                                                                                                        \n",
      "187006  headline Good for comment Hubby said they fit well in all the right places . nickname Cynthia L. Kovac location Amazon                                                                                                                                                                                                                                                                                                                                                                                                                                                                                                           \n",
      "86364   headline Enjoy kringles and they make special gifts to loved ones. comment Enjoy kringles and they make special gifts to loved ones. nickname hpq25061 location USA                                                                                                                                                                                                                                                                                                                                                                                                                                                              \n",
      "\n",
      "        REVIEW_RATING  \n",
      "172713  4              \n",
      "184110  5              \n",
      "31956   5              \n",
      "126366  5              \n",
      "224912  4              \n",
      "...    ..              \n",
      "153656  5              \n",
      "196534  4              \n",
      "197109  5              \n",
      "187006  5              \n",
      "86364   4              \n",
      "\n",
      "[200000 rows x 2 columns]"
     ]
    }
   ],
   "source": [
    "print(xtrain)"
   ]
  },
  {
   "cell_type": "code",
   "execution_count": 22,
   "metadata": {},
   "outputs": [
    {
     "data": {
      "application/vnd.jupyter.widget-view+json": {
       "model_id": "6dcb6de562fa45a3b2648f8ff767a904",
       "version_major": 2,
       "version_minor": 0
      },
      "text/plain": [
       "VBox()"
      ]
     },
     "metadata": {},
     "output_type": "display_data"
    },
    {
     "data": {
      "application/vnd.jupyter.widget-view+json": {
       "model_id": "",
       "version_major": 2,
       "version_minor": 0
      },
      "text/plain": [
       "FloatProgress(value=0.0, bar_style='info', description='Progress:', layout=Layout(height='25px', width='50%'),…"
      ]
     },
     "metadata": {},
     "output_type": "display_data"
    }
   ],
   "source": [
    "#analyzer : default = word, can also test n_grams\n",
    "#max_df :  ignore terms that have a document frequency strictly higher than the given threshold\n",
    "#max_features : set total # of features used\n",
    "vectorizer = TfidfVectorizer(analyzer = 'word', max_features = 30000, stop_words= 'english', lowercase=True)\n",
    "#vectors = vectorizer.fit_transform(reviews['ALL_TEXT'].values.astype('U'))\n",
    "tfidf_vectors_xtrain = vectorizer.fit_transform(xtrain['ALL_TEXT'].apply(lambda x: np.str_(x)))\n",
    "tfidf_vectors_xtest = vectorizer.transform(xtest['ALL_TEXT'].apply(lambda x: np.str_(x)))"
   ]
  },
  {
   "cell_type": "code",
   "execution_count": 84,
   "metadata": {},
   "outputs": [
    {
     "data": {
      "application/vnd.jupyter.widget-view+json": {
       "model_id": "06de577895aa40cea886bab9de9e45e1",
       "version_major": 2,
       "version_minor": 0
      },
      "text/plain": [
       "VBox()"
      ]
     },
     "metadata": {},
     "output_type": "display_data"
    },
    {
     "data": {
      "application/vnd.jupyter.widget-view+json": {
       "model_id": "",
       "version_major": 2,
       "version_minor": 0
      },
      "text/plain": [
       "FloatProgress(value=0.0, bar_style='info', description='Progress:', layout=Layout(height='25px', width='50%'),…"
      ]
     },
     "metadata": {},
     "output_type": "display_data"
    }
   ],
   "source": [
    "#print(tfidf_vectors_xtrain)\n",
    "#print(tfidf_vectors_xtest)"
   ]
  },
  {
   "cell_type": "code",
   "execution_count": 25,
   "metadata": {},
   "outputs": [
    {
     "data": {
      "application/vnd.jupyter.widget-view+json": {
       "model_id": "13faee57c73f49588ea367a2b6a54f0b",
       "version_major": 2,
       "version_minor": 0
      },
      "text/plain": [
       "VBox()"
      ]
     },
     "metadata": {},
     "output_type": "display_data"
    },
    {
     "data": {
      "application/vnd.jupyter.widget-view+json": {
       "model_id": "",
       "version_major": 2,
       "version_minor": 0
      },
      "text/plain": [
       "FloatProgress(value=0.0, bar_style='info', description='Progress:', layout=Layout(height='25px', width='50%'),…"
      ]
     },
     "metadata": {},
     "output_type": "display_data"
    }
   ],
   "source": [
    "#Test to see what output looks like - don't use for modeling - dense vectors are memory intensive\n",
    "#feature_names = vectorizer.get_feature_names()\n",
    "#dense = tfidf_vectors.todense()\n",
    "#denselist = dense.tolist()\n",
    "#df = pd.DataFrame(denselist, columns=feature_names)\n",
    "#df.head()"
   ]
  },
  {
   "cell_type": "code",
   "execution_count": 85,
   "metadata": {},
   "outputs": [
    {
     "data": {
      "application/vnd.jupyter.widget-view+json": {
       "model_id": "ba7936d32aa34becad4660abb49cf2fe",
       "version_major": 2,
       "version_minor": 0
      },
      "text/plain": [
       "VBox()"
      ]
     },
     "metadata": {},
     "output_type": "display_data"
    },
    {
     "data": {
      "application/vnd.jupyter.widget-view+json": {
       "model_id": "",
       "version_major": 2,
       "version_minor": 0
      },
      "text/plain": [
       "FloatProgress(value=0.0, bar_style='info', description='Progress:', layout=Layout(height='25px', width='50%'),…"
      ]
     },
     "metadata": {},
     "output_type": "display_data"
    }
   ],
   "source": [
    "#Convert ratings to sparse vector so can join to TF-IDF sparse vector\n",
    "ratings_vector_xtrain=sparse.csr_matrix((xtrain['REVIEW_RATING']/5).values).reshape(200000,1)\n",
    "#print(ratings_vector_xtrain)\n",
    "ratings_vector_xtest=sparse.csr_matrix((xtest['REVIEW_RATING']/5).values).reshape(50000,1)\n",
    "#print(ratings_vector_xtest)"
   ]
  },
  {
   "cell_type": "code",
   "execution_count": 86,
   "metadata": {},
   "outputs": [
    {
     "data": {
      "application/vnd.jupyter.widget-view+json": {
       "model_id": "83ed1cefb180404093fe5957c34e02ca",
       "version_major": 2,
       "version_minor": 0
      },
      "text/plain": [
       "VBox()"
      ]
     },
     "metadata": {},
     "output_type": "display_data"
    },
    {
     "data": {
      "application/vnd.jupyter.widget-view+json": {
       "model_id": "",
       "version_major": 2,
       "version_minor": 0
      },
      "text/plain": [
       "FloatProgress(value=0.0, bar_style='info', description='Progress:', layout=Layout(height='25px', width='50%'),…"
      ]
     },
     "metadata": {},
     "output_type": "display_data"
    }
   ],
   "source": [
    "#Combine TF-IDF and ratings vectors\n",
    "xtrain_final = sparse.hstack([tfidf_vectors_xtrain, ratings_vector_xtrain])\n",
    "#print(xtrain_final)\n",
    "xtest_final = sparse.hstack([tfidf_vectors_xtest, ratings_vector_xtest])\n",
    "#print(xtest_final)"
   ]
  },
  {
   "cell_type": "code",
   "execution_count": 31,
   "metadata": {},
   "outputs": [
    {
     "data": {
      "application/vnd.jupyter.widget-view+json": {
       "model_id": "9a03335669204f2a80b8c8cc9c5d9216",
       "version_major": 2,
       "version_minor": 0
      },
      "text/plain": [
       "VBox()"
      ]
     },
     "metadata": {},
     "output_type": "display_data"
    },
    {
     "data": {
      "application/vnd.jupyter.widget-view+json": {
       "model_id": "",
       "version_major": 2,
       "version_minor": 0
      },
      "text/plain": [
       "FloatProgress(value=0.0, bar_style='info', description='Progress:', layout=Layout(height='25px', width='50%'),…"
      ]
     },
     "metadata": {},
     "output_type": "display_data"
    }
   ],
   "source": [
    "#max_iter : default =100 but getting error about not converging\n",
    "lr = LogisticRegression(max_iter=1000)\n",
    "clf = OneVsRestClassifier(lr)"
   ]
  },
  {
   "cell_type": "code",
   "execution_count": 32,
   "metadata": {},
   "outputs": [
    {
     "data": {
      "application/vnd.jupyter.widget-view+json": {
       "model_id": "83e43882d9f146aa847a20c0b57a1b9f",
       "version_major": 2,
       "version_minor": 0
      },
      "text/plain": [
       "VBox()"
      ]
     },
     "metadata": {},
     "output_type": "display_data"
    },
    {
     "data": {
      "application/vnd.jupyter.widget-view+json": {
       "model_id": "",
       "version_major": 2,
       "version_minor": 0
      },
      "text/plain": [
       "FloatProgress(value=0.0, bar_style='info', description='Progress:', layout=Layout(height='25px', width='50%'),…"
      ]
     },
     "metadata": {},
     "output_type": "display_data"
    },
    {
     "name": "stdout",
     "output_type": "stream",
     "text": [
      "OneVsRestClassifier(estimator=LogisticRegression(max_iter=1000))"
     ]
    }
   ],
   "source": [
    "#UserWarning: Label not 17 is present in all training examples.\n",
    "#Due to fact that 'US' does not appear in training set (is all 0s) \n",
    "#RESOLVES AS DATA SIZE INCREASES\n",
    "\n",
    "#Getting max iteration exceeded error\n",
    "#All TF-IDF features are range 0-1, scaled rating to be divided by 5 so that is also range 0-1\n",
    "#Lower max_features for TF-IDF to reduce dimensionality\n",
    "\n",
    "\n",
    "clf.fit(xtrain_final, ytrain)"
   ]
  },
  {
   "cell_type": "code",
   "execution_count": 33,
   "metadata": {},
   "outputs": [
    {
     "data": {
      "application/vnd.jupyter.widget-view+json": {
       "model_id": "7ad54ea2baa9473ba5cf0a874a6f2004",
       "version_major": 2,
       "version_minor": 0
      },
      "text/plain": [
       "VBox()"
      ]
     },
     "metadata": {},
     "output_type": "display_data"
    },
    {
     "data": {
      "application/vnd.jupyter.widget-view+json": {
       "model_id": "",
       "version_major": 2,
       "version_minor": 0
      },
      "text/plain": [
       "FloatProgress(value=0.0, bar_style='info', description='Progress:', layout=Layout(height='25px', width='50%'),…"
      ]
     },
     "metadata": {},
     "output_type": "display_data"
    },
    {
     "name": "stdout",
     "output_type": "stream",
     "text": [
      "NR    3321\n",
      "dtype: int64"
     ]
    }
   ],
   "source": [
    "#ytrain.dtypes\n",
    "#NO US LABEL\n",
    "ytrain.sum(axis=0)"
   ]
  },
  {
   "cell_type": "code",
   "execution_count": 34,
   "metadata": {},
   "outputs": [
    {
     "data": {
      "application/vnd.jupyter.widget-view+json": {
       "model_id": "806043eb53f44125bec21f30439359e6",
       "version_major": 2,
       "version_minor": 0
      },
      "text/plain": [
       "VBox()"
      ]
     },
     "metadata": {},
     "output_type": "display_data"
    },
    {
     "data": {
      "application/vnd.jupyter.widget-view+json": {
       "model_id": "",
       "version_major": 2,
       "version_minor": 0
      },
      "text/plain": [
       "FloatProgress(value=0.0, bar_style='info', description='Progress:', layout=Layout(height='25px', width='50%'),…"
      ]
     },
     "metadata": {},
     "output_type": "display_data"
    }
   ],
   "source": [
    "y_pred = clf.predict(xtest_final)"
   ]
  },
  {
   "cell_type": "code",
   "execution_count": 87,
   "metadata": {},
   "outputs": [
    {
     "data": {
      "application/vnd.jupyter.widget-view+json": {
       "model_id": "73f7abd53987409bb06743f1a072594c",
       "version_major": 2,
       "version_minor": 0
      },
      "text/plain": [
       "VBox()"
      ]
     },
     "metadata": {},
     "output_type": "display_data"
    },
    {
     "data": {
      "application/vnd.jupyter.widget-view+json": {
       "model_id": "",
       "version_major": 2,
       "version_minor": 0
      },
      "text/plain": [
       "FloatProgress(value=0.0, bar_style='info', description='Progress:', layout=Layout(height='25px', width='50%'),…"
      ]
     },
     "metadata": {},
     "output_type": "display_data"
    }
   ],
   "source": [
    "#print(y_pred[1])\n",
    "#ytest.head()"
   ]
  },
  {
   "cell_type": "code",
   "execution_count": 45,
   "metadata": {},
   "outputs": [
    {
     "data": {
      "application/vnd.jupyter.widget-view+json": {
       "model_id": "a0b4356fc0414ca58aaa75de4882d115",
       "version_major": 2,
       "version_minor": 0
      },
      "text/plain": [
       "VBox()"
      ]
     },
     "metadata": {},
     "output_type": "display_data"
    },
    {
     "data": {
      "application/vnd.jupyter.widget-view+json": {
       "model_id": "",
       "version_major": 2,
       "version_minor": 0
      },
      "text/plain": [
       "FloatProgress(value=0.0, bar_style='info', description='Progress:', layout=Layout(height='25px', width='50%'),…"
      ]
     },
     "metadata": {},
     "output_type": "display_data"
    }
   ],
   "source": [
    "probs = clf.predict_proba(xtest_final)\n",
    "preds = probs[:,1]\n",
    "fpr, tpr, threshold = roc_curve(ytest, preds)\n",
    "roc_auc = auc(fpr, tpr)\n",
    "#print(roc_auc)"
   ]
  },
  {
   "cell_type": "code",
   "execution_count": 80,
   "metadata": {},
   "outputs": [
    {
     "data": {
      "application/vnd.jupyter.widget-view+json": {
       "model_id": "2f0513c27da24f2bbed968fdfb4fa0fb",
       "version_major": 2,
       "version_minor": 0
      },
      "text/plain": [
       "VBox()"
      ]
     },
     "metadata": {},
     "output_type": "display_data"
    },
    {
     "data": {
      "application/vnd.jupyter.widget-view+json": {
       "model_id": "",
       "version_major": 2,
       "version_minor": 0
      },
      "text/plain": [
       "FloatProgress(value=0.0, bar_style='info', description='Progress:', layout=Layout(height='25px', width='50%'),…"
      ]
     },
     "metadata": {},
     "output_type": "display_data"
    }
   ],
   "source": [
    "plt.clf()"
   ]
  },
  {
   "cell_type": "code",
   "execution_count": 81,
   "metadata": {},
   "outputs": [],
   "source": [
    "%matplotlib inline"
   ]
  },
  {
   "cell_type": "code",
   "execution_count": 82,
   "metadata": {},
   "outputs": [
    {
     "data": {
      "application/vnd.jupyter.widget-view+json": {
       "model_id": "a312aeda1c7842c08e3187115e863279",
       "version_major": 2,
       "version_minor": 0
      },
      "text/plain": [
       "VBox()"
      ]
     },
     "metadata": {},
     "output_type": "display_data"
    },
    {
     "data": {
      "application/vnd.jupyter.widget-view+json": {
       "model_id": "",
       "version_major": 2,
       "version_minor": 0
      },
      "text/plain": [
       "FloatProgress(value=0.0, bar_style='info', description='Progress:', layout=Layout(height='25px', width='50%'),…"
      ]
     },
     "metadata": {},
     "output_type": "display_data"
    }
   ],
   "source": [
    "#ROC CURVE\n",
    "import matplotlib.pyplot as plt\n",
    "plt.title('Receiver Operating Characteristic')\n",
    "plt.plot(fpr, tpr, 'b', label = 'AUC = %0.4f' % roc_auc)\n",
    "plt.legend(loc = 'lower right')\n",
    "plt.plot([0, 1], [0, 1],'r--')\n",
    "plt.xlim([0, 1])\n",
    "plt.ylim([0, 1])\n",
    "plt.ylabel('True Positive Rate')\n",
    "plt.xlabel('False Positive Rate')\n",
    "plt.show()"
   ]
  },
  {
   "cell_type": "code",
   "execution_count": 83,
   "metadata": {},
   "outputs": [
    {
     "data": {
      "application/vnd.jupyter.widget-view+json": {
       "model_id": "",
       "version_major": 2,
       "version_minor": 0
      },
      "text/plain": [
       "FloatProgress(value=0.0, bar_style='info', description='Progress:', layout=Layout(height='25px', width='50%'),…"
      ]
     },
     "metadata": {},
     "output_type": "display_data"
    },
    {
     "data": {
      "image/png": "[encoded data removed]",
      "text/plain": [
       "<IPython.core.display.Image object>"
      ]
     },
     "metadata": {},
     "output_type": "display_data"
    }
   ],
   "source": [
    "%matplot plt"
   ]
  },
  {
   "cell_type": "code",
   "execution_count": 75,
   "metadata": {},
   "outputs": [
    {
     "data": {
      "application/vnd.jupyter.widget-view+json": {
       "model_id": "bde8e76543d34f3bb7d912db4e9c1020",
       "version_major": 2,
       "version_minor": 0
      },
      "text/plain": [
       "VBox()"
      ]
     },
     "metadata": {},
     "output_type": "display_data"
    },
    {
     "data": {
      "application/vnd.jupyter.widget-view+json": {
       "model_id": "",
       "version_major": 2,
       "version_minor": 0
      },
      "text/plain": [
       "FloatProgress(value=0.0, bar_style='info', description='Progress:', layout=Layout(height='25px', width='50%'),…"
      ]
     },
     "metadata": {},
     "output_type": "display_data"
    }
   ],
   "source": [
    "#Evaluating model performance\n",
    "#There are inherently mostly NOLABEL so accuracy could be high just bc of those\n",
    "#Want to make sure that when there is a label besides NOLABEL that it is being accurately predicted\n"
   ]
  },
  {
   "cell_type": "code",
   "execution_count": 88,
   "metadata": {},
   "outputs": [
    {
     "data": {
      "application/vnd.jupyter.widget-view+json": {
       "model_id": "eb998ddc475045cca8d23752775ffa38",
       "version_major": 2,
       "version_minor": 0
      },
      "text/plain": [
       "VBox()"
      ]
     },
     "metadata": {},
     "output_type": "display_data"
    },
    {
     "data": {
      "application/vnd.jupyter.widget-view+json": {
       "model_id": "",
       "version_major": 2,
       "version_minor": 0
      },
      "text/plain": [
       "FloatProgress(value=0.0, bar_style='info', description='Progress:', layout=Layout(height='25px', width='50%'),…"
      ]
     },
     "metadata": {},
     "output_type": "display_data"
    },
    {
     "name": "stdout",
     "output_type": "stream",
     "text": [
      "Accuracy is:  0.9859\n",
      "Precision is:  0.6824817518248175\n",
      "Recall is:  0.23229813664596274\n",
      "F1 Score is:  0.34661723818350326"
     ]
    }
   ],
   "source": [
    "#Model performance metrics\n",
    "#Assess at individual label level as well as overall\n",
    "\n",
    "#Accuracy is overall correct predictions - not great measurement tool for imbalanced data\n",
    "#Precision - TP / TP + FP = spam detection - don't want to mark something as spam (FP) when it isn't\n",
    "#Recall - TP / TP + FN = sickness - don't want to tell someone they aren't sick (FN) when they are and can spread it\n",
    "#F1 - balance of precision and recall\n",
    "\n",
    "#We want to make sure if bomb emoji then it gets marked - even at the expense of marking other things potentially offensive that aren't \n",
    "#Important not to have FN - USE RECALL\n",
    "#Also don't want to be marking a bunch of stuff as offensive when it isn't and making moderation do everything anyway\n",
    "#Important not to have too many FP - USE PRECISION\n",
    "#Use F1 for balance between both\n",
    "print(\"Accuracy is:  {}\" .format(accuracy_score(ytest, y_pred)))\n",
    "print(\"Precision is:  {}\" .format(precision_score(ytest, y_pred)))\n",
    "print(\"Recall is:  {}\" .format(recall_score(ytest, y_pred)))\n",
    "print(\"F1 Score is:  {}\" .format(f1_score(ytest, y_pred)))"
   ]
  },
  {
   "cell_type": "code",
   "execution_count": 89,
   "metadata": {},
   "outputs": [
    {
     "data": {
      "application/vnd.jupyter.widget-view+json": {
       "model_id": "24b4cd2627674fbd982430ab4905a64c",
       "version_major": 2,
       "version_minor": 0
      },
      "text/plain": [
       "VBox()"
      ]
     },
     "metadata": {},
     "output_type": "display_data"
    },
    {
     "data": {
      "application/vnd.jupyter.widget-view+json": {
       "model_id": "",
       "version_major": 2,
       "version_minor": 0
      },
      "text/plain": [
       "FloatProgress(value=0.0, bar_style='info', description='Progress:', layout=Layout(height='25px', width='50%'),…"
      ]
     },
     "metadata": {},
     "output_type": "display_data"
    },
    {
     "name": "stdout",
     "output_type": "stream",
     "text": [
      "array([[49108,    87],\n",
      "       [  618,   187]])"
     ]
    }
   ],
   "source": [
    "#Confusion matrix\n",
    "confusion_matrix(ytest, y_pred)"
   ]
  },
  {
   "cell_type": "code",
   "execution_count": 93,
   "metadata": {},
   "outputs": [
    {
     "data": {
      "application/vnd.jupyter.widget-view+json": {
       "model_id": "ad7b7ec757d6415fb24a7bcdc9dee0ce",
       "version_major": 2,
       "version_minor": 0
      },
      "text/plain": [
       "VBox()"
      ]
     },
     "metadata": {},
     "output_type": "display_data"
    },
    {
     "data": {
      "application/vnd.jupyter.widget-view+json": {
       "model_id": "",
       "version_major": 2,
       "version_minor": 0
      },
      "text/plain": [
       "FloatProgress(value=0.0, bar_style='info', description='Progress:', layout=Layout(height='25px', width='50%'),…"
      ]
     },
     "metadata": {},
     "output_type": "display_data"
    },
    {
     "name": "stdout",
     "output_type": "stream",
     "text": [
      "tn: 49108 fp: 87 fn: 618 tp: 187"
     ]
    }
   ],
   "source": [
    "tn, fp, fn, tp = confusion_matrix(ytest, y_pred).ravel()\n",
    "print(\"tn: {}\".format(tn), \"fp: {}\".format(fp), \"fn: {}\".format(fn), \"tp: {}\".format(tp))"
   ]
  },
  {
   "cell_type": "code",
   "execution_count": null,
   "metadata": {},
   "outputs": [],
   "source": []
  },
  {
   "cell_type": "code",
   "execution_count": null,
   "metadata": {},
   "outputs": [],
   "source": []
  },
  {
   "cell_type": "code",
   "execution_count": null,
   "metadata": {},
   "outputs": [],
   "source": []
  },
  {
   "cell_type": "code",
   "execution_count": 49,
   "metadata": {},
   "outputs": [
    {
     "data": {
      "application/vnd.jupyter.widget-view+json": {
       "model_id": "7f96711384b84da48a7ec5d787129e64",
       "version_major": 2,
       "version_minor": 0
      },
      "text/plain": [
       "VBox()"
      ]
     },
     "metadata": {},
     "output_type": "display_data"
    },
    {
     "data": {
      "application/vnd.jupyter.widget-view+json": {
       "model_id": "",
       "version_major": 2,
       "version_minor": 0
      },
      "text/plain": [
       "FloatProgress(value=0.0, bar_style='info', description='Progress:', layout=Layout(height='25px', width='50%'),…"
      ]
     },
     "metadata": {},
     "output_type": "display_data"
    },
    {
     "name": "stdout",
     "output_type": "stream",
     "text": [
      "+-----+--------------------+\n",
      "|label|            features|\n",
      "+-----+--------------------+\n",
      "|  0.0|(20,[0,5,9,17],[0...|\n",
      "|  0.0|(20,[2,7,9,13,15]...|\n",
      "|  1.0|(20,[4,6,13,15,18...|\n",
      "|  0.0|(20,[4,8,13,15,18...|\n",
      "+-----+--------------------+"
     ]
    }
   ],
   "source": [
    "from pyspark.ml.feature import HashingTF, IDF, Tokenizer\n",
    "\n",
    "sentenceData = spark.createDataFrame([\n",
    "    (0.0, \"Hi I heard about Spark\"),\n",
    "    (0.0, \"I wish Java could use case classes\"),\n",
    "    (1.0, \"Logistic regression models are neat\"),\n",
    "    (0.0, \"Logistic regression models are dumb\")\n",
    "], [\"label\", \"sentence\"])\n",
    "\n",
    "tokenizer = Tokenizer(inputCol=\"sentence\", outputCol=\"words\")\n",
    "wordsData = tokenizer.transform(sentenceData)\n",
    "\n",
    "hashingTF = HashingTF(inputCol=\"words\", outputCol=\"rawFeatures\", numFeatures=20)\n",
    "featurizedData = hashingTF.transform(wordsData)\n",
    "# alternatively, CountVectorizer can also be used to get term frequency vectors\n",
    "\n",
    "idf = IDF(inputCol=\"rawFeatures\", outputCol=\"features\")\n",
    "idfModel = idf.fit(featurizedData)\n",
    "rescaledData = idfModel.transform(featurizedData)\n",
    "\n",
    "rescaledData.select(\"label\", \"features\").show()"
   ]
  },
  {
   "cell_type": "code",
   "execution_count": 50,
   "metadata": {},
   "outputs": [
    {
     "data": {
      "application/vnd.jupyter.widget-view+json": {
       "model_id": "40b0054637574c14bcbd56074d269b1a",
       "version_major": 2,
       "version_minor": 0
      },
      "text/plain": [
       "VBox()"
      ]
     },
     "metadata": {},
     "output_type": "display_data"
    },
    {
     "data": {
      "application/vnd.jupyter.widget-view+json": {
       "model_id": "",
       "version_major": 2,
       "version_minor": 0
      },
      "text/plain": [
       "FloatProgress(value=0.0, bar_style='info', description='Progress:', layout=Layout(height='25px', width='50%'),…"
      ]
     },
     "metadata": {},
     "output_type": "display_data"
    },
    {
     "name": "stdout",
     "output_type": "stream",
     "text": [
      "+-----+-----------------------------------+------------------------------------------+-----------------------------------------+----------------------------------------------------------------------------------------------------------------------+\n",
      "|label|sentence                           |words                                     |rawFeatures                              |features                                                                                                              |\n",
      "+-----+-----------------------------------+------------------------------------------+-----------------------------------------+----------------------------------------------------------------------------------------------------------------------+\n",
      "|0.0  |Hi I heard about Spark             |[hi, i, heard, about, spark]              |(20,[0,5,9,17],[1.0,1.0,1.0,2.0])        |(20,[0,5,9,17],[0.9162907318741551,0.9162907318741551,0.5108256237659907,1.8325814637483102])                         |\n",
      "|0.0  |I wish Java could use case classes |[i, wish, java, could, use, case, classes]|(20,[2,7,9,13,15],[1.0,1.0,3.0,1.0,1.0]) |(20,[2,7,9,13,15],[0.9162907318741551,0.9162907318741551,1.5324768712979722,0.22314355131420976,0.22314355131420976]) |\n",
      "|1.0  |Logistic regression models are neat|[logistic, regression, models, are, neat] |(20,[4,6,13,15,18],[1.0,1.0,1.0,1.0,1.0])|(20,[4,6,13,15,18],[0.5108256237659907,0.9162907318741551,0.22314355131420976,0.22314355131420976,0.5108256237659907])|\n",
      "|0.0  |Logistic regression models are dumb|[logistic, regression, models, are, dumb] |(20,[4,8,13,15,18],[1.0,1.0,1.0,1.0,1.0])|(20,[4,8,13,15,18],[0.5108256237659907,0.9162907318741551,0.22314355131420976,0.22314355131420976,0.5108256237659907])|\n",
      "+-----+-----------------------------------+------------------------------------------+-----------------------------------------+----------------------------------------------------------------------------------------------------------------------+"
     ]
    }
   ],
   "source": [
    "rescaledData.show(truncate=False)"
   ]
  },
  {
   "cell_type": "code",
   "execution_count": 51,
   "metadata": {},
   "outputs": [
    {
     "data": {
      "application/vnd.jupyter.widget-view+json": {
       "model_id": "610d1b7d056e4a84b78a067bdceb93ae",
       "version_major": 2,
       "version_minor": 0
      },
      "text/plain": [
       "VBox()"
      ]
     },
     "metadata": {},
     "output_type": "display_data"
    },
    {
     "data": {
      "application/vnd.jupyter.widget-view+json": {
       "model_id": "",
       "version_major": 2,
       "version_minor": 0
      },
      "text/plain": [
       "FloatProgress(value=0.0, bar_style='info', description='Progress:', layout=Layout(height='25px', width='50%'),…"
      ]
     },
     "metadata": {},
     "output_type": "display_data"
    },
    {
     "name": "stdout",
     "output_type": "stream",
     "text": [
      "Coefficients: (20,[6],[0.6599674909832574])\n",
      "Intercept: -1.1875233653399353"
     ]
    }
   ],
   "source": [
    "from pyspark.ml.classification import LogisticRegression\n",
    "\n",
    "# Load training data\n",
    "training = rescaledData\n",
    "\n",
    "lr = LogisticRegression(maxIter=3, regParam=0.3, elasticNetParam=0.8)\n",
    "\n",
    "# Fit the model\n",
    "lrModel = lr.fit(training)\n",
    "\n",
    "# Print the coefficients and intercept for logistic regression\n",
    "print(\"Coefficients: \" + str(lrModel.coefficients))\n",
    "print(\"Intercept: \" + str(lrModel.intercept))"
   ]
  },
  {
   "cell_type": "code",
   "execution_count": 52,
   "metadata": {},
   "outputs": [
    {
     "data": {
      "application/vnd.jupyter.widget-view+json": {
       "model_id": "ddee7c80158c48bd94259d18883e68ca",
       "version_major": 2,
       "version_minor": 0
      },
      "text/plain": [
       "VBox()"
      ]
     },
     "metadata": {},
     "output_type": "display_data"
    },
    {
     "data": {
      "application/vnd.jupyter.widget-view+json": {
       "model_id": "",
       "version_major": 2,
       "version_minor": 0
      },
      "text/plain": [
       "FloatProgress(value=0.0, bar_style='info', description='Progress:', layout=Layout(height='25px', width='50%'),…"
      ]
     },
     "metadata": {},
     "output_type": "display_data"
    },
    {
     "name": "stdout",
     "output_type": "stream",
     "text": [
      "+-----+--------------------+--------------------+--------------------+--------------------+--------------------+--------------------+----------+\n",
      "|label|            sentence|               words|         rawFeatures|            features|       rawPrediction|         probability|prediction|\n",
      "+-----+--------------------+--------------------+--------------------+--------------------+--------------------+--------------------+----------+\n",
      "|  0.0|Hi I heard about ...|[hi, i, heard, ab...|(20,[0,5,9,17],[1...|(20,[0,5,9,17],[0...|[1.18752336533993...|[0.76629782750481...|       0.0|\n",
      "|  0.0|I wish Java could...|[i, wish, java, c...|(20,[2,7,9,13,15]...|(20,[2,7,9,13,15]...|[1.18752336533993...|[0.76629782750481...|       0.0|\n",
      "|  1.0|Logistic regressi...|[logistic, regres...|(20,[4,6,13,15,18...|(20,[4,6,13,15,18...|[0.58280127001373...|[0.64171172349340...|       0.0|\n",
      "|  0.0|Logistic regressi...|[logistic, regres...|(20,[4,8,13,15,18...|(20,[4,8,13,15,18...|[1.18752336533993...|[0.76629782750481...|       0.0|\n",
      "+-----+--------------------+--------------------+--------------------+--------------------+--------------------+--------------------+----------+"
     ]
    }
   ],
   "source": [
    "#Show what labels the model predicted\n",
    "lrModel_2 = lrModel.transform(training)\n",
    "lrModel_2.show()"
   ]
  },
  {
   "cell_type": "code",
   "execution_count": 53,
   "metadata": {},
   "outputs": [
    {
     "data": {
      "application/vnd.jupyter.widget-view+json": {
       "model_id": "2b5bb1ae4f1e46a6bfd497b8ad58d658",
       "version_major": 2,
       "version_minor": 0
      },
      "text/plain": [
       "VBox()"
      ]
     },
     "metadata": {},
     "output_type": "display_data"
    },
    {
     "data": {
      "application/vnd.jupyter.widget-view+json": {
       "model_id": "",
       "version_major": 2,
       "version_minor": 0
      },
      "text/plain": [
       "FloatProgress(value=0.0, bar_style='info', description='Progress:', layout=Layout(height='25px', width='50%'),…"
      ]
     },
     "metadata": {},
     "output_type": "display_data"
    },
    {
     "name": "stdout",
     "output_type": "stream",
     "text": [
      "objectiveHistory:\n",
      "0.5623351446188085\n",
      "0.5501013689318484\n",
      "0.5421128362877067\n",
      "0.5315519433187645"
     ]
    }
   ],
   "source": [
    "\n",
    "trainingSummary = lrModel.summary\n",
    "\n",
    "# Obtain the objective per iteration\n",
    "objectiveHistory = trainingSummary.objectiveHistory\n",
    "print(\"objectiveHistory:\")\n",
    "for objective in objectiveHistory:\n",
    "    print(objective)"
   ]
  },
  {
   "cell_type": "code",
   "execution_count": 54,
   "metadata": {},
   "outputs": [
    {
     "data": {
      "application/vnd.jupyter.widget-view+json": {
       "model_id": "5e8651793e224b4b9482ae23957a54bc",
       "version_major": 2,
       "version_minor": 0
      },
      "text/plain": [
       "VBox()"
      ]
     },
     "metadata": {},
     "output_type": "display_data"
    },
    {
     "data": {
      "application/vnd.jupyter.widget-view+json": {
       "model_id": "",
       "version_major": 2,
       "version_minor": 0
      },
      "text/plain": [
       "FloatProgress(value=0.0, bar_style='info', description='Progress:', layout=Layout(height='25px', width='50%'),…"
      ]
     },
     "metadata": {},
     "output_type": "display_data"
    },
    {
     "name": "stdout",
     "output_type": "stream",
     "text": [
      "False positive rate by label:\n",
      "label 0: 1.0\n",
      "label 1: 0.0\n",
      "True positive rate by label:\n",
      "label 0: 1.0\n",
      "label 1: 0.0"
     ]
    }
   ],
   "source": [
    "print(\"False positive rate by label:\")\n",
    "for i, rate in enumerate(trainingSummary.falsePositiveRateByLabel):\n",
    "    print(\"label %d: %s\" % (i, rate))\n",
    "\n",
    "print(\"True positive rate by label:\")\n",
    "for i, rate in enumerate(trainingSummary.truePositiveRateByLabel):\n",
    "    print(\"label %d: %s\" % (i, rate))"
   ]
  },
  {
   "cell_type": "code",
   "execution_count": 55,
   "metadata": {},
   "outputs": [
    {
     "data": {
      "application/vnd.jupyter.widget-view+json": {
       "model_id": "0a12d0f3f2644b00b4bbc8ef440550da",
       "version_major": 2,
       "version_minor": 0
      },
      "text/plain": [
       "VBox()"
      ]
     },
     "metadata": {},
     "output_type": "display_data"
    },
    {
     "data": {
      "application/vnd.jupyter.widget-view+json": {
       "model_id": "",
       "version_major": 2,
       "version_minor": 0
      },
      "text/plain": [
       "FloatProgress(value=0.0, bar_style='info', description='Progress:', layout=Layout(height='25px', width='50%'),…"
      ]
     },
     "metadata": {},
     "output_type": "display_data"
    },
    {
     "name": "stdout",
     "output_type": "stream",
     "text": [
      "Precision by label:\n",
      "label 0: 0.75\n",
      "label 1: 0.0\n",
      "Recall by label:\n",
      "label 0: 1.0\n",
      "label 1: 0.0\n",
      "F-measure by label:\n",
      "label 0: 0.8571428571428571\n",
      "label 1: 0.0"
     ]
    }
   ],
   "source": [
    "print(\"Precision by label:\")\n",
    "for i, prec in enumerate(trainingSummary.precisionByLabel):\n",
    "    print(\"label %d: %s\" % (i, prec))\n",
    "\n",
    "print(\"Recall by label:\")\n",
    "for i, rec in enumerate(trainingSummary.recallByLabel):\n",
    "    print(\"label %d: %s\" % (i, rec))\n",
    "\n",
    "print(\"F-measure by label:\")\n",
    "for i, f in enumerate(trainingSummary.fMeasureByLabel()):\n",
    "    print(\"label %d: %s\" % (i, f))"
   ]
  },
  {
   "cell_type": "code",
   "execution_count": 56,
   "metadata": {},
   "outputs": [
    {
     "data": {
      "application/vnd.jupyter.widget-view+json": {
       "model_id": "63dab4776e0746cfb56046539f021c40",
       "version_major": 2,
       "version_minor": 0
      },
      "text/plain": [
       "VBox()"
      ]
     },
     "metadata": {},
     "output_type": "display_data"
    },
    {
     "data": {
      "application/vnd.jupyter.widget-view+json": {
       "model_id": "",
       "version_major": 2,
       "version_minor": 0
      },
      "text/plain": [
       "FloatProgress(value=0.0, bar_style='info', description='Progress:', layout=Layout(height='25px', width='50%'),…"
      ]
     },
     "metadata": {},
     "output_type": "display_data"
    },
    {
     "name": "stdout",
     "output_type": "stream",
     "text": [
      "Accuracy: 0.75\n",
      "FPR: 0.75\n",
      "TPR: 0.75\n",
      "F-measure: 0.6428571428571428\n",
      "Precision: 0.5625\n",
      "Recall: 0.75"
     ]
    }
   ],
   "source": [
    "accuracy = trainingSummary.accuracy\n",
    "falsePositiveRate = trainingSummary.weightedFalsePositiveRate\n",
    "truePositiveRate = trainingSummary.weightedTruePositiveRate\n",
    "fMeasure = trainingSummary.weightedFMeasure()\n",
    "precision = trainingSummary.weightedPrecision\n",
    "recall = trainingSummary.weightedRecall\n",
    "print(\"Accuracy: %s\\nFPR: %s\\nTPR: %s\\nF-measure: %s\\nPrecision: %s\\nRecall: %s\"\n",
    "      % (accuracy, falsePositiveRate, truePositiveRate, fMeasure, precision, recall))"
   ]
  },
  {
   "cell_type": "code",
   "execution_count": null,
   "metadata": {},
   "outputs": [],
   "source": [
    "#Train test split - use this over cross fold since it will run quicker even though potentially less accurate results\n",
    "#Large enough data set should account for not using cross fold\n",
    "\n",
    "train, test = reviews.randomSplit([0.9, 0.1], seed=12345)\n",
    "train.show()\n",
    "train.count()\n",
    "#884/1000 = 88%"
   ]
  }
 ],
 "metadata": {
  "kernelspec": {
   "display_name": "PySpark",
   "language": "",
   "name": "pysparkkernel"
  },
  "language_info": {
   "codemirror_mode": {
    "name": "python",
    "version": 2
   },
   "mimetype": "text/x-python",
   "name": "pyspark",
   "pygments_lexer": "python2"
  }
 },
 "nbformat": 4,
 "nbformat_minor": 4
}
