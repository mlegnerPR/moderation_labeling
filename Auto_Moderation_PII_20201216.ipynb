{
 "cells": [
  {
   "cell_type": "code",
   "execution_count": 1,
   "metadata": {},
   "outputs": [
    {
     "data": {
      "application/vnd.jupyter.widget-view+json": {
       "model_id": "7a404d53fb664825bcf18a050eb3457b",
       "version_major": 2,
       "version_minor": 0
      },
      "text/plain": [
       "VBox()"
      ]
     },
     "metadata": {},
     "output_type": "display_data"
    },
    {
     "name": "stdout",
     "output_type": "stream",
     "text": [
      "Starting Spark application\n"
     ]
    },
    {
     "data": {
      "text/html": [
       "<table>\n",
       "<tr><th>ID</th><th>YARN Application ID</th><th>Kind</th><th>State</th><th>Spark UI</th><th>Driver log</th><th>Current session?</th></tr><tr><td>0</td><td>application_1608514887400_0001</td><td>pyspark</td><td>idle</td><td><a target=\"_blank\" href=\"http://ip-10-101-215-169.us-west-2.compute.internal:20888/proxy/application_1608514887400_0001/\">Link</a></td><td><a target=\"_blank\" href=\"http://ip-10-101-215-169.us-west-2.compute.internal:8042/node/containerlogs/container_1608514887400_0001_01_000001/livy\">Link</a></td><td>✔</td></tr></table>"
      ],
      "text/plain": [
       "<IPython.core.display.HTML object>"
      ]
     },
     "metadata": {},
     "output_type": "display_data"
    },
    {
     "data": {
      "application/vnd.jupyter.widget-view+json": {
       "model_id": "",
       "version_major": 2,
       "version_minor": 0
      },
      "text/plain": [
       "FloatProgress(value=0.0, bar_style='info', description='Progress:', layout=Layout(height='25px', width='50%'),…"
      ]
     },
     "metadata": {},
     "output_type": "display_data"
    },
    {
     "name": "stdout",
     "output_type": "stream",
     "text": [
      "SparkSession available as 'spark'.\n"
     ]
    },
    {
     "data": {
      "application/vnd.jupyter.widget-view+json": {
       "model_id": "",
       "version_major": 2,
       "version_minor": 0
      },
      "text/plain": [
       "FloatProgress(value=0.0, bar_style='info', description='Progress:', layout=Layout(height='25px', width='50%'),…"
      ]
     },
     "metadata": {},
     "output_type": "display_data"
    }
   ],
   "source": [
    "#Import packages\n",
    "import boto3\n",
    "import json\n",
    "import numpy as np\n",
    "from numpy import argmax\n",
    "import pyspark.sql.functions as F\n",
    "import snowflake.connector\n",
    "import pandas as pd\n",
    "import spacy\n",
    "import matplotlib.pyplot as plt\n",
    "#RegEx\n",
    "import re\n",
    "\n",
    "import scrubadub\n",
    "#import scrubadub[address]\n",
    "\n",
    "\n"
   ]
  },
  {
   "cell_type": "code",
   "execution_count": 2,
   "metadata": {},
   "outputs": [
    {
     "data": {
      "application/vnd.jupyter.widget-view+json": {
       "model_id": "24cacdd49d664bcda144ae0486c565c9",
       "version_major": 2,
       "version_minor": 0
      },
      "text/plain": [
       "VBox()"
      ]
     },
     "metadata": {},
     "output_type": "display_data"
    },
    {
     "data": {
      "application/vnd.jupyter.widget-view+json": {
       "model_id": "",
       "version_major": 2,
       "version_minor": 0
      },
      "text/plain": [
       "FloatProgress(value=0.0, bar_style='info', description='Progress:', layout=Layout(height='25px', width='50%'),…"
      ]
     },
     "metadata": {},
     "output_type": "display_data"
    }
   ],
   "source": [
    "sm_client = boto3.client('secretsmanager',region_name='us-west-2')\n",
    "secret_value = sm_client.get_secret_value(SecretId = 'emr_spark_qa')\n",
    "username = json.loads(secret_value['SecretString'])['emr_spark_username']\n",
    "password = json.loads(secret_value['SecretString'])['emr_spark_password']\n",
    "#print(username)\n",
    "#print(password)"
   ]
  },
  {
   "cell_type": "code",
   "execution_count": 3,
   "metadata": {},
   "outputs": [
    {
     "data": {
      "application/vnd.jupyter.widget-view+json": {
       "model_id": "9d39055b3f544d05a7a70ba56dad4939",
       "version_major": 2,
       "version_minor": 0
      },
      "text/plain": [
       "VBox()"
      ]
     },
     "metadata": {},
     "output_type": "display_data"
    },
    {
     "data": {
      "application/vnd.jupyter.widget-view+json": {
       "model_id": "",
       "version_major": 2,
       "version_minor": 0
      },
      "text/plain": [
       "FloatProgress(value=0.0, bar_style='info', description='Progress:', layout=Layout(height='25px', width='50%'),…"
      ]
     },
     "metadata": {},
     "output_type": "display_data"
    }
   ],
   "source": [
    "#PYTHON connection info\n",
    "conn = snowflake.connector.connect(\n",
    "    account='powerreviews',\n",
    "    database='analytics_prod',\n",
    "    warehouse='LOWER_ENV_WAREHOUSE',\n",
    "    user=username,\n",
    "    password=password\n",
    "    )\n"
   ]
  },
  {
   "cell_type": "code",
   "execution_count": 15,
   "metadata": {},
   "outputs": [
    {
     "data": {
      "application/vnd.jupyter.widget-view+json": {
       "model_id": "9bcb866f30de4e658fc0e482c8ced9db",
       "version_major": 2,
       "version_minor": 0
      },
      "text/plain": [
       "VBox()"
      ]
     },
     "metadata": {},
     "output_type": "display_data"
    },
    {
     "data": {
      "application/vnd.jupyter.widget-view+json": {
       "model_id": "",
       "version_major": 2,
       "version_minor": 0
      },
      "text/plain": [
       "FloatProgress(value=0.0, bar_style='info', description='Progress:', layout=Layout(height='25px', width='50%'),…"
      ]
     },
     "metadata": {},
     "output_type": "display_data"
    }
   ],
   "source": [
    "#Query some reviews\n",
    "query_1 = \"select distinct r.ugc_id,  r.review_headline, r.review_comments, r.reviewer_nickname, r.reviewer_location, \\\n",
    "case when (contains(r.observations, 'PII') )  then 1 else 0 end as PII \\\n",
    "from analytics.review as r \\\n",
    "join analytics.merchant_group as mg \\\n",
    "on r.client_id = mg.client_id \\\n",
    "where r.locale in ('en_US') and contains(r.observations, 'PM') and mg.name not ilike '%hartford%' \\\n",
    "and r.created_date > '2020-01-01' \"\n",
    "\n",
    "\n",
    "#and contains(r.observations, 'PII') \\\n",
    "#and ugc_id in (270519748, 202761051, 202759202, 203453834, 135796841, 135854691, 217517666, 275335901, 264483850, 175108572, 175148446) \\"
   ]
  },
  {
   "cell_type": "code",
   "execution_count": 16,
   "metadata": {},
   "outputs": [
    {
     "data": {
      "application/vnd.jupyter.widget-view+json": {
       "model_id": "04a80bd4bbfc4076b654ec4e39b719c7",
       "version_major": 2,
       "version_minor": 0
      },
      "text/plain": [
       "VBox()"
      ]
     },
     "metadata": {},
     "output_type": "display_data"
    },
    {
     "data": {
      "application/vnd.jupyter.widget-view+json": {
       "model_id": "",
       "version_major": 2,
       "version_minor": 0
      },
      "text/plain": [
       "FloatProgress(value=0.0, bar_style='info', description='Progress:', layout=Layout(height='25px', width='50%'),…"
      ]
     },
     "metadata": {},
     "output_type": "display_data"
    },
    {
     "name": "stdout",
     "output_type": "stream",
     "text": [
      "       UGC_ID                                  REVIEW_HEADLINE  \\\n",
      "0   280813281  Delicious Parker House Rolls                      \n",
      "1   280711252  The artificial scent is too strong.               \n",
      "2   280716079  Laundry Detergent!                                \n",
      "3   280738851  Love them!                                        \n",
      "4   280713287  Good product.                                     \n",
      "5   280784686  Awesome                                           \n",
      "6   280805536  Poor choice for a plant hanger                    \n",
      "7   280727449  nice watch                                        \n",
      "8   280753843  Lots of short stories about a half hour each      \n",
      "9   280778270  Privacy screen - does what it's supposed to.      \n",
      "10  280814897  Awesome                                           \n",
      "11  280791539  So many uses!                                     \n",
      "12  280716109  New Flower Beds                                   \n",
      "13  280751941  Looks better as expected!                         \n",
      "14  280742153  Missing this great tasting starter mix.           \n",
      "15  280795843  Great inexpensive purchase                        \n",
      "16  280748659  Effective cleaner for sensitive skin              \n",
      "17  280736830  Poor packaging. Product leaked during shipping.   \n",
      "18  280804057  No good                                           \n",
      "19  280772000  Great for tgg he e price                          \n",
      "\n",
      "                                                                                                                                                                                                                                                                                                                                                                                                                                                                                                                                                       REVIEW_COMMENTS  \\\n",
      "0   Sister Schubert has the best Parker House Style Yeast Rolls. They come in a aluminum pan., cover it up with aluminum foil and bake them in the oven. They always taste like they are homemade. We eat these several times a week. They are definitely a  part of our family meals.                                                                                                                                                                                                                                                                                   \n",
      "1   The artificial scent is too strong.                                                                                                                                                                                                                                                                                                                                                                                                                                                                                                                                  \n",
      "2   I absolutely love Tide Original detergent. The scent is very fresh without being overwhelming. My clothes smelled so good coming out of the washing machine. I also love that it is an HE product because that is what my washing machine requires. This is the only detergent I buy. This review was collected as part of a promotion, but the thoughts and the opinions are my own.                                                                                                                                                                                \n",
      "3   These beads will make your laundry smell amazing!! The scent of these are very fresh and clean and they last a very long time on your laundry. Even after a week or two of my towels being washed they still smell so fresh because of these! \\nThis review was collected as part of a promotion, but the thoughts and the opinions are my own.                                                                                                                                                                                                                      \n",
      "4   Prefer bleach tablets but was recently informed that they aren't really good for septic system. These were a good deal and will continue to use periodically. A coup were broken during delivery but not a real problem.  Going to the blue kind for more regular use                                                                                                                                                                                                                                                                                                \n",
      "5   My son loves making captain America waffles. Works great                                                                                                                                                                                                                                                                                                                                                                                                                                                                                                             \n",
      "6   Mine broke within 5 days of use.  Might be fine for a Very lightweight birdhouse, but done use for a plant.                                                                                                                                                                                                                                                                                                                                                                                                                                                          \n",
      "7   very nice watch.   ordered it then found out it was in stock down the street.  wish walmarts website was more specific as to what is in your store currently.                                                                                                                                                                                                                                                                                                                                                                                                        \n",
      "8   This is a series of short films of various DC characters with the feature a short story combo of Billy Batson meeting Clark Kent/Superman while getting his powers from the wizard. Black Adam is hot on his trail wanting to destroy Shazam.  Superman provides mentoring to the young new superhero while teaming up to battle the bad guy.\\n\\nOther short stories include Green Arrow, The Spector and Jonah Hex.  Also contains various episodes from popular animated tv series like Batman The Animated series, Batman brave and the bold and Justice League   \n",
      "9   For the price, it was well worth it. Cuts down on the glare (my eyes don't feel as tired) and I like that it sort of blocks the screen from others. Nice for when I travel. I used the direct stick on the screen as the tabs didn't keep the screen in place as well.  \\nIt is also nice that it does not block my use of the touch screen on my Lenovo laptop.                                                                                                                                                                                                     \n",
      "10  Showed up on time and was just what I ordered!                                                                                                                                                                                                                                                                                                                                                                                                                                                                                                                       \n",
      "11  Loving these. Useful for keeping my balcony floor cool. I can step on it in the heat and not burn my feet! Also threaded through the railings for partially shaded plants and privacy. Been doing this for years. So easy!                                                                                                                                                                                                                                                                                                                                           \n",
      "12  Installed new edging around our flowerbeds and worked like a charm.  Extremely easy to work with.                                                                                                                                                                                                                                                                                                                                                                                                                                                                    \n",
      "13  Looks better as expected!                                                                                                                                                                                                                                                                                                                                                                                                                                                                                                                                            \n",
      "14  Only mix I will use.  Don't like any other starter for spaghetti.  At least give us the recipe.  I have eaten this since I was a child and I miss it  Mom used it and I did too.  My grandkids miss it.  Also use it for Manicotto and many other Italian dishes.  Why does everything have to be improved, then removed.  Miss eating spaghetti but truly it is not the same, just to lame.  Miss ya French's.                                                                                                                                                      \n",
      "15  Not expensive and it worked.  My skin felt smoother however I did get bruising because i went over on particular several times when it wasn't advised to do so. The bruising went away in 3 days top. I know better for next time. \\nA GREAT PURCHASE                                                                                                                                                                                                                                                                                                                \n",
      "16  Love the natural ingredients.  Safe for sensitive skin. \\nThis review was collected as part of a promotion, but the thoughts and the opinions are my own.                                                                                                                                                                                                                                                                                                                                                                                                            \n",
      "17  Same problem so many others had.. the lid was broken off the bottle and leaked out. Walmart gave me a refund but I still lost the use of the hand sanitizer. Poor packaging.                                                                                                                                                                                                                                                                                                                                                                                         \n",
      "18  my one year old has figured out how to push his way out the gate and escape...the latch is no good I tried to make it tighter so he won't be able to push his way through or knock it down and it doesn't allow me to tighten it I can only put it in the first hole, 2nd and 3rd hole is no good.                                                                                                                                                                                                                                                                   \n",
      "19  Very well made for the price. Looks good too                                                                                                                                                                                                                                                                                                                                                                                                                                                                                                                         \n",
      "\n",
      "   REVIEWER_NICKNAME REVIEWER_LOCATION  PII  \n",
      "0   Meme05g           undisclosed       0    \n",
      "1   Suni              undisclosed       0    \n",
      "2   Meghan            undisclosed       0    \n",
      "3   blurryfacevegan   undisclosed       0    \n",
      "4   TeeBee1           undisclosed       0    \n",
      "5   amsacb            undisclosed       0    \n",
      "6   Marilyn           undisclosed       0    \n",
      "7   Larry             undisclosed       0    \n",
      "8   Chris             undisclosed       0    \n",
      "9   Kristyn           undisclosed       0    \n",
      "10  Asha              undisclosed       0    \n",
      "11  Anne              undisclosed       0    \n",
      "12  Bulldog           undisclosed       0    \n",
      "13  Monika            undisclosed       0    \n",
      "14  michele           undisclosed       0    \n",
      "15  Letitia           undisclosed       0    \n",
      "16  Jennifer          undisclosed       0    \n",
      "17  Janie             undisclosed       0    \n",
      "18  M                 undisclosed       0    \n",
      "19  Macintire96       undisclosed       0"
     ]
    }
   ],
   "source": [
    "#pd.set_option('display.max_colwidth', -1)\n",
    "#pd.set_option('display.max_columns', None)\n",
    "#pd.set_option('display.max_rows', None)\n",
    "reviews = pd.read_sql(query_1, conn)\n",
    "reviews.head(20)\n",
    "#reviews.info()\n"
   ]
  },
  {
   "cell_type": "code",
   "execution_count": 17,
   "metadata": {},
   "outputs": [
    {
     "data": {
      "application/vnd.jupyter.widget-view+json": {
       "model_id": "998c1902b68d46ef85af5942b3bbf5f2",
       "version_major": 2,
       "version_minor": 0
      },
      "text/plain": [
       "VBox()"
      ]
     },
     "metadata": {},
     "output_type": "display_data"
    },
    {
     "data": {
      "application/vnd.jupyter.widget-view+json": {
       "model_id": "",
       "version_major": 2,
       "version_minor": 0
      },
      "text/plain": [
       "FloatProgress(value=0.0, bar_style='info', description='Progress:', layout=Layout(height='25px', width='50%'),…"
      ]
     },
     "metadata": {},
     "output_type": "display_data"
    },
    {
     "name": "stdout",
     "output_type": "stream",
     "text": [
      "<class 'pandas.core.frame.DataFrame'>\n",
      "RangeIndex: 16550384 entries, 0 to 16550383\n",
      "Data columns (total 6 columns):\n",
      " #   Column             Dtype \n",
      "---  ------             ----- \n",
      " 0   UGC_ID             int64 \n",
      " 1   REVIEW_HEADLINE    object\n",
      " 2   REVIEW_COMMENTS    object\n",
      " 3   REVIEWER_NICKNAME  object\n",
      " 4   REVIEWER_LOCATION  object\n",
      " 5   PII                int64 \n",
      "dtypes: int64(2), object(4)\n",
      "memory usage: 757.6+ MB"
     ]
    }
   ],
   "source": [
    "reviews.info()"
   ]
  },
  {
   "cell_type": "code",
   "execution_count": 18,
   "metadata": {},
   "outputs": [
    {
     "data": {
      "application/vnd.jupyter.widget-view+json": {
       "model_id": "fd9a0e5466ce43efb332f4f09841ccef",
       "version_major": 2,
       "version_minor": 0
      },
      "text/plain": [
       "VBox()"
      ]
     },
     "metadata": {},
     "output_type": "display_data"
    },
    {
     "data": {
      "application/vnd.jupyter.widget-view+json": {
       "model_id": "",
       "version_major": 2,
       "version_minor": 0
      },
      "text/plain": [
       "FloatProgress(value=0.0, bar_style='info', description='Progress:', layout=Layout(height='25px', width='50%'),…"
      ]
     },
     "metadata": {},
     "output_type": "display_data"
    },
    {
     "name": "stdout",
     "output_type": "stream",
     "text": [
      "      UGC_ID                      REVIEW_HEADLINE  \\\n",
      "0  280813281  Delicious Parker House Rolls          \n",
      "1  280711252  The artificial scent is too strong.   \n",
      "2  280716079  Laundry Detergent!                    \n",
      "3  280738851  Love them!                            \n",
      "4  280713287  Good product.                         \n",
      "\n",
      "                                                                                                                                                                                                                                                                                                                                                                         REVIEW_COMMENTS  \\\n",
      "0  Sister Schubert has the best Parker House Style Yeast Rolls. They come in a aluminum pan., cover it up with aluminum foil and bake them in the oven. They always taste like they are homemade. We eat these several times a week. They are definitely a  part of our family meals.                                                                                                      \n",
      "1  The artificial scent is too strong.                                                                                                                                                                                                                                                                                                                                                     \n",
      "2  I absolutely love Tide Original detergent. The scent is very fresh without being overwhelming. My clothes smelled so good coming out of the washing machine. I also love that it is an HE product because that is what my washing machine requires. This is the only detergent I buy. This review was collected as part of a promotion, but the thoughts and the opinions are my own.   \n",
      "3  These beads will make your laundry smell amazing!! The scent of these are very fresh and clean and they last a very long time on your laundry. Even after a week or two of my towels being washed they still smell so fresh because of these! \\nThis review was collected as part of a promotion, but the thoughts and the opinions are my own.                                         \n",
      "4  Prefer bleach tablets but was recently informed that they aren't really good for septic system. These were a good deal and will continue to use periodically. A coup were broken during delivery but not a real problem.  Going to the blue kind for more regular use                                                                                                                   \n",
      "\n",
      "  REVIEWER_NICKNAME REVIEWER_LOCATION  PII  \\\n",
      "0  Meme05g           undisclosed       0     \n",
      "1  Suni              undisclosed       0     \n",
      "2  Meghan            undisclosed       0     \n",
      "3  blurryfacevegan   undisclosed       0     \n",
      "4  TeeBee1           undisclosed       0     \n",
      "\n",
      "                                                                                                                                                                                                                                                                                                                                                                                                                       ALL_TEXT  \n",
      "0  Delicious Parker House Rolls Sister Schubert has the best Parker House Style Yeast Rolls. They come in a aluminum pan., cover it up with aluminum foil and bake them in the oven. They always taste like they are homemade. We eat these several times a week. They are definitely a  part of our family meals. Meme05g undisclosed                                                                                           \n",
      "1  The artificial scent is too strong. The artificial scent is too strong. Suni undisclosed                                                                                                                                                                                                                                                                                                                                      \n",
      "2  Laundry Detergent! I absolutely love Tide Original detergent. The scent is very fresh without being overwhelming. My clothes smelled so good coming out of the washing machine. I also love that it is an HE product because that is what my washing machine requires. This is the only detergent I buy. This review was collected as part of a promotion, but the thoughts and the opinions are my own. Meghan undisclosed   \n",
      "3  Love them! These beads will make your laundry smell amazing!! The scent of these are very fresh and clean and they last a very long time on your laundry. Even after a week or two of my towels being washed they still smell so fresh because of these! \\nThis review was collected as part of a promotion, but the thoughts and the opinions are my own.  blurryfacevegan undisclosed                                       \n",
      "4  Good product. Prefer bleach tablets but was recently informed that they aren't really good for septic system. These were a good deal and will continue to use periodically. A coup were broken during delivery but not a real problem.  Going to the blue kind for more regular use TeeBee1 undisclosed"
     ]
    }
   ],
   "source": [
    "#Force space at the end so that regex will match space after location\n",
    "#This is necessary so if they don't use a zip code and the address ends in just the state abbreviation, it will pick it up \n",
    "#But will not pick up in text where something is a word that starts with a state's 2 letter abbreviation and thus creates lots of false positives\n",
    "\n",
    "reviews['ALL_TEXT'] =  reviews['REVIEW_HEADLINE'] + ' '+reviews['REVIEW_COMMENTS'] + ' '+reviews['REVIEWER_NICKNAME'] + ' '+reviews['REVIEWER_LOCATION'] +' '\n",
    "#Use set_option so text doesn't truncate\n",
    "\n",
    "#pd.set_option('display.max_colwidth', -1)\n",
    "#pd.set_option('display.max_columns', None)\n",
    "reviews.head()\n",
    "\n",
    "#reviews.dtypes"
   ]
  },
  {
   "cell_type": "code",
   "execution_count": null,
   "metadata": {},
   "outputs": [],
   "source": []
  },
  {
   "cell_type": "code",
   "execution_count": 19,
   "metadata": {},
   "outputs": [
    {
     "data": {
      "application/vnd.jupyter.widget-view+json": {
       "model_id": "496d6e339d544a13b90c69958c214fd5",
       "version_major": 2,
       "version_minor": 0
      },
      "text/plain": [
       "VBox()"
      ]
     },
     "metadata": {},
     "output_type": "display_data"
    },
    {
     "data": {
      "application/vnd.jupyter.widget-view+json": {
       "model_id": "",
       "version_major": 2,
       "version_minor": 0
      },
      "text/plain": [
       "FloatProgress(value=0.0, bar_style='info', description='Progress:', layout=Layout(height='25px', width='50%'),…"
      ]
     },
     "metadata": {},
     "output_type": "display_data"
    },
    {
     "name": "stdout",
     "output_type": "stream",
     "text": [
      "/usr/local/lib64/python3.7/site-packages/pandas/core/strings.py:2001: UserWarning: This pattern has match groups. To actually get the groups, use str.extract.\n",
      "  return func(self, *args, **kwargs)\n",
      "/usr/local/lib64/python3.7/site-packages/pandas/core/strings.py:2001: UserWarning: This pattern has match groups. To actually get the groups, use str.extract.\n",
      "  return func(self, *args, **kwargs)"
     ]
    }
   ],
   "source": [
    "reviews['regex_cc'] = reviews['REVIEW_COMMENTS'].str.contains(r'\\d{4}(\\s|-|\\.|\\*)\\d{4}(\\s|-|\\.|\\*)\\d{4}(\\s|-|\\.|\\*)\\d{4}')== True\n",
    "\n",
    "reviews['regex_socsec']  = reviews['ALL_TEXT'].str.contains(r'\\b\\d{3}(\\s|-|\\.|\\*)\\d{2}(\\s|-|\\.|\\*)\\d{4}\\b')== True\n",
    "\n",
    "reviews['regex_phone10'] = reviews['ALL_TEXT'].str.contains(r'(\\d(\\s|-|\\.|\\*)?)?(\\(?\\d{3}\\)?|\\d{3})(\\s|-|\\.|\\*)\\d{3}(\\s|-|\\.|\\*)\\d{4}')== True\n",
    "\n",
    "reviews['regex_email'] = reviews['ALL_TEXT'].str.contains(r'[A-Za-z0-9._%+-]+@[A-Za-z0-9.-]+\\.[A-Za-z]{2,}', case=False)== True\n",
    "\n",
    "\n",
    "#Handle regex will pick up majority of email addresses\n",
    "reviews['regex_handle'] = reviews['ALL_TEXT'].str.contains(r'@(?!influenster|voxbox|Buchanan\\s?Group|PINCHme|SampleSource|ChickAdvisor|BrandShare|SoPost|Sampler)[A-Za-z0-9._]+', case=False)== True\n",
    "\n",
    "#MUST MAKE CASE INSENSITIVE\n",
    "#Apply to each text field separately bc otherwise if apply to ALL_TEXT then can match # from comments and word from nickname\n",
    "#and city, state from location and get a match\n",
    "reviews['regex_USaddress_loc'] = reviews['REVIEWER_LOCATION']. \\\n",
    "str.contains(r'\\d{1,6}(\\s[A-Za-z0-9]+\\.?\\,?)?(\\s[A-Za-z0-9]+\\.?\\,?)?(\\s[A-Za-z0-9]+\\.?\\,?)\\s(STREET|ST|DRIVE|DR|AVENUE|AVE|ROAD|RD|LOOP|COURT|CT|CIRCLE|LANE|LN|BOULEVARD|BLVD|COVE|TERRACE|TERR|TER|PLACE)\\.?\\,?(\\s(APARTMENT|APT|BUILDING|BLDG|DEPARTMENT|DEPT|FLOOR|FL|LOT|PIER|ROOM|RM|TRAILER|TRLR|UNIT|PO BOX)\\.?\\s\\#?[A-Za-z0-9]+\\,?)?(\\s[A-Za-z]+)?(\\s[A-Za-z]+)\\,?\\s(A[LKSZR]|C[AOT]|D[EC]|F[L]|G[AU]|HI|I[ADLN]|K[SY]|LA|M[ADEINOPST]|N[CDEHJMVY]|O[HKR]|P[AR]|RI|S[CD]|T[NX]|UT|V[AIT]|W[AIVY])(\\s\\d{5})?(\\-\\d{4})?', case=False)== True\n",
    "\n",
    "#Option to require word boundary after state code in the comments field since such long text, not necessary in location or headline field\n",
    "#No word boundary will match \"50 mile drive one way....\" bc word \"way\" contains WA as in Washington state\n",
    "#HOWEVER then we are losing if it was legit address but they decided to type out Washington instead of just WA\n",
    "#For now, no word boundary required since more likely to write out state than for it to just so happen to match another random word in text\n",
    "reviews['regex_USaddress_comments'] = reviews['REVIEW_COMMENTS']. \\\n",
    "str.contains(r'\\d{1,6}(\\s[A-Za-z0-9]+\\.?\\,?)?(\\s[A-Za-z0-9]+\\.?\\,?)?(\\s[A-Za-z0-9]+\\.?\\,?)\\s(STREET|ST|DRIVE|DR|AVENUE|AVE|ROAD|RD|LOOP|COURT|CT|CIRCLE|LANE|LN|BOULEVARD|BLVD|COVE|TERRACE|TERR|TER|PLACE)\\.?\\,?(\\s(APARTMENT|APT|BUILDING|BLDG|DEPARTMENT|DEPT|FLOOR|FL|LOT|PIER|ROOM|RM|TRAILER|TRLR|UNIT|PO BOX)\\.?\\s\\#?[A-Za-z0-9]+\\,?)?(\\s[A-Za-z]+)?(\\s[A-Za-z]+)\\,?\\s(A[LKSZR]|C[AOT]|D[EC]|F[L]|G[AU]|HI|I[ADLN]|K[SY]|LA|M[ADEINOPST]|N[CDEHJMVY]|O[HKR]|P[AR]|RI|S[CD]|T[NX]|UT|V[AIT]|W[AIVY])(\\s\\d{5})?(\\-\\d{4})?', case=False)== True\n",
    "\n",
    "reviews['regex_USaddress_headline'] = reviews['REVIEW_HEADLINE']. \\\n",
    "str.contains(r'\\d{1,6}(\\s[A-Za-z0-9]+\\.?\\,?)?(\\s[A-Za-z0-9]+\\.?\\,?)?(\\s[A-Za-z0-9]+\\.?\\,?)\\s(STREET|ST|DRIVE|DR|AVENUE|AVE|ROAD|RD|LOOP|COURT|CT|CIRCLE|LANE|LN|BOULEVARD|BLVD|COVE|TERRACE|TERR|TER|PLACE)\\.?\\,?(\\s(APARTMENT|APT|BUILDING|BLDG|DEPARTMENT|DEPT|FLOOR|FL|LOT|PIER|ROOM|RM|TRAILER|TRLR|UNIT|PO BOX)\\.?\\s\\#?[A-Za-z0-9]+\\,?)?(\\s[A-Za-z]+)?(\\s[A-Za-z]+)\\,?\\s(A[LKSZR]|C[AOT]|D[EC]|F[L]|G[AU]|HI|I[ADLN]|K[SY]|LA|M[ADEINOPST]|N[CDEHJMVY]|O[HKR]|P[AR]|RI|S[CD]|T[NX]|UT|V[AIT]|W[AIVY])(\\s\\d{5})?(\\-\\d{4})?', case=False)== True\n"
   ]
  },
  {
   "cell_type": "code",
   "execution_count": 20,
   "metadata": {},
   "outputs": [
    {
     "data": {
      "application/vnd.jupyter.widget-view+json": {
       "model_id": "7c0c74cfdefc458e951188e1ec8ebbbe",
       "version_major": 2,
       "version_minor": 0
      },
      "text/plain": [
       "VBox()"
      ]
     },
     "metadata": {},
     "output_type": "display_data"
    },
    {
     "data": {
      "application/vnd.jupyter.widget-view+json": {
       "model_id": "",
       "version_major": 2,
       "version_minor": 0
      },
      "text/plain": [
       "FloatProgress(value=0.0, bar_style='info', description='Progress:', layout=Layout(height='25px', width='50%'),…"
      ]
     },
     "metadata": {},
     "output_type": "display_data"
    }
   ],
   "source": [
    "reviews['regex_PII'] = 0\n",
    "reviews.loc[(reviews['regex_cc']==True) | (reviews['regex_socsec']==True) | (reviews['regex_phone10']==True) \\\n",
    "         | (reviews['regex_email']==True) | (reviews['regex_handle']==True) | (reviews['regex_USaddress_loc']==True) \\\n",
    "        | (reviews['regex_USaddress_comments']==True) | (reviews['regex_USaddress_headline']==True), 'regex_PII'] = 1"
   ]
  },
  {
   "cell_type": "code",
   "execution_count": 21,
   "metadata": {},
   "outputs": [
    {
     "data": {
      "application/vnd.jupyter.widget-view+json": {
       "model_id": "064055f32f5a4c73a2e08be7ef9825ae",
       "version_major": 2,
       "version_minor": 0
      },
      "text/plain": [
       "VBox()"
      ]
     },
     "metadata": {},
     "output_type": "display_data"
    },
    {
     "data": {
      "application/vnd.jupyter.widget-view+json": {
       "model_id": "",
       "version_major": 2,
       "version_minor": 0
      },
      "text/plain": [
       "FloatProgress(value=0.0, bar_style='info', description='Progress:', layout=Layout(height='25px', width='50%'),…"
      ]
     },
     "metadata": {},
     "output_type": "display_data"
    },
    {
     "name": "stdout",
     "output_type": "stream",
     "text": [
      "18031"
     ]
    }
   ],
   "source": [
    "FP = reviews[(reviews['PII'] == 0) & (reviews['regex_PII'] == 1)]\n",
    "FN = reviews[(reviews['PII'] == 1) & (reviews['regex_PII'] == 0)]\n",
    "TP = reviews[(reviews['PII'] == 1) & (reviews['regex_PII'] == 1)]\n",
    "TN = reviews[(reviews['PII'] == 0) & (reviews['regex_PII'] == 0)]\n",
    "FP['UGC_ID'].count()\n"
   ]
  },
  {
   "cell_type": "code",
   "execution_count": 22,
   "metadata": {},
   "outputs": [
    {
     "data": {
      "application/vnd.jupyter.widget-view+json": {
       "model_id": "088cc94fdb7c44a789fed2c629b27ed8",
       "version_major": 2,
       "version_minor": 0
      },
      "text/plain": [
       "VBox()"
      ]
     },
     "metadata": {},
     "output_type": "display_data"
    },
    {
     "data": {
      "application/vnd.jupyter.widget-view+json": {
       "model_id": "",
       "version_major": 2,
       "version_minor": 0
      },
      "text/plain": [
       "FloatProgress(value=0.0, bar_style='info', description='Progress:', layout=Layout(height='25px', width='50%'),…"
      ]
     },
     "metadata": {},
     "output_type": "display_data"
    },
    {
     "name": "stdout",
     "output_type": "stream",
     "text": [
      "115531"
     ]
    }
   ],
   "source": [
    "FN['UGC_ID'].count()"
   ]
  },
  {
   "cell_type": "code",
   "execution_count": 23,
   "metadata": {},
   "outputs": [
    {
     "data": {
      "application/vnd.jupyter.widget-view+json": {
       "model_id": "33ec7c958d244b3885b4978cb7b84807",
       "version_major": 2,
       "version_minor": 0
      },
      "text/plain": [
       "VBox()"
      ]
     },
     "metadata": {},
     "output_type": "display_data"
    },
    {
     "data": {
      "application/vnd.jupyter.widget-view+json": {
       "model_id": "",
       "version_major": 2,
       "version_minor": 0
      },
      "text/plain": [
       "FloatProgress(value=0.0, bar_style='info', description='Progress:', layout=Layout(height='25px', width='50%'),…"
      ]
     },
     "metadata": {},
     "output_type": "display_data"
    },
    {
     "name": "stdout",
     "output_type": "stream",
     "text": [
      "6910"
     ]
    }
   ],
   "source": [
    "TP['UGC_ID'].count()"
   ]
  },
  {
   "cell_type": "code",
   "execution_count": 24,
   "metadata": {},
   "outputs": [
    {
     "data": {
      "application/vnd.jupyter.widget-view+json": {
       "model_id": "5954f3321a944772a43fcbc8f206b38f",
       "version_major": 2,
       "version_minor": 0
      },
      "text/plain": [
       "VBox()"
      ]
     },
     "metadata": {},
     "output_type": "display_data"
    },
    {
     "data": {
      "application/vnd.jupyter.widget-view+json": {
       "model_id": "",
       "version_major": 2,
       "version_minor": 0
      },
      "text/plain": [
       "FloatProgress(value=0.0, bar_style='info', description='Progress:', layout=Layout(height='25px', width='50%'),…"
      ]
     },
     "metadata": {},
     "output_type": "display_data"
    },
    {
     "name": "stdout",
     "output_type": "stream",
     "text": [
      "16409912"
     ]
    }
   ],
   "source": [
    "TN['UGC_ID'].count()"
   ]
  },
  {
   "cell_type": "code",
   "execution_count": null,
   "metadata": {},
   "outputs": [],
   "source": []
  },
  {
   "cell_type": "code",
   "execution_count": null,
   "metadata": {},
   "outputs": [],
   "source": []
  },
  {
   "cell_type": "code",
   "execution_count": 35,
   "metadata": {},
   "outputs": [
    {
     "data": {
      "application/vnd.jupyter.widget-view+json": {
       "model_id": "7d233c5c1a2f4775946e9fe5ea774166",
       "version_major": 2,
       "version_minor": 0
      },
      "text/plain": [
       "VBox()"
      ]
     },
     "metadata": {},
     "output_type": "display_data"
    },
    {
     "data": {
      "application/vnd.jupyter.widget-view+json": {
       "model_id": "",
       "version_major": 2,
       "version_minor": 0
      },
      "text/plain": [
       "FloatProgress(value=0.0, bar_style='info', description='Progress:', layout=Layout(height='25px', width='50%'),…"
      ]
     },
     "metadata": {},
     "output_type": "display_data"
    },
    {
     "name": "stdout",
     "output_type": "stream",
     "text": [
      "                                                                                                                                                                                                                                                                                                                                                                                                                                                                                                                                                                                                                                                                                                                                                                                                                                                                                                                                                                                                                                                                                                                                                                                                                                                                                                                                                                                                                                                                                                                                                                                                                                                                   ALL_TEXT  \\\n",
      "1635   Not submitted by reviewer. See other reviews for more detailed feedback. murphynia@yahoo.com Undisclosed                                                                                                                                                                                                                                                                                                                                                                                                                                                                                                                                                                                                                                                                                                                                                                                                                                                                                                                                                                                                                                                                                                                                                                                                                                                                                                                                                                                                                                                                                                                                                               \n",
      "1956   results bisible at the first day i used my @neutrogena correctind cream  as soon I got it. and I just can say I saw slightly results at the first use. smell so good like citric arome.  you have to use a small amount  your skinf fell so smooth. remember to use it at nights. liscya undisclosed                                                                                                                                                                                                                                                                                                                                                                                                                                                                                                                                                                                                                                                                                                                                                                                                                                                                                                                                                                                                                                                                                                                                                                                                                                                                                                                                                                   \n",
      "4708   Great toy Myla is so adorable, she has two places you can push and she will talk and make noises. They are on her chest and head. She has a fury tail, comes with two hair clips and a small brush. She is a medium size toy, great for any little girl!! My daughter carries her around and is always playing with her. Her ears and eye light up when you push the buttons, so cute. I highly recommend this toy to any parent wanting to entertain their daughter!! Momma@03 Va                                                                                                                                                                                                                                                                                                                                                                                                                                                                                                                                                                                                                                                                                                                                                                                                                                                                                                                                                                                                                                                                                                                                                                                     \n",
      "7024   Nice Stand, But Defective Making it Unusable The TV stand would be a gorgeous stand after assembly, however I ran into a huge issue with the front leg. The front leg was/is defective. The area where the you're to screw the leg onto the stand has the bolt pattern incorrect. It seem like when it was manufactured, they \"accidentally\" flips one side of the leg upside down. Because of this, I'm unable to complete the assembly of the product. I have emailed Whalen with no response and called the 1-866-942-5362 number where a recording comes on saying they are \"closed\" implying that I cannot have this problem remedied. I'm now forced to take down the stand and return it to Walmart. Very very sadden by this. It's so sad to put the entire stand together and when you get right toward the end, you're hindered by a defective part. Then you call the company/email the company and cannot get a reply. $135 stand that's deemed worthless without a leg to stand on. Melva undisclosed                                                                                                                                                                                                                                                                                                                                                                                                                                                                                                                                                                                                                                                     \n",
      "7674   An option for sunscreen I have been using this sunscreen for @2 weeks now. It seems to do well under makeup although as I use it more, I notice that it feels a little \"grainy\". It is also very thin and does not have the cream consistency I have become used to with sunscreens. It is not oily or shiny and does not seem to cut makeup wear time short. BeaB Morristown NJ                                                                                                                                                                                                                                                                                                                                                                                                                                                                                                                                                                                                                                                                                                                                                                                                                                                                                                                                                                                                                                                                                                                                                                                                                                                                                       \n",
      "9559   I buy this dinner every time I order. This is my favorite dinner. I order 3 or 4 every time I place an order. Very good flavor. Lora Undisclosed                                                                                                                                                                                                                                                                                                                                                                                                                                                                                                                                                                                                                                                                                                                                                                                                                                                                                                                                                                                                                                                                                                                                                                                                                                                                                                                                                                                                                                                                                                                       \n",
      "11919  Good compact powder I received this compact powder complimentary for reviewing purposes. I actually liked it.. it kept the skin matte for a long time. And it doesn't have any strong specific smell which was a plus for me. It looks tan colored but it is a translucent powder. It is a bit pricey but the packaging, quality and quantity makes up for that.\\n\\n@urbandecaycosmetics \\n#allnightercompactpowder\\n@influenster niralit1 undisclosed                                                                                                                                                                                                                                                                                                                                                                                                                                                                                                                                                                                                                                                                                                                                                                                                                                                                                                                                                                                                                                                                                                                                                                                                                 \n",
      "12244  This strawberry cream... This strawberry cream@cheese spread is great on toast or bagels and it sort of makes it like a dessert! naniinnes undisclosed                                                                                                                                                                                                                                                                                                                                                                                                                                                                                                                                                                                                                                                                                                                                                                                                                                                                                                                                                                                                                                                                                                                                                                                                                                                                                                                                                                                                                                                                                                                 \n",
      "12528  Great product I got this about 2 weeks ago. Great product to have in your car for an emergency. Very easy to use. I used to 3 days ago to jump start my dads car. I was amazed at how fast and easy it was to use. It is also great to charge phones. Works super fast. I definitely recommend this product. lemonie730@yahoo.com Dickson City, PA                                                                                                                                                                                                                                                                                                                                                                                                                                                                                                                                                                                                                                                                                                                                                                                                                                                                                                                                                                                                                                                                                                                                                                                                                                                                                                                     \n",
      "12620  Undisclosed Discount Tire:  \\r\\n\\r\\nDannell A Aguon\\r\\n5034 State Highway 303 NE\\r\\nBremerton, WA 98311 \\r\\n\\r\\nwas 5-Star on a new tire warranty issue.  Exact tire replacement was done @no cost.   Working with Dannell, I never felt defensive 2prove a manufacturing defect.\\r\\n\\r\\nAlso, shop atmosphere seemed professional & efficient.  \\r\\n- isurf Undisclosed Undisclosed                                                                                                                                                                                                                                                                                                                                                                                                                                                                                                                                                                                                                                                                                                                                                                                                                                                                                                                                                                                                                                                                                                                                                                                                                                                                                   \n",
      "13030  Cute fox This is the cutest  thing.awesome colored  and light combinations. The tail wags. I love that it has so many different  textures.  The tail has fur the body is smooth.   My girls loved playing  for a great extent  of time Lilprbutrfly@aol Philadelphia PA                                                                                                                                                                                                                                                                                                                                                                                                                                                                                                                                                                                                                                                                                                                                                                                                                                                                                                                                                                                                                                                                                                                                                                                                                                                                                                                                                                                                \n",
      "14800  Good Buy The material of the mask is very good and soft. The only problem is that the mask is very tight and it's very uncomfortable to breathe even though I ordered large size in adults Patty@texas undisclosed                                                                                                                                                                                                                                                                                                                                                                                                                                                                                                                                                                                                                                                                                                                                                                                                                                                                                                                                                                                                                                                                                                                                                                                                                                                                                                                                                                                                                                                     \n",
      "14874  one of my favorite serums out right now! I was sent this beautiful @bareminerals Skinlongevity long life herb serum #complimentary of @influenster \\n\"Clean without compromising performance.\"\\nThis powerful Anti-aging, clean serum has mineral-rich plant extract resourced from Okinawa, Japan, boosted to strengthen and smooth skin textures while aiding to resist visible signs of aging caused by daily damage.\\nTwo major Ingredients include: California Poppy- Provides antioxidant protection to help defend skin against free radical and environmental damage.  Niacinamide- Also known as Vitamin B3; helps to protect and strengthen the skin barrier as well as soften the look of fine lines and wrinkles. This powerhouse of a serum is so beautiful! I have been testing for a little while, and so far I am loving it! This serum is to be applied after cleansing. (Also, before any other treatments/serums use this one first.)This serum is beautiful on the skin. It  smoothes out everything! Almost looks like a primer lightly covering any flaws and pores. I have also wore makeup on this and it worked like magic! I even like the look of my skin without any makeup and just this serum! This serum is-Paraben free, Cruelty free, vegan, synthetic fragrance free, gluten free, tree nut free, talc free, SLS Free. beautylovin_mom undisclosed                                                                                                                                                                                                                                                                                   \n",
      "15054  Love the print, not the fit or the undershorts I normally wear a size 14, curvy, 5'6 140, and this skort slides off my hips, especially with minimal garden tools or phone in the pockets. I love the colors and design of the lady bug print but the cut of this skort is simply not flattering on me as well as too big to function.  My impulse is to cut out the mesh undershorts but instead I plan to return this. I agree with others that the fabric is heavy, which would be okay if the cut worked better for me. I had big hopes for this skort but am not sure if a  twelve would work better. M@gnoli@ Huntsville AL                                                                                                                                                                                                                                                                                                                                                                                                                                                                                                                                                                                                                                                                                                                                                                                                                                                                                                                                                                                                                                      \n",
      "15689  I love the primer is... I love the primer is make my skin soft and if feel good when you use both products I recommend it is work for me i love hoy my skin look   i don't see much my pores i love it i recommend it  #contest #complimentary #Simplyageless @covergirl @Influenster maryslife34 undisclosed                                                                                                                                                                                                                                                                                                                                                                                                                                                                                                                                                                                                                                                                                                                                                                                                                                                                                                                                                                                                                                                                                                                                                                                                                                                                                                                                                          \n",
      "16415  Influenster review... I first would like to thank @Influenster and @PerriconeMD for sending this in exchange for my honest review.  First of all, the packaging so luxurious, it's nice and heavy...without being bulky, It would be gorgeous sitting on any vanity. I am a 47 year old woman, with normal (sometimes dry) skin.  I have a pretty extensive skin regimen, both morning and night.  However, I was lacking a neck cream...so when I received the email saying I would be receiving this...I was thrilled.  I've been using this morning and night for two weeks, and so far I have really enjoyed it.  I can tell a slight difference in the jaw/neck area (I do not use on my face) the skin looks very hydrated and plump, the lines are not as noticeable, and it's just an overall smoothness that I can't explain.  The only downside to this product, is the scent...it does seem to linger for a while, I would give it 5 stars if not for that.   Thanks again influenster and Perricone MD.  Perricone MD Cold Plasma Sub-D 2 Oz shannonr4 Stevenson, AL                                                                                                                                                                                                                                                                                                                                                                                                                                                                                                                                                                                       \n",
      "16763  Great for mixing with... Great for mixing with titos. We tried this by itself and it had a great taste but then when we mixed it with some titos and a splash of@lime it really elevated it! peanut7511 undisclosed                                                                                                                                                                                                                                                                                                                                                                                                                                                                                                                                                                                                                                                                                                                                                                                                                                                                                                                                                                                                                                                                                                                                                                                                                                                                                                                                                                                                                                                    \n",
      "16767  Beware! Unlisted neurologic side effects. I put the product on my dog on a Tuesday evening, my dog is a border collie who is almost 15 years old. I applied the product exactly as the box says. By the next morning he could not walk or stand on his own and he was extremely shaky and dizzy. Today is Sunday, 5 days later, he is still shaky and dizzy. Beware that this has side effects that they have not disclosed on their box. I called the phone number and they suggested I wash the product off with Dawn dish soap, so if you were like me and looking for answers in the reviews, be sure and wash your dog as soon as possible to get as much off as you can and call their hotline number at 1-855-844-4375 to report the incident. Melissa735 undisclosed                                                                                                                                                                                                                                                                                                                                                                                                                                                                                                                                                                                                                                                                                                                                                                                                                                                                                           \n",
      "18073  Sparkle in beautiful nude shades Great shades for African-Americans. Compliments my skin tone very well. Nice sparkle! Use sparingly. @mrsnatadair Apopka, FL                                                                                                                                                                                                                                                                                                                                                                                                                                                                                                                                                                                                                                                                                                                                                                                                                                                                                                                                                                                                                                                                                                                                                                                                                                                                                                                                                                                                                                                                                                          \n",
      "18074  Best of the Brand Comfortable glosses for an easy look. Best gloss formula out there in my opinion. @mrsnatadair Apopka, FL                                                                                                                                                                                                                                                                                                                                                                                                                                                                                                                                                                                                                                                                                                                                                                                                                                                                                                                                                                                                                                                                                                                                                                                                                                                                                                                                                                                                                                                                                                                                            \n",
      "18134  Pair after pair, these 800 Series court shoes are winners This is my third pair of 800 Series New Balance tennis shoes and they are just what I have come to expect.  The first pair I wore on the court playing singles with my then wife to be.  We were married a year and a half later, so that worked out well.  The shoes lasted another 8 or 9 years before I wore the treads off so much that I just had to use them for knocking around and active work, and they performed greatly under those conditions as well.  So this the third pair, being 806's, a great feature that I didn't expect revealed itself.  Today, during my first time wearing the new pair during play, they improved my scrambling so well that I was able to run circles around my opponent, being my wonderful wife.  But I figured out I was on her side of the court.  No problem.  We work well in singles play and as a team.  These 806's will probably provide extended play for me as I'm older now and play less and more conservatively.  And she still beats me whenever she wants to but that's OK as she stays a few years younger than I. Pete Crowley, LA                                                                                                                                                                                                                                                                                                                                                                                                                                                                                                             \n",
      "18988  So smoothing! I have... So smoothing! I have chicken skin in@my arms and this helped out so much. It made my skin feel so smooth and soft. It made me feel normal again! alyssam0197 undisclosed                                                                                                                                                                                                                                                                                                                                                                                                                                                                                                                                                                                                                                                                                                                                                                                                                                                                                                                                                                                                                                                                                                                                                                                                                                                                                                                                                                                                                                                                       \n",
      "20620  Amazing! Huge Difference! I received a complimentary @esteelauder Advanced Night Repair via @influenster. It has honestly made such a difference in my skin. I love how soft my face is and how hydrated my skin feels! The only downside is the smell of the product, but when it works this well I don't mind! The smell fades very quickly anyways. I definitely recommend this product! Jessica Conroe, Texas                                                                                                                                                                                                                                                                                                                                                                                                                                                                                                                                                                                                                                                                                                                                                                                                                                                                                                                                                                                                                                                                                                                                                                                                                                                      \n",
      "21446  others were right about the knocking sound it is what it is...prior to ordering, i did go over a lot of the consumers reviews...it's true that the ice maker makes a knocking sound through out the day and/or night...it's kind of reassuring in the sense that we know that it is producing ice where as our other was not; hubby was sticking his hand in side the freeze ice cube maker , now he uses the exterior ice dispenser instead. You've heard the saying , \" they don't make them like they use too\" are previous owned frig was a whirlpool...the frig doors are lighter yet the interior door's shelving bins are made with thin clear plastic; similar to  a disposable cup. i just have to discipline  myself to not grab the shelve when trying to close the frig door. Last but not least, don't believe the sales person and /or delivery men when they say that it only takes about 20 minutes to cool. it took our frig 8 hours! i am being serious. Thank god we didn't have them take the old one away. (the day before delivery of the new,  i had moved frig  to the garage  plugged it back in to store our food until the new frig came. as well as  to clean and mop parole7@aol.com parole7@aol.com                                                                                                                                                                                                                                                                                                                                                                                                                                      \n",
      "22377  It's really effective It feels great when I have enough confidence to show my bare face . And this @neutrogena rapid tone repair correcting cream made that easy for me!!!\\nMonths back I have received these two products( correcting cream and vitamin c serum. Swipe to see )  duo from @influenster as a complimentary and have been trying ever since then. \\n@neutrogena correcting cream with vitamin c and Retinol SA: \\n It's such an outstanding product. It has a powerful blend of vitamin c + Retinol. Works as an anti-aging cream helps retain moisture and gives a healthy glow and younger-looking skin. \\nIt has a velvety texture, after using its skin looks soft, supple, and nourished.\\nI prefer to use it as my night cream, using once in a day. \\nI would recommend this cream if your skin is suffering from any aging issues. For a dry skin girl, it can be a wonderful moisturizer as well. \\n. swetad1 undisclosed                                                                                                                                                                                                                                                                                                                                                                                                                                                                                                                                                                                                                                                                                                                      \n",
      "23169  April 2020 Favorites Check out my April Favorites for my review of these flip flops and more live on my YouTube channel @rawfashionmagazine look for the pink logo RAWFashionMagazine undisclosed                                                                                                                                                                                                                                                                                                                                                                                                                                                                                                                                                                                                                                                                                                                                                                                                                                                                                                                                                                                                                                                                                                                                                                                                                                                                                                                                                                                                                                                                      \n",
      "23184  Not submitted by reviewer. Very pretty and dainty! Great to wear alone or layering @ann_nuhbell Undisclosed                                                                                                                                                                                                                                                                                                                                                                                                                                                                                                                                                                                                                                                                                                                                                                                                                                                                                                                                                                                                                                                                                                                                                                                                                                                                                                                                                                                                                                                                                                                                                            \n",
      "23883  USE YOUR HEAD! PLEASE! If you can't use a squeegee, properly, something is wrong with your intelligent!  Works fine just use a little muscle.  Because of your lack of knowledge you made someone's product look bad!  If you have to leave feedback, PLEASE, always give the product a good try, not half@ss, then blame the product... LGH1 undisclosed                                                                                                                                                                                                                                                                                                                                                                                                                                                                                                                                                                                                                                                                                                                                                                                                                                                                                                                                                                                                                                                                                                                                                                                                                                                                                                              \n",
      "24391  LOVE!! My 3 year old daughter is obsessed with this drink!! I love that its a much healthier option than the sugary juice, etc. highly recommend!! #contest #complimentary #poweredbyCreativeRoots @Influenster @drinkcreativeroots @Influenster.eats taylornmalotte undisclosed                                                                                                                                                                                                                                                                                                                                                                                                                                                                                                                                                                                                                                                                                                                                                                                                                                                                                                                                                                                                                                                                                                                                                                                                                                                                                                                                                                                       \n",
      "25816  I absolutely love this... I absolutely love this dress! So cute and stylish. And great quality!\\n\\nI've styled it on my instragram @Darlindelilah ;) Katlin undisclosed                                                                                                                                                                                                                                                                                                                                                                                                                                                                                                                                                                                                                                                                                                                                                                                                                                                                                                                                                                                                                                                                                                                                                                                                                                                                                                                                                                                                                                                                                                \n",
      "26282  Took me roughly 30 minutes to place the order. Took me roughly 30 minutes to place the order. axa23035 US                                                                                                                                                                                                                                                                                                                                                                                                                                                                                                                                                                                                                                                                                                                                                                                                                                                                                                                                                                                                                                                                                                                                                                                                                                                                                                                                                                                                                                                                                                                                                              \n",
      "27869  Color me coral I am no stranger to pops of color in my hair...seriously I have had every color added at one point in time! I am a blonde so adding fun colors is pretty easy and the Wella paints were no exception! I really liked that I could literally paint it on and 20 minutes later wash it out and have a new color. It turned out a beautiful pinkish color and really subtle in my hair. I only had one color but can see how two would be easy to use together no dipping. I plan to get some of the darker shades and trying those out as the coral adds a soft pinky color that I like but I love to switch things up! This product makes it super easy and fun no nasty smell, no mixing of products, no salon visit (for fun shade). Color me impressed. #complimentary #SeeItCreateIt #PAINTSxInfluenster @Influenster @wellacolorcharm dduckworth1511 undisclosed                                                                                                                                                                                                                                                                                                                                                                                                                                                                                                                                                                                                                                                                                                                                                                                    \n",
      "28003  All I hoped it would be Waited a month of use to write a review.  All is great. It has a solid feel to it.  Key board I love. I got a 1 TB SSD drive and its as fast as I hoped it would be. The sound is wonderful. Would recommend this machine to anyone. Atwater Minneapolis, MN                                                                                                                                                                                                                                                                                                                                                                                                                                                                                                                                                                                                                                                                                                                                                                                                                                                                                                                                                                                                                                                                                                                                                                                                                                                                                                                                                                                   \n",
      "28119  Not submitted by reviewer. Comfortable fit, relax and great for summer work attire. @homeshop Undisclosed                                                                                                                                                                                                                                                                                                                                                                                                                                                                                                                                                                                                                                                                                                                                                                                                                                                                                                                                                                                                                                                                                                                                                                                                                                                                                                                                                                                                                                                                                                                                                              \n",
      "29312  So freaking smooth! This product is AH-MAZING! My face feels so refreshed from the #GenerationANR #contest #complimentary @esteelauder @Influenster seven day trial i received. Its super easy to apply (in a heart shape around your face) and rub in downward motions to your neck. My skin feels so rejuvenated and refreshed in the morning. Seriously this stuff is amazing! Amber Cleveland Ohio                                                                                                                                                                                                                                                                                                                                                                                                                                                                                                                                                                                                                                                                                                                                                                                                                                                                                                                                                                                                                                                                                                                                                                                                                                                                 \n",
      "29344  Best purchase So I had gotten myself one and had to go back and get my friend one too Mimi@88 undisclosed                                                                                                                                                                                                                                                                                                                                                                                                                                                                                                                                                                                                                                                                                                                                                                                                                                                                                                                                                                                                                                                                                                                                                                                                                                                                                                                                                                                                                                                                                                                                                              \n",
      "29567  I was burned. Dark marks did not fade. Today Im talking about the @neutrogena rapid tone repair correcting cream and serum. I received this for free from @influenster in exchange for an honest review. I was super excited to try these because of how affordable Neutrogena is. These products claim to work quickly for visible results in just one week. The vitamin C serum is 20% and was to be used once per day and the moisturizer was to be used twice per day. The label warned about burning and tingling being normal but I didnt experience that at all. \\n.\\n.\\nAround day 4 I noticed my skin around my eyes grew more and more sensitive so i skipped a day. My skin became tight and i figured it was from not moisturizing, so skipping the serum, i went in with just the moisturizer and my face (but especially my eye area started burning intensely. I skipped day six altogether and did not supplement with another product and this is how my face looks on day 7. \\n.\\n.\\nMy eyelids and undereyes are scaly and flaking and the outer corners of my eyes have these scabby marks that almost look like burns. My skin is taut and a little painful, while the dark marks that I tried to fade on my cheeks and around my mouth are still there. I cannot give this product a positive review and I will probably need to talk to an esthetician or a dermatologist to see how I can resolve this. Again, I really wanted to love these products because popular skincare has become so expensive. For the serum specifically, I think portioning out the proper amount in the capsules was a great idea. thecraftycrucian undisclosed    \n",
      "29918  ohh ok!! After I shampooed I applied to wet hair. I combed the product threw hair with a wide tooth comb, left on for 5minutes then rinsed out. So once I applied this I seen a slight color difference, my hair seemed to look a shade lighter, so thats good. Must say I was hoping for a more dramatic color change, I was jus expecting a big change, at least with my highlighted parts. Its OK.                                                 #KeepUpYourBlonde, #SLxInfluenster & @clairol_pro! (Received for complementary for testing purposes) jeanne21412 undisclosed                                                                                                                                                                                                                                                                                                                                                                                                                                                                                                                                                                                                                                                                                                                                                                                                                                                                                                                                                                                                                                                                                     \n",
      "30725  I ordered the Soldering Iron early on 9/21 and paid $42. I ordered the Soldering Iron early on 9/21 and paid $42.91 for 2nd day air hoping to get by 9/22 end of day. \\nI haven't received it even today 9/23 close to end of our work day. Now we dont need it any more and will have to return it.\\nNot happy with the time taken in shipping an in stock small item. Most good vendors will ship such item same day.\\nKauser Usmani\\n718-820-2114 haa747 US                                                                                                                                                                                                                                                                                                                                                                                                                                                                                                                                                                                                                                                                                                                                                                                                                                                                                                                                                                                                                                                                                                                                                                                                         \n",
      "31028  Best Weekender Bag I never thought i would love The Be Prepared until i tried one. I love the great organization inside as well as the way this bag opens up to see all your stuff and can be carried on the shoulder or with messenger strap.With that said my BP stash have grown quite big. Pin@yMomi040506 CT                                                                                                                                                                                                                                                                                                                                                                                                                                                                                                                                                                                                                                                                                                                                                                                                                                                                                                                                                                                                                                                                                                                                                                                                                                                                                                                                                      \n",
      "33627  Literally couldn't... Literally couldn't take the smell of this on my faces smells terrible (reminiscent of the blue tansy Luna line by Sunday Riley). Could@t tolerate the smell long enough to see if the product was any good anaelisem1 undisclosed                                                                                                                                                                                                                                                                                                                                                                                                                                                                                                                                                                                                                                                                                                                                                                                                                                                                                                                                                                                                                                                                                                                                                                                                                                                                                                                                                                                                                \n",
      "33864  Love LOVE LOVE LOVE my new spring favorite! Highly Recommend Chaddavisatl@me.com undisclosed                                                                                                                                                                                                                                                                                                                                                                                                                                                                                                                                                                                                                                                                                                                                                                                                                                                                                                                                                                                                                                                                                                                                                                                                                                                                                                                                                                                                                                                                                                                                                                           \n",
      "34642  too oily and makes too oily and makes skin look textured Wet n Wild Photo Focus Foundation Cream Beige \\nwould only recommend for super dry skin or if its hard for you to breakout. please make the formula better@for skin and is not long lasting. o wouldnt personally recommend:( ashlynh22 undisclosed                                                                                                                                                                                                                                                                                                                                                                                                                                                                                                                                                                                                                                                                                                                                                                                                                                                                                                                                                                                                                                                                                                                                                                                                                                                                                                                                                           \n",
      "34937  i got the color... i got the color charisma,  it is soooooo freaking pretty. i dont really wear lipstick because  I dont like how dry my lips feel but this makes me feel amazing #Mineralist #contest #complimentary @bareminerals @Influenster brittnic1 undisclosed                                                                                                                                                                                                                                                                                                                                                                                                                                                                                                                                                                                                                                                                                                                                                                                                                                                                                                                                                                                                                                                                                                                                                                                                                                                                                                                                                                                                 \n",
      "35279  Yum! These are so yummy. The whole family loves them and are a perfect snack for game night. Would recommend these to my family and friends.  #complementary #bagelbites #BagelBites #contest #complimentary @BagelBites @Influenster sillycilla_ undisclosed                                                                                                                                                                                                                                                                                                                                                                                                                                                                                                                                                                                                                                                                                                                                                                                                                                                                                                                                                                                                                                                                                                                                                                                                                                                                                                                                                                                                          \n",
      "35616  Super soft and so well made! I love this sweater. Size down tho. But I kept the XXL cuz I like to button it over a tee and black legging so it hide my tummy. Its so cute!   I reviewed it on my Instagram feed and they loved it @417bargainfindergirl and on the LTK shopping app follow me there too!! Karen undisclosed                                                                                                                                                                                                                                                                                                                                                                                                                                                                                                                                                                                                                                                                                                                                                                                                                                                                                                                                                                                                                                                                                                                                                                                                                                                                                                                                            \n",
      "36976  Jet Black Baby! They fit perfect & how would you not buy jeans called Jet Black?  I washed the 1rst pair after wearing them & threw away my old jeans they replaced.  The material is so fine, I think I could wear them w/ a tux. houstonwilliam99@gmail Austin, TX                                                                                                                                                                                                                                                                                                                                                                                                                                                                                                                                                                                                                                                                                                                                                                                                                                                                                                                                                                                                                                                                                                                                                                                                                                                                                                                                                                                                   \n",
      "36983  The fit s just perfect... The fit s just perfect for my body type. Color is just right. yessie1229@hotmail.com undisclosed                                                                                                                                                                                                                                                                                                                                                                                                                                                                                                                                                                                                                                                                                                                                                                                                                                                                                                                                                                                                                                                                                                                                                                                                                                                                                                                                                                                                                                                                                                                                             \n",
      "37681  I highly recommend AR Stoner and Midway Couldn't be happier with the upper I received, packed well and arrived fast. I put this upper on a PSA lower added a carry handle rear sight and after some sight adjustment it rings an eight inch steel plate @100 yrds even with my old eyes. I highly recommend  all the items I've purchased from Midway. Best selection, prices, quality and super fast shipping. If you're looking for a first rate upper look no further because you can't build one compared to this one at this price. Gene Southaven MS                                                                                                                                                                                                                                                                                                                                                                                                                                                                                                                                                                                                                                                                                                                                                                                                                                                                                                                                                                                                                                                                                                             \n",
      "40739  Loved this dress the... Loved this dress the color the style its just runs small. exhani@hotmail.com undisclosed                                                                                                                                                                                                                                                                                                                                                                                                                                                                                                                                                                                                                                                                                                                                                                                                                                                                                                                                                                                                                                                                                                                                                                                                                                                                                                                                                                                                                                                                                                                                                       \n",
      "41214  NEVER did  receive this I ordered this for my older neighbor for her dog.  I never did receive it.  Instead I was sent\\na pair of  stretchy pants (size 6 and at 74 yrs I wear a size 18 !!)  oh my gosh  so far off mark.  I would like to order a replacement pair for Bella,  in pink again.  If you need more information than was on my original order,  you can call me at 920 948 5019.\\n  Thank you,    I will correct the rating  if I get a happy ending  Mary Ritzenhein RitzyMom undisclosed                                                                                                                                                                                                                                                                                                                                                                                                                                                                                                                                                                                                                                                                                                                                                                                                                                                                                                                                                                                                                                                                                                                                                               \n",
      "41915  a bit bulky Generally very happy, but the third row is a bit bulkier than I would have liked ajs5034@gmail.com 20009                                                                                                                                                                                                                                                                                                                                                                                                                                                                                                                                                                                                                                                                                                                                                                                                                                                                                                                                                                                                                                                                                                                                                                                                                                                                                                                                                                                                                                                                                                                                                   \n",
      "42090  I love good price and comfort just what I needed for my job. Meikelrico13@gmail.com undisclosed                                                                                                                                                                                                                                                                                                                                                                                                                                                                                                                                                                                                                                                                                                                                                                                                                                                                                                                                                                                                                                                                                                                                                                                                                                                                                                                                                                                                                                                                                                                                                                        \n",
      "42567  Colorful and Beautiful Spinner! Gorgeous spinner and I love watching it! 😍😍 Sus@n Angier, NC                                                                                                                                                                                                                                                                                                                                                                                                                                                                                                                                                                                                                                                                                                                                                                                                                                                                                                                                                                                                                                                                                                                                                                                                                                                                                                                                                                                                                                                                                                                                                                           \n",
      "43754  pureology I just received this as soon as I open it I wanted to try it and I did let me tell you I never have tried this brand and wow loved how it made my hair feel and smell!            #pureologylove #contest #complimentary @pureology @Influenster glambykim undisclosed                                                                                                                                                                                                                                                                                                                                                                                                                                                                                                                                                                                                                                                                                                                                                                                                                                                                                                                                                                                                                                                                                                                                                                                                                                                                                                                                                                                       \n",
      "44203  Really surprised! I have tried so many products at such a range of prices and I'm really surprised at the quality for the price.  I've also had b@tox and filler pre Covid.  I have this product, Lactic Acid and the Super Buffet.  I use them together and have noticed a difference in my skin.  After about 3 weeks of use, my skin is smoother and brighter.  My wrinkles are definitely less noticeable.  I got a bunch of products for my teen and adult daughters' stockings.  I can't wait for them to try it! Lara in Texas TX                                                                                                                                                                                                                                                                                                                                                                                                                                                                                                                                                                                                                                                                                                                                                                                                                                                                                                                                                                                                                                                                                                                               \n",
      "45353  Working @Home Needed office chair to telework from home.  MUCH  easier to move around than kitchen chair‼️ Henry Undisclosed                                                                                                                                                                                                                                                                                                                                                                                                                                                                                                                                                                                                                                                                                                                                                                                                                                                                                                                                                                                                                                                                                                                                                                                                                                                                                                                                                                                                                                                                                                                                           \n",
      "45900  Junk PUMP JUNK CUSTOMER SERVICE I bought a well pump (.meaning the pump supplies water to my house) for my home online here. It was installed Wednesday 10/28/20 (hard plumbed in), and the pump started to leak from the shaft seal, and pressure switch. We noticed it a few hours after a puddle started under the pressure tank. I called the manufacturer (pentair) and they refused to warrant anything because there is no \"Date Code\" on the pump where ACE has a sticker on it. They said I had to call ACE. So I called ACE 888-827-4223 and the young lady told me to return it to the store. However I bought this online. I cannot simply \"remove\" the pump because I would be out of water for my family for a week or more waiting for a replacement pump.  I was put on hold after asking for a supervisor because the young lady on phone literally repeated herself over and over.  After 15 minutes i was disconnected.  I NEED A REPLACEMENT PUMP. I had to pay for shipping and I now have a small stream flowing through my garage rusting the new pressure tank and pooling water under my refrigerator. I cannot simply \"remove\" the tank.  Can anyone help? Norm Callahan, FL                                                                                                                                                                                                                                                                                                                                                                                                                                                                 \n",
      "46174  This was a preferred... This was a preferred flavor from the two bottles I received. It went well with a basic salad i did not try and add fruit because of the flavor@but it paired off great with vegetables! briannaaab23 undisclosed                                                                                                                                                                                                                                                                                                                                                                                                                                                                                                                                                                                                                                                                                                                                                                                                                                                                                                                                                                                                                                                                                                                                                                                                                                                                                                                                                                                                                               \n",
      "46508  New Look, New Recipe, New Awful Taste I'll keep this short. The old recipe was delicious and I've eaten one every day for years. The new recipe is barely edible and tougher on my stomach. @Clif Bar, please listen to your customers and bring back the old recipe. Or at the very least, A/B test the old recipe with the new one. I guarantee the old recipe will win by leaps and bounds. Jared North Carolina                                                                                                                                                                                                                                                                                                                                                                                                                                                                                                                                                                                                                                                                                                                                                                                                                                                                                                                                                                                                                                                                                                                                                                                                                                                    \n",
      "48507  Performs well but questionable Tread life I have roughly 17,000 on my tires and the dealer says i need to replace them. I thought they would last at least 25K or more since they have a 30K  warranty. I do not track or even drive aggressively. The tires seemed to perform well but I am disappointed with the tread life. Does anyone know if the warranty covers premature tread wear?\\r\\n\\r\\nLamar 919-215-6388 Lamar undisclosed                                                                                                                                                                                                                                                                                                                                                                                                                                                                                                                                                                                                                                                                                                                                                                                                                                                                                                                                                                                                                                                                                                                                                                                                                               \n",
      "48519  Storage pantry Nice cabinet. Instruction were pictures only. My preference is words and pictures sduran02@verizon.net PA                                                                                                                                                                                                                                                                                                                                                                                                                                                                                                                                                                                                                                                                                                                                                                                                                                                                                                                                                                                                                                                                                                                                                                                                                                                                                                                                                                                                                                                                                                                                               \n",
      "49567  Love the way it makes my face feel I've been using this product for a few days and I really love the way it makes my skin feel. \\n#GenerationANR #contest #complimentary @esteelauder @Influenster T Brandon, MS                                                                                                                                                                                                                                                                                                                                                                                                                                                                                                                                                                                                                                                                                                                                                                                                                                                                                                                                                                                                                                                                                                                                                                                                                                                                                                                                                                                                                                                       \n",
      "52697  ankles a little loose It fits well but if you have tiny ankles it may make them look smaller and odd smoky Sharonpmckee@mytlq.com                                                                                                                                                                                                                                                                                                                                                                                                                                                                                                                                                                                                                                                                                                                                                                                                                                                                                                                                                                                                                                                                                                                                                                                                                                                                                                                                                                                                                                                                                                                                      \n",
      "53067  Finally! The \"Right\" Red! You know the everywear t's are comfy, but honestly can be hit or miss with colors IRL and @ON, red usually means orange-red, washed-out-pinky-red, or only available during \"patriotic\" times on ON logowear. But this is the real deal - a rich red without defects. Stamp of approval. Now if this could happen for the other colors... Awesomeness Undisclosed                                                                                                                                                                                                                                                                                                                                                                                                                                                                                                                                                                                                                                                                                                                                                                                                                                                                                                                                                                                                                                                                                                                                                                                                                                                                            \n",
      "53708  Very nourishing and hydrating! I received two of the Hydra-Light Plumping Balm from @BECCAcosmetics to try out and review. BECCA describes the product as a \"plumping and smoothing lip balm infused with hyaluronic acid that gives lips a wash of buildable, light-reflecting colour.\" The shades I received were Mist, which is clear rather than baby blue as the stick might suggest, and Breeze, which is the color of ripe berries. I first tried the shade Mist, which goes on crystal clear. The formula is very moisturizing and slippery! It almost melts into your lips rather than being wiped on. I didn't notice much in the way of tingling or plumping, though the balm contains capsaicin and ginger extracts. Despite the lack of visible plumping, I really enjoyed how hydrating it was! Similar balms tend to just sit on top of my dry, flaky lips, but this sinks right in while leaving a very flattering shine. I look forward to using this more! EriP Morgantown, WV                                                                                                                                                                                                                                                                                                                                                                                                                                                                                                                                                                                                                                                                       \n",
      "53911  Could have work When I was using the headphones they sounded clear but it only played in one ear Supercat113 17715 Walter st Lansing Illinois                                                                                                                                                                                                                                                                                                                                                                                                                                                                                                                                                                                                                                                                                                                                                                                                                                                                                                                                                                                                                                                                                                                                                                                                                                                                                                                                                                                                                                                                                                                          \n",
      "54062  Beautiful laptop I bought my new HP Envy 17t one month ago. So far, it's a great computer. I got a 17.3\" Slim Topload case for it, which doesn't have anything else but room for the laptop. The laptop has all the new features of a high-end laptop that I wanted: a numeric pad, a fingerprint reader (which works with just a light tap), touchscreen display, DVD writer, SD card reader and RJ45 jack. I got the 1 TB SSD drive, which makes it very quiet. I like the keyboard feel which is similar to the HP Elite keyboard. It has a dim backlight and a medium backlight setting (F5 toggle). Performance is great with the Intel i7-10510U processor and 16 GB RAM. I like the low weight and thin size for everything in this laptop. softwaretailor1 Nevada USA                                                                                                                                                                                                                                                                                                                                                                                                                                                                                                                                                                                                                                                                                                                                                                                                                                                                                          \n",
      "55355  Really great Really easy to take apart and reassembly and to clean Jocey 1333 w boadway rd mesa, az 85295                                                                                                                                                                                                                                                                                                                                                                                                                                                                                                                                                                                                                                                                                                                                                                                                                                                                                                                                                                                                                                                                                                                                                                                                                                                                                                                                                                                                                                                                                                                                                              \n",
      "55558  Such cute bottles These bottles are super cute but also really functional. I love the shape of the bottles and my son took to them instantly. My son is breastfed but he had no trouble switching between this bottle and the breast. I received this product free as a part of the Stellar Product Testing Panel. Weslin@777 undisclosed                                                                                                                                                                                                                                                                                                                                                                                                                                                                                                                                                                                                                                                                                                                                                                                                                                                                                                                                                                                                                                                                                                                                                                                                                                                                                                                              \n",
      "55639  Not submitted by reviewer. Love this, great quality, material, length. Also got army green - Need more colors. suep12369@comcast.net Undisclosed                                                                                                                                                                                                                                                                                                                                                                                                                                                                                                                                                                                                                                                                                                                                                                                                                                                                                                                                                                                                                                                                                                                                                                                                                                                                                                                                                                                                                                                                                                                       \n",
      "55664  Shoe I brought this last night and i. Am in love with them I give them a five star review for now wood love to give them more but for now I just give them a five star review can't  right to try other Free sample millerabbie123@gmail.com Minnesota - MN                                                                                                                                                                                                                                                                                                                                                                                                                                                                                                                                                                                                                                                                                                                                                                                                                                                                                                                                                                                                                                                                                                                                                                                                                                                                                                                                                                                                            \n",
      "56011  Alright my beautiful... Alright my beautiful ladies, if you are looking for something affordable good quality,smooth, natural and glass finish @revlon skinlights is your best-friend. Highly recommended to all my friends. ginnaa undisclosed                                                                                                                                                                                                                                                                                                                                                                                                                                                                                                                                                                                                                                                                                                                                                                                                                                                                                                                                                                                                                                                                                                                                                                                                                                                                                                                                                                                                                        \n",
      "58244  Axe Wild Bamboo Body Spray Review Recently received this complementary sample product from Influenster, and I got to say the body spray did not have the best fragrance and smell. It was ok and bearable but it was just not for my liking.\\n\\n#AxeWildBamboo #contest #complimentary @axe @Influenster ratalupe undisclosed                                                                                                                                                                                                                                                                                                                                                                                                                                                                                                                                                                                                                                                                                                                                                                                                                                                                                                                                                                                                                                                                                                                                                                                                                                                                                                                                          \n",
      "58438  Great shirt Both shirts I got with this order were both very good quality shirts X@viX undisclosed                                                                                                                                                                                                                                                                                                                                                                                                                                                                                                                                                                                                                                                                                                                                                                                                                                                                                                                                                                                                                                                                                                                                                                                                                                                                                                                                                                                                                                                                                                                                                                     \n",
      "59898  LOVE This is the perfect trashcan very durable very strong and very nice looking. I love how it is tall but a perfect shape. I love the size of this and the style and the design of this is truly amazing the color is wonderful also.  This is the perfect size for any room in my house but is perfect for my office. CARLOS33 ARMYHERO@HOTMAIL.COM                                                                                                                                                                                                                                                                                                                                                                                                                                                                                                                                                                                                                                                                                                                                                                                                                                                                                                                                                                                                                                                                                                                                                                                                                                                                                                                 \n",
      "60933  I love the highlighter... I love the highlighter revlon really did good on this launch I recommend for all my dark skin ladies this foundation is perfect #contest #complimentary #LiveBoldly #RevlonMakeup @revlon @Influenster joanw6 undisclosed                                                                                                                                                                                                                                                                                                                                                                                                                                                                                                                                                                                                                                                                                                                                                                                                                                                                                                                                                                                                                                                                                                                                                                                                                                                                                                                                                                                                                    \n",
      "61524  Sporty and comfortable at the same time!! For future pair make the the gold in the heel a air bubble in the same shape Dogg957@420 undisclosed                                                                                                                                                                                                                                                                                                                                                                                                                                                                                                                                                                                                                                                                                                                                                                                                                                                                                                                                                                                                                                                                                                                                                                                                                                                                                                                                                                                                                                                                                                                         \n",
      "61583  Get one asap Went on a road trip with my buddy and the car we hired had no functional music system. He had a the Clip 3 in his trunk we immediately got it out and the fun begun. Great sound quality (I'm an audiophile so yeah) perfect portability and the battery is exemplary. We had a 6 hour drive across provinces and it kept us entertained throughout the drive and more hours in. Best genres include EDM and pop. Hip hop also comes of well with deep bases and clear mids. Afro pop and house were expelled very as well. Overall it's ana amazing gadget to have perfect for medium sized rooms/apartments, road trips and even hiking. Definitely a good part of you digital arsenal Dreu Lusaka                                                                                                                                                                                                                                                                                                                                                                                                                                                                                                                                                                                                                                                                                                                                                                                                                                                                                                                                                      \n",
      "62179  Fountain of youth I love love it! my skin was feeling dull and dry, until I received my Dermintensives voxbox. after using it for 30 days I can honestly say I have seen a boost on my skin Radiance as well as a softness of my skin I use it every other night followed with moisturizer, following it with moisturizer is very important if not it will dry out your skin. I will definitely be purchasing this at the store as soon as I run out of it thank you again influenster! revitalift #LOrealSkin #DermIntensives #complimentary @lorealparis @Influenster sandypadilla13 undisclosed                                                                                                                                                                                                                                                                                                                                                                                                                                                                                                                                                                                                                                                                                                                                                                                                                                                                                                                                                                                                                                                                     \n",
      "63013  Comfortable My new favorite lounging sweater. I must order ur in different colors Kikainluv@gmail.com Undisclosed                                                                                                                                                                                                                                                                                                                                                                                                                                                                                                                                                                                                                                                                                                                                                                                                                                                                                                                                                                                                                                                                                                                                                                                                                                                                                                                                                                                                                                                                                                                                                      \n",
      "65893  Frustraited with this purchase at assembly This Treadmill is almost a full assembly!! The directions are complex as it can get. Anyone having trouble keeping belt tight and straight ??? Useless at this point.  The belt keeps moving one side or the other I cant get the tentioner screws right. Help!!! 300.00 down the drain if i cant get it right.  I have watched so many videos on Youtube to help no help on this model  . dreamzmaker40@yahoo.com dreamzmaker40 undisclosed                                                                                                                                                                                                                                                                                                                                                                                                                                                                                                                                                                                                                                                                                                                                                                                                                                                                                                                                                                                                                                                                                                                                                                                \n",
      "66392  out of box a great vacuum easy to set up and use. makes cleaning a little more enjoyable. excellent hoovering jordan.lorenz@ucsf.edu                                                                                                                                                                                                                                                                                                                                                                                                                                                                                                                                                                                                                                                                                                                                                                                                                                                                                                                                                                                                                                                                                                                                                                                                                                                                                                                                                                                                                                                                                                                                   \n",
      "66577  My favorite soda drink... My favorite soda drink. Amazing flavor and you don‚Äôt taste too much of the ginger. Love to mix it up with my favorite liquor @canadadry @Influenster massielg undisclosed                                                                                                                                                                                                                                                                                                                                                                                                                                                                                                                                                                                                                                                                                                                                                                                                                                                                                                                                                                                                                                                                                                                                                                                                                                                                                                                                                                                                                                                                  \n",
      "70498  Not submitted by reviewer. See other reviews for more detailed feedback. neuying@gmail.com Undisclosed                                                                                                                                                                                                                                                                                                                                                                                                                                                                                                                                                                                                                                                                                                                                                                                                                                                                                                                                                                                                                                                                                                                                                                                                                                                                                                                                                                                                                                                                                                                                                                 \n",
      "70863  this product is incredible I already love @LOral products but this L'Oral Paris Age Perfect Rosy Tone Cooling Night Moisturizer takes it to the next level! It was in my box box to try it out and boy was I happy with the results. It made my face and neck  feel dewy and hydrated. I also applied the residual to my hands and Arms and it also had a noticeable improvement on the appearance of my skin. Ladies I totally recommend this product! #loreal #influenster #voxbox charlie_alejandro undisclosed                                                                                                                                                                                                                                                                                                                                                                                                                                                                                                                                                                                                                                                                                                                                                                                                                                                                                                                                                                                                                                                                                                                                                     \n",
      "72484  100% protection I receive my Degree dry Spray deodorant and I love it! It smells beautifully and provides me@full protection 24hrs a day! Is very effective. Definitely recommend it! marielch undisclosed                                                                                                                                                                                                                                                                                                                                                                                                                                                                                                                                                                                                                                                                                                                                                                                                                                                                                                                                                                                                                                                                                                                                                                                                                                                                                                                                                                                                                                                             \n",
      "72972  wonderful First Id like to thank @influenster for sending me products from @garnierusa for FREE In exchange for an honest review! This facial cleanser is wonderful and has become apart of my morning routine before work. Its very light, which makes it perfect for a quick, morning face wash to clean & liven up the skin. It also does not have any exfoliating factors which I rather liked for this type of wash. I have not observed any brightening effects yet but will write a further review if I do. This will continue to be apart of my morning routine and I will continue to recommend this to my friends! madisenl2 undisclosed                                                                                                                                                                                                                                                                                                                                                                                                                                                                                                                                                                                                                                                                                                                                                                                                                                                                                                                                                                                                                     \n",
      "74305  it was good LMFOOAOAOAOAOOOOO cheap and a does the job idk add me on tik tok @rippadriana daddy james Ny                                                                                                                                                                                                                                                                                                                                                                                                                                                                                                                                                                                                                                                                                                                                                                                                                                                                                                                                                                                                                                                                                                                                                                                                                                                                                                                                                                                                                                                                                                                                                               \n",
      "74785  My Maybelline #VoxBox is Here!!! Thank you @Influensterfor this @Maybelline #voxbox  it's a struggle for me to find a lip gloss that doesn't feel sticky or greasy on my lips, @Maybelline Nailed it!! I love Everything  about this new  Lifter gloss.  The packaging is Stunning, the formula is so Stunning, lightweight & gives my lips that boost and shine I've been looking for without feeling sticky. at all. The aplacator is Perfection it glides on smoothly and looks fabulous by itself or on top of your favorite lipstick This #Maybelline Lifter gloss is a new staple in my makeup routine. I highly recommend trying this product out for yourself you will not be disappointed \\n#maybelline #lipgloss #influenster #InfluensterVox #makeup #voxbox #beauty #complimentary #musthave #vox #maybellineVoxbox #lippie penny_warf undisclosed                                                                                                                                                                                                                                                                                                                                                                                                                                                                                                                                                                                                                                                                                                                                                                                                         \n",
      "75789  Title not provided Just enough give to make them all day comfortable, and deep front pockets! hspgns@gmail.com Undisclosed                                                                                                                                                                                                                                                                                                                                                                                                                                                                                                                                                                                                                                                                                                                                                                                                                                                                                                                                                                                                                                                                                                                                                                                                                                                                                                                                                                                                                                                                                                                                             \n",
      "76133  Not submitted by reviewer. Makes me feel a little fat. Because it's so puffy. And the flare.  But I will say feels like great quality and I do like the color! Great for winter color tones. dashneilsen@hotmail.com Undisclosed                                                                                                                                                                                                                                                                                                                                                                                                                                                                                                                                                                                                                                                                                                                                                                                                                                                                                                                                                                                                                                                                                                                                                                                                                                                                                                                                                                                                                                       \n",
      "76218  Small bites and weight control dog food. Small bites and the weight control dog food seems to be the best for my doggie nemo. He has weight issues and need to lose 15 lbs. Ty Chris l 6 southern rd springfield mass                                                                                                                                                                                                                                                                                                                                                                                                                                                                                                                                                                                                                                                                                                                                                                                                                                                                                                                                                                                                                                                                                                                                                                                                                                                                                                                                                                                                                                                  \n",
      "79262  Classic Great quality and fit.  You'll hate yourself for cutting the tongue off, don't do it. @_TokyoMike_ undisclosed                                                                                                                                                                                                                                                                                                                                                                                                                                                                                                                                                                                                                                                                                                                                                                                                                                                                                                                                                                                                                                                                                                                                                                                                                                                                                                                                                                                                                                                                                                                                                 \n",
      "79896  Easy to use EASY WAY TO COLOR YOUR HAIR AT HOME! \\nQuarantine hair. We all have it at this point. Salons are closed, and our roots are a mile long. Magic Root Rescue from @lorealusa is the perfect product to get us through! Its super easy to use and it covers those pesky grays in just 10 minutes. It blended in well with the rest of my hair! bekahmeyer undisclosed                                                                                                                                                                                                                                                                                                                                                                                                                                                                                                                                                                                                                                                                                                                                                                                                                                                                                                                                                                                                                                                                                                                                                                                                                                                                                          \n",
      "80701  Eaerring Supply Kit Please let me know when the cost is reduced.  I need to purchase 5 for gifts.\\r\\nI have bought these before and they are so handy.\\r\\nThank you,\\r\\nJulia Chastain\\r\\njmagness@gvtc.com Judy New Braunfels, Texas                                                                                                                                                                                                                                                                                                                                                                                                                                                                                                                                                                                                                                                                                                                                                                                                                                                                                                                                                                                                                                                                                                                                                                                                                                                                                                                                                                                                                                  \n",
      "81251  My favorite too bad  i... My favorite too bad  i wasted this so quickly last all day while Im at work pricey but I love@this ashleyvee undisclosed                                                                                                                                                                                                                                                                                                                                                                                                                                                                                                                                                                                                                                                                                                                                                                                                                                                                                                                                                                                                                                                                                                                                                                                                                                                                                                                                                                                                                                                                                                                     \n",
      "83002  Heavy Duty I use a lot of foil pans. I do a lot of BBQing and these pans are super helpful for prepping and transporting product to and from the smoker. This foil pan will hold up to the heaviest foods. Yesterday, I used this pan to smoke 4 racks of St. Louis style ribs and it did the job with ease.\\r\\n\\r\\nThis pan will hold up to anything you want to use it for in the kitchen. I have used other foil pans similar in size but the strength and durability of this pan beats them all. I would absolutely recommend the pan to others and will buy more of them when they are on the market. PastorDC Mogadore, OH                                                                                                                                                                                                                                                                                                                                                                                                                                                                                                                                                                                                                                                                                                                                                                                                                                                                                                                                                                                                                                       \n",
      "83173  Good But Not Great Overall, I would describe these trees as good but not great. I guess that for the price they are about as good as one could expect, but they are definitely not high quality. For outside in a planter about 75 feet from the street they are fine. Harry undisclosed                                                                                                                                                                                                                                                                                                                                                                                                                                                                                                                                                                                                                                                                                                                                                                                                                                                                                                                                                                                                                                                                                                                                                                                                                                                                                                                                                                               \n",
      "83312  Falls Flat Thank you @bzzagent for sending me my first product to test/review which is the L'oreal Paris Air Volume Mega Mascara!\\n\\nI had high hopes for this mascara but it fell flat on delivery, as my lashes didn't look lengthened or voluminous. The applicator didn't evenly distribute the mascara and my lashes. Also I was unable to achieve an even coating of the mascara I tried repeatedly to coat my lashes but was unsuccessful. Lash Queen San Francisco Bay Area                                                                                                                                                                                                                                                                                                                                                                                                                                                                                                                                                                                                                                                                                                                                                                                                                                                                                                                                                                                                                                                                                                                                                                                    \n",
      "\n",
      "       PII  regex_PII  \n",
      "1635   0    1          \n",
      "1956   0    1          \n",
      "4708   0    1          \n",
      "7024   0    1          \n",
      "7674   0    1          \n",
      "9559   0    1          \n",
      "11919  0    1          \n",
      "12244  0    1          \n",
      "12528  0    1          \n",
      "12620  0    1          \n",
      "13030  0    1          \n",
      "14800  0    1          \n",
      "14874  0    1          \n",
      "15054  0    1          \n",
      "15689  0    1          \n",
      "16415  0    1          \n",
      "16763  0    1          \n",
      "16767  0    1          \n",
      "18073  0    1          \n",
      "18074  0    1          \n",
      "18134  0    1          \n",
      "18988  0    1          \n",
      "20620  0    1          \n",
      "21446  0    1          \n",
      "22377  0    1          \n",
      "23169  0    1          \n",
      "23184  0    1          \n",
      "23883  0    1          \n",
      "24391  0    1          \n",
      "25816  0    1          \n",
      "26282  0    1          \n",
      "27869  0    1          \n",
      "28003  0    1          \n",
      "28119  0    1          \n",
      "29312  0    1          \n",
      "29344  0    1          \n",
      "29567  0    1          \n",
      "29918  0    1          \n",
      "30725  0    1          \n",
      "31028  0    1          \n",
      "33627  0    1          \n",
      "33864  0    1          \n",
      "34642  0    1          \n",
      "34937  0    1          \n",
      "35279  0    1          \n",
      "35616  0    1          \n",
      "36976  0    1          \n",
      "36983  0    1          \n",
      "37681  0    1          \n",
      "40739  0    1          \n",
      "41214  0    1          \n",
      "41915  0    1          \n",
      "42090  0    1          \n",
      "42567  0    1          \n",
      "43754  0    1          \n",
      "44203  0    1          \n",
      "45353  0    1          \n",
      "45900  0    1          \n",
      "46174  0    1          \n",
      "46508  0    1          \n",
      "48507  0    1          \n",
      "48519  0    1          \n",
      "49567  0    1          \n",
      "52697  0    1          \n",
      "53067  0    1          \n",
      "53708  0    1          \n",
      "53911  0    1          \n",
      "54062  0    1          \n",
      "55355  0    1          \n",
      "55558  0    1          \n",
      "55639  0    1          \n",
      "55664  0    1          \n",
      "56011  0    1          \n",
      "58244  0    1          \n",
      "58438  0    1          \n",
      "59898  0    1          \n",
      "60933  0    1          \n",
      "61524  0    1          \n",
      "61583  0    1          \n",
      "62179  0    1          \n",
      "63013  0    1          \n",
      "65893  0    1          \n",
      "66392  0    1          \n",
      "66577  0    1          \n",
      "70498  0    1          \n",
      "70863  0    1          \n",
      "72484  0    1          \n",
      "72972  0    1          \n",
      "74305  0    1          \n",
      "74785  0    1          \n",
      "75789  0    1          \n",
      "76133  0    1          \n",
      "76218  0    1          \n",
      "79262  0    1          \n",
      "79896  0    1          \n",
      "80701  0    1          \n",
      "81251  0    1          \n",
      "83002  0    1          \n",
      "83173  0    1          \n",
      "83312  0    1          \n",
      "<string>:1: FutureWarning: Passing a negative integer is deprecated in version 1.0 and will not be supported in future version. Instead, use None to not limit the column width."
     ]
    }
   ],
   "source": [
    "pd.set_option('display.max_colwidth', -1)\n",
    "pd.set_option('display.max_columns', None)\n",
    "pd.set_option('display.max_rows', None)\n",
    "\n",
    "test = FP[['ALL_TEXT','PII','regex_PII']]\n",
    "test.head(100)"
   ]
  },
  {
   "cell_type": "code",
   "execution_count": null,
   "metadata": {},
   "outputs": [],
   "source": []
  },
  {
   "cell_type": "code",
   "execution_count": null,
   "metadata": {},
   "outputs": [],
   "source": []
  },
  {
   "cell_type": "code",
   "execution_count": null,
   "metadata": {},
   "outputs": [],
   "source": []
  },
  {
   "cell_type": "code",
   "execution_count": 36,
   "metadata": {},
   "outputs": [
    {
     "data": {
      "application/vnd.jupyter.widget-view+json": {
       "model_id": "13bae496c5c64c449df082595e1188d3",
       "version_major": 2,
       "version_minor": 0
      },
      "text/plain": [
       "VBox()"
      ]
     },
     "metadata": {},
     "output_type": "display_data"
    },
    {
     "data": {
      "application/vnd.jupyter.widget-view+json": {
       "model_id": "",
       "version_major": 2,
       "version_minor": 0
      },
      "text/plain": [
       "FloatProgress(value=0.0, bar_style='info', description='Progress:', layout=Layout(height='25px', width='50%'),…"
      ]
     },
     "metadata": {},
     "output_type": "display_data"
    }
   ],
   "source": [
    "from pyspark.sql.types import *\n",
    "\n",
    "mySchema = StructType([StructField(\"UGC_ID\", StringType(), True)\\\n",
    ",StructField(\"REVIEW_HEADLINE\", StringType(), True)\\\n",
    ",StructField(\"REVIEW_COMMENTS\", StringType(), True)\\\n",
    ",StructField(\"REVIEWER_NICKNAME\", StringType(), True)\\\n",
    ",StructField(\"REVIEWER_LOCATION\", StringType(), True)\\\n",
    ",StructField(\"PII\", IntegerType(), True)\\\n",
    ",StructField(\"ALL_TEXT\", StringType(), True)\\\n",
    ",StructField(\"regex_cc\", BooleanType(), True)\\\n",
    ",StructField(\"regex_soc_sec\", BooleanType(), True)\\\n",
    ",StructField(\"regex_phone10\", BooleanType(), True)\\\n",
    ",StructField(\"regex_email\", BooleanType(), True)\\\n",
    ",StructField(\"regex_handle\", BooleanType(), True)\\\n",
    ",StructField(\"regex_USaddress_loc\", BooleanType(), True)\\\n",
    ",StructField(\"regex_USaddress_comments\", BooleanType(), True)\\\n",
    ",StructField(\"regex_USaddress_headline\", BooleanType(), True)\\\n",
    ",StructField(\"regex_PII\", IntegerType(), True)])   \n",
    "\n"
   ]
  },
  {
   "cell_type": "code",
   "execution_count": 40,
   "metadata": {},
   "outputs": [
    {
     "data": {
      "application/vnd.jupyter.widget-view+json": {
       "model_id": "562eb4a1a5fe4001bfd4187bd8a04b92",
       "version_major": 2,
       "version_minor": 0
      },
      "text/plain": [
       "VBox()"
      ]
     },
     "metadata": {},
     "output_type": "display_data"
    },
    {
     "data": {
      "application/vnd.jupyter.widget-view+json": {
       "model_id": "",
       "version_major": 2,
       "version_minor": 0
      },
      "text/plain": [
       "FloatProgress(value=0.0, bar_style='info', description='Progress:', layout=Layout(height='25px', width='50%'),…"
      ]
     },
     "metadata": {},
     "output_type": "display_data"
    }
   ],
   "source": [
    "#Turn into spark dataframe in order to write to Snowflake\n",
    "#Couldn't get write_pandas() to work to write directly from pandas to Snowflake\n",
    "FP = spark.createDataFrame(FP, schema=mySchema)"
   ]
  },
  {
   "cell_type": "code",
   "execution_count": 41,
   "metadata": {},
   "outputs": [
    {
     "data": {
      "application/vnd.jupyter.widget-view+json": {
       "model_id": "e3cf59850f1b47429573adf46559eabb",
       "version_major": 2,
       "version_minor": 0
      },
      "text/plain": [
       "VBox()"
      ]
     },
     "metadata": {},
     "output_type": "display_data"
    },
    {
     "data": {
      "application/vnd.jupyter.widget-view+json": {
       "model_id": "",
       "version_major": 2,
       "version_minor": 0
      },
      "text/plain": [
       "FloatProgress(value=0.0, bar_style='info', description='Progress:', layout=Layout(height='25px', width='50%'),…"
      ]
     },
     "metadata": {},
     "output_type": "display_data"
    }
   ],
   "source": [
    "SNOWFLAKE_SOURCE_NAME = \"net.snowflake.spark.snowflake\"\n",
    "\n",
    "sfOptions = {\n",
    "  'sfURL' : 'powerreviews.snowflakecomputing.com',\n",
    "  'sfAccount' : 'powerreviews',\n",
    "  'sfUser' : username,\n",
    "  'sfPassword' : password,\n",
    "  'sfDatabase' : 'ANALYTICS_WORKSHOP',\n",
    "  'sfSchema' : 'DATA_SCIENCE',\n",
    "  'sfWarehouse' : 'LOWER_ENV_WAREHOUSE'\n",
    "}"
   ]
  },
  {
   "cell_type": "code",
   "execution_count": 42,
   "metadata": {},
   "outputs": [
    {
     "data": {
      "application/vnd.jupyter.widget-view+json": {
       "model_id": "3ce4f9adb28b42b0a4bc2dcb9eb6c09d",
       "version_major": 2,
       "version_minor": 0
      },
      "text/plain": [
       "VBox()"
      ]
     },
     "metadata": {},
     "output_type": "display_data"
    },
    {
     "data": {
      "application/vnd.jupyter.widget-view+json": {
       "model_id": "",
       "version_major": 2,
       "version_minor": 0
      },
      "text/plain": [
       "FloatProgress(value=0.0, bar_style='info', description='Progress:', layout=Layout(height='25px', width='50%'),…"
      ]
     },
     "metadata": {},
     "output_type": "display_data"
    }
   ],
   "source": [
    "FP.write.format(SNOWFLAKE_SOURCE_NAME).options(**sfOptions) \\\n",
    "    .option(\"dbtable\",\"PII_FP_test\").mode(\"append\").save()\n"
   ]
  },
  {
   "cell_type": "code",
   "execution_count": null,
   "metadata": {},
   "outputs": [],
   "source": []
  },
  {
   "cell_type": "code",
   "execution_count": null,
   "metadata": {},
   "outputs": [],
   "source": []
  },
  {
   "cell_type": "code",
   "execution_count": null,
   "metadata": {},
   "outputs": [],
   "source": []
  },
  {
   "cell_type": "code",
   "execution_count": null,
   "metadata": {},
   "outputs": [],
   "source": []
  },
  {
   "cell_type": "code",
   "execution_count": null,
   "metadata": {},
   "outputs": [],
   "source": []
  },
  {
   "cell_type": "code",
   "execution_count": null,
   "metadata": {},
   "outputs": [],
   "source": []
  },
  {
   "cell_type": "code",
   "execution_count": null,
   "metadata": {},
   "outputs": [],
   "source": []
  },
  {
   "cell_type": "code",
   "execution_count": 8,
   "metadata": {},
   "outputs": [
    {
     "data": {
      "application/vnd.jupyter.widget-view+json": {
       "model_id": "ead1ed6098a147689550436276cb855f",
       "version_major": 2,
       "version_minor": 0
      },
      "text/plain": [
       "VBox()"
      ]
     },
     "metadata": {},
     "output_type": "display_data"
    },
    {
     "data": {
      "application/vnd.jupyter.widget-view+json": {
       "model_id": "",
       "version_major": 2,
       "version_minor": 0
      },
      "text/plain": [
       "FloatProgress(value=0.0, bar_style='info', description='Progress:', layout=Layout(height='25px', width='50%'),…"
      ]
     },
     "metadata": {},
     "output_type": "display_data"
    },
    {
     "name": "stdout",
     "output_type": "stream",
     "text": [
      "'My name is {{NAME}} {{NAME}} can be contacted on {{EMAIL}}, or {{PHONE}} or 123-3421 or {{PHONE}} soc sec num {{SSN}} or without dashes 123023240 or with periods {{SSN}} or at 414 {{NAME}} {{NAME}} {{NAME}}, IL or in {{NAME}} or in {{NAME}}, IL. I work at The {{NAME}} {{NAME}}. Is this a Name? {{NAME}} card number is 1231 1231 1231 1231 or 1231-1231-1231-1231. {{NAME}} is {{URL}} or {{URL}} or amazon.com'"
     ]
    }
   ],
   "source": [
    "#Ok if it doesn't get phone # with 7 digits bc no one could call without area code anyway\n",
    "#Would mark any location with Name, only want addresses with street info in them\n",
    "text = \"My name is Apple Smith can be contacted on example@example.com, or 1800 555-5555 or 123-3421 or +1(800)452-1234 \\\n",
    "soc sec num 123-02-3240 or without dashes 123023240 or with periods 123.02.3240 \\\n",
    "or at 414 Wrightwood Ave Chicago, IL or in Chicago or in Chicago, IL. \\\n",
    "I work at The North Face. Is this a Name? \\\n",
    "Credit card number is 1231 1231 1231 1231 or 1231-1231-1231-1231. \\\n",
    "Website is http://www.amazon.com or www.amazon.com or amazon.com\"\n",
    " \n",
    "\n",
    "# Replaces the phone number and email addresse with anonymous IDs.\n",
    "scrubadub.clean(text)\n"
   ]
  },
  {
   "cell_type": "code",
   "execution_count": 9,
   "metadata": {},
   "outputs": [
    {
     "data": {
      "application/vnd.jupyter.widget-view+json": {
       "model_id": "0df02977736242ff8d7e0fc145d22f9e",
       "version_major": 2,
       "version_minor": 0
      },
      "text/plain": [
       "VBox()"
      ]
     },
     "metadata": {},
     "output_type": "display_data"
    },
    {
     "data": {
      "application/vnd.jupyter.widget-view+json": {
       "model_id": "",
       "version_major": 2,
       "version_minor": 0
      },
      "text/plain": [
       "FloatProgress(value=0.0, bar_style='info', description='Progress:', layout=Layout(height='25px', width='50%'),…"
      ]
     },
     "metadata": {},
     "output_type": "display_data"
    },
    {
     "name": "stdout",
     "output_type": "stream",
     "text": [
      "'My name is Apple Smith can be contacted on {{EMAIL}}, or {{PHONE}} or 123-3421 or {{PHONE}} soc sec num {{SSN}} or without dashes 123023240 or with periods {{SSN}} or at 414 Wrightwood Ave Chicago, IL or in Chicago or in Chicago, IL. I work at The North Face. Is this a Name? Credit card number is 1231 1231 1231 1231 or 1231-1231-1231-1231. Website is {{URL}} or {{URL}} or amazon.com'"
     ]
    }
   ],
   "source": [
    "scrubber = scrubadub.Scrubber()\n",
    "scrubber.remove_detector('name')\n",
    "scrubber.clean(text)"
   ]
  },
  {
   "cell_type": "code",
   "execution_count": null,
   "metadata": {},
   "outputs": [],
   "source": []
  },
  {
   "cell_type": "code",
   "execution_count": null,
   "metadata": {},
   "outputs": [],
   "source": []
  },
  {
   "cell_type": "code",
   "execution_count": 14,
   "metadata": {},
   "outputs": [
    {
     "data": {
      "application/vnd.jupyter.widget-view+json": {
       "model_id": "5fb99d67a37342d8aca7280df63a5168",
       "version_major": 2,
       "version_minor": 0
      },
      "text/plain": [
       "VBox()"
      ]
     },
     "metadata": {},
     "output_type": "display_data"
    },
    {
     "data": {
      "application/vnd.jupyter.widget-view+json": {
       "model_id": "",
       "version_major": 2,
       "version_minor": 0
      },
      "text/plain": [
       "FloatProgress(value=0.0, bar_style='info', description='Progress:', layout=Layout(height='25px', width='50%'),…"
      ]
     },
     "metadata": {},
     "output_type": "display_data"
    }
   ],
   "source": [
    "txt = \"My credit card is 1234 123412341234\"\n",
    "x = re.search('\\d{4}(-|\\.|\\s)?\\d{4}(-|\\.|\\s)?\\d{4}(-|\\.|\\s)?\\d{4}', txt)\n"
   ]
  },
  {
   "cell_type": "code",
   "execution_count": 15,
   "metadata": {},
   "outputs": [
    {
     "data": {
      "application/vnd.jupyter.widget-view+json": {
       "model_id": "4e3eef7d74a040f293474e03140b2e65",
       "version_major": 2,
       "version_minor": 0
      },
      "text/plain": [
       "VBox()"
      ]
     },
     "metadata": {},
     "output_type": "display_data"
    },
    {
     "data": {
      "application/vnd.jupyter.widget-view+json": {
       "model_id": "",
       "version_major": 2,
       "version_minor": 0
      },
      "text/plain": [
       "FloatProgress(value=0.0, bar_style='info', description='Progress:', layout=Layout(height='25px', width='50%'),…"
      ]
     },
     "metadata": {},
     "output_type": "display_data"
    },
    {
     "name": "stdout",
     "output_type": "stream",
     "text": [
      "<re.Match object; span=(18, 35), match='1234 123412341234'>"
     ]
    }
   ],
   "source": [
    "x"
   ]
  },
  {
   "cell_type": "code",
   "execution_count": null,
   "metadata": {},
   "outputs": [],
   "source": []
  },
  {
   "cell_type": "code",
   "execution_count": null,
   "metadata": {},
   "outputs": [],
   "source": [
    "conn.cursor().execute(\"drop table analytics_workshop.data_science.PII_FP_test1\")"
   ]
  }
 ],
 "metadata": {
  "kernelspec": {
   "display_name": "PySpark",
   "language": "",
   "name": "pysparkkernel"
  },
  "language_info": {
   "codemirror_mode": {
    "name": "python",
    "version": 2
   },
   "mimetype": "text/x-python",
   "name": "pyspark",
   "pygments_lexer": "python2"
  }
 },
 "nbformat": 4,
 "nbformat_minor": 4
}
