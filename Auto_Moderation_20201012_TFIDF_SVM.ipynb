{
 "cells": [
  {
   "cell_type": "code",
   "execution_count": 1,
   "metadata": {},
   "outputs": [
    {
     "data": {
      "application/vnd.jupyter.widget-view+json": {
       "model_id": "56eb4a4ab5b64bf98c402c5d998bc380",
       "version_major": 2,
       "version_minor": 0
      },
      "text/plain": [
       "VBox()"
      ]
     },
     "metadata": {},
     "output_type": "display_data"
    },
    {
     "name": "stdout",
     "output_type": "stream",
     "text": [
      "Starting Spark application\n"
     ]
    },
    {
     "data": {
      "text/html": [
       "<table>\n",
       "<tr><th>ID</th><th>YARN Application ID</th><th>Kind</th><th>State</th><th>Spark UI</th><th>Driver log</th><th>Current session?</th></tr><tr><td>1</td><td>application_1602595798949_0002</td><td>pyspark</td><td>idle</td><td><a target=\"_blank\" href=\"http://ip-10-101-214-245.us-west-2.compute.internal:20888/proxy/application_1602595798949_0002/\">Link</a></td><td><a target=\"_blank\" href=\"http://ip-10-101-214-245.us-west-2.compute.internal:8042/node/containerlogs/container_1602595798949_0002_01_000001/livy\">Link</a></td><td>✔</td></tr></table>"
      ],
      "text/plain": [
       "<IPython.core.display.HTML object>"
      ]
     },
     "metadata": {},
     "output_type": "display_data"
    },
    {
     "data": {
      "application/vnd.jupyter.widget-view+json": {
       "model_id": "",
       "version_major": 2,
       "version_minor": 0
      },
      "text/plain": [
       "FloatProgress(value=0.0, bar_style='info', description='Progress:', layout=Layout(height='25px', width='50%'),…"
      ]
     },
     "metadata": {},
     "output_type": "display_data"
    },
    {
     "name": "stdout",
     "output_type": "stream",
     "text": [
      "SparkSession available as 'spark'.\n"
     ]
    },
    {
     "data": {
      "application/vnd.jupyter.widget-view+json": {
       "model_id": "",
       "version_major": 2,
       "version_minor": 0
      },
      "text/plain": [
       "FloatProgress(value=0.0, bar_style='info', description='Progress:', layout=Layout(height='25px', width='50%'),…"
      ]
     },
     "metadata": {},
     "output_type": "display_data"
    }
   ],
   "source": [
    "#Import packages\n",
    "import numpy as np\n",
    "from numpy import argmax\n",
    "import pyspark.sql.functions as F\n",
    "import snowflake.connector\n",
    "import pandas as pd\n",
    "import spacy\n",
    "#from sparknlp.base import Finisher, DocumentAssembler\n",
    "#from sparknlp.annotator import  Normalizer, LemmatizerModel, StopWordsCleaner, Tokenizer\n",
    "#from pyspark.ml import Pipeline\n",
    "#from pyspark.ml.feature import CountVectorizer, VectorAssembler, HashingTF, IDF, Tokenizer\n",
    "#from nltk.corpus import stopwords\n",
    "from sklearn.feature_extraction.text import TfidfVectorizer\n",
    "from sklearn.model_selection import train_test_split\n",
    "from scipy import sparse\n",
    "from sklearn.linear_model import LogisticRegression\n",
    "from sklearn import svm\n",
    "from sklearn.multiclass import OneVsRestClassifier\n",
    "from sklearn.metrics import f1_score, accuracy_score, recall_score, precision_score, confusion_matrix, plot_confusion_matrix, \\\n",
    "                            roc_curve, auc, classification_report, precision_recall_curve\n",
    "import matplotlib.pyplot as plt"
   ]
  },
  {
   "cell_type": "code",
   "execution_count": 2,
   "metadata": {},
   "outputs": [
    {
     "data": {
      "application/vnd.jupyter.widget-view+json": {
       "model_id": "ed4318e7d43a4f60ac082e588e40e127",
       "version_major": 2,
       "version_minor": 0
      },
      "text/plain": [
       "VBox()"
      ]
     },
     "metadata": {},
     "output_type": "display_data"
    },
    {
     "data": {
      "application/vnd.jupyter.widget-view+json": {
       "model_id": "",
       "version_major": 2,
       "version_minor": 0
      },
      "text/plain": [
       "FloatProgress(value=0.0, bar_style='info', description='Progress:', layout=Layout(height='25px', width='50%'),…"
      ]
     },
     "metadata": {},
     "output_type": "display_data"
    }
   ],
   "source": [
    "#SPARK connection info\n",
    "sfOptions = {\n",
    "  'sfURL' : 'powerreviews.snowflakecomputing.com',\n",
    "  'sfAccount' : 'powerreviews',\n",
    "  'sfUser' : 'APP_SPARK_PROD',\n",
    "  'sfPassword' : '>6txhcQ*7&^Qrq`j',\n",
    "  'sfDatabase' : 'ANALYTICS_PROD',\n",
    "  'sfSchema' : 'ANALYTICS',\n",
    "  'sfWarehouse' : 'LOWER_ENV_WAREHOUSE'\n",
    "}\n",
    "SNOWFLAKE_SOURCE_NAME = \"net.snowflake.spark.snowflake\"\n",
    "\n",
    "#PYTHON connection info\n",
    "conn = snowflake.connector.connect(\n",
    "    account='powerreviews',\n",
    "    database='analytics_prod',\n",
    "    warehouse='LOWER_ENV_WAREHOUSE',\n",
    "    user='APP_SPARK_PROD',\n",
    "    password='>6txhcQ*7&^Qrq`j'\n",
    "    )"
   ]
  },
  {
   "cell_type": "code",
   "execution_count": 3,
   "metadata": {},
   "outputs": [
    {
     "data": {
      "application/vnd.jupyter.widget-view+json": {
       "model_id": "15490091d7164ebb8943ebb939f93c26",
       "version_major": 2,
       "version_minor": 0
      },
      "text/plain": [
       "VBox()"
      ]
     },
     "metadata": {},
     "output_type": "display_data"
    },
    {
     "data": {
      "application/vnd.jupyter.widget-view+json": {
       "model_id": "",
       "version_major": 2,
       "version_minor": 0
      },
      "text/plain": [
       "FloatProgress(value=0.0, bar_style='info', description='Progress:', layout=Layout(height='25px', width='50%'),…"
      ]
     },
     "metadata": {},
     "output_type": "display_data"
    }
   ],
   "source": [
    "#Use review data set to get observation codes bc they are already comma separated and less joins to perform\n",
    "#Still need observation set though to get observation created date\n",
    "#This is bc review could be from ages ago but we could have imported recently and moderated it\n",
    "#Want to make sure we include as many observation labels as possible for most accurate model\n",
    "\n"
   ]
  },
  {
   "cell_type": "code",
   "execution_count": 4,
   "metadata": {},
   "outputs": [
    {
     "data": {
      "application/vnd.jupyter.widget-view+json": {
       "model_id": "fe0c5fc7afb04edc85bdf63c201b51e7",
       "version_major": 2,
       "version_minor": 0
      },
      "text/plain": [
       "VBox()"
      ]
     },
     "metadata": {},
     "output_type": "display_data"
    },
    {
     "data": {
      "application/vnd.jupyter.widget-view+json": {
       "model_id": "",
       "version_major": 2,
       "version_minor": 0
      },
      "text/plain": [
       "FloatProgress(value=0.0, bar_style='info', description='Progress:', layout=Layout(height='25px', width='50%'),…"
      ]
     },
     "metadata": {},
     "output_type": "display_data"
    }
   ],
   "source": [
    "query = \"select distinct r.ugc_id, r.created_date, r.review_headline, \\\n",
    "r.review_comments, r.review_rating, r.reviewer_nickname, r.locale, r.observations, \\\n",
    "ADD IN CASE WHEN HERE \\\n",
    "from analytics.review as r \\\n",
    "left join cdm.observation as o \\\n",
    "on r.ugc_id = o.ugc_id \\\n",
    "where contains(r.observations, 'PM') \\\n",
    "and r.locale in ('en_US','en_GB','en_CA') \\\n",
    "and o.created_date > '2020-09-23'  \\\n",
    "limit 100\""
   ]
  },
  {
   "cell_type": "code",
   "execution_count": 77,
   "metadata": {},
   "outputs": [
    {
     "data": {
      "application/vnd.jupyter.widget-view+json": {
       "model_id": "da888438b4d8478082a98b3eb88e15dc",
       "version_major": 2,
       "version_minor": 0
      },
      "text/plain": [
       "VBox()"
      ]
     },
     "metadata": {},
     "output_type": "display_data"
    },
    {
     "data": {
      "application/vnd.jupyter.widget-view+json": {
       "model_id": "",
       "version_major": 2,
       "version_minor": 0
      },
      "text/plain": [
       "FloatProgress(value=0.0, bar_style='info', description='Progress:', layout=Layout(height='25px', width='50%'),…"
      ]
     },
     "metadata": {},
     "output_type": "display_data"
    }
   ],
   "source": [
    "#Careful not to get CNR for NR\n",
    "#CNR, NR, PM - contains(r.observations, ',NR,')\n",
    "#NR, PM - substring(r.observations, 1, 2) = 'NR'\n",
    "#CNR, PM - DONT WANT\n",
    "#Careful not to get SSC for SC\n",
    "#PM, SC - \n",
    "#PM, SSC - DONT WANT\n",
    "#PM, SC, SSC\n",
    "#18 labels total - not including PM (doesn't yet include NOLABEL label - 19 labels with that)\n",
    "query_testing = \"select distinct r.ugc_id, r.created_date, r.review_headline, \\\n",
    "r.review_comments, r.review_rating, r.reviewer_nickname, r.reviewer_location, r.observations, \\\n",
    "case when contains(r.observations, 'PM') then 1 else 0 end as PM, \\\n",
    "case when (contains(r.observations, ',NR,') or substring(r.observations, 1, 2) = 'NR')  then 1 else 0 end as NR, \\\n",
    "case when contains(r.observations, 'PII') then 1 else 0 end as PII, \\\n",
    "case when contains(r.observations, 'PR') then 1 else 0 end as PR, \\\n",
    "case when contains(r.observations, 'CS') then 1 else 0 end as CS, \\\n",
    "case when contains(r.observations, 'DC') then 1 else 0 end as DC, \\\n",
    "case when contains(r.observations, 'CR') then 1 else 0 end as CR, \\\n",
    "case when contains(r.observations, 'FRD') then 1 else 0 end as FRD, \\\n",
    "case when contains(r.observations, 'TST') then 1 else 0 end as TST, \\\n",
    "case when contains(r.observations, 'CC') then 1 else 0 end as CC, \\\n",
    "case when contains(r.observations, ',SC') then 1 else 0 end as SC, \\\n",
    "case when contains(r.observations, 'PIM') then 1 else 0 end as PIM, \\\n",
    "case when contains(r.observations, 'LC') then 1 else 0 end as LC, \\\n",
    "case when contains(r.observations, 'WEB') then 1 else 0 end as WEB, \\\n",
    "case when contains(r.observations, 'FL') then 1 else 0 end as FL, \\\n",
    "case when contains(r.observations, 'SA') then 1 else 0 end as SA, \\\n",
    "case when contains(r.observations, 'URL') then 1 else 0 end as URL, \\\n",
    "case when contains(r.observations, 'CV') then 1 else 0 end as CV, \\\n",
    "case when contains(r.observations, 'US') then 1 else 0 end as US \\\n",
    "from analytics.review as r \\\n",
    "where r.locale in ('en_US','en_GB','en_CA') \\\n",
    "and r.created_date > '2019-09-01'  \\\n",
    "and contains(r.observations, 'PM') \\\n",
    "limit 500000\""
   ]
  },
  {
   "cell_type": "code",
   "execution_count": 78,
   "metadata": {},
   "outputs": [
    {
     "data": {
      "application/vnd.jupyter.widget-view+json": {
       "model_id": "ac132a2675c74c869c64ad1d7a3518b0",
       "version_major": 2,
       "version_minor": 0
      },
      "text/plain": [
       "VBox()"
      ]
     },
     "metadata": {},
     "output_type": "display_data"
    },
    {
     "data": {
      "application/vnd.jupyter.widget-view+json": {
       "model_id": "",
       "version_major": 2,
       "version_minor": 0
      },
      "text/plain": [
       "FloatProgress(value=0.0, bar_style='info', description='Progress:', layout=Layout(height='25px', width='50%'),…"
      ]
     },
     "metadata": {},
     "output_type": "display_data"
    },
    {
     "name": "stdout",
     "output_type": "stream",
     "text": [
      "       UGC_ID        CREATED_DATE  \\\n",
      "0   256601774 2019-10-07 11:43:42   \n",
      "1   256666337 2019-10-07 13:17:27   \n",
      "2   256396451 2019-10-07 03:19:17   \n",
      "3   256416719 2019-10-07 06:28:45   \n",
      "4   256400536 2019-10-07 05:30:15   \n",
      "..        ...                 ...   \n",
      "95  256751867 2019-10-07 15:09:41   \n",
      "96  256397462 2019-10-07 03:39:27   \n",
      "97  256795265 2019-10-07 16:08:14   \n",
      "98  256486046 2019-10-07 08:32:14   \n",
      "99  256510745 2019-10-07 09:39:30   \n",
      "\n",
      "                                         REVIEW_HEADLINE  \\\n",
      "0   What a Deal!!                                          \n",
      "1   I will buy again and again                             \n",
      "2   I would buy again                                      \n",
      "3   Beautiful outdoor seating                              \n",
      "4   How could one bag of pasta cost $7+ on clearance ???   \n",
      "..                                                   ...   \n",
      "95  Right out of the box, it looked great                  \n",
      "96  Love these pumpkins.                                   \n",
      "97  Cute boot                                              \n",
      "98  Radiant and Fresh                                      \n",
      "99  Soft                                                   \n",
      "\n",
      "                                                                                                                                                                                                                                                                                                                                                                                         REVIEW_COMMENTS  \\\n",
      "0   Fantastic pricing                                                                                                                                                                                                                                                                                                                                                                                      \n",
      "1   Really great deal... recon ndo                                                                                                                                                                                                                                                                                                                                                                         \n",
      "2   Love these and use them all the time! The glass is thick and heavy. The lids have an incredible seal. I've used similar style lids for plastic containers but these are far more superior! Didn't give five stars because one of the lids had a broken \"flap\" but it is still usable.                                                                                                                  \n",
      "3   We have a large lanai off of our dining and living area. This outdoor seating, with fire pit, looks like just another sitting room. It is very well made and looks like the quality it is. Highly recommend.                                                                                                                                                                                           \n",
      "4   Please respond                                                                                                                                                                                                                                                                                                                                                                                         \n",
      "..             ...                                                                                                                                                                                                                                                                                                                                                                                         \n",
      "95  Once I got it unpacked and tried to fluff it up, there was so much glue on the ivy holding the snow, that it was really difficult to give it a fuller look.  The ivy leaves and the holly berries would tear without any real pressure put to bear.  I would hope this was just an anomaly because I have always heard just great things about your products.                                          \n",
      "96  These pumpkins look like the real thing.  So much so that I am ordering a second set today.  I love that they can be use October throughout November.  These are the PERFECT  solution for anyone living in the deep South.  Pumpkins purchased in October are rotting, because of the warmer temperature, before November arrives and need to be purchased again.  Another winner from Balsam Hill!   \n",
      "97  Cute and comfortable- the fur isn't your typical fuzzy and soft ugg fur!                                                                                                                                                                                                                                                                                                                               \n",
      "98  I live the frothy foam created by this cleanser. My face feels refreshed and glowing after washing. I've had compliments about how radiant my complexion looks. Definitely a five star rating.                                                                                                                                                                                                         \n",
      "99  Very easy to use.                                                                                                                                                                                                                                                                                                                                                                                      \n",
      "\n",
      "    REVIEW_RATING REVIEWER_NICKNAME          REVIEWER_LOCATION  OBSERVATIONS  \\\n",
      "0   5              NickP             Connecticut                PM             \n",
      "1   5              Reddy             Charlotte, NC              PM             \n",
      "2   4              JUDITH            Undisclosed                PM             \n",
      "3   5              Earlegirl         New Smyrna Beach, Florida  PM             \n",
      "4   1              Bp                Ocnj                       CNR,CS,NR,PM   \n",
      ".. ..              ..                 ...                                ...   \n",
      "95  2              Sharon            Danville CA                CM,PM,PO       \n",
      "96  5              Gumbeau's Mom     Flat Rock, NC              CM,PM,PO       \n",
      "97  4              MAINE GIRL        Maine                      PM             \n",
      "98  5              CHERYLE           Undisclosed                PM             \n",
      "99  5              Maria             Undisclosed                PM             \n",
      "\n",
      "    PM  NR  PII  PR  CS  DC  CR  FRD  TST  CC  SC  PIM  LC  WEB  FL  SA  URL  \\\n",
      "0   1   0   0    0   0   0   0   0    0    0   0   0    0   0    0   0   0     \n",
      "1   1   0   0    0   0   0   0   0    0    0   0   0    0   0    0   0   0     \n",
      "2   1   0   0    0   0   0   0   0    0    0   0   0    0   0    0   0   0     \n",
      "3   1   0   0    0   0   0   0   0    0    0   0   0    0   0    0   0   0     \n",
      "4   1   1   0    0   1   0   0   0    0    0   0   0    0   0    0   0   0     \n",
      ".. ..  ..  ..   ..  ..  ..  ..  ..   ..   ..  ..  ..   ..  ..   ..  ..  ..     \n",
      "95  1   0   0    0   0   0   0   0    0    0   0   0    0   0    0   0   0     \n",
      "96  1   0   0    0   0   0   0   0    0    0   0   0    0   0    0   0   0     \n",
      "97  1   0   0    0   0   0   0   0    0    0   0   0    0   0    0   0   0     \n",
      "98  1   0   0    0   0   0   0   0    0    0   0   0    0   0    0   0   0     \n",
      "99  1   0   0    0   0   0   0   0    0    0   0   0    0   0    0   0   0     \n",
      "\n",
      "    CV  US  \n",
      "0   0   0   \n",
      "1   0   0   \n",
      "2   0   0   \n",
      "3   0   0   \n",
      "4   0   0   \n",
      ".. ..  ..   \n",
      "95  0   0   \n",
      "96  0   0   \n",
      "97  0   0   \n",
      "98  0   0   \n",
      "99  0   0   \n",
      "\n",
      "[100 rows x 27 columns]"
     ]
    }
   ],
   "source": [
    "#pd.set_option('display.max_colwidth', -1)\n",
    "#pd.set_option('display.max_columns', None)\n",
    "#pd.set_option('display.max_rows', None)\n",
    "reviews = pd.read_sql(query_testing, conn)\n",
    "reviews.head(100)\n",
    "#reviews.info()\n",
    "\n",
    "#PULLING IN ALL REVIEWS SINCE '2019-09-01' (17,468,653) TAKES X MINS"
   ]
  },
  {
   "cell_type": "code",
   "execution_count": 79,
   "metadata": {},
   "outputs": [
    {
     "data": {
      "application/vnd.jupyter.widget-view+json": {
       "model_id": "82ab214db74144d89b47059955389830",
       "version_major": 2,
       "version_minor": 0
      },
      "text/plain": [
       "VBox()"
      ]
     },
     "metadata": {},
     "output_type": "display_data"
    },
    {
     "data": {
      "application/vnd.jupyter.widget-view+json": {
       "model_id": "",
       "version_major": 2,
       "version_minor": 0
      },
      "text/plain": [
       "FloatProgress(value=0.0, bar_style='info', description='Progress:', layout=Layout(height='25px', width='50%'),…"
      ]
     },
     "metadata": {},
     "output_type": "display_data"
    }
   ],
   "source": [
    "reviews.loc[reviews['REVIEWER_LOCATION'] == 'US', 'REVIEWER_LOCATION'] = 'USA'\n",
    "\n",
    "#reviews['REVIEWER_LOCATION'].head(500)"
   ]
  },
  {
   "cell_type": "code",
   "execution_count": 80,
   "metadata": {},
   "outputs": [
    {
     "data": {
      "application/vnd.jupyter.widget-view+json": {
       "model_id": "224199c16c1d4c978c4d6f37fd2f24de",
       "version_major": 2,
       "version_minor": 0
      },
      "text/plain": [
       "VBox()"
      ]
     },
     "metadata": {},
     "output_type": "display_data"
    },
    {
     "data": {
      "application/vnd.jupyter.widget-view+json": {
       "model_id": "",
       "version_major": 2,
       "version_minor": 0
      },
      "text/plain": [
       "FloatProgress(value=0.0, bar_style='info', description='Progress:', layout=Layout(height='25px', width='50%'),…"
      ]
     },
     "metadata": {},
     "output_type": "display_data"
    }
   ],
   "source": [
    "#Use set_option so text doesn't truncate\n",
    "#pd.set_option('display.max_colwidth', -1)\n",
    "#pd.set_option('display.max_columns', None)\n",
    "#pd.set_option('display.max_rows', None)\n",
    "#reviews['LABEL_SUM']= reviews.iloc[:, -18:-1].sum(axis=1)\n",
    "#reviews"
   ]
  },
  {
   "cell_type": "code",
   "execution_count": 81,
   "metadata": {},
   "outputs": [
    {
     "data": {
      "application/vnd.jupyter.widget-view+json": {
       "model_id": "eaa09586a67848368ff3b775183a46a8",
       "version_major": 2,
       "version_minor": 0
      },
      "text/plain": [
       "VBox()"
      ]
     },
     "metadata": {},
     "output_type": "display_data"
    },
    {
     "data": {
      "application/vnd.jupyter.widget-view+json": {
       "model_id": "",
       "version_major": 2,
       "version_minor": 0
      },
      "text/plain": [
       "FloatProgress(value=0.0, bar_style='info', description='Progress:', layout=Layout(height='25px', width='50%'),…"
      ]
     },
     "metadata": {},
     "output_type": "display_data"
    }
   ],
   "source": [
    "#LOOK AT OTHER LABELS - IF NONE THEN ADD NOLABEL = 1\n",
    "#df['new column name'] = df['column name'].apply(lambda x: 'value if condition is met' if x condition else 'value if condition is not met')\n",
    "#reviews['NOLABEL'] = reviews['LABEL_SUM'].apply(lambda x: int(1) if x==0 else int(0))\n",
    "\n",
    "#df.loc[df['set_of_numbers'] <= 4, 'equal_or_lower_than_4?'] = 'True' \n",
    "#reviews.loc[reviews['NOLABEL'] == 0, 'TEST'] = 1\n",
    "#df['Fruit Total']= df.iloc[:, -4:-1].sum(axis=1)\n",
    "#reviews"
   ]
  },
  {
   "cell_type": "code",
   "execution_count": 82,
   "metadata": {},
   "outputs": [
    {
     "data": {
      "application/vnd.jupyter.widget-view+json": {
       "model_id": "290c6a78683046e798ebb99132359f45",
       "version_major": 2,
       "version_minor": 0
      },
      "text/plain": [
       "VBox()"
      ]
     },
     "metadata": {},
     "output_type": "display_data"
    },
    {
     "data": {
      "application/vnd.jupyter.widget-view+json": {
       "model_id": "",
       "version_major": 2,
       "version_minor": 0
      },
      "text/plain": [
       "FloatProgress(value=0.0, bar_style='info', description='Progress:', layout=Layout(height='25px', width='50%'),…"
      ]
     },
     "metadata": {},
     "output_type": "display_data"
    }
   ],
   "source": [
    "#reviews2 = reviews.drop(['LABEL_SUM'], axis=1)\n",
    "#reviews2"
   ]
  },
  {
   "cell_type": "code",
   "execution_count": 83,
   "metadata": {},
   "outputs": [
    {
     "data": {
      "application/vnd.jupyter.widget-view+json": {
       "model_id": "80ed761da96745e0a6f9ccb8ccab970e",
       "version_major": 2,
       "version_minor": 0
      },
      "text/plain": [
       "VBox()"
      ]
     },
     "metadata": {},
     "output_type": "display_data"
    },
    {
     "data": {
      "application/vnd.jupyter.widget-view+json": {
       "model_id": "",
       "version_major": 2,
       "version_minor": 0
      },
      "text/plain": [
       "FloatProgress(value=0.0, bar_style='info', description='Progress:', layout=Layout(height='25px', width='50%'),…"
      ]
     },
     "metadata": {},
     "output_type": "display_data"
    }
   ],
   "source": [
    "#reviews = reviews2\n",
    "#reviews"
   ]
  },
  {
   "cell_type": "code",
   "execution_count": 84,
   "metadata": {},
   "outputs": [
    {
     "data": {
      "application/vnd.jupyter.widget-view+json": {
       "model_id": "7b37054f35b746fabf20ad4380a5a9a1",
       "version_major": 2,
       "version_minor": 0
      },
      "text/plain": [
       "VBox()"
      ]
     },
     "metadata": {},
     "output_type": "display_data"
    },
    {
     "data": {
      "application/vnd.jupyter.widget-view+json": {
       "model_id": "",
       "version_major": 2,
       "version_minor": 0
      },
      "text/plain": [
       "FloatProgress(value=0.0, bar_style='info', description='Progress:', layout=Layout(height='25px', width='50%'),…"
      ]
     },
     "metadata": {},
     "output_type": "display_data"
    },
    {
     "name": "stdout",
     "output_type": "stream",
     "text": [
      "UGC_ID               int64         \n",
      "CREATED_DATE         datetime64[ns]\n",
      "REVIEW_HEADLINE      object        \n",
      "REVIEW_COMMENTS      object        \n",
      "REVIEW_RATING        int64         \n",
      "REVIEWER_NICKNAME    object        \n",
      "REVIEWER_LOCATION    object        \n",
      "OBSERVATIONS         object        \n",
      "PM                   int64         \n",
      "NR                   int64         \n",
      "PII                  int64         \n",
      "PR                   int64         \n",
      "CS                   int64         \n",
      "DC                   int64         \n",
      "CR                   int64         \n",
      "FRD                  int64         \n",
      "TST                  int64         \n",
      "CC                   int64         \n",
      "SC                   int64         \n",
      "PIM                  int64         \n",
      "LC                   int64         \n",
      "WEB                  int64         \n",
      "FL                   int64         \n",
      "SA                   int64         \n",
      "URL                  int64         \n",
      "CV                   int64         \n",
      "US                   int64         \n",
      "dtype: object"
     ]
    }
   ],
   "source": [
    "reviews.dtypes"
   ]
  },
  {
   "cell_type": "code",
   "execution_count": 85,
   "metadata": {},
   "outputs": [
    {
     "data": {
      "application/vnd.jupyter.widget-view+json": {
       "model_id": "35eee8a743614299bfa49c9d224be0f5",
       "version_major": 2,
       "version_minor": 0
      },
      "text/plain": [
       "VBox()"
      ]
     },
     "metadata": {},
     "output_type": "display_data"
    },
    {
     "data": {
      "application/vnd.jupyter.widget-view+json": {
       "model_id": "",
       "version_major": 2,
       "version_minor": 0
      },
      "text/plain": [
       "FloatProgress(value=0.0, bar_style='info', description='Progress:', layout=Layout(height='25px', width='50%'),…"
      ]
     },
     "metadata": {},
     "output_type": "display_data"
    },
    {
     "name": "stdout",
     "output_type": "stream",
     "text": [
      "       UGC_ID        CREATED_DATE  \\\n",
      "0   256601774 2019-10-07 11:43:42   \n",
      "1   256666337 2019-10-07 13:17:27   \n",
      "2   256396451 2019-10-07 03:19:17   \n",
      "3   256416719 2019-10-07 06:28:45   \n",
      "4   256400536 2019-10-07 05:30:15   \n",
      "..        ...                 ...   \n",
      "95  256751867 2019-10-07 15:09:41   \n",
      "96  256397462 2019-10-07 03:39:27   \n",
      "97  256795265 2019-10-07 16:08:14   \n",
      "98  256486046 2019-10-07 08:32:14   \n",
      "99  256510745 2019-10-07 09:39:30   \n",
      "\n",
      "                                         REVIEW_HEADLINE  \\\n",
      "0   What a Deal!!                                          \n",
      "1   I will buy again and again                             \n",
      "2   I would buy again                                      \n",
      "3   Beautiful outdoor seating                              \n",
      "4   How could one bag of pasta cost $7+ on clearance ???   \n",
      "..                                                   ...   \n",
      "95  Right out of the box, it looked great                  \n",
      "96  Love these pumpkins.                                   \n",
      "97  Cute boot                                              \n",
      "98  Radiant and Fresh                                      \n",
      "99  Soft                                                   \n",
      "\n",
      "                                                                                                                                                                                                                                                                                                                                                                                         REVIEW_COMMENTS  \\\n",
      "0   Fantastic pricing                                                                                                                                                                                                                                                                                                                                                                                      \n",
      "1   Really great deal... recon ndo                                                                                                                                                                                                                                                                                                                                                                         \n",
      "2   Love these and use them all the time! The glass is thick and heavy. The lids have an incredible seal. I've used similar style lids for plastic containers but these are far more superior! Didn't give five stars because one of the lids had a broken \"flap\" but it is still usable.                                                                                                                  \n",
      "3   We have a large lanai off of our dining and living area. This outdoor seating, with fire pit, looks like just another sitting room. It is very well made and looks like the quality it is. Highly recommend.                                                                                                                                                                                           \n",
      "4   Please respond                                                                                                                                                                                                                                                                                                                                                                                         \n",
      "..             ...                                                                                                                                                                                                                                                                                                                                                                                         \n",
      "95  Once I got it unpacked and tried to fluff it up, there was so much glue on the ivy holding the snow, that it was really difficult to give it a fuller look.  The ivy leaves and the holly berries would tear without any real pressure put to bear.  I would hope this was just an anomaly because I have always heard just great things about your products.                                          \n",
      "96  These pumpkins look like the real thing.  So much so that I am ordering a second set today.  I love that they can be use October throughout November.  These are the PERFECT  solution for anyone living in the deep South.  Pumpkins purchased in October are rotting, because of the warmer temperature, before November arrives and need to be purchased again.  Another winner from Balsam Hill!   \n",
      "97  Cute and comfortable- the fur isn't your typical fuzzy and soft ugg fur!                                                                                                                                                                                                                                                                                                                               \n",
      "98  I live the frothy foam created by this cleanser. My face feels refreshed and glowing after washing. I've had compliments about how radiant my complexion looks. Definitely a five star rating.                                                                                                                                                                                                         \n",
      "99  Very easy to use.                                                                                                                                                                                                                                                                                                                                                                                      \n",
      "\n",
      "    REVIEW_RATING REVIEWER_NICKNAME          REVIEWER_LOCATION  OBSERVATIONS  \\\n",
      "0   5              NickP             Connecticut                PM             \n",
      "1   5              Reddy             Charlotte, NC              PM             \n",
      "2   4              JUDITH            Undisclosed                PM             \n",
      "3   5              Earlegirl         New Smyrna Beach, Florida  PM             \n",
      "4   1              Bp                Ocnj                       CNR,CS,NR,PM   \n",
      ".. ..              ..                 ...                                ...   \n",
      "95  2              Sharon            Danville CA                CM,PM,PO       \n",
      "96  5              Gumbeau's Mom     Flat Rock, NC              CM,PM,PO       \n",
      "97  4              MAINE GIRL        Maine                      PM             \n",
      "98  5              CHERYLE           Undisclosed                PM             \n",
      "99  5              Maria             Undisclosed                PM             \n",
      "\n",
      "    PM  NR  PII  PR  CS  DC  CR  FRD  TST  CC  SC  PIM  LC  WEB  FL  SA  URL  \\\n",
      "0   1   0   0    0   0   0   0   0    0    0   0   0    0   0    0   0   0     \n",
      "1   1   0   0    0   0   0   0   0    0    0   0   0    0   0    0   0   0     \n",
      "2   1   0   0    0   0   0   0   0    0    0   0   0    0   0    0   0   0     \n",
      "3   1   0   0    0   0   0   0   0    0    0   0   0    0   0    0   0   0     \n",
      "4   1   1   0    0   1   0   0   0    0    0   0   0    0   0    0   0   0     \n",
      ".. ..  ..  ..   ..  ..  ..  ..  ..   ..   ..  ..  ..   ..  ..   ..  ..  ..     \n",
      "95  1   0   0    0   0   0   0   0    0    0   0   0    0   0    0   0   0     \n",
      "96  1   0   0    0   0   0   0   0    0    0   0   0    0   0    0   0   0     \n",
      "97  1   0   0    0   0   0   0   0    0    0   0   0    0   0    0   0   0     \n",
      "98  1   0   0    0   0   0   0   0    0    0   0   0    0   0    0   0   0     \n",
      "99  1   0   0    0   0   0   0   0    0    0   0   0    0   0    0   0   0     \n",
      "\n",
      "    CV  US  \\\n",
      "0   0   0    \n",
      "1   0   0    \n",
      "2   0   0    \n",
      "3   0   0    \n",
      "4   0   0    \n",
      ".. ..  ..    \n",
      "95  0   0    \n",
      "96  0   0    \n",
      "97  0   0    \n",
      "98  0   0    \n",
      "99  0   0    \n",
      "\n",
      "                                                                                                                                                                                                                                                                                                                                                                                                                                                                                    ALL_TEXT  \n",
      "0   headline What a Deal!! comment Fantastic pricing nickname NickP location Connecticut                                                                                                                                                                                                                                                                                                                                                                                                      \n",
      "1   headline I will buy again and again comment Really great deal... recon ndo nickname Reddy location Charlotte, NC                                                                                                                                                                                                                                                                                                                                                                          \n",
      "2   headline I would buy again comment Love these and use them all the time! The glass is thick and heavy. The lids have an incredible seal. I've used similar style lids for plastic containers but these are far more superior! Didn't give five stars because one of the lids had a broken \"flap\" but it is still usable. nickname JUDITH location Undisclosed                                                                                                                             \n",
      "3   headline Beautiful outdoor seating comment We have a large lanai off of our dining and living area. This outdoor seating, with fire pit, looks like just another sitting room. It is very well made and looks like the quality it is. Highly recommend. nickname Earlegirl location New Smyrna Beach, Florida                                                                                                                                                                             \n",
      "4   headline How could one bag of pasta cost $7+ on clearance ??? comment Please respond nickname Bp location Ocnj                                                                                                                                                                                                                                                                                                                                                                            \n",
      "..                                                                                                             ...                                                                                                                                                                                                                                                                                                                                                                            \n",
      "95  headline Right out of the box, it looked great comment Once I got it unpacked and tried to fluff it up, there was so much glue on the ivy holding the snow, that it was really difficult to give it a fuller look.  The ivy leaves and the holly berries would tear without any real pressure put to bear.  I would hope this was just an anomaly because I have always heard just great things about your products. nickname Sharon location Danville CA                                 \n",
      "96  headline Love these pumpkins. comment These pumpkins look like the real thing.  So much so that I am ordering a second set today.  I love that they can be use October throughout November.  These are the PERFECT  solution for anyone living in the deep South.  Pumpkins purchased in October are rotting, because of the warmer temperature, before November arrives and need to be purchased again.  Another winner from Balsam Hill! nickname Gumbeau's Mom location Flat Rock, NC  \n",
      "97  headline Cute boot comment Cute and comfortable- the fur isn't your typical fuzzy and soft ugg fur! nickname MAINE GIRL location Maine                                                                                                                                                                                                                                                                                                                                                    \n",
      "98  headline Radiant and Fresh comment I live the frothy foam created by this cleanser. My face feels refreshed and glowing after washing. I've had compliments about how radiant my complexion looks. Definitely a five star rating. nickname CHERYLE location Undisclosed                                                                                                                                                                                                                   \n",
      "99  headline Soft comment Very easy to use. nickname Maria location Undisclosed                                                                                                                                                                                                                                                                                                                                                                                                               \n",
      "\n",
      "[100 rows x 28 columns]\n",
      "<string>:4: FutureWarning: Passing a negative integer is deprecated in version 1.0 and will not be supported in future version. Instead, use None to not limit the column width."
     ]
    }
   ],
   "source": [
    "reviews['ALL_TEXT'] = 'headline ' + reviews['REVIEW_HEADLINE'] + ' comment ' + reviews['REVIEW_COMMENTS'] + \\\n",
    "        ' nickname ' + reviews['REVIEWER_NICKNAME'] + ' location ' + reviews['REVIEWER_LOCATION']\n",
    "#Use set_option so text doesn't truncate\n",
    "pd.set_option('display.max_colwidth', -1)\n",
    "pd.set_option('display.max_columns', None)\n",
    "reviews.head(100)\n",
    "\n",
    "#reviews.dtypes"
   ]
  },
  {
   "cell_type": "code",
   "execution_count": 86,
   "metadata": {},
   "outputs": [
    {
     "data": {
      "application/vnd.jupyter.widget-view+json": {
       "model_id": "0550c69091c54330ac59e33928ce2caf",
       "version_major": 2,
       "version_minor": 0
      },
      "text/plain": [
       "VBox()"
      ]
     },
     "metadata": {},
     "output_type": "display_data"
    },
    {
     "data": {
      "application/vnd.jupyter.widget-view+json": {
       "model_id": "",
       "version_major": 2,
       "version_minor": 0
      },
      "text/plain": [
       "FloatProgress(value=0.0, bar_style='info', description='Progress:', layout=Layout(height='25px', width='50%'),…"
      ]
     },
     "metadata": {},
     "output_type": "display_data"
    },
    {
     "name": "stdout",
     "output_type": "stream",
     "text": [
      "UGC_ID               int64         \n",
      "CREATED_DATE         datetime64[ns]\n",
      "REVIEW_HEADLINE      object        \n",
      "REVIEW_COMMENTS      object        \n",
      "REVIEW_RATING        int64         \n",
      "REVIEWER_NICKNAME    object        \n",
      "REVIEWER_LOCATION    object        \n",
      "OBSERVATIONS         object        \n",
      "PM                   int64         \n",
      "NR                   int64         \n",
      "PII                  int64         \n",
      "PR                   int64         \n",
      "CS                   int64         \n",
      "DC                   int64         \n",
      "CR                   int64         \n",
      "FRD                  int64         \n",
      "TST                  int64         \n",
      "CC                   int64         \n",
      "SC                   int64         \n",
      "PIM                  int64         \n",
      "LC                   int64         \n",
      "WEB                  int64         \n",
      "FL                   int64         \n",
      "SA                   int64         \n",
      "URL                  int64         \n",
      "CV                   int64         \n",
      "US                   int64         \n",
      "ALL_TEXT             object        \n",
      "dtype: object"
     ]
    }
   ],
   "source": [
    "reviews.dtypes"
   ]
  },
  {
   "cell_type": "code",
   "execution_count": 87,
   "metadata": {},
   "outputs": [
    {
     "data": {
      "application/vnd.jupyter.widget-view+json": {
       "model_id": "9ff72c418bdc4536ad0466d7aea9abe9",
       "version_major": 2,
       "version_minor": 0
      },
      "text/plain": [
       "VBox()"
      ]
     },
     "metadata": {},
     "output_type": "display_data"
    },
    {
     "data": {
      "application/vnd.jupyter.widget-view+json": {
       "model_id": "",
       "version_major": 2,
       "version_minor": 0
      },
      "text/plain": [
       "FloatProgress(value=0.0, bar_style='info', description='Progress:', layout=Layout(height='25px', width='50%'),…"
      ]
     },
     "metadata": {},
     "output_type": "display_data"
    }
   ],
   "source": [
    "\n",
    "\n",
    "#reviews['PRICE'] = bool(re.match('location', str(reviews['ALL_TEXT'])))\n",
    "#reviews[reviews['PRICE']==True].head()\n"
   ]
  },
  {
   "cell_type": "code",
   "execution_count": 88,
   "metadata": {},
   "outputs": [
    {
     "data": {
      "application/vnd.jupyter.widget-view+json": {
       "model_id": "fa88ded57b3442c3904d31a4d2b76c8f",
       "version_major": 2,
       "version_minor": 0
      },
      "text/plain": [
       "VBox()"
      ]
     },
     "metadata": {},
     "output_type": "display_data"
    },
    {
     "data": {
      "application/vnd.jupyter.widget-view+json": {
       "model_id": "",
       "version_major": 2,
       "version_minor": 0
      },
      "text/plain": [
       "FloatProgress(value=0.0, bar_style='info', description='Progress:', layout=Layout(height='25px', width='50%'),…"
      ]
     },
     "metadata": {},
     "output_type": "display_data"
    },
    {
     "name": "stdout",
     "output_type": "stream",
     "text": [
      "                                                                                                                                                                                                                                                                                                                                                             ALL_TEXT  \\\n",
      "0       headline What a Deal!! comment Fantastic pricing nickname NickP location Connecticut                                                                                                                                                                                                                                                                            \n",
      "1       headline I will buy again and again comment Really great deal... recon ndo nickname Reddy location Charlotte, NC                                                                                                                                                                                                                                                \n",
      "2       headline I would buy again comment Love these and use them all the time! The glass is thick and heavy. The lids have an incredible seal. I've used similar style lids for plastic containers but these are far more superior! Didn't give five stars because one of the lids had a broken \"flap\" but it is still usable. nickname JUDITH location Undisclosed   \n",
      "3       headline Beautiful outdoor seating comment We have a large lanai off of our dining and living area. This outdoor seating, with fire pit, looks like just another sitting room. It is very well made and looks like the quality it is. Highly recommend. nickname Earlegirl location New Smyrna Beach, Florida                                                   \n",
      "4       headline How could one bag of pasta cost $7+ on clearance ??? comment Please respond nickname Bp location Ocnj                                                                                                                                                                                                                                                  \n",
      "...                                                                                                                ...                                                                                                                                                                                                                                                  \n",
      "499995  headline Soft and cute comment This comfy and cute sweatshirt is roomy but doesn't feel too big.  Loved wearing it around the house but felt nice enough to go out for errands. Unique embroidered flowers made it special. nickname Sharbear location Undisclosed                                                                                              \n",
      "499996  headline Love comment This tank is great quality and fits great. I love the length of it too! nickname Addie location Undisclosed                                                                                                                                                                                                                               \n",
      "499997  headline Soft tank comment Great tank - its super soft and fits really well. Sizing is a bit big. nickname Chattyb location Undisclosed                                                                                                                                                                                                                         \n",
      "499998  headline Not submitted by reviewer. comment Ordered a 3t and this fits our 2yo perfect. She's a bit taller than most but the size up is perfect and comfy on her. It stretches and opens at the shoulders and is pretty easy to get on and off for potty trips! nickname Steph G location Undisclosed                                                           \n",
      "499999  headline Flexible Plastic and love the color! comment See other reviews for more detailed feedback. nickname meweston location Undisclosed                                                                                                                                                                                                                      \n",
      "\n",
      "        REVIEW_RATING  \n",
      "0       5              \n",
      "1       5              \n",
      "2       4              \n",
      "3       5              \n",
      "4       1              \n",
      "...    ..              \n",
      "499995  5              \n",
      "499996  5              \n",
      "499997  4              \n",
      "499998  5              \n",
      "499999  5              \n",
      "\n",
      "[500000 rows x 2 columns]"
     ]
    }
   ],
   "source": [
    "X = reviews[['ALL_TEXT','REVIEW_RATING']]\n",
    "X"
   ]
  },
  {
   "cell_type": "code",
   "execution_count": 89,
   "metadata": {},
   "outputs": [
    {
     "data": {
      "application/vnd.jupyter.widget-view+json": {
       "model_id": "d26977d8e72140f5992a36583e09ff83",
       "version_major": 2,
       "version_minor": 0
      },
      "text/plain": [
       "VBox()"
      ]
     },
     "metadata": {},
     "output_type": "display_data"
    },
    {
     "data": {
      "application/vnd.jupyter.widget-view+json": {
       "model_id": "",
       "version_major": 2,
       "version_minor": 0
      },
      "text/plain": [
       "FloatProgress(value=0.0, bar_style='info', description='Progress:', layout=Layout(height='25px', width='50%'),…"
      ]
     },
     "metadata": {},
     "output_type": "display_data"
    },
    {
     "name": "stdout",
     "output_type": "stream",
     "text": [
      "        NR\n",
      "0       0 \n",
      "1       0 \n",
      "2       0 \n",
      "3       0 \n",
      "4       1 \n",
      "...    .. \n",
      "499995  0 \n",
      "499996  0 \n",
      "499997  0 \n",
      "499998  0 \n",
      "499999  0 \n",
      "\n",
      "[500000 rows x 1 columns]"
     ]
    }
   ],
   "source": [
    "#y = reviews[['NR','PII','PR','CS','DC','CR','FRD','TST','CC','SC','PIM','LC','WEB','FL','SA','URL','CV','US','NOLABEL']]\n",
    "#y = reviews[['NR','PII','PR','CS','DC','CR','FRD','TST','CC','SC','PIM','LC','WEB','FL','SA','URL','CV','US']]\n",
    "y = reviews[['NR']]\n",
    "y"
   ]
  },
  {
   "cell_type": "code",
   "execution_count": 90,
   "metadata": {},
   "outputs": [
    {
     "data": {
      "application/vnd.jupyter.widget-view+json": {
       "model_id": "2a90849cceec4a1db5bd5c9dec8cd5c6",
       "version_major": 2,
       "version_minor": 0
      },
      "text/plain": [
       "VBox()"
      ]
     },
     "metadata": {},
     "output_type": "display_data"
    },
    {
     "data": {
      "application/vnd.jupyter.widget-view+json": {
       "model_id": "",
       "version_major": 2,
       "version_minor": 0
      },
      "text/plain": [
       "FloatProgress(value=0.0, bar_style='info', description='Progress:', layout=Layout(height='25px', width='50%'),…"
      ]
     },
     "metadata": {},
     "output_type": "display_data"
    },
    {
     "name": "stdout",
     "output_type": "stream",
     "text": [
      "NR    8575\n",
      "dtype: int64"
     ]
    }
   ],
   "source": [
    "y.sum(axis=0)"
   ]
  },
  {
   "cell_type": "code",
   "execution_count": 91,
   "metadata": {},
   "outputs": [
    {
     "data": {
      "application/vnd.jupyter.widget-view+json": {
       "model_id": "593252c329834ff482f7ae09c8e8b72e",
       "version_major": 2,
       "version_minor": 0
      },
      "text/plain": [
       "VBox()"
      ]
     },
     "metadata": {},
     "output_type": "display_data"
    },
    {
     "data": {
      "application/vnd.jupyter.widget-view+json": {
       "model_id": "",
       "version_major": 2,
       "version_minor": 0
      },
      "text/plain": [
       "FloatProgress(value=0.0, bar_style='info', description='Progress:', layout=Layout(height='25px', width='50%'),…"
      ]
     },
     "metadata": {},
     "output_type": "display_data"
    }
   ],
   "source": [
    "#test_size is what % of data goes to test set vs training\n",
    "#random_state - use so that when comparing models - same data is always going to test and train sets\n",
    "xtrain, xtest, ytrain, ytest = train_test_split(X, y, test_size=0.2, random_state=9, stratify = y)"
   ]
  },
  {
   "cell_type": "code",
   "execution_count": 92,
   "metadata": {},
   "outputs": [
    {
     "data": {
      "application/vnd.jupyter.widget-view+json": {
       "model_id": "dffe0c60e0f34eec95953ce924d07f46",
       "version_major": 2,
       "version_minor": 0
      },
      "text/plain": [
       "VBox()"
      ]
     },
     "metadata": {},
     "output_type": "display_data"
    },
    {
     "data": {
      "application/vnd.jupyter.widget-view+json": {
       "model_id": "",
       "version_major": 2,
       "version_minor": 0
      },
      "text/plain": [
       "FloatProgress(value=0.0, bar_style='info', description='Progress:', layout=Layout(height='25px', width='50%'),…"
      ]
     },
     "metadata": {},
     "output_type": "display_data"
    },
    {
     "name": "stdout",
     "output_type": "stream",
     "text": [
      "                                                                                                                                                                                                                                                                                                                                                                                                                                                                                                                                                                             ALL_TEXT  \\\n",
      "310621  headline Great feel comment Very comfortable, perfect size, doesn't cut into my waist line. nickname swcasey2000-42 location undisclosed                                                                                                                                                                                                                                                                                                                                                                                                                                        \n",
      "203789  headline Not very good comment I used with the tanology water. The Mitt did help in applying the product evenly and better than using hands. However, after just a couple uses it started coming apart at the seams and all of the soft fibers have disappeared leaving only the rough, scratchy foam. nickname Sallie location Ohio                                                                                                                                                                                                                                            \n",
      "20225   headline I recommend comment Nice to clean the face with I would recommend nickname Veronica location Undisclosed                                                                                                                                                                                                                                                                                                                                                                                                                                                               \n",
      "198871  headline yes comment very nice..made well nickname susan location Undisclosed                                                                                                                                                                                                                                                                                                                                                                                                                                                                                                   \n",
      "421623  headline Everyday Reindeer comment I bought this for Christmas decor, but i left it out and it fits in for the whole year:-) nickname anonymous location Undisclosed                                                                                                                                                                                                                                                                                                                                                                                                            \n",
      "...                                                                                                                                                                      ...                                                                                                                                                                                                                                                                                                                                                                                                            \n",
      "449890  headline I would buy again comment Love the color and fabric nickname Leah location Undisclosed                                                                                                                                                                                                                                                                                                                                                                                                                                                                                 \n",
      "260897  headline Great foundation comment Amazing even coverage, lasts all day, doesn't feel heavy or look caked on. Really pleased with this product! nickname Sam2703 location undisclosed                                                                                                                                                                                                                                                                                                                                                                                            \n",
      "30396   headline ASTONISHING comment I loved it!!!! Everything I expected from the box was there I absolutely loved it and it's super cute!! nickname Belen location Goodyear                                                                                                                                                                                                                                                                                                                                                                                                           \n",
      "219786  headline Would buy again! comment Extremely comfortable and supportive for my neutral pronation and slightly high arched feet. Very responsive and great cushion for a mid foot striker but still has heel-to-toe transition. Sock-like fit adds secure feeling. nickname AlekZ location undisclosed                                                                                                                                                                                                                                                                            \n",
      "65926   headline Fabric and Construction lacking comment The fabric for these pants is not at all what I was expecting. It's heavy, rough and reminiscent of 70's polyester suits. It's full of wrinkles out of the dryer unless you are waiting right there to take it out the moment it stops spinning - likely due to the weight of the fabric in itself. I've only worn the charcoal pair once, washed once, and already the seam in the rear is coming apart. I loved the previous four-way stretch. Why can't you just keep making the ones that work? nickname mls location NY   \n",
      "\n",
      "        REVIEW_RATING  \n",
      "310621  5              \n",
      "203789  1              \n",
      "20225   4              \n",
      "198871  5              \n",
      "421623  5              \n",
      "...    ..              \n",
      "449890  5              \n",
      "260897  5              \n",
      "30396   5              \n",
      "219786  5              \n",
      "65926   1              \n",
      "\n",
      "[400000 rows x 2 columns]"
     ]
    }
   ],
   "source": [
    "print(xtrain)"
   ]
  },
  {
   "cell_type": "code",
   "execution_count": 93,
   "metadata": {},
   "outputs": [
    {
     "data": {
      "application/vnd.jupyter.widget-view+json": {
       "model_id": "c46a375c2faa43ffbc8be5361fa2cec5",
       "version_major": 2,
       "version_minor": 0
      },
      "text/plain": [
       "VBox()"
      ]
     },
     "metadata": {},
     "output_type": "display_data"
    },
    {
     "data": {
      "application/vnd.jupyter.widget-view+json": {
       "model_id": "",
       "version_major": 2,
       "version_minor": 0
      },
      "text/plain": [
       "FloatProgress(value=0.0, bar_style='info', description='Progress:', layout=Layout(height='25px', width='50%'),…"
      ]
     },
     "metadata": {},
     "output_type": "display_data"
    }
   ],
   "source": [
    "#analyzer : default = word, can also test n_grams\n",
    "#max_df :  ignore terms that have a document frequency strictly higher than the given threshold\n",
    "#max_features : set total # of features used\n",
    "vectorizer = TfidfVectorizer(analyzer = 'word', max_features = 30000, stop_words= 'english', lowercase=True)\n",
    "#vectors = vectorizer.fit_transform(reviews['ALL_TEXT'].values.astype('U'))\n",
    "tfidf_vectors_xtrain = vectorizer.fit_transform(xtrain['ALL_TEXT'].apply(lambda x: np.str_(x)))\n",
    "tfidf_vectors_xtest = vectorizer.transform(xtest['ALL_TEXT'].apply(lambda x: np.str_(x)))"
   ]
  },
  {
   "cell_type": "code",
   "execution_count": 94,
   "metadata": {},
   "outputs": [
    {
     "data": {
      "application/vnd.jupyter.widget-view+json": {
       "model_id": "9c41a9b6328f4a97870e1896654e80d7",
       "version_major": 2,
       "version_minor": 0
      },
      "text/plain": [
       "VBox()"
      ]
     },
     "metadata": {},
     "output_type": "display_data"
    },
    {
     "data": {
      "application/vnd.jupyter.widget-view+json": {
       "model_id": "",
       "version_major": 2,
       "version_minor": 0
      },
      "text/plain": [
       "FloatProgress(value=0.0, bar_style='info', description='Progress:', layout=Layout(height='25px', width='50%'),…"
      ]
     },
     "metadata": {},
     "output_type": "display_data"
    }
   ],
   "source": [
    "#print(tfidf_vectors_xtrain)\n",
    "#print(tfidf_vectors_xtest)"
   ]
  },
  {
   "cell_type": "code",
   "execution_count": 95,
   "metadata": {},
   "outputs": [
    {
     "data": {
      "application/vnd.jupyter.widget-view+json": {
       "model_id": "065000e1210a4fa38c3ea1ab9cb013d0",
       "version_major": 2,
       "version_minor": 0
      },
      "text/plain": [
       "VBox()"
      ]
     },
     "metadata": {},
     "output_type": "display_data"
    },
    {
     "data": {
      "application/vnd.jupyter.widget-view+json": {
       "model_id": "",
       "version_major": 2,
       "version_minor": 0
      },
      "text/plain": [
       "FloatProgress(value=0.0, bar_style='info', description='Progress:', layout=Layout(height='25px', width='50%'),…"
      ]
     },
     "metadata": {},
     "output_type": "display_data"
    }
   ],
   "source": [
    "#Test to see what output looks like - don't use for modeling - dense vectors are memory intensive\n",
    "#feature_names = vectorizer.get_feature_names()\n",
    "#dense = tfidf_vectors.todense()\n",
    "#denselist = dense.tolist()\n",
    "#df = pd.DataFrame(denselist, columns=feature_names)\n",
    "#df.head()"
   ]
  },
  {
   "cell_type": "code",
   "execution_count": 96,
   "metadata": {},
   "outputs": [
    {
     "data": {
      "application/vnd.jupyter.widget-view+json": {
       "model_id": "f37c0d6d85b14d13a1c10ff568123505",
       "version_major": 2,
       "version_minor": 0
      },
      "text/plain": [
       "VBox()"
      ]
     },
     "metadata": {},
     "output_type": "display_data"
    },
    {
     "data": {
      "application/vnd.jupyter.widget-view+json": {
       "model_id": "",
       "version_major": 2,
       "version_minor": 0
      },
      "text/plain": [
       "FloatProgress(value=0.0, bar_style='info', description='Progress:', layout=Layout(height='25px', width='50%'),…"
      ]
     },
     "metadata": {},
     "output_type": "display_data"
    }
   ],
   "source": [
    "#Convert ratings to sparse vector so can join to TF-IDF sparse vector\n",
    "ratings_vector_xtrain=sparse.csr_matrix((xtrain['REVIEW_RATING']/5).values).reshape(400000,1)\n",
    "#print(ratings_vector_xtrain)\n",
    "ratings_vector_xtest=sparse.csr_matrix((xtest['REVIEW_RATING']/5).values).reshape(100000,1)\n",
    "#print(ratings_vector_xtest)"
   ]
  },
  {
   "cell_type": "code",
   "execution_count": 97,
   "metadata": {},
   "outputs": [
    {
     "data": {
      "application/vnd.jupyter.widget-view+json": {
       "model_id": "776a55ca8bd049929a90bedf77fc5166",
       "version_major": 2,
       "version_minor": 0
      },
      "text/plain": [
       "VBox()"
      ]
     },
     "metadata": {},
     "output_type": "display_data"
    },
    {
     "data": {
      "application/vnd.jupyter.widget-view+json": {
       "model_id": "",
       "version_major": 2,
       "version_minor": 0
      },
      "text/plain": [
       "FloatProgress(value=0.0, bar_style='info', description='Progress:', layout=Layout(height='25px', width='50%'),…"
      ]
     },
     "metadata": {},
     "output_type": "display_data"
    }
   ],
   "source": [
    "#Combine TF-IDF and ratings vectors\n",
    "xtrain_final = sparse.hstack([tfidf_vectors_xtrain, ratings_vector_xtrain])\n",
    "#print(xtrain_final)\n",
    "xtest_final = sparse.hstack([tfidf_vectors_xtest, ratings_vector_xtest])\n",
    "#print(xtest_final)"
   ]
  },
  {
   "cell_type": "code",
   "execution_count": 98,
   "metadata": {},
   "outputs": [
    {
     "data": {
      "application/vnd.jupyter.widget-view+json": {
       "model_id": "d63a0830a6424d20bdd8ee15c76dd7aa",
       "version_major": 2,
       "version_minor": 0
      },
      "text/plain": [
       "VBox()"
      ]
     },
     "metadata": {},
     "output_type": "display_data"
    },
    {
     "data": {
      "application/vnd.jupyter.widget-view+json": {
       "model_id": "",
       "version_major": 2,
       "version_minor": 0
      },
      "text/plain": [
       "FloatProgress(value=0.0, bar_style='info', description='Progress:', layout=Layout(height='25px', width='50%'),…"
      ]
     },
     "metadata": {},
     "output_type": "display_data"
    }
   ],
   "source": [
    "#Support Vector Machine model\n",
    "clf = svm.SVC(probability=True)"
   ]
  },
  {
   "cell_type": "code",
   "execution_count": 99,
   "metadata": {},
   "outputs": [
    {
     "data": {
      "application/vnd.jupyter.widget-view+json": {
       "model_id": "07644dccf0c7489f9ce792ff7d913b96",
       "version_major": 2,
       "version_minor": 0
      },
      "text/plain": [
       "VBox()"
      ]
     },
     "metadata": {},
     "output_type": "display_data"
    },
    {
     "data": {
      "application/vnd.jupyter.widget-view+json": {
       "model_id": "",
       "version_major": 2,
       "version_minor": 0
      },
      "text/plain": [
       "FloatProgress(value=0.0, bar_style='info', description='Progress:', layout=Layout(height='25px', width='50%'),…"
      ]
     },
     "metadata": {},
     "output_type": "display_data"
    }
   ],
   "source": [
    "ytrain = ytrain['NR'].ravel()\n",
    "#ytrain.shape"
   ]
  },
  {
   "cell_type": "code",
   "execution_count": null,
   "metadata": {},
   "outputs": [
    {
     "data": {
      "application/vnd.jupyter.widget-view+json": {
       "model_id": "e2ef9436b5e8497cad35af96a4b6195e",
       "version_major": 2,
       "version_minor": 0
      },
      "text/plain": [
       "VBox()"
      ]
     },
     "metadata": {},
     "output_type": "display_data"
    },
    {
     "data": {
      "application/vnd.jupyter.widget-view+json": {
       "model_id": "f22fb3523a5b488482a1c035832f3d1a",
       "version_major": 2,
       "version_minor": 0
      },
      "text/plain": [
       "FloatProgress(value=0.0, bar_style='info', description='Progress:', layout=Layout(height='25px', width='50%'),…"
      ]
     },
     "metadata": {},
     "output_type": "display_data"
    }
   ],
   "source": [
    "#UserWarning: Label not 17 is present in all training examples.\n",
    "#Due to fact that 'US' does not appear in training set (is all 0s) \n",
    "#RESOLVES AS DATA SIZE INCREASES\n",
    "\n",
    "#Getting max iteration exceeded error\n",
    "#All TF-IDF features are range 0-1, scaled rating to be divided by 5 so that is also range 0-1\n",
    "#Lower max_features for TF-IDF to reduce dimensionality\n",
    "\n",
    "\n",
    "clf.fit(xtrain_final, ytrain)"
   ]
  },
  {
   "cell_type": "code",
   "execution_count": null,
   "metadata": {},
   "outputs": [],
   "source": [
    "#ytrain.dtypes\n",
    "#NO US LABEL\n",
    "ytrain.sum(axis=0)"
   ]
  },
  {
   "cell_type": "code",
   "execution_count": null,
   "metadata": {},
   "outputs": [],
   "source": [
    "y_pred = clf.predict(xtest_final)"
   ]
  },
  {
   "cell_type": "code",
   "execution_count": null,
   "metadata": {},
   "outputs": [],
   "source": []
  },
  {
   "cell_type": "code",
   "execution_count": null,
   "metadata": {},
   "outputs": [],
   "source": [
    "plt.clf()"
   ]
  },
  {
   "cell_type": "code",
   "execution_count": null,
   "metadata": {},
   "outputs": [],
   "source": [
    "%matplotlib inline"
   ]
  },
  {
   "cell_type": "code",
   "execution_count": null,
   "metadata": {},
   "outputs": [],
   "source": [
    "#Confusion matrix\n",
    "#confusion_matrix(ytest, y_pred)\n",
    "#tn, fp, fn, tp = confusion_matrix(ytest, y_pred).ravel()\n",
    "#print(\"TN: {}\".format(tn), \"FP: {}\".format(fp), \"FN: {}\".format(fn), \"TP: {}\".format(tp))\n",
    "plot_confusion_matrix(clf, xtest_final, ytest)\n",
    "plt.show()"
   ]
  },
  {
   "cell_type": "code",
   "execution_count": null,
   "metadata": {},
   "outputs": [],
   "source": [
    "%matplot plt"
   ]
  },
  {
   "cell_type": "code",
   "execution_count": null,
   "metadata": {},
   "outputs": [],
   "source": [
    "#Evaluating model performance\n",
    "#There are inherently mostly NOLABEL so accuracy could be high just bc of those\n",
    "#Want to make sure that when there is a label besides NOLABEL that it is being accurately predicted\n"
   ]
  },
  {
   "cell_type": "code",
   "execution_count": null,
   "metadata": {},
   "outputs": [],
   "source": [
    "#Model performance metrics\n",
    "#Assess at individual label level as well as overall\n",
    "\n",
    "#Accuracy is overall correct predictions - not great measurement tool for imbalanced data\n",
    "#Precision - TP / TP + FP = spam detection - don't want to mark something as spam (FP) when it isn't\n",
    "#Recall - TP / TP + FN = sickness - don't want to tell someone they aren't sick (FN) when they are and can spread it\n",
    "#F1 - balance of precision and recall\n",
    "\n",
    "#We want to make sure if bomb emoji then it gets marked - even at the expense of marking other things potentially offensive that aren't \n",
    "#Important not to have FN - USE RECALL\n",
    "#Also don't want to be marking a bunch of stuff as offensive when it isn't and making moderation do everything anyway\n",
    "#Important not to have too many FP - USE PRECISION\n",
    "#Use F1 for balance between both\n",
    "print(\"Accuracy is:  {}\" .format(accuracy_score(ytest, y_pred)))\n",
    "print(\"Precision is:  {}\" .format(precision_score(ytest, y_pred)))\n",
    "print(\"Recall is:  {}\" .format(recall_score(ytest, y_pred)))\n",
    "print(\"F1 Score is:  {}\" .format(f1_score(ytest, y_pred)))"
   ]
  },
  {
   "cell_type": "code",
   "execution_count": null,
   "metadata": {},
   "outputs": [],
   "source": [
    "print(classification_report(ytest,y_pred))"
   ]
  },
  {
   "cell_type": "code",
   "execution_count": null,
   "metadata": {},
   "outputs": [],
   "source": [
    "probs = clf.predict_proba(xtest_final)\n",
    "preds = probs[:,1]\n",
    "fpr, tpr, threshold = roc_curve(ytest, preds)\n",
    "roc_auc = auc(fpr, tpr)\n",
    "print(roc_auc)"
   ]
  },
  {
   "cell_type": "code",
   "execution_count": null,
   "metadata": {},
   "outputs": [],
   "source": [
    "plt.clf()"
   ]
  },
  {
   "cell_type": "code",
   "execution_count": null,
   "metadata": {},
   "outputs": [],
   "source": [
    "#ROC CURVE\n",
    "#Assumes we care about 0 and 1 classification the same - we don't\n",
    "#We care more about performance of 1 classification - use precision recall curve\n",
    "plt.title('Receiver Operating Characteristic')\n",
    "plt.plot(fpr, tpr, 'b', label = 'AUC = %0.4f' % roc_auc)\n",
    "plt.legend(loc = 'lower right')\n",
    "plt.plot([0, 1], [0, 1],'r--')\n",
    "plt.xlim([0, 1])\n",
    "plt.ylim([0, 1])\n",
    "plt.ylabel('True Positive Rate')\n",
    "plt.xlabel('False Positive Rate')\n",
    "plt.show()"
   ]
  },
  {
   "cell_type": "code",
   "execution_count": null,
   "metadata": {},
   "outputs": [],
   "source": [
    "%matplot plt"
   ]
  },
  {
   "cell_type": "code",
   "execution_count": null,
   "metadata": {},
   "outputs": [],
   "source": [
    "#Find best threshold (ROC Curve)\n",
    "#Ideally want tpr = 1 and fpr = 0, so want tpr - fpr as close to 1 as possible\n",
    "optimal_idx = np.argmax(tpr - fpr)\n",
    "optimal_threshold = threshold[optimal_idx]\n",
    "opt_tpr = tpr[optimal_idx]\n",
    "opt_fpr = fpr[optimal_idx]\n",
    "print(\"Optimal threshold value:\", optimal_threshold)\n",
    "print(\"Optimal tpr value:\", opt_tpr)\n",
    "print(\"Optimal fpr value:\", opt_fpr)"
   ]
  },
  {
   "cell_type": "code",
   "execution_count": null,
   "metadata": {},
   "outputs": [],
   "source": [
    "t = optimal_threshold\n",
    "y_pred_new = (preds >= t).astype(int)\n",
    "#y_pred_new"
   ]
  },
  {
   "cell_type": "code",
   "execution_count": null,
   "metadata": {},
   "outputs": [],
   "source": [
    "#Scores with best threshold cutoff\n",
    "print(\"Accuracy is:  {}\" .format(accuracy_score(ytest, y_pred_new)))\n",
    "print(\"Precision is:  {}\" .format(precision_score(ytest, y_pred_new)))\n",
    "print(\"Recall is:  {}\" .format(recall_score(ytest, y_pred_new)))\n",
    "print(\"F1 Score is:  {}\" .format(f1_score(ytest, y_pred_new)))"
   ]
  },
  {
   "cell_type": "code",
   "execution_count": null,
   "metadata": {},
   "outputs": [],
   "source": [
    "len(y_pred_new)"
   ]
  },
  {
   "cell_type": "code",
   "execution_count": null,
   "metadata": {},
   "outputs": [],
   "source": []
  },
  {
   "cell_type": "code",
   "execution_count": null,
   "metadata": {},
   "outputs": [],
   "source": [
    "#PRECISION RECALL CURVE\n",
    "#Better for what we want to assess which is how well label is assigned (i.e. when it gets a 1 instead of a 0)\n",
    "\n",
    "precision, recall, pr_threshold = precision_recall_curve(ytest, preds)\n",
    "auc = auc(recall, precision)"
   ]
  },
  {
   "cell_type": "code",
   "execution_count": null,
   "metadata": {},
   "outputs": [],
   "source": [
    "plt.clf()"
   ]
  },
  {
   "cell_type": "code",
   "execution_count": null,
   "metadata": {},
   "outputs": [],
   "source": [
    "plt.title('Precision - Recall Curve')\n",
    "plt.plot(recall, precision, 'b', label = 'AUC = %0.4f' % auc)\n",
    "plt.legend(loc = 'lower right')\n",
    "no_skill = len(ytest[ytest['NR']==1]) / len(ytest)\n",
    "plt.plot([0, 1], [no_skill, no_skill], 'r--', label='No Skill')\n",
    "#plt.xlim([0, 1])\n",
    "#plt.ylim([0, 1])\n",
    "plt.ylabel('Precision')\n",
    "plt.xlabel('Recall')\n",
    "plt.show()"
   ]
  },
  {
   "cell_type": "code",
   "execution_count": null,
   "metadata": {},
   "outputs": [],
   "source": [
    "%matplot plt"
   ]
  },
  {
   "cell_type": "code",
   "execution_count": null,
   "metadata": {},
   "outputs": [],
   "source": [
    "#Best F1 score optimizes precision recall trade off\n",
    "\n",
    "fscore = (2 * precision * recall) / (precision + recall)\n",
    "ix = argmax(fscore)\n",
    "print('Best Threshold=%f, F-Score=%.3f' % (pr_threshold[ix], fscore[ix]))\n",
    "\n",
    "print('Recall=%f' % recall[ix])\n",
    "print('Precision=%f' % precision[ix])"
   ]
  },
  {
   "cell_type": "code",
   "execution_count": null,
   "metadata": {},
   "outputs": [],
   "source": [
    "#LOGISTIC REGRESSION\n",
    "\n",
    "#Single tokens\n",
    "#data set = 500,000\n",
    "#max_features = 30000\n",
    "#Best Threshold=0.209417, F-Score=0.498\n",
    "#Recall 0.49516908212560384\n",
    "#Precision 0.5012224938875306\n",
    "\n",
    "\n",
    "#Single tokens\n",
    "#data set = 500,000\n",
    "#max_features = 50000\n",
    "#Best Threshold=0.200349, F-Score=0.499\n",
    "#Recall=0.504227\n",
    "#Precision=0.494083\n",
    "\n",
    "#Single tokens\n",
    "#data set = 5,000,000\n",
    "#max_features = 50000\n",
    "#Best Threshold=0.200349, F-Score=0.499\n",
    "#Recall=0.504227\n",
    "#Precision=0.494083\n",
    "\n",
    "#2 n-grams\n",
    "#data set = 5,000,000\n",
    "#max_features = 50000\n",
    "#Best Threshold=0.221356, F-Score=0.484\n",
    "#Recall=0.471806\n",
    "#Precision=0.495870\n",
    "\n",
    "#3 n-grams\n",
    "#data set = 5,000,000\n",
    "#max_features = 50000 or 30000\n",
    "#BOTH MAX FEATURE SIZES GIVE MEMORY ERROR\n",
    "\n",
    "#Word embeddings\n",
    "#data set = 500,000\n",
    "#Best Threshold=0.228202, F-Score=0.471\n",
    "#Recall=0.454545\n",
    "#Precision=0.488506\n",
    "\n",
    "\n",
    "###SVM\n",
    "#Single token\n",
    "#Data set = 500,000\n",
    "#max_features = 30000\n"
   ]
  },
  {
   "cell_type": "code",
   "execution_count": null,
   "metadata": {},
   "outputs": [],
   "source": []
  },
  {
   "cell_type": "code",
   "execution_count": null,
   "metadata": {},
   "outputs": [],
   "source": []
  },
  {
   "cell_type": "code",
   "execution_count": null,
   "metadata": {},
   "outputs": [],
   "source": []
  }
 ],
 "metadata": {
  "kernelspec": {
   "display_name": "PySpark",
   "language": "",
   "name": "pysparkkernel"
  },
  "language_info": {
   "codemirror_mode": {
    "name": "python",
    "version": 2
   },
   "mimetype": "text/x-python",
   "name": "pyspark",
   "pygments_lexer": "python2"
  }
 },
 "nbformat": 4,
 "nbformat_minor": 4
}
