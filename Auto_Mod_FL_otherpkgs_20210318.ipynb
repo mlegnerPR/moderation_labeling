{
 "cells": [
  {
   "cell_type": "code",
   "execution_count": 1,
   "metadata": {},
   "outputs": [
    {
     "data": {
      "application/vnd.jupyter.widget-view+json": {
       "model_id": "a5c333b486084740826cc505bd27f23a",
       "version_major": 2,
       "version_minor": 0
      },
      "text/plain": [
       "VBox()"
      ]
     },
     "metadata": {},
     "output_type": "display_data"
    },
    {
     "name": "stdout",
     "output_type": "stream",
     "text": [
      "Starting Spark application\n"
     ]
    },
    {
     "data": {
      "text/html": [
       "<table>\n",
       "<tr><th>ID</th><th>YARN Application ID</th><th>Kind</th><th>State</th><th>Spark UI</th><th>Driver log</th><th>Current session?</th></tr><tr><td>0</td><td>application_1616589606726_0001</td><td>pyspark</td><td>idle</td><td><a target=\"_blank\" href=\"http://ip-10-101-214-91.us-west-2.compute.internal:20888/proxy/application_1616589606726_0001/\">Link</a></td><td><a target=\"_blank\" href=\"http://ip-10-101-214-91.us-west-2.compute.internal:8042/node/containerlogs/container_1616589606726_0001_01_000001/livy\">Link</a></td><td>✔</td></tr></table>"
      ],
      "text/plain": [
       "<IPython.core.display.HTML object>"
      ]
     },
     "metadata": {},
     "output_type": "display_data"
    },
    {
     "data": {
      "application/vnd.jupyter.widget-view+json": {
       "model_id": "",
       "version_major": 2,
       "version_minor": 0
      },
      "text/plain": [
       "FloatProgress(value=0.0, bar_style='info', description='Progress:', layout=Layout(height='25px', width='50%'),…"
      ]
     },
     "metadata": {},
     "output_type": "display_data"
    },
    {
     "name": "stdout",
     "output_type": "stream",
     "text": [
      "SparkSession available as 'spark'.\n"
     ]
    },
    {
     "data": {
      "application/vnd.jupyter.widget-view+json": {
       "model_id": "",
       "version_major": 2,
       "version_minor": 0
      },
      "text/plain": [
       "FloatProgress(value=0.0, bar_style='info', description='Progress:', layout=Layout(height='25px', width='50%'),…"
      ]
     },
     "metadata": {},
     "output_type": "display_data"
    }
   ],
   "source": [
    "#Import packages\n",
    "import boto3\n",
    "import json\n",
    "import numpy as np\n",
    "from numpy import argmax\n",
    "import pyspark.sql.functions as F\n",
    "import snowflake.connector\n",
    "import pandas as pd\n",
    "import spacy\n",
    "import matplotlib.pyplot as plt\n",
    "from vaderSentiment.vaderSentiment import SentimentIntensityAnalyzer\n",
    "from urllib.parse import urlparse\n",
    "from langdetect import detect\n",
    "from textblob import TextBlob\n",
    "#RegEx\n",
    "import regex as re"
   ]
  },
  {
   "cell_type": "code",
   "execution_count": 14,
   "metadata": {},
   "outputs": [
    {
     "data": {
      "application/vnd.jupyter.widget-view+json": {
       "model_id": "59eac27c2c5a400688d5b272c374290e",
       "version_major": 2,
       "version_minor": 0
      },
      "text/plain": [
       "VBox()"
      ]
     },
     "metadata": {},
     "output_type": "display_data"
    },
    {
     "data": {
      "application/vnd.jupyter.widget-view+json": {
       "model_id": "",
       "version_major": 2,
       "version_minor": 0
      },
      "text/plain": [
       "FloatProgress(value=0.0, bar_style='info', description='Progress:', layout=Layout(height='25px', width='50%'),…"
      ]
     },
     "metadata": {},
     "output_type": "display_data"
    }
   ],
   "source": [
    "#textblob package\n",
    "\n",
    "from textblob import TextBlob\n",
    "\n",
    "text = '''\n",
    "excellent\n",
    "'''\n",
    "\n",
    "blob = TextBlob(text)"
   ]
  },
  {
   "cell_type": "code",
   "execution_count": 15,
   "metadata": {},
   "outputs": [
    {
     "data": {
      "application/vnd.jupyter.widget-view+json": {
       "model_id": "c949b728b7ea45dd87a8f987e0057cb8",
       "version_major": 2,
       "version_minor": 0
      },
      "text/plain": [
       "VBox()"
      ]
     },
     "metadata": {},
     "output_type": "display_data"
    },
    {
     "data": {
      "application/vnd.jupyter.widget-view+json": {
       "model_id": "",
       "version_major": 2,
       "version_minor": 0
      },
      "text/plain": [
       "FloatProgress(value=0.0, bar_style='info', description='Progress:', layout=Layout(height='25px', width='50%'),…"
      ]
     },
     "metadata": {},
     "output_type": "display_data"
    },
    {
     "name": "stdout",
     "output_type": "stream",
     "text": [
      "[('excellent', 'NN')]"
     ]
    }
   ],
   "source": [
    "blob.tags"
   ]
  },
  {
   "cell_type": "code",
   "execution_count": 16,
   "metadata": {},
   "outputs": [
    {
     "data": {
      "application/vnd.jupyter.widget-view+json": {
       "model_id": "c7bee1ab6b864656b53ca81f28e60954",
       "version_major": 2,
       "version_minor": 0
      },
      "text/plain": [
       "VBox()"
      ]
     },
     "metadata": {},
     "output_type": "display_data"
    },
    {
     "data": {
      "application/vnd.jupyter.widget-view+json": {
       "model_id": "",
       "version_major": 2,
       "version_minor": 0
      },
      "text/plain": [
       "FloatProgress(value=0.0, bar_style='info', description='Progress:', layout=Layout(height='25px', width='50%'),…"
      ]
     },
     "metadata": {},
     "output_type": "display_data"
    },
    {
     "name": "stderr",
     "output_type": "stream",
     "text": [
      "HTTP Error 429: Too Many Requests\n",
      "Traceback (most recent call last):\n",
      "  File \"/usr/local/lib/python3.7/site-packages/textblob/blob.py\", line 547, in translate\n",
      "    from_lang=from_lang, to_lang=to))\n",
      "  File \"/usr/local/lib/python3.7/site-packages/textblob/translate.py\", line 54, in translate\n",
      "    response = self._request(url, host=host, type_=type_, data=data)\n",
      "  File \"/usr/local/lib/python3.7/site-packages/textblob/translate.py\", line 92, in _request\n",
      "    resp = request.urlopen(req)\n",
      "  File \"/usr/lib64/python3.7/urllib/request.py\", line 222, in urlopen\n",
      "    return opener.open(url, data, timeout)\n",
      "  File \"/usr/lib64/python3.7/urllib/request.py\", line 531, in open\n",
      "    response = meth(req, response)\n",
      "  File \"/usr/lib64/python3.7/urllib/request.py\", line 641, in http_response\n",
      "    'http', request, response, code, msg, hdrs)\n",
      "  File \"/usr/lib64/python3.7/urllib/request.py\", line 563, in error\n",
      "    result = self._call_chain(*args)\n",
      "  File \"/usr/lib64/python3.7/urllib/request.py\", line 503, in _call_chain\n",
      "    result = func(*args)\n",
      "  File \"/usr/lib64/python3.7/urllib/request.py\", line 755, in http_error_302\n",
      "    return self.parent.open(new, timeout=req.timeout)\n",
      "  File \"/usr/lib64/python3.7/urllib/request.py\", line 531, in open\n",
      "    response = meth(req, response)\n",
      "  File \"/usr/lib64/python3.7/urllib/request.py\", line 641, in http_response\n",
      "    'http', request, response, code, msg, hdrs)\n",
      "  File \"/usr/lib64/python3.7/urllib/request.py\", line 569, in error\n",
      "    return self._call_chain(*args)\n",
      "  File \"/usr/lib64/python3.7/urllib/request.py\", line 503, in _call_chain\n",
      "    result = func(*args)\n",
      "  File \"/usr/lib64/python3.7/urllib/request.py\", line 649, in http_error_default\n",
      "    raise HTTPError(req.full_url, code, msg, hdrs, fp)\n",
      "urllib.error.HTTPError: HTTP Error 429: Too Many Requests\n",
      "\n"
     ]
    }
   ],
   "source": [
    "#Believe these fail bc it uses Google Translate and either it's not connecting right or Google is rejecting bc of ip address or something else\n",
    "blob.translate(to=\"es\")"
   ]
  },
  {
   "cell_type": "code",
   "execution_count": 17,
   "metadata": {},
   "outputs": [
    {
     "data": {
      "application/vnd.jupyter.widget-view+json": {
       "model_id": "f52f382cf4ee4fe79e543af8b7a1913e",
       "version_major": 2,
       "version_minor": 0
      },
      "text/plain": [
       "VBox()"
      ]
     },
     "metadata": {},
     "output_type": "display_data"
    },
    {
     "data": {
      "application/vnd.jupyter.widget-view+json": {
       "model_id": "",
       "version_major": 2,
       "version_minor": 0
      },
      "text/plain": [
       "FloatProgress(value=0.0, bar_style='info', description='Progress:', layout=Layout(height='25px', width='50%'),…"
      ]
     },
     "metadata": {},
     "output_type": "display_data"
    },
    {
     "name": "stderr",
     "output_type": "stream",
     "text": [
      "HTTP Error 429: Too Many Requests\n",
      "Traceback (most recent call last):\n",
      "  File \"/usr/local/lib/python3.7/site-packages/textblob/blob.py\", line 568, in detect_language\n",
      "    return self.translator.detect(self.raw)\n",
      "  File \"/usr/local/lib/python3.7/site-packages/textblob/translate.py\", line 72, in detect\n",
      "    response = self._request(url, host=host, type_=type_, data=data)\n",
      "  File \"/usr/local/lib/python3.7/site-packages/textblob/translate.py\", line 92, in _request\n",
      "    resp = request.urlopen(req)\n",
      "  File \"/usr/lib64/python3.7/urllib/request.py\", line 222, in urlopen\n",
      "    return opener.open(url, data, timeout)\n",
      "  File \"/usr/lib64/python3.7/urllib/request.py\", line 531, in open\n",
      "    response = meth(req, response)\n",
      "  File \"/usr/lib64/python3.7/urllib/request.py\", line 641, in http_response\n",
      "    'http', request, response, code, msg, hdrs)\n",
      "  File \"/usr/lib64/python3.7/urllib/request.py\", line 563, in error\n",
      "    result = self._call_chain(*args)\n",
      "  File \"/usr/lib64/python3.7/urllib/request.py\", line 503, in _call_chain\n",
      "    result = func(*args)\n",
      "  File \"/usr/lib64/python3.7/urllib/request.py\", line 755, in http_error_302\n",
      "    return self.parent.open(new, timeout=req.timeout)\n",
      "  File \"/usr/lib64/python3.7/urllib/request.py\", line 531, in open\n",
      "    response = meth(req, response)\n",
      "  File \"/usr/lib64/python3.7/urllib/request.py\", line 641, in http_response\n",
      "    'http', request, response, code, msg, hdrs)\n",
      "  File \"/usr/lib64/python3.7/urllib/request.py\", line 569, in error\n",
      "    return self._call_chain(*args)\n",
      "  File \"/usr/lib64/python3.7/urllib/request.py\", line 503, in _call_chain\n",
      "    result = func(*args)\n",
      "  File \"/usr/lib64/python3.7/urllib/request.py\", line 649, in http_error_default\n",
      "    raise HTTPError(req.full_url, code, msg, hdrs, fp)\n",
      "urllib.error.HTTPError: HTTP Error 429: Too Many Requests\n",
      "\n"
     ]
    }
   ],
   "source": [
    "blob.detect_language()"
   ]
  },
  {
   "cell_type": "code",
   "execution_count": 6,
   "metadata": {},
   "outputs": [
    {
     "data": {
      "application/vnd.jupyter.widget-view+json": {
       "model_id": "6687276fa6f0469c95b54745bea52b1b",
       "version_major": 2,
       "version_minor": 0
      },
      "text/plain": [
       "VBox()"
      ]
     },
     "metadata": {},
     "output_type": "display_data"
    },
    {
     "data": {
      "application/vnd.jupyter.widget-view+json": {
       "model_id": "",
       "version_major": 2,
       "version_minor": 0
      },
      "text/plain": [
       "FloatProgress(value=0.0, bar_style='info', description='Progress:', layout=Layout(height='25px', width='50%'),…"
      ]
     },
     "metadata": {},
     "output_type": "display_data"
    },
    {
     "name": "stdout",
     "output_type": "stream",
     "text": [
      "'cy'"
     ]
    }
   ],
   "source": [
    "#guess_language package\n",
    "\n",
    "\n",
    "from guess_language import guess_language\n",
    "#guess_language(\"Ces eaux regorgent de renégats et de voleurs.\")\n",
    "\n",
    "#Need separate thing if less than ~20 characters\n",
    "#https://pypi.org/project/guess_language-spirit/\n",
    "#Need PyEnchant (spell checker with dictionaries) - not sure how to use this for detecting langs\n",
    "#and how many dictionaries needed bc we support LOTS of different languages\n",
    "guess_language(\"good good good good good\")\n",
    "#guess_language(\"i like this it is awesome\")"
   ]
  },
  {
   "cell_type": "code",
   "execution_count": null,
   "metadata": {},
   "outputs": [],
   "source": []
  },
  {
   "cell_type": "code",
   "execution_count": 7,
   "metadata": {},
   "outputs": [
    {
     "data": {
      "application/vnd.jupyter.widget-view+json": {
       "model_id": "4127c29d88bd4189b0950a10bf5928e6",
       "version_major": 2,
       "version_minor": 0
      },
      "text/plain": [
       "VBox()"
      ]
     },
     "metadata": {},
     "output_type": "display_data"
    },
    {
     "data": {
      "application/vnd.jupyter.widget-view+json": {
       "model_id": "",
       "version_major": 2,
       "version_minor": 0
      },
      "text/plain": [
       "FloatProgress(value=0.0, bar_style='info', description='Progress:', layout=Layout(height='25px', width='50%'),…"
      ]
     },
     "metadata": {},
     "output_type": "display_data"
    },
    {
     "name": "stderr",
     "output_type": "stream",
     "text": [
      "No module named 'icu'\n",
      "Traceback (most recent call last):\n",
      "  File \"/usr/local/lib/python3.7/site-packages/polyglot/detect/__init__.py\", line 1, in <module>\n",
      "    from .base import Detector, Language\n",
      "  File \"/usr/local/lib/python3.7/site-packages/polyglot/detect/base.py\", line 11, in <module>\n",
      "    from icu import Locale\n",
      "ModuleNotFoundError: No module named 'icu'\n",
      "\n"
     ]
    }
   ],
   "source": [
    "#polyglot package\n",
    "\n",
    "#Errors\n",
    "#Need to also install\n",
    "#sudo apt-get install python-numpy libicu-dev\n",
    "from polyglot.detect import Detector\n",
    "\n",
    "arabic_text = u\"\"\"\n",
    "أفاد مصدر امني في قيادة عمليات صلاح الدين في العراق بأن \" القوات الامنية تتوقف لليوم\n",
    "الثالث على التوالي عن التقدم الى داخل مدينة تكريت بسبب\n",
    "انتشار قناصي التنظيم الذي يطلق على نفسه اسم \"الدولة الاسلامية\" والعبوات الناسفة\n",
    "والمنازل المفخخة والانتحاريين، فضلا عن ان القوات الامنية تنتظر وصول تعزيزات اضافية \".\n",
    "\"\"\"\n",
    "\n",
    "detector = Detector(arabic_text)\n",
    "print(detector.language)"
   ]
  },
  {
   "cell_type": "code",
   "execution_count": null,
   "metadata": {},
   "outputs": [],
   "source": []
  },
  {
   "cell_type": "code",
   "execution_count": 19,
   "metadata": {},
   "outputs": [
    {
     "data": {
      "application/vnd.jupyter.widget-view+json": {
       "model_id": "879b187dc48049e8895bff98ee30a5ba",
       "version_major": 2,
       "version_minor": 0
      },
      "text/plain": [
       "VBox()"
      ]
     },
     "metadata": {},
     "output_type": "display_data"
    },
    {
     "data": {
      "application/vnd.jupyter.widget-view+json": {
       "model_id": "",
       "version_major": 2,
       "version_minor": 0
      },
      "text/plain": [
       "FloatProgress(value=0.0, bar_style='info', description='Progress:', layout=Layout(height='25px', width='50%'),…"
      ]
     },
     "metadata": {},
     "output_type": "display_data"
    },
    {
     "name": "stderr",
     "output_type": "stream",
     "text": [
      "'NoneType' object has no attribute 'group'\n",
      "Traceback (most recent call last):\n",
      "  File \"/usr/local/lib/python3.7/site-packages/googletrans/client.py\", line 255, in detect\n",
      "    data = self._translate(text, 'en', 'auto', kwargs)\n",
      "  File \"/usr/local/lib/python3.7/site-packages/googletrans/client.py\", line 78, in _translate\n",
      "    token = self.token_acquirer.do(text)\n",
      "  File \"/usr/local/lib/python3.7/site-packages/googletrans/gtoken.py\", line 194, in do\n",
      "    self._update()\n",
      "  File \"/usr/local/lib/python3.7/site-packages/googletrans/gtoken.py\", line 62, in _update\n",
      "    code = self.RE_TKK.search(r.text).group(1).replace('var ', '')\n",
      "AttributeError: 'NoneType' object has no attribute 'group'\n",
      "\n"
     ]
    }
   ],
   "source": [
    "#googletrans\n",
    "\n",
    "\n",
    "#Error - probably bc calls Google API and I think this notebook through EMR cluster can't call the same way my local machine might\n",
    "from googletrans import Translator\n",
    "t = Translator().detect(\"hello world!\")\n",
    "t.lang\n",
    "\n",
    "#t.confidence"
   ]
  },
  {
   "cell_type": "code",
   "execution_count": 20,
   "metadata": {},
   "outputs": [
    {
     "data": {
      "application/vnd.jupyter.widget-view+json": {
       "model_id": "96666a45c31a45b2ac099c05ca2e1f27",
       "version_major": 2,
       "version_minor": 0
      },
      "text/plain": [
       "VBox()"
      ]
     },
     "metadata": {},
     "output_type": "display_data"
    },
    {
     "data": {
      "application/vnd.jupyter.widget-view+json": {
       "model_id": "",
       "version_major": 2,
       "version_minor": 0
      },
      "text/plain": [
       "FloatProgress(value=0.0, bar_style='info', description='Progress:', layout=Layout(height='25px', width='50%'),…"
      ]
     },
     "metadata": {},
     "output_type": "display_data"
    },
    {
     "name": "stderr",
     "output_type": "stream",
     "text": [
      "'NoneType' object has no attribute 'group'\n",
      "Traceback (most recent call last):\n",
      "  File \"/usr/local/lib/python3.7/site-packages/googletrans/client.py\", line 182, in translate\n",
      "    data = self._translate(text, dest, src, kwargs)\n",
      "  File \"/usr/local/lib/python3.7/site-packages/googletrans/client.py\", line 78, in _translate\n",
      "    token = self.token_acquirer.do(text)\n",
      "  File \"/usr/local/lib/python3.7/site-packages/googletrans/gtoken.py\", line 194, in do\n",
      "    self._update()\n",
      "  File \"/usr/local/lib/python3.7/site-packages/googletrans/gtoken.py\", line 62, in _update\n",
      "    code = self.RE_TKK.search(r.text).group(1).replace('var ', '')\n",
      "AttributeError: 'NoneType' object has no attribute 'group'\n",
      "\n"
     ]
    }
   ],
   "source": [
    "from googletrans import Translator\n",
    "translator = Translator(service_urls=['translate.googleapis.com'])\n",
    "translator.translate(\"Der Himmel ist blau und ich mag Bananen\", dest='en')"
   ]
  },
  {
   "cell_type": "code",
   "execution_count": 6,
   "metadata": {},
   "outputs": [
    {
     "data": {
      "application/vnd.jupyter.widget-view+json": {
       "model_id": "37f460702dd1464a9a7498ddc2d682e7",
       "version_major": 2,
       "version_minor": 0
      },
      "text/plain": [
       "VBox()"
      ]
     },
     "metadata": {},
     "output_type": "display_data"
    },
    {
     "data": {
      "application/vnd.jupyter.widget-view+json": {
       "model_id": "",
       "version_major": 2,
       "version_minor": 0
      },
      "text/plain": [
       "FloatProgress(value=0.0, bar_style='info', description='Progress:', layout=Layout(height='25px', width='50%'),…"
      ]
     },
     "metadata": {},
     "output_type": "display_data"
    },
    {
     "name": "stdout",
     "output_type": "stream",
     "text": [
      "en"
     ]
    }
   ],
   "source": [
    "from google_trans_new import google_translator  \n",
    "  \n",
    "detector = google_translator()  \n",
    "detect_result = detector.detect('this is excelent')\n",
    "\n",
    "print(detect_result[0])"
   ]
  },
  {
   "cell_type": "code",
   "execution_count": 9,
   "metadata": {},
   "outputs": [
    {
     "data": {
      "application/vnd.jupyter.widget-view+json": {
       "model_id": "d32772e396534d95bffea6b8e6eda853",
       "version_major": 2,
       "version_minor": 0
      },
      "text/plain": [
       "VBox()"
      ]
     },
     "metadata": {},
     "output_type": "display_data"
    },
    {
     "data": {
      "application/vnd.jupyter.widget-view+json": {
       "model_id": "",
       "version_major": 2,
       "version_minor": 0
      },
      "text/plain": [
       "FloatProgress(value=0.0, bar_style='info', description='Progress:', layout=Layout(height='25px', width='50%'),…"
      ]
     },
     "metadata": {},
     "output_type": "display_data"
    },
    {
     "name": "stdout",
     "output_type": "stream",
     "text": [
      "{'language': 'en', 'score': 0.9999977076591322}"
     ]
    }
   ],
   "source": [
    "import spacy\n",
    "from spacy.language import Language\n",
    "from spacy_langdetect import LanguageDetector\n",
    "\n",
    "def get_lang_detector(nlp, name):\n",
    "    return LanguageDetector()\n",
    "\n",
    "nlp = spacy.load(\"en_core_web_sm\")\n",
    "Language.factory(\"language_detector\", func=get_lang_detector)\n",
    "nlp.add_pipe('language_detector', last=True)\n",
    "text = 'This is an english text.'\n",
    "doc = nlp(text)\n",
    "print(doc._.language)"
   ]
  },
  {
   "cell_type": "code",
   "execution_count": 10,
   "metadata": {},
   "outputs": [
    {
     "data": {
      "application/vnd.jupyter.widget-view+json": {
       "model_id": "03a33dd4779b4834a05f9d777414384f",
       "version_major": 2,
       "version_minor": 0
      },
      "text/plain": [
       "VBox()"
      ]
     },
     "metadata": {},
     "output_type": "display_data"
    },
    {
     "data": {
      "application/vnd.jupyter.widget-view+json": {
       "model_id": "",
       "version_major": 2,
       "version_minor": 0
      },
      "text/plain": [
       "FloatProgress(value=0.0, bar_style='info', description='Progress:', layout=Layout(height='25px', width='50%'),…"
      ]
     },
     "metadata": {},
     "output_type": "display_data"
    },
    {
     "name": "stdout",
     "output_type": "stream",
     "text": [
      "'en'"
     ]
    }
   ],
   "source": [
    "lang = doc._.language\n",
    "lang['language']"
   ]
  },
  {
   "cell_type": "code",
   "execution_count": 11,
   "metadata": {},
   "outputs": [
    {
     "data": {
      "application/vnd.jupyter.widget-view+json": {
       "model_id": "360ae469316c42fc81083b36e8fc1827",
       "version_major": 2,
       "version_minor": 0
      },
      "text/plain": [
       "VBox()"
      ]
     },
     "metadata": {},
     "output_type": "display_data"
    },
    {
     "data": {
      "application/vnd.jupyter.widget-view+json": {
       "model_id": "",
       "version_major": 2,
       "version_minor": 0
      },
      "text/plain": [
       "FloatProgress(value=0.0, bar_style='info', description='Progress:', layout=Layout(height='25px', width='50%'),…"
      ]
     },
     "metadata": {},
     "output_type": "display_data"
    },
    {
     "name": "stderr",
     "output_type": "stream",
     "text": [
      "No module named 'pycld2'\n",
      "Traceback (most recent call last):\n",
      "ModuleNotFoundError: No module named 'pycld2'\n",
      "\n"
     ]
    }
   ],
   "source": [
    "import pycld2"
   ]
  },
  {
   "cell_type": "code",
   "execution_count": 12,
   "metadata": {},
   "outputs": [
    {
     "data": {
      "application/vnd.jupyter.widget-view+json": {
       "model_id": "67ce5fcf91a94f5faed5e3cf6eca2d39",
       "version_major": 2,
       "version_minor": 0
      },
      "text/plain": [
       "VBox()"
      ]
     },
     "metadata": {},
     "output_type": "display_data"
    },
    {
     "data": {
      "application/vnd.jupyter.widget-view+json": {
       "model_id": "",
       "version_major": 2,
       "version_minor": 0
      },
      "text/plain": [
       "FloatProgress(value=0.0, bar_style='info', description='Progress:', layout=Layout(height='25px', width='50%'),…"
      ]
     },
     "metadata": {},
     "output_type": "display_data"
    },
    {
     "name": "stderr",
     "output_type": "stream",
     "text": [
      "No module named 'pycld2'\n",
      "Traceback (most recent call last):\n",
      "ModuleNotFoundError: No module named 'pycld2'\n",
      "\n"
     ]
    }
   ],
   "source": [
    "import pycld2 as cld2\n",
    "\n",
    "isReliable, textBytesFound, details = cld2.detect(\n",
    "    \"а неправильный формат идентификатора дн назад\"\n",
    ")\n",
    "\n",
    "print(isReliable)\n",
    "# True\n",
    "details[0]"
   ]
  },
  {
   "cell_type": "code",
   "execution_count": 45,
   "metadata": {},
   "outputs": [
    {
     "data": {
      "application/vnd.jupyter.widget-view+json": {
       "model_id": "3e831325505f47e089530e35797e904f",
       "version_major": 2,
       "version_minor": 0
      },
      "text/plain": [
       "VBox()"
      ]
     },
     "metadata": {},
     "output_type": "display_data"
    },
    {
     "data": {
      "application/vnd.jupyter.widget-view+json": {
       "model_id": "",
       "version_major": 2,
       "version_minor": 0
      },
      "text/plain": [
       "FloatProgress(value=0.0, bar_style='info', description='Progress:', layout=Layout(height='25px', width='50%'),…"
      ]
     },
     "metadata": {},
     "output_type": "display_data"
    },
    {
     "name": "stderr",
     "output_type": "stream",
     "text": [
      "The 'enchant' C library was not found and maybe needs to be installed.\n",
      "See  https://pyenchant.github.io/pyenchant/install.html\n",
      "for details\n",
      "\n",
      "Traceback (most recent call last):\n",
      "  File \"/usr/local/lib/python3.7/site-packages/enchant/__init__.py\", line 81, in <module>\n",
      "    from enchant import _enchant as _e\n",
      "  File \"/usr/local/lib/python3.7/site-packages/enchant/_enchant.py\", line 157, in <module>\n",
      "    raise ImportError(msg)\n",
      "ImportError: The 'enchant' C library was not found and maybe needs to be installed.\n",
      "See  https://pyenchant.github.io/pyenchant/install.html\n",
      "for details\n",
      "\n",
      "\n"
     ]
    }
   ],
   "source": [
    "#Use to check individual words if English or not\n",
    "#Error - need to install other libraries but not sure how to do this on EMR cluster\n",
    "\n",
    "import enchant\n",
    "d = enchant.Dict(\"en_US\")\n",
    "d.check(\"Hello\")"
   ]
  },
  {
   "cell_type": "code",
   "execution_count": 14,
   "metadata": {},
   "outputs": [
    {
     "data": {
      "application/vnd.jupyter.widget-view+json": {
       "model_id": "ce0b071b6f3a4512afc4d724d59cd2c0",
       "version_major": 2,
       "version_minor": 0
      },
      "text/plain": [
       "VBox()"
      ]
     },
     "metadata": {},
     "output_type": "display_data"
    },
    {
     "data": {
      "application/vnd.jupyter.widget-view+json": {
       "model_id": "",
       "version_major": 2,
       "version_minor": 0
      },
      "text/plain": [
       "FloatProgress(value=0.0, bar_style='info', description='Progress:', layout=Layout(height='25px', width='50%'),…"
      ]
     },
     "metadata": {},
     "output_type": "display_data"
    },
    {
     "name": "stdout",
     "output_type": "stream",
     "text": [
      "False"
     ]
    }
   ],
   "source": [
    "from nltk.corpus import words\n",
    "\"pasta\" in words.words()"
   ]
  },
  {
   "cell_type": "code",
   "execution_count": null,
   "metadata": {},
   "outputs": [],
   "source": []
  },
  {
   "cell_type": "code",
   "execution_count": 3,
   "metadata": {},
   "outputs": [
    {
     "data": {
      "application/vnd.jupyter.widget-view+json": {
       "model_id": "edee96f489634787b4f738605f3e57c3",
       "version_major": 2,
       "version_minor": 0
      },
      "text/plain": [
       "VBox()"
      ]
     },
     "metadata": {},
     "output_type": "display_data"
    },
    {
     "data": {
      "application/vnd.jupyter.widget-view+json": {
       "model_id": "",
       "version_major": 2,
       "version_minor": 0
      },
      "text/plain": [
       "FloatProgress(value=0.0, bar_style='info', description='Progress:', layout=Layout(height='25px', width='50%'),…"
      ]
     },
     "metadata": {},
     "output_type": "display_data"
    },
    {
     "name": "stdout",
     "output_type": "stream",
     "text": [
      "Calling DetectDominantLanguage\n",
      "{\n",
      "    \"Languages\": [\n",
      "        {\n",
      "            \"LanguageCode\": \"es\",\n",
      "            \"Score\": 0.854913055896759\n",
      "        },\n",
      "        {\n",
      "            \"LanguageCode\": \"en\",\n",
      "            \"Score\": 0.14185743033885956\n",
      "        }\n",
      "    ],\n",
      "    \"ResponseMetadata\": {\n",
      "        \"HTTPHeaders\": {\n",
      "            \"content-length\": \"113\",\n",
      "            \"content-type\": \"application/x-amz-json-1.1\",\n",
      "            \"date\": \"Tue, 06 Apr 2021 16:01:52 GMT\",\n",
      "            \"x-amzn-requestid\": \"8ccbd6f6-56b6-4a2c-a5a2-8e6dd14ceb6b\"\n",
      "        },\n",
      "        \"HTTPStatusCode\": 200,\n",
      "        \"RequestId\": \"8ccbd6f6-56b6-4a2c-a5a2-8e6dd14ceb6b\",\n",
      "        \"RetryAttempts\": 0\n",
      "    }\n",
      "}\n",
      "End of DetectDominantLanguage"
     ]
    }
   ],
   "source": [
    "import boto3\n",
    "import json\n",
    "\n",
    "comprehend = boto3.client(service_name='comprehend', region_name='us-west-2')\n",
    "text = \"Las flores son muy bonita\"\n",
    "\n",
    "print('Calling DetectDominantLanguage')\n",
    "print(json.dumps(comprehend.detect_dominant_language(Text = text), sort_keys=True, indent=4))\n",
    "print(\"End of DetectDominantLanguage\\n\")"
   ]
  },
  {
   "cell_type": "code",
   "execution_count": null,
   "metadata": {},
   "outputs": [],
   "source": []
  },
  {
   "cell_type": "code",
   "execution_count": null,
   "metadata": {},
   "outputs": [],
   "source": []
  },
  {
   "cell_type": "code",
   "execution_count": 15,
   "metadata": {},
   "outputs": [
    {
     "data": {
      "application/vnd.jupyter.widget-view+json": {
       "model_id": "5b954cb5ad034d28a7abd61a69503553",
       "version_major": 2,
       "version_minor": 0
      },
      "text/plain": [
       "VBox()"
      ]
     },
     "metadata": {},
     "output_type": "display_data"
    },
    {
     "data": {
      "application/vnd.jupyter.widget-view+json": {
       "model_id": "",
       "version_major": 2,
       "version_minor": 0
      },
      "text/plain": [
       "FloatProgress(value=0.0, bar_style='info', description='Progress:', layout=Layout(height='25px', width='50%'),…"
      ]
     },
     "metadata": {},
     "output_type": "display_data"
    }
   ],
   "source": [
    "sm_client = boto3.client('secretsmanager',region_name='us-west-2')\n",
    "secret_value = sm_client.get_secret_value(SecretId = 'emr_spark_qa')\n",
    "username = json.loads(secret_value['SecretString'])['emr_spark_username']\n",
    "password = json.loads(secret_value['SecretString'])['emr_spark_password']\n",
    "#print(username)\n",
    "#print(password)"
   ]
  },
  {
   "cell_type": "code",
   "execution_count": 16,
   "metadata": {},
   "outputs": [
    {
     "data": {
      "application/vnd.jupyter.widget-view+json": {
       "model_id": "be9b7f9d4f37461191660d59ae66ed19",
       "version_major": 2,
       "version_minor": 0
      },
      "text/plain": [
       "VBox()"
      ]
     },
     "metadata": {},
     "output_type": "display_data"
    },
    {
     "data": {
      "application/vnd.jupyter.widget-view+json": {
       "model_id": "",
       "version_major": 2,
       "version_minor": 0
      },
      "text/plain": [
       "FloatProgress(value=0.0, bar_style='info', description='Progress:', layout=Layout(height='25px', width='50%'),…"
      ]
     },
     "metadata": {},
     "output_type": "display_data"
    }
   ],
   "source": [
    "#PYTHON connection info\n",
    "conn = snowflake.connector.connect(\n",
    "    account='powerreviews',\n",
    "    database='analytics_prod',\n",
    "    warehouse='LOWER_ENV_WAREHOUSE',\n",
    "    user=username,\n",
    "    password=password\n",
    "    )\n"
   ]
  },
  {
   "cell_type": "code",
   "execution_count": 17,
   "metadata": {},
   "outputs": [
    {
     "data": {
      "application/vnd.jupyter.widget-view+json": {
       "model_id": "67dee84747ee49e6bba466396d2a48ac",
       "version_major": 2,
       "version_minor": 0
      },
      "text/plain": [
       "VBox()"
      ]
     },
     "metadata": {},
     "output_type": "display_data"
    },
    {
     "data": {
      "application/vnd.jupyter.widget-view+json": {
       "model_id": "",
       "version_major": 2,
       "version_minor": 0
      },
      "text/plain": [
       "FloatProgress(value=0.0, bar_style='info', description='Progress:', layout=Layout(height='25px', width='50%'),…"
      ]
     },
     "metadata": {},
     "output_type": "display_data"
    }
   ],
   "source": [
    "#Query some reviews\n",
    "query_1 = \"select distinct r.ugc_id, r.review_headline, r.review_comments, substr(r.locale,1,2) as lang, r.review_length, \\\n",
    "case when contains(r.observations, 'FL')  then 1 else 0 end as FL \\\n",
    "from analytics.review as r \\\n",
    "join analytics.merchant_group as mg \\\n",
    "on r.client_id = mg.client_id \\\n",
    "where contains(r.observations, 'PM') \\\n",
    "and not contains(r.observations, 'IA') and not contains(r.observations, 'IR') \\\n",
    "and mg.usage_type != 'Test' \\\n",
    "and r.created_date > '2020-01-01' \\\n",
    "limit 10000 \\\n",
    "\"\n",
    "\n",
    "#193267606, 324912854\n",
    "#and r.created_date > '2020-01-01' \\"
   ]
  },
  {
   "cell_type": "code",
   "execution_count": 18,
   "metadata": {},
   "outputs": [
    {
     "data": {
      "application/vnd.jupyter.widget-view+json": {
       "model_id": "157b55a60ec54d75a2e4cc88309cf34b",
       "version_major": 2,
       "version_minor": 0
      },
      "text/plain": [
       "VBox()"
      ]
     },
     "metadata": {},
     "output_type": "display_data"
    },
    {
     "data": {
      "application/vnd.jupyter.widget-view+json": {
       "model_id": "",
       "version_major": 2,
       "version_minor": 0
      },
      "text/plain": [
       "FloatProgress(value=0.0, bar_style='info', description='Progress:', layout=Layout(height='25px', width='50%'),…"
      ]
     },
     "metadata": {},
     "output_type": "display_data"
    },
    {
     "name": "stdout",
     "output_type": "stream",
     "text": [
      "<class 'pandas.core.frame.DataFrame'>\n",
      "RangeIndex: 100 entries, 0 to 99\n",
      "Data columns (total 6 columns):\n",
      " #   Column           Non-Null Count  Dtype \n",
      "---  ------           --------------  ----- \n",
      " 0   UGC_ID           100 non-null    int64 \n",
      " 1   REVIEW_HEADLINE  100 non-null    object\n",
      " 2   REVIEW_COMMENTS  100 non-null    object\n",
      " 3   LANG             100 non-null    object\n",
      " 4   REVIEW_LENGTH    100 non-null    int64 \n",
      " 5   FL               100 non-null    int64 \n",
      "dtypes: int64(3), object(3)\n",
      "memory usage: 4.8+ KB"
     ]
    }
   ],
   "source": [
    "reviews = pd.read_sql(query_1, conn)\n",
    "reviews.head()\n",
    "reviews.info()\n"
   ]
  },
  {
   "cell_type": "code",
   "execution_count": 19,
   "metadata": {},
   "outputs": [
    {
     "data": {
      "application/vnd.jupyter.widget-view+json": {
       "model_id": "3105cfe9f1204729857421d1dc835dc0",
       "version_major": 2,
       "version_minor": 0
      },
      "text/plain": [
       "VBox()"
      ]
     },
     "metadata": {},
     "output_type": "display_data"
    },
    {
     "data": {
      "application/vnd.jupyter.widget-view+json": {
       "model_id": "",
       "version_major": 2,
       "version_minor": 0
      },
      "text/plain": [
       "FloatProgress(value=0.0, bar_style='info', description='Progress:', layout=Layout(height='25px', width='50%'),…"
      ]
     },
     "metadata": {},
     "output_type": "display_data"
    }
   ],
   "source": [
    "#Need to add \"word\" in front bc otherwise reviews with just emojis, symbols, #s, etc will not work in langdetect package\n",
    "#Throws this error if no words: \"langdetect.lang_detect_exception.LangDetectException: No features in text.\"\n",
    "reviews['ALL_TEXT'] = reviews['REVIEW_HEADLINE'] + ' ' + reviews['REVIEW_COMMENTS']"
   ]
  },
  {
   "cell_type": "code",
   "execution_count": 20,
   "metadata": {},
   "outputs": [
    {
     "data": {
      "application/vnd.jupyter.widget-view+json": {
       "model_id": "c3aa706e07ba40e493619eea8c8cfb4b",
       "version_major": 2,
       "version_minor": 0
      },
      "text/plain": [
       "VBox()"
      ]
     },
     "metadata": {},
     "output_type": "display_data"
    },
    {
     "data": {
      "application/vnd.jupyter.widget-view+json": {
       "model_id": "",
       "version_major": 2,
       "version_minor": 0
      },
      "text/plain": [
       "FloatProgress(value=0.0, bar_style='info', description='Progress:', layout=Layout(height='25px', width='50%'),…"
      ]
     },
     "metadata": {},
     "output_type": "display_data"
    }
   ],
   "source": [
    "\n",
    "\n",
    "from guess_language import guess_language\n",
    "#guess_language(\"Ces eaux regorgent de renégats et de voleurs.\")\n",
    "\n",
    "#Need separate thing if less than ~20 characters\n",
    "#https://pypi.org/project/guess_language-spirit/\n",
    "#Need PyEnchant (spell checker with dictionaries) - not sure how to use this for detecting langs\n",
    "#and how many dictionaries needed bc we support LOTS of different languages\n",
    "\n",
    "#guess_language(\"good good good good good\")\n",
    "reviews['ALL_TEXT']=reviews['ALL_TEXT'].apply(str)\n",
    "reviews['PRED_LANG'] = reviews['ALL_TEXT'].apply(guess_language)\n"
   ]
  },
  {
   "cell_type": "code",
   "execution_count": 21,
   "metadata": {},
   "outputs": [
    {
     "data": {
      "application/vnd.jupyter.widget-view+json": {
       "model_id": "05b76981728c4162b83b778079524e7b",
       "version_major": 2,
       "version_minor": 0
      },
      "text/plain": [
       "VBox()"
      ]
     },
     "metadata": {},
     "output_type": "display_data"
    },
    {
     "data": {
      "application/vnd.jupyter.widget-view+json": {
       "model_id": "",
       "version_major": 2,
       "version_minor": 0
      },
      "text/plain": [
       "FloatProgress(value=0.0, bar_style='info', description='Progress:', layout=Layout(height='25px', width='50%'),…"
      ]
     },
     "metadata": {},
     "output_type": "display_data"
    }
   ],
   "source": [
    "#Check if 1st and 2nd words are in English dictionary set\n",
    "reviews['FIRST_WORD'] = reviews['ALL_TEXT'].str.split(' ').str[0]\n",
    "reviews['SECOND_WORD'] = reviews['ALL_TEXT'].str.split(' ').str[1]"
   ]
  },
  {
   "cell_type": "code",
   "execution_count": 22,
   "metadata": {},
   "outputs": [
    {
     "data": {
      "application/vnd.jupyter.widget-view+json": {
       "model_id": "acfbf535acb54e5ba867b229e43cc326",
       "version_major": 2,
       "version_minor": 0
      },
      "text/plain": [
       "VBox()"
      ]
     },
     "metadata": {},
     "output_type": "display_data"
    },
    {
     "data": {
      "application/vnd.jupyter.widget-view+json": {
       "model_id": "",
       "version_major": 2,
       "version_minor": 0
      },
      "text/plain": [
       "FloatProgress(value=0.0, bar_style='info', description='Progress:', layout=Layout(height='25px', width='50%'),…"
      ]
     },
     "metadata": {},
     "output_type": "display_data"
    },
    {
     "name": "stdout",
     "output_type": "stream",
     "text": [
      "<class 'pandas.core.frame.DataFrame'>\n",
      "RangeIndex: 100 entries, 0 to 99\n",
      "Data columns (total 10 columns):\n",
      " #   Column           Non-Null Count  Dtype \n",
      "---  ------           --------------  ----- \n",
      " 0   UGC_ID           100 non-null    int64 \n",
      " 1   REVIEW_HEADLINE  100 non-null    object\n",
      " 2   REVIEW_COMMENTS  100 non-null    object\n",
      " 3   LANG             100 non-null    object\n",
      " 4   REVIEW_LENGTH    100 non-null    int64 \n",
      " 5   FL               100 non-null    int64 \n",
      " 6   ALL_TEXT         100 non-null    object\n",
      " 7   PRED_LANG        100 non-null    object\n",
      " 8   FIRST_WORD       100 non-null    object\n",
      " 9   SECOND_WORD      100 non-null    object\n",
      "dtypes: int64(3), object(7)\n",
      "memory usage: 7.9+ KB"
     ]
    }
   ],
   "source": [
    "reviews.info()"
   ]
  },
  {
   "cell_type": "code",
   "execution_count": 23,
   "metadata": {},
   "outputs": [
    {
     "data": {
      "application/vnd.jupyter.widget-view+json": {
       "model_id": "6275cd9af46445e5b5943de0403fe8ed",
       "version_major": 2,
       "version_minor": 0
      },
      "text/plain": [
       "VBox()"
      ]
     },
     "metadata": {},
     "output_type": "display_data"
    },
    {
     "data": {
      "application/vnd.jupyter.widget-view+json": {
       "model_id": "",
       "version_major": 2,
       "version_minor": 0
      },
      "text/plain": [
       "FloatProgress(value=0.0, bar_style='info', description='Progress:', layout=Layout(height='25px', width='50%'),…"
      ]
     },
     "metadata": {},
     "output_type": "display_data"
    }
   ],
   "source": [
    "from nltk.corpus import words\n",
    "wordlist = words.words()\n",
    "#reviews['FIRST_WORD']=reviews['FIRST_WORD'].apply(str)\n",
    "reviews['test'] = reviews['FIRST_WORD'].isin(wordlist)"
   ]
  },
  {
   "cell_type": "code",
   "execution_count": 34,
   "metadata": {},
   "outputs": [
    {
     "data": {
      "application/vnd.jupyter.widget-view+json": {
       "model_id": "079b5a2a305a4ba39cfc222ae753125e",
       "version_major": 2,
       "version_minor": 0
      },
      "text/plain": [
       "VBox()"
      ]
     },
     "metadata": {},
     "output_type": "display_data"
    },
    {
     "data": {
      "application/vnd.jupyter.widget-view+json": {
       "model_id": "",
       "version_major": 2,
       "version_minor": 0
      },
      "text/plain": [
       "FloatProgress(value=0.0, bar_style='info', description='Progress:', layout=Layout(height='25px', width='50%'),…"
      ]
     },
     "metadata": {},
     "output_type": "display_data"
    },
    {
     "name": "stdout",
     "output_type": "stream",
     "text": [
      "[Synset('leather.n.01'), Synset('leather.v.01')]"
     ]
    }
   ],
   "source": [
    "wordnet.synsets(\"Leather\")"
   ]
  },
  {
   "cell_type": "code",
   "execution_count": 35,
   "metadata": {},
   "outputs": [
    {
     "data": {
      "application/vnd.jupyter.widget-view+json": {
       "model_id": "34d6d9cd55cb4b459bf5651ae6d252ec",
       "version_major": 2,
       "version_minor": 0
      },
      "text/plain": [
       "VBox()"
      ]
     },
     "metadata": {},
     "output_type": "display_data"
    },
    {
     "data": {
      "application/vnd.jupyter.widget-view+json": {
       "model_id": "",
       "version_major": 2,
       "version_minor": 0
      },
      "text/plain": [
       "FloatProgress(value=0.0, bar_style='info', description='Progress:', layout=Layout(height='25px', width='50%'),…"
      ]
     },
     "metadata": {},
     "output_type": "display_data"
    },
    {
     "name": "stdout",
     "output_type": "stream",
     "text": [
      "True"
     ]
    }
   ],
   "source": [
    "\"should\" in words.words()"
   ]
  },
  {
   "cell_type": "code",
   "execution_count": 36,
   "metadata": {},
   "outputs": [
    {
     "data": {
      "application/vnd.jupyter.widget-view+json": {
       "model_id": "8e23c4388d974ab5a9645150b90fe358",
       "version_major": 2,
       "version_minor": 0
      },
      "text/plain": [
       "VBox()"
      ]
     },
     "metadata": {},
     "output_type": "display_data"
    },
    {
     "data": {
      "application/vnd.jupyter.widget-view+json": {
       "model_id": "",
       "version_major": 2,
       "version_minor": 0
      },
      "text/plain": [
       "FloatProgress(value=0.0, bar_style='info', description='Progress:', layout=Layout(height='25px', width='50%'),…"
      ]
     },
     "metadata": {},
     "output_type": "display_data"
    },
    {
     "name": "stdout",
     "output_type": "stream",
     "text": [
      "       UGC_ID                             REVIEW_HEADLINE  \\\n",
      "0   282060739  We knew of SpringFree fro                    \n",
      "1   269284201  I would purchase this again.                 \n",
      "2   318907826  Love it!!                                    \n",
      "3   318907879  Nuun Immunity                                \n",
      "4   336905806  Leather balm                                 \n",
      "5   336928917  As always, awesome socks!                    \n",
      "6   336906245  Saved my Money.                              \n",
      "7   298126327  Beautiful magazine, just comes very late     \n",
      "8   336934937  very big                                     \n",
      "9   336916657  The shirts are comfortable, stylish          \n",
      "10  336924853  ...                                          \n",
      "11  298126961  OMG                                          \n",
      "12  298126330  Simply Beautiful                             \n",
      "13  269262930  Anyone have the instructions?                \n",
      "14  334836029  Great Product - however ...                  \n",
      "15  334833221  My hair felt sticky and                      \n",
      "16  269291186  Quality Accent Rug                           \n",
      "17  269269340  What a great store!!                         \n",
      "18  269324384  Decent enough; just be aware                 \n",
      "19  269310025  Would buy again!                             \n",
      "20  334833130  LOOOVE IT                                    \n",
      "21  269282589  Wish I could afford another one!             \n",
      "22  269271592  Lovely!                                      \n",
      "23  269269300  I am hoping to buy one for myself as well!   \n",
      "24  316319365  Great product                                \n",
      "\n",
      "                                                                                                                                                                                                                                                                                                                                                                                          REVIEW_COMMENTS  \\\n",
      "0   We knew of SpringFree from friends in MN, so when we needed a safe outlet for our kids' energy, we knew what we wanted-a SpringFree! The store was in Atlanta, GA, and we were outside of Chattanooga, TN: but they only charged a little bit for for the trouble and extra distance, and Installed it in less than an hour once they arrived. We are very satisfied, and very happy for the service.   \n",
      "1   If I ever need a mantel again, I will purchase it from your company. Your support has been exceptional. Thank you.                                                                                                                                                                                                                                                                                      \n",
      "2   Flavor is amazing. Love to drink it hot.                                                                                                                                                                                                                                                                                                                                                                \n",
      "3   Always love the taste of Nuun Immunity Orange Citrus! It has that great flavor and boost to my system that I need to keep me healthy!                                                                                                                                                                                                                                                                   \n",
      "4   Leather balm                                                                                                                                                                                                                                                                                                                                                                                            \n",
      "5   As always, awesome socks!                                                                                                                                                                                                                                                                                                                                                                               \n",
      "6   I have been wanting a pair of these since Christmas time and set aside money until I got them. Incredibly comfortable and worth the wait!                                                                                                                                                                                                                                                               \n",
      "7   By the time I receive the almanac the first month of content has already passed. I got mine today 3/30/20 and the content starts with things that apply to the entire month of March.                                                                                                                                                                                                                   \n",
      "8   belt was too long and the last notch has no impact on clothing. I wore it and can't return it                                                                                                                                                                                                                                                                                                           \n",
      "9   The shirts are comfortable, stylish and they wash nicely.                                                                                                                                                                                                                                                                                                                                               \n",
      "10  ...                                                                                                                                                                                                                                                                                                                                                                                                     \n",
      "11  so delicious! i love it!                                                                                                                                                                                                                                                                                                                                                                                \n",
      "12  This tray is just the right shape and size for many different uses. The \"doily \"design is very unique                                                                                                                                                                                                                                                                                                   \n",
      "13  We lost ours and are trying to figure out how to play!                                                                                                                                                                                                                                                                                                                                                  \n",
      "14  The Hair mask does deliver amazing results - hair felt so soft and healthy after using it just one time, however, i only got four uses out of the mask, and it is sooo expensive in my opinion. i managed to purchase using a coupon code i think, and during a special offer, but I simply could not afford to purchase it again, without another really good offer.                                   \n",
      "15  My hair felt sticky and dry. Not impressed for the money.                                                                                                                                                                                                                                                                                                                                               \n",
      "16  Not surprised about the quality and rich color of this accent rug from Plow and Hearth! Great find for my entryway! \\n#sweepstakes                                                                                                                                                                                                                                                                      \n",
      "17  I absolutely love it!! Good quality, good price and good service.👍👍                                                                                                                                                                                                                                                                                                                                     \n",
      "18  It's a bit cheap feeling compared to other cases in similar price range.  The hinges do feel like a bit of rough handling would snap them  Worked for the guitar, just doesn't feel like something that protects as well as the TSA suitable range does                                                                                                                                                 \n",
      "19  Novel gift for a beverage can drinker.                                                                                                                                                                                                                                                                                                                                                                  \n",
      "20  LOOOVE IT                                                                                                                                                                                                                                                                                                                                                                                               \n",
      "21  Really pretty. Will look great in my garden.                                                                                                                                                                                                                                                                                                                                                            \n",
      "22  Will use on recliner or sofa next Christmas. It is lovely and well made.                                                                                                                                                                                                                                                                                                                                \n",
      "23  Shipped it to my daughter for her birthday. Could not be with her because of the quarantine.\\nShe just LOVES it. Says it cheers her up every time she sees it, spinning in her garden.\\nLikes that it is natural tones, instead of rainbow colors.\\nIt is a hit!                                                                                                                                        \n",
      "24  This is new to me so I am giving it a whirl to see what effects it has on me.                                                                                                                                                                                                                                                                                                                           \n",
      "\n",
      "   LANG  REVIEW_LENGTH  FL  \\\n",
      "0   en   389            0    \n",
      "1   en   114            0    \n",
      "2   en   40             0    \n",
      "3   en   133            0    \n",
      "4   en   12             0    \n",
      "5   en   25             0    \n",
      "6   en   137            0    \n",
      "7   en   181            0    \n",
      "8   en   93             0    \n",
      "9   en   57             0    \n",
      "10  en   3              0    \n",
      "11  en   24             0    \n",
      "12  en   101            0    \n",
      "13  en   54             0    \n",
      "14  en   357            0    \n",
      "15  en   57             0    \n",
      "16  en   129            0    \n",
      "17  en   67             0    \n",
      "18  en   247            0    \n",
      "19  en   38             0    \n",
      "20  en   9              0    \n",
      "21  en   44             0    \n",
      "22  en   72             0    \n",
      "23  en   253            0    \n",
      "24  en   77             0    \n",
      "\n",
      "                                                                                                                                                                                                                                                                                                                                                                                                                           ALL_TEXT  \\\n",
      "0   We knew of SpringFree fro We knew of SpringFree from friends in MN, so when we needed a safe outlet for our kids' energy, we knew what we wanted-a SpringFree! The store was in Atlanta, GA, and we were outside of Chattanooga, TN: but they only charged a little bit for for the trouble and extra distance, and Installed it in less than an hour once they arrived. We are very satisfied, and very happy for the service.   \n",
      "1   I would purchase this again. If I ever need a mantel again, I will purchase it from your company. Your support has been exceptional. Thank you.                                                                                                                                                                                                                                                                                   \n",
      "2   Love it!! Flavor is amazing. Love to drink it hot.                                                                                                                                                                                                                                                                                                                                                                                \n",
      "3   Nuun Immunity Always love the taste of Nuun Immunity Orange Citrus! It has that great flavor and boost to my system that I need to keep me healthy!                                                                                                                                                                                                                                                                               \n",
      "4   Leather balm Leather balm                                                                                                                                                                                                                                                                                                                                                                                                         \n",
      "5   As always, awesome socks! As always, awesome socks!                                                                                                                                                                                                                                                                                                                                                                               \n",
      "6   Saved my Money. I have been wanting a pair of these since Christmas time and set aside money until I got them. Incredibly comfortable and worth the wait!                                                                                                                                                                                                                                                                         \n",
      "7   Beautiful magazine, just comes very late By the time I receive the almanac the first month of content has already passed. I got mine today 3/30/20 and the content starts with things that apply to the entire month of March.                                                                                                                                                                                                    \n",
      "8   very big belt was too long and the last notch has no impact on clothing. I wore it and can't return it                                                                                                                                                                                                                                                                                                                            \n",
      "9   The shirts are comfortable, stylish The shirts are comfortable, stylish and they wash nicely.                                                                                                                                                                                                                                                                                                                                     \n",
      "10  ... ...                                                                                                                                                                                                                                                                                                                                                                                                                           \n",
      "11  OMG so delicious! i love it!                                                                                                                                                                                                                                                                                                                                                                                                      \n",
      "12  Simply Beautiful This tray is just the right shape and size for many different uses. The \"doily \"design is very unique                                                                                                                                                                                                                                                                                                            \n",
      "13  Anyone have the instructions? We lost ours and are trying to figure out how to play!                                                                                                                                                                                                                                                                                                                                              \n",
      "14  Great Product - however ... The Hair mask does deliver amazing results - hair felt so soft and healthy after using it just one time, however, i only got four uses out of the mask, and it is sooo expensive in my opinion. i managed to purchase using a coupon code i think, and during a special offer, but I simply could not afford to purchase it again, without another really good offer.                                 \n",
      "15  My hair felt sticky and My hair felt sticky and dry. Not impressed for the money.                                                                                                                                                                                                                                                                                                                                                 \n",
      "16  Quality Accent Rug Not surprised about the quality and rich color of this accent rug from Plow and Hearth! Great find for my entryway! \\n#sweepstakes                                                                                                                                                                                                                                                                             \n",
      "17  What a great store!! I absolutely love it!! Good quality, good price and good service.👍👍                                                                                                                                                                                                                                                                                                                                          \n",
      "18  Decent enough; just be aware It's a bit cheap feeling compared to other cases in similar price range.  The hinges do feel like a bit of rough handling would snap them  Worked for the guitar, just doesn't feel like something that protects as well as the TSA suitable range does                                                                                                                                              \n",
      "19  Would buy again! Novel gift for a beverage can drinker.                                                                                                                                                                                                                                                                                                                                                                           \n",
      "20  LOOOVE IT LOOOVE IT                                                                                                                                                                                                                                                                                                                                                                                                               \n",
      "21  Wish I could afford another one! Really pretty. Will look great in my garden.                                                                                                                                                                                                                                                                                                                                                     \n",
      "22  Lovely! Will use on recliner or sofa next Christmas. It is lovely and well made.                                                                                                                                                                                                                                                                                                                                                  \n",
      "23  I am hoping to buy one for myself as well! Shipped it to my daughter for her birthday. Could not be with her because of the quarantine.\\nShe just LOVES it. Says it cheers her up every time she sees it, spinning in her garden.\\nLikes that it is natural tones, instead of rainbow colors.\\nIt is a hit!                                                                                                                       \n",
      "24  Great product This is new to me so I am giving it a whirl to see what effects it has on me.                                                                                                                                                                                                                                                                                                                                       \n",
      "\n",
      "   PRED_LANG FIRST_WORD SECOND_WORD   test  \n",
      "0   en        We         knew        False  \n",
      "1   en        I          would       True   \n",
      "2   en        Love       it!!        False  \n",
      "3   en        Nuun       Immunity    False  \n",
      "4   en        Leather    balm        False  \n",
      "5   en        As         always,     True   \n",
      "6   en        Saved      my          False  \n",
      "7   en        Beautiful  magazine,   False  \n",
      "8   en        very       big         True   \n",
      "9   en        The        shirts      True   \n",
      "10  UNKNOWN   ...        ...         False  \n",
      "11  es        OMG        so          False  \n",
      "12  en        Simply     Beautiful   False  \n",
      "13  en        Anyone     have        False  \n",
      "14  en        Great      Product     False  \n",
      "15  en        My         hair        False  \n",
      "16  en        Quality    Accent      False  \n",
      "17  en        What       a           False  \n",
      "18  en        Decent     enough;     False  \n",
      "19  en        Would      buy         False  \n",
      "20  UNKNOWN   LOOOVE     IT          False  \n",
      "21  en        Wish       I           False  \n",
      "22  en        Lovely!    Will        False  \n",
      "23  en        I          am          True   \n",
      "24  en        Great      product     False  \n",
      "<string>:1: FutureWarning: Passing a negative integer is deprecated in version 1.0 and will not be supported in future version. Instead, use None to not limit the column width."
     ]
    }
   ],
   "source": [
    "pd.set_option('display.max_colwidth', -1)\n",
    "pd.set_option('display.max_columns', None)\n",
    "pd.set_option('display.max_rows', None)\n",
    "\n",
    "reviews.head(25)"
   ]
  },
  {
   "cell_type": "code",
   "execution_count": null,
   "metadata": {},
   "outputs": [],
   "source": []
  },
  {
   "cell_type": "code",
   "execution_count": null,
   "metadata": {},
   "outputs": [],
   "source": []
  },
  {
   "cell_type": "code",
   "execution_count": null,
   "metadata": {},
   "outputs": [],
   "source": []
  },
  {
   "cell_type": "code",
   "execution_count": 37,
   "metadata": {},
   "outputs": [
    {
     "data": {
      "application/vnd.jupyter.widget-view+json": {
       "model_id": "3c3c75048e544753b069ae30dc22da0c",
       "version_major": 2,
       "version_minor": 0
      },
      "text/plain": [
       "VBox()"
      ]
     },
     "metadata": {},
     "output_type": "display_data"
    },
    {
     "data": {
      "application/vnd.jupyter.widget-view+json": {
       "model_id": "",
       "version_major": 2,
       "version_minor": 0
      },
      "text/plain": [
       "FloatProgress(value=0.0, bar_style='info', description='Progress:', layout=Layout(height='25px', width='50%'),…"
      ]
     },
     "metadata": {},
     "output_type": "display_data"
    }
   ],
   "source": [
    "reviews['model_FL'] = 0\n",
    "\n",
    "reviews.loc[reviews['LANG'] != reviews['PRED_LANG'] , 'model_FL'] = 1\n",
    "\n",
    "reviews.loc[reviews['REVIEW_LENGTH'] < 40 , 'model_FL'] = 0\n",
    "\n"
   ]
  },
  {
   "cell_type": "code",
   "execution_count": 38,
   "metadata": {},
   "outputs": [
    {
     "data": {
      "application/vnd.jupyter.widget-view+json": {
       "model_id": "3545fa7c2b6044c2959cfffd12408f01",
       "version_major": 2,
       "version_minor": 0
      },
      "text/plain": [
       "VBox()"
      ]
     },
     "metadata": {},
     "output_type": "display_data"
    },
    {
     "data": {
      "application/vnd.jupyter.widget-view+json": {
       "model_id": "",
       "version_major": 2,
       "version_minor": 0
      },
      "text/plain": [
       "FloatProgress(value=0.0, bar_style='info', description='Progress:', layout=Layout(height='25px', width='50%'),…"
      ]
     },
     "metadata": {},
     "output_type": "display_data"
    }
   ],
   "source": [
    "FP = reviews[(reviews['FL'] == 0) & (reviews['model_FL'] == 1)]\n",
    "FN = reviews[(reviews['FL'] == 1) & (reviews['model_FL'] == 0)]\n",
    "TP = reviews[(reviews['FL'] == 1) & (reviews['model_FL'] == 1)]\n",
    "TN = reviews[(reviews['FL'] == 0) & (reviews['model_FL'] == 0)]\n"
   ]
  },
  {
   "cell_type": "code",
   "execution_count": 39,
   "metadata": {},
   "outputs": [
    {
     "data": {
      "application/vnd.jupyter.widget-view+json": {
       "model_id": "8be31b2f43de45abb288c0344c4cf703",
       "version_major": 2,
       "version_minor": 0
      },
      "text/plain": [
       "VBox()"
      ]
     },
     "metadata": {},
     "output_type": "display_data"
    },
    {
     "data": {
      "application/vnd.jupyter.widget-view+json": {
       "model_id": "",
       "version_major": 2,
       "version_minor": 0
      },
      "text/plain": [
       "FloatProgress(value=0.0, bar_style='info', description='Progress:', layout=Layout(height='25px', width='50%'),…"
      ]
     },
     "metadata": {},
     "output_type": "display_data"
    },
    {
     "name": "stdout",
     "output_type": "stream",
     "text": [
      "0"
     ]
    }
   ],
   "source": [
    "\n",
    "FP['UGC_ID'].count()"
   ]
  },
  {
   "cell_type": "code",
   "execution_count": 40,
   "metadata": {},
   "outputs": [
    {
     "data": {
      "application/vnd.jupyter.widget-view+json": {
       "model_id": "ebb67f489673426aa67870afd122c038",
       "version_major": 2,
       "version_minor": 0
      },
      "text/plain": [
       "VBox()"
      ]
     },
     "metadata": {},
     "output_type": "display_data"
    },
    {
     "data": {
      "application/vnd.jupyter.widget-view+json": {
       "model_id": "",
       "version_major": 2,
       "version_minor": 0
      },
      "text/plain": [
       "FloatProgress(value=0.0, bar_style='info', description='Progress:', layout=Layout(height='25px', width='50%'),…"
      ]
     },
     "metadata": {},
     "output_type": "display_data"
    },
    {
     "name": "stdout",
     "output_type": "stream",
     "text": [
      "0"
     ]
    }
   ],
   "source": [
    "\n",
    "FN['UGC_ID'].count()"
   ]
  },
  {
   "cell_type": "code",
   "execution_count": 41,
   "metadata": {},
   "outputs": [
    {
     "data": {
      "application/vnd.jupyter.widget-view+json": {
       "model_id": "6de25300ffeb4b68bd1f9d7d168a3322",
       "version_major": 2,
       "version_minor": 0
      },
      "text/plain": [
       "VBox()"
      ]
     },
     "metadata": {},
     "output_type": "display_data"
    },
    {
     "data": {
      "application/vnd.jupyter.widget-view+json": {
       "model_id": "",
       "version_major": 2,
       "version_minor": 0
      },
      "text/plain": [
       "FloatProgress(value=0.0, bar_style='info', description='Progress:', layout=Layout(height='25px', width='50%'),…"
      ]
     },
     "metadata": {},
     "output_type": "display_data"
    },
    {
     "name": "stdout",
     "output_type": "stream",
     "text": [
      "0"
     ]
    }
   ],
   "source": [
    "\n",
    "TP['UGC_ID'].count()"
   ]
  },
  {
   "cell_type": "code",
   "execution_count": 42,
   "metadata": {},
   "outputs": [
    {
     "data": {
      "application/vnd.jupyter.widget-view+json": {
       "model_id": "3ab30e7ecf794976889f636d239a8262",
       "version_major": 2,
       "version_minor": 0
      },
      "text/plain": [
       "VBox()"
      ]
     },
     "metadata": {},
     "output_type": "display_data"
    },
    {
     "data": {
      "application/vnd.jupyter.widget-view+json": {
       "model_id": "",
       "version_major": 2,
       "version_minor": 0
      },
      "text/plain": [
       "FloatProgress(value=0.0, bar_style='info', description='Progress:', layout=Layout(height='25px', width='50%'),…"
      ]
     },
     "metadata": {},
     "output_type": "display_data"
    },
    {
     "name": "stdout",
     "output_type": "stream",
     "text": [
      "100"
     ]
    }
   ],
   "source": [
    "TN['UGC_ID'].count()"
   ]
  },
  {
   "cell_type": "code",
   "execution_count": 84,
   "metadata": {},
   "outputs": [
    {
     "data": {
      "application/vnd.jupyter.widget-view+json": {
       "model_id": "54e617cd71d34ecdb980b44b057c2f32",
       "version_major": 2,
       "version_minor": 0
      },
      "text/plain": [
       "VBox()"
      ]
     },
     "metadata": {},
     "output_type": "display_data"
    },
    {
     "data": {
      "application/vnd.jupyter.widget-view+json": {
       "model_id": "",
       "version_major": 2,
       "version_minor": 0
      },
      "text/plain": [
       "FloatProgress(value=0.0, bar_style='info', description='Progress:', layout=Layout(height='25px', width='50%'),…"
      ]
     },
     "metadata": {},
     "output_type": "display_data"
    },
    {
     "name": "stdout",
     "output_type": "stream",
     "text": [
      "         UGC_ID            REVIEW_HEADLINE  \\\n",
      "991   285823949  Great purchase              \n",
      "1758  330939553  Mediterranean Honeysuckle   \n",
      "1786  330944794  Perfume                     \n",
      "1795  330946020  Jsjsjs                      \n",
      "1805  330937618  Extremadamente bueno        \n",
      "1983  330838063  Undisclosed                 \n",
      "2138  330891348  Lightweight                 \n",
      "2298  330888191  Fab product                 \n",
      "2460  330898234  Great lightweight jacket    \n",
      "2696  330848993  Good stron                  \n",
      "\n",
      "                                                                                            REVIEW_COMMENTS  \\\n",
      "991   My new favorite flip flop.  My go to shoe.  Want to get more.                                           \n",
      "1758  Mediterranean Honeysuckle smells really good cant wait to get a bottle                                  \n",
      "1786  Smells good but I prefer Mediterranean Honeysuckle in Bloom.                                            \n",
      "1795  Jsjsjs feet ddfvvbh dsfv fwdgh dargfs cwwrg awggcss ssggsdvgt sertssgg swrgfss                          \n",
      "1805  Buenísimo❤️❤️❤️❤️❤️❤️❤️❤️❤️❤️❤️❤️❤️❤️❤️❤️❤️❤️☺️☺️❤️❤️❤️                                                 \n",
      "1983  Competency, knowledge, positive attitude of employees. Honesty, reliable, appreciative of one's time.   \n",
      "2138  But undersized but very light and great for jogging in                                                  \n",
      "2298  Really nice fit, lovely fabric. Good stretch prevents knee pockets.                                     \n",
      "2460  Great jacket but more for milder days not padded enough for winter                                      \n",
      "2696  Good strong cheddar, and an easily resealable pack. \\nProduct purchased under promotion                 \n",
      "\n",
      "     LANG  REVIEW_LENGTH  FL  \\\n",
      "991   en   61.0           0    \n",
      "1758  en   70.0           0    \n",
      "1786  en   60.0           0    \n",
      "1795  en   78.0           0    \n",
      "1805  en   55.0           0    \n",
      "1983  en   101.0          0    \n",
      "2138  en   54.0           0    \n",
      "2298  en   67.0           0    \n",
      "2460  en   66.0           0    \n",
      "2696  en   86.0           0    \n",
      "\n",
      "                                                                                                               ALL_TEXT  \\\n",
      "991   Great purchase My new favorite flip flop.  My go to shoe.  Want to get more.                                        \n",
      "1758  Mediterranean Honeysuckle Mediterranean Honeysuckle smells really good cant wait to get a bottle                    \n",
      "1786  Perfume Smells good but I prefer Mediterranean Honeysuckle in Bloom.                                                \n",
      "1795  Jsjsjs Jsjsjs feet ddfvvbh dsfv fwdgh dargfs cwwrg awggcss ssggsdvgt sertssgg swrgfss                               \n",
      "1805  Extremadamente bueno Buenísimo❤️❤️❤️❤️❤️❤️❤️❤️❤️❤️❤️❤️❤️❤️❤️❤️❤️❤️☺️☺️❤️❤️❤️                                        \n",
      "1983  Undisclosed Competency, knowledge, positive attitude of employees. Honesty, reliable, appreciative of one's time.   \n",
      "2138  Lightweight But undersized but very light and great for jogging in                                                  \n",
      "2298  Fab product Really nice fit, lovely fabric. Good stretch prevents knee pockets.                                     \n",
      "2460  Great lightweight jacket Great jacket but more for milder days not padded enough for winter                         \n",
      "2696  Good stron Good strong cheddar, and an easily resealable pack. \\nProduct purchased under promotion                  \n",
      "\n",
      "     PRED_LANG  model_FL  \n",
      "991   nso       1         \n",
      "1758  nso       1         \n",
      "1786  nb        1         \n",
      "1795  nb        1         \n",
      "1805  pt        1         \n",
      "1983  es        1         \n",
      "2138  da        1         \n",
      "2298  sk        1         \n",
      "2460  da        1         \n",
      "2696  de        1"
     ]
    }
   ],
   "source": [
    "FP.head(10)"
   ]
  },
  {
   "cell_type": "code",
   "execution_count": null,
   "metadata": {},
   "outputs": [],
   "source": []
  },
  {
   "cell_type": "code",
   "execution_count": 19,
   "metadata": {},
   "outputs": [
    {
     "data": {
      "application/vnd.jupyter.widget-view+json": {
       "model_id": "02ca81056d384c2883df676e693a7e8d",
       "version_major": 2,
       "version_minor": 0
      },
      "text/plain": [
       "VBox()"
      ]
     },
     "metadata": {},
     "output_type": "display_data"
    },
    {
     "data": {
      "application/vnd.jupyter.widget-view+json": {
       "model_id": "",
       "version_major": 2,
       "version_minor": 0
      },
      "text/plain": [
       "FloatProgress(value=0.0, bar_style='info', description='Progress:', layout=Layout(height='25px', width='50%'),…"
      ]
     },
     "metadata": {},
     "output_type": "display_data"
    },
    {
     "name": "stdout",
     "output_type": "stream",
     "text": [
      "'cy'"
     ]
    }
   ],
   "source": [
    "detect('good good stuff')"
   ]
  },
  {
   "cell_type": "code",
   "execution_count": 28,
   "metadata": {},
   "outputs": [
    {
     "data": {
      "application/vnd.jupyter.widget-view+json": {
       "model_id": "df9121bbaf6b446da4c161bf2dabe36f",
       "version_major": 2,
       "version_minor": 0
      },
      "text/plain": [
       "VBox()"
      ]
     },
     "metadata": {},
     "output_type": "display_data"
    },
    {
     "data": {
      "application/vnd.jupyter.widget-view+json": {
       "model_id": "",
       "version_major": 2,
       "version_minor": 0
      },
      "text/plain": [
       "FloatProgress(value=0.0, bar_style='info', description='Progress:', layout=Layout(height='25px', width='50%'),…"
      ]
     },
     "metadata": {},
     "output_type": "display_data"
    },
    {
     "name": "stdout",
     "output_type": "stream",
     "text": [
      "<class 'pandas.core.frame.DataFrame'>\n",
      "Int64Index: 6456 entries, 638 to 8681798\n",
      "Data columns (total 17 columns):\n",
      " #   Column               Non-Null Count  Dtype \n",
      "---  ------               --------------  ----- \n",
      " 0   UGC_ID               6456 non-null   int64 \n",
      " 1   NAME                 6456 non-null   object\n",
      " 2   REVIEW_HEADLINE      6456 non-null   object\n",
      " 3   REVIEW_COMMENTS      6456 non-null   object\n",
      " 4   CR                   6456 non-null   int64 \n",
      " 5   ALL_TEXT             6456 non-null   object\n",
      " 6   NAME_1ST_PART_RAW    6456 non-null   object\n",
      " 7   NAME_1ST_PART        6456 non-null   object\n",
      " 8   ALL_TEXT_2           6456 non-null   object\n",
      " 9   ALL_TEXT_3           6456 non-null   object\n",
      " 10  ALL_TEXT_4           6456 non-null   object\n",
      " 11  ALL_TEXT_5           6456 non-null   object\n",
      " 12  ALL_TEXT_6           6456 non-null   object\n",
      " 13  ALL_TEXT_7           6456 non-null   object\n",
      " 14  regex_retailer       6456 non-null   object\n",
      " 15  retailer_not_client  6456 non-null   bool  \n",
      " 16  model_CR             6456 non-null   int64 \n",
      "dtypes: bool(1), int64(3), object(13)\n",
      "memory usage: 863.7+ KB"
     ]
    }
   ],
   "source": [
    "FP.info()"
   ]
  },
  {
   "cell_type": "code",
   "execution_count": 29,
   "metadata": {},
   "outputs": [
    {
     "data": {
      "application/vnd.jupyter.widget-view+json": {
       "model_id": "7b63a36fbf8c48ca8fa2b67837e6b4c3",
       "version_major": 2,
       "version_minor": 0
      },
      "text/plain": [
       "VBox()"
      ]
     },
     "metadata": {},
     "output_type": "display_data"
    },
    {
     "data": {
      "application/vnd.jupyter.widget-view+json": {
       "model_id": "",
       "version_major": 2,
       "version_minor": 0
      },
      "text/plain": [
       "FloatProgress(value=0.0, bar_style='info', description='Progress:', layout=Layout(height='25px', width='50%'),…"
      ]
     },
     "metadata": {},
     "output_type": "display_data"
    }
   ],
   "source": [
    "from pyspark.sql.types import *\n",
    "\n",
    "mySchema = StructType([StructField(\"UGC_ID\", StringType(), True)\\\n",
    ",StructField(\"NAME\", StringType(), True)\\\n",
    ",StructField(\"REVIEW_HEADLINE\", StringType(), True)\\\n",
    ",StructField(\"REVIEW_COMMENTS\", StringType(), True)\\\n",
    ",StructField(\"CR\", IntegerType(), True)\\\n",
    ",StructField(\"ALL_TEXT\", StringType(), True)\\\n",
    ",StructField(\"NAME_1ST_PART_RAW\", StringType(), True)\\\n",
    ",StructField(\"NAME_1ST_PART\", StringType(), True)\\\n",
    ",StructField(\"ALL_TEXT_2\", StringType(), True)\\\n",
    ",StructField(\"ALL_TEXT_3\", StringType(), True)\\\n",
    ",StructField(\"ALL_TEXT_4\", StringType(), True)\\\n",
    ",StructField(\"ALL_TEXT_5\", StringType(), True)\\\n",
    ",StructField(\"ALL_TEXT_6\", StringType(), True)\\\n",
    ",StructField(\"ALL_TEXT_7\", StringType(), True)\\\n",
    ",StructField(\"regex_retailer\", StringType(), True)\\\n",
    ",StructField(\"retailer_not_client\", StringType(), True)\\\n",
    ",StructField(\"model_CR\", IntegerType(), True)])\n",
    "\n"
   ]
  },
  {
   "cell_type": "code",
   "execution_count": null,
   "metadata": {},
   "outputs": [],
   "source": []
  },
  {
   "cell_type": "code",
   "execution_count": 30,
   "metadata": {},
   "outputs": [
    {
     "data": {
      "application/vnd.jupyter.widget-view+json": {
       "model_id": "3eccada86461474ea2d7ef8f780bb971",
       "version_major": 2,
       "version_minor": 0
      },
      "text/plain": [
       "VBox()"
      ]
     },
     "metadata": {},
     "output_type": "display_data"
    },
    {
     "data": {
      "application/vnd.jupyter.widget-view+json": {
       "model_id": "",
       "version_major": 2,
       "version_minor": 0
      },
      "text/plain": [
       "FloatProgress(value=0.0, bar_style='info', description='Progress:', layout=Layout(height='25px', width='50%'),…"
      ]
     },
     "metadata": {},
     "output_type": "display_data"
    }
   ],
   "source": [
    "SNOWFLAKE_SOURCE_NAME = \"net.snowflake.spark.snowflake\"\n",
    "\n",
    "sfOptions = {\n",
    "  'sfURL' : 'powerreviews.snowflakecomputing.com',\n",
    "  'sfAccount' : 'powerreviews',\n",
    "  'sfUser' : username,\n",
    "  'sfPassword' : password,\n",
    "  'sfDatabase' : 'ANALYTICS_WORKSHOP',\n",
    "  'sfSchema' : 'DATA_SCIENCE',\n",
    "  'sfWarehouse' : 'LOWER_ENV_WAREHOUSE'\n",
    "}"
   ]
  },
  {
   "cell_type": "code",
   "execution_count": 33,
   "metadata": {},
   "outputs": [
    {
     "data": {
      "application/vnd.jupyter.widget-view+json": {
       "model_id": "d6261cac98964cbdb8ea3cd35b38d68f",
       "version_major": 2,
       "version_minor": 0
      },
      "text/plain": [
       "VBox()"
      ]
     },
     "metadata": {},
     "output_type": "display_data"
    },
    {
     "data": {
      "application/vnd.jupyter.widget-view+json": {
       "model_id": "",
       "version_major": 2,
       "version_minor": 0
      },
      "text/plain": [
       "FloatProgress(value=0.0, bar_style='info', description='Progress:', layout=Layout(height='25px', width='50%'),…"
      ]
     },
     "metadata": {},
     "output_type": "display_data"
    }
   ],
   "source": [
    "#Turn into spark dataframe in order to write to Snowflake\n",
    "#Couldn't get write_pandas() to work to write directly from pandas to Snowflake\n",
    "FP = spark.createDataFrame(FP, schema=mySchema)"
   ]
  },
  {
   "cell_type": "code",
   "execution_count": 34,
   "metadata": {},
   "outputs": [
    {
     "data": {
      "application/vnd.jupyter.widget-view+json": {
       "model_id": "f0ee7e7db8b248da97d5ea56606b2dab",
       "version_major": 2,
       "version_minor": 0
      },
      "text/plain": [
       "VBox()"
      ]
     },
     "metadata": {},
     "output_type": "display_data"
    },
    {
     "data": {
      "application/vnd.jupyter.widget-view+json": {
       "model_id": "",
       "version_major": 2,
       "version_minor": 0
      },
      "text/plain": [
       "FloatProgress(value=0.0, bar_style='info', description='Progress:', layout=Layout(height='25px', width='50%'),…"
      ]
     },
     "metadata": {},
     "output_type": "display_data"
    }
   ],
   "source": [
    "FP.write.format(SNOWFLAKE_SOURCE_NAME).options(**sfOptions) \\\n",
    "    .option(\"dbtable\",\"CR_FP_test4\").mode(\"append\").save()\n"
   ]
  },
  {
   "cell_type": "code",
   "execution_count": null,
   "metadata": {},
   "outputs": [],
   "source": []
  },
  {
   "cell_type": "code",
   "execution_count": null,
   "metadata": {},
   "outputs": [],
   "source": []
  },
  {
   "cell_type": "code",
   "execution_count": null,
   "metadata": {},
   "outputs": [],
   "source": []
  },
  {
   "cell_type": "code",
   "execution_count": null,
   "metadata": {},
   "outputs": [],
   "source": []
  },
  {
   "cell_type": "code",
   "execution_count": 109,
   "metadata": {},
   "outputs": [
    {
     "data": {
      "application/vnd.jupyter.widget-view+json": {
       "model_id": "93f0f332017b42a4a6ef56a59b58a396",
       "version_major": 2,
       "version_minor": 0
      },
      "text/plain": [
       "VBox()"
      ]
     },
     "metadata": {},
     "output_type": "display_data"
    },
    {
     "data": {
      "application/vnd.jupyter.widget-view+json": {
       "model_id": "",
       "version_major": 2,
       "version_minor": 0
      },
      "text/plain": [
       "FloatProgress(value=0.0, bar_style='info', description='Progress:', layout=Layout(height='25px', width='50%'),…"
      ]
     },
     "metadata": {},
     "output_type": "display_data"
    },
    {
     "name": "stdout",
     "output_type": "stream",
     "text": [
      "<snowflake.connector.cursor.SnowflakeCursor object at 0x7f19fab41fd0>"
     ]
    }
   ],
   "source": [
    "conn.cursor().execute(\"drop table if exists ANALYTICS_WORKSHOP.DATA_SCIENCE.TST_FP_TEST3\")\n",
    "conn.cursor().execute(\"drop table if exists ANALYTICS_WORKSHOP.DATA_SCIENCE.TST_FN_TEST3\")\n",
    "#conn.cursor().execute(\"drop table if exists ANALYTICS_WORKSHOP.DATA_SCIENCE.TEST_NLP_SPARK6\")\n",
    "#conn.cursor().execute(\"drop table if exists ANALYTICS_WORKSHOP.DATA_SCIENCE.TEST_NLP_SWAP_TOKENS\")"
   ]
  }
 ],
 "metadata": {
  "kernelspec": {
   "display_name": "PySpark",
   "language": "",
   "name": "pysparkkernel"
  },
  "language_info": {
   "codemirror_mode": {
    "name": "python",
    "version": 2
   },
   "mimetype": "text/x-python",
   "name": "pyspark",
   "pygments_lexer": "python2"
  }
 },
 "nbformat": 4,
 "nbformat_minor": 4
}
