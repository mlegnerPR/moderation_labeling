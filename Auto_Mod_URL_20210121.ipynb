{
 "cells": [
  {
   "cell_type": "code",
   "execution_count": 73,
   "metadata": {},
   "outputs": [
    {
     "data": {
      "application/vnd.jupyter.widget-view+json": {
       "model_id": "b1fb1956829a414099f7d6b7779d4312",
       "version_major": 2,
       "version_minor": 0
      },
      "text/plain": [
       "VBox()"
      ]
     },
     "metadata": {},
     "output_type": "display_data"
    },
    {
     "data": {
      "application/vnd.jupyter.widget-view+json": {
       "model_id": "",
       "version_major": 2,
       "version_minor": 0
      },
      "text/plain": [
       "FloatProgress(value=0.0, bar_style='info', description='Progress:', layout=Layout(height='25px', width='50%'),…"
      ]
     },
     "metadata": {},
     "output_type": "display_data"
    }
   ],
   "source": [
    "#Import packages\n",
    "import boto3\n",
    "import json\n",
    "import numpy as np\n",
    "from numpy import argmax\n",
    "import pyspark.sql.functions as F\n",
    "import snowflake.connector\n",
    "import pandas as pd\n",
    "import spacy\n",
    "import matplotlib.pyplot as plt\n",
    "from vaderSentiment.vaderSentiment import SentimentIntensityAnalyzer\n",
    "from urllib.parse import urlparse\n",
    "\n",
    "#RegEx\n",
    "import regex as re"
   ]
  },
  {
   "cell_type": "code",
   "execution_count": 74,
   "metadata": {},
   "outputs": [
    {
     "data": {
      "application/vnd.jupyter.widget-view+json": {
       "model_id": "fba46faed1fa42d1be208d472e4df377",
       "version_major": 2,
       "version_minor": 0
      },
      "text/plain": [
       "VBox()"
      ]
     },
     "metadata": {},
     "output_type": "display_data"
    },
    {
     "data": {
      "application/vnd.jupyter.widget-view+json": {
       "model_id": "",
       "version_major": 2,
       "version_minor": 0
      },
      "text/plain": [
       "FloatProgress(value=0.0, bar_style='info', description='Progress:', layout=Layout(height='25px', width='50%'),…"
      ]
     },
     "metadata": {},
     "output_type": "display_data"
    }
   ],
   "source": [
    "sm_client = boto3.client('secretsmanager',region_name='us-west-2')\n",
    "secret_value = sm_client.get_secret_value(SecretId = 'emr_spark_qa')\n",
    "username = json.loads(secret_value['SecretString'])['emr_spark_username']\n",
    "password = json.loads(secret_value['SecretString'])['emr_spark_password']\n",
    "#print(username)\n",
    "#print(password)"
   ]
  },
  {
   "cell_type": "code",
   "execution_count": 75,
   "metadata": {},
   "outputs": [
    {
     "data": {
      "application/vnd.jupyter.widget-view+json": {
       "model_id": "8ab8962e87334143b9b099964ef34a0d",
       "version_major": 2,
       "version_minor": 0
      },
      "text/plain": [
       "VBox()"
      ]
     },
     "metadata": {},
     "output_type": "display_data"
    },
    {
     "data": {
      "application/vnd.jupyter.widget-view+json": {
       "model_id": "",
       "version_major": 2,
       "version_minor": 0
      },
      "text/plain": [
       "FloatProgress(value=0.0, bar_style='info', description='Progress:', layout=Layout(height='25px', width='50%'),…"
      ]
     },
     "metadata": {},
     "output_type": "display_data"
    }
   ],
   "source": [
    "#PYTHON connection info\n",
    "conn = snowflake.connector.connect(\n",
    "    account='powerreviews',\n",
    "    database='analytics_prod',\n",
    "    warehouse='LOWER_ENV_WAREHOUSE',\n",
    "    user=username,\n",
    "    password=password\n",
    "    )\n"
   ]
  },
  {
   "cell_type": "code",
   "execution_count": 76,
   "metadata": {},
   "outputs": [
    {
     "data": {
      "application/vnd.jupyter.widget-view+json": {
       "model_id": "958017b682ab4161813e01fc8260ddf2",
       "version_major": 2,
       "version_minor": 0
      },
      "text/plain": [
       "VBox()"
      ]
     },
     "metadata": {},
     "output_type": "display_data"
    },
    {
     "data": {
      "application/vnd.jupyter.widget-view+json": {
       "model_id": "",
       "version_major": 2,
       "version_minor": 0
      },
      "text/plain": [
       "FloatProgress(value=0.0, bar_style='info', description='Progress:', layout=Layout(height='25px', width='50%'),…"
      ]
     },
     "metadata": {},
     "output_type": "display_data"
    }
   ],
   "source": [
    "#Query some reviews\n",
    "query_1 = \"select distinct r.ugc_id,  mg.name, r.review_headline, r.review_comments, r.reviewer_nickname, mg.base_url, \\\n",
    "case when (contains(r.observations, 'URL') )  then 1 else 0 end as URL \\\n",
    "from analytics.review as r \\\n",
    "join analytics.merchant_group as mg \\\n",
    "on r.client_id = mg.client_id \\\n",
    "where contains(r.observations, 'PM') and not contains(r.observations, 'IA') and not contains(r.observations, 'IR') \\\n",
    "and r.created_date > '2020-01-01' \\\n",
    "\"\n",
    "\n",
    "\n",
    "#and contains(r.observations, 'URL') \\"
   ]
  },
  {
   "cell_type": "code",
   "execution_count": 77,
   "metadata": {},
   "outputs": [
    {
     "data": {
      "application/vnd.jupyter.widget-view+json": {
       "model_id": "057cac41491142f4912d0f091f1198ef",
       "version_major": 2,
       "version_minor": 0
      },
      "text/plain": [
       "VBox()"
      ]
     },
     "metadata": {},
     "output_type": "display_data"
    },
    {
     "data": {
      "application/vnd.jupyter.widget-view+json": {
       "model_id": "",
       "version_major": 2,
       "version_minor": 0
      },
      "text/plain": [
       "FloatProgress(value=0.0, bar_style='info', description='Progress:', layout=Layout(height='25px', width='50%'),…"
      ]
     },
     "metadata": {},
     "output_type": "display_data"
    },
    {
     "name": "stdout",
     "output_type": "stream",
     "text": [
      "      UGC_ID                                    NAME  \\\n",
      "0  283823825  OH Danish Bakery Seller Ratings          \n",
      "1  283817828  San Antonio Shoes Seller Ratings         \n",
      "2  283789332  Clinique                                 \n",
      "3  283781663  Hershey Company                          \n",
      "4  283817405  The Outdoor Gear Exchange - TERMINATED   \n",
      "\n",
      "                                                REVIEW_HEADLINE  \\\n",
      "0  I have been getting and giving Kringles for many years.        \n",
      "1  I have a very wide foot, and I just wish there were more ...   \n",
      "2  Bon produit pour les peaux sèches                              \n",
      "3  This Is Great Gum                                              \n",
      "4  I will but from this site from now on!                         \n",
      "\n",
      "                                                                                                                                                                                                                                                                                                                                                                                                       REVIEW_COMMENTS  \\\n",
      "0  I have been getting and giving Kringles for many years.  They are delicious!  I have never been disappointed with the product or deliver.                                                                                                                                                                                                                                                                             \n",
      "1  I have a very wide foot, and I just wish there were more options for my shopping category.                                                                                                                                                                                                                                                                                                                            \n",
      "2  Un produit frais et agréable à appliquer, une protection solaire pour tous les jours, par contre dommage qu'une brillance et un côté collant reste après l'application, packaging au couleurs de l'été.                                                                                                                                                                                                               \n",
      "3  I am not a big gum chewer, but I will take a piece when someone offers. I didn't know how much I would like Hershey ICE CUBES Spearmint Gum. It as a great flavor, although it doesn't last as long as I would like. I typically chew two cubes at a time. I would definitely recommend this to my family and friends. The taste and breath freshening is better than other gums that I have chewed over the years.   \n",
      "4  Love this item! Great size, durable material, side zipper helps access items & organization. \\nI borrowed this same bag from someone & decided I needed one for myself. It was pricey everywhere else online & I was so happy to find it here for 30% less!                                                                                                                                                           \n",
      "\n",
      "  REVIEWER_NICKNAME                           BASE_URL  URL  \n",
      "0  uqc11340          http://www.OHDanishBakery.com      0    \n",
      "1  ajy1106           http://sashoes.com                 0    \n",
      "2  Valbeauyandco     http://www.clinique.com/           0    \n",
      "3  BillGladwell      http://www.thehersheycompany.com/  0    \n",
      "4  Angela            http://www.gearx.com               0"
     ]
    }
   ],
   "source": [
    "#pd.set_option('display.max_colwidth', -1)\n",
    "#pd.set_option('display.max_columns', None)\n",
    "#pd.set_option('display.max_rows', None)\n",
    "reviews = pd.read_sql(query_1, conn)\n",
    "reviews.head()\n",
    "#reviews.info()\n"
   ]
  },
  {
   "cell_type": "code",
   "execution_count": 78,
   "metadata": {},
   "outputs": [
    {
     "data": {
      "application/vnd.jupyter.widget-view+json": {
       "model_id": "93c2f1dff8564af486b54a45be4b6ea6",
       "version_major": 2,
       "version_minor": 0
      },
      "text/plain": [
       "VBox()"
      ]
     },
     "metadata": {},
     "output_type": "display_data"
    },
    {
     "data": {
      "application/vnd.jupyter.widget-view+json": {
       "model_id": "",
       "version_major": 2,
       "version_minor": 0
      },
      "text/plain": [
       "FloatProgress(value=0.0, bar_style='info', description='Progress:', layout=Layout(height='25px', width='50%'),…"
      ]
     },
     "metadata": {},
     "output_type": "display_data"
    }
   ],
   "source": [
    "reviews['ALL_TEXT'] =  reviews['REVIEW_HEADLINE'] + ' '+reviews['REVIEW_COMMENTS'] +  ' '+reviews['REVIEWER_NICKNAME']\n",
    "\n",
    "#http://www.amazon.com -> www.amazon.com\n",
    "reviews['client_URL_1'] = reviews['BASE_URL'].apply(lambda x: urlparse(x).netloc)\n",
    "\n",
    "#Since reviewers don't always include www, look for just domain name\n",
    "#www.amazon.com -> amazon.com\n",
    "reviews['client_URL_2'] = reviews['client_URL_1'].apply(lambda x: '.'.join(x.split('.')[1:-1]))\n",
    "#Above will return empty string '' if URL was amazon.com so fill in with random string \n",
    "#so that looking for client_URL_2 within regex_extract will return False, otherwise looking for '' within anything returns true\n",
    "reviews['client_URL_2'] = reviews['client_URL_2'].replace(r'^\\s*$', 'zzzzzzzzzzz', regex=True)\n"
   ]
  },
  {
   "cell_type": "code",
   "execution_count": 79,
   "metadata": {},
   "outputs": [
    {
     "data": {
      "application/vnd.jupyter.widget-view+json": {
       "model_id": "94a2e878f4cb49e68486285699151eb8",
       "version_major": 2,
       "version_minor": 0
      },
      "text/plain": [
       "VBox()"
      ]
     },
     "metadata": {},
     "output_type": "display_data"
    },
    {
     "data": {
      "application/vnd.jupyter.widget-view+json": {
       "model_id": "",
       "version_major": 2,
       "version_minor": 0
      },
      "text/plain": [
       "FloatProgress(value=0.0, bar_style='info', description='Progress:', layout=Layout(height='25px', width='50%'),…"
      ]
     },
     "metadata": {},
     "output_type": "display_data"
    }
   ],
   "source": [
    "#urlparse('http://www.amazon.com').netloc"
   ]
  },
  {
   "cell_type": "code",
   "execution_count": 80,
   "metadata": {},
   "outputs": [
    {
     "data": {
      "application/vnd.jupyter.widget-view+json": {
       "model_id": "731a348561ee4c3bbc679c380ee4e2ad",
       "version_major": 2,
       "version_minor": 0
      },
      "text/plain": [
       "VBox()"
      ]
     },
     "metadata": {},
     "output_type": "display_data"
    },
    {
     "data": {
      "application/vnd.jupyter.widget-view+json": {
       "model_id": "",
       "version_major": 2,
       "version_minor": 0
      },
      "text/plain": [
       "FloatProgress(value=0.0, bar_style='info', description='Progress:', layout=Layout(height='25px', width='50%'),…"
      ]
     },
     "metadata": {},
     "output_type": "display_data"
    }
   ],
   "source": [
    "#urlparse('http://amazon.com').netloc"
   ]
  },
  {
   "cell_type": "code",
   "execution_count": 81,
   "metadata": {},
   "outputs": [
    {
     "data": {
      "application/vnd.jupyter.widget-view+json": {
       "model_id": "730304ec15ee49d3a4f78a8d70e11a99",
       "version_major": 2,
       "version_minor": 0
      },
      "text/plain": [
       "VBox()"
      ]
     },
     "metadata": {},
     "output_type": "display_data"
    },
    {
     "data": {
      "application/vnd.jupyter.widget-view+json": {
       "model_id": "",
       "version_major": 2,
       "version_minor": 0
      },
      "text/plain": [
       "FloatProgress(value=0.0, bar_style='info', description='Progress:', layout=Layout(height='25px', width='50%'),…"
      ]
     },
     "metadata": {},
     "output_type": "display_data"
    },
    {
     "name": "stdout",
     "output_type": "stream",
     "text": [
      "<class 'pandas.core.frame.DataFrame'>\n",
      "RangeIndex: 8679023 entries, 0 to 8679022\n",
      "Data columns (total 10 columns):\n",
      " #   Column             Dtype \n",
      "---  ------             ----- \n",
      " 0   UGC_ID             int64 \n",
      " 1   NAME               object\n",
      " 2   REVIEW_HEADLINE    object\n",
      " 3   REVIEW_COMMENTS    object\n",
      " 4   REVIEWER_NICKNAME  object\n",
      " 5   BASE_URL           object\n",
      " 6   URL                int64 \n",
      " 7   ALL_TEXT           object\n",
      " 8   client_URL_1       object\n",
      " 9   client_URL_2       object\n",
      "dtypes: int64(2), object(8)\n",
      "memory usage: 662.2+ MB"
     ]
    }
   ],
   "source": [
    "reviews.info()"
   ]
  },
  {
   "cell_type": "code",
   "execution_count": 82,
   "metadata": {},
   "outputs": [
    {
     "data": {
      "application/vnd.jupyter.widget-view+json": {
       "model_id": "50c1a5bc9a094e03b78f97beea6b16e2",
       "version_major": 2,
       "version_minor": 0
      },
      "text/plain": [
       "VBox()"
      ]
     },
     "metadata": {},
     "output_type": "display_data"
    },
    {
     "data": {
      "application/vnd.jupyter.widget-view+json": {
       "model_id": "",
       "version_major": 2,
       "version_minor": 0
      },
      "text/plain": [
       "FloatProgress(value=0.0, bar_style='info', description='Progress:', layout=Layout(height='25px', width='50%'),…"
      ]
     },
     "metadata": {},
     "output_type": "display_data"
    },
    {
     "name": "stdout",
     "output_type": "stream",
     "text": [
      "<string>:1: FutureWarning: Passing a negative integer is deprecated in version 1.0 and will not be supported in future version. Instead, use None to not limit the column width."
     ]
    }
   ],
   "source": [
    "pd.set_option('display.max_colwidth', -1)\n",
    "pd.set_option('display.max_columns', None)\n",
    "pd.set_option('display.max_rows', None)\n"
   ]
  },
  {
   "cell_type": "code",
   "execution_count": 83,
   "metadata": {},
   "outputs": [
    {
     "data": {
      "application/vnd.jupyter.widget-view+json": {
       "model_id": "bb9e9ea8fb6c4775a5d83a816011dc8d",
       "version_major": 2,
       "version_minor": 0
      },
      "text/plain": [
       "VBox()"
      ]
     },
     "metadata": {},
     "output_type": "display_data"
    },
    {
     "data": {
      "application/vnd.jupyter.widget-view+json": {
       "model_id": "",
       "version_major": 2,
       "version_minor": 0
      },
      "text/plain": [
       "FloatProgress(value=0.0, bar_style='info', description='Progress:', layout=Layout(height='25px', width='50%'),…"
      ]
     },
     "metadata": {},
     "output_type": "display_data"
    },
    {
     "name": "stdout",
     "output_type": "stream",
     "text": [
      "      UGC_ID                                    NAME  \\\n",
      "0  283823825  OH Danish Bakery Seller Ratings          \n",
      "1  283817828  San Antonio Shoes Seller Ratings         \n",
      "2  283789332  Clinique                                 \n",
      "3  283781663  Hershey Company                          \n",
      "4  283817405  The Outdoor Gear Exchange - TERMINATED   \n",
      "\n",
      "                                                REVIEW_HEADLINE  \\\n",
      "0  I have been getting and giving Kringles for many years.        \n",
      "1  I have a very wide foot, and I just wish there were more ...   \n",
      "2  Bon produit pour les peaux sèches                              \n",
      "3  This Is Great Gum                                              \n",
      "4  I will but from this site from now on!                         \n",
      "\n",
      "                                                                                                                                                                                                                                                                                                                                                                                                       REVIEW_COMMENTS  \\\n",
      "0  I have been getting and giving Kringles for many years.  They are delicious!  I have never been disappointed with the product or deliver.                                                                                                                                                                                                                                                                             \n",
      "1  I have a very wide foot, and I just wish there were more options for my shopping category.                                                                                                                                                                                                                                                                                                                            \n",
      "2  Un produit frais et agréable à appliquer, une protection solaire pour tous les jours, par contre dommage qu'une brillance et un côté collant reste après l'application, packaging au couleurs de l'été.                                                                                                                                                                                                               \n",
      "3  I am not a big gum chewer, but I will take a piece when someone offers. I didn't know how much I would like Hershey ICE CUBES Spearmint Gum. It as a great flavor, although it doesn't last as long as I would like. I typically chew two cubes at a time. I would definitely recommend this to my family and friends. The taste and breath freshening is better than other gums that I have chewed over the years.   \n",
      "4  Love this item! Great size, durable material, side zipper helps access items & organization. \\nI borrowed this same bag from someone & decided I needed one for myself. It was pricey everywhere else online & I was so happy to find it here for 30% less!                                                                                                                                                           \n",
      "\n",
      "  REVIEWER_NICKNAME                           BASE_URL  URL  \\\n",
      "0  uqc11340          http://www.OHDanishBakery.com      0     \n",
      "1  ajy1106           http://sashoes.com                 0     \n",
      "2  Valbeauyandco     http://www.clinique.com/           0     \n",
      "3  BillGladwell      http://www.thehersheycompany.com/  0     \n",
      "4  Angela            http://www.gearx.com               0     \n",
      "\n",
      "                                                                                                                                                                                                                                                                                                                                                                                                                                             ALL_TEXT  \\\n",
      "0  I have been getting and giving Kringles for many years. I have been getting and giving Kringles for many years.  They are delicious!  I have never been disappointed with the product or deliver. uqc11340                                                                                                                                                                                                                                           \n",
      "1  I have a very wide foot, and I just wish there were more ... I have a very wide foot, and I just wish there were more options for my shopping category. ajy1106                                                                                                                                                                                                                                                                                      \n",
      "2  Bon produit pour les peaux sèches Un produit frais et agréable à appliquer, une protection solaire pour tous les jours, par contre dommage qu'une brillance et un côté collant reste après l'application, packaging au couleurs de l'été. Valbeauyandco                                                                                                                                                                                              \n",
      "3  This Is Great Gum I am not a big gum chewer, but I will take a piece when someone offers. I didn't know how much I would like Hershey ICE CUBES Spearmint Gum. It as a great flavor, although it doesn't last as long as I would like. I typically chew two cubes at a time. I would definitely recommend this to my family and friends. The taste and breath freshening is better than other gums that I have chewed over the years. BillGladwell   \n",
      "4  I will but from this site from now on! Love this item! Great size, durable material, side zipper helps access items & organization. \\nI borrowed this same bag from someone & decided I needed one for myself. It was pricey everywhere else online & I was so happy to find it here for 30% less! Angela                                                                                                                                            \n",
      "\n",
      "                client_URL_1       client_URL_2  \n",
      "0  www.OHDanishBakery.com     OHDanishBakery     \n",
      "1  sashoes.com                zzzzzzzzzzz        \n",
      "2  www.clinique.com           clinique           \n",
      "3  www.thehersheycompany.com  thehersheycompany  \n",
      "4  www.gearx.com              gearx"
     ]
    }
   ],
   "source": [
    "reviews.head()"
   ]
  },
  {
   "cell_type": "code",
   "execution_count": 84,
   "metadata": {},
   "outputs": [
    {
     "data": {
      "application/vnd.jupyter.widget-view+json": {
       "model_id": "87781cf91811455c85be4bff994496ed",
       "version_major": 2,
       "version_minor": 0
      },
      "text/plain": [
       "VBox()"
      ]
     },
     "metadata": {},
     "output_type": "display_data"
    },
    {
     "data": {
      "application/vnd.jupyter.widget-view+json": {
       "model_id": "",
       "version_major": 2,
       "version_minor": 0
      },
      "text/plain": [
       "FloatProgress(value=0.0, bar_style='info', description='Progress:', layout=Layout(height='25px', width='50%'),…"
      ]
     },
     "metadata": {},
     "output_type": "display_data"
    },
    {
     "name": "stdout",
     "output_type": "stream",
     "text": [
      "/usr/local/lib64/python3.7/site-packages/pandas/core/strings/accessor.py:101: UserWarning: This pattern has match groups. To actually get the groups, use str.extract.\n",
      "  return func(self, *args, **kwargs)"
     ]
    }
   ],
   "source": [
    "#Ignores emails by not including @ sign before\n",
    "#Include specific URL suffixes since allowing some # of characters after the period captures anywhere someone missed a space after a period\n",
    "#BE is for youtu.be, GL is for goo.gl\n",
    "reviews['regex_URL'] = reviews['ALL_TEXT'].str.contains(r'[^@A-Z][-A-Z0-9:%_\\+~#=]+\\.(CO|COM|NET|ORG|GOV|EDU|APP|IN|BE|GL|NL|LY|FR)\\b', case=False)==True\n",
    "#Extract actual website so that I can do a search of if it contains the client name\n",
    "reviews['regex_extract'] = reviews['ALL_TEXT'].str.extract(r'([^@A-Z][-A-Z0-9:%_\\+~#=]+\\.(?:CO|COM|NET|ORG|GOV|EDU|APP|IN|BE|GL|NL|LY|FR)\\b)', flags=re.I)"
   ]
  },
  {
   "cell_type": "code",
   "execution_count": 85,
   "metadata": {},
   "outputs": [
    {
     "data": {
      "application/vnd.jupyter.widget-view+json": {
       "model_id": "302d24efa38b4b5583cd0b224a6d42c3",
       "version_major": 2,
       "version_minor": 0
      },
      "text/plain": [
       "VBox()"
      ]
     },
     "metadata": {},
     "output_type": "display_data"
    },
    {
     "data": {
      "application/vnd.jupyter.widget-view+json": {
       "model_id": "",
       "version_major": 2,
       "version_minor": 0
      },
      "text/plain": [
       "FloatProgress(value=0.0, bar_style='info', description='Progress:', layout=Layout(height='25px', width='50%'),…"
      ]
     },
     "metadata": {},
     "output_type": "display_data"
    },
    {
     "name": "stdout",
     "output_type": "stream",
     "text": [
      "      UGC_ID                                    NAME  \\\n",
      "0  283823825  OH Danish Bakery Seller Ratings          \n",
      "1  283817828  San Antonio Shoes Seller Ratings         \n",
      "2  283789332  Clinique                                 \n",
      "3  283781663  Hershey Company                          \n",
      "4  283817405  The Outdoor Gear Exchange - TERMINATED   \n",
      "\n",
      "                                                REVIEW_HEADLINE  \\\n",
      "0  I have been getting and giving Kringles for many years.        \n",
      "1  I have a very wide foot, and I just wish there were more ...   \n",
      "2  Bon produit pour les peaux sèches                              \n",
      "3  This Is Great Gum                                              \n",
      "4  I will but from this site from now on!                         \n",
      "\n",
      "                                                                                                                                                                                                                                                                                                                                                                                                       REVIEW_COMMENTS  \\\n",
      "0  I have been getting and giving Kringles for many years.  They are delicious!  I have never been disappointed with the product or deliver.                                                                                                                                                                                                                                                                             \n",
      "1  I have a very wide foot, and I just wish there were more options for my shopping category.                                                                                                                                                                                                                                                                                                                            \n",
      "2  Un produit frais et agréable à appliquer, une protection solaire pour tous les jours, par contre dommage qu'une brillance et un côté collant reste après l'application, packaging au couleurs de l'été.                                                                                                                                                                                                               \n",
      "3  I am not a big gum chewer, but I will take a piece when someone offers. I didn't know how much I would like Hershey ICE CUBES Spearmint Gum. It as a great flavor, although it doesn't last as long as I would like. I typically chew two cubes at a time. I would definitely recommend this to my family and friends. The taste and breath freshening is better than other gums that I have chewed over the years.   \n",
      "4  Love this item! Great size, durable material, side zipper helps access items & organization. \\nI borrowed this same bag from someone & decided I needed one for myself. It was pricey everywhere else online & I was so happy to find it here for 30% less!                                                                                                                                                           \n",
      "\n",
      "  REVIEWER_NICKNAME                           BASE_URL  URL  \\\n",
      "0  uqc11340          http://www.OHDanishBakery.com      0     \n",
      "1  ajy1106           http://sashoes.com                 0     \n",
      "2  Valbeauyandco     http://www.clinique.com/           0     \n",
      "3  BillGladwell      http://www.thehersheycompany.com/  0     \n",
      "4  Angela            http://www.gearx.com               0     \n",
      "\n",
      "                                                                                                                                                                                                                                                                                                                                                                                                                                             ALL_TEXT  \\\n",
      "0  I have been getting and giving Kringles for many years. I have been getting and giving Kringles for many years.  They are delicious!  I have never been disappointed with the product or deliver. uqc11340                                                                                                                                                                                                                                           \n",
      "1  I have a very wide foot, and I just wish there were more ... I have a very wide foot, and I just wish there were more options for my shopping category. ajy1106                                                                                                                                                                                                                                                                                      \n",
      "2  Bon produit pour les peaux sèches Un produit frais et agréable à appliquer, une protection solaire pour tous les jours, par contre dommage qu'une brillance et un côté collant reste après l'application, packaging au couleurs de l'été. Valbeauyandco                                                                                                                                                                                              \n",
      "3  This Is Great Gum I am not a big gum chewer, but I will take a piece when someone offers. I didn't know how much I would like Hershey ICE CUBES Spearmint Gum. It as a great flavor, although it doesn't last as long as I would like. I typically chew two cubes at a time. I would definitely recommend this to my family and friends. The taste and breath freshening is better than other gums that I have chewed over the years. BillGladwell   \n",
      "4  I will but from this site from now on! Love this item! Great size, durable material, side zipper helps access items & organization. \\nI borrowed this same bag from someone & decided I needed one for myself. It was pricey everywhere else online & I was so happy to find it here for 30% less! Angela                                                                                                                                            \n",
      "\n",
      "                client_URL_1       client_URL_2  regex_URL regex_extract  \\\n",
      "0  www.ohdanishbakery.com     ohdanishbakery     False      NaN            \n",
      "1  sashoes.com                zzzzzzzzzzz        False      NaN            \n",
      "2  www.clinique.com           clinique           False      NaN            \n",
      "3  www.thehersheycompany.com  thehersheycompany  False      NaN            \n",
      "4  www.gearx.com              gearx              False      NaN            \n",
      "\n",
      "   client_URL_mention_1  client_URL_mention_2  \n",
      "0  True                  True                  \n",
      "1  True                  True                  \n",
      "2  True                  True                  \n",
      "3  True                  True                  \n",
      "4  True                  True"
     ]
    }
   ],
   "source": [
    "reviews['client_URL_1'] = reviews['client_URL_1'].str.lower()\n",
    "reviews['client_URL_2'] = reviews['client_URL_2'].str.lower()\n",
    "reviews['regex_extract'] = reviews['regex_extract'].str.lower()\n",
    "\n",
    "#Check if URL found by regex is client URL or not\n",
    "#Return True if no URL so then in final filter look if client URL mention is True then apply URL label is False\n",
    "reviews['client_URL_mention_1'] = reviews.apply(lambda x: x.client_URL_1 in x.regex_extract if x.regex_URL==True else True, axis=1)\n",
    "reviews['client_URL_mention_2'] = reviews.apply(lambda x: x.client_URL_2 in x.regex_extract if x.regex_URL==True else True, axis=1)\n",
    "reviews.head()"
   ]
  },
  {
   "cell_type": "code",
   "execution_count": 86,
   "metadata": {},
   "outputs": [
    {
     "data": {
      "application/vnd.jupyter.widget-view+json": {
       "model_id": "e402095621114fa8bc36c8df6e06901a",
       "version_major": 2,
       "version_minor": 0
      },
      "text/plain": [
       "VBox()"
      ]
     },
     "metadata": {},
     "output_type": "display_data"
    },
    {
     "data": {
      "application/vnd.jupyter.widget-view+json": {
       "model_id": "",
       "version_major": 2,
       "version_minor": 0
      },
      "text/plain": [
       "FloatProgress(value=0.0, bar_style='info', description='Progress:', layout=Layout(height='25px', width='50%'),…"
      ]
     },
     "metadata": {},
     "output_type": "display_data"
    }
   ],
   "source": [
    "#Ignore mentions of \"bomb.com\"\n",
    "#TAKES FOREVER TO RUN SINCE STRING SEARCHING\n",
    "reviews['bomb_com']=reviews['regex_extract'].str.contains('bomb.com', regex=False)"
   ]
  },
  {
   "cell_type": "code",
   "execution_count": 87,
   "metadata": {},
   "outputs": [
    {
     "data": {
      "application/vnd.jupyter.widget-view+json": {
       "model_id": "8580d3f6f83f46f8b8d1e37f2e11f108",
       "version_major": 2,
       "version_minor": 0
      },
      "text/plain": [
       "VBox()"
      ]
     },
     "metadata": {},
     "output_type": "display_data"
    },
    {
     "data": {
      "application/vnd.jupyter.widget-view+json": {
       "model_id": "",
       "version_major": 2,
       "version_minor": 0
      },
      "text/plain": [
       "FloatProgress(value=0.0, bar_style='info', description='Progress:', layout=Layout(height='25px', width='50%'),…"
      ]
     },
     "metadata": {},
     "output_type": "display_data"
    }
   ],
   "source": [
    "reviews['model_URL'] = 0\n",
    "\n",
    "reviews.loc[(reviews['regex_URL']==True ) & ((reviews['client_URL_mention_1']==False)&(reviews['client_URL_mention_2']==False)) \n",
    "            & (reviews['bomb_com']==False) , 'model_URL'] = 1\n"
   ]
  },
  {
   "cell_type": "code",
   "execution_count": 88,
   "metadata": {},
   "outputs": [
    {
     "data": {
      "application/vnd.jupyter.widget-view+json": {
       "model_id": "5e59a6837a05489ab5fd86e9e52981fa",
       "version_major": 2,
       "version_minor": 0
      },
      "text/plain": [
       "VBox()"
      ]
     },
     "metadata": {},
     "output_type": "display_data"
    },
    {
     "data": {
      "application/vnd.jupyter.widget-view+json": {
       "model_id": "",
       "version_major": 2,
       "version_minor": 0
      },
      "text/plain": [
       "FloatProgress(value=0.0, bar_style='info', description='Progress:', layout=Layout(height='25px', width='50%'),…"
      ]
     },
     "metadata": {},
     "output_type": "display_data"
    }
   ],
   "source": [
    "FP = reviews[(reviews['URL'] == 0) & (reviews['model_URL'] == 1)]\n",
    "FN = reviews[(reviews['URL'] == 1) & (reviews['model_URL'] == 0)]\n",
    "TP = reviews[(reviews['URL'] == 1) & (reviews['model_URL'] == 1)]\n",
    "TN = reviews[(reviews['URL'] == 0) & (reviews['model_URL'] == 0)]\n"
   ]
  },
  {
   "cell_type": "code",
   "execution_count": 89,
   "metadata": {},
   "outputs": [
    {
     "data": {
      "application/vnd.jupyter.widget-view+json": {
       "model_id": "045cc8a2554945ba97bb4a87106512c9",
       "version_major": 2,
       "version_minor": 0
      },
      "text/plain": [
       "VBox()"
      ]
     },
     "metadata": {},
     "output_type": "display_data"
    },
    {
     "data": {
      "application/vnd.jupyter.widget-view+json": {
       "model_id": "",
       "version_major": 2,
       "version_minor": 0
      },
      "text/plain": [
       "FloatProgress(value=0.0, bar_style='info', description='Progress:', layout=Layout(height='25px', width='50%'),…"
      ]
     },
     "metadata": {},
     "output_type": "display_data"
    },
    {
     "name": "stdout",
     "output_type": "stream",
     "text": [
      "1839"
     ]
    }
   ],
   "source": [
    "FP['UGC_ID'].count()"
   ]
  },
  {
   "cell_type": "code",
   "execution_count": 90,
   "metadata": {},
   "outputs": [
    {
     "data": {
      "application/vnd.jupyter.widget-view+json": {
       "model_id": "af0a44a9d95e4eabbba674813d532b23",
       "version_major": 2,
       "version_minor": 0
      },
      "text/plain": [
       "VBox()"
      ]
     },
     "metadata": {},
     "output_type": "display_data"
    },
    {
     "data": {
      "application/vnd.jupyter.widget-view+json": {
       "model_id": "",
       "version_major": 2,
       "version_minor": 0
      },
      "text/plain": [
       "FloatProgress(value=0.0, bar_style='info', description='Progress:', layout=Layout(height='25px', width='50%'),…"
      ]
     },
     "metadata": {},
     "output_type": "display_data"
    },
    {
     "name": "stdout",
     "output_type": "stream",
     "text": [
      "1465"
     ]
    }
   ],
   "source": [
    "FN['UGC_ID'].count()"
   ]
  },
  {
   "cell_type": "code",
   "execution_count": 91,
   "metadata": {},
   "outputs": [
    {
     "data": {
      "application/vnd.jupyter.widget-view+json": {
       "model_id": "b8f38708bdcd4256a20ac8b6889586c9",
       "version_major": 2,
       "version_minor": 0
      },
      "text/plain": [
       "VBox()"
      ]
     },
     "metadata": {},
     "output_type": "display_data"
    },
    {
     "data": {
      "application/vnd.jupyter.widget-view+json": {
       "model_id": "",
       "version_major": 2,
       "version_minor": 0
      },
      "text/plain": [
       "FloatProgress(value=0.0, bar_style='info', description='Progress:', layout=Layout(height='25px', width='50%'),…"
      ]
     },
     "metadata": {},
     "output_type": "display_data"
    },
    {
     "name": "stdout",
     "output_type": "stream",
     "text": [
      "3082"
     ]
    }
   ],
   "source": [
    "TP['UGC_ID'].count()"
   ]
  },
  {
   "cell_type": "code",
   "execution_count": 92,
   "metadata": {},
   "outputs": [
    {
     "data": {
      "application/vnd.jupyter.widget-view+json": {
       "model_id": "ad60e1c868974e25902e38dde087b243",
       "version_major": 2,
       "version_minor": 0
      },
      "text/plain": [
       "VBox()"
      ]
     },
     "metadata": {},
     "output_type": "display_data"
    },
    {
     "data": {
      "application/vnd.jupyter.widget-view+json": {
       "model_id": "",
       "version_major": 2,
       "version_minor": 0
      },
      "text/plain": [
       "FloatProgress(value=0.0, bar_style='info', description='Progress:', layout=Layout(height='25px', width='50%'),…"
      ]
     },
     "metadata": {},
     "output_type": "display_data"
    },
    {
     "name": "stdout",
     "output_type": "stream",
     "text": [
      "8672637"
     ]
    }
   ],
   "source": [
    "TN['UGC_ID'].count()"
   ]
  },
  {
   "cell_type": "code",
   "execution_count": 58,
   "metadata": {},
   "outputs": [
    {
     "data": {
      "application/vnd.jupyter.widget-view+json": {
       "model_id": "8b52a68f5c7f41fbbf07d563355a2a68",
       "version_major": 2,
       "version_minor": 0
      },
      "text/plain": [
       "VBox()"
      ]
     },
     "metadata": {},
     "output_type": "display_data"
    },
    {
     "data": {
      "application/vnd.jupyter.widget-view+json": {
       "model_id": "",
       "version_major": 2,
       "version_minor": 0
      },
      "text/plain": [
       "FloatProgress(value=0.0, bar_style='info', description='Progress:', layout=Layout(height='25px', width='50%'),…"
      ]
     },
     "metadata": {},
     "output_type": "display_data"
    },
    {
     "name": "stdout",
     "output_type": "stream",
     "text": [
      "          UGC_ID                             NAME  \\\n",
      "1273   264668227  Lowe's Microsite - TERMINATED     \n",
      "5281   271310972  Dillard's                         \n",
      "5388   308472173  Hammer Nutrition Seller Ratings   \n",
      "8193   322463204  Fingerhut                         \n",
      "12817  308842366  Cheaper Than Dirt                 \n",
      "15741  296917976  SupplyHouse                       \n",
      "19718  285439751  Mk Marketing, LLC                 \n",
      "23183  265961342  Colgate US                        \n",
      "24509  291835636  JoeBobOutfitters - Terminated     \n",
      "28587  268020496  Citigroup Inc.                    \n",
      "\n",
      "                                                    REVIEW_HEADLINE  \\\n",
      "1273   Great value                                                    \n",
      "5281   Wardrobe update with new denim shirt                           \n",
      "5388   Great experience.                                              \n",
      "8193   Twice as much                                                  \n",
      "12817  Cheaper than dirt still hasn't responded to my BBB complaint   \n",
      "15741  Supply House.Com is the Best!!!!                               \n",
      "19718  Great product but watch out for price                          \n",
      "23183  True to the test Colgate white renewal                         \n",
      "24509  Happy customer!                                                \n",
      "28587  I love my Citi Rewards+ Card!!!                                \n",
      "\n",
      "                                                                                                                                                                                                                                                                                                                                                                                                                                                                                                                                                                                                                                                                                                                                                                                                                                                                                                                    REVIEW_COMMENTS  \\\n",
      "1273   Great value at Lowe's! Priced at blinds.com and Lowe's had the best price.                                                                                                                                                                                                                                                                                                                                                                                                                                                                                                                                                                                                                                                                                                                                                                                                                                                     \n",
      "5281   Found this Roundtree & Yorke denim shirt online @ Dillard's.com, purchased one in grey and one in blue. Grey shirt arrived on time & fit perfectly. I was able to wear this comfortable shirt right out of the package. Looks great for casual or dress with slacks & jacket. I recommend this quality product.                                                                                                                                                                                                                                                                                                                                                                                                                                                                                                                                                                                                                \n",
      "5388   Great experience. Thank you for supporting our team @ ChristianCycling.org.                                                                                                                                                                                                                                                                                                                                                                                                                                                                                                                                                                                                                                                                                                                                                                                                                                                    \n",
      "8193   I purchased this online and it was twice as much as the one from Apple.com I had got one from Apple instead with my daughters name engraved for half the price. I sent this one back without even opening it up.                                                                                                                                                                                                                                                                                                                                                                                                                                                                                                                                                                                                                                                                                                               \n",
      "12817  Cheaper than dirt is an outlet for many online firearms sites; never had a single problem until I went through cheaper than dirt directly. Hopefully cheaper than dirt just uses the same warehouse as the other REPUTABLE online stores.\\n\\nThis is NOT an Ammo issue! This is strictly a cheaper than dirt issue. Garbage company. Customerservice@cheaperthandirt.com doesn't exist I tried 9 times. Customer service is worse than garbage. I had to file a BBB complaint and still not a word from cheaper than dirt. Oddly in less than 24 hours from my BBB complaint my \"order shipped\" and I contacted their \"online live chat\" again no response for days. \\n\\nI'll stand behind my BBB complaint and the 76 other complaints this year against cheaper than dirt.....I'd rather fire dirt through my rifle than deal with this company directly, ever again. Their name should be \"shittierthancarbonmonoxide.com   \n",
      "15741  This is a great quality tool that makes plumbing repairs and installations much easier!!!!!                                                                                                                                                                                                                                                                                                                                                                                                                                                                                                                                                                                                                                                                                                                                                                                                                                    \n",
      "19718  After reading The Great Cholesterol Myth, I researched many brands of CoQ10.  I chose Qunol because it appeared to have the greatest efficacy.  I Purchased it through Walmart.com and it said 150 softgels for $39.99. I received the product but it was only 120 softgels and I paid $11 more than the listed price for 120 soft gels.  I have not been taking the pill long enough to be able to remark on the results; but my research indicated this is the best product, I just wish they were marketed better and that I didn't waste $11.  I will continue to purchase QUNOL, but I think I'll do so with much more care.                                                                                                                                                                                                                                                                                              \n",
      "23183  I truly enjoyed the Colgate Optic White toothpaste.In just a few days of using the product I noticed my teeth getting whiter which is great I just about  loved everything about the product except for one minor problem the taste can linger and it taste kind of chalky. Other than that the product does exactly what it states its helps renew white teeth.                                                                                                                                                                                                                                                                                                                                                                                                                                                                                                                                                               \n",
      "24509  Glad I found Joeboboutfitters.com great pricing and fast delivery                                                                                                                                                                                                                                                                                                                                                                                                                                                                                                                                                                                                                                                                                                                                                                                                                                                              \n",
      "28587  I love my Citi Rewards+ Card!  I am continually impressed by Citi as a cardmember.  I really like the perks of the ThankYou Points reward program and the ease of redeeming them.  I especially love my free ShopRunner account as a cardmember, which has saved me online shopping with free shipping at places like Saks Off Fifth.com and more!  Wonderful customer service makes this card membership a sound decision.                                                                                                                                                                                                                                                                                                                                                                                                                                                                                                    \n",
      "\n",
      "          REVIEWER_NICKNAME                                 BASE_URL  URL  \\\n",
      "1273   Jac                   http://blinds.lowes.com                  0     \n",
      "5281   Datachip1258          http://www.dillards.com                  0     \n",
      "5388   ajx45312              http://www.hammernutrition.com/          0     \n",
      "8193   Harper                http://www.fingerhut.com                 0     \n",
      "12817  GFYS cheaperthandirt  http://www.cheaperthandirt.com/          0     \n",
      "15741  Dillpickel            http://www.supplyhouse.com               0     \n",
      "19718  Kathy in Florida      https://www.qunol.com/                   0     \n",
      "23183  Clarkbanner2          https://www.colgate.com                  0     \n",
      "24509  Ragdude               http://https://www.JoeBobOutfitters.com  0     \n",
      "28587  Sphynx Lover          http://www.citi.com/credit-cards/        0     \n",
      "\n",
      "                                                                                                                                                                                                                                                                                                                                                                                                                                                                                                                                                                                                                                                                                                                                                                                                                                                                                                                                                                                                             ALL_TEXT  \\\n",
      "1273   Great value Great value at Lowe's! Priced at blinds.com and Lowe's had the best price. Jac                                                                                                                                                                                                                                                                                                                                                                                                                                                                                                                                                                                                                                                                                                                                                                                                                                                                                                                       \n",
      "5281   Wardrobe update with new denim shirt Found this Roundtree & Yorke denim shirt online @ Dillard's.com, purchased one in grey and one in blue. Grey shirt arrived on time & fit perfectly. I was able to wear this comfortable shirt right out of the package. Looks great for casual or dress with slacks & jacket. I recommend this quality product. Datachip1258                                                                                                                                                                                                                                                                                                                                                                                                                                                                                                                                                                                                                                                \n",
      "5388   Great experience. Great experience. Thank you for supporting our team @ ChristianCycling.org. ajx45312                                                                                                                                                                                                                                                                                                                                                                                                                                                                                                                                                                                                                                                                                                                                                                                                                                                                                                           \n",
      "8193   Twice as much I purchased this online and it was twice as much as the one from Apple.com I had got one from Apple instead with my daughters name engraved for half the price. I sent this one back without even opening it up. Harper                                                                                                                                                                                                                                                                                                                                                                                                                                                                                                                                                                                                                                                                                                                                                                            \n",
      "12817  Cheaper than dirt still hasn't responded to my BBB complaint Cheaper than dirt is an outlet for many online firearms sites; never had a single problem until I went through cheaper than dirt directly. Hopefully cheaper than dirt just uses the same warehouse as the other REPUTABLE online stores.\\n\\nThis is NOT an Ammo issue! This is strictly a cheaper than dirt issue. Garbage company. Customerservice@cheaperthandirt.com doesn't exist I tried 9 times. Customer service is worse than garbage. I had to file a BBB complaint and still not a word from cheaper than dirt. Oddly in less than 24 hours from my BBB complaint my \"order shipped\" and I contacted their \"online live chat\" again no response for days. \\n\\nI'll stand behind my BBB complaint and the 76 other complaints this year against cheaper than dirt.....I'd rather fire dirt through my rifle than deal with this company directly, ever again. Their name should be \"shittierthancarbonmonoxide.com GFYS cheaperthandirt   \n",
      "15741  Supply House.Com is the Best!!!! This is a great quality tool that makes plumbing repairs and installations much easier!!!!! Dillpickel                                                                                                                                                                                                                                                                                                                                                                                                                                                                                                                                                                                                                                                                                                                                                                                                                                                                          \n",
      "19718  Great product but watch out for price After reading The Great Cholesterol Myth, I researched many brands of CoQ10.  I chose Qunol because it appeared to have the greatest efficacy.  I Purchased it through Walmart.com and it said 150 softgels for $39.99. I received the product but it was only 120 softgels and I paid $11 more than the listed price for 120 soft gels.  I have not been taking the pill long enough to be able to remark on the results; but my research indicated this is the best product, I just wish they were marketed better and that I didn't waste $11.  I will continue to purchase QUNOL, but I think I'll do so with much more care. Kathy in Florida                                                                                                                                                                                                                                                                                                                         \n",
      "23183  True to the test Colgate white renewal I truly enjoyed the Colgate Optic White toothpaste.In just a few days of using the product I noticed my teeth getting whiter which is great I just about  loved everything about the product except for one minor problem the taste can linger and it taste kind of chalky. Other than that the product does exactly what it states its helps renew white teeth. Clarkbanner2                                                                                                                                                                                                                                                                                                                                                                                                                                                                                                                                                                                             \n",
      "24509  Happy customer! Glad I found Joeboboutfitters.com great pricing and fast delivery Ragdude                                                                                                                                                                                                                                                                                                                                                                                                                                                                                                                                                                                                                                                                                                                                                                                                                                                                                                                        \n",
      "28587  I love my Citi Rewards+ Card!!! I love my Citi Rewards+ Card!  I am continually impressed by Citi as a cardmember.  I really like the perks of the ThankYou Points reward program and the ease of redeeming them.  I especially love my free ShopRunner account as a cardmember, which has saved me online shopping with free shipping at places like Saks Off Fifth.com and more!  Wonderful customer service makes this card membership a sound decision. Sphynx Lover                                                                                                                                                                                                                                                                                                                                                                                                                                                                                                                                         \n",
      "\n",
      "                  client_URL_1     client_URL_2  regex_URL  \\\n",
      "1273   blinds.lowes.com         lowes            True        \n",
      "5281   www.dillards.com         dillards         True        \n",
      "5388   www.hammernutrition.com  hammernutrition  True        \n",
      "8193   www.fingerhut.com        fingerhut        True        \n",
      "12817  www.cheaperthandirt.com  cheaperthandirt  True        \n",
      "15741  www.supplyhouse.com      supplyhouse      True        \n",
      "19718  www.qunol.com            qunol            True        \n",
      "23183  www.colgate.com          colgate          True        \n",
      "24509  https:                   zzzzzzzzzzz      True        \n",
      "28587  www.citi.com             citi             True        \n",
      "\n",
      "                         regex_extract  client_URL_mention_1  \\\n",
      "1273    blinds.com                      False                  \n",
      "5281   's.com                           False                  \n",
      "5388    christiancycling.org            False                  \n",
      "8193    apple.com                       False                  \n",
      "12817  \"shittierthancarbonmonoxide.com  False                  \n",
      "15741   house.com                       False                  \n",
      "19718   walmart.com                     False                  \n",
      "23183   toothpaste.in                   False                  \n",
      "24509   joeboboutfitters.com            False                  \n",
      "28587   fifth.com                       False                  \n",
      "\n",
      "       client_URL_mention_2 bomb_com  model_URL  \n",
      "1273   False                 False    1          \n",
      "5281   False                 False    1          \n",
      "5388   False                 False    1          \n",
      "8193   False                 False    1          \n",
      "12817  False                 False    1          \n",
      "15741  False                 False    1          \n",
      "19718  False                 False    1          \n",
      "23183  False                 False    1          \n",
      "24509  False                 False    1          \n",
      "28587  False                 False    1"
     ]
    }
   ],
   "source": [
    "FP.head(10)"
   ]
  },
  {
   "cell_type": "code",
   "execution_count": null,
   "metadata": {},
   "outputs": [],
   "source": []
  },
  {
   "cell_type": "code",
   "execution_count": null,
   "metadata": {},
   "outputs": [],
   "source": []
  },
  {
   "cell_type": "code",
   "execution_count": null,
   "metadata": {},
   "outputs": [],
   "source": []
  },
  {
   "cell_type": "code",
   "execution_count": null,
   "metadata": {},
   "outputs": [],
   "source": []
  },
  {
   "cell_type": "code",
   "execution_count": 59,
   "metadata": {},
   "outputs": [
    {
     "data": {
      "application/vnd.jupyter.widget-view+json": {
       "model_id": "d88b605e074940cb8d2c879ab3b9cade",
       "version_major": 2,
       "version_minor": 0
      },
      "text/plain": [
       "VBox()"
      ]
     },
     "metadata": {},
     "output_type": "display_data"
    },
    {
     "data": {
      "application/vnd.jupyter.widget-view+json": {
       "model_id": "",
       "version_major": 2,
       "version_minor": 0
      },
      "text/plain": [
       "FloatProgress(value=0.0, bar_style='info', description='Progress:', layout=Layout(height='25px', width='50%'),…"
      ]
     },
     "metadata": {},
     "output_type": "display_data"
    }
   ],
   "source": [
    "from pyspark.sql.types import *\n",
    "\n",
    "mySchema = StructType([StructField(\"UGC_ID\", StringType(), True)\\\n",
    ",StructField(\"NAME\", StringType(), True)\\\n",
    ",StructField(\"REVIEW_HEADLINE\", StringType(), True)\\\n",
    ",StructField(\"REVIEW_COMMENTS\", StringType(), True)\\\n",
    ",StructField(\"REVIEWER_NICKNAME\", StringType(), True)\\\n",
    ",StructField(\"BASE_URL\", StringType(), True)\\\n",
    ",StructField(\"URL\", IntegerType(), True)\\\n",
    ",StructField(\"ALL_TEXT\", StringType(), True)\\\n",
    ",StructField(\"client_URL_1\", StringType(), True)\\\n",
    ",StructField(\"client_URL_2\", StringType(), True)\\\n",
    ",StructField(\"regex_URL\", StringType(), True)\\\n",
    ",StructField(\"regex_extract\", StringType(), True)\\\n",
    ",StructField(\"client_URL_mention_1\", StringType(), True)\\\n",
    ",StructField(\"client_URL_mention_2\", StringType(), True)\\\n",
    ",StructField(\"bomb_com\", StringType(), True)\\\n",
    ",StructField(\"model_URL\", IntegerType(), True)])   \n",
    "\n"
   ]
  },
  {
   "cell_type": "code",
   "execution_count": null,
   "metadata": {},
   "outputs": [],
   "source": []
  },
  {
   "cell_type": "code",
   "execution_count": 60,
   "metadata": {},
   "outputs": [
    {
     "data": {
      "application/vnd.jupyter.widget-view+json": {
       "model_id": "817e9d6373fb4903976e5b882187885a",
       "version_major": 2,
       "version_minor": 0
      },
      "text/plain": [
       "VBox()"
      ]
     },
     "metadata": {},
     "output_type": "display_data"
    },
    {
     "data": {
      "application/vnd.jupyter.widget-view+json": {
       "model_id": "",
       "version_major": 2,
       "version_minor": 0
      },
      "text/plain": [
       "FloatProgress(value=0.0, bar_style='info', description='Progress:', layout=Layout(height='25px', width='50%'),…"
      ]
     },
     "metadata": {},
     "output_type": "display_data"
    }
   ],
   "source": [
    "SNOWFLAKE_SOURCE_NAME = \"net.snowflake.spark.snowflake\"\n",
    "\n",
    "sfOptions = {\n",
    "  'sfURL' : 'powerreviews.snowflakecomputing.com',\n",
    "  'sfAccount' : 'powerreviews',\n",
    "  'sfUser' : username,\n",
    "  'sfPassword' : password,\n",
    "  'sfDatabase' : 'ANALYTICS_WORKSHOP',\n",
    "  'sfSchema' : 'DATA_SCIENCE',\n",
    "  'sfWarehouse' : 'LOWER_ENV_WAREHOUSE'\n",
    "}"
   ]
  },
  {
   "cell_type": "code",
   "execution_count": 67,
   "metadata": {},
   "outputs": [
    {
     "data": {
      "application/vnd.jupyter.widget-view+json": {
       "model_id": "44df759ebf9d4247a70b316187a97ea8",
       "version_major": 2,
       "version_minor": 0
      },
      "text/plain": [
       "VBox()"
      ]
     },
     "metadata": {},
     "output_type": "display_data"
    },
    {
     "data": {
      "application/vnd.jupyter.widget-view+json": {
       "model_id": "",
       "version_major": 2,
       "version_minor": 0
      },
      "text/plain": [
       "FloatProgress(value=0.0, bar_style='info', description='Progress:', layout=Layout(height='25px', width='50%'),…"
      ]
     },
     "metadata": {},
     "output_type": "display_data"
    },
    {
     "name": "stderr",
     "output_type": "stream",
     "text": [
      "data is already a DataFrame\n",
      "Traceback (most recent call last):\n",
      "  File \"/usr/lib/spark/python/lib/pyspark.zip/pyspark/sql/session.py\", line 672, in createDataFrame\n",
      "    raise TypeError(\"data is already a DataFrame\")\n",
      "TypeError: data is already a DataFrame\n",
      "\n"
     ]
    }
   ],
   "source": [
    "#Turn into spark dataframe in order to write to Snowflake\n",
    "#Couldn't get write_pandas() to work to write directly from pandas to Snowflake\n",
    "FP = spark.createDataFrame(FP, schema=mySchema)"
   ]
  },
  {
   "cell_type": "code",
   "execution_count": 69,
   "metadata": {},
   "outputs": [
    {
     "data": {
      "application/vnd.jupyter.widget-view+json": {
       "model_id": "230b90c9e74343faa52a1f1429c6bcdd",
       "version_major": 2,
       "version_minor": 0
      },
      "text/plain": [
       "VBox()"
      ]
     },
     "metadata": {},
     "output_type": "display_data"
    },
    {
     "data": {
      "application/vnd.jupyter.widget-view+json": {
       "model_id": "",
       "version_major": 2,
       "version_minor": 0
      },
      "text/plain": [
       "FloatProgress(value=0.0, bar_style='info', description='Progress:', layout=Layout(height='25px', width='50%'),…"
      ]
     },
     "metadata": {},
     "output_type": "display_data"
    }
   ],
   "source": [
    "FP.write.format(SNOWFLAKE_SOURCE_NAME).options(**sfOptions) \\\n",
    "    .option(\"dbtable\",\"URL_FP_test1\").mode(\"append\").save()\n"
   ]
  },
  {
   "cell_type": "code",
   "execution_count": null,
   "metadata": {},
   "outputs": [],
   "source": []
  },
  {
   "cell_type": "code",
   "execution_count": null,
   "metadata": {},
   "outputs": [],
   "source": []
  },
  {
   "cell_type": "code",
   "execution_count": null,
   "metadata": {},
   "outputs": [],
   "source": []
  },
  {
   "cell_type": "code",
   "execution_count": null,
   "metadata": {},
   "outputs": [],
   "source": []
  },
  {
   "cell_type": "code",
   "execution_count": 72,
   "metadata": {},
   "outputs": [
    {
     "data": {
      "application/vnd.jupyter.widget-view+json": {
       "model_id": "75afa3c982b74756b9169819bedf1c0f",
       "version_major": 2,
       "version_minor": 0
      },
      "text/plain": [
       "VBox()"
      ]
     },
     "metadata": {},
     "output_type": "display_data"
    },
    {
     "data": {
      "application/vnd.jupyter.widget-view+json": {
       "model_id": "",
       "version_major": 2,
       "version_minor": 0
      },
      "text/plain": [
       "FloatProgress(value=0.0, bar_style='info', description='Progress:', layout=Layout(height='25px', width='50%'),…"
      ]
     },
     "metadata": {},
     "output_type": "display_data"
    },
    {
     "name": "stdout",
     "output_type": "stream",
     "text": [
      "<snowflake.connector.cursor.SnowflakeCursor object at 0x7f0639267710>"
     ]
    }
   ],
   "source": [
    "conn.cursor().execute(\"drop table if exists ANALYTICS_WORKSHOP.DATA_SCIENCE.TEST_BATCH_TRACKING_TABLE\")\n",
    "conn.cursor().execute(\"drop table if exists ANALYTICS_WORKSHOP.DATA_SCIENCE.TEST_FULL_TRACKING_TABLE\")\n",
    "#conn.cursor().execute(\"drop table if exists ANALYTICS_WORKSHOP.DATA_SCIENCE.TEST_NLP_SPARK6\")\n",
    "#conn.cursor().execute(\"drop table if exists ANALYTICS_WORKSHOP.DATA_SCIENCE.TEST_NLP_SWAP_TOKENS\")"
   ]
  },
  {
   "cell_type": "code",
   "execution_count": null,
   "metadata": {},
   "outputs": [],
   "source": []
  },
  {
   "cell_type": "code",
   "execution_count": null,
   "metadata": {},
   "outputs": [],
   "source": []
  },
  {
   "cell_type": "code",
   "execution_count": null,
   "metadata": {},
   "outputs": [],
   "source": []
  },
  {
   "cell_type": "code",
   "execution_count": 67,
   "metadata": {},
   "outputs": [
    {
     "data": {
      "application/vnd.jupyter.widget-view+json": {
       "model_id": "c252d3e243004040a4d942d87075dfad",
       "version_major": 2,
       "version_minor": 0
      },
      "text/plain": [
       "VBox()"
      ]
     },
     "metadata": {},
     "output_type": "display_data"
    },
    {
     "data": {
      "application/vnd.jupyter.widget-view+json": {
       "model_id": "",
       "version_major": 2,
       "version_minor": 0
      },
      "text/plain": [
       "FloatProgress(value=0.0, bar_style='info', description='Progress:', layout=Layout(height='25px', width='50%'),…"
      ]
     },
     "metadata": {},
     "output_type": "display_data"
    },
    {
     "name": "stdout",
     "output_type": "stream",
     "text": [
      "<snowflake.connector.cursor.SnowflakeCursor object at 0x7f7f32c3a750>"
     ]
    }
   ],
   "source": [
    "conn.cursor().execute(\"drop table if exists ANALYTICS_WORKSHOP.DATA_SCIENCE.URL_FN_test1\")\n",
    "conn.cursor().execute(\"drop table if exists ANALYTICS_WORKSHOP.DATA_SCIENCE.CC_FP_TEST7\")\n"
   ]
  },
  {
   "cell_type": "code",
   "execution_count": null,
   "metadata": {},
   "outputs": [],
   "source": []
  },
  {
   "cell_type": "code",
   "execution_count": null,
   "metadata": {},
   "outputs": [],
   "source": []
  },
  {
   "cell_type": "code",
   "execution_count": null,
   "metadata": {},
   "outputs": [],
   "source": []
  },
  {
   "cell_type": "code",
   "execution_count": null,
   "metadata": {},
   "outputs": [],
   "source": []
  },
  {
   "cell_type": "code",
   "execution_count": null,
   "metadata": {},
   "outputs": [],
   "source": []
  }
 ],
 "metadata": {
  "kernelspec": {
   "display_name": "PySpark",
   "language": "",
   "name": "pysparkkernel"
  },
  "language_info": {
   "codemirror_mode": {
    "name": "python",
    "version": 2
   },
   "mimetype": "text/x-python",
   "name": "pyspark",
   "pygments_lexer": "python2"
  }
 },
 "nbformat": 4,
 "nbformat_minor": 4
}
