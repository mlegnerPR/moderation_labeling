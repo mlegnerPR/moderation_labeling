{
 "cells": [
  {
   "cell_type": "code",
   "execution_count": 1,
   "metadata": {},
   "outputs": [
    {
     "data": {
      "application/vnd.jupyter.widget-view+json": {
       "model_id": "f06af6a012334bcb8b3e8ee565ac1ada",
       "version_major": 2,
       "version_minor": 0
      },
      "text/plain": [
       "VBox()"
      ]
     },
     "metadata": {},
     "output_type": "display_data"
    },
    {
     "name": "stdout",
     "output_type": "stream",
     "text": [
      "Starting Spark application\n"
     ]
    },
    {
     "data": {
      "text/html": [
       "<table>\n",
       "<tr><th>ID</th><th>YARN Application ID</th><th>Kind</th><th>State</th><th>Spark UI</th><th>Driver log</th><th>Current session?</th></tr><tr><td>0</td><td>application_1611087723218_0001</td><td>pyspark</td><td>idle</td><td><a target=\"_blank\" href=\"http://ip-10-101-213-27.us-west-2.compute.internal:20888/proxy/application_1611087723218_0001/\">Link</a></td><td><a target=\"_blank\" href=\"http://ip-10-101-213-27.us-west-2.compute.internal:8042/node/containerlogs/container_1611087723218_0001_01_000001/livy\">Link</a></td><td>✔</td></tr></table>"
      ],
      "text/plain": [
       "<IPython.core.display.HTML object>"
      ]
     },
     "metadata": {},
     "output_type": "display_data"
    },
    {
     "data": {
      "application/vnd.jupyter.widget-view+json": {
       "model_id": "",
       "version_major": 2,
       "version_minor": 0
      },
      "text/plain": [
       "FloatProgress(value=0.0, bar_style='info', description='Progress:', layout=Layout(height='25px', width='50%'),…"
      ]
     },
     "metadata": {},
     "output_type": "display_data"
    },
    {
     "name": "stdout",
     "output_type": "stream",
     "text": [
      "SparkSession available as 'spark'.\n"
     ]
    },
    {
     "data": {
      "application/vnd.jupyter.widget-view+json": {
       "model_id": "",
       "version_major": 2,
       "version_minor": 0
      },
      "text/plain": [
       "FloatProgress(value=0.0, bar_style='info', description='Progress:', layout=Layout(height='25px', width='50%'),…"
      ]
     },
     "metadata": {},
     "output_type": "display_data"
    }
   ],
   "source": [
    "#Import packages\n",
    "import boto3\n",
    "import json\n",
    "import numpy as np\n",
    "from numpy import argmax\n",
    "import pyspark.sql.functions as F\n",
    "import snowflake.connector\n",
    "import pandas as pd\n",
    "import spacy\n",
    "import matplotlib.pyplot as plt\n",
    "from vaderSentiment.vaderSentiment import SentimentIntensityAnalyzer\n",
    "\n",
    "#RegEx\n",
    "import regex as re"
   ]
  },
  {
   "cell_type": "code",
   "execution_count": 2,
   "metadata": {},
   "outputs": [
    {
     "data": {
      "application/vnd.jupyter.widget-view+json": {
       "model_id": "3976976098624ac7ab8104bbf31572e5",
       "version_major": 2,
       "version_minor": 0
      },
      "text/plain": [
       "VBox()"
      ]
     },
     "metadata": {},
     "output_type": "display_data"
    },
    {
     "data": {
      "application/vnd.jupyter.widget-view+json": {
       "model_id": "",
       "version_major": 2,
       "version_minor": 0
      },
      "text/plain": [
       "FloatProgress(value=0.0, bar_style='info', description='Progress:', layout=Layout(height='25px', width='50%'),…"
      ]
     },
     "metadata": {},
     "output_type": "display_data"
    }
   ],
   "source": [
    "sm_client = boto3.client('secretsmanager',region_name='us-west-2')\n",
    "secret_value = sm_client.get_secret_value(SecretId = 'emr_spark_qa')\n",
    "username = json.loads(secret_value['SecretString'])['emr_spark_username']\n",
    "password = json.loads(secret_value['SecretString'])['emr_spark_password']\n",
    "#print(username)\n",
    "#print(password)"
   ]
  },
  {
   "cell_type": "code",
   "execution_count": 3,
   "metadata": {},
   "outputs": [
    {
     "data": {
      "application/vnd.jupyter.widget-view+json": {
       "model_id": "abad30d9d9464c0fa1e942fe360c10ee",
       "version_major": 2,
       "version_minor": 0
      },
      "text/plain": [
       "VBox()"
      ]
     },
     "metadata": {},
     "output_type": "display_data"
    },
    {
     "data": {
      "application/vnd.jupyter.widget-view+json": {
       "model_id": "",
       "version_major": 2,
       "version_minor": 0
      },
      "text/plain": [
       "FloatProgress(value=0.0, bar_style='info', description='Progress:', layout=Layout(height='25px', width='50%'),…"
      ]
     },
     "metadata": {},
     "output_type": "display_data"
    }
   ],
   "source": [
    "#PYTHON connection info\n",
    "conn = snowflake.connector.connect(\n",
    "    account='powerreviews',\n",
    "    database='analytics_prod',\n",
    "    warehouse='LOWER_ENV_WAREHOUSE',\n",
    "    user=username,\n",
    "    password=password\n",
    "    )\n"
   ]
  },
  {
   "cell_type": "code",
   "execution_count": 4,
   "metadata": {},
   "outputs": [
    {
     "data": {
      "application/vnd.jupyter.widget-view+json": {
       "model_id": "ad1aa2c1d14d4543bb5bf1816768aaac",
       "version_major": 2,
       "version_minor": 0
      },
      "text/plain": [
       "VBox()"
      ]
     },
     "metadata": {},
     "output_type": "display_data"
    },
    {
     "data": {
      "application/vnd.jupyter.widget-view+json": {
       "model_id": "",
       "version_major": 2,
       "version_minor": 0
      },
      "text/plain": [
       "FloatProgress(value=0.0, bar_style='info', description='Progress:', layout=Layout(height='25px', width='50%'),…"
      ]
     },
     "metadata": {},
     "output_type": "display_data"
    }
   ],
   "source": [
    "#Query some reviews\n",
    "query_1 = \"select distinct r.ugc_id,  mg.name, r.review_headline, r.review_comments, r.review_length, r.review_rating, r.review_would_recommend, \\\n",
    "case when (contains(r.observations, 'CC') )  then 1 else 0 end as CC \\\n",
    "from analytics.review as r \\\n",
    "join analytics.merchant_group as mg \\\n",
    "on r.client_id = mg.client_id \\\n",
    "where r.locale in ('en_US','en_CA','en_GB') and contains(r.observations, 'PM') and not contains(r.observations, 'IA') and not contains(r.observations, 'IR') \\\n",
    "and r.created_date > '2020-11-01' \\\n",
    "\"\n"
   ]
  },
  {
   "cell_type": "code",
   "execution_count": 5,
   "metadata": {},
   "outputs": [
    {
     "data": {
      "application/vnd.jupyter.widget-view+json": {
       "model_id": "6ebb4f128fb145caa5ac82270acc00f8",
       "version_major": 2,
       "version_minor": 0
      },
      "text/plain": [
       "VBox()"
      ]
     },
     "metadata": {},
     "output_type": "display_data"
    },
    {
     "data": {
      "application/vnd.jupyter.widget-view+json": {
       "model_id": "",
       "version_major": 2,
       "version_minor": 0
      },
      "text/plain": [
       "FloatProgress(value=0.0, bar_style='info', description='Progress:', layout=Layout(height='25px', width='50%'),…"
      ]
     },
     "metadata": {},
     "output_type": "display_data"
    },
    {
     "name": "stdout",
     "output_type": "stream",
     "text": [
      "      UGC_ID        NAME  ... REVIEW_WOULD_RECOMMEND CC\n",
      "0  324547054  Colgate US  ...                   True  0\n",
      "1  324547450  Colgate US  ...                   True  0\n",
      "2  324551754  Colgate US  ...                   True  0\n",
      "3  324556165  Colgate US  ...                   True  0\n",
      "4  324559748  Colgate US  ...                   True  0\n",
      "\n",
      "[5 rows x 8 columns]"
     ]
    }
   ],
   "source": [
    "#pd.set_option('display.max_colwidth', -1)\n",
    "#pd.set_option('display.max_columns', None)\n",
    "#pd.set_option('display.max_rows', None)\n",
    "reviews = pd.read_sql(query_1, conn)\n",
    "reviews.head()\n",
    "#reviews.info()\n"
   ]
  },
  {
   "cell_type": "code",
   "execution_count": 72,
   "metadata": {},
   "outputs": [
    {
     "data": {
      "application/vnd.jupyter.widget-view+json": {
       "model_id": "ad79ed67150d4bedbf8a826289ff3b2e",
       "version_major": 2,
       "version_minor": 0
      },
      "text/plain": [
       "VBox()"
      ]
     },
     "metadata": {},
     "output_type": "display_data"
    },
    {
     "data": {
      "application/vnd.jupyter.widget-view+json": {
       "model_id": "",
       "version_major": 2,
       "version_minor": 0
      },
      "text/plain": [
       "FloatProgress(value=0.0, bar_style='info', description='Progress:', layout=Layout(height='25px', width='50%'),…"
      ]
     },
     "metadata": {},
     "output_type": "display_data"
    }
   ],
   "source": [
    "reviews['ALL_TEXT'] =  reviews['REVIEW_HEADLINE'] + '. '+reviews['REVIEW_COMMENTS']\n",
    "#Use set_option so text doesn't truncate\n",
    "\n",
    "#pd.set_option('display.max_colwidth', -1)\n",
    "#pd.set_option('display.max_columns', None)\n",
    "#reviews.head()\n",
    "\n",
    "#reviews.dtypes"
   ]
  },
  {
   "cell_type": "code",
   "execution_count": 73,
   "metadata": {},
   "outputs": [
    {
     "data": {
      "application/vnd.jupyter.widget-view+json": {
       "model_id": "610fd7bbb48e45d78868a3feb5f5ca9f",
       "version_major": 2,
       "version_minor": 0
      },
      "text/plain": [
       "VBox()"
      ]
     },
     "metadata": {},
     "output_type": "display_data"
    },
    {
     "data": {
      "application/vnd.jupyter.widget-view+json": {
       "model_id": "",
       "version_major": 2,
       "version_minor": 0
      },
      "text/plain": [
       "FloatProgress(value=0.0, bar_style='info', description='Progress:', layout=Layout(height='25px', width='50%'),…"
      ]
     },
     "metadata": {},
     "output_type": "display_data"
    },
    {
     "name": "stdout",
     "output_type": "stream",
     "text": [
      "<class 'pandas.core.frame.DataFrame'>\n",
      "Int64Index: 2011193 entries, 0 to 2011808\n",
      "Data columns (total 11 columns):\n",
      " #   Column                  Dtype  \n",
      "---  ------                  -----  \n",
      " 0   UGC_ID                  int64  \n",
      " 1   NAME                    object \n",
      " 2   REVIEW_HEADLINE         object \n",
      " 3   REVIEW_COMMENTS         object \n",
      " 4   REVIEW_LENGTH           float64\n",
      " 5   REVIEW_RATING           int64  \n",
      " 6   REVIEW_WOULD_RECOMMEND  object \n",
      " 7   CC                      int64  \n",
      " 8   ALL_TEXT                object \n",
      " 9   sentiment_score         float64\n",
      " 10  model_CC                int64  \n",
      "dtypes: float64(2), int64(4), object(5)\n",
      "memory usage: 184.1+ MB"
     ]
    }
   ],
   "source": [
    "reviews.info()"
   ]
  },
  {
   "cell_type": "code",
   "execution_count": 74,
   "metadata": {},
   "outputs": [
    {
     "data": {
      "application/vnd.jupyter.widget-view+json": {
       "model_id": "4500ce3a101d49aa815b31d686f0d476",
       "version_major": 2,
       "version_minor": 0
      },
      "text/plain": [
       "VBox()"
      ]
     },
     "metadata": {},
     "output_type": "display_data"
    },
    {
     "data": {
      "application/vnd.jupyter.widget-view+json": {
       "model_id": "",
       "version_major": 2,
       "version_minor": 0
      },
      "text/plain": [
       "FloatProgress(value=0.0, bar_style='info', description='Progress:', layout=Layout(height='25px', width='50%'),…"
      ]
     },
     "metadata": {},
     "output_type": "display_data"
    }
   ],
   "source": [
    "#Remove nulls so sentiment analyzer works\n",
    "reviews=reviews[reviews['ALL_TEXT'].notnull()]"
   ]
  },
  {
   "cell_type": "code",
   "execution_count": 75,
   "metadata": {},
   "outputs": [
    {
     "data": {
      "application/vnd.jupyter.widget-view+json": {
       "model_id": "b2364363d900496bbaf138d6751c30aa",
       "version_major": 2,
       "version_minor": 0
      },
      "text/plain": [
       "VBox()"
      ]
     },
     "metadata": {},
     "output_type": "display_data"
    },
    {
     "data": {
      "application/vnd.jupyter.widget-view+json": {
       "model_id": "",
       "version_major": 2,
       "version_minor": 0
      },
      "text/plain": [
       "FloatProgress(value=0.0, bar_style='info', description='Progress:', layout=Layout(height='25px', width='50%'),…"
      ]
     },
     "metadata": {},
     "output_type": "display_data"
    }
   ],
   "source": [
    "#Run sentiment on headline and comments\n",
    "#Compare to star rating\n",
    "#Compare to bottom line/would recommend Y/N\n",
    "\n",
    "sentiment_analyzer = SentimentIntensityAnalyzer()\n",
    "reviews['sentiment_score'] = reviews['ALL_TEXT'].apply(lambda x: sentiment_analyzer.polarity_scores(x)['compound'])"
   ]
  },
  {
   "cell_type": "code",
   "execution_count": 76,
   "metadata": {},
   "outputs": [
    {
     "data": {
      "application/vnd.jupyter.widget-view+json": {
       "model_id": "e77c04b2295d49c2a624938e40e1a924",
       "version_major": 2,
       "version_minor": 0
      },
      "text/plain": [
       "VBox()"
      ]
     },
     "metadata": {},
     "output_type": "display_data"
    },
    {
     "data": {
      "application/vnd.jupyter.widget-view+json": {
       "model_id": "",
       "version_major": 2,
       "version_minor": 0
      },
      "text/plain": [
       "FloatProgress(value=0.0, bar_style='info', description='Progress:', layout=Layout(height='25px', width='50%'),…"
      ]
     },
     "metadata": {},
     "output_type": "display_data"
    },
    {
     "name": "stdout",
     "output_type": "stream",
     "text": [
      "<string>:1: FutureWarning: Passing a negative integer is deprecated in version 1.0 and will not be supported in future version. Instead, use None to not limit the column width."
     ]
    }
   ],
   "source": [
    "pd.set_option('display.max_colwidth', -1)\n",
    "pd.set_option('display.max_columns', None)\n",
    "pd.set_option('display.max_rows', None)\n"
   ]
  },
  {
   "cell_type": "code",
   "execution_count": 77,
   "metadata": {},
   "outputs": [
    {
     "data": {
      "application/vnd.jupyter.widget-view+json": {
       "model_id": "6bb13ddf34904eaba4b17319ab1ef4a1",
       "version_major": 2,
       "version_minor": 0
      },
      "text/plain": [
       "VBox()"
      ]
     },
     "metadata": {},
     "output_type": "display_data"
    },
    {
     "data": {
      "application/vnd.jupyter.widget-view+json": {
       "model_id": "",
       "version_major": 2,
       "version_minor": 0
      },
      "text/plain": [
       "FloatProgress(value=0.0, bar_style='info', description='Progress:', layout=Layout(height='25px', width='50%'),…"
      ]
     },
     "metadata": {},
     "output_type": "display_data"
    }
   ],
   "source": [
    "reviews['model_CC'] = 0\n",
    "#reviews.loc[( ((reviews['REVIEW_RATING']==5) | (reviews['REVIEW_RATING']==4)) \n",
    "#             & ((reviews['sentiment_score']<-0.7) | (reviews['REVIEW_WOULD_RECOMMEND']==False))  ) |\n",
    "#            ( ((reviews['REVIEW_RATING']==1) | (reviews['REVIEW_RATING']==2)) \n",
    "#             & ((reviews['sentiment_score']>0.7) | (reviews['REVIEW_WOULD_RECOMMEND']==True)) ), 'model_CC'] = 1\n",
    "\n",
    "\n",
    "reviews.loc[( ((reviews['REVIEW_RATING']==5) | (reviews['REVIEW_RATING']==4)) & (reviews['REVIEW_WOULD_RECOMMEND']==False)  ) |\n",
    "            ( ((reviews['REVIEW_RATING']==1) | (reviews['REVIEW_RATING']==2)) & (reviews['REVIEW_WOULD_RECOMMEND']==True) ) |\n",
    "        (((reviews['REVIEW_RATING']==5) | (reviews['REVIEW_RATING']==4)) & (reviews['sentiment_score']<-0.75) & (reviews['REVIEW_LENGTH']<20) )  |\n",
    "        (((reviews['REVIEW_RATING']==1) | (reviews['REVIEW_RATING']==2)) & (reviews['sentiment_score']>0.75) & (reviews['REVIEW_LENGTH']<20) )  , 'model_CC'] = 1\n"
   ]
  },
  {
   "cell_type": "code",
   "execution_count": 58,
   "metadata": {},
   "outputs": [
    {
     "data": {
      "application/vnd.jupyter.widget-view+json": {
       "model_id": "93d5826e04284037b0558439c9413fa4",
       "version_major": 2,
       "version_minor": 0
      },
      "text/plain": [
       "VBox()"
      ]
     },
     "metadata": {},
     "output_type": "display_data"
    },
    {
     "data": {
      "application/vnd.jupyter.widget-view+json": {
       "model_id": "",
       "version_major": 2,
       "version_minor": 0
      },
      "text/plain": [
       "FloatProgress(value=0.0, bar_style='info', description='Progress:', layout=Layout(height='25px', width='50%'),…"
      ]
     },
     "metadata": {},
     "output_type": "display_data"
    }
   ],
   "source": [
    "reviews['model_CC'] = 0\n",
    "\n",
    "reviews.loc[( ((reviews['REVIEW_RATING']==5) | (reviews['REVIEW_RATING']==4)) & (reviews['REVIEW_WOULD_RECOMMEND']==False)  ) |\n",
    "            ( ((reviews['REVIEW_RATING']==1) | (reviews['REVIEW_RATING']==2)) & (reviews['REVIEW_WOULD_RECOMMEND']==True) ) , 'model_CC'] = 1\n"
   ]
  },
  {
   "cell_type": "code",
   "execution_count": 78,
   "metadata": {},
   "outputs": [
    {
     "data": {
      "application/vnd.jupyter.widget-view+json": {
       "model_id": "4decf509939943049a8e5d10d5e8491b",
       "version_major": 2,
       "version_minor": 0
      },
      "text/plain": [
       "VBox()"
      ]
     },
     "metadata": {},
     "output_type": "display_data"
    },
    {
     "data": {
      "application/vnd.jupyter.widget-view+json": {
       "model_id": "",
       "version_major": 2,
       "version_minor": 0
      },
      "text/plain": [
       "FloatProgress(value=0.0, bar_style='info', description='Progress:', layout=Layout(height='25px', width='50%'),…"
      ]
     },
     "metadata": {},
     "output_type": "display_data"
    },
    {
     "name": "stdout",
     "output_type": "stream",
     "text": [
      "      UGC_ID        NAME                         REVIEW_HEADLINE  \\\n",
      "0  324547054  Colgate US  Colgate Renewal Gel Toothpaste review    \n",
      "1  324547450  Colgate US  Love the mint flavor!                    \n",
      "2  324551754  Colgate US  GOING WHITE AND NOT COMING BACK.         \n",
      "3  324556165  Colgate US  Colgate Renewal Whitening Restoration.   \n",
      "4  324559748  Colgate US  Fresh & Restore Whitening                \n",
      "\n",
      "                                                                                                                                                                                                                                                                                                                                                                                                                                                                  REVIEW_COMMENTS  \\\n",
      "0  I really loved this toothpaste and I am so happy that I was able to test it.  I love the cool mint flavor which leaves my breath feeling so fresh.  I also really love that the toothpaste sort of creates a foam when brushing which feels like it's really cleaning my teeth without the need to add more toothpaste to my brush.  I loved this product and look forward to a whiter smile.  I will definitely buy this product in the future.  Thank you                      \n",
      "1  The Colgate Renewal Whitening Restoration Gel Toothpaste is beautifully packaged, I really like the screw on cap that's clear with silver accents. The gel toothpaste had mild mint flavor that I really like, to me some toothpastes have to much mint flavor. I found the gel toothpaste to clean my teeth throughly, especially around a retainer I have that's permanent. I would definitely recommend the Colgate Renewal Whitening Restoration Gel toothpaste to others!   \n",
      "2  WELL I GOT THE PRODUCT FOR FREE, COLGATE RENEWAL WHITENING RESTORATION GEL TOOTHPASTE, HOME TESTERS CLUB SENT IT TO ME, ALL I NEED TO DO WAS TRY IT AND GIVE IT A REVIEW, AND IT WAS GREAT.                                                                                                                                                                                                                                                                                      \n",
      "3  It leaves my mouth feeling clean, fresh, and no bad after taste. I feel like it foams up and really cleans my teeth and gum line.                                                                                                                                                                                                                                                                                                                                                \n",
      "4  The Colgate Renewal Whitening Restoration Gel Toothpaste is amazing. From packaging to the actual paste all works.  The toothpaste helps Restoration of gums and whiten teeth at the same time.  The after brushing feel is refreshing.                                                                                                                                                                                                                                          \n",
      "\n",
      "   REVIEW_LENGTH  REVIEW_RATING REVIEW_WOULD_RECOMMEND  CC  \\\n",
      "0  443.0          5              True                   0    \n",
      "1  462.0          5              True                   0    \n",
      "2  187.0          5              True                   0    \n",
      "3  129.0          5              True                   0    \n",
      "4  231.0          5              True                   0    \n",
      "\n",
      "                                                                                                                                                                                                                                                                                                                                                                                                                                                                                                ALL_TEXT  \\\n",
      "0  Colgate Renewal Gel Toothpaste review. I really loved this toothpaste and I am so happy that I was able to test it.  I love the cool mint flavor which leaves my breath feeling so fresh.  I also really love that the toothpaste sort of creates a foam when brushing which feels like it's really cleaning my teeth without the need to add more toothpaste to my brush.  I loved this product and look forward to a whiter smile.  I will definitely buy this product in the future.  Thank you      \n",
      "1  Love the mint flavor!. The Colgate Renewal Whitening Restoration Gel Toothpaste is beautifully packaged, I really like the screw on cap that's clear with silver accents. The gel toothpaste had mild mint flavor that I really like, to me some toothpastes have to much mint flavor. I found the gel toothpaste to clean my teeth throughly, especially around a retainer I have that's permanent. I would definitely recommend the Colgate Renewal Whitening Restoration Gel toothpaste to others!   \n",
      "2  GOING WHITE AND NOT COMING BACK.. WELL I GOT THE PRODUCT FOR FREE, COLGATE RENEWAL WHITENING RESTORATION GEL TOOTHPASTE, HOME TESTERS CLUB SENT IT TO ME, ALL I NEED TO DO WAS TRY IT AND GIVE IT A REVIEW, AND IT WAS GREAT.                                                                                                                                                                                                                                                                           \n",
      "3  Colgate Renewal Whitening Restoration.. It leaves my mouth feeling clean, fresh, and no bad after taste. I feel like it foams up and really cleans my teeth and gum line.                                                                                                                                                                                                                                                                                                                               \n",
      "4  Fresh & Restore Whitening. The Colgate Renewal Whitening Restoration Gel Toothpaste is amazing. From packaging to the actual paste all works.  The toothpaste helps Restoration of gums and whiten teeth at the same time.  The after brushing feel is refreshing.                                                                                                                                                                                                                                      \n",
      "\n",
      "   sentiment_score  model_CC  \n",
      "0  0.9901           0         \n",
      "1  0.9716           0         \n",
      "2  0.7640           0         \n",
      "3  0.8705           0         \n",
      "4  0.8720           0"
     ]
    }
   ],
   "source": [
    "reviews.head()"
   ]
  },
  {
   "cell_type": "code",
   "execution_count": null,
   "metadata": {},
   "outputs": [],
   "source": []
  },
  {
   "cell_type": "code",
   "execution_count": 79,
   "metadata": {},
   "outputs": [
    {
     "data": {
      "application/vnd.jupyter.widget-view+json": {
       "model_id": "09b571cefb824d89953cd0cf310c3b04",
       "version_major": 2,
       "version_minor": 0
      },
      "text/plain": [
       "VBox()"
      ]
     },
     "metadata": {},
     "output_type": "display_data"
    },
    {
     "data": {
      "application/vnd.jupyter.widget-view+json": {
       "model_id": "",
       "version_major": 2,
       "version_minor": 0
      },
      "text/plain": [
       "FloatProgress(value=0.0, bar_style='info', description='Progress:', layout=Layout(height='25px', width='50%'),…"
      ]
     },
     "metadata": {},
     "output_type": "display_data"
    }
   ],
   "source": [
    "FP = reviews[(reviews['CC'] == 0) & (reviews['model_CC'] == 1)]\n",
    "FN = reviews[(reviews['CC'] == 1) & (reviews['model_CC'] == 0)]\n",
    "TP = reviews[(reviews['CC'] == 1) & (reviews['model_CC'] == 1)]\n",
    "TN = reviews[(reviews['CC'] == 0) & (reviews['model_CC'] == 0)]\n"
   ]
  },
  {
   "cell_type": "code",
   "execution_count": 80,
   "metadata": {},
   "outputs": [
    {
     "data": {
      "application/vnd.jupyter.widget-view+json": {
       "model_id": "13d48df730e64ebb9b315b60a8a2ee4e",
       "version_major": 2,
       "version_minor": 0
      },
      "text/plain": [
       "VBox()"
      ]
     },
     "metadata": {},
     "output_type": "display_data"
    },
    {
     "data": {
      "application/vnd.jupyter.widget-view+json": {
       "model_id": "",
       "version_major": 2,
       "version_minor": 0
      },
      "text/plain": [
       "FloatProgress(value=0.0, bar_style='info', description='Progress:', layout=Layout(height='25px', width='50%'),…"
      ]
     },
     "metadata": {},
     "output_type": "display_data"
    },
    {
     "name": "stdout",
     "output_type": "stream",
     "text": [
      "13671"
     ]
    }
   ],
   "source": [
    "FP['UGC_ID'].count()"
   ]
  },
  {
   "cell_type": "code",
   "execution_count": 81,
   "metadata": {},
   "outputs": [
    {
     "data": {
      "application/vnd.jupyter.widget-view+json": {
       "model_id": "baaab630934248eca072b41c51e16206",
       "version_major": 2,
       "version_minor": 0
      },
      "text/plain": [
       "VBox()"
      ]
     },
     "metadata": {},
     "output_type": "display_data"
    },
    {
     "data": {
      "application/vnd.jupyter.widget-view+json": {
       "model_id": "",
       "version_major": 2,
       "version_minor": 0
      },
      "text/plain": [
       "FloatProgress(value=0.0, bar_style='info', description='Progress:', layout=Layout(height='25px', width='50%'),…"
      ]
     },
     "metadata": {},
     "output_type": "display_data"
    },
    {
     "name": "stdout",
     "output_type": "stream",
     "text": [
      "6572"
     ]
    }
   ],
   "source": [
    "FN['UGC_ID'].count()"
   ]
  },
  {
   "cell_type": "code",
   "execution_count": 82,
   "metadata": {},
   "outputs": [
    {
     "data": {
      "application/vnd.jupyter.widget-view+json": {
       "model_id": "b6ad7a425ee242ada29d0ded315c7317",
       "version_major": 2,
       "version_minor": 0
      },
      "text/plain": [
       "VBox()"
      ]
     },
     "metadata": {},
     "output_type": "display_data"
    },
    {
     "data": {
      "application/vnd.jupyter.widget-view+json": {
       "model_id": "",
       "version_major": 2,
       "version_minor": 0
      },
      "text/plain": [
       "FloatProgress(value=0.0, bar_style='info', description='Progress:', layout=Layout(height='25px', width='50%'),…"
      ]
     },
     "metadata": {},
     "output_type": "display_data"
    },
    {
     "name": "stdout",
     "output_type": "stream",
     "text": [
      "1183"
     ]
    }
   ],
   "source": [
    "TP['UGC_ID'].count()"
   ]
  },
  {
   "cell_type": "code",
   "execution_count": 83,
   "metadata": {},
   "outputs": [
    {
     "data": {
      "application/vnd.jupyter.widget-view+json": {
       "model_id": "b55e1456707748fd9286881eda3a2003",
       "version_major": 2,
       "version_minor": 0
      },
      "text/plain": [
       "VBox()"
      ]
     },
     "metadata": {},
     "output_type": "display_data"
    },
    {
     "data": {
      "application/vnd.jupyter.widget-view+json": {
       "model_id": "",
       "version_major": 2,
       "version_minor": 0
      },
      "text/plain": [
       "FloatProgress(value=0.0, bar_style='info', description='Progress:', layout=Layout(height='25px', width='50%'),…"
      ]
     },
     "metadata": {},
     "output_type": "display_data"
    },
    {
     "name": "stdout",
     "output_type": "stream",
     "text": [
      "1989767"
     ]
    }
   ],
   "source": [
    "TN['UGC_ID'].count()"
   ]
  },
  {
   "cell_type": "code",
   "execution_count": 84,
   "metadata": {},
   "outputs": [
    {
     "data": {
      "application/vnd.jupyter.widget-view+json": {
       "model_id": "880ea0c50718456f844968cf7744ee92",
       "version_major": 2,
       "version_minor": 0
      },
      "text/plain": [
       "VBox()"
      ]
     },
     "metadata": {},
     "output_type": "display_data"
    },
    {
     "data": {
      "application/vnd.jupyter.widget-view+json": {
       "model_id": "",
       "version_major": 2,
       "version_minor": 0
      },
      "text/plain": [
       "FloatProgress(value=0.0, bar_style='info', description='Progress:', layout=Layout(height='25px', width='50%'),…"
      ]
     },
     "metadata": {},
     "output_type": "display_data"
    },
    {
     "name": "stdout",
     "output_type": "stream",
     "text": [
      "          UGC_ID                      NAME  \\\n",
      "58     324532861  Salsas.com                 \n",
      "204    324504230  JD Sports Fashion UK       \n",
      "332    324508978  JD Sports Fashion UK       \n",
      "356    324543238  JD Sports Fashion UK       \n",
      "393    324504138  JD Sports Fashion UK       \n",
      "401    324485095  JD Sports Fashion UK       \n",
      "463    322275550  Hayneedle.com              \n",
      "554    322277097  Hayneedle.com              \n",
      "559    322270395  Hayneedle.com              \n",
      "666    322252250  UncommonGoods              \n",
      "953    320139835  The Company Store          \n",
      "1021   320036013  The Company Store          \n",
      "1034   319960426  Party City, Inc.           \n",
      "1153   319844646  Party City, Inc.           \n",
      "1370   319863326  Shutterfly                 \n",
      "1371   320018545  Shutterfly                 \n",
      "1403   322261285  Ulta                       \n",
      "1603   322281699  Timberland                 \n",
      "1649   322268393  TSC                        \n",
      "1654   322261266  TSC                        \n",
      "1688   322245257  BJ's Wholesale Club        \n",
      "1692   322246740  BJ's Wholesale Club        \n",
      "1786   322268673  PGI                        \n",
      "1887   323452967  Guitar Center              \n",
      "2004   323222300  Shoe Carnival, Inc.        \n",
      "2109   323280805  Party City, Inc.           \n",
      "2120   323461931  Party City, Inc.           \n",
      "2422   315821230  La Mer                     \n",
      "2429   315818893  La Mer                     \n",
      "2517   315654039  Fossil US                  \n",
      "2536   315646073  buyspares.co.uk            \n",
      "2605   315669253  BorrowLenses               \n",
      "2689   324248104  Colgate US                 \n",
      "2795   324264914  Dooney & Bourke            \n",
      "2817   323872498  L'Oreal Paris - Sampling   \n",
      "2851   324184600  Deckers EU                 \n",
      "2976   324226394  JD Sports Fashion UK       \n",
      "3010   324270512  JD Sports Fashion UK       \n",
      "3050   324243104  JD Sports Fashion UK       \n",
      "3095   324173373  TonyMoly Sampling          \n",
      "3102   324257088  Suavitel                   \n",
      "3194   324238114  PCA Skin                   \n",
      "3747   318077512  evo                        \n",
      "3792   318074617  LUSH                       \n",
      "3806   318069879  OH Danish Bakery           \n",
      "4177   315254622  FragranceX                 \n",
      "4208   315248154  Duluth Trading Company     \n",
      "4287   315228383  SKECHERS                   \n",
      "4344   324229311  Fingerhut                  \n",
      "4352   324257199  Haband                     \n",
      "4378   324231513  Blair                      \n",
      "4388   324216446  Blair                      \n",
      "4465   324231573  Fingerhut                  \n",
      "4471   324132585  Blair                      \n",
      "4862   317960441  Ulta                       \n",
      "5026   318060461  Ulta                       \n",
      "5480   315262434  UGG                        \n",
      "5532   315251242  Dillard's                  \n",
      "5936   325420869  Hayneedle.com              \n",
      "5964   322238692  UGG                        \n",
      "6096   322213909  Dillard's                  \n",
      "6537   324560335  JD Sports Fashion UK       \n",
      "6637   324479629  Fingerhut                  \n",
      "6956   316014906  AmeriMark Direct           \n",
      "7019   314284920  Calvin Klein               \n",
      "7146   314338456  Experian CC Marketplace    \n",
      "7149   314285431  Bits and Pieces            \n",
      "7204   314299133  Justin's                   \n",
      "7216   314267696  Clinique                   \n",
      "7459   314287905  ShoeMall                   \n",
      "7460   314338215  ShoeMall                   \n",
      "7715   314297890  Fingerhut                  \n",
      "7888   324417817  Melaleuca US               \n",
      "8045   324540349  FragranceX                 \n",
      "8237   324502689  TSC                        \n",
      "8262   324497243  Collections Etc            \n",
      "8266   324506632  Collections Etc            \n",
      "8281   324533067  Ulta                       \n",
      "8336   324511298  ACCO Brands                \n",
      "8765   324487335  Nike.br                    \n",
      "8884   324537702  The Company Store          \n",
      "8952   323386366  Pampered Chef              \n",
      "9074   323468036  Cheaper Than Dirt          \n",
      "9100   323278201  Shutterfly                 \n",
      "9135   323426562  Bissell Homecare, Inc.     \n",
      "9178   323277847  Wickes Building Supplies   \n",
      "9499   324500481  Pampered Chef              \n",
      "9732   324510569  Bissell Homecare, Inc.     \n",
      "9803   324492785  Enjoy Life Foods           \n",
      "10109  324358279  JD Sports Fashion UK       \n",
      "10202  324288889  Size UK                    \n",
      "10426  318065774  PGA TOUR Superstore        \n",
      "10529  318060209  Speedway Motors            \n",
      "10587  318066454  The Company Store          \n",
      "10869  324488394  Fossil UK                  \n",
      "10883  324548515  Calvin Klein               \n",
      "11269  324564231  Conair - Sampling          \n",
      "11381  324309736  Finish Line                \n",
      "11430  324321542  At Home                    \n",
      "11488  324325327  Fingerhut                  \n",
      "\n",
      "                                                    REVIEW_HEADLINE  \\\n",
      "58     So yummy                                                       \n",
      "204    Awful                                                          \n",
      "332    Brought these as a 6 turned up as an 8 men's                   \n",
      "356    id buy in a resize                                             \n",
      "393    Poor slow service with no updates                              \n",
      "401    I am trying to return this product and I can't seem to do so   \n",
      "463    Nice set but case cheap                                        \n",
      "554    Junk                                                           \n",
      "559    I would not buy this product again,                            \n",
      "666    Shipping issues #sweepstakes                                   \n",
      "953    soft material but scratchy seams                               \n",
      "1021   Pillowcase Ripped at Seam                                      \n",
      "1034   Order was right                                                \n",
      "1153   Shipping delays. Did not receive in time to use.               \n",
      "1370   Not sure of purchasing again                                   \n",
      "1371   Given the WRONG size envelopes                                 \n",
      "1403   Product was great but I won't buy from Ulta                    \n",
      "1603   I received these as a Christmas gift(I asked for).             \n",
      "1649   Lovely                                                         \n",
      "1654   Not received                                                   \n",
      "1688   I would buy this product again                                 \n",
      "1692   as advertised look just like picture                           \n",
      "1786   Maybe                                                          \n",
      "1887   ok strap for the money                                         \n",
      "2004   They are good to wear around the house but that's all.         \n",
      "2109   sexy                                                           \n",
      "2120   Great costume but wig is ok                                    \n",
      "2422   Not worth the money                                            \n",
      "2429   Allergic                                                       \n",
      "2517   I never received the watch.                                    \n",
      "2536   Working  Fine                                                  \n",
      "2605   Never got it                                                   \n",
      "2689   Not for sensitive teeth                                        \n",
      "2795   Beautiful and simple                                           \n",
      "2817   It is good powder for this price.                              \n",
      "2851   I love these boots but they're very narrow                     \n",
      "2976   Great for the price                                            \n",
      "3010   Arms to wide                                                   \n",
      "3050   Present                                                        \n",
      "3095   good moisturizer                                               \n",
      "3102   Smells AMAZING!                                                \n",
      "3194   I would buy this product again if fresh and not dated          \n",
      "3747   Killer touring jacket                                          \n",
      "3792   Glimmer instead of glow                                        \n",
      "3806   Yum Yum Yum                                                    \n",
      "4177   It's very nice soft and light.                                 \n",
      "4208   Could have been great jeans                                    \n",
      "4287   I would buy it again if it came in wide                        \n",
      "4344   Quality but unbalanced                                         \n",
      "4352   I would buy them again in the future.                          \n",
      "4378   The Good News is that they Stretch!                            \n",
      "4388   maybe                                                          \n",
      "4465   comfy                                                          \n",
      "4471   Nice but runs small                                            \n",
      "4862   Yes love Iit                                                   \n",
      "5026   Color Not Accurate                                             \n",
      "5480   I would buy again                                              \n",
      "5532   Wrong color                                                    \n",
      "5936   Would love to purchase this!                                   \n",
      "5964   A little disappointed that you can twist your foot in them.    \n",
      "6096   No                                                             \n",
      "6537   Lovely shoe, order one size up from your usual.                \n",
      "6637   The wrong size received                                        \n",
      "6956   I like to wear this rust boyfriend cardigan sweater            \n",
      "7019   Wrong length, will not be buying these again.                  \n",
      "7146   Ok                                                             \n",
      "7149   A challenging and fun puzzle.  Hang in there!                  \n",
      "7204   I would love to try this product                               \n",
      "7216   I especially like this product because it makes my pores sma   \n",
      "7459   Beautiful shoes                                                \n",
      "7460   Love the print!                                                \n",
      "7715   Damaged a bit                                                  \n",
      "7888   Eye health combo                                               \n",
      "8045   I bought 2 and only received 0ne                               \n",
      "8237   NOT WORKING                                                    \n",
      "8262   DISAPPOINT                                                     \n",
      "8266   SAD                                                            \n",
      "8281   i would not buy this product                                   \n",
      "8336   I'd buy it if in stock                                         \n",
      "8765   Nao querem aceitar minha avaliaçao !!!                         \n",
      "8884   Slightly Disappointed                                          \n",
      "8952   Cooker                                                         \n",
      "9074   CTD are NOT pro 2nd A                                          \n",
      "9100   You have a repeat customer in me :-)                           \n",
      "9135   Yes                                                            \n",
      "9178   Damaged                                                        \n",
      "9499   Love it                                                        \n",
      "9732   I would try a similar product, first.                          \n",
      "9803   fvfd                                                           \n",
      "10109  My parcel was stolen by the driver                             \n",
      "10202  I AM REALLY DISAPPOINTED                                       \n",
      "10426  Still waiting for this item                                    \n",
      "10529  Good product DO NOT BUY FROM SPEEDWAY                          \n",
      "10587  I would love to see some diversity                             \n",
      "10869  Nice watch                                                     \n",
      "10883  Very cute pants but not much stretch to them!                  \n",
      "11269  Really Pretty Mirror                                           \n",
      "11381  We will continues to purchase sneakwrs from Finish Line        \n",
      "11430  I would buy again.                                             \n",
      "11488  Already broke                                                  \n",
      "\n",
      "                                                                                                                                                                                                                                                                                                                                                                                                                                                                                                                                                                                                                                                                                                                                                                                                                                                                                                                                                                                                                                                                                                                                                                                                                                                     REVIEW_COMMENTS  \\\n",
      "58     This salsa is so different than anything else you will find on the market! The roasted tomato taste will have you thinking you are at an upscale restaurant!                                                                                                                                                                                                                                                                                                                                                                                                                                                                                                                                                                                                                                                                                                                                                                                                                                                                                                                                                                                                                                                                                                    \n",
      "204    Still not received it ordered 19/12/2020 for Xmas it's now 11/01/2021                                                                                                                                                                                                                                                                                                                                                                                                                                                                                                                                                                                                                                                                                                                                                                                                                                                                                                                                                                                                                                                                                                                                                                                           \n",
      "332    Love the trainer if they weren't too big                                                                                                                                                                                                                                                                                                                                                                                                                                                                                                                                                                                                                                                                                                                                                                                                                                                                                                                                                                                                                                                                                                                                                                                                                        \n",
      "356    new balance sizing for the shoe is us 10 half - uk size 10 should of bought a half size up                                                                                                                                                                                                                                                                                                                                                                                                                                                                                                                                                                                                                                                                                                                                                                                                                                                                                                                                                                                                                                                                                                                                                                      \n",
      "393    Product took 4 weeks to arrive with no updates or response to emails. When the Nike trainers finally arrived at the Royal Mail pick up point they were now being offered at 50% cheaper directly from Nike. JD offered no price match so they had to be returned the same day! A 25% discount was offered off my next purchase £100 (£25 minimum) but this was nowhere near the £100 saving from Nike! Such a shame as JD are normally so good on service and pricing. Missed my girlfriends Christmas present and still waiting for the refund.                                                                                                                                                                                                                                                                                                                                                                                                                                                                                                                                                                                                                                                                                                                \n",
      "401    I am trying to return this product, however I logged on as a guest and can't seem to return them.                                                                                                                                                                                                                                                                                                                                                                                                                                                                                                                                                                                                                                                                                                                                                                                                                                                                                                                                                                                                                                                                                                                                                               \n",
      "463    The pilsner  glasses were beautiful but when we  pulled the case out of the box, a piece of the trim came off.  Can fix it with a bigger nail and glue  , but shouldn't have to                                                                                                                                                                                                                                                                                                                                                                                                                                                                                                                                                                                                                                                                                                                                                                                                                                                                                                                                                                                                                                                                                 \n",
      "554    Gave one star because no stars was not an option..absolutely junk....it was falling apart as I tried to put it together..emailed customer service and got no response!!! Don't waste your money.                                                                                                                                                                                                                                                                                                                                                                                                                                                                                                                                                                                                                                                                                                                                                                                                                                                                                                                                                                                                                                                                \n",
      "559    Nice cabinet for this price. Came in the damaged box but packed very well and nothing were damaged inside.\\nProblem- all part came unnamed as A, B, C...Tried to call for support- never receive call back... spent some time to figure it out... luckily my husband and I had some experience to put furniture together, but no excuse for the company to send all parts with out labels. I placed it in the mud room and will move it to the garage as an utility cabinet in the future                                                                                                                                                                                                                                                                                                                                                                                                                                                                                                                                                                                                                                                                                                                                                                       \n",
      "666    This is a cool book but it arrived after Christmas even though ordered in November.  The shipping date kept changing and now I'm stuck with this gift as I had to purchase something else to replace it for Christmas. #sweepstakes                                                                                                                                                                                                                                                                                                                                                                                                                                                                                                                                                                                                                                                                                                                                                                                                                                                                                                                                                                                                                             \n",
      "953    This fabric is nice and soft, feels high quality.  The manufacturer sewed the front placket and hems beautifully so they don't itch.  But they did not do this on the armholes or side seams, thus being scratchy.  Also, the sizing is for ALOT of shrinkage.  I have washed once and the pjs shrank about half as much as they need to to be true to size.  We will see what the next washing does.  I hope it shrinks enough, as these are basically very nice pj's!                                                                                                                                                                                                                                                                                                                                                                                                                                                                                                                                                                                                                                                                                                                                                                                         \n",
      "1021   I love the sheets. But was very disappointed when I found that one of the pillowcases had ripped at the seams. Just a week after use. I would love to have another case sent to me.                                                                                                                                                                                                                                                                                                                                                                                                                                                                                                                                                                                                                                                                                                                                                                                                                                                                                                                                                                                                                                                                             \n",
      "1034   They had these 12 correct                                                                                                                                                                                                                                                                                                                                                                                                                                                                                                                                                                                                                                                                                                                                                                                                                                                                                                                                                                                                                                                                                                                                                                                                                                       \n",
      "1153   Product is fine. Shipping states 6 days. Took over 15 days to receive. Items were delivered after thanksgiving. Will not be ordering online from here again.                                                                                                                                                                                                                                                                                                                                                                                                                                                                                                                                                                                                                                                                                                                                                                                                                                                                                                                                                                                                                                                                                                    \n",
      "1370   Not sure if I would buy again, shipping took way too long. Ordered at Thanksgiving, shipped on the 2nd and we have yet to receive them.  Not really that impressed, and I have used them every year.                                                                                                                                                                                                                                                                                                                                                                                                                                                                                                                                                                                                                                                                                                                                                                                                                                                                                                                                                                                                                                                            \n",
      "1371   I enjoy these cards, but, when I'm given envelopes for a card half the size of the 5x7 cards I ordered, it is an issue. In addition, when I tried to contact customer service, the wait time and hours are not user friendly. Shutterfly needs to ensure they are providing accurately sized envelopes since they apparently carry 5x7 sized envelopes with sealed bottoms to only  fit Smaller cards. The customer would only notice when going to stuff the envelopes.                                                                                                                                                                                                                                                                                                                                                                                                                                                                                                                                                                                                                                                                                                                                                                                        \n",
      "1403   It was for my granddaughter                                                                                                                                                                                                                                                                                                                                                                                                                                                                                                                                                                                                                                                                                                                                                                                                                                                                                                                                                                                                                                                                                                                                                                                                                                     \n",
      "1603   I received these for Christmas but unfortunately the fit was too tight. I wear wms sz11 and with a sock on it felt like a sz10...VERY UNCOMFORTABLE :( I still think they're very stylish & eye-catching and would recommend but I'd also recommend to size up :/                                                                                                                                                                                                                                                                                                                                                                                                                                                                                                                                                                                                                                                                                                                                                                                                                                                                                                                                                                                               \n",
      "1649   Go to his site directly these go for 149$ end of season sale!                                                                                                                                                                                                                                                                                                                                                                                                                                                                                                                                                                                                                                                                                                                                                                                                                                                                                                                                                                                                                                                                                                                                                                                                   \n",
      "1654   Here it is December 28th and still have not received this.. disappointing as these were gifts. I will still recommend as that has nothing to do with the product itself. TSC kept in warehouse a LONG time never mind the back ups from Canada Post. Many of my things I bought as gifts have not shown up and Christmas is over. Boo                                                                                                                                                                                                                                                                                                                                                                                                                                                                                                                                                                                                                                                                                                                                                                                                                                                                                                                           \n",
      "1688   My Grandson just loved this gift                                                                                                                                                                                                                                                                                                                                                                                                                                                                                                                                                                                                                                                                                                                                                                                                                                                                                                                                                                                                                                                                                                                                                                                                                                \n",
      "1692   Do not seem very comfortable, but as advertised.  Easy to put together and inexpensive, but on one of them, legs seemed to end up uneven and rocks.                                                                                                                                                                                                                                                                                                                                                                                                                                                                                                                                                                                                                                                                                                                                                                                                                                                                                                                                                                                                                                                                                                             \n",
      "1786   have not received this item                                                                                                                                                                                                                                                                                                                                                                                                                                                                                                                                                                                                                                                                                                                                                                                                                                                                                                                                                                                                                                                                                                                                                                                                                                     \n",
      "1887   none.                                                                                                                                                                                                                                                                                                                                                                                                                                                                                                                                                                                                                                                                                                                                                                                                                                                                                                                                                                                                                                                                                                                                                                                                                                                           \n",
      "2004   They have no support are hurt the arch of your foot. Good for a house shoe but that's all not out. I will recommend you to only wear them in the house.                                                                                                                                                                                                                                                                                                                                                                                                                                                                                                                                                                                                                                                                                                                                                                                                                                                                                                                                                                                                                                                                                                         \n",
      "2109   great                                                                                                                                                                                                                                                                                                                                                                                                                                                                                                                                                                                                                                                                                                                                                                                                                                                                                                                                                                                                                                                                                                                                                                                                                                                           \n",
      "2120   Great but wig is alright. I would prefer to buy a separate wig                                                                                                                                                                                                                                                                                                                                                                                                                                                                                                                                                                                                                                                                                                                                                                                                                                                                                                                                                                                                                                                                                                                                                                                                  \n",
      "2422   Made my skin burn had way too much fragrance and caused my skin to break out. Was really hopeful but it just was not good.                                                                                                                                                                                                                                                                                                                                                                                                                                                                                                                                                                                                                                                                                                                                                                                                                                                                                                                                                                                                                                                                                                                                      \n",
      "2429   I was so excited to try this, I broke out in a terrible rash. Does this product have retinol?                                                                                                                                                                                                                                                                                                                                                                                                                                                                                                                                                                                                                                                                                                                                                                                                                                                                                                                                                                                                                                                                                                                                                                   \n",
      "2517   When I received the package it had been opened and the watch removed during shipping. I contacted customer service and was told Fossil would send me another watch. That was 16 days ago. Still waiting.\\nFYI. I am a big fan of Fossil watches and have owned and still own several.                                                                                                                                                                                                                                                                                                                                                                                                                                                                                                                                                                                                                                                                                                                                                                                                                                                                                                                                                                           \n",
      "2536   Put back in V6Dyson                                                                                                                                                                                                                                                                                                                                                                                                                                                                                                                                                                                                                                                                                                                                                                                                                                                                                                                                                                                                                                                                                                                                                                                                                                             \n",
      "2605   This product wasn't delivered hoping the reorder gets here and able to used                                                                                                                                                                                                                                                                                                                                                                                                                                                                                                                                                                                                                                                                                                                                                                                                                                                                                                                                                                                                                                                                                                                                                                                     \n",
      "2689   Had a great taste and all but it for\\r\\nSome reason hurt my teeth. If I didn't have sensitive teeth it might not have.                                                                                                                                                                                                                                                                                                                                                                                                                                                                                                                                                                                                                                                                                                                                                                                                                                                                                                                                                                                                                                                                                                                                          \n",
      "2795   This bag is great for everyday use.  It's perfect in size                                                                                                                                                                                                                                                                                                                                                                                                                                                                                                                                                                                                                                                                                                                                                                                                                                                                                                                                                                                                                                                                                                                                                                                                       \n",
      "2817   This is a good powder that does not dry out my face and does not emphasize the flaws of the skin.  I liked it, so I can fully recommend it to my friends!                                                                                                                                                                                                                                                                                                                                                                                                                                                                                                                                                                                                                                                                                                                                                                                                                                                                                                                                                                                                                                                                                                       \n",
      "2851   These boots are gorgeous and I love them however they are very narrow and I even ordered a size bigger than I normally would! I'm hoping they stretch!\\nDefinitely order a size bigger (if not two) if you have wide feet                                                                                                                                                                                                                                                                                                                                                                                                                                                                                                                                                                                                                                                                                                                                                                                                                                                                                                                                                                                                                                       \n",
      "2976   Daughter loves them very comfortable                                                                                                                                                                                                                                                                                                                                                                                                                                                                                                                                                                                                                                                                                                                                                                                                                                                                                                                                                                                                                                                                                                                                                                                                                            \n",
      "3010   I really like the design.  However with my usual size at xl it fits perfectly. Expect the arms / sleeve are very wide                                                                                                                                                                                                                                                                                                                                                                                                                                                                                                                                                                                                                                                                                                                                                                                                                                                                                                                                                                                                                                                                                                                                           \n",
      "3050   This product no come a wait for Christmas present a no come                                                                                                                                                                                                                                                                                                                                                                                                                                                                                                                                                                                                                                                                                                                                                                                                                                                                                                                                                                                                                                                                                                                                                                                                     \n",
      "3095   i like the scent, its very delicate and easy on skin. it definitely helps with keeping my skin moisturized. i just wished the product had English info on it. everything is in Korean so i cant even read the ingredients or anything basically.                                                                                                                                                                                                                                                                                                                                                                                                                                                                                                                                                                                                                                                                                                                                                                                                                                                                                                                                                                                                                \n",
      "3102   I absolutely love how great Suavitel Complete fabric conditioner sheets smell! Field Flowers smells amazing. I have combined them with my liquid Suavitel fabric softener and my clothes smells sooooo fresh :D                                                                                                                                                                                                                                                                                                                                                                                                                                                                                                                                                                                                                                                                                                                                                                                                                                                                                                                                                                                                                                                 \n",
      "3194   I like this product but variation in quality is frustrating.  Sometimes light in color (fresh) and sometimes dark/orangy ( older and more acidic).  I almost returned this last bottle because of darkness.                                                                                                                                                                                                                                                                                                                                                                                                                                                                                                                                                                                                                                                                                                                                                                                                                                                                                                                                                                                                                                                     \n",
      "3747   If you're looking for a jacket that can do it all, this might be it!\\n\\nI've taken this out for two tours (about 5 miles total each). As someone that usually runs really hot, I've found all the vents on this jacket to be lifesaving. There's two chest vents + underarm vents - right at my core where I hold a lot of weight. Easy to unzip the chest vents on the go. The inside pockets fit my skins with ease for quick laps. Keeps me cool on the climb up and toasty on the descent.\\n\\nI'm usually a sch-medium (in between a small and medium), but found the small to be the perfect fit. The cuffs have a little elasticity to them too which is great for keeping snow out.\\n\\nMy one complaint is that the collar is pretty high - zipped up it covers my nose. This is great when the weather isn't ideal, but hard when I'm just trying to keep my ears warm in mild weather - makes breathing a bit difficult.\\n\\nAll in all, it's a well-rounded jacket.                                                                                                                                                                                                                                                                                    \n",
      "3792   I got it to glow in the bath water! The room needs to be completely pitch black, and it will only be a glimmer of light, but it actually did work in my bath. Smells good, but one star off for the bubbles barely lasting the first few minutes in the tub.                                                                                                                                                                                                                                                                                                                                                                                                                                                                                                                                                                                                                                                                                                                                                                                                                                                                                                                                                                                                    \n",
      "3806   Wonderful                                                                                                                                                                                                                                                                                                                                                                                                                                                                                                                                                                                                                                                                                                                                                                                                                                                                                                                                                                                                                                                                                                                                                                                                                                                       \n",
      "4177   Casual days. It's soft and pretty. I don't like the berry notes. Needs to be a little stronger and the scent fades quickly within 3 the 4 hours.                                                                                                                                                                                                                                                                                                                                                                                                                                                                                                                                                                                                                                                                                                                                                                                                                                                                                                                                                                                                                                                                                                                \n",
      "4208   All is fine except from mid calf down. Way too narrow as other reviews stated.                                                                                                                                                                                                                                                                                                                                                                                                                                                                                                                                                                                                                                                                                                                                                                                                                                                                                                                                                                                                                                                                                                                                                                                  \n",
      "4287   they look fine and all just too tight, if only you carried more in wide.                                                                                                                                                                                                                                                                                                                                                                                                                                                                                                                                                                                                                                                                                                                                                                                                                                                                                                                                                                                                                                                                                                                                                                                        \n",
      "4344   These mugs are great quality and feel really nice in hand but the stand isnt big enough for them to rest comfortably forcing the base to be quite wobbly.   Not a bad product.                                                                                                                                                                                                                                                                                                                                                                                                                                                                                                                                                                                                                                                                                                                                                                                                                                                                                                                                                                                                                                                                                  \n",
      "4352   I ordered an all blue color jacket. If the all blue is what shows up, I will be happy. The jacket has not yet arrived as of this entry (Friday, 01/08/2021). If the blue/maroon is what arrives I will have to send it back. I don't appreciate a merchant doing substitution. At this date, I'm just waiting for a jacket to arrive. They are a great jacket that will keep you warm in subzero weather. The old one I have at present is wearing out, pocket threads are pulling out with no way to repair them. With the nice thick fleece lining one can't get a needle throuh to sew the pocket tight to the shell.                                                                                                                                                                                                                                                                                                                                                                                                                                                                                                                                                                                                                                        \n",
      "4378   I ordered the same size as I do in Lee jeans and they appear to be a size smaller than what I expected.  They are advertised as \"Relaxed Fit\" but if not for the stretch denim, they would be too tight.  They were comfortable enough after I got them zipped up, but they are quite snug.  Since other reviewers said they were true to size, I have to assume they were mislabeled?                                                                                                                                                                                                                                                                                                                                                                                                                                                                                                                                                                                                                                                                                                                                                                                                                                                                          \n",
      "4388   material i felt should be a heavier denim<                                                                                                                                                                                                                                                                                                                                                                                                                                                                                                                                                                                                                                                                                                                                                                                                                                                                                                                                                                                                                                                                                                                                                                                                                      \n",
      "4465   Very comfortable but not as firm as I was expecting. I bought some last year so they don't last very long, but overall I really like them, I just wouldn't pay $40 for them again unless it was my only option for new pillows                                                                                                                                                                                                                                                                                                                                                                                                                                                                                                                                                                                                                                                                                                                                                                                                                                                                                                                                                                                                                                  \n",
      "4471   I needed a nice fleece lined pair of pants for my son. This looked almost perfect. He normally wears a 38 but this ran too small so I'm returning it and getting a 40 instead. It's heavy because of the lining, but it will definitely keep you warm.                                                                                                                                                                                                                                                                                                                                                                                                                                                                                                                                                                                                                                                                                                                                                                                                                                                                                                                                                                                                          \n",
      "4862   I get lots of compliments when I wear this perfume                                                                                                                                                                                                                                                                                                                                                                                                                                                                                                                                                                                                                                                                                                                                                                                                                                                                                                                                                                                                                                                                                                                                                                                                              \n",
      "5026   Up the Bass is not a dark, dusty purple as shown. It looks more light, gray-ish pink in person. The color changes on different skin tones and undertones.                                                                                                                                                                                                                                                                                                                                                                                                                                                                                                                                                                                                                                                                                                                                                                                                                                                                                                                                                                                                                                                                                                       \n",
      "5480   Put o for my almost 2 year old and she love them                                                                                                                                                                                                                                                                                                                                                                                                                                                                                                                                                                                                                                                                                                                                                                                                                                                                                                                                                                                                                                                                                                                                                                                                                \n",
      "5532   It was the wrong color so I sent it back                                                                                                                                                                                                                                                                                                                                                                                                                                                                                                                                                                                                                                                                                                                                                                                                                                                                                                                                                                                                                                                                                                                                                                                                                        \n",
      "5936   Never received this!                                                                                                                                                                                                                                                                                                                                                                                                                                                                                                                                                                                                                                                                                                                                                                                                                                                                                                                                                                                                                                                                                                                                                                                                                                            \n",
      "5964   Satisfied with only owning one pair!                                                                                                                                                                                                                                                                                                                                                                                                                                                                                                                                                                                                                                                                                                                                                                                                                                                                                                                                                                                                                                                                                                                                                                                                                            \n",
      "6096   Wrong size                                                                                                                                                                                                                                                                                                                                                                                                                                                                                                                                                                                                                                                                                                                                                                                                                                                                                                                                                                                                                                                                                                                                                                                                                                                      \n",
      "6537   A lovely looking shoe, unfortunately it was too small so I would suggest buying one size up from you usual.\\nThis was made worse by the fact that it was ordered on 20/12/20 and arrived 05/01/21. I received three different JD orders before this was finally delivered. Not the best Christmas gift!!                                                                                                                                                                                                                                                                                                                                                                                                                                                                                                                                                                                                                                                                                                                                                                                                                                                                                                                                                        \n",
      "6637   I ordered a 7.5 and my shoes arrived without a shoe box but in a baggy. The tags were off the shoe. The shoes were a six 6! The shoes looked like a return. The shoes do look cute though but I sent mine back. Hopefully, they send me the right size and in an addidas shoebox.                                                                                                                                                                                                                                                                                                                                                                                                                                                                                                                                                                                                                                                                                                                                                                                                                                                                                                                                                                               \n",
      "6956   I have 5 different of colors boyfriend cardigan sweaters already to wear for special occasions                                                                                                                                                                                                                                                                                                                                                                                                                                                                                                                                                                                                                                                                                                                                                                                                                                                                                                                                                                                                                                                                                                                                                                  \n",
      "7019   Love these jean, fit is great but the length was too long.   I had ordered the long by mistake and just took them to the tailor to be shortened.                                                                                                                                                                                                                                                                                                                                                                                                                                                                                                                                                                                                                                                                                                                                                                                                                                                                                                                                                                                                                                                                                                                \n",
      "7146   Ive                                                                                                                                                                                                                                                                                                                                                                                                                                                                                                                                                                                                                                                                                                                                                                                                                                                                                                                                                                                                                                                                                                                                                                                                                                                             \n",
      "7149   It can be done!                                                                                                                                                                                                                                                                                                                                                                                                                                                                                                                                                                                                                                                                                                                                                                                                                                                                                                                                                                                                                                                                                                                                                                                                                                                 \n",
      "7204   I have never tried this product but would love to if yous could mail me some samples that would awesome send to 907 Lee Dr Livingston TN 38570 thanks                                                                                                                                                                                                                                                                                                                                                                                                                                                                                                                                                                                                                                                                                                                                                                                                                                                                                                                                                                                                                                                                                                           \n",
      "7216   I especially like this product because it makes my pores smaller and smaller                                                                                                                                                                                                                                                                                                                                                                                                                                                                                                                                                                                                                                                                                                                                                                                                                                                                                                                                                                                                                                                                                                                                                                                    \n",
      "7459   I'm usually a size 6 but ordered a 6 1/2.  I couldn't even put my foot into the boot. They are extremely stiff. Hate to have to return because it cost me money for shoes that I couldn't even try on!                                                                                                                                                                                                                                                                                                                                                                                                                                                                                                                                                                                                                                                                                                                                                                                                                                                                                                                                                                                                                                                          \n",
      "7460   There is a really annoying \"lump\" where the shoe top is attached to the footbed - had to return.  I really wanted to like these but they were too uncomfortable for me.                                                                                                                                                                                                                                                                                                                                                                                                                                                                                                                                                                                                                                                                                                                                                                                                                                                                                                                                                                                                                                                                                         \n",
      "7715   Flowers were off on one courner of sign when i got box that was bit damage on one side.i will fix flowers back on sign best i can.                                                                                                                                                                                                                                                                                                                                                                                                                                                                                                                                                                                                                                                                                                                                                                                                                                                                                                                                                                                                                                                                                                                              \n",
      "7888   I haven't used it long enough but it needs more zinc                                                                                                                                                                                                                                                                                                                                                                                                                                                                                                                                                                                                                                                                                                                                                                                                                                                                                                                                                                                                                                                                                                                                                                                                            \n",
      "8045   Love what I purchased. Bought 2 Hugo and only received one                                                                                                                                                                                                                                                                                                                                                                                                                                                                                                                                                                                                                                                                                                                                                                                                                                                                                                                                                                                                                                                                                                                                                                                                      \n",
      "8237   I love the brush . It straightens beautiful BUT it keeps shutting itself off  by itself. First I thought it was my hand hitting the power button but it keeps beeping and turning off. Have to send it back.                                                                                                                                                                                                                                                                                                                                                                                                                                                                                                                                                                                                                                                                                                                                                                                                                                                                                                                                                                                                                                                    \n",
      "8262   ONLY BEEN UNHAPPY ONCE\\nWITH ITEMS                                                                                                                                                                                                                                                                                                                                                                                                                                                                                                                                                                                                                                                                                                                                                                                                                                                                                                                                                                                                                                                                                                                                                                                                                              \n",
      "8266   ORDERED,, PAID NEVER RECIEVED SAD WAS TOO ILL T ASK ABOUT THEN                                                                                                                                                                                                                                                                                                                                                                                                                                                                                                                                                                                                                                                                                                                                                                                                                                                                                                                                                                                                                                                                                                                                                                                                  \n",
      "8281   used an hour before and my skin felt great, i did not like how it felt on my skin, felt a little sticky to me                                                                                                                                                                                                                                                                                                                                                                                                                                                                                                                                                                                                                                                                                                                                                                                                                                                                                                                                                                                                                                                                                                                                                   \n",
      "8336   Item sold out, unable to rate.                                                                                                                                                                                                                                                                                                                                                                                                                                                                                                                                                                                                                                                                                                                                                                                                                                                                                                                                                                                                                                                                                                                                                                                                                                  \n",
      "8765   swoosh nike nao é invertido como na foto                                                                                                                                                                                                                                                                                                                                                                                                                                                                                                                                                                                                                                                                                                                                                                                                                                                                                                                                                                                                                                                                                                                                                                                                                        \n",
      "8884   I was very excited to try the Company Cotton Percale flat sheet. Once I opened the sheet, I could immediately feel the difference between this sheet and the sheets that I had purchased in the past. It was a noticeable difference, I even went to my friends that were visiting and had them touch it. It felt very luxurious. I decided to wash the sheet and put it on my bed. I used my regular laundry detergent and a liquid fabric softener. I took the sheet out of the dryer immediately after it dried. I discovered the sheet had wrinkled so badly that i didn't want to use it on my bed. I placed in the dryer with a fabric sheet and there was no change. I was really disappointed because the sheet was fabulous before I washed it. I have to say that I later washed the sheet again with liquid fabric softener and dryer sheet and it came out much better. I was able to make my bed and I absolutely loved the way the sheet felt. I am glad that I am able to write this review after I washed the second time because it really is a quality product. I would purchase this brand in the future.                                                                                                                                    \n",
      "8952   Order cancelled                                                                                                                                                                                                                                                                                                                                                                                                                                                                                                                                                                                                                                                                                                                                                                                                                                                                                                                                                                                                                                                                                                                                                                                                                                                 \n",
      "9074   I ordered this item & everything went well. It was shipped. CTD then stopped my order & cancelled it. Why you ask? Because once upon a time in Pittsburgh, PA our mayor passed a law that prohibits 'high capacity' magazines. The law was promptly challenged & was promptly found to be unconstitutional by county & state courts. It was also unconstitutional on the Federal level. So here we have a law, which never actually became law, was challenged & struck down never being actually enforced once.\\nCTD told me they're abiding by this backdoor gun control agenda. Yes that's what they told me & I quote: \"They could enact a law just like that tomorrow & CTD does not want to incur any liability associated with being in violation\".\\nYes CTD cancelled my order on the remote chance that my city would EVER legally pass an unconstitutional mag ban! I talked to their head of sales who parroted the same song as the manager I spoke to.\\nHow can this be accepted? Why have guns for sale if this logic is your way of business? Hence I got this through a competitor.  It's a fine magazine & CTD lost out on a contract with my gov't agency I was purchasing on behalf of for MANY other different firearms related products.   \n",
      "9100   Ordered this blanket for Christmas for my mom and when she called me screaming with joy and showed me the blanket, omg..far exceeded my expectation.  She could not get over how nice the blanket was. \\n Let's talk quality, quality in the sherpa fabric, quality in how crisp and clear the pics were and quality in the color that I chose for the background, absolutely no bleeding of color.  You WILL NOT be disappointed when you order.  Amazing job!!                                                                                                                                                                                                                                                                                                                                                                                                                                                                                                                                                                                                                                                                                                                                                                                                \n",
      "9135   I use the stain pretreat on tough pet stains                                                                                                                                                                                                                                                                                                                                                                                                                                                                                                                                                                                                                                                                                                                                                                                                                                                                                                                                                                                                                                                                                                                                                                                                                    \n",
      "9178   The radiator would have been lovely but there was a small scratch on it. I did not inspect it immediately because of Christine but when I had it fitted 3 weeks later my plumber pointed it out after it was fitted. Disappointed                                                                                                                                                                                                                                                                                                                                                                                                                                                                                                                                                                                                                                                                                                                                                                                                                                                                                                                                                                                                                               \n",
      "9499   Love it.  Make great PB&J sandwiches                                                                                                                                                                                                                                                                                                                                                                                                                                                                                                                                                                                                                                                                                                                                                                                                                                                                                                                                                                                                                                                                                                                                                                                                                            \n",
      "9732   It is a good machine.   For the price, I thought it would vacuum better.  I still have to get my good vacuum out and vacuum with it first.                                                                                                                                                                                                                                                                                                                                                                                                                                                                                                                                                                                                                                                                                                                                                                                                                                                                                                                                                                                                                                                                                                                      \n",
      "9803   vff                                                                                                                                                                                                                                                                                                                                                                                                                                                                                                                                                                                                                                                                                                                                                                                                                                                                                                                                                                                                                                                                                                                                                                                                                                                             \n",
      "10109  Well I didn't even receive the item because the driver from Hermes didn't even deliver it and I haven't received anything back from Hermes and it's been almost 2 weeks since I email them                                                                                                                                                                                                                                                                                                                                                                                                                                                                                                                                                                                                                                                                                                                                                                                                                                                                                                                                                                                                                                                                      \n",
      "10202  I paid full price for the trimm star & you sent it to me without a double box ? Is this how you appreciate your loyal customer ? I am very sad with your served                                                                                                                                                                                                                                                                                                                                                                                                                                                                                                                                                                                                                                                                                                                                                                                                                                                                                                                                                                                                                                                                                                 \n",
      "10426  Hard to use when you haven't received it!                                                                                                                                                                                                                                                                                                                                                                                                                                                                                                                                                                                                                                                                                                                                                                                                                                                                                                                                                                                                                                                                                                                                                                                                                       \n",
      "10529  I ordered 2 sets one set was boxed wrong. I sent pictures to them. I asked they send a replacement with a return tag. They said their policy required that I pay for another set and would get a refund in 2 weeks.\\nI told them I will return them and buy from another company.                                                                                                                                                                                                                                                                                                                                                                                                                                                                                                                                                                                                                                                                                                                                                                                                                                                                                                                                                                               \n",
      "10587  I'm a long time customer and love my bedding from The Company Store! The only reason I'm not giving five stars: I can't help but notice as the mother of mixed race children that all the characters on all the sheets are white. I would jump at the opportunity to buy sheets that reflect the beautiful patchwork of human skin tones. Let's see some Black princesses! Mermaids of Color! Diverse skin tones on fairies! Multicultural ice skaters perhaps! Let's make these gorgeous products inclusive to all. I would be the first to buy and tell all my family and friends. I hope anyone reading this has a blessed holiday season!                                                                                                                                                                                                                                                                                                                                                                                                                                                                                                                                                                                                                   \n",
      "10869  Very nice watch but unfortunately the watch was not working when it arrived so reluctantly had to return and am still waiting on my refund.  Was bought as a gift for my husband and am disappointed that watch had to be returned as difficult to get through to customer service department on phone.                                                                                                                                                                                                                                                                                                                                                                                                                                                                                                                                                                                                                                                                                                                                                                                                                                                                                                                                                         \n",
      "10883  These are great due to the versatility of the color but I'm disappointed that they fit tight like regular jeans with not much wiggle room! I wish they would specify that in the details.                                                                                                                                                                                                                                                                                                                                                                                                                                                                                                                                                                                                                                                                                                                                                                                                                                                                                                                                                                                                                                                                       \n",
      "11269  I love this mirror. I actually have a similar one that is silver with the double-sided mirror, but it doesn't have the light. I love this mirror much more, and it's all because of the light. When you turn that light on, you can see every single blemish, scar, pimple and pore when using the magnified mirror.                                                                                                                                                                                                                                                                                                                                                                                                                                                                                                                                                                                                                                                                                                                                                                                                                                                                                                                                            \n",
      "11381  Finish Line products was on time with delivery ,  sneakers are comfortable and I am very satisfied                                                                                                                                                                                                                                                                                                                                                                                                                                                                                                                                                                                                                                                                                                                                                                                                                                                                                                                                                                                                                                                                                                                                                              \n",
      "11430  I bought several and prices were different, too high.                                                                                                                                                                                                                                                                                                                                                                                                                                                                                                                                                                                                                                                                                                                                                                                                                                                                                                                                                                                                                                                                                                                                                                                                           \n",
      "11488  My grandson loved it but his brother broke it. So I will have to buy it again.                                                                                                                                                                                                                                                                                                                                                                                                                                                                                                                                                                                                                                                                                                                                                                                                                                                                                                                                                                                                                                                                                                                                                                                  \n",
      "\n",
      "       REVIEW_LENGTH  REVIEW_RATING REVIEW_WOULD_RECOMMEND  CC  \\\n",
      "58     156.0          5              False                  0    \n",
      "204    69.0           1              True                   0    \n",
      "332    40.0           2              True                   0    \n",
      "356    90.0           2              True                   0    \n",
      "393    528.0          1              True                   0    \n",
      "401    97.0           1              True                   0    \n",
      "463    175.0          4              False                  0    \n",
      "554    192.0          1              True                   0    \n",
      "559    472.0          5              False                  0    \n",
      "666    227.0          1              True                   0    \n",
      "953    455.0          4              False                  0    \n",
      "1021   179.0          2              True                   0    \n",
      "1034   25.0           5              False                  0    \n",
      "1153   156.0          1              True                   0    \n",
      "1370   196.0          4              False                  0    \n",
      "1371   456.0          2              True                   0    \n",
      "1403   27.0           1              True                   0    \n",
      "1603   257.0          2              True                   0    \n",
      "1649   61.0           2              True                   0    \n",
      "1654   325.0          1              True                   0    \n",
      "1688   32.0           5              False                  0    \n",
      "1692   147.0          4              False                  0    \n",
      "1786   27.0           1              True                   0    \n",
      "1887   5.0            4              False                  0    \n",
      "2004   151.0          2              True                   0    \n",
      "2109   5.0            5              False                  0    \n",
      "2120   62.0           4              False                  0    \n",
      "2422   122.0          1              True                   0    \n",
      "2429   93.0           1              True                   0    \n",
      "2517   276.0          1              True                   0    \n",
      "2536   19.0           5              False                  0    \n",
      "2605   75.0           2              True                   0    \n",
      "2689   116.0          2              True                   0    \n",
      "2795   57.0           5              False                  0    \n",
      "2817   153.0          5              False                  0    \n",
      "2851   216.0          4              False                  0    \n",
      "2976   36.0           1              True                   0    \n",
      "3010   117.0          2              True                   0    \n",
      "3050   59.0           5              False                  0    \n",
      "3095   240.0          4              False                  0    \n",
      "3102   207.0          5              False                  0    \n",
      "3194   203.0          2              True                   0    \n",
      "3747   932.0          5              False                  0    \n",
      "3792   252.0          4              False                  0    \n",
      "3806   9.0            5              False                  0    \n",
      "4177   144.0          4              False                  0    \n",
      "4208   78.0           4              False                  0    \n",
      "4287   72.0           4              False                  0    \n",
      "4344   174.0          4              False                  0    \n",
      "4352   600.0          1              True                   0    \n",
      "4378   374.0          4              False                  0    \n",
      "4388   42.0           1              True                   0    \n",
      "4465   222.0          4              False                  0    \n",
      "4471   246.0          2              True                   0    \n",
      "4862   50.0           5              False                  0    \n",
      "5026   153.0          4              False                  0    \n",
      "5480   48.0           1              True                   0    \n",
      "5532   40.0           1              True                   0    \n",
      "5936   20.0           1              True                   0    \n",
      "5964   36.0           4              False                  0    \n",
      "6096   10.0           1              True                   0    \n",
      "6537   295.0          1              True                   0    \n",
      "6637   273.0          1              True                   0    \n",
      "6956   94.0           5              False                  0    \n",
      "7019   144.0          4              False                  0    \n",
      "7146   3.0            5              False                  0    \n",
      "7149   15.0           5              False                  0    \n",
      "7204   149.0          1              True                   0    \n",
      "7216   76.0           5              False                  0    \n",
      "7459   198.0          5              False                  0    \n",
      "7460   167.0          4              False                  0    \n",
      "7715   130.0          2              True                   0    \n",
      "7888   52.0           1              True                   0    \n",
      "8045   58.0           1              True                   0    \n",
      "8237   204.0          1              True                   0    \n",
      "8262   33.0           2              True                   0    \n",
      "8266   62.0           1              True                   0    \n",
      "8281   109.0          5              False                  0    \n",
      "8336   30.0           1              True                   0    \n",
      "8765   40.0           5              False                  0    \n",
      "8884   1084.0         4              False                  0    \n",
      "8952   15.0           1              True                   0    \n",
      "9074   1210.0         1              True                   0    \n",
      "9100   447.0          5              False                  0    \n",
      "9135   44.0           5              False                  0    \n",
      "9178   225.0          2              True                   0    \n",
      "9499   36.0           5              False                  0    \n",
      "9732   138.0          4              False                  0    \n",
      "9803   3.0            5              False                  0    \n",
      "10109  186.0          1              True                   0    \n",
      "10202  159.0          2              True                   0    \n",
      "10426  41.0           1              True                   0    \n",
      "10529  272.0          5              False                  0    \n",
      "10587  621.0          1              True                   0    \n",
      "10869  295.0          4              False                  0    \n",
      "10883  185.0          4              False                  0    \n",
      "11269  308.0          5              False                  0    \n",
      "11381  98.0           5              False                  0    \n",
      "11430  53.0           4              False                  0    \n",
      "11488  78.0           2              True                   0    \n",
      "\n",
      "                                                                                                                                                                                                                                                                                                                                                                                                                                                                                                                                                                                                                                                                                                                                                                                                                                                                                                                                                                                                                                                                                                                                                                                                                                                                                   ALL_TEXT  \\\n",
      "58     So yummy. This salsa is so different than anything else you will find on the market! The roasted tomato taste will have you thinking you are at an upscale restaurant!                                                                                                                                                                                                                                                                                                                                                                                                                                                                                                                                                                                                                                                                                                                                                                                                                                                                                                                                                                                                                                                                                                                 \n",
      "204    Awful. Still not received it ordered 19/12/2020 for Xmas it's now 11/01/2021                                                                                                                                                                                                                                                                                                                                                                                                                                                                                                                                                                                                                                                                                                                                                                                                                                                                                                                                                                                                                                                                                                                                                                                                           \n",
      "332    Brought these as a 6 turned up as an 8 men's. Love the trainer if they weren't too big                                                                                                                                                                                                                                                                                                                                                                                                                                                                                                                                                                                                                                                                                                                                                                                                                                                                                                                                                                                                                                                                                                                                                                                                 \n",
      "356    id buy in a resize. new balance sizing for the shoe is us 10 half - uk size 10 should of bought a half size up                                                                                                                                                                                                                                                                                                                                                                                                                                                                                                                                                                                                                                                                                                                                                                                                                                                                                                                                                                                                                                                                                                                                                                         \n",
      "393    Poor slow service with no updates. Product took 4 weeks to arrive with no updates or response to emails. When the Nike trainers finally arrived at the Royal Mail pick up point they were now being offered at 50% cheaper directly from Nike. JD offered no price match so they had to be returned the same day! A 25% discount was offered off my next purchase £100 (£25 minimum) but this was nowhere near the £100 saving from Nike! Such a shame as JD are normally so good on service and pricing. Missed my girlfriends Christmas present and still waiting for the refund.                                                                                                                                                                                                                                                                                                                                                                                                                                                                                                                                                                                                                                                                                                    \n",
      "401    I am trying to return this product and I can't seem to do so. I am trying to return this product, however I logged on as a guest and can't seem to return them.                                                                                                                                                                                                                                                                                                                                                                                                                                                                                                                                                                                                                                                                                                                                                                                                                                                                                                                                                                                                                                                                                                                        \n",
      "463    Nice set but case cheap. The pilsner  glasses were beautiful but when we  pulled the case out of the box, a piece of the trim came off.  Can fix it with a bigger nail and glue  , but shouldn't have to                                                                                                                                                                                                                                                                                                                                                                                                                                                                                                                                                                                                                                                                                                                                                                                                                                                                                                                                                                                                                                                                               \n",
      "554    Junk. Gave one star because no stars was not an option..absolutely junk....it was falling apart as I tried to put it together..emailed customer service and got no response!!! Don't waste your money.                                                                                                                                                                                                                                                                                                                                                                                                                                                                                                                                                                                                                                                                                                                                                                                                                                                                                                                                                                                                                                                                                 \n",
      "559    I would not buy this product again,. Nice cabinet for this price. Came in the damaged box but packed very well and nothing were damaged inside.\\nProblem- all part came unnamed as A, B, C...Tried to call for support- never receive call back... spent some time to figure it out... luckily my husband and I had some experience to put furniture together, but no excuse for the company to send all parts with out labels. I placed it in the mud room and will move it to the garage as an utility cabinet in the future                                                                                                                                                                                                                                                                                                                                                                                                                                                                                                                                                                                                                                                                                                                                                         \n",
      "666    Shipping issues #sweepstakes. This is a cool book but it arrived after Christmas even though ordered in November.  The shipping date kept changing and now I'm stuck with this gift as I had to purchase something else to replace it for Christmas. #sweepstakes                                                                                                                                                                                                                                                                                                                                                                                                                                                                                                                                                                                                                                                                                                                                                                                                                                                                                                                                                                                                                      \n",
      "953    soft material but scratchy seams. This fabric is nice and soft, feels high quality.  The manufacturer sewed the front placket and hems beautifully so they don't itch.  But they did not do this on the armholes or side seams, thus being scratchy.  Also, the sizing is for ALOT of shrinkage.  I have washed once and the pjs shrank about half as much as they need to to be true to size.  We will see what the next washing does.  I hope it shrinks enough, as these are basically very nice pj's!                                                                                                                                                                                                                                                                                                                                                                                                                                                                                                                                                                                                                                                                                                                                                                              \n",
      "1021   Pillowcase Ripped at Seam. I love the sheets. But was very disappointed when I found that one of the pillowcases had ripped at the seams. Just a week after use. I would love to have another case sent to me.                                                                                                                                                                                                                                                                                                                                                                                                                                                                                                                                                                                                                                                                                                                                                                                                                                                                                                                                                                                                                                                                         \n",
      "1034   Order was right. They had these 12 correct                                                                                                                                                                                                                                                                                                                                                                                                                                                                                                                                                                                                                                                                                                                                                                                                                                                                                                                                                                                                                                                                                                                                                                                                                                             \n",
      "1153   Shipping delays. Did not receive in time to use.. Product is fine. Shipping states 6 days. Took over 15 days to receive. Items were delivered after thanksgiving. Will not be ordering online from here again.                                                                                                                                                                                                                                                                                                                                                                                                                                                                                                                                                                                                                                                                                                                                                                                                                                                                                                                                                                                                                                                                         \n",
      "1370   Not sure of purchasing again. Not sure if I would buy again, shipping took way too long. Ordered at Thanksgiving, shipped on the 2nd and we have yet to receive them.  Not really that impressed, and I have used them every year.                                                                                                                                                                                                                                                                                                                                                                                                                                                                                                                                                                                                                                                                                                                                                                                                                                                                                                                                                                                                                                                     \n",
      "1371   Given the WRONG size envelopes. I enjoy these cards, but, when I'm given envelopes for a card half the size of the 5x7 cards I ordered, it is an issue. In addition, when I tried to contact customer service, the wait time and hours are not user friendly. Shutterfly needs to ensure they are providing accurately sized envelopes since they apparently carry 5x7 sized envelopes with sealed bottoms to only  fit Smaller cards. The customer would only notice when going to stuff the envelopes.                                                                                                                                                                                                                                                                                                                                                                                                                                                                                                                                                                                                                                                                                                                                                                               \n",
      "1403   Product was great but I won't buy from Ulta. It was for my granddaughter                                                                                                                                                                                                                                                                                                                                                                                                                                                                                                                                                                                                                                                                                                                                                                                                                                                                                                                                                                                                                                                                                                                                                                                                               \n",
      "1603   I received these as a Christmas gift(I asked for).. I received these for Christmas but unfortunately the fit was too tight. I wear wms sz11 and with a sock on it felt like a sz10...VERY UNCOMFORTABLE :( I still think they're very stylish & eye-catching and would recommend but I'd also recommend to size up :/                                                                                                                                                                                                                                                                                                                                                                                                                                                                                                                                                                                                                                                                                                                                                                                                                                                                                                                                                                  \n",
      "1649   Lovely. Go to his site directly these go for 149$ end of season sale!                                                                                                                                                                                                                                                                                                                                                                                                                                                                                                                                                                                                                                                                                                                                                                                                                                                                                                                                                                                                                                                                                                                                                                                                                  \n",
      "1654   Not received. Here it is December 28th and still have not received this.. disappointing as these were gifts. I will still recommend as that has nothing to do with the product itself. TSC kept in warehouse a LONG time never mind the back ups from Canada Post. Many of my things I bought as gifts have not shown up and Christmas is over. Boo                                                                                                                                                                                                                                                                                                                                                                                                                                                                                                                                                                                                                                                                                                                                                                                                                                                                                                                                    \n",
      "1688   I would buy this product again. My Grandson just loved this gift                                                                                                                                                                                                                                                                                                                                                                                                                                                                                                                                                                                                                                                                                                                                                                                                                                                                                                                                                                                                                                                                                                                                                                                                                       \n",
      "1692   as advertised look just like picture. Do not seem very comfortable, but as advertised.  Easy to put together and inexpensive, but on one of them, legs seemed to end up uneven and rocks.                                                                                                                                                                                                                                                                                                                                                                                                                                                                                                                                                                                                                                                                                                                                                                                                                                                                                                                                                                                                                                                                                              \n",
      "1786   Maybe. have not received this item                                                                                                                                                                                                                                                                                                                                                                                                                                                                                                                                                                                                                                                                                                                                                                                                                                                                                                                                                                                                                                                                                                                                                                                                                                                     \n",
      "1887   ok strap for the money. none.                                                                                                                                                                                                                                                                                                                                                                                                                                                                                                                                                                                                                                                                                                                                                                                                                                                                                                                                                                                                                                                                                                                                                                                                                                                          \n",
      "2004   They are good to wear around the house but that's all.. They have no support are hurt the arch of your foot. Good for a house shoe but that's all not out. I will recommend you to only wear them in the house.                                                                                                                                                                                                                                                                                                                                                                                                                                                                                                                                                                                                                                                                                                                                                                                                                                                                                                                                                                                                                                                                        \n",
      "2109   sexy. great                                                                                                                                                                                                                                                                                                                                                                                                                                                                                                                                                                                                                                                                                                                                                                                                                                                                                                                                                                                                                                                                                                                                                                                                                                                                            \n",
      "2120   Great costume but wig is ok. Great but wig is alright. I would prefer to buy a separate wig                                                                                                                                                                                                                                                                                                                                                                                                                                                                                                                                                                                                                                                                                                                                                                                                                                                                                                                                                                                                                                                                                                                                                                                            \n",
      "2422   Not worth the money. Made my skin burn had way too much fragrance and caused my skin to break out. Was really hopeful but it just was not good.                                                                                                                                                                                                                                                                                                                                                                                                                                                                                                                                                                                                                                                                                                                                                                                                                                                                                                                                                                                                                                                                                                                                        \n",
      "2429   Allergic. I was so excited to try this, I broke out in a terrible rash. Does this product have retinol?                                                                                                                                                                                                                                                                                                                                                                                                                                                                                                                                                                                                                                                                                                                                                                                                                                                                                                                                                                                                                                                                                                                                                                                \n",
      "2517   I never received the watch.. When I received the package it had been opened and the watch removed during shipping. I contacted customer service and was told Fossil would send me another watch. That was 16 days ago. Still waiting.\\nFYI. I am a big fan of Fossil watches and have owned and still own several.                                                                                                                                                                                                                                                                                                                                                                                                                                                                                                                                                                                                                                                                                                                                                                                                                                                                                                                                                                     \n",
      "2536   Working  Fine. Put back in V6Dyson                                                                                                                                                                                                                                                                                                                                                                                                                                                                                                                                                                                                                                                                                                                                                                                                                                                                                                                                                                                                                                                                                                                                                                                                                                                     \n",
      "2605   Never got it. This product wasn't delivered hoping the reorder gets here and able to used                                                                                                                                                                                                                                                                                                                                                                                                                                                                                                                                                                                                                                                                                                                                                                                                                                                                                                                                                                                                                                                                                                                                                                                              \n",
      "2689   Not for sensitive teeth. Had a great taste and all but it for\\r\\nSome reason hurt my teeth. If I didn't have sensitive teeth it might not have.                                                                                                                                                                                                                                                                                                                                                                                                                                                                                                                                                                                                                                                                                                                                                                                                                                                                                                                                                                                                                                                                                                                                        \n",
      "2795   Beautiful and simple. This bag is great for everyday use.  It's perfect in size                                                                                                                                                                                                                                                                                                                                                                                                                                                                                                                                                                                                                                                                                                                                                                                                                                                                                                                                                                                                                                                                                                                                                                                                        \n",
      "2817   It is good powder for this price.. This is a good powder that does not dry out my face and does not emphasize the flaws of the skin.  I liked it, so I can fully recommend it to my friends!                                                                                                                                                                                                                                                                                                                                                                                                                                                                                                                                                                                                                                                                                                                                                                                                                                                                                                                                                                                                                                                                                           \n",
      "2851   I love these boots but they're very narrow. These boots are gorgeous and I love them however they are very narrow and I even ordered a size bigger than I normally would! I'm hoping they stretch!\\nDefinitely order a size bigger (if not two) if you have wide feet                                                                                                                                                                                                                                                                                                                                                                                                                                                                                                                                                                                                                                                                                                                                                                                                                                                                                                                                                                                                                  \n",
      "2976   Great for the price. Daughter loves them very comfortable                                                                                                                                                                                                                                                                                                                                                                                                                                                                                                                                                                                                                                                                                                                                                                                                                                                                                                                                                                                                                                                                                                                                                                                                                              \n",
      "3010   Arms to wide. I really like the design.  However with my usual size at xl it fits perfectly. Expect the arms / sleeve are very wide                                                                                                                                                                                                                                                                                                                                                                                                                                                                                                                                                                                                                                                                                                                                                                                                                                                                                                                                                                                                                                                                                                                                                    \n",
      "3050   Present. This product no come a wait for Christmas present a no come                                                                                                                                                                                                                                                                                                                                                                                                                                                                                                                                                                                                                                                                                                                                                                                                                                                                                                                                                                                                                                                                                                                                                                                                                   \n",
      "3095   good moisturizer. i like the scent, its very delicate and easy on skin. it definitely helps with keeping my skin moisturized. i just wished the product had English info on it. everything is in Korean so i cant even read the ingredients or anything basically.                                                                                                                                                                                                                                                                                                                                                                                                                                                                                                                                                                                                                                                                                                                                                                                                                                                                                                                                                                                                                     \n",
      "3102   Smells AMAZING!. I absolutely love how great Suavitel Complete fabric conditioner sheets smell! Field Flowers smells amazing. I have combined them with my liquid Suavitel fabric softener and my clothes smells sooooo fresh :D                                                                                                                                                                                                                                                                                                                                                                                                                                                                                                                                                                                                                                                                                                                                                                                                                                                                                                                                                                                                                                                       \n",
      "3194   I would buy this product again if fresh and not dated. I like this product but variation in quality is frustrating.  Sometimes light in color (fresh) and sometimes dark/orangy ( older and more acidic).  I almost returned this last bottle because of darkness.                                                                                                                                                                                                                                                                                                                                                                                                                                                                                                                                                                                                                                                                                                                                                                                                                                                                                                                                                                                                                     \n",
      "3747   Killer touring jacket. If you're looking for a jacket that can do it all, this might be it!\\n\\nI've taken this out for two tours (about 5 miles total each). As someone that usually runs really hot, I've found all the vents on this jacket to be lifesaving. There's two chest vents + underarm vents - right at my core where I hold a lot of weight. Easy to unzip the chest vents on the go. The inside pockets fit my skins with ease for quick laps. Keeps me cool on the climb up and toasty on the descent.\\n\\nI'm usually a sch-medium (in between a small and medium), but found the small to be the perfect fit. The cuffs have a little elasticity to them too which is great for keeping snow out.\\n\\nMy one complaint is that the collar is pretty high - zipped up it covers my nose. This is great when the weather isn't ideal, but hard when I'm just trying to keep my ears warm in mild weather - makes breathing a bit difficult.\\n\\nAll in all, it's a well-rounded jacket.                                                                                                                                                                                                                                                                                    \n",
      "3792   Glimmer instead of glow. I got it to glow in the bath water! The room needs to be completely pitch black, and it will only be a glimmer of light, but it actually did work in my bath. Smells good, but one star off for the bubbles barely lasting the first few minutes in the tub.                                                                                                                                                                                                                                                                                                                                                                                                                                                                                                                                                                                                                                                                                                                                                                                                                                                                                                                                                                                                  \n",
      "3806   Yum Yum Yum. Wonderful                                                                                                                                                                                                                                                                                                                                                                                                                                                                                                                                                                                                                                                                                                                                                                                                                                                                                                                                                                                                                                                                                                                                                                                                                                                                 \n",
      "4177   It's very nice soft and light.. Casual days. It's soft and pretty. I don't like the berry notes. Needs to be a little stronger and the scent fades quickly within 3 the 4 hours.                                                                                                                                                                                                                                                                                                                                                                                                                                                                                                                                                                                                                                                                                                                                                                                                                                                                                                                                                                                                                                                                                                       \n",
      "4208   Could have been great jeans. All is fine except from mid calf down. Way too narrow as other reviews stated.                                                                                                                                                                                                                                                                                                                                                                                                                                                                                                                                                                                                                                                                                                                                                                                                                                                                                                                                                                                                                                                                                                                                                                            \n",
      "4287   I would buy it again if it came in wide. they look fine and all just too tight, if only you carried more in wide.                                                                                                                                                                                                                                                                                                                                                                                                                                                                                                                                                                                                                                                                                                                                                                                                                                                                                                                                                                                                                                                                                                                                                                      \n",
      "4344   Quality but unbalanced. These mugs are great quality and feel really nice in hand but the stand isnt big enough for them to rest comfortably forcing the base to be quite wobbly.   Not a bad product.                                                                                                                                                                                                                                                                                                                                                                                                                                                                                                                                                                                                                                                                                                                                                                                                                                                                                                                                                                                                                                                                                 \n",
      "4352   I would buy them again in the future.. I ordered an all blue color jacket. If the all blue is what shows up, I will be happy. The jacket has not yet arrived as of this entry (Friday, 01/08/2021). If the blue/maroon is what arrives I will have to send it back. I don't appreciate a merchant doing substitution. At this date, I'm just waiting for a jacket to arrive. They are a great jacket that will keep you warm in subzero weather. The old one I have at present is wearing out, pocket threads are pulling out with no way to repair them. With the nice thick fleece lining one can't get a needle throuh to sew the pocket tight to the shell.                                                                                                                                                                                                                                                                                                                                                                                                                                                                                                                                                                                                                        \n",
      "4378   The Good News is that they Stretch!. I ordered the same size as I do in Lee jeans and they appear to be a size smaller than what I expected.  They are advertised as \"Relaxed Fit\" but if not for the stretch denim, they would be too tight.  They were comfortable enough after I got them zipped up, but they are quite snug.  Since other reviewers said they were true to size, I have to assume they were mislabeled?                                                                                                                                                                                                                                                                                                                                                                                                                                                                                                                                                                                                                                                                                                                                                                                                                                                            \n",
      "4388   maybe. material i felt should be a heavier denim<                                                                                                                                                                                                                                                                                                                                                                                                                                                                                                                                                                                                                                                                                                                                                                                                                                                                                                                                                                                                                                                                                                                                                                                                                                      \n",
      "4465   comfy. Very comfortable but not as firm as I was expecting. I bought some last year so they don't last very long, but overall I really like them, I just wouldn't pay $40 for them again unless it was my only option for new pillows                                                                                                                                                                                                                                                                                                                                                                                                                                                                                                                                                                                                                                                                                                                                                                                                                                                                                                                                                                                                                                                  \n",
      "4471   Nice but runs small. I needed a nice fleece lined pair of pants for my son. This looked almost perfect. He normally wears a 38 but this ran too small so I'm returning it and getting a 40 instead. It's heavy because of the lining, but it will definitely keep you warm.                                                                                                                                                                                                                                                                                                                                                                                                                                                                                                                                                                                                                                                                                                                                                                                                                                                                                                                                                                                                            \n",
      "4862   Yes love Iit. I get lots of compliments when I wear this perfume                                                                                                                                                                                                                                                                                                                                                                                                                                                                                                                                                                                                                                                                                                                                                                                                                                                                                                                                                                                                                                                                                                                                                                                                                       \n",
      "5026   Color Not Accurate. Up the Bass is not a dark, dusty purple as shown. It looks more light, gray-ish pink in person. The color changes on different skin tones and undertones.                                                                                                                                                                                                                                                                                                                                                                                                                                                                                                                                                                                                                                                                                                                                                                                                                                                                                                                                                                                                                                                                                                          \n",
      "5480   I would buy again. Put o for my almost 2 year old and she love them                                                                                                                                                                                                                                                                                                                                                                                                                                                                                                                                                                                                                                                                                                                                                                                                                                                                                                                                                                                                                                                                                                                                                                                                                    \n",
      "5532   Wrong color. It was the wrong color so I sent it back                                                                                                                                                                                                                                                                                                                                                                                                                                                                                                                                                                                                                                                                                                                                                                                                                                                                                                                                                                                                                                                                                                                                                                                                                                  \n",
      "5936   Would love to purchase this!. Never received this!                                                                                                                                                                                                                                                                                                                                                                                                                                                                                                                                                                                                                                                                                                                                                                                                                                                                                                                                                                                                                                                                                                                                                                                                                                     \n",
      "5964   A little disappointed that you can twist your foot in them.. Satisfied with only owning one pair!                                                                                                                                                                                                                                                                                                                                                                                                                                                                                                                                                                                                                                                                                                                                                                                                                                                                                                                                                                                                                                                                                                                                                                                      \n",
      "6096   No. Wrong size                                                                                                                                                                                                                                                                                                                                                                                                                                                                                                                                                                                                                                                                                                                                                                                                                                                                                                                                                                                                                                                                                                                                                                                                                                                                         \n",
      "6537   Lovely shoe, order one size up from your usual.. A lovely looking shoe, unfortunately it was too small so I would suggest buying one size up from you usual.\\nThis was made worse by the fact that it was ordered on 20/12/20 and arrived 05/01/21. I received three different JD orders before this was finally delivered. Not the best Christmas gift!!                                                                                                                                                                                                                                                                                                                                                                                                                                                                                                                                                                                                                                                                                                                                                                                                                                                                                                                              \n",
      "6637   The wrong size received. I ordered a 7.5 and my shoes arrived without a shoe box but in a baggy. The tags were off the shoe. The shoes were a six 6! The shoes looked like a return. The shoes do look cute though but I sent mine back. Hopefully, they send me the right size and in an addidas shoebox.                                                                                                                                                                                                                                                                                                                                                                                                                                                                                                                                                                                                                                                                                                                                                                                                                                                                                                                                                                             \n",
      "6956   I like to wear this rust boyfriend cardigan sweater. I have 5 different of colors boyfriend cardigan sweaters already to wear for special occasions                                                                                                                                                                                                                                                                                                                                                                                                                                                                                                                                                                                                                                                                                                                                                                                                                                                                                                                                                                                                                                                                                                                                    \n",
      "7019   Wrong length, will not be buying these again.. Love these jean, fit is great but the length was too long.   I had ordered the long by mistake and just took them to the tailor to be shortened.                                                                                                                                                                                                                                                                                                                                                                                                                                                                                                                                                                                                                                                                                                                                                                                                                                                                                                                                                                                                                                                                                        \n",
      "7146   Ok. Ive                                                                                                                                                                                                                                                                                                                                                                                                                                                                                                                                                                                                                                                                                                                                                                                                                                                                                                                                                                                                                                                                                                                                                                                                                                                                                \n",
      "7149   A challenging and fun puzzle.  Hang in there!. It can be done!                                                                                                                                                                                                                                                                                                                                                                                                                                                                                                                                                                                                                                                                                                                                                                                                                                                                                                                                                                                                                                                                                                                                                                                                                         \n",
      "7204   I would love to try this product. I have never tried this product but would love to if yous could mail me some samples that would awesome send to 907 Lee Dr Livingston TN 38570 thanks                                                                                                                                                                                                                                                                                                                                                                                                                                                                                                                                                                                                                                                                                                                                                                                                                                                                                                                                                                                                                                                                                                \n",
      "7216   I especially like this product because it makes my pores sma. I especially like this product because it makes my pores smaller and smaller                                                                                                                                                                                                                                                                                                                                                                                                                                                                                                                                                                                                                                                                                                                                                                                                                                                                                                                                                                                                                                                                                                                                             \n",
      "7459   Beautiful shoes. I'm usually a size 6 but ordered a 6 1/2.  I couldn't even put my foot into the boot. They are extremely stiff. Hate to have to return because it cost me money for shoes that I couldn't even try on!                                                                                                                                                                                                                                                                                                                                                                                                                                                                                                                                                                                                                                                                                                                                                                                                                                                                                                                                                                                                                                                                \n",
      "7460   Love the print!. There is a really annoying \"lump\" where the shoe top is attached to the footbed - had to return.  I really wanted to like these but they were too uncomfortable for me.                                                                                                                                                                                                                                                                                                                                                                                                                                                                                                                                                                                                                                                                                                                                                                                                                                                                                                                                                                                                                                                                                               \n",
      "7715   Damaged a bit. Flowers were off on one courner of sign when i got box that was bit damage on one side.i will fix flowers back on sign best i can.                                                                                                                                                                                                                                                                                                                                                                                                                                                                                                                                                                                                                                                                                                                                                                                                                                                                                                                                                                                                                                                                                                                                      \n",
      "7888   Eye health combo. I haven't used it long enough but it needs more zinc                                                                                                                                                                                                                                                                                                                                                                                                                                                                                                                                                                                                                                                                                                                                                                                                                                                                                                                                                                                                                                                                                                                                                                                                                 \n",
      "8045   I bought 2 and only received 0ne. Love what I purchased. Bought 2 Hugo and only received one                                                                                                                                                                                                                                                                                                                                                                                                                                                                                                                                                                                                                                                                                                                                                                                                                                                                                                                                                                                                                                                                                                                                                                                           \n",
      "8237   NOT WORKING. I love the brush . It straightens beautiful BUT it keeps shutting itself off  by itself. First I thought it was my hand hitting the power button but it keeps beeping and turning off. Have to send it back.                                                                                                                                                                                                                                                                                                                                                                                                                                                                                                                                                                                                                                                                                                                                                                                                                                                                                                                                                                                                                                                              \n",
      "8262   DISAPPOINT. ONLY BEEN UNHAPPY ONCE\\nWITH ITEMS                                                                                                                                                                                                                                                                                                                                                                                                                                                                                                                                                                                                                                                                                                                                                                                                                                                                                                                                                                                                                                                                                                                                                                                                                                         \n",
      "8266   SAD. ORDERED,, PAID NEVER RECIEVED SAD WAS TOO ILL T ASK ABOUT THEN                                                                                                                                                                                                                                                                                                                                                                                                                                                                                                                                                                                                                                                                                                                                                                                                                                                                                                                                                                                                                                                                                                                                                                                                                    \n",
      "8281   i would not buy this product. used an hour before and my skin felt great, i did not like how it felt on my skin, felt a little sticky to me                                                                                                                                                                                                                                                                                                                                                                                                                                                                                                                                                                                                                                                                                                                                                                                                                                                                                                                                                                                                                                                                                                                                            \n",
      "8336   I'd buy it if in stock. Item sold out, unable to rate.                                                                                                                                                                                                                                                                                                                                                                                                                                                                                                                                                                                                                                                                                                                                                                                                                                                                                                                                                                                                                                                                                                                                                                                                                                 \n",
      "8765   Nao querem aceitar minha avaliaçao !!!. swoosh nike nao é invertido como na foto                                                                                                                                                                                                                                                                                                                                                                                                                                                                                                                                                                                                                                                                                                                                                                                                                                                                                                                                                                                                                                                                                                                                                                                                       \n",
      "8884   Slightly Disappointed. I was very excited to try the Company Cotton Percale flat sheet. Once I opened the sheet, I could immediately feel the difference between this sheet and the sheets that I had purchased in the past. It was a noticeable difference, I even went to my friends that were visiting and had them touch it. It felt very luxurious. I decided to wash the sheet and put it on my bed. I used my regular laundry detergent and a liquid fabric softener. I took the sheet out of the dryer immediately after it dried. I discovered the sheet had wrinkled so badly that i didn't want to use it on my bed. I placed in the dryer with a fabric sheet and there was no change. I was really disappointed because the sheet was fabulous before I washed it. I have to say that I later washed the sheet again with liquid fabric softener and dryer sheet and it came out much better. I was able to make my bed and I absolutely loved the way the sheet felt. I am glad that I am able to write this review after I washed the second time because it really is a quality product. I would purchase this brand in the future.                                                                                                                                    \n",
      "8952   Cooker. Order cancelled                                                                                                                                                                                                                                                                                                                                                                                                                                                                                                                                                                                                                                                                                                                                                                                                                                                                                                                                                                                                                                                                                                                                                                                                                                                                \n",
      "9074   CTD are NOT pro 2nd A. I ordered this item & everything went well. It was shipped. CTD then stopped my order & cancelled it. Why you ask? Because once upon a time in Pittsburgh, PA our mayor passed a law that prohibits 'high capacity' magazines. The law was promptly challenged & was promptly found to be unconstitutional by county & state courts. It was also unconstitutional on the Federal level. So here we have a law, which never actually became law, was challenged & struck down never being actually enforced once.\\nCTD told me they're abiding by this backdoor gun control agenda. Yes that's what they told me & I quote: \"They could enact a law just like that tomorrow & CTD does not want to incur any liability associated with being in violation\".\\nYes CTD cancelled my order on the remote chance that my city would EVER legally pass an unconstitutional mag ban! I talked to their head of sales who parroted the same song as the manager I spoke to.\\nHow can this be accepted? Why have guns for sale if this logic is your way of business? Hence I got this through a competitor.  It's a fine magazine & CTD lost out on a contract with my gov't agency I was purchasing on behalf of for MANY other different firearms related products.   \n",
      "9100   You have a repeat customer in me :-). Ordered this blanket for Christmas for my mom and when she called me screaming with joy and showed me the blanket, omg..far exceeded my expectation.  She could not get over how nice the blanket was. \\n Let's talk quality, quality in the sherpa fabric, quality in how crisp and clear the pics were and quality in the color that I chose for the background, absolutely no bleeding of color.  You WILL NOT be disappointed when you order.  Amazing job!!                                                                                                                                                                                                                                                                                                                                                                                                                                                                                                                                                                                                                                                                                                                                                                                 \n",
      "9135   Yes. I use the stain pretreat on tough pet stains                                                                                                                                                                                                                                                                                                                                                                                                                                                                                                                                                                                                                                                                                                                                                                                                                                                                                                                                                                                                                                                                                                                                                                                                                                      \n",
      "9178   Damaged. The radiator would have been lovely but there was a small scratch on it. I did not inspect it immediately because of Christine but when I had it fitted 3 weeks later my plumber pointed it out after it was fitted. Disappointed                                                                                                                                                                                                                                                                                                                                                                                                                                                                                                                                                                                                                                                                                                                                                                                                                                                                                                                                                                                                                                             \n",
      "9499   Love it. Love it.  Make great PB&J sandwiches                                                                                                                                                                                                                                                                                                                                                                                                                                                                                                                                                                                                                                                                                                                                                                                                                                                                                                                                                                                                                                                                                                                                                                                                                                          \n",
      "9732   I would try a similar product, first.. It is a good machine.   For the price, I thought it would vacuum better.  I still have to get my good vacuum out and vacuum with it first.                                                                                                                                                                                                                                                                                                                                                                                                                                                                                                                                                                                                                                                                                                                                                                                                                                                                                                                                                                                                                                                                                                      \n",
      "9803   fvfd. vff                                                                                                                                                                                                                                                                                                                                                                                                                                                                                                                                                                                                                                                                                                                                                                                                                                                                                                                                                                                                                                                                                                                                                                                                                                                                              \n",
      "10109  My parcel was stolen by the driver. Well I didn't even receive the item because the driver from Hermes didn't even deliver it and I haven't received anything back from Hermes and it's been almost 2 weeks since I email them                                                                                                                                                                                                                                                                                                                                                                                                                                                                                                                                                                                                                                                                                                                                                                                                                                                                                                                                                                                                                                                         \n",
      "10202  I AM REALLY DISAPPOINTED. I paid full price for the trimm star & you sent it to me without a double box ? Is this how you appreciate your loyal customer ? I am very sad with your served                                                                                                                                                                                                                                                                                                                                                                                                                                                                                                                                                                                                                                                                                                                                                                                                                                                                                                                                                                                                                                                                                              \n",
      "10426  Still waiting for this item. Hard to use when you haven't received it!                                                                                                                                                                                                                                                                                                                                                                                                                                                                                                                                                                                                                                                                                                                                                                                                                                                                                                                                                                                                                                                                                                                                                                                                                 \n",
      "10529  Good product DO NOT BUY FROM SPEEDWAY. I ordered 2 sets one set was boxed wrong. I sent pictures to them. I asked they send a replacement with a return tag. They said their policy required that I pay for another set and would get a refund in 2 weeks.\\nI told them I will return them and buy from another company.                                                                                                                                                                                                                                                                                                                                                                                                                                                                                                                                                                                                                                                                                                                                                                                                                                                                                                                                                               \n",
      "10587  I would love to see some diversity. I'm a long time customer and love my bedding from The Company Store! The only reason I'm not giving five stars: I can't help but notice as the mother of mixed race children that all the characters on all the sheets are white. I would jump at the opportunity to buy sheets that reflect the beautiful patchwork of human skin tones. Let's see some Black princesses! Mermaids of Color! Diverse skin tones on fairies! Multicultural ice skaters perhaps! Let's make these gorgeous products inclusive to all. I would be the first to buy and tell all my family and friends. I hope anyone reading this has a blessed holiday season!                                                                                                                                                                                                                                                                                                                                                                                                                                                                                                                                                                                                      \n",
      "10869  Nice watch. Very nice watch but unfortunately the watch was not working when it arrived so reluctantly had to return and am still waiting on my refund.  Was bought as a gift for my husband and am disappointed that watch had to be returned as difficult to get through to customer service department on phone.                                                                                                                                                                                                                                                                                                                                                                                                                                                                                                                                                                                                                                                                                                                                                                                                                                                                                                                                                                    \n",
      "10883  Very cute pants but not much stretch to them!. These are great due to the versatility of the color but I'm disappointed that they fit tight like regular jeans with not much wiggle room! I wish they would specify that in the details.                                                                                                                                                                                                                                                                                                                                                                                                                                                                                                                                                                                                                                                                                                                                                                                                                                                                                                                                                                                                                                               \n",
      "11269  Really Pretty Mirror. I love this mirror. I actually have a similar one that is silver with the double-sided mirror, but it doesn't have the light. I love this mirror much more, and it's all because of the light. When you turn that light on, you can see every single blemish, scar, pimple and pore when using the magnified mirror.                                                                                                                                                                                                                                                                                                                                                                                                                                                                                                                                                                                                                                                                                                                                                                                                                                                                                                                                             \n",
      "11381  We will continues to purchase sneakwrs from Finish Line. Finish Line products was on time with delivery ,  sneakers are comfortable and I am very satisfied                                                                                                                                                                                                                                                                                                                                                                                                                                                                                                                                                                                                                                                                                                                                                                                                                                                                                                                                                                                                                                                                                                                            \n",
      "11430  I would buy again.. I bought several and prices were different, too high.                                                                                                                                                                                                                                                                                                                                                                                                                                                                                                                                                                                                                                                                                                                                                                                                                                                                                                                                                                                                                                                                                                                                                                                                              \n",
      "11488  Already broke. My grandson loved it but his brother broke it. So I will have to buy it again.                                                                                                                                                                                                                                                                                                                                                                                                                                                                                                                                                                                                                                                                                                                                                                                                                                                                                                                                                                                                                                                                                                                                                                                          \n",
      "\n",
      "       sentiment_score  model_CC  \n",
      "58     0.6459           1         \n",
      "204   -0.4588           1         \n",
      "332    0.6369           1         \n",
      "356    0.0000           1         \n",
      "393   -0.7409           1         \n",
      "401    0.0000           1         \n",
      "463    0.8047           1         \n",
      "554   -0.5490           1         \n",
      "559    0.8825           1         \n",
      "666    0.4588           1         \n",
      "953    0.9710           1         \n",
      "1021   0.5873           1         \n",
      "1034   0.0000           1         \n",
      "1153   0.2023           1         \n",
      "1370  -0.6892           1         \n",
      "1371   0.4388           1         \n",
      "1403   0.3716           1         \n",
      "1603  -0.3715           1         \n",
      "1649   0.6239           1         \n",
      "1654  -0.3071           1         \n",
      "1688   0.8061           1         \n",
      "1692   0.5633           1         \n",
      "1786   0.0000           1         \n",
      "1887   0.2960           1         \n",
      "2004   0.1439           1         \n",
      "2109   0.8176           1         \n",
      "2120   0.8934           1         \n",
      "2422  -0.2836           1         \n",
      "2429  -0.7707           1         \n",
      "2517   0.5904           1         \n",
      "2536   0.2023           1         \n",
      "2605  -0.3252           1         \n",
      "2689  -0.4678           1         \n",
      "2795   0.9136           1         \n",
      "2817   0.9298           1         \n",
      "2851   0.9742           1         \n",
      "2976   0.9080           1         \n",
      "3010   0.7902           1         \n",
      "3050  -0.5267           1         \n",
      "3095   0.9240           1         \n",
      "3102   0.9779           1         \n",
      "3194  -0.5114           1         \n",
      "3747   0.9710           1         \n",
      "3792   0.6300           1         \n",
      "3806   0.5719           1         \n",
      "4177   0.8069           1         \n",
      "4208   0.7096           1         \n",
      "4287   0.2023           1         \n",
      "4344   0.9749           1         \n",
      "4352   0.8419           1         \n",
      "4378   0.9223           1         \n",
      "4388   0.0000           1         \n",
      "4465   0.7529           1         \n",
      "4471   0.9350           1         \n",
      "4862   0.8625           1         \n",
      "5026   0.0000           1         \n",
      "5480   0.6369           1         \n",
      "5532  -0.7351           1         \n",
      "5936   0.6988           1         \n",
      "5964  -0.0770           1         \n",
      "6096  -0.4767           1         \n",
      "6537   0.4966           1         \n",
      "6637   0.8762           1         \n",
      "6956   0.6369           1         \n",
      "7019   0.1901           1         \n",
      "7146   0.0000           1         \n",
      "7149   0.6688           1         \n",
      "7204   0.9633           1         \n",
      "7216   0.6794           1         \n",
      "7459  -0.6496           1         \n",
      "7460  -0.2039           1         \n",
      "7715  -0.2263           1         \n",
      "7888   0.0000           1         \n",
      "8045   0.6369           1         \n",
      "8237   0.6774           1         \n",
      "8262  -0.6705           1         \n",
      "8266  -0.5181           1         \n",
      "8281   0.4570           1         \n",
      "8336   0.0000           1         \n",
      "8765   0.0000           1         \n",
      "8884   0.7699           1         \n",
      "8952  -0.2500           1         \n",
      "9074  -0.7753           1         \n",
      "9100   0.9010           1         \n",
      "9135   0.2960           1         \n",
      "9178  -0.5719           1         \n",
      "9499   0.9260           1         \n",
      "9732   0.8271           1         \n",
      "9803   0.0000           1         \n",
      "10109 -0.2732           1         \n",
      "10202 -0.5875           1         \n",
      "10426 -0.1759           1         \n",
      "10529 -0.1531           1         \n",
      "10587  0.9903           1         \n",
      "10869 -0.7187           1         \n",
      "10883  0.9358           1         \n",
      "11269  0.8921           1         \n",
      "11381  0.7501           1         \n",
      "11430  0.0000           1         \n",
      "11488 -0.4854           1"
     ]
    }
   ],
   "source": [
    "FP.head(100)"
   ]
  },
  {
   "cell_type": "code",
   "execution_count": 85,
   "metadata": {},
   "outputs": [
    {
     "data": {
      "application/vnd.jupyter.widget-view+json": {
       "model_id": "065893e0fde74bbc905dba703eff0623",
       "version_major": 2,
       "version_minor": 0
      },
      "text/plain": [
       "VBox()"
      ]
     },
     "metadata": {},
     "output_type": "display_data"
    },
    {
     "data": {
      "application/vnd.jupyter.widget-view+json": {
       "model_id": "",
       "version_major": 2,
       "version_minor": 0
      },
      "text/plain": [
       "FloatProgress(value=0.0, bar_style='info', description='Progress:', layout=Layout(height='25px', width='50%'),…"
      ]
     },
     "metadata": {},
     "output_type": "display_data"
    }
   ],
   "source": [
    "from pyspark.sql.types import *\n",
    "\n",
    "mySchema = StructType([StructField(\"UGC_ID\", StringType(), True)\\\n",
    ",StructField(\"NAME\", StringType(), True)\\\n",
    ",StructField(\"REVIEW_HEADLINE\", StringType(), True)\\\n",
    ",StructField(\"REVIEW_COMMENTS\", StringType(), True)\\\n",
    ",StructField(\"REVIEW_LENGTH\", FloatType(), True)\\\n",
    ",StructField(\"REVIEW_RATING\", StringType(), True)\\\n",
    ",StructField(\"REVIEW_WOULD_RECOMMEND\", BooleanType(), True)\\\n",
    ",StructField(\"CC\", IntegerType(), True)\\\n",
    ",StructField(\"ALL_TEXT\", StringType(), True)\\\n",
    ",StructField(\"sentiment_score\", FloatType(), True)\\\n",
    ",StructField(\"model_CC\", IntegerType(), True)])   \n",
    "\n"
   ]
  },
  {
   "cell_type": "code",
   "execution_count": null,
   "metadata": {},
   "outputs": [],
   "source": []
  },
  {
   "cell_type": "code",
   "execution_count": 86,
   "metadata": {},
   "outputs": [
    {
     "data": {
      "application/vnd.jupyter.widget-view+json": {
       "model_id": "82469f310d5c4e45860fdb564ecf24c7",
       "version_major": 2,
       "version_minor": 0
      },
      "text/plain": [
       "VBox()"
      ]
     },
     "metadata": {},
     "output_type": "display_data"
    },
    {
     "data": {
      "application/vnd.jupyter.widget-view+json": {
       "model_id": "",
       "version_major": 2,
       "version_minor": 0
      },
      "text/plain": [
       "FloatProgress(value=0.0, bar_style='info', description='Progress:', layout=Layout(height='25px', width='50%'),…"
      ]
     },
     "metadata": {},
     "output_type": "display_data"
    }
   ],
   "source": [
    "SNOWFLAKE_SOURCE_NAME = \"net.snowflake.spark.snowflake\"\n",
    "\n",
    "sfOptions = {\n",
    "  'sfURL' : 'powerreviews.snowflakecomputing.com',\n",
    "  'sfAccount' : 'powerreviews',\n",
    "  'sfUser' : username,\n",
    "  'sfPassword' : password,\n",
    "  'sfDatabase' : 'ANALYTICS_WORKSHOP',\n",
    "  'sfSchema' : 'DATA_SCIENCE',\n",
    "  'sfWarehouse' : 'LOWER_ENV_WAREHOUSE'\n",
    "}"
   ]
  },
  {
   "cell_type": "code",
   "execution_count": 90,
   "metadata": {},
   "outputs": [
    {
     "data": {
      "application/vnd.jupyter.widget-view+json": {
       "model_id": "b9199ccab3b24f8e866e057ff0780a06",
       "version_major": 2,
       "version_minor": 0
      },
      "text/plain": [
       "VBox()"
      ]
     },
     "metadata": {},
     "output_type": "display_data"
    },
    {
     "data": {
      "application/vnd.jupyter.widget-view+json": {
       "model_id": "",
       "version_major": 2,
       "version_minor": 0
      },
      "text/plain": [
       "FloatProgress(value=0.0, bar_style='info', description='Progress:', layout=Layout(height='25px', width='50%'),…"
      ]
     },
     "metadata": {},
     "output_type": "display_data"
    }
   ],
   "source": [
    "#Turn into spark dataframe in order to write to Snowflake\n",
    "#Couldn't get write_pandas() to work to write directly from pandas to Snowflake\n",
    "FP = spark.createDataFrame(FP, schema=mySchema)"
   ]
  },
  {
   "cell_type": "code",
   "execution_count": 91,
   "metadata": {},
   "outputs": [
    {
     "data": {
      "application/vnd.jupyter.widget-view+json": {
       "model_id": "fa4c46001f73436689163c4edddc80d6",
       "version_major": 2,
       "version_minor": 0
      },
      "text/plain": [
       "VBox()"
      ]
     },
     "metadata": {},
     "output_type": "display_data"
    },
    {
     "data": {
      "application/vnd.jupyter.widget-view+json": {
       "model_id": "",
       "version_major": 2,
       "version_minor": 0
      },
      "text/plain": [
       "FloatProgress(value=0.0, bar_style='info', description='Progress:', layout=Layout(height='25px', width='50%'),…"
      ]
     },
     "metadata": {},
     "output_type": "display_data"
    }
   ],
   "source": [
    "FP.write.format(SNOWFLAKE_SOURCE_NAME).options(**sfOptions) \\\n",
    "    .option(\"dbtable\",\"CC_FP_test5_sent75_char20\").mode(\"append\").save()\n"
   ]
  },
  {
   "cell_type": "code",
   "execution_count": null,
   "metadata": {},
   "outputs": [],
   "source": []
  },
  {
   "cell_type": "code",
   "execution_count": null,
   "metadata": {},
   "outputs": [],
   "source": []
  },
  {
   "cell_type": "code",
   "execution_count": null,
   "metadata": {},
   "outputs": [],
   "source": []
  },
  {
   "cell_type": "code",
   "execution_count": null,
   "metadata": {},
   "outputs": [],
   "source": []
  },
  {
   "cell_type": "code",
   "execution_count": null,
   "metadata": {},
   "outputs": [],
   "source": []
  },
  {
   "cell_type": "code",
   "execution_count": 54,
   "metadata": {},
   "outputs": [
    {
     "data": {
      "application/vnd.jupyter.widget-view+json": {
       "model_id": "ab5bedaf59e640a9b5eb5fe3fcc894b3",
       "version_major": 2,
       "version_minor": 0
      },
      "text/plain": [
       "VBox()"
      ]
     },
     "metadata": {},
     "output_type": "display_data"
    },
    {
     "data": {
      "application/vnd.jupyter.widget-view+json": {
       "model_id": "",
       "version_major": 2,
       "version_minor": 0
      },
      "text/plain": [
       "FloatProgress(value=0.0, bar_style='info', description='Progress:', layout=Layout(height='25px', width='50%'),…"
      ]
     },
     "metadata": {},
     "output_type": "display_data"
    },
    {
     "name": "stdout",
     "output_type": "stream",
     "text": [
      "<snowflake.connector.cursor.SnowflakeCursor object at 0x7f90394db3d0>"
     ]
    }
   ],
   "source": [
    "conn.cursor().execute(\"drop table if exists ANALYTICS_WORKSHOP.DATA_SCIENCE.TST_FN_test1\")\n",
    "conn.cursor().execute(\"drop table if exists ANALYTICS_WORKSHOP.DATA_SCIENCE.TST_FP_test1\")\n"
   ]
  },
  {
   "cell_type": "code",
   "execution_count": null,
   "metadata": {},
   "outputs": [],
   "source": []
  },
  {
   "cell_type": "code",
   "execution_count": null,
   "metadata": {},
   "outputs": [],
   "source": []
  },
  {
   "cell_type": "code",
   "execution_count": null,
   "metadata": {},
   "outputs": [],
   "source": []
  },
  {
   "cell_type": "code",
   "execution_count": null,
   "metadata": {},
   "outputs": [],
   "source": []
  },
  {
   "cell_type": "code",
   "execution_count": null,
   "metadata": {},
   "outputs": [],
   "source": []
  }
 ],
 "metadata": {
  "kernelspec": {
   "display_name": "PySpark",
   "language": "",
   "name": "pysparkkernel"
  },
  "language_info": {
   "codemirror_mode": {
    "name": "python",
    "version": 2
   },
   "mimetype": "text/x-python",
   "name": "pyspark",
   "pygments_lexer": "python2"
  }
 },
 "nbformat": 4,
 "nbformat_minor": 4
}
