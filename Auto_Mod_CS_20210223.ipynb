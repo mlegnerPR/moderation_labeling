{
 "cells": [
  {
   "cell_type": "code",
   "execution_count": 1,
   "metadata": {},
   "outputs": [
    {
     "data": {
      "application/vnd.jupyter.widget-view+json": {
       "model_id": "8956e982ed314eb988c576076d42d165",
       "version_major": 2,
       "version_minor": 0
      },
      "text/plain": [
       "VBox()"
      ]
     },
     "metadata": {},
     "output_type": "display_data"
    },
    {
     "name": "stdout",
     "output_type": "stream",
     "text": [
      "Starting Spark application\n"
     ]
    },
    {
     "data": {
      "text/html": [
       "<table>\n",
       "<tr><th>ID</th><th>YARN Application ID</th><th>Kind</th><th>State</th><th>Spark UI</th><th>Driver log</th><th>Current session?</th></tr><tr><td>2</td><td>application_1614090815143_0003</td><td>pyspark</td><td>idle</td><td><a target=\"_blank\" href=\"http://ip-10-101-215-118.us-west-2.compute.internal:20888/proxy/application_1614090815143_0003/\">Link</a></td><td><a target=\"_blank\" href=\"http://ip-10-101-215-118.us-west-2.compute.internal:8042/node/containerlogs/container_1614090815143_0003_01_000001/livy\">Link</a></td><td>✔</td></tr></table>"
      ],
      "text/plain": [
       "<IPython.core.display.HTML object>"
      ]
     },
     "metadata": {},
     "output_type": "display_data"
    },
    {
     "data": {
      "application/vnd.jupyter.widget-view+json": {
       "model_id": "",
       "version_major": 2,
       "version_minor": 0
      },
      "text/plain": [
       "FloatProgress(value=0.0, bar_style='info', description='Progress:', layout=Layout(height='25px', width='50%'),…"
      ]
     },
     "metadata": {},
     "output_type": "display_data"
    },
    {
     "name": "stdout",
     "output_type": "stream",
     "text": [
      "SparkSession available as 'spark'.\n"
     ]
    },
    {
     "data": {
      "application/vnd.jupyter.widget-view+json": {
       "model_id": "",
       "version_major": 2,
       "version_minor": 0
      },
      "text/plain": [
       "FloatProgress(value=0.0, bar_style='info', description='Progress:', layout=Layout(height='25px', width='50%'),…"
      ]
     },
     "metadata": {},
     "output_type": "display_data"
    }
   ],
   "source": [
    "#Import packages\n",
    "import numpy as np\n",
    "from numpy import argmax\n",
    "import pyspark.sql.functions as F\n",
    "import snowflake.connector\n",
    "import pandas as pd\n",
    "import spacy\n",
    "#from sparknlp.base import Finisher, DocumentAssembler\n",
    "#from sparknlp.annotator import  Normalizer, LemmatizerModel, StopWordsCleaner, Tokenizer\n",
    "#from pyspark.ml import Pipeline\n",
    "#from pyspark.ml.feature import CountVectorizer, VectorAssembler, HashingTF, IDF, Tokenizer\n",
    "#from nltk.corpus import stopwords\n",
    "from sklearn.feature_extraction.text import TfidfVectorizer\n",
    "from sklearn.model_selection import train_test_split\n",
    "from scipy import sparse\n",
    "from sklearn.linear_model import LogisticRegression\n",
    "from sklearn import svm\n",
    "from sklearn.multiclass import OneVsRestClassifier\n",
    "from sklearn import metrics\n",
    "from sklearn.metrics import f1_score, accuracy_score, recall_score, precision_score, confusion_matrix, plot_confusion_matrix, \\\n",
    "                            roc_curve, auc, classification_report, precision_recall_curve\n",
    "import matplotlib.pyplot as plt\n",
    "import boto3\n",
    "import json"
   ]
  },
  {
   "cell_type": "code",
   "execution_count": 2,
   "metadata": {},
   "outputs": [
    {
     "data": {
      "application/vnd.jupyter.widget-view+json": {
       "model_id": "69330c83fc884c99a4af570b1ddd2fdb",
       "version_major": 2,
       "version_minor": 0
      },
      "text/plain": [
       "VBox()"
      ]
     },
     "metadata": {},
     "output_type": "display_data"
    },
    {
     "data": {
      "application/vnd.jupyter.widget-view+json": {
       "model_id": "",
       "version_major": 2,
       "version_minor": 0
      },
      "text/plain": [
       "FloatProgress(value=0.0, bar_style='info', description='Progress:', layout=Layout(height='25px', width='50%'),…"
      ]
     },
     "metadata": {},
     "output_type": "display_data"
    }
   ],
   "source": [
    "sm_client = boto3.client('secretsmanager',region_name='us-west-2')\n",
    "secret_value = sm_client.get_secret_value(SecretId = 'emr_spark_qa')\n",
    "username = json.loads(secret_value['SecretString'])['emr_spark_username']\n",
    "password = json.loads(secret_value['SecretString'])['emr_spark_password']\n",
    "\n",
    "#SPARK connection info\n",
    "sfOptions = {\n",
    "  'sfURL' : 'powerreviews.snowflakecomputing.com',\n",
    "  'sfAccount' : 'powerreviews',\n",
    "  'sfUser' : username,\n",
    "  'sfPassword' : password,\n",
    "  'sfDatabase' : 'ANALYTICS_PROD',\n",
    "  'sfSchema' : 'ANALYTICS',\n",
    "  'sfWarehouse' : 'LOWER_ENV_WAREHOUSE'\n",
    "}\n",
    "SNOWFLAKE_SOURCE_NAME = \"net.snowflake.spark.snowflake\"\n",
    "\n",
    "#PYTHON connection info\n",
    "conn = snowflake.connector.connect(\n",
    "    account='powerreviews',\n",
    "    database='analytics_prod',\n",
    "    warehouse='LOWER_ENV_WAREHOUSE',\n",
    "    user=username,\n",
    "    password=password\n",
    "    )\n"
   ]
  },
  {
   "cell_type": "code",
   "execution_count": 3,
   "metadata": {},
   "outputs": [
    {
     "data": {
      "application/vnd.jupyter.widget-view+json": {
       "model_id": "1482c40640db4ba2b615f1826bd64190",
       "version_major": 2,
       "version_minor": 0
      },
      "text/plain": [
       "VBox()"
      ]
     },
     "metadata": {},
     "output_type": "display_data"
    },
    {
     "data": {
      "application/vnd.jupyter.widget-view+json": {
       "model_id": "",
       "version_major": 2,
       "version_minor": 0
      },
      "text/plain": [
       "FloatProgress(value=0.0, bar_style='info', description='Progress:', layout=Layout(height='25px', width='50%'),…"
      ]
     },
     "metadata": {},
     "output_type": "display_data"
    }
   ],
   "source": [
    "#Use review data set to get observation codes bc they are already comma separated and less joins to perform\n",
    "#Still need observation set though to get observation created date\n",
    "#This is bc review could be from ages ago but we could have imported recently and moderated it\n",
    "#Want to make sure we include as many observation labels as possible for most accurate model\n",
    "\n"
   ]
  },
  {
   "cell_type": "code",
   "execution_count": 4,
   "metadata": {},
   "outputs": [
    {
     "data": {
      "application/vnd.jupyter.widget-view+json": {
       "model_id": "be063077532048598e297239c75ce56c",
       "version_major": 2,
       "version_minor": 0
      },
      "text/plain": [
       "VBox()"
      ]
     },
     "metadata": {},
     "output_type": "display_data"
    },
    {
     "data": {
      "application/vnd.jupyter.widget-view+json": {
       "model_id": "",
       "version_major": 2,
       "version_minor": 0
      },
      "text/plain": [
       "FloatProgress(value=0.0, bar_style='info', description='Progress:', layout=Layout(height='25px', width='50%'),…"
      ]
     },
     "metadata": {},
     "output_type": "display_data"
    }
   ],
   "source": [
    "query = \"select distinct r.ugc_id, r.created_date, r.review_headline, r.review_rating, \\\n",
    "r.review_comments, r.review_rating, r.reviewer_nickname, r.locale, r.observations, \\\n",
    "ADD IN CASE WHEN HERE \\\n",
    "from analytics.review as r \\\n",
    "left join cdm.observation as o \\\n",
    "on r.ugc_id = o.ugc_id \\\n",
    "where contains(r.observations, 'PM') \\\n",
    "and r.locale in ('en_US','en_GB','en_CA') \\\n",
    "and o.created_date > '2020-09-23'  \\\n",
    "limit 100\""
   ]
  },
  {
   "cell_type": "code",
   "execution_count": 5,
   "metadata": {},
   "outputs": [
    {
     "data": {
      "application/vnd.jupyter.widget-view+json": {
       "model_id": "b5b6c126e62848ebb01a8167baed6992",
       "version_major": 2,
       "version_minor": 0
      },
      "text/plain": [
       "VBox()"
      ]
     },
     "metadata": {},
     "output_type": "display_data"
    },
    {
     "data": {
      "application/vnd.jupyter.widget-view+json": {
       "model_id": "",
       "version_major": 2,
       "version_minor": 0
      },
      "text/plain": [
       "FloatProgress(value=0.0, bar_style='info', description='Progress:', layout=Layout(height='25px', width='50%'),…"
      ]
     },
     "metadata": {},
     "output_type": "display_data"
    }
   ],
   "source": [
    "#Careful not to get CNR for NR\n",
    "#CNR, NR, PM - contains(r.observations, ',NR,')\n",
    "#NR, PM - substring(r.observations, 1, 2) = 'NR'\n",
    "#CNR, PM - DONT WANT\n",
    "\n",
    "query_testing = \"select distinct r.ugc_id,  r.review_headline, r.review_comments, r.review_rating, \\\n",
    "case when (contains(r.observations, ',NR,') or substring(r.observations, 1, 2) = 'NR')  then 1 else 0 end as NR, \\\n",
    "case when contains(r.observations, 'CS') then 1 else 0 end as CS \\\n",
    "from analytics.review as r \\\n",
    "where r.locale in ('en_US','en_GB','en_CA') and contains(r.observations, 'PM') and not contains(r.observations, 'IA') and not contains(r.observations, 'IR') \\\n",
    "and (contains(r.observations, ',NR,') or substring(r.observations, 1, 2) = 'NR') \\\n",
    "and r.created_date > '2020-01-01' \\\n",
    " \""
   ]
  },
  {
   "cell_type": "code",
   "execution_count": 6,
   "metadata": {},
   "outputs": [
    {
     "data": {
      "application/vnd.jupyter.widget-view+json": {
       "model_id": "aa24053e63aa4902aed7c4e9e33e0adc",
       "version_major": 2,
       "version_minor": 0
      },
      "text/plain": [
       "VBox()"
      ]
     },
     "metadata": {},
     "output_type": "display_data"
    },
    {
     "data": {
      "application/vnd.jupyter.widget-view+json": {
       "model_id": "",
       "version_major": 2,
       "version_minor": 0
      },
      "text/plain": [
       "FloatProgress(value=0.0, bar_style='info', description='Progress:', layout=Layout(height='25px', width='50%'),…"
      ]
     },
     "metadata": {},
     "output_type": "display_data"
    },
    {
     "name": "stdout",
     "output_type": "stream",
     "text": [
      "       UGC_ID                                    REVIEW_HEADLINE  ... NR  CS\n",
      "0   325845322                        Sorry Lush, this was a miss  ...  1   0\n",
      "1   325834628                                                123  ...  1   0\n",
      "2   325798771                                                 At  ...  1   0\n",
      "3   325679679                        JUVIA'S PLACE IS UNRELIABLE  ...  1   0\n",
      "4   325850503                                                 NA  ...  1   0\n",
      "..        ...                                                ...  ... ..  ..\n",
      "95  267929609                           Gemini players can't cue  ...  1   0\n",
      "96  308350541                         Really tastes like a smore  ...  1   0\n",
      "97  308360371                              Hasn't been delivered  ...  1   1\n",
      "98  308358511  Cheaper than Dirt? 199? Why does anyone patron...  ...  1   0\n",
      "99  308346164                        Customer Service really bad  ...  1   0\n",
      "\n",
      "[100 rows x 6 columns]"
     ]
    }
   ],
   "source": [
    "#pd.set_option('display.max_colwidth', -1)\n",
    "#pd.set_option('display.max_columns', None)\n",
    "#pd.set_option('display.max_rows', None)\n",
    "reviews = pd.read_sql(query_testing, conn)\n",
    "reviews.head(100)\n",
    "#reviews.info()\n"
   ]
  },
  {
   "cell_type": "code",
   "execution_count": 7,
   "metadata": {},
   "outputs": [
    {
     "data": {
      "application/vnd.jupyter.widget-view+json": {
       "model_id": "3df9797647eb43589179490fab31ed62",
       "version_major": 2,
       "version_minor": 0
      },
      "text/plain": [
       "VBox()"
      ]
     },
     "metadata": {},
     "output_type": "display_data"
    },
    {
     "data": {
      "application/vnd.jupyter.widget-view+json": {
       "model_id": "",
       "version_major": 2,
       "version_minor": 0
      },
      "text/plain": [
       "FloatProgress(value=0.0, bar_style='info', description='Progress:', layout=Layout(height='25px', width='50%'),…"
      ]
     },
     "metadata": {},
     "output_type": "display_data"
    },
    {
     "name": "stdout",
     "output_type": "stream",
     "text": [
      "<class 'pandas.core.frame.DataFrame'>\n",
      "RangeIndex: 409912 entries, 0 to 409911\n",
      "Data columns (total 6 columns):\n",
      " #   Column           Non-Null Count   Dtype \n",
      "---  ------           --------------   ----- \n",
      " 0   UGC_ID           409912 non-null  int64 \n",
      " 1   REVIEW_HEADLINE  409912 non-null  object\n",
      " 2   REVIEW_COMMENTS  409640 non-null  object\n",
      " 3   REVIEW_RATING    409912 non-null  int64 \n",
      " 4   NR               409912 non-null  int64 \n",
      " 5   CS               409912 non-null  int64 \n",
      "dtypes: int64(4), object(2)\n",
      "memory usage: 18.8+ MB"
     ]
    }
   ],
   "source": [
    "reviews.info()"
   ]
  },
  {
   "cell_type": "code",
   "execution_count": 8,
   "metadata": {},
   "outputs": [
    {
     "data": {
      "application/vnd.jupyter.widget-view+json": {
       "model_id": "6a3e86e7872c4fb7a3fa289f2ec96974",
       "version_major": 2,
       "version_minor": 0
      },
      "text/plain": [
       "VBox()"
      ]
     },
     "metadata": {},
     "output_type": "display_data"
    },
    {
     "data": {
      "application/vnd.jupyter.widget-view+json": {
       "model_id": "",
       "version_major": 2,
       "version_minor": 0
      },
      "text/plain": [
       "FloatProgress(value=0.0, bar_style='info', description='Progress:', layout=Layout(height='25px', width='50%'),…"
      ]
     },
     "metadata": {},
     "output_type": "display_data"
    }
   ],
   "source": [
    "query_testing_2 = \"select distinct r.ugc_id,  r.review_headline, r.review_comments, r.review_rating, \\\n",
    "case when (contains(r.observations, ',NR,') or substring(r.observations, 1, 2) = 'NR')  then 1 else 0 end as NR, \\\n",
    "case when contains(r.observations, 'CS') then 1 else 0 end as CS \\\n",
    "from analytics.review as r \\\n",
    "where r.locale in ('en_US','en_GB','en_CA') and contains(r.observations, 'PM') and not contains(r.observations, 'IA') and not contains(r.observations, 'IR') \\\n",
    "and not contains(r.observations, ',NR,') and substring(r.observations, 1, 2) != 'NR' \\\n",
    "and r.created_date > '2020-01-01' \\\n",
    " \""
   ]
  },
  {
   "cell_type": "code",
   "execution_count": 9,
   "metadata": {},
   "outputs": [
    {
     "data": {
      "application/vnd.jupyter.widget-view+json": {
       "model_id": "e998bb3f01554016834db57225cec4fc",
       "version_major": 2,
       "version_minor": 0
      },
      "text/plain": [
       "VBox()"
      ]
     },
     "metadata": {},
     "output_type": "display_data"
    },
    {
     "data": {
      "application/vnd.jupyter.widget-view+json": {
       "model_id": "",
       "version_major": 2,
       "version_minor": 0
      },
      "text/plain": [
       "FloatProgress(value=0.0, bar_style='info', description='Progress:', layout=Layout(height='25px', width='50%'),…"
      ]
     },
     "metadata": {},
     "output_type": "display_data"
    },
    {
     "name": "stdout",
     "output_type": "stream",
     "text": [
      "<class 'pandas.core.frame.DataFrame'>\n",
      "RangeIndex: 8265498 entries, 0 to 8265497\n",
      "Data columns (total 6 columns):\n",
      " #   Column           Dtype \n",
      "---  ------           ----- \n",
      " 0   UGC_ID           int64 \n",
      " 1   REVIEW_HEADLINE  object\n",
      " 2   REVIEW_COMMENTS  object\n",
      " 3   REVIEW_RATING    int64 \n",
      " 4   NR               int64 \n",
      " 5   CS               int64 \n",
      "dtypes: int64(4), object(2)\n",
      "memory usage: 378.4+ MB"
     ]
    }
   ],
   "source": [
    "reviews_2 = pd.read_sql(query_testing_2, conn)\n",
    "reviews_2.head(100)\n",
    "reviews_2.info()"
   ]
  },
  {
   "cell_type": "code",
   "execution_count": 10,
   "metadata": {},
   "outputs": [
    {
     "data": {
      "application/vnd.jupyter.widget-view+json": {
       "model_id": "45fa0f7a805d422f869d88e8f5b86b3f",
       "version_major": 2,
       "version_minor": 0
      },
      "text/plain": [
       "VBox()"
      ]
     },
     "metadata": {},
     "output_type": "display_data"
    },
    {
     "data": {
      "application/vnd.jupyter.widget-view+json": {
       "model_id": "",
       "version_major": 2,
       "version_minor": 0
      },
      "text/plain": [
       "FloatProgress(value=0.0, bar_style='info', description='Progress:', layout=Layout(height='25px', width='50%'),…"
      ]
     },
     "metadata": {},
     "output_type": "display_data"
    }
   ],
   "source": [
    "#Using limit 500000 is not random, pull in all w/ no labels and then take random sample from there\n",
    "from random import sample \n",
    "reviews_3 = reviews_2.sample(n=409912, random_state=1)"
   ]
  },
  {
   "cell_type": "code",
   "execution_count": null,
   "metadata": {},
   "outputs": [],
   "source": []
  },
  {
   "cell_type": "code",
   "execution_count": 11,
   "metadata": {},
   "outputs": [
    {
     "data": {
      "application/vnd.jupyter.widget-view+json": {
       "model_id": "5460d33f8273431c8fdc811a5743576f",
       "version_major": 2,
       "version_minor": 0
      },
      "text/plain": [
       "VBox()"
      ]
     },
     "metadata": {},
     "output_type": "display_data"
    },
    {
     "data": {
      "application/vnd.jupyter.widget-view+json": {
       "model_id": "",
       "version_major": 2,
       "version_minor": 0
      },
      "text/plain": [
       "FloatProgress(value=0.0, bar_style='info', description='Progress:', layout=Layout(height='25px', width='50%'),…"
      ]
     },
     "metadata": {},
     "output_type": "display_data"
    },
    {
     "name": "stdout",
     "output_type": "stream",
     "text": [
      "0"
     ]
    }
   ],
   "source": [
    "reviews_3['NR'].sum(axis=0)\n",
    "#reviews_2[reviews_2['NR']==1]"
   ]
  },
  {
   "cell_type": "code",
   "execution_count": 12,
   "metadata": {},
   "outputs": [
    {
     "data": {
      "application/vnd.jupyter.widget-view+json": {
       "model_id": "7655d7bec16241bd91e8d864af71743f",
       "version_major": 2,
       "version_minor": 0
      },
      "text/plain": [
       "VBox()"
      ]
     },
     "metadata": {},
     "output_type": "display_data"
    },
    {
     "data": {
      "application/vnd.jupyter.widget-view+json": {
       "model_id": "",
       "version_major": 2,
       "version_minor": 0
      },
      "text/plain": [
       "FloatProgress(value=0.0, bar_style='info', description='Progress:', layout=Layout(height='25px', width='50%'),…"
      ]
     },
     "metadata": {},
     "output_type": "display_data"
    },
    {
     "name": "stdout",
     "output_type": "stream",
     "text": [
      "            UGC_ID                    REVIEW_HEADLINE  ... NR  CS\n",
      "0        325845322        Sorry Lush, this was a miss  ...  1   0\n",
      "1        325834628                                123  ...  1   0\n",
      "2        325798771                                 At  ...  1   0\n",
      "3        325679679        JUVIA'S PLACE IS UNRELIABLE  ...  1   0\n",
      "4        325850503                                 NA  ...  1   0\n",
      "...            ...                                ...  ... ..  ..\n",
      "8119672  320509267                   Soft and Snuggly  ...  0   0\n",
      "7079250  330443188                    Beautiful jeans  ...  0   0\n",
      "4654549  283718278                 Excellent growbags  ...  0   0\n",
      "4998494  280960452                        Undisclosed  ...  0   0\n",
      "3714463  285128863  Like finding water in the desert.  ...  0   0\n",
      "\n",
      "[819824 rows x 6 columns]"
     ]
    }
   ],
   "source": [
    "reviews = pd.concat([reviews, reviews_3], axis=0)\n",
    "reviews"
   ]
  },
  {
   "cell_type": "code",
   "execution_count": 13,
   "metadata": {},
   "outputs": [
    {
     "data": {
      "application/vnd.jupyter.widget-view+json": {
       "model_id": "8a19c14bd1154988a83a820a9cc942b3",
       "version_major": 2,
       "version_minor": 0
      },
      "text/plain": [
       "VBox()"
      ]
     },
     "metadata": {},
     "output_type": "display_data"
    },
    {
     "data": {
      "application/vnd.jupyter.widget-view+json": {
       "model_id": "",
       "version_major": 2,
       "version_minor": 0
      },
      "text/plain": [
       "FloatProgress(value=0.0, bar_style='info', description='Progress:', layout=Layout(height='25px', width='50%'),…"
      ]
     },
     "metadata": {},
     "output_type": "display_data"
    },
    {
     "name": "stdout",
     "output_type": "stream",
     "text": [
      "409912"
     ]
    }
   ],
   "source": [
    "reviews['NR'].sum(axis=0)"
   ]
  },
  {
   "cell_type": "code",
   "execution_count": 14,
   "metadata": {},
   "outputs": [
    {
     "data": {
      "application/vnd.jupyter.widget-view+json": {
       "model_id": "cf9e466307a141818a4a7ca3f8d2e948",
       "version_major": 2,
       "version_minor": 0
      },
      "text/plain": [
       "VBox()"
      ]
     },
     "metadata": {},
     "output_type": "display_data"
    },
    {
     "data": {
      "application/vnd.jupyter.widget-view+json": {
       "model_id": "",
       "version_major": 2,
       "version_minor": 0
      },
      "text/plain": [
       "FloatProgress(value=0.0, bar_style='info', description='Progress:', layout=Layout(height='25px', width='50%'),…"
      ]
     },
     "metadata": {},
     "output_type": "display_data"
    },
    {
     "name": "stdout",
     "output_type": "stream",
     "text": [
      "<class 'pandas.core.frame.DataFrame'>\n",
      "Int64Index: 819824 entries, 0 to 3714463\n",
      "Data columns (total 6 columns):\n",
      " #   Column           Non-Null Count   Dtype \n",
      "---  ------           --------------   ----- \n",
      " 0   UGC_ID           819824 non-null  int64 \n",
      " 1   REVIEW_HEADLINE  819824 non-null  object\n",
      " 2   REVIEW_COMMENTS  819504 non-null  object\n",
      " 3   REVIEW_RATING    819824 non-null  int64 \n",
      " 4   NR               819824 non-null  int64 \n",
      " 5   CS               819824 non-null  int64 \n",
      "dtypes: int64(4), object(2)\n",
      "memory usage: 43.8+ MB"
     ]
    }
   ],
   "source": [
    "reviews.info()"
   ]
  },
  {
   "cell_type": "code",
   "execution_count": 15,
   "metadata": {},
   "outputs": [
    {
     "data": {
      "application/vnd.jupyter.widget-view+json": {
       "model_id": "5810e7744a174260a8ebf3a002b0b14a",
       "version_major": 2,
       "version_minor": 0
      },
      "text/plain": [
       "VBox()"
      ]
     },
     "metadata": {},
     "output_type": "display_data"
    },
    {
     "data": {
      "application/vnd.jupyter.widget-view+json": {
       "model_id": "",
       "version_major": 2,
       "version_minor": 0
      },
      "text/plain": [
       "FloatProgress(value=0.0, bar_style='info', description='Progress:', layout=Layout(height='25px', width='50%'),…"
      ]
     },
     "metadata": {},
     "output_type": "display_data"
    },
    {
     "name": "stdout",
     "output_type": "stream",
     "text": [
      "<string>:5: FutureWarning: Passing a negative integer is deprecated in version 1.0 and will not be supported in future version. Instead, use None to not limit the column width."
     ]
    }
   ],
   "source": [
    "#reviews['ALL_TEXT'] = 'headline ' + reviews['REVIEW_HEADLINE'] + ' comment ' + reviews['REVIEW_COMMENTS'] + \\\n",
    "#        ' nickname ' + reviews['REVIEWER_NICKNAME'] + ' location ' + reviews['REVIEWER_LOCATION']\n",
    "reviews['ALL_TEXT'] =  reviews['REVIEW_HEADLINE']  + ' ' + reviews['REVIEW_COMMENTS']\n",
    "#Use set_option so text doesn't truncate\n",
    "pd.set_option('display.max_colwidth', -1)\n",
    "pd.set_option('display.max_columns', None)\n",
    "#reviews.head(100)\n",
    "\n",
    "#reviews.dtypes"
   ]
  },
  {
   "cell_type": "code",
   "execution_count": 16,
   "metadata": {},
   "outputs": [
    {
     "data": {
      "application/vnd.jupyter.widget-view+json": {
       "model_id": "d4722d1c35fd460b866e98bb3e971b4a",
       "version_major": 2,
       "version_minor": 0
      },
      "text/plain": [
       "VBox()"
      ]
     },
     "metadata": {},
     "output_type": "display_data"
    },
    {
     "data": {
      "application/vnd.jupyter.widget-view+json": {
       "model_id": "",
       "version_major": 2,
       "version_minor": 0
      },
      "text/plain": [
       "FloatProgress(value=0.0, bar_style='info', description='Progress:', layout=Layout(height='25px', width='50%'),…"
      ]
     },
     "metadata": {},
     "output_type": "display_data"
    },
    {
     "name": "stdout",
     "output_type": "stream",
     "text": [
      "<class 'pandas.core.frame.DataFrame'>\n",
      "Int64Index: 819824 entries, 0 to 3714463\n",
      "Data columns (total 7 columns):\n",
      " #   Column           Non-Null Count   Dtype \n",
      "---  ------           --------------   ----- \n",
      " 0   UGC_ID           819824 non-null  int64 \n",
      " 1   REVIEW_HEADLINE  819824 non-null  object\n",
      " 2   REVIEW_COMMENTS  819504 non-null  object\n",
      " 3   REVIEW_RATING    819824 non-null  int64 \n",
      " 4   NR               819824 non-null  int64 \n",
      " 5   CS               819824 non-null  int64 \n",
      " 6   ALL_TEXT         819504 non-null  object\n",
      "dtypes: int64(4), object(3)\n",
      "memory usage: 50.0+ MB"
     ]
    }
   ],
   "source": [
    "reviews.info()"
   ]
  },
  {
   "cell_type": "code",
   "execution_count": 17,
   "metadata": {},
   "outputs": [
    {
     "data": {
      "application/vnd.jupyter.widget-view+json": {
       "model_id": "0857c67f03894af49121c0fac1d95b47",
       "version_major": 2,
       "version_minor": 0
      },
      "text/plain": [
       "VBox()"
      ]
     },
     "metadata": {},
     "output_type": "display_data"
    },
    {
     "data": {
      "application/vnd.jupyter.widget-view+json": {
       "model_id": "",
       "version_major": 2,
       "version_minor": 0
      },
      "text/plain": [
       "FloatProgress(value=0.0, bar_style='info', description='Progress:', layout=Layout(height='25px', width='50%'),…"
      ]
     },
     "metadata": {},
     "output_type": "display_data"
    },
    {
     "name": "stdout",
     "output_type": "stream",
     "text": [
      "            UGC_ID                    REVIEW_HEADLINE  \\\n",
      "0        325845322  Sorry Lush, this was a miss         \n",
      "1        325834628  123                                 \n",
      "2        325798771  At                                  \n",
      "3        325679679  JUVIA'S PLACE IS UNRELIABLE         \n",
      "4        325850503  NA                                  \n",
      "...            ...  ..                                  \n",
      "8119672  320509267  Soft and Snuggly                    \n",
      "7079250  330443188  Beautiful jeans                     \n",
      "4654549  283718278  Excellent growbags                  \n",
      "4998494  280960452  Undisclosed                         \n",
      "3714463  285128863  Like finding water in the desert.   \n",
      "\n",
      "                                                                                                                                                                                                                                                                                                                                                                                                                                                                                                                                                                                                                                                                                                                                                                                                                                                                                                                                                                                                                                           REVIEW_COMMENTS  \\\n",
      "0        So, this is one of my favorite scents (that comes in a naked body lotion format). So, when it came back this year, I ordered a bunch of them. The smell is the same, which is great.\\n\\nNow onto the issue. I don't know what changed in the formula, but it does not rub into your skin. If you try to apply it to skin that has any moisture (so, say you towel dry after a shower, but you aren't completely Sahara desert dry), it's like this sticky, glue-like texture that won't rub in, and it takes a lot of work to get off of your skin. It doesn't \"melt\" into your skin like previous recipes do. This one is awful. I really don't know what else to compare it to other than a cheap glue stick. \\n\\nLush did contact me back about the first order, and it was replaced with another batch of them. The new batch did the same thing. I'm super bummed about these ones, because I truly hate the other smells offered in these year around. So, I usually stick up on these for the year :( So, I'm just super bummed overall :/   \n",
      "1        123                                                                                                                                                                                                                                                                                                                                                                                                                                                                                                                                                                                                                                                                                                                                                                                                                                                                                                                                                                                                                                                 \n",
      "2        At                                                                                                                                                                                                                                                                                                                                                                                                                                                                                                                                                                                                                                                                                                                                                                                                                                                                                                                                                                                                                                                  \n",
      "3        The product never came! Juvias Place never respond to Instagram DM. They will leave you on seen. They also never respond to e-mails. My tracking number is invalid. They never resolved this issue on time and I am still waiting.                                                                                                                                                                                                                                                                                                                                                                                                                                                                                                                                                                                                                                                                                                                                                                                                                  \n",
      "4        NA                                                                                                                                                                                                                                                                                                                                                                                                                                                                                                                                                                                                                                                                                                                                                                                                                                                                                                                                                                                                                                                  \n",
      "...      ..                                                                                                                                                                                                                                                                                                                                                                                                                                                                                                                                                                                                                                                                                                                                                                                                                                                                                                                                                                                                                                                  \n",
      "8119672  The Sherpa Jacket for toddlers is a great jacket for colder weather. It is well made and is super soft. The jacket keeps my three year old warm. The dark block color against the lighter grey color is a nice design. I am very happy with this purchase. Thank you!                                                                                                                                                                                                                                                                                                                                                                                                                                                                                                                                                                                                                                                                                                                                                                               \n",
      "7079250  These jeans are absolutely gorgeous for my little girl - they look really comfortable with the soft elasticated waistline and they're so easy to get on and off independently for littlies. I've dropped a star but only because they are a very baggy style which swamp my skinny little girl a bit, but the waist is a perfect fit and they look so durable and comfy that we can cope with her little clown legs!!! She adores the heart pockets - a lovely touch.                                                                                                                                                                                                                                                                                                                                                                                                                                                                                                                                                                               \n",
      "4654549  Great big long bags for my tomatoes at a great price and great services from staff                                                                                                                                                                                                                                                                                                                                                                                                                                                                                                                                                                                                                                                                                                                                                                                                                                                                                                                                                                  \n",
      "4998494  Everyone was very professional and kind!  I felt safe during my wait.                                                                                                                                                                                                                                                                                                                                                                                                                                                                                                                                                                                                                                                                                                                                                                                                                                                                                                                                                                               \n",
      "3714463  In the middle of the pandemic this was a gold mine. The rolls are huge as well so they last longer.                                                                                                                                                                                                                                                                                                                                                                                                                                                                                                                                                                                                                                                                                                                                                                                                                                                                                                                                                 \n",
      "\n",
      "         REVIEW_RATING  CS  \\\n",
      "0        1              0    \n",
      "1        5              0    \n",
      "2        5              0    \n",
      "3        1              0    \n",
      "4        5              0    \n",
      "...     ..             ..    \n",
      "8119672  5              0    \n",
      "7079250  4              0    \n",
      "4654549  5              0    \n",
      "4998494  5              0    \n",
      "3714463  5              0    \n",
      "\n",
      "                                                                                                                                                                                                                                                                                                                                                                                                                                                                                                                                                                                                                                                                                                                                                                                                                                                                                                                                                                                                                                                                              ALL_TEXT  \n",
      "0        Sorry Lush, this was a miss So, this is one of my favorite scents (that comes in a naked body lotion format). So, when it came back this year, I ordered a bunch of them. The smell is the same, which is great.\\n\\nNow onto the issue. I don't know what changed in the formula, but it does not rub into your skin. If you try to apply it to skin that has any moisture (so, say you towel dry after a shower, but you aren't completely Sahara desert dry), it's like this sticky, glue-like texture that won't rub in, and it takes a lot of work to get off of your skin. It doesn't \"melt\" into your skin like previous recipes do. This one is awful. I really don't know what else to compare it to other than a cheap glue stick. \\n\\nLush did contact me back about the first order, and it was replaced with another batch of them. The new batch did the same thing. I'm super bummed about these ones, because I truly hate the other smells offered in these year around. So, I usually stick up on these for the year :( So, I'm just super bummed overall :/  \n",
      "1        123 123                                                                                                                                                                                                                                                                                                                                                                                                                                                                                                                                                                                                                                                                                                                                                                                                                                                                                                                                                                                                                                                                        \n",
      "2        At At                                                                                                                                                                                                                                                                                                                                                                                                                                                                                                                                                                                                                                                                                                                                                                                                                                                                                                                                                                                                                                                                          \n",
      "3        JUVIA'S PLACE IS UNRELIABLE The product never came! Juvias Place never respond to Instagram DM. They will leave you on seen. They also never respond to e-mails. My tracking number is invalid. They never resolved this issue on time and I am still waiting.                                                                                                                                                                                                                                                                                                                                                                                                                                                                                                                                                                                                                                                                                                                                                                                                                 \n",
      "4        NA NA                                                                                                                                                                                                                                                                                                                                                                                                                                                                                                                                                                                                                                                                                                                                                                                                                                                                                                                                                                                                                                                                          \n",
      "...        ...                                                                                                                                                                                                                                                                                                                                                                                                                                                                                                                                                                                                                                                                                                                                                                                                                                                                                                                                                                                                                                                                          \n",
      "8119672  Soft and Snuggly The Sherpa Jacket for toddlers is a great jacket for colder weather. It is well made and is super soft. The jacket keeps my three year old warm. The dark block color against the lighter grey color is a nice design. I am very happy with this purchase. Thank you!                                                                                                                                                                                                                                                                                                                                                                                                                                                                                                                                                                                                                                                                                                                                                                                         \n",
      "7079250  Beautiful jeans These jeans are absolutely gorgeous for my little girl - they look really comfortable with the soft elasticated waistline and they're so easy to get on and off independently for littlies. I've dropped a star but only because they are a very baggy style which swamp my skinny little girl a bit, but the waist is a perfect fit and they look so durable and comfy that we can cope with her little clown legs!!! She adores the heart pockets - a lovely touch.                                                                                                                                                                                                                                                                                                                                                                                                                                                                                                                                                                                          \n",
      "4654549  Excellent growbags Great big long bags for my tomatoes at a great price and great services from staff                                                                                                                                                                                                                                                                                                                                                                                                                                                                                                                                                                                                                                                                                                                                                                                                                                                                                                                                                                          \n",
      "4998494  Undisclosed Everyone was very professional and kind!  I felt safe during my wait.                                                                                                                                                                                                                                                                                                                                                                                                                                                                                                                                                                                                                                                                                                                                                                                                                                                                                                                                                                                              \n",
      "3714463  Like finding water in the desert. In the middle of the pandemic this was a gold mine. The rolls are huge as well so they last longer.                                                                                                                                                                                                                                                                                                                                                                                                                                                                                                                                                                                                                                                                                                                                                                                                                                                                                                                                          \n",
      "\n",
      "[819824 rows x 6 columns]"
     ]
    }
   ],
   "source": [
    "#X = reviews[['ALL_TEXT','REVIEW_RATING']]\n",
    "#df.loc[:, df.columns != 'b']\n",
    "X = reviews.loc[:, reviews.columns != 'NR']\n",
    "X"
   ]
  },
  {
   "cell_type": "code",
   "execution_count": 18,
   "metadata": {},
   "outputs": [
    {
     "data": {
      "application/vnd.jupyter.widget-view+json": {
       "model_id": "70984eb907bf41ecb43375adcd60f4df",
       "version_major": 2,
       "version_minor": 0
      },
      "text/plain": [
       "VBox()"
      ]
     },
     "metadata": {},
     "output_type": "display_data"
    },
    {
     "data": {
      "application/vnd.jupyter.widget-view+json": {
       "model_id": "",
       "version_major": 2,
       "version_minor": 0
      },
      "text/plain": [
       "FloatProgress(value=0.0, bar_style='info', description='Progress:', layout=Layout(height='25px', width='50%'),…"
      ]
     },
     "metadata": {},
     "output_type": "display_data"
    },
    {
     "name": "stdout",
     "output_type": "stream",
     "text": [
      "         NR\n",
      "0        1 \n",
      "1        1 \n",
      "2        1 \n",
      "3        1 \n",
      "4        1 \n",
      "...     .. \n",
      "8119672  0 \n",
      "7079250  0 \n",
      "4654549  0 \n",
      "4998494  0 \n",
      "3714463  0 \n",
      "\n",
      "[819824 rows x 1 columns]"
     ]
    }
   ],
   "source": [
    "#y = reviews[['NR','PII','PR','CS','DC','CR','FRD','TST','CC','SC','PIM','LC','WEB','FL','SA','URL','CV','US','NOLABEL']]\n",
    "#y = reviews[['NR','PII','PR','CS','DC','CR','FRD','TST','CC','SC','PIM','LC','WEB','FL','SA','URL','CV','US']]\n",
    "y = reviews[['NR']]\n",
    "y"
   ]
  },
  {
   "cell_type": "code",
   "execution_count": 19,
   "metadata": {},
   "outputs": [
    {
     "data": {
      "application/vnd.jupyter.widget-view+json": {
       "model_id": "308ab6ad78a8453ea1267effa7203562",
       "version_major": 2,
       "version_minor": 0
      },
      "text/plain": [
       "VBox()"
      ]
     },
     "metadata": {},
     "output_type": "display_data"
    },
    {
     "data": {
      "application/vnd.jupyter.widget-view+json": {
       "model_id": "",
       "version_major": 2,
       "version_minor": 0
      },
      "text/plain": [
       "FloatProgress(value=0.0, bar_style='info', description='Progress:', layout=Layout(height='25px', width='50%'),…"
      ]
     },
     "metadata": {},
     "output_type": "display_data"
    },
    {
     "name": "stdout",
     "output_type": "stream",
     "text": [
      "NR    409912\n",
      "dtype: int64"
     ]
    }
   ],
   "source": [
    "y.sum(axis=0)"
   ]
  },
  {
   "cell_type": "code",
   "execution_count": null,
   "metadata": {},
   "outputs": [],
   "source": []
  },
  {
   "cell_type": "code",
   "execution_count": 20,
   "metadata": {},
   "outputs": [
    {
     "data": {
      "application/vnd.jupyter.widget-view+json": {
       "model_id": "0c4e6c0aefd542a3a65731d5bd77f5dc",
       "version_major": 2,
       "version_minor": 0
      },
      "text/plain": [
       "VBox()"
      ]
     },
     "metadata": {},
     "output_type": "display_data"
    },
    {
     "data": {
      "application/vnd.jupyter.widget-view+json": {
       "model_id": "",
       "version_major": 2,
       "version_minor": 0
      },
      "text/plain": [
       "FloatProgress(value=0.0, bar_style='info', description='Progress:', layout=Layout(height='25px', width='50%'),…"
      ]
     },
     "metadata": {},
     "output_type": "display_data"
    }
   ],
   "source": [
    "#test_size is what % of data goes to test set vs training\n",
    "#random_state - use so that when comparing models - same data is always going to test and train sets\n",
    "xtrain, xtest, ytrain, ytest = train_test_split(X, y, test_size=0.2, random_state=9, stratify = y)"
   ]
  },
  {
   "cell_type": "code",
   "execution_count": 21,
   "metadata": {},
   "outputs": [
    {
     "data": {
      "application/vnd.jupyter.widget-view+json": {
       "model_id": "3a6781de34014c679f8c05f700f2bcfe",
       "version_major": 2,
       "version_minor": 0
      },
      "text/plain": [
       "VBox()"
      ]
     },
     "metadata": {},
     "output_type": "display_data"
    },
    {
     "data": {
      "application/vnd.jupyter.widget-view+json": {
       "model_id": "",
       "version_major": 2,
       "version_minor": 0
      },
      "text/plain": [
       "FloatProgress(value=0.0, bar_style='info', description='Progress:', layout=Layout(height='25px', width='50%'),…"
      ]
     },
     "metadata": {},
     "output_type": "display_data"
    }
   ],
   "source": [
    "#print(xtrain)"
   ]
  },
  {
   "cell_type": "code",
   "execution_count": 22,
   "metadata": {},
   "outputs": [
    {
     "data": {
      "application/vnd.jupyter.widget-view+json": {
       "model_id": "8faa9573231b4132867060a84e1d3853",
       "version_major": 2,
       "version_minor": 0
      },
      "text/plain": [
       "VBox()"
      ]
     },
     "metadata": {},
     "output_type": "display_data"
    },
    {
     "data": {
      "application/vnd.jupyter.widget-view+json": {
       "model_id": "",
       "version_major": 2,
       "version_minor": 0
      },
      "text/plain": [
       "FloatProgress(value=0.0, bar_style='info', description='Progress:', layout=Layout(height='25px', width='50%'),…"
      ]
     },
     "metadata": {},
     "output_type": "display_data"
    }
   ],
   "source": [
    "#analyzer : default = word, can also test n_grams\n",
    "#max_df :  ignore terms that have a document frequency strictly higher than the given threshold\n",
    "#max_features : set total # of features used\n",
    "vectorizer = TfidfVectorizer(analyzer = 'word', max_features = 30000, stop_words= 'english', lowercase=True)\n",
    "#vectors = vectorizer.fit_transform(reviews['ALL_TEXT'].values.astype('U'))\n",
    "tfidf_vectors_xtrain = vectorizer.fit_transform(xtrain['ALL_TEXT'].apply(lambda x: np.str_(x)))\n",
    "tfidf_vectors_xtest = vectorizer.transform(xtest['ALL_TEXT'].apply(lambda x: np.str_(x)))\n",
    "#25 mins for 65 mil rows\n",
    "#16 mins for 30 mil rows"
   ]
  },
  {
   "cell_type": "code",
   "execution_count": 23,
   "metadata": {},
   "outputs": [
    {
     "data": {
      "application/vnd.jupyter.widget-view+json": {
       "model_id": "15fe1ff8832740609ed2ca81786fa44c",
       "version_major": 2,
       "version_minor": 0
      },
      "text/plain": [
       "VBox()"
      ]
     },
     "metadata": {},
     "output_type": "display_data"
    },
    {
     "data": {
      "application/vnd.jupyter.widget-view+json": {
       "model_id": "",
       "version_major": 2,
       "version_minor": 0
      },
      "text/plain": [
       "FloatProgress(value=0.0, bar_style='info', description='Progress:', layout=Layout(height='25px', width='50%'),…"
      ]
     },
     "metadata": {},
     "output_type": "display_data"
    }
   ],
   "source": [
    "#print(tfidf_vectors_xtrain)\n",
    "#print(tfidf_vectors_xtest)"
   ]
  },
  {
   "cell_type": "code",
   "execution_count": 24,
   "metadata": {},
   "outputs": [
    {
     "data": {
      "application/vnd.jupyter.widget-view+json": {
       "model_id": "3e458512e08947eb98a4ff38655b0f44",
       "version_major": 2,
       "version_minor": 0
      },
      "text/plain": [
       "VBox()"
      ]
     },
     "metadata": {},
     "output_type": "display_data"
    },
    {
     "data": {
      "application/vnd.jupyter.widget-view+json": {
       "model_id": "",
       "version_major": 2,
       "version_minor": 0
      },
      "text/plain": [
       "FloatProgress(value=0.0, bar_style='info', description='Progress:', layout=Layout(height='25px', width='50%'),…"
      ]
     },
     "metadata": {},
     "output_type": "display_data"
    }
   ],
   "source": [
    "#Test to see what output looks like - don't use for modeling - dense vectors are memory intensive\n",
    "#feature_names = vectorizer.get_feature_names()\n",
    "#dense = tfidf_vectors.todense()\n",
    "#denselist = dense.tolist()\n",
    "#df = pd.DataFrame(denselist, columns=feature_names)\n",
    "#df.head()"
   ]
  },
  {
   "cell_type": "code",
   "execution_count": 25,
   "metadata": {},
   "outputs": [
    {
     "data": {
      "application/vnd.jupyter.widget-view+json": {
       "model_id": "1214de6fad794e9da090a841a6dfa699",
       "version_major": 2,
       "version_minor": 0
      },
      "text/plain": [
       "VBox()"
      ]
     },
     "metadata": {},
     "output_type": "display_data"
    },
    {
     "data": {
      "application/vnd.jupyter.widget-view+json": {
       "model_id": "",
       "version_major": 2,
       "version_minor": 0
      },
      "text/plain": [
       "FloatProgress(value=0.0, bar_style='info', description='Progress:', layout=Layout(height='25px', width='50%'),…"
      ]
     },
     "metadata": {},
     "output_type": "display_data"
    }
   ],
   "source": [
    "#Convert ratings to sparse vector so can join to TF-IDF sparse vector\n",
    "#ratings_vector_xtrain=sparse.csr_matrix((xtrain['REVIEW_RATING']/5).values).reshape(808202,1)\n",
    "#print(ratings_vector_xtrain)\n",
    "#ratings_vector_xtest=sparse.csr_matrix((xtest['REVIEW_RATING']/5).values).reshape(202051,1)\n",
    "#print(ratings_vector_xtest)"
   ]
  },
  {
   "cell_type": "code",
   "execution_count": 26,
   "metadata": {},
   "outputs": [
    {
     "data": {
      "application/vnd.jupyter.widget-view+json": {
       "model_id": "391dbce175df4f61a176c445b93a12f7",
       "version_major": 2,
       "version_minor": 0
      },
      "text/plain": [
       "VBox()"
      ]
     },
     "metadata": {},
     "output_type": "display_data"
    },
    {
     "data": {
      "application/vnd.jupyter.widget-view+json": {
       "model_id": "",
       "version_major": 2,
       "version_minor": 0
      },
      "text/plain": [
       "FloatProgress(value=0.0, bar_style='info', description='Progress:', layout=Layout(height='25px', width='50%'),…"
      ]
     },
     "metadata": {},
     "output_type": "display_data"
    }
   ],
   "source": [
    "#Combine TF-IDF and ratings vectors\n",
    "#xtrain_final = sparse.hstack([tfidf_vectors_xtrain, ratings_vector_xtrain])\n",
    "#print(xtrain_final)\n",
    "#xtest_final = sparse.hstack([tfidf_vectors_xtest, ratings_vector_xtest])\n",
    "#print(xtest_final)"
   ]
  },
  {
   "cell_type": "code",
   "execution_count": 27,
   "metadata": {},
   "outputs": [
    {
     "data": {
      "application/vnd.jupyter.widget-view+json": {
       "model_id": "8d080d42c00440b2b93b81c6e22b9cdc",
       "version_major": 2,
       "version_minor": 0
      },
      "text/plain": [
       "VBox()"
      ]
     },
     "metadata": {},
     "output_type": "display_data"
    },
    {
     "data": {
      "application/vnd.jupyter.widget-view+json": {
       "model_id": "",
       "version_major": 2,
       "version_minor": 0
      },
      "text/plain": [
       "FloatProgress(value=0.0, bar_style='info', description='Progress:', layout=Layout(height='25px', width='50%'),…"
      ]
     },
     "metadata": {},
     "output_type": "display_data"
    }
   ],
   "source": [
    "xtrain_final = tfidf_vectors_xtrain\n",
    "xtest_final = tfidf_vectors_xtest"
   ]
  },
  {
   "cell_type": "code",
   "execution_count": 28,
   "metadata": {},
   "outputs": [
    {
     "data": {
      "application/vnd.jupyter.widget-view+json": {
       "model_id": "c3eb1ec621864366a474779ddd962178",
       "version_major": 2,
       "version_minor": 0
      },
      "text/plain": [
       "VBox()"
      ]
     },
     "metadata": {},
     "output_type": "display_data"
    },
    {
     "data": {
      "application/vnd.jupyter.widget-view+json": {
       "model_id": "",
       "version_major": 2,
       "version_minor": 0
      },
      "text/plain": [
       "FloatProgress(value=0.0, bar_style='info', description='Progress:', layout=Layout(height='25px', width='50%'),…"
      ]
     },
     "metadata": {},
     "output_type": "display_data"
    }
   ],
   "source": [
    "#max_iter : default =100 but getting error about not converging\n",
    "lr = LogisticRegression(max_iter=1000, solver = 'lbfgs')\n",
    "clf = lr\n"
   ]
  },
  {
   "cell_type": "code",
   "execution_count": 29,
   "metadata": {},
   "outputs": [
    {
     "data": {
      "application/vnd.jupyter.widget-view+json": {
       "model_id": "15eeb2bd26974dc1be9b797001db22db",
       "version_major": 2,
       "version_minor": 0
      },
      "text/plain": [
       "VBox()"
      ]
     },
     "metadata": {},
     "output_type": "display_data"
    },
    {
     "data": {
      "application/vnd.jupyter.widget-view+json": {
       "model_id": "",
       "version_major": 2,
       "version_minor": 0
      },
      "text/plain": [
       "FloatProgress(value=0.0, bar_style='info', description='Progress:', layout=Layout(height='25px', width='50%'),…"
      ]
     },
     "metadata": {},
     "output_type": "display_data"
    }
   ],
   "source": [
    "#Support Vector Machine model\n",
    "#clf = svm.SVC(probability=True)\n",
    "\n",
    "#Need to change input type of y for training model\n",
    "#ytrain = ytrain['NR'].ravel()\n",
    "#ytrain.shape"
   ]
  },
  {
   "cell_type": "code",
   "execution_count": 30,
   "metadata": {},
   "outputs": [
    {
     "data": {
      "application/vnd.jupyter.widget-view+json": {
       "model_id": "518140ef265e43ac950aa0093b64c993",
       "version_major": 2,
       "version_minor": 0
      },
      "text/plain": [
       "VBox()"
      ]
     },
     "metadata": {},
     "output_type": "display_data"
    },
    {
     "data": {
      "application/vnd.jupyter.widget-view+json": {
       "model_id": "",
       "version_major": 2,
       "version_minor": 0
      },
      "text/plain": [
       "FloatProgress(value=0.0, bar_style='info', description='Progress:', layout=Layout(height='25px', width='50%'),…"
      ]
     },
     "metadata": {},
     "output_type": "display_data"
    },
    {
     "name": "stdout",
     "output_type": "stream",
     "text": [
      "LogisticRegression(max_iter=1000)\n",
      "/usr/local/lib64/python3.7/site-packages/sklearn/utils/validation.py:63: DataConversionWarning: A column-vector y was passed when a 1d array was expected. Please change the shape of y to (n_samples, ), for example using ravel().\n",
      "  return f(*args, **kwargs)"
     ]
    }
   ],
   "source": [
    "#Train model\n",
    "clf.fit(xtrain_final, ytrain)"
   ]
  },
  {
   "cell_type": "code",
   "execution_count": 31,
   "metadata": {},
   "outputs": [
    {
     "data": {
      "application/vnd.jupyter.widget-view+json": {
       "model_id": "7c229883202d4cf2afc8ab8b37f147f0",
       "version_major": 2,
       "version_minor": 0
      },
      "text/plain": [
       "VBox()"
      ]
     },
     "metadata": {},
     "output_type": "display_data"
    },
    {
     "data": {
      "application/vnd.jupyter.widget-view+json": {
       "model_id": "",
       "version_major": 2,
       "version_minor": 0
      },
      "text/plain": [
       "FloatProgress(value=0.0, bar_style='info', description='Progress:', layout=Layout(height='25px', width='50%'),…"
      ]
     },
     "metadata": {},
     "output_type": "display_data"
    },
    {
     "name": "stdout",
     "output_type": "stream",
     "text": [
      "NR    327930\n",
      "dtype: int64"
     ]
    }
   ],
   "source": [
    "#ytrain.dtypes\n",
    "ytrain.sum(axis=0)"
   ]
  },
  {
   "cell_type": "code",
   "execution_count": 32,
   "metadata": {},
   "outputs": [
    {
     "data": {
      "application/vnd.jupyter.widget-view+json": {
       "model_id": "fadc2179ded44c3ca95d45dd2e8e059c",
       "version_major": 2,
       "version_minor": 0
      },
      "text/plain": [
       "VBox()"
      ]
     },
     "metadata": {},
     "output_type": "display_data"
    },
    {
     "data": {
      "application/vnd.jupyter.widget-view+json": {
       "model_id": "",
       "version_major": 2,
       "version_minor": 0
      },
      "text/plain": [
       "FloatProgress(value=0.0, bar_style='info', description='Progress:', layout=Layout(height='25px', width='50%'),…"
      ]
     },
     "metadata": {},
     "output_type": "display_data"
    }
   ],
   "source": [
    "y_pred = clf.predict(xtest_final)"
   ]
  },
  {
   "cell_type": "code",
   "execution_count": 33,
   "metadata": {},
   "outputs": [
    {
     "data": {
      "application/vnd.jupyter.widget-view+json": {
       "model_id": "f10a4918a04b4efea7623d9a038a82d9",
       "version_major": 2,
       "version_minor": 0
      },
      "text/plain": [
       "VBox()"
      ]
     },
     "metadata": {},
     "output_type": "display_data"
    },
    {
     "data": {
      "application/vnd.jupyter.widget-view+json": {
       "model_id": "",
       "version_major": 2,
       "version_minor": 0
      },
      "text/plain": [
       "FloatProgress(value=0.0, bar_style='info', description='Progress:', layout=Layout(height='25px', width='50%'),…"
      ]
     },
     "metadata": {},
     "output_type": "display_data"
    }
   ],
   "source": [
    "plt.clf()"
   ]
  },
  {
   "cell_type": "code",
   "execution_count": 34,
   "metadata": {},
   "outputs": [],
   "source": [
    "%matplotlib inline"
   ]
  },
  {
   "cell_type": "code",
   "execution_count": 35,
   "metadata": {},
   "outputs": [
    {
     "data": {
      "application/vnd.jupyter.widget-view+json": {
       "model_id": "3a57a9a4f0fb4c318236f3965849e288",
       "version_major": 2,
       "version_minor": 0
      },
      "text/plain": [
       "VBox()"
      ]
     },
     "metadata": {},
     "output_type": "display_data"
    },
    {
     "data": {
      "application/vnd.jupyter.widget-view+json": {
       "model_id": "",
       "version_major": 2,
       "version_minor": 0
      },
      "text/plain": [
       "FloatProgress(value=0.0, bar_style='info', description='Progress:', layout=Layout(height='25px', width='50%'),…"
      ]
     },
     "metadata": {},
     "output_type": "display_data"
    }
   ],
   "source": [
    "#Confusion matrix\n",
    "#confusion_matrix(ytest, y_pred)\n",
    "#tn, fp, fn, tp = confusion_matrix(ytest, y_pred).ravel()\n",
    "#print(\"TN: {}\".format(tn), \"FP: {}\".format(fp), \"FN: {}\".format(fn), \"TP: {}\".format(tp))\n",
    "plot_confusion_matrix(clf, xtest_final, ytest, values_format = '.5g')\n",
    "plt.show()"
   ]
  },
  {
   "cell_type": "code",
   "execution_count": 36,
   "metadata": {},
   "outputs": [
    {
     "data": {
      "application/vnd.jupyter.widget-view+json": {
       "model_id": "",
       "version_major": 2,
       "version_minor": 0
      },
      "text/plain": [
       "FloatProgress(value=0.0, bar_style='info', description='Progress:', layout=Layout(height='25px', width='50%'),…"
      ]
     },
     "metadata": {},
     "output_type": "display_data"
    },
    {
     "data": {
      "image/png": "[encoded data removed]",
      "text/plain": [
       "<IPython.core.display.Image object>"
      ]
     },
     "metadata": {},
     "output_type": "display_data"
    }
   ],
   "source": [
    "%matplot plt"
   ]
  },
  {
   "cell_type": "code",
   "execution_count": 37,
   "metadata": {},
   "outputs": [
    {
     "data": {
      "application/vnd.jupyter.widget-view+json": {
       "model_id": "ec940b2a6af8435c847b8e19c16d7d11",
       "version_major": 2,
       "version_minor": 0
      },
      "text/plain": [
       "VBox()"
      ]
     },
     "metadata": {},
     "output_type": "display_data"
    },
    {
     "data": {
      "application/vnd.jupyter.widget-view+json": {
       "model_id": "",
       "version_major": 2,
       "version_minor": 0
      },
      "text/plain": [
       "FloatProgress(value=0.0, bar_style='info', description='Progress:', layout=Layout(height='25px', width='50%'),…"
      ]
     },
     "metadata": {},
     "output_type": "display_data"
    }
   ],
   "source": [
    "#reviews_xtest =xtest\n",
    "#reviews_xtest['model_NR'] = y_pred\n",
    "#reviews_xtest['NR'] = ytest\n",
    "\n",
    "#ytrain_pred = clf.predict(xtrain_final)\n",
    "#reviews_xtrain =xtrain\n",
    "#reviews_xtrain['model_NR'] = ytrain_pred\n",
    "#reviews_xtrain['NR'] = ytrain\n",
    "\n",
    "\n",
    "#reviews= pd.concat([reviews_xtest, reviews_xtrain], axis=0)\n",
    "#reviews.info()"
   ]
  },
  {
   "cell_type": "code",
   "execution_count": 38,
   "metadata": {},
   "outputs": [
    {
     "data": {
      "application/vnd.jupyter.widget-view+json": {
       "model_id": "c27ae4dd82aa4b7c82d85aca1fbc4a54",
       "version_major": 2,
       "version_minor": 0
      },
      "text/plain": [
       "VBox()"
      ]
     },
     "metadata": {},
     "output_type": "display_data"
    },
    {
     "data": {
      "application/vnd.jupyter.widget-view+json": {
       "model_id": "",
       "version_major": 2,
       "version_minor": 0
      },
      "text/plain": [
       "FloatProgress(value=0.0, bar_style='info', description='Progress:', layout=Layout(height='25px', width='50%'),…"
      ]
     },
     "metadata": {},
     "output_type": "display_data"
    }
   ],
   "source": [
    "#reviews=xtest\n",
    "\n",
    "#Need to join y_pred back to initial set to see if CS label or not\n",
    "#Join actual ys back in as well so that we can compare predicted vs actual along w/ if CS or not\n",
    "#reviews['model_NR'] = y_pred\n",
    "#reviews['NR'] = ytest\n",
    "#reviews.head()"
   ]
  },
  {
   "cell_type": "code",
   "execution_count": 39,
   "metadata": {},
   "outputs": [
    {
     "data": {
      "application/vnd.jupyter.widget-view+json": {
       "model_id": "7cf89c9b893b4723b11891872351fb42",
       "version_major": 2,
       "version_minor": 0
      },
      "text/plain": [
       "VBox()"
      ]
     },
     "metadata": {},
     "output_type": "display_data"
    },
    {
     "data": {
      "application/vnd.jupyter.widget-view+json": {
       "model_id": "",
       "version_major": 2,
       "version_minor": 0
      },
      "text/plain": [
       "FloatProgress(value=0.0, bar_style='info', description='Progress:', layout=Layout(height='25px', width='50%'),…"
      ]
     },
     "metadata": {},
     "output_type": "display_data"
    }
   ],
   "source": [
    "#Apply tfidf to all reviews, run through all reviews to get if NR or not, then CS\n",
    "reviews_2['ALL_TEXT'] =  reviews_2['REVIEW_HEADLINE']  + ' ' + reviews_2['REVIEW_COMMENTS']\n",
    "\n",
    "tfidf_vectors = vectorizer.transform(reviews_2['ALL_TEXT'].apply(lambda x: np.str_(x)))"
   ]
  },
  {
   "cell_type": "code",
   "execution_count": 40,
   "metadata": {},
   "outputs": [
    {
     "data": {
      "application/vnd.jupyter.widget-view+json": {
       "model_id": "7d23deaa8ac2439eb7cbea71c97f7fda",
       "version_major": 2,
       "version_minor": 0
      },
      "text/plain": [
       "VBox()"
      ]
     },
     "metadata": {},
     "output_type": "display_data"
    },
    {
     "data": {
      "application/vnd.jupyter.widget-view+json": {
       "model_id": "",
       "version_major": 2,
       "version_minor": 0
      },
      "text/plain": [
       "FloatProgress(value=0.0, bar_style='info', description='Progress:', layout=Layout(height='25px', width='50%'),…"
      ]
     },
     "metadata": {},
     "output_type": "display_data"
    }
   ],
   "source": [
    "\n",
    "y_pred_all = clf.predict(tfidf_vectors)"
   ]
  },
  {
   "cell_type": "code",
   "execution_count": 41,
   "metadata": {},
   "outputs": [
    {
     "data": {
      "application/vnd.jupyter.widget-view+json": {
       "model_id": "b7e0ebf33ae2456bb7e89289833134a5",
       "version_major": 2,
       "version_minor": 0
      },
      "text/plain": [
       "VBox()"
      ]
     },
     "metadata": {},
     "output_type": "display_data"
    },
    {
     "data": {
      "application/vnd.jupyter.widget-view+json": {
       "model_id": "",
       "version_major": 2,
       "version_minor": 0
      },
      "text/plain": [
       "FloatProgress(value=0.0, bar_style='info', description='Progress:', layout=Layout(height='25px', width='50%'),…"
      ]
     },
     "metadata": {},
     "output_type": "display_data"
    },
    {
     "name": "stdout",
     "output_type": "stream",
     "text": [
      "<class 'pandas.core.frame.DataFrame'>\n",
      "RangeIndex: 8265498 entries, 0 to 8265497\n",
      "Data columns (total 8 columns):\n",
      " #   Column           Dtype \n",
      "---  ------           ----- \n",
      " 0   UGC_ID           int64 \n",
      " 1   REVIEW_HEADLINE  object\n",
      " 2   REVIEW_COMMENTS  object\n",
      " 3   REVIEW_RATING    int64 \n",
      " 4   NR               int64 \n",
      " 5   CS               int64 \n",
      " 6   ALL_TEXT         object\n",
      " 7   model_NR         int64 \n",
      "dtypes: int64(5), object(3)\n",
      "memory usage: 504.5+ MB"
     ]
    }
   ],
   "source": [
    "reviews_2['model_NR']=y_pred_all\n",
    "\n",
    "reviews_2.info()"
   ]
  },
  {
   "cell_type": "code",
   "execution_count": 42,
   "metadata": {},
   "outputs": [
    {
     "data": {
      "application/vnd.jupyter.widget-view+json": {
       "model_id": "0b51d7b9679a4bf3b72db0c55692c0a7",
       "version_major": 2,
       "version_minor": 0
      },
      "text/plain": [
       "VBox()"
      ]
     },
     "metadata": {},
     "output_type": "display_data"
    },
    {
     "data": {
      "application/vnd.jupyter.widget-view+json": {
       "model_id": "",
       "version_major": 2,
       "version_minor": 0
      },
      "text/plain": [
       "FloatProgress(value=0.0, bar_style='info', description='Progress:', layout=Layout(height='25px', width='50%'),…"
      ]
     },
     "metadata": {},
     "output_type": "display_data"
    },
    {
     "name": "stdout",
     "output_type": "stream",
     "text": [
      "<class 'pandas.core.frame.DataFrame'>\n",
      "RangeIndex: 8265498 entries, 0 to 8265497\n",
      "Data columns (total 8 columns):\n",
      " #   Column           Dtype \n",
      "---  ------           ----- \n",
      " 0   UGC_ID           int64 \n",
      " 1   REVIEW_HEADLINE  object\n",
      " 2   REVIEW_COMMENTS  object\n",
      " 3   REVIEW_RATING    int64 \n",
      " 4   NR               int64 \n",
      " 5   CS               int64 \n",
      " 6   ALL_TEXT         object\n",
      " 7   model_NR         int64 \n",
      "dtypes: int64(5), object(3)\n",
      "memory usage: 504.5+ MB"
     ]
    }
   ],
   "source": [
    "reviews = reviews_2\n",
    "reviews.head()\n",
    "reviews.info()"
   ]
  },
  {
   "cell_type": "code",
   "execution_count": 43,
   "metadata": {},
   "outputs": [
    {
     "data": {
      "application/vnd.jupyter.widget-view+json": {
       "model_id": "184f9b689d7c426caa9dbc70485a584c",
       "version_major": 2,
       "version_minor": 0
      },
      "text/plain": [
       "VBox()"
      ]
     },
     "metadata": {},
     "output_type": "display_data"
    },
    {
     "data": {
      "application/vnd.jupyter.widget-view+json": {
       "model_id": "",
       "version_major": 2,
       "version_minor": 0
      },
      "text/plain": [
       "FloatProgress(value=0.0, bar_style='info', description='Progress:', layout=Layout(height='25px', width='50%'),…"
      ]
     },
     "metadata": {},
     "output_type": "display_data"
    },
    {
     "name": "stdout",
     "output_type": "stream",
     "text": [
      "<string>:3: FutureWarning: The default value of regex will change from True to False in a future version.\n",
      "/usr/local/lib64/python3.7/site-packages/pandas/core/strings/accessor.py:101: UserWarning: This pattern has match groups. To actually get the groups, use str.extract.\n",
      "  return func(self, *args, **kwargs)"
     ]
    }
   ],
   "source": [
    "#reviews['regex_CS'] = reviews['ALL_TEXT'].str.contains(r'(CUSTOMER SERVICE|SHIP|STATUS|ORDER|DELIVER|RECEIVE|RECIEVE|REFUND|RETURN)', case=False)==True\n",
    "#reviews['regex_CS'] = reviews['ALL_TEXT'].str.contains(r'(CUSTOMER SERVICE|SHIP|STATUS|(DIDN\\'?T|NEVER|NOT) (RECEIVE|RECIEVE)|ORDER|DELIVER|REFUND|RETURN)', case=False)==True\n",
    "reviews['ALL_TEXT_2'] = reviews['ALL_TEXT'].str.replace(r'(AMAZING|AWESOME|FANTASTIC|EXCELLENT|GREAT|GOOD|OUTSTANDING|SUPERB) CUSTOMER SERVICE|CUSTOMER SERVICE (IS|WAS) (AMAZING|AWESOME|FANTASTIC|EXCELLENT|GREAT|GOOD|OUTSTANDING|SUPERB)', '', case=False)\n",
    "\n",
    "reviews['regex_CS'] = reviews['ALL_TEXT_2'].str.contains(r'CUSTOMER SERVICE|SHIP|STATUS|(DIDN\\'?T|NEVER|NOT) (RECEIVE|RECIEVE)|DELIVER|REFUND|RETURN', case=False)==True\n"
   ]
  },
  {
   "cell_type": "code",
   "execution_count": 44,
   "metadata": {},
   "outputs": [
    {
     "data": {
      "application/vnd.jupyter.widget-view+json": {
       "model_id": "276088bffeb0486193cb54138817f60a",
       "version_major": 2,
       "version_minor": 0
      },
      "text/plain": [
       "VBox()"
      ]
     },
     "metadata": {},
     "output_type": "display_data"
    },
    {
     "data": {
      "application/vnd.jupyter.widget-view+json": {
       "model_id": "",
       "version_major": 2,
       "version_minor": 0
      },
      "text/plain": [
       "FloatProgress(value=0.0, bar_style='info', description='Progress:', layout=Layout(height='25px', width='50%'),…"
      ]
     },
     "metadata": {},
     "output_type": "display_data"
    }
   ],
   "source": [
    "reviews['model_CS'] = 0\n",
    "\n",
    "reviews.loc[(reviews['model_NR'] == 1) & (reviews['regex_CS'] == True), 'model_CS' ] = 1\n"
   ]
  },
  {
   "cell_type": "code",
   "execution_count": 45,
   "metadata": {},
   "outputs": [
    {
     "data": {
      "application/vnd.jupyter.widget-view+json": {
       "model_id": "f20ebe4563304ae2a50ca0d84138c8ea",
       "version_major": 2,
       "version_minor": 0
      },
      "text/plain": [
       "VBox()"
      ]
     },
     "metadata": {},
     "output_type": "display_data"
    },
    {
     "data": {
      "application/vnd.jupyter.widget-view+json": {
       "model_id": "",
       "version_major": 2,
       "version_minor": 0
      },
      "text/plain": [
       "FloatProgress(value=0.0, bar_style='info', description='Progress:', layout=Layout(height='25px', width='50%'),…"
      ]
     },
     "metadata": {},
     "output_type": "display_data"
    },
    {
     "name": "stdout",
     "output_type": "stream",
     "text": [
      "<class 'pandas.core.frame.DataFrame'>\n",
      "RangeIndex: 8265498 entries, 0 to 8265497\n",
      "Data columns (total 11 columns):\n",
      " #   Column           Dtype \n",
      "---  ------           ----- \n",
      " 0   UGC_ID           int64 \n",
      " 1   REVIEW_HEADLINE  object\n",
      " 2   REVIEW_COMMENTS  object\n",
      " 3   REVIEW_RATING    int64 \n",
      " 4   NR               int64 \n",
      " 5   CS               int64 \n",
      " 6   ALL_TEXT         object\n",
      " 7   model_NR         int64 \n",
      " 8   ALL_TEXT_2       object\n",
      " 9   regex_CS         bool  \n",
      " 10  model_CS         int64 \n",
      "dtypes: bool(1), int64(6), object(4)\n",
      "memory usage: 638.5+ MB"
     ]
    }
   ],
   "source": [
    "reviews.head()\n",
    "reviews.info()"
   ]
  },
  {
   "cell_type": "code",
   "execution_count": 46,
   "metadata": {},
   "outputs": [
    {
     "data": {
      "application/vnd.jupyter.widget-view+json": {
       "model_id": "32642db12a474e86ba4327c8d9f19134",
       "version_major": 2,
       "version_minor": 0
      },
      "text/plain": [
       "VBox()"
      ]
     },
     "metadata": {},
     "output_type": "display_data"
    },
    {
     "data": {
      "application/vnd.jupyter.widget-view+json": {
       "model_id": "",
       "version_major": 2,
       "version_minor": 0
      },
      "text/plain": [
       "FloatProgress(value=0.0, bar_style='info', description='Progress:', layout=Layout(height='25px', width='50%'),…"
      ]
     },
     "metadata": {},
     "output_type": "display_data"
    }
   ],
   "source": [
    "FP = reviews[(reviews['CS'] == 0) & (reviews['model_CS'] == 1)]\n",
    "FN = reviews[(reviews['CS'] == 1) & (reviews['model_CS'] == 0)]\n",
    "TP = reviews[(reviews['CS'] == 1) & (reviews['model_CS'] == 1)]\n",
    "TN = reviews[(reviews['CS'] == 0) & (reviews['model_CS'] == 0)]\n"
   ]
  },
  {
   "cell_type": "code",
   "execution_count": 47,
   "metadata": {},
   "outputs": [
    {
     "data": {
      "application/vnd.jupyter.widget-view+json": {
       "model_id": "2254f43097d1437ca5a48054802a38a4",
       "version_major": 2,
       "version_minor": 0
      },
      "text/plain": [
       "VBox()"
      ]
     },
     "metadata": {},
     "output_type": "display_data"
    },
    {
     "data": {
      "application/vnd.jupyter.widget-view+json": {
       "model_id": "",
       "version_major": 2,
       "version_minor": 0
      },
      "text/plain": [
       "FloatProgress(value=0.0, bar_style='info', description='Progress:', layout=Layout(height='25px', width='50%'),…"
      ]
     },
     "metadata": {},
     "output_type": "display_data"
    },
    {
     "name": "stdout",
     "output_type": "stream",
     "text": [
      "177745"
     ]
    }
   ],
   "source": [
    "#183781\n",
    "#178855\n",
    "FP['UGC_ID'].count()"
   ]
  },
  {
   "cell_type": "code",
   "execution_count": 48,
   "metadata": {},
   "outputs": [
    {
     "data": {
      "application/vnd.jupyter.widget-view+json": {
       "model_id": "781762031ed8458382675b1006996086",
       "version_major": 2,
       "version_minor": 0
      },
      "text/plain": [
       "VBox()"
      ]
     },
     "metadata": {},
     "output_type": "display_data"
    },
    {
     "data": {
      "application/vnd.jupyter.widget-view+json": {
       "model_id": "",
       "version_major": 2,
       "version_minor": 0
      },
      "text/plain": [
       "FloatProgress(value=0.0, bar_style='info', description='Progress:', layout=Layout(height='25px', width='50%'),…"
      ]
     },
     "metadata": {},
     "output_type": "display_data"
    },
    {
     "name": "stdout",
     "output_type": "stream",
     "text": [
      "15774"
     ]
    }
   ],
   "source": [
    "#15751\n",
    "#15770\n",
    "FN['UGC_ID'].count()"
   ]
  },
  {
   "cell_type": "code",
   "execution_count": 49,
   "metadata": {},
   "outputs": [
    {
     "data": {
      "application/vnd.jupyter.widget-view+json": {
       "model_id": "9e208fc59f8b4c498dc4f67a725a2c20",
       "version_major": 2,
       "version_minor": 0
      },
      "text/plain": [
       "VBox()"
      ]
     },
     "metadata": {},
     "output_type": "display_data"
    },
    {
     "data": {
      "application/vnd.jupyter.widget-view+json": {
       "model_id": "",
       "version_major": 2,
       "version_minor": 0
      },
      "text/plain": [
       "FloatProgress(value=0.0, bar_style='info', description='Progress:', layout=Layout(height='25px', width='50%'),…"
      ]
     },
     "metadata": {},
     "output_type": "display_data"
    },
    {
     "name": "stdout",
     "output_type": "stream",
     "text": [
      "5043"
     ]
    }
   ],
   "source": [
    "TP['UGC_ID'].count()"
   ]
  },
  {
   "cell_type": "code",
   "execution_count": 50,
   "metadata": {},
   "outputs": [
    {
     "data": {
      "application/vnd.jupyter.widget-view+json": {
       "model_id": "d99e7d33500b4b56a16f90e7ecaa2b71",
       "version_major": 2,
       "version_minor": 0
      },
      "text/plain": [
       "VBox()"
      ]
     },
     "metadata": {},
     "output_type": "display_data"
    },
    {
     "data": {
      "application/vnd.jupyter.widget-view+json": {
       "model_id": "",
       "version_major": 2,
       "version_minor": 0
      },
      "text/plain": [
       "FloatProgress(value=0.0, bar_style='info', description='Progress:', layout=Layout(height='25px', width='50%'),…"
      ]
     },
     "metadata": {},
     "output_type": "display_data"
    },
    {
     "name": "stdout",
     "output_type": "stream",
     "text": [
      "8066936"
     ]
    }
   ],
   "source": [
    "TN['UGC_ID'].count()"
   ]
  },
  {
   "cell_type": "code",
   "execution_count": 58,
   "metadata": {},
   "outputs": [
    {
     "data": {
      "application/vnd.jupyter.widget-view+json": {
       "model_id": "42587f8f148f46d198b6dc0f5ef93494",
       "version_major": 2,
       "version_minor": 0
      },
      "text/plain": [
       "VBox()"
      ]
     },
     "metadata": {},
     "output_type": "display_data"
    },
    {
     "data": {
      "application/vnd.jupyter.widget-view+json": {
       "model_id": "",
       "version_major": 2,
       "version_minor": 0
      },
      "text/plain": [
       "FloatProgress(value=0.0, bar_style='info', description='Progress:', layout=Layout(height='25px', width='50%'),…"
      ]
     },
     "metadata": {},
     "output_type": "display_data"
    },
    {
     "name": "stdout",
     "output_type": "stream",
     "text": [
      "[Row(UGC_ID='314600836', REVIEW_HEADLINE='Can you heat this iced coffee to switch it up?', REVIEW_COMMENTS='Is this iced coffee able to be heated?  I like it cold but wanted to try it hot as well.', REVIEW_RATING=5, NR=0, CS=1, ALL_TEXT='Can you heat this iced coffee to switch it up? Is this iced coffee able to be heated?  I like it cold but wanted to try it hot as well.', model_NR=0, ALL_TEXT_2='Can you heat this iced coffee to switch it up? Is this iced coffee able to be heated?  I like it cold but wanted to try it hot as well.', regex_CS='false', model_CS=0), Row(UGC_ID='314683972', REVIEW_HEADLINE=\"Why sell the product if you don't have the filter?\", REVIEW_COMMENTS=\"I feel like this is a complete rip-off. I purchase your air purifier but I cannot find any replacement filters? When are you getting more in stock? If you're not getting the replacement filters back in stock you've lost all my business. To anyone looking to buy from them, I wouldn't do it, it's not worth it, they never have the replacement filters available so you're basically just paying hundreds of dollars for an air purifier that you can only use for a few months. This is such a rip-off.\", REVIEW_RATING=1, NR=0, CS=1, ALL_TEXT=\"Why sell the product if you don't have the filter? I feel like this is a complete rip-off. I purchase your air purifier but I cannot find any replacement filters? When are you getting more in stock? If you're not getting the replacement filters back in stock you've lost all my business. To anyone looking to buy from them, I wouldn't do it, it's not worth it, they never have the replacement filters available so you're basically just paying hundreds of dollars for an air purifier that you can only use for a few months. This is such a rip-off.\", model_NR=1, ALL_TEXT_2=\"Why sell the product if you don't have the filter? I feel like this is a complete rip-off. I purchase your air purifier but I cannot find any replacement filters? When are you getting more in stock? If you're not getting the replacement filters back in stock you've lost all my business. To anyone looking to buy from them, I wouldn't do it, it's not worth it, they never have the replacement filters available so you're basically just paying hundreds of dollars for an air purifier that you can only use for a few months. This is such a rip-off.\", regex_CS='false', model_CS=0), Row(UGC_ID='277685239', REVIEW_HEADLINE='Not pleased, uncomfortable', REVIEW_COMMENTS='The mattress we purchased here was too hard and I had to buy another topper.', REVIEW_RATING=1, NR=0, CS=1, ALL_TEXT='Not pleased, uncomfortable The mattress we purchased here was too hard and I had to buy another topper.', model_NR=0, ALL_TEXT_2='Not pleased, uncomfortable The mattress we purchased here was too hard and I had to buy another topper.', regex_CS='false', model_CS=0), Row(UGC_ID='277685841', REVIEW_HEADLINE='Mixed reveiw', REVIEW_COMMENTS='My fiance loves the pillow, I on the other hand, do not.  I used the pillow for one week and developed daily headaches. Once I switched back to my old pillow the headaches went away.  I think the pillow is too hard and too heavy. My fiance loves it though.', REVIEW_RATING=3, NR=0, CS=1, ALL_TEXT='Mixed reveiw My fiance loves the pillow, I on the other hand, do not.  I used the pillow for one week and developed daily headaches. Once I switched back to my old pillow the headaches went away.  I think the pillow is too hard and too heavy. My fiance loves it though.', model_NR=0, ALL_TEXT_2='Mixed reveiw My fiance loves the pillow, I on the other hand, do not.  I used the pillow for one week and developed daily headaches. Once I switched back to my old pillow the headaches went away.  I think the pillow is too hard and too heavy. My fiance loves it though.', regex_CS='false', model_CS=0), Row(UGC_ID='312339490', REVIEW_HEADLINE='RideTime Elite', REVIEW_COMMENTS='An upgrade to cure the deficiencies appears duable...', REVIEW_RATING=2, NR=0, CS=1, ALL_TEXT='RideTime Elite An upgrade to cure the deficiencies appears duable...', model_NR=1, ALL_TEXT_2='RideTime Elite An upgrade to cure the deficiencies appears duable...', regex_CS='false', model_CS=0), Row(UGC_ID='314537238', REVIEW_HEADLINE='Torn', REVIEW_COMMENTS=\"I have extremely sensitive skin so I am always nervous to try a new product. I was showing signs that my skin barrier was damaged and I thought I'd give this a try since I had a free sample. I'm torn because it did heel my damaged skin and felt soothing in the damaged area, but it also caused my neck to be red and itchy. I'm not sure if I would purchase another bottle with the irritation to my neck.\", REVIEW_RATING=3, NR=0, CS=1, ALL_TEXT=\"Torn I have extremely sensitive skin so I am always nervous to try a new product. I was showing signs that my skin barrier was damaged and I thought I'd give this a try since I had a free sample. I'm torn because it did heel my damaged skin and felt soothing in the damaged area, but it also caused my neck to be red and itchy. I'm not sure if I would purchase another bottle with the irritation to my neck.\", model_NR=1, ALL_TEXT_2=\"Torn I have extremely sensitive skin so I am always nervous to try a new product. I was showing signs that my skin barrier was damaged and I thought I'd give this a try since I had a free sample. I'm torn because it did heel my damaged skin and felt soothing in the damaged area, but it also caused my neck to be red and itchy. I'm not sure if I would purchase another bottle with the irritation to my neck.\", regex_CS='false', model_CS=0), Row(UGC_ID='279962891', REVIEW_HEADLINE='My address is 1815 30 Street ensley bham Al 35208 l just ...', REVIEW_COMMENTS='My address is 1815 30 Street ensley bham Al 35208 l just had to make sure l put ensley in it because sometimes it will go to some where else thanks and I was wondering how long it takes to come', REVIEW_RATING=3, NR=0, CS=1, ALL_TEXT='My address is 1815 30 Street ensley bham Al 35208 l just ... My address is 1815 30 Street ensley bham Al 35208 l just had to make sure l put ensley in it because sometimes it will go to some where else thanks and I was wondering how long it takes to come', model_NR=1, ALL_TEXT_2='My address is 1815 30 Street ensley bham Al 35208 l just ... My address is 1815 30 Street ensley bham Al 35208 l just had to make sure l put ensley in it because sometimes it will go to some where else thanks and I was wondering how long it takes to come', regex_CS='false', model_CS=0), Row(UGC_ID='279962190', REVIEW_HEADLINE='Beautiful, but not oven safe', REVIEW_COMMENTS=\"I love this set and I use it for serving all the time! Unfortunately, 2 months after my 3 year warranty was up, the small serving platter broke in 2 pieces in the oven. It was only on 350. I think they're excellent for serving, but I would not recommend putting them in the oven.\", REVIEW_RATING=3, NR=0, CS=1, ALL_TEXT=\"Beautiful, but not oven safe I love this set and I use it for serving all the time! Unfortunately, 2 months after my 3 year warranty was up, the small serving platter broke in 2 pieces in the oven. It was only on 350. I think they're excellent for serving, but I would not recommend putting them in the oven.\", model_NR=0, ALL_TEXT_2=\"Beautiful, but not oven safe I love this set and I use it for serving all the time! Unfortunately, 2 months after my 3 year warranty was up, the small serving platter broke in 2 pieces in the oven. It was only on 350. I think they're excellent for serving, but I would not recommend putting them in the oven.\", regex_CS='false', model_CS=0), Row(UGC_ID='279675578', REVIEW_HEADLINE='Very unhappy with what u sent as apposed to what I ordered.', REVIEW_COMMENTS='I am very unhappy with my last order! Why would anyone want 10  boxes Of pizza, or eight chicken Parmesan mushrooms soups! I do not think that I will use this product again. The convenience is great but… What you sent is not what I ask for! I really think this needs to be addressed by management 586-588-1583.    71711 Heather Court, Romeo MI 48065. If you get keep your clientele happy they will spread positive words.', REVIEW_RATING=2, NR=0, CS=1, ALL_TEXT='Very unhappy with what u sent as apposed to what I ordered. I am very unhappy with my last order! Why would anyone want 10  boxes Of pizza, or eight chicken Parmesan mushrooms soups! I do not think that I will use this product again. The convenience is great but… What you sent is not what I ask for! I really think this needs to be addressed by management 586-588-1583.    71711 Heather Court, Romeo MI 48065. If you get keep your clientele happy they will spread positive words.', model_NR=1, ALL_TEXT_2='Very unhappy with what u sent as apposed to what I ordered. I am very unhappy with my last order! Why would anyone want 10  boxes Of pizza, or eight chicken Parmesan mushrooms soups! I do not think that I will use this product again. The convenience is great but… What you sent is not what I ask for! I really think this needs to be addressed by management 586-588-1583.    71711 Heather Court, Romeo MI 48065. If you get keep your clientele happy they will spread positive words.', regex_CS='false', model_CS=0), Row(UGC_ID='312200634', REVIEW_HEADLINE='Light melted while charging -- beware!', REVIEW_COMMENTS=\"I loved the fact that this light would turn on and off automatically with my Bontrager computer, since otherwise I often forget.  But it occasionally wouldn't take a charge for some reason (making the auto turn-on a moot point...), and then eventually melted while charging.  I even used the Trek USB charging cable.  Have not had any similar problems with the charging brick or outlet.  Fortunately nothing caught on fire, but I think it's a meaningful safety issue so wanted it to be known.\", REVIEW_RATING=1, NR=0, CS=1, ALL_TEXT=\"Light melted while charging -- beware! I loved the fact that this light would turn on and off automatically with my Bontrager computer, since otherwise I often forget.  But it occasionally wouldn't take a charge for some reason (making the auto turn-on a moot point...), and then eventually melted while charging.  I even used the Trek USB charging cable.  Have not had any similar problems with the charging brick or outlet.  Fortunately nothing caught on fire, but I think it's a meaningful safety issue so wanted it to be known.\", model_NR=1, ALL_TEXT_2=\"Light melted while charging -- beware! I loved the fact that this light would turn on and off automatically with my Bontrager computer, since otherwise I often forget.  But it occasionally wouldn't take a charge for some reason (making the auto turn-on a moot point...), and then eventually melted while charging.  I even used the Trek USB charging cable.  Have not had any similar problems with the charging brick or outlet.  Fortunately nothing caught on fire, but I think it's a meaningful safety issue so wanted it to be known.\", regex_CS='false', model_CS=0), Row(UGC_ID='287147812', REVIEW_HEADLINE='Breaks to easy', REVIEW_COMMENTS='My quick connects made it about 5 rides before the tabs broke and the water bottle and cage fell off.', REVIEW_RATING=2, NR=0, CS=1, ALL_TEXT='Breaks to easy My quick connects made it about 5 rides before the tabs broke and the water bottle and cage fell off.', model_NR=0, ALL_TEXT_2='Breaks to easy My quick connects made it about 5 rides before the tabs broke and the water bottle and cage fell off.', regex_CS='false', model_CS=0), Row(UGC_ID='302044161', REVIEW_HEADLINE='Beautiful packaging', REVIEW_COMMENTS=\"Love the packaging . It broke my face out not good for sensitive skin . It did absorb well and didn't really have any sent.\", REVIEW_RATING=3, NR=0, CS=1, ALL_TEXT=\"Beautiful packaging Love the packaging . It broke my face out not good for sensitive skin . It did absorb well and didn't really have any sent.\", model_NR=0, ALL_TEXT_2=\"Beautiful packaging Love the packaging . It broke my face out not good for sensitive skin . It did absorb well and didn't really have any sent.\", regex_CS='false', model_CS=0), Row(UGC_ID='312360068', REVIEW_HEADLINE='Worst insurance ever!', REVIEW_COMMENTS=\"This is the worst insurance company I've ever encountered! You've been warned\", REVIEW_RATING=1, NR=0, CS=1, ALL_TEXT=\"Worst insurance ever! This is the worst insurance company I've ever encountered! You've been warned\", model_NR=1, ALL_TEXT_2=\"Worst insurance ever! This is the worst insurance company I've ever encountered! You've been warned\", regex_CS='false', model_CS=0), Row(UGC_ID='318108509', REVIEW_HEADLINE='I ordered 2. But there was only one in the package.', REVIEW_COMMENTS='The is really pretty.  But I would like to have Gorton both of them that I ordered.', REVIEW_RATING=2, NR=0, CS=1, ALL_TEXT='I ordered 2. But there was only one in the package. The is really pretty.  But I would like to have Gorton both of them that I ordered.', model_NR=1, ALL_TEXT_2='I ordered 2. But there was only one in the package. The is really pretty.  But I would like to have Gorton both of them that I ordered.', regex_CS='false', model_CS=0), Row(UGC_ID='279882359', REVIEW_HEADLINE='Amen', REVIEW_COMMENTS='Took care of everything while dealing with cov-19', REVIEW_RATING=5, NR=0, CS=1, ALL_TEXT='Amen Took care of everything while dealing with cov-19', model_NR=1, ALL_TEXT_2='Amen Took care of everything while dealing with cov-19', regex_CS='false', model_CS=0), Row(UGC_ID='283722703', REVIEW_HEADLINE='Broke Within First 2 Months', REVIEW_COMMENTS=\"Does anyone know who the manufacturer is for these sofas? And if they come with a manufacturer one year warranty? My love seat, when you sit on it you slide the to the side, it's like the armrests are falling apart.\", REVIEW_RATING=2, NR=0, CS=1, ALL_TEXT=\"Broke Within First 2 Months Does anyone know who the manufacturer is for these sofas? And if they come with a manufacturer one year warranty? My love seat, when you sit on it you slide the to the side, it's like the armrests are falling apart.\", model_NR=1, ALL_TEXT_2=\"Broke Within First 2 Months Does anyone know who the manufacturer is for these sofas? And if they come with a manufacturer one year warranty? My love seat, when you sit on it you slide the to the side, it's like the armrests are falling apart.\", regex_CS='false', model_CS=0), Row(UGC_ID='283729651', REVIEW_HEADLINE='I like order from vista print fast printing', REVIEW_COMMENTS=\"I order labels and reorder business but one thing wrong emails don't match how can we fix this labels the right email business card should match the labels thank you\", REVIEW_RATING=5, NR=0, CS=1, ALL_TEXT=\"I like order from vista print fast printing I order labels and reorder business but one thing wrong emails don't match how can we fix this labels the right email business card should match the labels thank you\", model_NR=1, ALL_TEXT_2=\"I like order from vista print fast printing I order labels and reorder business but one thing wrong emails don't match how can we fix this labels the right email business card should match the labels thank you\", regex_CS='false', model_CS=0), Row(UGC_ID='302012974', REVIEW_HEADLINE=\"Can't get anyone to respond to my warranty claim\", REVIEW_COMMENTS='I have several windows that clouded inside so I filed and warranty claim and attempted following up after no response, and have yet to be contacted by this company.', REVIEW_RATING=1, NR=0, CS=1, ALL_TEXT=\"Can't get anyone to respond to my warranty claim I have several windows that clouded inside so I filed and warranty claim and attempted following up after no response, and have yet to be contacted by this company.\", model_NR=1, ALL_TEXT_2=\"Can't get anyone to respond to my warranty claim I have several windows that clouded inside so I filed and warranty claim and attempted following up after no response, and have yet to be contacted by this company.\", regex_CS='false', model_CS=0), Row(UGC_ID='318091394', REVIEW_HEADLINE='I would buy this if..', REVIEW_COMMENTS='Is this 100% leather from stem to stern?', REVIEW_RATING=5, NR=0, CS=1, ALL_TEXT='I would buy this if.. Is this 100% leather from stem to stern?', model_NR=1, ALL_TEXT_2='I would buy this if.. Is this 100% leather from stem to stern?', regex_CS='false', model_CS=0), Row(UGC_ID='300491376', REVIEW_HEADLINE='Lacking', REVIEW_COMMENTS='Based on the description and other reviews, I was expecting a strong / bold flavor.  Instead, I found this to be lacking in flavor, even my 2nd glass.', REVIEW_RATING=2, NR=0, CS=1, ALL_TEXT='Lacking Based on the description and other reviews, I was expecting a strong / bold flavor.  Instead, I found this to be lacking in flavor, even my 2nd glass.', model_NR=0, ALL_TEXT_2='Lacking Based on the description and other reviews, I was expecting a strong / bold flavor.  Instead, I found this to be lacking in flavor, even my 2nd glass.', regex_CS='false', model_CS=0), Row(UGC_ID='300512057', REVIEW_HEADLINE='Smells amazing but...', REVIEW_COMMENTS='I tried this hand wash out at the salon and I loved the smell, so I bought myself a bottle for home. After using it just few times in one day, my hands dried up and started hurting. I do not know what ingredient in this wash would cause that, but I cannot use it anymore. I am so disappointed because I was really looking forward to enjoying the scent.', REVIEW_RATING=2, NR=0, CS=1, ALL_TEXT='Smells amazing but... I tried this hand wash out at the salon and I loved the smell, so I bought myself a bottle for home. After using it just few times in one day, my hands dried up and started hurting. I do not know what ingredient in this wash would cause that, but I cannot use it anymore. I am so disappointed because I was really looking forward to enjoying the scent.', model_NR=0, ALL_TEXT_2='Smells amazing but... I tried this hand wash out at the salon and I loved the smell, so I bought myself a bottle for home. After using it just few times in one day, my hands dried up and started hurting. I do not know what ingredient in this wash would cause that, but I cannot use it anymore. I am so disappointed because I was really looking forward to enjoying the scent.', regex_CS='false', model_CS=0), Row(UGC_ID='322947410', REVIEW_HEADLINE='No receipt e-mailed to me.', REVIEW_COMMENTS='No receipt e-mailed to me. So I ordered again. What happened to the e-mailed receipt? I checked my junk file  also.', REVIEW_RATING=3, NR=0, CS=1, ALL_TEXT='No receipt e-mailed to me. No receipt e-mailed to me. So I ordered again. What happened to the e-mailed receipt? I checked my junk file  also.', model_NR=1, ALL_TEXT_2='No receipt e-mailed to me. No receipt e-mailed to me. So I ordered again. What happened to the e-mailed receipt? I checked my junk file  also.', regex_CS='false', model_CS=0), Row(UGC_ID='318113040', REVIEW_HEADLINE='STINGS', REVIEW_COMMENTS='Ok lotion but stings my eyes for hours if I accidentally get it in my eye  which I almost always do', REVIEW_RATING=1, NR=0, CS=1, ALL_TEXT='STINGS Ok lotion but stings my eyes for hours if I accidentally get it in my eye  which I almost always do', model_NR=0, ALL_TEXT_2='STINGS Ok lotion but stings my eyes for hours if I accidentally get it in my eye  which I almost always do', regex_CS='false', model_CS=0), Row(UGC_ID='325304889', REVIEW_HEADLINE='Where is my order.', REVIEW_COMMENTS='Where is my order. Zero communication', REVIEW_RATING=1, NR=0, CS=1, ALL_TEXT='Where is my order. Where is my order. Zero communication', model_NR=1, ALL_TEXT_2='Where is my order. Where is my order. Zero communication', regex_CS='false', model_CS=0), Row(UGC_ID='322949227', REVIEW_HEADLINE='Super hard to assemble', REVIEW_COMMENTS=\"I bought this desk I thought I could assemble myself but unfortunately I can't I have been trying for several days the images are not clear at all I called Fingerhut to see if they can help me unfortunately no one seems to understand me it sounds as if they don't even speak English I spoke to 3 people today and than they tell me the only thing they can do is give me a manufacturer number to call 18885110775 and it turns out it's a fax number call it yourself it's a joke I don't know what else to do I need help and no one that can help me\", REVIEW_RATING=1, NR=0, CS=1, ALL_TEXT=\"Super hard to assemble I bought this desk I thought I could assemble myself but unfortunately I can't I have been trying for several days the images are not clear at all I called Fingerhut to see if they can help me unfortunately no one seems to understand me it sounds as if they don't even speak English I spoke to 3 people today and than they tell me the only thing they can do is give me a manufacturer number to call 18885110775 and it turns out it's a fax number call it yourself it's a joke I don't know what else to do I need help and no one that can help me\", model_NR=1, ALL_TEXT_2=\"Super hard to assemble I bought this desk I thought I could assemble myself but unfortunately I can't I have been trying for several days the images are not clear at all I called Fingerhut to see if they can help me unfortunately no one seems to understand me it sounds as if they don't even speak English I spoke to 3 people today and than they tell me the only thing they can do is give me a manufacturer number to call 18885110775 and it turns out it's a fax number call it yourself it's a joke I don't know what else to do I need help and no one that can help me\", regex_CS='false', model_CS=0), Row(UGC_ID='284336471', REVIEW_HEADLINE='Please dont send this again.', REVIEW_COMMENTS='I put vegies on it. Boring food.  Low taste.', REVIEW_RATING=3, NR=0, CS=1, ALL_TEXT='Please dont send this again. I put vegies on it. Boring food.  Low taste.', model_NR=1, ALL_TEXT_2='Please dont send this again. I put vegies on it. Boring food.  Low taste.', regex_CS='false', model_CS=0), Row(UGC_ID='312218545', REVIEW_HEADLINE='My logo is cut off on the sticker! Would Like this fixed', REVIEW_COMMENTS='My logo is cut off and that makes these stickers unusable. When I placed my logo on the vistaprint website and reviewed the logo appeared to be whole. When ordered it showed up cut off', REVIEW_RATING=1, NR=0, CS=1, ALL_TEXT='My logo is cut off on the sticker! Would Like this fixed My logo is cut off and that makes these stickers unusable. When I placed my logo on the vistaprint website and reviewed the logo appeared to be whole. When ordered it showed up cut off', model_NR=1, ALL_TEXT_2='My logo is cut off on the sticker! Would Like this fixed My logo is cut off and that makes these stickers unusable. When I placed my logo on the vistaprint website and reviewed the logo appeared to be whole. When ordered it showed up cut off', regex_CS='false', model_CS=0), Row(UGC_ID='323037852', REVIEW_HEADLINE='FINISHED APPEARANCE REALISTIC; STORAGE & MOBILITY SUCKS !!', REVIEW_COMMENTS='BH was very helpful while we were picking out tree.  Delivery was prompt.  Tree assembled easily/showed great.  Breakdown was a chore.  Handling of storage bags was difficult due to weakly stitched straps and mobility wheels too small.  When issues began to appear after several annual cycles, BH was stand-off-ish\\n(note: lack of email comm.)\\nI suggest you treat any tree purchase with extremely \"kid gloves\" since you are most likely to find yourself having to purchase a whole new tree for lack of repair parts or facilities.', REVIEW_RATING=2, NR=0, CS=1, ALL_TEXT='FINISHED APPEARANCE REALISTIC; STORAGE & MOBILITY SUCKS !! BH was very helpful while we were picking out tree.  Delivery was prompt.  Tree assembled easily/showed great.  Breakdown was a chore.  Handling of storage bags was difficult due to weakly stitched straps and mobility wheels too small.  When issues began to appear after several annual cycles, BH was stand-off-ish\\n(note: lack of email comm.)\\nI suggest you treat any tree purchase with extremely \"kid gloves\" since you are most likely to find yourself having to purchase a whole new tree for lack of repair parts or facilities.', model_NR=0, ALL_TEXT_2='FINISHED APPEARANCE REALISTIC; STORAGE & MOBILITY SUCKS !! BH was very helpful while we were picking out tree.  Delivery was prompt.  Tree assembled easily/showed great.  Breakdown was a chore.  Handling of storage bags was difficult due to weakly stitched straps and mobility wheels too small.  When issues began to appear after several annual cycles, BH was stand-off-ish\\n(note: lack of email comm.)\\nI suggest you treat any tree purchase with extremely \"kid gloves\" since you are most likely to find yourself having to purchase a whole new tree for lack of repair parts or facilities.', regex_CS='true', model_CS=0), Row(UGC_ID='267903868', REVIEW_HEADLINE='Not Happy', REVIEW_COMMENTS=\"We've had it for 6 months...no accidents, no tickets, no late payment no nothing and you raise the rates to over $125 per month on 1 vehicle because my husband commutes! Absolutely ridiculous!! He has been commuting to the same job for over 10 years. You change the tiering so you can justify charging hard working people more money...you are a good example and contributor to what is wrong in this country!  Shameful!!!\", REVIEW_RATING=1, NR=0, CS=1, ALL_TEXT=\"Not Happy We've had it for 6 months...no accidents, no tickets, no late payment no nothing and you raise the rates to over $125 per month on 1 vehicle because my husband commutes! Absolutely ridiculous!! He has been commuting to the same job for over 10 years. You change the tiering so you can justify charging hard working people more money...you are a good example and contributor to what is wrong in this country!  Shameful!!!\", model_NR=1, ALL_TEXT_2=\"Not Happy We've had it for 6 months...no accidents, no tickets, no late payment no nothing and you raise the rates to over $125 per month on 1 vehicle because my husband commutes! Absolutely ridiculous!! He has been commuting to the same job for over 10 years. You change the tiering so you can justify charging hard working people more money...you are a good example and contributor to what is wrong in this country!  Shameful!!!\", regex_CS='false', model_CS=0), Row(UGC_ID='267907500', REVIEW_HEADLINE='In process of reviewing other options.', REVIEW_COMMENTS=\"Not happy with the rate increases I've been receiving when I have never gotten 1 ticket or had any accidents. And you have a installment price. Been customer for a long time. Will be seeking other options for insurane.\", REVIEW_RATING=1, NR=0, CS=1, ALL_TEXT=\"In process of reviewing other options. Not happy with the rate increases I've been receiving when I have never gotten 1 ticket or had any accidents. And you have a installment price. Been customer for a long time. Will be seeking other options for insurane.\", model_NR=1, ALL_TEXT_2=\"In process of reviewing other options. Not happy with the rate increases I've been receiving when I have never gotten 1 ticket or had any accidents. And you have a installment price. Been customer for a long time. Will be seeking other options for insurane.\", regex_CS='false', model_CS=0), Row(UGC_ID='308403386', REVIEW_HEADLINE='I would not buy this product again', REVIEW_COMMENTS='I upgraded to these rims after having bike 2 years to replace rims with cracks. \\n2 years later, these upgraded rims have developed crack.', REVIEW_RATING=3, NR=0, CS=1, ALL_TEXT='I would not buy this product again I upgraded to these rims after having bike 2 years to replace rims with cracks. \\n2 years later, these upgraded rims have developed crack.', model_NR=1, ALL_TEXT_2='I would not buy this product again I upgraded to these rims after having bike 2 years to replace rims with cracks. \\n2 years later, these upgraded rims have developed crack.', regex_CS='false', model_CS=0), Row(UGC_ID='267897792', REVIEW_HEADLINE='Horrible', REVIEW_COMMENTS='I ordered six. Received 6 bags of sawdust with dried up, little, black, \"mini carrot\" sized, dead pieces of bulb.\\nExtremely disappointed. Will be Sending them back.', REVIEW_RATING=1, NR=0, CS=1, ALL_TEXT='Horrible I ordered six. Received 6 bags of sawdust with dried up, little, black, \"mini carrot\" sized, dead pieces of bulb.\\nExtremely disappointed. Will be Sending them back.', model_NR=1, ALL_TEXT_2='Horrible I ordered six. Received 6 bags of sawdust with dried up, little, black, \"mini carrot\" sized, dead pieces of bulb.\\nExtremely disappointed. Will be Sending them back.', regex_CS='false', model_CS=0), Row(UGC_ID='322999609', REVIEW_HEADLINE='Gotta keep them feeties warm in winter', REVIEW_COMMENTS=\"I enjoy these very much, especially since winter is upon us. Would love to know the best or recommended methods for washing them. The liner tends to crunch and the shoe is less tight. Plus we all know how foot odor can accumulate. What's recommended for cleaning?\", REVIEW_RATING=5, NR=0, CS=1, ALL_TEXT=\"Gotta keep them feeties warm in winter I enjoy these very much, especially since winter is upon us. Would love to know the best or recommended methods for washing them. The liner tends to crunch and the shoe is less tight. Plus we all know how foot odor can accumulate. What's recommended for cleaning?\", model_NR=0, ALL_TEXT_2=\"Gotta keep them feeties warm in winter I enjoy these very much, especially since winter is upon us. Would love to know the best or recommended methods for washing them. The liner tends to crunch and the shoe is less tight. Plus we all know how foot odor can accumulate. What's recommended for cleaning?\", regex_CS='false', model_CS=0), Row(UGC_ID='323023982', REVIEW_HEADLINE='Please how can I order more?', REVIEW_COMMENTS='For my every day wearing.  Goes well with slacks or jeans.\\nDo you have any more?  Would like to order for my daughter.\\nThank you.  Jane', REVIEW_RATING=5, NR=0, CS=1, ALL_TEXT='Please how can I order more? For my every day wearing.  Goes well with slacks or jeans.\\nDo you have any more?  Would like to order for my daughter.\\nThank you.  Jane', model_NR=0, ALL_TEXT_2='Please how can I order more? For my every day wearing.  Goes well with slacks or jeans.\\nDo you have any more?  Would like to order for my daughter.\\nThank you.  Jane', regex_CS='false', model_CS=0), Row(UGC_ID='322317273', REVIEW_HEADLINE='I am sending this back!', REVIEW_COMMENTS=\"It has buttons missing and it does NOT fit! I wish to exchange it for a different jacket that item number is;\\n#NQZAL in Medium size and in Black.....Clearance price is $74.97 and the name is; Larry Levine Women's Asymmetrical Hooded Puffer Jacket with Bib. Please let me know if there's something I need to do now before I send it? I still have the Box it came in.....thank you.....\", REVIEW_RATING=1, NR=0, CS=1, ALL_TEXT=\"I am sending this back! It has buttons missing and it does NOT fit! I wish to exchange it for a different jacket that item number is;\\n#NQZAL in Medium size and in Black.....Clearance price is $74.97 and the name is; Larry Levine Women's Asymmetrical Hooded Puffer Jacket with Bib. Please let me know if there's something I need to do now before I send it? I still have the Box it came in.....thank you.....\", model_NR=1, ALL_TEXT_2=\"I am sending this back! It has buttons missing and it does NOT fit! I wish to exchange it for a different jacket that item number is;\\n#NQZAL in Medium size and in Black.....Clearance price is $74.97 and the name is; Larry Levine Women's Asymmetrical Hooded Puffer Jacket with Bib. Please let me know if there's something I need to do now before I send it? I still have the Box it came in.....thank you.....\", regex_CS='false', model_CS=0), Row(UGC_ID='267904022', REVIEW_HEADLINE='New Formula is Terrible', REVIEW_COMMENTS=\"Why Clinique? Just why?! You took my favorite lipstick for over 20 years and ruined it. The new formula sucks. It does not stay on well and three of the last 3 tubes I have purchased have broken off less than half way through the tube. The High Impact lipstick formula was the best lipstick I have ever used and I tried many before finding yours. This new formula is not working for me so bye bye Felicia after all these years . You aretrying to keep up with the younger generation to improve your sinking sales but now you are driving us older customers away too so you will sink further. Please bring back your high impact formula lipstick. We want a lipstick that stays on, doesn't smell perfumey, that does not bleed outside our lips and that does not break off.\", REVIEW_RATING=2, NR=0, CS=1, ALL_TEXT=\"New Formula is Terrible Why Clinique? Just why?! You took my favorite lipstick for over 20 years and ruined it. The new formula sucks. It does not stay on well and three of the last 3 tubes I have purchased have broken off less than half way through the tube. The High Impact lipstick formula was the best lipstick I have ever used and I tried many before finding yours. This new formula is not working for me so bye bye Felicia after all these years . You aretrying to keep up with the younger generation to improve your sinking sales but now you are driving us older customers away too so you will sink further. Please bring back your high impact formula lipstick. We want a lipstick that stays on, doesn't smell perfumey, that does not bleed outside our lips and that does not break off.\", model_NR=0, ALL_TEXT_2=\"New Formula is Terrible Why Clinique? Just why?! You took my favorite lipstick for over 20 years and ruined it. The new formula sucks. It does not stay on well and three of the last 3 tubes I have purchased have broken off less than half way through the tube. The High Impact lipstick formula was the best lipstick I have ever used and I tried many before finding yours. This new formula is not working for me so bye bye Felicia after all these years . You aretrying to keep up with the younger generation to improve your sinking sales but now you are driving us older customers away too so you will sink further. Please bring back your high impact formula lipstick. We want a lipstick that stays on, doesn't smell perfumey, that does not bleed outside our lips and that does not break off.\", regex_CS='false', model_CS=0), Row(UGC_ID='265855852', REVIEW_HEADLINE='Almost everything is out of stock whenever I look on here...', REVIEW_COMMENTS='Almost everything is out of stock whenever I look on here. Really like this site and products offered if they were available.', REVIEW_RATING=2, NR=0, CS=1, ALL_TEXT='Almost everything is out of stock whenever I look on here... Almost everything is out of stock whenever I look on here. Really like this site and products offered if they were available.', model_NR=1, ALL_TEXT_2='Almost everything is out of stock whenever I look on here... Almost everything is out of stock whenever I look on here. Really like this site and products offered if they were available.', regex_CS='false', model_CS=0), Row(UGC_ID='273561634', REVIEW_HEADLINE='Wanted to love it', REVIEW_COMMENTS=\"As another reviewer notes, the hem on this skirt is uneven! I love the color but one side is a full inch shorter than the other. I'd also say this runs big. I ordered based on the measurements in the size chart but would actually wear two sizes smaller. I'd exchange for a smaller size if not for the hem!\", REVIEW_RATING=2, NR=0, CS=1, ALL_TEXT=\"Wanted to love it As another reviewer notes, the hem on this skirt is uneven! I love the color but one side is a full inch shorter than the other. I'd also say this runs big. I ordered based on the measurements in the size chart but would actually wear two sizes smaller. I'd exchange for a smaller size if not for the hem!\", model_NR=0, ALL_TEXT_2=\"Wanted to love it As another reviewer notes, the hem on this skirt is uneven! I love the color but one side is a full inch shorter than the other. I'd also say this runs big. I ordered based on the measurements in the size chart but would actually wear two sizes smaller. I'd exchange for a smaller size if not for the hem!\", regex_CS='false', model_CS=0), Row(UGC_ID='285163482', REVIEW_HEADLINE='We loved this foaming Softsoap it was gentle on the skin.', REVIEW_COMMENTS=\"I use it everyday. I like it's smell and feel. Especially how gentle it feels. M\\nWhere can I get more? I\", REVIEW_RATING=5, NR=0, CS=1, ALL_TEXT=\"We loved this foaming Softsoap it was gentle on the skin. I use it everyday. I like it's smell and feel. Especially how gentle it feels. M\\nWhere can I get more? I\", model_NR=0, ALL_TEXT_2=\"We loved this foaming Softsoap it was gentle on the skin. I use it everyday. I like it's smell and feel. Especially how gentle it feels. M\\nWhere can I get more? I\", regex_CS='false', model_CS=0), Row(UGC_ID='317760565', REVIEW_HEADLINE='if i needed it', REVIEW_COMMENTS='i needed a 3 1/2 inch dia and you sent a 5 1/2 i could not use it i sent it back and it,s been\\nalmost a month and i have not heard a thing on it.', REVIEW_RATING=2, NR=0, CS=1, ALL_TEXT='if i needed it i needed a 3 1/2 inch dia and you sent a 5 1/2 i could not use it i sent it back and it,s been\\nalmost a month and i have not heard a thing on it.', model_NR=1, ALL_TEXT_2='if i needed it i needed a 3 1/2 inch dia and you sent a 5 1/2 i could not use it i sent it back and it,s been\\nalmost a month and i have not heard a thing on it.', regex_CS='false', model_CS=0), Row(UGC_ID='317780110', REVIEW_HEADLINE='Gorgeous tree but lights burnt out after 4 years.', REVIEW_COMMENTS=\"We bought in 2017, lights are now completely out in tiger stripes around the tree. Lights out in 3/3 sections. Tried using the kit they provided, replacing bulbs and fuses. Lights are busted and we spent $400 on the tree. Going to have to string lights over the originals this year and next year it's going in the trash. We will take business elsewhere.\", REVIEW_RATING=3, NR=0, CS=1, ALL_TEXT=\"Gorgeous tree but lights burnt out after 4 years. We bought in 2017, lights are now completely out in tiger stripes around the tree. Lights out in 3/3 sections. Tried using the kit they provided, replacing bulbs and fuses. Lights are busted and we spent $400 on the tree. Going to have to string lights over the originals this year and next year it's going in the trash. We will take business elsewhere.\", model_NR=0, ALL_TEXT_2=\"Gorgeous tree but lights burnt out after 4 years. We bought in 2017, lights are now completely out in tiger stripes around the tree. Lights out in 3/3 sections. Tried using the kit they provided, replacing bulbs and fuses. Lights are busted and we spent $400 on the tree. Going to have to string lights over the originals this year and next year it's going in the trash. We will take business elsewhere.\", regex_CS='false', model_CS=0), Row(UGC_ID='317784062', REVIEW_HEADLINE=\"Lights didn't all work. Only middle section.\", REVIEW_COMMENTS='Tree branches are far from the ground.  Lots of gapping in center of tree so would need lots of filler decorations.', REVIEW_RATING=1, NR=0, CS=1, ALL_TEXT=\"Lights didn't all work. Only middle section. Tree branches are far from the ground.  Lots of gapping in center of tree so would need lots of filler decorations.\", model_NR=0, ALL_TEXT_2=\"Lights didn't all work. Only middle section. Tree branches are far from the ground.  Lots of gapping in center of tree so would need lots of filler decorations.\", regex_CS='false', model_CS=0), Row(UGC_ID='280446754', REVIEW_HEADLINE=\"Wanted to love this but couldn't\", REVIEW_COMMENTS=\"I love the beautiful rose gold color but that's where it ends. I purchased this from my local Aveda salon and was excited to use it. However, this product really irritates my lips. Goes on fine but after a few minutes, my lips start to sting. It is also very drying not nourishing at all. I'm wondering if the shimmer/glitter ingredient is the cause? I love Aveda products and use them daily. Unfortunately, this product is not for me.\", REVIEW_RATING=1, NR=0, CS=1, ALL_TEXT=\"Wanted to love this but couldn't I love the beautiful rose gold color but that's where it ends. I purchased this from my local Aveda salon and was excited to use it. However, this product really irritates my lips. Goes on fine but after a few minutes, my lips start to sting. It is also very drying not nourishing at all. I'm wondering if the shimmer/glitter ingredient is the cause? I love Aveda products and use them daily. Unfortunately, this product is not for me.\", model_NR=0, ALL_TEXT_2=\"Wanted to love this but couldn't I love the beautiful rose gold color but that's where it ends. I purchased this from my local Aveda salon and was excited to use it. However, this product really irritates my lips. Goes on fine but after a few minutes, my lips start to sting. It is also very drying not nourishing at all. I'm wondering if the shimmer/glitter ingredient is the cause? I love Aveda products and use them daily. Unfortunately, this product is not for me.\", regex_CS='false', model_CS=0), Row(UGC_ID='280441629', REVIEW_HEADLINE='Ironically, the Clinique products that cause irritation', REVIEW_COMMENTS='I purchased a set of this whole product line a while back, and all it did was to cause irritation to my skin. My skin was flaky and itchy, with red bumps all over my face. Stopped using it and my skin got better.  Very ironic that the Acne solution line is the one that cause my irritated skin to be more irritated.', REVIEW_RATING=1, NR=0, CS=1, ALL_TEXT='Ironically, the Clinique products that cause irritation I purchased a set of this whole product line a while back, and all it did was to cause irritation to my skin. My skin was flaky and itchy, with red bumps all over my face. Stopped using it and my skin got better.  Very ironic that the Acne solution line is the one that cause my irritated skin to be more irritated.', model_NR=0, ALL_TEXT_2='Ironically, the Clinique products that cause irritation I purchased a set of this whole product line a while back, and all it did was to cause irritation to my skin. My skin was flaky and itchy, with red bumps all over my face. Stopped using it and my skin got better.  Very ironic that the Acne solution line is the one that cause my irritated skin to be more irritated.', regex_CS='false', model_CS=0), Row(UGC_ID='317714538', REVIEW_HEADLINE='Yikes', REVIEW_COMMENTS=\"Well it didn't work out for me. For whatever reason, the morning after I applied the product, every area it was applied (fine lines at corners of my eyes and under eyes) was red, swollen and skin sloughed off. So I  would NOT reccomend\", REVIEW_RATING=1, NR=0, CS=1, ALL_TEXT=\"Yikes Well it didn't work out for me. For whatever reason, the morning after I applied the product, every area it was applied (fine lines at corners of my eyes and under eyes) was red, swollen and skin sloughed off. So I  would NOT reccomend\", model_NR=0, ALL_TEXT_2=\"Yikes Well it didn't work out for me. For whatever reason, the morning after I applied the product, every area it was applied (fine lines at corners of my eyes and under eyes) was red, swollen and skin sloughed off. So I  would NOT reccomend\", regex_CS='false', model_CS=0), Row(UGC_ID='317717472', REVIEW_HEADLINE='I have not been able to order from my account the last 3 ...', REVIEW_COMMENTS='I have not been able to order from my account the last 3 orders. Please fix it. This is the last tie I will order as a guest. My email is golfczech2@yahoo.com - please fix my account.', REVIEW_RATING=1, NR=0, CS=1, ALL_TEXT='I have not been able to order from my account the last 3 ... I have not been able to order from my account the last 3 orders. Please fix it. This is the last tie I will order as a guest. My email is golfczech2@yahoo.com - please fix my account.', model_NR=1, ALL_TEXT_2='I have not been able to order from my account the last 3 ... I have not been able to order from my account the last 3 orders. Please fix it. This is the last tie I will order as a guest. My email is golfczech2@yahoo.com - please fix my account.', regex_CS='false', model_CS=0), Row(UGC_ID='317694009', REVIEW_HEADLINE='Furnace functioning', REVIEW_COMMENTS='This Ducane furnace heats up the house quickly and efficiently ; good amount of heat. However, it is noisier than I expected when revving up and then down. Does it need some working in time or lubrication? should I call the installer or the co.', REVIEW_RATING=5, NR=0, CS=1, ALL_TEXT='Furnace functioning This Ducane furnace heats up the house quickly and efficiently ; good amount of heat. However, it is noisier than I expected when revving up and then down. Does it need some working in time or lubrication? should I call the installer or the co.', model_NR=0, ALL_TEXT_2='Furnace functioning This Ducane furnace heats up the house quickly and efficiently ; good amount of heat. However, it is noisier than I expected when revving up and then down. Does it need some working in time or lubrication? should I call the installer or the co.', regex_CS='false', model_CS=0), Row(UGC_ID='320901248', REVIEW_HEADLINE='Shopping is good but my last box of Navel oranges had 3 s...', REVIEW_COMMENTS='Shopping is good but my last box of Navel oranges had 3 spoiled oranges.Very disappointing. Can they be replaced?\\nBest,\\nDiana Farrell', REVIEW_RATING=3, NR=0, CS=1, ALL_TEXT='Shopping is good but my last box of Navel oranges had 3 s... Shopping is good but my last box of Navel oranges had 3 spoiled oranges.Very disappointing. Can they be replaced?\\nBest,\\nDiana Farrell', model_NR=0, ALL_TEXT_2='Shopping is good but my last box of Navel oranges had 3 s... Shopping is good but my last box of Navel oranges had 3 spoiled oranges.Very disappointing. Can they be replaced?\\nBest,\\nDiana Farrell', regex_CS='false', model_CS=0), Row(UGC_ID='265030834', REVIEW_HEADLINE='Just doing nothing', REVIEW_COMMENTS=\"1 star because it feels nice when you apply it. Apart from that there is absolutely nothing happening. It doesn't hydrate, my skin is still dry even under make up, still black circles, bags, puff etc. I wouldn't sugest anybody to buy it.Also don't apply on top of make up.The roll-on gonna destroy your under eye make up.Kind of money waste\", REVIEW_RATING=1, NR=0, CS=1, ALL_TEXT=\"Just doing nothing 1 star because it feels nice when you apply it. Apart from that there is absolutely nothing happening. It doesn't hydrate, my skin is still dry even under make up, still black circles, bags, puff etc. I wouldn't sugest anybody to buy it.Also don't apply on top of make up.The roll-on gonna destroy your under eye make up.Kind of money waste\", model_NR=0, ALL_TEXT_2=\"Just doing nothing 1 star because it feels nice when you apply it. Apart from that there is absolutely nothing happening. It doesn't hydrate, my skin is still dry even under make up, still black circles, bags, puff etc. I wouldn't sugest anybody to buy it.Also don't apply on top of make up.The roll-on gonna destroy your under eye make up.Kind of money waste\", regex_CS='false', model_CS=0), Row(UGC_ID='277627465', REVIEW_HEADLINE='Sun Protection', REVIEW_COMMENTS='I bought this product for a light base with sunscreen.  I can say it gave me a sheer coverage of foundation but after being outside it definitively had a \"slide\" to the product & the scent & slight taste of sunscreen wasn\\'t welcome.  I\\'m going give it a couple more trys but not sure I can recommend.', REVIEW_RATING=3, NR=0, CS=1, ALL_TEXT='Sun Protection I bought this product for a light base with sunscreen.  I can say it gave me a sheer coverage of foundation but after being outside it definitively had a \"slide\" to the product & the scent & slight taste of sunscreen wasn\\'t welcome.  I\\'m going give it a couple more trys but not sure I can recommend.', model_NR=0, ALL_TEXT_2='Sun Protection I bought this product for a light base with sunscreen.  I can say it gave me a sheer coverage of foundation but after being outside it definitively had a \"slide\" to the product & the scent & slight taste of sunscreen wasn\\'t welcome.  I\\'m going give it a couple more trys but not sure I can recommend.', regex_CS='false', model_CS=0), Row(UGC_ID='315202147', REVIEW_HEADLINE='length', REVIEW_COMMENTS='What is the length of this coat?', REVIEW_RATING=5, NR=0, CS=1, ALL_TEXT='length What is the length of this coat?', model_NR=1, ALL_TEXT_2='length What is the length of this coat?', regex_CS='false', model_CS=0), Row(UGC_ID='328079136', REVIEW_HEADLINE='Failed Baffle', REVIEW_COMMENTS=\"Muffler has been in use about 11 months.  A baffle inside has broken loose and is rattling loudly.  Was installed on a stock 4.6 Ford truck.  Purchased stainless steel to have a longer lasting muffler than the average performance muffler which rusts out so quickly.  Disappointed to be replacing so soon!  Did sound good prior to the failure.  Wouldn't risk trying another one.\", REVIEW_RATING=2, NR=0, CS=1, ALL_TEXT=\"Failed Baffle Muffler has been in use about 11 months.  A baffle inside has broken loose and is rattling loudly.  Was installed on a stock 4.6 Ford truck.  Purchased stainless steel to have a longer lasting muffler than the average performance muffler which rusts out so quickly.  Disappointed to be replacing so soon!  Did sound good prior to the failure.  Wouldn't risk trying another one.\", model_NR=1, ALL_TEXT_2=\"Failed Baffle Muffler has been in use about 11 months.  A baffle inside has broken loose and is rattling loudly.  Was installed on a stock 4.6 Ford truck.  Purchased stainless steel to have a longer lasting muffler than the average performance muffler which rusts out so quickly.  Disappointed to be replacing so soon!  Did sound good prior to the failure.  Wouldn't risk trying another one.\", regex_CS='false', model_CS=0), Row(UGC_ID='328115319', REVIEW_HEADLINE='I would not buy again or recommend your product.', REVIEW_COMMENTS=\"You sent triangle when they should have been squares.   The seams are extremely visual.  You photos online and in the catalog don't show them.\", REVIEW_RATING=2, NR=0, CS=1, ALL_TEXT=\"I would not buy again or recommend your product. You sent triangle when they should have been squares.   The seams are extremely visual.  You photos online and in the catalog don't show them.\", model_NR=1, ALL_TEXT_2=\"I would not buy again or recommend your product. You sent triangle when they should have been squares.   The seams are extremely visual.  You photos online and in the catalog don't show them.\", regex_CS='false', model_CS=0), Row(UGC_ID='268010482', REVIEW_HEADLINE=\"I don't think so\", REVIEW_COMMENTS='when I inflate to the neck comforter the required level, I expect that this level will be held for several minutes. But after 2-3 minutes the air starts to come out from the neck comforter. How can I fix it?', REVIEW_RATING=3, NR=0, CS=1, ALL_TEXT=\"I don't think so when I inflate to the neck comforter the required level, I expect that this level will be held for several minutes. But after 2-3 minutes the air starts to come out from the neck comforter. How can I fix it?\", model_NR=0, ALL_TEXT_2=\"I don't think so when I inflate to the neck comforter the required level, I expect that this level will be held for several minutes. But after 2-3 minutes the air starts to come out from the neck comforter. How can I fix it?\", regex_CS='false', model_CS=0), Row(UGC_ID='268002803', REVIEW_HEADLINE='I am tired of sinking money and time into this unit', REVIEW_COMMENTS=\"I may replace mine for half that price, that's all it's worth. I've had nothing but trouble and customer support really isn't any help but tell you to buy a new one. I'd look at other brands as I will be doing.\", REVIEW_RATING=2, NR=0, CS=1, ALL_TEXT=\"I am tired of sinking money and time into this unit I may replace mine for half that price, that's all it's worth. I've had nothing but trouble and customer support really isn't any help but tell you to buy a new one. I'd look at other brands as I will be doing.\", model_NR=1, ALL_TEXT_2=\"I am tired of sinking money and time into this unit I may replace mine for half that price, that's all it's worth. I've had nothing but trouble and customer support really isn't any help but tell you to buy a new one. I'd look at other brands as I will be doing.\", regex_CS='false', model_CS=0), Row(UGC_ID='268327019', REVIEW_HEADLINE='Not sure if it is bad', REVIEW_COMMENTS='Not sure if this wine is a bad batch or what.\\n Feels like it has a very very slight carbonation to it, almost like fermentation? \\n Very hard to describe but I almost wonder if it is spoiling.', REVIEW_RATING=2, NR=0, CS=1, ALL_TEXT='Not sure if it is bad Not sure if this wine is a bad batch or what.\\n Feels like it has a very very slight carbonation to it, almost like fermentation? \\n Very hard to describe but I almost wonder if it is spoiling.', model_NR=0, ALL_TEXT_2='Not sure if it is bad Not sure if this wine is a bad batch or what.\\n Feels like it has a very very slight carbonation to it, almost like fermentation? \\n Very hard to describe but I almost wonder if it is spoiling.', regex_CS='false', model_CS=0), Row(UGC_ID='327994728', REVIEW_HEADLINE='Terrible experience', REVIEW_COMMENTS=\"Bought it in Timberland store and after 2.5 h of wearing it, it literally looks completely damaged and as if it was several years old and worn out. I had my backpack for an hour while wearing the jacket, a regular one, which never ever damaged any of my clothes... My claim was twice rejected! This all is happening in Serbia in official Timberland store, so I am afraid that the quality of the jacket doesn't fit to its price or the jackets sold in your stores here are not originals. Whom can I contact, to send photos of the jacket which was worn for whole 2.5 hours and now may be thrown away? I am regular buyer of your clothes, jeans and shirts quite often, as well as your boots... So I expected high quality jacket. Unfortunately, it was disappointing.\", REVIEW_RATING=1, NR=0, CS=1, ALL_TEXT=\"Terrible experience Bought it in Timberland store and after 2.5 h of wearing it, it literally looks completely damaged and as if it was several years old and worn out. I had my backpack for an hour while wearing the jacket, a regular one, which never ever damaged any of my clothes... My claim was twice rejected! This all is happening in Serbia in official Timberland store, so I am afraid that the quality of the jacket doesn't fit to its price or the jackets sold in your stores here are not originals. Whom can I contact, to send photos of the jacket which was worn for whole 2.5 hours and now may be thrown away? I am regular buyer of your clothes, jeans and shirts quite often, as well as your boots... So I expected high quality jacket. Unfortunately, it was disappointing.\", model_NR=1, ALL_TEXT_2=\"Terrible experience Bought it in Timberland store and after 2.5 h of wearing it, it literally looks completely damaged and as if it was several years old and worn out. I had my backpack for an hour while wearing the jacket, a regular one, which never ever damaged any of my clothes... My claim was twice rejected! This all is happening in Serbia in official Timberland store, so I am afraid that the quality of the jacket doesn't fit to its price or the jackets sold in your stores here are not originals. Whom can I contact, to send photos of the jacket which was worn for whole 2.5 hours and now may be thrown away? I am regular buyer of your clothes, jeans and shirts quite often, as well as your boots... So I expected high quality jacket. Unfortunately, it was disappointing.\", regex_CS='false', model_CS=0), Row(UGC_ID='328048577', REVIEW_HEADLINE='DISGUSTING PRODUCT. Not even drywall mix is that hard.', REVIEW_COMMENTS=\"DISGUSTING PRODUCT. Not even drywall mix is that hard.\\nI decided to give it a try but I TOTALLY regretted it.\\nBought in February 2021 and it's printed BEST before October 2021.\", REVIEW_RATING=1, NR=0, CS=1, ALL_TEXT=\"DISGUSTING PRODUCT. Not even drywall mix is that hard. DISGUSTING PRODUCT. Not even drywall mix is that hard.\\nI decided to give it a try but I TOTALLY regretted it.\\nBought in February 2021 and it's printed BEST before October 2021.\", model_NR=1, ALL_TEXT_2=\"DISGUSTING PRODUCT. Not even drywall mix is that hard. DISGUSTING PRODUCT. Not even drywall mix is that hard.\\nI decided to give it a try but I TOTALLY regretted it.\\nBought in February 2021 and it's printed BEST before October 2021.\", regex_CS='false', model_CS=0), Row(UGC_ID='266178438', REVIEW_HEADLINE='Great Product but Zipper broke within 8 months', REVIEW_COMMENTS=\"I ABSOLUTELY LOVED this diaper bag. I used it for about 8 months with my son before the zipper came off the tracks and stopped being able to zip. I would still recommend this bag to everyone because it made me so organized. I just can't fathom paying $160 for ANOTHER diaper bag.\", REVIEW_RATING=3, NR=0, CS=1, ALL_TEXT=\"Great Product but Zipper broke within 8 months I ABSOLUTELY LOVED this diaper bag. I used it for about 8 months with my son before the zipper came off the tracks and stopped being able to zip. I would still recommend this bag to everyone because it made me so organized. I just can't fathom paying $160 for ANOTHER diaper bag.\", model_NR=1, ALL_TEXT_2=\"Great Product but Zipper broke within 8 months I ABSOLUTELY LOVED this diaper bag. I used it for about 8 months with my son before the zipper came off the tracks and stopped being able to zip. I would still recommend this bag to everyone because it made me so organized. I just can't fathom paying $160 for ANOTHER diaper bag.\", regex_CS='false', model_CS=0), Row(UGC_ID='314129021', REVIEW_HEADLINE='Where is my free gift', REVIEW_COMMENTS=\"I am not happy that I didn't get my gift.\", REVIEW_RATING=3, NR=0, CS=1, ALL_TEXT=\"Where is my free gift I am not happy that I didn't get my gift.\", model_NR=1, ALL_TEXT_2=\"Where is my free gift I am not happy that I didn't get my gift.\", regex_CS='false', model_CS=0), Row(UGC_ID='329715503', REVIEW_HEADLINE='Was the code automatically applied?', REVIEW_COMMENTS='Was the code automatically applied?', REVIEW_RATING=5, NR=0, CS=1, ALL_TEXT='Was the code automatically applied? Was the code automatically applied?', model_NR=0, ALL_TEXT_2='Was the code automatically applied? Was the code automatically applied?', regex_CS='false', model_CS=0), Row(UGC_ID='325414975', REVIEW_HEADLINE='Mercury Needs to Have Mercy', REVIEW_COMMENTS=\"After 18 years with this company and paying for full coverage insurance on numerous vehicles, it would be nice to be treated like a human and not a machine that shouldn't make mistakes.\", REVIEW_RATING=3, NR=0, CS=1, ALL_TEXT=\"Mercury Needs to Have Mercy After 18 years with this company and paying for full coverage insurance on numerous vehicles, it would be nice to be treated like a human and not a machine that shouldn't make mistakes.\", model_NR=0, ALL_TEXT_2=\"Mercury Needs to Have Mercy After 18 years with this company and paying for full coverage insurance on numerous vehicles, it would be nice to be treated like a human and not a machine that shouldn't make mistakes.\", regex_CS='false', model_CS=0), Row(UGC_ID='308405677', REVIEW_HEADLINE='So disappointed', REVIEW_COMMENTS='I buy this set hoping that this can help claim my skin join the cold weather, I follow the instructions of each product, but after using it for a few day, I have so many breach out form this, and also some red on my skin.', REVIEW_RATING=1, NR=0, CS=1, ALL_TEXT='So disappointed I buy this set hoping that this can help claim my skin join the cold weather, I follow the instructions of each product, but after using it for a few day, I have so many breach out form this, and also some red on my skin.', model_NR=0, ALL_TEXT_2='So disappointed I buy this set hoping that this can help claim my skin join the cold weather, I follow the instructions of each product, but after using it for a few day, I have so many breach out form this, and also some red on my skin.', regex_CS='false', model_CS=0), Row(UGC_ID='308431078', REVIEW_HEADLINE='Waaaaaay Overpriced', REVIEW_COMMENTS='Simply Almond and So Delicious Dairy Free Organic Almond Milk with Cashew are both identical ingredients at $.10 per oz, why is this more than double their prices?', REVIEW_RATING=2, NR=0, CS=1, ALL_TEXT='Waaaaaay Overpriced Simply Almond and So Delicious Dairy Free Organic Almond Milk with Cashew are both identical ingredients at $.10 per oz, why is this more than double their prices?', model_NR=1, ALL_TEXT_2='Waaaaaay Overpriced Simply Almond and So Delicious Dairy Free Organic Almond Milk with Cashew are both identical ingredients at $.10 per oz, why is this more than double their prices?', regex_CS='false', model_CS=0), Row(UGC_ID='329739514', REVIEW_HEADLINE='So cute but poor quality😞', REVIEW_COMMENTS=\"I bought two pairs of these- one for each of my daughters for Valentine's Day. They opened them at the same time and the exact same thing happened to both of them: The red beads at the top of the earrings popped off as they opened them. So disappointing! I too wish I would've read reviews before purchasing. These were on sale for $12/pair when I bought them, but poor value given that they broke immediately.\", REVIEW_RATING=1, NR=0, CS=1, ALL_TEXT=\"So cute but poor quality😞 I bought two pairs of these- one for each of my daughters for Valentine's Day. They opened them at the same time and the exact same thing happened to both of them: The red beads at the top of the earrings popped off as they opened them. So disappointing! I too wish I would've read reviews before purchasing. These were on sale for $12/pair when I bought them, but poor value given that they broke immediately.\", model_NR=0, ALL_TEXT_2=\"So cute but poor quality😞 I bought two pairs of these- one for each of my daughters for Valentine's Day. They opened them at the same time and the exact same thing happened to both of them: The red beads at the top of the earrings popped off as they opened them. So disappointing! I too wish I would've read reviews before purchasing. These were on sale for $12/pair when I bought them, but poor value given that they broke immediately.\", regex_CS='false', model_CS=0), Row(UGC_ID='325845753', REVIEW_HEADLINE='why can I not just enter my customer # to sign in ?', REVIEW_COMMENTS='why can I not just enter my customer # to sign in ?', REVIEW_RATING=4, NR=0, CS=1, ALL_TEXT='why can I not just enter my customer # to sign in ? why can I not just enter my customer # to sign in ?', model_NR=1, ALL_TEXT_2='why can I not just enter my customer # to sign in ? why can I not just enter my customer # to sign in ?', regex_CS='false', model_CS=0), Row(UGC_ID='326287433', REVIEW_HEADLINE='What have you done with this cereal??', REVIEW_COMMENTS=\"This is my favorite cereal.  And now I can't find it in any of my local stores.  I've always loved the coco dyno bites but the ones with marshmallows are the best but now suddenly they are no where to be found in any stores in town.  I'm furious. I want to know where my cereal is??\", REVIEW_RATING=1, NR=0, CS=1, ALL_TEXT=\"What have you done with this cereal?? This is my favorite cereal.  And now I can't find it in any of my local stores.  I've always loved the coco dyno bites but the ones with marshmallows are the best but now suddenly they are no where to be found in any stores in town.  I'm furious. I want to know where my cereal is??\", model_NR=0, ALL_TEXT_2=\"What have you done with this cereal?? This is my favorite cereal.  And now I can't find it in any of my local stores.  I've always loved the coco dyno bites but the ones with marshmallows are the best but now suddenly they are no where to be found in any stores in town.  I'm furious. I want to know where my cereal is??\", regex_CS='false', model_CS=0), Row(UGC_ID='316630214', REVIEW_HEADLINE='Good good experience, but my name and shipping is Thomas ...', REVIEW_COMMENTS=\"Good good experience, but my name and shipping is Thomas C Comitello,  695 Milligan Lane. West Islip, N.Y. 11795  please indicate same as computer kept putting number before my name couldn't change, frustrating!\", REVIEW_RATING=5, NR=0, CS=1, ALL_TEXT=\"Good good experience, but my name and shipping is Thomas ... Good good experience, but my name and shipping is Thomas C Comitello,  695 Milligan Lane. West Islip, N.Y. 11795  please indicate same as computer kept putting number before my name couldn't change, frustrating!\", model_NR=0, ALL_TEXT_2=\"Good good experience, but my name and shipping is Thomas ... Good good experience, but my name and shipping is Thomas C Comitello,  695 Milligan Lane. West Islip, N.Y. 11795  please indicate same as computer kept putting number before my name couldn't change, frustrating!\", regex_CS='true', model_CS=0), Row(UGC_ID='328076614', REVIEW_HEADLINE='Would not buy again', REVIEW_COMMENTS=\"Took it out the pack and it had feces on it got picks to prove it. My daughter was devastated when she got me and showed me it. Can't believe it, it was or look like a new pack. I sent it back without the pack so they could dispose of it. I don't wont them to resell this to anyone.\", REVIEW_RATING=1, NR=0, CS=1, ALL_TEXT=\"Would not buy again Took it out the pack and it had feces on it got picks to prove it. My daughter was devastated when she got me and showed me it. Can't believe it, it was or look like a new pack. I sent it back without the pack so they could dispose of it. I don't wont them to resell this to anyone.\", model_NR=1, ALL_TEXT_2=\"Would not buy again Took it out the pack and it had feces on it got picks to prove it. My daughter was devastated when she got me and showed me it. Can't believe it, it was or look like a new pack. I sent it back without the pack so they could dispose of it. I don't wont them to resell this to anyone.\", regex_CS='false', model_CS=0), Row(UGC_ID='280535796', REVIEW_HEADLINE='Beautiful, but poorly made', REVIEW_COMMENTS='This is beautiful, and it is true to size! The length, in my opinion, is great. Not too short at all.\\r\\nHowever, it is poorly made, which caused one side to have a pretty sizable gap where the arm goes. I attached a picture to show what I mean. The other side is flush with the skin and shows no bra. Disappointing for the price, but mine might have been a one off.\\r\\nFor added info: I\\'m 5\\'3.5\", 135 pounds, and technically a 36 C (but prefer my 38 B), and medium is definitely the right size aside from the wonky side', REVIEW_RATING=2, NR=0, CS=1, ALL_TEXT='Beautiful, but poorly made This is beautiful, and it is true to size! The length, in my opinion, is great. Not too short at all.\\r\\nHowever, it is poorly made, which caused one side to have a pretty sizable gap where the arm goes. I attached a picture to show what I mean. The other side is flush with the skin and shows no bra. Disappointing for the price, but mine might have been a one off.\\r\\nFor added info: I\\'m 5\\'3.5\", 135 pounds, and technically a 36 C (but prefer my 38 B), and medium is definitely the right size aside from the wonky side', model_NR=0, ALL_TEXT_2='Beautiful, but poorly made This is beautiful, and it is true to size! The length, in my opinion, is great. Not too short at all.\\r\\nHowever, it is poorly made, which caused one side to have a pretty sizable gap where the arm goes. I attached a picture to show what I mean. The other side is flush with the skin and shows no bra. Disappointing for the price, but mine might have been a one off.\\r\\nFor added info: I\\'m 5\\'3.5\", 135 pounds, and technically a 36 C (but prefer my 38 B), and medium is definitely the right size aside from the wonky side', regex_CS='false', model_CS=0), Row(UGC_ID='315031317', REVIEW_HEADLINE='It stings my lips', REVIEW_COMMENTS=\"I'm usually a fan of BB lip products especially the lip gloss.  Because my lips are dry, I tried the infused oil.  Tried several times and it stings my lips.  I added picture below and you can see how it separates.  This didn't happen with the other lip glosses I purchased from BB.\", REVIEW_RATING=1, NR=0, CS=1, ALL_TEXT=\"It stings my lips I'm usually a fan of BB lip products especially the lip gloss.  Because my lips are dry, I tried the infused oil.  Tried several times and it stings my lips.  I added picture below and you can see how it separates.  This didn't happen with the other lip glosses I purchased from BB.\", model_NR=0, ALL_TEXT_2=\"It stings my lips I'm usually a fan of BB lip products especially the lip gloss.  Because my lips are dry, I tried the infused oil.  Tried several times and it stings my lips.  I added picture below and you can see how it separates.  This didn't happen with the other lip glosses I purchased from BB.\", regex_CS='false', model_CS=0), Row(UGC_ID='280527906', REVIEW_HEADLINE='yes', REVIEW_COMMENTS='I need a 3 aa batter holder for my talking clock. can I get one. do you have a email I can send a picture to you?', REVIEW_RATING=5, NR=0, CS=1, ALL_TEXT='yes I need a 3 aa batter holder for my talking clock. can I get one. do you have a email I can send a picture to you?', model_NR=1, ALL_TEXT_2='yes I need a 3 aa batter holder for my talking clock. can I get one. do you have a email I can send a picture to you?', regex_CS='false', model_CS=0), Row(UGC_ID='318458313', REVIEW_HEADLINE='Not worth the money', REVIEW_COMMENTS='Poor quality for the price. Seems started to rip after 2 wears :(', REVIEW_RATING=2, NR=0, CS=1, ALL_TEXT='Not worth the money Poor quality for the price. Seems started to rip after 2 wears :(', model_NR=1, ALL_TEXT_2='Not worth the money Poor quality for the price. Seems started to rip after 2 wears :(', regex_CS='false', model_CS=0), Row(UGC_ID='283770942', REVIEW_HEADLINE='Enjoy life Brownie Mix-PLEASE BRING BACK!!!!', REVIEW_COMMENTS='I have several few allergies as well as my son with Ulcerative Colitis. I was so excited to find this mix!! I absolutely love it, tastes good, much better than the brownie cookies pre-made. I am devastated now finding out that they are no longer being made!!! What? Why??? Please consider bringing back.', REVIEW_RATING=5, NR=0, CS=1, ALL_TEXT='Enjoy life Brownie Mix-PLEASE BRING BACK!!!! I have several few allergies as well as my son with Ulcerative Colitis. I was so excited to find this mix!! I absolutely love it, tastes good, much better than the brownie cookies pre-made. I am devastated now finding out that they are no longer being made!!! What? Why??? Please consider bringing back.', model_NR=0, ALL_TEXT_2='Enjoy life Brownie Mix-PLEASE BRING BACK!!!! I have several few allergies as well as my son with Ulcerative Colitis. I was so excited to find this mix!! I absolutely love it, tastes good, much better than the brownie cookies pre-made. I am devastated now finding out that they are no longer being made!!! What? Why??? Please consider bringing back.', regex_CS='false', model_CS=0), Row(UGC_ID='283774429', REVIEW_HEADLINE='A solid pass', REVIEW_COMMENTS=\"I was hoping for a smoothie tasting wine, but this isn't it. It had a strong aftertaste. It gave me a dull headache after only 1 glass.\", REVIEW_RATING=1, NR=0, CS=1, ALL_TEXT=\"A solid pass I was hoping for a smoothie tasting wine, but this isn't it. It had a strong aftertaste. It gave me a dull headache after only 1 glass.\", model_NR=0, ALL_TEXT_2=\"A solid pass I was hoping for a smoothie tasting wine, but this isn't it. It had a strong aftertaste. It gave me a dull headache after only 1 glass.\", regex_CS='false', model_CS=0), Row(UGC_ID='283778493', REVIEW_HEADLINE='Not recommended', REVIEW_COMMENTS=\"I definitely don't feel safe drinking out of it - parts of the glazing is missing and you can potentially cut yourself on the rough, unglazed parts, it can be your lips or your fingers. It's so poorly made but the idea is so cute, I'm really debating if I'm keeping it and maybe use it as a cactus planter or just return it...\", REVIEW_RATING=2, NR=0, CS=1, ALL_TEXT=\"Not recommended I definitely don't feel safe drinking out of it - parts of the glazing is missing and you can potentially cut yourself on the rough, unglazed parts, it can be your lips or your fingers. It's so poorly made but the idea is so cute, I'm really debating if I'm keeping it and maybe use it as a cactus planter or just return it...\", model_NR=0, ALL_TEXT_2=\"Not recommended I definitely don't feel safe drinking out of it - parts of the glazing is missing and you can potentially cut yourself on the rough, unglazed parts, it can be your lips or your fingers. It's so poorly made but the idea is so cute, I'm really debating if I'm keeping it and maybe use it as a cactus planter or just return it...\", regex_CS='true', model_CS=0), Row(UGC_ID='266162925', REVIEW_HEADLINE='Love the looks but tore', REVIEW_COMMENTS='No, they tore at the seams when I first put them on.', REVIEW_RATING=1, NR=0, CS=1, ALL_TEXT='Love the looks but tore No, they tore at the seams when I first put them on.', model_NR=1, ALL_TEXT_2='Love the looks but tore No, they tore at the seams when I first put them on.', regex_CS='false', model_CS=0), Row(UGC_ID='325568858', REVIEW_HEADLINE='did not fit.', REVIEW_COMMENTS='Notice, This extended ramp will not fit the BW-1000A Lift table unless you drill new holes in the lift table. Product shows that it should fit.', REVIEW_RATING=1, NR=0, CS=1, ALL_TEXT='did not fit. Notice, This extended ramp will not fit the BW-1000A Lift table unless you drill new holes in the lift table. Product shows that it should fit.', model_NR=0, ALL_TEXT_2='did not fit. Notice, This extended ramp will not fit the BW-1000A Lift table unless you drill new holes in the lift table. Product shows that it should fit.', regex_CS='false', model_CS=0), Row(UGC_ID='322446155', REVIEW_HEADLINE='first time used', REVIEW_COMMENTS='run time 1 hour and had to charge, only cleaned about 2/3rd of my 3 car drive way, it could be a lot better, my gas paddle snowblower worked better. Disappointed. Can i get my money back?', REVIEW_RATING=3, NR=0, CS=1, ALL_TEXT='first time used run time 1 hour and had to charge, only cleaned about 2/3rd of my 3 car drive way, it could be a lot better, my gas paddle snowblower worked better. Disappointed. Can i get my money back?', model_NR=0, ALL_TEXT_2='first time used run time 1 hour and had to charge, only cleaned about 2/3rd of my 3 car drive way, it could be a lot better, my gas paddle snowblower worked better. Disappointed. Can i get my money back?', regex_CS='false', model_CS=0), Row(UGC_ID='317196342', REVIEW_HEADLINE='Needs some improvement, before I would recommend', REVIEW_COMMENTS=\"My Kinky Boots (Santa legs) bubble bar was broken when I first opened the box.  Lush should change the stuffing to the paper grass instead of peanuts..the peanuts look cheap and don't offer the same protection.  I also wish they would include numbers for each day that you need to open up, instead of just open cubes.  I watched a video of an unboxing of the European Lush 24 day advent calendar and the box presentation is so much more beautiful than the US box.  I also wish the US advent calendar offered 24 days, instead of only 12 days.  The products included are a good variety of different bath and body products that Lush has to offer.\", REVIEW_RATING=3, NR=0, CS=1, ALL_TEXT=\"Needs some improvement, before I would recommend My Kinky Boots (Santa legs) bubble bar was broken when I first opened the box.  Lush should change the stuffing to the paper grass instead of peanuts..the peanuts look cheap and don't offer the same protection.  I also wish they would include numbers for each day that you need to open up, instead of just open cubes.  I watched a video of an unboxing of the European Lush 24 day advent calendar and the box presentation is so much more beautiful than the US box.  I also wish the US advent calendar offered 24 days, instead of only 12 days.  The products included are a good variety of different bath and body products that Lush has to offer.\", model_NR=1, ALL_TEXT_2=\"Needs some improvement, before I would recommend My Kinky Boots (Santa legs) bubble bar was broken when I first opened the box.  Lush should change the stuffing to the paper grass instead of peanuts..the peanuts look cheap and don't offer the same protection.  I also wish they would include numbers for each day that you need to open up, instead of just open cubes.  I watched a video of an unboxing of the European Lush 24 day advent calendar and the box presentation is so much more beautiful than the US box.  I also wish the US advent calendar offered 24 days, instead of only 12 days.  The products included are a good variety of different bath and body products that Lush has to offer.\", regex_CS='false', model_CS=0), Row(UGC_ID='285495420', REVIEW_HEADLINE='Better than what we had', REVIEW_COMMENTS=\"At first it was very comfortable, but is the beginning of August and it is already starting to sink in. It was supposed to be firm but it wasn't in my opinion. The price was fair however since the one we originally ordered was not available.\", REVIEW_RATING=3, NR=0, CS=1, ALL_TEXT=\"Better than what we had At first it was very comfortable, but is the beginning of August and it is already starting to sink in. It was supposed to be firm but it wasn't in my opinion. The price was fair however since the one we originally ordered was not available.\", model_NR=1, ALL_TEXT_2=\"Better than what we had At first it was very comfortable, but is the beginning of August and it is already starting to sink in. It was supposed to be firm but it wasn't in my opinion. The price was fair however since the one we originally ordered was not available.\", regex_CS='false', model_CS=0), Row(UGC_ID='285502943', REVIEW_HEADLINE='Never', REVIEW_COMMENTS='I sent many times inquiry to agent, Unfortunately NO response.', REVIEW_RATING=1, NR=0, CS=1, ALL_TEXT='Never I sent many times inquiry to agent, Unfortunately NO response.', model_NR=1, ALL_TEXT_2='Never I sent many times inquiry to agent, Unfortunately NO response.', regex_CS='false', model_CS=0), Row(UGC_ID='285501924', REVIEW_HEADLINE=\"How come I can't enter AK as billing address?\", REVIEW_COMMENTS=\"How come I can't enter AK as billing address?????\", REVIEW_RATING=2, NR=0, CS=1, ALL_TEXT=\"How come I can't enter AK as billing address? How come I can't enter AK as billing address?????\", model_NR=0, ALL_TEXT_2=\"How come I can't enter AK as billing address? How come I can't enter AK as billing address?????\", regex_CS='false', model_CS=0), Row(UGC_ID='329021105', REVIEW_HEADLINE='No good', REVIEW_COMMENTS=\"I revived this as a Christmas gift from a friend.   I was so excited as I love the eye lift product.   Just two weeks in I've noticed it's drying my eye area.  It also tends to be a bit itchy.   I'm beyond disappointed and I question why I spend so much on La Mer overall.   I'm unable to return it as I don't buy it.   What a waste of money,\", REVIEW_RATING=1, NR=0, CS=1, ALL_TEXT=\"No good I revived this as a Christmas gift from a friend.   I was so excited as I love the eye lift product.   Just two weeks in I've noticed it's drying my eye area.  It also tends to be a bit itchy.   I'm beyond disappointed and I question why I spend so much on La Mer overall.   I'm unable to return it as I don't buy it.   What a waste of money,\", model_NR=0, ALL_TEXT_2=\"No good I revived this as a Christmas gift from a friend.   I was so excited as I love the eye lift product.   Just two weeks in I've noticed it's drying my eye area.  It also tends to be a bit itchy.   I'm beyond disappointed and I question why I spend so much on La Mer overall.   I'm unable to return it as I don't buy it.   What a waste of money,\", regex_CS='true', model_CS=0), Row(UGC_ID='328916763', REVIEW_HEADLINE='Not for Allergy-Prone and sensitive skin', REVIEW_COMMENTS='I have sensitive skin but never had any problem with other ESTÉE LAUDER products except this one! after few times it made the skin around my eyes reddish and itchy with small blisters! BE CAREFUL !!', REVIEW_RATING=1, NR=0, CS=1, ALL_TEXT='Not for Allergy-Prone and sensitive skin I have sensitive skin but never had any problem with other ESTÉE LAUDER products except this one! after few times it made the skin around my eyes reddish and itchy with small blisters! BE CAREFUL !!', model_NR=0, ALL_TEXT_2='Not for Allergy-Prone and sensitive skin I have sensitive skin but never had any problem with other ESTÉE LAUDER products except this one! after few times it made the skin around my eyes reddish and itchy with small blisters! BE CAREFUL !!', regex_CS='false', model_CS=0), Row(UGC_ID='328902358', REVIEW_HEADLINE='Not for sensitive skin', REVIEW_COMMENTS=\"This actually irritated me a lot. After two applications, my skin was burning, turning red and pustules showed up. I wouldn't recommend this to any one with sensitive skin and it should be noted in the description that it is not for sensitive skin. I purchased this product. It was not a sample.\", REVIEW_RATING=1, NR=0, CS=1, ALL_TEXT=\"Not for sensitive skin This actually irritated me a lot. After two applications, my skin was burning, turning red and pustules showed up. I wouldn't recommend this to any one with sensitive skin and it should be noted in the description that it is not for sensitive skin. I purchased this product. It was not a sample.\", model_NR=0, ALL_TEXT_2=\"Not for sensitive skin This actually irritated me a lot. After two applications, my skin was burning, turning red and pustules showed up. I wouldn't recommend this to any one with sensitive skin and it should be noted in the description that it is not for sensitive skin. I purchased this product. It was not a sample.\", regex_CS='false', model_CS=0), Row(UGC_ID='284343366', REVIEW_HEADLINE='Thinking about cancelling these guys insurance went up.', REVIEW_COMMENTS=\"Once my renewal was up and Covid 19 hit ,my auto insurance went up almost $30 a Month. No accident's or anything has changed. Will not buy with them again.\", REVIEW_RATING=1, NR=0, CS=1, ALL_TEXT=\"Thinking about cancelling these guys insurance went up. Once my renewal was up and Covid 19 hit ,my auto insurance went up almost $30 a Month. No accident's or anything has changed. Will not buy with them again.\", model_NR=1, ALL_TEXT_2=\"Thinking about cancelling these guys insurance went up. Once my renewal was up and Covid 19 hit ,my auto insurance went up almost $30 a Month. No accident's or anything has changed. Will not buy with them again.\", regex_CS='false', model_CS=0), Row(UGC_ID='268851424', REVIEW_HEADLINE='Hi there!', REVIEW_COMMENTS='Hi there!\\nWas excited to see a Buy one get one free sale, however, when i checked out, I only got a couple free things.\\nCan you please take a look and see if there is adjustment to help me out?\\nThanks!\\nTamsen Lepage', REVIEW_RATING=3, NR=0, CS=1, ALL_TEXT='Hi there! Hi there!\\nWas excited to see a Buy one get one free sale, however, when i checked out, I only got a couple free things.\\nCan you please take a look and see if there is adjustment to help me out?\\nThanks!\\nTamsen Lepage', model_NR=1, ALL_TEXT_2='Hi there! Hi there!\\nWas excited to see a Buy one get one free sale, however, when i checked out, I only got a couple free things.\\nCan you please take a look and see if there is adjustment to help me out?\\nThanks!\\nTamsen Lepage', regex_CS='false', model_CS=0), Row(UGC_ID='299709345', REVIEW_HEADLINE='The size for the wrong size phone was sent.', REVIEW_COMMENTS='I have had no luck getting the size correct. So here I am with a case I can not use.\\nHELP I need an SE phone case.', REVIEW_RATING=1, NR=0, CS=1, ALL_TEXT='The size for the wrong size phone was sent. I have had no luck getting the size correct. So here I am with a case I can not use.\\nHELP I need an SE phone case.', model_NR=1, ALL_TEXT_2='The size for the wrong size phone was sent. I have had no luck getting the size correct. So here I am with a case I can not use.\\nHELP I need an SE phone case.', regex_CS='false', model_CS=0), Row(UGC_ID='321258172', REVIEW_HEADLINE='Also stumped', REVIEW_COMMENTS='Stuck, have tried to interpret raglan decreases many ways to no avail, may have to frog.  Really not happy, love the yarn and the design, I would welcome help.', REVIEW_RATING=1, NR=0, CS=1, ALL_TEXT='Also stumped Stuck, have tried to interpret raglan decreases many ways to no avail, may have to frog.  Really not happy, love the yarn and the design, I would welcome help.', model_NR=0, ALL_TEXT_2='Also stumped Stuck, have tried to interpret raglan decreases many ways to no avail, may have to frog.  Really not happy, love the yarn and the design, I would welcome help.', regex_CS='false', model_CS=0), Row(UGC_ID='284368718', REVIEW_HEADLINE='Covid sucks !', REVIEW_COMMENTS='Case was closed . Still unable to work due to rispitory issues from covid illness contracted while working there', REVIEW_RATING=2, NR=0, CS=1, ALL_TEXT='Covid sucks ! Case was closed . Still unable to work due to rispitory issues from covid illness contracted while working there', model_NR=1, ALL_TEXT_2='Covid sucks ! Case was closed . Still unable to work due to rispitory issues from covid illness contracted while working there', regex_CS='false', model_CS=0), Row(UGC_ID='317147701', REVIEW_HEADLINE='DEVASTATED', REVIEW_COMMENTS='THIS IS BRAND NEW TREE RIGHT OUT OF THE BOX......I AM SO UPSET AND SAD!   NEVER, EVER HAD A PROBLEM WITH OUR PREVIOUS BALSAM FLOCKED TREE...HAD THAT ONE FOR YEARS.  I thought I was helping a family by donating our previous Balsam Hill tree and purchasing this one. I believe in paying more for quality, but OBVIOUSLY I got scammed😞', REVIEW_RATING=1, NR=0, CS=1, ALL_TEXT='DEVASTATED THIS IS BRAND NEW TREE RIGHT OUT OF THE BOX......I AM SO UPSET AND SAD!   NEVER, EVER HAD A PROBLEM WITH OUR PREVIOUS BALSAM FLOCKED TREE...HAD THAT ONE FOR YEARS.  I thought I was helping a family by donating our previous Balsam Hill tree and purchasing this one. I believe in paying more for quality, but OBVIOUSLY I got scammed😞', model_NR=1, ALL_TEXT_2='DEVASTATED THIS IS BRAND NEW TREE RIGHT OUT OF THE BOX......I AM SO UPSET AND SAD!   NEVER, EVER HAD A PROBLEM WITH OUR PREVIOUS BALSAM FLOCKED TREE...HAD THAT ONE FOR YEARS.  I thought I was helping a family by donating our previous Balsam Hill tree and purchasing this one. I believe in paying more for quality, but OBVIOUSLY I got scammed😞', regex_CS='false', model_CS=0), Row(UGC_ID='317204442', REVIEW_HEADLINE='OverPriced!!!', REVIEW_COMMENTS='Over charge is ridiculous!', REVIEW_RATING=1, NR=0, CS=1, ALL_TEXT='OverPriced!!! Over charge is ridiculous!', model_NR=1, ALL_TEXT_2='OverPriced!!! Over charge is ridiculous!', regex_CS='false', model_CS=0), Row(UGC_ID='321342589', REVIEW_HEADLINE='ls coil covers', REVIEW_COMMENTS='They did not & will not fit even with modifications.', REVIEW_RATING=1, NR=0, CS=1, ALL_TEXT='ls coil covers They did not & will not fit even with modifications.', model_NR=1, ALL_TEXT_2='ls coil covers They did not & will not fit even with modifications.', regex_CS='false', model_CS=0), Row(UGC_ID='321342673', REVIEW_HEADLINE='Yes', REVIEW_COMMENTS='When you planing to make wallet case for iPhone 12 pro max ??', REVIEW_RATING=5, NR=0, CS=1, ALL_TEXT='Yes When you planing to make wallet case for iPhone 12 pro max ??', model_NR=1, ALL_TEXT_2='Yes When you planing to make wallet case for iPhone 12 pro max ??', regex_CS='false', model_CS=0), Row(UGC_ID='271482745', REVIEW_HEADLINE='THIS ITEMS PRICING HAS WENT UP FROM $6.37 TO $17.17 WHY?', REVIEW_COMMENTS='THIS ITEMS PRICING HAS WENT UP FROM $6.37 TO $17.17 WHY?\\nTHIS IS CRAZY I HAVE BOUGHT THIS 3X THIS MONTH AND THE PRICING JUST KEEPS INCREASING.', REVIEW_RATING=1, NR=0, CS=1, ALL_TEXT='THIS ITEMS PRICING HAS WENT UP FROM $6.37 TO $17.17 WHY? THIS ITEMS PRICING HAS WENT UP FROM $6.37 TO $17.17 WHY?\\nTHIS IS CRAZY I HAVE BOUGHT THIS 3X THIS MONTH AND THE PRICING JUST KEEPS INCREASING.', model_NR=1, ALL_TEXT_2='THIS ITEMS PRICING HAS WENT UP FROM $6.37 TO $17.17 WHY? THIS ITEMS PRICING HAS WENT UP FROM $6.37 TO $17.17 WHY?\\nTHIS IS CRAZY I HAVE BOUGHT THIS 3X THIS MONTH AND THE PRICING JUST KEEPS INCREASING.', regex_CS='false', model_CS=0), Row(UGC_ID='328916465', REVIEW_HEADLINE='Junk', REVIEW_COMMENTS='I bought this pump 4.5 years ago and it is now ready for the pump wasteland. The \"drive\" is dead. All things mechanical are still working but without a working drive this pump must be replaced. The Hayward design will not allow replacement of the drive only. I spent over $1000 to purchase and have this pump professionally installed expecting at least 10 years of service (my previous pump lasted 16 years). The pump runs 8 hours per day year around. There is no reason the drive should have failed after 4.5 years. I am now thinking Pentair...', REVIEW_RATING=1, NR=0, CS=1, ALL_TEXT='Junk I bought this pump 4.5 years ago and it is now ready for the pump wasteland. The \"drive\" is dead. All things mechanical are still working but without a working drive this pump must be replaced. The Hayward design will not allow replacement of the drive only. I spent over $1000 to purchase and have this pump professionally installed expecting at least 10 years of service (my previous pump lasted 16 years). The pump runs 8 hours per day year around. There is no reason the drive should have failed after 4.5 years. I am now thinking Pentair...', model_NR=1, ALL_TEXT_2='Junk I bought this pump 4.5 years ago and it is now ready for the pump wasteland. The \"drive\" is dead. All things mechanical are still working but without a working drive this pump must be replaced. The Hayward design will not allow replacement of the drive only. I spent over $1000 to purchase and have this pump professionally installed expecting at least 10 years of service (my previous pump lasted 16 years). The pump runs 8 hours per day year around. There is no reason the drive should have failed after 4.5 years. I am now thinking Pentair...', regex_CS='false', model_CS=0), Row(UGC_ID='308263130', REVIEW_HEADLINE='Wrong date', REVIEW_COMMENTS='Not happy I would like to see dates i gave you uthe one', REVIEW_RATING=1, NR=0, CS=1, ALL_TEXT='Wrong date Not happy I would like to see dates i gave you uthe one', model_NR=1, ALL_TEXT_2='Wrong date Not happy I would like to see dates i gave you uthe one', regex_CS='false', model_CS=0), Row(UGC_ID='308882943', REVIEW_HEADLINE=\"It doesn't appear I received the full 25% discount.\", REVIEW_COMMENTS=\"It doesn't appear I received the full 25% discount. Please review and update as necessary. Thanks!\", REVIEW_RATING=2, NR=0, CS=1, ALL_TEXT=\"It doesn't appear I received the full 25% discount. It doesn't appear I received the full 25% discount. Please review and update as necessary. Thanks!\", model_NR=1, ALL_TEXT_2=\"It doesn't appear I received the full 25% discount. It doesn't appear I received the full 25% discount. Please review and update as necessary. Thanks!\", regex_CS='false', model_CS=0), Row(UGC_ID='266169659', REVIEW_HEADLINE='Hydrated my skin but', REVIEW_COMMENTS='Hydrated my skin but got acne right afterwards. I am not sure if the mask was the reason by my skin broke out.', REVIEW_RATING=3, NR=0, CS=1, ALL_TEXT='Hydrated my skin but Hydrated my skin but got acne right afterwards. I am not sure if the mask was the reason by my skin broke out.', model_NR=0, ALL_TEXT_2='Hydrated my skin but Hydrated my skin but got acne right afterwards. I am not sure if the mask was the reason by my skin broke out.', regex_CS='false', model_CS=0)]"
     ]
    }
   ],
   "source": [
    "pd.set_option('display.max_colwidth', -1)\n",
    "pd.set_option('display.max_columns', None)\n",
    "pd.set_option('display.max_rows', None)\n",
    "FN.head(100)"
   ]
  },
  {
   "cell_type": "code",
   "execution_count": null,
   "metadata": {},
   "outputs": [],
   "source": []
  },
  {
   "cell_type": "code",
   "execution_count": null,
   "metadata": {},
   "outputs": [],
   "source": []
  },
  {
   "cell_type": "code",
   "execution_count": 52,
   "metadata": {},
   "outputs": [
    {
     "data": {
      "application/vnd.jupyter.widget-view+json": {
       "model_id": "73c5c66f4ee4428fa560b647c4c72eb4",
       "version_major": 2,
       "version_minor": 0
      },
      "text/plain": [
       "VBox()"
      ]
     },
     "metadata": {},
     "output_type": "display_data"
    },
    {
     "data": {
      "application/vnd.jupyter.widget-view+json": {
       "model_id": "",
       "version_major": 2,
       "version_minor": 0
      },
      "text/plain": [
       "FloatProgress(value=0.0, bar_style='info', description='Progress:', layout=Layout(height='25px', width='50%'),…"
      ]
     },
     "metadata": {},
     "output_type": "display_data"
    }
   ],
   "source": [
    "from pyspark.sql.types import *\n",
    "\n",
    "mySchema = StructType([StructField(\"UGC_ID\", StringType(), True)\\\n",
    ",StructField(\"REVIEW_HEADLINE\", StringType(), True)\\\n",
    ",StructField(\"REVIEW_COMMENTS\", StringType(), True)\\\n",
    ",StructField(\"REVIEW_RATING\", IntegerType(), True)\\\n",
    ",StructField(\"NR\", IntegerType(), True)\\\n",
    ",StructField(\"CS\", IntegerType(), True)\\\n",
    ",StructField(\"ALL_TEXT\", StringType(), True)\\\n",
    ",StructField(\"model_NR\", IntegerType(), True)\\\n",
    ",StructField(\"ALL_TEXT_2\", StringType(), True)\\\n",
    ",StructField(\"regex_CS\", StringType(), True)\\\n",
    ",StructField(\"model_CS\", IntegerType(), True)])   \n",
    "\n"
   ]
  },
  {
   "cell_type": "code",
   "execution_count": 53,
   "metadata": {},
   "outputs": [
    {
     "data": {
      "application/vnd.jupyter.widget-view+json": {
       "model_id": "8e0f134ab57a4b6aa93cc95ae4873661",
       "version_major": 2,
       "version_minor": 0
      },
      "text/plain": [
       "VBox()"
      ]
     },
     "metadata": {},
     "output_type": "display_data"
    },
    {
     "data": {
      "application/vnd.jupyter.widget-view+json": {
       "model_id": "",
       "version_major": 2,
       "version_minor": 0
      },
      "text/plain": [
       "FloatProgress(value=0.0, bar_style='info', description='Progress:', layout=Layout(height='25px', width='50%'),…"
      ]
     },
     "metadata": {},
     "output_type": "display_data"
    }
   ],
   "source": [
    "SNOWFLAKE_SOURCE_NAME = \"net.snowflake.spark.snowflake\"\n",
    "\n",
    "sfOptions = {\n",
    "  'sfURL' : 'powerreviews.snowflakecomputing.com',\n",
    "  'sfAccount' : 'powerreviews',\n",
    "  'sfUser' : username,\n",
    "  'sfPassword' : password,\n",
    "  'sfDatabase' : 'ANALYTICS_WORKSHOP',\n",
    "  'sfSchema' : 'DATA_SCIENCE',\n",
    "  'sfWarehouse' : 'LOWER_ENV_WAREHOUSE'\n",
    "}"
   ]
  },
  {
   "cell_type": "code",
   "execution_count": 56,
   "metadata": {},
   "outputs": [
    {
     "data": {
      "application/vnd.jupyter.widget-view+json": {
       "model_id": "8db7c5d742da4a83a52735f90daa8a89",
       "version_major": 2,
       "version_minor": 0
      },
      "text/plain": [
       "VBox()"
      ]
     },
     "metadata": {},
     "output_type": "display_data"
    },
    {
     "data": {
      "application/vnd.jupyter.widget-view+json": {
       "model_id": "",
       "version_major": 2,
       "version_minor": 0
      },
      "text/plain": [
       "FloatProgress(value=0.0, bar_style='info', description='Progress:', layout=Layout(height='25px', width='50%'),…"
      ]
     },
     "metadata": {},
     "output_type": "display_data"
    }
   ],
   "source": [
    "#Turn into spark dataframe in order to write to Snowflake\n",
    "#Couldn't get write_pandas() to work to write directly from pandas to Snowflake\n",
    "FN = spark.createDataFrame(FN, schema=mySchema)"
   ]
  },
  {
   "cell_type": "code",
   "execution_count": 57,
   "metadata": {},
   "outputs": [
    {
     "data": {
      "application/vnd.jupyter.widget-view+json": {
       "model_id": "f047981f08a448b5ae1840937eae07fc",
       "version_major": 2,
       "version_minor": 0
      },
      "text/plain": [
       "VBox()"
      ]
     },
     "metadata": {},
     "output_type": "display_data"
    },
    {
     "data": {
      "application/vnd.jupyter.widget-view+json": {
       "model_id": "",
       "version_major": 2,
       "version_minor": 0
      },
      "text/plain": [
       "FloatProgress(value=0.0, bar_style='info', description='Progress:', layout=Layout(height='25px', width='50%'),…"
      ]
     },
     "metadata": {},
     "output_type": "display_data"
    }
   ],
   "source": [
    "FN.write.format(SNOWFLAKE_SOURCE_NAME).options(**sfOptions) \\\n",
    "    .option(\"dbtable\",\"CS_FN_TEST4_FULL\").mode(\"append\").save()\n"
   ]
  },
  {
   "cell_type": "code",
   "execution_count": null,
   "metadata": {},
   "outputs": [],
   "source": []
  },
  {
   "cell_type": "code",
   "execution_count": null,
   "metadata": {},
   "outputs": [],
   "source": []
  },
  {
   "cell_type": "code",
   "execution_count": null,
   "metadata": {},
   "outputs": [],
   "source": []
  },
  {
   "cell_type": "code",
   "execution_count": 48,
   "metadata": {},
   "outputs": [
    {
     "data": {
      "application/vnd.jupyter.widget-view+json": {
       "model_id": "fb2a3797eed44360838fe3ed70d224d2",
       "version_major": 2,
       "version_minor": 0
      },
      "text/plain": [
       "VBox()"
      ]
     },
     "metadata": {},
     "output_type": "display_data"
    },
    {
     "data": {
      "application/vnd.jupyter.widget-view+json": {
       "model_id": "",
       "version_major": 2,
       "version_minor": 0
      },
      "text/plain": [
       "FloatProgress(value=0.0, bar_style='info', description='Progress:', layout=Layout(height='25px', width='50%'),…"
      ]
     },
     "metadata": {},
     "output_type": "display_data"
    },
    {
     "name": "stdout",
     "output_type": "stream",
     "text": [
      "<snowflake.connector.cursor.SnowflakeCursor object at 0x7f9367e570d0>"
     ]
    }
   ],
   "source": [
    "conn.cursor().execute(\"drop table if exists ANALYTICS_WORKSHOP.DATA_SCIENCE.CS_FN_test2_qmarkonly\")\n",
    "conn.cursor().execute(\"drop table if exists ANALYTICS_WORKSHOP.DATA_SCIENCE.CS_FP_test2_qmarkonly\")\n",
    "#conn.cursor().execute(\"drop table if exists ANALYTICS_WORKSHOP.DATA_SCIENCE.CS_FP_test2\")\n",
    "#conn.cursor().execute(\"drop table if exists ANALYTICS_WORKSHOP.DATA_SCIENCE.TEST_NLP_SPARK6\")\n",
    "#conn.cursor().execute(\"drop table if exists ANALYTICS_WORKSHOP.DATA_SCIENCE.TEST_NLP_SWAP_TOKENS\")"
   ]
  },
  {
   "cell_type": "code",
   "execution_count": null,
   "metadata": {},
   "outputs": [],
   "source": []
  },
  {
   "cell_type": "code",
   "execution_count": null,
   "metadata": {},
   "outputs": [],
   "source": []
  },
  {
   "cell_type": "code",
   "execution_count": null,
   "metadata": {},
   "outputs": [],
   "source": []
  },
  {
   "cell_type": "code",
   "execution_count": null,
   "metadata": {},
   "outputs": [],
   "source": []
  },
  {
   "cell_type": "code",
   "execution_count": 62,
   "metadata": {},
   "outputs": [
    {
     "data": {
      "application/vnd.jupyter.widget-view+json": {
       "model_id": "d94ca2255cce498885d269f67eec44ac",
       "version_major": 2,
       "version_minor": 0
      },
      "text/plain": [
       "VBox()"
      ]
     },
     "metadata": {},
     "output_type": "display_data"
    },
    {
     "data": {
      "application/vnd.jupyter.widget-view+json": {
       "model_id": "",
       "version_major": 2,
       "version_minor": 0
      },
      "text/plain": [
       "FloatProgress(value=0.0, bar_style='info', description='Progress:', layout=Layout(height='25px', width='50%'),…"
      ]
     },
     "metadata": {},
     "output_type": "display_data"
    }
   ],
   "source": [
    "#Evaluating model performance\n",
    "#There are inherently mostly NOLABEL so accuracy could be high just bc of those\n",
    "#Want to make sure that when there is a label besides NOLABEL that it is being accurately predicted\n"
   ]
  },
  {
   "cell_type": "code",
   "execution_count": 103,
   "metadata": {},
   "outputs": [
    {
     "data": {
      "application/vnd.jupyter.widget-view+json": {
       "model_id": "ea461f00fade486dbb4cd1f7fb7ccd76",
       "version_major": 2,
       "version_minor": 0
      },
      "text/plain": [
       "VBox()"
      ]
     },
     "metadata": {},
     "output_type": "display_data"
    },
    {
     "data": {
      "application/vnd.jupyter.widget-view+json": {
       "model_id": "",
       "version_major": 2,
       "version_minor": 0
      },
      "text/plain": [
       "FloatProgress(value=0.0, bar_style='info', description='Progress:', layout=Layout(height='25px', width='50%'),…"
      ]
     },
     "metadata": {},
     "output_type": "display_data"
    },
    {
     "name": "stdout",
     "output_type": "stream",
     "text": [
      "Accuracy is:  0.880048310413578\n",
      "Precision is:  0.882510784716516\n",
      "Recall is:  0.8772285820028842\n",
      "F1 Score is:  0.8798617555761784"
     ]
    }
   ],
   "source": [
    "#Model performance metrics\n",
    "#Assess at individual label level as well as overall\n",
    "\n",
    "#Accuracy is overall correct predictions - not great measurement tool for imbalanced data\n",
    "#Precision - TP / TP + FP = spam detection - don't want to mark something as spam (FP) when it isn't\n",
    "#Recall - TP / TP + FN = sickness - don't want to tell someone they aren't sick (FN) when they are and can spread it\n",
    "#F1 - balance of precision and recall\n",
    "\n",
    "#We want to make sure if bomb emoji then it gets marked - even at the expense of marking other things potentially offensive that aren't \n",
    "#Important not to have FN - USE RECALL\n",
    "#Also don't want to be marking a bunch of stuff as offensive when it isn't and making moderation do everything anyway\n",
    "#Important not to have too many FP - USE PRECISION\n",
    "#Use F1 for balance between both\n",
    "print(\"Accuracy is:  {}\" .format(accuracy_score(ytest, y_pred)))\n",
    "print(\"Precision is:  {}\" .format(precision_score(ytest, y_pred)))\n",
    "print(\"Recall is:  {}\" .format(recall_score(ytest, y_pred)))\n",
    "print(\"F1 Score is:  {}\" .format(f1_score(ytest, y_pred)))"
   ]
  },
  {
   "cell_type": "code",
   "execution_count": 48,
   "metadata": {},
   "outputs": [
    {
     "data": {
      "application/vnd.jupyter.widget-view+json": {
       "model_id": "982aa804e5724e58a37bb987e47e34f6",
       "version_major": 2,
       "version_minor": 0
      },
      "text/plain": [
       "VBox()"
      ]
     },
     "metadata": {},
     "output_type": "display_data"
    },
    {
     "data": {
      "application/vnd.jupyter.widget-view+json": {
       "model_id": "",
       "version_major": 2,
       "version_minor": 0
      },
      "text/plain": [
       "FloatProgress(value=0.0, bar_style='info', description='Progress:', layout=Layout(height='25px', width='50%'),…"
      ]
     },
     "metadata": {},
     "output_type": "display_data"
    },
    {
     "name": "stdout",
     "output_type": "stream",
     "text": [
      "              precision    recall  f1-score   support\n",
      "\n",
      "           0       0.87      0.89      0.88     78131\n",
      "           1       0.89      0.87      0.88     78131\n",
      "\n",
      "    accuracy                           0.88    156262\n",
      "   macro avg       0.88      0.88      0.88    156262\n",
      "weighted avg       0.88      0.88      0.88    156262"
     ]
    }
   ],
   "source": [
    "print(classification_report(ytest,y_pred))"
   ]
  },
  {
   "cell_type": "code",
   "execution_count": 49,
   "metadata": {},
   "outputs": [
    {
     "data": {
      "application/vnd.jupyter.widget-view+json": {
       "model_id": "fe3009f385ae465f9fbbab25fb39744d",
       "version_major": 2,
       "version_minor": 0
      },
      "text/plain": [
       "VBox()"
      ]
     },
     "metadata": {},
     "output_type": "display_data"
    },
    {
     "data": {
      "application/vnd.jupyter.widget-view+json": {
       "model_id": "",
       "version_major": 2,
       "version_minor": 0
      },
      "text/plain": [
       "FloatProgress(value=0.0, bar_style='info', description='Progress:', layout=Layout(height='25px', width='50%'),…"
      ]
     },
     "metadata": {},
     "output_type": "display_data"
    }
   ],
   "source": [
    "probs = clf.predict_proba(xtest_final)\n",
    "preds = probs[:,1]\n",
    "fpr, tpr, threshold = roc_curve(ytest, preds)\n",
    "roc_auc = metrics.auc(fpr, tpr)\n",
    "#print(roc_auc)"
   ]
  },
  {
   "cell_type": "code",
   "execution_count": 333,
   "metadata": {},
   "outputs": [
    {
     "data": {
      "application/vnd.jupyter.widget-view+json": {
       "model_id": "73942aa45c944a379ec2db66f83fb26e",
       "version_major": 2,
       "version_minor": 0
      },
      "text/plain": [
       "VBox()"
      ]
     },
     "metadata": {},
     "output_type": "display_data"
    },
    {
     "data": {
      "application/vnd.jupyter.widget-view+json": {
       "model_id": "",
       "version_major": 2,
       "version_minor": 0
      },
      "text/plain": [
       "FloatProgress(value=0.0, bar_style='info', description='Progress:', layout=Layout(height='25px', width='50%'),…"
      ]
     },
     "metadata": {},
     "output_type": "display_data"
    }
   ],
   "source": [
    "plt.clf()"
   ]
  },
  {
   "cell_type": "code",
   "execution_count": null,
   "metadata": {},
   "outputs": [],
   "source": []
  },
  {
   "cell_type": "code",
   "execution_count": null,
   "metadata": {},
   "outputs": [],
   "source": []
  },
  {
   "cell_type": "code",
   "execution_count": null,
   "metadata": {},
   "outputs": [],
   "source": []
  },
  {
   "cell_type": "code",
   "execution_count": null,
   "metadata": {},
   "outputs": [],
   "source": []
  },
  {
   "cell_type": "code",
   "execution_count": 334,
   "metadata": {},
   "outputs": [
    {
     "data": {
      "application/vnd.jupyter.widget-view+json": {
       "model_id": "3b585de6218b45918430db9953e76da0",
       "version_major": 2,
       "version_minor": 0
      },
      "text/plain": [
       "VBox()"
      ]
     },
     "metadata": {},
     "output_type": "display_data"
    },
    {
     "data": {
      "application/vnd.jupyter.widget-view+json": {
       "model_id": "",
       "version_major": 2,
       "version_minor": 0
      },
      "text/plain": [
       "FloatProgress(value=0.0, bar_style='info', description='Progress:', layout=Layout(height='25px', width='50%'),…"
      ]
     },
     "metadata": {},
     "output_type": "display_data"
    }
   ],
   "source": [
    "#ROC CURVE\n",
    "#Assumes we care about 0 and 1 classification the same - we don't\n",
    "#We care more about performance of 1 classification - use precision recall curve\n",
    "plt.title('Receiver Operating Characteristic')\n",
    "plt.plot(fpr, tpr, 'b', label = 'AUC = %0.4f' % roc_auc)\n",
    "plt.legend(loc = 'lower right')\n",
    "plt.plot([0, 1], [0, 1],'r--')\n",
    "plt.xlim([0, 1])\n",
    "plt.ylim([0, 1])\n",
    "plt.ylabel('True Positive Rate')\n",
    "plt.xlabel('False Positive Rate')\n",
    "plt.show()"
   ]
  },
  {
   "cell_type": "code",
   "execution_count": 335,
   "metadata": {},
   "outputs": [
    {
     "data": {
      "application/vnd.jupyter.widget-view+json": {
       "model_id": "",
       "version_major": 2,
       "version_minor": 0
      },
      "text/plain": [
       "FloatProgress(value=0.0, bar_style='info', description='Progress:', layout=Layout(height='25px', width='50%'),…"
      ]
     },
     "metadata": {},
     "output_type": "display_data"
    },
    {
     "data": {
      "image/png": "[encoded data removed]",
      "text/plain": [
       "<IPython.core.display.Image object>"
      ]
     },
     "metadata": {},
     "output_type": "display_data"
    }
   ],
   "source": [
    "%matplot plt"
   ]
  },
  {
   "cell_type": "code",
   "execution_count": 336,
   "metadata": {},
   "outputs": [
    {
     "data": {
      "application/vnd.jupyter.widget-view+json": {
       "model_id": "3a513db5673d4e8ab5773e60a9e79afe",
       "version_major": 2,
       "version_minor": 0
      },
      "text/plain": [
       "VBox()"
      ]
     },
     "metadata": {},
     "output_type": "display_data"
    },
    {
     "data": {
      "application/vnd.jupyter.widget-view+json": {
       "model_id": "",
       "version_major": 2,
       "version_minor": 0
      },
      "text/plain": [
       "FloatProgress(value=0.0, bar_style='info', description='Progress:', layout=Layout(height='25px', width='50%'),…"
      ]
     },
     "metadata": {},
     "output_type": "display_data"
    },
    {
     "name": "stdout",
     "output_type": "stream",
     "text": [
      "Optimal threshold value: 0.5011553148098223\n",
      "Optimal tpr value: 0.8880537279631401\n",
      "Optimal fpr value: 0.10233007623751744"
     ]
    }
   ],
   "source": [
    "#Find best threshold (ROC Curve)\n",
    "#Ideally want tpr = 1 and fpr = 0, so want tpr - fpr as close to 1 as possible\n",
    "optimal_idx = np.argmax(tpr - fpr)\n",
    "optimal_threshold = threshold[optimal_idx]\n",
    "opt_tpr = tpr[optimal_idx]\n",
    "opt_fpr = fpr[optimal_idx]\n",
    "print(\"Optimal threshold value:\", optimal_threshold)\n",
    "print(\"Optimal tpr value:\", opt_tpr)\n",
    "print(\"Optimal fpr value:\", opt_fpr)"
   ]
  },
  {
   "cell_type": "code",
   "execution_count": 337,
   "metadata": {},
   "outputs": [
    {
     "data": {
      "application/vnd.jupyter.widget-view+json": {
       "model_id": "e1d02693868a439f8243e67bc3ffb61e",
       "version_major": 2,
       "version_minor": 0
      },
      "text/plain": [
       "VBox()"
      ]
     },
     "metadata": {},
     "output_type": "display_data"
    },
    {
     "data": {
      "application/vnd.jupyter.widget-view+json": {
       "model_id": "",
       "version_major": 2,
       "version_minor": 0
      },
      "text/plain": [
       "FloatProgress(value=0.0, bar_style='info', description='Progress:', layout=Layout(height='25px', width='50%'),…"
      ]
     },
     "metadata": {},
     "output_type": "display_data"
    }
   ],
   "source": [
    "t = optimal_threshold\n",
    "y_pred_new = (preds >= t).astype(int)\n",
    "#y_pred_new"
   ]
  },
  {
   "cell_type": "code",
   "execution_count": 338,
   "metadata": {},
   "outputs": [
    {
     "data": {
      "application/vnd.jupyter.widget-view+json": {
       "model_id": "9479c71ca443485f8e9ab16ecb255fa6",
       "version_major": 2,
       "version_minor": 0
      },
      "text/plain": [
       "VBox()"
      ]
     },
     "metadata": {},
     "output_type": "display_data"
    },
    {
     "data": {
      "application/vnd.jupyter.widget-view+json": {
       "model_id": "",
       "version_major": 2,
       "version_minor": 0
      },
      "text/plain": [
       "FloatProgress(value=0.0, bar_style='info', description='Progress:', layout=Layout(height='25px', width='50%'),…"
      ]
     },
     "metadata": {},
     "output_type": "display_data"
    },
    {
     "name": "stdout",
     "output_type": "stream",
     "text": [
      "Accuracy is:  0.892861849330112\n",
      "Precision is:  0.89667543885587\n",
      "Recall is:  0.8880537279631401\n",
      "F1 Score is:  0.8923437584294185"
     ]
    }
   ],
   "source": [
    "#Scores with best threshold cutoff\n",
    "print(\"Accuracy is:  {}\" .format(accuracy_score(ytest, y_pred_new)))\n",
    "print(\"Precision is:  {}\" .format(precision_score(ytest, y_pred_new)))\n",
    "print(\"Recall is:  {}\" .format(recall_score(ytest, y_pred_new)))\n",
    "print(\"F1 Score is:  {}\" .format(f1_score(ytest, y_pred_new)))"
   ]
  },
  {
   "cell_type": "code",
   "execution_count": 339,
   "metadata": {},
   "outputs": [
    {
     "data": {
      "application/vnd.jupyter.widget-view+json": {
       "model_id": "473fa1a32c4041e09f9fce8e62b99841",
       "version_major": 2,
       "version_minor": 0
      },
      "text/plain": [
       "VBox()"
      ]
     },
     "metadata": {},
     "output_type": "display_data"
    },
    {
     "data": {
      "application/vnd.jupyter.widget-view+json": {
       "model_id": "",
       "version_major": 2,
       "version_minor": 0
      },
      "text/plain": [
       "FloatProgress(value=0.0, bar_style='info', description='Progress:', layout=Layout(height='25px', width='50%'),…"
      ]
     },
     "metadata": {},
     "output_type": "display_data"
    },
    {
     "name": "stdout",
     "output_type": "stream",
     "text": [
      "204885"
     ]
    }
   ],
   "source": [
    "len(y_pred_new)"
   ]
  },
  {
   "cell_type": "code",
   "execution_count": null,
   "metadata": {},
   "outputs": [],
   "source": []
  },
  {
   "cell_type": "code",
   "execution_count": 341,
   "metadata": {},
   "outputs": [
    {
     "data": {
      "application/vnd.jupyter.widget-view+json": {
       "model_id": "bcfc5bafd5a44f338365ef9f9318113b",
       "version_major": 2,
       "version_minor": 0
      },
      "text/plain": [
       "VBox()"
      ]
     },
     "metadata": {},
     "output_type": "display_data"
    },
    {
     "data": {
      "application/vnd.jupyter.widget-view+json": {
       "model_id": "",
       "version_major": 2,
       "version_minor": 0
      },
      "text/plain": [
       "FloatProgress(value=0.0, bar_style='info', description='Progress:', layout=Layout(height='25px', width='50%'),…"
      ]
     },
     "metadata": {},
     "output_type": "display_data"
    }
   ],
   "source": [
    "#PRECISION RECALL CURVE\n",
    "#Better for what we want to assess which is how well label is assigned (i.e. when it gets a 1 instead of a 0)\n",
    "\n",
    "precision, recall, pr_threshold = precision_recall_curve(ytest, preds)\n",
    "pr_auc = metrics.auc(recall, precision)"
   ]
  },
  {
   "cell_type": "code",
   "execution_count": 342,
   "metadata": {},
   "outputs": [
    {
     "data": {
      "application/vnd.jupyter.widget-view+json": {
       "model_id": "745f1be0d84b436d952fa1a1de9659b3",
       "version_major": 2,
       "version_minor": 0
      },
      "text/plain": [
       "VBox()"
      ]
     },
     "metadata": {},
     "output_type": "display_data"
    },
    {
     "data": {
      "application/vnd.jupyter.widget-view+json": {
       "model_id": "",
       "version_major": 2,
       "version_minor": 0
      },
      "text/plain": [
       "FloatProgress(value=0.0, bar_style='info', description='Progress:', layout=Layout(height='25px', width='50%'),…"
      ]
     },
     "metadata": {},
     "output_type": "display_data"
    }
   ],
   "source": [
    "plt.clf()"
   ]
  },
  {
   "cell_type": "code",
   "execution_count": 343,
   "metadata": {},
   "outputs": [
    {
     "data": {
      "application/vnd.jupyter.widget-view+json": {
       "model_id": "dcd2004b6cf74721ac0d5ce0d61ce132",
       "version_major": 2,
       "version_minor": 0
      },
      "text/plain": [
       "VBox()"
      ]
     },
     "metadata": {},
     "output_type": "display_data"
    },
    {
     "data": {
      "application/vnd.jupyter.widget-view+json": {
       "model_id": "",
       "version_major": 2,
       "version_minor": 0
      },
      "text/plain": [
       "FloatProgress(value=0.0, bar_style='info', description='Progress:', layout=Layout(height='25px', width='50%'),…"
      ]
     },
     "metadata": {},
     "output_type": "display_data"
    }
   ],
   "source": [
    "plt.title('Precision - Recall Curve')\n",
    "plt.plot(recall, precision, 'b', label = 'AUC = %0.4f' % pr_auc)\n",
    "plt.legend(loc = 'lower right')\n",
    "no_skill = len(ytest[ytest['NR']==1]) / len(ytest)\n",
    "plt.plot([0, 1], [no_skill, no_skill], 'r--', label='No Skill')\n",
    "#plt.xlim([0, 1])\n",
    "#plt.ylim([0, 1])\n",
    "plt.ylabel('Precision')\n",
    "plt.xlabel('Recall')\n",
    "plt.show()"
   ]
  },
  {
   "cell_type": "code",
   "execution_count": 344,
   "metadata": {},
   "outputs": [
    {
     "data": {
      "application/vnd.jupyter.widget-view+json": {
       "model_id": "",
       "version_major": 2,
       "version_minor": 0
      },
      "text/plain": [
       "FloatProgress(value=0.0, bar_style='info', description='Progress:', layout=Layout(height='25px', width='50%'),…"
      ]
     },
     "metadata": {},
     "output_type": "display_data"
    },
    {
     "data": {
      "image/png": "[encoded data removed]",
      "text/plain": [
       "<IPython.core.display.Image object>"
      ]
     },
     "metadata": {},
     "output_type": "display_data"
    }
   ],
   "source": [
    "%matplot plt"
   ]
  },
  {
   "cell_type": "code",
   "execution_count": 345,
   "metadata": {},
   "outputs": [
    {
     "data": {
      "application/vnd.jupyter.widget-view+json": {
       "model_id": "532142adbfed4db58b7817ab5ae59569",
       "version_major": 2,
       "version_minor": 0
      },
      "text/plain": [
       "VBox()"
      ]
     },
     "metadata": {},
     "output_type": "display_data"
    },
    {
     "data": {
      "application/vnd.jupyter.widget-view+json": {
       "model_id": "",
       "version_major": 2,
       "version_minor": 0
      },
      "text/plain": [
       "FloatProgress(value=0.0, bar_style='info', description='Progress:', layout=Layout(height='25px', width='50%'),…"
      ]
     },
     "metadata": {},
     "output_type": "display_data"
    },
    {
     "name": "stdout",
     "output_type": "stream",
     "text": [
      "Best Threshold=0.445000, F-Score=0.893\n",
      "Recall=0.904902\n",
      "Precision=0.882101"
     ]
    }
   ],
   "source": [
    "#Best F1 score optimizes precision recall trade off\n",
    "\n",
    "fscore = (2 * precision * recall) / (precision + recall)\n",
    "ix = argmax(fscore)\n",
    "print('Best Threshold=%f, F-Score=%.3f' % (pr_threshold[ix], fscore[ix]))\n",
    "\n",
    "print('Recall=%f' % recall[ix])\n",
    "print('Precision=%f' % precision[ix])"
   ]
  },
  {
   "cell_type": "code",
   "execution_count": 346,
   "metadata": {},
   "outputs": [
    {
     "data": {
      "application/vnd.jupyter.widget-view+json": {
       "model_id": "1c1ee7d6d69b49088122c6b2fdfa6aa5",
       "version_major": 2,
       "version_minor": 0
      },
      "text/plain": [
       "VBox()"
      ]
     },
     "metadata": {},
     "output_type": "display_data"
    },
    {
     "data": {
      "application/vnd.jupyter.widget-view+json": {
       "model_id": "",
       "version_major": 2,
       "version_minor": 0
      },
      "text/plain": [
       "FloatProgress(value=0.0, bar_style='info', description='Progress:', layout=Layout(height='25px', width='50%'),…"
      ]
     },
     "metadata": {},
     "output_type": "display_data"
    }
   ],
   "source": [
    "plt.clf()"
   ]
  },
  {
   "cell_type": "code",
   "execution_count": 347,
   "metadata": {},
   "outputs": [
    {
     "data": {
      "application/vnd.jupyter.widget-view+json": {
       "model_id": "675ce856a996420a81deb4238c0bfd77",
       "version_major": 2,
       "version_minor": 0
      },
      "text/plain": [
       "VBox()"
      ]
     },
     "metadata": {},
     "output_type": "display_data"
    },
    {
     "data": {
      "application/vnd.jupyter.widget-view+json": {
       "model_id": "",
       "version_major": 2,
       "version_minor": 0
      },
      "text/plain": [
       "FloatProgress(value=0.0, bar_style='info', description='Progress:', layout=Layout(height='25px', width='50%'),…"
      ]
     },
     "metadata": {},
     "output_type": "display_data"
    }
   ],
   "source": [
    "plt.hist(preds, bins=10)\n",
    "plt.show()"
   ]
  },
  {
   "cell_type": "code",
   "execution_count": 348,
   "metadata": {},
   "outputs": [
    {
     "data": {
      "application/vnd.jupyter.widget-view+json": {
       "model_id": "",
       "version_major": 2,
       "version_minor": 0
      },
      "text/plain": [
       "FloatProgress(value=0.0, bar_style='info', description='Progress:', layout=Layout(height='25px', width='50%'),…"
      ]
     },
     "metadata": {},
     "output_type": "display_data"
    },
    {
     "data": {
      "image/png": "[encoded data removed]",
      "text/plain": [
       "<IPython.core.display.Image object>"
      ]
     },
     "metadata": {},
     "output_type": "display_data"
    }
   ],
   "source": [
    "%matplot plt"
   ]
  },
  {
   "cell_type": "code",
   "execution_count": null,
   "metadata": {},
   "outputs": [],
   "source": []
  },
  {
   "cell_type": "code",
   "execution_count": null,
   "metadata": {},
   "outputs": [],
   "source": []
  },
  {
   "cell_type": "code",
   "execution_count": 349,
   "metadata": {},
   "outputs": [
    {
     "data": {
      "application/vnd.jupyter.widget-view+json": {
       "model_id": "d4aadff481a14b338ae4e90b944aca16",
       "version_major": 2,
       "version_minor": 0
      },
      "text/plain": [
       "VBox()"
      ]
     },
     "metadata": {},
     "output_type": "display_data"
    },
    {
     "data": {
      "application/vnd.jupyter.widget-view+json": {
       "model_id": "",
       "version_major": 2,
       "version_minor": 0
      },
      "text/plain": [
       "FloatProgress(value=0.0, bar_style='info', description='Progress:', layout=Layout(height='25px', width='50%'),…"
      ]
     },
     "metadata": {},
     "output_type": "display_data"
    }
   ],
   "source": [
    "preds_df = pd.DataFrame(data=preds, columns = ['pred_prob'])\n",
    "#preds_df"
   ]
  },
  {
   "cell_type": "code",
   "execution_count": 350,
   "metadata": {},
   "outputs": [
    {
     "data": {
      "application/vnd.jupyter.widget-view+json": {
       "model_id": "0a839728c268450a9b3eacf202c22c7b",
       "version_major": 2,
       "version_minor": 0
      },
      "text/plain": [
       "VBox()"
      ]
     },
     "metadata": {},
     "output_type": "display_data"
    },
    {
     "data": {
      "application/vnd.jupyter.widget-view+json": {
       "model_id": "",
       "version_major": 2,
       "version_minor": 0
      },
      "text/plain": [
       "FloatProgress(value=0.0, bar_style='info', description='Progress:', layout=Layout(height='25px', width='50%'),…"
      ]
     },
     "metadata": {},
     "output_type": "display_data"
    }
   ],
   "source": [
    "ytest.reset_index(drop=True, inplace=True)\n",
    "preds_df.reset_index(drop=True, inplace=True)"
   ]
  },
  {
   "cell_type": "code",
   "execution_count": 351,
   "metadata": {},
   "outputs": [
    {
     "data": {
      "application/vnd.jupyter.widget-view+json": {
       "model_id": "1a1fd8e9e7e14a6fbd9c008f9383ad61",
       "version_major": 2,
       "version_minor": 0
      },
      "text/plain": [
       "VBox()"
      ]
     },
     "metadata": {},
     "output_type": "display_data"
    },
    {
     "data": {
      "application/vnd.jupyter.widget-view+json": {
       "model_id": "",
       "version_major": 2,
       "version_minor": 0
      },
      "text/plain": [
       "FloatProgress(value=0.0, bar_style='info', description='Progress:', layout=Layout(height='25px', width='50%'),…"
      ]
     },
     "metadata": {},
     "output_type": "display_data"
    }
   ],
   "source": [
    "hist_plot_data = pd.concat([ytest, preds_df], axis = 1)\n",
    "#hist_plot_data"
   ]
  },
  {
   "cell_type": "code",
   "execution_count": null,
   "metadata": {},
   "outputs": [],
   "source": []
  },
  {
   "cell_type": "code",
   "execution_count": 352,
   "metadata": {},
   "outputs": [
    {
     "data": {
      "application/vnd.jupyter.widget-view+json": {
       "model_id": "f7271400ea0d4711a459e13872edb494",
       "version_major": 2,
       "version_minor": 0
      },
      "text/plain": [
       "VBox()"
      ]
     },
     "metadata": {},
     "output_type": "display_data"
    },
    {
     "data": {
      "application/vnd.jupyter.widget-view+json": {
       "model_id": "",
       "version_major": 2,
       "version_minor": 0
      },
      "text/plain": [
       "FloatProgress(value=0.0, bar_style='info', description='Progress:', layout=Layout(height='25px', width='50%'),…"
      ]
     },
     "metadata": {},
     "output_type": "display_data"
    }
   ],
   "source": [
    "NR_0 = hist_plot_data.loc[hist_plot_data.NR == 0, 'pred_prob']\n",
    "NR_1 = hist_plot_data.loc[hist_plot_data.NR == 1, 'pred_prob']"
   ]
  },
  {
   "cell_type": "code",
   "execution_count": 356,
   "metadata": {},
   "outputs": [
    {
     "data": {
      "application/vnd.jupyter.widget-view+json": {
       "model_id": "9a6eefcad5e148efb8635a06cfb7a160",
       "version_major": 2,
       "version_minor": 0
      },
      "text/plain": [
       "VBox()"
      ]
     },
     "metadata": {},
     "output_type": "display_data"
    },
    {
     "data": {
      "application/vnd.jupyter.widget-view+json": {
       "model_id": "",
       "version_major": 2,
       "version_minor": 0
      },
      "text/plain": [
       "FloatProgress(value=0.0, bar_style='info', description='Progress:', layout=Layout(height='25px', width='50%'),…"
      ]
     },
     "metadata": {},
     "output_type": "display_data"
    }
   ],
   "source": [
    "plt.clf()"
   ]
  },
  {
   "cell_type": "code",
   "execution_count": 357,
   "metadata": {},
   "outputs": [
    {
     "data": {
      "application/vnd.jupyter.widget-view+json": {
       "model_id": "07b6aabb4c924765bcb33b4ebcef680f",
       "version_major": 2,
       "version_minor": 0
      },
      "text/plain": [
       "VBox()"
      ]
     },
     "metadata": {},
     "output_type": "display_data"
    },
    {
     "data": {
      "application/vnd.jupyter.widget-view+json": {
       "model_id": "",
       "version_major": 2,
       "version_minor": 0
      },
      "text/plain": [
       "FloatProgress(value=0.0, bar_style='info', description='Progress:', layout=Layout(height='25px', width='50%'),…"
      ]
     },
     "metadata": {},
     "output_type": "display_data"
    },
    {
     "name": "stdout",
     "output_type": "stream",
     "text": [
      "<matplotlib.legend.Legend object at 0x7f376f287650>"
     ]
    }
   ],
   "source": [
    "kwargs = dict(alpha=0.5, bins=20)\n",
    "\n",
    "plt.hist(NR_0, **kwargs, color='b', label='NR=0')\n",
    "plt.hist(NR_1, **kwargs, color='g', label='NR=1')\n",
    "plt.gca().set(title='Histogram of NR Label Probs', ylabel='Frequency', xlabel = 'Predicted Probability')\n",
    "plt.legend();"
   ]
  },
  {
   "cell_type": "code",
   "execution_count": 358,
   "metadata": {},
   "outputs": [
    {
     "data": {
      "application/vnd.jupyter.widget-view+json": {
       "model_id": "",
       "version_major": 2,
       "version_minor": 0
      },
      "text/plain": [
       "FloatProgress(value=0.0, bar_style='info', description='Progress:', layout=Layout(height='25px', width='50%'),…"
      ]
     },
     "metadata": {},
     "output_type": "display_data"
    },
    {
     "data": {
      "image/png": "[encoded data removed]",
      "text/plain": [
       "<IPython.core.display.Image object>"
      ]
     },
     "metadata": {},
     "output_type": "display_data"
    }
   ],
   "source": [
    "%matplot plt"
   ]
  },
  {
   "cell_type": "code",
   "execution_count": 316,
   "metadata": {},
   "outputs": [
    {
     "data": {
      "application/vnd.jupyter.widget-view+json": {
       "model_id": "d395c296710a4dc59d80ce7df321e932",
       "version_major": 2,
       "version_minor": 0
      },
      "text/plain": [
       "VBox()"
      ]
     },
     "metadata": {},
     "output_type": "display_data"
    },
    {
     "data": {
      "application/vnd.jupyter.widget-view+json": {
       "model_id": "",
       "version_major": 2,
       "version_minor": 0
      },
      "text/plain": [
       "FloatProgress(value=0.0, bar_style='info', description='Progress:', layout=Layout(height='25px', width='50%'),…"
      ]
     },
     "metadata": {},
     "output_type": "display_data"
    },
    {
     "name": "stdout",
     "output_type": "stream",
     "text": [
      "NR           3233\n",
      "pred_prob    3233\n",
      "dtype: int64"
     ]
    }
   ],
   "source": [
    "#Amount of data that is actually 0 but predicted as 1 with probability > 80%\n",
    "hist_plot_data.loc[(hist_plot_data.NR == 0) & (hist_plot_data.pred_prob > 0.8)].count()\n",
    "#3233 / 204885 = ~1%"
   ]
  },
  {
   "cell_type": "code",
   "execution_count": 317,
   "metadata": {},
   "outputs": [
    {
     "data": {
      "application/vnd.jupyter.widget-view+json": {
       "model_id": "5de5ae5762b145ed9e7cb5df8a537aa4",
       "version_major": 2,
       "version_minor": 0
      },
      "text/plain": [
       "VBox()"
      ]
     },
     "metadata": {},
     "output_type": "display_data"
    },
    {
     "data": {
      "application/vnd.jupyter.widget-view+json": {
       "model_id": "",
       "version_major": 2,
       "version_minor": 0
      },
      "text/plain": [
       "FloatProgress(value=0.0, bar_style='info', description='Progress:', layout=Layout(height='25px', width='50%'),…"
      ]
     },
     "metadata": {},
     "output_type": "display_data"
    },
    {
     "name": "stdout",
     "output_type": "stream",
     "text": [
      "NR           3683\n",
      "pred_prob    3683\n",
      "dtype: int64"
     ]
    }
   ],
   "source": [
    "#Amount of data that is actually 1 but predicted as 0 with probability < 20%\n",
    "hist_plot_data.loc[(hist_plot_data.NR == 1) & (hist_plot_data.pred_prob < 0.2)].count()\n",
    "#3683 / 204885 = ~1%"
   ]
  },
  {
   "cell_type": "code",
   "execution_count": 318,
   "metadata": {},
   "outputs": [
    {
     "data": {
      "application/vnd.jupyter.widget-view+json": {
       "model_id": "e6e8465115924d3592827621e77cd3ad",
       "version_major": 2,
       "version_minor": 0
      },
      "text/plain": [
       "VBox()"
      ]
     },
     "metadata": {},
     "output_type": "display_data"
    },
    {
     "data": {
      "application/vnd.jupyter.widget-view+json": {
       "model_id": "",
       "version_major": 2,
       "version_minor": 0
      },
      "text/plain": [
       "FloatProgress(value=0.0, bar_style='info', description='Progress:', layout=Layout(height='25px', width='50%'),…"
      ]
     },
     "metadata": {},
     "output_type": "display_data"
    },
    {
     "name": "stdout",
     "output_type": "stream",
     "text": [
      "NR           47346\n",
      "pred_prob    47346\n",
      "dtype: int64"
     ]
    }
   ],
   "source": [
    "#Amount of data (0 or 1) that is between probabilities 20% - 80%\n",
    "hist_plot_data.loc[(hist_plot_data.pred_prob <0.8) & (hist_plot_data.pred_prob > 0.2)].count()\n",
    "#47346 / 204885 = ~23%"
   ]
  },
  {
   "cell_type": "code",
   "execution_count": 161,
   "metadata": {},
   "outputs": [
    {
     "data": {
      "application/vnd.jupyter.widget-view+json": {
       "model_id": "c777b1358e6249348dcc4c7210e64844",
       "version_major": 2,
       "version_minor": 0
      },
      "text/plain": [
       "VBox()"
      ]
     },
     "metadata": {},
     "output_type": "display_data"
    },
    {
     "data": {
      "application/vnd.jupyter.widget-view+json": {
       "model_id": "",
       "version_major": 2,
       "version_minor": 0
      },
      "text/plain": [
       "FloatProgress(value=0.0, bar_style='info', description='Progress:', layout=Layout(height='25px', width='50%'),…"
      ]
     },
     "metadata": {},
     "output_type": "display_data"
    }
   ],
   "source": [
    "#importance = clf.coef_\n",
    "#importance"
   ]
  },
  {
   "cell_type": "code",
   "execution_count": 162,
   "metadata": {},
   "outputs": [
    {
     "data": {
      "application/vnd.jupyter.widget-view+json": {
       "model_id": "ef529e01c7034a18acdc12c79c1fd802",
       "version_major": 2,
       "version_minor": 0
      },
      "text/plain": [
       "VBox()"
      ]
     },
     "metadata": {},
     "output_type": "display_data"
    },
    {
     "data": {
      "application/vnd.jupyter.widget-view+json": {
       "model_id": "",
       "version_major": 2,
       "version_minor": 0
      },
      "text/plain": [
       "FloatProgress(value=0.0, bar_style='info', description='Progress:', layout=Layout(height='25px', width='50%'),…"
      ]
     },
     "metadata": {},
     "output_type": "display_data"
    }
   ],
   "source": [
    "\n",
    "#feature_names = vectorizer.get_feature_names()\n",
    "#dense = importance\n",
    "#denselist = dense.tolist()\n",
    "#df = pd.DataFrame(denselist, columns=feature_names)\n",
    "#df"
   ]
  },
  {
   "cell_type": "code",
   "execution_count": null,
   "metadata": {},
   "outputs": [],
   "source": []
  },
  {
   "cell_type": "code",
   "execution_count": null,
   "metadata": {},
   "outputs": [],
   "source": []
  },
  {
   "cell_type": "code",
   "execution_count": null,
   "metadata": {},
   "outputs": [],
   "source": []
  },
  {
   "cell_type": "code",
   "execution_count": null,
   "metadata": {},
   "outputs": [],
   "source": []
  },
  {
   "cell_type": "code",
   "execution_count": null,
   "metadata": {},
   "outputs": [],
   "source": []
  },
  {
   "cell_type": "code",
   "execution_count": null,
   "metadata": {},
   "outputs": [],
   "source": []
  },
  {
   "cell_type": "code",
   "execution_count": 287,
   "metadata": {},
   "outputs": [
    {
     "data": {
      "application/vnd.jupyter.widget-view+json": {
       "model_id": "808ea30218d34df1bdad838bce6fe775",
       "version_major": 2,
       "version_minor": 0
      },
      "text/plain": [
       "VBox()"
      ]
     },
     "metadata": {},
     "output_type": "display_data"
    },
    {
     "data": {
      "application/vnd.jupyter.widget-view+json": {
       "model_id": "",
       "version_major": 2,
       "version_minor": 0
      },
      "text/plain": [
       "FloatProgress(value=0.0, bar_style='info', description='Progress:', layout=Layout(height='25px', width='50%'),…"
      ]
     },
     "metadata": {},
     "output_type": "display_data"
    }
   ],
   "source": [
    "xtest.reset_index(drop=True, inplace=True)\n",
    "hist_plot_data.reset_index(drop=True, inplace=True)"
   ]
  },
  {
   "cell_type": "code",
   "execution_count": 303,
   "metadata": {},
   "outputs": [
    {
     "data": {
      "application/vnd.jupyter.widget-view+json": {
       "model_id": "8bd8f8f1e5c44e8e85ae93be35c101a9",
       "version_major": 2,
       "version_minor": 0
      },
      "text/plain": [
       "VBox()"
      ]
     },
     "metadata": {},
     "output_type": "display_data"
    },
    {
     "data": {
      "application/vnd.jupyter.widget-view+json": {
       "model_id": "",
       "version_major": 2,
       "version_minor": 0
      },
      "text/plain": [
       "FloatProgress(value=0.0, bar_style='info', description='Progress:', layout=Layout(height='25px', width='50%'),…"
      ]
     },
     "metadata": {},
     "output_type": "display_data"
    },
    {
     "name": "stdout",
     "output_type": "stream",
     "text": [
      "                                                                                                                                                                                                                                                                                                                                                                                                                           ALL_TEXT  \\\n",
      "0       headline Daughter loves it!! comment This is so cute, my daughter loves all the robots from Star Wars, and here they are all on one shirt!!                                                                                                                                                                                                                                                                                   \n",
      "1       headline Love these too!!! comment The warmest earmuffs I have ever used in my life and they don't even make my ears sweat!! These are the best earmuffs EVER!!! At first I thought they were way too expensive for earmuffs but they work excellently well, they look good and I am extremely happy with them.                                                                                                               \n",
      "2       headline Five Stars comment The dress is really pretty.                                                                                                                                                                                                                                                                                                                                                                       \n",
      "3       headline Good goods comment Good running shoe\\nIt is like walking on a cloud                                                                                                                                                                                                                                                                                                                                                  \n",
      "4       headline Love, love, love these! comment I love that the ankle is cuffed so it doesn't swallow my sons foot. These are so soft, and cute! I think they run really big compared to other clothes that I have purchased for my son. I got 9/12 and even tightened all the way there is a gap. He usually wears 12/18 months. But that's okay because he can get good use out of these!                                          \n",
      "...                                                                                                                                                                                                                                                                                                                                                                                      ...                                          \n",
      "204880  headline Have not received my order, going on 3 weeks. comment I'll never order from North face again, what do I do with my egift card.                                                                                                                                                                                                                                                                                       \n",
      "204881  headline Hated them comment Hated these shoes tried to take them back to my nearest store and bc they had a little scuff on them the nasty person at Columbia mall in Baltimore Maryland said he would not take back or return them. So I told him to throw away and I won't buy another shoe from here. Which sucks bc I only wear sketchers.                                                                                \n",
      "204882  headline I can not say I was asked to review a product I don't have comment I purchased my order on 4/16 to be delivered to my new place on 5/8. I received a call on 5/6 advising me that I would not receive my bed set till 5/15. To make this worst I received a email from costumer service asking if how I like my bed. The bed set  I was supposed to sleep one in my new place but won't receive till the 15 of May   \n",
      "204883  headline Purse not received comment Purse not received                                                                                                                                                                                                                                                                                                                                                                        \n",
      "204884  headline Not worth the price tag comment Pillow sinks low after a week. I now have to fold it to get adequate support. Moreover, purchased from Mattress Firm at $99 when price here is below that. Ridiculous.                                                                                                                                                                                                               \n",
      "\n",
      "        REVIEW_RATING  NR  pred_prob  \n",
      "0       5.0            0   0.009026   \n",
      "1       5.0            0   0.312612   \n",
      "2       5.0            0   0.030589   \n",
      "3       5.0            0   0.180927   \n",
      "4       5.0            0   0.003680   \n",
      "...     ...           ..        ...   \n",
      "204880  1.0            1   0.986691   \n",
      "204881  1.0            1   0.887608   \n",
      "204882  1.0            1   0.994918   \n",
      "204883  1.0            1   0.947040   \n",
      "204884  1.0            1   0.477791   \n",
      "\n",
      "[204885 rows x 4 columns]"
     ]
    }
   ],
   "source": [
    "results = pd.concat([xtest, hist_plot_data], axis=1)\n",
    "results"
   ]
  },
  {
   "cell_type": "code",
   "execution_count": 304,
   "metadata": {},
   "outputs": [
    {
     "data": {
      "application/vnd.jupyter.widget-view+json": {
       "model_id": "81a47ff6d9b94a659c85ea4bb5665180",
       "version_major": 2,
       "version_minor": 0
      },
      "text/plain": [
       "VBox()"
      ]
     },
     "metadata": {},
     "output_type": "display_data"
    },
    {
     "data": {
      "application/vnd.jupyter.widget-view+json": {
       "model_id": "",
       "version_major": 2,
       "version_minor": 0
      },
      "text/plain": [
       "FloatProgress(value=0.0, bar_style='info', description='Progress:', layout=Layout(height='25px', width='50%'),…"
      ]
     },
     "metadata": {},
     "output_type": "display_data"
    },
    {
     "name": "stdout",
     "output_type": "stream",
     "text": [
      "                                                                                                                                                                                                                                                                                                                                                                                                                           ALL_TEXT  \\\n",
      "0       headline Daughter loves it!! comment This is so cute, my daughter loves all the robots from Star Wars, and here they are all on one shirt!!                                                                                                                                                                                                                                                                                   \n",
      "1       headline Love these too!!! comment The warmest earmuffs I have ever used in my life and they don't even make my ears sweat!! These are the best earmuffs EVER!!! At first I thought they were way too expensive for earmuffs but they work excellently well, they look good and I am extremely happy with them.                                                                                                               \n",
      "2       headline Five Stars comment The dress is really pretty.                                                                                                                                                                                                                                                                                                                                                                       \n",
      "3       headline Good goods comment Good running shoe\\nIt is like walking on a cloud                                                                                                                                                                                                                                                                                                                                                  \n",
      "4       headline Love, love, love these! comment I love that the ankle is cuffed so it doesn't swallow my sons foot. These are so soft, and cute! I think they run really big compared to other clothes that I have purchased for my son. I got 9/12 and even tightened all the way there is a gap. He usually wears 12/18 months. But that's okay because he can get good use out of these!                                          \n",
      "...                                                                                                                                                                                                                                                                                                                                                                                      ...                                          \n",
      "204880  headline Have not received my order, going on 3 weeks. comment I'll never order from North face again, what do I do with my egift card.                                                                                                                                                                                                                                                                                       \n",
      "204881  headline Hated them comment Hated these shoes tried to take them back to my nearest store and bc they had a little scuff on them the nasty person at Columbia mall in Baltimore Maryland said he would not take back or return them. So I told him to throw away and I won't buy another shoe from here. Which sucks bc I only wear sketchers.                                                                                \n",
      "204882  headline I can not say I was asked to review a product I don't have comment I purchased my order on 4/16 to be delivered to my new place on 5/8. I received a call on 5/6 advising me that I would not receive my bed set till 5/15. To make this worst I received a email from costumer service asking if how I like my bed. The bed set  I was supposed to sleep one in my new place but won't receive till the 15 of May   \n",
      "204883  headline Purse not received comment Purse not received                                                                                                                                                                                                                                                                                                                                                                        \n",
      "204884  headline Not worth the price tag comment Pillow sinks low after a week. I now have to fold it to get adequate support. Moreover, purchased from Mattress Firm at $99 when price here is below that. Ridiculous.                                                                                                                                                                                                               \n",
      "\n",
      "        REVIEW_RATING  NR  pred_prob  \n",
      "0       5.0            0   0.009026   \n",
      "1       5.0            0   0.312612   \n",
      "2       5.0            0   0.030589   \n",
      "3       5.0            0   0.180927   \n",
      "4       5.0            0   0.003680   \n",
      "...     ...           ..        ...   \n",
      "204880  1.0            1   0.986691   \n",
      "204881  1.0            1   0.887608   \n",
      "204882  1.0            1   0.994918   \n",
      "204883  1.0            1   0.947040   \n",
      "204884  1.0            1   0.477791   \n",
      "\n",
      "[204885 rows x 4 columns]"
     ]
    }
   ],
   "source": [
    "results['ALL_TEXT'] = results['ALL_TEXT'].astype(str)\n",
    "results"
   ]
  },
  {
   "cell_type": "code",
   "execution_count": 305,
   "metadata": {},
   "outputs": [
    {
     "data": {
      "application/vnd.jupyter.widget-view+json": {
       "model_id": "f187bf2f8ba341aea537001b2ec150c6",
       "version_major": 2,
       "version_minor": 0
      },
      "text/plain": [
       "VBox()"
      ]
     },
     "metadata": {},
     "output_type": "display_data"
    },
    {
     "data": {
      "application/vnd.jupyter.widget-view+json": {
       "model_id": "",
       "version_major": 2,
       "version_minor": 0
      },
      "text/plain": [
       "FloatProgress(value=0.0, bar_style='info', description='Progress:', layout=Layout(height='25px', width='50%'),…"
      ]
     },
     "metadata": {},
     "output_type": "display_data"
    }
   ],
   "source": [
    "results_sparkdf = spark.createDataFrame(results)"
   ]
  },
  {
   "cell_type": "code",
   "execution_count": 306,
   "metadata": {},
   "outputs": [
    {
     "data": {
      "application/vnd.jupyter.widget-view+json": {
       "model_id": "ce4974c112564d3288cb57c5500c6132",
       "version_major": 2,
       "version_minor": 0
      },
      "text/plain": [
       "VBox()"
      ]
     },
     "metadata": {},
     "output_type": "display_data"
    },
    {
     "data": {
      "application/vnd.jupyter.widget-view+json": {
       "model_id": "",
       "version_major": 2,
       "version_minor": 0
      },
      "text/plain": [
       "FloatProgress(value=0.0, bar_style='info', description='Progress:', layout=Layout(height='25px', width='50%'),…"
      ]
     },
     "metadata": {},
     "output_type": "display_data"
    }
   ],
   "source": [
    "sfOptions2 = {\n",
    "  'sfURL' : 'powerreviews.snowflakecomputing.com',\n",
    "  'sfAccount' : 'powerreviews',\n",
    "  'sfUser' : 'APP_SPARK_PROD',\n",
    "  'sfPassword' : '>6txhcQ*7&^Qrq`j',\n",
    "  'sfDatabase' : 'ANALYTICS_WORKSHOP',\n",
    "  'sfSchema' : 'DATA_SCIENCE',\n",
    "  'sfWarehouse' : 'LOWER_ENV_WAREHOUSE'\n",
    "}\n"
   ]
  },
  {
   "cell_type": "code",
   "execution_count": 307,
   "metadata": {},
   "outputs": [
    {
     "data": {
      "application/vnd.jupyter.widget-view+json": {
       "model_id": "bfc456d12a5b407ebac6b424c7f637b0",
       "version_major": 2,
       "version_minor": 0
      },
      "text/plain": [
       "VBox()"
      ]
     },
     "metadata": {},
     "output_type": "display_data"
    },
    {
     "data": {
      "application/vnd.jupyter.widget-view+json": {
       "model_id": "",
       "version_major": 2,
       "version_minor": 0
      },
      "text/plain": [
       "FloatProgress(value=0.0, bar_style='info', description='Progress:', layout=Layout(height='25px', width='50%'),…"
      ]
     },
     "metadata": {},
     "output_type": "display_data"
    }
   ],
   "source": [
    " results_sparkdf.write.format(SNOWFLAKE_SOURCE_NAME).options(**sfOptions2) \\\n",
    "    .option(\"dbtable\",\"MODLABEL_TEST_2\").mode(\"append\").save()"
   ]
  },
  {
   "cell_type": "code",
   "execution_count": null,
   "metadata": {},
   "outputs": [],
   "source": []
  },
  {
   "cell_type": "code",
   "execution_count": null,
   "metadata": {},
   "outputs": [],
   "source": []
  },
  {
   "cell_type": "code",
   "execution_count": null,
   "metadata": {},
   "outputs": [],
   "source": []
  },
  {
   "cell_type": "code",
   "execution_count": null,
   "metadata": {},
   "outputs": [],
   "source": []
  },
  {
   "cell_type": "code",
   "execution_count": null,
   "metadata": {},
   "outputs": [],
   "source": []
  },
  {
   "cell_type": "code",
   "execution_count": null,
   "metadata": {},
   "outputs": [],
   "source": []
  },
  {
   "cell_type": "code",
   "execution_count": null,
   "metadata": {},
   "outputs": [],
   "source": []
  }
 ],
 "metadata": {
  "kernelspec": {
   "display_name": "PySpark",
   "language": "",
   "name": "pysparkkernel"
  },
  "language_info": {
   "codemirror_mode": {
    "name": "python",
    "version": 2
   },
   "mimetype": "text/x-python",
   "name": "pyspark",
   "pygments_lexer": "python2"
  }
 },
 "nbformat": 4,
 "nbformat_minor": 4
}
