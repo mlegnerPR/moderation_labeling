{
 "cells": [
  {
   "cell_type": "code",
   "execution_count": 1,
   "metadata": {},
   "outputs": [
    {
     "data": {
      "application/vnd.jupyter.widget-view+json": {
       "model_id": "21ccde8c703348bf819c9ef283162720",
       "version_major": 2,
       "version_minor": 0
      },
      "text/plain": [
       "VBox()"
      ]
     },
     "metadata": {},
     "output_type": "display_data"
    },
    {
     "name": "stdout",
     "output_type": "stream",
     "text": [
      "Starting Spark application\n"
     ]
    },
    {
     "data": {
      "text/html": [
       "<table>\n",
       "<tr><th>ID</th><th>YARN Application ID</th><th>Kind</th><th>State</th><th>Spark UI</th><th>Driver log</th><th>Current session?</th></tr><tr><td>0</td><td>application_1612188940752_0001</td><td>pyspark</td><td>idle</td><td><a target=\"_blank\" href=\"http://ip-10-101-214-223.us-west-2.compute.internal:20888/proxy/application_1612188940752_0001/\">Link</a></td><td><a target=\"_blank\" href=\"http://ip-10-101-214-223.us-west-2.compute.internal:8042/node/containerlogs/container_1612188940752_0001_01_000001/livy\">Link</a></td><td>✔</td></tr></table>"
      ],
      "text/plain": [
       "<IPython.core.display.HTML object>"
      ]
     },
     "metadata": {},
     "output_type": "display_data"
    },
    {
     "data": {
      "application/vnd.jupyter.widget-view+json": {
       "model_id": "",
       "version_major": 2,
       "version_minor": 0
      },
      "text/plain": [
       "FloatProgress(value=0.0, bar_style='info', description='Progress:', layout=Layout(height='25px', width='50%'),…"
      ]
     },
     "metadata": {},
     "output_type": "display_data"
    },
    {
     "name": "stdout",
     "output_type": "stream",
     "text": [
      "SparkSession available as 'spark'.\n"
     ]
    },
    {
     "data": {
      "application/vnd.jupyter.widget-view+json": {
       "model_id": "",
       "version_major": 2,
       "version_minor": 0
      },
      "text/plain": [
       "FloatProgress(value=0.0, bar_style='info', description='Progress:', layout=Layout(height='25px', width='50%'),…"
      ]
     },
     "metadata": {},
     "output_type": "display_data"
    }
   ],
   "source": [
    "#Import packages\n",
    "import boto3\n",
    "import json\n",
    "import numpy as np\n",
    "from numpy import argmax\n",
    "import pyspark.sql.functions as F\n",
    "import snowflake.connector\n",
    "import pandas as pd\n",
    "import spacy\n",
    "import matplotlib.pyplot as plt\n",
    "from vaderSentiment.vaderSentiment import SentimentIntensityAnalyzer\n",
    "from urllib.parse import urlparse\n",
    "\n",
    "#RegEx\n",
    "import regex as re"
   ]
  },
  {
   "cell_type": "code",
   "execution_count": 2,
   "metadata": {},
   "outputs": [
    {
     "data": {
      "application/vnd.jupyter.widget-view+json": {
       "model_id": "f3beda56f866408eb739bccd7da7c862",
       "version_major": 2,
       "version_minor": 0
      },
      "text/plain": [
       "VBox()"
      ]
     },
     "metadata": {},
     "output_type": "display_data"
    },
    {
     "data": {
      "application/vnd.jupyter.widget-view+json": {
       "model_id": "",
       "version_major": 2,
       "version_minor": 0
      },
      "text/plain": [
       "FloatProgress(value=0.0, bar_style='info', description='Progress:', layout=Layout(height='25px', width='50%'),…"
      ]
     },
     "metadata": {},
     "output_type": "display_data"
    }
   ],
   "source": [
    "sm_client = boto3.client('secretsmanager',region_name='us-west-2')\n",
    "secret_value = sm_client.get_secret_value(SecretId = 'emr_spark_qa')\n",
    "username = json.loads(secret_value['SecretString'])['emr_spark_username']\n",
    "password = json.loads(secret_value['SecretString'])['emr_spark_password']\n",
    "#print(username)\n",
    "#print(password)"
   ]
  },
  {
   "cell_type": "code",
   "execution_count": 3,
   "metadata": {},
   "outputs": [
    {
     "data": {
      "application/vnd.jupyter.widget-view+json": {
       "model_id": "4524cd7754b44052aed0b2f64bdcead6",
       "version_major": 2,
       "version_minor": 0
      },
      "text/plain": [
       "VBox()"
      ]
     },
     "metadata": {},
     "output_type": "display_data"
    },
    {
     "data": {
      "application/vnd.jupyter.widget-view+json": {
       "model_id": "",
       "version_major": 2,
       "version_minor": 0
      },
      "text/plain": [
       "FloatProgress(value=0.0, bar_style='info', description='Progress:', layout=Layout(height='25px', width='50%'),…"
      ]
     },
     "metadata": {},
     "output_type": "display_data"
    }
   ],
   "source": [
    "#PYTHON connection info\n",
    "conn = snowflake.connector.connect(\n",
    "    account='powerreviews',\n",
    "    database='analytics_prod',\n",
    "    warehouse='LOWER_ENV_WAREHOUSE',\n",
    "    user=username,\n",
    "    password=password\n",
    "    )\n"
   ]
  },
  {
   "cell_type": "code",
   "execution_count": 14,
   "metadata": {},
   "outputs": [
    {
     "data": {
      "application/vnd.jupyter.widget-view+json": {
       "model_id": "1136b03c09cb48cfab955769688369ff",
       "version_major": 2,
       "version_minor": 0
      },
      "text/plain": [
       "VBox()"
      ]
     },
     "metadata": {},
     "output_type": "display_data"
    },
    {
     "data": {
      "application/vnd.jupyter.widget-view+json": {
       "model_id": "",
       "version_major": 2,
       "version_minor": 0
      },
      "text/plain": [
       "FloatProgress(value=0.0, bar_style='info', description='Progress:', layout=Layout(height='25px', width='50%'),…"
      ]
     },
     "metadata": {},
     "output_type": "display_data"
    }
   ],
   "source": [
    "\n",
    "\n",
    "#Query some reviews\n",
    "query_1 = \"select distinct r.ugc_id,  mg.name, r.review_headline, r.review_comments, \\\n",
    "case when (contains(r.observations, 'CR') )  then 1 else 0 end as CR \\\n",
    "from analytics.review as r \\\n",
    "join analytics.merchant_group as mg \\\n",
    "on r.client_id = mg.client_id \\\n",
    "where r.locale in ('en_US','en_GB','en_CA') and contains(r.observations, 'PM') and not contains(r.observations, 'IA') and not contains(r.observations, 'IR') \\\n",
    "and r.created_date > '2020-01-01' \\\n",
    "and mg.usage_type != 'Test' \\\n",
    "and ugc_id in (277427048, 277425575) \\\n",
    "\"\n",
    "\n",
    "#and contains(r.observations, 'CR') \\"
   ]
  },
  {
   "cell_type": "code",
   "execution_count": 15,
   "metadata": {},
   "outputs": [
    {
     "data": {
      "application/vnd.jupyter.widget-view+json": {
       "model_id": "aaf1214abee74fdebcc77245f8e1ffae",
       "version_major": 2,
       "version_minor": 0
      },
      "text/plain": [
       "VBox()"
      ]
     },
     "metadata": {},
     "output_type": "display_data"
    },
    {
     "data": {
      "application/vnd.jupyter.widget-view+json": {
       "model_id": "",
       "version_major": 2,
       "version_minor": 0
      },
      "text/plain": [
       "FloatProgress(value=0.0, bar_style='info', description='Progress:', layout=Layout(height='25px', width='50%'),…"
      ]
     },
     "metadata": {},
     "output_type": "display_data"
    },
    {
     "name": "stdout",
     "output_type": "stream",
     "text": [
      "<class 'pandas.core.frame.DataFrame'>\n",
      "RangeIndex: 2 entries, 0 to 1\n",
      "Data columns (total 5 columns):\n",
      " #   Column           Non-Null Count  Dtype \n",
      "---  ------           --------------  ----- \n",
      " 0   UGC_ID           2 non-null      int64 \n",
      " 1   NAME             2 non-null      object\n",
      " 2   REVIEW_HEADLINE  2 non-null      object\n",
      " 3   REVIEW_COMMENTS  2 non-null      object\n",
      " 4   CR               2 non-null      int64 \n",
      "dtypes: int64(2), object(3)\n",
      "memory usage: 208.0+ bytes"
     ]
    }
   ],
   "source": [
    "reviews = pd.read_sql(query_1, conn)\n",
    "reviews.head()\n",
    "reviews.info()\n"
   ]
  },
  {
   "cell_type": "code",
   "execution_count": 16,
   "metadata": {},
   "outputs": [
    {
     "data": {
      "application/vnd.jupyter.widget-view+json": {
       "model_id": "b046e876ae2c4f6ab5af149df9803d7c",
       "version_major": 2,
       "version_minor": 0
      },
      "text/plain": [
       "VBox()"
      ]
     },
     "metadata": {},
     "output_type": "display_data"
    },
    {
     "data": {
      "application/vnd.jupyter.widget-view+json": {
       "model_id": "",
       "version_major": 2,
       "version_minor": 0
      },
      "text/plain": [
       "FloatProgress(value=0.0, bar_style='info', description='Progress:', layout=Layout(height='25px', width='50%'),…"
      ]
     },
     "metadata": {},
     "output_type": "display_data"
    },
    {
     "name": "stdout",
     "output_type": "stream",
     "text": [
      "      UGC_ID  ... CR\n",
      "0  277425575  ...  0\n",
      "1  277427048  ...  0\n",
      "\n",
      "[2 rows x 5 columns]"
     ]
    }
   ],
   "source": [
    "reviews.head()"
   ]
  },
  {
   "cell_type": "code",
   "execution_count": 17,
   "metadata": {},
   "outputs": [
    {
     "data": {
      "application/vnd.jupyter.widget-view+json": {
       "model_id": "cb52103042334e778438f0ed01d97fab",
       "version_major": 2,
       "version_minor": 0
      },
      "text/plain": [
       "VBox()"
      ]
     },
     "metadata": {},
     "output_type": "display_data"
    },
    {
     "data": {
      "application/vnd.jupyter.widget-view+json": {
       "model_id": "",
       "version_major": 2,
       "version_minor": 0
      },
      "text/plain": [
       "FloatProgress(value=0.0, bar_style='info', description='Progress:', layout=Layout(height='25px', width='50%'),…"
      ]
     },
     "metadata": {},
     "output_type": "display_data"
    }
   ],
   "source": [
    "reviews['ALL_TEXT'] =  reviews['REVIEW_HEADLINE'] + ' '+reviews['REVIEW_COMMENTS']\n",
    "\n",
    "reviews['NAME_1ST_PART'] = reviews['NAME'].apply(lambda x: x.split()[0])\n",
    "reviews['NAME_1ST_PART_LOWER'] = reviews['NAME_1ST_PART'].str.lower()"
   ]
  },
  {
   "cell_type": "code",
   "execution_count": 18,
   "metadata": {},
   "outputs": [
    {
     "data": {
      "application/vnd.jupyter.widget-view+json": {
       "model_id": "dbfabae61db44a3cb5a7f6c10eb83b71",
       "version_major": 2,
       "version_minor": 0
      },
      "text/plain": [
       "VBox()"
      ]
     },
     "metadata": {},
     "output_type": "display_data"
    },
    {
     "data": {
      "application/vnd.jupyter.widget-view+json": {
       "model_id": "",
       "version_major": 2,
       "version_minor": 0
      },
      "text/plain": [
       "FloatProgress(value=0.0, bar_style='info', description='Progress:', layout=Layout(height='25px', width='50%'),…"
      ]
     },
     "metadata": {},
     "output_type": "display_data"
    }
   ],
   "source": [
    "#dfTest['bar'] = dfTest.apply(lambda row : row['foo'].replace(str(row['date']), ''), axis=1)\n",
    "reviews['ALL_TEXT_2'] = reviews.apply(lambda x: x['ALL_TEXT'].replace(str(x['NAME_1ST_PART']),''), axis = 1)\n",
    "reviews['ALL_TEXT_3'] = reviews.apply(lambda x: x['ALL_TEXT_2'].replace(str(x['NAME_1ST_PART_LOWER']),''), axis = 1)"
   ]
  },
  {
   "cell_type": "code",
   "execution_count": 20,
   "metadata": {},
   "outputs": [
    {
     "data": {
      "application/vnd.jupyter.widget-view+json": {
       "model_id": "2ebbf485b02e456689496192e413f767",
       "version_major": 2,
       "version_minor": 0
      },
      "text/plain": [
       "VBox()"
      ]
     },
     "metadata": {},
     "output_type": "display_data"
    },
    {
     "data": {
      "application/vnd.jupyter.widget-view+json": {
       "model_id": "",
       "version_major": 2,
       "version_minor": 0
      },
      "text/plain": [
       "FloatProgress(value=0.0, bar_style='info', description='Progress:', layout=Layout(height='25px', width='50%'),…"
      ]
     },
     "metadata": {},
     "output_type": "display_data"
    },
    {
     "name": "stdout",
     "output_type": "stream",
     "text": [
      "      UGC_ID                      NAME  \\\n",
      "0  277425575  Wickes Building Supplies   \n",
      "1  277427048  Wickes Building Supplies   \n",
      "\n",
      "                          REVIEW_HEADLINE  \\\n",
      "0  Last time I order anything from Wickes   \n",
      "1  Decking screws from Wickes               \n",
      "\n",
      "                                                                                                                                                                                                                                                                                                                                                                                                                                                                                                                                      REVIEW_COMMENTS  \\\n",
      "0  Having waited weeks for this delivery, I received a text message that it had been delivered and signed for by me at 18.51. This is a lie. I have not had a delivery and have not signed anything. God knows where he/she left it. Tried to contact Citysprint , Wickes courier, but gave up after an hour on the telephone in a queue. I Wickes had sent this with yesterdays order (which did arrive) this would not have happened. I suppose having over three weeks to amalgamate two orders was not enough!\\nAll in all an incompetent display   \n",
      "1  Excellent quality product at a very good price\\nService provided by Wickes and its staff top clasd                                                                                                                                                                                                                                                                                                                                                                                                                                                   \n",
      "\n",
      "   CR  \\\n",
      "0  0    \n",
      "1  0    \n",
      "\n",
      "                                                                                                                                                                                                                                                                                                                                                                                                                                                                                                                                                                                    ALL_TEXT  \\\n",
      "0  Last time I order anything from Wickes Having waited weeks for this delivery, I received a text message that it had been delivered and signed for by me at 18.51. This is a lie. I have not had a delivery and have not signed anything. God knows where he/she left it. Tried to contact Citysprint , Wickes courier, but gave up after an hour on the telephone in a queue. I Wickes had sent this with yesterdays order (which did arrive) this would not have happened. I suppose having over three weeks to amalgamate two orders was not enough!\\nAll in all an incompetent display   \n",
      "1  Decking screws from Wickes Excellent quality product at a very good price\\nService provided by Wickes and its staff top clasd                                                                                                                                                                                                                                                                                                                                                                                                                                                               \n",
      "\n",
      "  NAME_1ST_PART NAME_1ST_PART_LOWER  \\\n",
      "0  Wickes        wickes               \n",
      "1  Wickes        wickes               \n",
      "\n",
      "                                                                                                                                                                                                                                                                                                                                                                                                                                                                                                                                                     ALL_TEXT_NAME_REMOVED  \n",
      "0  Last time I order anything from  Having waited weeks for this delivery, I received a text message that it had been delivered and signed for by me at 18.51. This is a lie. I have not had a delivery and have not signed anything. God knows where he/she left it. Tried to contact Citysprint ,  courier, but gave up after an hour on the telephone in a queue. I  had sent this with yesterdays order (which did arrive) this would not have happened. I suppose having over three weeks to amalgamate two orders was not enough!\\nAll in all an incompetent display  \n",
      "1  Decking screws from  Excellent quality product at a very good price\\nService provided by  and its staff top clasd                                                                                                                                                                                                                                                                                                                                                                                                                                                        \n",
      "<string>:1: FutureWarning: Passing a negative integer is deprecated in version 1.0 and will not be supported in future version. Instead, use None to not limit the column width."
     ]
    }
   ],
   "source": [
    "pd.set_option('display.max_colwidth', -1)\n",
    "pd.set_option('display.max_columns', None)\n",
    "pd.set_option('display.max_rows', None)\n",
    "\n",
    "reviews.head()"
   ]
  },
  {
   "cell_type": "code",
   "execution_count": 7,
   "metadata": {},
   "outputs": [
    {
     "data": {
      "application/vnd.jupyter.widget-view+json": {
       "model_id": "45e4594fcc8149ed9e80d8ce263d25a6",
       "version_major": 2,
       "version_minor": 0
      },
      "text/plain": [
       "VBox()"
      ]
     },
     "metadata": {},
     "output_type": "display_data"
    },
    {
     "data": {
      "application/vnd.jupyter.widget-view+json": {
       "model_id": "",
       "version_major": 2,
       "version_minor": 0
      },
      "text/plain": [
       "FloatProgress(value=0.0, bar_style='info', description='Progress:', layout=Layout(height='25px', width='50%'),…"
      ]
     },
     "metadata": {},
     "output_type": "display_data"
    }
   ],
   "source": [
    " \n",
    "#import pandas as pd \n",
    "#data =[['Went to Amazon.','Amazon'],['Love to shop at Amazon, Target, Walmart.', 'Amazon']]\n",
    "#df = pd.DataFrame(data, columns = ['ALL_TEXT', 'NAME']) \n",
    "#df "
   ]
  },
  {
   "cell_type": "code",
   "execution_count": 8,
   "metadata": {},
   "outputs": [
    {
     "data": {
      "application/vnd.jupyter.widget-view+json": {
       "model_id": "db46fe03dc584ea08dfdc5721abadd86",
       "version_major": 2,
       "version_minor": 0
      },
      "text/plain": [
       "VBox()"
      ]
     },
     "metadata": {},
     "output_type": "display_data"
    },
    {
     "data": {
      "application/vnd.jupyter.widget-view+json": {
       "model_id": "",
       "version_major": 2,
       "version_minor": 0
      },
      "text/plain": [
       "FloatProgress(value=0.0, bar_style='info', description='Progress:', layout=Layout(height='25px', width='50%'),…"
      ]
     },
     "metadata": {},
     "output_type": "display_data"
    }
   ],
   "source": [
    "#df['AMZN_TGT'] = df['ALL_TEXT'].str.extractall(r'\\b(Amazon|Target|Walmart)\\b').unstack().apply(lambda x:','.join(x.dropna()), axis=1)\n",
    "#df"
   ]
  },
  {
   "cell_type": "code",
   "execution_count": 9,
   "metadata": {},
   "outputs": [
    {
     "data": {
      "application/vnd.jupyter.widget-view+json": {
       "model_id": "d2723b9fd96d47d892bc248ae376f125",
       "version_major": 2,
       "version_minor": 0
      },
      "text/plain": [
       "VBox()"
      ]
     },
     "metadata": {},
     "output_type": "display_data"
    },
    {
     "data": {
      "application/vnd.jupyter.widget-view+json": {
       "model_id": "",
       "version_major": 2,
       "version_minor": 0
      },
      "text/plain": [
       "FloatProgress(value=0.0, bar_style='info', description='Progress:', layout=Layout(height='25px', width='50%'),…"
      ]
     },
     "metadata": {},
     "output_type": "display_data"
    }
   ],
   "source": [
    "#df['not_client']=df['AMZN_TGT'].str.lower().ne('amazon')\n",
    "#df['NAME']=df['NAME'].str.lower()\n",
    "#df['not_client']=df['AMZN_TGT'].str.lower().ne(df['NAME'])\n",
    "#df"
   ]
  },
  {
   "cell_type": "code",
   "execution_count": null,
   "metadata": {},
   "outputs": [],
   "source": []
  },
  {
   "cell_type": "code",
   "execution_count": 10,
   "metadata": {},
   "outputs": [
    {
     "data": {
      "application/vnd.jupyter.widget-view+json": {
       "model_id": "bb96b49c11634fc499d27141479c25d8",
       "version_major": 2,
       "version_minor": 0
      },
      "text/plain": [
       "VBox()"
      ]
     },
     "metadata": {},
     "output_type": "display_data"
    },
    {
     "data": {
      "application/vnd.jupyter.widget-view+json": {
       "model_id": "",
       "version_major": 2,
       "version_minor": 0
      },
      "text/plain": [
       "FloatProgress(value=0.0, bar_style='info', description='Progress:', layout=Layout(height='25px', width='50%'),…"
      ]
     },
     "metadata": {},
     "output_type": "display_data"
    }
   ],
   "source": [
    "\n",
    "#Waitrose is owned by John Lewis - so shouldn't be marked for John Lewis - add to regex list or no?\n",
    "#Remove john lewis, big lots\n",
    "#Remove Goodwill - doesn't count as retailer\n",
    "#If on or on- before target then ignore, lots of references to products being on target for size or whatever and not refering to retailer Target\n",
    "#(?:(?<!ON[ -]))TARGET\n",
    "reviews['regex_retailer_insens_case'] = reviews['ALL_TEXT'].str.extractall(r'\\b(AMAZON(?! (?:PAY|ALEXA|FIRE STICK))|E[ -]?BAY|OVERSTOCK|WAL[ -]?MART|LOWE\\'?S|HOME DEPOT|MENARD\\'?S|B ?& ?Q|WICKES|CABELA\\'?S|FLEET FARM|DOLLAR TREE|DOLLAR GENERAL|FAMILY DOLLAR|SAM\\'?S|COSTCO|MACY\\'?S|NORDSTROM|JC[ ]?PENNE?Y|TJ[ -]?MAXX?|MARSHALL\\'?S|(?:(?<!BOB ))ROSS|KOHL\\'?S|J[ ]?CREW|CVS|WALGREEN\\'?S|RITE[ -]?AID|QVC|HSN|KROGER|WHOLE FOODS|JEWEL OSCO|TJ\\'?S|TRADER JOE\\'?S?|WEGMAN\\'?S|ALBERTSON|ALDI\\'?S?|TESCO(?:(?! (?:CLUB[ ]?CARD|POINTS|VOUCHERS)))|CARREFOUR|SEPHORA|POTTERY BARN|IKEA|BED BATH & BEYOND|BED BATH AND BEYOND|WAYFAIR|ZAPPOS|FOOT LOCKER|DSW|AUTO[ ]?ZONE|ETSY|HOBBY LOBBY|MICHAEL\\'?S|BLICK|DICK\\'?S|REI|AETNA|STATE FARM|IPSY)\\b', flags=re.I).unstack().apply(lambda x:','.join(x.dropna()), axis=1)\n",
    "#.str.extract(r'([^@A-Z][-A-Z0-9:%_\\+~#=]+\\.(?:CO|COM|NET|ORG|GOV|EDU|APP|IN|BE|GL|NL|LY|FR)\\b)', flags=re.I)\n",
    "\n",
    "#Require case sensitivity\n",
    "#Ace, Target, \n",
    "#Otherwise - ace the word, target as in target practice, on target, etc, heb is a dutch word\n",
    "reviews['regex_retailer_sens_case'] = reviews['ALL_TEXT'].str.extractall(r'\\b(Ace|Sears|Target|HEB)\\b').unstack().apply(lambda x:','.join(x.dropna()), axis=1)"
   ]
  },
  {
   "cell_type": "code",
   "execution_count": 11,
   "metadata": {},
   "outputs": [
    {
     "data": {
      "application/vnd.jupyter.widget-view+json": {
       "model_id": "3925049e4f7b47bb8e90bfb32da90ce7",
       "version_major": 2,
       "version_minor": 0
      },
      "text/plain": [
       "VBox()"
      ]
     },
     "metadata": {},
     "output_type": "display_data"
    },
    {
     "data": {
      "application/vnd.jupyter.widget-view+json": {
       "model_id": "",
       "version_major": 2,
       "version_minor": 0
      },
      "text/plain": [
       "FloatProgress(value=0.0, bar_style='info', description='Progress:', layout=Layout(height='25px', width='50%'),…"
      ]
     },
     "metadata": {},
     "output_type": "display_data"
    }
   ],
   "source": [
    "#Merge case insensitive and sensitive columns\n",
    "\n",
    "#df['c'] = np.where(df[\"a\"].isnull(), df[\"b\"], df[\"a\"] )\n",
    "reviews['regex_retailer'] = np.where(reviews['regex_retailer_insens_case'].isnull(),reviews['regex_retailer_sens_case'], reviews['regex_retailer_insens_case'] )"
   ]
  },
  {
   "cell_type": "code",
   "execution_count": 12,
   "metadata": {},
   "outputs": [
    {
     "data": {
      "application/vnd.jupyter.widget-view+json": {
       "model_id": "61e377d9a522400f9a68611ebeccbff3",
       "version_major": 2,
       "version_minor": 0
      },
      "text/plain": [
       "VBox()"
      ]
     },
     "metadata": {},
     "output_type": "display_data"
    },
    {
     "data": {
      "application/vnd.jupyter.widget-view+json": {
       "model_id": "",
       "version_major": 2,
       "version_minor": 0
      },
      "text/plain": [
       "FloatProgress(value=0.0, bar_style='info', description='Progress:', layout=Layout(height='25px', width='50%'),…"
      ]
     },
     "metadata": {},
     "output_type": "display_data"
    }
   ],
   "source": [
    "#regex_retailer returns nan from above if no match\n",
    "#Need to fill in with random string in order to check for name match\n",
    "\n",
    "\n",
    "\n",
    "reviews['regex_retailer'] = reviews['regex_retailer'].fillna(reviews['NAME_1ST_PART'])"
   ]
  },
  {
   "cell_type": "code",
   "execution_count": 13,
   "metadata": {},
   "outputs": [
    {
     "data": {
      "application/vnd.jupyter.widget-view+json": {
       "model_id": "9a7ed359a70845c0a0a808262bad1deb",
       "version_major": 2,
       "version_minor": 0
      },
      "text/plain": [
       "VBox()"
      ]
     },
     "metadata": {},
     "output_type": "display_data"
    },
    {
     "data": {
      "application/vnd.jupyter.widget-view+json": {
       "model_id": "",
       "version_major": 2,
       "version_minor": 0
      },
      "text/plain": [
       "FloatProgress(value=0.0, bar_style='info', description='Progress:', layout=Layout(height='25px', width='50%'),…"
      ]
     },
     "metadata": {},
     "output_type": "display_data"
    }
   ],
   "source": [
    "reviews['NAME_1ST_PART'] = reviews['NAME_1ST_PART'].str.lower()\n",
    "reviews['regex_retailer'] = reviews['regex_retailer'].str.lower()\n",
    "\n",
    "#Returns True if there is a retailer mention that is not the client name\n",
    "#False if no retailer mention (i.e. zzzzzzzzzz)\n",
    "#False if retailer mention = client name\n",
    "#reviews['retailer_not_client'] = reviews.apply(lambda x: x.NAME_1ST_PART not in x.regex_retailer if x.regex_retailer!='zzzzzzzzzz' else False, axis=1)\n",
    "\n",
    "\n",
    "\n",
    "#df['not_client']=df['AMZN_TGT'].str.lower().ne(df['NAME'])\n",
    "reviews['retailer_not_client']=reviews['regex_retailer'].ne(reviews['NAME_1ST_PART'])\n",
    "#reviews['retailer_not_client'] = reviews.apply(lambda x: x.regex_retailer.ne(x.NAME_1ST_PART) if x.regex_retailer!='zzzzzzzzzz' else False, axis=1)\n",
    "\n",
    "\n",
    "#Trying to look through list like \"Amazon, Target\" and check if anything besides client name is there\n",
    "#So if client is Amazon, returns True for \"Amazon, Target\" but false for just \"Amazon\"\n",
    "#if (reviews['regex_retailer'] != 'zzzzzzzzzz') :\n",
    "#    reviews['retailer_not_client'] = reviews['regex_retailer'].ne(reviews['NAME_1ST_PART'])\n",
    "#else:\n",
    "#    reviews['retailer_not_client'] = False\n"
   ]
  },
  {
   "cell_type": "code",
   "execution_count": 14,
   "metadata": {},
   "outputs": [
    {
     "data": {
      "application/vnd.jupyter.widget-view+json": {
       "model_id": "27fa67aeda7645549809ab5af6a8b540",
       "version_major": 2,
       "version_minor": 0
      },
      "text/plain": [
       "VBox()"
      ]
     },
     "metadata": {},
     "output_type": "display_data"
    },
    {
     "data": {
      "application/vnd.jupyter.widget-view+json": {
       "model_id": "",
       "version_major": 2,
       "version_minor": 0
      },
      "text/plain": [
       "FloatProgress(value=0.0, bar_style='info', description='Progress:', layout=Layout(height='25px', width='50%'),…"
      ]
     },
     "metadata": {},
     "output_type": "display_data"
    }
   ],
   "source": [
    "#reviews.info()"
   ]
  },
  {
   "cell_type": "code",
   "execution_count": 17,
   "metadata": {},
   "outputs": [
    {
     "data": {
      "application/vnd.jupyter.widget-view+json": {
       "model_id": "8e3c30049a344543bb4c8e141f81eb2a",
       "version_major": 2,
       "version_minor": 0
      },
      "text/plain": [
       "VBox()"
      ]
     },
     "metadata": {},
     "output_type": "display_data"
    },
    {
     "data": {
      "application/vnd.jupyter.widget-view+json": {
       "model_id": "",
       "version_major": 2,
       "version_minor": 0
      },
      "text/plain": [
       "FloatProgress(value=0.0, bar_style='info', description='Progress:', layout=Layout(height='25px', width='50%'),…"
      ]
     },
     "metadata": {},
     "output_type": "display_data"
    },
    {
     "name": "stdout",
     "output_type": "stream",
     "text": [
      "      UGC_ID           NAME                         REVIEW_HEADLINE  \\\n",
      "0  274567494  Plow & Hearth  good product                             \n",
      "1  274756585  Plow & Hearth  Yes                                      \n",
      "2  274577907  Plow & Hearth  Beautiful!                               \n",
      "3  274587948  Plow & Hearth  Would not buy again                      \n",
      "4  274588107  Plow & Hearth  Would not buy again.                     \n",
      "5  274611148  Plow & Hearth  Perfect Trio                             \n",
      "6  274443961  Plow & Hearth  yes                                      \n",
      "7  274478330  Plow & Hearth  I would recommend this                   \n",
      "8  274584011  Plow & Hearth  I buy this product when needed           \n",
      "9  274612207  Plow & Hearth  Measure your bricks for a perfect fit!   \n",
      "\n",
      "                                                                                                                                                                                             REVIEW_COMMENTS  \\\n",
      "0  Product is great. Instructions and hardware quality a little less so.                                                                                                                                       \n",
      "1  Good quality, exactaly what I was looking for                                                                                                                                                               \n",
      "2  Looks great in my garden !                                                                                                                                                                                  \n",
      "3  It is cute but too expensive not to even come with any hardware!                                                                                                                                            \n",
      "4  Too expensive to not come with the hardware.  These three or very cheap looking compared with the big owl.  No hardware on either.                                                                          \n",
      "5  The cover fits the fire pit wonderfully - bought the safety base, the pit, and the cover.  Looks great and provides the necessary protection.                                                               \n",
      "6  Purchased as a gift.  I'm sure she will love it!  I did!                                                                                                                                                    \n",
      "7  Good quality at an affordable price                                                                                                                                                                         \n",
      "8  Good product and quick delivery                                                                                                                                                                             \n",
      "9  I know there were comments about the bricks not fitting into the space - with that valuable information, I made a point to purchase bricks that were just shy of 16x16.  Fit wonderfully and looks great.   \n",
      "\n",
      "   CR  \\\n",
      "0  0    \n",
      "1  0    \n",
      "2  0    \n",
      "3  0    \n",
      "4  0    \n",
      "5  0    \n",
      "6  0    \n",
      "7  0    \n",
      "8  0    \n",
      "9  0    \n",
      "\n",
      "                                                                                                                                                                                                                                           ALL_TEXT  \\\n",
      "0  good product Product is great. Instructions and hardware quality a little less so.                                                                                                                                                                 \n",
      "1  Yes Good quality, exactaly what I was looking for                                                                                                                                                                                                  \n",
      "2  Beautiful! Looks great in my garden !                                                                                                                                                                                                              \n",
      "3  Would not buy again It is cute but too expensive not to even come with any hardware!                                                                                                                                                               \n",
      "4  Would not buy again. Too expensive to not come with the hardware.  These three or very cheap looking compared with the big owl.  No hardware on either.                                                                                            \n",
      "5  Perfect Trio The cover fits the fire pit wonderfully - bought the safety base, the pit, and the cover.  Looks great and provides the necessary protection.                                                                                         \n",
      "6  yes Purchased as a gift.  I'm sure she will love it!  I did!                                                                                                                                                                                       \n",
      "7  I would recommend this Good quality at an affordable price                                                                                                                                                                                         \n",
      "8  I buy this product when needed Good product and quick delivery                                                                                                                                                                                     \n",
      "9  Measure your bricks for a perfect fit! I know there were comments about the bricks not fitting into the space - with that valuable information, I made a point to purchase bricks that were just shy of 16x16.  Fit wonderfully and looks great.   \n",
      "\n",
      "  NAME_1ST_PART regex_retailer_insens_case regex_retailer_sens_case  \\\n",
      "0  plow          NaN                        NaN                       \n",
      "1  plow          NaN                        NaN                       \n",
      "2  plow          NaN                        NaN                       \n",
      "3  plow          NaN                        NaN                       \n",
      "4  plow          NaN                        NaN                       \n",
      "5  plow          NaN                        NaN                       \n",
      "6  plow          NaN                        NaN                       \n",
      "7  plow          NaN                        NaN                       \n",
      "8  plow          NaN                        NaN                       \n",
      "9  plow          NaN                        NaN                       \n",
      "\n",
      "  regex_retailer  retailer_not_client  \n",
      "0  plow           False                \n",
      "1  plow           False                \n",
      "2  plow           False                \n",
      "3  plow           False                \n",
      "4  plow           False                \n",
      "5  plow           False                \n",
      "6  plow           False                \n",
      "7  plow           False                \n",
      "8  plow           False                \n",
      "9  plow           False"
     ]
    }
   ],
   "source": [
    "reviews.head(10)"
   ]
  },
  {
   "cell_type": "code",
   "execution_count": 18,
   "metadata": {},
   "outputs": [
    {
     "data": {
      "application/vnd.jupyter.widget-view+json": {
       "model_id": "16ae8a65b5614cac8de5fa03be3ed623",
       "version_major": 2,
       "version_minor": 0
      },
      "text/plain": [
       "VBox()"
      ]
     },
     "metadata": {},
     "output_type": "display_data"
    },
    {
     "data": {
      "application/vnd.jupyter.widget-view+json": {
       "model_id": "",
       "version_major": 2,
       "version_minor": 0
      },
      "text/plain": [
       "FloatProgress(value=0.0, bar_style='info', description='Progress:', layout=Layout(height='25px', width='50%'),…"
      ]
     },
     "metadata": {},
     "output_type": "display_data"
    },
    {
     "name": "stdout",
     "output_type": "stream",
     "text": [
      "<string>:1: FutureWarning: Passing a negative integer is deprecated in version 1.0 and will not be supported in future version. Instead, use None to not limit the column width."
     ]
    }
   ],
   "source": [
    "pd.set_option('display.max_colwidth', -1)\n",
    "pd.set_option('display.max_columns', None)\n",
    "pd.set_option('display.max_rows', None)\n",
    "\n",
    "#test = reviews[reviews['regex_retailer']==False]\n",
    "#test.info()"
   ]
  },
  {
   "cell_type": "code",
   "execution_count": null,
   "metadata": {},
   "outputs": [],
   "source": []
  },
  {
   "cell_type": "code",
   "execution_count": 19,
   "metadata": {},
   "outputs": [
    {
     "data": {
      "application/vnd.jupyter.widget-view+json": {
       "model_id": "00dcd741bf344be3810d1d9f7cfbc585",
       "version_major": 2,
       "version_minor": 0
      },
      "text/plain": [
       "VBox()"
      ]
     },
     "metadata": {},
     "output_type": "display_data"
    },
    {
     "data": {
      "application/vnd.jupyter.widget-view+json": {
       "model_id": "",
       "version_major": 2,
       "version_minor": 0
      },
      "text/plain": [
       "FloatProgress(value=0.0, bar_style='info', description='Progress:', layout=Layout(height='25px', width='50%'),…"
      ]
     },
     "metadata": {},
     "output_type": "display_data"
    }
   ],
   "source": [
    "reviews['model_CR'] = 0\n",
    "\n",
    "reviews.loc[(reviews['retailer_not_client']==True ), 'model_CR'] = 1\n",
    "\n",
    "#Ignore where midwayusa client name bc target references don't refer to Target the retailer but target as in target practice\n",
    "#Can't look for case sensitivity bc people still start a sentence with target and therefore it's capitalized\n",
    "#Midsouth Shooters as well, Cheaper Than Dirt as well\n",
    "#3Rivers Archery, JoeBobOutfitters - Terminated, Leupold - TERMINATED \n",
    "reviews.loc[((reviews['NAME']=='MidwayUSA') |(reviews['NAME']=='Midsouth Shooters') | (reviews['NAME']=='Cheaper Than Dirt')| (reviews['NAME']=='3Rivers Archery')| (reviews['NAME']=='JoeBobOutfitters - Terminated')| (reviews['NAME']=='Leupold - TERMINATED'))&(reviews['regex_retailer']=='target'), 'model_CR'] = 0\n",
    "#Ignore where Citi card holders mention Costco bc it's a Costco related credit card\n",
    "reviews.loc[(reviews['NAME']=='Citigroup Inc.') &(reviews['regex_retailer']=='costco'), 'model_CR'] = 0\n",
    "#Ignore where sears in mentioned in BBQ Guys reviews, almost always refering to searing of meat\n",
    "reviews.loc[(reviews['NAME']=='BBQ Guys') &(reviews['regex_retailer']=='sears'), 'model_CR'] = 0\n",
    "#Marshalls is a brand sold at Wickes, also at Guitar Center, and at Musician's Friend, Sam Ash\n",
    "#Books-A-Million has series with Marshalls in the name\n",
    "reviews.loc[((reviews['NAME']=='Wickes Building Supplies')|(reviews['NAME']=='Guitar Center')|(reviews['NAME']==\"Musician's Friend\")|(reviews['NAME']=='Sam Ash')|(reviews['NAME']=='Books-A-Million')) &((reviews['regex_retailer']=='marshalls')|(reviews['regex_retailer']==\"marshall's\")), 'model_CR'] = 0\n",
    "#Dick Blick\n",
    "reviews.loc[(reviews['NAME']=='Dick Blick') &(reviews['regex_retailer']=='blick'), 'model_CR'] = 0\n",
    "#Consumer Reports allows retailer mentions so no CR label\n",
    "reviews.loc[(reviews['NAME']=='Consumer Reports'), 'model_CR'] = 0\n"
   ]
  },
  {
   "cell_type": "code",
   "execution_count": 20,
   "metadata": {},
   "outputs": [
    {
     "data": {
      "application/vnd.jupyter.widget-view+json": {
       "model_id": "cd174ab6709740039d20b2f09138cda4",
       "version_major": 2,
       "version_minor": 0
      },
      "text/plain": [
       "VBox()"
      ]
     },
     "metadata": {},
     "output_type": "display_data"
    },
    {
     "data": {
      "application/vnd.jupyter.widget-view+json": {
       "model_id": "",
       "version_major": 2,
       "version_minor": 0
      },
      "text/plain": [
       "FloatProgress(value=0.0, bar_style='info', description='Progress:', layout=Layout(height='25px', width='50%'),…"
      ]
     },
     "metadata": {},
     "output_type": "display_data"
    }
   ],
   "source": [
    "FP = reviews[(reviews['CR'] == 0) & (reviews['model_CR'] == 1)]\n",
    "FN = reviews[(reviews['CR'] == 1) & (reviews['model_CR'] == 0)]\n",
    "TP = reviews[(reviews['CR'] == 1) & (reviews['model_CR'] == 1)]\n",
    "TN = reviews[(reviews['CR'] == 0) & (reviews['model_CR'] == 0)]\n"
   ]
  },
  {
   "cell_type": "code",
   "execution_count": 21,
   "metadata": {},
   "outputs": [
    {
     "data": {
      "application/vnd.jupyter.widget-view+json": {
       "model_id": "dfac218ad7904a6080041aa77de6913c",
       "version_major": 2,
       "version_minor": 0
      },
      "text/plain": [
       "VBox()"
      ]
     },
     "metadata": {},
     "output_type": "display_data"
    },
    {
     "data": {
      "application/vnd.jupyter.widget-view+json": {
       "model_id": "",
       "version_major": 2,
       "version_minor": 0
      },
      "text/plain": [
       "FloatProgress(value=0.0, bar_style='info', description='Progress:', layout=Layout(height='25px', width='50%'),…"
      ]
     },
     "metadata": {},
     "output_type": "display_data"
    },
    {
     "name": "stdout",
     "output_type": "stream",
     "text": [
      "10792"
     ]
    }
   ],
   "source": [
    "\n",
    "FP['UGC_ID'].count()"
   ]
  },
  {
   "cell_type": "code",
   "execution_count": 22,
   "metadata": {},
   "outputs": [
    {
     "data": {
      "application/vnd.jupyter.widget-view+json": {
       "model_id": "4854a6358da641ffb362837d50373e3a",
       "version_major": 2,
       "version_minor": 0
      },
      "text/plain": [
       "VBox()"
      ]
     },
     "metadata": {},
     "output_type": "display_data"
    },
    {
     "data": {
      "application/vnd.jupyter.widget-view+json": {
       "model_id": "",
       "version_major": 2,
       "version_minor": 0
      },
      "text/plain": [
       "FloatProgress(value=0.0, bar_style='info', description='Progress:', layout=Layout(height='25px', width='50%'),…"
      ]
     },
     "metadata": {},
     "output_type": "display_data"
    },
    {
     "name": "stdout",
     "output_type": "stream",
     "text": [
      "12561"
     ]
    }
   ],
   "source": [
    "\n",
    "FN['UGC_ID'].count()"
   ]
  },
  {
   "cell_type": "code",
   "execution_count": 23,
   "metadata": {},
   "outputs": [
    {
     "data": {
      "application/vnd.jupyter.widget-view+json": {
       "model_id": "60a06e3933bf42a0af00b7ebca319d33",
       "version_major": 2,
       "version_minor": 0
      },
      "text/plain": [
       "VBox()"
      ]
     },
     "metadata": {},
     "output_type": "display_data"
    },
    {
     "data": {
      "application/vnd.jupyter.widget-view+json": {
       "model_id": "",
       "version_major": 2,
       "version_minor": 0
      },
      "text/plain": [
       "FloatProgress(value=0.0, bar_style='info', description='Progress:', layout=Layout(height='25px', width='50%'),…"
      ]
     },
     "metadata": {},
     "output_type": "display_data"
    },
    {
     "name": "stdout",
     "output_type": "stream",
     "text": [
      "28702"
     ]
    }
   ],
   "source": [
    "\n",
    "TP['UGC_ID'].count()"
   ]
  },
  {
   "cell_type": "code",
   "execution_count": 24,
   "metadata": {},
   "outputs": [
    {
     "data": {
      "application/vnd.jupyter.widget-view+json": {
       "model_id": "f550d7b0d700478a8026574252703ff0",
       "version_major": 2,
       "version_minor": 0
      },
      "text/plain": [
       "VBox()"
      ]
     },
     "metadata": {},
     "output_type": "display_data"
    },
    {
     "data": {
      "application/vnd.jupyter.widget-view+json": {
       "model_id": "",
       "version_major": 2,
       "version_minor": 0
      },
      "text/plain": [
       "FloatProgress(value=0.0, bar_style='info', description='Progress:', layout=Layout(height='25px', width='50%'),…"
      ]
     },
     "metadata": {},
     "output_type": "display_data"
    },
    {
     "name": "stdout",
     "output_type": "stream",
     "text": [
      "7899622"
     ]
    }
   ],
   "source": [
    "TN['UGC_ID'].count()"
   ]
  },
  {
   "cell_type": "code",
   "execution_count": 25,
   "metadata": {},
   "outputs": [
    {
     "data": {
      "application/vnd.jupyter.widget-view+json": {
       "model_id": "f38dc649b8514241b0f00a42588a11a5",
       "version_major": 2,
       "version_minor": 0
      },
      "text/plain": [
       "VBox()"
      ]
     },
     "metadata": {},
     "output_type": "display_data"
    },
    {
     "data": {
      "application/vnd.jupyter.widget-view+json": {
       "model_id": "",
       "version_major": 2,
       "version_minor": 0
      },
      "text/plain": [
       "FloatProgress(value=0.0, bar_style='info', description='Progress:', layout=Layout(height='25px', width='50%'),…"
      ]
     },
     "metadata": {},
     "output_type": "display_data"
    }
   ],
   "source": [
    "#FN.head(100)"
   ]
  },
  {
   "cell_type": "code",
   "execution_count": 26,
   "metadata": {},
   "outputs": [
    {
     "data": {
      "application/vnd.jupyter.widget-view+json": {
       "model_id": "7bbe64474e7f4289a2df30fad28b52e5",
       "version_major": 2,
       "version_minor": 0
      },
      "text/plain": [
       "VBox()"
      ]
     },
     "metadata": {},
     "output_type": "display_data"
    },
    {
     "data": {
      "application/vnd.jupyter.widget-view+json": {
       "model_id": "",
       "version_major": 2,
       "version_minor": 0
      },
      "text/plain": [
       "FloatProgress(value=0.0, bar_style='info', description='Progress:', layout=Layout(height='25px', width='50%'),…"
      ]
     },
     "metadata": {},
     "output_type": "display_data"
    },
    {
     "name": "stdout",
     "output_type": "stream",
     "text": [
      "                         NAME  UGC_ID\n",
      "719  Ulta                      669   \n",
      "323  John Lewis & Partners     386   \n",
      "660  The Hartford - P&C        341   \n",
      "35   Art.com - TERMINATED      274   \n",
      "13   Advance Auto Parts        255   \n",
      "754  Wickes Building Supplies  251   \n",
      "124  Cheaper Than Dirt         243   \n",
      "128  Citigroup Inc.            238   \n",
      "173  Discount Tire             230   \n",
      "643  TSC                       174"
     ]
    }
   ],
   "source": [
    "FN[['NAME','UGC_ID']].groupby(['NAME']).count().reset_index().sort_values(['UGC_ID'], ascending=False).head(10)"
   ]
  },
  {
   "cell_type": "code",
   "execution_count": 27,
   "metadata": {},
   "outputs": [
    {
     "data": {
      "application/vnd.jupyter.widget-view+json": {
       "model_id": "b73b1349d34143059db64a551669fd96",
       "version_major": 2,
       "version_minor": 0
      },
      "text/plain": [
       "VBox()"
      ]
     },
     "metadata": {},
     "output_type": "display_data"
    },
    {
     "data": {
      "application/vnd.jupyter.widget-view+json": {
       "model_id": "",
       "version_major": 2,
       "version_minor": 0
      },
      "text/plain": [
       "FloatProgress(value=0.0, bar_style='info', description='Progress:', layout=Layout(height='25px', width='50%'),…"
      ]
     },
     "metadata": {},
     "output_type": "display_data"
    },
    {
     "name": "stdout",
     "output_type": "stream",
     "text": [
      "          UGC_ID                      NAME  \\\n",
      "6176   298784319  Wickes Building Supplies   \n",
      "6180   298769417  Wickes Building Supplies   \n",
      "10275  268936291  Wickes Building Supplies   \n",
      "13188  276869568  Wickes Building Supplies   \n",
      "37761  317659440  Wickes Building Supplies   \n",
      "37765  317500678  Wickes Building Supplies   \n",
      "44190  277427048  Wickes Building Supplies   \n",
      "44351  277396076  Wickes Building Supplies   \n",
      "44381  277425575  Wickes Building Supplies   \n",
      "44472  277414019  Wickes Building Supplies   \n",
      "\n",
      "                                                    REVIEW_HEADLINE  \\\n",
      "6176   OK Castors                                                     \n",
      "6180   Great product great price and no delay for delivery can coll   \n",
      "10275  Wickes need to learn the correct way to store wood             \n",
      "13188  Incomplete delivery and no follow-up from Wickes               \n",
      "37761  Well done Wickes own brand                                     \n",
      "37765  Paint                                                          \n",
      "44190  Decking screws from Wickes                                     \n",
      "44351  avoid wickes                                                   \n",
      "44381  Last time I order anything from Wickes                         \n",
      "44472  Great                                                          \n",
      "\n",
      "                                                                                                                                                                                                                                                                                                                                                                                                                                                                                                                                                                                                                                                                                                                                                                                REVIEW_COMMENTS  \\\n",
      "6176   These are simple, cheap castors. I bought them to replace an old set, one of which had broken and they were fine for that - indeed they seem to be just the same as what they replaced. They were delivered in somewhat disappointing wrapping. Good to see Wickes avoiding the extravagant wrapping of some on-line merchants, but this went a bit too far being just a plastic bag with a significant tear in it.\\nThese are cheap castors - the nuts and bolts to fix them cost more! The quality is consistent with the low price. I would have preferred to have the choice fo a higher quality alternative. I would also have liked more detailed specs and measurements on the Wickes web site. I bought these accepting some risk that they woudl not really be the right thing.   \n",
      "6180   I am installing smart heating controls and need the thermostat radiator valve bodies only. Cheaper to buy the whole unit from Wickes and keep the head unit in case the smart head goes wrong. I need 7 but not sure if this would be compatible with the Wiser heads it is so will be purchasing another 6. \\nMany Thanks Wickes cheaper than online.                                                                                                                                                                                                                                                                                                                                                                                                                                     \n",
      "10275  Half the battens in pack were bowed so had to get 2 packs to ensure there was enough battens that would be useable, seems to be the battens are briefly dipped as  opposed to fully treated, would have gone to an actual timber merchant but was left with no choice as they wasn't open and I needed the battens urgently. Much better quality at Lawsons.\\nWhen will these places like Wickes wake up and learn what everyone else in the world seems to already know.....\\nWood needs to be stored HORIZONTALLY  NOT VERTICALLY!!!!!                                                                                                                                                                                                                                                   \n",
      "13188  Ordered 2 bags, 1 was delivered on time, the other never arrived due to the bag splitting at the depot during loading... Ok, these things happen, but 3 weeks later and after many hours chasing and repeated promises that someone will be in touch to sort this out, there is still no sign of the second bag or even any of the promised callbacks. The stones are fine, but on this experience, you should probably consider an alternative supplier! Next step: a section 75 claim for a refund via my credit card company - although I still won't have the materials to finish the job. Thanks for nothing Wickes :(                                                                                                                                                                \n",
      "37761  This is a very good paint with an excellent finish and easy to apply. I was amazed at the quality of this Wickes own brand paint at such a reasonable price.                                                                                                                                                                                                                                                                                                                                                                                                                                                                                                                                                                                                                               \n",
      "37765  Good quality paint as usual. Went to store and was told they dont stock it and to go on line which I found baffling as they would not order it. Ordered on line and payed for delivery & when it arrived I was 2.5lts short. to try and contact Wickes customer services is a joke. so I found out where it was delivered from (Rayleigh) and phoned store direct and a fantastic storeman sent it out immediately. hence the 3 stars for Wickes. But 5 stars for the paint                                                                                                                                                                                                                                                                                                                \n",
      "44190  Excellent quality product at a very good price\\nService provided by Wickes and its staff top clasd                                                                                                                                                                                                                                                                                                                                                                                                                                                                                                                                                                                                                                                                                         \n",
      "44351  product is good the customer service with wickes is some of the worse I ever had.                                                                                                                                                                                                                                                                                                                                                                                                                                                                                                                                                                                                                                                                                                          \n",
      "44381  Having waited weeks for this delivery, I received a text message that it had been delivered and signed for by me at 18.51. This is a lie. I have not had a delivery and have not signed anything. God knows where he/she left it. Tried to contact Citysprint , Wickes courier, but gave up after an hour on the telephone in a queue. I Wickes had sent this with yesterdays order (which did arrive) this would not have happened. I suppose having over three weeks to amalgamate two orders was not enough!\\nAll in all an incompetent display                                                                                                                                                                                                                                         \n",
      "44472  Ace product                                                                                                                                                                                                                                                                                                                                                                                                                                                                                                                                                                                                                                                                                                                                                                                \n",
      "\n",
      "       CR  \\\n",
      "6176   0    \n",
      "6180   0    \n",
      "10275  0    \n",
      "13188  0    \n",
      "37761  0    \n",
      "37765  0    \n",
      "44190  0    \n",
      "44351  0    \n",
      "44381  0    \n",
      "44472  0    \n",
      "\n",
      "                                                                                                                                                                                                                                                                                                                                                                                                                                                                                                                                                                                                                                                                                                                                                                                                  ALL_TEXT  \\\n",
      "6176   OK Castors These are simple, cheap castors. I bought them to replace an old set, one of which had broken and they were fine for that - indeed they seem to be just the same as what they replaced. They were delivered in somewhat disappointing wrapping. Good to see Wickes avoiding the extravagant wrapping of some on-line merchants, but this went a bit too far being just a plastic bag with a significant tear in it.\\nThese are cheap castors - the nuts and bolts to fix them cost more! The quality is consistent with the low price. I would have preferred to have the choice fo a higher quality alternative. I would also have liked more detailed specs and measurements on the Wickes web site. I bought these accepting some risk that they woudl not really be the right thing.   \n",
      "6180   Great product great price and no delay for delivery can coll I am installing smart heating controls and need the thermostat radiator valve bodies only. Cheaper to buy the whole unit from Wickes and keep the head unit in case the smart head goes wrong. I need 7 but not sure if this would be compatible with the Wiser heads it is so will be purchasing another 6. \\nMany Thanks Wickes cheaper than online.                                                                                                                                                                                                                                                                                                                                                                                   \n",
      "10275  Wickes need to learn the correct way to store wood Half the battens in pack were bowed so had to get 2 packs to ensure there was enough battens that would be useable, seems to be the battens are briefly dipped as  opposed to fully treated, would have gone to an actual timber merchant but was left with no choice as they wasn't open and I needed the battens urgently. Much better quality at Lawsons.\\nWhen will these places like Wickes wake up and learn what everyone else in the world seems to already know.....\\nWood needs to be stored HORIZONTALLY  NOT VERTICALLY!!!!!                                                                                                                                                                                                           \n",
      "13188  Incomplete delivery and no follow-up from Wickes Ordered 2 bags, 1 was delivered on time, the other never arrived due to the bag splitting at the depot during loading... Ok, these things happen, but 3 weeks later and after many hours chasing and repeated promises that someone will be in touch to sort this out, there is still no sign of the second bag or even any of the promised callbacks. The stones are fine, but on this experience, you should probably consider an alternative supplier! Next step: a section 75 claim for a refund via my credit card company - although I still won't have the materials to finish the job. Thanks for nothing Wickes :(                                                                                                                          \n",
      "37761  Well done Wickes own brand This is a very good paint with an excellent finish and easy to apply. I was amazed at the quality of this Wickes own brand paint at such a reasonable price.                                                                                                                                                                                                                                                                                                                                                                                                                                                                                                                                                                                                               \n",
      "37765  Paint Good quality paint as usual. Went to store and was told they dont stock it and to go on line which I found baffling as they would not order it. Ordered on line and payed for delivery & when it arrived I was 2.5lts short. to try and contact Wickes customer services is a joke. so I found out where it was delivered from (Rayleigh) and phoned store direct and a fantastic storeman sent it out immediately. hence the 3 stars for Wickes. But 5 stars for the paint                                                                                                                                                                                                                                                                                                                     \n",
      "44190  Decking screws from Wickes Excellent quality product at a very good price\\nService provided by Wickes and its staff top clasd                                                                                                                                                                                                                                                                                                                                                                                                                                                                                                                                                                                                                                                                         \n",
      "44351  avoid wickes product is good the customer service with wickes is some of the worse I ever had.                                                                                                                                                                                                                                                                                                                                                                                                                                                                                                                                                                                                                                                                                                        \n",
      "44381  Last time I order anything from Wickes Having waited weeks for this delivery, I received a text message that it had been delivered and signed for by me at 18.51. This is a lie. I have not had a delivery and have not signed anything. God knows where he/she left it. Tried to contact Citysprint , Wickes courier, but gave up after an hour on the telephone in a queue. I Wickes had sent this with yesterdays order (which did arrive) this would not have happened. I suppose having over three weeks to amalgamate two orders was not enough!\\nAll in all an incompetent display                                                                                                                                                                                                             \n",
      "44472  Great Ace product                                                                                                                                                                                                                                                                                                                                                                                                                                                                                                                                                                                                                                                                                                                                                                                     \n",
      "\n",
      "      NAME_1ST_PART regex_retailer_insens_case regex_retailer_sens_case  \\\n",
      "6176   wickes        Wickes,Wickes              NaN                       \n",
      "6180   wickes        Wickes,Wickes              NaN                       \n",
      "10275  wickes        Wickes,Wickes              NaN                       \n",
      "13188  wickes        Wickes,Wickes              NaN                       \n",
      "37761  wickes        Wickes,Wickes              NaN                       \n",
      "37765  wickes        Wickes,Wickes              NaN                       \n",
      "44190  wickes        Wickes,Wickes              NaN                       \n",
      "44351  wickes        wickes,wickes              NaN                       \n",
      "44381  wickes        Wickes,Wickes,Wickes       NaN                       \n",
      "44472  wickes        NaN                        Ace                       \n",
      "\n",
      "             regex_retailer  retailer_not_client  model_CR  \n",
      "6176   wickes,wickes         True                 1         \n",
      "6180   wickes,wickes         True                 1         \n",
      "10275  wickes,wickes         True                 1         \n",
      "13188  wickes,wickes         True                 1         \n",
      "37761  wickes,wickes         True                 1         \n",
      "37765  wickes,wickes         True                 1         \n",
      "44190  wickes,wickes         True                 1         \n",
      "44351  wickes,wickes         True                 1         \n",
      "44381  wickes,wickes,wickes  True                 1         \n",
      "44472  ace                   True                 1"
     ]
    }
   ],
   "source": [
    "check=FP[FP['NAME']=='Wickes Building Supplies']\n",
    "check.head(10)"
   ]
  },
  {
   "cell_type": "code",
   "execution_count": 41,
   "metadata": {},
   "outputs": [
    {
     "data": {
      "application/vnd.jupyter.widget-view+json": {
       "model_id": "136f847ed02949019df052878ad31fbe",
       "version_major": 2,
       "version_minor": 0
      },
      "text/plain": [
       "VBox()"
      ]
     },
     "metadata": {},
     "output_type": "display_data"
    },
    {
     "data": {
      "application/vnd.jupyter.widget-view+json": {
       "model_id": "",
       "version_major": 2,
       "version_minor": 0
      },
      "text/plain": [
       "FloatProgress(value=0.0, bar_style='info', description='Progress:', layout=Layout(height='25px', width='50%'),…"
      ]
     },
     "metadata": {},
     "output_type": "display_data"
    },
    {
     "name": "stdout",
     "output_type": "stream",
     "text": [
      "                                                                UGC_ID  NAME  \\\n",
      "regex_retailer                                                                 \n",
      "ace                                                             222     222    \n",
      "ace,ace                                                         35      35     \n",
      "ace,ace,ace                                                     2       2      \n",
      "ace,ace,ace,ace                                                 1       1      \n",
      "aetna                                                           16      16     \n",
      "aetna,aetna                                                     1       1      \n",
      "aetna,aetna,aetna                                               3       3      \n",
      "aetna,aetna,aetna,aetna                                         1       1      \n",
      "albertson                                                       10      10     \n",
      "aldi                                                            67      67     \n",
      "aldi's                                                          20      20     \n",
      "aldi's,aldi's                                                   1       1      \n",
      "aldi,aldi                                                       6       6      \n",
      "aldi,aldi,aldi                                                  1       1      \n",
      "aldis                                                           1       1      \n",
      "amazon                                                          850     850    \n",
      "amazon,amazon                                                   146     146    \n",
      "amazon,amazon,amazon                                            19      19     \n",
      "amazon,amazon,amazon,amazon                                     2       2      \n",
      "amazon,amazon,amazon,amazon,amazon                              1       1      \n",
      "amazon,b&q                                                      1       1      \n",
      "amazon,ebay                                                     1       1      \n",
      "amazon,ebay,amazon,amazon                                       1       1      \n",
      "amazon,sephora                                                  1       1      \n",
      "amazon,walmart                                                  2       2      \n",
      "auto zone                                                       10      10     \n",
      "auto zone,auto zone                                             1       1      \n",
      "autozone                                                        13      13     \n",
      "b & q                                                           30      30     \n",
      "b & q,b & q                                                     1       1      \n",
      "b & q,b & q,b & q                                               1       1      \n",
      "b &q                                                            2       2      \n",
      "b& q                                                            1       1      \n",
      "b&q                                                             280     280    \n",
      "b&q,b&q                                                         35      35     \n",
      "b&q,b&q,b&q                                                     3       3      \n",
      "b&q,ikea                                                        1       1      \n",
      "bed bath & beyond                                               7       7      \n",
      "bed bath and beyond                                             2       2      \n",
      "blick                                                           54      54     \n",
      "blick,amazon,blick                                              1       1      \n",
      "blick,blick                                                     617     617    \n",
      "blick,blick,blick                                               111     111    \n",
      "blick,blick,blick,blick                                         30      30     \n",
      "blick,blick,blick,blick,blick                                   7       7      \n",
      "blick,blick,blick,blick,blick,blick                             3       3      \n",
      "blick,blick,blick,blick,blick,blick,blick                       2       2      \n",
      "blick,blick,etsy                                                1       1      \n",
      "blick,etsy,etsy                                                 1       1      \n",
      "blick,hobby lobby,blick                                         1       1      \n",
      "blick,ikea                                                      1       1      \n",
      "blick,michaels                                                  1       1      \n",
      "blick,ross                                                      1       1      \n",
      "costco                                                          72      72     \n",
      "costco,costco                                                   588     588    \n",
      "costco,costco,costco                                            164     164    \n",
      "costco,costco,costco,costco                                     38      38     \n",
      "costco,costco,costco,costco,costco                              12      12     \n",
      "costco,costco,costco,costco,costco,costco                       2       2      \n",
      "costco,costco,costco,costco,costco,costco,costco,costco         1       1      \n",
      "costco,costco,costco,costco,costco,costco,costco,costco,costco  1       1      \n",
      "cvs                                                             41      41     \n",
      "cvs,cvs                                                         4       4      \n",
      "dick's                                                          9       9      \n",
      "dick's,dick's                                                   1       1      \n",
      "dicks                                                           41      41     \n",
      "dicks,dicks                                                     6       6      \n",
      "dicks,dicks,dicks                                               1       1      \n",
      "dollar general                                                  36      36     \n",
      "dollar general,dollar general                                   1       1      \n",
      "dollar tree                                                     27      27     \n",
      "dollar tree,dollar tree                                         2       2      \n",
      "dsw                                                             11      11     \n",
      "dsw,dsw                                                         1       1      \n",
      "e bay                                                           5       5      \n",
      "e-bay                                                           1       1      \n",
      "ebay                                                            47      47     \n",
      "ebay,amazon                                                     2       2      \n",
      "ebay,ebay                                                       4       4      \n",
      "ebay,ebay,ebay                                                  1       1      \n",
      "etsy                                                            31      31     \n",
      "etsy,etsy                                                       4       4      \n",
      "family dollar                                                   6       6      \n",
      "family dollar,dollar general                                    1       1      \n",
      "foot locker                                                     19      19     \n",
      "foot locker,foot locker                                         4       4      \n",
      "heb                                                             30      30     \n",
      "heb,heb                                                         1       1      \n",
      "hobby lobby                                                     57      57     \n",
      "hobby lobby,blick                                               1       1      \n",
      "hobby lobby,hobby lobby                                         3       3      \n",
      "home depot                                                      31      31     \n",
      "home depot,home depot                                           3       3      \n",
      "home depot,home depot,amazon                                    1       1      \n",
      "home depot,home depot,home depot,home depot,home depot          1       1      \n",
      "home depot,lowe's                                               1       1      \n",
      "home depot,lowes                                                1       1      \n",
      "hsn                                                             29      29     \n",
      "hsn,qvc                                                         2       2      \n",
      "ikea                                                            233     233    \n",
      "ikea,b&q                                                        1       1      \n",
      "ikea,ikea                                                       10      10     \n",
      "ikea,ikea,ikea                                                  2       2      \n",
      "ikea,ikea,ikea,ikea                                             1       1      \n",
      "ipsy                                                            336     336    \n",
      "ipsy,ipsy                                                       15      15     \n",
      "j crew                                                          23      23     \n",
      "jc penney                                                       5       5      \n",
      "jc penny                                                        10      10     \n",
      "jc penny,jc penny                                               1       1      \n",
      "jcpenney                                                        2       2      \n",
      "jcpenney,kohl's,amazon,costco,costco                            1       1      \n",
      "jcrew                                                           36      36     \n",
      "jcrew,jcrew                                                     1       1      \n",
      "jewel osco                                                      1       1      \n",
      "kohl's                                                          7       7      \n",
      "kohl's,kohl's,kohl's,kohl's,kohl's,kohl's,kohl's,kohl's,kohl's  1       1      \n",
      "kohls                                                           5       5      \n",
      "kohls,dsw                                                       1       1      \n",
      "kohls,wal-mart                                                  1       1      \n",
      "kroger                                                          14      14     \n",
      "kroger,kroger                                                   2       2      \n",
      "kroger,walmart                                                  1       1      \n",
      "lowe's                                                          24      24     \n",
      "lowe's,amazon                                                   1       1      \n",
      "lowe's,lowe's                                                   3       3      \n",
      "lowe's,lowe's,lowe's,lowe's                                     1       1      \n",
      "lowe's,lowes                                                    1       1      \n",
      "lowes                                                           39      39     \n",
      "lowes,lowes                                                     4       4      \n",
      "lowes,lowes,lowes                                               2       2      \n",
      "lowes,lowes,lowes,lowes                                         1       1      \n",
      "lowes,lowes,lowes,lowes,lowes,lowes,lowes,lowes                 1       1      \n",
      "macy's                                                          23      23     \n",
      "macy's,nordstrom                                                1       1      \n",
      "macys                                                           8       8      \n",
      "marshall's                                                      2       2      \n",
      "marshalls                                                       1       1      \n",
      "marshalls,marshall's                                            2       2      \n",
      "marshalls,marshalls                                             8       8      \n",
      "marshalls,marshalls,marshalls                                   1       1      \n",
      "menards                                                         3       3      \n",
      "menards,home depot                                              1       1      \n",
      "michael's                                                       31      31     \n",
      "michael's,michael's                                             1       1      \n",
      "michael's,michael's,michael's                                   1       1      \n",
      "michaels                                                        20      20     \n",
      "michaels,michaels                                               5       5      \n",
      "michaels,michaels,michaels,michaels                             1       1      \n",
      "nordstrom                                                       12      12     \n",
      "nordstrom,nordstrom                                             1       1      \n",
      "overstock                                                       47      47     \n",
      "overstock,overstock                                             8       8      \n",
      "pottery barn                                                    87      87     \n",
      "pottery barn,pottery barn                                       7       7      \n",
      "pottery barn,pottery barn,pottery barn                          1       1      \n",
      "qvc                                                             28      28     \n",
      "qvc,hsn                                                         2       2      \n",
      "qvc,hsn,qvc,hsn                                                 1       1      \n",
      "qvc,qvc                                                         4       4      \n",
      "rei                                                             42      42     \n",
      "rei,rei                                                         6       6      \n",
      "rite aid                                                        4       4      \n",
      "ross                                                            245     245    \n",
      "ross,blick,ross                                                 1       1      \n",
      "ross,dollar tree,ross                                           1       1      \n",
      "ross,ross                                                       30      30     \n",
      "ross,ross,blick                                                 1       1      \n",
      "ross,ross,ross                                                  8       8      \n",
      "ross,ross,ross,ross                                             2       2      \n",
      "sam's                                                           43      43     \n",
      "sam's,sam's                                                     3       3      \n",
      "sams                                                            27      27     \n",
      "sams,costco                                                     1       1      \n",
      "sears                                                           95      95     \n",
      "sears,ace                                                       1       1      \n",
      "sears,sears                                                     7       7      \n",
      "sears,sears,sears                                               1       1      \n",
      "sephora                                                         53      53     \n",
      "sephora,sephora                                                 4       4      \n",
      "state farm                                                      14      14     \n",
      "state farm,state farm                                           5       5      \n",
      "target                                                          101     101    \n",
      "target,sears                                                    1       1      \n",
      "target,target                                                   29      29     \n",
      "target,target,target,target                                     2       2      \n",
      "tesco                                                           76      76     \n",
      "tesco,tesco                                                     4       4      \n",
      "tj max                                                          10      10     \n",
      "tj maxx                                                         3       3      \n",
      "tj maxx,tj maxx                                                 1       1      \n",
      "tj's                                                            6       6      \n",
      "tj's,marshall's                                                 1       1      \n",
      "tjmax                                                           2       2      \n",
      "tjmax,tjmax                                                     1       1      \n",
      "tjmaxx                                                          1       1      \n",
      "tjmaxx,tjmaxx                                                   1       1      \n",
      "tjs                                                             2       2      \n",
      "trader joe                                                      2       2      \n",
      "trader joe's                                                    37      37     \n",
      "trader joe's,trader joe's                                       13      13     \n",
      "trader joe,trader joe                                           3       3      \n",
      "trader joes                                                     5       5      \n",
      "trader joes,trader joes                                         7       7      \n",
      "wal mart                                                        1       1      \n",
      "wal mart,wal mart                                               2       2      \n",
      "wal-mart                                                        9       9      \n",
      "walgreen's                                                      4       4      \n",
      "walgreens                                                       25      25     \n",
      "walgreens,walmart                                               1       1      \n",
      "walmart                                                         90      90     \n",
      "walmart,amazon                                                  2       2      \n",
      "walmart,cvs                                                     1       1      \n",
      "walmart,home depot                                              1       1      \n",
      "walmart,lowe's                                                  1       1      \n",
      "walmart,sams,costco                                             1       1      \n",
      "walmart,walmart                                                 7       7      \n",
      "walmart,walmart,walmart                                         1       1      \n",
      "walmart,whole foods                                             1       1      \n",
      "wayfair                                                         6       6      \n",
      "wegman's                                                        1       1      \n",
      "wegmans                                                         3       3      \n",
      "whole foods                                                     51      51     \n",
      "whole foods,whole foods                                         3       3      \n",
      "whole foods,whole foods,sephora                                 1       1      \n",
      "zappos                                                          3       3      \n",
      "zappos,zappos                                                   1       1      \n",
      "\n",
      "                                                                REVIEW_HEADLINE  \\\n",
      "regex_retailer                                                                    \n",
      "ace                                                             222               \n",
      "ace,ace                                                         35                \n",
      "ace,ace,ace                                                     2                 \n",
      "ace,ace,ace,ace                                                 1                 \n",
      "aetna                                                           16                \n",
      "aetna,aetna                                                     1                 \n",
      "aetna,aetna,aetna                                               3                 \n",
      "aetna,aetna,aetna,aetna                                         1                 \n",
      "albertson                                                       10                \n",
      "aldi                                                            67                \n",
      "aldi's                                                          20                \n",
      "aldi's,aldi's                                                   1                 \n",
      "aldi,aldi                                                       6                 \n",
      "aldi,aldi,aldi                                                  1                 \n",
      "aldis                                                           1                 \n",
      "amazon                                                          850               \n",
      "amazon,amazon                                                   146               \n",
      "amazon,amazon,amazon                                            19                \n",
      "amazon,amazon,amazon,amazon                                     2                 \n",
      "amazon,amazon,amazon,amazon,amazon                              1                 \n",
      "amazon,b&q                                                      1                 \n",
      "amazon,ebay                                                     1                 \n",
      "amazon,ebay,amazon,amazon                                       1                 \n",
      "amazon,sephora                                                  1                 \n",
      "amazon,walmart                                                  2                 \n",
      "auto zone                                                       10                \n",
      "auto zone,auto zone                                             1                 \n",
      "autozone                                                        13                \n",
      "b & q                                                           30                \n",
      "b & q,b & q                                                     1                 \n",
      "b & q,b & q,b & q                                               1                 \n",
      "b &q                                                            2                 \n",
      "b& q                                                            1                 \n",
      "b&q                                                             280               \n",
      "b&q,b&q                                                         35                \n",
      "b&q,b&q,b&q                                                     3                 \n",
      "b&q,ikea                                                        1                 \n",
      "bed bath & beyond                                               7                 \n",
      "bed bath and beyond                                             2                 \n",
      "blick                                                           54                \n",
      "blick,amazon,blick                                              1                 \n",
      "blick,blick                                                     617               \n",
      "blick,blick,blick                                               111               \n",
      "blick,blick,blick,blick                                         30                \n",
      "blick,blick,blick,blick,blick                                   7                 \n",
      "blick,blick,blick,blick,blick,blick                             3                 \n",
      "blick,blick,blick,blick,blick,blick,blick                       2                 \n",
      "blick,blick,etsy                                                1                 \n",
      "blick,etsy,etsy                                                 1                 \n",
      "blick,hobby lobby,blick                                         1                 \n",
      "blick,ikea                                                      1                 \n",
      "blick,michaels                                                  1                 \n",
      "blick,ross                                                      1                 \n",
      "costco                                                          72                \n",
      "costco,costco                                                   588               \n",
      "costco,costco,costco                                            164               \n",
      "costco,costco,costco,costco                                     38                \n",
      "costco,costco,costco,costco,costco                              12                \n",
      "costco,costco,costco,costco,costco,costco                       2                 \n",
      "costco,costco,costco,costco,costco,costco,costco,costco         1                 \n",
      "costco,costco,costco,costco,costco,costco,costco,costco,costco  1                 \n",
      "cvs                                                             41                \n",
      "cvs,cvs                                                         4                 \n",
      "dick's                                                          9                 \n",
      "dick's,dick's                                                   1                 \n",
      "dicks                                                           41                \n",
      "dicks,dicks                                                     6                 \n",
      "dicks,dicks,dicks                                               1                 \n",
      "dollar general                                                  36                \n",
      "dollar general,dollar general                                   1                 \n",
      "dollar tree                                                     27                \n",
      "dollar tree,dollar tree                                         2                 \n",
      "dsw                                                             11                \n",
      "dsw,dsw                                                         1                 \n",
      "e bay                                                           5                 \n",
      "e-bay                                                           1                 \n",
      "ebay                                                            47                \n",
      "ebay,amazon                                                     2                 \n",
      "ebay,ebay                                                       4                 \n",
      "ebay,ebay,ebay                                                  1                 \n",
      "etsy                                                            31                \n",
      "etsy,etsy                                                       4                 \n",
      "family dollar                                                   6                 \n",
      "family dollar,dollar general                                    1                 \n",
      "foot locker                                                     19                \n",
      "foot locker,foot locker                                         4                 \n",
      "heb                                                             30                \n",
      "heb,heb                                                         1                 \n",
      "hobby lobby                                                     57                \n",
      "hobby lobby,blick                                               1                 \n",
      "hobby lobby,hobby lobby                                         3                 \n",
      "home depot                                                      31                \n",
      "home depot,home depot                                           3                 \n",
      "home depot,home depot,amazon                                    1                 \n",
      "home depot,home depot,home depot,home depot,home depot          1                 \n",
      "home depot,lowe's                                               1                 \n",
      "home depot,lowes                                                1                 \n",
      "hsn                                                             29                \n",
      "hsn,qvc                                                         2                 \n",
      "ikea                                                            233               \n",
      "ikea,b&q                                                        1                 \n",
      "ikea,ikea                                                       10                \n",
      "ikea,ikea,ikea                                                  2                 \n",
      "ikea,ikea,ikea,ikea                                             1                 \n",
      "ipsy                                                            336               \n",
      "ipsy,ipsy                                                       15                \n",
      "j crew                                                          23                \n",
      "jc penney                                                       5                 \n",
      "jc penny                                                        10                \n",
      "jc penny,jc penny                                               1                 \n",
      "jcpenney                                                        2                 \n",
      "jcpenney,kohl's,amazon,costco,costco                            1                 \n",
      "jcrew                                                           36                \n",
      "jcrew,jcrew                                                     1                 \n",
      "jewel osco                                                      1                 \n",
      "kohl's                                                          7                 \n",
      "kohl's,kohl's,kohl's,kohl's,kohl's,kohl's,kohl's,kohl's,kohl's  1                 \n",
      "kohls                                                           5                 \n",
      "kohls,dsw                                                       1                 \n",
      "kohls,wal-mart                                                  1                 \n",
      "kroger                                                          14                \n",
      "kroger,kroger                                                   2                 \n",
      "kroger,walmart                                                  1                 \n",
      "lowe's                                                          24                \n",
      "lowe's,amazon                                                   1                 \n",
      "lowe's,lowe's                                                   3                 \n",
      "lowe's,lowe's,lowe's,lowe's                                     1                 \n",
      "lowe's,lowes                                                    1                 \n",
      "lowes                                                           39                \n",
      "lowes,lowes                                                     4                 \n",
      "lowes,lowes,lowes                                               2                 \n",
      "lowes,lowes,lowes,lowes                                         1                 \n",
      "lowes,lowes,lowes,lowes,lowes,lowes,lowes,lowes                 1                 \n",
      "macy's                                                          23                \n",
      "macy's,nordstrom                                                1                 \n",
      "macys                                                           8                 \n",
      "marshall's                                                      2                 \n",
      "marshalls                                                       1                 \n",
      "marshalls,marshall's                                            2                 \n",
      "marshalls,marshalls                                             8                 \n",
      "marshalls,marshalls,marshalls                                   1                 \n",
      "menards                                                         3                 \n",
      "menards,home depot                                              1                 \n",
      "michael's                                                       31                \n",
      "michael's,michael's                                             1                 \n",
      "michael's,michael's,michael's                                   1                 \n",
      "michaels                                                        20                \n",
      "michaels,michaels                                               5                 \n",
      "michaels,michaels,michaels,michaels                             1                 \n",
      "nordstrom                                                       12                \n",
      "nordstrom,nordstrom                                             1                 \n",
      "overstock                                                       47                \n",
      "overstock,overstock                                             8                 \n",
      "pottery barn                                                    87                \n",
      "pottery barn,pottery barn                                       7                 \n",
      "pottery barn,pottery barn,pottery barn                          1                 \n",
      "qvc                                                             28                \n",
      "qvc,hsn                                                         2                 \n",
      "qvc,hsn,qvc,hsn                                                 1                 \n",
      "qvc,qvc                                                         4                 \n",
      "rei                                                             42                \n",
      "rei,rei                                                         6                 \n",
      "rite aid                                                        4                 \n",
      "ross                                                            245               \n",
      "ross,blick,ross                                                 1                 \n",
      "ross,dollar tree,ross                                           1                 \n",
      "ross,ross                                                       30                \n",
      "ross,ross,blick                                                 1                 \n",
      "ross,ross,ross                                                  8                 \n",
      "ross,ross,ross,ross                                             2                 \n",
      "sam's                                                           43                \n",
      "sam's,sam's                                                     3                 \n",
      "sams                                                            27                \n",
      "sams,costco                                                     1                 \n",
      "sears                                                           95                \n",
      "sears,ace                                                       1                 \n",
      "sears,sears                                                     7                 \n",
      "sears,sears,sears                                               1                 \n",
      "sephora                                                         53                \n",
      "sephora,sephora                                                 4                 \n",
      "state farm                                                      14                \n",
      "state farm,state farm                                           5                 \n",
      "target                                                          101               \n",
      "target,sears                                                    1                 \n",
      "target,target                                                   29                \n",
      "target,target,target,target                                     2                 \n",
      "tesco                                                           76                \n",
      "tesco,tesco                                                     4                 \n",
      "tj max                                                          10                \n",
      "tj maxx                                                         3                 \n",
      "tj maxx,tj maxx                                                 1                 \n",
      "tj's                                                            6                 \n",
      "tj's,marshall's                                                 1                 \n",
      "tjmax                                                           2                 \n",
      "tjmax,tjmax                                                     1                 \n",
      "tjmaxx                                                          1                 \n",
      "tjmaxx,tjmaxx                                                   1                 \n",
      "tjs                                                             2                 \n",
      "trader joe                                                      2                 \n",
      "trader joe's                                                    37                \n",
      "trader joe's,trader joe's                                       13                \n",
      "trader joe,trader joe                                           3                 \n",
      "trader joes                                                     5                 \n",
      "trader joes,trader joes                                         7                 \n",
      "wal mart                                                        1                 \n",
      "wal mart,wal mart                                               2                 \n",
      "wal-mart                                                        9                 \n",
      "walgreen's                                                      4                 \n",
      "walgreens                                                       25                \n",
      "walgreens,walmart                                               1                 \n",
      "walmart                                                         90                \n",
      "walmart,amazon                                                  2                 \n",
      "walmart,cvs                                                     1                 \n",
      "walmart,home depot                                              1                 \n",
      "walmart,lowe's                                                  1                 \n",
      "walmart,sams,costco                                             1                 \n",
      "walmart,walmart                                                 7                 \n",
      "walmart,walmart,walmart                                         1                 \n",
      "walmart,whole foods                                             1                 \n",
      "wayfair                                                         6                 \n",
      "wegman's                                                        1                 \n",
      "wegmans                                                         3                 \n",
      "whole foods                                                     51                \n",
      "whole foods,whole foods                                         3                 \n",
      "whole foods,whole foods,sephora                                 1                 \n",
      "zappos                                                          3                 \n",
      "zappos,zappos                                                   1                 \n",
      "\n",
      "                                                                REVIEW_COMMENTS  \\\n",
      "regex_retailer                                                                    \n",
      "ace                                                             222               \n",
      "ace,ace                                                         35                \n",
      "ace,ace,ace                                                     2                 \n",
      "ace,ace,ace,ace                                                 1                 \n",
      "aetna                                                           16                \n",
      "aetna,aetna                                                     1                 \n",
      "aetna,aetna,aetna                                               3                 \n",
      "aetna,aetna,aetna,aetna                                         1                 \n",
      "albertson                                                       10                \n",
      "aldi                                                            67                \n",
      "aldi's                                                          20                \n",
      "aldi's,aldi's                                                   1                 \n",
      "aldi,aldi                                                       6                 \n",
      "aldi,aldi,aldi                                                  1                 \n",
      "aldis                                                           1                 \n",
      "amazon                                                          850               \n",
      "amazon,amazon                                                   146               \n",
      "amazon,amazon,amazon                                            19                \n",
      "amazon,amazon,amazon,amazon                                     2                 \n",
      "amazon,amazon,amazon,amazon,amazon                              1                 \n",
      "amazon,b&q                                                      1                 \n",
      "amazon,ebay                                                     1                 \n",
      "amazon,ebay,amazon,amazon                                       1                 \n",
      "amazon,sephora                                                  1                 \n",
      "amazon,walmart                                                  2                 \n",
      "auto zone                                                       10                \n",
      "auto zone,auto zone                                             1                 \n",
      "autozone                                                        13                \n",
      "b & q                                                           30                \n",
      "b & q,b & q                                                     1                 \n",
      "b & q,b & q,b & q                                               1                 \n",
      "b &q                                                            2                 \n",
      "b& q                                                            1                 \n",
      "b&q                                                             280               \n",
      "b&q,b&q                                                         35                \n",
      "b&q,b&q,b&q                                                     3                 \n",
      "b&q,ikea                                                        1                 \n",
      "bed bath & beyond                                               7                 \n",
      "bed bath and beyond                                             2                 \n",
      "blick                                                           54                \n",
      "blick,amazon,blick                                              1                 \n",
      "blick,blick                                                     617               \n",
      "blick,blick,blick                                               111               \n",
      "blick,blick,blick,blick                                         30                \n",
      "blick,blick,blick,blick,blick                                   7                 \n",
      "blick,blick,blick,blick,blick,blick                             3                 \n",
      "blick,blick,blick,blick,blick,blick,blick                       2                 \n",
      "blick,blick,etsy                                                1                 \n",
      "blick,etsy,etsy                                                 1                 \n",
      "blick,hobby lobby,blick                                         1                 \n",
      "blick,ikea                                                      1                 \n",
      "blick,michaels                                                  1                 \n",
      "blick,ross                                                      1                 \n",
      "costco                                                          72                \n",
      "costco,costco                                                   588               \n",
      "costco,costco,costco                                            164               \n",
      "costco,costco,costco,costco                                     38                \n",
      "costco,costco,costco,costco,costco                              12                \n",
      "costco,costco,costco,costco,costco,costco                       2                 \n",
      "costco,costco,costco,costco,costco,costco,costco,costco         1                 \n",
      "costco,costco,costco,costco,costco,costco,costco,costco,costco  1                 \n",
      "cvs                                                             41                \n",
      "cvs,cvs                                                         4                 \n",
      "dick's                                                          9                 \n",
      "dick's,dick's                                                   1                 \n",
      "dicks                                                           41                \n",
      "dicks,dicks                                                     6                 \n",
      "dicks,dicks,dicks                                               1                 \n",
      "dollar general                                                  36                \n",
      "dollar general,dollar general                                   1                 \n",
      "dollar tree                                                     27                \n",
      "dollar tree,dollar tree                                         2                 \n",
      "dsw                                                             11                \n",
      "dsw,dsw                                                         1                 \n",
      "e bay                                                           5                 \n",
      "e-bay                                                           1                 \n",
      "ebay                                                            47                \n",
      "ebay,amazon                                                     2                 \n",
      "ebay,ebay                                                       4                 \n",
      "ebay,ebay,ebay                                                  1                 \n",
      "etsy                                                            31                \n",
      "etsy,etsy                                                       4                 \n",
      "family dollar                                                   6                 \n",
      "family dollar,dollar general                                    1                 \n",
      "foot locker                                                     19                \n",
      "foot locker,foot locker                                         4                 \n",
      "heb                                                             30                \n",
      "heb,heb                                                         1                 \n",
      "hobby lobby                                                     57                \n",
      "hobby lobby,blick                                               1                 \n",
      "hobby lobby,hobby lobby                                         3                 \n",
      "home depot                                                      31                \n",
      "home depot,home depot                                           3                 \n",
      "home depot,home depot,amazon                                    1                 \n",
      "home depot,home depot,home depot,home depot,home depot          1                 \n",
      "home depot,lowe's                                               1                 \n",
      "home depot,lowes                                                1                 \n",
      "hsn                                                             29                \n",
      "hsn,qvc                                                         2                 \n",
      "ikea                                                            233               \n",
      "ikea,b&q                                                        1                 \n",
      "ikea,ikea                                                       10                \n",
      "ikea,ikea,ikea                                                  2                 \n",
      "ikea,ikea,ikea,ikea                                             1                 \n",
      "ipsy                                                            336               \n",
      "ipsy,ipsy                                                       15                \n",
      "j crew                                                          23                \n",
      "jc penney                                                       5                 \n",
      "jc penny                                                        10                \n",
      "jc penny,jc penny                                               1                 \n",
      "jcpenney                                                        2                 \n",
      "jcpenney,kohl's,amazon,costco,costco                            1                 \n",
      "jcrew                                                           36                \n",
      "jcrew,jcrew                                                     1                 \n",
      "jewel osco                                                      1                 \n",
      "kohl's                                                          7                 \n",
      "kohl's,kohl's,kohl's,kohl's,kohl's,kohl's,kohl's,kohl's,kohl's  1                 \n",
      "kohls                                                           5                 \n",
      "kohls,dsw                                                       1                 \n",
      "kohls,wal-mart                                                  1                 \n",
      "kroger                                                          14                \n",
      "kroger,kroger                                                   2                 \n",
      "kroger,walmart                                                  1                 \n",
      "lowe's                                                          24                \n",
      "lowe's,amazon                                                   1                 \n",
      "lowe's,lowe's                                                   3                 \n",
      "lowe's,lowe's,lowe's,lowe's                                     1                 \n",
      "lowe's,lowes                                                    1                 \n",
      "lowes                                                           39                \n",
      "lowes,lowes                                                     4                 \n",
      "lowes,lowes,lowes                                               2                 \n",
      "lowes,lowes,lowes,lowes                                         1                 \n",
      "lowes,lowes,lowes,lowes,lowes,lowes,lowes,lowes                 1                 \n",
      "macy's                                                          23                \n",
      "macy's,nordstrom                                                1                 \n",
      "macys                                                           8                 \n",
      "marshall's                                                      2                 \n",
      "marshalls                                                       1                 \n",
      "marshalls,marshall's                                            2                 \n",
      "marshalls,marshalls                                             8                 \n",
      "marshalls,marshalls,marshalls                                   1                 \n",
      "menards                                                         3                 \n",
      "menards,home depot                                              1                 \n",
      "michael's                                                       31                \n",
      "michael's,michael's                                             1                 \n",
      "michael's,michael's,michael's                                   1                 \n",
      "michaels                                                        20                \n",
      "michaels,michaels                                               5                 \n",
      "michaels,michaels,michaels,michaels                             1                 \n",
      "nordstrom                                                       12                \n",
      "nordstrom,nordstrom                                             1                 \n",
      "overstock                                                       47                \n",
      "overstock,overstock                                             8                 \n",
      "pottery barn                                                    87                \n",
      "pottery barn,pottery barn                                       7                 \n",
      "pottery barn,pottery barn,pottery barn                          1                 \n",
      "qvc                                                             28                \n",
      "qvc,hsn                                                         2                 \n",
      "qvc,hsn,qvc,hsn                                                 1                 \n",
      "qvc,qvc                                                         4                 \n",
      "rei                                                             42                \n",
      "rei,rei                                                         6                 \n",
      "rite aid                                                        4                 \n",
      "ross                                                            245               \n",
      "ross,blick,ross                                                 1                 \n",
      "ross,dollar tree,ross                                           1                 \n",
      "ross,ross                                                       30                \n",
      "ross,ross,blick                                                 1                 \n",
      "ross,ross,ross                                                  8                 \n",
      "ross,ross,ross,ross                                             2                 \n",
      "sam's                                                           43                \n",
      "sam's,sam's                                                     3                 \n",
      "sams                                                            27                \n",
      "sams,costco                                                     1                 \n",
      "sears                                                           95                \n",
      "sears,ace                                                       1                 \n",
      "sears,sears                                                     7                 \n",
      "sears,sears,sears                                               1                 \n",
      "sephora                                                         53                \n",
      "sephora,sephora                                                 4                 \n",
      "state farm                                                      14                \n",
      "state farm,state farm                                           5                 \n",
      "target                                                          101               \n",
      "target,sears                                                    1                 \n",
      "target,target                                                   29                \n",
      "target,target,target,target                                     2                 \n",
      "tesco                                                           76                \n",
      "tesco,tesco                                                     4                 \n",
      "tj max                                                          10                \n",
      "tj maxx                                                         3                 \n",
      "tj maxx,tj maxx                                                 1                 \n",
      "tj's                                                            6                 \n",
      "tj's,marshall's                                                 1                 \n",
      "tjmax                                                           2                 \n",
      "tjmax,tjmax                                                     1                 \n",
      "tjmaxx                                                          1                 \n",
      "tjmaxx,tjmaxx                                                   1                 \n",
      "tjs                                                             2                 \n",
      "trader joe                                                      2                 \n",
      "trader joe's                                                    37                \n",
      "trader joe's,trader joe's                                       13                \n",
      "trader joe,trader joe                                           3                 \n",
      "trader joes                                                     5                 \n",
      "trader joes,trader joes                                         7                 \n",
      "wal mart                                                        1                 \n",
      "wal mart,wal mart                                               2                 \n",
      "wal-mart                                                        9                 \n",
      "walgreen's                                                      4                 \n",
      "walgreens                                                       25                \n",
      "walgreens,walmart                                               1                 \n",
      "walmart                                                         90                \n",
      "walmart,amazon                                                  2                 \n",
      "walmart,cvs                                                     1                 \n",
      "walmart,home depot                                              1                 \n",
      "walmart,lowe's                                                  1                 \n",
      "walmart,sams,costco                                             1                 \n",
      "walmart,walmart                                                 7                 \n",
      "walmart,walmart,walmart                                         1                 \n",
      "walmart,whole foods                                             1                 \n",
      "wayfair                                                         6                 \n",
      "wegman's                                                        1                 \n",
      "wegmans                                                         3                 \n",
      "whole foods                                                     51                \n",
      "whole foods,whole foods                                         3                 \n",
      "whole foods,whole foods,sephora                                 1                 \n",
      "zappos                                                          3                 \n",
      "zappos,zappos                                                   1                 \n",
      "\n",
      "                                                                 CR  ALL_TEXT  \\\n",
      "regex_retailer                                                                  \n",
      "ace                                                             222  222        \n",
      "ace,ace                                                         35   35         \n",
      "ace,ace,ace                                                     2    2          \n",
      "ace,ace,ace,ace                                                 1    1          \n",
      "aetna                                                           16   16         \n",
      "aetna,aetna                                                     1    1          \n",
      "aetna,aetna,aetna                                               3    3          \n",
      "aetna,aetna,aetna,aetna                                         1    1          \n",
      "albertson                                                       10   10         \n",
      "aldi                                                            67   67         \n",
      "aldi's                                                          20   20         \n",
      "aldi's,aldi's                                                   1    1          \n",
      "aldi,aldi                                                       6    6          \n",
      "aldi,aldi,aldi                                                  1    1          \n",
      "aldis                                                           1    1          \n",
      "amazon                                                          850  850        \n",
      "amazon,amazon                                                   146  146        \n",
      "amazon,amazon,amazon                                            19   19         \n",
      "amazon,amazon,amazon,amazon                                     2    2          \n",
      "amazon,amazon,amazon,amazon,amazon                              1    1          \n",
      "amazon,b&q                                                      1    1          \n",
      "amazon,ebay                                                     1    1          \n",
      "amazon,ebay,amazon,amazon                                       1    1          \n",
      "amazon,sephora                                                  1    1          \n",
      "amazon,walmart                                                  2    2          \n",
      "auto zone                                                       10   10         \n",
      "auto zone,auto zone                                             1    1          \n",
      "autozone                                                        13   13         \n",
      "b & q                                                           30   30         \n",
      "b & q,b & q                                                     1    1          \n",
      "b & q,b & q,b & q                                               1    1          \n",
      "b &q                                                            2    2          \n",
      "b& q                                                            1    1          \n",
      "b&q                                                             280  280        \n",
      "b&q,b&q                                                         35   35         \n",
      "b&q,b&q,b&q                                                     3    3          \n",
      "b&q,ikea                                                        1    1          \n",
      "bed bath & beyond                                               7    7          \n",
      "bed bath and beyond                                             2    2          \n",
      "blick                                                           54   54         \n",
      "blick,amazon,blick                                              1    1          \n",
      "blick,blick                                                     617  617        \n",
      "blick,blick,blick                                               111  111        \n",
      "blick,blick,blick,blick                                         30   30         \n",
      "blick,blick,blick,blick,blick                                   7    7          \n",
      "blick,blick,blick,blick,blick,blick                             3    3          \n",
      "blick,blick,blick,blick,blick,blick,blick                       2    2          \n",
      "blick,blick,etsy                                                1    1          \n",
      "blick,etsy,etsy                                                 1    1          \n",
      "blick,hobby lobby,blick                                         1    1          \n",
      "blick,ikea                                                      1    1          \n",
      "blick,michaels                                                  1    1          \n",
      "blick,ross                                                      1    1          \n",
      "costco                                                          72   72         \n",
      "costco,costco                                                   588  588        \n",
      "costco,costco,costco                                            164  164        \n",
      "costco,costco,costco,costco                                     38   38         \n",
      "costco,costco,costco,costco,costco                              12   12         \n",
      "costco,costco,costco,costco,costco,costco                       2    2          \n",
      "costco,costco,costco,costco,costco,costco,costco,costco         1    1          \n",
      "costco,costco,costco,costco,costco,costco,costco,costco,costco  1    1          \n",
      "cvs                                                             41   41         \n",
      "cvs,cvs                                                         4    4          \n",
      "dick's                                                          9    9          \n",
      "dick's,dick's                                                   1    1          \n",
      "dicks                                                           41   41         \n",
      "dicks,dicks                                                     6    6          \n",
      "dicks,dicks,dicks                                               1    1          \n",
      "dollar general                                                  36   36         \n",
      "dollar general,dollar general                                   1    1          \n",
      "dollar tree                                                     27   27         \n",
      "dollar tree,dollar tree                                         2    2          \n",
      "dsw                                                             11   11         \n",
      "dsw,dsw                                                         1    1          \n",
      "e bay                                                           5    5          \n",
      "e-bay                                                           1    1          \n",
      "ebay                                                            47   47         \n",
      "ebay,amazon                                                     2    2          \n",
      "ebay,ebay                                                       4    4          \n",
      "ebay,ebay,ebay                                                  1    1          \n",
      "etsy                                                            31   31         \n",
      "etsy,etsy                                                       4    4          \n",
      "family dollar                                                   6    6          \n",
      "family dollar,dollar general                                    1    1          \n",
      "foot locker                                                     19   19         \n",
      "foot locker,foot locker                                         4    4          \n",
      "heb                                                             30   30         \n",
      "heb,heb                                                         1    1          \n",
      "hobby lobby                                                     57   57         \n",
      "hobby lobby,blick                                               1    1          \n",
      "hobby lobby,hobby lobby                                         3    3          \n",
      "home depot                                                      31   31         \n",
      "home depot,home depot                                           3    3          \n",
      "home depot,home depot,amazon                                    1    1          \n",
      "home depot,home depot,home depot,home depot,home depot          1    1          \n",
      "home depot,lowe's                                               1    1          \n",
      "home depot,lowes                                                1    1          \n",
      "hsn                                                             29   29         \n",
      "hsn,qvc                                                         2    2          \n",
      "ikea                                                            233  233        \n",
      "ikea,b&q                                                        1    1          \n",
      "ikea,ikea                                                       10   10         \n",
      "ikea,ikea,ikea                                                  2    2          \n",
      "ikea,ikea,ikea,ikea                                             1    1          \n",
      "ipsy                                                            336  336        \n",
      "ipsy,ipsy                                                       15   15         \n",
      "j crew                                                          23   23         \n",
      "jc penney                                                       5    5          \n",
      "jc penny                                                        10   10         \n",
      "jc penny,jc penny                                               1    1          \n",
      "jcpenney                                                        2    2          \n",
      "jcpenney,kohl's,amazon,costco,costco                            1    1          \n",
      "jcrew                                                           36   36         \n",
      "jcrew,jcrew                                                     1    1          \n",
      "jewel osco                                                      1    1          \n",
      "kohl's                                                          7    7          \n",
      "kohl's,kohl's,kohl's,kohl's,kohl's,kohl's,kohl's,kohl's,kohl's  1    1          \n",
      "kohls                                                           5    5          \n",
      "kohls,dsw                                                       1    1          \n",
      "kohls,wal-mart                                                  1    1          \n",
      "kroger                                                          14   14         \n",
      "kroger,kroger                                                   2    2          \n",
      "kroger,walmart                                                  1    1          \n",
      "lowe's                                                          24   24         \n",
      "lowe's,amazon                                                   1    1          \n",
      "lowe's,lowe's                                                   3    3          \n",
      "lowe's,lowe's,lowe's,lowe's                                     1    1          \n",
      "lowe's,lowes                                                    1    1          \n",
      "lowes                                                           39   39         \n",
      "lowes,lowes                                                     4    4          \n",
      "lowes,lowes,lowes                                               2    2          \n",
      "lowes,lowes,lowes,lowes                                         1    1          \n",
      "lowes,lowes,lowes,lowes,lowes,lowes,lowes,lowes                 1    1          \n",
      "macy's                                                          23   23         \n",
      "macy's,nordstrom                                                1    1          \n",
      "macys                                                           8    8          \n",
      "marshall's                                                      2    2          \n",
      "marshalls                                                       1    1          \n",
      "marshalls,marshall's                                            2    2          \n",
      "marshalls,marshalls                                             8    8          \n",
      "marshalls,marshalls,marshalls                                   1    1          \n",
      "menards                                                         3    3          \n",
      "menards,home depot                                              1    1          \n",
      "michael's                                                       31   31         \n",
      "michael's,michael's                                             1    1          \n",
      "michael's,michael's,michael's                                   1    1          \n",
      "michaels                                                        20   20         \n",
      "michaels,michaels                                               5    5          \n",
      "michaels,michaels,michaels,michaels                             1    1          \n",
      "nordstrom                                                       12   12         \n",
      "nordstrom,nordstrom                                             1    1          \n",
      "overstock                                                       47   47         \n",
      "overstock,overstock                                             8    8          \n",
      "pottery barn                                                    87   87         \n",
      "pottery barn,pottery barn                                       7    7          \n",
      "pottery barn,pottery barn,pottery barn                          1    1          \n",
      "qvc                                                             28   28         \n",
      "qvc,hsn                                                         2    2          \n",
      "qvc,hsn,qvc,hsn                                                 1    1          \n",
      "qvc,qvc                                                         4    4          \n",
      "rei                                                             42   42         \n",
      "rei,rei                                                         6    6          \n",
      "rite aid                                                        4    4          \n",
      "ross                                                            245  245        \n",
      "ross,blick,ross                                                 1    1          \n",
      "ross,dollar tree,ross                                           1    1          \n",
      "ross,ross                                                       30   30         \n",
      "ross,ross,blick                                                 1    1          \n",
      "ross,ross,ross                                                  8    8          \n",
      "ross,ross,ross,ross                                             2    2          \n",
      "sam's                                                           43   43         \n",
      "sam's,sam's                                                     3    3          \n",
      "sams                                                            27   27         \n",
      "sams,costco                                                     1    1          \n",
      "sears                                                           95   95         \n",
      "sears,ace                                                       1    1          \n",
      "sears,sears                                                     7    7          \n",
      "sears,sears,sears                                               1    1          \n",
      "sephora                                                         53   53         \n",
      "sephora,sephora                                                 4    4          \n",
      "state farm                                                      14   14         \n",
      "state farm,state farm                                           5    5          \n",
      "target                                                          101  101        \n",
      "target,sears                                                    1    1          \n",
      "target,target                                                   29   29         \n",
      "target,target,target,target                                     2    2          \n",
      "tesco                                                           76   76         \n",
      "tesco,tesco                                                     4    4          \n",
      "tj max                                                          10   10         \n",
      "tj maxx                                                         3    3          \n",
      "tj maxx,tj maxx                                                 1    1          \n",
      "tj's                                                            6    6          \n",
      "tj's,marshall's                                                 1    1          \n",
      "tjmax                                                           2    2          \n",
      "tjmax,tjmax                                                     1    1          \n",
      "tjmaxx                                                          1    1          \n",
      "tjmaxx,tjmaxx                                                   1    1          \n",
      "tjs                                                             2    2          \n",
      "trader joe                                                      2    2          \n",
      "trader joe's                                                    37   37         \n",
      "trader joe's,trader joe's                                       13   13         \n",
      "trader joe,trader joe                                           3    3          \n",
      "trader joes                                                     5    5          \n",
      "trader joes,trader joes                                         7    7          \n",
      "wal mart                                                        1    1          \n",
      "wal mart,wal mart                                               2    2          \n",
      "wal-mart                                                        9    9          \n",
      "walgreen's                                                      4    4          \n",
      "walgreens                                                       25   25         \n",
      "walgreens,walmart                                               1    1          \n",
      "walmart                                                         90   90         \n",
      "walmart,amazon                                                  2    2          \n",
      "walmart,cvs                                                     1    1          \n",
      "walmart,home depot                                              1    1          \n",
      "walmart,lowe's                                                  1    1          \n",
      "walmart,sams,costco                                             1    1          \n",
      "walmart,walmart                                                 7    7          \n",
      "walmart,walmart,walmart                                         1    1          \n",
      "walmart,whole foods                                             1    1          \n",
      "wayfair                                                         6    6          \n",
      "wegman's                                                        1    1          \n",
      "wegmans                                                         3    3          \n",
      "whole foods                                                     51   51         \n",
      "whole foods,whole foods                                         3    3          \n",
      "whole foods,whole foods,sephora                                 1    1          \n",
      "zappos                                                          3    3          \n",
      "zappos,zappos                                                   1    1          \n",
      "\n",
      "                                                                NAME_1ST_PART  \\\n",
      "regex_retailer                                                                  \n",
      "ace                                                             222             \n",
      "ace,ace                                                         35              \n",
      "ace,ace,ace                                                     2               \n",
      "ace,ace,ace,ace                                                 1               \n",
      "aetna                                                           16              \n",
      "aetna,aetna                                                     1               \n",
      "aetna,aetna,aetna                                               3               \n",
      "aetna,aetna,aetna,aetna                                         1               \n",
      "albertson                                                       10              \n",
      "aldi                                                            67              \n",
      "aldi's                                                          20              \n",
      "aldi's,aldi's                                                   1               \n",
      "aldi,aldi                                                       6               \n",
      "aldi,aldi,aldi                                                  1               \n",
      "aldis                                                           1               \n",
      "amazon                                                          850             \n",
      "amazon,amazon                                                   146             \n",
      "amazon,amazon,amazon                                            19              \n",
      "amazon,amazon,amazon,amazon                                     2               \n",
      "amazon,amazon,amazon,amazon,amazon                              1               \n",
      "amazon,b&q                                                      1               \n",
      "amazon,ebay                                                     1               \n",
      "amazon,ebay,amazon,amazon                                       1               \n",
      "amazon,sephora                                                  1               \n",
      "amazon,walmart                                                  2               \n",
      "auto zone                                                       10              \n",
      "auto zone,auto zone                                             1               \n",
      "autozone                                                        13              \n",
      "b & q                                                           30              \n",
      "b & q,b & q                                                     1               \n",
      "b & q,b & q,b & q                                               1               \n",
      "b &q                                                            2               \n",
      "b& q                                                            1               \n",
      "b&q                                                             280             \n",
      "b&q,b&q                                                         35              \n",
      "b&q,b&q,b&q                                                     3               \n",
      "b&q,ikea                                                        1               \n",
      "bed bath & beyond                                               7               \n",
      "bed bath and beyond                                             2               \n",
      "blick                                                           54              \n",
      "blick,amazon,blick                                              1               \n",
      "blick,blick                                                     617             \n",
      "blick,blick,blick                                               111             \n",
      "blick,blick,blick,blick                                         30              \n",
      "blick,blick,blick,blick,blick                                   7               \n",
      "blick,blick,blick,blick,blick,blick                             3               \n",
      "blick,blick,blick,blick,blick,blick,blick                       2               \n",
      "blick,blick,etsy                                                1               \n",
      "blick,etsy,etsy                                                 1               \n",
      "blick,hobby lobby,blick                                         1               \n",
      "blick,ikea                                                      1               \n",
      "blick,michaels                                                  1               \n",
      "blick,ross                                                      1               \n",
      "costco                                                          72              \n",
      "costco,costco                                                   588             \n",
      "costco,costco,costco                                            164             \n",
      "costco,costco,costco,costco                                     38              \n",
      "costco,costco,costco,costco,costco                              12              \n",
      "costco,costco,costco,costco,costco,costco                       2               \n",
      "costco,costco,costco,costco,costco,costco,costco,costco         1               \n",
      "costco,costco,costco,costco,costco,costco,costco,costco,costco  1               \n",
      "cvs                                                             41              \n",
      "cvs,cvs                                                         4               \n",
      "dick's                                                          9               \n",
      "dick's,dick's                                                   1               \n",
      "dicks                                                           41              \n",
      "dicks,dicks                                                     6               \n",
      "dicks,dicks,dicks                                               1               \n",
      "dollar general                                                  36              \n",
      "dollar general,dollar general                                   1               \n",
      "dollar tree                                                     27              \n",
      "dollar tree,dollar tree                                         2               \n",
      "dsw                                                             11              \n",
      "dsw,dsw                                                         1               \n",
      "e bay                                                           5               \n",
      "e-bay                                                           1               \n",
      "ebay                                                            47              \n",
      "ebay,amazon                                                     2               \n",
      "ebay,ebay                                                       4               \n",
      "ebay,ebay,ebay                                                  1               \n",
      "etsy                                                            31              \n",
      "etsy,etsy                                                       4               \n",
      "family dollar                                                   6               \n",
      "family dollar,dollar general                                    1               \n",
      "foot locker                                                     19              \n",
      "foot locker,foot locker                                         4               \n",
      "heb                                                             30              \n",
      "heb,heb                                                         1               \n",
      "hobby lobby                                                     57              \n",
      "hobby lobby,blick                                               1               \n",
      "hobby lobby,hobby lobby                                         3               \n",
      "home depot                                                      31              \n",
      "home depot,home depot                                           3               \n",
      "home depot,home depot,amazon                                    1               \n",
      "home depot,home depot,home depot,home depot,home depot          1               \n",
      "home depot,lowe's                                               1               \n",
      "home depot,lowes                                                1               \n",
      "hsn                                                             29              \n",
      "hsn,qvc                                                         2               \n",
      "ikea                                                            233             \n",
      "ikea,b&q                                                        1               \n",
      "ikea,ikea                                                       10              \n",
      "ikea,ikea,ikea                                                  2               \n",
      "ikea,ikea,ikea,ikea                                             1               \n",
      "ipsy                                                            336             \n",
      "ipsy,ipsy                                                       15              \n",
      "j crew                                                          23              \n",
      "jc penney                                                       5               \n",
      "jc penny                                                        10              \n",
      "jc penny,jc penny                                               1               \n",
      "jcpenney                                                        2               \n",
      "jcpenney,kohl's,amazon,costco,costco                            1               \n",
      "jcrew                                                           36              \n",
      "jcrew,jcrew                                                     1               \n",
      "jewel osco                                                      1               \n",
      "kohl's                                                          7               \n",
      "kohl's,kohl's,kohl's,kohl's,kohl's,kohl's,kohl's,kohl's,kohl's  1               \n",
      "kohls                                                           5               \n",
      "kohls,dsw                                                       1               \n",
      "kohls,wal-mart                                                  1               \n",
      "kroger                                                          14              \n",
      "kroger,kroger                                                   2               \n",
      "kroger,walmart                                                  1               \n",
      "lowe's                                                          24              \n",
      "lowe's,amazon                                                   1               \n",
      "lowe's,lowe's                                                   3               \n",
      "lowe's,lowe's,lowe's,lowe's                                     1               \n",
      "lowe's,lowes                                                    1               \n",
      "lowes                                                           39              \n",
      "lowes,lowes                                                     4               \n",
      "lowes,lowes,lowes                                               2               \n",
      "lowes,lowes,lowes,lowes                                         1               \n",
      "lowes,lowes,lowes,lowes,lowes,lowes,lowes,lowes                 1               \n",
      "macy's                                                          23              \n",
      "macy's,nordstrom                                                1               \n",
      "macys                                                           8               \n",
      "marshall's                                                      2               \n",
      "marshalls                                                       1               \n",
      "marshalls,marshall's                                            2               \n",
      "marshalls,marshalls                                             8               \n",
      "marshalls,marshalls,marshalls                                   1               \n",
      "menards                                                         3               \n",
      "menards,home depot                                              1               \n",
      "michael's                                                       31              \n",
      "michael's,michael's                                             1               \n",
      "michael's,michael's,michael's                                   1               \n",
      "michaels                                                        20              \n",
      "michaels,michaels                                               5               \n",
      "michaels,michaels,michaels,michaels                             1               \n",
      "nordstrom                                                       12              \n",
      "nordstrom,nordstrom                                             1               \n",
      "overstock                                                       47              \n",
      "overstock,overstock                                             8               \n",
      "pottery barn                                                    87              \n",
      "pottery barn,pottery barn                                       7               \n",
      "pottery barn,pottery barn,pottery barn                          1               \n",
      "qvc                                                             28              \n",
      "qvc,hsn                                                         2               \n",
      "qvc,hsn,qvc,hsn                                                 1               \n",
      "qvc,qvc                                                         4               \n",
      "rei                                                             42              \n",
      "rei,rei                                                         6               \n",
      "rite aid                                                        4               \n",
      "ross                                                            245             \n",
      "ross,blick,ross                                                 1               \n",
      "ross,dollar tree,ross                                           1               \n",
      "ross,ross                                                       30              \n",
      "ross,ross,blick                                                 1               \n",
      "ross,ross,ross                                                  8               \n",
      "ross,ross,ross,ross                                             2               \n",
      "sam's                                                           43              \n",
      "sam's,sam's                                                     3               \n",
      "sams                                                            27              \n",
      "sams,costco                                                     1               \n",
      "sears                                                           95              \n",
      "sears,ace                                                       1               \n",
      "sears,sears                                                     7               \n",
      "sears,sears,sears                                               1               \n",
      "sephora                                                         53              \n",
      "sephora,sephora                                                 4               \n",
      "state farm                                                      14              \n",
      "state farm,state farm                                           5               \n",
      "target                                                          101             \n",
      "target,sears                                                    1               \n",
      "target,target                                                   29              \n",
      "target,target,target,target                                     2               \n",
      "tesco                                                           76              \n",
      "tesco,tesco                                                     4               \n",
      "tj max                                                          10              \n",
      "tj maxx                                                         3               \n",
      "tj maxx,tj maxx                                                 1               \n",
      "tj's                                                            6               \n",
      "tj's,marshall's                                                 1               \n",
      "tjmax                                                           2               \n",
      "tjmax,tjmax                                                     1               \n",
      "tjmaxx                                                          1               \n",
      "tjmaxx,tjmaxx                                                   1               \n",
      "tjs                                                             2               \n",
      "trader joe                                                      2               \n",
      "trader joe's                                                    37              \n",
      "trader joe's,trader joe's                                       13              \n",
      "trader joe,trader joe                                           3               \n",
      "trader joes                                                     5               \n",
      "trader joes,trader joes                                         7               \n",
      "wal mart                                                        1               \n",
      "wal mart,wal mart                                               2               \n",
      "wal-mart                                                        9               \n",
      "walgreen's                                                      4               \n",
      "walgreens                                                       25              \n",
      "walgreens,walmart                                               1               \n",
      "walmart                                                         90              \n",
      "walmart,amazon                                                  2               \n",
      "walmart,cvs                                                     1               \n",
      "walmart,home depot                                              1               \n",
      "walmart,lowe's                                                  1               \n",
      "walmart,sams,costco                                             1               \n",
      "walmart,walmart                                                 7               \n",
      "walmart,walmart,walmart                                         1               \n",
      "walmart,whole foods                                             1               \n",
      "wayfair                                                         6               \n",
      "wegman's                                                        1               \n",
      "wegmans                                                         3               \n",
      "whole foods                                                     51              \n",
      "whole foods,whole foods                                         3               \n",
      "whole foods,whole foods,sephora                                 1               \n",
      "zappos                                                          3               \n",
      "zappos,zappos                                                   1               \n",
      "\n",
      "                                                                regex_retailer_insens_case  \\\n",
      "regex_retailer                                                                               \n",
      "ace                                                             0                            \n",
      "ace,ace                                                         0                            \n",
      "ace,ace,ace                                                     0                            \n",
      "ace,ace,ace,ace                                                 0                            \n",
      "aetna                                                           16                           \n",
      "aetna,aetna                                                     1                            \n",
      "aetna,aetna,aetna                                               3                            \n",
      "aetna,aetna,aetna,aetna                                         1                            \n",
      "albertson                                                       10                           \n",
      "aldi                                                            67                           \n",
      "aldi's                                                          20                           \n",
      "aldi's,aldi's                                                   1                            \n",
      "aldi,aldi                                                       6                            \n",
      "aldi,aldi,aldi                                                  1                            \n",
      "aldis                                                           1                            \n",
      "amazon                                                          850                          \n",
      "amazon,amazon                                                   146                          \n",
      "amazon,amazon,amazon                                            19                           \n",
      "amazon,amazon,amazon,amazon                                     2                            \n",
      "amazon,amazon,amazon,amazon,amazon                              1                            \n",
      "amazon,b&q                                                      1                            \n",
      "amazon,ebay                                                     1                            \n",
      "amazon,ebay,amazon,amazon                                       1                            \n",
      "amazon,sephora                                                  1                            \n",
      "amazon,walmart                                                  2                            \n",
      "auto zone                                                       10                           \n",
      "auto zone,auto zone                                             1                            \n",
      "autozone                                                        13                           \n",
      "b & q                                                           30                           \n",
      "b & q,b & q                                                     1                            \n",
      "b & q,b & q,b & q                                               1                            \n",
      "b &q                                                            2                            \n",
      "b& q                                                            1                            \n",
      "b&q                                                             280                          \n",
      "b&q,b&q                                                         35                           \n",
      "b&q,b&q,b&q                                                     3                            \n",
      "b&q,ikea                                                        1                            \n",
      "bed bath & beyond                                               7                            \n",
      "bed bath and beyond                                             2                            \n",
      "blick                                                           54                           \n",
      "blick,amazon,blick                                              1                            \n",
      "blick,blick                                                     617                          \n",
      "blick,blick,blick                                               111                          \n",
      "blick,blick,blick,blick                                         30                           \n",
      "blick,blick,blick,blick,blick                                   7                            \n",
      "blick,blick,blick,blick,blick,blick                             3                            \n",
      "blick,blick,blick,blick,blick,blick,blick                       2                            \n",
      "blick,blick,etsy                                                1                            \n",
      "blick,etsy,etsy                                                 1                            \n",
      "blick,hobby lobby,blick                                         1                            \n",
      "blick,ikea                                                      1                            \n",
      "blick,michaels                                                  1                            \n",
      "blick,ross                                                      1                            \n",
      "costco                                                          72                           \n",
      "costco,costco                                                   588                          \n",
      "costco,costco,costco                                            164                          \n",
      "costco,costco,costco,costco                                     38                           \n",
      "costco,costco,costco,costco,costco                              12                           \n",
      "costco,costco,costco,costco,costco,costco                       2                            \n",
      "costco,costco,costco,costco,costco,costco,costco,costco         1                            \n",
      "costco,costco,costco,costco,costco,costco,costco,costco,costco  1                            \n",
      "cvs                                                             41                           \n",
      "cvs,cvs                                                         4                            \n",
      "dick's                                                          9                            \n",
      "dick's,dick's                                                   1                            \n",
      "dicks                                                           41                           \n",
      "dicks,dicks                                                     6                            \n",
      "dicks,dicks,dicks                                               1                            \n",
      "dollar general                                                  36                           \n",
      "dollar general,dollar general                                   1                            \n",
      "dollar tree                                                     27                           \n",
      "dollar tree,dollar tree                                         2                            \n",
      "dsw                                                             11                           \n",
      "dsw,dsw                                                         1                            \n",
      "e bay                                                           5                            \n",
      "e-bay                                                           1                            \n",
      "ebay                                                            47                           \n",
      "ebay,amazon                                                     2                            \n",
      "ebay,ebay                                                       4                            \n",
      "ebay,ebay,ebay                                                  1                            \n",
      "etsy                                                            31                           \n",
      "etsy,etsy                                                       4                            \n",
      "family dollar                                                   6                            \n",
      "family dollar,dollar general                                    1                            \n",
      "foot locker                                                     19                           \n",
      "foot locker,foot locker                                         4                            \n",
      "heb                                                             0                            \n",
      "heb,heb                                                         0                            \n",
      "hobby lobby                                                     57                           \n",
      "hobby lobby,blick                                               1                            \n",
      "hobby lobby,hobby lobby                                         3                            \n",
      "home depot                                                      31                           \n",
      "home depot,home depot                                           3                            \n",
      "home depot,home depot,amazon                                    1                            \n",
      "home depot,home depot,home depot,home depot,home depot          1                            \n",
      "home depot,lowe's                                               1                            \n",
      "home depot,lowes                                                1                            \n",
      "hsn                                                             29                           \n",
      "hsn,qvc                                                         2                            \n",
      "ikea                                                            233                          \n",
      "ikea,b&q                                                        1                            \n",
      "ikea,ikea                                                       10                           \n",
      "ikea,ikea,ikea                                                  2                            \n",
      "ikea,ikea,ikea,ikea                                             1                            \n",
      "ipsy                                                            336                          \n",
      "ipsy,ipsy                                                       15                           \n",
      "j crew                                                          23                           \n",
      "jc penney                                                       5                            \n",
      "jc penny                                                        10                           \n",
      "jc penny,jc penny                                               1                            \n",
      "jcpenney                                                        2                            \n",
      "jcpenney,kohl's,amazon,costco,costco                            1                            \n",
      "jcrew                                                           36                           \n",
      "jcrew,jcrew                                                     1                            \n",
      "jewel osco                                                      1                            \n",
      "kohl's                                                          7                            \n",
      "kohl's,kohl's,kohl's,kohl's,kohl's,kohl's,kohl's,kohl's,kohl's  1                            \n",
      "kohls                                                           5                            \n",
      "kohls,dsw                                                       1                            \n",
      "kohls,wal-mart                                                  1                            \n",
      "kroger                                                          14                           \n",
      "kroger,kroger                                                   2                            \n",
      "kroger,walmart                                                  1                            \n",
      "lowe's                                                          24                           \n",
      "lowe's,amazon                                                   1                            \n",
      "lowe's,lowe's                                                   3                            \n",
      "lowe's,lowe's,lowe's,lowe's                                     1                            \n",
      "lowe's,lowes                                                    1                            \n",
      "lowes                                                           39                           \n",
      "lowes,lowes                                                     4                            \n",
      "lowes,lowes,lowes                                               2                            \n",
      "lowes,lowes,lowes,lowes                                         1                            \n",
      "lowes,lowes,lowes,lowes,lowes,lowes,lowes,lowes                 1                            \n",
      "macy's                                                          23                           \n",
      "macy's,nordstrom                                                1                            \n",
      "macys                                                           8                            \n",
      "marshall's                                                      2                            \n",
      "marshalls                                                       1                            \n",
      "marshalls,marshall's                                            2                            \n",
      "marshalls,marshalls                                             8                            \n",
      "marshalls,marshalls,marshalls                                   1                            \n",
      "menards                                                         3                            \n",
      "menards,home depot                                              1                            \n",
      "michael's                                                       31                           \n",
      "michael's,michael's                                             1                            \n",
      "michael's,michael's,michael's                                   1                            \n",
      "michaels                                                        20                           \n",
      "michaels,michaels                                               5                            \n",
      "michaels,michaels,michaels,michaels                             1                            \n",
      "nordstrom                                                       12                           \n",
      "nordstrom,nordstrom                                             1                            \n",
      "overstock                                                       47                           \n",
      "overstock,overstock                                             8                            \n",
      "pottery barn                                                    87                           \n",
      "pottery barn,pottery barn                                       7                            \n",
      "pottery barn,pottery barn,pottery barn                          1                            \n",
      "qvc                                                             28                           \n",
      "qvc,hsn                                                         2                            \n",
      "qvc,hsn,qvc,hsn                                                 1                            \n",
      "qvc,qvc                                                         4                            \n",
      "rei                                                             42                           \n",
      "rei,rei                                                         6                            \n",
      "rite aid                                                        4                            \n",
      "ross                                                            245                          \n",
      "ross,blick,ross                                                 1                            \n",
      "ross,dollar tree,ross                                           1                            \n",
      "ross,ross                                                       30                           \n",
      "ross,ross,blick                                                 1                            \n",
      "ross,ross,ross                                                  8                            \n",
      "ross,ross,ross,ross                                             2                            \n",
      "sam's                                                           43                           \n",
      "sam's,sam's                                                     3                            \n",
      "sams                                                            27                           \n",
      "sams,costco                                                     1                            \n",
      "sears                                                           0                            \n",
      "sears,ace                                                       0                            \n",
      "sears,sears                                                     0                            \n",
      "sears,sears,sears                                               0                            \n",
      "sephora                                                         53                           \n",
      "sephora,sephora                                                 4                            \n",
      "state farm                                                      14                           \n",
      "state farm,state farm                                           5                            \n",
      "target                                                          0                            \n",
      "target,sears                                                    0                            \n",
      "target,target                                                   0                            \n",
      "target,target,target,target                                     0                            \n",
      "tesco                                                           76                           \n",
      "tesco,tesco                                                     4                            \n",
      "tj max                                                          10                           \n",
      "tj maxx                                                         3                            \n",
      "tj maxx,tj maxx                                                 1                            \n",
      "tj's                                                            6                            \n",
      "tj's,marshall's                                                 1                            \n",
      "tjmax                                                           2                            \n",
      "tjmax,tjmax                                                     1                            \n",
      "tjmaxx                                                          1                            \n",
      "tjmaxx,tjmaxx                                                   1                            \n",
      "tjs                                                             2                            \n",
      "trader joe                                                      2                            \n",
      "trader joe's                                                    37                           \n",
      "trader joe's,trader joe's                                       13                           \n",
      "trader joe,trader joe                                           3                            \n",
      "trader joes                                                     5                            \n",
      "trader joes,trader joes                                         7                            \n",
      "wal mart                                                        1                            \n",
      "wal mart,wal mart                                               2                            \n",
      "wal-mart                                                        9                            \n",
      "walgreen's                                                      4                            \n",
      "walgreens                                                       25                           \n",
      "walgreens,walmart                                               1                            \n",
      "walmart                                                         90                           \n",
      "walmart,amazon                                                  2                            \n",
      "walmart,cvs                                                     1                            \n",
      "walmart,home depot                                              1                            \n",
      "walmart,lowe's                                                  1                            \n",
      "walmart,sams,costco                                             1                            \n",
      "walmart,walmart                                                 7                            \n",
      "walmart,walmart,walmart                                         1                            \n",
      "walmart,whole foods                                             1                            \n",
      "wayfair                                                         6                            \n",
      "wegman's                                                        1                            \n",
      "wegmans                                                         3                            \n",
      "whole foods                                                     51                           \n",
      "whole foods,whole foods                                         3                            \n",
      "whole foods,whole foods,sephora                                 1                            \n",
      "zappos                                                          3                            \n",
      "zappos,zappos                                                   1                            \n",
      "\n",
      "                                                                regex_retailer_sens_case  \\\n",
      "regex_retailer                                                                             \n",
      "ace                                                             222                        \n",
      "ace,ace                                                         35                         \n",
      "ace,ace,ace                                                     2                          \n",
      "ace,ace,ace,ace                                                 1                          \n",
      "aetna                                                           0                          \n",
      "aetna,aetna                                                     0                          \n",
      "aetna,aetna,aetna                                               0                          \n",
      "aetna,aetna,aetna,aetna                                         0                          \n",
      "albertson                                                       0                          \n",
      "aldi                                                            0                          \n",
      "aldi's                                                          0                          \n",
      "aldi's,aldi's                                                   0                          \n",
      "aldi,aldi                                                       0                          \n",
      "aldi,aldi,aldi                                                  0                          \n",
      "aldis                                                           0                          \n",
      "amazon                                                          2                          \n",
      "amazon,amazon                                                   0                          \n",
      "amazon,amazon,amazon                                            0                          \n",
      "amazon,amazon,amazon,amazon                                     0                          \n",
      "amazon,amazon,amazon,amazon,amazon                              0                          \n",
      "amazon,b&q                                                      0                          \n",
      "amazon,ebay                                                     0                          \n",
      "amazon,ebay,amazon,amazon                                       0                          \n",
      "amazon,sephora                                                  0                          \n",
      "amazon,walmart                                                  0                          \n",
      "auto zone                                                       0                          \n",
      "auto zone,auto zone                                             0                          \n",
      "autozone                                                        0                          \n",
      "b & q                                                           0                          \n",
      "b & q,b & q                                                     0                          \n",
      "b & q,b & q,b & q                                               0                          \n",
      "b &q                                                            0                          \n",
      "b& q                                                            0                          \n",
      "b&q                                                             0                          \n",
      "b&q,b&q                                                         0                          \n",
      "b&q,b&q,b&q                                                     0                          \n",
      "b&q,ikea                                                        0                          \n",
      "bed bath & beyond                                               0                          \n",
      "bed bath and beyond                                             0                          \n",
      "blick                                                           0                          \n",
      "blick,amazon,blick                                              0                          \n",
      "blick,blick                                                     0                          \n",
      "blick,blick,blick                                               0                          \n",
      "blick,blick,blick,blick                                         0                          \n",
      "blick,blick,blick,blick,blick                                   0                          \n",
      "blick,blick,blick,blick,blick,blick                             0                          \n",
      "blick,blick,blick,blick,blick,blick,blick                       0                          \n",
      "blick,blick,etsy                                                0                          \n",
      "blick,etsy,etsy                                                 0                          \n",
      "blick,hobby lobby,blick                                         0                          \n",
      "blick,ikea                                                      0                          \n",
      "blick,michaels                                                  0                          \n",
      "blick,ross                                                      0                          \n",
      "costco                                                          0                          \n",
      "costco,costco                                                   0                          \n",
      "costco,costco,costco                                            0                          \n",
      "costco,costco,costco,costco                                     0                          \n",
      "costco,costco,costco,costco,costco                              0                          \n",
      "costco,costco,costco,costco,costco,costco                       0                          \n",
      "costco,costco,costco,costco,costco,costco,costco,costco         0                          \n",
      "costco,costco,costco,costco,costco,costco,costco,costco,costco  0                          \n",
      "cvs                                                             0                          \n",
      "cvs,cvs                                                         0                          \n",
      "dick's                                                          0                          \n",
      "dick's,dick's                                                   0                          \n",
      "dicks                                                           0                          \n",
      "dicks,dicks                                                     0                          \n",
      "dicks,dicks,dicks                                               0                          \n",
      "dollar general                                                  0                          \n",
      "dollar general,dollar general                                   0                          \n",
      "dollar tree                                                     0                          \n",
      "dollar tree,dollar tree                                         0                          \n",
      "dsw                                                             0                          \n",
      "dsw,dsw                                                         0                          \n",
      "e bay                                                           0                          \n",
      "e-bay                                                           0                          \n",
      "ebay                                                            0                          \n",
      "ebay,amazon                                                     0                          \n",
      "ebay,ebay                                                       0                          \n",
      "ebay,ebay,ebay                                                  0                          \n",
      "etsy                                                            0                          \n",
      "etsy,etsy                                                       0                          \n",
      "family dollar                                                   0                          \n",
      "family dollar,dollar general                                    0                          \n",
      "foot locker                                                     0                          \n",
      "foot locker,foot locker                                         0                          \n",
      "heb                                                             30                         \n",
      "heb,heb                                                         1                          \n",
      "hobby lobby                                                     0                          \n",
      "hobby lobby,blick                                               0                          \n",
      "hobby lobby,hobby lobby                                         0                          \n",
      "home depot                                                      0                          \n",
      "home depot,home depot                                           0                          \n",
      "home depot,home depot,amazon                                    0                          \n",
      "home depot,home depot,home depot,home depot,home depot          0                          \n",
      "home depot,lowe's                                               0                          \n",
      "home depot,lowes                                                0                          \n",
      "hsn                                                             0                          \n",
      "hsn,qvc                                                         0                          \n",
      "ikea                                                            0                          \n",
      "ikea,b&q                                                        0                          \n",
      "ikea,ikea                                                       0                          \n",
      "ikea,ikea,ikea                                                  0                          \n",
      "ikea,ikea,ikea,ikea                                             0                          \n",
      "ipsy                                                            0                          \n",
      "ipsy,ipsy                                                       0                          \n",
      "j crew                                                          0                          \n",
      "jc penney                                                       0                          \n",
      "jc penny                                                        0                          \n",
      "jc penny,jc penny                                               0                          \n",
      "jcpenney                                                        0                          \n",
      "jcpenney,kohl's,amazon,costco,costco                            0                          \n",
      "jcrew                                                           0                          \n",
      "jcrew,jcrew                                                     0                          \n",
      "jewel osco                                                      0                          \n",
      "kohl's                                                          0                          \n",
      "kohl's,kohl's,kohl's,kohl's,kohl's,kohl's,kohl's,kohl's,kohl's  0                          \n",
      "kohls                                                           0                          \n",
      "kohls,dsw                                                       0                          \n",
      "kohls,wal-mart                                                  1                          \n",
      "kroger                                                          0                          \n",
      "kroger,kroger                                                   0                          \n",
      "kroger,walmart                                                  0                          \n",
      "lowe's                                                          0                          \n",
      "lowe's,amazon                                                   0                          \n",
      "lowe's,lowe's                                                   0                          \n",
      "lowe's,lowe's,lowe's,lowe's                                     0                          \n",
      "lowe's,lowes                                                    0                          \n",
      "lowes                                                           0                          \n",
      "lowes,lowes                                                     0                          \n",
      "lowes,lowes,lowes                                               0                          \n",
      "lowes,lowes,lowes,lowes                                         0                          \n",
      "lowes,lowes,lowes,lowes,lowes,lowes,lowes,lowes                 0                          \n",
      "macy's                                                          0                          \n",
      "macy's,nordstrom                                                0                          \n",
      "macys                                                           0                          \n",
      "marshall's                                                      0                          \n",
      "marshalls                                                       0                          \n",
      "marshalls,marshall's                                            0                          \n",
      "marshalls,marshalls                                             0                          \n",
      "marshalls,marshalls,marshalls                                   0                          \n",
      "menards                                                         0                          \n",
      "menards,home depot                                              0                          \n",
      "michael's                                                       0                          \n",
      "michael's,michael's                                             0                          \n",
      "michael's,michael's,michael's                                   0                          \n",
      "michaels                                                        0                          \n",
      "michaels,michaels                                               0                          \n",
      "michaels,michaels,michaels,michaels                             0                          \n",
      "nordstrom                                                       0                          \n",
      "nordstrom,nordstrom                                             0                          \n",
      "overstock                                                       0                          \n",
      "overstock,overstock                                             0                          \n",
      "pottery barn                                                    0                          \n",
      "pottery barn,pottery barn                                       0                          \n",
      "pottery barn,pottery barn,pottery barn                          0                          \n",
      "qvc                                                             0                          \n",
      "qvc,hsn                                                         0                          \n",
      "qvc,hsn,qvc,hsn                                                 0                          \n",
      "qvc,qvc                                                         0                          \n",
      "rei                                                             0                          \n",
      "rei,rei                                                         0                          \n",
      "rite aid                                                        0                          \n",
      "ross                                                            0                          \n",
      "ross,blick,ross                                                 0                          \n",
      "ross,dollar tree,ross                                           0                          \n",
      "ross,ross                                                       0                          \n",
      "ross,ross,blick                                                 0                          \n",
      "ross,ross,ross                                                  0                          \n",
      "ross,ross,ross,ross                                             0                          \n",
      "sam's                                                           1                          \n",
      "sam's,sam's                                                     0                          \n",
      "sams                                                            0                          \n",
      "sams,costco                                                     0                          \n",
      "sears                                                           95                         \n",
      "sears,ace                                                       1                          \n",
      "sears,sears                                                     7                          \n",
      "sears,sears,sears                                               1                          \n",
      "sephora                                                         0                          \n",
      "sephora,sephora                                                 0                          \n",
      "state farm                                                      0                          \n",
      "state farm,state farm                                           0                          \n",
      "target                                                          101                        \n",
      "target,sears                                                    1                          \n",
      "target,target                                                   29                         \n",
      "target,target,target,target                                     2                          \n",
      "tesco                                                           0                          \n",
      "tesco,tesco                                                     0                          \n",
      "tj max                                                          0                          \n",
      "tj maxx                                                         0                          \n",
      "tj maxx,tj maxx                                                 0                          \n",
      "tj's                                                            0                          \n",
      "tj's,marshall's                                                 0                          \n",
      "tjmax                                                           0                          \n",
      "tjmax,tjmax                                                     0                          \n",
      "tjmaxx                                                          0                          \n",
      "tjmaxx,tjmaxx                                                   0                          \n",
      "tjs                                                             0                          \n",
      "trader joe                                                      0                          \n",
      "trader joe's                                                    0                          \n",
      "trader joe's,trader joe's                                       0                          \n",
      "trader joe,trader joe                                           0                          \n",
      "trader joes                                                     0                          \n",
      "trader joes,trader joes                                         0                          \n",
      "wal mart                                                        0                          \n",
      "wal mart,wal mart                                               0                          \n",
      "wal-mart                                                        0                          \n",
      "walgreen's                                                      0                          \n",
      "walgreens                                                       0                          \n",
      "walgreens,walmart                                               0                          \n",
      "walmart                                                         6                          \n",
      "walmart,amazon                                                  1                          \n",
      "walmart,cvs                                                     0                          \n",
      "walmart,home depot                                              0                          \n",
      "walmart,lowe's                                                  0                          \n",
      "walmart,sams,costco                                             0                          \n",
      "walmart,walmart                                                 0                          \n",
      "walmart,walmart,walmart                                         0                          \n",
      "walmart,whole foods                                             1                          \n",
      "wayfair                                                         0                          \n",
      "wegman's                                                        0                          \n",
      "wegmans                                                         0                          \n",
      "whole foods                                                     0                          \n",
      "whole foods,whole foods                                         0                          \n",
      "whole foods,whole foods,sephora                                 0                          \n",
      "zappos                                                          0                          \n",
      "zappos,zappos                                                   0                          \n",
      "\n",
      "                                                                retailer_not_client  \\\n",
      "regex_retailer                                                                        \n",
      "ace                                                             222                   \n",
      "ace,ace                                                         35                    \n",
      "ace,ace,ace                                                     2                     \n",
      "ace,ace,ace,ace                                                 1                     \n",
      "aetna                                                           16                    \n",
      "aetna,aetna                                                     1                     \n",
      "aetna,aetna,aetna                                               3                     \n",
      "aetna,aetna,aetna,aetna                                         1                     \n",
      "albertson                                                       10                    \n",
      "aldi                                                            67                    \n",
      "aldi's                                                          20                    \n",
      "aldi's,aldi's                                                   1                     \n",
      "aldi,aldi                                                       6                     \n",
      "aldi,aldi,aldi                                                  1                     \n",
      "aldis                                                           1                     \n",
      "amazon                                                          850                   \n",
      "amazon,amazon                                                   146                   \n",
      "amazon,amazon,amazon                                            19                    \n",
      "amazon,amazon,amazon,amazon                                     2                     \n",
      "amazon,amazon,amazon,amazon,amazon                              1                     \n",
      "amazon,b&q                                                      1                     \n",
      "amazon,ebay                                                     1                     \n",
      "amazon,ebay,amazon,amazon                                       1                     \n",
      "amazon,sephora                                                  1                     \n",
      "amazon,walmart                                                  2                     \n",
      "auto zone                                                       10                    \n",
      "auto zone,auto zone                                             1                     \n",
      "autozone                                                        13                    \n",
      "b & q                                                           30                    \n",
      "b & q,b & q                                                     1                     \n",
      "b & q,b & q,b & q                                               1                     \n",
      "b &q                                                            2                     \n",
      "b& q                                                            1                     \n",
      "b&q                                                             280                   \n",
      "b&q,b&q                                                         35                    \n",
      "b&q,b&q,b&q                                                     3                     \n",
      "b&q,ikea                                                        1                     \n",
      "bed bath & beyond                                               7                     \n",
      "bed bath and beyond                                             2                     \n",
      "blick                                                           54                    \n",
      "blick,amazon,blick                                              1                     \n",
      "blick,blick                                                     617                   \n",
      "blick,blick,blick                                               111                   \n",
      "blick,blick,blick,blick                                         30                    \n",
      "blick,blick,blick,blick,blick                                   7                     \n",
      "blick,blick,blick,blick,blick,blick                             3                     \n",
      "blick,blick,blick,blick,blick,blick,blick                       2                     \n",
      "blick,blick,etsy                                                1                     \n",
      "blick,etsy,etsy                                                 1                     \n",
      "blick,hobby lobby,blick                                         1                     \n",
      "blick,ikea                                                      1                     \n",
      "blick,michaels                                                  1                     \n",
      "blick,ross                                                      1                     \n",
      "costco                                                          72                    \n",
      "costco,costco                                                   588                   \n",
      "costco,costco,costco                                            164                   \n",
      "costco,costco,costco,costco                                     38                    \n",
      "costco,costco,costco,costco,costco                              12                    \n",
      "costco,costco,costco,costco,costco,costco                       2                     \n",
      "costco,costco,costco,costco,costco,costco,costco,costco         1                     \n",
      "costco,costco,costco,costco,costco,costco,costco,costco,costco  1                     \n",
      "cvs                                                             41                    \n",
      "cvs,cvs                                                         4                     \n",
      "dick's                                                          9                     \n",
      "dick's,dick's                                                   1                     \n",
      "dicks                                                           41                    \n",
      "dicks,dicks                                                     6                     \n",
      "dicks,dicks,dicks                                               1                     \n",
      "dollar general                                                  36                    \n",
      "dollar general,dollar general                                   1                     \n",
      "dollar tree                                                     27                    \n",
      "dollar tree,dollar tree                                         2                     \n",
      "dsw                                                             11                    \n",
      "dsw,dsw                                                         1                     \n",
      "e bay                                                           5                     \n",
      "e-bay                                                           1                     \n",
      "ebay                                                            47                    \n",
      "ebay,amazon                                                     2                     \n",
      "ebay,ebay                                                       4                     \n",
      "ebay,ebay,ebay                                                  1                     \n",
      "etsy                                                            31                    \n",
      "etsy,etsy                                                       4                     \n",
      "family dollar                                                   6                     \n",
      "family dollar,dollar general                                    1                     \n",
      "foot locker                                                     19                    \n",
      "foot locker,foot locker                                         4                     \n",
      "heb                                                             30                    \n",
      "heb,heb                                                         1                     \n",
      "hobby lobby                                                     57                    \n",
      "hobby lobby,blick                                               1                     \n",
      "hobby lobby,hobby lobby                                         3                     \n",
      "home depot                                                      31                    \n",
      "home depot,home depot                                           3                     \n",
      "home depot,home depot,amazon                                    1                     \n",
      "home depot,home depot,home depot,home depot,home depot          1                     \n",
      "home depot,lowe's                                               1                     \n",
      "home depot,lowes                                                1                     \n",
      "hsn                                                             29                    \n",
      "hsn,qvc                                                         2                     \n",
      "ikea                                                            233                   \n",
      "ikea,b&q                                                        1                     \n",
      "ikea,ikea                                                       10                    \n",
      "ikea,ikea,ikea                                                  2                     \n",
      "ikea,ikea,ikea,ikea                                             1                     \n",
      "ipsy                                                            336                   \n",
      "ipsy,ipsy                                                       15                    \n",
      "j crew                                                          23                    \n",
      "jc penney                                                       5                     \n",
      "jc penny                                                        10                    \n",
      "jc penny,jc penny                                               1                     \n",
      "jcpenney                                                        2                     \n",
      "jcpenney,kohl's,amazon,costco,costco                            1                     \n",
      "jcrew                                                           36                    \n",
      "jcrew,jcrew                                                     1                     \n",
      "jewel osco                                                      1                     \n",
      "kohl's                                                          7                     \n",
      "kohl's,kohl's,kohl's,kohl's,kohl's,kohl's,kohl's,kohl's,kohl's  1                     \n",
      "kohls                                                           5                     \n",
      "kohls,dsw                                                       1                     \n",
      "kohls,wal-mart                                                  1                     \n",
      "kroger                                                          14                    \n",
      "kroger,kroger                                                   2                     \n",
      "kroger,walmart                                                  1                     \n",
      "lowe's                                                          24                    \n",
      "lowe's,amazon                                                   1                     \n",
      "lowe's,lowe's                                                   3                     \n",
      "lowe's,lowe's,lowe's,lowe's                                     1                     \n",
      "lowe's,lowes                                                    1                     \n",
      "lowes                                                           39                    \n",
      "lowes,lowes                                                     4                     \n",
      "lowes,lowes,lowes                                               2                     \n",
      "lowes,lowes,lowes,lowes                                         1                     \n",
      "lowes,lowes,lowes,lowes,lowes,lowes,lowes,lowes                 1                     \n",
      "macy's                                                          23                    \n",
      "macy's,nordstrom                                                1                     \n",
      "macys                                                           8                     \n",
      "marshall's                                                      2                     \n",
      "marshalls                                                       1                     \n",
      "marshalls,marshall's                                            2                     \n",
      "marshalls,marshalls                                             8                     \n",
      "marshalls,marshalls,marshalls                                   1                     \n",
      "menards                                                         3                     \n",
      "menards,home depot                                              1                     \n",
      "michael's                                                       31                    \n",
      "michael's,michael's                                             1                     \n",
      "michael's,michael's,michael's                                   1                     \n",
      "michaels                                                        20                    \n",
      "michaels,michaels                                               5                     \n",
      "michaels,michaels,michaels,michaels                             1                     \n",
      "nordstrom                                                       12                    \n",
      "nordstrom,nordstrom                                             1                     \n",
      "overstock                                                       47                    \n",
      "overstock,overstock                                             8                     \n",
      "pottery barn                                                    87                    \n",
      "pottery barn,pottery barn                                       7                     \n",
      "pottery barn,pottery barn,pottery barn                          1                     \n",
      "qvc                                                             28                    \n",
      "qvc,hsn                                                         2                     \n",
      "qvc,hsn,qvc,hsn                                                 1                     \n",
      "qvc,qvc                                                         4                     \n",
      "rei                                                             42                    \n",
      "rei,rei                                                         6                     \n",
      "rite aid                                                        4                     \n",
      "ross                                                            245                   \n",
      "ross,blick,ross                                                 1                     \n",
      "ross,dollar tree,ross                                           1                     \n",
      "ross,ross                                                       30                    \n",
      "ross,ross,blick                                                 1                     \n",
      "ross,ross,ross                                                  8                     \n",
      "ross,ross,ross,ross                                             2                     \n",
      "sam's                                                           43                    \n",
      "sam's,sam's                                                     3                     \n",
      "sams                                                            27                    \n",
      "sams,costco                                                     1                     \n",
      "sears                                                           95                    \n",
      "sears,ace                                                       1                     \n",
      "sears,sears                                                     7                     \n",
      "sears,sears,sears                                               1                     \n",
      "sephora                                                         53                    \n",
      "sephora,sephora                                                 4                     \n",
      "state farm                                                      14                    \n",
      "state farm,state farm                                           5                     \n",
      "target                                                          101                   \n",
      "target,sears                                                    1                     \n",
      "target,target                                                   29                    \n",
      "target,target,target,target                                     2                     \n",
      "tesco                                                           76                    \n",
      "tesco,tesco                                                     4                     \n",
      "tj max                                                          10                    \n",
      "tj maxx                                                         3                     \n",
      "tj maxx,tj maxx                                                 1                     \n",
      "tj's                                                            6                     \n",
      "tj's,marshall's                                                 1                     \n",
      "tjmax                                                           2                     \n",
      "tjmax,tjmax                                                     1                     \n",
      "tjmaxx                                                          1                     \n",
      "tjmaxx,tjmaxx                                                   1                     \n",
      "tjs                                                             2                     \n",
      "trader joe                                                      2                     \n",
      "trader joe's                                                    37                    \n",
      "trader joe's,trader joe's                                       13                    \n",
      "trader joe,trader joe                                           3                     \n",
      "trader joes                                                     5                     \n",
      "trader joes,trader joes                                         7                     \n",
      "wal mart                                                        1                     \n",
      "wal mart,wal mart                                               2                     \n",
      "wal-mart                                                        9                     \n",
      "walgreen's                                                      4                     \n",
      "walgreens                                                       25                    \n",
      "walgreens,walmart                                               1                     \n",
      "walmart                                                         90                    \n",
      "walmart,amazon                                                  2                     \n",
      "walmart,cvs                                                     1                     \n",
      "walmart,home depot                                              1                     \n",
      "walmart,lowe's                                                  1                     \n",
      "walmart,sams,costco                                             1                     \n",
      "walmart,walmart                                                 7                     \n",
      "walmart,walmart,walmart                                         1                     \n",
      "walmart,whole foods                                             1                     \n",
      "wayfair                                                         6                     \n",
      "wegman's                                                        1                     \n",
      "wegmans                                                         3                     \n",
      "whole foods                                                     51                    \n",
      "whole foods,whole foods                                         3                     \n",
      "whole foods,whole foods,sephora                                 1                     \n",
      "zappos                                                          3                     \n",
      "zappos,zappos                                                   1                     \n",
      "\n",
      "                                                                model_CR  \n",
      "regex_retailer                                                            \n",
      "ace                                                             222       \n",
      "ace,ace                                                         35        \n",
      "ace,ace,ace                                                     2         \n",
      "ace,ace,ace,ace                                                 1         \n",
      "aetna                                                           16        \n",
      "aetna,aetna                                                     1         \n",
      "aetna,aetna,aetna                                               3         \n",
      "aetna,aetna,aetna,aetna                                         1         \n",
      "albertson                                                       10        \n",
      "aldi                                                            67        \n",
      "aldi's                                                          20        \n",
      "aldi's,aldi's                                                   1         \n",
      "aldi,aldi                                                       6         \n",
      "aldi,aldi,aldi                                                  1         \n",
      "aldis                                                           1         \n",
      "amazon                                                          850       \n",
      "amazon,amazon                                                   146       \n",
      "amazon,amazon,amazon                                            19        \n",
      "amazon,amazon,amazon,amazon                                     2         \n",
      "amazon,amazon,amazon,amazon,amazon                              1         \n",
      "amazon,b&q                                                      1         \n",
      "amazon,ebay                                                     1         \n",
      "amazon,ebay,amazon,amazon                                       1         \n",
      "amazon,sephora                                                  1         \n",
      "amazon,walmart                                                  2         \n",
      "auto zone                                                       10        \n",
      "auto zone,auto zone                                             1         \n",
      "autozone                                                        13        \n",
      "b & q                                                           30        \n",
      "b & q,b & q                                                     1         \n",
      "b & q,b & q,b & q                                               1         \n",
      "b &q                                                            2         \n",
      "b& q                                                            1         \n",
      "b&q                                                             280       \n",
      "b&q,b&q                                                         35        \n",
      "b&q,b&q,b&q                                                     3         \n",
      "b&q,ikea                                                        1         \n",
      "bed bath & beyond                                               7         \n",
      "bed bath and beyond                                             2         \n",
      "blick                                                           54        \n",
      "blick,amazon,blick                                              1         \n",
      "blick,blick                                                     617       \n",
      "blick,blick,blick                                               111       \n",
      "blick,blick,blick,blick                                         30        \n",
      "blick,blick,blick,blick,blick                                   7         \n",
      "blick,blick,blick,blick,blick,blick                             3         \n",
      "blick,blick,blick,blick,blick,blick,blick                       2         \n",
      "blick,blick,etsy                                                1         \n",
      "blick,etsy,etsy                                                 1         \n",
      "blick,hobby lobby,blick                                         1         \n",
      "blick,ikea                                                      1         \n",
      "blick,michaels                                                  1         \n",
      "blick,ross                                                      1         \n",
      "costco                                                          72        \n",
      "costco,costco                                                   588       \n",
      "costco,costco,costco                                            164       \n",
      "costco,costco,costco,costco                                     38        \n",
      "costco,costco,costco,costco,costco                              12        \n",
      "costco,costco,costco,costco,costco,costco                       2         \n",
      "costco,costco,costco,costco,costco,costco,costco,costco         1         \n",
      "costco,costco,costco,costco,costco,costco,costco,costco,costco  1         \n",
      "cvs                                                             41        \n",
      "cvs,cvs                                                         4         \n",
      "dick's                                                          9         \n",
      "dick's,dick's                                                   1         \n",
      "dicks                                                           41        \n",
      "dicks,dicks                                                     6         \n",
      "dicks,dicks,dicks                                               1         \n",
      "dollar general                                                  36        \n",
      "dollar general,dollar general                                   1         \n",
      "dollar tree                                                     27        \n",
      "dollar tree,dollar tree                                         2         \n",
      "dsw                                                             11        \n",
      "dsw,dsw                                                         1         \n",
      "e bay                                                           5         \n",
      "e-bay                                                           1         \n",
      "ebay                                                            47        \n",
      "ebay,amazon                                                     2         \n",
      "ebay,ebay                                                       4         \n",
      "ebay,ebay,ebay                                                  1         \n",
      "etsy                                                            31        \n",
      "etsy,etsy                                                       4         \n",
      "family dollar                                                   6         \n",
      "family dollar,dollar general                                    1         \n",
      "foot locker                                                     19        \n",
      "foot locker,foot locker                                         4         \n",
      "heb                                                             30        \n",
      "heb,heb                                                         1         \n",
      "hobby lobby                                                     57        \n",
      "hobby lobby,blick                                               1         \n",
      "hobby lobby,hobby lobby                                         3         \n",
      "home depot                                                      31        \n",
      "home depot,home depot                                           3         \n",
      "home depot,home depot,amazon                                    1         \n",
      "home depot,home depot,home depot,home depot,home depot          1         \n",
      "home depot,lowe's                                               1         \n",
      "home depot,lowes                                                1         \n",
      "hsn                                                             29        \n",
      "hsn,qvc                                                         2         \n",
      "ikea                                                            233       \n",
      "ikea,b&q                                                        1         \n",
      "ikea,ikea                                                       10        \n",
      "ikea,ikea,ikea                                                  2         \n",
      "ikea,ikea,ikea,ikea                                             1         \n",
      "ipsy                                                            336       \n",
      "ipsy,ipsy                                                       15        \n",
      "j crew                                                          23        \n",
      "jc penney                                                       5         \n",
      "jc penny                                                        10        \n",
      "jc penny,jc penny                                               1         \n",
      "jcpenney                                                        2         \n",
      "jcpenney,kohl's,amazon,costco,costco                            1         \n",
      "jcrew                                                           36        \n",
      "jcrew,jcrew                                                     1         \n",
      "jewel osco                                                      1         \n",
      "kohl's                                                          7         \n",
      "kohl's,kohl's,kohl's,kohl's,kohl's,kohl's,kohl's,kohl's,kohl's  1         \n",
      "kohls                                                           5         \n",
      "kohls,dsw                                                       1         \n",
      "kohls,wal-mart                                                  1         \n",
      "kroger                                                          14        \n",
      "kroger,kroger                                                   2         \n",
      "kroger,walmart                                                  1         \n",
      "lowe's                                                          24        \n",
      "lowe's,amazon                                                   1         \n",
      "lowe's,lowe's                                                   3         \n",
      "lowe's,lowe's,lowe's,lowe's                                     1         \n",
      "lowe's,lowes                                                    1         \n",
      "lowes                                                           39        \n",
      "lowes,lowes                                                     4         \n",
      "lowes,lowes,lowes                                               2         \n",
      "lowes,lowes,lowes,lowes                                         1         \n",
      "lowes,lowes,lowes,lowes,lowes,lowes,lowes,lowes                 1         \n",
      "macy's                                                          23        \n",
      "macy's,nordstrom                                                1         \n",
      "macys                                                           8         \n",
      "marshall's                                                      2         \n",
      "marshalls                                                       1         \n",
      "marshalls,marshall's                                            2         \n",
      "marshalls,marshalls                                             8         \n",
      "marshalls,marshalls,marshalls                                   1         \n",
      "menards                                                         3         \n",
      "menards,home depot                                              1         \n",
      "michael's                                                       31        \n",
      "michael's,michael's                                             1         \n",
      "michael's,michael's,michael's                                   1         \n",
      "michaels                                                        20        \n",
      "michaels,michaels                                               5         \n",
      "michaels,michaels,michaels,michaels                             1         \n",
      "nordstrom                                                       12        \n",
      "nordstrom,nordstrom                                             1         \n",
      "overstock                                                       47        \n",
      "overstock,overstock                                             8         \n",
      "pottery barn                                                    87        \n",
      "pottery barn,pottery barn                                       7         \n",
      "pottery barn,pottery barn,pottery barn                          1         \n",
      "qvc                                                             28        \n",
      "qvc,hsn                                                         2         \n",
      "qvc,hsn,qvc,hsn                                                 1         \n",
      "qvc,qvc                                                         4         \n",
      "rei                                                             42        \n",
      "rei,rei                                                         6         \n",
      "rite aid                                                        4         \n",
      "ross                                                            245       \n",
      "ross,blick,ross                                                 1         \n",
      "ross,dollar tree,ross                                           1         \n",
      "ross,ross                                                       30        \n",
      "ross,ross,blick                                                 1         \n",
      "ross,ross,ross                                                  8         \n",
      "ross,ross,ross,ross                                             2         \n",
      "sam's                                                           43        \n",
      "sam's,sam's                                                     3         \n",
      "sams                                                            27        \n",
      "sams,costco                                                     1         \n",
      "sears                                                           95        \n",
      "sears,ace                                                       1         \n",
      "sears,sears                                                     7         \n",
      "sears,sears,sears                                               1         \n",
      "sephora                                                         53        \n",
      "sephora,sephora                                                 4         \n",
      "state farm                                                      14        \n",
      "state farm,state farm                                           5         \n",
      "target                                                          101       \n",
      "target,sears                                                    1         \n",
      "target,target                                                   29        \n",
      "target,target,target,target                                     2         \n",
      "tesco                                                           76        \n",
      "tesco,tesco                                                     4         \n",
      "tj max                                                          10        \n",
      "tj maxx                                                         3         \n",
      "tj maxx,tj maxx                                                 1         \n",
      "tj's                                                            6         \n",
      "tj's,marshall's                                                 1         \n",
      "tjmax                                                           2         \n",
      "tjmax,tjmax                                                     1         \n",
      "tjmaxx                                                          1         \n",
      "tjmaxx,tjmaxx                                                   1         \n",
      "tjs                                                             2         \n",
      "trader joe                                                      2         \n",
      "trader joe's                                                    37        \n",
      "trader joe's,trader joe's                                       13        \n",
      "trader joe,trader joe                                           3         \n",
      "trader joes                                                     5         \n",
      "trader joes,trader joes                                         7         \n",
      "wal mart                                                        1         \n",
      "wal mart,wal mart                                               2         \n",
      "wal-mart                                                        9         \n",
      "walgreen's                                                      4         \n",
      "walgreens                                                       25        \n",
      "walgreens,walmart                                               1         \n",
      "walmart                                                         90        \n",
      "walmart,amazon                                                  2         \n",
      "walmart,cvs                                                     1         \n",
      "walmart,home depot                                              1         \n",
      "walmart,lowe's                                                  1         \n",
      "walmart,sams,costco                                             1         \n",
      "walmart,walmart                                                 7         \n",
      "walmart,walmart,walmart                                         1         \n",
      "walmart,whole foods                                             1         \n",
      "wayfair                                                         6         \n",
      "wegman's                                                        1         \n",
      "wegmans                                                         3         \n",
      "whole foods                                                     51        \n",
      "whole foods,whole foods                                         3         \n",
      "whole foods,whole foods,sephora                                 1         \n",
      "zappos                                                          3         \n",
      "zappos,zappos                                                   1"
     ]
    }
   ],
   "source": [
    "FP.groupby(['regex_retailer']).count()"
   ]
  },
  {
   "cell_type": "code",
   "execution_count": null,
   "metadata": {},
   "outputs": [],
   "source": []
  },
  {
   "cell_type": "code",
   "execution_count": null,
   "metadata": {},
   "outputs": [],
   "source": []
  },
  {
   "cell_type": "code",
   "execution_count": 23,
   "metadata": {},
   "outputs": [
    {
     "data": {
      "application/vnd.jupyter.widget-view+json": {
       "model_id": "77c32e400acf4e98ab5081ffefa0d5eb",
       "version_major": 2,
       "version_minor": 0
      },
      "text/plain": [
       "VBox()"
      ]
     },
     "metadata": {},
     "output_type": "display_data"
    },
    {
     "data": {
      "application/vnd.jupyter.widget-view+json": {
       "model_id": "",
       "version_major": 2,
       "version_minor": 0
      },
      "text/plain": [
       "FloatProgress(value=0.0, bar_style='info', description='Progress:', layout=Layout(height='25px', width='50%'),…"
      ]
     },
     "metadata": {},
     "output_type": "display_data"
    }
   ],
   "source": [
    "from pyspark.sql.types import *\n",
    "\n",
    "mySchema = StructType([StructField(\"UGC_ID\", StringType(), True)\\\n",
    ",StructField(\"NAME\", StringType(), True)\\\n",
    ",StructField(\"REVIEW_HEADLINE\", StringType(), True)\\\n",
    ",StructField(\"REVIEW_COMMENTS\", StringType(), True)\\\n",
    ",StructField(\"CR\", IntegerType(), True)\\\n",
    ",StructField(\"ALL_TEXT\", StringType(), True)\\\n",
    ",StructField(\"NAME_1ST_PART\", StringType(), True)\\\n",
    ",StructField(\"regex_retailer_insens_case\", StringType(), True)\\\n",
    ",StructField(\"regex_retailer_sens_case\", StringType(), True)\\\n",
    ",StructField(\"regex_retailer\", StringType(), True)\\\n",
    ",StructField(\"retailer_not_client\", StringType(), True)\\\n",
    ",StructField(\"model_CR\", IntegerType(), True)])\n",
    "\n"
   ]
  },
  {
   "cell_type": "code",
   "execution_count": null,
   "metadata": {},
   "outputs": [],
   "source": []
  },
  {
   "cell_type": "code",
   "execution_count": 24,
   "metadata": {},
   "outputs": [
    {
     "data": {
      "application/vnd.jupyter.widget-view+json": {
       "model_id": "a44f2f2b7b024d46a05e5d254a9dca2a",
       "version_major": 2,
       "version_minor": 0
      },
      "text/plain": [
       "VBox()"
      ]
     },
     "metadata": {},
     "output_type": "display_data"
    },
    {
     "data": {
      "application/vnd.jupyter.widget-view+json": {
       "model_id": "",
       "version_major": 2,
       "version_minor": 0
      },
      "text/plain": [
       "FloatProgress(value=0.0, bar_style='info', description='Progress:', layout=Layout(height='25px', width='50%'),…"
      ]
     },
     "metadata": {},
     "output_type": "display_data"
    }
   ],
   "source": [
    "SNOWFLAKE_SOURCE_NAME = \"net.snowflake.spark.snowflake\"\n",
    "\n",
    "sfOptions = {\n",
    "  'sfURL' : 'powerreviews.snowflakecomputing.com',\n",
    "  'sfAccount' : 'powerreviews',\n",
    "  'sfUser' : username,\n",
    "  'sfPassword' : password,\n",
    "  'sfDatabase' : 'ANALYTICS_WORKSHOP',\n",
    "  'sfSchema' : 'DATA_SCIENCE',\n",
    "  'sfWarehouse' : 'LOWER_ENV_WAREHOUSE'\n",
    "}"
   ]
  },
  {
   "cell_type": "code",
   "execution_count": 27,
   "metadata": {},
   "outputs": [
    {
     "data": {
      "application/vnd.jupyter.widget-view+json": {
       "model_id": "5597e382df9a461db571a523fbfd1140",
       "version_major": 2,
       "version_minor": 0
      },
      "text/plain": [
       "VBox()"
      ]
     },
     "metadata": {},
     "output_type": "display_data"
    },
    {
     "data": {
      "application/vnd.jupyter.widget-view+json": {
       "model_id": "",
       "version_major": 2,
       "version_minor": 0
      },
      "text/plain": [
       "FloatProgress(value=0.0, bar_style='info', description='Progress:', layout=Layout(height='25px', width='50%'),…"
      ]
     },
     "metadata": {},
     "output_type": "display_data"
    }
   ],
   "source": [
    "#Turn into spark dataframe in order to write to Snowflake\n",
    "#Couldn't get write_pandas() to work to write directly from pandas to Snowflake\n",
    "FN = spark.createDataFrame(FN, schema=mySchema)"
   ]
  },
  {
   "cell_type": "code",
   "execution_count": 28,
   "metadata": {},
   "outputs": [
    {
     "data": {
      "application/vnd.jupyter.widget-view+json": {
       "model_id": "2b08d1f138684ca09a5f328e150630d5",
       "version_major": 2,
       "version_minor": 0
      },
      "text/plain": [
       "VBox()"
      ]
     },
     "metadata": {},
     "output_type": "display_data"
    },
    {
     "data": {
      "application/vnd.jupyter.widget-view+json": {
       "model_id": "",
       "version_major": 2,
       "version_minor": 0
      },
      "text/plain": [
       "FloatProgress(value=0.0, bar_style='info', description='Progress:', layout=Layout(height='25px', width='50%'),…"
      ]
     },
     "metadata": {},
     "output_type": "display_data"
    }
   ],
   "source": [
    "FN.write.format(SNOWFLAKE_SOURCE_NAME).options(**sfOptions) \\\n",
    "    .option(\"dbtable\",\"CR_FN_test3\").mode(\"append\").save()\n"
   ]
  },
  {
   "cell_type": "code",
   "execution_count": null,
   "metadata": {},
   "outputs": [],
   "source": []
  },
  {
   "cell_type": "code",
   "execution_count": null,
   "metadata": {},
   "outputs": [],
   "source": []
  },
  {
   "cell_type": "code",
   "execution_count": null,
   "metadata": {},
   "outputs": [],
   "source": []
  },
  {
   "cell_type": "code",
   "execution_count": null,
   "metadata": {},
   "outputs": [],
   "source": []
  },
  {
   "cell_type": "code",
   "execution_count": 109,
   "metadata": {},
   "outputs": [
    {
     "data": {
      "application/vnd.jupyter.widget-view+json": {
       "model_id": "93f0f332017b42a4a6ef56a59b58a396",
       "version_major": 2,
       "version_minor": 0
      },
      "text/plain": [
       "VBox()"
      ]
     },
     "metadata": {},
     "output_type": "display_data"
    },
    {
     "data": {
      "application/vnd.jupyter.widget-view+json": {
       "model_id": "",
       "version_major": 2,
       "version_minor": 0
      },
      "text/plain": [
       "FloatProgress(value=0.0, bar_style='info', description='Progress:', layout=Layout(height='25px', width='50%'),…"
      ]
     },
     "metadata": {},
     "output_type": "display_data"
    },
    {
     "name": "stdout",
     "output_type": "stream",
     "text": [
      "<snowflake.connector.cursor.SnowflakeCursor object at 0x7f19fab41fd0>"
     ]
    }
   ],
   "source": [
    "conn.cursor().execute(\"drop table if exists ANALYTICS_WORKSHOP.DATA_SCIENCE.TST_FP_TEST3\")\n",
    "conn.cursor().execute(\"drop table if exists ANALYTICS_WORKSHOP.DATA_SCIENCE.TST_FN_TEST3\")\n",
    "#conn.cursor().execute(\"drop table if exists ANALYTICS_WORKSHOP.DATA_SCIENCE.TEST_NLP_SPARK6\")\n",
    "#conn.cursor().execute(\"drop table if exists ANALYTICS_WORKSHOP.DATA_SCIENCE.TEST_NLP_SWAP_TOKENS\")"
   ]
  }
 ],
 "metadata": {
  "kernelspec": {
   "display_name": "PySpark",
   "language": "",
   "name": "pysparkkernel"
  },
  "language_info": {
   "codemirror_mode": {
    "name": "python",
    "version": 2
   },
   "mimetype": "text/x-python",
   "name": "pyspark",
   "pygments_lexer": "python2"
  }
 },
 "nbformat": 4,
 "nbformat_minor": 4
}
