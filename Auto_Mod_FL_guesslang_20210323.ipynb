{
 "cells": [
  {
   "cell_type": "code",
   "execution_count": 1,
   "metadata": {},
   "outputs": [
    {
     "data": {
      "application/vnd.jupyter.widget-view+json": {
       "model_id": "97891eaf3ab94da0a45fc45ba9c3f153",
       "version_major": 2,
       "version_minor": 0
      },
      "text/plain": [
       "VBox()"
      ]
     },
     "metadata": {},
     "output_type": "display_data"
    },
    {
     "name": "stdout",
     "output_type": "stream",
     "text": [
      "Starting Spark application\n"
     ]
    },
    {
     "data": {
      "text/html": [
       "<table>\n",
       "<tr><th>ID</th><th>YARN Application ID</th><th>Kind</th><th>State</th><th>Spark UI</th><th>Driver log</th><th>Current session?</th></tr><tr><td>6</td><td>application_1616504514575_0007</td><td>pyspark</td><td>idle</td><td><a target=\"_blank\" href=\"http://ip-10-101-212-53.us-west-2.compute.internal:20888/proxy/application_1616504514575_0007/\">Link</a></td><td><a target=\"_blank\" href=\"http://ip-10-101-212-53.us-west-2.compute.internal:8042/node/containerlogs/container_1616504514575_0007_01_000001/livy\">Link</a></td><td>✔</td></tr></table>"
      ],
      "text/plain": [
       "<IPython.core.display.HTML object>"
      ]
     },
     "metadata": {},
     "output_type": "display_data"
    },
    {
     "data": {
      "application/vnd.jupyter.widget-view+json": {
       "model_id": "",
       "version_major": 2,
       "version_minor": 0
      },
      "text/plain": [
       "FloatProgress(value=0.0, bar_style='info', description='Progress:', layout=Layout(height='25px', width='50%'),…"
      ]
     },
     "metadata": {},
     "output_type": "display_data"
    },
    {
     "name": "stdout",
     "output_type": "stream",
     "text": [
      "SparkSession available as 'spark'.\n"
     ]
    },
    {
     "data": {
      "application/vnd.jupyter.widget-view+json": {
       "model_id": "",
       "version_major": 2,
       "version_minor": 0
      },
      "text/plain": [
       "FloatProgress(value=0.0, bar_style='info', description='Progress:', layout=Layout(height='25px', width='50%'),…"
      ]
     },
     "metadata": {},
     "output_type": "display_data"
    }
   ],
   "source": [
    "#Import packages\n",
    "import boto3\n",
    "import json\n",
    "import numpy as np\n",
    "from numpy import argmax\n",
    "import pyspark.sql.functions as F\n",
    "import snowflake.connector\n",
    "import pandas as pd\n",
    "import spacy\n",
    "import matplotlib.pyplot as plt\n",
    "from vaderSentiment.vaderSentiment import SentimentIntensityAnalyzer\n",
    "from urllib.parse import urlparse\n",
    "from langdetect import detect\n",
    "from textblob import TextBlob\n",
    "#RegEx\n",
    "import regex as re"
   ]
  },
  {
   "cell_type": "code",
   "execution_count": 2,
   "metadata": {},
   "outputs": [
    {
     "data": {
      "application/vnd.jupyter.widget-view+json": {
       "model_id": "4fe742ee94bd46e6990b37e805feb123",
       "version_major": 2,
       "version_minor": 0
      },
      "text/plain": [
       "VBox()"
      ]
     },
     "metadata": {},
     "output_type": "display_data"
    },
    {
     "data": {
      "application/vnd.jupyter.widget-view+json": {
       "model_id": "",
       "version_major": 2,
       "version_minor": 0
      },
      "text/plain": [
       "FloatProgress(value=0.0, bar_style='info', description='Progress:', layout=Layout(height='25px', width='50%'),…"
      ]
     },
     "metadata": {},
     "output_type": "display_data"
    }
   ],
   "source": [
    "sm_client = boto3.client('secretsmanager',region_name='us-west-2')\n",
    "secret_value = sm_client.get_secret_value(SecretId = 'emr_spark_qa')\n",
    "username = json.loads(secret_value['SecretString'])['emr_spark_username']\n",
    "password = json.loads(secret_value['SecretString'])['emr_spark_password']\n",
    "#print(username)\n",
    "#print(password)"
   ]
  },
  {
   "cell_type": "code",
   "execution_count": 3,
   "metadata": {},
   "outputs": [
    {
     "data": {
      "application/vnd.jupyter.widget-view+json": {
       "model_id": "54646d966e044fe1b1fe811ff51414a1",
       "version_major": 2,
       "version_minor": 0
      },
      "text/plain": [
       "VBox()"
      ]
     },
     "metadata": {},
     "output_type": "display_data"
    },
    {
     "data": {
      "application/vnd.jupyter.widget-view+json": {
       "model_id": "",
       "version_major": 2,
       "version_minor": 0
      },
      "text/plain": [
       "FloatProgress(value=0.0, bar_style='info', description='Progress:', layout=Layout(height='25px', width='50%'),…"
      ]
     },
     "metadata": {},
     "output_type": "display_data"
    }
   ],
   "source": [
    "#PYTHON connection info\n",
    "conn = snowflake.connector.connect(\n",
    "    account='powerreviews',\n",
    "    database='analytics_prod',\n",
    "    warehouse='LOWER_ENV_WAREHOUSE',\n",
    "    user=username,\n",
    "    password=password\n",
    "    )\n"
   ]
  },
  {
   "cell_type": "code",
   "execution_count": 4,
   "metadata": {},
   "outputs": [
    {
     "data": {
      "application/vnd.jupyter.widget-view+json": {
       "model_id": "55ff76edfd0d4c43a495f138d0748621",
       "version_major": 2,
       "version_minor": 0
      },
      "text/plain": [
       "VBox()"
      ]
     },
     "metadata": {},
     "output_type": "display_data"
    },
    {
     "data": {
      "application/vnd.jupyter.widget-view+json": {
       "model_id": "",
       "version_major": 2,
       "version_minor": 0
      },
      "text/plain": [
       "FloatProgress(value=0.0, bar_style='info', description='Progress:', layout=Layout(height='25px', width='50%'),…"
      ]
     },
     "metadata": {},
     "output_type": "display_data"
    }
   ],
   "source": [
    "#Query some reviews\n",
    "query_1 = \"select distinct r.ugc_id, r.review_headline, r.review_comments, substr(r.locale,1,2) as lang, r.review_length, \\\n",
    "case when contains(r.observations, 'FL')  then 1 else 0 end as FL \\\n",
    "from analytics.review as r \\\n",
    "join analytics.merchant_group as mg \\\n",
    "on r.client_id = mg.client_id \\\n",
    "where contains(r.observations, 'PM') \\\n",
    "and not contains(r.observations, 'IA') and not contains(r.observations, 'IR') \\\n",
    "and mg.usage_type != 'Test' \\\n",
    "and r.created_date > '2020-01-01' \\\n",
    "limit 100000 \\\n",
    "\"\n",
    "\n",
    "#193267606, 324912854\n",
    "#and r.created_date > '2020-01-01' \\"
   ]
  },
  {
   "cell_type": "code",
   "execution_count": 5,
   "metadata": {},
   "outputs": [
    {
     "data": {
      "application/vnd.jupyter.widget-view+json": {
       "model_id": "101552a5d0f24587a8d804e3ed3be5a3",
       "version_major": 2,
       "version_minor": 0
      },
      "text/plain": [
       "VBox()"
      ]
     },
     "metadata": {},
     "output_type": "display_data"
    },
    {
     "data": {
      "application/vnd.jupyter.widget-view+json": {
       "model_id": "",
       "version_major": 2,
       "version_minor": 0
      },
      "text/plain": [
       "FloatProgress(value=0.0, bar_style='info', description='Progress:', layout=Layout(height='25px', width='50%'),…"
      ]
     },
     "metadata": {},
     "output_type": "display_data"
    },
    {
     "name": "stdout",
     "output_type": "stream",
     "text": [
      "<class 'pandas.core.frame.DataFrame'>\n",
      "RangeIndex: 100000 entries, 0 to 99999\n",
      "Data columns (total 6 columns):\n",
      " #   Column           Non-Null Count   Dtype  \n",
      "---  ------           --------------   -----  \n",
      " 0   UGC_ID           100000 non-null  int64  \n",
      " 1   REVIEW_HEADLINE  99999 non-null   object \n",
      " 2   REVIEW_COMMENTS  99484 non-null   object \n",
      " 3   LANG             100000 non-null  object \n",
      " 4   REVIEW_LENGTH    99484 non-null   float64\n",
      " 5   FL               100000 non-null  int64  \n",
      "dtypes: float64(1), int64(2), object(3)\n",
      "memory usage: 4.6+ MB"
     ]
    }
   ],
   "source": [
    "reviews = pd.read_sql(query_1, conn)\n",
    "reviews.head()\n",
    "reviews.info()\n"
   ]
  },
  {
   "cell_type": "code",
   "execution_count": 6,
   "metadata": {},
   "outputs": [
    {
     "data": {
      "application/vnd.jupyter.widget-view+json": {
       "model_id": "e0a01bad16b94ce5a23fe799f55fd1db",
       "version_major": 2,
       "version_minor": 0
      },
      "text/plain": [
       "VBox()"
      ]
     },
     "metadata": {},
     "output_type": "display_data"
    },
    {
     "data": {
      "application/vnd.jupyter.widget-view+json": {
       "model_id": "",
       "version_major": 2,
       "version_minor": 0
      },
      "text/plain": [
       "FloatProgress(value=0.0, bar_style='info', description='Progress:', layout=Layout(height='25px', width='50%'),…"
      ]
     },
     "metadata": {},
     "output_type": "display_data"
    }
   ],
   "source": [
    "#Need to add \"word\" in front bc otherwise reviews with just emojis, symbols, #s, etc will not work in langdetect package\n",
    "#Throws this error if no words: \"langdetect.lang_detect_exception.LangDetectException: No features in text.\"\n",
    "reviews['ALL_TEXT'] = reviews['REVIEW_HEADLINE'] + ' ' + reviews['REVIEW_COMMENTS']"
   ]
  },
  {
   "cell_type": "code",
   "execution_count": 55,
   "metadata": {},
   "outputs": [
    {
     "data": {
      "application/vnd.jupyter.widget-view+json": {
       "model_id": "dc9195280aba4343a703a2bef20b8809",
       "version_major": 2,
       "version_minor": 0
      },
      "text/plain": [
       "VBox()"
      ]
     },
     "metadata": {},
     "output_type": "display_data"
    },
    {
     "data": {
      "application/vnd.jupyter.widget-view+json": {
       "model_id": "",
       "version_major": 2,
       "version_minor": 0
      },
      "text/plain": [
       "FloatProgress(value=0.0, bar_style='info', description='Progress:', layout=Layout(height='25px', width='50%'),…"
      ]
     },
     "metadata": {},
     "output_type": "display_data"
    }
   ],
   "source": [
    "def onlywords(text):\n",
    "    return re.sub(r'[^\\w]', ' ', text) \n",
    "\n",
    "\n",
    "reviews['ALL_TEXT']=reviews['ALL_TEXT'].apply(str)\n",
    "reviews['ALL_TEXT_2'] = reviews['ALL_TEXT'].apply(onlywords)"
   ]
  },
  {
   "cell_type": "code",
   "execution_count": 56,
   "metadata": {},
   "outputs": [
    {
     "data": {
      "application/vnd.jupyter.widget-view+json": {
       "model_id": "086b09da4c434ba599e236636fdf636f",
       "version_major": 2,
       "version_minor": 0
      },
      "text/plain": [
       "VBox()"
      ]
     },
     "metadata": {},
     "output_type": "display_data"
    },
    {
     "data": {
      "application/vnd.jupyter.widget-view+json": {
       "model_id": "",
       "version_major": 2,
       "version_minor": 0
      },
      "text/plain": [
       "FloatProgress(value=0.0, bar_style='info', description='Progress:', layout=Layout(height='25px', width='50%'),…"
      ]
     },
     "metadata": {},
     "output_type": "display_data"
    }
   ],
   "source": [
    "\n",
    "\n",
    "from guess_language import guess_language\n",
    "#guess_language(\"Ces eaux regorgent de renégats et de voleurs.\")\n",
    "\n",
    "#Need separate thing if less than ~20 characters\n",
    "#https://pypi.org/project/guess_language-spirit/\n",
    "#Need PyEnchant (spell checker with dictionaries) - not sure how to use this for detecting langs\n",
    "#and how many dictionaries needed bc we support LOTS of different languages\n",
    "\n",
    "#guess_language(\"good good good good good\")\n",
    "reviews['ALL_TEXT_2']=reviews['ALL_TEXT_2'].apply(str)\n",
    "reviews['PRED_LANG'] = reviews['ALL_TEXT_2'].apply(guess_language)\n"
   ]
  },
  {
   "cell_type": "code",
   "execution_count": 113,
   "metadata": {},
   "outputs": [
    {
     "data": {
      "application/vnd.jupyter.widget-view+json": {
       "model_id": "890f8f9110384db9a611895d7661ac5b",
       "version_major": 2,
       "version_minor": 0
      },
      "text/plain": [
       "VBox()"
      ]
     },
     "metadata": {},
     "output_type": "display_data"
    },
    {
     "data": {
      "application/vnd.jupyter.widget-view+json": {
       "model_id": "",
       "version_major": 2,
       "version_minor": 0
      },
      "text/plain": [
       "FloatProgress(value=0.0, bar_style='info', description='Progress:', layout=Layout(height='25px', width='50%'),…"
      ]
     },
     "metadata": {},
     "output_type": "display_data"
    }
   ],
   "source": [
    "#Check if 1st and 2nd words are in English dictionary set\n",
    "reviews['FIRST_WORD'] = reviews['ALL_TEXT_2'].str.split(' ').str[0]\n",
    "reviews['FIRST_WORD'] = reviews['FIRST_WORD'].str.lower()\n",
    "reviews['SECOND_WORD'] = reviews['ALL_TEXT_2'].str.split(' ').str[1]\n",
    "reviews['SECOND_WORD'] = reviews['SECOND_WORD'].str.lower()\n"
   ]
  },
  {
   "cell_type": "code",
   "execution_count": 114,
   "metadata": {},
   "outputs": [
    {
     "data": {
      "application/vnd.jupyter.widget-view+json": {
       "model_id": "c37824afee4a449db36b51c0423780a0",
       "version_major": 2,
       "version_minor": 0
      },
      "text/plain": [
       "VBox()"
      ]
     },
     "metadata": {},
     "output_type": "display_data"
    },
    {
     "data": {
      "application/vnd.jupyter.widget-view+json": {
       "model_id": "",
       "version_major": 2,
       "version_minor": 0
      },
      "text/plain": [
       "FloatProgress(value=0.0, bar_style='info', description='Progress:', layout=Layout(height='25px', width='50%'),…"
      ]
     },
     "metadata": {},
     "output_type": "display_data"
    },
    {
     "name": "stdout",
     "output_type": "stream",
     "text": [
      "<class 'pandas.core.frame.DataFrame'>\n",
      "RangeIndex: 100000 entries, 0 to 99999\n",
      "Data columns (total 15 columns):\n",
      " #   Column           Non-Null Count   Dtype  \n",
      "---  ------           --------------   -----  \n",
      " 0   UGC_ID           100000 non-null  int64  \n",
      " 1   REVIEW_HEADLINE  99999 non-null   object \n",
      " 2   REVIEW_COMMENTS  99484 non-null   object \n",
      " 3   LANG             100000 non-null  object \n",
      " 4   REVIEW_LENGTH    99484 non-null   float64\n",
      " 5   FL               100000 non-null  int64  \n",
      " 6   ALL_TEXT         100000 non-null  object \n",
      " 7   PRED_LANG        100000 non-null  object \n",
      " 8   FIRST_WORD       100000 non-null  object \n",
      " 9   SECOND_WORD      99483 non-null   object \n",
      " 10  nltk_test        100000 non-null  bool   \n",
      " 11  secondword_eng   100000 non-null  bool   \n",
      " 12  firstword_eng    100000 non-null  bool   \n",
      " 13  ALL_TEXT_2       100000 non-null  object \n",
      " 14  model_FL         100000 non-null  int64  \n",
      "dtypes: bool(3), float64(1), int64(3), object(8)\n",
      "memory usage: 9.4+ MB"
     ]
    }
   ],
   "source": [
    "reviews.info()"
   ]
  },
  {
   "cell_type": "code",
   "execution_count": 115,
   "metadata": {},
   "outputs": [
    {
     "data": {
      "application/vnd.jupyter.widget-view+json": {
       "model_id": "ee3f78d9cbb243d8a1f2bfbc8651a74d",
       "version_major": 2,
       "version_minor": 0
      },
      "text/plain": [
       "VBox()"
      ]
     },
     "metadata": {},
     "output_type": "display_data"
    },
    {
     "data": {
      "application/vnd.jupyter.widget-view+json": {
       "model_id": "",
       "version_major": 2,
       "version_minor": 0
      },
      "text/plain": [
       "FloatProgress(value=0.0, bar_style='info', description='Progress:', layout=Layout(height='25px', width='50%'),…"
      ]
     },
     "metadata": {},
     "output_type": "display_data"
    }
   ],
   "source": [
    "from nltk.corpus import words\n",
    "wordlist = words.words()\n",
    "#reviews['FIRST_WORD']=reviews['FIRST_WORD'].apply(str)\n",
    "reviews['nltk_test'] = reviews['FIRST_WORD'].isin(wordlist)"
   ]
  },
  {
   "cell_type": "code",
   "execution_count": null,
   "metadata": {},
   "outputs": [],
   "source": []
  },
  {
   "cell_type": "code",
   "execution_count": null,
   "metadata": {},
   "outputs": [],
   "source": []
  },
  {
   "cell_type": "code",
   "execution_count": 116,
   "metadata": {},
   "outputs": [
    {
     "data": {
      "application/vnd.jupyter.widget-view+json": {
       "model_id": "3008c493a2ee4c7cab102445e358dd6d",
       "version_major": 2,
       "version_minor": 0
      },
      "text/plain": [
       "VBox()"
      ]
     },
     "metadata": {},
     "output_type": "display_data"
    },
    {
     "data": {
      "application/vnd.jupyter.widget-view+json": {
       "model_id": "",
       "version_major": 2,
       "version_minor": 0
      },
      "text/plain": [
       "FloatProgress(value=0.0, bar_style='info', description='Progress:', layout=Layout(height='25px', width='50%'),…"
      ]
     },
     "metadata": {},
     "output_type": "display_data"
    }
   ],
   "source": [
    "import boto3\n",
    " \n",
    "s3client = boto3.client('s3', region_name='us-west-2')\n",
    " \n",
    "# These define the bucket and object to read\n",
    "bucketname = 'pwr-analytics-emr' \n",
    "file_to_read = 'english_word_list.txt'\n",
    "\n",
    "#Create a file object using the bucket and object key. \n",
    "fileobj = s3client.get_object(Bucket=bucketname, Key=file_to_read) \n",
    "# open the file object and read it into the variable filedata. \n",
    "filedata = fileobj['Body'].read()\n",
    "\n",
    "# file data will be a binary stream.  We have to decode it \n",
    "eng_word_list = filedata.decode('utf-8') \n",
    "\n",
    "# Once decoded, you can treat the file as plain text if appropriate \n",
    "#print(contents)"
   ]
  },
  {
   "cell_type": "code",
   "execution_count": 117,
   "metadata": {},
   "outputs": [
    {
     "data": {
      "application/vnd.jupyter.widget-view+json": {
       "model_id": "7d728cac867f4662b237bef409c41ffb",
       "version_major": 2,
       "version_minor": 0
      },
      "text/plain": [
       "VBox()"
      ]
     },
     "metadata": {},
     "output_type": "display_data"
    },
    {
     "data": {
      "application/vnd.jupyter.widget-view+json": {
       "model_id": "",
       "version_major": 2,
       "version_minor": 0
      },
      "text/plain": [
       "FloatProgress(value=0.0, bar_style='info', description='Progress:', layout=Layout(height='25px', width='50%'),…"
      ]
     },
     "metadata": {},
     "output_type": "display_data"
    },
    {
     "name": "stdout",
     "output_type": "stream",
     "text": [
      "<class 'str'>"
     ]
    }
   ],
   "source": [
    "type(eng_word_list)\n"
   ]
  },
  {
   "cell_type": "code",
   "execution_count": 118,
   "metadata": {},
   "outputs": [
    {
     "data": {
      "application/vnd.jupyter.widget-view+json": {
       "model_id": "43c3af958c97472f8b81cd471eabbbf9",
       "version_major": 2,
       "version_minor": 0
      },
      "text/plain": [
       "VBox()"
      ]
     },
     "metadata": {},
     "output_type": "display_data"
    },
    {
     "data": {
      "application/vnd.jupyter.widget-view+json": {
       "model_id": "",
       "version_major": 2,
       "version_minor": 0
      },
      "text/plain": [
       "FloatProgress(value=0.0, bar_style='info', description='Progress:', layout=Layout(height='25px', width='50%'),…"
      ]
     },
     "metadata": {},
     "output_type": "display_data"
    },
    {
     "name": "stdout",
     "output_type": "stream",
     "text": [
      "4862992"
     ]
    }
   ],
   "source": [
    "len(eng_word_list)\n"
   ]
  },
  {
   "cell_type": "code",
   "execution_count": 119,
   "metadata": {},
   "outputs": [
    {
     "data": {
      "application/vnd.jupyter.widget-view+json": {
       "model_id": "e2cdc333febd4e4f8fd0fd52f7e83d4b",
       "version_major": 2,
       "version_minor": 0
      },
      "text/plain": [
       "VBox()"
      ]
     },
     "metadata": {},
     "output_type": "display_data"
    },
    {
     "data": {
      "application/vnd.jupyter.widget-view+json": {
       "model_id": "",
       "version_major": 2,
       "version_minor": 0
      },
      "text/plain": [
       "FloatProgress(value=0.0, bar_style='info', description='Progress:', layout=Layout(height='25px', width='50%'),…"
      ]
     },
     "metadata": {},
     "output_type": "display_data"
    }
   ],
   "source": [
    "reviews['firstword_eng'] = reviews['FIRST_WORD'].apply(lambda x : True if type(x) == str and x.isalpha() and x in eng_word_list else False)\n",
    "reviews['secondword_eng'] = reviews['SECOND_WORD'].apply(lambda x : True if type(x) == str and x.isalpha() and x in eng_word_list else False)\n"
   ]
  },
  {
   "cell_type": "code",
   "execution_count": 120,
   "metadata": {},
   "outputs": [
    {
     "data": {
      "application/vnd.jupyter.widget-view+json": {
       "model_id": "27747d0551474de2b6a8a89d2121bc1d",
       "version_major": 2,
       "version_minor": 0
      },
      "text/plain": [
       "VBox()"
      ]
     },
     "metadata": {},
     "output_type": "display_data"
    },
    {
     "data": {
      "application/vnd.jupyter.widget-view+json": {
       "model_id": "",
       "version_major": 2,
       "version_minor": 0
      },
      "text/plain": [
       "FloatProgress(value=0.0, bar_style='info', description='Progress:', layout=Layout(height='25px', width='50%'),…"
      ]
     },
     "metadata": {},
     "output_type": "display_data"
    },
    {
     "name": "stdout",
     "output_type": "stream",
     "text": [
      "<class 'pandas.core.frame.DataFrame'>\n",
      "RangeIndex: 100000 entries, 0 to 99999\n",
      "Data columns (total 15 columns):\n",
      " #   Column           Non-Null Count   Dtype  \n",
      "---  ------           --------------   -----  \n",
      " 0   UGC_ID           100000 non-null  int64  \n",
      " 1   REVIEW_HEADLINE  99999 non-null   object \n",
      " 2   REVIEW_COMMENTS  99484 non-null   object \n",
      " 3   LANG             100000 non-null  object \n",
      " 4   REVIEW_LENGTH    99484 non-null   float64\n",
      " 5   FL               100000 non-null  int64  \n",
      " 6   ALL_TEXT         100000 non-null  object \n",
      " 7   PRED_LANG        100000 non-null  object \n",
      " 8   FIRST_WORD       100000 non-null  object \n",
      " 9   SECOND_WORD      99483 non-null   object \n",
      " 10  nltk_test        100000 non-null  bool   \n",
      " 11  secondword_eng   100000 non-null  bool   \n",
      " 12  firstword_eng    100000 non-null  bool   \n",
      " 13  ALL_TEXT_2       100000 non-null  object \n",
      " 14  model_FL         100000 non-null  int64  \n",
      "dtypes: bool(3), float64(1), int64(3), object(8)\n",
      "memory usage: 9.4+ MB"
     ]
    }
   ],
   "source": [
    "reviews.info()"
   ]
  },
  {
   "cell_type": "code",
   "execution_count": 121,
   "metadata": {},
   "outputs": [
    {
     "data": {
      "application/vnd.jupyter.widget-view+json": {
       "model_id": "1e63e96eae804ebbb0d106f5703adc0b",
       "version_major": 2,
       "version_minor": 0
      },
      "text/plain": [
       "VBox()"
      ]
     },
     "metadata": {},
     "output_type": "display_data"
    },
    {
     "data": {
      "application/vnd.jupyter.widget-view+json": {
       "model_id": "",
       "version_major": 2,
       "version_minor": 0
      },
      "text/plain": [
       "FloatProgress(value=0.0, bar_style='info', description='Progress:', layout=Layout(height='25px', width='50%'),…"
      ]
     },
     "metadata": {},
     "output_type": "display_data"
    },
    {
     "name": "stdout",
     "output_type": "stream",
     "text": [
      "False"
     ]
    }
   ],
   "source": [
    "\"website\" in eng_word_list\n",
    "\n"
   ]
  },
  {
   "cell_type": "code",
   "execution_count": 159,
   "metadata": {},
   "outputs": [
    {
     "data": {
      "application/vnd.jupyter.widget-view+json": {
       "model_id": "80437494d1624f92a5af7c13341be61a",
       "version_major": 2,
       "version_minor": 0
      },
      "text/plain": [
       "VBox()"
      ]
     },
     "metadata": {},
     "output_type": "display_data"
    },
    {
     "data": {
      "application/vnd.jupyter.widget-view+json": {
       "model_id": "",
       "version_major": 2,
       "version_minor": 0
      },
      "text/plain": [
       "FloatProgress(value=0.0, bar_style='info', description='Progress:', layout=Layout(height='25px', width='50%'),…"
      ]
     },
     "metadata": {},
     "output_type": "display_data"
    },
    {
     "name": "stdout",
     "output_type": "stream",
     "text": [
      "True"
     ]
    }
   ],
   "source": [
    "\"excelente\" in eng_word_list\n",
    "\n"
   ]
  },
  {
   "cell_type": "code",
   "execution_count": 123,
   "metadata": {},
   "outputs": [
    {
     "data": {
      "application/vnd.jupyter.widget-view+json": {
       "model_id": "1772576715ed4ee5ad78a8e03a8dd8b6",
       "version_major": 2,
       "version_minor": 0
      },
      "text/plain": [
       "VBox()"
      ]
     },
     "metadata": {},
     "output_type": "display_data"
    },
    {
     "data": {
      "application/vnd.jupyter.widget-view+json": {
       "model_id": "",
       "version_major": 2,
       "version_minor": 0
      },
      "text/plain": [
       "FloatProgress(value=0.0, bar_style='info', description='Progress:', layout=Layout(height='25px', width='50%'),…"
      ]
     },
     "metadata": {},
     "output_type": "display_data"
    },
    {
     "name": "stdout",
     "output_type": "stream",
     "text": [
      "       UGC_ID                                               REVIEW_HEADLINE  \\\n",
      "0   310163689  BEAUTIFUL BAG                                                  \n",
      "1   310053706  I love this bag -                                              \n",
      "2   309950435  It was not broken                                              \n",
      "3   310088124  I'll never use another company for my water dispenser needs    \n",
      "4   309938472  Jerky Review                                                   \n",
      "5   309635349  Beef Jerky Sticks Review                                       \n",
      "6   310185959  Jerky Review                                                   \n",
      "7   310336143  Best tea I have had....amazing                                 \n",
      "8   309765207  Great support on my queries about compatible products.         \n",
      "9   310150572  the good shizzles                                              \n",
      "10  320860463  Good so far                                                    \n",
      "11  310235362  Jerky Review                                                   \n",
      "12  310220983  Gorgeous purse!                                                \n",
      "13  309865878  Love it                                                        \n",
      "14  310145351  Jerky Review                                                   \n",
      "15  309474203  Amazing product                                                \n",
      "16  309447438  good                                                           \n",
      "17  309754977  easy transaction.                                              \n",
      "18  309862216  i really appreciated getting recommendations on which kno...   \n",
      "19  310019382  Shockingly amazing                                             \n",
      "20  310050165  Amazing                                                        \n",
      "21  310237863  True match                                                     \n",
      "22  310091198  .                                                              \n",
      "23  310021948  Must buy                                                       \n",
      "24  310248876  YUH                                                            \n",
      "\n",
      "                                                                                                                                                                                                                                                                                                                                                                                                                                                                                                                                                                                                                                                                                                 REVIEW_COMMENTS  \\\n",
      "0   THIS BAG IS BEAUTIFUL EXCEPT IT HAS ONE FLAW.  FOR A BAG THIS SIZE AND THIS HEAVY, IT SHOULD DEFINITELY HAVE A WIDER SHOULDER STRAP.  I CAN SEE THE STRAP GETTING WORN WAY BEFORE THE BAG.  THE STRAP IT HAS IS TOO THIN FOR A BAG OF THIS SIZE AND WEIGHT.  YOU SHOULD UPDATE IT WITH A WIDER STRAP. OTHERWISE, IT IS LOVELY.                                                                                                                                                                                                                                                                                                                                                                                 \n",
      "1   I have a multi-colored Kate Spade bag that has seen better days (although it must be 20 years old) and decided to order the Zip Zip Satchel in French Blue to replace it.  This is the perfect size bag and the color is beautiful. I used it the other day with jeans and a lime green top and it looked fabulous but I know it will really add a beautiful pop of color when wearing black and white.  I will definitely order this bag in other colors because as I said it is the perfect size, I love the red lining and all the pockets inside as well as the exceptional quality.                                                                                                                       \n",
      "2   I have been running in the Altra Provisions for a long time, maybe the 1.5 model. I still have the I run 6 half marathons a year and have done them in different Provision models. The current model causes knee pain with  in the first 6 miles of a run and are not that comfortable and they lasted less than 200 miles. The old versions I never had an issue with and have model 2.0, wear them around town as I have retired them from running. The old versions were not broken, so please bring them back. I need the stability and the miles per shoe. It was not broken so don't fix it. try asking your customers what they would like to see changed, not just a few of your running/racing team   \n",
      "3   This is an AWESOME company. Their products are very high quality and their customer service department is top notch, polite and knowledgeable. Thank you for the great experience.                                                                                                                                                                                                                                                                                                                                                                                                                                                                                                                             \n",
      "4   This is my first time trying Archer jerky and it definitely won't be the last!  I tried the Original flavor and it was perfectly seasoned, (not too salty or peppery like some can be) with a touch of sweetness.  The jerky was fresh and easy to eat and the quality reusable package kept the remainder jerky good and fresh for later too.  I esp love that this is 100% Grass Fed quality ingredients!  Such a tasty, healthy grab and go snack!  Highly recommend!                                                                                                                                                                                                                                       \n",
      "5   I received the Beef Jerry sticks by country archer for free in exchange for my free & honest review. I was really surprised with how much I loved these from the smell to the taste there wasn't one thing I didn't like. I can't wait to get more #trynatural products.                                                                                                                                                                                                                                                                                                                                                                                                                                       \n",
      "6   Very good brand but not much flavor for my liking and without a coupon beef jerky is just super expensive for limited servings. Add more servings and call it good.                                                                                                                                                                                                                                                                                                                                                                                                                                                                                                                                            \n",
      "7   I drink a cup every night...                                                                                                                                                                                                                                                                                                                                                                                                                                                                                                                                                                                                                                                                                   \n",
      "8   Great support on my queries about compatible products.                                                                                                                                                                                                                                                                                                                                                                                                                                                                                                                                                                                                                                                         \n",
      "9   For the price you can't beat it.  Super smooth, feels good in my hand, cant ask for more from a fast action reel like this!                                                                                                                                                                                                                                                                                                                                                                                                                                                                                                                                                                                    \n",
      "10  Good so far.                                                                                                                                                                                                                                                                                                                                                                                                                                                                                                                                                                                                                                                                                                   \n",
      "11  This was the best jerky I've ever had. The ingredients and Flavours are absolutely awesome. Very tasty and easy to eat. Convenient packaging to take anywhere. My whole family approves of this wonderful jerky.                                                                                                                                                                                                                                                                                                                                                                                                                                                                                               \n",
      "12  I love my new Dooney & Bourke Double Pocket Satchel!  I would give it 4 1/2 stars !  It is the perfect medium size for me! The color is elephant. It appears more light brown than grey. Even though the color was not what I was expecting, it is still a beautiful color! The only thing that disappoints is the feel and ease of the zippers. The zippers do not glide easily and have a rough feel when using them though they do seem sturdy and of good quality.                                                                                                                                                                                                                                         \n",
      "13  Love it so much; have 3 colors and just ordered one for my sister!                                                                                                                                                                                                                                                                                                                                                                                                                                                                                                                                                                                                                                             \n",
      "14  I really enjoyed the jerky. The flavor was definitely there. I thought it wouldn't be the greatest, but was blown away by the flavor. Great job and thank you!                                                                                                                                                                                                                                                                                                                                                                                                                                                                                                                                                 \n",
      "15  I used Pennington ultragreen citrus & avocado plant food , it improved the growth of my oranges alot and the leaves were much greener.                                                                                                                                                                                                                                                                                                                                                                                                                                                                                                                                                                         \n",
      "16  good                                                                                                                                                                                                                                                                                                                                                                                                                                                                                                                                                                                                                                                                                                           \n",
      "17  easy transaction...                                                                                                                                                                                                                                                                                                                                                                                                                                                                                                                                                                                                                                                                                            \n",
      "18  i really appreciated getting recommendations on which knobs to order. I felt overwhelmed looking on my own.                                                                                                                                                                                                                                                                                                                                                                                                                                                                                                                                                                                                    \n",
      "19  At first I didn't think it was going to be that good but ohhh my goood it made my lashes look so full and long                                                                                                                                                                                                                                                                                                                                                                                                                                                                                                                                                                                                 \n",
      "20  The L'Oreal Paris Air Volume Mega Mascara is amazing! The brush is very light and this product is so easy to use.                                                                                                                                                                                                                                                                                                                                                                                                                                                                                                                                                                                              \n",
      "21  Muy buena me encanta mucho y va con mi tono de piel                                                                                                                                                                                                                                                                                                                                                                                                                                                                                                                                                                                                                                                            \n",
      "22  .                                                                                                                                                                                                                                                                                                                                                                                                                                                                                                                                                                                                                                                                                                              \n",
      "23  Love it                                                                                                                                                                                                                                                                                                                                                                                                                                                                                                                                                                                                                                                                                                        \n",
      "24  Everything a man could NEED                                                                                                                                                                                                                                                                                                                                                                                                                                                                                                                                                                                                                                                                                    \n",
      "\n",
      "   LANG  REVIEW_LENGTH  FL  \\\n",
      "0   en   318.0          0    \n",
      "1   en   568.0          0    \n",
      "2   en   684.0          0    \n",
      "3   en   178.0          0    \n",
      "4   en   456.0          0    \n",
      "5   en   264.0          0    \n",
      "6   en   163.0          0    \n",
      "7   en   28.0           0    \n",
      "8   en   54.0           0    \n",
      "9   en   123.0          0    \n",
      "10  en   12.0           0    \n",
      "11  en   208.0          0    \n",
      "12  en   454.0          0    \n",
      "13  en   66.0           0    \n",
      "14  en   158.0          0    \n",
      "15  en   134.0          0    \n",
      "16  en   4.0            0    \n",
      "17  en   19.0           0    \n",
      "18  en   107.0          0    \n",
      "19  en   110.0          0    \n",
      "20  en   113.0          0    \n",
      "21  en   51.0           1    \n",
      "22  en   1.0            0    \n",
      "23  en   7.0            0    \n",
      "24  en   27.0           0    \n",
      "\n",
      "                                                                                                                                                                                                                                                                                                                                                                                                                                                                                                                                                                                                                                                                                                                          ALL_TEXT  \\\n",
      "0   BEAUTIFUL BAG THIS BAG IS BEAUTIFUL EXCEPT IT HAS ONE FLAW.  FOR A BAG THIS SIZE AND THIS HEAVY, IT SHOULD DEFINITELY HAVE A WIDER SHOULDER STRAP.  I CAN SEE THE STRAP GETTING WORN WAY BEFORE THE BAG.  THE STRAP IT HAS IS TOO THIN FOR A BAG OF THIS SIZE AND WEIGHT.  YOU SHOULD UPDATE IT WITH A WIDER STRAP. OTHERWISE, IT IS LOVELY.                                                                                                                                                                                                                                                                                                                                                                                     \n",
      "1   I love this bag - I have a multi-colored Kate Spade bag that has seen better days (although it must be 20 years old) and decided to order the Zip Zip Satchel in French Blue to replace it.  This is the perfect size bag and the color is beautiful. I used it the other day with jeans and a lime green top and it looked fabulous but I know it will really add a beautiful pop of color when wearing black and white.  I will definitely order this bag in other colors because as I said it is the perfect size, I love the red lining and all the pockets inside as well as the exceptional quality.                                                                                                                       \n",
      "2   It was not broken I have been running in the Altra Provisions for a long time, maybe the 1.5 model. I still have the I run 6 half marathons a year and have done them in different Provision models. The current model causes knee pain with  in the first 6 miles of a run and are not that comfortable and they lasted less than 200 miles. The old versions I never had an issue with and have model 2.0, wear them around town as I have retired them from running. The old versions were not broken, so please bring them back. I need the stability and the miles per shoe. It was not broken so don't fix it. try asking your customers what they would like to see changed, not just a few of your running/racing team   \n",
      "3   I'll never use another company for my water dispenser needs This is an AWESOME company. Their products are very high quality and their customer service department is top notch, polite and knowledgeable. Thank you for the great experience.                                                                                                                                                                                                                                                                                                                                                                                                                                                                                   \n",
      "4   Jerky Review This is my first time trying Archer jerky and it definitely won't be the last!  I tried the Original flavor and it was perfectly seasoned, (not too salty or peppery like some can be) with a touch of sweetness.  The jerky was fresh and easy to eat and the quality reusable package kept the remainder jerky good and fresh for later too.  I esp love that this is 100% Grass Fed quality ingredients!  Such a tasty, healthy grab and go snack!  Highly recommend!                                                                                                                                                                                                                                            \n",
      "5   Beef Jerky Sticks Review I received the Beef Jerry sticks by country archer for free in exchange for my free & honest review. I was really surprised with how much I loved these from the smell to the taste there wasn't one thing I didn't like. I can't wait to get more #trynatural products.                                                                                                                                                                                                                                                                                                                                                                                                                                \n",
      "6   Jerky Review Very good brand but not much flavor for my liking and without a coupon beef jerky is just super expensive for limited servings. Add more servings and call it good.                                                                                                                                                                                                                                                                                                                                                                                                                                                                                                                                                 \n",
      "7   Best tea I have had....amazing I drink a cup every night...                                                                                                                                                                                                                                                                                                                                                                                                                                                                                                                                                                                                                                                                      \n",
      "8   Great support on my queries about compatible products. Great support on my queries about compatible products.                                                                                                                                                                                                                                                                                                                                                                                                                                                                                                                                                                                                                    \n",
      "9   the good shizzles For the price you can't beat it.  Super smooth, feels good in my hand, cant ask for more from a fast action reel like this!                                                                                                                                                                                                                                                                                                                                                                                                                                                                                                                                                                                    \n",
      "10  Good so far Good so far.                                                                                                                                                                                                                                                                                                                                                                                                                                                                                                                                                                                                                                                                                                         \n",
      "11  Jerky Review This was the best jerky I've ever had. The ingredients and Flavours are absolutely awesome. Very tasty and easy to eat. Convenient packaging to take anywhere. My whole family approves of this wonderful jerky.                                                                                                                                                                                                                                                                                                                                                                                                                                                                                                    \n",
      "12  Gorgeous purse! I love my new Dooney & Bourke Double Pocket Satchel!  I would give it 4 1/2 stars !  It is the perfect medium size for me! The color is elephant. It appears more light brown than grey. Even though the color was not what I was expecting, it is still a beautiful color! The only thing that disappoints is the feel and ease of the zippers. The zippers do not glide easily and have a rough feel when using them though they do seem sturdy and of good quality.                                                                                                                                                                                                                                           \n",
      "13  Love it Love it so much; have 3 colors and just ordered one for my sister!                                                                                                                                                                                                                                                                                                                                                                                                                                                                                                                                                                                                                                                       \n",
      "14  Jerky Review I really enjoyed the jerky. The flavor was definitely there. I thought it wouldn't be the greatest, but was blown away by the flavor. Great job and thank you!                                                                                                                                                                                                                                                                                                                                                                                                                                                                                                                                                      \n",
      "15  Amazing product I used Pennington ultragreen citrus & avocado plant food , it improved the growth of my oranges alot and the leaves were much greener.                                                                                                                                                                                                                                                                                                                                                                                                                                                                                                                                                                           \n",
      "16  good good                                                                                                                                                                                                                                                                                                                                                                                                                                                                                                                                                                                                                                                                                                                        \n",
      "17  easy transaction. easy transaction...                                                                                                                                                                                                                                                                                                                                                                                                                                                                                                                                                                                                                                                                                            \n",
      "18  i really appreciated getting recommendations on which kno... i really appreciated getting recommendations on which knobs to order. I felt overwhelmed looking on my own.                                                                                                                                                                                                                                                                                                                                                                                                                                                                                                                                                         \n",
      "19  Shockingly amazing At first I didn't think it was going to be that good but ohhh my goood it made my lashes look so full and long                                                                                                                                                                                                                                                                                                                                                                                                                                                                                                                                                                                                \n",
      "20  Amazing The L'Oreal Paris Air Volume Mega Mascara is amazing! The brush is very light and this product is so easy to use.                                                                                                                                                                                                                                                                                                                                                                                                                                                                                                                                                                                                        \n",
      "21  True match Muy buena me encanta mucho y va con mi tono de piel                                                                                                                                                                                                                                                                                                                                                                                                                                                                                                                                                                                                                                                                   \n",
      "22  . .                                                                                                                                                                                                                                                                                                                                                                                                                                                                                                                                                                                                                                                                                                                              \n",
      "23  Must buy Love it                                                                                                                                                                                                                                                                                                                                                                                                                                                                                                                                                                                                                                                                                                                 \n",
      "24  YUH Everything a man could NEED                                                                                                                                                                                                                                                                                                                                                                                                                                                                                                                                                                                                                                                                                                  \n",
      "\n",
      "   PRED_LANG  FIRST_WORD  SECOND_WORD  nltk_test  secondword_eng  \\\n",
      "0   en        beautiful   bag          True       True             \n",
      "1   en        i           love         True       True             \n",
      "2   en        it          was          True       True             \n",
      "3   en        i           ll           True       True             \n",
      "4   en        jerky       review       True       True             \n",
      "5   en        beef        jerky        True       True             \n",
      "6   en        jerky       review       True       True             \n",
      "7   en        best        tea          True       True             \n",
      "8   en        great       support      True       True             \n",
      "9   en        the         good         True       True             \n",
      "10  tn        good        so           True       True             \n",
      "11  en        jerky       review       True       True             \n",
      "12  en        gorgeous    purse        True       True             \n",
      "13  en        love        it           True       True             \n",
      "14  en        jerky       review       True       True             \n",
      "15  en        amazing     product      True       True             \n",
      "16  UNKNOWN   good        good         True       True             \n",
      "17  fr        easy        transaction  True       True             \n",
      "18  en        i           really       True       True             \n",
      "19  en        shockingly  amazing      True       True             \n",
      "20  en        amazing     the          True       True             \n",
      "21  es        true        match        True       True             \n",
      "22  UNKNOWN                            False      False            \n",
      "23  UNKNOWN   must        buy          True       True             \n",
      "24  en        yuh         everything   True       True             \n",
      "\n",
      "    firstword_eng  \\\n",
      "0   True            \n",
      "1   True            \n",
      "2   True            \n",
      "3   True            \n",
      "4   True            \n",
      "5   True            \n",
      "6   True            \n",
      "7   True            \n",
      "8   True            \n",
      "9   True            \n",
      "10  True            \n",
      "11  True            \n",
      "12  True            \n",
      "13  True            \n",
      "14  True            \n",
      "15  True            \n",
      "16  True            \n",
      "17  True            \n",
      "18  True            \n",
      "19  True            \n",
      "20  True            \n",
      "21  True            \n",
      "22  False           \n",
      "23  True            \n",
      "24  True            \n",
      "\n",
      "                                                                                                                                                                                                                                                                                                                                                                                                                                                                                                                                                                                                                                                                                                                        ALL_TEXT_2  \\\n",
      "0   BEAUTIFUL BAG THIS BAG IS BEAUTIFUL EXCEPT IT HAS ONE FLAW   FOR A BAG THIS SIZE AND THIS HEAVY  IT SHOULD DEFINITELY HAVE A WIDER SHOULDER STRAP   I CAN SEE THE STRAP GETTING WORN WAY BEFORE THE BAG   THE STRAP IT HAS IS TOO THIN FOR A BAG OF THIS SIZE AND WEIGHT   YOU SHOULD UPDATE IT WITH A WIDER STRAP  OTHERWISE  IT IS LOVELY                                                                                                                                                                                                                                                                                                                                                                                      \n",
      "1   I love this bag   I have a multi colored Kate Spade bag that has seen better days  although it must be 20 years old  and decided to order the Zip Zip Satchel in French Blue to replace it   This is the perfect size bag and the color is beautiful  I used it the other day with jeans and a lime green top and it looked fabulous but I know it will really add a beautiful pop of color when wearing black and white   I will definitely order this bag in other colors because as I said it is the perfect size  I love the red lining and all the pockets inside as well as the exceptional quality                                                                                                                        \n",
      "2   It was not broken I have been running in the Altra Provisions for a long time  maybe the 1 5 model  I still have the I run 6 half marathons a year and have done them in different Provision models  The current model causes knee pain with  in the first 6 miles of a run and are not that comfortable and they lasted less than 200 miles  The old versions I never had an issue with and have model 2 0  wear them around town as I have retired them from running  The old versions were not broken  so please bring them back  I need the stability and the miles per shoe  It was not broken so don t fix it  try asking your customers what they would like to see changed  not just a few of your running racing team   \n",
      "3   I ll never use another company for my water dispenser needs This is an AWESOME company  Their products are very high quality and their customer service department is top notch  polite and knowledgeable  Thank you for the great experience                                                                                                                                                                                                                                                                                                                                                                                                                                                                                    \n",
      "4   Jerky Review This is my first time trying Archer jerky and it definitely won t be the last   I tried the Original flavor and it was perfectly seasoned   not too salty or peppery like some can be  with a touch of sweetness   The jerky was fresh and easy to eat and the quality reusable package kept the remainder jerky good and fresh for later too   I esp love that this is 100  Grass Fed quality ingredients   Such a tasty  healthy grab and go snack   Highly recommend                                                                                                                                                                                                                                             \n",
      "5   Beef Jerky Sticks Review I received the Beef Jerry sticks by country archer for free in exchange for my free   honest review  I was really surprised with how much I loved these from the smell to the taste there wasn t one thing I didn t like  I can t wait to get more  trynatural products                                                                                                                                                                                                                                                                                                                                                                                                                                 \n",
      "6   Jerky Review Very good brand but not much flavor for my liking and without a coupon beef jerky is just super expensive for limited servings  Add more servings and call it good                                                                                                                                                                                                                                                                                                                                                                                                                                                                                                                                                  \n",
      "7   Best tea I have had    amazing I drink a cup every night                                                                                                                                                                                                                                                                                                                                                                                                                                                                                                                                                                                                                                                                         \n",
      "8   Great support on my queries about compatible products  Great support on my queries about compatible products                                                                                                                                                                                                                                                                                                                                                                                                                                                                                                                                                                                                                     \n",
      "9   the good shizzles For the price you can t beat it   Super smooth  feels good in my hand  cant ask for more from a fast action reel like this                                                                                                                                                                                                                                                                                                                                                                                                                                                                                                                                                                                     \n",
      "10  Good so far Good so far                                                                                                                                                                                                                                                                                                                                                                                                                                                                                                                                                                                                                                                                                                          \n",
      "11  Jerky Review This was the best jerky I ve ever had  The ingredients and Flavours are absolutely awesome  Very tasty and easy to eat  Convenient packaging to take anywhere  My whole family approves of this wonderful jerky                                                                                                                                                                                                                                                                                                                                                                                                                                                                                                     \n",
      "12  Gorgeous purse  I love my new Dooney   Bourke Double Pocket Satchel   I would give it 4 1 2 stars    It is the perfect medium size for me  The color is elephant  It appears more light brown than grey  Even though the color was not what I was expecting  it is still a beautiful color  The only thing that disappoints is the feel and ease of the zippers  The zippers do not glide easily and have a rough feel when using them though they do seem sturdy and of good quality                                                                                                                                                                                                                                            \n",
      "13  Love it Love it so much  have 3 colors and just ordered one for my sister                                                                                                                                                                                                                                                                                                                                                                                                                                                                                                                                                                                                                                                        \n",
      "14  Jerky Review I really enjoyed the jerky  The flavor was definitely there  I thought it wouldn t be the greatest  but was blown away by the flavor  Great job and thank you                                                                                                                                                                                                                                                                                                                                                                                                                                                                                                                                                       \n",
      "15  Amazing product I used Pennington ultragreen citrus   avocado plant food   it improved the growth of my oranges alot and the leaves were much greener                                                                                                                                                                                                                                                                                                                                                                                                                                                                                                                                                                            \n",
      "16  good good                                                                                                                                                                                                                                                                                                                                                                                                                                                                                                                                                                                                                                                                                                                        \n",
      "17  easy transaction  easy transaction                                                                                                                                                                                                                                                                                                                                                                                                                                                                                                                                                                                                                                                                                               \n",
      "18  i really appreciated getting recommendations on which kno    i really appreciated getting recommendations on which knobs to order  I felt overwhelmed looking on my own                                                                                                                                                                                                                                                                                                                                                                                                                                                                                                                                                          \n",
      "19  Shockingly amazing At first I didn t think it was going to be that good but ohhh my goood it made my lashes look so full and long                                                                                                                                                                                                                                                                                                                                                                                                                                                                                                                                                                                                \n",
      "20  Amazing The L Oreal Paris Air Volume Mega Mascara is amazing  The brush is very light and this product is so easy to use                                                                                                                                                                                                                                                                                                                                                                                                                                                                                                                                                                                                         \n",
      "21  True match Muy buena me encanta mucho y va con mi tono de piel                                                                                                                                                                                                                                                                                                                                                                                                                                                                                                                                                                                                                                                                   \n",
      "22                                                                                                                                                                                                                                                                                                                                                                                                                                                                                                                                                                                                                                                                                                                                   \n",
      "23  Must buy Love it                                                                                                                                                                                                                                                                                                                                                                                                                                                                                                                                                                                                                                                                                                                 \n",
      "24  YUH Everything a man could NEED                                                                                                                                                                                                                                                                                                                                                                                                                                                                                                                                                                                                                                                                                                  \n",
      "\n",
      "    model_FL  \n",
      "0   0         \n",
      "1   0         \n",
      "2   0         \n",
      "3   0         \n",
      "4   0         \n",
      "5   0         \n",
      "6   0         \n",
      "7   0         \n",
      "8   0         \n",
      "9   0         \n",
      "10  0         \n",
      "11  0         \n",
      "12  0         \n",
      "13  0         \n",
      "14  0         \n",
      "15  0         \n",
      "16  0         \n",
      "17  0         \n",
      "18  0         \n",
      "19  0         \n",
      "20  0         \n",
      "21  0         \n",
      "22  0         \n",
      "23  0         \n",
      "24  0         \n",
      "<string>:1: FutureWarning: Passing a negative integer is deprecated in version 1.0 and will not be supported in future version. Instead, use None to not limit the column width."
     ]
    }
   ],
   "source": [
    "pd.set_option('display.max_colwidth', -1)\n",
    "pd.set_option('display.max_columns', None)\n",
    "pd.set_option('display.max_rows', None)\n",
    "\n",
    "reviews.head(25)"
   ]
  },
  {
   "cell_type": "code",
   "execution_count": null,
   "metadata": {},
   "outputs": [],
   "source": []
  },
  {
   "cell_type": "code",
   "execution_count": 150,
   "metadata": {},
   "outputs": [
    {
     "data": {
      "application/vnd.jupyter.widget-view+json": {
       "model_id": "531975dafa054708bc42e7eb5622a29b",
       "version_major": 2,
       "version_minor": 0
      },
      "text/plain": [
       "VBox()"
      ]
     },
     "metadata": {},
     "output_type": "display_data"
    },
    {
     "data": {
      "application/vnd.jupyter.widget-view+json": {
       "model_id": "",
       "version_major": 2,
       "version_minor": 0
      },
      "text/plain": [
       "FloatProgress(value=0.0, bar_style='info', description='Progress:', layout=Layout(height='25px', width='50%'),…"
      ]
     },
     "metadata": {},
     "output_type": "display_data"
    }
   ],
   "source": [
    "reviews['model_FL'] = 0\n",
    "\n",
    "reviews.loc[reviews['LANG'] != reviews['PRED_LANG'] , 'model_FL'] = 1\n",
    "\n",
    "#Our setup may have accidentally used \"jp\" as well as \"ja\" for Japenese\n",
    "#\"ja\" is official code but mark \"jp\" as ok too\n",
    "reviews.loc[ (reviews['LANG']=='jp') & (reviews['PRED_LANG']=='ja') , 'model_FL'] = 0\n",
    "\n",
    "#'ca' is catalan which is close to spanish\n",
    "reviews.loc[ (reviews['LANG']=='es') & (reviews['PRED_LANG']=='ca') , 'model_FL'] = 0\n",
    "\n",
    "\n",
    "#reviews.loc[reviews['REVIEW_LENGTH'] < 40 , 'model_FL'] = 0\n",
    "\n",
    "reviews.loc[ (reviews['LANG']=='en') & ((reviews['firstword_eng']==True) | (reviews['secondword_eng']==True)) , 'model_FL'] = 0\n",
    "\n",
    "reviews.loc[reviews['PRED_LANG'] == 'UNKNOWN' , 'model_FL'] = 0\n",
    "\n",
    "reviews.loc[reviews['PRED_LANG'] == 'af' , 'model_FL'] = 0"
   ]
  },
  {
   "cell_type": "code",
   "execution_count": 151,
   "metadata": {},
   "outputs": [
    {
     "data": {
      "application/vnd.jupyter.widget-view+json": {
       "model_id": "94f66c0d68b74ebc85f414081b828bc2",
       "version_major": 2,
       "version_minor": 0
      },
      "text/plain": [
       "VBox()"
      ]
     },
     "metadata": {},
     "output_type": "display_data"
    },
    {
     "data": {
      "application/vnd.jupyter.widget-view+json": {
       "model_id": "",
       "version_major": 2,
       "version_minor": 0
      },
      "text/plain": [
       "FloatProgress(value=0.0, bar_style='info', description='Progress:', layout=Layout(height='25px', width='50%'),…"
      ]
     },
     "metadata": {},
     "output_type": "display_data"
    }
   ],
   "source": [
    "#reviews.head(100)"
   ]
  },
  {
   "cell_type": "code",
   "execution_count": 152,
   "metadata": {},
   "outputs": [
    {
     "data": {
      "application/vnd.jupyter.widget-view+json": {
       "model_id": "34d62340f15d46e38d792d2366a66b1e",
       "version_major": 2,
       "version_minor": 0
      },
      "text/plain": [
       "VBox()"
      ]
     },
     "metadata": {},
     "output_type": "display_data"
    },
    {
     "data": {
      "application/vnd.jupyter.widget-view+json": {
       "model_id": "",
       "version_major": 2,
       "version_minor": 0
      },
      "text/plain": [
       "FloatProgress(value=0.0, bar_style='info', description='Progress:', layout=Layout(height='25px', width='50%'),…"
      ]
     },
     "metadata": {},
     "output_type": "display_data"
    }
   ],
   "source": [
    "FP = reviews[(reviews['FL'] == 0) & (reviews['model_FL'] == 1)]\n",
    "FN = reviews[(reviews['FL'] == 1) & (reviews['model_FL'] == 0)]\n",
    "TP = reviews[(reviews['FL'] == 1) & (reviews['model_FL'] == 1)]\n",
    "TN = reviews[(reviews['FL'] == 0) & (reviews['model_FL'] == 0)]\n"
   ]
  },
  {
   "cell_type": "code",
   "execution_count": 153,
   "metadata": {},
   "outputs": [
    {
     "data": {
      "application/vnd.jupyter.widget-view+json": {
       "model_id": "813988824a4a4458ac5f3b47479d0dc2",
       "version_major": 2,
       "version_minor": 0
      },
      "text/plain": [
       "VBox()"
      ]
     },
     "metadata": {},
     "output_type": "display_data"
    },
    {
     "data": {
      "application/vnd.jupyter.widget-view+json": {
       "model_id": "",
       "version_major": 2,
       "version_minor": 0
      },
      "text/plain": [
       "FloatProgress(value=0.0, bar_style='info', description='Progress:', layout=Layout(height='25px', width='50%'),…"
      ]
     },
     "metadata": {},
     "output_type": "display_data"
    },
    {
     "name": "stdout",
     "output_type": "stream",
     "text": [
      "754"
     ]
    }
   ],
   "source": [
    "\n",
    "FP['UGC_ID'].count()"
   ]
  },
  {
   "cell_type": "code",
   "execution_count": 154,
   "metadata": {},
   "outputs": [
    {
     "data": {
      "application/vnd.jupyter.widget-view+json": {
       "model_id": "19fa351b994e409eb3fb4b039b7cfaa9",
       "version_major": 2,
       "version_minor": 0
      },
      "text/plain": [
       "VBox()"
      ]
     },
     "metadata": {},
     "output_type": "display_data"
    },
    {
     "data": {
      "application/vnd.jupyter.widget-view+json": {
       "model_id": "",
       "version_major": 2,
       "version_minor": 0
      },
      "text/plain": [
       "FloatProgress(value=0.0, bar_style='info', description='Progress:', layout=Layout(height='25px', width='50%'),…"
      ]
     },
     "metadata": {},
     "output_type": "display_data"
    },
    {
     "name": "stdout",
     "output_type": "stream",
     "text": [
      "151"
     ]
    }
   ],
   "source": [
    "\n",
    "FN['UGC_ID'].count()"
   ]
  },
  {
   "cell_type": "code",
   "execution_count": 155,
   "metadata": {},
   "outputs": [
    {
     "data": {
      "application/vnd.jupyter.widget-view+json": {
       "model_id": "c10f6bafb47c46c999db80f5a3a897b3",
       "version_major": 2,
       "version_minor": 0
      },
      "text/plain": [
       "VBox()"
      ]
     },
     "metadata": {},
     "output_type": "display_data"
    },
    {
     "data": {
      "application/vnd.jupyter.widget-view+json": {
       "model_id": "",
       "version_major": 2,
       "version_minor": 0
      },
      "text/plain": [
       "FloatProgress(value=0.0, bar_style='info', description='Progress:', layout=Layout(height='25px', width='50%'),…"
      ]
     },
     "metadata": {},
     "output_type": "display_data"
    },
    {
     "name": "stdout",
     "output_type": "stream",
     "text": [
      "52"
     ]
    }
   ],
   "source": [
    "\n",
    "TP['UGC_ID'].count()"
   ]
  },
  {
   "cell_type": "code",
   "execution_count": 156,
   "metadata": {},
   "outputs": [
    {
     "data": {
      "application/vnd.jupyter.widget-view+json": {
       "model_id": "10c8ff8d62a34cbf89b4e02c457a8f49",
       "version_major": 2,
       "version_minor": 0
      },
      "text/plain": [
       "VBox()"
      ]
     },
     "metadata": {},
     "output_type": "display_data"
    },
    {
     "data": {
      "application/vnd.jupyter.widget-view+json": {
       "model_id": "",
       "version_major": 2,
       "version_minor": 0
      },
      "text/plain": [
       "FloatProgress(value=0.0, bar_style='info', description='Progress:', layout=Layout(height='25px', width='50%'),…"
      ]
     },
     "metadata": {},
     "output_type": "display_data"
    },
    {
     "name": "stdout",
     "output_type": "stream",
     "text": [
      "99043"
     ]
    }
   ],
   "source": [
    "TN['UGC_ID'].count()"
   ]
  },
  {
   "cell_type": "code",
   "execution_count": 157,
   "metadata": {},
   "outputs": [
    {
     "data": {
      "application/vnd.jupyter.widget-view+json": {
       "model_id": "77ee853084614622bb29ed3b27459e6e",
       "version_major": 2,
       "version_minor": 0
      },
      "text/plain": [
       "VBox()"
      ]
     },
     "metadata": {},
     "output_type": "display_data"
    },
    {
     "data": {
      "application/vnd.jupyter.widget-view+json": {
       "model_id": "",
       "version_major": 2,
       "version_minor": 0
      },
      "text/plain": [
       "FloatProgress(value=0.0, bar_style='info', description='Progress:', layout=Layout(height='25px', width='50%'),…"
      ]
     },
     "metadata": {},
     "output_type": "display_data"
    },
    {
     "name": "stdout",
     "output_type": "stream",
     "text": [
      "          UGC_ID  \\\n",
      "21     310237863   \n",
      "45     309540163   \n",
      "201    310026728   \n",
      "355    310022368   \n",
      "499    309977309   \n",
      "933    310336875   \n",
      "1692   319313881   \n",
      "3375   319389636   \n",
      "3413   319058075   \n",
      "3510   319828692   \n",
      "3883   319919732   \n",
      "4111   319561892   \n",
      "5052   319316379   \n",
      "5492   319214305   \n",
      "7741   329479955   \n",
      "9891   321605376   \n",
      "9988   321611593   \n",
      "10269  321613709   \n",
      "10478  321601179   \n",
      "10584  321582797   \n",
      "10699  321605345   \n",
      "11599  321602784   \n",
      "11612  321605753   \n",
      "11876  265351132   \n",
      "12144  265356742   \n",
      "13818  319011154   \n",
      "15088  319067801   \n",
      "15143  319340819   \n",
      "17096  319511993   \n",
      "17457  319046225   \n",
      "19020  319161601   \n",
      "20021  329598920   \n",
      "20481  309798454   \n",
      "20522  309807013   \n",
      "20527  310397766   \n",
      "20567  310427580   \n",
      "20893  310094830   \n",
      "23970  318948277   \n",
      "24046  320228227   \n",
      "24082  319846146   \n",
      "24351  320168736   \n",
      "24782  320012365   \n",
      "24959  319789525   \n",
      "26179  324848835   \n",
      "26185  324848987   \n",
      "26994  319198660   \n",
      "27523  319112442   \n",
      "27785  329023693   \n",
      "28101  329597998   \n",
      "28645  329402908   \n",
      "28781  310398100   \n",
      "28868  310178666   \n",
      "32156  318939475   \n",
      "35274  319097547   \n",
      "36638  329402814   \n",
      "37072  329602488   \n",
      "38623  310401293   \n",
      "39695  319339354   \n",
      "39749  319387590   \n",
      "41227  319367080   \n",
      "41887  319390280   \n",
      "41954  319125514   \n",
      "42399  319834005   \n",
      "42419  320102385   \n",
      "42591  320138174   \n",
      "44081  324848883   \n",
      "47727  329401568   \n",
      "48141  321580957   \n",
      "48417  321610507   \n",
      "48440  321565497   \n",
      "48454  321545389   \n",
      "52125  319006888   \n",
      "52417  319099883   \n",
      "54251  319391576   \n",
      "55026  320211850   \n",
      "56016  318986284   \n",
      "56934  319316166   \n",
      "59022  329602616   \n",
      "59373  329597010   \n",
      "59517  329587709   \n",
      "59539  329600487   \n",
      "59932  329592304   \n",
      "60082  329593212   \n",
      "60083  329402406   \n",
      "61064  321544749   \n",
      "61496  321628233   \n",
      "62487  326752553   \n",
      "63251  265342256   \n",
      "63738  266708975   \n",
      "63966  266609159   \n",
      "64772  320856539   \n",
      "65090  320848016   \n",
      "65294  320677520   \n",
      "66143  320877170   \n",
      "66266  320958826   \n",
      "66269  320958786   \n",
      "67326  337085532   \n",
      "67636  336666372   \n",
      "67646  336728540   \n",
      "67662  336665694   \n",
      "\n",
      "                                                    REVIEW_HEADLINE  \\\n",
      "21     True match                                                     \n",
      "45     GOOD!                                                          \n",
      "201    Strength cure                                                  \n",
      "355    Pureology conditioner                                          \n",
      "499    si                                                             \n",
      "933    MATERIAL MUY DURO                                              \n",
      "1692   J'achèterai de nouveau et je recommanderai sans hésiter!       \n",
      "3375   Bien confortable et ajustable beau tissus                      \n",
      "3413   Première fois que je commande donc j'attends d'abord de r...   \n",
      "3510   Muy bueno                                                      \n",
      "3883   Excelentes para trabajar                                       \n",
      "4111   Product Review                                                 \n",
      "5052   Si                                                             \n",
      "5492   excelente                                                      \n",
      "7741   Me encantan                                                    \n",
      "9891   Excelentes las tengo en                                        \n",
      "9988   Bad                                                            \n",
      "10269  Undisclosed                                                    \n",
      "10478  Si                                                             \n",
      "10584  TRes bon                                                       \n",
      "10699  Mon pied ne rentrait même pas!                                 \n",
      "11599  Me encantan sus productos pero                                 \n",
      "11612  Plus jamais.                                                   \n",
      "11876  Thanks delonghi                                                \n",
      "12144  Good                                                           \n",
      "13818  Perfect                                                        \n",
      "15088  Julia                                                          \n",
      "15143  comentario                                                     \n",
      "17096  Es la segunda vez que compro esta crema me gusto como deja m   \n",
      "17457  Falta del producto                                             \n",
      "19020  Carte de nouvel an                                             \n",
      "20021  Me super encanto                                               \n",
      "20481  This product works on                                          \n",
      "20522  Late product                                                   \n",
      "20527  GOOD                                                           \n",
      "20567  Good                                                           \n",
      "20893  Si                                                             \n",
      "23970  Excelente                                                      \n",
      "24046  Como Comprar bicicleta.?                                       \n",
      "24082  En temps de pandémie on doit apprendre à se contenter!         \n",
      "24351  Olorosa mente agradable!                                       \n",
      "24782  Si                                                             \n",
      "24959  Un bon achat.                                                  \n",
      "26179  amo todos los productos p                                      \n",
      "26185  Me encanto!!!!!‚ù§‚ù§‚ù§‚                                      \n",
      "26994  BUEN PRECIO                                                    \n",
      "27523  Yo comencé a probarlo                                          \n",
      "27785  Rapido y bien protejido el paquete y el producto.              \n",
      "28101  Perfecta justo loque nesesitaba lo recomiendo 100%             \n",
      "28645  다른 색상 재구매의사있어요.                                                \n",
      "28781  Good                                                           \n",
      "28868  I never had a bad experience with Crazy Shirts, even when...   \n",
      "32156  Extraordinaria compra y productos.                             \n",
      "35274  Écriture peu visible                                           \n",
      "36638  다른 색상 재구매의사있어요.                                                \n",
      "37072  Klaassss                                                       \n",
      "38623  Good product                                                   \n",
      "39695  molto buono                                                    \n",
      "39749  Beef Jerky Sticks Review                                       \n",
      "41227  Es una bermuda de tela suave                                   \n",
      "41887  Très bien                                                      \n",
      "41954  Me dio un poco de problemas el checkout                        \n",
      "42399  Yes                                                            \n",
      "42419  Si                                                             \n",
      "42591  si                                                             \n",
      "44081  Lo mejor para las cejas d                                      \n",
      "47727  good                                                           \n",
      "48141  KWALITEITSDRUKWERK                                             \n",
      "48417  Jerky Review                                                   \n",
      "48440  good                                                           \n",
      "48454  good                                                           \n",
      "52125  Good                                                           \n",
      "52417  Excelente                                                      \n",
      "54251  Belle coupe                                                    \n",
      "55026  So perfect product                                             \n",
      "56016  saatisfaite du produit                                         \n",
      "56934  Très bon produit, bien construit et nettoie efficacement       \n",
      "59022  Confortável                                                    \n",
      "59373  Klaassss                                                       \n",
      "59517  todo gracias a TONI por sus atenciones                         \n",
      "59539  Solidité des poignées                                          \n",
      "59932  Si                                                             \n",
      "60082  Todo Bien Muchas Gracias!!                                     \n",
      "60083  No valen verga los de coon's                                   \n",
      "61064  very good                                                      \n",
      "61496  bon service !                                                  \n",
      "62487  Super nice                                                     \n",
      "63251  Oui je vais acheter ce produit encore.....                     \n",
      "63738  Bonita                                                         \n",
      "63966  Good                                                           \n",
      "64772  Buen diseño                                                    \n",
      "65090  Cute , and comfortable                                         \n",
      "65294  Super produit                                                  \n",
      "66143  Volvería a comprar de esta marca de ropa                       \n",
      "66266  Ne                                                             \n",
      "66269  Uvek                                                           \n",
      "67326  Excelente chauqueta                                            \n",
      "67636  Oui                                                            \n",
      "67646  Excelent!                                                      \n",
      "67662  Oui                                                            \n",
      "\n",
      "                                                                                                                                                                                                                                                                                                                                                                                                                                                                                                                                                                                                                              REVIEW_COMMENTS  \\\n",
      "21     Muy buena me encanta mucho y va con mi tono de piel                                                                                                                                                                                                                                                                                                                                                                                                                                                                                                                                                                                      \n",
      "45     GOOD!                                                                                                                                                                                                                                                                                                                                                                                                                                                                                                                                                                                                                                    \n",
      "201    Strength cure pureology es un producto muy confiable para el cabello lo deja muy suave y saludable aparte que es un producto vegano súper recomendable                                                                                                                                                                                                                                                                                                                                                                                                                                                                                   \n",
      "355    Pureology conditioner me encanto me dijo el pelo súper suave                                                                                                                                                                                                                                                                                                                                                                                                                                                                                                                                                                             \n",
      "499    El producto es de muy alta calidad y la entrega fue perfecta, gracias                                                                                                                                                                                                                                                                                                                                                                                                                                                                                                                                                                    \n",
      "933    No me gusto el material, es muy duro y nos es muy abrigado, casi no lo uso, en la foto se veia increible, pero no lo es.                                                                                                                                                                                                                                                                                                                                                                                                                                                                                                                 \n",
      "1692   Coup de cœur. Ultra comfortables, super chaudes, faciles et rapides à enfiler! Je suis vendue!                                                                                                                                                                                                                                                                                                                                                                                                                                                                                                                                           \n",
      "3375   Bon achat                                                                                                                                                                                                                                                                                                                                                                                                                                                                                                                                                                                                                                \n",
      "3413   Première fois que je commande donc j'attends d'abord de recevoir mon colis                                                                                                                                                                                                                                                                                                                                                                                                                                                                                                                                                               \n",
      "3510   Muy buenos zapatos                                                                                                                                                                                                                                                                                                                                                                                                                                                                                                                                                                                                                       \n",
      "3883   Es un producto excelente en todo sentido                                                                                                                                                                                                                                                                                                                                                                                                                                                                                                                                                                                                 \n",
      "4111   Preciosa fina y elegante  correcta talla y aún más preciosa en físico 5 estrella                                                                                                                                                                                                                                                                                                                                                                                                                                                                                                                                                         \n",
      "5052   Sin muy lindos y cómodos. Y el color está expectacular                                                                                                                                                                                                                                                                                                                                                                                                                                                                                                                                                                                   \n",
      "5492   muy bueno                                                                                                                                                                                                                                                                                                                                                                                                                                                                                                                                                                                                                                \n",
      "7741   Hermosos, llegaron antes de lo esperado, me encantan                                                                                                                                                                                                                                                                                                                                                                                                                                                                                                                                                                                     \n",
      "9891   Excelentes las tengo en todos los tamaños ya que las uso constantemente. Puedes almacenar todo tipo de comidas ya sean congeladas o para enviarle meriendas a las niñas.                                                                                                                                                                                                                                                                                                                                                                                                                                                                 \n",
      "9988   Bad                                                                                                                                                                                                                                                                                                                                                                                                                                                                                                                                                                                                                                      \n",
      "10269  muy buen servicio y atencion , satisfecho de la atencion .                                                                                                                                                                                                                                                                                                                                                                                                                                                                                                                                                                               \n",
      "10478  Optimo quality                                                                                                                                                                                                                                                                                                                                                                                                                                                                                                                                                                                                                           \n",
      "10584  Tres bon avec le bœuf autant qu'avec le poulet\\nJe suis très déçu que ça ne soit que pour un temps limité                                                                                                                                                                                                                                                                                                                                                                                                                                                                                                                                \n",
      "10699  Pourtant, je suis une habituée de BOGS; j'en achète chaque année. Mais dans ce modèle, je ne suis pas parvenue à rentrer mon pied à l'intérieur. Je ne me suis pas acharnée non plus.. mettons qu'au quotidien on a pas envie de vivre se désagrément.                                                                                                                                                                                                                                                                                                                                                                                   \n",
      "11599  No puedo dar un review  de una mercancía que todavía estoy esperando que me llegue. Es la primera vez que me pasa esto con ustedes, ya hice mi reclamación y aun estoy en la espera de que me respondan. Quería que me llegara antes de navidad pues eran obsequios                                                                                                                                                                                                                                                                                                                                                                      \n",
      "11612  Si vous êtes français/françaises passés votre chemin, vous ne recevrez jamais votre commande.                                                                                                                                                                                                                                                                                                                                                                                                                                                                                                                                            \n",
      "11876  Primeiro de tudo, eu quero agradecer a toda a equipa da delonghi por ter material sobressalente a preços acessíveis e pela encomenda chegar dentro do tempo esperado. A montagem foi rápida e fácil. Eu aproveitei as anilhas da válvula antiga para a nova. Tudo funciona na perfeição e eu voltei a ter café!! Obrigado. (my native language)\\n\\nFirst of all, I want to thank the entire delonghi team for having spare material at affordable prices and for the order to arrive on time. Assembly was quick and easy. I used the washers from the old valve to the new one. Everything works perfectly and I have coffee again !!   \n",
      "12144  None                                                                                                                                                                                                                                                                                                                                                                                                                                                                                                                                                                                                                                     \n",
      "13818  Perfect                                                                                                                                                                                                                                                                                                                                                                                                                                                                                                                                                                                                                                  \n",
      "15088  Me gusta mucho la calidad es muy buena se le Mira muy bien a mi hijo le encanto  combina con mucho estilos                                                                                                                                                                                                                                                                                                                                                                                                                                                                                                                               \n",
      "15143  tiene un talle perfecto                                                                                                                                                                                                                                                                                                                                                                                                                                                                                                                                                                                                                  \n",
      "17096  Me deja la piel normal fresca                                                                                                                                                                                                                                                                                                                                                                                                                                                                                                                                                                                                            \n",
      "17457  a ultima hora me cancelaron mi compra, ya que por lo visto no tenían la talla que en la pagina seleccione.                                                                                                                                                                                                                                                                                                                                                                                                                                                                                                                               \n",
      "19020  J'ai été ravi du résultat et je recommanderai quand l'occasion se présentera.                                                                                                                                                                                                                                                                                                                                                                                                                                                                                                                                                            \n",
      "20021  Lo recomiendo te deja suabe y limpia tu piel te encantara cuando la pruebes y ademas esta abuen presio $                                                                                                                                                                                                                                                                                                                                                                                                                                                                                                                                 \n",
      "20481  This product works on almost all stains , if a stain is really bad then leave shout on longer and it will get it out . It's a great product                                                                                                                                                                                                                                                                                                                                                                                                                                                                                              \n",
      "20522  Barang sampai hari ni x sampai macam mana staff buat kerja saya xfaham lah sampai berapa tahun saya kena tunggu                                                                                                                                                                                                                                                                                                                                                                                                                                                                                                                          \n",
      "20527  None                                                                                                                                                                                                                                                                                                                                                                                                                                                                                                                                                                                                                                     \n",
      "20567  None                                                                                                                                                                                                                                                                                                                                                                                                                                                                                                                                                                                                                                     \n",
      "20893  Está muy bonito  megusto  mucho                                                                                                                                                                                                                                                                                                                                                                                                                                                                                                                                                                                                          \n",
      "23970  Excelente                                                                                                                                                                                                                                                                                                                                                                                                                                                                                                                                                                                                                                \n",
      "24046  Quiero comprar online, que necesito?                                                                                                                                                                                                                                                                                                                                                                                                                                                                                                                                                                                                     \n",
      "24082  Avant le confinement et la pandémie j'avais une paire de cette marque que j'adorais! L'achat en ligne a été très décevant. Si c'était à refaire, je ne le ferai pas.\\nTrès déçue. J'ai l'impression que la qualité n'est pas la même ni la taille.                                                                                                                                                                                                                                                                                                                                                                                       \n",
      "24351  La he conservado en mi baño y es impresionante,el olor riquísimo y ha durado bastante!                                                                                                                                                                                                                                                                                                                                                                                                                                                                                                                                                   \n",
      "24782  Excelente                                                                                                                                                                                                                                                                                                                                                                                                                                                                                                                                                                                                                                \n",
      "24959  Je peux constater que l'auteur y a mis beaucoup de travail. Un sujet pas assez discuté qui ne faut avoir peur de rechercher et comprendre. Je donne ce livre un 10/10 pour le travail ardu de l'écrivain.                                                                                                                                                                                                                                                                                                                                                                                                                                \n",
      "26179  amo todos los productos para cejas y Benefit siempre es un gran favorito                                                                                                                                                                                                                                                                                                                                                                                                                                                                                                                                                                 \n",
      "26185  Me encanto!!!!!‚ù§‚ù§‚ù§‚ù§‚ù§                                                                                                                                                                                                                                                                                                                                                                                                                                                                                                                                                                                                           \n",
      "26994  BUEN PRECIO                                                                                                                                                                                                                                                                                                                                                                                                                                                                                                                                                                                                                              \n",
      "27523  Yo comencé a probarlo desde que empezó la pandemia y la verdad se convirtió en uno de mis favoritos además su aroma es increíble 😊                                                                                                                                                                                                                                                                                                                                                                                                                                                                                                       \n",
      "27785  Rapido y bien protejido el paquete y el producto. Gracias ⭐⭐⭐⭐⭐                                                                                                                                                                                                                                                                                                                                                                                                                                                                                                                                                                          \n",
      "28101  La amee 🥰esta super buena esta agua de rosas selas recomiendo                                                                                                                                                                                                                                                                                                                                                                                                                                                                                                                                                                            \n",
      "28645  The clothes are pretty and sophisticated.                                                                                                                                                                                                                                                                                                                                                                                                                                                                                                                                                                                                \n",
      "28781  None                                                                                                                                                                                                                                                                                                                                                                                                                                                                                                                                                                                                                                     \n",
      "28868  I never had a bad experience with Crazy Shirts, even when I had to return an item.  Great items, great company and great customer service!  Mahalol nui loa!                                                                                                                                                                                                                                                                                                                                                                                                                                                                             \n",
      "32156  Extraordinaria compra y productos.                                                                                                                                                                                                                                                                                                                                                                                                                                                                                                                                                                                                       \n",
      "35274  Le chandail est bien, mais l'écriture blanche n'est pas du tout sortie comme sur l'image. Elle est peu visible sur le design du fond.                                                                                                                                                                                                                                                                                                                                                                                                                                                                                                    \n",
      "36638  It is light, easy to wear, and sophisticated.                                                                                                                                                                                                                                                                                                                                                                                                                                                                                                                                                                                            \n",
      "37072  WUNDERBAR                                                                                                                                                                                                                                                                                                                                                                                                                                                                                                                                                                                                                                \n",
      "38623  None                                                                                                                                                                                                                                                                                                                                                                                                                                                                                                                                                                                                                                     \n",
      "39695  molto buono                                                                                                                                                                                                                                                                                                                                                                                                                                                                                                                                                                                                                              \n",
      "39749  #trynatural #gotitfree #socialnature \\r\\nUna maravilla de producto algo diferente que no habia probado pero me gusto sabe muy rico sus ingredientes y es saludable                                                                                                                                                                                                                                                                                                                                                                                                                                                                       \n",
      "41227  Combina con todo con camisas, camisetas a mi hijo le encanta no dudes en pedirla es una excelente opción.                                                                                                                                                                                                                                                                                                                                                                                                                                                                                                                                \n",
      "41887  Parfait mais un brin grand pour moi qui porte des 5-6                                                                                                                                                                                                                                                                                                                                                                                                                                                                                                                                                                                    \n",
      "41954  Me dio un poco de problemas el checkout                                                                                                                                                                                                                                                                                                                                                                                                                                                                                                                                                                                                  \n",
      "42399  Excelente producto, solo que llegaron sin tapa.                                                                                                                                                                                                                                                                                                                                                                                                                                                                                                                                                                                          \n",
      "42419  Buenos                                                                                                                                                                                                                                                                                                                                                                                                                                                                                                                                                                                                                                   \n",
      "42591  Practico natación para mantenerme en forma física en la playa y piscina  1000m                                                                                                                                                                                                                                                                                                                                                                                                                                                                                                                                                           \n",
      "44081  Lo mejor para las cejas definitivamente                                                                                                                                                                                                                                                                                                                                                                                                                                                                                                                                                                                                  \n",
      "47727  None                                                                                                                                                                                                                                                                                                                                                                                                                                                                                                                                                                                                                                     \n",
      "48141  Zeer mooie uitvoering                                                                                                                                                                                                                                                                                                                                                                                                                                                                                                                                                                                                                    \n",
      "48417  Me gusto mucho su sabor fue increible la testura mmucho mejoe que otras marca que he probado. lo recomiendo y si lo compraria muchas veces. estos productos son de calidad y geniale. Gracias Socialnature.                                                                                                                                                                                                                                                                                                                                                                                                                              \n",
      "48440  None                                                                                                                                                                                                                                                                                                                                                                                                                                                                                                                                                                                                                                     \n",
      "48454  None                                                                                                                                                                                                                                                                                                                                                                                                                                                                                                                                                                                                                                     \n",
      "52125  None                                                                                                                                                                                                                                                                                                                                                                                                                                                                                                                                                                                                                                     \n",
      "52417  Gracias a @BzzAgent por enviarme esta agua Micellar de Botanics. Me encanta es muy buena mi piel se siente y luce más limpia y fresca. Es para todo tipo de piel y me funciono bien para mi piel sensible. Remueve muy bien mi maquillaje sin dejarme residuos.                                                                                                                                                                                                                                                                                                                                                                          \n",
      "54251  Très belle confortable                                                                                                                                                                                                                                                                                                                                                                                                                                                                                                                                                                                                                   \n",
      "55026  털이 너무 푹신하고 따듯하다\\n선물로 줬는데 너무 좋아했다\\n고마워                                                                                                                                                                                                                                                                                                                                                                                                                                                                                                                                                                                                    \n",
      "56016  Cela fait plusieurs années que j'achète ms verres de contact chez Cleary                                                                                                                                                                                                                                                                                                                                                                                                                                                                                                                                                                 \n",
      "56934  Il est très bien construit. La conception est ingénieuse et optimise le rangement des accessoires. Je l'utilise pour le lavage des tapis d'auto. Il est vraiment très efficace.  Je le recommande. Bravo!                                                                                                                                                                                                                                                                                                                                                                                                                                \n",
      "59022  Corri 21,1 km com ele é foi TOP!                                                                                                                                                                                                                                                                                                                                                                                                                                                                                                                                                                                                         \n",
      "59373  WUNDERBAR                                                                                                                                                                                                                                                                                                                                                                                                                                                                                                                                                                                                                                \n",
      "59517  todo gracias a TONI por sus atenciones                                                                                                                                                                                                                                                                                                                                                                                                                                                                                                                                                                                                   \n",
      "59539  Est ce que quelqu'un va daigner me répondre ?! J'attends un retour du service client depuis une semaine car j'ai reçu cet article endommagé... Est ce que par hasard le service Qualité s'est rendu compte que cet article n'était pas robuste ??                                                                                                                                                                                                                                                                                                                                                                                        \n",
      "59932  Buen producto buena calidad y facil de armar                                                                                                                                                                                                                                                                                                                                                                                                                                                                                                                                                                                             \n",
      "60082  Muchas Gracias por su servicio!!!                                                                                                                                                                                                                                                                                                                                                                                                                                                                                                                                                                                                        \n",
      "60083  None                                                                                                                                                                                                                                                                                                                                                                                                                                                                                                                                                                                                                                     \n",
      "61064  None                                                                                                                                                                                                                                                                                                                                                                                                                                                                                                                                                                                                                                     \n",
      "61496  bon service !    Merci !\\nPierre                                                                                                                                                                                                                                                                                                                                                                                                                                                                                                                                                                                                         \n",
      "62487  Muy bonito me gusto mucho                                                                                                                                                                                                                                                                                                                                                                                                                                                                                                                                                                                                                \n",
      "63251  Le plus beau beurre de karité utilisé à ce jour , en plus il est équitable.....merci beaucoup!                                                                                                                                                                                                                                                                                                                                                                                                                                                                                                                                           \n",
      "63738  esta bonita                                                                                                                                                                                                                                                                                                                                                                                                                                                                                                                                                                                                                              \n",
      "63966  None                                                                                                                                                                                                                                                                                                                                                                                                                                                                                                                                                                                                                                     \n",
      "64772  Se ve muy bonita en mi esposo le queda perfecto                                                                                                                                                                                                                                                                                                                                                                                                                                                                                                                                                                                          \n",
      "65090  Compré 14 y es exacto, es cómodo y de muy buena calidad..                                                                                                                                                                                                                                                                                                                                                                                                                                                                                                                                                                                \n",
      "65294  Super produit, super couleur arrivé en bon état Merci                                                                                                                                                                                                                                                                                                                                                                                                                                                                                                                                                                                    \n",
      "66143  Es la primera vez que compro esta marca y me pareció de muy buena calidad. La tela es muy suave al tacto y la talla correcta.                                                                                                                                                                                                                                                                                                                                                                                                                                                                                                            \n",
      "66266  Nazalost, boja nije ona koja sam mislila da je...moracu vratiti...                                                                                                                                                                                                                                                                                                                                                                                                                                                                                                                                                                       \n",
      "66269  Nema umora, kao da sam bosa...                                                                                                                                                                                                                                                                                                                                                                                                                                                                                                                                                                                                           \n",
      "67326  Muy cómoda, material resistente, y luce genial                                                                                                                                                                                                                                                                                                                                                                                                                                                                                                                                                                                           \n",
      "67636  J'adore                                                                                                                                                                                                                                                                                                                                                                                                                                                                                                                                                                                                                                  \n",
      "67646  Me encanta toda la línea, super pigmentos y durabilidad                                                                                                                                                                                                                                                                                                                                                                                                                                                                                                                                                                                  \n",
      "67662  Magnifique                                                                                                                                                                                                                                                                                                                                                                                                                                                                                                                                                                                                                               \n",
      "\n",
      "      LANG  REVIEW_LENGTH  FL  \\\n",
      "21     en   51.0           1    \n",
      "45     zh   5.0            1    \n",
      "201    en   150.0          1    \n",
      "355    en   60.0           1    \n",
      "499    en   69.0           1    \n",
      "933    en   120.0          1    \n",
      "1692   en   94.0           1    \n",
      "3375   en   9.0            1    \n",
      "3413   en   74.0           1    \n",
      "3510   en   18.0           1    \n",
      "3883   en   40.0           1    \n",
      "4111   en   80.0           1    \n",
      "5052   en   54.0           1    \n",
      "5492   en   9.0            1    \n",
      "7741   en   52.0           1    \n",
      "9891   es   168.0          1    \n",
      "9988   de   3.0            1    \n",
      "10269  en   58.0           1    \n",
      "10478  it   14.0           1    \n",
      "10584  en   104.0          1    \n",
      "10699  en   246.0          1    \n",
      "11599  en   259.0          1    \n",
      "11612  en   93.0           1    \n",
      "11876  en   612.0          1    \n",
      "12144  zh  NaN             1    \n",
      "13818  es   7.0            1    \n",
      "15088  en   106.0          1    \n",
      "15143  en   23.0           1    \n",
      "17096  en   29.0           1    \n",
      "17457  en   106.0          1    \n",
      "19020  en   77.0           1    \n",
      "20021  en   104.0          1    \n",
      "20481  en   139.0          1    \n",
      "20522  en   111.0          1    \n",
      "20527  zh  NaN             1    \n",
      "20567  zh  NaN             1    \n",
      "20893  en   31.0           1    \n",
      "23970  en   9.0            1    \n",
      "24046  en   36.0           1    \n",
      "24082  en   241.0          1    \n",
      "24351  en   86.0           1    \n",
      "24782  en   9.0            1    \n",
      "24959  en   201.0          1    \n",
      "26179  en   72.0           1    \n",
      "26185  en   30.0           1    \n",
      "26994  en   11.0           1    \n",
      "27523  es   130.0          1    \n",
      "27785  en   63.0           1    \n",
      "28101  en   61.0           1    \n",
      "28645  en   41.0           1    \n",
      "28781  zh  NaN             1    \n",
      "28868  en   156.0          1    \n",
      "32156  en   34.0           1    \n",
      "35274  en   133.0          1    \n",
      "36638  en   45.0           1    \n",
      "37072  fr   9.0            1    \n",
      "38623  zh  NaN             1    \n",
      "39695  en   11.0           1    \n",
      "39749  en   160.0          1    \n",
      "41227  en   105.0          1    \n",
      "41887  en   53.0           1    \n",
      "41954  en   39.0           1    \n",
      "42399  en   47.0           1    \n",
      "42419  en   6.0            1    \n",
      "42591  en   78.0           1    \n",
      "44081  en   39.0           1    \n",
      "47727  zh  NaN             1    \n",
      "48141  fr   21.0           1    \n",
      "48417  en   203.0          1    \n",
      "48440  zh  NaN             1    \n",
      "48454  zh  NaN             1    \n",
      "52125  zh  NaN             1    \n",
      "52417  en   255.0          1    \n",
      "54251  en   22.0           1    \n",
      "55026  en   35.0           1    \n",
      "56016  en   72.0           1    \n",
      "56934  en   201.0          1    \n",
      "59022  en   32.0           1    \n",
      "59373  fr   9.0            1    \n",
      "59517  en   38.0           1    \n",
      "59539  en   241.0          1    \n",
      "59932  en   44.0           1    \n",
      "60082  en   33.0           1    \n",
      "60083  en  NaN             1    \n",
      "61064  zh  NaN             1    \n",
      "61496  en   31.0           1    \n",
      "62487  en   25.0           1    \n",
      "63251  fr   94.0           1    \n",
      "63738  en   11.0           1    \n",
      "63966  zh  NaN             1    \n",
      "64772  en   47.0           1    \n",
      "65090  en   57.0           1    \n",
      "65294  en   53.0           1    \n",
      "66143  en   125.0          1    \n",
      "66266  en   66.0           1    \n",
      "66269  en   30.0           1    \n",
      "67326  en   46.0           1    \n",
      "67636  en   7.0            1    \n",
      "67646  en   55.0           1    \n",
      "67662  en   10.0           1    \n",
      "\n",
      "                                                                                                                                                                                                                                                                                                                                                                                                                                                                                                                                                                                                                                                     ALL_TEXT  \\\n",
      "21     True match Muy buena me encanta mucho y va con mi tono de piel                                                                                                                                                                                                                                                                                                                                                                                                                                                                                                                                                                                           \n",
      "45     GOOD! GOOD!                                                                                                                                                                                                                                                                                                                                                                                                                                                                                                                                                                                                                                              \n",
      "201    Strength cure Strength cure pureology es un producto muy confiable para el cabello lo deja muy suave y saludable aparte que es un producto vegano súper recomendable                                                                                                                                                                                                                                                                                                                                                                                                                                                                                     \n",
      "355    Pureology conditioner Pureology conditioner me encanto me dijo el pelo súper suave                                                                                                                                                                                                                                                                                                                                                                                                                                                                                                                                                                       \n",
      "499    si El producto es de muy alta calidad y la entrega fue perfecta, gracias                                                                                                                                                                                                                                                                                                                                                                                                                                                                                                                                                                                 \n",
      "933    MATERIAL MUY DURO No me gusto el material, es muy duro y nos es muy abrigado, casi no lo uso, en la foto se veia increible, pero no lo es.                                                                                                                                                                                                                                                                                                                                                                                                                                                                                                               \n",
      "1692   J'achèterai de nouveau et je recommanderai sans hésiter! Coup de cœur. Ultra comfortables, super chaudes, faciles et rapides à enfiler! Je suis vendue!                                                                                                                                                                                                                                                                                                                                                                                                                                                                                                  \n",
      "3375   Bien confortable et ajustable beau tissus Bon achat                                                                                                                                                                                                                                                                                                                                                                                                                                                                                                                                                                                                      \n",
      "3413   Première fois que je commande donc j'attends d'abord de r... Première fois que je commande donc j'attends d'abord de recevoir mon colis                                                                                                                                                                                                                                                                                                                                                                                                                                                                                                                  \n",
      "3510   Muy bueno Muy buenos zapatos                                                                                                                                                                                                                                                                                                                                                                                                                                                                                                                                                                                                                             \n",
      "3883   Excelentes para trabajar Es un producto excelente en todo sentido                                                                                                                                                                                                                                                                                                                                                                                                                                                                                                                                                                                        \n",
      "4111   Product Review Preciosa fina y elegante  correcta talla y aún más preciosa en físico 5 estrella                                                                                                                                                                                                                                                                                                                                                                                                                                                                                                                                                          \n",
      "5052   Si Sin muy lindos y cómodos. Y el color está expectacular                                                                                                                                                                                                                                                                                                                                                                                                                                                                                                                                                                                                \n",
      "5492   excelente muy bueno                                                                                                                                                                                                                                                                                                                                                                                                                                                                                                                                                                                                                                      \n",
      "7741   Me encantan Hermosos, llegaron antes de lo esperado, me encantan                                                                                                                                                                                                                                                                                                                                                                                                                                                                                                                                                                                         \n",
      "9891   Excelentes las tengo en Excelentes las tengo en todos los tamaños ya que las uso constantemente. Puedes almacenar todo tipo de comidas ya sean congeladas o para enviarle meriendas a las niñas.                                                                                                                                                                                                                                                                                                                                                                                                                                                         \n",
      "9988   Bad Bad                                                                                                                                                                                                                                                                                                                                                                                                                                                                                                                                                                                                                                                  \n",
      "10269  Undisclosed muy buen servicio y atencion , satisfecho de la atencion .                                                                                                                                                                                                                                                                                                                                                                                                                                                                                                                                                                                   \n",
      "10478  Si Optimo quality                                                                                                                                                                                                                                                                                                                                                                                                                                                                                                                                                                                                                                        \n",
      "10584  TRes bon Tres bon avec le bœuf autant qu'avec le poulet\\nJe suis très déçu que ça ne soit que pour un temps limité                                                                                                                                                                                                                                                                                                                                                                                                                                                                                                                                       \n",
      "10699  Mon pied ne rentrait même pas! Pourtant, je suis une habituée de BOGS; j'en achète chaque année. Mais dans ce modèle, je ne suis pas parvenue à rentrer mon pied à l'intérieur. Je ne me suis pas acharnée non plus.. mettons qu'au quotidien on a pas envie de vivre se désagrément.                                                                                                                                                                                                                                                                                                                                                                    \n",
      "11599  Me encantan sus productos pero No puedo dar un review  de una mercancía que todavía estoy esperando que me llegue. Es la primera vez que me pasa esto con ustedes, ya hice mi reclamación y aun estoy en la espera de que me respondan. Quería que me llegara antes de navidad pues eran obsequios                                                                                                                                                                                                                                                                                                                                                       \n",
      "11612  Plus jamais. Si vous êtes français/françaises passés votre chemin, vous ne recevrez jamais votre commande.                                                                                                                                                                                                                                                                                                                                                                                                                                                                                                                                               \n",
      "11876  Thanks delonghi Primeiro de tudo, eu quero agradecer a toda a equipa da delonghi por ter material sobressalente a preços acessíveis e pela encomenda chegar dentro do tempo esperado. A montagem foi rápida e fácil. Eu aproveitei as anilhas da válvula antiga para a nova. Tudo funciona na perfeição e eu voltei a ter café!! Obrigado. (my native language)\\n\\nFirst of all, I want to thank the entire delonghi team for having spare material at affordable prices and for the order to arrive on time. Assembly was quick and easy. I used the washers from the old valve to the new one. Everything works perfectly and I have coffee again !!   \n",
      "12144  nan                                                                                                                                                                                                                                                                                                                                                                                                                                                                                                                                                                                                                                                      \n",
      "13818  Perfect Perfect                                                                                                                                                                                                                                                                                                                                                                                                                                                                                                                                                                                                                                          \n",
      "15088  Julia Me gusta mucho la calidad es muy buena se le Mira muy bien a mi hijo le encanto  combina con mucho estilos                                                                                                                                                                                                                                                                                                                                                                                                                                                                                                                                         \n",
      "15143  comentario tiene un talle perfecto                                                                                                                                                                                                                                                                                                                                                                                                                                                                                                                                                                                                                       \n",
      "17096  Es la segunda vez que compro esta crema me gusto como deja m Me deja la piel normal fresca                                                                                                                                                                                                                                                                                                                                                                                                                                                                                                                                                               \n",
      "17457  Falta del producto a ultima hora me cancelaron mi compra, ya que por lo visto no tenían la talla que en la pagina seleccione.                                                                                                                                                                                                                                                                                                                                                                                                                                                                                                                            \n",
      "19020  Carte de nouvel an J'ai été ravi du résultat et je recommanderai quand l'occasion se présentera.                                                                                                                                                                                                                                                                                                                                                                                                                                                                                                                                                         \n",
      "20021  Me super encanto Lo recomiendo te deja suabe y limpia tu piel te encantara cuando la pruebes y ademas esta abuen presio $                                                                                                                                                                                                                                                                                                                                                                                                                                                                                                                                \n",
      "20481  This product works on This product works on almost all stains , if a stain is really bad then leave shout on longer and it will get it out . It's a great product                                                                                                                                                                                                                                                                                                                                                                                                                                                                                        \n",
      "20522  Late product Barang sampai hari ni x sampai macam mana staff buat kerja saya xfaham lah sampai berapa tahun saya kena tunggu                                                                                                                                                                                                                                                                                                                                                                                                                                                                                                                             \n",
      "20527  nan                                                                                                                                                                                                                                                                                                                                                                                                                                                                                                                                                                                                                                                      \n",
      "20567  nan                                                                                                                                                                                                                                                                                                                                                                                                                                                                                                                                                                                                                                                      \n",
      "20893  Si Está muy bonito  megusto  mucho                                                                                                                                                                                                                                                                                                                                                                                                                                                                                                                                                                                                                       \n",
      "23970  Excelente Excelente                                                                                                                                                                                                                                                                                                                                                                                                                                                                                                                                                                                                                                      \n",
      "24046  Como Comprar bicicleta.? Quiero comprar online, que necesito?                                                                                                                                                                                                                                                                                                                                                                                                                                                                                                                                                                                            \n",
      "24082  En temps de pandémie on doit apprendre à se contenter! Avant le confinement et la pandémie j'avais une paire de cette marque que j'adorais! L'achat en ligne a été très décevant. Si c'était à refaire, je ne le ferai pas.\\nTrès déçue. J'ai l'impression que la qualité n'est pas la même ni la taille.                                                                                                                                                                                                                                                                                                                                                \n",
      "24351  Olorosa mente agradable! La he conservado en mi baño y es impresionante,el olor riquísimo y ha durado bastante!                                                                                                                                                                                                                                                                                                                                                                                                                                                                                                                                          \n",
      "24782  Si Excelente                                                                                                                                                                                                                                                                                                                                                                                                                                                                                                                                                                                                                                             \n",
      "24959  Un bon achat. Je peux constater que l'auteur y a mis beaucoup de travail. Un sujet pas assez discuté qui ne faut avoir peur de rechercher et comprendre. Je donne ce livre un 10/10 pour le travail ardu de l'écrivain.                                                                                                                                                                                                                                                                                                                                                                                                                                  \n",
      "26179  amo todos los productos p amo todos los productos para cejas y Benefit siempre es un gran favorito                                                                                                                                                                                                                                                                                                                                                                                                                                                                                                                                                       \n",
      "26185  Me encanto!!!!!‚ù§‚ù§‚ù§‚ Me encanto!!!!!‚ù§‚ù§‚ù§‚ù§‚ù§                                                                                                                                                                                                                                                                                                                                                                                                                                                                                                                                                                                                 \n",
      "26994  BUEN PRECIO BUEN PRECIO                                                                                                                                                                                                                                                                                                                                                                                                                                                                                                                                                                                                                                  \n",
      "27523  Yo comencé a probarlo Yo comencé a probarlo desde que empezó la pandemia y la verdad se convirtió en uno de mis favoritos además su aroma es increíble 😊                                                                                                                                                                                                                                                                                                                                                                                                                                                                                                 \n",
      "27785  Rapido y bien protejido el paquete y el producto. Rapido y bien protejido el paquete y el producto. Gracias ⭐⭐⭐⭐⭐                                                                                                                                                                                                                                                                                                                                                                                                                                                                                                                                        \n",
      "28101  Perfecta justo loque nesesitaba lo recomiendo 100% La amee 🥰esta super buena esta agua de rosas selas recomiendo                                                                                                                                                                                                                                                                                                                                                                                                                                                                                                                                         \n",
      "28645  다른 색상 재구매의사있어요. The clothes are pretty and sophisticated.                                                                                                                                                                                                                                                                                                                                                                                                                                                                                                                                                                                                \n",
      "28781  nan                                                                                                                                                                                                                                                                                                                                                                                                                                                                                                                                                                                                                                                      \n",
      "28868  I never had a bad experience with Crazy Shirts, even when... I never had a bad experience with Crazy Shirts, even when I had to return an item.  Great items, great company and great customer service!  Mahalol nui loa!                                                                                                                                                                                                                                                                                                                                                                                                                                \n",
      "32156  Extraordinaria compra y productos. Extraordinaria compra y productos.                                                                                                                                                                                                                                                                                                                                                                                                                                                                                                                                                                                    \n",
      "35274  Écriture peu visible Le chandail est bien, mais l'écriture blanche n'est pas du tout sortie comme sur l'image. Elle est peu visible sur le design du fond.                                                                                                                                                                                                                                                                                                                                                                                                                                                                                               \n",
      "36638  다른 색상 재구매의사있어요. It is light, easy to wear, and sophisticated.                                                                                                                                                                                                                                                                                                                                                                                                                                                                                                                                                                                            \n",
      "37072  Klaassss WUNDERBAR                                                                                                                                                                                                                                                                                                                                                                                                                                                                                                                                                                                                                                       \n",
      "38623  nan                                                                                                                                                                                                                                                                                                                                                                                                                                                                                                                                                                                                                                                      \n",
      "39695  molto buono molto buono                                                                                                                                                                                                                                                                                                                                                                                                                                                                                                                                                                                                                                  \n",
      "39749  Beef Jerky Sticks Review #trynatural #gotitfree #socialnature \\r\\nUna maravilla de producto algo diferente que no habia probado pero me gusto sabe muy rico sus ingredientes y es saludable                                                                                                                                                                                                                                                                                                                                                                                                                                                              \n",
      "41227  Es una bermuda de tela suave Combina con todo con camisas, camisetas a mi hijo le encanta no dudes en pedirla es una excelente opción.                                                                                                                                                                                                                                                                                                                                                                                                                                                                                                                   \n",
      "41887  Très bien Parfait mais un brin grand pour moi qui porte des 5-6                                                                                                                                                                                                                                                                                                                                                                                                                                                                                                                                                                                          \n",
      "41954  Me dio un poco de problemas el checkout Me dio un poco de problemas el checkout                                                                                                                                                                                                                                                                                                                                                                                                                                                                                                                                                                          \n",
      "42399  Yes Excelente producto, solo que llegaron sin tapa.                                                                                                                                                                                                                                                                                                                                                                                                                                                                                                                                                                                                      \n",
      "42419  Si Buenos                                                                                                                                                                                                                                                                                                                                                                                                                                                                                                                                                                                                                                                \n",
      "42591  si Practico natación para mantenerme en forma física en la playa y piscina  1000m                                                                                                                                                                                                                                                                                                                                                                                                                                                                                                                                                                        \n",
      "44081  Lo mejor para las cejas d Lo mejor para las cejas definitivamente                                                                                                                                                                                                                                                                                                                                                                                                                                                                                                                                                                                        \n",
      "47727  nan                                                                                                                                                                                                                                                                                                                                                                                                                                                                                                                                                                                                                                                      \n",
      "48141  KWALITEITSDRUKWERK Zeer mooie uitvoering                                                                                                                                                                                                                                                                                                                                                                                                                                                                                                                                                                                                                 \n",
      "48417  Jerky Review Me gusto mucho su sabor fue increible la testura mmucho mejoe que otras marca que he probado. lo recomiendo y si lo compraria muchas veces. estos productos son de calidad y geniale. Gracias Socialnature.                                                                                                                                                                                                                                                                                                                                                                                                                                 \n",
      "48440  nan                                                                                                                                                                                                                                                                                                                                                                                                                                                                                                                                                                                                                                                      \n",
      "48454  nan                                                                                                                                                                                                                                                                                                                                                                                                                                                                                                                                                                                                                                                      \n",
      "52125  nan                                                                                                                                                                                                                                                                                                                                                                                                                                                                                                                                                                                                                                                      \n",
      "52417  Excelente Gracias a @BzzAgent por enviarme esta agua Micellar de Botanics. Me encanta es muy buena mi piel se siente y luce más limpia y fresca. Es para todo tipo de piel y me funciono bien para mi piel sensible. Remueve muy bien mi maquillaje sin dejarme residuos.                                                                                                                                                                                                                                                                                                                                                                                \n",
      "54251  Belle coupe Très belle confortable                                                                                                                                                                                                                                                                                                                                                                                                                                                                                                                                                                                                                       \n",
      "55026  So perfect product 털이 너무 푹신하고 따듯하다\\n선물로 줬는데 너무 좋아했다\\n고마워                                                                                                                                                                                                                                                                                                                                                                                                                                                                                                                                                                                                 \n",
      "56016  saatisfaite du produit Cela fait plusieurs années que j'achète ms verres de contact chez Cleary                                                                                                                                                                                                                                                                                                                                                                                                                                                                                                                                                          \n",
      "56934  Très bon produit, bien construit et nettoie efficacement Il est très bien construit. La conception est ingénieuse et optimise le rangement des accessoires. Je l'utilise pour le lavage des tapis d'auto. Il est vraiment très efficace.  Je le recommande. Bravo!                                                                                                                                                                                                                                                                                                                                                                                       \n",
      "59022  Confortável Corri 21,1 km com ele é foi TOP!                                                                                                                                                                                                                                                                                                                                                                                                                                                                                                                                                                                                             \n",
      "59373  Klaassss WUNDERBAR                                                                                                                                                                                                                                                                                                                                                                                                                                                                                                                                                                                                                                       \n",
      "59517  todo gracias a TONI por sus atenciones todo gracias a TONI por sus atenciones                                                                                                                                                                                                                                                                                                                                                                                                                                                                                                                                                                            \n",
      "59539  Solidité des poignées Est ce que quelqu'un va daigner me répondre ?! J'attends un retour du service client depuis une semaine car j'ai reçu cet article endommagé... Est ce que par hasard le service Qualité s'est rendu compte que cet article n'était pas robuste ??                                                                                                                                                                                                                                                                                                                                                                                  \n",
      "59932  Si Buen producto buena calidad y facil de armar                                                                                                                                                                                                                                                                                                                                                                                                                                                                                                                                                                                                          \n",
      "60082  Todo Bien Muchas Gracias!! Muchas Gracias por su servicio!!!                                                                                                                                                                                                                                                                                                                                                                                                                                                                                                                                                                                             \n",
      "60083  nan                                                                                                                                                                                                                                                                                                                                                                                                                                                                                                                                                                                                                                                      \n",
      "61064  nan                                                                                                                                                                                                                                                                                                                                                                                                                                                                                                                                                                                                                                                      \n",
      "61496  bon service ! bon service !    Merci !\\nPierre                                                                                                                                                                                                                                                                                                                                                                                                                                                                                                                                                                                                           \n",
      "62487  Super nice Muy bonito me gusto mucho                                                                                                                                                                                                                                                                                                                                                                                                                                                                                                                                                                                                                     \n",
      "63251  Oui je vais acheter ce produit encore..... Le plus beau beurre de karité utilisé à ce jour , en plus il est équitable.....merci beaucoup!                                                                                                                                                                                                                                                                                                                                                                                                                                                                                                                \n",
      "63738  Bonita esta bonita                                                                                                                                                                                                                                                                                                                                                                                                                                                                                                                                                                                                                                       \n",
      "63966  nan                                                                                                                                                                                                                                                                                                                                                                                                                                                                                                                                                                                                                                                      \n",
      "64772  Buen diseño Se ve muy bonita en mi esposo le queda perfecto                                                                                                                                                                                                                                                                                                                                                                                                                                                                                                                                                                                              \n",
      "65090  Cute , and comfortable Compré 14 y es exacto, es cómodo y de muy buena calidad..                                                                                                                                                                                                                                                                                                                                                                                                                                                                                                                                                                         \n",
      "65294  Super produit Super produit, super couleur arrivé en bon état Merci                                                                                                                                                                                                                                                                                                                                                                                                                                                                                                                                                                                      \n",
      "66143  Volvería a comprar de esta marca de ropa Es la primera vez que compro esta marca y me pareció de muy buena calidad. La tela es muy suave al tacto y la talla correcta.                                                                                                                                                                                                                                                                                                                                                                                                                                                                                   \n",
      "66266  Ne Nazalost, boja nije ona koja sam mislila da je...moracu vratiti...                                                                                                                                                                                                                                                                                                                                                                                                                                                                                                                                                                                    \n",
      "66269  Uvek Nema umora, kao da sam bosa...                                                                                                                                                                                                                                                                                                                                                                                                                                                                                                                                                                                                                      \n",
      "67326  Excelente chauqueta Muy cómoda, material resistente, y luce genial                                                                                                                                                                                                                                                                                                                                                                                                                                                                                                                                                                                       \n",
      "67636  Oui J'adore                                                                                                                                                                                                                                                                                                                                                                                                                                                                                                                                                                                                                                              \n",
      "67646  Excelent! Me encanta toda la línea, super pigmentos y durabilidad                                                                                                                                                                                                                                                                                                                                                                                                                                                                                                                                                                                        \n",
      "67662  Oui Magnifique                                                                                                                                                                                                                                                                                                                                                                                                                                                                                                                                                                                                                                           \n",
      "\n",
      "      PRED_LANG          FIRST_WORD  SECOND_WORD  nltk_test  secondword_eng  \\\n",
      "21     es        true                match        True       True             \n",
      "45     UNKNOWN   good                             True       False            \n",
      "201    es        strength            cure         True       True             \n",
      "355    es        pureology           conditioner  False      True             \n",
      "499    es        si                  el           True       True             \n",
      "933    es        material            muy          True       True             \n",
      "1692   fr        j                   achèterai    True       False            \n",
      "3375   fr        bien                confortable  True       False            \n",
      "3413   fr        première            fois         False      True             \n",
      "3510   pt        muy                 bueno        False      False            \n",
      "3883   es        excelentes          para         False      True             \n",
      "4111   ca        product             review       True       True             \n",
      "5052   es        si                  sin          True       True             \n",
      "5492   UNKNOWN   excelente           muy          True       True             \n",
      "7741   es        me                  encantan     True       False            \n",
      "9891   es        excelentes          las          False      True             \n",
      "9988   UNKNOWN   bad                 bad          True       True             \n",
      "10269  es        undisclosed         muy          True       True             \n",
      "10478  UNKNOWN   si                  optimo       True       False            \n",
      "10584  fr        tres                bon          False      True             \n",
      "10699  fr        mon                 pied         True       True             \n",
      "11599  es        me                  encantan     True       False            \n",
      "11612  fr        plus                jamais       True       False            \n",
      "11876  en        thanks              delonghi     True       False            \n",
      "12144  UNKNOWN   nan                 NaN          True       False            \n",
      "13818  UNKNOWN   perfect             perfect      True       True             \n",
      "15088  es        julia               me           False      True             \n",
      "15143  it        comentario          tiene        False      True             \n",
      "17096  es        es                  la           True       True             \n",
      "17457  es        falta               del          False      True             \n",
      "19020  fr        carte               de           True       True             \n",
      "20021  es        me                  super        True       True             \n",
      "20481  en        this                product      True       True             \n",
      "20522  id        late                product      True       True             \n",
      "20527  UNKNOWN   nan                 NaN          True       False            \n",
      "20567  UNKNOWN   nan                 NaN          True       False            \n",
      "20893  eo        si                  está         True       False            \n",
      "23970  UNKNOWN   excelente           excelente    True       True             \n",
      "24046  es        como                comprar      False      False            \n",
      "24082  fr        en                  temps        True       True             \n",
      "24351  es        olorosa             mente        False      True             \n",
      "24782  UNKNOWN   si                  excelente    True       True             \n",
      "24959  fr        un                  bon          True       True             \n",
      "26179  es        amo                 todos        False      False            \n",
      "26185  eo        me                  encanto      True       False            \n",
      "26994  es        buen                precio       False      True             \n",
      "27523  es        yo                  comencé      True       False            \n",
      "27785  es        rapido              y            False      True             \n",
      "28101  es        perfecta            justo        False      True             \n",
      "28645  en        다른                  색상           False      False            \n",
      "28781  UNKNOWN   nan                 NaN          True       False            \n",
      "28868  en        i                   never        True       True             \n",
      "32156  es        extraordinaria      compra       False      True             \n",
      "35274  fr        écriture            peu          False      True             \n",
      "36638  en        다른                  색상           False      False            \n",
      "37072  UNKNOWN   klaassss            wunderbar    False      True             \n",
      "38623  UNKNOWN   nan                 NaN          True       False            \n",
      "39695  tn        molto               buono        False      False            \n",
      "39749  es        beef                jerky        True       True             \n",
      "41227  es        es                  una          True       True             \n",
      "41887  fr        très                bien         False      True             \n",
      "41954  es        me                  dio          True       True             \n",
      "42399  es        yes                 excelente    True       True             \n",
      "42419  UNKNOWN   si                  buenos       True       False            \n",
      "42591  es        si                  practico     True       True             \n",
      "44081  es        lo                  mejor        True       True             \n",
      "47727  UNKNOWN   nan                 NaN          True       False            \n",
      "48141  af        kwaliteitsdrukwerk  zeer         False      False            \n",
      "48417  es        jerky               review       True       True             \n",
      "48440  UNKNOWN   nan                 NaN          True       False            \n",
      "48454  UNKNOWN   nan                 NaN          True       False            \n",
      "52125  UNKNOWN   nan                 NaN          True       False            \n",
      "52417  es        excelente           gracias      True       True             \n",
      "54251  fr        belle               coupe        True       True             \n",
      "55026  ko        so                  perfect      True       True             \n",
      "56016  fr        saatisfaite         du           False      True             \n",
      "56934  fr        très                bon          False      True             \n",
      "59022  ca        confortável         corri        False      True             \n",
      "59373  UNKNOWN   klaassss            wunderbar    False      True             \n",
      "59517  es        todo                gracias      False      True             \n",
      "59539  fr        solidité            des          False      True             \n",
      "59932  es        si                  buen         True       True             \n",
      "60082  es        todo                bien         False      True             \n",
      "60083  UNKNOWN   nan                 NaN          True       False            \n",
      "61064  UNKNOWN   nan                 NaN          True       False            \n",
      "61496  nb        bon                 service      True       True             \n",
      "62487  nso       super               nice         True       True             \n",
      "63251  fr        oui                 je           False      True             \n",
      "63738  UNKNOWN   bonita              esta         False      True             \n",
      "63966  UNKNOWN   nan                 NaN          True       False            \n",
      "64772  es        buen                diseño       False      False            \n",
      "65090  es        cute                             True       False            \n",
      "65294  la        super               produit      True       False            \n",
      "66143  es        volvería            a            False      True             \n",
      "66266  hr        ne                  nazalost     True       False            \n",
      "66269  hr        uvek                nema         False      True             \n",
      "67326  pt        excelente           chauqueta    True       False            \n",
      "67636  UNKNOWN   oui                 j            False      True             \n",
      "67646  es        excelent                         False      False            \n",
      "67662  UNKNOWN   oui                 magnifique   False      True             \n",
      "\n",
      "       firstword_eng  \\\n",
      "21     True            \n",
      "45     True            \n",
      "201    True            \n",
      "355    False           \n",
      "499    True            \n",
      "933    True            \n",
      "1692   True            \n",
      "3375   True            \n",
      "3413   False           \n",
      "3510   True            \n",
      "3883   False           \n",
      "4111   True            \n",
      "5052   True            \n",
      "5492   True            \n",
      "7741   True            \n",
      "9891   False           \n",
      "9988   True            \n",
      "10269  True            \n",
      "10478  True            \n",
      "10584  True            \n",
      "10699  True            \n",
      "11599  True            \n",
      "11612  True            \n",
      "11876  True            \n",
      "12144  True            \n",
      "13818  True            \n",
      "15088  True            \n",
      "15143  False           \n",
      "17096  True            \n",
      "17457  False           \n",
      "19020  True            \n",
      "20021  True            \n",
      "20481  True            \n",
      "20522  True            \n",
      "20527  True            \n",
      "20567  True            \n",
      "20893  True            \n",
      "23970  True            \n",
      "24046  True            \n",
      "24082  True            \n",
      "24351  False           \n",
      "24782  True            \n",
      "24959  True            \n",
      "26179  True            \n",
      "26185  True            \n",
      "26994  True            \n",
      "27523  True            \n",
      "27785  True            \n",
      "28101  True            \n",
      "28645  False           \n",
      "28781  True            \n",
      "28868  True            \n",
      "32156  False           \n",
      "35274  False           \n",
      "36638  False           \n",
      "37072  False           \n",
      "38623  True            \n",
      "39695  True            \n",
      "39749  True            \n",
      "41227  True            \n",
      "41887  False           \n",
      "41954  True            \n",
      "42399  True            \n",
      "42419  True            \n",
      "42591  True            \n",
      "44081  True            \n",
      "47727  True            \n",
      "48141  False           \n",
      "48417  True            \n",
      "48440  True            \n",
      "48454  True            \n",
      "52125  True            \n",
      "52417  True            \n",
      "54251  True            \n",
      "55026  True            \n",
      "56016  False           \n",
      "56934  False           \n",
      "59022  False           \n",
      "59373  False           \n",
      "59517  True            \n",
      "59539  False           \n",
      "59932  True            \n",
      "60082  True            \n",
      "60083  True            \n",
      "61064  True            \n",
      "61496  True            \n",
      "62487  True            \n",
      "63251  True            \n",
      "63738  True            \n",
      "63966  True            \n",
      "64772  True            \n",
      "65090  True            \n",
      "65294  True            \n",
      "66143  False           \n",
      "66266  True            \n",
      "66269  False           \n",
      "67326  True            \n",
      "67636  True            \n",
      "67646  True            \n",
      "67662  True            \n",
      "\n",
      "                                                                                                                                                                                                                                                                                                                                                                                                                                                                                                                                                                                                                                                 ALL_TEXT_2  \\\n",
      "21     True match Muy buena me encanta mucho y va con mi tono de piel                                                                                                                                                                                                                                                                                                                                                                                                                                                                                                                                                                                         \n",
      "45     GOOD  GOOD                                                                                                                                                                                                                                                                                                                                                                                                                                                                                                                                                                                                                                             \n",
      "201    Strength cure Strength cure pureology es un producto muy confiable para el cabello lo deja muy suave y saludable aparte que es un producto vegano súper recomendable                                                                                                                                                                                                                                                                                                                                                                                                                                                                                   \n",
      "355    Pureology conditioner Pureology conditioner me encanto me dijo el pelo súper suave                                                                                                                                                                                                                                                                                                                                                                                                                                                                                                                                                                     \n",
      "499    si El producto es de muy alta calidad y la entrega fue perfecta  gracias                                                                                                                                                                                                                                                                                                                                                                                                                                                                                                                                                                               \n",
      "933    MATERIAL MUY DURO No me gusto el material  es muy duro y nos es muy abrigado  casi no lo uso  en la foto se veia increible  pero no lo es                                                                                                                                                                                                                                                                                                                                                                                                                                                                                                              \n",
      "1692   J achèterai de nouveau et je recommanderai sans hésiter  Coup de cœur  Ultra comfortables  super chaudes  faciles et rapides à enfiler  Je suis vendue                                                                                                                                                                                                                                                                                                                                                                                                                                                                                                 \n",
      "3375   Bien confortable et ajustable beau tissus Bon achat                                                                                                                                                                                                                                                                                                                                                                                                                                                                                                                                                                                                    \n",
      "3413   Première fois que je commande donc j attends d abord de r    Première fois que je commande donc j attends d abord de recevoir mon colis                                                                                                                                                                                                                                                                                                                                                                                                                                                                                                                \n",
      "3510   Muy bueno Muy buenos zapatos                                                                                                                                                                                                                                                                                                                                                                                                                                                                                                                                                                                                                           \n",
      "3883   Excelentes para trabajar Es un producto excelente en todo sentido                                                                                                                                                                                                                                                                                                                                                                                                                                                                                                                                                                                      \n",
      "4111   Product Review Preciosa fina y elegante  correcta talla y aún más preciosa en físico 5 estrella                                                                                                                                                                                                                                                                                                                                                                                                                                                                                                                                                        \n",
      "5052   Si Sin muy lindos y cómodos  Y el color está expectacular                                                                                                                                                                                                                                                                                                                                                                                                                                                                                                                                                                                              \n",
      "5492   excelente muy bueno                                                                                                                                                                                                                                                                                                                                                                                                                                                                                                                                                                                                                                    \n",
      "7741   Me encantan Hermosos  llegaron antes de lo esperado  me encantan                                                                                                                                                                                                                                                                                                                                                                                                                                                                                                                                                                                       \n",
      "9891   Excelentes las tengo en Excelentes las tengo en todos los tamaños ya que las uso constantemente  Puedes almacenar todo tipo de comidas ya sean congeladas o para enviarle meriendas a las niñas                                                                                                                                                                                                                                                                                                                                                                                                                                                        \n",
      "9988   Bad Bad                                                                                                                                                                                                                                                                                                                                                                                                                                                                                                                                                                                                                                                \n",
      "10269  Undisclosed muy buen servicio y atencion   satisfecho de la atencion                                                                                                                                                                                                                                                                                                                                                                                                                                                                                                                                                                                   \n",
      "10478  Si Optimo quality                                                                                                                                                                                                                                                                                                                                                                                                                                                                                                                                                                                                                                      \n",
      "10584  TRes bon Tres bon avec le bœuf autant qu avec le poulet Je suis très déçu que ça ne soit que pour un temps limité                                                                                                                                                                                                                                                                                                                                                                                                                                                                                                                                      \n",
      "10699  Mon pied ne rentrait même pas  Pourtant  je suis une habituée de BOGS  j en achète chaque année  Mais dans ce modèle  je ne suis pas parvenue à rentrer mon pied à l intérieur  Je ne me suis pas acharnée non plus   mettons qu au quotidien on a pas envie de vivre se désagrément                                                                                                                                                                                                                                                                                                                                                                   \n",
      "11599  Me encantan sus productos pero No puedo dar un review  de una mercancía que todavía estoy esperando que me llegue  Es la primera vez que me pasa esto con ustedes  ya hice mi reclamación y aun estoy en la espera de que me respondan  Quería que me llegara antes de navidad pues eran obsequios                                                                                                                                                                                                                                                                                                                                                     \n",
      "11612  Plus jamais  Si vous êtes français françaises passés votre chemin  vous ne recevrez jamais votre commande                                                                                                                                                                                                                                                                                                                                                                                                                                                                                                                                              \n",
      "11876  Thanks delonghi Primeiro de tudo  eu quero agradecer a toda a equipa da delonghi por ter material sobressalente a preços acessíveis e pela encomenda chegar dentro do tempo esperado  A montagem foi rápida e fácil  Eu aproveitei as anilhas da válvula antiga para a nova  Tudo funciona na perfeição e eu voltei a ter café   Obrigado   my native language   First of all  I want to thank the entire delonghi team for having spare material at affordable prices and for the order to arrive on time  Assembly was quick and easy  I used the washers from the old valve to the new one  Everything works perfectly and I have coffee again      \n",
      "12144  nan                                                                                                                                                                                                                                                                                                                                                                                                                                                                                                                                                                                                                                                    \n",
      "13818  Perfect Perfect                                                                                                                                                                                                                                                                                                                                                                                                                                                                                                                                                                                                                                        \n",
      "15088  Julia Me gusta mucho la calidad es muy buena se le Mira muy bien a mi hijo le encanto  combina con mucho estilos                                                                                                                                                                                                                                                                                                                                                                                                                                                                                                                                       \n",
      "15143  comentario tiene un talle perfecto                                                                                                                                                                                                                                                                                                                                                                                                                                                                                                                                                                                                                     \n",
      "17096  Es la segunda vez que compro esta crema me gusto como deja m Me deja la piel normal fresca                                                                                                                                                                                                                                                                                                                                                                                                                                                                                                                                                             \n",
      "17457  Falta del producto a ultima hora me cancelaron mi compra  ya que por lo visto no tenían la talla que en la pagina seleccione                                                                                                                                                                                                                                                                                                                                                                                                                                                                                                                           \n",
      "19020  Carte de nouvel an J ai été ravi du résultat et je recommanderai quand l occasion se présentera                                                                                                                                                                                                                                                                                                                                                                                                                                                                                                                                                        \n",
      "20021  Me super encanto Lo recomiendo te deja suabe y limpia tu piel te encantara cuando la pruebes y ademas esta abuen presio                                                                                                                                                                                                                                                                                                                                                                                                                                                                                                                                \n",
      "20481  This product works on This product works on almost all stains   if a stain is really bad then leave shout on longer and it will get it out   It s a great product                                                                                                                                                                                                                                                                                                                                                                                                                                                                                      \n",
      "20522  Late product Barang sampai hari ni x sampai macam mana staff buat kerja saya xfaham lah sampai berapa tahun saya kena tunggu                                                                                                                                                                                                                                                                                                                                                                                                                                                                                                                           \n",
      "20527  nan                                                                                                                                                                                                                                                                                                                                                                                                                                                                                                                                                                                                                                                    \n",
      "20567  nan                                                                                                                                                                                                                                                                                                                                                                                                                                                                                                                                                                                                                                                    \n",
      "20893  Si Está muy bonito  megusto  mucho                                                                                                                                                                                                                                                                                                                                                                                                                                                                                                                                                                                                                     \n",
      "23970  Excelente Excelente                                                                                                                                                                                                                                                                                                                                                                                                                                                                                                                                                                                                                                    \n",
      "24046  Como Comprar bicicleta   Quiero comprar online  que necesito                                                                                                                                                                                                                                                                                                                                                                                                                                                                                                                                                                                           \n",
      "24082  En temps de pandémie on doit apprendre à se contenter  Avant le confinement et la pandémie j avais une paire de cette marque que j adorais  L achat en ligne a été très décevant  Si c était à refaire  je ne le ferai pas  Très déçue  J ai l impression que la qualité n est pas la même ni la taille                                                                                                                                                                                                                                                                                                                                                \n",
      "24351  Olorosa mente agradable  La he conservado en mi baño y es impresionante el olor riquísimo y ha durado bastante                                                                                                                                                                                                                                                                                                                                                                                                                                                                                                                                         \n",
      "24782  Si Excelente                                                                                                                                                                                                                                                                                                                                                                                                                                                                                                                                                                                                                                           \n",
      "24959  Un bon achat  Je peux constater que l auteur y a mis beaucoup de travail  Un sujet pas assez discuté qui ne faut avoir peur de rechercher et comprendre  Je donne ce livre un 10 10 pour le travail ardu de l écrivain                                                                                                                                                                                                                                                                                                                                                                                                                                 \n",
      "26179  amo todos los productos p amo todos los productos para cejas y Benefit siempre es un gran favorito                                                                                                                                                                                                                                                                                                                                                                                                                                                                                                                                                     \n",
      "26185  Me encanto      ù  ù  ù   Me encanto      ù  ù  ù  ù  ù                                                                                                                                                                                                                                                                                                                                                                                                                                                                                                                                                                                                \n",
      "26994  BUEN PRECIO BUEN PRECIO                                                                                                                                                                                                                                                                                                                                                                                                                                                                                                                                                                                                                                \n",
      "27523  Yo comencé a probarlo Yo comencé a probarlo desde que empezó la pandemia y la verdad se convirtió en uno de mis favoritos además su aroma es increíble                                                                                                                                                                                                                                                                                                                                                                                                                                                                                                 \n",
      "27785  Rapido y bien protejido el paquete y el producto  Rapido y bien protejido el paquete y el producto  Gracias                                                                                                                                                                                                                                                                                                                                                                                                                                                                                                                                            \n",
      "28101  Perfecta justo loque nesesitaba lo recomiendo 100  La amee  esta super buena esta agua de rosas selas recomiendo                                                                                                                                                                                                                                                                                                                                                                                                                                                                                                                                       \n",
      "28645  다른 색상 재구매의사있어요  The clothes are pretty and sophisticated                                                                                                                                                                                                                                                                                                                                                                                                                                                                                                                                                                                               \n",
      "28781  nan                                                                                                                                                                                                                                                                                                                                                                                                                                                                                                                                                                                                                                                    \n",
      "28868  I never had a bad experience with Crazy Shirts  even when    I never had a bad experience with Crazy Shirts  even when I had to return an item   Great items  great company and great customer service   Mahalol nui loa                                                                                                                                                                                                                                                                                                                                                                                                                               \n",
      "32156  Extraordinaria compra y productos  Extraordinaria compra y productos                                                                                                                                                                                                                                                                                                                                                                                                                                                                                                                                                                                   \n",
      "35274  Écriture peu visible Le chandail est bien  mais l écriture blanche n est pas du tout sortie comme sur l image  Elle est peu visible sur le design du fond                                                                                                                                                                                                                                                                                                                                                                                                                                                                                              \n",
      "36638  다른 색상 재구매의사있어요  It is light  easy to wear  and sophisticated                                                                                                                                                                                                                                                                                                                                                                                                                                                                                                                                                                                           \n",
      "37072  Klaassss WUNDERBAR                                                                                                                                                                                                                                                                                                                                                                                                                                                                                                                                                                                                                                     \n",
      "38623  nan                                                                                                                                                                                                                                                                                                                                                                                                                                                                                                                                                                                                                                                    \n",
      "39695  molto buono molto buono                                                                                                                                                                                                                                                                                                                                                                                                                                                                                                                                                                                                                                \n",
      "39749  Beef Jerky Sticks Review  trynatural  gotitfree  socialnature   Una maravilla de producto algo diferente que no habia probado pero me gusto sabe muy rico sus ingredientes y es saludable                                                                                                                                                                                                                                                                                                                                                                                                                                                              \n",
      "41227  Es una bermuda de tela suave Combina con todo con camisas  camisetas a mi hijo le encanta no dudes en pedirla es una excelente opción                                                                                                                                                                                                                                                                                                                                                                                                                                                                                                                  \n",
      "41887  Très bien Parfait mais un brin grand pour moi qui porte des 5 6                                                                                                                                                                                                                                                                                                                                                                                                                                                                                                                                                                                        \n",
      "41954  Me dio un poco de problemas el checkout Me dio un poco de problemas el checkout                                                                                                                                                                                                                                                                                                                                                                                                                                                                                                                                                                        \n",
      "42399  Yes Excelente producto  solo que llegaron sin tapa                                                                                                                                                                                                                                                                                                                                                                                                                                                                                                                                                                                                     \n",
      "42419  Si Buenos                                                                                                                                                                                                                                                                                                                                                                                                                                                                                                                                                                                                                                              \n",
      "42591  si Practico natación para mantenerme en forma física en la playa y piscina  1000m                                                                                                                                                                                                                                                                                                                                                                                                                                                                                                                                                                      \n",
      "44081  Lo mejor para las cejas d Lo mejor para las cejas definitivamente                                                                                                                                                                                                                                                                                                                                                                                                                                                                                                                                                                                      \n",
      "47727  nan                                                                                                                                                                                                                                                                                                                                                                                                                                                                                                                                                                                                                                                    \n",
      "48141  KWALITEITSDRUKWERK Zeer mooie uitvoering                                                                                                                                                                                                                                                                                                                                                                                                                                                                                                                                                                                                               \n",
      "48417  Jerky Review Me gusto mucho su sabor fue increible la testura mmucho mejoe que otras marca que he probado  lo recomiendo y si lo compraria muchas veces  estos productos son de calidad y geniale  Gracias Socialnature                                                                                                                                                                                                                                                                                                                                                                                                                                \n",
      "48440  nan                                                                                                                                                                                                                                                                                                                                                                                                                                                                                                                                                                                                                                                    \n",
      "48454  nan                                                                                                                                                                                                                                                                                                                                                                                                                                                                                                                                                                                                                                                    \n",
      "52125  nan                                                                                                                                                                                                                                                                                                                                                                                                                                                                                                                                                                                                                                                    \n",
      "52417  Excelente Gracias a  BzzAgent por enviarme esta agua Micellar de Botanics  Me encanta es muy buena mi piel se siente y luce más limpia y fresca  Es para todo tipo de piel y me funciono bien para mi piel sensible  Remueve muy bien mi maquillaje sin dejarme residuos                                                                                                                                                                                                                                                                                                                                                                               \n",
      "54251  Belle coupe Très belle confortable                                                                                                                                                                                                                                                                                                                                                                                                                                                                                                                                                                                                                     \n",
      "55026  So perfect product 털이 너무 푹신하고 따듯하다 선물로 줬는데 너무 좋아했다 고마워                                                                                                                                                                                                                                                                                                                                                                                                                                                                                                                                                                                                 \n",
      "56016  saatisfaite du produit Cela fait plusieurs années que j achète ms verres de contact chez Cleary                                                                                                                                                                                                                                                                                                                                                                                                                                                                                                                                                        \n",
      "56934  Très bon produit  bien construit et nettoie efficacement Il est très bien construit  La conception est ingénieuse et optimise le rangement des accessoires  Je l utilise pour le lavage des tapis d auto  Il est vraiment très efficace   Je le recommande  Bravo                                                                                                                                                                                                                                                                                                                                                                                      \n",
      "59022  Confortável Corri 21 1 km com ele é foi TOP                                                                                                                                                                                                                                                                                                                                                                                                                                                                                                                                                                                                            \n",
      "59373  Klaassss WUNDERBAR                                                                                                                                                                                                                                                                                                                                                                                                                                                                                                                                                                                                                                     \n",
      "59517  todo gracias a TONI por sus atenciones todo gracias a TONI por sus atenciones                                                                                                                                                                                                                                                                                                                                                                                                                                                                                                                                                                          \n",
      "59539  Solidité des poignées Est ce que quelqu un va daigner me répondre    J attends un retour du service client depuis une semaine car j ai reçu cet article endommagé    Est ce que par hasard le service Qualité s est rendu compte que cet article n était pas robuste                                                                                                                                                                                                                                                                                                                                                                                   \n",
      "59932  Si Buen producto buena calidad y facil de armar                                                                                                                                                                                                                                                                                                                                                                                                                                                                                                                                                                                                        \n",
      "60082  Todo Bien Muchas Gracias   Muchas Gracias por su servicio                                                                                                                                                                                                                                                                                                                                                                                                                                                                                                                                                                                              \n",
      "60083  nan                                                                                                                                                                                                                                                                                                                                                                                                                                                                                                                                                                                                                                                    \n",
      "61064  nan                                                                                                                                                                                                                                                                                                                                                                                                                                                                                                                                                                                                                                                    \n",
      "61496  bon service   bon service      Merci   Pierre                                                                                                                                                                                                                                                                                                                                                                                                                                                                                                                                                                                                          \n",
      "62487  Super nice Muy bonito me gusto mucho                                                                                                                                                                                                                                                                                                                                                                                                                                                                                                                                                                                                                   \n",
      "63251  Oui je vais acheter ce produit encore      Le plus beau beurre de karité utilisé à ce jour   en plus il est équitable     merci beaucoup                                                                                                                                                                                                                                                                                                                                                                                                                                                                                                               \n",
      "63738  Bonita esta bonita                                                                                                                                                                                                                                                                                                                                                                                                                                                                                                                                                                                                                                     \n",
      "63966  nan                                                                                                                                                                                                                                                                                                                                                                                                                                                                                                                                                                                                                                                    \n",
      "64772  Buen diseño Se ve muy bonita en mi esposo le queda perfecto                                                                                                                                                                                                                                                                                                                                                                                                                                                                                                                                                                                            \n",
      "65090  Cute   and comfortable Compré 14 y es exacto  es cómodo y de muy buena calidad                                                                                                                                                                                                                                                                                                                                                                                                                                                                                                                                                                         \n",
      "65294  Super produit Super produit  super couleur arrivé en bon état Merci                                                                                                                                                                                                                                                                                                                                                                                                                                                                                                                                                                                    \n",
      "66143  Volvería a comprar de esta marca de ropa Es la primera vez que compro esta marca y me pareció de muy buena calidad  La tela es muy suave al tacto y la talla correcta                                                                                                                                                                                                                                                                                                                                                                                                                                                                                  \n",
      "66266  Ne Nazalost  boja nije ona koja sam mislila da je   moracu vratiti                                                                                                                                                                                                                                                                                                                                                                                                                                                                                                                                                                                     \n",
      "66269  Uvek Nema umora  kao da sam bosa                                                                                                                                                                                                                                                                                                                                                                                                                                                                                                                                                                                                                       \n",
      "67326  Excelente chauqueta Muy cómoda  material resistente  y luce genial                                                                                                                                                                                                                                                                                                                                                                                                                                                                                                                                                                                     \n",
      "67636  Oui J adore                                                                                                                                                                                                                                                                                                                                                                                                                                                                                                                                                                                                                                            \n",
      "67646  Excelent  Me encanta toda la línea  super pigmentos y durabilidad                                                                                                                                                                                                                                                                                                                                                                                                                                                                                                                                                                                      \n",
      "67662  Oui Magnifique                                                                                                                                                                                                                                                                                                                                                                                                                                                                                                                                                                                                                                         \n",
      "\n",
      "       model_FL  \n",
      "21     0         \n",
      "45     0         \n",
      "201    0         \n",
      "355    0         \n",
      "499    0         \n",
      "933    0         \n",
      "1692   0         \n",
      "3375   0         \n",
      "3413   0         \n",
      "3510   0         \n",
      "3883   0         \n",
      "4111   0         \n",
      "5052   0         \n",
      "5492   0         \n",
      "7741   0         \n",
      "9891   0         \n",
      "9988   0         \n",
      "10269  0         \n",
      "10478  0         \n",
      "10584  0         \n",
      "10699  0         \n",
      "11599  0         \n",
      "11612  0         \n",
      "11876  0         \n",
      "12144  0         \n",
      "13818  0         \n",
      "15088  0         \n",
      "15143  0         \n",
      "17096  0         \n",
      "17457  0         \n",
      "19020  0         \n",
      "20021  0         \n",
      "20481  0         \n",
      "20522  0         \n",
      "20527  0         \n",
      "20567  0         \n",
      "20893  0         \n",
      "23970  0         \n",
      "24046  0         \n",
      "24082  0         \n",
      "24351  0         \n",
      "24782  0         \n",
      "24959  0         \n",
      "26179  0         \n",
      "26185  0         \n",
      "26994  0         \n",
      "27523  0         \n",
      "27785  0         \n",
      "28101  0         \n",
      "28645  0         \n",
      "28781  0         \n",
      "28868  0         \n",
      "32156  0         \n",
      "35274  0         \n",
      "36638  0         \n",
      "37072  0         \n",
      "38623  0         \n",
      "39695  0         \n",
      "39749  0         \n",
      "41227  0         \n",
      "41887  0         \n",
      "41954  0         \n",
      "42399  0         \n",
      "42419  0         \n",
      "42591  0         \n",
      "44081  0         \n",
      "47727  0         \n",
      "48141  0         \n",
      "48417  0         \n",
      "48440  0         \n",
      "48454  0         \n",
      "52125  0         \n",
      "52417  0         \n",
      "54251  0         \n",
      "55026  0         \n",
      "56016  0         \n",
      "56934  0         \n",
      "59022  0         \n",
      "59373  0         \n",
      "59517  0         \n",
      "59539  0         \n",
      "59932  0         \n",
      "60082  0         \n",
      "60083  0         \n",
      "61064  0         \n",
      "61496  0         \n",
      "62487  0         \n",
      "63251  0         \n",
      "63738  0         \n",
      "63966  0         \n",
      "64772  0         \n",
      "65090  0         \n",
      "65294  0         \n",
      "66143  0         \n",
      "66266  0         \n",
      "66269  0         \n",
      "67326  0         \n",
      "67636  0         \n",
      "67646  0         \n",
      "67662  0"
     ]
    }
   ],
   "source": [
    "FN.head(100)"
   ]
  },
  {
   "cell_type": "code",
   "execution_count": null,
   "metadata": {},
   "outputs": [],
   "source": []
  },
  {
   "cell_type": "code",
   "execution_count": 19,
   "metadata": {},
   "outputs": [
    {
     "data": {
      "application/vnd.jupyter.widget-view+json": {
       "model_id": "02ca81056d384c2883df676e693a7e8d",
       "version_major": 2,
       "version_minor": 0
      },
      "text/plain": [
       "VBox()"
      ]
     },
     "metadata": {},
     "output_type": "display_data"
    },
    {
     "data": {
      "application/vnd.jupyter.widget-view+json": {
       "model_id": "",
       "version_major": 2,
       "version_minor": 0
      },
      "text/plain": [
       "FloatProgress(value=0.0, bar_style='info', description='Progress:', layout=Layout(height='25px', width='50%'),…"
      ]
     },
     "metadata": {},
     "output_type": "display_data"
    },
    {
     "name": "stdout",
     "output_type": "stream",
     "text": [
      "'cy'"
     ]
    }
   ],
   "source": [
    "detect('good good stuff')"
   ]
  },
  {
   "cell_type": "code",
   "execution_count": 28,
   "metadata": {},
   "outputs": [
    {
     "data": {
      "application/vnd.jupyter.widget-view+json": {
       "model_id": "df9121bbaf6b446da4c161bf2dabe36f",
       "version_major": 2,
       "version_minor": 0
      },
      "text/plain": [
       "VBox()"
      ]
     },
     "metadata": {},
     "output_type": "display_data"
    },
    {
     "data": {
      "application/vnd.jupyter.widget-view+json": {
       "model_id": "",
       "version_major": 2,
       "version_minor": 0
      },
      "text/plain": [
       "FloatProgress(value=0.0, bar_style='info', description='Progress:', layout=Layout(height='25px', width='50%'),…"
      ]
     },
     "metadata": {},
     "output_type": "display_data"
    },
    {
     "name": "stdout",
     "output_type": "stream",
     "text": [
      "<class 'pandas.core.frame.DataFrame'>\n",
      "Int64Index: 6456 entries, 638 to 8681798\n",
      "Data columns (total 17 columns):\n",
      " #   Column               Non-Null Count  Dtype \n",
      "---  ------               --------------  ----- \n",
      " 0   UGC_ID               6456 non-null   int64 \n",
      " 1   NAME                 6456 non-null   object\n",
      " 2   REVIEW_HEADLINE      6456 non-null   object\n",
      " 3   REVIEW_COMMENTS      6456 non-null   object\n",
      " 4   CR                   6456 non-null   int64 \n",
      " 5   ALL_TEXT             6456 non-null   object\n",
      " 6   NAME_1ST_PART_RAW    6456 non-null   object\n",
      " 7   NAME_1ST_PART        6456 non-null   object\n",
      " 8   ALL_TEXT_2           6456 non-null   object\n",
      " 9   ALL_TEXT_3           6456 non-null   object\n",
      " 10  ALL_TEXT_4           6456 non-null   object\n",
      " 11  ALL_TEXT_5           6456 non-null   object\n",
      " 12  ALL_TEXT_6           6456 non-null   object\n",
      " 13  ALL_TEXT_7           6456 non-null   object\n",
      " 14  regex_retailer       6456 non-null   object\n",
      " 15  retailer_not_client  6456 non-null   bool  \n",
      " 16  model_CR             6456 non-null   int64 \n",
      "dtypes: bool(1), int64(3), object(13)\n",
      "memory usage: 863.7+ KB"
     ]
    }
   ],
   "source": [
    "FP.info()"
   ]
  },
  {
   "cell_type": "code",
   "execution_count": 29,
   "metadata": {},
   "outputs": [
    {
     "data": {
      "application/vnd.jupyter.widget-view+json": {
       "model_id": "7b63a36fbf8c48ca8fa2b67837e6b4c3",
       "version_major": 2,
       "version_minor": 0
      },
      "text/plain": [
       "VBox()"
      ]
     },
     "metadata": {},
     "output_type": "display_data"
    },
    {
     "data": {
      "application/vnd.jupyter.widget-view+json": {
       "model_id": "",
       "version_major": 2,
       "version_minor": 0
      },
      "text/plain": [
       "FloatProgress(value=0.0, bar_style='info', description='Progress:', layout=Layout(height='25px', width='50%'),…"
      ]
     },
     "metadata": {},
     "output_type": "display_data"
    }
   ],
   "source": [
    "from pyspark.sql.types import *\n",
    "\n",
    "mySchema = StructType([StructField(\"UGC_ID\", StringType(), True)\\\n",
    ",StructField(\"NAME\", StringType(), True)\\\n",
    ",StructField(\"REVIEW_HEADLINE\", StringType(), True)\\\n",
    ",StructField(\"REVIEW_COMMENTS\", StringType(), True)\\\n",
    ",StructField(\"CR\", IntegerType(), True)\\\n",
    ",StructField(\"ALL_TEXT\", StringType(), True)\\\n",
    ",StructField(\"NAME_1ST_PART_RAW\", StringType(), True)\\\n",
    ",StructField(\"NAME_1ST_PART\", StringType(), True)\\\n",
    ",StructField(\"ALL_TEXT_2\", StringType(), True)\\\n",
    ",StructField(\"ALL_TEXT_3\", StringType(), True)\\\n",
    ",StructField(\"ALL_TEXT_4\", StringType(), True)\\\n",
    ",StructField(\"ALL_TEXT_5\", StringType(), True)\\\n",
    ",StructField(\"ALL_TEXT_6\", StringType(), True)\\\n",
    ",StructField(\"ALL_TEXT_7\", StringType(), True)\\\n",
    ",StructField(\"regex_retailer\", StringType(), True)\\\n",
    ",StructField(\"retailer_not_client\", StringType(), True)\\\n",
    ",StructField(\"model_CR\", IntegerType(), True)])\n",
    "\n"
   ]
  },
  {
   "cell_type": "code",
   "execution_count": null,
   "metadata": {},
   "outputs": [],
   "source": []
  },
  {
   "cell_type": "code",
   "execution_count": 30,
   "metadata": {},
   "outputs": [
    {
     "data": {
      "application/vnd.jupyter.widget-view+json": {
       "model_id": "3eccada86461474ea2d7ef8f780bb971",
       "version_major": 2,
       "version_minor": 0
      },
      "text/plain": [
       "VBox()"
      ]
     },
     "metadata": {},
     "output_type": "display_data"
    },
    {
     "data": {
      "application/vnd.jupyter.widget-view+json": {
       "model_id": "",
       "version_major": 2,
       "version_minor": 0
      },
      "text/plain": [
       "FloatProgress(value=0.0, bar_style='info', description='Progress:', layout=Layout(height='25px', width='50%'),…"
      ]
     },
     "metadata": {},
     "output_type": "display_data"
    }
   ],
   "source": [
    "SNOWFLAKE_SOURCE_NAME = \"net.snowflake.spark.snowflake\"\n",
    "\n",
    "sfOptions = {\n",
    "  'sfURL' : 'powerreviews.snowflakecomputing.com',\n",
    "  'sfAccount' : 'powerreviews',\n",
    "  'sfUser' : username,\n",
    "  'sfPassword' : password,\n",
    "  'sfDatabase' : 'ANALYTICS_WORKSHOP',\n",
    "  'sfSchema' : 'DATA_SCIENCE',\n",
    "  'sfWarehouse' : 'LOWER_ENV_WAREHOUSE'\n",
    "}"
   ]
  },
  {
   "cell_type": "code",
   "execution_count": 33,
   "metadata": {},
   "outputs": [
    {
     "data": {
      "application/vnd.jupyter.widget-view+json": {
       "model_id": "d6261cac98964cbdb8ea3cd35b38d68f",
       "version_major": 2,
       "version_minor": 0
      },
      "text/plain": [
       "VBox()"
      ]
     },
     "metadata": {},
     "output_type": "display_data"
    },
    {
     "data": {
      "application/vnd.jupyter.widget-view+json": {
       "model_id": "",
       "version_major": 2,
       "version_minor": 0
      },
      "text/plain": [
       "FloatProgress(value=0.0, bar_style='info', description='Progress:', layout=Layout(height='25px', width='50%'),…"
      ]
     },
     "metadata": {},
     "output_type": "display_data"
    }
   ],
   "source": [
    "#Turn into spark dataframe in order to write to Snowflake\n",
    "#Couldn't get write_pandas() to work to write directly from pandas to Snowflake\n",
    "FP = spark.createDataFrame(FP, schema=mySchema)"
   ]
  },
  {
   "cell_type": "code",
   "execution_count": 34,
   "metadata": {},
   "outputs": [
    {
     "data": {
      "application/vnd.jupyter.widget-view+json": {
       "model_id": "f0ee7e7db8b248da97d5ea56606b2dab",
       "version_major": 2,
       "version_minor": 0
      },
      "text/plain": [
       "VBox()"
      ]
     },
     "metadata": {},
     "output_type": "display_data"
    },
    {
     "data": {
      "application/vnd.jupyter.widget-view+json": {
       "model_id": "",
       "version_major": 2,
       "version_minor": 0
      },
      "text/plain": [
       "FloatProgress(value=0.0, bar_style='info', description='Progress:', layout=Layout(height='25px', width='50%'),…"
      ]
     },
     "metadata": {},
     "output_type": "display_data"
    }
   ],
   "source": [
    "FP.write.format(SNOWFLAKE_SOURCE_NAME).options(**sfOptions) \\\n",
    "    .option(\"dbtable\",\"CR_FP_test4\").mode(\"append\").save()\n"
   ]
  },
  {
   "cell_type": "code",
   "execution_count": null,
   "metadata": {},
   "outputs": [],
   "source": []
  },
  {
   "cell_type": "code",
   "execution_count": null,
   "metadata": {},
   "outputs": [],
   "source": []
  },
  {
   "cell_type": "code",
   "execution_count": null,
   "metadata": {},
   "outputs": [],
   "source": []
  },
  {
   "cell_type": "code",
   "execution_count": null,
   "metadata": {},
   "outputs": [],
   "source": []
  },
  {
   "cell_type": "code",
   "execution_count": 109,
   "metadata": {},
   "outputs": [
    {
     "data": {
      "application/vnd.jupyter.widget-view+json": {
       "model_id": "93f0f332017b42a4a6ef56a59b58a396",
       "version_major": 2,
       "version_minor": 0
      },
      "text/plain": [
       "VBox()"
      ]
     },
     "metadata": {},
     "output_type": "display_data"
    },
    {
     "data": {
      "application/vnd.jupyter.widget-view+json": {
       "model_id": "",
       "version_major": 2,
       "version_minor": 0
      },
      "text/plain": [
       "FloatProgress(value=0.0, bar_style='info', description='Progress:', layout=Layout(height='25px', width='50%'),…"
      ]
     },
     "metadata": {},
     "output_type": "display_data"
    },
    {
     "name": "stdout",
     "output_type": "stream",
     "text": [
      "<snowflake.connector.cursor.SnowflakeCursor object at 0x7f19fab41fd0>"
     ]
    }
   ],
   "source": [
    "conn.cursor().execute(\"drop table if exists ANALYTICS_WORKSHOP.DATA_SCIENCE.TST_FP_TEST3\")\n",
    "conn.cursor().execute(\"drop table if exists ANALYTICS_WORKSHOP.DATA_SCIENCE.TST_FN_TEST3\")\n",
    "#conn.cursor().execute(\"drop table if exists ANALYTICS_WORKSHOP.DATA_SCIENCE.TEST_NLP_SPARK6\")\n",
    "#conn.cursor().execute(\"drop table if exists ANALYTICS_WORKSHOP.DATA_SCIENCE.TEST_NLP_SWAP_TOKENS\")"
   ]
  }
 ],
 "metadata": {
  "kernelspec": {
   "display_name": "PySpark",
   "language": "",
   "name": "pysparkkernel"
  },
  "language_info": {
   "codemirror_mode": {
    "name": "python",
    "version": 2
   },
   "mimetype": "text/x-python",
   "name": "pyspark",
   "pygments_lexer": "python2"
  }
 },
 "nbformat": 4,
 "nbformat_minor": 4
}
