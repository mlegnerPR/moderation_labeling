{
 "cells": [
  {
   "cell_type": "code",
   "execution_count": 1,
   "metadata": {},
   "outputs": [
    {
     "data": {
      "application/vnd.jupyter.widget-view+json": {
       "model_id": "8c33f0ef1e784437a881f314cb95ffac",
       "version_major": 2,
       "version_minor": 0
      },
      "text/plain": [
       "VBox()"
      ]
     },
     "metadata": {},
     "output_type": "display_data"
    },
    {
     "name": "stdout",
     "output_type": "stream",
     "text": [
      "Starting Spark application\n"
     ]
    },
    {
     "data": {
      "text/html": [
       "<table>\n",
       "<tr><th>ID</th><th>YARN Application ID</th><th>Kind</th><th>State</th><th>Spark UI</th><th>Driver log</th><th>Current session?</th></tr><tr><td>1</td><td>application_1604935257368_0002</td><td>pyspark</td><td>idle</td><td><a target=\"_blank\" href=\"http://ip-10-101-214-68.us-west-2.compute.internal:20888/proxy/application_1604935257368_0002/\">Link</a></td><td><a target=\"_blank\" href=\"http://ip-10-101-214-68.us-west-2.compute.internal:8042/node/containerlogs/container_1604935257368_0002_01_000001/livy\">Link</a></td><td>✔</td></tr></table>"
      ],
      "text/plain": [
       "<IPython.core.display.HTML object>"
      ]
     },
     "metadata": {},
     "output_type": "display_data"
    },
    {
     "data": {
      "application/vnd.jupyter.widget-view+json": {
       "model_id": "",
       "version_major": 2,
       "version_minor": 0
      },
      "text/plain": [
       "FloatProgress(value=0.0, bar_style='info', description='Progress:', layout=Layout(height='25px', width='50%'),…"
      ]
     },
     "metadata": {},
     "output_type": "display_data"
    },
    {
     "name": "stdout",
     "output_type": "stream",
     "text": [
      "SparkSession available as 'spark'.\n"
     ]
    },
    {
     "data": {
      "application/vnd.jupyter.widget-view+json": {
       "model_id": "",
       "version_major": 2,
       "version_minor": 0
      },
      "text/plain": [
       "FloatProgress(value=0.0, bar_style='info', description='Progress:', layout=Layout(height='25px', width='50%'),…"
      ]
     },
     "metadata": {},
     "output_type": "display_data"
    }
   ],
   "source": [
    "\n",
    "\n",
    "#Packages needed for testing\n",
    "import snowflake.connector\n",
    "import pickle\n",
    "import boto3\n",
    "import pandas as pd\n",
    "import numpy as np\n",
    "from sklearn.feature_extraction.text import TfidfVectorizer\n",
    "#Pickle file for TFIDF\n",
    "#Pickle file for Logistic Regression model results\n"
   ]
  },
  {
   "cell_type": "code",
   "execution_count": 2,
   "metadata": {},
   "outputs": [
    {
     "data": {
      "application/vnd.jupyter.widget-view+json": {
       "model_id": "cfc1e621a10344b2addf4e128f50a8f1",
       "version_major": 2,
       "version_minor": 0
      },
      "text/plain": [
       "VBox()"
      ]
     },
     "metadata": {},
     "output_type": "display_data"
    },
    {
     "data": {
      "application/vnd.jupyter.widget-view+json": {
       "model_id": "",
       "version_major": 2,
       "version_minor": 0
      },
      "text/plain": [
       "FloatProgress(value=0.0, bar_style='info', description='Progress:', layout=Layout(height='25px', width='50%'),…"
      ]
     },
     "metadata": {},
     "output_type": "display_data"
    }
   ],
   "source": [
    "#PYTHON connection info\n",
    "conn = snowflake.connector.connect(\n",
    "    account='powerreviews',\n",
    "    database='analytics_prod',\n",
    "    warehouse='LOWER_ENV_WAREHOUSE',\n",
    "    user='APP_SPARK_PROD',\n",
    "    password='>6txhcQ*7&^Qrq`j'\n",
    "    )"
   ]
  },
  {
   "cell_type": "code",
   "execution_count": 33,
   "metadata": {},
   "outputs": [
    {
     "data": {
      "application/vnd.jupyter.widget-view+json": {
       "model_id": "d6d7fcde1bd14b9e93ea157ac46cba3d",
       "version_major": 2,
       "version_minor": 0
      },
      "text/plain": [
       "VBox()"
      ]
     },
     "metadata": {},
     "output_type": "display_data"
    },
    {
     "data": {
      "application/vnd.jupyter.widget-view+json": {
       "model_id": "",
       "version_major": 2,
       "version_minor": 0
      },
      "text/plain": [
       "FloatProgress(value=0.0, bar_style='info', description='Progress:', layout=Layout(height='25px', width='50%'),…"
      ]
     },
     "metadata": {},
     "output_type": "display_data"
    }
   ],
   "source": [
    "#Query some reviews\n",
    "query_1 = \"select distinct r.ugc_id,  r.review_headline, r.review_comments, \\\n",
    "case when (contains(r.observations, ',NR,') or substring(r.observations, 1, 2) = 'NR')  then 1 else 0 end as NR \\\n",
    "from analytics.review as r \\\n",
    "where r.locale in ('en_US','en_GB','en_CA') \\\n",
    "and r.created_date > '2018-10-01' \\\n",
    "limit 1000000 \"\n"
   ]
  },
  {
   "cell_type": "code",
   "execution_count": 34,
   "metadata": {},
   "outputs": [
    {
     "data": {
      "application/vnd.jupyter.widget-view+json": {
       "model_id": "b9ead0b2f8684f9fa88bcd3826a8a732",
       "version_major": 2,
       "version_minor": 0
      },
      "text/plain": [
       "VBox()"
      ]
     },
     "metadata": {},
     "output_type": "display_data"
    },
    {
     "data": {
      "application/vnd.jupyter.widget-view+json": {
       "model_id": "",
       "version_major": 2,
       "version_minor": 0
      },
      "text/plain": [
       "FloatProgress(value=0.0, bar_style='info', description='Progress:', layout=Layout(height='25px', width='50%'),…"
      ]
     },
     "metadata": {},
     "output_type": "display_data"
    },
    {
     "name": "stdout",
     "output_type": "stream",
     "text": [
      "       UGC_ID                                 REVIEW_HEADLINE  \\\n",
      "0   227332653  I like the product. It appears good quality.     \n",
      "1   227329614  Great pump excellent quality                     \n",
      "2   227304633  Not Blue!                                        \n",
      "3   227327655  HAPPY, HAPPY                                     \n",
      "4   227328707  Excellent product                                \n",
      "..        ...                ...                                \n",
      "95  227321035  I would buy this item again                      \n",
      "96  227309946  I would not buy this product again               \n",
      "97  227322559  Works great and so quiet!                        \n",
      "98  227329009  I bought one then after using I bought another   \n",
      "99  227334893  Westinghouse WE55UJ4108 55 4K UHD Smart LED TV   \n",
      "\n",
      "                                                                                                                                                                                                                                                                                                                                                                                                                                                                                                                                  REVIEW_COMMENTS  \\\n",
      "0   Good product                                                                                                                                                                                                                                                                                                                                                                                                                                                                                                                                    \n",
      "1   Great pump                                                                                                                                                                                                                                                                                                                                                                                                                                                                                                                                      \n",
      "2   Everything good about this dress....except the colour. No part of this dress fabric is blue and as the colours aren't to my taste at all, unfortunately I'm going to return it ☹️                                                                                                                                                                                                                                                                                                                                                               \n",
      "3   I've been admiring this top for quite awhile.  I love it when Artful Home offers clothing with color....frankly I'm tired of only seeing garments in Black.  The sale price was the incentive for ordering and the color was perfect.  I love the softness of the material and I think it will be perfect for traveling.  Easy to dress this top up or wear casually with jeans. Bravo to you, Lisa Bayne, for designing women's clothing with flair, that is easy to care for and comfortable to wear.  This top of yours is another winner!   \n",
      "4   Excellent oil absorbing material. I can leave one in my bilge and it will retain oils while letting water through overboard.                                                                                                                                                                                                                                                                                                                                                                                                                    \n",
      "..                                                                                                                           ...                                                                                                                                                                                                                                                                                                                                                                                                                    \n",
      "95  The visor clips were very nice.  I sent them to two of our nephews who had serious illnesses,                                                                                                                                                                                                                                                                                                                                                                                                                                                   \n",
      "96  It is much thinner ( thus not giving real support), so it is not what I expected it to be.                                                                                                                                                                                                                                                                                                                                                                                                                                                      \n",
      "97  This microwave is so much quieter than our previous one. Works just as expected. We are happy with our purchase.                                                                                                                                                                                                                                                                                                                                                                                                                                \n",
      "98  I like the longer reach and large brush.                                                                                                                                                                                                                                                                                                                                                                                                                                                                                                        \n",
      "99  Great Picture Quality, Great Sound, Great TV.                                                                                                                                                                                                                                                                                                                                                                                                                                                                                                   \n",
      "\n",
      "    NR  \n",
      "0   0   \n",
      "1   0   \n",
      "2   0   \n",
      "3   0   \n",
      "4   0   \n",
      ".. ..   \n",
      "95  0   \n",
      "96  0   \n",
      "97  0   \n",
      "98  0   \n",
      "99  0   \n",
      "\n",
      "[100 rows x 4 columns]"
     ]
    }
   ],
   "source": [
    "#pd.set_option('display.max_colwidth', -1)\n",
    "#pd.set_option('display.max_columns', None)\n",
    "#pd.set_option('display.max_rows', None)\n",
    "reviews = pd.read_sql(query_1, conn)\n",
    "reviews.head(100)\n",
    "#reviews.info()\n"
   ]
  },
  {
   "cell_type": "code",
   "execution_count": 35,
   "metadata": {},
   "outputs": [
    {
     "data": {
      "application/vnd.jupyter.widget-view+json": {
       "model_id": "7e0102bf96d24588a9c19ae0b7b3ed06",
       "version_major": 2,
       "version_minor": 0
      },
      "text/plain": [
       "VBox()"
      ]
     },
     "metadata": {},
     "output_type": "display_data"
    },
    {
     "data": {
      "application/vnd.jupyter.widget-view+json": {
       "model_id": "",
       "version_major": 2,
       "version_minor": 0
      },
      "text/plain": [
       "FloatProgress(value=0.0, bar_style='info', description='Progress:', layout=Layout(height='25px', width='50%'),…"
      ]
     },
     "metadata": {},
     "output_type": "display_data"
    },
    {
     "name": "stdout",
     "output_type": "stream",
     "text": [
      "<class 'pandas.core.frame.DataFrame'>\n",
      "RangeIndex: 1000000 entries, 0 to 999999\n",
      "Data columns (total 4 columns):\n",
      " #   Column           Non-Null Count    Dtype \n",
      "---  ------           --------------    ----- \n",
      " 0   UGC_ID           1000000 non-null  int64 \n",
      " 1   REVIEW_HEADLINE  999922 non-null   object\n",
      " 2   REVIEW_COMMENTS  998559 non-null   object\n",
      " 3   NR               1000000 non-null  int64 \n",
      "dtypes: int64(2), object(2)\n",
      "memory usage: 30.5+ MB"
     ]
    }
   ],
   "source": [
    "reviews.info()"
   ]
  },
  {
   "cell_type": "code",
   "execution_count": 36,
   "metadata": {},
   "outputs": [
    {
     "data": {
      "application/vnd.jupyter.widget-view+json": {
       "model_id": "a5245a8158164079bb5e7037f9ab014d",
       "version_major": 2,
       "version_minor": 0
      },
      "text/plain": [
       "VBox()"
      ]
     },
     "metadata": {},
     "output_type": "display_data"
    },
    {
     "data": {
      "application/vnd.jupyter.widget-view+json": {
       "model_id": "",
       "version_major": 2,
       "version_minor": 0
      },
      "text/plain": [
       "FloatProgress(value=0.0, bar_style='info', description='Progress:', layout=Layout(height='25px', width='50%'),…"
      ]
     },
     "metadata": {},
     "output_type": "display_data"
    },
    {
     "name": "stdout",
     "output_type": "stream",
     "text": [
      "       UGC_ID                                 REVIEW_HEADLINE  \\\n",
      "0   227332653  I like the product. It appears good quality.     \n",
      "1   227329614  Great pump excellent quality                     \n",
      "2   227304633  Not Blue!                                        \n",
      "3   227327655  HAPPY, HAPPY                                     \n",
      "4   227328707  Excellent product                                \n",
      "..        ...                ...                                \n",
      "95  227321035  I would buy this item again                      \n",
      "96  227309946  I would not buy this product again               \n",
      "97  227322559  Works great and so quiet!                        \n",
      "98  227329009  I bought one then after using I bought another   \n",
      "99  227334893  Westinghouse WE55UJ4108 55 4K UHD Smart LED TV   \n",
      "\n",
      "                                                                                                                                                                                                                                                                                                                                                                                                                                                                                                                                  REVIEW_COMMENTS  \\\n",
      "0   Good product                                                                                                                                                                                                                                                                                                                                                                                                                                                                                                                                    \n",
      "1   Great pump                                                                                                                                                                                                                                                                                                                                                                                                                                                                                                                                      \n",
      "2   Everything good about this dress....except the colour. No part of this dress fabric is blue and as the colours aren't to my taste at all, unfortunately I'm going to return it ☹️                                                                                                                                                                                                                                                                                                                                                               \n",
      "3   I've been admiring this top for quite awhile.  I love it when Artful Home offers clothing with color....frankly I'm tired of only seeing garments in Black.  The sale price was the incentive for ordering and the color was perfect.  I love the softness of the material and I think it will be perfect for traveling.  Easy to dress this top up or wear casually with jeans. Bravo to you, Lisa Bayne, for designing women's clothing with flair, that is easy to care for and comfortable to wear.  This top of yours is another winner!   \n",
      "4   Excellent oil absorbing material. I can leave one in my bilge and it will retain oils while letting water through overboard.                                                                                                                                                                                                                                                                                                                                                                                                                    \n",
      "..                                                                                                                           ...                                                                                                                                                                                                                                                                                                                                                                                                                    \n",
      "95  The visor clips were very nice.  I sent them to two of our nephews who had serious illnesses,                                                                                                                                                                                                                                                                                                                                                                                                                                                   \n",
      "96  It is much thinner ( thus not giving real support), so it is not what I expected it to be.                                                                                                                                                                                                                                                                                                                                                                                                                                                      \n",
      "97  This microwave is so much quieter than our previous one. Works just as expected. We are happy with our purchase.                                                                                                                                                                                                                                                                                                                                                                                                                                \n",
      "98  I like the longer reach and large brush.                                                                                                                                                                                                                                                                                                                                                                                                                                                                                                        \n",
      "99  Great Picture Quality, Great Sound, Great TV.                                                                                                                                                                                                                                                                                                                                                                                                                                                                                                   \n",
      "\n",
      "    NR  \\\n",
      "0   0    \n",
      "1   0    \n",
      "2   0    \n",
      "3   0    \n",
      "4   0    \n",
      ".. ..    \n",
      "95  0    \n",
      "96  0    \n",
      "97  0    \n",
      "98  0    \n",
      "99  0    \n",
      "\n",
      "                                                                                                                                                                                                                                                                                                                                                                                                                                                                                                                                                                       ALL_TEXT  \n",
      "0   headline I like the product. It appears good quality. comment Good product                                                                                                                                                                                                                                                                                                                                                                                                                                                                                                   \n",
      "1   headline Great pump excellent quality comment Great pump                                                                                                                                                                                                                                                                                                                                                                                                                                                                                                                     \n",
      "2   headline Not Blue! comment Everything good about this dress....except the colour. No part of this dress fabric is blue and as the colours aren't to my taste at all, unfortunately I'm going to return it ☹️                                                                                                                                                                                                                                                                                                                                                                 \n",
      "3   headline HAPPY, HAPPY comment I've been admiring this top for quite awhile.  I love it when Artful Home offers clothing with color....frankly I'm tired of only seeing garments in Black.  The sale price was the incentive for ordering and the color was perfect.  I love the softness of the material and I think it will be perfect for traveling.  Easy to dress this top up or wear casually with jeans. Bravo to you, Lisa Bayne, for designing women's clothing with flair, that is easy to care for and comfortable to wear.  This top of yours is another winner!  \n",
      "4   headline Excellent product comment Excellent oil absorbing material. I can leave one in my bilge and it will retain oils while letting water through overboard.                                                                                                                                                                                                                                                                                                                                                                                                              \n",
      "..                                                                                                                                                              ...                                                                                                                                                                                                                                                                                                                                                                                                              \n",
      "95  headline I would buy this item again comment The visor clips were very nice.  I sent them to two of our nephews who had serious illnesses,                                                                                                                                                                                                                                                                                                                                                                                                                                   \n",
      "96  headline I would not buy this product again comment It is much thinner ( thus not giving real support), so it is not what I expected it to be.                                                                                                                                                                                                                                                                                                                                                                                                                               \n",
      "97  headline Works great and so quiet! comment This microwave is so much quieter than our previous one. Works just as expected. We are happy with our purchase.                                                                                                                                                                                                                                                                                                                                                                                                                  \n",
      "98  headline I bought one then after using I bought another comment I like the longer reach and large brush.                                                                                                                                                                                                                                                                                                                                                                                                                                                                     \n",
      "99  headline Westinghouse WE55UJ4108 55 4K UHD Smart LED TV comment Great Picture Quality, Great Sound, Great TV.                                                                                                                                                                                                                                                                                                                                                                                                                                                                \n",
      "\n",
      "[100 rows x 5 columns]\n",
      "<string>:4: FutureWarning: Passing a negative integer is deprecated in version 1.0 and will not be supported in future version. Instead, use None to not limit the column width."
     ]
    }
   ],
   "source": [
    "reviews['ALL_TEXT'] = 'headline ' + reviews['REVIEW_HEADLINE'] + ' comment ' + reviews['REVIEW_COMMENTS']\n",
    "#Use set_option so text doesn't truncate\n",
    "\n",
    "pd.set_option('display.max_colwidth', -1)\n",
    "pd.set_option('display.max_columns', None)\n",
    "reviews.head(100)\n",
    "\n",
    "#reviews.dtypes"
   ]
  },
  {
   "cell_type": "code",
   "execution_count": 37,
   "metadata": {},
   "outputs": [
    {
     "data": {
      "application/vnd.jupyter.widget-view+json": {
       "model_id": "f9f90cbdd0ff4f6988b87a3445b231e9",
       "version_major": 2,
       "version_minor": 0
      },
      "text/plain": [
       "VBox()"
      ]
     },
     "metadata": {},
     "output_type": "display_data"
    },
    {
     "data": {
      "application/vnd.jupyter.widget-view+json": {
       "model_id": "",
       "version_major": 2,
       "version_minor": 0
      },
      "text/plain": [
       "FloatProgress(value=0.0, bar_style='info', description='Progress:', layout=Layout(height='25px', width='50%'),…"
      ]
     },
     "metadata": {},
     "output_type": "display_data"
    }
   ],
   "source": [
    "X = reviews[['ALL_TEXT']]\n",
    "#X"
   ]
  },
  {
   "cell_type": "code",
   "execution_count": 38,
   "metadata": {},
   "outputs": [
    {
     "data": {
      "application/vnd.jupyter.widget-view+json": {
       "model_id": "1cc0a642406043fdbe32e618f6db1f23",
       "version_major": 2,
       "version_minor": 0
      },
      "text/plain": [
       "VBox()"
      ]
     },
     "metadata": {},
     "output_type": "display_data"
    },
    {
     "data": {
      "application/vnd.jupyter.widget-view+json": {
       "model_id": "",
       "version_major": 2,
       "version_minor": 0
      },
      "text/plain": [
       "FloatProgress(value=0.0, bar_style='info', description='Progress:', layout=Layout(height='25px', width='50%'),…"
      ]
     },
     "metadata": {},
     "output_type": "display_data"
    }
   ],
   "source": [
    "#Open pickle file from S3 bucket back into this notebook\n",
    "s3 = boto3.resource('s3')\n",
    "obj = s3.Object('pwr-analytics-emr','tfidf.pkl')\n",
    "body = obj.get()['Body'].read()\n",
    "tfidf = pickle.loads(body)"
   ]
  },
  {
   "cell_type": "code",
   "execution_count": 39,
   "metadata": {},
   "outputs": [
    {
     "data": {
      "application/vnd.jupyter.widget-view+json": {
       "model_id": "ae87115be15b4824ba07bb989aed7470",
       "version_major": 2,
       "version_minor": 0
      },
      "text/plain": [
       "VBox()"
      ]
     },
     "metadata": {},
     "output_type": "display_data"
    },
    {
     "data": {
      "application/vnd.jupyter.widget-view+json": {
       "model_id": "",
       "version_major": 2,
       "version_minor": 0
      },
      "text/plain": [
       "FloatProgress(value=0.0, bar_style='info', description='Progress:', layout=Layout(height='25px', width='50%'),…"
      ]
     },
     "metadata": {},
     "output_type": "display_data"
    }
   ],
   "source": [
    "#Use vocab from pickle file to transform text\n",
    "tfidf_new = TfidfVectorizer(analyzer = 'word', max_features = 30000, stop_words= 'english', lowercase=True, vocabulary = tfidf.vocabulary_)\n",
    "x_reviews = tfidf_new.fit_transform(X['ALL_TEXT'].apply(lambda x: np.str_(x)))"
   ]
  },
  {
   "cell_type": "code",
   "execution_count": 40,
   "metadata": {},
   "outputs": [
    {
     "data": {
      "application/vnd.jupyter.widget-view+json": {
       "model_id": "128df82c471f48ddada3bbffa54db20d",
       "version_major": 2,
       "version_minor": 0
      },
      "text/plain": [
       "VBox()"
      ]
     },
     "metadata": {},
     "output_type": "display_data"
    },
    {
     "data": {
      "application/vnd.jupyter.widget-view+json": {
       "model_id": "",
       "version_major": 2,
       "version_minor": 0
      },
      "text/plain": [
       "FloatProgress(value=0.0, bar_style='info', description='Progress:', layout=Layout(height='25px', width='50%'),…"
      ]
     },
     "metadata": {},
     "output_type": "display_data"
    }
   ],
   "source": [
    "#Open pickle file for LR model\n",
    "obj = s3.Object('pwr-analytics-emr','lr.pkl')\n",
    "body = obj.get()['Body'].read()\n",
    "lr = pickle.loads(body)"
   ]
  },
  {
   "cell_type": "code",
   "execution_count": 41,
   "metadata": {},
   "outputs": [
    {
     "data": {
      "application/vnd.jupyter.widget-view+json": {
       "model_id": "edfec1f4db374c63b310e23eb84a029f",
       "version_major": 2,
       "version_minor": 0
      },
      "text/plain": [
       "VBox()"
      ]
     },
     "metadata": {},
     "output_type": "display_data"
    },
    {
     "data": {
      "application/vnd.jupyter.widget-view+json": {
       "model_id": "",
       "version_major": 2,
       "version_minor": 0
      },
      "text/plain": [
       "FloatProgress(value=0.0, bar_style='info', description='Progress:', layout=Layout(height='25px', width='50%'),…"
      ]
     },
     "metadata": {},
     "output_type": "display_data"
    }
   ],
   "source": [
    "#Predict 0/1\n",
    "y_pred = lr.predict(x_reviews)\n",
    "\n",
    "#Predict probability\n",
    "probs = lr.predict_proba(x_reviews)\n",
    "y_probs = probs[:,1]"
   ]
  },
  {
   "cell_type": "code",
   "execution_count": 42,
   "metadata": {},
   "outputs": [
    {
     "data": {
      "application/vnd.jupyter.widget-view+json": {
       "model_id": "8af9dc4e59654c2d978b31924addebf5",
       "version_major": 2,
       "version_minor": 0
      },
      "text/plain": [
       "VBox()"
      ]
     },
     "metadata": {},
     "output_type": "display_data"
    },
    {
     "data": {
      "application/vnd.jupyter.widget-view+json": {
       "model_id": "",
       "version_major": 2,
       "version_minor": 0
      },
      "text/plain": [
       "FloatProgress(value=0.0, bar_style='info', description='Progress:', layout=Layout(height='25px', width='50%'),…"
      ]
     },
     "metadata": {},
     "output_type": "display_data"
    },
    {
     "name": "stdout",
     "output_type": "stream",
     "text": [
      "[0 0 1 ... 0 0 0]"
     ]
    }
   ],
   "source": [
    "print(y_pred)"
   ]
  },
  {
   "cell_type": "code",
   "execution_count": 43,
   "metadata": {},
   "outputs": [
    {
     "data": {
      "application/vnd.jupyter.widget-view+json": {
       "model_id": "55c8e2a8f5e0434985b081ac445accfb",
       "version_major": 2,
       "version_minor": 0
      },
      "text/plain": [
       "VBox()"
      ]
     },
     "metadata": {},
     "output_type": "display_data"
    },
    {
     "data": {
      "application/vnd.jupyter.widget-view+json": {
       "model_id": "",
       "version_major": 2,
       "version_minor": 0
      },
      "text/plain": [
       "FloatProgress(value=0.0, bar_style='info', description='Progress:', layout=Layout(height='25px', width='50%'),…"
      ]
     },
     "metadata": {},
     "output_type": "display_data"
    },
    {
     "name": "stdout",
     "output_type": "stream",
     "text": [
      "[0.22866332 0.19255784 0.78817221 ... 0.02295464 0.01553197 0.07260956]"
     ]
    }
   ],
   "source": [
    "print(y_probs)"
   ]
  },
  {
   "cell_type": "code",
   "execution_count": null,
   "metadata": {},
   "outputs": [],
   "source": []
  },
  {
   "cell_type": "code",
   "execution_count": null,
   "metadata": {},
   "outputs": [],
   "source": []
  },
  {
   "cell_type": "code",
   "execution_count": null,
   "metadata": {},
   "outputs": [],
   "source": []
  },
  {
   "cell_type": "code",
   "execution_count": null,
   "metadata": {},
   "outputs": [],
   "source": []
  }
 ],
 "metadata": {
  "kernelspec": {
   "display_name": "PySpark",
   "language": "",
   "name": "pysparkkernel"
  },
  "language_info": {
   "codemirror_mode": {
    "name": "python",
    "version": 2
   },
   "mimetype": "text/x-python",
   "name": "pyspark",
   "pygments_lexer": "python2"
  }
 },
 "nbformat": 4,
 "nbformat_minor": 4
}
