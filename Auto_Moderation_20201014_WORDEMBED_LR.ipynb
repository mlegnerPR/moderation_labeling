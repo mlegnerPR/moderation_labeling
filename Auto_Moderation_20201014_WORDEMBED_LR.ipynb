{
 "cells": [
  {
   "cell_type": "code",
   "execution_count": 1,
   "metadata": {},
   "outputs": [
    {
     "data": {
      "application/vnd.jupyter.widget-view+json": {
       "model_id": "da66af317e164b799b9e3631e99209f9",
       "version_major": 2,
       "version_minor": 0
      },
      "text/plain": [
       "VBox()"
      ]
     },
     "metadata": {},
     "output_type": "display_data"
    },
    {
     "name": "stdout",
     "output_type": "stream",
     "text": [
      "Starting Spark application\n"
     ]
    },
    {
     "data": {
      "text/html": [
       "<table>\n",
       "<tr><th>ID</th><th>YARN Application ID</th><th>Kind</th><th>State</th><th>Spark UI</th><th>Driver log</th><th>Current session?</th></tr><tr><td>4</td><td>application_1602681254081_0005</td><td>pyspark</td><td>idle</td><td><a target=\"_blank\" href=\"http://ip-10-101-212-138.us-west-2.compute.internal:20888/proxy/application_1602681254081_0005/\">Link</a></td><td><a target=\"_blank\" href=\"http://ip-10-101-212-138.us-west-2.compute.internal:8042/node/containerlogs/container_1602681254081_0005_01_000001/livy\">Link</a></td><td>✔</td></tr></table>"
      ],
      "text/plain": [
       "<IPython.core.display.HTML object>"
      ]
     },
     "metadata": {},
     "output_type": "display_data"
    },
    {
     "data": {
      "application/vnd.jupyter.widget-view+json": {
       "model_id": "",
       "version_major": 2,
       "version_minor": 0
      },
      "text/plain": [
       "FloatProgress(value=0.0, bar_style='info', description='Progress:', layout=Layout(height='25px', width='50%'),…"
      ]
     },
     "metadata": {},
     "output_type": "display_data"
    },
    {
     "name": "stdout",
     "output_type": "stream",
     "text": [
      "SparkSession available as 'spark'.\n"
     ]
    },
    {
     "data": {
      "application/vnd.jupyter.widget-view+json": {
       "model_id": "",
       "version_major": 2,
       "version_minor": 0
      },
      "text/plain": [
       "FloatProgress(value=0.0, bar_style='info', description='Progress:', layout=Layout(height='25px', width='50%'),…"
      ]
     },
     "metadata": {},
     "output_type": "display_data"
    }
   ],
   "source": [
    "#Import packages\n",
    "import numpy as np\n",
    "from numpy import argmax\n",
    "import pyspark.sql.functions as F\n",
    "import snowflake.connector\n",
    "import pandas as pd\n",
    "import spacy\n",
    "#from sparknlp.base import Finisher, DocumentAssembler\n",
    "#from sparknlp.annotator import  Normalizer, LemmatizerModel, StopWordsCleaner, Tokenizer\n",
    "#from pyspark.ml import Pipeline\n",
    "#from pyspark.ml.feature import CountVectorizer, VectorAssembler, HashingTF, IDF, Tokenizer\n",
    "#from nltk.corpus import stopwords\n",
    "from sklearn.feature_extraction.text import TfidfVectorizer\n",
    "from sklearn.model_selection import train_test_split\n",
    "from scipy import sparse\n",
    "from sklearn.linear_model import LogisticRegression\n",
    "from sklearn.multiclass import OneVsRestClassifier\n",
    "from sklearn.metrics import f1_score, accuracy_score, recall_score, precision_score, confusion_matrix, plot_confusion_matrix, \\\n",
    "                            roc_curve, auc, classification_report, precision_recall_curve\n",
    "import matplotlib.pyplot as plt"
   ]
  },
  {
   "cell_type": "code",
   "execution_count": 2,
   "metadata": {},
   "outputs": [
    {
     "data": {
      "application/vnd.jupyter.widget-view+json": {
       "model_id": "e21c1f4de7f04ba19ad3d179b8f6d03d",
       "version_major": 2,
       "version_minor": 0
      },
      "text/plain": [
       "VBox()"
      ]
     },
     "metadata": {},
     "output_type": "display_data"
    },
    {
     "data": {
      "application/vnd.jupyter.widget-view+json": {
       "model_id": "",
       "version_major": 2,
       "version_minor": 0
      },
      "text/plain": [
       "FloatProgress(value=0.0, bar_style='info', description='Progress:', layout=Layout(height='25px', width='50%'),…"
      ]
     },
     "metadata": {},
     "output_type": "display_data"
    }
   ],
   "source": [
    "#SPARK connection info\n",
    "sfOptions = {\n",
    "  'sfURL' : 'powerreviews.snowflakecomputing.com',\n",
    "  'sfAccount' : 'powerreviews',\n",
    "  'sfUser' : 'APP_SPARK_PROD',\n",
    "  'sfPassword' : '>6txhcQ*7&^Qrq`j',\n",
    "  'sfDatabase' : 'ANALYTICS_PROD',\n",
    "  'sfSchema' : 'ANALYTICS',\n",
    "  'sfWarehouse' : 'LOWER_ENV_WAREHOUSE'\n",
    "}\n",
    "SNOWFLAKE_SOURCE_NAME = \"net.snowflake.spark.snowflake\"\n",
    "\n",
    "#PYTHON connection info\n",
    "conn = snowflake.connector.connect(\n",
    "    account='powerreviews',\n",
    "    database='analytics_prod',\n",
    "    warehouse='LOWER_ENV_WAREHOUSE',\n",
    "    user='APP_SPARK_PROD',\n",
    "    password='>6txhcQ*7&^Qrq`j'\n",
    "    )"
   ]
  },
  {
   "cell_type": "code",
   "execution_count": 3,
   "metadata": {},
   "outputs": [
    {
     "data": {
      "application/vnd.jupyter.widget-view+json": {
       "model_id": "1e38b16ac8254ef5a88290c53b467cbd",
       "version_major": 2,
       "version_minor": 0
      },
      "text/plain": [
       "VBox()"
      ]
     },
     "metadata": {},
     "output_type": "display_data"
    },
    {
     "data": {
      "application/vnd.jupyter.widget-view+json": {
       "model_id": "",
       "version_major": 2,
       "version_minor": 0
      },
      "text/plain": [
       "FloatProgress(value=0.0, bar_style='info', description='Progress:', layout=Layout(height='25px', width='50%'),…"
      ]
     },
     "metadata": {},
     "output_type": "display_data"
    }
   ],
   "source": [
    "#Use review data set to get observation codes bc they are already comma separated and less joins to perform\n",
    "#Still need observation set though to get observation created date\n",
    "#This is bc review could be from ages ago but we could have imported recently and moderated it\n",
    "#Want to make sure we include as many observation labels as possible for most accurate model\n",
    "\n"
   ]
  },
  {
   "cell_type": "code",
   "execution_count": 32,
   "metadata": {},
   "outputs": [
    {
     "data": {
      "application/vnd.jupyter.widget-view+json": {
       "model_id": "6eb0aa3141a0473cbda650c4ded54903",
       "version_major": 2,
       "version_minor": 0
      },
      "text/plain": [
       "VBox()"
      ]
     },
     "metadata": {},
     "output_type": "display_data"
    },
    {
     "data": {
      "application/vnd.jupyter.widget-view+json": {
       "model_id": "",
       "version_major": 2,
       "version_minor": 0
      },
      "text/plain": [
       "FloatProgress(value=0.0, bar_style='info', description='Progress:', layout=Layout(height='25px', width='50%'),…"
      ]
     },
     "metadata": {},
     "output_type": "display_data"
    }
   ],
   "source": [
    "query = \"select distinct r.ugc_id, r.created_date, r.review_headline, \\\n",
    "r.review_comments, r.review_rating, r.reviewer_nickname, r.locale, r.observations, \\\n",
    "ADD IN CASE WHEN HERE \\\n",
    "from analytics.review as r \\\n",
    "left join cdm.observation as o \\\n",
    "on r.ugc_id = o.ugc_id \\\n",
    "where contains(r.observations, 'PM') \\\n",
    "and r.locale in ('en_US','en_GB','en_CA') \\\n",
    "and o.created_date > '2020-09-23'  \\\n",
    "limit 100\""
   ]
  },
  {
   "cell_type": "code",
   "execution_count": 33,
   "metadata": {},
   "outputs": [
    {
     "data": {
      "application/vnd.jupyter.widget-view+json": {
       "model_id": "018133b32a8547c6ad3e80e67d427492",
       "version_major": 2,
       "version_minor": 0
      },
      "text/plain": [
       "VBox()"
      ]
     },
     "metadata": {},
     "output_type": "display_data"
    },
    {
     "data": {
      "application/vnd.jupyter.widget-view+json": {
       "model_id": "",
       "version_major": 2,
       "version_minor": 0
      },
      "text/plain": [
       "FloatProgress(value=0.0, bar_style='info', description='Progress:', layout=Layout(height='25px', width='50%'),…"
      ]
     },
     "metadata": {},
     "output_type": "display_data"
    }
   ],
   "source": [
    "query_testing = \"select distinct r.ugc_id, r.created_date, r.review_headline, \\\n",
    "r.review_comments, r.review_rating, r.reviewer_nickname, r.reviewer_location, r.observations, \\\n",
    "case when contains(r.observations, 'PM') then 1 else 0 end as PM, \\\n",
    "case when (contains(r.observations, ',NR,') or substring(r.observations, 1, 2) = 'NR')  then 1 else 0 end as NR \\\n",
    "from analytics.review as r \\\n",
    "left join cdm.observation as o \\\n",
    "on r.ugc_id = o.ugc_id \\\n",
    "where contains(r.observations, 'PM') \\\n",
    "and (contains(r.observations, ',NR,') or substring(r.observations, 1, 2) = 'NR') \\\n",
    "and r.locale in ('en_US','en_GB','en_CA') \\\n",
    "and o.created_date > '2018-10-01' \""
   ]
  },
  {
   "cell_type": "code",
   "execution_count": 34,
   "metadata": {},
   "outputs": [
    {
     "data": {
      "application/vnd.jupyter.widget-view+json": {
       "model_id": "967864b67fe743c588e4f356fa4e0f8d",
       "version_major": 2,
       "version_minor": 0
      },
      "text/plain": [
       "VBox()"
      ]
     },
     "metadata": {},
     "output_type": "display_data"
    },
    {
     "data": {
      "application/vnd.jupyter.widget-view+json": {
       "model_id": "",
       "version_major": 2,
       "version_minor": 0
      },
      "text/plain": [
       "FloatProgress(value=0.0, bar_style='info', description='Progress:', layout=Layout(height='25px', width='50%'),…"
      ]
     },
     "metadata": {},
     "output_type": "display_data"
    },
    {
     "name": "stdout",
     "output_type": "stream",
     "text": [
      "       UGC_ID        CREATED_DATE  \\\n",
      "0   64862472  2017-08-09 12:02:06   \n",
      "1   132701151 2017-12-12 22:10:24   \n",
      "2   133187177 2017-12-14 17:59:08   \n",
      "3   138106475 2018-01-28 07:01:48   \n",
      "4   231851835 2019-03-05 06:44:08   \n",
      "..        ...                 ...   \n",
      "95  231933956 2019-03-06 09:05:03   \n",
      "96  231935796 2019-03-06 10:17:57   \n",
      "97  231936247 2019-03-06 10:26:53   \n",
      "98  231937856 2019-03-06 10:52:37   \n",
      "99  231969621 2019-03-06 15:12:48   \n",
      "\n",
      "                                                 REVIEW_HEADLINE  \\\n",
      "0   Avoid buying anything from this guy                            \n",
      "1   Ugg or UGH!!                                                   \n",
      "2   Not used it yet but seems excellent value for the money.       \n",
      "3   Disappointed                                                   \n",
      "4   For some reason, I couldn't purchase this using the app a...   \n",
      "..                                                           ...   \n",
      "95  Received inoperable waiting for replacement                    \n",
      "96  Bought for my friends birthday her first eyeshadow anything!   \n",
      "97  AGRADABLE                                                      \n",
      "98  /Aqualux-Universal-Bath-Shower-Scree                           \n",
      "99  Did not receive                                                \n",
      "\n",
      "                                                                                                                                                                                                                                                                                                                                                                                                                                                                                                                                                                                                     REVIEW_COMMENTS  \\\n",
      "0   Alex Jones is a complete huckster, a charlatan. If you've heard of his show, Infowars, and are an educated listener, you know most of what he spouts is lies and hysterical partisan fabrication. The list of his phony products is long and pity the uninformed people who would consider buying his products. How this ended up at the top of a list compiled by Google is disturbing...                                                                                                                                                                                                                         \n",
      "1   Paid for gift wrapping so that my wife would not see her present before Christmas. I know she gets home before i do. Of course i was charged the $10 but nothing was wrapped. Box came with a name decker or something on it so i wasn't aware it was the boots even if it was hey it's gift wrapped. Just way to make it less exciting. This was her first gift from our son. Then you go to the website and there is no easy way to file complaint no way to make it right since you can't undo what is done... while it's only $10. You still did nothing to get that $10 in fact you did worse than nothing.   \n",
      "2   Not used it yet but seems excellent value for the money.                                                                                                                                                                                                                                                                                                                                                                                                                                                                                                                                                           \n",
      "3   I have been looking on the Uggs site for weeks now, and they are ALWAYS sold out. Thinking that for being such a big Name they would have more stock.                                                                                                                                                                                                                                                                                                                                                                                                                                                              \n",
      "4   For some reason, I couldn't purchase this using the app and had to sign into a desktop computer.                                                                                                                                                                                                                                                                                                                                                                                                                                                                                                                   \n",
      "..                                                                                               ...                                                                                                                                                                                                                                                                                                                                                                                                                                                                                                                   \n",
      "95  Apparently inoperable units are somewhat common, at least with this brand.                                                                                                                                                                                                                                                                                                                                                                                                                                                                                                                                         \n",
      "96  Yay for birthday gifts                                                                                                                                                                                                                                                                                                                                                                                                                                                                                                                                                                                             \n",
      "97  AGRADABLE                                                                                                                                                                                                                                                                                                                                                                                                                                                                                                                                                                                                          \n",
      "98  Click and Collect worked perfectly only problem as it was the wrong seal so I had to return the item and get a refund.  I got the correct seal from another supplier notwithstanding Wickes supplied the original shower screen door.                                                                                                                                                                                                                                                                                                                                                                              \n",
      "99  Did not receive                                                                                                                                                                                                                                                                                                                                                                                                                                                                                                                                                                                                    \n",
      "\n",
      "    REVIEW_RATING REVIEWER_NICKNAME     REVIEWER_LOCATION  OBSERVATIONS  PM  \\\n",
      "0   1.0            Jim the runner    Berkeley, CA          CNR,LR,NR,PM  1    \n",
      "1   1.0            MikeG             Sterling Heights, MI  NPO,NR,PM     1    \n",
      "2   4.0            TelQuiero         Manchester England    CM,NR,PM,PO   1    \n",
      "3   1.0            Feebie            Boston ma             NPO,NR,PM     1    \n",
      "4   3.0            aie48689          US                    CM,NR,PM      1    \n",
      "..  ...                 ...          ..                         ...     ..    \n",
      "95  1.0            Cls1              Petaluma ca           NR,PM         1    \n",
      "96  5.0            April Galindo     Phoenix, Arizona      NR,PII,PM     1    \n",
      "97  5.0            auz1421           US                    NR,PM         1    \n",
      "98  1.0            Andy              Surrey                NR,PM         1    \n",
      "99  1.0            Diane             Undisclosed           NR,PM         1    \n",
      "\n",
      "    NR  \n",
      "0   1   \n",
      "1   1   \n",
      "2   1   \n",
      "3   1   \n",
      "4   1   \n",
      ".. ..   \n",
      "95  1   \n",
      "96  1   \n",
      "97  1   \n",
      "98  1   \n",
      "99  1   \n",
      "\n",
      "[100 rows x 10 columns]"
     ]
    }
   ],
   "source": [
    "#pd.set_option('display.max_colwidth', -1)\n",
    "#pd.set_option('display.max_columns', None)\n",
    "#pd.set_option('display.max_rows', None)\n",
    "reviews = pd.read_sql(query_testing, conn)\n",
    "reviews.head(100)\n",
    "#reviews.info()"
   ]
  },
  {
   "cell_type": "code",
   "execution_count": 35,
   "metadata": {},
   "outputs": [
    {
     "data": {
      "application/vnd.jupyter.widget-view+json": {
       "model_id": "6294dbda26b446f69c21a8bf7c73957f",
       "version_major": 2,
       "version_minor": 0
      },
      "text/plain": [
       "VBox()"
      ]
     },
     "metadata": {},
     "output_type": "display_data"
    },
    {
     "data": {
      "application/vnd.jupyter.widget-view+json": {
       "model_id": "",
       "version_major": 2,
       "version_minor": 0
      },
      "text/plain": [
       "FloatProgress(value=0.0, bar_style='info', description='Progress:', layout=Layout(height='25px', width='50%'),…"
      ]
     },
     "metadata": {},
     "output_type": "display_data"
    }
   ],
   "source": [
    "query_testing_2 = \"select distinct r.ugc_id, r.created_date, r.review_headline, \\\n",
    "r.review_comments, r.review_rating, r.reviewer_nickname, r.reviewer_location, r.observations, \\\n",
    "case when contains(r.observations, 'PM') then 1 else 0 end as PM, \\\n",
    "case when (contains(r.observations, ',NR,') or substring(r.observations, 1, 2) = 'NR')  then 1 else 0 end as NR \\\n",
    "from analytics.review as r \\\n",
    "left join cdm.observation as o \\\n",
    "on r.ugc_id = o.ugc_id \\\n",
    "where contains(r.observations, 'PM') \\\n",
    "and not contains(r.observations, ',NR,') and substring(r.observations, 1, 2) != 'NR' \\\n",
    "and r.locale in ('en_US','en_GB','en_CA') \\\n",
    "and o.created_date > '2018-10-01' \\\n",
    "limit 500000\""
   ]
  },
  {
   "cell_type": "code",
   "execution_count": 36,
   "metadata": {},
   "outputs": [
    {
     "data": {
      "application/vnd.jupyter.widget-view+json": {
       "model_id": "0e70d4363b9048a997a31dea6770315a",
       "version_major": 2,
       "version_minor": 0
      },
      "text/plain": [
       "VBox()"
      ]
     },
     "metadata": {},
     "output_type": "display_data"
    },
    {
     "data": {
      "application/vnd.jupyter.widget-view+json": {
       "model_id": "",
       "version_major": 2,
       "version_minor": 0
      },
      "text/plain": [
       "FloatProgress(value=0.0, bar_style='info', description='Progress:', layout=Layout(height='25px', width='50%'),…"
      ]
     },
     "metadata": {},
     "output_type": "display_data"
    },
    {
     "name": "stdout",
     "output_type": "stream",
     "text": [
      "<class 'pandas.core.frame.DataFrame'>\n",
      "RangeIndex: 500000 entries, 0 to 499999\n",
      "Data columns (total 10 columns):\n",
      " #   Column             Non-Null Count   Dtype         \n",
      "---  ------             --------------   -----         \n",
      " 0   UGC_ID             500000 non-null  int64         \n",
      " 1   CREATED_DATE       500000 non-null  datetime64[ns]\n",
      " 2   REVIEW_HEADLINE    499985 non-null  object        \n",
      " 3   REVIEW_COMMENTS    499996 non-null  object        \n",
      " 4   REVIEW_RATING      499999 non-null  float64       \n",
      " 5   REVIEWER_NICKNAME  499997 non-null  object        \n",
      " 6   REVIEWER_LOCATION  499997 non-null  object        \n",
      " 7   OBSERVATIONS       500000 non-null  object        \n",
      " 8   PM                 500000 non-null  int64         \n",
      " 9   NR                 500000 non-null  int64         \n",
      "dtypes: datetime64[ns](1), float64(1), int64(3), object(5)\n",
      "memory usage: 38.1+ MB"
     ]
    }
   ],
   "source": [
    "reviews_2 = pd.read_sql(query_testing_2, conn)\n",
    "reviews_2.head(100)\n",
    "reviews_2.info()"
   ]
  },
  {
   "cell_type": "code",
   "execution_count": 37,
   "metadata": {},
   "outputs": [
    {
     "data": {
      "application/vnd.jupyter.widget-view+json": {
       "model_id": "c14ab62cb9b441f7b23cd805f8afb812",
       "version_major": 2,
       "version_minor": 0
      },
      "text/plain": [
       "VBox()"
      ]
     },
     "metadata": {},
     "output_type": "display_data"
    },
    {
     "data": {
      "application/vnd.jupyter.widget-view+json": {
       "model_id": "",
       "version_major": 2,
       "version_minor": 0
      },
      "text/plain": [
       "FloatProgress(value=0.0, bar_style='info', description='Progress:', layout=Layout(height='25px', width='50%'),…"
      ]
     },
     "metadata": {},
     "output_type": "display_data"
    },
    {
     "name": "stdout",
     "output_type": "stream",
     "text": [
      "0"
     ]
    }
   ],
   "source": [
    "reviews_2['NR'].sum(axis=0)\n",
    "#reviews_2[reviews_2['NR']==1]"
   ]
  },
  {
   "cell_type": "code",
   "execution_count": 38,
   "metadata": {},
   "outputs": [
    {
     "data": {
      "application/vnd.jupyter.widget-view+json": {
       "model_id": "18eeafd9514145738f387cd41ad30fff",
       "version_major": 2,
       "version_minor": 0
      },
      "text/plain": [
       "VBox()"
      ]
     },
     "metadata": {},
     "output_type": "display_data"
    },
    {
     "data": {
      "application/vnd.jupyter.widget-view+json": {
       "model_id": "",
       "version_major": 2,
       "version_minor": 0
      },
      "text/plain": [
       "FloatProgress(value=0.0, bar_style='info', description='Progress:', layout=Layout(height='25px', width='50%'),…"
      ]
     },
     "metadata": {},
     "output_type": "display_data"
    },
    {
     "name": "stdout",
     "output_type": "stream",
     "text": [
      "           UGC_ID        CREATED_DATE  \\\n",
      "0       64862472  2017-08-09 12:02:06   \n",
      "1       132701151 2017-12-12 22:10:24   \n",
      "2       133187177 2017-12-14 17:59:08   \n",
      "3       138106475 2018-01-28 07:01:48   \n",
      "4       231851835 2019-03-05 06:44:08   \n",
      "...           ...                 ...   \n",
      "499995  236774953 2019-04-23 19:01:32   \n",
      "499996  236782875 2019-04-24 02:28:00   \n",
      "499997  249926618 2019-01-18 16:00:00   \n",
      "499998  231849281 2019-02-21 20:01:54   \n",
      "499999  231850095 2019-02-22 15:41:47   \n",
      "\n",
      "                                                     REVIEW_HEADLINE  \\\n",
      "0       Avoid buying anything from this guy                            \n",
      "1       Ugg or UGH!!                                                   \n",
      "2       Not used it yet but seems excellent value for the money.       \n",
      "3       Disappointed                                                   \n",
      "4       For some reason, I couldn't purchase this using the app a...   \n",
      "...                                                              ...   \n",
      "499995  Yes                                                            \n",
      "499996  Quick and Easy to follow                                       \n",
      "499997  Love it!                                                       \n",
      "499998  I like the idea                                                \n",
      "499999  Very nice                                                      \n",
      "\n",
      "                                                                                                                                                                                                                                                                                                                                                                                                                                                                                                                                                                                                                               REVIEW_COMMENTS  \\\n",
      "0       Alex Jones is a complete huckster, a charlatan. If you've heard of his show, Infowars, and are an educated listener, you know most of what he spouts is lies and hysterical partisan fabrication. The list of his phony products is long and pity the uninformed people who would consider buying his products. How this ended up at the top of a list compiled by Google is disturbing...                                                                                                                                                                                                                                               \n",
      "1       Paid for gift wrapping so that my wife would not see her present before Christmas. I know she gets home before i do. Of course i was charged the $10 but nothing was wrapped. Box came with a name decker or something on it so i wasn't aware it was the boots even if it was hey it's gift wrapped. Just way to make it less exciting. This was her first gift from our son. Then you go to the website and there is no easy way to file complaint no way to make it right since you can't undo what is done... while it's only $10. You still did nothing to get that $10 in fact you did worse than nothing.                         \n",
      "2       Not used it yet but seems excellent value for the money.                                                                                                                                                                                                                                                                                                                                                                                                                                                                                                                                                                                 \n",
      "3       I have been looking on the Uggs site for weeks now, and they are ALWAYS sold out. Thinking that for being such a big Name they would have more stock.                                                                                                                                                                                                                                                                                                                                                                                                                                                                                    \n",
      "4       For some reason, I couldn't purchase this using the app and had to sign into a desktop computer.                                                                                                                                                                                                                                                                                                                                                                                                                                                                                                                                         \n",
      "...                                                                                                  ...                                                                                                                                                                                                                                                                                                                                                                                                                                                                                                                                         \n",
      "499995  Love it                                                                                                                                                                                                                                                                                                                                                                                                                                                                                                                                                                                                                                  \n",
      "499996  Quick and Easy to follow                                                                                                                                                                                                                                                                                                                                                                                                                                                                                                                                                                                                                 \n",
      "499997  Love it! Great colors                                                                                                                                                                                                                                                                                                                                                                                                                                                                                                                                                                                                                    \n",
      "499998  When I saw this organization set up I bought two sets and later bought several more pieces. I have two issues with the sliding cover. One there are no end caps or a way to stop the caps from sliding from side to side when removing or hanging tools. Also, some of the caps easily come off when removing a tool if there is no other tool heavy enough to way it down. I'm sure this was not designed with this in mind. Again I like the organization idea but it is frustrating to have to adjust or reinstall the plastic rail caps every time I hang or remove a tool or bike. I'd like to know if there is a fix for this is   \n",
      "499999  This towel is quite large big enough to comfortable go around me . It is soft and very absorbent. It held up way well on the wash. The color did fade and it did not pill. The quality is definitely a better quality towel.                                                                                                                                                                                                                                                                                                                                                                                                             \n",
      "\n",
      "        REVIEW_RATING REVIEWER_NICKNAME     REVIEWER_LOCATION  OBSERVATIONS  \\\n",
      "0       1.0            Jim the runner    Berkeley, CA          CNR,LR,NR,PM   \n",
      "1       1.0            MikeG             Sterling Heights, MI  NPO,NR,PM      \n",
      "2       4.0            TelQuiero         Manchester England    CM,NR,PM,PO    \n",
      "3       1.0            Feebie            Boston ma             NPO,NR,PM      \n",
      "4       3.0            aie48689          US                    CM,NR,PM       \n",
      "...     ...                 ...          ..                         ...       \n",
      "499995  5.0            Valerie           Undisclosed           PM             \n",
      "499996  5.0            aag7426           GB                    PM             \n",
      "499997  5.0            Norma             Amazon                IA,PM          \n",
      "499998  3.0            Vito              Baton Rouge, LA       IA,PM          \n",
      "499999  5.0            Akasha312         Snow shoe             IA,PM          \n",
      "\n",
      "        PM  NR  \n",
      "0       1   1   \n",
      "1       1   1   \n",
      "2       1   1   \n",
      "3       1   1   \n",
      "4       1   1   \n",
      "...    ..  ..   \n",
      "499995  1   0   \n",
      "499996  1   0   \n",
      "499997  1   0   \n",
      "499998  1   0   \n",
      "499999  1   0   \n",
      "\n",
      "[1011312 rows x 10 columns]"
     ]
    }
   ],
   "source": [
    "reviews = pd.concat([reviews, reviews_2], axis=0)\n",
    "reviews"
   ]
  },
  {
   "cell_type": "code",
   "execution_count": null,
   "metadata": {},
   "outputs": [],
   "source": []
  },
  {
   "cell_type": "code",
   "execution_count": null,
   "metadata": {},
   "outputs": [],
   "source": []
  },
  {
   "cell_type": "code",
   "execution_count": 39,
   "metadata": {},
   "outputs": [
    {
     "data": {
      "application/vnd.jupyter.widget-view+json": {
       "model_id": "d5910c283b9e469e89072b1856302f5d",
       "version_major": 2,
       "version_minor": 0
      },
      "text/plain": [
       "VBox()"
      ]
     },
     "metadata": {},
     "output_type": "display_data"
    },
    {
     "data": {
      "application/vnd.jupyter.widget-view+json": {
       "model_id": "",
       "version_major": 2,
       "version_minor": 0
      },
      "text/plain": [
       "FloatProgress(value=0.0, bar_style='info', description='Progress:', layout=Layout(height='25px', width='50%'),…"
      ]
     },
     "metadata": {},
     "output_type": "display_data"
    }
   ],
   "source": [
    "#reviews.loc[reviews['REVIEWER_LOCATION'] == 'US', 'REVIEWER_LOCATION'] = 'USA'\n",
    "\n",
    "#reviews['REVIEWER_LOCATION'].head(500)"
   ]
  },
  {
   "cell_type": "code",
   "execution_count": 40,
   "metadata": {},
   "outputs": [
    {
     "data": {
      "application/vnd.jupyter.widget-view+json": {
       "model_id": "8e447fcf3fd746a8a5f28ae93c8c850c",
       "version_major": 2,
       "version_minor": 0
      },
      "text/plain": [
       "VBox()"
      ]
     },
     "metadata": {},
     "output_type": "display_data"
    },
    {
     "data": {
      "application/vnd.jupyter.widget-view+json": {
       "model_id": "",
       "version_major": 2,
       "version_minor": 0
      },
      "text/plain": [
       "FloatProgress(value=0.0, bar_style='info', description='Progress:', layout=Layout(height='25px', width='50%'),…"
      ]
     },
     "metadata": {},
     "output_type": "display_data"
    }
   ],
   "source": [
    "#Use set_option so text doesn't truncate\n",
    "#pd.set_option('display.max_colwidth', -1)\n",
    "#pd.set_option('display.max_columns', None)\n",
    "#pd.set_option('display.max_rows', None)\n",
    "#reviews['LABEL_SUM']= reviews.iloc[:, -18:-1].sum(axis=1)\n",
    "#reviews"
   ]
  },
  {
   "cell_type": "code",
   "execution_count": 41,
   "metadata": {},
   "outputs": [
    {
     "data": {
      "application/vnd.jupyter.widget-view+json": {
       "model_id": "25a30b1d3ab04f7f94a2385f9ae92c06",
       "version_major": 2,
       "version_minor": 0
      },
      "text/plain": [
       "VBox()"
      ]
     },
     "metadata": {},
     "output_type": "display_data"
    },
    {
     "data": {
      "application/vnd.jupyter.widget-view+json": {
       "model_id": "",
       "version_major": 2,
       "version_minor": 0
      },
      "text/plain": [
       "FloatProgress(value=0.0, bar_style='info', description='Progress:', layout=Layout(height='25px', width='50%'),…"
      ]
     },
     "metadata": {},
     "output_type": "display_data"
    }
   ],
   "source": [
    "#LOOK AT OTHER LABELS - IF NONE THEN ADD NOLABEL = 1\n",
    "#df['new column name'] = df['column name'].apply(lambda x: 'value if condition is met' if x condition else 'value if condition is not met')\n",
    "#reviews['NOLABEL'] = reviews['LABEL_SUM'].apply(lambda x: int(1) if x==0 else int(0))\n",
    "\n",
    "#df.loc[df['set_of_numbers'] <= 4, 'equal_or_lower_than_4?'] = 'True' \n",
    "#reviews.loc[reviews['NOLABEL'] == 0, 'TEST'] = 1\n",
    "#df['Fruit Total']= df.iloc[:, -4:-1].sum(axis=1)\n",
    "#reviews"
   ]
  },
  {
   "cell_type": "code",
   "execution_count": 42,
   "metadata": {},
   "outputs": [
    {
     "data": {
      "application/vnd.jupyter.widget-view+json": {
       "model_id": "1ea3b98cbf8440719738e8f208a1f41b",
       "version_major": 2,
       "version_minor": 0
      },
      "text/plain": [
       "VBox()"
      ]
     },
     "metadata": {},
     "output_type": "display_data"
    },
    {
     "data": {
      "application/vnd.jupyter.widget-view+json": {
       "model_id": "",
       "version_major": 2,
       "version_minor": 0
      },
      "text/plain": [
       "FloatProgress(value=0.0, bar_style='info', description='Progress:', layout=Layout(height='25px', width='50%'),…"
      ]
     },
     "metadata": {},
     "output_type": "display_data"
    }
   ],
   "source": [
    "#reviews2 = reviews.drop(['LABEL_SUM'], axis=1)\n",
    "#reviews2"
   ]
  },
  {
   "cell_type": "code",
   "execution_count": 43,
   "metadata": {},
   "outputs": [
    {
     "data": {
      "application/vnd.jupyter.widget-view+json": {
       "model_id": "262c3aa0144947f3bdb6cf4036673054",
       "version_major": 2,
       "version_minor": 0
      },
      "text/plain": [
       "VBox()"
      ]
     },
     "metadata": {},
     "output_type": "display_data"
    },
    {
     "data": {
      "application/vnd.jupyter.widget-view+json": {
       "model_id": "",
       "version_major": 2,
       "version_minor": 0
      },
      "text/plain": [
       "FloatProgress(value=0.0, bar_style='info', description='Progress:', layout=Layout(height='25px', width='50%'),…"
      ]
     },
     "metadata": {},
     "output_type": "display_data"
    }
   ],
   "source": [
    "#reviews = reviews2\n",
    "#reviews"
   ]
  },
  {
   "cell_type": "code",
   "execution_count": 44,
   "metadata": {},
   "outputs": [
    {
     "data": {
      "application/vnd.jupyter.widget-view+json": {
       "model_id": "f5eb7272ad4543ac87332039d0605eaf",
       "version_major": 2,
       "version_minor": 0
      },
      "text/plain": [
       "VBox()"
      ]
     },
     "metadata": {},
     "output_type": "display_data"
    },
    {
     "data": {
      "application/vnd.jupyter.widget-view+json": {
       "model_id": "",
       "version_major": 2,
       "version_minor": 0
      },
      "text/plain": [
       "FloatProgress(value=0.0, bar_style='info', description='Progress:', layout=Layout(height='25px', width='50%'),…"
      ]
     },
     "metadata": {},
     "output_type": "display_data"
    },
    {
     "name": "stdout",
     "output_type": "stream",
     "text": [
      "UGC_ID               int64         \n",
      "CREATED_DATE         datetime64[ns]\n",
      "REVIEW_HEADLINE      object        \n",
      "REVIEW_COMMENTS      object        \n",
      "REVIEW_RATING        float64       \n",
      "REVIEWER_NICKNAME    object        \n",
      "REVIEWER_LOCATION    object        \n",
      "OBSERVATIONS         object        \n",
      "PM                   int64         \n",
      "NR                   int64         \n",
      "dtype: object"
     ]
    }
   ],
   "source": [
    "reviews.dtypes"
   ]
  },
  {
   "cell_type": "code",
   "execution_count": 45,
   "metadata": {},
   "outputs": [
    {
     "data": {
      "application/vnd.jupyter.widget-view+json": {
       "model_id": "9edae0126c494943860666447ad89162",
       "version_major": 2,
       "version_minor": 0
      },
      "text/plain": [
       "VBox()"
      ]
     },
     "metadata": {},
     "output_type": "display_data"
    },
    {
     "data": {
      "application/vnd.jupyter.widget-view+json": {
       "model_id": "",
       "version_major": 2,
       "version_minor": 0
      },
      "text/plain": [
       "FloatProgress(value=0.0, bar_style='info', description='Progress:', layout=Layout(height='25px', width='50%'),…"
      ]
     },
     "metadata": {},
     "output_type": "display_data"
    },
    {
     "name": "stdout",
     "output_type": "stream",
     "text": [
      "       UGC_ID        CREATED_DATE  \\\n",
      "0   64862472  2017-08-09 12:02:06   \n",
      "1   132701151 2017-12-12 22:10:24   \n",
      "2   133187177 2017-12-14 17:59:08   \n",
      "3   138106475 2018-01-28 07:01:48   \n",
      "4   231851835 2019-03-05 06:44:08   \n",
      "..        ...                 ...   \n",
      "95  231933956 2019-03-06 09:05:03   \n",
      "96  231935796 2019-03-06 10:17:57   \n",
      "97  231936247 2019-03-06 10:26:53   \n",
      "98  231937856 2019-03-06 10:52:37   \n",
      "99  231969621 2019-03-06 15:12:48   \n",
      "\n",
      "                                                 REVIEW_HEADLINE  \\\n",
      "0   Avoid buying anything from this guy                            \n",
      "1   Ugg or UGH!!                                                   \n",
      "2   Not used it yet but seems excellent value for the money.       \n",
      "3   Disappointed                                                   \n",
      "4   For some reason, I couldn't purchase this using the app a...   \n",
      "..                                                           ...   \n",
      "95  Received inoperable waiting for replacement                    \n",
      "96  Bought for my friends birthday her first eyeshadow anything!   \n",
      "97  AGRADABLE                                                      \n",
      "98  /Aqualux-Universal-Bath-Shower-Scree                           \n",
      "99  Did not receive                                                \n",
      "\n",
      "                                                                                                                                                                                                                                                                                                                                                                                                                                                                                                                                                                                                     REVIEW_COMMENTS  \\\n",
      "0   Alex Jones is a complete huckster, a charlatan. If you've heard of his show, Infowars, and are an educated listener, you know most of what he spouts is lies and hysterical partisan fabrication. The list of his phony products is long and pity the uninformed people who would consider buying his products. How this ended up at the top of a list compiled by Google is disturbing...                                                                                                                                                                                                                         \n",
      "1   Paid for gift wrapping so that my wife would not see her present before Christmas. I know she gets home before i do. Of course i was charged the $10 but nothing was wrapped. Box came with a name decker or something on it so i wasn't aware it was the boots even if it was hey it's gift wrapped. Just way to make it less exciting. This was her first gift from our son. Then you go to the website and there is no easy way to file complaint no way to make it right since you can't undo what is done... while it's only $10. You still did nothing to get that $10 in fact you did worse than nothing.   \n",
      "2   Not used it yet but seems excellent value for the money.                                                                                                                                                                                                                                                                                                                                                                                                                                                                                                                                                           \n",
      "3   I have been looking on the Uggs site for weeks now, and they are ALWAYS sold out. Thinking that for being such a big Name they would have more stock.                                                                                                                                                                                                                                                                                                                                                                                                                                                              \n",
      "4   For some reason, I couldn't purchase this using the app and had to sign into a desktop computer.                                                                                                                                                                                                                                                                                                                                                                                                                                                                                                                   \n",
      "..                                                                                               ...                                                                                                                                                                                                                                                                                                                                                                                                                                                                                                                   \n",
      "95  Apparently inoperable units are somewhat common, at least with this brand.                                                                                                                                                                                                                                                                                                                                                                                                                                                                                                                                         \n",
      "96  Yay for birthday gifts                                                                                                                                                                                                                                                                                                                                                                                                                                                                                                                                                                                             \n",
      "97  AGRADABLE                                                                                                                                                                                                                                                                                                                                                                                                                                                                                                                                                                                                          \n",
      "98  Click and Collect worked perfectly only problem as it was the wrong seal so I had to return the item and get a refund.  I got the correct seal from another supplier notwithstanding Wickes supplied the original shower screen door.                                                                                                                                                                                                                                                                                                                                                                              \n",
      "99  Did not receive                                                                                                                                                                                                                                                                                                                                                                                                                                                                                                                                                                                                    \n",
      "\n",
      "    REVIEW_RATING REVIEWER_NICKNAME     REVIEWER_LOCATION  OBSERVATIONS  PM  \\\n",
      "0   1.0            Jim the runner    Berkeley, CA          CNR,LR,NR,PM  1    \n",
      "1   1.0            MikeG             Sterling Heights, MI  NPO,NR,PM     1    \n",
      "2   4.0            TelQuiero         Manchester England    CM,NR,PM,PO   1    \n",
      "3   1.0            Feebie            Boston ma             NPO,NR,PM     1    \n",
      "4   3.0            aie48689          US                    CM,NR,PM      1    \n",
      "..  ...                 ...          ..                         ...     ..    \n",
      "95  1.0            Cls1              Petaluma ca           NR,PM         1    \n",
      "96  5.0            April Galindo     Phoenix, Arizona      NR,PII,PM     1    \n",
      "97  5.0            auz1421           US                    NR,PM         1    \n",
      "98  1.0            Andy              Surrey                NR,PM         1    \n",
      "99  1.0            Diane             Undisclosed           NR,PM         1    \n",
      "\n",
      "    NR  \\\n",
      "0   1    \n",
      "1   1    \n",
      "2   1    \n",
      "3   1    \n",
      "4   1    \n",
      ".. ..    \n",
      "95  1    \n",
      "96  1    \n",
      "97  1    \n",
      "98  1    \n",
      "99  1    \n",
      "\n",
      "                                                                                                                                                                                                                                                                                                                                                                                                                                                                                                                                                                                                                                          ALL_TEXT  \n",
      "0   headline Avoid buying anything from this guy comment Alex Jones is a complete huckster, a charlatan. If you've heard of his show, Infowars, and are an educated listener, you know most of what he spouts is lies and hysterical partisan fabrication. The list of his phony products is long and pity the uninformed people who would consider buying his products. How this ended up at the top of a list compiled by Google is disturbing...                                                                                                                                                                                                 \n",
      "1   headline Ugg or UGH!! comment Paid for gift wrapping so that my wife would not see her present before Christmas. I know she gets home before i do. Of course i was charged the $10 but nothing was wrapped. Box came with a name decker or something on it so i wasn't aware it was the boots even if it was hey it's gift wrapped. Just way to make it less exciting. This was her first gift from our son. Then you go to the website and there is no easy way to file complaint no way to make it right since you can't undo what is done... while it's only $10. You still did nothing to get that $10 in fact you did worse than nothing.  \n",
      "2   headline Not used it yet but seems excellent value for the money. comment Not used it yet but seems excellent value for the money.                                                                                                                                                                                                                                                                                                                                                                                                                                                                                                              \n",
      "3   headline Disappointed comment I have been looking on the Uggs site for weeks now, and they are ALWAYS sold out. Thinking that for being such a big Name they would have more stock.                                                                                                                                                                                                                                                                                                                                                                                                                                                             \n",
      "4   headline For some reason, I couldn't purchase this using the app a... comment For some reason, I couldn't purchase this using the app and had to sign into a desktop computer.                                                                                                                                                                                                                                                                                                                                                                                                                                                                  \n",
      "..                                                                                                                                                                             ...                                                                                                                                                                                                                                                                                                                                                                                                                                                                  \n",
      "95  headline Received inoperable waiting for replacement comment Apparently inoperable units are somewhat common, at least with this brand.                                                                                                                                                                                                                                                                                                                                                                                                                                                                                                         \n",
      "96  headline Bought for my friends birthday her first eyeshadow anything! comment Yay for birthday gifts                                                                                                                                                                                                                                                                                                                                                                                                                                                                                                                                            \n",
      "97  headline AGRADABLE comment AGRADABLE                                                                                                                                                                                                                                                                                                                                                                                                                                                                                                                                                                                                            \n",
      "98  headline /Aqualux-Universal-Bath-Shower-Scree comment Click and Collect worked perfectly only problem as it was the wrong seal so I had to return the item and get a refund.  I got the correct seal from another supplier notwithstanding Wickes supplied the original shower screen door.                                                                                                                                                                                                                                                                                                                                                     \n",
      "99  headline Did not receive comment Did not receive                                                                                                                                                                                                                                                                                                                                                                                                                                                                                                                                                                                                \n",
      "\n",
      "[100 rows x 11 columns]\n",
      "<string>:3: FutureWarning: Passing a negative integer is deprecated in version 1.0 and will not be supported in future version. Instead, use None to not limit the column width."
     ]
    }
   ],
   "source": [
    "reviews['ALL_TEXT'] = 'headline ' + reviews['REVIEW_HEADLINE'] + ' comment ' + reviews['REVIEW_COMMENTS'] \n",
    "#Use set_option so text doesn't truncate\n",
    "pd.set_option('display.max_colwidth', -1)\n",
    "pd.set_option('display.max_columns', None)\n",
    "reviews.head(100)\n",
    "\n",
    "#reviews.dtypes"
   ]
  },
  {
   "cell_type": "code",
   "execution_count": 46,
   "metadata": {},
   "outputs": [
    {
     "data": {
      "application/vnd.jupyter.widget-view+json": {
       "model_id": "b4dcff019aa34b1bbf442628a8133a9b",
       "version_major": 2,
       "version_minor": 0
      },
      "text/plain": [
       "VBox()"
      ]
     },
     "metadata": {},
     "output_type": "display_data"
    },
    {
     "data": {
      "application/vnd.jupyter.widget-view+json": {
       "model_id": "",
       "version_major": 2,
       "version_minor": 0
      },
      "text/plain": [
       "FloatProgress(value=0.0, bar_style='info', description='Progress:', layout=Layout(height='25px', width='50%'),…"
      ]
     },
     "metadata": {},
     "output_type": "display_data"
    },
    {
     "name": "stdout",
     "output_type": "stream",
     "text": [
      "UGC_ID               int64         \n",
      "CREATED_DATE         datetime64[ns]\n",
      "REVIEW_HEADLINE      object        \n",
      "REVIEW_COMMENTS      object        \n",
      "REVIEW_RATING        float64       \n",
      "REVIEWER_NICKNAME    object        \n",
      "REVIEWER_LOCATION    object        \n",
      "OBSERVATIONS         object        \n",
      "PM                   int64         \n",
      "NR                   int64         \n",
      "ALL_TEXT             object        \n",
      "dtype: object"
     ]
    }
   ],
   "source": [
    "reviews.dtypes"
   ]
  },
  {
   "cell_type": "code",
   "execution_count": 47,
   "metadata": {},
   "outputs": [
    {
     "data": {
      "application/vnd.jupyter.widget-view+json": {
       "model_id": "ce4e4e2af7b4426faa3664c2c0509dfd",
       "version_major": 2,
       "version_minor": 0
      },
      "text/plain": [
       "VBox()"
      ]
     },
     "metadata": {},
     "output_type": "display_data"
    },
    {
     "data": {
      "application/vnd.jupyter.widget-view+json": {
       "model_id": "",
       "version_major": 2,
       "version_minor": 0
      },
      "text/plain": [
       "FloatProgress(value=0.0, bar_style='info', description='Progress:', layout=Layout(height='25px', width='50%'),…"
      ]
     },
     "metadata": {},
     "output_type": "display_data"
    }
   ],
   "source": [
    "\n",
    "\n",
    "#reviews['PRICE'] = bool(re.match('location', str(reviews['ALL_TEXT'])))\n",
    "#reviews[reviews['PRICE']==True].head()\n"
   ]
  },
  {
   "cell_type": "code",
   "execution_count": 48,
   "metadata": {},
   "outputs": [
    {
     "data": {
      "application/vnd.jupyter.widget-view+json": {
       "model_id": "be73fcb20d9343d495f799aa00ade0f7",
       "version_major": 2,
       "version_minor": 0
      },
      "text/plain": [
       "VBox()"
      ]
     },
     "metadata": {},
     "output_type": "display_data"
    },
    {
     "data": {
      "application/vnd.jupyter.widget-view+json": {
       "model_id": "",
       "version_major": 2,
       "version_minor": 0
      },
      "text/plain": [
       "FloatProgress(value=0.0, bar_style='info', description='Progress:', layout=Layout(height='25px', width='50%'),…"
      ]
     },
     "metadata": {},
     "output_type": "display_data"
    },
    {
     "name": "stdout",
     "output_type": "stream",
     "text": [
      "           UGC_ID        CREATED_DATE  \\\n",
      "0       64862472  2017-08-09 12:02:06   \n",
      "1       132701151 2017-12-12 22:10:24   \n",
      "2       133187177 2017-12-14 17:59:08   \n",
      "3       138106475 2018-01-28 07:01:48   \n",
      "4       231851835 2019-03-05 06:44:08   \n",
      "...           ...                 ...   \n",
      "499995  236774953 2019-04-23 19:01:32   \n",
      "499996  236782875 2019-04-24 02:28:00   \n",
      "499997  249926618 2019-01-18 16:00:00   \n",
      "499998  231849281 2019-02-21 20:01:54   \n",
      "499999  231850095 2019-02-22 15:41:47   \n",
      "\n",
      "                                                     REVIEW_HEADLINE  \\\n",
      "0       Avoid buying anything from this guy                            \n",
      "1       Ugg or UGH!!                                                   \n",
      "2       Not used it yet but seems excellent value for the money.       \n",
      "3       Disappointed                                                   \n",
      "4       For some reason, I couldn't purchase this using the app a...   \n",
      "...                                                              ...   \n",
      "499995  Yes                                                            \n",
      "499996  Quick and Easy to follow                                       \n",
      "499997  Love it!                                                       \n",
      "499998  I like the idea                                                \n",
      "499999  Very nice                                                      \n",
      "\n",
      "                                                                                                                                                                                                                                                                                                                                                                                                                                                                                                                                                                                                                               REVIEW_COMMENTS  \\\n",
      "0       Alex Jones is a complete huckster, a charlatan. If you've heard of his show, Infowars, and are an educated listener, you know most of what he spouts is lies and hysterical partisan fabrication. The list of his phony products is long and pity the uninformed people who would consider buying his products. How this ended up at the top of a list compiled by Google is disturbing...                                                                                                                                                                                                                                               \n",
      "1       Paid for gift wrapping so that my wife would not see her present before Christmas. I know she gets home before i do. Of course i was charged the $10 but nothing was wrapped. Box came with a name decker or something on it so i wasn't aware it was the boots even if it was hey it's gift wrapped. Just way to make it less exciting. This was her first gift from our son. Then you go to the website and there is no easy way to file complaint no way to make it right since you can't undo what is done... while it's only $10. You still did nothing to get that $10 in fact you did worse than nothing.                         \n",
      "2       Not used it yet but seems excellent value for the money.                                                                                                                                                                                                                                                                                                                                                                                                                                                                                                                                                                                 \n",
      "3       I have been looking on the Uggs site for weeks now, and they are ALWAYS sold out. Thinking that for being such a big Name they would have more stock.                                                                                                                                                                                                                                                                                                                                                                                                                                                                                    \n",
      "4       For some reason, I couldn't purchase this using the app and had to sign into a desktop computer.                                                                                                                                                                                                                                                                                                                                                                                                                                                                                                                                         \n",
      "...                                                                                                  ...                                                                                                                                                                                                                                                                                                                                                                                                                                                                                                                                         \n",
      "499995  Love it                                                                                                                                                                                                                                                                                                                                                                                                                                                                                                                                                                                                                                  \n",
      "499996  Quick and Easy to follow                                                                                                                                                                                                                                                                                                                                                                                                                                                                                                                                                                                                                 \n",
      "499997  Love it! Great colors                                                                                                                                                                                                                                                                                                                                                                                                                                                                                                                                                                                                                    \n",
      "499998  When I saw this organization set up I bought two sets and later bought several more pieces. I have two issues with the sliding cover. One there are no end caps or a way to stop the caps from sliding from side to side when removing or hanging tools. Also, some of the caps easily come off when removing a tool if there is no other tool heavy enough to way it down. I'm sure this was not designed with this in mind. Again I like the organization idea but it is frustrating to have to adjust or reinstall the plastic rail caps every time I hang or remove a tool or bike. I'd like to know if there is a fix for this is   \n",
      "499999  This towel is quite large big enough to comfortable go around me . It is soft and very absorbent. It held up way well on the wash. The color did fade and it did not pill. The quality is definitely a better quality towel.                                                                                                                                                                                                                                                                                                                                                                                                             \n",
      "\n",
      "        REVIEW_RATING REVIEWER_NICKNAME     REVIEWER_LOCATION  OBSERVATIONS  \\\n",
      "0       1.0            Jim the runner    Berkeley, CA          CNR,LR,NR,PM   \n",
      "1       1.0            MikeG             Sterling Heights, MI  NPO,NR,PM      \n",
      "2       4.0            TelQuiero         Manchester England    CM,NR,PM,PO    \n",
      "3       1.0            Feebie            Boston ma             NPO,NR,PM      \n",
      "4       3.0            aie48689          US                    CM,NR,PM       \n",
      "...     ...                 ...          ..                         ...       \n",
      "499995  5.0            Valerie           Undisclosed           PM             \n",
      "499996  5.0            aag7426           GB                    PM             \n",
      "499997  5.0            Norma             Amazon                IA,PM          \n",
      "499998  3.0            Vito              Baton Rouge, LA       IA,PM          \n",
      "499999  5.0            Akasha312         Snow shoe             IA,PM          \n",
      "\n",
      "        PM  NR  \\\n",
      "0       1   1    \n",
      "1       1   1    \n",
      "2       1   1    \n",
      "3       1   1    \n",
      "4       1   1    \n",
      "...    ..  ..    \n",
      "499995  1   0    \n",
      "499996  1   0    \n",
      "499997  1   0    \n",
      "499998  1   0    \n",
      "499999  1   0    \n",
      "\n",
      "                                                                                                                                                                                                                                                                                                                                                                                                                                                                                                                                                                                                                                                                       ALL_TEXT  \n",
      "0       headline Avoid buying anything from this guy comment Alex Jones is a complete huckster, a charlatan. If you've heard of his show, Infowars, and are an educated listener, you know most of what he spouts is lies and hysterical partisan fabrication. The list of his phony products is long and pity the uninformed people who would consider buying his products. How this ended up at the top of a list compiled by Google is disturbing...                                                                                                                                                                                                                          \n",
      "1       headline Ugg or UGH!! comment Paid for gift wrapping so that my wife would not see her present before Christmas. I know she gets home before i do. Of course i was charged the $10 but nothing was wrapped. Box came with a name decker or something on it so i wasn't aware it was the boots even if it was hey it's gift wrapped. Just way to make it less exciting. This was her first gift from our son. Then you go to the website and there is no easy way to file complaint no way to make it right since you can't undo what is done... while it's only $10. You still did nothing to get that $10 in fact you did worse than nothing.                           \n",
      "2       headline Not used it yet but seems excellent value for the money. comment Not used it yet but seems excellent value for the money.                                                                                                                                                                                                                                                                                                                                                                                                                                                                                                                                       \n",
      "3       headline Disappointed comment I have been looking on the Uggs site for weeks now, and they are ALWAYS sold out. Thinking that for being such a big Name they would have more stock.                                                                                                                                                                                                                                                                                                                                                                                                                                                                                      \n",
      "4       headline For some reason, I couldn't purchase this using the app a... comment For some reason, I couldn't purchase this using the app and had to sign into a desktop computer.                                                                                                                                                                                                                                                                                                                                                                                                                                                                                           \n",
      "...                                                                                                                                                                                ...                                                                                                                                                                                                                                                                                                                                                                                                                                                                                           \n",
      "499995  headline Yes comment Love it                                                                                                                                                                                                                                                                                                                                                                                                                                                                                                                                                                                                                                             \n",
      "499996  headline Quick and Easy to follow comment Quick and Easy to follow                                                                                                                                                                                                                                                                                                                                                                                                                                                                                                                                                                                                       \n",
      "499997  headline Love it! comment Love it! Great colors                                                                                                                                                                                                                                                                                                                                                                                                                                                                                                                                                                                                                          \n",
      "499998  headline I like the idea comment When I saw this organization set up I bought two sets and later bought several more pieces. I have two issues with the sliding cover. One there are no end caps or a way to stop the caps from sliding from side to side when removing or hanging tools. Also, some of the caps easily come off when removing a tool if there is no other tool heavy enough to way it down. I'm sure this was not designed with this in mind. Again I like the organization idea but it is frustrating to have to adjust or reinstall the plastic rail caps every time I hang or remove a tool or bike. I'd like to know if there is a fix for this is  \n",
      "499999  headline Very nice comment This towel is quite large big enough to comfortable go around me . It is soft and very absorbent. It held up way well on the wash. The color did fade and it did not pill. The quality is definitely a better quality towel.                                                                                                                                                                                                                                                                                                                                                                                                                  \n",
      "\n",
      "[1011312 rows x 11 columns]"
     ]
    }
   ],
   "source": [
    "reviews"
   ]
  },
  {
   "cell_type": "code",
   "execution_count": 49,
   "metadata": {},
   "outputs": [
    {
     "data": {
      "application/vnd.jupyter.widget-view+json": {
       "model_id": "315602b001574ce8b53597fd00e21ee8",
       "version_major": 2,
       "version_minor": 0
      },
      "text/plain": [
       "VBox()"
      ]
     },
     "metadata": {},
     "output_type": "display_data"
    },
    {
     "data": {
      "application/vnd.jupyter.widget-view+json": {
       "model_id": "",
       "version_major": 2,
       "version_minor": 0
      },
      "text/plain": [
       "FloatProgress(value=0.0, bar_style='info', description='Progress:', layout=Layout(height='25px', width='50%'),…"
      ]
     },
     "metadata": {},
     "output_type": "display_data"
    }
   ],
   "source": [
    "nlp = spacy.load(\"en_core_web_lg\")"
   ]
  },
  {
   "cell_type": "code",
   "execution_count": 50,
   "metadata": {},
   "outputs": [
    {
     "data": {
      "application/vnd.jupyter.widget-view+json": {
       "model_id": "854bde5fead64af7b51d0818b261123e",
       "version_major": 2,
       "version_minor": 0
      },
      "text/plain": [
       "VBox()"
      ]
     },
     "metadata": {},
     "output_type": "display_data"
    },
    {
     "data": {
      "application/vnd.jupyter.widget-view+json": {
       "model_id": "",
       "version_major": 2,
       "version_minor": 0
      },
      "text/plain": [
       "FloatProgress(value=0.0, bar_style='info', description='Progress:', layout=Layout(height='25px', width='50%'),…"
      ]
     },
     "metadata": {},
     "output_type": "display_data"
    }
   ],
   "source": [
    "def get_vec(x):\n",
    "    doc = nlp(x)\n",
    "    vec = doc.vector\n",
    "    return vec"
   ]
  },
  {
   "cell_type": "code",
   "execution_count": 51,
   "metadata": {},
   "outputs": [
    {
     "data": {
      "application/vnd.jupyter.widget-view+json": {
       "model_id": "9da342770d9a47349f2f64dc33734b7a",
       "version_major": 2,
       "version_minor": 0
      },
      "text/plain": [
       "VBox()"
      ]
     },
     "metadata": {},
     "output_type": "display_data"
    },
    {
     "data": {
      "application/vnd.jupyter.widget-view+json": {
       "model_id": "",
       "version_major": 2,
       "version_minor": 0
      },
      "text/plain": [
       "FloatProgress(value=0.0, bar_style='info', description='Progress:', layout=Layout(height='25px', width='50%'),…"
      ]
     },
     "metadata": {},
     "output_type": "display_data"
    },
    {
     "name": "stdout",
     "output_type": "stream",
     "text": [
      "<class 'pandas.core.frame.DataFrame'>\n",
      "Int64Index: 1010106 entries, 0 to 499999\n",
      "Data columns (total 11 columns):\n",
      " #   Column             Non-Null Count    Dtype         \n",
      "---  ------             --------------    -----         \n",
      " 0   UGC_ID             1010106 non-null  int64         \n",
      " 1   CREATED_DATE       1010106 non-null  datetime64[ns]\n",
      " 2   REVIEW_HEADLINE    1010106 non-null  object        \n",
      " 3   REVIEW_COMMENTS    1010106 non-null  object        \n",
      " 4   REVIEW_RATING      1010106 non-null  float64       \n",
      " 5   REVIEWER_NICKNAME  1010106 non-null  object        \n",
      " 6   REVIEWER_LOCATION  1010106 non-null  object        \n",
      " 7   OBSERVATIONS       1010106 non-null  object        \n",
      " 8   PM                 1010106 non-null  int64         \n",
      " 9   NR                 1010106 non-null  int64         \n",
      " 10  ALL_TEXT           1010106 non-null  object        \n",
      "dtypes: datetime64[ns](1), float64(1), int64(3), object(6)\n",
      "memory usage: 92.5+ MB"
     ]
    }
   ],
   "source": [
    "#Some NaN values causing an error when applying word embedding vector\n",
    "#reviews['ALL_TEXT'].isnull().values.any()\n",
    "\n",
    "#Remove NaN values\n",
    "reviews.dropna(inplace=True)\n",
    "reviews.info()"
   ]
  },
  {
   "cell_type": "code",
   "execution_count": 52,
   "metadata": {},
   "outputs": [
    {
     "data": {
      "application/vnd.jupyter.widget-view+json": {
       "model_id": "31820606a9894d75b0641adb33c93938",
       "version_major": 2,
       "version_minor": 0
      },
      "text/plain": [
       "VBox()"
      ]
     },
     "metadata": {},
     "output_type": "display_data"
    },
    {
     "data": {
      "application/vnd.jupyter.widget-view+json": {
       "model_id": "",
       "version_major": 2,
       "version_minor": 0
      },
      "text/plain": [
       "FloatProgress(value=0.0, bar_style='info', description='Progress:', layout=Layout(height='25px', width='50%'),…"
      ]
     },
     "metadata": {},
     "output_type": "display_data"
    },
    {
     "name": "stdout",
     "output_type": "stream",
     "text": [
      "False"
     ]
    }
   ],
   "source": [
    "reviews['ALL_TEXT'].isnull().values.any()"
   ]
  },
  {
   "cell_type": "code",
   "execution_count": null,
   "metadata": {},
   "outputs": [],
   "source": []
  },
  {
   "cell_type": "code",
   "execution_count": 53,
   "metadata": {},
   "outputs": [
    {
     "data": {
      "application/vnd.jupyter.widget-view+json": {
       "model_id": "09df015ccbf242e6adfaba18fe1ec4d6",
       "version_major": 2,
       "version_minor": 0
      },
      "text/plain": [
       "VBox()"
      ]
     },
     "metadata": {},
     "output_type": "display_data"
    },
    {
     "data": {
      "application/vnd.jupyter.widget-view+json": {
       "model_id": "",
       "version_major": 2,
       "version_minor": 0
      },
      "text/plain": [
       "FloatProgress(value=0.0, bar_style='info', description='Progress:', layout=Layout(height='25px', width='50%'),…"
      ]
     },
     "metadata": {},
     "output_type": "display_data"
    }
   ],
   "source": [
    "#1 million rows can't be processed in 1 hr before auto shutdown\n",
    "#Try with 100k rows - still not working\n",
    "#Try with 10k rows\n",
    "from random import sample \n",
    "reviews = reviews.sample(n=100000, random_state=1)"
   ]
  },
  {
   "cell_type": "code",
   "execution_count": 54,
   "metadata": {},
   "outputs": [
    {
     "data": {
      "application/vnd.jupyter.widget-view+json": {
       "model_id": "6e0e4ce1fac24c5ba00c91d6aa29cece",
       "version_major": 2,
       "version_minor": 0
      },
      "text/plain": [
       "VBox()"
      ]
     },
     "metadata": {},
     "output_type": "display_data"
    },
    {
     "data": {
      "application/vnd.jupyter.widget-view+json": {
       "model_id": "",
       "version_major": 2,
       "version_minor": 0
      },
      "text/plain": [
       "FloatProgress(value=0.0, bar_style='info', description='Progress:', layout=Layout(height='25px', width='50%'),…"
      ]
     },
     "metadata": {},
     "output_type": "display_data"
    },
    {
     "name": "stdout",
     "output_type": "stream",
     "text": [
      "<class 'pandas.core.frame.DataFrame'>\n",
      "Int64Index: 100000 entries, 444151 to 252510\n",
      "Data columns (total 11 columns):\n",
      " #   Column             Non-Null Count   Dtype         \n",
      "---  ------             --------------   -----         \n",
      " 0   UGC_ID             100000 non-null  int64         \n",
      " 1   CREATED_DATE       100000 non-null  datetime64[ns]\n",
      " 2   REVIEW_HEADLINE    100000 non-null  object        \n",
      " 3   REVIEW_COMMENTS    100000 non-null  object        \n",
      " 4   REVIEW_RATING      100000 non-null  float64       \n",
      " 5   REVIEWER_NICKNAME  100000 non-null  object        \n",
      " 6   REVIEWER_LOCATION  100000 non-null  object        \n",
      " 7   OBSERVATIONS       100000 non-null  object        \n",
      " 8   PM                 100000 non-null  int64         \n",
      " 9   NR                 100000 non-null  int64         \n",
      " 10  ALL_TEXT           100000 non-null  object        \n",
      "dtypes: datetime64[ns](1), float64(1), int64(3), object(6)\n",
      "memory usage: 9.2+ MB"
     ]
    }
   ],
   "source": [
    "reviews.info()"
   ]
  },
  {
   "cell_type": "code",
   "execution_count": 55,
   "metadata": {},
   "outputs": [
    {
     "data": {
      "application/vnd.jupyter.widget-view+json": {
       "model_id": "d97d0ce273f04aec8c37b8cb9fb9862f",
       "version_major": 2,
       "version_minor": 0
      },
      "text/plain": [
       "VBox()"
      ]
     },
     "metadata": {},
     "output_type": "display_data"
    },
    {
     "data": {
      "application/vnd.jupyter.widget-view+json": {
       "model_id": "",
       "version_major": 2,
       "version_minor": 0
      },
      "text/plain": [
       "FloatProgress(value=0.0, bar_style='info', description='Progress:', layout=Layout(height='25px', width='50%'),…"
      ]
     },
     "metadata": {},
     "output_type": "display_data"
    }
   ],
   "source": [
    "#100k started at 1114, 1135 done"
   ]
  },
  {
   "cell_type": "code",
   "execution_count": 56,
   "metadata": {},
   "outputs": [
    {
     "data": {
      "application/vnd.jupyter.widget-view+json": {
       "model_id": "6f6a5363351c4ba9960f4340a752fb47",
       "version_major": 2,
       "version_minor": 0
      },
      "text/plain": [
       "VBox()"
      ]
     },
     "metadata": {},
     "output_type": "display_data"
    },
    {
     "data": {
      "application/vnd.jupyter.widget-view+json": {
       "model_id": "",
       "version_major": 2,
       "version_minor": 0
      },
      "text/plain": [
       "FloatProgress(value=0.0, bar_style='info', description='Progress:', layout=Layout(height='25px', width='50%'),…"
      ]
     },
     "metadata": {},
     "output_type": "display_data"
    }
   ],
   "source": [
    "reviews['vec'] = reviews['ALL_TEXT'].apply(lambda x: get_vec(x))"
   ]
  },
  {
   "cell_type": "code",
   "execution_count": null,
   "metadata": {},
   "outputs": [],
   "source": []
  },
  {
   "cell_type": "code",
   "execution_count": 57,
   "metadata": {},
   "outputs": [
    {
     "data": {
      "application/vnd.jupyter.widget-view+json": {
       "model_id": "e9d8cdef63cc4a7bad1ad0f73f78a767",
       "version_major": 2,
       "version_minor": 0
      },
      "text/plain": [
       "VBox()"
      ]
     },
     "metadata": {},
     "output_type": "display_data"
    },
    {
     "data": {
      "application/vnd.jupyter.widget-view+json": {
       "model_id": "",
       "version_major": 2,
       "version_minor": 0
      },
      "text/plain": [
       "FloatProgress(value=0.0, bar_style='info', description='Progress:', layout=Layout(height='25px', width='50%'),…"
      ]
     },
     "metadata": {},
     "output_type": "display_data"
    },
    {
     "name": "stdout",
     "output_type": "stream",
     "text": [
      "(100000,)"
     ]
    }
   ],
   "source": [
    "reviews['vec'].shape"
   ]
  },
  {
   "cell_type": "code",
   "execution_count": 58,
   "metadata": {},
   "outputs": [
    {
     "data": {
      "application/vnd.jupyter.widget-view+json": {
       "model_id": "7f7fe371dbbf41288cd532420f126568",
       "version_major": 2,
       "version_minor": 0
      },
      "text/plain": [
       "VBox()"
      ]
     },
     "metadata": {},
     "output_type": "display_data"
    },
    {
     "data": {
      "application/vnd.jupyter.widget-view+json": {
       "model_id": "",
       "version_major": 2,
       "version_minor": 0
      },
      "text/plain": [
       "FloatProgress(value=0.0, bar_style='info', description='Progress:', layout=Layout(height='25px', width='50%'),…"
      ]
     },
     "metadata": {},
     "output_type": "display_data"
    },
    {
     "name": "stdout",
     "output_type": "stream",
     "text": [
      "(100000, 1)"
     ]
    }
   ],
   "source": [
    "X_text = reviews['vec'].to_numpy().reshape(-1,1)\n",
    "X_text.shape"
   ]
  },
  {
   "cell_type": "code",
   "execution_count": 59,
   "metadata": {},
   "outputs": [
    {
     "data": {
      "application/vnd.jupyter.widget-view+json": {
       "model_id": "8cdc1fe660404be4bb472df52fca9962",
       "version_major": 2,
       "version_minor": 0
      },
      "text/plain": [
       "VBox()"
      ]
     },
     "metadata": {},
     "output_type": "display_data"
    },
    {
     "data": {
      "application/vnd.jupyter.widget-view+json": {
       "model_id": "",
       "version_major": 2,
       "version_minor": 0
      },
      "text/plain": [
       "FloatProgress(value=0.0, bar_style='info', description='Progress:', layout=Layout(height='25px', width='50%'),…"
      ]
     },
     "metadata": {},
     "output_type": "display_data"
    },
    {
     "name": "stdout",
     "output_type": "stream",
     "text": [
      "(100000, 300)"
     ]
    }
   ],
   "source": [
    "X_text = np.concatenate(np.concatenate(X_text, axis =0), axis = 0).reshape(-1, 300)\n",
    "X_text.shape"
   ]
  },
  {
   "cell_type": "code",
   "execution_count": 60,
   "metadata": {},
   "outputs": [
    {
     "data": {
      "application/vnd.jupyter.widget-view+json": {
       "model_id": "9c4a4019d1a44bf4aff33ab6fecbac06",
       "version_major": 2,
       "version_minor": 0
      },
      "text/plain": [
       "VBox()"
      ]
     },
     "metadata": {},
     "output_type": "display_data"
    },
    {
     "data": {
      "application/vnd.jupyter.widget-view+json": {
       "model_id": "",
       "version_major": 2,
       "version_minor": 0
      },
      "text/plain": [
       "FloatProgress(value=0.0, bar_style='info', description='Progress:', layout=Layout(height='25px', width='50%'),…"
      ]
     },
     "metadata": {},
     "output_type": "display_data"
    },
    {
     "name": "stdout",
     "output_type": "stream",
     "text": [
      "(100000, 1)"
     ]
    }
   ],
   "source": [
    "ratings = (reviews['REVIEW_RATING']/5).to_numpy().reshape(-1,1)\n",
    "ratings.shape"
   ]
  },
  {
   "cell_type": "code",
   "execution_count": 61,
   "metadata": {},
   "outputs": [
    {
     "data": {
      "application/vnd.jupyter.widget-view+json": {
       "model_id": "d178343cb4384a09a044e8793d0bc325",
       "version_major": 2,
       "version_minor": 0
      },
      "text/plain": [
       "VBox()"
      ]
     },
     "metadata": {},
     "output_type": "display_data"
    },
    {
     "data": {
      "application/vnd.jupyter.widget-view+json": {
       "model_id": "",
       "version_major": 2,
       "version_minor": 0
      },
      "text/plain": [
       "FloatProgress(value=0.0, bar_style='info', description='Progress:', layout=Layout(height='25px', width='50%'),…"
      ]
     },
     "metadata": {},
     "output_type": "display_data"
    },
    {
     "name": "stdout",
     "output_type": "stream",
     "text": [
      "array([[-0.05894032,  0.18462455, -0.15828973, ..., -0.01913641,\n",
      "         0.25470573,  0.8       ],\n",
      "       [-0.0096678 ,  0.19109771, -0.18375407, ...,  0.05515682,\n",
      "         0.12509842,  0.2       ],\n",
      "       [-0.10746013,  0.2989772 , -0.16368522, ...,  0.09712423,\n",
      "         0.05797277,  0.2       ],\n",
      "       ...,\n",
      "       [ 0.01950005,  0.17532666, -0.14099529, ...,  0.11942743,\n",
      "         0.16885583,  1.        ],\n",
      "       [-0.01316363,  0.17977811, -0.16668838, ...,  0.0338438 ,\n",
      "         0.11367346,  1.        ],\n",
      "       [ 0.01683284,  0.16463485, -0.10324879, ...,  0.01004175,\n",
      "         0.10007915,  0.4       ]])"
     ]
    }
   ],
   "source": [
    "X = np.hstack([X_text, ratings])\n",
    "X"
   ]
  },
  {
   "cell_type": "code",
   "execution_count": null,
   "metadata": {},
   "outputs": [],
   "source": []
  },
  {
   "cell_type": "code",
   "execution_count": 62,
   "metadata": {},
   "outputs": [
    {
     "data": {
      "application/vnd.jupyter.widget-view+json": {
       "model_id": "be22a78045874c1495cbd29c1698876a",
       "version_major": 2,
       "version_minor": 0
      },
      "text/plain": [
       "VBox()"
      ]
     },
     "metadata": {},
     "output_type": "display_data"
    },
    {
     "data": {
      "application/vnd.jupyter.widget-view+json": {
       "model_id": "",
       "version_major": 2,
       "version_minor": 0
      },
      "text/plain": [
       "FloatProgress(value=0.0, bar_style='info', description='Progress:', layout=Layout(height='25px', width='50%'),…"
      ]
     },
     "metadata": {},
     "output_type": "display_data"
    },
    {
     "name": "stdout",
     "output_type": "stream",
     "text": [
      "        NR\n",
      "444151  1 \n",
      "407081  1 \n",
      "362330  1 \n",
      "70165   1 \n",
      "226004  1 \n",
      "...    .. \n",
      "381215  1 \n",
      "80315   1 \n",
      "352062  0 \n",
      "246784  1 \n",
      "252510  1 \n",
      "\n",
      "[100000 rows x 1 columns]"
     ]
    }
   ],
   "source": [
    "#y = reviews[['NR','PII','PR','CS','DC','CR','FRD','TST','CC','SC','PIM','LC','WEB','FL','SA','URL','CV','US','NOLABEL']]\n",
    "#y = reviews[['NR','PII','PR','CS','DC','CR','FRD','TST','CC','SC','PIM','LC','WEB','FL','SA','URL','CV','US']]\n",
    "y = reviews[['NR']]\n",
    "y"
   ]
  },
  {
   "cell_type": "code",
   "execution_count": 63,
   "metadata": {},
   "outputs": [
    {
     "data": {
      "application/vnd.jupyter.widget-view+json": {
       "model_id": "a751d1e29f8c4f2a9848f2a96107de42",
       "version_major": 2,
       "version_minor": 0
      },
      "text/plain": [
       "VBox()"
      ]
     },
     "metadata": {},
     "output_type": "display_data"
    },
    {
     "data": {
      "application/vnd.jupyter.widget-view+json": {
       "model_id": "",
       "version_major": 2,
       "version_minor": 0
      },
      "text/plain": [
       "FloatProgress(value=0.0, bar_style='info', description='Progress:', layout=Layout(height='25px', width='50%'),…"
      ]
     },
     "metadata": {},
     "output_type": "display_data"
    },
    {
     "name": "stdout",
     "output_type": "stream",
     "text": [
      "NR    50733\n",
      "dtype: int64"
     ]
    }
   ],
   "source": [
    "y.sum(axis=0)"
   ]
  },
  {
   "cell_type": "code",
   "execution_count": 64,
   "metadata": {},
   "outputs": [
    {
     "data": {
      "application/vnd.jupyter.widget-view+json": {
       "model_id": "20fed53e97c6423ab7a9d67d2007c627",
       "version_major": 2,
       "version_minor": 0
      },
      "text/plain": [
       "VBox()"
      ]
     },
     "metadata": {},
     "output_type": "display_data"
    },
    {
     "data": {
      "application/vnd.jupyter.widget-view+json": {
       "model_id": "",
       "version_major": 2,
       "version_minor": 0
      },
      "text/plain": [
       "FloatProgress(value=0.0, bar_style='info', description='Progress:', layout=Layout(height='25px', width='50%'),…"
      ]
     },
     "metadata": {},
     "output_type": "display_data"
    }
   ],
   "source": [
    "#test_size is what % of data goes to test set vs training\n",
    "#random_state - use so that when comparing models - same data is always going to test and train sets\n",
    "xtrain, xtest, ytrain, ytest = train_test_split(X, y, test_size=0.2, random_state=9, stratify = y)"
   ]
  },
  {
   "cell_type": "code",
   "execution_count": 65,
   "metadata": {},
   "outputs": [
    {
     "data": {
      "application/vnd.jupyter.widget-view+json": {
       "model_id": "1a706d0d7a8b4d109acdd45c1a4577b0",
       "version_major": 2,
       "version_minor": 0
      },
      "text/plain": [
       "VBox()"
      ]
     },
     "metadata": {},
     "output_type": "display_data"
    },
    {
     "data": {
      "application/vnd.jupyter.widget-view+json": {
       "model_id": "",
       "version_major": 2,
       "version_minor": 0
      },
      "text/plain": [
       "FloatProgress(value=0.0, bar_style='info', description='Progress:', layout=Layout(height='25px', width='50%'),…"
      ]
     },
     "metadata": {},
     "output_type": "display_data"
    },
    {
     "name": "stdout",
     "output_type": "stream",
     "text": [
      "[[-0.031269    0.15710847 -0.23862714 ...  0.08680209  0.0975458\n",
      "   0.8       ]\n",
      " [-0.01997307  0.1689449  -0.15493745 ... -0.00644278  0.14507808\n",
      "   1.        ]\n",
      " [-0.04519614  0.16714716 -0.26348019 ...  0.09864762  0.13623945\n",
      "   0.2       ]\n",
      " ...\n",
      " [-0.08618928  0.19401088 -0.20129769 ...  0.03017056  0.18468466\n",
      "   1.        ]\n",
      " [-0.39066499  0.28947851  0.039635   ...  0.43541998  0.37668499\n",
      "   0.8       ]\n",
      " [-0.12352309  0.26982671 -0.11783699 ... -0.04073102  0.10355505\n",
      "   0.8       ]]"
     ]
    }
   ],
   "source": [
    "print(xtrain)"
   ]
  },
  {
   "cell_type": "code",
   "execution_count": 66,
   "metadata": {},
   "outputs": [
    {
     "data": {
      "application/vnd.jupyter.widget-view+json": {
       "model_id": "c6c6e123bf54444a92bc91518ba09d40",
       "version_major": 2,
       "version_minor": 0
      },
      "text/plain": [
       "VBox()"
      ]
     },
     "metadata": {},
     "output_type": "display_data"
    },
    {
     "data": {
      "application/vnd.jupyter.widget-view+json": {
       "model_id": "",
       "version_major": 2,
       "version_minor": 0
      },
      "text/plain": [
       "FloatProgress(value=0.0, bar_style='info', description='Progress:', layout=Layout(height='25px', width='50%'),…"
      ]
     },
     "metadata": {},
     "output_type": "display_data"
    },
    {
     "name": "stdout",
     "output_type": "stream",
     "text": [
      "        NR\n",
      "29962   0 \n",
      "496068  0 \n",
      "485146  0 \n",
      "283615  0 \n",
      "44987   1 \n",
      "...    .. \n",
      "289870  0 \n",
      "33238   1 \n",
      "457239  0 \n",
      "271850  1 \n",
      "11795   0 \n",
      "\n",
      "[80000 rows x 1 columns]"
     ]
    }
   ],
   "source": [
    "print(ytrain)"
   ]
  },
  {
   "cell_type": "code",
   "execution_count": 67,
   "metadata": {},
   "outputs": [
    {
     "data": {
      "application/vnd.jupyter.widget-view+json": {
       "model_id": "87d8834c45364cbfb2f3111f665f3caf",
       "version_major": 2,
       "version_minor": 0
      },
      "text/plain": [
       "VBox()"
      ]
     },
     "metadata": {},
     "output_type": "display_data"
    },
    {
     "data": {
      "application/vnd.jupyter.widget-view+json": {
       "model_id": "",
       "version_major": 2,
       "version_minor": 0
      },
      "text/plain": [
       "FloatProgress(value=0.0, bar_style='info', description='Progress:', layout=Layout(height='25px', width='50%'),…"
      ]
     },
     "metadata": {},
     "output_type": "display_data"
    }
   ],
   "source": [
    "#nlp = spacy.load(\"en_core_web_lg\")\n",
    "#tokens = nlp(\"dog cat banana afskfsd eyebrow lipliner 13\")\n",
    "\n",
    "#for token in tokens:\n",
    "#    print(token.text, token.has_vector, token.vector_norm, token.is_oov, token.vector)"
   ]
  },
  {
   "cell_type": "code",
   "execution_count": 68,
   "metadata": {},
   "outputs": [
    {
     "data": {
      "application/vnd.jupyter.widget-view+json": {
       "model_id": "a6347c8b925f4b9e82b32f78cb9ca75c",
       "version_major": 2,
       "version_minor": 0
      },
      "text/plain": [
       "VBox()"
      ]
     },
     "metadata": {},
     "output_type": "display_data"
    },
    {
     "data": {
      "application/vnd.jupyter.widget-view+json": {
       "model_id": "",
       "version_major": 2,
       "version_minor": 0
      },
      "text/plain": [
       "FloatProgress(value=0.0, bar_style='info', description='Progress:', layout=Layout(height='25px', width='50%'),…"
      ]
     },
     "metadata": {},
     "output_type": "display_data"
    }
   ],
   "source": [
    "#max_iter : default =100 but getting error about not converging\n",
    "lr = LogisticRegression(max_iter=1000, solver = 'lbfgs')\n",
    "clf = OneVsRestClassifier(lr)"
   ]
  },
  {
   "cell_type": "code",
   "execution_count": 69,
   "metadata": {},
   "outputs": [
    {
     "data": {
      "application/vnd.jupyter.widget-view+json": {
       "model_id": "86567a37b2e4454f955132b7cf39c83f",
       "version_major": 2,
       "version_minor": 0
      },
      "text/plain": [
       "VBox()"
      ]
     },
     "metadata": {},
     "output_type": "display_data"
    },
    {
     "data": {
      "application/vnd.jupyter.widget-view+json": {
       "model_id": "",
       "version_major": 2,
       "version_minor": 0
      },
      "text/plain": [
       "FloatProgress(value=0.0, bar_style='info', description='Progress:', layout=Layout(height='25px', width='50%'),…"
      ]
     },
     "metadata": {},
     "output_type": "display_data"
    },
    {
     "name": "stdout",
     "output_type": "stream",
     "text": [
      "OneVsRestClassifier(estimator=LogisticRegression(max_iter=1000))"
     ]
    }
   ],
   "source": [
    "#UserWarning: Label not 17 is present in all training examples.\n",
    "#Due to fact that 'US' does not appear in training set (is all 0s) \n",
    "#RESOLVES AS DATA SIZE INCREASES\n",
    "\n",
    "#Getting max iteration exceeded error\n",
    "#All TF-IDF features are range 0-1, scaled rating to be divided by 5 so that is also range 0-1\n",
    "#Lower max_features for TF-IDF to reduce dimensionality\n",
    "\n",
    "\n",
    "clf.fit(xtrain, ytrain)"
   ]
  },
  {
   "cell_type": "code",
   "execution_count": 70,
   "metadata": {},
   "outputs": [
    {
     "data": {
      "application/vnd.jupyter.widget-view+json": {
       "model_id": "a733308a41e04c1d9dcc187498bc3ddf",
       "version_major": 2,
       "version_minor": 0
      },
      "text/plain": [
       "VBox()"
      ]
     },
     "metadata": {},
     "output_type": "display_data"
    },
    {
     "data": {
      "application/vnd.jupyter.widget-view+json": {
       "model_id": "",
       "version_major": 2,
       "version_minor": 0
      },
      "text/plain": [
       "FloatProgress(value=0.0, bar_style='info', description='Progress:', layout=Layout(height='25px', width='50%'),…"
      ]
     },
     "metadata": {},
     "output_type": "display_data"
    },
    {
     "name": "stdout",
     "output_type": "stream",
     "text": [
      "NR    40586\n",
      "dtype: int64"
     ]
    }
   ],
   "source": [
    "#ytrain.dtypes\n",
    "#NO US LABEL\n",
    "ytrain.sum(axis=0)"
   ]
  },
  {
   "cell_type": "code",
   "execution_count": 71,
   "metadata": {},
   "outputs": [
    {
     "data": {
      "application/vnd.jupyter.widget-view+json": {
       "model_id": "d9338c8c70e345f7a7f14f0e932161ba",
       "version_major": 2,
       "version_minor": 0
      },
      "text/plain": [
       "VBox()"
      ]
     },
     "metadata": {},
     "output_type": "display_data"
    },
    {
     "data": {
      "application/vnd.jupyter.widget-view+json": {
       "model_id": "",
       "version_major": 2,
       "version_minor": 0
      },
      "text/plain": [
       "FloatProgress(value=0.0, bar_style='info', description='Progress:', layout=Layout(height='25px', width='50%'),…"
      ]
     },
     "metadata": {},
     "output_type": "display_data"
    }
   ],
   "source": [
    "y_pred = clf.predict(xtest)"
   ]
  },
  {
   "cell_type": "code",
   "execution_count": null,
   "metadata": {},
   "outputs": [],
   "source": []
  },
  {
   "cell_type": "code",
   "execution_count": 72,
   "metadata": {},
   "outputs": [
    {
     "data": {
      "application/vnd.jupyter.widget-view+json": {
       "model_id": "1c8d1131897941e0aa8a99940bed47d9",
       "version_major": 2,
       "version_minor": 0
      },
      "text/plain": [
       "VBox()"
      ]
     },
     "metadata": {},
     "output_type": "display_data"
    },
    {
     "data": {
      "application/vnd.jupyter.widget-view+json": {
       "model_id": "",
       "version_major": 2,
       "version_minor": 0
      },
      "text/plain": [
       "FloatProgress(value=0.0, bar_style='info', description='Progress:', layout=Layout(height='25px', width='50%'),…"
      ]
     },
     "metadata": {},
     "output_type": "display_data"
    }
   ],
   "source": [
    "plt.clf()"
   ]
  },
  {
   "cell_type": "code",
   "execution_count": 73,
   "metadata": {},
   "outputs": [],
   "source": [
    "%matplotlib inline"
   ]
  },
  {
   "cell_type": "code",
   "execution_count": 74,
   "metadata": {},
   "outputs": [
    {
     "data": {
      "application/vnd.jupyter.widget-view+json": {
       "model_id": "6f9867e982d345bcbebe688abed1a395",
       "version_major": 2,
       "version_minor": 0
      },
      "text/plain": [
       "VBox()"
      ]
     },
     "metadata": {},
     "output_type": "display_data"
    },
    {
     "data": {
      "application/vnd.jupyter.widget-view+json": {
       "model_id": "",
       "version_major": 2,
       "version_minor": 0
      },
      "text/plain": [
       "FloatProgress(value=0.0, bar_style='info', description='Progress:', layout=Layout(height='25px', width='50%'),…"
      ]
     },
     "metadata": {},
     "output_type": "display_data"
    }
   ],
   "source": [
    "#Confusion matrix\n",
    "#confusion_matrix(ytest, y_pred)\n",
    "#tn, fp, fn, tp = confusion_matrix(ytest, y_pred).ravel()\n",
    "#print(\"TN: {}\".format(tn), \"FP: {}\".format(fp), \"FN: {}\".format(fn), \"TP: {}\".format(tp))\n",
    "plot_confusion_matrix(clf, xtest, ytest)\n",
    "plt.show()"
   ]
  },
  {
   "cell_type": "code",
   "execution_count": 75,
   "metadata": {},
   "outputs": [
    {
     "data": {
      "application/vnd.jupyter.widget-view+json": {
       "model_id": "",
       "version_major": 2,
       "version_minor": 0
      },
      "text/plain": [
       "FloatProgress(value=0.0, bar_style='info', description='Progress:', layout=Layout(height='25px', width='50%'),…"
      ]
     },
     "metadata": {},
     "output_type": "display_data"
    },
    {
     "data": {
      "image/png": "[encoded data removed]",
      "text/plain": [
       "<IPython.core.display.Image object>"
      ]
     },
     "metadata": {},
     "output_type": "display_data"
    }
   ],
   "source": [
    "%matplot plt"
   ]
  },
  {
   "cell_type": "code",
   "execution_count": 76,
   "metadata": {},
   "outputs": [
    {
     "data": {
      "application/vnd.jupyter.widget-view+json": {
       "model_id": "026c2e760da94157ae1d45d36730f752",
       "version_major": 2,
       "version_minor": 0
      },
      "text/plain": [
       "VBox()"
      ]
     },
     "metadata": {},
     "output_type": "display_data"
    },
    {
     "data": {
      "application/vnd.jupyter.widget-view+json": {
       "model_id": "",
       "version_major": 2,
       "version_minor": 0
      },
      "text/plain": [
       "FloatProgress(value=0.0, bar_style='info', description='Progress:', layout=Layout(height='25px', width='50%'),…"
      ]
     },
     "metadata": {},
     "output_type": "display_data"
    }
   ],
   "source": [
    "#Evaluating model performance\n",
    "#There are inherently mostly NOLABEL so accuracy could be high just bc of those\n",
    "#Want to make sure that when there is a label besides NOLABEL that it is being accurately predicted\n"
   ]
  },
  {
   "cell_type": "code",
   "execution_count": 77,
   "metadata": {},
   "outputs": [
    {
     "data": {
      "application/vnd.jupyter.widget-view+json": {
       "model_id": "9581134aee9a43c7816b73659cc472fb",
       "version_major": 2,
       "version_minor": 0
      },
      "text/plain": [
       "VBox()"
      ]
     },
     "metadata": {},
     "output_type": "display_data"
    },
    {
     "data": {
      "application/vnd.jupyter.widget-view+json": {
       "model_id": "",
       "version_major": 2,
       "version_minor": 0
      },
      "text/plain": [
       "FloatProgress(value=0.0, bar_style='info', description='Progress:', layout=Layout(height='25px', width='50%'),…"
      ]
     },
     "metadata": {},
     "output_type": "display_data"
    },
    {
     "name": "stdout",
     "output_type": "stream",
     "text": [
      "Accuracy is:  0.8795\n",
      "Precision is:  0.893500152578578\n",
      "Recall is:  0.8656745836207747\n",
      "F1 Score is:  0.8793673040344379"
     ]
    }
   ],
   "source": [
    "#Model performance metrics\n",
    "#Assess at individual label level as well as overall\n",
    "\n",
    "#Accuracy is overall correct predictions - not great measurement tool for imbalanced data\n",
    "#Precision - TP / TP + FP = spam detection - don't want to mark something as spam (FP) when it isn't\n",
    "#Recall - TP / TP + FN = sickness - don't want to tell someone they aren't sick (FN) when they are and can spread it\n",
    "#F1 - balance of precision and recall\n",
    "\n",
    "#We want to make sure if bomb emoji then it gets marked - even at the expense of marking other things potentially offensive that aren't \n",
    "#Important not to have FN - USE RECALL\n",
    "#Also don't want to be marking a bunch of stuff as offensive when it isn't and making moderation do everything anyway\n",
    "#Important not to have too many FP - USE PRECISION\n",
    "#Use F1 for balance between both\n",
    "print(\"Accuracy is:  {}\" .format(accuracy_score(ytest, y_pred)))\n",
    "print(\"Precision is:  {}\" .format(precision_score(ytest, y_pred)))\n",
    "print(\"Recall is:  {}\" .format(recall_score(ytest, y_pred)))\n",
    "print(\"F1 Score is:  {}\" .format(f1_score(ytest, y_pred)))"
   ]
  },
  {
   "cell_type": "code",
   "execution_count": 78,
   "metadata": {},
   "outputs": [
    {
     "data": {
      "application/vnd.jupyter.widget-view+json": {
       "model_id": "b56130a4bf31457ebab2f9a09e45ca8d",
       "version_major": 2,
       "version_minor": 0
      },
      "text/plain": [
       "VBox()"
      ]
     },
     "metadata": {},
     "output_type": "display_data"
    },
    {
     "data": {
      "application/vnd.jupyter.widget-view+json": {
       "model_id": "",
       "version_major": 2,
       "version_minor": 0
      },
      "text/plain": [
       "FloatProgress(value=0.0, bar_style='info', description='Progress:', layout=Layout(height='25px', width='50%'),…"
      ]
     },
     "metadata": {},
     "output_type": "display_data"
    },
    {
     "name": "stdout",
     "output_type": "stream",
     "text": [
      "              precision    recall  f1-score   support\n",
      "\n",
      "           0       0.87      0.89      0.88      9853\n",
      "           1       0.89      0.87      0.88     10147\n",
      "\n",
      "    accuracy                           0.88     20000\n",
      "   macro avg       0.88      0.88      0.88     20000\n",
      "weighted avg       0.88      0.88      0.88     20000"
     ]
    }
   ],
   "source": [
    "print(classification_report(ytest,y_pred))"
   ]
  },
  {
   "cell_type": "code",
   "execution_count": 79,
   "metadata": {},
   "outputs": [
    {
     "data": {
      "application/vnd.jupyter.widget-view+json": {
       "model_id": "120cec098a7f4dcd89a5f3022d2117f1",
       "version_major": 2,
       "version_minor": 0
      },
      "text/plain": [
       "VBox()"
      ]
     },
     "metadata": {},
     "output_type": "display_data"
    },
    {
     "data": {
      "application/vnd.jupyter.widget-view+json": {
       "model_id": "",
       "version_major": 2,
       "version_minor": 0
      },
      "text/plain": [
       "FloatProgress(value=0.0, bar_style='info', description='Progress:', layout=Layout(height='25px', width='50%'),…"
      ]
     },
     "metadata": {},
     "output_type": "display_data"
    },
    {
     "name": "stdout",
     "output_type": "stream",
     "text": [
      "0.9470499230178648"
     ]
    }
   ],
   "source": [
    "probs = clf.predict_proba(xtest)\n",
    "preds = probs[:,1]\n",
    "fpr, tpr, threshold = roc_curve(ytest, preds)\n",
    "roc_auc = auc(fpr, tpr)\n",
    "print(roc_auc)"
   ]
  },
  {
   "cell_type": "code",
   "execution_count": 80,
   "metadata": {},
   "outputs": [
    {
     "data": {
      "application/vnd.jupyter.widget-view+json": {
       "model_id": "61e1cb1319a548439a8062c4b07082a9",
       "version_major": 2,
       "version_minor": 0
      },
      "text/plain": [
       "VBox()"
      ]
     },
     "metadata": {},
     "output_type": "display_data"
    },
    {
     "data": {
      "application/vnd.jupyter.widget-view+json": {
       "model_id": "",
       "version_major": 2,
       "version_minor": 0
      },
      "text/plain": [
       "FloatProgress(value=0.0, bar_style='info', description='Progress:', layout=Layout(height='25px', width='50%'),…"
      ]
     },
     "metadata": {},
     "output_type": "display_data"
    }
   ],
   "source": [
    "plt.clf()"
   ]
  },
  {
   "cell_type": "code",
   "execution_count": 81,
   "metadata": {},
   "outputs": [
    {
     "data": {
      "application/vnd.jupyter.widget-view+json": {
       "model_id": "be0febf31035420bad6c2205cde28be2",
       "version_major": 2,
       "version_minor": 0
      },
      "text/plain": [
       "VBox()"
      ]
     },
     "metadata": {},
     "output_type": "display_data"
    },
    {
     "data": {
      "application/vnd.jupyter.widget-view+json": {
       "model_id": "",
       "version_major": 2,
       "version_minor": 0
      },
      "text/plain": [
       "FloatProgress(value=0.0, bar_style='info', description='Progress:', layout=Layout(height='25px', width='50%'),…"
      ]
     },
     "metadata": {},
     "output_type": "display_data"
    }
   ],
   "source": [
    "#ROC CURVE\n",
    "#Assumes we care about 0 and 1 classification the same - we don't\n",
    "#We care more about performance of 1 classification - use precision recall curve\n",
    "plt.title('Receiver Operating Characteristic')\n",
    "plt.plot(fpr, tpr, 'b', label = 'AUC = %0.4f' % roc_auc)\n",
    "plt.legend(loc = 'lower right')\n",
    "plt.plot([0, 1], [0, 1],'r--')\n",
    "plt.xlim([0, 1])\n",
    "plt.ylim([0, 1])\n",
    "plt.ylabel('True Positive Rate')\n",
    "plt.xlabel('False Positive Rate')\n",
    "plt.show()"
   ]
  },
  {
   "cell_type": "code",
   "execution_count": 82,
   "metadata": {},
   "outputs": [
    {
     "data": {
      "application/vnd.jupyter.widget-view+json": {
       "model_id": "",
       "version_major": 2,
       "version_minor": 0
      },
      "text/plain": [
       "FloatProgress(value=0.0, bar_style='info', description='Progress:', layout=Layout(height='25px', width='50%'),…"
      ]
     },
     "metadata": {},
     "output_type": "display_data"
    },
    {
     "data": {
      "image/png": "[encoded data removed]",
      "text/plain": [
       "<IPython.core.display.Image object>"
      ]
     },
     "metadata": {},
     "output_type": "display_data"
    }
   ],
   "source": [
    "%matplot plt"
   ]
  },
  {
   "cell_type": "code",
   "execution_count": 83,
   "metadata": {},
   "outputs": [
    {
     "data": {
      "application/vnd.jupyter.widget-view+json": {
       "model_id": "3b52ca27f24a46e1bbe4780ce2a68598",
       "version_major": 2,
       "version_minor": 0
      },
      "text/plain": [
       "VBox()"
      ]
     },
     "metadata": {},
     "output_type": "display_data"
    },
    {
     "data": {
      "application/vnd.jupyter.widget-view+json": {
       "model_id": "",
       "version_major": 2,
       "version_minor": 0
      },
      "text/plain": [
       "FloatProgress(value=0.0, bar_style='info', description='Progress:', layout=Layout(height='25px', width='50%'),…"
      ]
     },
     "metadata": {},
     "output_type": "display_data"
    },
    {
     "name": "stdout",
     "output_type": "stream",
     "text": [
      "Optimal threshold value: 0.47939322384028366\n",
      "Optimal tpr value: 0.8721789691534444\n",
      "Optimal fpr value: 0.11164112453059982"
     ]
    }
   ],
   "source": [
    "#Find best threshold (ROC Curve)\n",
    "#Ideally want tpr = 1 and fpr = 0, so want tpr - fpr as close to 1 as possible\n",
    "optimal_idx = np.argmax(tpr - fpr)\n",
    "optimal_threshold = threshold[optimal_idx]\n",
    "opt_tpr = tpr[optimal_idx]\n",
    "opt_fpr = fpr[optimal_idx]\n",
    "print(\"Optimal threshold value:\", optimal_threshold)\n",
    "print(\"Optimal tpr value:\", opt_tpr)\n",
    "print(\"Optimal fpr value:\", opt_fpr)"
   ]
  },
  {
   "cell_type": "code",
   "execution_count": 84,
   "metadata": {},
   "outputs": [
    {
     "data": {
      "application/vnd.jupyter.widget-view+json": {
       "model_id": "dbe0d9e25f1f40b784c7b142cff2cb48",
       "version_major": 2,
       "version_minor": 0
      },
      "text/plain": [
       "VBox()"
      ]
     },
     "metadata": {},
     "output_type": "display_data"
    },
    {
     "data": {
      "application/vnd.jupyter.widget-view+json": {
       "model_id": "",
       "version_major": 2,
       "version_minor": 0
      },
      "text/plain": [
       "FloatProgress(value=0.0, bar_style='info', description='Progress:', layout=Layout(height='25px', width='50%'),…"
      ]
     },
     "metadata": {},
     "output_type": "display_data"
    }
   ],
   "source": [
    "t = optimal_threshold\n",
    "y_pred_new = (preds >= t).astype(int)\n",
    "#y_pred_new"
   ]
  },
  {
   "cell_type": "code",
   "execution_count": 85,
   "metadata": {},
   "outputs": [
    {
     "data": {
      "application/vnd.jupyter.widget-view+json": {
       "model_id": "7332bf72000747d68f4b484c81aad030",
       "version_major": 2,
       "version_minor": 0
      },
      "text/plain": [
       "VBox()"
      ]
     },
     "metadata": {},
     "output_type": "display_data"
    },
    {
     "data": {
      "application/vnd.jupyter.widget-view+json": {
       "model_id": "",
       "version_major": 2,
       "version_minor": 0
      },
      "text/plain": [
       "FloatProgress(value=0.0, bar_style='info', description='Progress:', layout=Layout(height='25px', width='50%'),…"
      ]
     },
     "metadata": {},
     "output_type": "display_data"
    },
    {
     "name": "stdout",
     "output_type": "stream",
     "text": [
      "Accuracy is:  0.88015\n",
      "Precision is:  0.8894472361809045\n",
      "Recall is:  0.8721789691534444\n",
      "F1 Score is:  0.8807284669353636"
     ]
    }
   ],
   "source": [
    "#Scores with best threshold cutoff\n",
    "print(\"Accuracy is:  {}\" .format(accuracy_score(ytest, y_pred_new)))\n",
    "print(\"Precision is:  {}\" .format(precision_score(ytest, y_pred_new)))\n",
    "print(\"Recall is:  {}\" .format(recall_score(ytest, y_pred_new)))\n",
    "print(\"F1 Score is:  {}\" .format(f1_score(ytest, y_pred_new)))"
   ]
  },
  {
   "cell_type": "code",
   "execution_count": 86,
   "metadata": {},
   "outputs": [
    {
     "data": {
      "application/vnd.jupyter.widget-view+json": {
       "model_id": "421acba63b874e0aa93fbfdc517abe2b",
       "version_major": 2,
       "version_minor": 0
      },
      "text/plain": [
       "VBox()"
      ]
     },
     "metadata": {},
     "output_type": "display_data"
    },
    {
     "data": {
      "application/vnd.jupyter.widget-view+json": {
       "model_id": "",
       "version_major": 2,
       "version_minor": 0
      },
      "text/plain": [
       "FloatProgress(value=0.0, bar_style='info', description='Progress:', layout=Layout(height='25px', width='50%'),…"
      ]
     },
     "metadata": {},
     "output_type": "display_data"
    },
    {
     "name": "stdout",
     "output_type": "stream",
     "text": [
      "20000"
     ]
    }
   ],
   "source": [
    "len(y_pred_new)"
   ]
  },
  {
   "cell_type": "code",
   "execution_count": null,
   "metadata": {},
   "outputs": [],
   "source": []
  },
  {
   "cell_type": "code",
   "execution_count": 87,
   "metadata": {},
   "outputs": [
    {
     "data": {
      "application/vnd.jupyter.widget-view+json": {
       "model_id": "68ad1b43a5a24743bcd3bc9ec5b686dc",
       "version_major": 2,
       "version_minor": 0
      },
      "text/plain": [
       "VBox()"
      ]
     },
     "metadata": {},
     "output_type": "display_data"
    },
    {
     "data": {
      "application/vnd.jupyter.widget-view+json": {
       "model_id": "",
       "version_major": 2,
       "version_minor": 0
      },
      "text/plain": [
       "FloatProgress(value=0.0, bar_style='info', description='Progress:', layout=Layout(height='25px', width='50%'),…"
      ]
     },
     "metadata": {},
     "output_type": "display_data"
    }
   ],
   "source": [
    "#PRECISION RECALL CURVE\n",
    "#Better for what we want to assess which is how well label is assigned (i.e. when it gets a 1 instead of a 0)\n",
    "\n",
    "precision, recall, pr_threshold = precision_recall_curve(ytest, preds)\n",
    "auc = auc(recall, precision)"
   ]
  },
  {
   "cell_type": "code",
   "execution_count": 88,
   "metadata": {},
   "outputs": [
    {
     "data": {
      "application/vnd.jupyter.widget-view+json": {
       "model_id": "11f159312e034d9d87baf59e5db2af47",
       "version_major": 2,
       "version_minor": 0
      },
      "text/plain": [
       "VBox()"
      ]
     },
     "metadata": {},
     "output_type": "display_data"
    },
    {
     "data": {
      "application/vnd.jupyter.widget-view+json": {
       "model_id": "",
       "version_major": 2,
       "version_minor": 0
      },
      "text/plain": [
       "FloatProgress(value=0.0, bar_style='info', description='Progress:', layout=Layout(height='25px', width='50%'),…"
      ]
     },
     "metadata": {},
     "output_type": "display_data"
    }
   ],
   "source": [
    "plt.clf()"
   ]
  },
  {
   "cell_type": "code",
   "execution_count": 89,
   "metadata": {},
   "outputs": [
    {
     "data": {
      "application/vnd.jupyter.widget-view+json": {
       "model_id": "65c895eca95d461080cb81d36dea33ea",
       "version_major": 2,
       "version_minor": 0
      },
      "text/plain": [
       "VBox()"
      ]
     },
     "metadata": {},
     "output_type": "display_data"
    },
    {
     "data": {
      "application/vnd.jupyter.widget-view+json": {
       "model_id": "",
       "version_major": 2,
       "version_minor": 0
      },
      "text/plain": [
       "FloatProgress(value=0.0, bar_style='info', description='Progress:', layout=Layout(height='25px', width='50%'),…"
      ]
     },
     "metadata": {},
     "output_type": "display_data"
    }
   ],
   "source": [
    "plt.title('Precision - Recall Curve')\n",
    "plt.plot(recall, precision, 'b', label = 'AUC = %0.4f' % auc)\n",
    "plt.legend(loc = 'lower right')\n",
    "no_skill = len(ytest[ytest['NR']==1]) / len(ytest)\n",
    "plt.plot([0, 1], [no_skill, no_skill], 'r--', label='No Skill')\n",
    "#plt.xlim([0, 1])\n",
    "#plt.ylim([0, 1])\n",
    "plt.ylabel('Precision')\n",
    "plt.xlabel('Recall')\n",
    "plt.show()"
   ]
  },
  {
   "cell_type": "code",
   "execution_count": 90,
   "metadata": {},
   "outputs": [
    {
     "data": {
      "application/vnd.jupyter.widget-view+json": {
       "model_id": "",
       "version_major": 2,
       "version_minor": 0
      },
      "text/plain": [
       "FloatProgress(value=0.0, bar_style='info', description='Progress:', layout=Layout(height='25px', width='50%'),…"
      ]
     },
     "metadata": {},
     "output_type": "display_data"
    },
    {
     "data": {
      "image/png": "[encoded data removed]",
      "text/plain": [
       "<IPython.core.display.Image object>"
      ]
     },
     "metadata": {},
     "output_type": "display_data"
    }
   ],
   "source": [
    "%matplot plt"
   ]
  },
  {
   "cell_type": "code",
   "execution_count": 91,
   "metadata": {},
   "outputs": [
    {
     "data": {
      "application/vnd.jupyter.widget-view+json": {
       "model_id": "bbcee5be7022477d8d9a75918428cf4c",
       "version_major": 2,
       "version_minor": 0
      },
      "text/plain": [
       "VBox()"
      ]
     },
     "metadata": {},
     "output_type": "display_data"
    },
    {
     "data": {
      "application/vnd.jupyter.widget-view+json": {
       "model_id": "",
       "version_major": 2,
       "version_minor": 0
      },
      "text/plain": [
       "FloatProgress(value=0.0, bar_style='info', description='Progress:', layout=Layout(height='25px', width='50%'),…"
      ]
     },
     "metadata": {},
     "output_type": "display_data"
    },
    {
     "name": "stdout",
     "output_type": "stream",
     "text": [
      "Best Threshold=0.388431, F-Score=0.884\n",
      "Recall=0.902730\n",
      "Precision=0.866276"
     ]
    }
   ],
   "source": [
    "#Best F1 score optimizes precision recall trade off\n",
    "\n",
    "fscore = (2 * precision * recall) / (precision + recall)\n",
    "ix = argmax(fscore)\n",
    "print('Best Threshold=%f, F-Score=%.3f' % (pr_threshold[ix], fscore[ix]))\n",
    "\n",
    "print('Recall=%f' % recall[ix])\n",
    "print('Precision=%f' % precision[ix])"
   ]
  },
  {
   "cell_type": "code",
   "execution_count": 92,
   "metadata": {},
   "outputs": [
    {
     "data": {
      "application/vnd.jupyter.widget-view+json": {
       "model_id": "ff6e9d5460bf4a84abee4ab31ccd2482",
       "version_major": 2,
       "version_minor": 0
      },
      "text/plain": [
       "VBox()"
      ]
     },
     "metadata": {},
     "output_type": "display_data"
    },
    {
     "data": {
      "application/vnd.jupyter.widget-view+json": {
       "model_id": "",
       "version_major": 2,
       "version_minor": 0
      },
      "text/plain": [
       "FloatProgress(value=0.0, bar_style='info', description='Progress:', layout=Layout(height='25px', width='50%'),…"
      ]
     },
     "metadata": {},
     "output_type": "display_data"
    }
   ],
   "source": [
    "plt.clf()"
   ]
  },
  {
   "cell_type": "code",
   "execution_count": 93,
   "metadata": {},
   "outputs": [
    {
     "data": {
      "application/vnd.jupyter.widget-view+json": {
       "model_id": "16d4d8b77fe54397aacb4e2dd7c57f18",
       "version_major": 2,
       "version_minor": 0
      },
      "text/plain": [
       "VBox()"
      ]
     },
     "metadata": {},
     "output_type": "display_data"
    },
    {
     "data": {
      "application/vnd.jupyter.widget-view+json": {
       "model_id": "",
       "version_major": 2,
       "version_minor": 0
      },
      "text/plain": [
       "FloatProgress(value=0.0, bar_style='info', description='Progress:', layout=Layout(height='25px', width='50%'),…"
      ]
     },
     "metadata": {},
     "output_type": "display_data"
    }
   ],
   "source": [
    "plt.hist(preds, bins=10)\n",
    "plt.show()"
   ]
  },
  {
   "cell_type": "code",
   "execution_count": 94,
   "metadata": {},
   "outputs": [
    {
     "data": {
      "application/vnd.jupyter.widget-view+json": {
       "model_id": "",
       "version_major": 2,
       "version_minor": 0
      },
      "text/plain": [
       "FloatProgress(value=0.0, bar_style='info', description='Progress:', layout=Layout(height='25px', width='50%'),…"
      ]
     },
     "metadata": {},
     "output_type": "display_data"
    },
    {
     "data": {
      "image/png": "[encoded data removed]",
      "text/plain": [
       "<IPython.core.display.Image object>"
      ]
     },
     "metadata": {},
     "output_type": "display_data"
    }
   ],
   "source": [
    "%matplot plt"
   ]
  },
  {
   "cell_type": "code",
   "execution_count": 95,
   "metadata": {},
   "outputs": [
    {
     "data": {
      "application/vnd.jupyter.widget-view+json": {
       "model_id": "032b50a571624a3f87deaca47b42d47d",
       "version_major": 2,
       "version_minor": 0
      },
      "text/plain": [
       "VBox()"
      ]
     },
     "metadata": {},
     "output_type": "display_data"
    },
    {
     "data": {
      "application/vnd.jupyter.widget-view+json": {
       "model_id": "",
       "version_major": 2,
       "version_minor": 0
      },
      "text/plain": [
       "FloatProgress(value=0.0, bar_style='info', description='Progress:', layout=Layout(height='25px', width='50%'),…"
      ]
     },
     "metadata": {},
     "output_type": "display_data"
    }
   ],
   "source": [
    "#LOGISTIC REGRESSION\n",
    "\n",
    "#Single tokens\n",
    "#data set = 500,000\n",
    "#max_features = 30000\n",
    "#Best Threshold=0.209417, F-Score=0.498\n",
    "#Recall 0.49516908212560384\n",
    "#Precision 0.5012224938875306\n",
    "\n",
    "\n",
    "#Single tokens\n",
    "#data set = 500,000\n",
    "#max_features = 50000\n",
    "#Best Threshold=0.200349, F-Score=0.499\n",
    "#Recall=0.504227\n",
    "#Precision=0.494083\n",
    "\n",
    "#Single tokens\n",
    "#data set = 5,000,000\n",
    "#max_features = 50000\n",
    "#Best Threshold=0.200349, F-Score=0.499\n",
    "#Recall=0.504227\n",
    "#Precision=0.494083\n",
    "\n",
    "#2 n-grams\n",
    "#data set = 5,000,000\n",
    "#max_features = 50000\n",
    "#Best Threshold=0.221356, F-Score=0.484\n",
    "#Recall=0.471806\n",
    "#Precision=0.495870\n",
    "\n",
    "#3 n-grams\n",
    "#data set = 5,000,000\n",
    "#max_features = 50000 or 30000\n",
    "#BOTH MAX FEATURE SIZES GIVE MEMORY ERROR\n",
    "\n",
    "#Word embeddings\n",
    "#data set = 500,000\n",
    "#Best Threshold=0.228202, F-Score=0.471\n",
    "#Recall=0.454545\n",
    "#Precision=0.488506"
   ]
  },
  {
   "cell_type": "code",
   "execution_count": null,
   "metadata": {},
   "outputs": [],
   "source": []
  },
  {
   "cell_type": "code",
   "execution_count": null,
   "metadata": {},
   "outputs": [],
   "source": []
  },
  {
   "cell_type": "code",
   "execution_count": null,
   "metadata": {},
   "outputs": [],
   "source": []
  }
 ],
 "metadata": {
  "kernelspec": {
   "display_name": "PySpark",
   "language": "",
   "name": "pysparkkernel"
  },
  "language_info": {
   "codemirror_mode": {
    "name": "python",
    "version": 2
   },
   "mimetype": "text/x-python",
   "name": "pyspark",
   "pygments_lexer": "python2"
  }
 },
 "nbformat": 4,
 "nbformat_minor": 4
}
