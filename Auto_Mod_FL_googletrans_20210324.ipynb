{
 "cells": [
  {
   "cell_type": "code",
   "execution_count": 1,
   "metadata": {},
   "outputs": [
    {
     "data": {
      "application/vnd.jupyter.widget-view+json": {
       "model_id": "975c41433bb0483eb1d7f0234bca72cf",
       "version_major": 2,
       "version_minor": 0
      },
      "text/plain": [
       "VBox()"
      ]
     },
     "metadata": {},
     "output_type": "display_data"
    },
    {
     "name": "stdout",
     "output_type": "stream",
     "text": [
      "Starting Spark application\n"
     ]
    },
    {
     "data": {
      "text/html": [
       "<table>\n",
       "<tr><th>ID</th><th>YARN Application ID</th><th>Kind</th><th>State</th><th>Spark UI</th><th>Driver log</th><th>Current session?</th></tr><tr><td>0</td><td>application_1616676767755_0001</td><td>pyspark</td><td>idle</td><td><a target=\"_blank\" href=\"http://ip-10-101-215-169.us-west-2.compute.internal:20888/proxy/application_1616676767755_0001/\">Link</a></td><td><a target=\"_blank\" href=\"http://ip-10-101-215-169.us-west-2.compute.internal:8042/node/containerlogs/container_1616676767755_0001_01_000001/livy\">Link</a></td><td>✔</td></tr></table>"
      ],
      "text/plain": [
       "<IPython.core.display.HTML object>"
      ]
     },
     "metadata": {},
     "output_type": "display_data"
    },
    {
     "data": {
      "application/vnd.jupyter.widget-view+json": {
       "model_id": "",
       "version_major": 2,
       "version_minor": 0
      },
      "text/plain": [
       "FloatProgress(value=0.0, bar_style='info', description='Progress:', layout=Layout(height='25px', width='50%'),…"
      ]
     },
     "metadata": {},
     "output_type": "display_data"
    },
    {
     "name": "stdout",
     "output_type": "stream",
     "text": [
      "SparkSession available as 'spark'.\n"
     ]
    },
    {
     "data": {
      "application/vnd.jupyter.widget-view+json": {
       "model_id": "",
       "version_major": 2,
       "version_minor": 0
      },
      "text/plain": [
       "FloatProgress(value=0.0, bar_style='info', description='Progress:', layout=Layout(height='25px', width='50%'),…"
      ]
     },
     "metadata": {},
     "output_type": "display_data"
    }
   ],
   "source": [
    "#Import packages\n",
    "import boto3\n",
    "import json\n",
    "import numpy as np\n",
    "from numpy import argmax\n",
    "import pyspark.sql.functions as F\n",
    "import snowflake.connector\n",
    "import pandas as pd\n",
    "import spacy\n",
    "import matplotlib.pyplot as plt\n",
    "from vaderSentiment.vaderSentiment import SentimentIntensityAnalyzer\n",
    "from urllib.parse import urlparse\n",
    "from langdetect import detect\n",
    "from textblob import TextBlob\n",
    "#RegEx\n",
    "import regex as re"
   ]
  },
  {
   "cell_type": "code",
   "execution_count": 56,
   "metadata": {},
   "outputs": [
    {
     "data": {
      "application/vnd.jupyter.widget-view+json": {
       "model_id": "0e318659bc874c59bab82f9d17963795",
       "version_major": 2,
       "version_minor": 0
      },
      "text/plain": [
       "VBox()"
      ]
     },
     "metadata": {},
     "output_type": "display_data"
    },
    {
     "data": {
      "application/vnd.jupyter.widget-view+json": {
       "model_id": "",
       "version_major": 2,
       "version_minor": 0
      },
      "text/plain": [
       "FloatProgress(value=0.0, bar_style='info', description='Progress:', layout=Layout(height='25px', width='50%'),…"
      ]
     },
     "metadata": {},
     "output_type": "display_data"
    }
   ],
   "source": [
    "sm_client = boto3.client('secretsmanager',region_name='us-west-2')\n",
    "secret_value = sm_client.get_secret_value(SecretId = 'emr_spark_qa')\n",
    "username = json.loads(secret_value['SecretString'])['emr_spark_username']\n",
    "password = json.loads(secret_value['SecretString'])['emr_spark_password']\n",
    "#print(username)\n",
    "#print(password)"
   ]
  },
  {
   "cell_type": "code",
   "execution_count": 57,
   "metadata": {},
   "outputs": [
    {
     "data": {
      "application/vnd.jupyter.widget-view+json": {
       "model_id": "1548d06137e04d2488b64f97ad62743b",
       "version_major": 2,
       "version_minor": 0
      },
      "text/plain": [
       "VBox()"
      ]
     },
     "metadata": {},
     "output_type": "display_data"
    },
    {
     "data": {
      "application/vnd.jupyter.widget-view+json": {
       "model_id": "",
       "version_major": 2,
       "version_minor": 0
      },
      "text/plain": [
       "FloatProgress(value=0.0, bar_style='info', description='Progress:', layout=Layout(height='25px', width='50%'),…"
      ]
     },
     "metadata": {},
     "output_type": "display_data"
    }
   ],
   "source": [
    "#PYTHON connection info\n",
    "conn = snowflake.connector.connect(\n",
    "    account='powerreviews',\n",
    "    database='analytics_prod',\n",
    "    warehouse='LOWER_ENV_WAREHOUSE',\n",
    "    user=username,\n",
    "    password=password\n",
    "    )\n"
   ]
  },
  {
   "cell_type": "code",
   "execution_count": 107,
   "metadata": {},
   "outputs": [
    {
     "data": {
      "application/vnd.jupyter.widget-view+json": {
       "model_id": "6cc72764f3ed4334a01ad2be6846838f",
       "version_major": 2,
       "version_minor": 0
      },
      "text/plain": [
       "VBox()"
      ]
     },
     "metadata": {},
     "output_type": "display_data"
    },
    {
     "data": {
      "application/vnd.jupyter.widget-view+json": {
       "model_id": "",
       "version_major": 2,
       "version_minor": 0
      },
      "text/plain": [
       "FloatProgress(value=0.0, bar_style='info', description='Progress:', layout=Layout(height='25px', width='50%'),…"
      ]
     },
     "metadata": {},
     "output_type": "display_data"
    }
   ],
   "source": [
    "#Query some reviews\n",
    "query_1 = \"select distinct r.ugc_id, r.review_headline, r.review_comments, substr(r.locale,1,2) as lang, r.review_length, \\\n",
    "case when contains(r.observations, 'FL')  then 1 else 0 end as FL \\\n",
    "from analytics.review as r \\\n",
    "join analytics.merchant_group as mg \\\n",
    "on r.client_id = mg.client_id \\\n",
    "where contains(r.observations, 'PM') \\\n",
    "and not contains(r.observations, 'IA') and not contains(r.observations, 'IR') \\\n",
    "and mg.usage_type != 'Test' \\\n",
    "and r.created_date > '2020-10-01 11:00' \\\n",
    "and r.created_date < '2021-01-01 11:00' \\\n",
    "and review_length < 20 \\\n",
    "and contains(r.observations, 'FL') \\\n",
    "\"\n",
    "\n",
    "#193267606, 324912854\n",
    "#and r.created_date > '2020-01-01' \\"
   ]
  },
  {
   "cell_type": "code",
   "execution_count": 108,
   "metadata": {},
   "outputs": [
    {
     "data": {
      "application/vnd.jupyter.widget-view+json": {
       "model_id": "f4bb080ebb8541d1977e3996eb7a919b",
       "version_major": 2,
       "version_minor": 0
      },
      "text/plain": [
       "VBox()"
      ]
     },
     "metadata": {},
     "output_type": "display_data"
    },
    {
     "data": {
      "application/vnd.jupyter.widget-view+json": {
       "model_id": "",
       "version_major": 2,
       "version_minor": 0
      },
      "text/plain": [
       "FloatProgress(value=0.0, bar_style='info', description='Progress:', layout=Layout(height='25px', width='50%'),…"
      ]
     },
     "metadata": {},
     "output_type": "display_data"
    },
    {
     "name": "stdout",
     "output_type": "stream",
     "text": [
      "<class 'pandas.core.frame.DataFrame'>\n",
      "RangeIndex: 1314 entries, 0 to 1313\n",
      "Data columns (total 6 columns):\n",
      " #   Column           Non-Null Count  Dtype \n",
      "---  ------           --------------  ----- \n",
      " 0   UGC_ID           1314 non-null   int64 \n",
      " 1   REVIEW_HEADLINE  1314 non-null   object\n",
      " 2   REVIEW_COMMENTS  1314 non-null   object\n",
      " 3   LANG             1314 non-null   object\n",
      " 4   REVIEW_LENGTH    1314 non-null   int64 \n",
      " 5   FL               1314 non-null   int64 \n",
      "dtypes: int64(3), object(3)\n",
      "memory usage: 61.7+ KB"
     ]
    }
   ],
   "source": [
    "reviews = pd.read_sql(query_1, conn)\n",
    "reviews.head()\n",
    "reviews.info()\n"
   ]
  },
  {
   "cell_type": "code",
   "execution_count": 109,
   "metadata": {},
   "outputs": [
    {
     "data": {
      "application/vnd.jupyter.widget-view+json": {
       "model_id": "18198a72c3cd41ec98e14274c20782f8",
       "version_major": 2,
       "version_minor": 0
      },
      "text/plain": [
       "VBox()"
      ]
     },
     "metadata": {},
     "output_type": "display_data"
    },
    {
     "data": {
      "application/vnd.jupyter.widget-view+json": {
       "model_id": "",
       "version_major": 2,
       "version_minor": 0
      },
      "text/plain": [
       "FloatProgress(value=0.0, bar_style='info', description='Progress:', layout=Layout(height='25px', width='50%'),…"
      ]
     },
     "metadata": {},
     "output_type": "display_data"
    }
   ],
   "source": [
    "#Need to add \"word\" in front bc otherwise reviews with just emojis, symbols, #s, etc will not work in langdetect package\n",
    "#Throws this error if no words: \"langdetect.lang_detect_exception.LangDetectException: No features in text.\"\n",
    "reviews['ALL_TEXT'] = reviews['REVIEW_HEADLINE'] + ' ' + reviews['REVIEW_COMMENTS']"
   ]
  },
  {
   "cell_type": "code",
   "execution_count": 110,
   "metadata": {},
   "outputs": [
    {
     "data": {
      "application/vnd.jupyter.widget-view+json": {
       "model_id": "57e789e27c8747d0ac7b226c399cdfbf",
       "version_major": 2,
       "version_minor": 0
      },
      "text/plain": [
       "VBox()"
      ]
     },
     "metadata": {},
     "output_type": "display_data"
    },
    {
     "data": {
      "application/vnd.jupyter.widget-view+json": {
       "model_id": "",
       "version_major": 2,
       "version_minor": 0
      },
      "text/plain": [
       "FloatProgress(value=0.0, bar_style='info', description='Progress:', layout=Layout(height='25px', width='50%'),…"
      ]
     },
     "metadata": {},
     "output_type": "display_data"
    }
   ],
   "source": [
    "from google_trans_new import google_translator  \n",
    "  \n",
    "#detector = google_translator()  \n",
    "#detect_result = detector.detect('this is excellent')\n",
    "#print(detect_result[0])"
   ]
  },
  {
   "cell_type": "code",
   "execution_count": 111,
   "metadata": {},
   "outputs": [
    {
     "data": {
      "application/vnd.jupyter.widget-view+json": {
       "model_id": "2b07156abae24d468a7a2a988fd4a346",
       "version_major": 2,
       "version_minor": 0
      },
      "text/plain": [
       "VBox()"
      ]
     },
     "metadata": {},
     "output_type": "display_data"
    },
    {
     "data": {
      "application/vnd.jupyter.widget-view+json": {
       "model_id": "",
       "version_major": 2,
       "version_minor": 0
      },
      "text/plain": [
       "FloatProgress(value=0.0, bar_style='info', description='Progress:', layout=Layout(height='25px', width='50%'),…"
      ]
     },
     "metadata": {},
     "output_type": "display_data"
    }
   ],
   "source": [
    "#import time\n",
    "\n",
    "#print (time.ctime())\n",
    "#print (time.ctime())"
   ]
  },
  {
   "cell_type": "code",
   "execution_count": 4,
   "metadata": {},
   "outputs": [
    {
     "data": {
      "application/vnd.jupyter.widget-view+json": {
       "model_id": "0efb53e29590483d8b3d0c800fc69813",
       "version_major": 2,
       "version_minor": 0
      },
      "text/plain": [
       "VBox()"
      ]
     },
     "metadata": {},
     "output_type": "display_data"
    },
    {
     "data": {
      "application/vnd.jupyter.widget-view+json": {
       "model_id": "",
       "version_major": 2,
       "version_minor": 0
      },
      "text/plain": [
       "FloatProgress(value=0.0, bar_style='info', description='Progress:', layout=Layout(height='25px', width='50%'),…"
      ]
     },
     "metadata": {},
     "output_type": "display_data"
    },
    {
     "name": "stderr",
     "output_type": "stream",
     "text": [
      "'google_translator' object has no attribute 'translator'\n",
      "Traceback (most recent call last):\n",
      "AttributeError: 'google_translator' object has no attribute 'translator'\n",
      "\n"
     ]
    }
   ],
   "source": [
    "from google_trans_new import google_translator  \n",
    "  \n",
    "detector = google_translator()  \n",
    "detect_result = detector.detect('this is excellent')\n",
    "print(detect_result)"
   ]
  },
  {
   "cell_type": "code",
   "execution_count": 5,
   "metadata": {},
   "outputs": [
    {
     "data": {
      "application/vnd.jupyter.widget-view+json": {
       "model_id": "7f578ec2797c4f21bc55acef968b6f01",
       "version_major": 2,
       "version_minor": 0
      },
      "text/plain": [
       "VBox()"
      ]
     },
     "metadata": {},
     "output_type": "display_data"
    },
    {
     "data": {
      "application/vnd.jupyter.widget-view+json": {
       "model_id": "",
       "version_major": 2,
       "version_minor": 0
      },
      "text/plain": [
       "FloatProgress(value=0.0, bar_style='info', description='Progress:', layout=Layout(height='25px', width='50%'),…"
      ]
     },
     "metadata": {},
     "output_type": "display_data"
    },
    {
     "name": "stderr",
     "output_type": "stream",
     "text": [
      "'NoneType' object has no attribute 'group'\n",
      "Traceback (most recent call last):\n",
      "  File \"/usr/local/lib/python3.7/site-packages/googletrans/client.py\", line 251, in detect\n",
      "    lang = self.detect(item)\n",
      "  File \"/usr/local/lib/python3.7/site-packages/googletrans/client.py\", line 255, in detect\n",
      "    data = self._translate(text, 'en', 'auto', kwargs)\n",
      "  File \"/usr/local/lib/python3.7/site-packages/googletrans/client.py\", line 78, in _translate\n",
      "    token = self.token_acquirer.do(text)\n",
      "  File \"/usr/local/lib/python3.7/site-packages/googletrans/gtoken.py\", line 194, in do\n",
      "    self._update()\n",
      "  File \"/usr/local/lib/python3.7/site-packages/googletrans/gtoken.py\", line 62, in _update\n",
      "    code = self.RE_TKK.search(r.text).group(1).replace('var ', '')\n",
      "AttributeError: 'NoneType' object has no attribute 'group'\n",
      "\n"
     ]
    }
   ],
   "source": [
    "from googletrans import Translator\n",
    "translator = Translator()\n",
    "langs = translator.detect(['한국어', '日本語', 'English', 'le français'])\n",
    "for lang in langs:\n",
    "    print(lang.lang, lang.confidence)"
   ]
  },
  {
   "cell_type": "code",
   "execution_count": 112,
   "metadata": {},
   "outputs": [
    {
     "data": {
      "application/vnd.jupyter.widget-view+json": {
       "model_id": "f0f217db559b4c0184c6815e80d50ff2",
       "version_major": 2,
       "version_minor": 0
      },
      "text/plain": [
       "VBox()"
      ]
     },
     "metadata": {},
     "output_type": "display_data"
    },
    {
     "data": {
      "application/vnd.jupyter.widget-view+json": {
       "model_id": "",
       "version_major": 2,
       "version_minor": 0
      },
      "text/plain": [
       "FloatProgress(value=0.0, bar_style='info', description='Progress:', layout=Layout(height='25px', width='50%'),…"
      ]
     },
     "metadata": {},
     "output_type": "display_data"
    },
    {
     "name": "stderr",
     "output_type": "stream",
     "text": [
      "429 (Too Many Requests) from TTS API. Probable cause: Unknown\n",
      "Traceback (most recent call last):\n",
      "  File \"/usr/local/lib64/python3.7/site-packages/pandas/core/series.py\", line 4138, in apply\n",
      "    mapped = lib.map_infer(values, f, convert=convert_dtype)\n",
      "  File \"pandas/_libs/lib.pyx\", line 2467, in pandas._libs.lib.map_infer\n",
      "  File \"<stdin>\", line 3, in <lambda>\n",
      "  File \"/usr/local/lib/python3.7/site-packages/google_trans_new/google_trans_new.py\", line 247, in detect\n",
      "    raise google_new_transError(tts=self, response=r)\n",
      "google_trans_new.google_trans_new.google_new_transError: 429 (Too Many Requests) from TTS API. Probable cause: Unknown\n",
      "\n"
     ]
    }
   ],
   "source": [
    "\n",
    "reviews['ALL_TEXT']=reviews['ALL_TEXT'].apply(str)\n",
    "reviews['PRED_LANG'] = reviews['ALL_TEXT'].apply(lambda x: google_translator().detect(x)[0])"
   ]
  },
  {
   "cell_type": "code",
   "execution_count": 113,
   "metadata": {},
   "outputs": [
    {
     "data": {
      "application/vnd.jupyter.widget-view+json": {
       "model_id": "12d92cdbfb234cb6b5115d9316bc8104",
       "version_major": 2,
       "version_minor": 0
      },
      "text/plain": [
       "VBox()"
      ]
     },
     "metadata": {},
     "output_type": "display_data"
    },
    {
     "data": {
      "application/vnd.jupyter.widget-view+json": {
       "model_id": "",
       "version_major": 2,
       "version_minor": 0
      },
      "text/plain": [
       "FloatProgress(value=0.0, bar_style='info', description='Progress:', layout=Layout(height='25px', width='50%'),…"
      ]
     },
     "metadata": {},
     "output_type": "display_data"
    },
    {
     "name": "stdout",
     "output_type": "stream",
     "text": [
      "       UGC_ID               REVIEW_HEADLINE      REVIEW_COMMENTS LANG  \\\n",
      "0   304789521  Producto de compra inmediata  Great product        en    \n",
      "1   308926004  Si lo compraría de nuevo.     Muy fasil de usar.   en    \n",
      "2   319828692  Muy bueno                     Muy buenos zapatos   en    \n",
      "3   315254774  ممتاز                         ممتاز جدا            en    \n",
      "4   318095277  Buenisimo                     Esta bien            en    \n",
      "5   321515119  Lo volveria a comprar         Muy bueno            en    \n",
      "6   308797051  Si                            El mejor             en    \n",
      "7   308796996  Si                            Barato               en    \n",
      "8   307387212  que se repita                 que se repita        en    \n",
      "9   319285149  También                       Esta bien            en    \n",
      "10  314432978  Seguro que sí                 Buena marca          en    \n",
      "11  320946284  EXCELENTE                     ENSALADAS Y CREMAS   en    \n",
      "12  308752702  Muy recomendable              Son muy bonitas      en    \n",
      "13  321393151  Very good                     Muy cómodos          en    \n",
      "14  304619160  Yes                           Me fascina           en    \n",
      "15  322094780  Si                            🙌🏻                   en    \n",
      "16  322094605  Si                            👍🏼👍🏼👍🏼               en    \n",
      "17  305547225  Di                            Muy buenos           en    \n",
      "18  306489772  yes                           Hermosa              en    \n",
      "19  307956966  Lo compraría nuevamente       Muy bueno            en    \n",
      "20  314069393  Encantada                     Me encanto           en    \n",
      "21  301794378  Bueno producto                Muy buen accesorio   en    \n",
      "22  314448235  Yes                           Bellos... y cómodos  en    \n",
      "23  311252647  Sii                           Excelente            en    \n",
      "24  320531206  Si                            Buen producto        en    \n",
      "\n",
      "    REVIEW_LENGTH  FL                                      ALL_TEXT  \n",
      "0   13             1   Producto de compra inmediata Great product    \n",
      "1   18             1   Si lo compraría de nuevo. Muy fasil de usar.  \n",
      "2   18             1   Muy bueno Muy buenos zapatos                  \n",
      "3   9              1   ممتاز ممتاز جدا                               \n",
      "4   9              1   Buenisimo Esta bien                           \n",
      "5   9              1   Lo volveria a comprar Muy bueno               \n",
      "6   8              1   Si El mejor                                   \n",
      "7   6              1   Si Barato                                     \n",
      "8   13             1   que se repita que se repita                   \n",
      "9   9              1   También Esta bien                             \n",
      "10  11             1   Seguro que sí Buena marca                     \n",
      "11  18             1   EXCELENTE ENSALADAS Y CREMAS                  \n",
      "12  15             1   Muy recomendable Son muy bonitas              \n",
      "13  11             1   Very good Muy cómodos                         \n",
      "14  10             1   Yes Me fascina                                \n",
      "15  2              1   Si 🙌🏻                                         \n",
      "16  6              1   Si 👍🏼👍🏼👍🏼                                     \n",
      "17  10             1   Di Muy buenos                                 \n",
      "18  7              1   yes Hermosa                                   \n",
      "19  9              1   Lo compraría nuevamente Muy bueno             \n",
      "20  10             1   Encantada Me encanto                          \n",
      "21  18             1   Bueno producto Muy buen accesorio             \n",
      "22  19             1   Yes Bellos... y cómodos                       \n",
      "23  9              1   Sii Excelente                                 \n",
      "24  13             1   Si Buen producto                              \n",
      "<string>:1: FutureWarning: Passing a negative integer is deprecated in version 1.0 and will not be supported in future version. Instead, use None to not limit the column width."
     ]
    }
   ],
   "source": [
    "pd.set_option('display.max_colwidth', -1)\n",
    "pd.set_option('display.max_columns', None)\n",
    "pd.set_option('display.max_rows', None)\n",
    "\n",
    "reviews.head(25)"
   ]
  },
  {
   "cell_type": "code",
   "execution_count": null,
   "metadata": {},
   "outputs": [],
   "source": []
  },
  {
   "cell_type": "code",
   "execution_count": 114,
   "metadata": {},
   "outputs": [
    {
     "data": {
      "application/vnd.jupyter.widget-view+json": {
       "model_id": "9ca1b9f7dc194e1fa6b2eaa64248635a",
       "version_major": 2,
       "version_minor": 0
      },
      "text/plain": [
       "VBox()"
      ]
     },
     "metadata": {},
     "output_type": "display_data"
    },
    {
     "data": {
      "application/vnd.jupyter.widget-view+json": {
       "model_id": "",
       "version_major": 2,
       "version_minor": 0
      },
      "text/plain": [
       "FloatProgress(value=0.0, bar_style='info', description='Progress:', layout=Layout(height='25px', width='50%'),…"
      ]
     },
     "metadata": {},
     "output_type": "display_data"
    },
    {
     "name": "stderr",
     "output_type": "stream",
     "text": [
      "'PRED_LANG'\n",
      "Traceback (most recent call last):\n",
      "  File \"/usr/local/lib64/python3.7/site-packages/pandas/core/frame.py\", line 3024, in __getitem__\n",
      "    indexer = self.columns.get_loc(key)\n",
      "  File \"/usr/local/lib64/python3.7/site-packages/pandas/core/indexes/base.py\", line 3082, in get_loc\n",
      "    raise KeyError(key) from err\n",
      "KeyError: 'PRED_LANG'\n",
      "\n"
     ]
    }
   ],
   "source": [
    "reviews['model_FL'] = 0\n",
    "\n",
    "reviews.loc[reviews['LANG'] != reviews['PRED_LANG'] , 'model_FL'] = 1\n",
    "\n",
    "#Our setup may have accidentally used \"jp\" as well as \"ja\" for Japenese\n",
    "#\"ja\" is official code but mark \"jp\" as ok too\n",
    "reviews.loc[ (reviews['LANG']=='jp') & (reviews['PRED_LANG']=='ja') , 'model_FL'] = 0\n",
    "\n",
    "#'ca' is catalan which is close to spanish\n",
    "reviews.loc[ (reviews['LANG']=='es') & (reviews['PRED_LANG']=='ca') , 'model_FL'] = 0\n",
    "\n",
    "reviews.loc[ (reviews['LANG']=='zh') & (reviews['PRED_LANG']=='zh-CN') , 'model_FL'] = 0\n",
    "\n",
    "#reviews.loc[reviews['REVIEW_LENGTH'] < 40 , 'model_FL'] = 0\n",
    "\n",
    "#reviews.loc[ (reviews['LANG']=='en') & ((reviews['firstword_eng']==True) | (reviews['secondword_eng']==True)) , 'model_FL'] = 0\n",
    "\n",
    "#reviews.loc[reviews['PRED_LANG'] == 'UNKNOWN' , 'model_FL'] = 0\n",
    "\n",
    "#reviews.loc[reviews['PRED_LANG'] == 'af' , 'model_FL'] = 0"
   ]
  },
  {
   "cell_type": "code",
   "execution_count": 115,
   "metadata": {},
   "outputs": [
    {
     "data": {
      "application/vnd.jupyter.widget-view+json": {
       "model_id": "12e62a99998d466a9b36b8a639fbf355",
       "version_major": 2,
       "version_minor": 0
      },
      "text/plain": [
       "VBox()"
      ]
     },
     "metadata": {},
     "output_type": "display_data"
    },
    {
     "data": {
      "application/vnd.jupyter.widget-view+json": {
       "model_id": "",
       "version_major": 2,
       "version_minor": 0
      },
      "text/plain": [
       "FloatProgress(value=0.0, bar_style='info', description='Progress:', layout=Layout(height='25px', width='50%'),…"
      ]
     },
     "metadata": {},
     "output_type": "display_data"
    }
   ],
   "source": [
    "#reviews.head(100)"
   ]
  },
  {
   "cell_type": "code",
   "execution_count": 116,
   "metadata": {},
   "outputs": [
    {
     "data": {
      "application/vnd.jupyter.widget-view+json": {
       "model_id": "d6cc842d743f4e12a3ff7972349117a1",
       "version_major": 2,
       "version_minor": 0
      },
      "text/plain": [
       "VBox()"
      ]
     },
     "metadata": {},
     "output_type": "display_data"
    },
    {
     "data": {
      "application/vnd.jupyter.widget-view+json": {
       "model_id": "",
       "version_major": 2,
       "version_minor": 0
      },
      "text/plain": [
       "FloatProgress(value=0.0, bar_style='info', description='Progress:', layout=Layout(height='25px', width='50%'),…"
      ]
     },
     "metadata": {},
     "output_type": "display_data"
    }
   ],
   "source": [
    "FP = reviews[(reviews['FL'] == 0) & (reviews['model_FL'] == 1)]\n",
    "FN = reviews[(reviews['FL'] == 1) & (reviews['model_FL'] == 0)]\n",
    "TP = reviews[(reviews['FL'] == 1) & (reviews['model_FL'] == 1)]\n",
    "TN = reviews[(reviews['FL'] == 0) & (reviews['model_FL'] == 0)]\n"
   ]
  },
  {
   "cell_type": "code",
   "execution_count": 117,
   "metadata": {},
   "outputs": [
    {
     "data": {
      "application/vnd.jupyter.widget-view+json": {
       "model_id": "06068cc9e62e41bb97c78b19a02eaad0",
       "version_major": 2,
       "version_minor": 0
      },
      "text/plain": [
       "VBox()"
      ]
     },
     "metadata": {},
     "output_type": "display_data"
    },
    {
     "data": {
      "application/vnd.jupyter.widget-view+json": {
       "model_id": "",
       "version_major": 2,
       "version_minor": 0
      },
      "text/plain": [
       "FloatProgress(value=0.0, bar_style='info', description='Progress:', layout=Layout(height='25px', width='50%'),…"
      ]
     },
     "metadata": {},
     "output_type": "display_data"
    },
    {
     "name": "stdout",
     "output_type": "stream",
     "text": [
      "0"
     ]
    }
   ],
   "source": [
    "\n",
    "FP['UGC_ID'].count()"
   ]
  },
  {
   "cell_type": "code",
   "execution_count": 118,
   "metadata": {},
   "outputs": [
    {
     "data": {
      "application/vnd.jupyter.widget-view+json": {
       "model_id": "e4b3b74328f846a2a02561ae17c52738",
       "version_major": 2,
       "version_minor": 0
      },
      "text/plain": [
       "VBox()"
      ]
     },
     "metadata": {},
     "output_type": "display_data"
    },
    {
     "data": {
      "application/vnd.jupyter.widget-view+json": {
       "model_id": "",
       "version_major": 2,
       "version_minor": 0
      },
      "text/plain": [
       "FloatProgress(value=0.0, bar_style='info', description='Progress:', layout=Layout(height='25px', width='50%'),…"
      ]
     },
     "metadata": {},
     "output_type": "display_data"
    },
    {
     "name": "stdout",
     "output_type": "stream",
     "text": [
      "1314"
     ]
    }
   ],
   "source": [
    "\n",
    "FN['UGC_ID'].count()"
   ]
  },
  {
   "cell_type": "code",
   "execution_count": 119,
   "metadata": {},
   "outputs": [
    {
     "data": {
      "application/vnd.jupyter.widget-view+json": {
       "model_id": "7804480ac87a4ac482d358c13ef0bca4",
       "version_major": 2,
       "version_minor": 0
      },
      "text/plain": [
       "VBox()"
      ]
     },
     "metadata": {},
     "output_type": "display_data"
    },
    {
     "data": {
      "application/vnd.jupyter.widget-view+json": {
       "model_id": "",
       "version_major": 2,
       "version_minor": 0
      },
      "text/plain": [
       "FloatProgress(value=0.0, bar_style='info', description='Progress:', layout=Layout(height='25px', width='50%'),…"
      ]
     },
     "metadata": {},
     "output_type": "display_data"
    },
    {
     "name": "stdout",
     "output_type": "stream",
     "text": [
      "0"
     ]
    }
   ],
   "source": [
    "\n",
    "TP['UGC_ID'].count()"
   ]
  },
  {
   "cell_type": "code",
   "execution_count": 120,
   "metadata": {},
   "outputs": [
    {
     "data": {
      "application/vnd.jupyter.widget-view+json": {
       "model_id": "2c82dee5a2a6431ba228435a7156c72b",
       "version_major": 2,
       "version_minor": 0
      },
      "text/plain": [
       "VBox()"
      ]
     },
     "metadata": {},
     "output_type": "display_data"
    },
    {
     "data": {
      "application/vnd.jupyter.widget-view+json": {
       "model_id": "",
       "version_major": 2,
       "version_minor": 0
      },
      "text/plain": [
       "FloatProgress(value=0.0, bar_style='info', description='Progress:', layout=Layout(height='25px', width='50%'),…"
      ]
     },
     "metadata": {},
     "output_type": "display_data"
    },
    {
     "name": "stdout",
     "output_type": "stream",
     "text": [
      "0"
     ]
    }
   ],
   "source": [
    "TN['UGC_ID'].count()"
   ]
  },
  {
   "cell_type": "code",
   "execution_count": 121,
   "metadata": {},
   "outputs": [
    {
     "data": {
      "application/vnd.jupyter.widget-view+json": {
       "model_id": "d8750d4db5bd4640af60eb68b1b378ac",
       "version_major": 2,
       "version_minor": 0
      },
      "text/plain": [
       "VBox()"
      ]
     },
     "metadata": {},
     "output_type": "display_data"
    },
    {
     "data": {
      "application/vnd.jupyter.widget-view+json": {
       "model_id": "",
       "version_major": 2,
       "version_minor": 0
      },
      "text/plain": [
       "FloatProgress(value=0.0, bar_style='info', description='Progress:', layout=Layout(height='25px', width='50%'),…"
      ]
     },
     "metadata": {},
     "output_type": "display_data"
    },
    {
     "name": "stdout",
     "output_type": "stream",
     "text": [
      "       UGC_ID                                   REVIEW_HEADLINE  \\\n",
      "0   304789521  Producto de compra inmediata                       \n",
      "1   308926004  Si lo compraría de nuevo.                          \n",
      "2   319828692  Muy bueno                                          \n",
      "3   315254774  ممتاز                                              \n",
      "4   318095277  Buenisimo                                          \n",
      "5   321515119  Lo volveria a comprar                              \n",
      "6   308797051  Si                                                 \n",
      "7   308796996  Si                                                 \n",
      "8   307387212  que se repita                                      \n",
      "9   319285149  También                                            \n",
      "10  314432978  Seguro que sí                                      \n",
      "11  320946284  EXCELENTE                                          \n",
      "12  308752702  Muy recomendable                                   \n",
      "13  321393151  Very good                                          \n",
      "14  304619160  Yes                                                \n",
      "15  322094780  Si                                                 \n",
      "16  322094605  Si                                                 \n",
      "17  305547225  Di                                                 \n",
      "18  306489772  yes                                                \n",
      "19  307956966  Lo compraría nuevamente                            \n",
      "20  314069393  Encantada                                          \n",
      "21  301794378  Bueno producto                                     \n",
      "22  314448235  Yes                                                \n",
      "23  311252647  Sii                                                \n",
      "24  320531206  Si                                                 \n",
      "25  322201154  Excelente                                          \n",
      "26  322338523  Volveria a comprarlo                               \n",
      "27  322225441  Le encantaron                                      \n",
      "28  315089840  Si                                                 \n",
      "29  304769177  Oui                                                \n",
      "30  314471149  Realmente                                          \n",
      "31  321778933  Pequeña                                            \n",
      "32  321918704  Los compraría de nuevo                             \n",
      "33  307400763  Si                                                 \n",
      "34  322037148  Original                                           \n",
      "35  322266500  Fit 100% right                                     \n",
      "36  318064180  Me fascina                                         \n",
      "37  317757159  Me estafaron                                       \n",
      "38  312433254  Oui ces sur que je ferais des affaires avec vous   \n",
      "39  321774049  soy talla 7 y me quedo un poquito grande           \n",
      "40  322284645  Yes                                                \n",
      "41  315240374  Usori și confortabili                              \n",
      "42  315194822  Amazin                                             \n",
      "43  319214305  excelente                                          \n",
      "44  324853618  Espectacular                                       \n",
      "45  325013009  Muy buen producto                                  \n",
      "46  324852410  Me encanta                                         \n",
      "47  325018011  Me encanta Benefit                                 \n",
      "48  325014129  Es muy bueno                                       \n",
      "49  324852008  Me encanta                                         \n",
      "50  318523362  Love it                                            \n",
      "51  308447418  Si me gusto                                        \n",
      "52  320561579  размер в размер                                    \n",
      "53  306675812  毛孔粗大                                               \n",
      "54  320847407  AGRADABLE                                          \n",
      "55  317236054  اود شراء هذا المنتج                                \n",
      "56  311065692  Bueno                                              \n",
      "57  313770443  冬におすすめ！                                            \n",
      "58  314436946  مدينة السمارة المغرب                               \n",
      "59  322065342  bien                                               \n",
      "60  315254943  ممتاز جدا                                          \n",
      "61  312224493  Si                                                 \n",
      "62  307387370  que se repita                                      \n",
      "63  312299670  Si                                                 \n",
      "64  322225292  Hermoso color                                      \n",
      "65  317668392  Si 👍                                               \n",
      "66  320344085  Bien                                               \n",
      "67  320344116  Todo                                               \n",
      "68  321773926  me gusto para mi papa                              \n",
      "69  308129346  Nunca hay tallaa                                   \n",
      "70  322284720  Yes                                                \n",
      "71  322284712  Yes                                                \n",
      "72  322070431  Suaves lo recomiendo                               \n",
      "73  312168828  Vuelvo a comprar!!!                                \n",
      "74  320672395  Super zufrieden                                    \n",
      "75  322030898  Me gusta.                                          \n",
      "76  321773854  linda                                              \n",
      "77  317639914  .                                                  \n",
      "78  303648764  N/A                                                \n",
      "79  322355012  Excelente calidad                                  \n",
      "80  308366436  Très confortable                                   \n",
      "81  316650146  Não                                                \n",
      "82  321313449  Love it                                            \n",
      "83  320672467  Super zufrieden                                    \n",
      "84  317768565  janosomorja vasut utca 28                          \n",
      "85  325013748  Hermoso ‚ù§‚ù§                                     \n",
      "86  324851076  ü•∞ me encanta                                    \n",
      "87  325012681  Me encanta üíñ                                    \n",
      "88  325014025  Enamorada de el                                    \n",
      "89  325019297  me encanta                                         \n",
      "90  308451294  me encanto                                         \n",
      "91  308364677  Muy buena                                          \n",
      "92  312235321  Yes!!                                              \n",
      "93  303704294  Скинула за неделю 1500 кг                          \n",
      "94  312164789  Très utile!                                        \n",
      "95  308054575  Perfect product and delivery                       \n",
      "96  314784185  Love it !!                                         \n",
      "97  308697943  Nice!                                              \n",
      "98  301868094  A?mi novio le encanto                              \n",
      "99  320345214  Stylish wear OS                                    \n",
      "\n",
      "        REVIEW_COMMENTS LANG  REVIEW_LENGTH  FL  \\\n",
      "0   Great product        en   13             1    \n",
      "1   Muy fasil de usar.   en   18             1    \n",
      "2   Muy buenos zapatos   en   18             1    \n",
      "3   ممتاز جدا            en   9              1    \n",
      "4   Esta bien            en   9              1    \n",
      "5   Muy bueno            en   9              1    \n",
      "6   El mejor             en   8              1    \n",
      "7   Barato               en   6              1    \n",
      "8   que se repita        en   13             1    \n",
      "9   Esta bien            en   9              1    \n",
      "10  Buena marca          en   11             1    \n",
      "11  ENSALADAS Y CREMAS   en   18             1    \n",
      "12  Son muy bonitas      en   15             1    \n",
      "13  Muy cómodos          en   11             1    \n",
      "14  Me fascina           en   10             1    \n",
      "15  🙌🏻                   en   2              1    \n",
      "16  👍🏼👍🏼👍🏼               en   6              1    \n",
      "17  Muy buenos           en   10             1    \n",
      "18  Hermosa              en   7              1    \n",
      "19  Muy bueno            en   9              1    \n",
      "20  Me encanto           en   10             1    \n",
      "21  Muy buen accesorio   en   18             1    \n",
      "22  Bellos... y cómodos  en   19             1    \n",
      "23  Excelente            en   9              1    \n",
      "24  Buen producto        en   13             1    \n",
      "25  Excelente            en   9              1    \n",
      "26  Comodas              en   7              1    \n",
      "27  Lindo color          en   11             1    \n",
      "28  Perfectos            en   9              1    \n",
      "29  Satisfait de tout!   en   18             1    \n",
      "30  Comodo y ligero      en   15             1    \n",
      "31  Pequeña              en   7              1    \n",
      "32  Los uso diempre      en   15             1    \n",
      "33  Bella                en   5              1    \n",
      "34  Excelente producto   en   18             1    \n",
      "35  Excelente color      en   15             1    \n",
      "36  Excelente            en   9              1    \n",
      "37  Nunca me llegaron    en   17             1    \n",
      "38  Très belle agenda    en   17             1    \n",
      "39  la textura es rara   en   18             1    \n",
      "40  Muy buena calidad    en   17             1    \n",
      "41  🥰👍                   en   2              1    \n",
      "42  Me gusta             en   8              1    \n",
      "43  muy bueno            en   9              1    \n",
      "44  Espectacular         en   12             1    \n",
      "45  Muy buen producto    en   17             1    \n",
      "46  Me encanta           en   10             1    \n",
      "47  Me encanta Benefit   en   18             1    \n",
      "48  Es muy bueno         en   12             1    \n",
      "49  Me encanta           en   10             1    \n",
      "50  Bon et beau produit  en   19             1    \n",
      "51  Bienvenido           en   10             1    \n",
      "52  сели идеально        en   13             1    \n",
      "53  很保湿                  en   3              1    \n",
      "54  AGRADABLE            en   9              1    \n",
      "55  رائع جدا             en   8              1    \n",
      "56  bueno me gustaron    en   17             1    \n",
      "57  暖かくて動きやすい！           en   10             1    \n",
      "58  رائعة                en   5              1    \n",
      "59  bien                 en   4              1    \n",
      "60  ممتاز جدا            en   9              1    \n",
      "61  Lancha               en   6              1    \n",
      "62  que se repita        en   13             1    \n",
      "63  Si                   en   2              1    \n",
      "64  Perfectas            en   9              1    \n",
      "65  Buenísima !!!        en   13             1    \n",
      "66  Regular              en   7              1    \n",
      "67  Muy bien             en   8              1    \n",
      "68  hermosa tela         en   12             1    \n",
      "69  Nunca Hay Tallas     en   16             1    \n",
      "70  Muy buena calidad    en   17             1    \n",
      "71  Muy buena calidad    en   17             1    \n",
      "72  Confortable          en   11             1    \n",
      "73  Súper comidos        en   13             1    \n",
      "74  Sehr geht            nl   9              1    \n",
      "75  Muy buen perfume     en   16             1    \n",
      "76  hermosa tela         en   12             1    \n",
      "77  Excelente!           en   10             1    \n",
      "78  Rojo bello           en   10             1    \n",
      "79  Me encantó           en   10             1    \n",
      "80  Je les adores        en   13             1    \n",
      "81  Tamanhos pequenos    en   17             1    \n",
      "82  I love them          fr   11             1    \n",
      "83  Sehr gut             nl   8              1    \n",
      "84  nice cipo            en   9              1    \n",
      "85  Hermoso ‚ù§‚ù§       en   14             1    \n",
      "86  ü•∞ me encanta      en   15             1    \n",
      "87  Me encanta üíñ      en   15             1    \n",
      "88  Enamorada de el      en   15             1    \n",
      "89  me encanta           en   10             1    \n",
      "90  muy confortable      en   15             1    \n",
      "91  Muy buena            en   9              1    \n",
      "92  Súper confortables   en   18             1    \n",
      "93  Мне еда понравилась  en   19             1    \n",
      "94  J'adore!             en   8              1    \n",
      "95  perfect              fr   7              1    \n",
      "96  super comfo          fr   11             1    \n",
      "97  Nice!                de   5              1    \n",
      "98  El reloj esta bello  en   19             1    \n",
      "99  Works good           de   10             1    \n",
      "\n",
      "                                                              ALL_TEXT  \\\n",
      "0   Producto de compra inmediata Great product                           \n",
      "1   Si lo compraría de nuevo. Muy fasil de usar.                         \n",
      "2   Muy bueno Muy buenos zapatos                                         \n",
      "3   ممتاز ممتاز جدا                                                      \n",
      "4   Buenisimo Esta bien                                                  \n",
      "5   Lo volveria a comprar Muy bueno                                      \n",
      "6   Si El mejor                                                          \n",
      "7   Si Barato                                                            \n",
      "8   que se repita que se repita                                          \n",
      "9   También Esta bien                                                    \n",
      "10  Seguro que sí Buena marca                                            \n",
      "11  EXCELENTE ENSALADAS Y CREMAS                                         \n",
      "12  Muy recomendable Son muy bonitas                                     \n",
      "13  Very good Muy cómodos                                                \n",
      "14  Yes Me fascina                                                       \n",
      "15  Si 🙌🏻                                                                \n",
      "16  Si 👍🏼👍🏼👍🏼                                                            \n",
      "17  Di Muy buenos                                                        \n",
      "18  yes Hermosa                                                          \n",
      "19  Lo compraría nuevamente Muy bueno                                    \n",
      "20  Encantada Me encanto                                                 \n",
      "21  Bueno producto Muy buen accesorio                                    \n",
      "22  Yes Bellos... y cómodos                                              \n",
      "23  Sii Excelente                                                        \n",
      "24  Si Buen producto                                                     \n",
      "25  Excelente Excelente                                                  \n",
      "26  Volveria a comprarlo Comodas                                         \n",
      "27  Le encantaron Lindo color                                            \n",
      "28  Si Perfectos                                                         \n",
      "29  Oui Satisfait de tout!                                               \n",
      "30  Realmente Comodo y ligero                                            \n",
      "31  Pequeña Pequeña                                                      \n",
      "32  Los compraría de nuevo Los uso diempre                               \n",
      "33  Si Bella                                                             \n",
      "34  Original Excelente producto                                          \n",
      "35  Fit 100% right Excelente color                                       \n",
      "36  Me fascina Excelente                                                 \n",
      "37  Me estafaron Nunca me llegaron                                       \n",
      "38  Oui ces sur que je ferais des affaires avec vous Très belle agenda   \n",
      "39  soy talla 7 y me quedo un poquito grande la textura es rara          \n",
      "40  Yes Muy buena calidad                                                \n",
      "41  Usori și confortabili 🥰👍                                             \n",
      "42  Amazin Me gusta                                                      \n",
      "43  excelente muy bueno                                                  \n",
      "44  Espectacular Espectacular                                            \n",
      "45  Muy buen producto Muy buen producto                                  \n",
      "46  Me encanta Me encanta                                                \n",
      "47  Me encanta Benefit Me encanta Benefit                                \n",
      "48  Es muy bueno Es muy bueno                                            \n",
      "49  Me encanta Me encanta                                                \n",
      "50  Love it Bon et beau produit                                          \n",
      "51  Si me gusto Bienvenido                                               \n",
      "52  размер в размер сели идеально                                        \n",
      "53  毛孔粗大 很保湿                                                             \n",
      "54  AGRADABLE AGRADABLE                                                  \n",
      "55  اود شراء هذا المنتج رائع جدا                                         \n",
      "56  Bueno bueno me gustaron                                              \n",
      "57  冬におすすめ！ 暖かくて動きやすい！                                                   \n",
      "58  مدينة السمارة المغرب رائعة                                           \n",
      "59  bien bien                                                            \n",
      "60  ممتاز جدا ممتاز جدا                                                  \n",
      "61  Si Lancha                                                            \n",
      "62  que se repita que se repita                                          \n",
      "63  Si Si                                                                \n",
      "64  Hermoso color Perfectas                                              \n",
      "65  Si 👍 Buenísima !!!                                                   \n",
      "66  Bien Regular                                                         \n",
      "67  Todo Muy bien                                                        \n",
      "68  me gusto para mi papa hermosa tela                                   \n",
      "69  Nunca hay tallaa Nunca Hay Tallas                                    \n",
      "70  Yes Muy buena calidad                                                \n",
      "71  Yes Muy buena calidad                                                \n",
      "72  Suaves lo recomiendo Confortable                                     \n",
      "73  Vuelvo a comprar!!! Súper comidos                                    \n",
      "74  Super zufrieden Sehr geht                                            \n",
      "75  Me gusta. Muy buen perfume                                           \n",
      "76  linda hermosa tela                                                   \n",
      "77  . Excelente!                                                         \n",
      "78  N/A Rojo bello                                                       \n",
      "79  Excelente calidad Me encantó                                         \n",
      "80  Très confortable Je les adores                                       \n",
      "81  Não Tamanhos pequenos                                                \n",
      "82  Love it I love them                                                  \n",
      "83  Super zufrieden Sehr gut                                             \n",
      "84  janosomorja vasut utca 28 nice cipo                                  \n",
      "85  Hermoso ‚ù§‚ù§ Hermoso ‚ù§‚ù§                                        \n",
      "86  ü•∞ me encanta ü•∞ me encanta                                      \n",
      "87  Me encanta üíñ Me encanta üíñ                                      \n",
      "88  Enamorada de el Enamorada de el                                      \n",
      "89  me encanta me encanta                                                \n",
      "90  me encanto muy confortable                                           \n",
      "91  Muy buena Muy buena                                                  \n",
      "92  Yes!! Súper confortables                                             \n",
      "93  Скинула за неделю 1500 кг Мне еда понравилась                        \n",
      "94  Très utile! J'adore!                                                 \n",
      "95  Perfect product and delivery perfect                                 \n",
      "96  Love it !! super comfo                                               \n",
      "97  Nice! Nice!                                                          \n",
      "98  A?mi novio le encanto El reloj esta bello                            \n",
      "99  Stylish wear OS Works good                                           \n",
      "\n",
      "    model_FL  \n",
      "0   0         \n",
      "1   0         \n",
      "2   0         \n",
      "3   0         \n",
      "4   0         \n",
      "5   0         \n",
      "6   0         \n",
      "7   0         \n",
      "8   0         \n",
      "9   0         \n",
      "10  0         \n",
      "11  0         \n",
      "12  0         \n",
      "13  0         \n",
      "14  0         \n",
      "15  0         \n",
      "16  0         \n",
      "17  0         \n",
      "18  0         \n",
      "19  0         \n",
      "20  0         \n",
      "21  0         \n",
      "22  0         \n",
      "23  0         \n",
      "24  0         \n",
      "25  0         \n",
      "26  0         \n",
      "27  0         \n",
      "28  0         \n",
      "29  0         \n",
      "30  0         \n",
      "31  0         \n",
      "32  0         \n",
      "33  0         \n",
      "34  0         \n",
      "35  0         \n",
      "36  0         \n",
      "37  0         \n",
      "38  0         \n",
      "39  0         \n",
      "40  0         \n",
      "41  0         \n",
      "42  0         \n",
      "43  0         \n",
      "44  0         \n",
      "45  0         \n",
      "46  0         \n",
      "47  0         \n",
      "48  0         \n",
      "49  0         \n",
      "50  0         \n",
      "51  0         \n",
      "52  0         \n",
      "53  0         \n",
      "54  0         \n",
      "55  0         \n",
      "56  0         \n",
      "57  0         \n",
      "58  0         \n",
      "59  0         \n",
      "60  0         \n",
      "61  0         \n",
      "62  0         \n",
      "63  0         \n",
      "64  0         \n",
      "65  0         \n",
      "66  0         \n",
      "67  0         \n",
      "68  0         \n",
      "69  0         \n",
      "70  0         \n",
      "71  0         \n",
      "72  0         \n",
      "73  0         \n",
      "74  0         \n",
      "75  0         \n",
      "76  0         \n",
      "77  0         \n",
      "78  0         \n",
      "79  0         \n",
      "80  0         \n",
      "81  0         \n",
      "82  0         \n",
      "83  0         \n",
      "84  0         \n",
      "85  0         \n",
      "86  0         \n",
      "87  0         \n",
      "88  0         \n",
      "89  0         \n",
      "90  0         \n",
      "91  0         \n",
      "92  0         \n",
      "93  0         \n",
      "94  0         \n",
      "95  0         \n",
      "96  0         \n",
      "97  0         \n",
      "98  0         \n",
      "99  0"
     ]
    }
   ],
   "source": [
    "FN.head(100)"
   ]
  },
  {
   "cell_type": "code",
   "execution_count": null,
   "metadata": {},
   "outputs": [],
   "source": []
  },
  {
   "cell_type": "code",
   "execution_count": 80,
   "metadata": {},
   "outputs": [
    {
     "data": {
      "application/vnd.jupyter.widget-view+json": {
       "model_id": "2ceef53672c44797ae6dbce5d19d8cb9",
       "version_major": 2,
       "version_minor": 0
      },
      "text/plain": [
       "VBox()"
      ]
     },
     "metadata": {},
     "output_type": "display_data"
    },
    {
     "data": {
      "application/vnd.jupyter.widget-view+json": {
       "model_id": "",
       "version_major": 2,
       "version_minor": 0
      },
      "text/plain": [
       "FloatProgress(value=0.0, bar_style='info', description='Progress:', layout=Layout(height='25px', width='50%'),…"
      ]
     },
     "metadata": {},
     "output_type": "display_data"
    }
   ],
   "source": [
    "from pyspark.sql.types import *\n",
    "\n",
    "mySchema = StructType([StructField(\"UGC_ID\", StringType(), True)\\\n",
    ",StructField(\"REVIEW_HEADLINE\", StringType(), True)\\\n",
    ",StructField(\"REVIEW_COMMENTS\", StringType(), True)\\\n",
    ",StructField(\"LANG\", StringType(), True)\\\n",
    ",StructField(\"REVIEW_LENGTH\", StringType(), True)\\\n",
    ",StructField(\"FL\", IntegerType(), True)\\\n",
    ",StructField(\"ALL_TEXT\", StringType(), True)\\\n",
    ",StructField(\"PRED_LANG\", StringType(), True)\\\n",
    ",StructField(\"model_FL\", IntegerType(), True)])\n",
    "\n"
   ]
  },
  {
   "cell_type": "code",
   "execution_count": null,
   "metadata": {},
   "outputs": [],
   "source": []
  },
  {
   "cell_type": "code",
   "execution_count": 104,
   "metadata": {},
   "outputs": [
    {
     "data": {
      "application/vnd.jupyter.widget-view+json": {
       "model_id": "98b4d492e03c419fb7c08bda22b5f72f",
       "version_major": 2,
       "version_minor": 0
      },
      "text/plain": [
       "VBox()"
      ]
     },
     "metadata": {},
     "output_type": "display_data"
    },
    {
     "data": {
      "application/vnd.jupyter.widget-view+json": {
       "model_id": "",
       "version_major": 2,
       "version_minor": 0
      },
      "text/plain": [
       "FloatProgress(value=0.0, bar_style='info', description='Progress:', layout=Layout(height='25px', width='50%'),…"
      ]
     },
     "metadata": {},
     "output_type": "display_data"
    }
   ],
   "source": [
    "SNOWFLAKE_SOURCE_NAME = \"net.snowflake.spark.snowflake\"\n",
    "\n",
    "sfOptions = {\n",
    "  'sfURL' : 'powerreviews.snowflakecomputing.com',\n",
    "  'sfAccount' : 'powerreviews',\n",
    "  'sfUser' : username,\n",
    "  'sfPassword' : password,\n",
    "  'sfDatabase' : 'ANALYTICS_WORKSHOP',\n",
    "  'sfSchema' : 'DATA_SCIENCE',\n",
    "  'sfWarehouse' : 'LOWER_ENV_WAREHOUSE'\n",
    "}"
   ]
  },
  {
   "cell_type": "code",
   "execution_count": 105,
   "metadata": {},
   "outputs": [
    {
     "data": {
      "application/vnd.jupyter.widget-view+json": {
       "model_id": "5c29ab1002c748b696bf2186733e02c9",
       "version_major": 2,
       "version_minor": 0
      },
      "text/plain": [
       "VBox()"
      ]
     },
     "metadata": {},
     "output_type": "display_data"
    },
    {
     "data": {
      "application/vnd.jupyter.widget-view+json": {
       "model_id": "",
       "version_major": 2,
       "version_minor": 0
      },
      "text/plain": [
       "FloatProgress(value=0.0, bar_style='info', description='Progress:', layout=Layout(height='25px', width='50%'),…"
      ]
     },
     "metadata": {},
     "output_type": "display_data"
    }
   ],
   "source": [
    "#Turn into spark dataframe in order to write to Snowflake\n",
    "#Couldn't get write_pandas() to work to write directly from pandas to Snowflake\n",
    "reviews = spark.createDataFrame(reviews, schema=mySchema)"
   ]
  },
  {
   "cell_type": "code",
   "execution_count": 106,
   "metadata": {},
   "outputs": [
    {
     "data": {
      "application/vnd.jupyter.widget-view+json": {
       "model_id": "a4acea27b114459da3246cbf42443ab5",
       "version_major": 2,
       "version_minor": 0
      },
      "text/plain": [
       "VBox()"
      ]
     },
     "metadata": {},
     "output_type": "display_data"
    },
    {
     "data": {
      "application/vnd.jupyter.widget-view+json": {
       "model_id": "",
       "version_major": 2,
       "version_minor": 0
      },
      "text/plain": [
       "FloatProgress(value=0.0, bar_style='info', description='Progress:', layout=Layout(height='25px', width='50%'),…"
      ]
     },
     "metadata": {},
     "output_type": "display_data"
    }
   ],
   "source": [
    "reviews.write.format(SNOWFLAKE_SOURCE_NAME).options(**sfOptions) \\\n",
    "    .option(\"dbtable\",\"FL_FL1_googletrans\").mode(\"append\").save()\n"
   ]
  },
  {
   "cell_type": "code",
   "execution_count": null,
   "metadata": {},
   "outputs": [],
   "source": []
  },
  {
   "cell_type": "code",
   "execution_count": null,
   "metadata": {},
   "outputs": [],
   "source": []
  },
  {
   "cell_type": "code",
   "execution_count": null,
   "metadata": {},
   "outputs": [],
   "source": []
  },
  {
   "cell_type": "code",
   "execution_count": null,
   "metadata": {},
   "outputs": [],
   "source": []
  },
  {
   "cell_type": "code",
   "execution_count": 109,
   "metadata": {},
   "outputs": [
    {
     "data": {
      "application/vnd.jupyter.widget-view+json": {
       "model_id": "93f0f332017b42a4a6ef56a59b58a396",
       "version_major": 2,
       "version_minor": 0
      },
      "text/plain": [
       "VBox()"
      ]
     },
     "metadata": {},
     "output_type": "display_data"
    },
    {
     "data": {
      "application/vnd.jupyter.widget-view+json": {
       "model_id": "",
       "version_major": 2,
       "version_minor": 0
      },
      "text/plain": [
       "FloatProgress(value=0.0, bar_style='info', description='Progress:', layout=Layout(height='25px', width='50%'),…"
      ]
     },
     "metadata": {},
     "output_type": "display_data"
    },
    {
     "name": "stdout",
     "output_type": "stream",
     "text": [
      "<snowflake.connector.cursor.SnowflakeCursor object at 0x7f19fab41fd0>"
     ]
    }
   ],
   "source": [
    "conn.cursor().execute(\"drop table if exists ANALYTICS_WORKSHOP.DATA_SCIENCE.TST_FP_TEST3\")\n",
    "conn.cursor().execute(\"drop table if exists ANALYTICS_WORKSHOP.DATA_SCIENCE.TST_FN_TEST3\")\n",
    "#conn.cursor().execute(\"drop table if exists ANALYTICS_WORKSHOP.DATA_SCIENCE.TEST_NLP_SPARK6\")\n",
    "#conn.cursor().execute(\"drop table if exists ANALYTICS_WORKSHOP.DATA_SCIENCE.TEST_NLP_SWAP_TOKENS\")"
   ]
  }
 ],
 "metadata": {
  "kernelspec": {
   "display_name": "PySpark",
   "language": "",
   "name": "pysparkkernel"
  },
  "language_info": {
   "codemirror_mode": {
    "name": "python",
    "version": 2
   },
   "mimetype": "text/x-python",
   "name": "pyspark",
   "pygments_lexer": "python2"
  }
 },
 "nbformat": 4,
 "nbformat_minor": 4
}
