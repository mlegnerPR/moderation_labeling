{
 "cells": [
  {
   "cell_type": "code",
   "execution_count": 1,
   "metadata": {},
   "outputs": [
    {
     "data": {
      "application/vnd.jupyter.widget-view+json": {
       "model_id": "4e1a0305e059447c84300e1c8de5d02d",
       "version_major": 2,
       "version_minor": 0
      },
      "text/plain": [
       "VBox()"
      ]
     },
     "metadata": {},
     "output_type": "display_data"
    },
    {
     "name": "stdout",
     "output_type": "stream",
     "text": [
      "Starting Spark application\n"
     ]
    },
    {
     "data": {
      "text/html": [
       "<table>\n",
       "<tr><th>ID</th><th>YARN Application ID</th><th>Kind</th><th>State</th><th>Spark UI</th><th>Driver log</th><th>Current session?</th></tr><tr><td>3</td><td>application_1600955176122_0004</td><td>pyspark</td><td>idle</td><td><a target=\"_blank\" href=\"http://ip-10-101-215-55.us-west-2.compute.internal:20888/proxy/application_1600955176122_0004/\">Link</a></td><td><a target=\"_blank\" href=\"http://ip-10-101-214-210.us-west-2.compute.internal:8042/node/containerlogs/container_1600955176122_0004_01_000001/livy\">Link</a></td><td>✔</td></tr></table>"
      ],
      "text/plain": [
       "<IPython.core.display.HTML object>"
      ]
     },
     "metadata": {},
     "output_type": "display_data"
    },
    {
     "data": {
      "application/vnd.jupyter.widget-view+json": {
       "model_id": "",
       "version_major": 2,
       "version_minor": 0
      },
      "text/plain": [
       "FloatProgress(value=0.0, bar_style='info', description='Progress:', layout=Layout(height='25px', width='50%'),…"
      ]
     },
     "metadata": {},
     "output_type": "display_data"
    },
    {
     "name": "stdout",
     "output_type": "stream",
     "text": [
      "SparkSession available as 'spark'.\n"
     ]
    },
    {
     "data": {
      "application/vnd.jupyter.widget-view+json": {
       "model_id": "",
       "version_major": 2,
       "version_minor": 0
      },
      "text/plain": [
       "FloatProgress(value=0.0, bar_style='info', description='Progress:', layout=Layout(height='25px', width='50%'),…"
      ]
     },
     "metadata": {},
     "output_type": "display_data"
    }
   ],
   "source": [
    "#Import packages\n",
    "#import numpy as np\n",
    "import snowflake.connector\n",
    "import pandas as pd\n",
    "import spacy\n",
    "from sklearn.preprocessing import OneHotEncoder\n"
   ]
  },
  {
   "cell_type": "code",
   "execution_count": 2,
   "metadata": {},
   "outputs": [
    {
     "data": {
      "application/vnd.jupyter.widget-view+json": {
       "model_id": "277d3d026b7d46b6ba0bacbfa7d2251b",
       "version_major": 2,
       "version_minor": 0
      },
      "text/plain": [
       "VBox()"
      ]
     },
     "metadata": {},
     "output_type": "display_data"
    },
    {
     "data": {
      "application/vnd.jupyter.widget-view+json": {
       "model_id": "",
       "version_major": 2,
       "version_minor": 0
      },
      "text/plain": [
       "FloatProgress(value=0.0, bar_style='info', description='Progress:', layout=Layout(height='25px', width='50%'),…"
      ]
     },
     "metadata": {},
     "output_type": "display_data"
    }
   ],
   "source": [
    "#Snowflake connection info\n",
    "sfOptions = {\n",
    "  'sfURL' : 'powerreviews.snowflakecomputing.com',\n",
    "  'sfAccount' : 'powerreviews',\n",
    "  'sfUser' : 'APP_SPARK_PROD',\n",
    "  'sfPassword' : '>6txhcQ*7&^Qrq`j',\n",
    "  'sfDatabase' : 'ANALYTICS_PROD',\n",
    "  'sfSchema' : 'ANALYTICS',\n",
    "  'sfWarehouse' : 'LOWER_ENV_WAREHOUSE'\n",
    "}\n",
    "SNOWFLAKE_SOURCE_NAME = \"net.snowflake.spark.snowflake\"\n"
   ]
  },
  {
   "cell_type": "code",
   "execution_count": 3,
   "metadata": {},
   "outputs": [
    {
     "data": {
      "application/vnd.jupyter.widget-view+json": {
       "model_id": "599516d9a9f44651a78d9eca6d165c97",
       "version_major": 2,
       "version_minor": 0
      },
      "text/plain": [
       "VBox()"
      ]
     },
     "metadata": {},
     "output_type": "display_data"
    },
    {
     "data": {
      "application/vnd.jupyter.widget-view+json": {
       "model_id": "",
       "version_major": 2,
       "version_minor": 0
      },
      "text/plain": [
       "FloatProgress(value=0.0, bar_style='info', description='Progress:', layout=Layout(height='25px', width='50%'),…"
      ]
     },
     "metadata": {},
     "output_type": "display_data"
    }
   ],
   "source": [
    "query_old = \"select * \\\n",
    "from \\\n",
    "(select ugc_id as mod_ugc_id, created_date as mod_date, year(created_date)*100+month(created_date) as YYYYMM \\\n",
    "from cdm.observation as o \\\n",
    "where observation_type_code = 'PM' and observation_client_id =1 and ugc_type = 'review') as moderated_reviews \\\n",
    "left join \\\n",
    "(select ugc_id, observation_type_code \\\n",
    "from cdm.observation as o \\\n",
    "where observation_type_code in ('NR','PII','PR','CS','DC','CR','FRD','TST','CC','EWL','SC','PIM','LC','WEB','FL','SA','URL','CV','US') \\\n",
    " and observation_client_id =1 and ugc_type = 'review') as observation_reviews \\\n",
    "on moderated_reviews.mod_ugc_id = observation_reviews.ugc_id \\\n",
    "left join \\\n",
    "(select ugc_id as r_ugc_id, review_headline, review_comments, review_rating, reviewer_nickname, locale \\\n",
    "from analytics.review ) as r \\\n",
    "on r.r_ugc_id = moderated_reviews.mod_ugc_id \\\n",
    "where locale in ('en_US','en_GB','en_CA') \\\n",
    "and mod_date > '2020-09-21'   \"\n",
    "\n"
   ]
  },
  {
   "cell_type": "code",
   "execution_count": null,
   "metadata": {},
   "outputs": [],
   "source": [
    "query = \"select distinct r.ugc_id, r.created_date, r.review_headline, \\\n",
    "r.review_comments, r.review_rating, r.reviewer_nickname, r.locale, r.observations \\\n",
    "from analytics.review as r \\\n",
    "left join cdm.observation as o \\\n",
    "on r.ugc_id = o.ugc_id \\\n",
    "where contains(r.observations, 'PM') \\\n",
    "and r.locale in ('en_US','en_GB','en_CA') \\\n",
    "and o.created_date > '2020-09-01'   \""
   ]
  },
  {
   "cell_type": "code",
   "execution_count": null,
   "metadata": {},
   "outputs": [],
   "source": [
    "#Use review data set to get observation codes bc they are already comma separated and less joins to perform\n",
    "#Still need observation set though to get observation created date\n",
    "#This is bc review could be from ages ago but we could have imported recently and moderated it\n",
    "#Want to make sure we include as many observation labels as possible for most accurate model\n",
    "\n"
   ]
  },
  {
   "cell_type": "code",
   "execution_count": 4,
   "metadata": {},
   "outputs": [
    {
     "data": {
      "application/vnd.jupyter.widget-view+json": {
       "model_id": "08b20564444243769c5883d54c51a013",
       "version_major": 2,
       "version_minor": 0
      },
      "text/plain": [
       "VBox()"
      ]
     },
     "metadata": {},
     "output_type": "display_data"
    },
    {
     "data": {
      "application/vnd.jupyter.widget-view+json": {
       "model_id": "",
       "version_major": 2,
       "version_minor": 0
      },
      "text/plain": [
       "FloatProgress(value=0.0, bar_style='info', description='Progress:', layout=Layout(height='25px', width='50%'),…"
      ]
     },
     "metadata": {},
     "output_type": "display_data"
    },
    {
     "name": "stdout",
     "output_type": "stream",
     "text": [
      "+----------+--------------------+------+---------+---------------------+---------+---------------+--------------------+-------------+-----------------+------+\n",
      "|MOD_UGC_ID|            MOD_DATE|YYYYMM|   UGC_ID|OBSERVATION_TYPE_CODE| R_UGC_ID|REVIEW_HEADLINE|     REVIEW_COMMENTS|REVIEW_RATING|REVIEWER_NICKNAME|LOCALE|\n",
      "+----------+--------------------+------+---------+---------------------+---------+---------------+--------------------+-------------+-----------------+------+\n",
      "| 298822510|2020-09-23 12:15:...|202009|298822510|                   NR|298822510|            yes|                 Xxx|            4|          Maureen| en_US|\n",
      "| 298822508|2020-09-23 12:16:...|202009|298822508|                   NR|298822508|            Yes|                 Xxx|            4|          Maureen| en_US|\n",
      "| 300308297|2020-09-21 13:53:...|202009|300308297|                   PR|300308297|       Hartford|I ain't get nun b...|            2|            James| en_US|\n",
      "| 300311401|2020-09-21 13:54:...|202009|300311401|                   NR|300311401|            N/A|                 N/A|            5|              N/A| en_US|\n",
      "| 300481437|2020-09-23 19:30:...|202009|300481437|                   CS|300481437|     Anti viral|I chose it becaus...|            4|           dodo72| en_GB|\n",
      "+----------+--------------------+------+---------+---------------------+---------+---------------+--------------------+-------------+-----------------+------+\n",
      "only showing top 5 rows\n",
      "\n",
      "413137"
     ]
    }
   ],
   "source": [
    "#Spark data frame\n",
    "\n",
    "reviews = spark.read.format(SNOWFLAKE_SOURCE_NAME) \\\n",
    "          .options(**sfOptions).option(\"query\", query).load()\n",
    "reviews.show(5)\n",
    "reviews.count()\n"
   ]
  },
  {
   "cell_type": "code",
   "execution_count": 5,
   "metadata": {},
   "outputs": [
    {
     "data": {
      "application/vnd.jupyter.widget-view+json": {
       "model_id": "f01e076a65f44939be9a135c37220058",
       "version_major": 2,
       "version_minor": 0
      },
      "text/plain": [
       "VBox()"
      ]
     },
     "metadata": {},
     "output_type": "display_data"
    },
    {
     "data": {
      "application/vnd.jupyter.widget-view+json": {
       "model_id": "",
       "version_major": 2,
       "version_minor": 0
      },
      "text/plain": [
       "FloatProgress(value=0.0, bar_style='info', description='Progress:', layout=Layout(height='25px', width='50%'),…"
      ]
     },
     "metadata": {},
     "output_type": "display_data"
    },
    {
     "name": "stdout",
     "output_type": "stream",
     "text": [
      "+---------------------+--------+\n",
      "|OBSERVATION_TYPE_CODE|   count|\n",
      "+---------------------+--------+\n",
      "|                   SC|   62783|\n",
      "|                   CC|   53152|\n",
      "|                  PIM|   41224|\n",
      "|                  EWL|   34519|\n",
      "|                  FRD|   31014|\n",
      "|                   LC|   23979|\n",
      "|                  TST|   19923|\n",
      "|                   PR|   93587|\n",
      "|                   CR|   80136|\n",
      "|                   CV|     835|\n",
      "|                   US|     304|\n",
      "|                 null|63879110|\n",
      "|                   NR|  420905|\n",
      "|                  PII|  306726|\n",
      "|                   SA|   11593|\n",
      "|                  URL|   11377|\n",
      "|                   DC|    9102|\n",
      "|                  WEB|   30624|\n",
      "|                   FL|   29200|\n",
      "|                   CS|   24925|\n",
      "+---------------------+--------+"
     ]
    }
   ],
   "source": [
    "counts=reviews.groupBy('OBSERVATION_TYPE_CODE').count().orderBy('count', ascending = False)\n",
    "counts.show(25)"
   ]
  },
  {
   "cell_type": "code",
   "execution_count": 6,
   "metadata": {},
   "outputs": [
    {
     "data": {
      "application/vnd.jupyter.widget-view+json": {
       "model_id": "c09091cdd8b04df5a0987962e8b131f2",
       "version_major": 2,
       "version_minor": 0
      },
      "text/plain": [
       "VBox()"
      ]
     },
     "metadata": {},
     "output_type": "display_data"
    },
    {
     "data": {
      "application/vnd.jupyter.widget-view+json": {
       "model_id": "",
       "version_major": 2,
       "version_minor": 0
      },
      "text/plain": [
       "FloatProgress(value=0.0, bar_style='info', description='Progress:', layout=Layout(height='25px', width='50%'),…"
      ]
     },
     "metadata": {},
     "output_type": "display_data"
    },
    {
     "name": "stdout",
     "output_type": "stream",
     "text": [
      "   OBSERVATION_TYPE_CODE     count\n",
      "2                   None  63879110\n",
      "3                     NR    420905\n",
      "4                    PII    306726\n",
      "7                     PR     93587\n",
      "8                     CR     80136\n",
      "9                     SC     62783\n",
      "10                    CC     53152\n",
      "11                   PIM     41224\n",
      "0                    EWL     34519\n",
      "1                    FRD     31014\n",
      "17                   WEB     30624\n",
      "18                    FL     29200\n",
      "19                    CS     24925\n",
      "12                    LC     23979\n",
      "13                   TST     19923\n",
      "14                    SA     11593\n",
      "15                   URL     11377\n",
      "16                    DC      9102\n",
      "5                     CV       835\n",
      "6                     US       304"
     ]
    }
   ],
   "source": [
    "#Absolutely will not sort for a Spark dataframe, convert to Pandas and sort\n",
    "counts_pd = counts.select(\"*\").toPandas()\n",
    "counts_pd.sort_values(by='count', ascending = False)\n"
   ]
  },
  {
   "cell_type": "code",
   "execution_count": 7,
   "metadata": {},
   "outputs": [
    {
     "data": {
      "application/vnd.jupyter.widget-view+json": {
       "model_id": "2d8a07d5e2bc4fdba682347dc8c0b54d",
       "version_major": 2,
       "version_minor": 0
      },
      "text/plain": [
       "VBox()"
      ]
     },
     "metadata": {},
     "output_type": "display_data"
    },
    {
     "data": {
      "application/vnd.jupyter.widget-view+json": {
       "model_id": "",
       "version_major": 2,
       "version_minor": 0
      },
      "text/plain": [
       "FloatProgress(value=0.0, bar_style='info', description='Progress:', layout=Layout(height='25px', width='50%'),…"
      ]
     },
     "metadata": {},
     "output_type": "display_data"
    },
    {
     "name": "stderr",
     "output_type": "stream",
     "text": [
      "name 'plt' is not defined\n",
      "Traceback (most recent call last):\n",
      "NameError: name 'plt' is not defined\n",
      "\n"
     ]
    }
   ],
   "source": [
    "#Clear plot memory\n",
    "#plt.clf()"
   ]
  },
  {
   "cell_type": "code",
   "execution_count": 8,
   "metadata": {},
   "outputs": [],
   "source": [
    "%matplotlib inline"
   ]
  },
  {
   "cell_type": "code",
   "execution_count": 9,
   "metadata": {},
   "outputs": [
    {
     "data": {
      "application/vnd.jupyter.widget-view+json": {
       "model_id": "6055a934a34b4504be2d3d6ca9ce0bea",
       "version_major": 2,
       "version_minor": 0
      },
      "text/plain": [
       "VBox()"
      ]
     },
     "metadata": {},
     "output_type": "display_data"
    },
    {
     "data": {
      "application/vnd.jupyter.widget-view+json": {
       "model_id": "",
       "version_major": 2,
       "version_minor": 0
      },
      "text/plain": [
       "FloatProgress(value=0.0, bar_style='info', description='Progress:', layout=Layout(height='25px', width='50%'),…"
      ]
     },
     "metadata": {},
     "output_type": "display_data"
    }
   ],
   "source": [
    "import matplotlib.pyplot as plt\n",
    "import seaborn as sns\n",
    "counts_sorted = counts_pd.nlargest(columns=\"count\", n = 50) \n",
    "ax = sns.barplot(data=counts_sorted, x= \"count\", y = \"OBSERVATION_TYPE_CODE\", color=\"b\") \n",
    "#ax2 = sns.barplot(data=counts_sorted.fillna('NULL'), x= \"count\", y = \"OBSERVATION_TYPE_CODE\") \n",
    "ax.set(ylabel = 'Count') \n",
    "plt.show()"
   ]
  },
  {
   "cell_type": "code",
   "execution_count": 10,
   "metadata": {},
   "outputs": [
    {
     "data": {
      "application/vnd.jupyter.widget-view+json": {
       "model_id": "",
       "version_major": 2,
       "version_minor": 0
      },
      "text/plain": [
       "FloatProgress(value=0.0, bar_style='info', description='Progress:', layout=Layout(height='25px', width='50%'),…"
      ]
     },
     "metadata": {},
     "output_type": "display_data"
    },
    {
     "data": {
      "image/png": "[encoded data removed]",
      "text/plain": [
       "<IPython.core.display.Image object>"
      ]
     },
     "metadata": {},
     "output_type": "display_data"
    }
   ],
   "source": [
    "%matplot plt"
   ]
  },
  {
   "cell_type": "code",
   "execution_count": null,
   "metadata": {},
   "outputs": [],
   "source": []
  },
  {
   "cell_type": "code",
   "execution_count": 25,
   "metadata": {},
   "outputs": [
    {
     "data": {
      "application/vnd.jupyter.widget-view+json": {
       "model_id": "d99e7250603e4ff6b27f2c02cd1fa92d",
       "version_major": 2,
       "version_minor": 0
      },
      "text/plain": [
       "VBox()"
      ]
     },
     "metadata": {},
     "output_type": "display_data"
    },
    {
     "data": {
      "application/vnd.jupyter.widget-view+json": {
       "model_id": "",
       "version_major": 2,
       "version_minor": 0
      },
      "text/plain": [
       "FloatProgress(value=0.0, bar_style='info', description='Progress:', layout=Layout(height='25px', width='50%'),…"
      ]
     },
     "metadata": {},
     "output_type": "display_data"
    },
    {
     "name": "stdout",
     "output_type": "stream",
     "text": [
      "+---------------------+------+-----+\n",
      "|OBSERVATION_TYPE_CODE|YYYYMM|count|\n",
      "+---------------------+------+-----+\n",
      "|                   DC|202003|  105|\n",
      "|                   SA|201810|   98|\n",
      "|                   DC|201909|   92|\n",
      "|                   DC|202008|   92|\n",
      "|                   SA|201811|   87|\n",
      "|                   DC|202002|   85|\n",
      "|                   DC|201910|   81|\n",
      "|                   SA|201809|   80|\n",
      "|                   DC|202007|   80|\n",
      "|                   CV|202001|   53|\n",
      "|                   CV|201910|   50|\n",
      "|                   CV|201906|   50|\n",
      "|                   CV|201909|   49|\n",
      "|                   CV|202007|   46|\n",
      "|                   CV|202009|   44|\n",
      "|                   CV|201911|   39|\n",
      "|                   CV|202002|   38|\n",
      "|                   CV|201903|   37|\n",
      "|                   CV|201811|   36|\n",
      "|                   CV|202008|   36|\n",
      "|                   CV|202004|   34|\n",
      "|                   CV|201809|   34|\n",
      "|                   CV|202005|   34|\n",
      "|                   CV|201908|   32|\n",
      "|                   CV|201905|   31|\n",
      "+---------------------+------+-----+\n",
      "only showing top 25 rows"
     ]
    }
   ],
   "source": [
    "mo_counts=reviews.groupBy('OBSERVATION_TYPE_CODE','YYYYMM').count().orderBy('count', ascending = False)\n",
    "mo_counts.show(25)"
   ]
  },
  {
   "cell_type": "code",
   "execution_count": 26,
   "metadata": {},
   "outputs": [
    {
     "data": {
      "application/vnd.jupyter.widget-view+json": {
       "model_id": "d45ecab7c26e4edb8d523c0e1f59381f",
       "version_major": 2,
       "version_minor": 0
      },
      "text/plain": [
       "VBox()"
      ]
     },
     "metadata": {},
     "output_type": "display_data"
    },
    {
     "data": {
      "application/vnd.jupyter.widget-view+json": {
       "model_id": "",
       "version_major": 2,
       "version_minor": 0
      },
      "text/plain": [
       "FloatProgress(value=0.0, bar_style='info', description='Progress:', layout=Layout(height='25px', width='50%'),…"
      ]
     },
     "metadata": {},
     "output_type": "display_data"
    }
   ],
   "source": [
    "mo_counts_pd = mo_counts.select(\"*\").toPandas()"
   ]
  },
  {
   "cell_type": "code",
   "execution_count": 27,
   "metadata": {},
   "outputs": [
    {
     "data": {
      "application/vnd.jupyter.widget-view+json": {
       "model_id": "7c8773db5d774ab6aada94c7610b6aa7",
       "version_major": 2,
       "version_minor": 0
      },
      "text/plain": [
       "VBox()"
      ]
     },
     "metadata": {},
     "output_type": "display_data"
    },
    {
     "data": {
      "application/vnd.jupyter.widget-view+json": {
       "model_id": "",
       "version_major": 2,
       "version_minor": 0
      },
      "text/plain": [
       "FloatProgress(value=0.0, bar_style='info', description='Progress:', layout=Layout(height='25px', width='50%'),…"
      ]
     },
     "metadata": {},
     "output_type": "display_data"
    },
    {
     "name": "stdout",
     "output_type": "stream",
     "text": [
      "    OBSERVATION_TYPE_CODE  YYYYMM  count\n",
      "61                     NR  201906  11548\n",
      "62                     NR  201908  11540\n",
      "63                     NR  201907  11324\n",
      "65                     NR  201909  10328\n",
      "330                    NR  201901  33655\n",
      "332                    NR  202005  31240\n",
      "334                    NR  202007  25156\n",
      "335                    NR  202006  24980\n",
      "336                    NR  201912  22908\n",
      "337                    NR  202008  20553\n",
      "338                    NR  201812  19799\n",
      "339                    NR  202001  19749\n",
      "340                    NR  201903  18053\n",
      "341                    NR  202004  16685\n",
      "342                    NR  202009  15846\n",
      "345                    NR  201810  13591\n",
      "346                    NR  201911  13429\n",
      "348                    NR  201809  13217\n",
      "351                    NR  201811  13128\n",
      "352                    NR  201902  13067\n",
      "354                    NR  202002  12459\n",
      "356                    NR  201905  12244\n",
      "357                    NR  201904  12214\n",
      "359                    NR  202003  12117\n",
      "360                    NR  201910  12075"
     ]
    }
   ],
   "source": [
    "mo_counts_nr = mo_counts_pd[mo_counts_pd['OBSERVATION_TYPE_CODE']=='NR']\n",
    "mo_counts_nr.head(25)"
   ]
  },
  {
   "cell_type": "code",
   "execution_count": 28,
   "metadata": {},
   "outputs": [
    {
     "data": {
      "application/vnd.jupyter.widget-view+json": {
       "model_id": "229497a130124f44bcdc0ae3be8883b7",
       "version_major": 2,
       "version_minor": 0
      },
      "text/plain": [
       "VBox()"
      ]
     },
     "metadata": {},
     "output_type": "display_data"
    },
    {
     "data": {
      "application/vnd.jupyter.widget-view+json": {
       "model_id": "",
       "version_major": 2,
       "version_minor": 0
      },
      "text/plain": [
       "FloatProgress(value=0.0, bar_style='info', description='Progress:', layout=Layout(height='25px', width='50%'),…"
      ]
     },
     "metadata": {},
     "output_type": "display_data"
    },
    {
     "name": "stdout",
     "output_type": "stream",
     "text": [
      "<string>:1: SettingWithCopyWarning: \n",
      "A value is trying to be set on a copy of a slice from a DataFrame.\n",
      "Try using .loc[row_indexer,col_indexer] = value instead\n",
      "\n",
      "See the caveats in the documentation: https://pandas.pydata.org/pandas-docs/stable/user_guide/indexing.html#returning-a-view-versus-a-copy"
     ]
    }
   ],
   "source": [
    "mo_counts_nr['YYYYMM'] = mo_counts_nr.YYYYMM.astype(int)"
   ]
  },
  {
   "cell_type": "code",
   "execution_count": 29,
   "metadata": {},
   "outputs": [
    {
     "data": {
      "application/vnd.jupyter.widget-view+json": {
       "model_id": "4a5b75992e244084897df7e4dad1d655",
       "version_major": 2,
       "version_minor": 0
      },
      "text/plain": [
       "VBox()"
      ]
     },
     "metadata": {},
     "output_type": "display_data"
    },
    {
     "data": {
      "application/vnd.jupyter.widget-view+json": {
       "model_id": "",
       "version_major": 2,
       "version_minor": 0
      },
      "text/plain": [
       "FloatProgress(value=0.0, bar_style='info', description='Progress:', layout=Layout(height='25px', width='50%'),…"
      ]
     },
     "metadata": {},
     "output_type": "display_data"
    }
   ],
   "source": [
    "plt.clf()"
   ]
  },
  {
   "cell_type": "code",
   "execution_count": 30,
   "metadata": {},
   "outputs": [
    {
     "data": {
      "application/vnd.jupyter.widget-view+json": {
       "model_id": "0a5419f3c5874d2d886401919d597016",
       "version_major": 2,
       "version_minor": 0
      },
      "text/plain": [
       "VBox()"
      ]
     },
     "metadata": {},
     "output_type": "display_data"
    },
    {
     "data": {
      "application/vnd.jupyter.widget-view+json": {
       "model_id": "",
       "version_major": 2,
       "version_minor": 0
      },
      "text/plain": [
       "FloatProgress(value=0.0, bar_style='info', description='Progress:', layout=Layout(height='25px', width='50%'),…"
      ]
     },
     "metadata": {},
     "output_type": "display_data"
    }
   ],
   "source": [
    "import matplotlib.pyplot as plt\n",
    "import seaborn as sns\n",
    "counts_nr_sorted = mo_counts_nr.nlargest(columns=\"YYYYMM\", n = 50) \n",
    "ax = sns.barplot(data=counts_nr_sorted, x= \"YYYYMM\", y = \"count\", color=\"b\") \n",
    "plt.xticks(rotation=90)\n",
    "plt.show()\n",
    "#sns.lineplot(x=\"YYYYMM\", y=\"count\", data=mo_counts_nr)"
   ]
  },
  {
   "cell_type": "code",
   "execution_count": 31,
   "metadata": {},
   "outputs": [
    {
     "data": {
      "application/vnd.jupyter.widget-view+json": {
       "model_id": "",
       "version_major": 2,
       "version_minor": 0
      },
      "text/plain": [
       "FloatProgress(value=0.0, bar_style='info', description='Progress:', layout=Layout(height='25px', width='50%'),…"
      ]
     },
     "metadata": {},
     "output_type": "display_data"
    },
    {
     "data": {
      "image/png": "[encoded data removed]",
      "text/plain": [
       "<IPython.core.display.Image object>"
      ]
     },
     "metadata": {},
     "output_type": "display_data"
    }
   ],
   "source": [
    "%matplot plt"
   ]
  },
  {
   "cell_type": "code",
   "execution_count": null,
   "metadata": {},
   "outputs": [],
   "source": []
  },
  {
   "cell_type": "code",
   "execution_count": 18,
   "metadata": {},
   "outputs": [
    {
     "data": {
      "application/vnd.jupyter.widget-view+json": {
       "model_id": "2dd8e05916df43d0b7e9887041e93162",
       "version_major": 2,
       "version_minor": 0
      },
      "text/plain": [
       "VBox()"
      ]
     },
     "metadata": {},
     "output_type": "display_data"
    },
    {
     "data": {
      "application/vnd.jupyter.widget-view+json": {
       "model_id": "",
       "version_major": 2,
       "version_minor": 0
      },
      "text/plain": [
       "FloatProgress(value=0.0, bar_style='info', description='Progress:', layout=Layout(height='25px', width='50%'),…"
      ]
     },
     "metadata": {},
     "output_type": "display_data"
    },
    {
     "name": "stdout",
     "output_type": "stream",
     "text": [
      "+---------------------+----------+\n",
      "|OBSERVATION_TYPE_CODE|AVG_RATING|\n",
      "+---------------------+----------+\n",
      "|                  URL|  3.321702|\n",
      "|                   US|  4.148026|\n",
      "|                   SA|  2.538515|\n",
      "|                   CV|  4.491018|\n",
      "|                  FRD|  4.576546|\n",
      "|                   CR|  3.507500|\n",
      "|                   CS|  2.305436|\n",
      "|                  EWL|  3.640893|\n",
      "|                  PII|  4.312934|\n",
      "|                   NR|  2.561687|\n",
      "|                   FL|  4.077466|\n",
      "|                  TST|  4.271495|\n",
      "|                  PIM|  3.036944|\n",
      "|                   CC|  2.904481|\n",
      "|                   PR|  2.939970|\n",
      "|                   LC|  1.429668|\n",
      "|                 null|  4.410663|\n",
      "|                   SC|  1.883424|\n",
      "|                  WEB|  2.082060|\n",
      "|                   DC|  4.129532|\n",
      "+---------------------+----------+"
     ]
    }
   ],
   "source": [
    "rating=reviews.groupBy('OBSERVATION_TYPE_CODE').mean('REVIEW_RATING').withColumnRenamed('avg(REVIEW_RATING)','AVG_RATING')\n",
    "rating.show(25)"
   ]
  },
  {
   "cell_type": "code",
   "execution_count": 19,
   "metadata": {},
   "outputs": [
    {
     "data": {
      "application/vnd.jupyter.widget-view+json": {
       "model_id": "bc4a25e88e124a3b806a4c0b0cab522e",
       "version_major": 2,
       "version_minor": 0
      },
      "text/plain": [
       "VBox()"
      ]
     },
     "metadata": {},
     "output_type": "display_data"
    },
    {
     "data": {
      "application/vnd.jupyter.widget-view+json": {
       "model_id": "",
       "version_major": 2,
       "version_minor": 0
      },
      "text/plain": [
       "FloatProgress(value=0.0, bar_style='info', description='Progress:', layout=Layout(height='25px', width='50%'),…"
      ]
     },
     "metadata": {},
     "output_type": "display_data"
    },
    {
     "name": "stdout",
     "output_type": "stream",
     "text": [
      "   OBSERVATION_TYPE_CODE AVG_RATING\n",
      "7                    FRD     4.5765\n",
      "1                     CV     4.4910\n",
      "15                  None     4.4107\n",
      "9                    PII     4.3129\n",
      "4                    TST     4.2715\n",
      "12                    US     4.1480\n",
      "19                    DC     4.1295\n",
      "16                    FL     4.0775\n",
      "8                    EWL     3.6409\n",
      "6                     CR     3.5075\n",
      "11                   URL     3.3217\n",
      "2                    PIM     3.0369\n",
      "13                    PR     2.9400\n",
      "3                     CC     2.9045\n",
      "10                    NR     2.5617\n",
      "0                     SA     2.5385\n",
      "5                     CS     2.3054\n",
      "17                   WEB     2.0821\n",
      "18                    SC     1.8834\n",
      "14                    LC     1.4297"
     ]
    }
   ],
   "source": [
    "rating_pd = rating.select(\"*\").toPandas()\n",
    "rating_pd.sort_values(by='AVG_RATING', ascending = False)\n"
   ]
  },
  {
   "cell_type": "code",
   "execution_count": 20,
   "metadata": {},
   "outputs": [
    {
     "data": {
      "application/vnd.jupyter.widget-view+json": {
       "model_id": "7194da74eb9f40cfaed44afa9d86c7e3",
       "version_major": 2,
       "version_minor": 0
      },
      "text/plain": [
       "VBox()"
      ]
     },
     "metadata": {},
     "output_type": "display_data"
    },
    {
     "data": {
      "application/vnd.jupyter.widget-view+json": {
       "model_id": "",
       "version_major": 2,
       "version_minor": 0
      },
      "text/plain": [
       "FloatProgress(value=0.0, bar_style='info', description='Progress:', layout=Layout(height='25px', width='50%'),…"
      ]
     },
     "metadata": {},
     "output_type": "display_data"
    }
   ],
   "source": [
    "rating_pd['AVG_RATING'] = rating_pd.AVG_RATING.astype(float)"
   ]
  },
  {
   "cell_type": "code",
   "execution_count": 21,
   "metadata": {},
   "outputs": [
    {
     "data": {
      "application/vnd.jupyter.widget-view+json": {
       "model_id": "cfda107beb54495d9f36bdfb3907fc08",
       "version_major": 2,
       "version_minor": 0
      },
      "text/plain": [
       "VBox()"
      ]
     },
     "metadata": {},
     "output_type": "display_data"
    },
    {
     "data": {
      "application/vnd.jupyter.widget-view+json": {
       "model_id": "",
       "version_major": 2,
       "version_minor": 0
      },
      "text/plain": [
       "FloatProgress(value=0.0, bar_style='info', description='Progress:', layout=Layout(height='25px', width='50%'),…"
      ]
     },
     "metadata": {},
     "output_type": "display_data"
    },
    {
     "name": "stdout",
     "output_type": "stream",
     "text": [
      "  OBSERVATION_TYPE_CODE  AVG_RATING\n",
      "0                    SA      2.5385\n",
      "1                    CV      4.4910\n",
      "2                   PIM      3.0369\n",
      "3                    CC      2.9045\n",
      "4                   TST      4.2715"
     ]
    }
   ],
   "source": [
    "rating_pd.head()"
   ]
  },
  {
   "cell_type": "code",
   "execution_count": 22,
   "metadata": {},
   "outputs": [
    {
     "data": {
      "application/vnd.jupyter.widget-view+json": {
       "model_id": "4d237380ff7c4e64b67becab3ab98d5a",
       "version_major": 2,
       "version_minor": 0
      },
      "text/plain": [
       "VBox()"
      ]
     },
     "metadata": {},
     "output_type": "display_data"
    },
    {
     "data": {
      "application/vnd.jupyter.widget-view+json": {
       "model_id": "",
       "version_major": 2,
       "version_minor": 0
      },
      "text/plain": [
       "FloatProgress(value=0.0, bar_style='info', description='Progress:', layout=Layout(height='25px', width='50%'),…"
      ]
     },
     "metadata": {},
     "output_type": "display_data"
    }
   ],
   "source": [
    "plt.clf()"
   ]
  },
  {
   "cell_type": "code",
   "execution_count": 23,
   "metadata": {},
   "outputs": [
    {
     "data": {
      "application/vnd.jupyter.widget-view+json": {
       "model_id": "6e6642d0e3294eda9d4fdc620e79f55b",
       "version_major": 2,
       "version_minor": 0
      },
      "text/plain": [
       "VBox()"
      ]
     },
     "metadata": {},
     "output_type": "display_data"
    },
    {
     "data": {
      "application/vnd.jupyter.widget-view+json": {
       "model_id": "",
       "version_major": 2,
       "version_minor": 0
      },
      "text/plain": [
       "FloatProgress(value=0.0, bar_style='info', description='Progress:', layout=Layout(height='25px', width='50%'),…"
      ]
     },
     "metadata": {},
     "output_type": "display_data"
    }
   ],
   "source": [
    "import matplotlib.pyplot as plt\n",
    "import seaborn as sns\n",
    "rating_sorted = rating_pd.nlargest(columns=\"AVG_RATING\", n = 50) \n",
    "ax = sns.barplot(data=rating_sorted, x= \"AVG_RATING\", y = \"OBSERVATION_TYPE_CODE\", color=\"b\") \n",
    "#plt.xticks(rotation=90)\n",
    "plt.show()\n"
   ]
  },
  {
   "cell_type": "code",
   "execution_count": 24,
   "metadata": {},
   "outputs": [
    {
     "data": {
      "application/vnd.jupyter.widget-view+json": {
       "model_id": "",
       "version_major": 2,
       "version_minor": 0
      },
      "text/plain": [
       "FloatProgress(value=0.0, bar_style='info', description='Progress:', layout=Layout(height='25px', width='50%'),…"
      ]
     },
     "metadata": {},
     "output_type": "display_data"
    },
    {
     "data": {
      "image/png": "[encoded data removed]",
      "text/plain": [
       "<IPython.core.display.Image object>"
      ]
     },
     "metadata": {},
     "output_type": "display_data"
    }
   ],
   "source": [
    "%matplot plt"
   ]
  },
  {
   "cell_type": "code",
   "execution_count": null,
   "metadata": {},
   "outputs": [],
   "source": []
  },
  {
   "cell_type": "code",
   "execution_count": null,
   "metadata": {},
   "outputs": [],
   "source": []
  },
  {
   "cell_type": "code",
   "execution_count": null,
   "metadata": {},
   "outputs": [],
   "source": []
  },
  {
   "cell_type": "code",
   "execution_count": null,
   "metadata": {},
   "outputs": [],
   "source": []
  },
  {
   "cell_type": "code",
   "execution_count": null,
   "metadata": {},
   "outputs": [],
   "source": []
  },
  {
   "cell_type": "code",
   "execution_count": null,
   "metadata": {},
   "outputs": [],
   "source": []
  },
  {
   "cell_type": "code",
   "execution_count": null,
   "metadata": {},
   "outputs": [],
   "source": []
  },
  {
   "cell_type": "code",
   "execution_count": null,
   "metadata": {},
   "outputs": [],
   "source": []
  }
 ],
 "metadata": {
  "kernelspec": {
   "display_name": "PySpark",
   "language": "",
   "name": "pysparkkernel"
  },
  "language_info": {
   "codemirror_mode": {
    "name": "python",
    "version": 2
   },
   "mimetype": "text/x-python",
   "name": "pyspark",
   "pygments_lexer": "python2"
  }
 },
 "nbformat": 4,
 "nbformat_minor": 4
}
