{
 "cells": [
  {
   "cell_type": "code",
   "execution_count": 1,
   "metadata": {},
   "outputs": [
    {
     "data": {
      "application/vnd.jupyter.widget-view+json": {
       "model_id": "8bea455b0f514b8cb86f1b32e7c15142",
       "version_major": 2,
       "version_minor": 0
      },
      "text/plain": [
       "VBox()"
      ]
     },
     "metadata": {},
     "output_type": "display_data"
    },
    {
     "name": "stdout",
     "output_type": "stream",
     "text": [
      "Starting Spark application\n"
     ]
    },
    {
     "data": {
      "text/html": [
       "<table>\n",
       "<tr><th>ID</th><th>YARN Application ID</th><th>Kind</th><th>State</th><th>Spark UI</th><th>Driver log</th><th>Current session?</th></tr><tr><td>0</td><td>application_1602615539397_0001</td><td>pyspark</td><td>idle</td><td><a target=\"_blank\" href=\"http://ip-10-101-213-27.us-west-2.compute.internal:20888/proxy/application_1602615539397_0001/\">Link</a></td><td><a target=\"_blank\" href=\"http://ip-10-101-213-27.us-west-2.compute.internal:8042/node/containerlogs/container_1602615539397_0001_01_000001/livy\">Link</a></td><td>✔</td></tr></table>"
      ],
      "text/plain": [
       "<IPython.core.display.HTML object>"
      ]
     },
     "metadata": {},
     "output_type": "display_data"
    },
    {
     "data": {
      "application/vnd.jupyter.widget-view+json": {
       "model_id": "",
       "version_major": 2,
       "version_minor": 0
      },
      "text/plain": [
       "FloatProgress(value=0.0, bar_style='info', description='Progress:', layout=Layout(height='25px', width='50%'),…"
      ]
     },
     "metadata": {},
     "output_type": "display_data"
    },
    {
     "name": "stdout",
     "output_type": "stream",
     "text": [
      "SparkSession available as 'spark'.\n"
     ]
    },
    {
     "data": {
      "application/vnd.jupyter.widget-view+json": {
       "model_id": "",
       "version_major": 2,
       "version_minor": 0
      },
      "text/plain": [
       "FloatProgress(value=0.0, bar_style='info', description='Progress:', layout=Layout(height='25px', width='50%'),…"
      ]
     },
     "metadata": {},
     "output_type": "display_data"
    }
   ],
   "source": [
    "#Import packages\n",
    "import numpy as np\n",
    "from numpy import argmax\n",
    "import pyspark.sql.functions as F\n",
    "import snowflake.connector\n",
    "import pandas as pd\n",
    "import spacy\n",
    "#from sparknlp.base import Finisher, DocumentAssembler\n",
    "#from sparknlp.annotator import  Normalizer, LemmatizerModel, StopWordsCleaner, Tokenizer\n",
    "#from pyspark.ml import Pipeline\n",
    "#from pyspark.ml.feature import CountVectorizer, VectorAssembler, HashingTF, IDF, Tokenizer\n",
    "#from nltk.corpus import stopwords\n",
    "from sklearn.feature_extraction.text import TfidfVectorizer\n",
    "from sklearn.model_selection import train_test_split\n",
    "from scipy import sparse\n",
    "from sklearn.linear_model import LogisticRegression\n",
    "from sklearn.multiclass import OneVsRestClassifier\n",
    "from sklearn.metrics import f1_score, accuracy_score, recall_score, precision_score, confusion_matrix, plot_confusion_matrix, \\\n",
    "                            roc_curve, auc, classification_report, precision_recall_curve\n",
    "import matplotlib.pyplot as plt"
   ]
  },
  {
   "cell_type": "code",
   "execution_count": 2,
   "metadata": {},
   "outputs": [
    {
     "data": {
      "application/vnd.jupyter.widget-view+json": {
       "model_id": "32964d0012934652aae57ef191b01f0a",
       "version_major": 2,
       "version_minor": 0
      },
      "text/plain": [
       "VBox()"
      ]
     },
     "metadata": {},
     "output_type": "display_data"
    },
    {
     "data": {
      "application/vnd.jupyter.widget-view+json": {
       "model_id": "",
       "version_major": 2,
       "version_minor": 0
      },
      "text/plain": [
       "FloatProgress(value=0.0, bar_style='info', description='Progress:', layout=Layout(height='25px', width='50%'),…"
      ]
     },
     "metadata": {},
     "output_type": "display_data"
    }
   ],
   "source": [
    "#SPARK connection info\n",
    "sfOptions = {\n",
    "  'sfURL' : 'powerreviews.snowflakecomputing.com',\n",
    "  'sfAccount' : 'powerreviews',\n",
    "  'sfUser' : 'APP_SPARK_PROD',\n",
    "  'sfPassword' : '>6txhcQ*7&^Qrq`j',\n",
    "  'sfDatabase' : 'ANALYTICS_PROD',\n",
    "  'sfSchema' : 'ANALYTICS',\n",
    "  'sfWarehouse' : 'LOWER_ENV_WAREHOUSE'\n",
    "}\n",
    "SNOWFLAKE_SOURCE_NAME = \"net.snowflake.spark.snowflake\"\n",
    "\n",
    "#PYTHON connection info\n",
    "conn = snowflake.connector.connect(\n",
    "    account='powerreviews',\n",
    "    database='analytics_prod',\n",
    "    warehouse='LOWER_ENV_WAREHOUSE',\n",
    "    user='APP_SPARK_PROD',\n",
    "    password='>6txhcQ*7&^Qrq`j'\n",
    "    )"
   ]
  },
  {
   "cell_type": "code",
   "execution_count": 3,
   "metadata": {},
   "outputs": [
    {
     "data": {
      "application/vnd.jupyter.widget-view+json": {
       "model_id": "9966d36cf0f94986b7b491f8466ed84a",
       "version_major": 2,
       "version_minor": 0
      },
      "text/plain": [
       "VBox()"
      ]
     },
     "metadata": {},
     "output_type": "display_data"
    },
    {
     "data": {
      "application/vnd.jupyter.widget-view+json": {
       "model_id": "",
       "version_major": 2,
       "version_minor": 0
      },
      "text/plain": [
       "FloatProgress(value=0.0, bar_style='info', description='Progress:', layout=Layout(height='25px', width='50%'),…"
      ]
     },
     "metadata": {},
     "output_type": "display_data"
    }
   ],
   "source": [
    "#Use review data set to get observation codes bc they are already comma separated and less joins to perform\n",
    "#Still need observation set though to get observation created date\n",
    "#This is bc review could be from ages ago but we could have imported recently and moderated it\n",
    "#Want to make sure we include as many observation labels as possible for most accurate model\n",
    "\n"
   ]
  },
  {
   "cell_type": "code",
   "execution_count": 4,
   "metadata": {},
   "outputs": [
    {
     "data": {
      "application/vnd.jupyter.widget-view+json": {
       "model_id": "5abdb46c622f4f2fb62d76419810b608",
       "version_major": 2,
       "version_minor": 0
      },
      "text/plain": [
       "VBox()"
      ]
     },
     "metadata": {},
     "output_type": "display_data"
    },
    {
     "data": {
      "application/vnd.jupyter.widget-view+json": {
       "model_id": "",
       "version_major": 2,
       "version_minor": 0
      },
      "text/plain": [
       "FloatProgress(value=0.0, bar_style='info', description='Progress:', layout=Layout(height='25px', width='50%'),…"
      ]
     },
     "metadata": {},
     "output_type": "display_data"
    }
   ],
   "source": [
    "query = \"select distinct r.ugc_id, r.created_date, r.review_headline, \\\n",
    "r.review_comments, r.review_rating, r.reviewer_nickname, r.locale, r.observations, \\\n",
    "ADD IN CASE WHEN HERE \\\n",
    "from analytics.review as r \\\n",
    "left join cdm.observation as o \\\n",
    "on r.ugc_id = o.ugc_id \\\n",
    "where contains(r.observations, 'PM') \\\n",
    "and r.locale in ('en_US','en_GB','en_CA') \\\n",
    "and o.created_date > '2020-09-23'  \\\n",
    "limit 100\""
   ]
  },
  {
   "cell_type": "code",
   "execution_count": 5,
   "metadata": {},
   "outputs": [
    {
     "data": {
      "application/vnd.jupyter.widget-view+json": {
       "model_id": "9f5fcacfbd0444ed8375c6893a33af10",
       "version_major": 2,
       "version_minor": 0
      },
      "text/plain": [
       "VBox()"
      ]
     },
     "metadata": {},
     "output_type": "display_data"
    },
    {
     "data": {
      "application/vnd.jupyter.widget-view+json": {
       "model_id": "",
       "version_major": 2,
       "version_minor": 0
      },
      "text/plain": [
       "FloatProgress(value=0.0, bar_style='info', description='Progress:', layout=Layout(height='25px', width='50%'),…"
      ]
     },
     "metadata": {},
     "output_type": "display_data"
    }
   ],
   "source": [
    "#Careful not to get CNR for NR\n",
    "#CNR, NR, PM - contains(r.observations, ',NR,')\n",
    "#NR, PM - substring(r.observations, 1, 2) = 'NR'\n",
    "#CNR, PM - DONT WANT\n",
    "#Careful not to get SSC for SC\n",
    "#PM, SC - \n",
    "#PM, SSC - DONT WANT\n",
    "#PM, SC, SSC\n",
    "#18 labels total - not including PM (doesn't yet include NOLABEL label - 19 labels with that)\n",
    "query_testing = \"select distinct r.ugc_id, r.created_date, r.review_headline, \\\n",
    "r.review_comments, r.review_rating, r.reviewer_nickname, r.reviewer_location, r.observations, \\\n",
    "case when contains(r.observations, 'PM') then 1 else 0 end as PM, \\\n",
    "case when (contains(r.observations, ',NR,') or substring(r.observations, 1, 2) = 'NR')  then 1 else 0 end as NR, \\\n",
    "case when contains(r.observations, 'PII') then 1 else 0 end as PII, \\\n",
    "case when contains(r.observations, 'PR') then 1 else 0 end as PR, \\\n",
    "case when contains(r.observations, 'CS') then 1 else 0 end as CS, \\\n",
    "case when contains(r.observations, 'DC') then 1 else 0 end as DC, \\\n",
    "case when contains(r.observations, 'CR') then 1 else 0 end as CR, \\\n",
    "case when contains(r.observations, 'FRD') then 1 else 0 end as FRD, \\\n",
    "case when contains(r.observations, 'TST') then 1 else 0 end as TST, \\\n",
    "case when contains(r.observations, 'CC') then 1 else 0 end as CC, \\\n",
    "case when contains(r.observations, ',SC') then 1 else 0 end as SC, \\\n",
    "case when contains(r.observations, 'PIM') then 1 else 0 end as PIM, \\\n",
    "case when contains(r.observations, 'LC') then 1 else 0 end as LC, \\\n",
    "case when contains(r.observations, 'WEB') then 1 else 0 end as WEB, \\\n",
    "case when contains(r.observations, 'FL') then 1 else 0 end as FL, \\\n",
    "case when contains(r.observations, 'SA') then 1 else 0 end as SA, \\\n",
    "case when contains(r.observations, 'URL') then 1 else 0 end as URL, \\\n",
    "case when contains(r.observations, 'CV') then 1 else 0 end as CV, \\\n",
    "case when contains(r.observations, 'US') then 1 else 0 end as US \\\n",
    "from analytics.review as r \\\n",
    "left join cdm.observation as o \\\n",
    "on r.ugc_id = o.ugc_id \\\n",
    "where contains(r.observations, 'PM') \\\n",
    "and r.locale in ('en_US','en_GB','en_CA') \\\n",
    "and o.created_date > '2020-01-01' \""
   ]
  },
  {
   "cell_type": "code",
   "execution_count": 6,
   "metadata": {},
   "outputs": [
    {
     "data": {
      "application/vnd.jupyter.widget-view+json": {
       "model_id": "886812124c8242588eede9e33244173b",
       "version_major": 2,
       "version_minor": 0
      },
      "text/plain": [
       "VBox()"
      ]
     },
     "metadata": {},
     "output_type": "display_data"
    },
    {
     "data": {
      "application/vnd.jupyter.widget-view+json": {
       "model_id": "",
       "version_major": 2,
       "version_minor": 0
      },
      "text/plain": [
       "FloatProgress(value=0.0, bar_style='info', description='Progress:', layout=Layout(height='25px', width='50%'),…"
      ]
     },
     "metadata": {},
     "output_type": "display_data"
    },
    {
     "name": "stdout",
     "output_type": "stream",
     "text": [
      "       UGC_ID         CREATED_DATE  ... CV US\n",
      "0   292594820  2018-07-14 00:00:00  ...  0  0\n",
      "1   292599288  2019-11-24 00:00:00  ...  0  0\n",
      "2   304831145  2018-12-03 11:37:34  ...  0  0\n",
      "3   273217645  2020-04-22 10:32:41  ...  0  0\n",
      "4   264497280  2020-01-05 04:52:03  ...  0  0\n",
      "..        ...                  ...  ... .. ..\n",
      "95  290294707  2018-09-12 00:00:00  ...  0  0\n",
      "96  290474770  2018-08-13 00:00:00  ...  0  0\n",
      "97  292003415  2020-08-16 08:23:57  ...  0  0\n",
      "98  289753709  2019-10-31 00:00:00  ...  0  0\n",
      "99  291552858  2020-06-08 17:00:00  ...  0  0\n",
      "\n",
      "[100 rows x 27 columns]"
     ]
    }
   ],
   "source": [
    "#pd.set_option('display.max_colwidth', -1)\n",
    "#pd.set_option('display.max_columns', None)\n",
    "#pd.set_option('display.max_rows', None)\n",
    "reviews = pd.read_sql(query_testing, conn)\n",
    "reviews.head(100)\n",
    "#reviews.info()\n",
    "\n",
    "#PULLING IN ALL REVIEWS SINCE '2018-10-01' (64,908,446) TAKES ~15 MINS\n",
    "\n",
    "#PULLING IN ALL REVIEWS SINCE '2020-01-01' (30,174,364) TAKES ~15 MINS (Not any shorter?)"
   ]
  },
  {
   "cell_type": "code",
   "execution_count": 7,
   "metadata": {},
   "outputs": [
    {
     "data": {
      "application/vnd.jupyter.widget-view+json": {
       "model_id": "2cade1421f694140b3ac86d52f92e99a",
       "version_major": 2,
       "version_minor": 0
      },
      "text/plain": [
       "VBox()"
      ]
     },
     "metadata": {},
     "output_type": "display_data"
    },
    {
     "data": {
      "application/vnd.jupyter.widget-view+json": {
       "model_id": "",
       "version_major": 2,
       "version_minor": 0
      },
      "text/plain": [
       "FloatProgress(value=0.0, bar_style='info', description='Progress:', layout=Layout(height='25px', width='50%'),…"
      ]
     },
     "metadata": {},
     "output_type": "display_data"
    },
    {
     "name": "stdout",
     "output_type": "stream",
     "text": [
      "<class 'pandas.core.frame.DataFrame'>\n",
      "RangeIndex: 30174364 entries, 0 to 30174363\n",
      "Data columns (total 27 columns):\n",
      " #   Column             Dtype \n",
      "---  ------             ----- \n",
      " 0   UGC_ID             int64 \n",
      " 1   CREATED_DATE       object\n",
      " 2   REVIEW_HEADLINE    object\n",
      " 3   REVIEW_COMMENTS    object\n",
      " 4   REVIEW_RATING      int64 \n",
      " 5   REVIEWER_NICKNAME  object\n",
      " 6   REVIEWER_LOCATION  object\n",
      " 7   OBSERVATIONS       object\n",
      " 8   PM                 int64 \n",
      " 9   NR                 int64 \n",
      " 10  PII                int64 \n",
      " 11  PR                 int64 \n",
      " 12  CS                 int64 \n",
      " 13  DC                 int64 \n",
      " 14  CR                 int64 \n",
      " 15  FRD                int64 \n",
      " 16  TST                int64 \n",
      " 17  CC                 int64 \n",
      " 18  SC                 int64 \n",
      " 19  PIM                int64 \n",
      " 20  LC                 int64 \n",
      " 21  WEB                int64 \n",
      " 22  FL                 int64 \n",
      " 23  SA                 int64 \n",
      " 24  URL                int64 \n",
      " 25  CV                 int64 \n",
      " 26  US                 int64 \n",
      "dtypes: int64(21), object(6)\n",
      "memory usage: 6.1+ GB"
     ]
    }
   ],
   "source": [
    "reviews.info()"
   ]
  },
  {
   "cell_type": "code",
   "execution_count": 8,
   "metadata": {},
   "outputs": [
    {
     "data": {
      "application/vnd.jupyter.widget-view+json": {
       "model_id": "5f261327c66c4214b291470bb8f79d0d",
       "version_major": 2,
       "version_minor": 0
      },
      "text/plain": [
       "VBox()"
      ]
     },
     "metadata": {},
     "output_type": "display_data"
    },
    {
     "data": {
      "application/vnd.jupyter.widget-view+json": {
       "model_id": "",
       "version_major": 2,
       "version_minor": 0
      },
      "text/plain": [
       "FloatProgress(value=0.0, bar_style='info', description='Progress:', layout=Layout(height='25px', width='50%'),…"
      ]
     },
     "metadata": {},
     "output_type": "display_data"
    }
   ],
   "source": [
    "#reviews.loc[reviews['REVIEWER_LOCATION'] == 'US', 'REVIEWER_LOCATION'] = 'USA'\n",
    "\n",
    "#reviews['REVIEWER_LOCATION'].head(500)"
   ]
  },
  {
   "cell_type": "code",
   "execution_count": 9,
   "metadata": {},
   "outputs": [
    {
     "data": {
      "application/vnd.jupyter.widget-view+json": {
       "model_id": "487a7c8156d74f0cb5039bfd7eedc36a",
       "version_major": 2,
       "version_minor": 0
      },
      "text/plain": [
       "VBox()"
      ]
     },
     "metadata": {},
     "output_type": "display_data"
    },
    {
     "data": {
      "application/vnd.jupyter.widget-view+json": {
       "model_id": "",
       "version_major": 2,
       "version_minor": 0
      },
      "text/plain": [
       "FloatProgress(value=0.0, bar_style='info', description='Progress:', layout=Layout(height='25px', width='50%'),…"
      ]
     },
     "metadata": {},
     "output_type": "display_data"
    }
   ],
   "source": [
    "#Use set_option so text doesn't truncate\n",
    "#pd.set_option('display.max_colwidth', -1)\n",
    "#pd.set_option('display.max_columns', None)\n",
    "#pd.set_option('display.max_rows', None)\n",
    "#reviews['LABEL_SUM']= reviews.iloc[:, -18:-1].sum(axis=1)\n",
    "#reviews"
   ]
  },
  {
   "cell_type": "code",
   "execution_count": 10,
   "metadata": {},
   "outputs": [
    {
     "data": {
      "application/vnd.jupyter.widget-view+json": {
       "model_id": "ebbbf0e4abeb43b5ac2b29ee2b15c345",
       "version_major": 2,
       "version_minor": 0
      },
      "text/plain": [
       "VBox()"
      ]
     },
     "metadata": {},
     "output_type": "display_data"
    },
    {
     "data": {
      "application/vnd.jupyter.widget-view+json": {
       "model_id": "",
       "version_major": 2,
       "version_minor": 0
      },
      "text/plain": [
       "FloatProgress(value=0.0, bar_style='info', description='Progress:', layout=Layout(height='25px', width='50%'),…"
      ]
     },
     "metadata": {},
     "output_type": "display_data"
    }
   ],
   "source": [
    "#LOOK AT OTHER LABELS - IF NONE THEN ADD NOLABEL = 1\n",
    "#df['new column name'] = df['column name'].apply(lambda x: 'value if condition is met' if x condition else 'value if condition is not met')\n",
    "#reviews['NOLABEL'] = reviews['LABEL_SUM'].apply(lambda x: int(1) if x==0 else int(0))\n",
    "\n",
    "#df.loc[df['set_of_numbers'] <= 4, 'equal_or_lower_than_4?'] = 'True' \n",
    "#reviews.loc[reviews['NOLABEL'] == 0, 'TEST'] = 1\n",
    "#df['Fruit Total']= df.iloc[:, -4:-1].sum(axis=1)\n",
    "#reviews"
   ]
  },
  {
   "cell_type": "code",
   "execution_count": 11,
   "metadata": {},
   "outputs": [
    {
     "data": {
      "application/vnd.jupyter.widget-view+json": {
       "model_id": "f7a8c60f641143e49c1917971fad0b59",
       "version_major": 2,
       "version_minor": 0
      },
      "text/plain": [
       "VBox()"
      ]
     },
     "metadata": {},
     "output_type": "display_data"
    },
    {
     "data": {
      "application/vnd.jupyter.widget-view+json": {
       "model_id": "",
       "version_major": 2,
       "version_minor": 0
      },
      "text/plain": [
       "FloatProgress(value=0.0, bar_style='info', description='Progress:', layout=Layout(height='25px', width='50%'),…"
      ]
     },
     "metadata": {},
     "output_type": "display_data"
    }
   ],
   "source": [
    "#reviews2 = reviews.drop(['LABEL_SUM'], axis=1)\n",
    "#reviews2"
   ]
  },
  {
   "cell_type": "code",
   "execution_count": 12,
   "metadata": {},
   "outputs": [
    {
     "data": {
      "application/vnd.jupyter.widget-view+json": {
       "model_id": "66acb2fc1e3d4a4e835664ecfc40e4da",
       "version_major": 2,
       "version_minor": 0
      },
      "text/plain": [
       "VBox()"
      ]
     },
     "metadata": {},
     "output_type": "display_data"
    },
    {
     "data": {
      "application/vnd.jupyter.widget-view+json": {
       "model_id": "",
       "version_major": 2,
       "version_minor": 0
      },
      "text/plain": [
       "FloatProgress(value=0.0, bar_style='info', description='Progress:', layout=Layout(height='25px', width='50%'),…"
      ]
     },
     "metadata": {},
     "output_type": "display_data"
    }
   ],
   "source": [
    "#reviews = reviews2\n",
    "#reviews"
   ]
  },
  {
   "cell_type": "code",
   "execution_count": 13,
   "metadata": {},
   "outputs": [
    {
     "data": {
      "application/vnd.jupyter.widget-view+json": {
       "model_id": "8cec4a43c2c647d2ae27cb76bb8fa774",
       "version_major": 2,
       "version_minor": 0
      },
      "text/plain": [
       "VBox()"
      ]
     },
     "metadata": {},
     "output_type": "display_data"
    },
    {
     "data": {
      "application/vnd.jupyter.widget-view+json": {
       "model_id": "",
       "version_major": 2,
       "version_minor": 0
      },
      "text/plain": [
       "FloatProgress(value=0.0, bar_style='info', description='Progress:', layout=Layout(height='25px', width='50%'),…"
      ]
     },
     "metadata": {},
     "output_type": "display_data"
    },
    {
     "name": "stdout",
     "output_type": "stream",
     "text": [
      "UGC_ID                int64\n",
      "CREATED_DATE         object\n",
      "REVIEW_HEADLINE      object\n",
      "REVIEW_COMMENTS      object\n",
      "REVIEW_RATING         int64\n",
      "REVIEWER_NICKNAME    object\n",
      "REVIEWER_LOCATION    object\n",
      "OBSERVATIONS         object\n",
      "PM                    int64\n",
      "NR                    int64\n",
      "PII                   int64\n",
      "PR                    int64\n",
      "CS                    int64\n",
      "DC                    int64\n",
      "CR                    int64\n",
      "FRD                   int64\n",
      "TST                   int64\n",
      "CC                    int64\n",
      "SC                    int64\n",
      "PIM                   int64\n",
      "LC                    int64\n",
      "WEB                   int64\n",
      "FL                    int64\n",
      "SA                    int64\n",
      "URL                   int64\n",
      "CV                    int64\n",
      "US                    int64\n",
      "dtype: object"
     ]
    }
   ],
   "source": [
    "reviews.dtypes"
   ]
  },
  {
   "cell_type": "code",
   "execution_count": 14,
   "metadata": {},
   "outputs": [
    {
     "data": {
      "application/vnd.jupyter.widget-view+json": {
       "model_id": "a7003d58004a4ffeb02c6811da265549",
       "version_major": 2,
       "version_minor": 0
      },
      "text/plain": [
       "VBox()"
      ]
     },
     "metadata": {},
     "output_type": "display_data"
    },
    {
     "data": {
      "application/vnd.jupyter.widget-view+json": {
       "model_id": "",
       "version_major": 2,
       "version_minor": 0
      },
      "text/plain": [
       "FloatProgress(value=0.0, bar_style='info', description='Progress:', layout=Layout(height='25px', width='50%'),…"
      ]
     },
     "metadata": {},
     "output_type": "display_data"
    },
    {
     "name": "stdout",
     "output_type": "stream",
     "text": [
      "       UGC_ID         CREATED_DATE                           REVIEW_HEADLINE  \\\n",
      "0   292594820  2018-07-14 00:00:00  Review title not submitted by reviewer.    \n",
      "1   292599288  2019-11-24 00:00:00  Review title not submitted by reviewer..   \n",
      "2   304831145  2018-12-03 11:37:34  Very comfortable and breathable            \n",
      "3   273217645  2020-04-22 10:32:41  Perfect side table                         \n",
      "4   264497280  2020-01-05 04:52:03  I would buy this t-shirt                   \n",
      "..        ...                  ...                       ...                   \n",
      "95  290294707  2018-09-12 00:00:00  Not submitted by reviewer.                 \n",
      "96  290474770  2018-08-13 00:00:00  Great Addition to College Clothes          \n",
      "97  292003415  2020-08-16 08:23:57  Yes                                        \n",
      "98  289753709  2019-10-31 00:00:00  Really cute skirt!!                        \n",
      "99  291552858  2020-06-08 17:00:00  Review title not submitted by reviewer.    \n",
      "\n",
      "                                                                                                                                                                                  REVIEW_COMMENTS  \\\n",
      "0   See other reviews for more detailed feedback.                                                                                                                                                   \n",
      "1   These are my new \"go to\" earrings for events I'm attending!  They're so elegant & pretty!!                                                                                                      \n",
      "2   Love this work out top. It's very comfortable and keeps me cool when running.                                                                                                                   \n",
      "3   This table is perfect in every way. We bought one last year and got another one since we use it so much.                                                                                        \n",
      "4   Smart t-shirt good sizing washes well                                                                                                                                                           \n",
      "..                                    ...                                                                                                                                                           \n",
      "95  This top is so comfy and soft!  I bought two different ones just because you can't go wrong with a comfy v neck                                                                                 \n",
      "96  My youngest child has just gone to college. She ordered these for part of her college attire. She has another pair and LOVES them tremendously----that's why she wanted another pair.Kimbo      \n",
      "97  Like it.                                                                                                                                                                                        \n",
      "98  Just recieved my order...so glad that I ordered this skirt!! I'm a 6 or 8 at old navy depending on the amount of stretch. I ordered the 6 and it fits great! I'm 5'3 122lbs. Great price too!   \n",
      "99  The blouse was ok, didn't like the fit and quality was cheap. Sent back this item.                                                                                                              \n",
      "\n",
      "    REVIEW_RATING REVIEWER_NICKNAME      REVIEWER_LOCATION OBSERVATIONS  PM  \\\n",
      "0   5              Maria             Undisclosed            IA,PM        1    \n",
      "1   5              Beth              Undisclosed            IA,PM        1    \n",
      "2   5              DanielleH         Willow Grove,pa        IA,PM        1    \n",
      "3   5              ANN               Undisclosed            PM           1    \n",
      "4   5              Lyndsay           Undisclosed            PM           1    \n",
      ".. ..                  ...                   ...            ..          ..    \n",
      "95  5              Glen              Undisclosed            IA,PM        1    \n",
      "96  5              Kimbo             Example: New York, NY  IA,PM        1    \n",
      "97  4              Marc              Undisclosed            PM           1    \n",
      "98  5              Mom2snm           Virginia               IA,PM        1    \n",
      "99  2              Terry             Undisclosed            IA,PM        1    \n",
      "\n",
      "    NR  PII  PR  CS  DC  CR  FRD  TST  CC  SC  PIM  LC  WEB  FL  SA  URL  CV  \\\n",
      "0   0   0    0   0   0   0   0    0    0   0   0    0   0    0   0   0    0    \n",
      "1   0   0    0   0   0   0   0    0    0   0   0    0   0    0   0   0    0    \n",
      "2   0   0    0   0   0   0   0    0    0   0   0    0   0    0   0   0    0    \n",
      "3   0   0    0   0   0   0   0    0    0   0   0    0   0    0   0   0    0    \n",
      "4   0   0    0   0   0   0   0    0    0   0   0    0   0    0   0   0    0    \n",
      ".. ..  ..   ..  ..  ..  ..  ..   ..   ..  ..  ..   ..  ..   ..  ..  ..   ..    \n",
      "95  0   0    0   0   0   0   0    0    0   0   0    0   0    0   0   0    0    \n",
      "96  0   0    0   0   0   0   0    0    0   0   0    0   0    0   0   0    0    \n",
      "97  0   0    0   0   0   0   0    0    0   0   0    0   0    0   0   0    0    \n",
      "98  0   0    0   0   0   0   0    0    0   0   0    0   0    0   0   0    0    \n",
      "99  0   0    0   0   0   0   0    0    0   0   0    0   0    0   0   0    0    \n",
      "\n",
      "    US  \\\n",
      "0   0    \n",
      "1   0    \n",
      "2   0    \n",
      "3   0    \n",
      "4   0    \n",
      ".. ..    \n",
      "95  0    \n",
      "96  0    \n",
      "97  0    \n",
      "98  0    \n",
      "99  0    \n",
      "\n",
      "                                                                                                                                                                                                                                         ALL_TEXT  \n",
      "0   headline Review title not submitted by reviewer. comment See other reviews for more detailed feedback.                                                                                                                                         \n",
      "1   headline Review title not submitted by reviewer.. comment These are my new \"go to\" earrings for events I'm attending!  They're so elegant & pretty!!                                                                                           \n",
      "2   headline Very comfortable and breathable comment Love this work out top. It's very comfortable and keeps me cool when running.                                                                                                                 \n",
      "3   headline Perfect side table comment This table is perfect in every way. We bought one last year and got another one since we use it so much.                                                                                                   \n",
      "4   headline I would buy this t-shirt comment Smart t-shirt good sizing washes well                                                                                                                                                                \n",
      "..                                                                              ...                                                                                                                                                                \n",
      "95  headline Not submitted by reviewer. comment This top is so comfy and soft!  I bought two different ones just because you can't go wrong with a comfy v neck                                                                                    \n",
      "96  headline Great Addition to College Clothes comment My youngest child has just gone to college. She ordered these for part of her college attire. She has another pair and LOVES them tremendously----that's why she wanted another pair.Kimbo  \n",
      "97  headline Yes comment Like it.                                                                                                                                                                                                                  \n",
      "98  headline Really cute skirt!! comment Just recieved my order...so glad that I ordered this skirt!! I'm a 6 or 8 at old navy depending on the amount of stretch. I ordered the 6 and it fits great! I'm 5'3 122lbs. Great price too!             \n",
      "99  headline Review title not submitted by reviewer. comment The blouse was ok, didn't like the fit and quality was cheap. Sent back this item.                                                                                                    \n",
      "\n",
      "[100 rows x 28 columns]\n",
      "<string>:5: FutureWarning: Passing a negative integer is deprecated in version 1.0 and will not be supported in future version. Instead, use None to not limit the column width."
     ]
    }
   ],
   "source": [
    "#reviews['ALL_TEXT'] = 'headline ' + reviews['REVIEW_HEADLINE'] + ' comment ' + reviews['REVIEW_COMMENTS'] + \\\n",
    "#        ' nickname ' + reviews['REVIEWER_NICKNAME'] + ' location ' + reviews['REVIEWER_LOCATION']\n",
    "reviews['ALL_TEXT'] = 'headline ' + reviews['REVIEW_HEADLINE'] + ' comment ' + reviews['REVIEW_COMMENTS']\n",
    "#Use set_option so text doesn't truncate\n",
    "pd.set_option('display.max_colwidth', -1)\n",
    "pd.set_option('display.max_columns', None)\n",
    "reviews.head(100)\n",
    "\n",
    "#reviews.dtypes"
   ]
  },
  {
   "cell_type": "code",
   "execution_count": 15,
   "metadata": {},
   "outputs": [
    {
     "data": {
      "application/vnd.jupyter.widget-view+json": {
       "model_id": "cfa8c1b4be71444b896ae160a93673e5",
       "version_major": 2,
       "version_minor": 0
      },
      "text/plain": [
       "VBox()"
      ]
     },
     "metadata": {},
     "output_type": "display_data"
    },
    {
     "data": {
      "application/vnd.jupyter.widget-view+json": {
       "model_id": "",
       "version_major": 2,
       "version_minor": 0
      },
      "text/plain": [
       "FloatProgress(value=0.0, bar_style='info', description='Progress:', layout=Layout(height='25px', width='50%'),…"
      ]
     },
     "metadata": {},
     "output_type": "display_data"
    },
    {
     "name": "stdout",
     "output_type": "stream",
     "text": [
      "UGC_ID               int64 \n",
      "CREATED_DATE         object\n",
      "REVIEW_HEADLINE      object\n",
      "REVIEW_COMMENTS      object\n",
      "REVIEW_RATING        int64 \n",
      "REVIEWER_NICKNAME    object\n",
      "REVIEWER_LOCATION    object\n",
      "OBSERVATIONS         object\n",
      "PM                   int64 \n",
      "NR                   int64 \n",
      "PII                  int64 \n",
      "PR                   int64 \n",
      "CS                   int64 \n",
      "DC                   int64 \n",
      "CR                   int64 \n",
      "FRD                  int64 \n",
      "TST                  int64 \n",
      "CC                   int64 \n",
      "SC                   int64 \n",
      "PIM                  int64 \n",
      "LC                   int64 \n",
      "WEB                  int64 \n",
      "FL                   int64 \n",
      "SA                   int64 \n",
      "URL                  int64 \n",
      "CV                   int64 \n",
      "US                   int64 \n",
      "ALL_TEXT             object\n",
      "dtype: object"
     ]
    }
   ],
   "source": [
    "reviews.dtypes"
   ]
  },
  {
   "cell_type": "code",
   "execution_count": 16,
   "metadata": {},
   "outputs": [
    {
     "data": {
      "application/vnd.jupyter.widget-view+json": {
       "model_id": "c4aac4841ab94947a30a97aa9321e50d",
       "version_major": 2,
       "version_minor": 0
      },
      "text/plain": [
       "VBox()"
      ]
     },
     "metadata": {},
     "output_type": "display_data"
    },
    {
     "data": {
      "application/vnd.jupyter.widget-view+json": {
       "model_id": "",
       "version_major": 2,
       "version_minor": 0
      },
      "text/plain": [
       "FloatProgress(value=0.0, bar_style='info', description='Progress:', layout=Layout(height='25px', width='50%'),…"
      ]
     },
     "metadata": {},
     "output_type": "display_data"
    }
   ],
   "source": [
    "\n",
    "\n",
    "#reviews['PRICE'] = bool(re.match('location', str(reviews['ALL_TEXT'])))\n",
    "#reviews[reviews['PRICE']==True].head()\n"
   ]
  },
  {
   "cell_type": "code",
   "execution_count": 17,
   "metadata": {},
   "outputs": [
    {
     "data": {
      "application/vnd.jupyter.widget-view+json": {
       "model_id": "cd01139ff98a43feb8609c6c8250e0a0",
       "version_major": 2,
       "version_minor": 0
      },
      "text/plain": [
       "VBox()"
      ]
     },
     "metadata": {},
     "output_type": "display_data"
    },
    {
     "data": {
      "application/vnd.jupyter.widget-view+json": {
       "model_id": "",
       "version_major": 2,
       "version_minor": 0
      },
      "text/plain": [
       "FloatProgress(value=0.0, bar_style='info', description='Progress:', layout=Layout(height='25px', width='50%'),…"
      ]
     },
     "metadata": {},
     "output_type": "display_data"
    },
    {
     "name": "stdout",
     "output_type": "stream",
     "text": [
      "                                                                                                                                                                                                                                                                                                                                                                                   ALL_TEXT  \\\n",
      "0         headline Review title not submitted by reviewer. comment See other reviews for more detailed feedback.                                                                                                                                                                                                                                                                              \n",
      "1         headline Review title not submitted by reviewer.. comment These are my new \"go to\" earrings for events I'm attending!  They're so elegant & pretty!!                                                                                                                                                                                                                                \n",
      "2         headline Very comfortable and breathable comment Love this work out top. It's very comfortable and keeps me cool when running.                                                                                                                                                                                                                                                      \n",
      "3         headline Perfect side table comment This table is perfect in every way. We bought one last year and got another one since we use it so much.                                                                                                                                                                                                                                        \n",
      "4         headline I would buy this t-shirt comment Smart t-shirt good sizing washes well                                                                                                                                                                                                                                                                                                     \n",
      "...                                                                                   ...                                                                                                                                                                                                                                                                                                     \n",
      "30174359  headline Not submitted by reviewer. comment See other reviews for more detailed feedback.                                                                                                                                                                                                                                                                                           \n",
      "30174360  headline Not submitted by reviewer. comment See other reviews for more detailed feedback.                                                                                                                                                                                                                                                                                           \n",
      "30174361  headline Well made! comment I bought this dress a couple of weeks ago to wear to my nephews communion and received several compliments. The dress is well made and lined from the waist down, which gives you some extra comfort since the color is light. It's light weight and so comfortable. I purchased a medium and weight about 150 pounds and and 5'5 and it's fit great!   \n",
      "30174362  headline Great! comment An excellent product - top quality, elegant looking and very easy to hang. The only caveat is that it is supplied with fixings for a solid wall. If like many of us you have hollow (drywall/plasterboard) walls, you will need to lay in a set of mountings into which to screw the excellent hanging hooks that are supplied.                             \n",
      "30174363  headline Great Khakis! comment Great fit for my 16 year old son to wear to work. Fast delivery!                                                                                                                                                                                                                                                                                     \n",
      "\n",
      "          REVIEW_RATING  \n",
      "0         5              \n",
      "1         5              \n",
      "2         5              \n",
      "3         5              \n",
      "4         5              \n",
      "...      ..              \n",
      "30174359  5              \n",
      "30174360  5              \n",
      "30174361  5              \n",
      "30174362  5              \n",
      "30174363  5              \n",
      "\n",
      "[30174364 rows x 2 columns]"
     ]
    }
   ],
   "source": [
    "X = reviews[['ALL_TEXT','REVIEW_RATING']]\n",
    "X"
   ]
  },
  {
   "cell_type": "code",
   "execution_count": 18,
   "metadata": {},
   "outputs": [
    {
     "data": {
      "application/vnd.jupyter.widget-view+json": {
       "model_id": "9d34bc3433524ec8a59446766e150d74",
       "version_major": 2,
       "version_minor": 0
      },
      "text/plain": [
       "VBox()"
      ]
     },
     "metadata": {},
     "output_type": "display_data"
    },
    {
     "data": {
      "application/vnd.jupyter.widget-view+json": {
       "model_id": "",
       "version_major": 2,
       "version_minor": 0
      },
      "text/plain": [
       "FloatProgress(value=0.0, bar_style='info', description='Progress:', layout=Layout(height='25px', width='50%'),…"
      ]
     },
     "metadata": {},
     "output_type": "display_data"
    },
    {
     "name": "stdout",
     "output_type": "stream",
     "text": [
      "          NR\n",
      "0         0 \n",
      "1         0 \n",
      "2         0 \n",
      "3         0 \n",
      "4         0 \n",
      "...      .. \n",
      "30174359  0 \n",
      "30174360  0 \n",
      "30174361  0 \n",
      "30174362  0 \n",
      "30174363  0 \n",
      "\n",
      "[30174364 rows x 1 columns]"
     ]
    }
   ],
   "source": [
    "#y = reviews[['NR','PII','PR','CS','DC','CR','FRD','TST','CC','SC','PIM','LC','WEB','FL','SA','URL','CV','US','NOLABEL']]\n",
    "#y = reviews[['NR','PII','PR','CS','DC','CR','FRD','TST','CC','SC','PIM','LC','WEB','FL','SA','URL','CV','US']]\n",
    "y = reviews[['NR']]\n",
    "y"
   ]
  },
  {
   "cell_type": "code",
   "execution_count": 19,
   "metadata": {},
   "outputs": [
    {
     "data": {
      "application/vnd.jupyter.widget-view+json": {
       "model_id": "49ff531ec2fd4462a5d9bb66a8a26836",
       "version_major": 2,
       "version_minor": 0
      },
      "text/plain": [
       "VBox()"
      ]
     },
     "metadata": {},
     "output_type": "display_data"
    },
    {
     "data": {
      "application/vnd.jupyter.widget-view+json": {
       "model_id": "",
       "version_major": 2,
       "version_minor": 0
      },
      "text/plain": [
       "FloatProgress(value=0.0, bar_style='info', description='Progress:', layout=Layout(height='25px', width='50%'),…"
      ]
     },
     "metadata": {},
     "output_type": "display_data"
    },
    {
     "name": "stdout",
     "output_type": "stream",
     "text": [
      "NR    230323\n",
      "dtype: int64"
     ]
    }
   ],
   "source": [
    "y.sum(axis=0)"
   ]
  },
  {
   "cell_type": "code",
   "execution_count": 20,
   "metadata": {},
   "outputs": [
    {
     "data": {
      "application/vnd.jupyter.widget-view+json": {
       "model_id": "e38a20cf0b37488690d4a33dfd32e952",
       "version_major": 2,
       "version_minor": 0
      },
      "text/plain": [
       "VBox()"
      ]
     },
     "metadata": {},
     "output_type": "display_data"
    },
    {
     "data": {
      "application/vnd.jupyter.widget-view+json": {
       "model_id": "",
       "version_major": 2,
       "version_minor": 0
      },
      "text/plain": [
       "FloatProgress(value=0.0, bar_style='info', description='Progress:', layout=Layout(height='25px', width='50%'),…"
      ]
     },
     "metadata": {},
     "output_type": "display_data"
    }
   ],
   "source": [
    "#test_size is what % of data goes to test set vs training\n",
    "#random_state - use so that when comparing models - same data is always going to test and train sets\n",
    "xtrain, xtest, ytrain, ytest = train_test_split(X, y, test_size=0.2, random_state=9, stratify = y)"
   ]
  },
  {
   "cell_type": "code",
   "execution_count": 21,
   "metadata": {},
   "outputs": [
    {
     "data": {
      "application/vnd.jupyter.widget-view+json": {
       "model_id": "e5b14c59f7754a7da06eddac71d3362b",
       "version_major": 2,
       "version_minor": 0
      },
      "text/plain": [
       "VBox()"
      ]
     },
     "metadata": {},
     "output_type": "display_data"
    },
    {
     "data": {
      "application/vnd.jupyter.widget-view+json": {
       "model_id": "",
       "version_major": 2,
       "version_minor": 0
      },
      "text/plain": [
       "FloatProgress(value=0.0, bar_style='info', description='Progress:', layout=Layout(height='25px', width='50%'),…"
      ]
     },
     "metadata": {},
     "output_type": "display_data"
    },
    {
     "name": "stdout",
     "output_type": "stream",
     "text": [
      "                                                                                                                                                                                                                                                                                                                                                                                             ALL_TEXT  \\\n",
      "20561368  headline Very Good paint that is thick and dry to help with landscape comment I found the paint very good to use in landscape painting especially for snow when needing that \"breaking effect\" Bob Ross often spoke of. The paint is consistent throughout the tube and works great with blending other colors also.                                                                          \n",
      "29527414  headline Perfect cold brew! comment Best cold brew out there. I've tried many. Taste is sweet without the sugar. Flavor is amazing. Super easy to make. No more coffee grind mess.                                                                                                                                                                                                            \n",
      "11100191  headline They fit perfect comment The color was great and they are comfortable to fit                                                                                                                                                                                                                                                                                                         \n",
      "24935556  headline Not submitted by reviewer. comment See other reviews for more detailed feedback.                                                                                                                                                                                                                                                                                                     \n",
      "21963626  headline Love it!!! comment I have fine, thin hair and nothing ever seems to work with it...till I got this!!!  I love it!!!  It works perfectly on my hair. And the curls stay in all day. it makes me look like I have more hair too. I see some of the reviews that say they didn't like it, but if you have fine, thin hair like I do, you will absolutely love it. Worth every dime!!!   \n",
      "...                                                                                                                                                                                                                                                                                                                                                                                               ...   \n",
      "3451266   headline great features and comfortable comment Purchased for my daughter as a Christmas gift and she loved it. We pair it with a matching sweatshirt and its a go to for her on our lazy day's spend at home or running around.                                                                                                                                                              \n",
      "19621740  headline Great T-shirt comment This T-shirt is of great material, it fits and feels great on the body                                                                                                                                                                                                                                                                                         \n",
      "6639745   headline Cute and easy to put together. comment It's perfect for my entry way. I think it's beautiful and it wasn't hard to put together.                                                                                                                                                                                                                                                     \n",
      "6898271   headline Not a very close shave comment I bought this razor because my old one was always tearing up my neck (even with new blades). This one was a significant improvement in that area, but I walk around with five o'clock shadow all the time because the shave isn't very close.                                                                                                         \n",
      "20991058  headline Review title not submitted by reviewer. comment See other reviews for more detailed feedback.                                                                                                                                                                                                                                                                                        \n",
      "\n",
      "          REVIEW_RATING  \n",
      "20561368  4              \n",
      "29527414  5              \n",
      "11100191  5              \n",
      "24935556  5              \n",
      "21963626  5              \n",
      "...      ..              \n",
      "3451266   5              \n",
      "19621740  5              \n",
      "6639745   5              \n",
      "6898271   3              \n",
      "20991058  5              \n",
      "\n",
      "[24139491 rows x 2 columns]"
     ]
    }
   ],
   "source": [
    "print(xtrain)"
   ]
  },
  {
   "cell_type": "code",
   "execution_count": 55,
   "metadata": {},
   "outputs": [
    {
     "data": {
      "application/vnd.jupyter.widget-view+json": {
       "model_id": "ba904bcc0b374cd9991fe69efe9da871",
       "version_major": 2,
       "version_minor": 0
      },
      "text/plain": [
       "VBox()"
      ]
     },
     "metadata": {},
     "output_type": "display_data"
    },
    {
     "data": {
      "application/vnd.jupyter.widget-view+json": {
       "model_id": "",
       "version_major": 2,
       "version_minor": 0
      },
      "text/plain": [
       "FloatProgress(value=0.0, bar_style='info', description='Progress:', layout=Layout(height='25px', width='50%'),…"
      ]
     },
     "metadata": {},
     "output_type": "display_data"
    }
   ],
   "source": [
    "#analyzer : default = word, can also test n_grams\n",
    "#max_df :  ignore terms that have a document frequency strictly higher than the given threshold\n",
    "#max_features : set total # of features used\n",
    "vectorizer = TfidfVectorizer(ngram_range = (2,2), max_features = 30000, stop_words= 'english', lowercase=True)\n",
    "#vectors = vectorizer.fit_transform(reviews['ALL_TEXT'].values.astype('U'))\n",
    "tfidf_vectors_xtrain = vectorizer.fit_transform(xtrain['ALL_TEXT'].apply(lambda x: np.str_(x)))\n",
    "tfidf_vectors_xtest = vectorizer.transform(xtest['ALL_TEXT'].apply(lambda x: np.str_(x)))\n",
    "#25 mins for 65 mil rows\n",
    "#16 mins for 30 mil rows"
   ]
  },
  {
   "cell_type": "code",
   "execution_count": 56,
   "metadata": {},
   "outputs": [
    {
     "data": {
      "application/vnd.jupyter.widget-view+json": {
       "model_id": "5db119b49eea4225b2e4ce98d201a145",
       "version_major": 2,
       "version_minor": 0
      },
      "text/plain": [
       "VBox()"
      ]
     },
     "metadata": {},
     "output_type": "display_data"
    },
    {
     "data": {
      "application/vnd.jupyter.widget-view+json": {
       "model_id": "",
       "version_major": 2,
       "version_minor": 0
      },
      "text/plain": [
       "FloatProgress(value=0.0, bar_style='info', description='Progress:', layout=Layout(height='25px', width='50%'),…"
      ]
     },
     "metadata": {},
     "output_type": "display_data"
    }
   ],
   "source": [
    "#print(tfidf_vectors_xtrain)\n",
    "#print(tfidf_vectors_xtest)"
   ]
  },
  {
   "cell_type": "code",
   "execution_count": 57,
   "metadata": {},
   "outputs": [
    {
     "data": {
      "application/vnd.jupyter.widget-view+json": {
       "model_id": "812c36f8309a406aa1655f9d59223a4a",
       "version_major": 2,
       "version_minor": 0
      },
      "text/plain": [
       "VBox()"
      ]
     },
     "metadata": {},
     "output_type": "display_data"
    },
    {
     "data": {
      "application/vnd.jupyter.widget-view+json": {
       "model_id": "",
       "version_major": 2,
       "version_minor": 0
      },
      "text/plain": [
       "FloatProgress(value=0.0, bar_style='info', description='Progress:', layout=Layout(height='25px', width='50%'),…"
      ]
     },
     "metadata": {},
     "output_type": "display_data"
    }
   ],
   "source": [
    "#Test to see what output looks like - don't use for modeling - dense vectors are memory intensive\n",
    "#feature_names = vectorizer.get_feature_names()\n",
    "#dense = tfidf_vectors.todense()\n",
    "#denselist = dense.tolist()\n",
    "#df = pd.DataFrame(denselist, columns=feature_names)\n",
    "#df.head()"
   ]
  },
  {
   "cell_type": "code",
   "execution_count": 58,
   "metadata": {},
   "outputs": [
    {
     "data": {
      "application/vnd.jupyter.widget-view+json": {
       "model_id": "135359633a8f4cdb85c4d074db15411b",
       "version_major": 2,
       "version_minor": 0
      },
      "text/plain": [
       "VBox()"
      ]
     },
     "metadata": {},
     "output_type": "display_data"
    },
    {
     "data": {
      "application/vnd.jupyter.widget-view+json": {
       "model_id": "",
       "version_major": 2,
       "version_minor": 0
      },
      "text/plain": [
       "FloatProgress(value=0.0, bar_style='info', description='Progress:', layout=Layout(height='25px', width='50%'),…"
      ]
     },
     "metadata": {},
     "output_type": "display_data"
    }
   ],
   "source": [
    "#Convert ratings to sparse vector so can join to TF-IDF sparse vector\n",
    "ratings_vector_xtrain=sparse.csr_matrix((xtrain['REVIEW_RATING']/5).values).reshape(24139491,1)\n",
    "#print(ratings_vector_xtrain)\n",
    "ratings_vector_xtest=sparse.csr_matrix((xtest['REVIEW_RATING']/5).values).reshape(6034873,1)\n",
    "#print(ratings_vector_xtest)"
   ]
  },
  {
   "cell_type": "code",
   "execution_count": 59,
   "metadata": {},
   "outputs": [
    {
     "data": {
      "application/vnd.jupyter.widget-view+json": {
       "model_id": "bf41121c3e4c445a8a642f9eb065f3c8",
       "version_major": 2,
       "version_minor": 0
      },
      "text/plain": [
       "VBox()"
      ]
     },
     "metadata": {},
     "output_type": "display_data"
    },
    {
     "data": {
      "application/vnd.jupyter.widget-view+json": {
       "model_id": "",
       "version_major": 2,
       "version_minor": 0
      },
      "text/plain": [
       "FloatProgress(value=0.0, bar_style='info', description='Progress:', layout=Layout(height='25px', width='50%'),…"
      ]
     },
     "metadata": {},
     "output_type": "display_data"
    }
   ],
   "source": [
    "#Combine TF-IDF and ratings vectors\n",
    "xtrain_final = sparse.hstack([tfidf_vectors_xtrain, ratings_vector_xtrain])\n",
    "#print(xtrain_final)\n",
    "xtest_final = sparse.hstack([tfidf_vectors_xtest, ratings_vector_xtest])\n",
    "#print(xtest_final)"
   ]
  },
  {
   "cell_type": "code",
   "execution_count": 60,
   "metadata": {},
   "outputs": [
    {
     "data": {
      "application/vnd.jupyter.widget-view+json": {
       "model_id": "b95d14cef3d243f2b8e3ab73d51fc5e5",
       "version_major": 2,
       "version_minor": 0
      },
      "text/plain": [
       "VBox()"
      ]
     },
     "metadata": {},
     "output_type": "display_data"
    },
    {
     "data": {
      "application/vnd.jupyter.widget-view+json": {
       "model_id": "",
       "version_major": 2,
       "version_minor": 0
      },
      "text/plain": [
       "FloatProgress(value=0.0, bar_style='info', description='Progress:', layout=Layout(height='25px', width='50%'),…"
      ]
     },
     "metadata": {},
     "output_type": "display_data"
    }
   ],
   "source": [
    "#max_iter : default =100 but getting error about not converging\n",
    "lr = LogisticRegression(max_iter=1000, solver = 'lbfgs')\n",
    "clf = OneVsRestClassifier(lr)"
   ]
  },
  {
   "cell_type": "code",
   "execution_count": 61,
   "metadata": {},
   "outputs": [
    {
     "data": {
      "application/vnd.jupyter.widget-view+json": {
       "model_id": "f60c8f84186b4a44a71d2ceff4bc90d5",
       "version_major": 2,
       "version_minor": 0
      },
      "text/plain": [
       "VBox()"
      ]
     },
     "metadata": {},
     "output_type": "display_data"
    },
    {
     "data": {
      "application/vnd.jupyter.widget-view+json": {
       "model_id": "",
       "version_major": 2,
       "version_minor": 0
      },
      "text/plain": [
       "FloatProgress(value=0.0, bar_style='info', description='Progress:', layout=Layout(height='25px', width='50%'),…"
      ]
     },
     "metadata": {},
     "output_type": "display_data"
    },
    {
     "name": "stdout",
     "output_type": "stream",
     "text": [
      "OneVsRestClassifier(estimator=LogisticRegression(max_iter=1000))"
     ]
    }
   ],
   "source": [
    "#Train model\n",
    "clf.fit(xtrain_final, ytrain)"
   ]
  },
  {
   "cell_type": "code",
   "execution_count": null,
   "metadata": {},
   "outputs": [],
   "source": []
  },
  {
   "cell_type": "code",
   "execution_count": 62,
   "metadata": {},
   "outputs": [
    {
     "data": {
      "application/vnd.jupyter.widget-view+json": {
       "model_id": "fec5182acfbb4e478f9403cf1ea854c5",
       "version_major": 2,
       "version_minor": 0
      },
      "text/plain": [
       "VBox()"
      ]
     },
     "metadata": {},
     "output_type": "display_data"
    },
    {
     "data": {
      "application/vnd.jupyter.widget-view+json": {
       "model_id": "",
       "version_major": 2,
       "version_minor": 0
      },
      "text/plain": [
       "FloatProgress(value=0.0, bar_style='info', description='Progress:', layout=Layout(height='25px', width='50%'),…"
      ]
     },
     "metadata": {},
     "output_type": "display_data"
    },
    {
     "name": "stderr",
     "output_type": "stream",
     "text": [
      "ufunc 'isnan' not supported for the input types, and the inputs could not be safely coerced to any supported types according to the casting rule ''safe''\n",
      "Traceback (most recent call last):\n",
      "TypeError: ufunc 'isnan' not supported for the input types, and the inputs could not be safely coerced to any supported types according to the casting rule ''safe''\n",
      "\n"
     ]
    }
   ],
   "source": [
    "np.any(np.isnan(xtrain_final))\n",
    "#np.any(np.isnan(tfidf_vectors_xtrain))\n",
    "#np.any(np.isnan(ratings_vector_xtrain))"
   ]
  },
  {
   "cell_type": "code",
   "execution_count": 63,
   "metadata": {},
   "outputs": [
    {
     "data": {
      "application/vnd.jupyter.widget-view+json": {
       "model_id": "d418ff7dbba94ee39577bea5737c09af",
       "version_major": 2,
       "version_minor": 0
      },
      "text/plain": [
       "VBox()"
      ]
     },
     "metadata": {},
     "output_type": "display_data"
    },
    {
     "data": {
      "application/vnd.jupyter.widget-view+json": {
       "model_id": "",
       "version_major": 2,
       "version_minor": 0
      },
      "text/plain": [
       "FloatProgress(value=0.0, bar_style='info', description='Progress:', layout=Layout(height='25px', width='50%'),…"
      ]
     },
     "metadata": {},
     "output_type": "display_data"
    },
    {
     "name": "stderr",
     "output_type": "stream",
     "text": [
      "ufunc 'isfinite' not supported for the input types, and the inputs could not be safely coerced to any supported types according to the casting rule ''safe''\n",
      "Traceback (most recent call last):\n",
      "TypeError: ufunc 'isfinite' not supported for the input types, and the inputs could not be safely coerced to any supported types according to the casting rule ''safe''\n",
      "\n"
     ]
    }
   ],
   "source": [
    "np.all(np.isfinite(xtrain_final))"
   ]
  },
  {
   "cell_type": "code",
   "execution_count": 64,
   "metadata": {},
   "outputs": [
    {
     "data": {
      "application/vnd.jupyter.widget-view+json": {
       "model_id": "40b5395ac10b44e3ae2acaee7640cbe4",
       "version_major": 2,
       "version_minor": 0
      },
      "text/plain": [
       "VBox()"
      ]
     },
     "metadata": {},
     "output_type": "display_data"
    },
    {
     "data": {
      "application/vnd.jupyter.widget-view+json": {
       "model_id": "",
       "version_major": 2,
       "version_minor": 0
      },
      "text/plain": [
       "FloatProgress(value=0.0, bar_style='info', description='Progress:', layout=Layout(height='25px', width='50%'),…"
      ]
     },
     "metadata": {},
     "output_type": "display_data"
    }
   ],
   "source": [
    "#pd.isnull(xtrain_final).values.any()"
   ]
  },
  {
   "cell_type": "code",
   "execution_count": 65,
   "metadata": {},
   "outputs": [
    {
     "data": {
      "application/vnd.jupyter.widget-view+json": {
       "model_id": "0f7fcb076c09432a99f74f03d9eeffe3",
       "version_major": 2,
       "version_minor": 0
      },
      "text/plain": [
       "VBox()"
      ]
     },
     "metadata": {},
     "output_type": "display_data"
    },
    {
     "data": {
      "application/vnd.jupyter.widget-view+json": {
       "model_id": "",
       "version_major": 2,
       "version_minor": 0
      },
      "text/plain": [
       "FloatProgress(value=0.0, bar_style='info', description='Progress:', layout=Layout(height='25px', width='50%'),…"
      ]
     },
     "metadata": {},
     "output_type": "display_data"
    },
    {
     "name": "stdout",
     "output_type": "stream",
     "text": [
      "NR    184258\n",
      "dtype: int64"
     ]
    }
   ],
   "source": [
    "#ytrain.dtypes\n",
    "#NO US LABEL\n",
    "ytrain.sum(axis=0)"
   ]
  },
  {
   "cell_type": "code",
   "execution_count": 66,
   "metadata": {},
   "outputs": [
    {
     "data": {
      "application/vnd.jupyter.widget-view+json": {
       "model_id": "192c722918de4b9288ae0e06933a2f05",
       "version_major": 2,
       "version_minor": 0
      },
      "text/plain": [
       "VBox()"
      ]
     },
     "metadata": {},
     "output_type": "display_data"
    },
    {
     "data": {
      "application/vnd.jupyter.widget-view+json": {
       "model_id": "",
       "version_major": 2,
       "version_minor": 0
      },
      "text/plain": [
       "FloatProgress(value=0.0, bar_style='info', description='Progress:', layout=Layout(height='25px', width='50%'),…"
      ]
     },
     "metadata": {},
     "output_type": "display_data"
    }
   ],
   "source": [
    "y_pred = clf.predict(xtest_final)"
   ]
  },
  {
   "cell_type": "code",
   "execution_count": null,
   "metadata": {},
   "outputs": [],
   "source": []
  },
  {
   "cell_type": "code",
   "execution_count": 67,
   "metadata": {},
   "outputs": [
    {
     "data": {
      "application/vnd.jupyter.widget-view+json": {
       "model_id": "78bce0d1e32a45e38f1fb3628949cc7a",
       "version_major": 2,
       "version_minor": 0
      },
      "text/plain": [
       "VBox()"
      ]
     },
     "metadata": {},
     "output_type": "display_data"
    },
    {
     "data": {
      "application/vnd.jupyter.widget-view+json": {
       "model_id": "",
       "version_major": 2,
       "version_minor": 0
      },
      "text/plain": [
       "FloatProgress(value=0.0, bar_style='info', description='Progress:', layout=Layout(height='25px', width='50%'),…"
      ]
     },
     "metadata": {},
     "output_type": "display_data"
    }
   ],
   "source": [
    "plt.clf()"
   ]
  },
  {
   "cell_type": "code",
   "execution_count": 68,
   "metadata": {},
   "outputs": [],
   "source": [
    "%matplotlib inline"
   ]
  },
  {
   "cell_type": "code",
   "execution_count": 69,
   "metadata": {},
   "outputs": [
    {
     "data": {
      "application/vnd.jupyter.widget-view+json": {
       "model_id": "d0849cb5894f48469e8dbad71f97e6d7",
       "version_major": 2,
       "version_minor": 0
      },
      "text/plain": [
       "VBox()"
      ]
     },
     "metadata": {},
     "output_type": "display_data"
    },
    {
     "data": {
      "application/vnd.jupyter.widget-view+json": {
       "model_id": "",
       "version_major": 2,
       "version_minor": 0
      },
      "text/plain": [
       "FloatProgress(value=0.0, bar_style='info', description='Progress:', layout=Layout(height='25px', width='50%'),…"
      ]
     },
     "metadata": {},
     "output_type": "display_data"
    }
   ],
   "source": [
    "#Confusion matrix\n",
    "#confusion_matrix(ytest, y_pred)\n",
    "#tn, fp, fn, tp = confusion_matrix(ytest, y_pred).ravel()\n",
    "#print(\"TN: {}\".format(tn), \"FP: {}\".format(fp), \"FN: {}\".format(fn), \"TP: {}\".format(tp))\n",
    "plot_confusion_matrix(clf, xtest_final, ytest)\n",
    "plt.show()"
   ]
  },
  {
   "cell_type": "code",
   "execution_count": 70,
   "metadata": {},
   "outputs": [
    {
     "data": {
      "application/vnd.jupyter.widget-view+json": {
       "model_id": "",
       "version_major": 2,
       "version_minor": 0
      },
      "text/plain": [
       "FloatProgress(value=0.0, bar_style='info', description='Progress:', layout=Layout(height='25px', width='50%'),…"
      ]
     },
     "metadata": {},
     "output_type": "display_data"
    },
    {
     "data": {
      "image/png": "[encoded data removed]",
      "text/plain": [
       "<IPython.core.display.Image object>"
      ]
     },
     "metadata": {},
     "output_type": "display_data"
    }
   ],
   "source": [
    "%matplot plt"
   ]
  },
  {
   "cell_type": "code",
   "execution_count": 71,
   "metadata": {},
   "outputs": [
    {
     "data": {
      "application/vnd.jupyter.widget-view+json": {
       "model_id": "e534550227ab4f58844ffb6e8b54cb77",
       "version_major": 2,
       "version_minor": 0
      },
      "text/plain": [
       "VBox()"
      ]
     },
     "metadata": {},
     "output_type": "display_data"
    },
    {
     "data": {
      "application/vnd.jupyter.widget-view+json": {
       "model_id": "",
       "version_major": 2,
       "version_minor": 0
      },
      "text/plain": [
       "FloatProgress(value=0.0, bar_style='info', description='Progress:', layout=Layout(height='25px', width='50%'),…"
      ]
     },
     "metadata": {},
     "output_type": "display_data"
    }
   ],
   "source": [
    "#Evaluating model performance\n",
    "#There are inherently mostly NOLABEL so accuracy could be high just bc of those\n",
    "#Want to make sure that when there is a label besides NOLABEL that it is being accurately predicted\n"
   ]
  },
  {
   "cell_type": "code",
   "execution_count": 72,
   "metadata": {},
   "outputs": [
    {
     "data": {
      "application/vnd.jupyter.widget-view+json": {
       "model_id": "fbb6b5e667ce4ea29c12ecf20953de60",
       "version_major": 2,
       "version_minor": 0
      },
      "text/plain": [
       "VBox()"
      ]
     },
     "metadata": {},
     "output_type": "display_data"
    },
    {
     "data": {
      "application/vnd.jupyter.widget-view+json": {
       "model_id": "",
       "version_major": 2,
       "version_minor": 0
      },
      "text/plain": [
       "FloatProgress(value=0.0, bar_style='info', description='Progress:', layout=Layout(height='25px', width='50%'),…"
      ]
     },
     "metadata": {},
     "output_type": "display_data"
    },
    {
     "name": "stdout",
     "output_type": "stream",
     "text": [
      "Accuracy is:  0.9925456592044274\n",
      "Precision is:  0.5477053674064905\n",
      "Recall is:  0.13446217301638988\n",
      "F1 Score is:  0.2159166172830899"
     ]
    }
   ],
   "source": [
    "#Model performance metrics\n",
    "#Assess at individual label level as well as overall\n",
    "\n",
    "#Accuracy is overall correct predictions - not great measurement tool for imbalanced data\n",
    "#Precision - TP / TP + FP = spam detection - don't want to mark something as spam (FP) when it isn't\n",
    "#Recall - TP / TP + FN = sickness - don't want to tell someone they aren't sick (FN) when they are and can spread it\n",
    "#F1 - balance of precision and recall\n",
    "\n",
    "#We want to make sure if bomb emoji then it gets marked - even at the expense of marking other things potentially offensive that aren't \n",
    "#Important not to have FN - USE RECALL\n",
    "#Also don't want to be marking a bunch of stuff as offensive when it isn't and making moderation do everything anyway\n",
    "#Important not to have too many FP - USE PRECISION\n",
    "#Use F1 for balance between both\n",
    "print(\"Accuracy is:  {}\" .format(accuracy_score(ytest, y_pred)))\n",
    "print(\"Precision is:  {}\" .format(precision_score(ytest, y_pred)))\n",
    "print(\"Recall is:  {}\" .format(recall_score(ytest, y_pred)))\n",
    "print(\"F1 Score is:  {}\" .format(f1_score(ytest, y_pred)))"
   ]
  },
  {
   "cell_type": "code",
   "execution_count": 73,
   "metadata": {},
   "outputs": [
    {
     "data": {
      "application/vnd.jupyter.widget-view+json": {
       "model_id": "0ab06c36b48b4bf3a4534a5323f73f4a",
       "version_major": 2,
       "version_minor": 0
      },
      "text/plain": [
       "VBox()"
      ]
     },
     "metadata": {},
     "output_type": "display_data"
    },
    {
     "data": {
      "application/vnd.jupyter.widget-view+json": {
       "model_id": "",
       "version_major": 2,
       "version_minor": 0
      },
      "text/plain": [
       "FloatProgress(value=0.0, bar_style='info', description='Progress:', layout=Layout(height='25px', width='50%'),…"
      ]
     },
     "metadata": {},
     "output_type": "display_data"
    },
    {
     "name": "stdout",
     "output_type": "stream",
     "text": [
      "              precision    recall  f1-score   support\n",
      "\n",
      "           0       0.99      1.00      1.00   5988808\n",
      "           1       0.55      0.13      0.22     46065\n",
      "\n",
      "    accuracy                           0.99   6034873\n",
      "   macro avg       0.77      0.57      0.61   6034873\n",
      "weighted avg       0.99      0.99      0.99   6034873"
     ]
    }
   ],
   "source": [
    "print(classification_report(ytest,y_pred))"
   ]
  },
  {
   "cell_type": "code",
   "execution_count": 74,
   "metadata": {},
   "outputs": [
    {
     "data": {
      "application/vnd.jupyter.widget-view+json": {
       "model_id": "aa6ad0c2920d482480111432e91a7644",
       "version_major": 2,
       "version_minor": 0
      },
      "text/plain": [
       "VBox()"
      ]
     },
     "metadata": {},
     "output_type": "display_data"
    },
    {
     "data": {
      "application/vnd.jupyter.widget-view+json": {
       "model_id": "",
       "version_major": 2,
       "version_minor": 0
      },
      "text/plain": [
       "FloatProgress(value=0.0, bar_style='info', description='Progress:', layout=Layout(height='25px', width='50%'),…"
      ]
     },
     "metadata": {},
     "output_type": "display_data"
    },
    {
     "name": "stderr",
     "output_type": "stream",
     "text": [
      "'numpy.float64' object is not callable\n",
      "Traceback (most recent call last):\n",
      "TypeError: 'numpy.float64' object is not callable\n",
      "\n"
     ]
    }
   ],
   "source": [
    "probs = clf.predict_proba(xtest_final)\n",
    "preds = probs[:,1]\n",
    "fpr, tpr, threshold = roc_curve(ytest, preds)\n",
    "roc_auc = auc(fpr, tpr)\n",
    "print(roc_auc)"
   ]
  },
  {
   "cell_type": "code",
   "execution_count": 75,
   "metadata": {},
   "outputs": [
    {
     "data": {
      "application/vnd.jupyter.widget-view+json": {
       "model_id": "6c9ddcc351644ec381572f1db6e56994",
       "version_major": 2,
       "version_minor": 0
      },
      "text/plain": [
       "VBox()"
      ]
     },
     "metadata": {},
     "output_type": "display_data"
    },
    {
     "data": {
      "application/vnd.jupyter.widget-view+json": {
       "model_id": "",
       "version_major": 2,
       "version_minor": 0
      },
      "text/plain": [
       "FloatProgress(value=0.0, bar_style='info', description='Progress:', layout=Layout(height='25px', width='50%'),…"
      ]
     },
     "metadata": {},
     "output_type": "display_data"
    }
   ],
   "source": [
    "plt.clf()"
   ]
  },
  {
   "cell_type": "code",
   "execution_count": 76,
   "metadata": {},
   "outputs": [
    {
     "data": {
      "application/vnd.jupyter.widget-view+json": {
       "model_id": "19eec917588e41d6aadf6bbf2ef6ae83",
       "version_major": 2,
       "version_minor": 0
      },
      "text/plain": [
       "VBox()"
      ]
     },
     "metadata": {},
     "output_type": "display_data"
    },
    {
     "data": {
      "application/vnd.jupyter.widget-view+json": {
       "model_id": "",
       "version_major": 2,
       "version_minor": 0
      },
      "text/plain": [
       "FloatProgress(value=0.0, bar_style='info', description='Progress:', layout=Layout(height='25px', width='50%'),…"
      ]
     },
     "metadata": {},
     "output_type": "display_data"
    }
   ],
   "source": [
    "#ROC CURVE\n",
    "#Assumes we care about 0 and 1 classification the same - we don't\n",
    "#We care more about performance of 1 classification - use precision recall curve\n",
    "plt.title('Receiver Operating Characteristic')\n",
    "plt.plot(fpr, tpr, 'b', label = 'AUC = %0.4f' % roc_auc)\n",
    "plt.legend(loc = 'lower right')\n",
    "plt.plot([0, 1], [0, 1],'r--')\n",
    "plt.xlim([0, 1])\n",
    "plt.ylim([0, 1])\n",
    "plt.ylabel('True Positive Rate')\n",
    "plt.xlabel('False Positive Rate')\n",
    "plt.show()"
   ]
  },
  {
   "cell_type": "code",
   "execution_count": 77,
   "metadata": {},
   "outputs": [
    {
     "data": {
      "application/vnd.jupyter.widget-view+json": {
       "model_id": "",
       "version_major": 2,
       "version_minor": 0
      },
      "text/plain": [
       "FloatProgress(value=0.0, bar_style='info', description='Progress:', layout=Layout(height='25px', width='50%'),…"
      ]
     },
     "metadata": {},
     "output_type": "display_data"
    },
    {
     "data": {
      "image/png": "[encoded data removed]",
      "text/plain": [
       "<IPython.core.display.Image object>"
      ]
     },
     "metadata": {},
     "output_type": "display_data"
    }
   ],
   "source": [
    "%matplot plt"
   ]
  },
  {
   "cell_type": "code",
   "execution_count": 78,
   "metadata": {},
   "outputs": [
    {
     "data": {
      "application/vnd.jupyter.widget-view+json": {
       "model_id": "beffbffb42264eca94c4ff44eaa38003",
       "version_major": 2,
       "version_minor": 0
      },
      "text/plain": [
       "VBox()"
      ]
     },
     "metadata": {},
     "output_type": "display_data"
    },
    {
     "data": {
      "application/vnd.jupyter.widget-view+json": {
       "model_id": "",
       "version_major": 2,
       "version_minor": 0
      },
      "text/plain": [
       "FloatProgress(value=0.0, bar_style='info', description='Progress:', layout=Layout(height='25px', width='50%'),…"
      ]
     },
     "metadata": {},
     "output_type": "display_data"
    },
    {
     "name": "stdout",
     "output_type": "stream",
     "text": [
      "Optimal threshold value: 0.009341041079284683\n",
      "Optimal tpr value: 0.90057527406925\n",
      "Optimal fpr value: 0.09617489824352358"
     ]
    }
   ],
   "source": [
    "#Find best threshold (ROC Curve)\n",
    "#Ideally want tpr = 1 and fpr = 0, so want tpr - fpr as close to 1 as possible\n",
    "optimal_idx = np.argmax(tpr - fpr)\n",
    "optimal_threshold = threshold[optimal_idx]\n",
    "opt_tpr = tpr[optimal_idx]\n",
    "opt_fpr = fpr[optimal_idx]\n",
    "print(\"Optimal threshold value:\", optimal_threshold)\n",
    "print(\"Optimal tpr value:\", opt_tpr)\n",
    "print(\"Optimal fpr value:\", opt_fpr)"
   ]
  },
  {
   "cell_type": "code",
   "execution_count": 79,
   "metadata": {},
   "outputs": [
    {
     "data": {
      "application/vnd.jupyter.widget-view+json": {
       "model_id": "95378bf53087424693ed00e836fa0c76",
       "version_major": 2,
       "version_minor": 0
      },
      "text/plain": [
       "VBox()"
      ]
     },
     "metadata": {},
     "output_type": "display_data"
    },
    {
     "data": {
      "application/vnd.jupyter.widget-view+json": {
       "model_id": "",
       "version_major": 2,
       "version_minor": 0
      },
      "text/plain": [
       "FloatProgress(value=0.0, bar_style='info', description='Progress:', layout=Layout(height='25px', width='50%'),…"
      ]
     },
     "metadata": {},
     "output_type": "display_data"
    }
   ],
   "source": [
    "t = optimal_threshold\n",
    "y_pred_new = (preds >= t).astype(int)\n",
    "#y_pred_new"
   ]
  },
  {
   "cell_type": "code",
   "execution_count": 80,
   "metadata": {},
   "outputs": [
    {
     "data": {
      "application/vnd.jupyter.widget-view+json": {
       "model_id": "a3c0edf96c694b26b01f5d68567b612e",
       "version_major": 2,
       "version_minor": 0
      },
      "text/plain": [
       "VBox()"
      ]
     },
     "metadata": {},
     "output_type": "display_data"
    },
    {
     "data": {
      "application/vnd.jupyter.widget-view+json": {
       "model_id": "",
       "version_major": 2,
       "version_minor": 0
      },
      "text/plain": [
       "FloatProgress(value=0.0, bar_style='info', description='Progress:', layout=Layout(height='25px', width='50%'),…"
      ]
     },
     "metadata": {},
     "output_type": "display_data"
    },
    {
     "name": "stdout",
     "output_type": "stream",
     "text": [
      "Accuracy is:  0.9038002953831837\n",
      "Precision is:  0.06718675602227196\n",
      "Recall is:  0.90057527406925\n",
      "F1 Score is:  0.12504464803782236"
     ]
    }
   ],
   "source": [
    "#Scores with best threshold cutoff\n",
    "print(\"Accuracy is:  {}\" .format(accuracy_score(ytest, y_pred_new)))\n",
    "print(\"Precision is:  {}\" .format(precision_score(ytest, y_pred_new)))\n",
    "print(\"Recall is:  {}\" .format(recall_score(ytest, y_pred_new)))\n",
    "print(\"F1 Score is:  {}\" .format(f1_score(ytest, y_pred_new)))"
   ]
  },
  {
   "cell_type": "code",
   "execution_count": 81,
   "metadata": {},
   "outputs": [
    {
     "data": {
      "application/vnd.jupyter.widget-view+json": {
       "model_id": "ffcc78d0a6c847ada8367ca72ec7a745",
       "version_major": 2,
       "version_minor": 0
      },
      "text/plain": [
       "VBox()"
      ]
     },
     "metadata": {},
     "output_type": "display_data"
    },
    {
     "data": {
      "application/vnd.jupyter.widget-view+json": {
       "model_id": "",
       "version_major": 2,
       "version_minor": 0
      },
      "text/plain": [
       "FloatProgress(value=0.0, bar_style='info', description='Progress:', layout=Layout(height='25px', width='50%'),…"
      ]
     },
     "metadata": {},
     "output_type": "display_data"
    },
    {
     "name": "stdout",
     "output_type": "stream",
     "text": [
      "6034873"
     ]
    }
   ],
   "source": [
    "len(y_pred_new)"
   ]
  },
  {
   "cell_type": "code",
   "execution_count": null,
   "metadata": {},
   "outputs": [],
   "source": []
  },
  {
   "cell_type": "code",
   "execution_count": 82,
   "metadata": {},
   "outputs": [
    {
     "data": {
      "application/vnd.jupyter.widget-view+json": {
       "model_id": "1857cb40378b42f6ae1db18e472f350a",
       "version_major": 2,
       "version_minor": 0
      },
      "text/plain": [
       "VBox()"
      ]
     },
     "metadata": {},
     "output_type": "display_data"
    },
    {
     "data": {
      "application/vnd.jupyter.widget-view+json": {
       "model_id": "",
       "version_major": 2,
       "version_minor": 0
      },
      "text/plain": [
       "FloatProgress(value=0.0, bar_style='info', description='Progress:', layout=Layout(height='25px', width='50%'),…"
      ]
     },
     "metadata": {},
     "output_type": "display_data"
    },
    {
     "name": "stderr",
     "output_type": "stream",
     "text": [
      "'numpy.float64' object is not callable\n",
      "Traceback (most recent call last):\n",
      "TypeError: 'numpy.float64' object is not callable\n",
      "\n"
     ]
    }
   ],
   "source": [
    "#PRECISION RECALL CURVE\n",
    "#Better for what we want to assess which is how well label is assigned (i.e. when it gets a 1 instead of a 0)\n",
    "\n",
    "precision, recall, pr_threshold = precision_recall_curve(ytest, preds)\n",
    "auc = auc(recall, precision)"
   ]
  },
  {
   "cell_type": "code",
   "execution_count": 83,
   "metadata": {},
   "outputs": [
    {
     "data": {
      "application/vnd.jupyter.widget-view+json": {
       "model_id": "f6c9e13ce9f74581b69c03313e2a5e92",
       "version_major": 2,
       "version_minor": 0
      },
      "text/plain": [
       "VBox()"
      ]
     },
     "metadata": {},
     "output_type": "display_data"
    },
    {
     "data": {
      "application/vnd.jupyter.widget-view+json": {
       "model_id": "",
       "version_major": 2,
       "version_minor": 0
      },
      "text/plain": [
       "FloatProgress(value=0.0, bar_style='info', description='Progress:', layout=Layout(height='25px', width='50%'),…"
      ]
     },
     "metadata": {},
     "output_type": "display_data"
    }
   ],
   "source": [
    "plt.clf()"
   ]
  },
  {
   "cell_type": "code",
   "execution_count": 84,
   "metadata": {},
   "outputs": [
    {
     "data": {
      "application/vnd.jupyter.widget-view+json": {
       "model_id": "6f15d2a340974f7f9f0a413eda11eaf1",
       "version_major": 2,
       "version_minor": 0
      },
      "text/plain": [
       "VBox()"
      ]
     },
     "metadata": {},
     "output_type": "display_data"
    },
    {
     "data": {
      "application/vnd.jupyter.widget-view+json": {
       "model_id": "",
       "version_major": 2,
       "version_minor": 0
      },
      "text/plain": [
       "FloatProgress(value=0.0, bar_style='info', description='Progress:', layout=Layout(height='25px', width='50%'),…"
      ]
     },
     "metadata": {},
     "output_type": "display_data"
    }
   ],
   "source": [
    "plt.title('Precision - Recall Curve')\n",
    "plt.plot(recall, precision, 'b', label = 'AUC = %0.4f' % auc)\n",
    "plt.legend(loc = 'lower right')\n",
    "no_skill = len(ytest[ytest['NR']==1]) / len(ytest)\n",
    "plt.plot([0, 1], [no_skill, no_skill], 'r--', label='No Skill')\n",
    "#plt.xlim([0, 1])\n",
    "#plt.ylim([0, 1])\n",
    "plt.ylabel('Precision')\n",
    "plt.xlabel('Recall')\n",
    "plt.show()"
   ]
  },
  {
   "cell_type": "code",
   "execution_count": 85,
   "metadata": {},
   "outputs": [
    {
     "data": {
      "application/vnd.jupyter.widget-view+json": {
       "model_id": "",
       "version_major": 2,
       "version_minor": 0
      },
      "text/plain": [
       "FloatProgress(value=0.0, bar_style='info', description='Progress:', layout=Layout(height='25px', width='50%'),…"
      ]
     },
     "metadata": {},
     "output_type": "display_data"
    },
    {
     "data": {
      "image/png": "[encoded data removed]",
      "text/plain": [
       "<IPython.core.display.Image object>"
      ]
     },
     "metadata": {},
     "output_type": "display_data"
    }
   ],
   "source": [
    "%matplot plt"
   ]
  },
  {
   "cell_type": "code",
   "execution_count": 86,
   "metadata": {},
   "outputs": [
    {
     "data": {
      "application/vnd.jupyter.widget-view+json": {
       "model_id": "194c313a5b8048bdbccc736faaf035ed",
       "version_major": 2,
       "version_minor": 0
      },
      "text/plain": [
       "VBox()"
      ]
     },
     "metadata": {},
     "output_type": "display_data"
    },
    {
     "data": {
      "application/vnd.jupyter.widget-view+json": {
       "model_id": "",
       "version_major": 2,
       "version_minor": 0
      },
      "text/plain": [
       "FloatProgress(value=0.0, bar_style='info', description='Progress:', layout=Layout(height='25px', width='50%'),…"
      ]
     },
     "metadata": {},
     "output_type": "display_data"
    },
    {
     "name": "stdout",
     "output_type": "stream",
     "text": [
      "Best Threshold=0.964509, F-Score=nan\n",
      "Recall=0.000000\n",
      "Precision=0.000000\n",
      "<string>:3: RuntimeWarning: invalid value encountered in true_divide"
     ]
    }
   ],
   "source": [
    "#Best F1 score optimizes precision recall trade off\n",
    "\n",
    "fscore = (2 * precision * recall) / (precision + recall)\n",
    "ix = argmax(fscore)\n",
    "print('Best Threshold=%f, F-Score=%.3f' % (pr_threshold[ix], fscore[ix]))\n",
    "\n",
    "print('Recall=%f' % recall[ix])\n",
    "print('Precision=%f' % precision[ix])"
   ]
  },
  {
   "cell_type": "code",
   "execution_count": 87,
   "metadata": {},
   "outputs": [
    {
     "data": {
      "application/vnd.jupyter.widget-view+json": {
       "model_id": "288acb07e81340c7b12fb9a7680834c9",
       "version_major": 2,
       "version_minor": 0
      },
      "text/plain": [
       "VBox()"
      ]
     },
     "metadata": {},
     "output_type": "display_data"
    },
    {
     "data": {
      "application/vnd.jupyter.widget-view+json": {
       "model_id": "",
       "version_major": 2,
       "version_minor": 0
      },
      "text/plain": [
       "FloatProgress(value=0.0, bar_style='info', description='Progress:', layout=Layout(height='25px', width='50%'),…"
      ]
     },
     "metadata": {},
     "output_type": "display_data"
    }
   ],
   "source": [
    "#LOGISTIC REGRESSION - solver default=’lbfgs’\n",
    "\n",
    "#Only comments and headline - not location and nickname\n",
    "#Single tokens\n",
    "#data set = 64,908,446\n",
    "#max_features = 50000\n",
    "#ERRORS WITH: (but don't see any missing values so not sure, memory issue?)\n",
    "#Input contains NaN, infinity or a value too large for dtype('float64').\n",
    "\n",
    "#Only comments and headline - not location and nickname\n",
    "#Single tokens\n",
    "#data set = 30 mil\n",
    "#max_features = 30000\n",
    "#Best Threshold=0.245491, F-Score=0.457\n",
    "#Recall=0.445479\n",
    "#Precision=0.468923\n",
    "\n",
    "#Only comments and headline - not location and nickname\n",
    "#n-gram\n",
    "#data set = 30 mil\n",
    "#max_features = 30000\n",
    "#Errors\n",
    "#Best Threshold=0.964509, F-Score=nan\n",
    "#Recall=0.000000\n",
    "#Precision=0.000000\n",
    "#<string>:3: RuntimeWarning: invalid value encountered in true_divide\n",
    "\n",
    "#Single tokens\n",
    "#data set = 500,000\n",
    "#max_features = 30000\n",
    "#Best Threshold=0.209417, F-Score=0.498\n",
    "#Recall 0.49516908212560384\n",
    "#Precision 0.5012224938875306\n",
    "\n",
    "\n",
    "#Single tokens\n",
    "#data set = 500,000\n",
    "#max_features = 50000\n",
    "#Best Threshold=0.200349, F-Score=0.499\n",
    "#Recall=0.504227\n",
    "#Precision=0.494083\n",
    "\n",
    "#Single tokens\n",
    "#data set = 5,000,000\n",
    "#max_features = 50000\n",
    "#Best Threshold=0.200349, F-Score=0.499\n",
    "#Recall=0.504227\n",
    "#Precision=0.494083\n",
    "\n",
    "#Only comments and headline - not location and nickname\n",
    "#Single tokens\n",
    "#data set = 5,000,000\n",
    "#max_features = 50000\n",
    "#Best Threshold=0.257027, F-Score=0.500\n",
    "#Recall=0.481944\n",
    "#Precision=0.519679\n",
    "\n",
    "\n",
    "#2 n-grams\n",
    "#data set = 5,000,000\n",
    "#max_features = 50000\n",
    "#Best Threshold=0.221356, F-Score=0.484\n",
    "#Recall=0.471806\n",
    "#Precision=0.495870\n",
    "\n",
    "#3 n-grams\n",
    "#data set = 5,000,000\n",
    "#max_features = 50000 or 30000\n",
    "#BOTH MAX FEATURE SIZES GIVE MEMORY ERROR\n",
    "\n",
    "#Word embeddings\n",
    "#data set = 500,000\n",
    "#Best Threshold=0.228202, F-Score=0.471\n",
    "#Recall=0.454545\n",
    "#Precision=0.488506"
   ]
  },
  {
   "cell_type": "code",
   "execution_count": null,
   "metadata": {},
   "outputs": [],
   "source": []
  },
  {
   "cell_type": "code",
   "execution_count": null,
   "metadata": {},
   "outputs": [],
   "source": []
  },
  {
   "cell_type": "code",
   "execution_count": null,
   "metadata": {},
   "outputs": [],
   "source": []
  }
 ],
 "metadata": {
  "kernelspec": {
   "display_name": "PySpark",
   "language": "",
   "name": "pysparkkernel"
  },
  "language_info": {
   "codemirror_mode": {
    "name": "python",
    "version": 2
   },
   "mimetype": "text/x-python",
   "name": "pyspark",
   "pygments_lexer": "python2"
  }
 },
 "nbformat": 4,
 "nbformat_minor": 4
}
