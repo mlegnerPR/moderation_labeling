{
 "cells": [
  {
   "cell_type": "code",
   "execution_count": 1,
   "metadata": {},
   "outputs": [
    {
     "data": {
      "application/vnd.jupyter.widget-view+json": {
       "model_id": "0253b3bc28ae4b6ebbd65857bcea1f68",
       "version_major": 2,
       "version_minor": 0
      },
      "text/plain": [
       "VBox()"
      ]
     },
     "metadata": {},
     "output_type": "display_data"
    },
    {
     "name": "stdout",
     "output_type": "stream",
     "text": [
      "Starting Spark application\n"
     ]
    },
    {
     "data": {
      "text/html": [
       "<table>\n",
       "<tr><th>ID</th><th>YARN Application ID</th><th>Kind</th><th>State</th><th>Spark UI</th><th>Driver log</th><th>Current session?</th></tr><tr><td>0</td><td>application_1618921845797_0001</td><td>pyspark</td><td>idle</td><td><a target=\"_blank\" href=\"http://ip-10-101-213-44.us-west-2.compute.internal:20888/proxy/application_1618921845797_0001/\">Link</a></td><td><a target=\"_blank\" href=\"http://ip-10-101-213-44.us-west-2.compute.internal:8042/node/containerlogs/container_1618921845797_0001_01_000001/livy\">Link</a></td><td>✔</td></tr></table>"
      ],
      "text/plain": [
       "<IPython.core.display.HTML object>"
      ]
     },
     "metadata": {},
     "output_type": "display_data"
    },
    {
     "data": {
      "application/vnd.jupyter.widget-view+json": {
       "model_id": "",
       "version_major": 2,
       "version_minor": 0
      },
      "text/plain": [
       "FloatProgress(value=0.0, bar_style='info', description='Progress:', layout=Layout(height='25px', width='50%'),…"
      ]
     },
     "metadata": {},
     "output_type": "display_data"
    },
    {
     "name": "stdout",
     "output_type": "stream",
     "text": [
      "SparkSession available as 'spark'.\n"
     ]
    },
    {
     "data": {
      "application/vnd.jupyter.widget-view+json": {
       "model_id": "",
       "version_major": 2,
       "version_minor": 0
      },
      "text/plain": [
       "FloatProgress(value=0.0, bar_style='info', description='Progress:', layout=Layout(height='25px', width='50%'),…"
      ]
     },
     "metadata": {},
     "output_type": "display_data"
    }
   ],
   "source": [
    "#Import packages\n",
    "import boto3\n",
    "import json\n",
    "import numpy as np\n",
    "from numpy import argmax\n",
    "import pyspark.sql.functions as F\n",
    "import snowflake.connector\n",
    "import pandas as pd\n",
    "import spacy\n",
    "import matplotlib.pyplot as plt\n",
    "from vaderSentiment.vaderSentiment import SentimentIntensityAnalyzer\n",
    "from urllib.parse import urlparse\n",
    "from langdetect import detect\n",
    "\n",
    "#RegEx\n",
    "import regex as re"
   ]
  },
  {
   "cell_type": "code",
   "execution_count": 2,
   "metadata": {},
   "outputs": [
    {
     "data": {
      "application/vnd.jupyter.widget-view+json": {
       "model_id": "5602d0434c284099bf7d3a9c14341a61",
       "version_major": 2,
       "version_minor": 0
      },
      "text/plain": [
       "VBox()"
      ]
     },
     "metadata": {},
     "output_type": "display_data"
    },
    {
     "data": {
      "application/vnd.jupyter.widget-view+json": {
       "model_id": "",
       "version_major": 2,
       "version_minor": 0
      },
      "text/plain": [
       "FloatProgress(value=0.0, bar_style='info', description='Progress:', layout=Layout(height='25px', width='50%'),…"
      ]
     },
     "metadata": {},
     "output_type": "display_data"
    }
   ],
   "source": [
    "sm_client = boto3.client('secretsmanager',region_name='us-west-2')\n",
    "secret_value = sm_client.get_secret_value(SecretId = 'emr_spark_qa')\n",
    "username = json.loads(secret_value['SecretString'])['emr_spark_username']\n",
    "password = json.loads(secret_value['SecretString'])['emr_spark_password']\n",
    "#print(username)\n",
    "#print(password)"
   ]
  },
  {
   "cell_type": "code",
   "execution_count": 3,
   "metadata": {},
   "outputs": [
    {
     "data": {
      "application/vnd.jupyter.widget-view+json": {
       "model_id": "68c9a7b9a55e4dde8ac0af782e9af200",
       "version_major": 2,
       "version_minor": 0
      },
      "text/plain": [
       "VBox()"
      ]
     },
     "metadata": {},
     "output_type": "display_data"
    },
    {
     "data": {
      "application/vnd.jupyter.widget-view+json": {
       "model_id": "",
       "version_major": 2,
       "version_minor": 0
      },
      "text/plain": [
       "FloatProgress(value=0.0, bar_style='info', description='Progress:', layout=Layout(height='25px', width='50%'),…"
      ]
     },
     "metadata": {},
     "output_type": "display_data"
    }
   ],
   "source": [
    "#PYTHON connection info\n",
    "conn = snowflake.connector.connect(\n",
    "    account='powerreviews',\n",
    "    database='analytics_prod',\n",
    "    warehouse='LOWER_ENV_WAREHOUSE',\n",
    "    user=username,\n",
    "    password=password\n",
    "    )\n"
   ]
  },
  {
   "cell_type": "code",
   "execution_count": 6,
   "metadata": {},
   "outputs": [
    {
     "data": {
      "application/vnd.jupyter.widget-view+json": {
       "model_id": "e726d4c45b404ed1802e45bb49b66a9e",
       "version_major": 2,
       "version_minor": 0
      },
      "text/plain": [
       "VBox()"
      ]
     },
     "metadata": {},
     "output_type": "display_data"
    },
    {
     "data": {
      "application/vnd.jupyter.widget-view+json": {
       "model_id": "",
       "version_major": 2,
       "version_minor": 0
      },
      "text/plain": [
       "FloatProgress(value=0.0, bar_style='info', description='Progress:', layout=Layout(height='25px', width='50%'),…"
      ]
     },
     "metadata": {},
     "output_type": "display_data"
    }
   ],
   "source": [
    "#Query some reviews\n",
    "query_1 = \"select distinct r.ugc_id, r.review_headline, r.review_comments, substr(r.locale,1,2) as lang, review_length, \\\n",
    "case when contains(r.observations, 'FL')  then 1 else 0 end as FL \\\n",
    "from analytics.review as r \\\n",
    "join analytics.merchant_group as mg \\\n",
    "on r.client_id = mg.client_id \\\n",
    "where contains(r.observations, 'PM') \\\n",
    "and not contains(r.observations, 'IA') and not contains(r.observations, 'IR') \\\n",
    "and mg.usage_type != 'Test' \\\n",
    "and r.created_date > '2021-01-01' \\\n",
    "and review_length <= 100 \\\n",
    "\"\n",
    "\n",
    "#193267606, 324912854\n",
    "#and r.created_date > '2020-01-01' \\"
   ]
  },
  {
   "cell_type": "code",
   "execution_count": 7,
   "metadata": {},
   "outputs": [
    {
     "data": {
      "application/vnd.jupyter.widget-view+json": {
       "model_id": "62b5134f5c4d4145851b2a57482955a0",
       "version_major": 2,
       "version_minor": 0
      },
      "text/plain": [
       "VBox()"
      ]
     },
     "metadata": {},
     "output_type": "display_data"
    },
    {
     "data": {
      "application/vnd.jupyter.widget-view+json": {
       "model_id": "",
       "version_major": 2,
       "version_minor": 0
      },
      "text/plain": [
       "FloatProgress(value=0.0, bar_style='info', description='Progress:', layout=Layout(height='25px', width='50%'),…"
      ]
     },
     "metadata": {},
     "output_type": "display_data"
    },
    {
     "name": "stdout",
     "output_type": "stream",
     "text": [
      "<class 'pandas.core.frame.DataFrame'>\n",
      "RangeIndex: 1710235 entries, 0 to 1710234\n",
      "Data columns (total 6 columns):\n",
      " #   Column           Dtype \n",
      "---  ------           ----- \n",
      " 0   UGC_ID           int64 \n",
      " 1   REVIEW_HEADLINE  object\n",
      " 2   REVIEW_COMMENTS  object\n",
      " 3   LANG             object\n",
      " 4   REVIEW_LENGTH    int64 \n",
      " 5   FL               int64 \n",
      "dtypes: int64(3), object(3)\n",
      "memory usage: 78.3+ MB"
     ]
    }
   ],
   "source": [
    "reviews = pd.read_sql(query_1, conn)\n",
    "reviews.head()\n",
    "reviews.info()\n"
   ]
  },
  {
   "cell_type": "code",
   "execution_count": 8,
   "metadata": {},
   "outputs": [
    {
     "data": {
      "application/vnd.jupyter.widget-view+json": {
       "model_id": "2ef41026e8e148e09bad1b96064bdab7",
       "version_major": 2,
       "version_minor": 0
      },
      "text/plain": [
       "VBox()"
      ]
     },
     "metadata": {},
     "output_type": "display_data"
    },
    {
     "data": {
      "application/vnd.jupyter.widget-view+json": {
       "model_id": "",
       "version_major": 2,
       "version_minor": 0
      },
      "text/plain": [
       "FloatProgress(value=0.0, bar_style='info', description='Progress:', layout=Layout(height='25px', width='50%'),…"
      ]
     },
     "metadata": {},
     "output_type": "display_data"
    }
   ],
   "source": [
    "#reviews = reviews.dropna()"
   ]
  },
  {
   "cell_type": "code",
   "execution_count": 9,
   "metadata": {},
   "outputs": [
    {
     "data": {
      "application/vnd.jupyter.widget-view+json": {
       "model_id": "8748dd9d5a1f419db88693e6b0a5a362",
       "version_major": 2,
       "version_minor": 0
      },
      "text/plain": [
       "VBox()"
      ]
     },
     "metadata": {},
     "output_type": "display_data"
    },
    {
     "data": {
      "application/vnd.jupyter.widget-view+json": {
       "model_id": "",
       "version_major": 2,
       "version_minor": 0
      },
      "text/plain": [
       "FloatProgress(value=0.0, bar_style='info', description='Progress:', layout=Layout(height='25px', width='50%'),…"
      ]
     },
     "metadata": {},
     "output_type": "display_data"
    }
   ],
   "source": [
    "#Need to add \"word\" in front bc otherwise reviews with just emojis, symbols, #s, etc will not work in langdetect package\n",
    "#Throws this error if no words: \"langdetect.lang_detect_exception.LangDetectException: No features in text.\"\n",
    "#reviews['REVIEW_COMMENTS'] = reviews['REVIEW_COMMENTS'].fillna(' ')\n",
    "#reviews['ALL_TEXT'] =  reviews['REVIEW_HEADLINE'] + ' word ' + reviews['REVIEW_COMMENTS']\n",
    "reviews['ALL_TEXT'] = reviews['REVIEW_HEADLINE'] + ' ' + reviews['REVIEW_COMMENTS']\n"
   ]
  },
  {
   "cell_type": "code",
   "execution_count": 10,
   "metadata": {},
   "outputs": [
    {
     "data": {
      "application/vnd.jupyter.widget-view+json": {
       "model_id": "726a2fca781d4177a4ac1f704cd47ac8",
       "version_major": 2,
       "version_minor": 0
      },
      "text/plain": [
       "VBox()"
      ]
     },
     "metadata": {},
     "output_type": "display_data"
    },
    {
     "data": {
      "application/vnd.jupyter.widget-view+json": {
       "model_id": "",
       "version_major": 2,
       "version_minor": 0
      },
      "text/plain": [
       "FloatProgress(value=0.0, bar_style='info', description='Progress:', layout=Layout(height='25px', width='50%'),…"
      ]
     },
     "metadata": {},
     "output_type": "display_data"
    },
    {
     "name": "stdout",
     "output_type": "stream",
     "text": [
      "      UGC_ID  ...                                           ALL_TEXT\n",
      "0  325766472  ...  good bike feels really nice still getting used...\n",
      "1  325153912  ...  Motion Sickness on this machine You bob up and...\n",
      "2  325242843  ...                           its a good bike its good\n",
      "3  330372758  ...  It is a very nice i crashed into a car but the...\n",
      "4  340220163  ...  This bike is made of 24k gold as much as a dec...\n",
      "\n",
      "[5 rows x 7 columns]"
     ]
    }
   ],
   "source": [
    "reviews.head()"
   ]
  },
  {
   "cell_type": "code",
   "execution_count": 11,
   "metadata": {},
   "outputs": [
    {
     "data": {
      "application/vnd.jupyter.widget-view+json": {
       "model_id": "7143c8c4d47a464ca68ad28de281cfd6",
       "version_major": 2,
       "version_minor": 0
      },
      "text/plain": [
       "VBox()"
      ]
     },
     "metadata": {},
     "output_type": "display_data"
    },
    {
     "data": {
      "application/vnd.jupyter.widget-view+json": {
       "model_id": "",
       "version_major": 2,
       "version_minor": 0
      },
      "text/plain": [
       "FloatProgress(value=0.0, bar_style='info', description='Progress:', layout=Layout(height='25px', width='50%'),…"
      ]
     },
     "metadata": {},
     "output_type": "display_data"
    }
   ],
   "source": [
    "\n",
    "#reviews['ALL_TEXT_2'] = reviews.apply(lambda x: str(x['ALL_TEXT']).replace(r'[^\\w]' , ' '), axis = 1)\n",
    "#reviews['ALL_TEXT_2'] = reviews.apply(lambda x: re.sub(r'[^\\w]', ' ', x['ALL_TEXT']) )\n",
    "\n",
    "#Look for only words (will still include Chinese characters and such) but removes emojis, symbols, etc\n",
    "#[^\\w] Does not always get all #s though 10/10 removes / and leaves 10 10\n",
    "def onlywords(text):\n",
    "    return re.sub(r'[^\\w]|[\\d]', ' ', text) \n",
    "\n",
    "\n",
    "reviews['ALL_TEXT']=reviews['ALL_TEXT'].apply(str)\n",
    "reviews['ALL_TEXT_2'] = reviews['ALL_TEXT'].apply(onlywords)\n"
   ]
  },
  {
   "cell_type": "code",
   "execution_count": 12,
   "metadata": {},
   "outputs": [
    {
     "data": {
      "application/vnd.jupyter.widget-view+json": {
       "model_id": "b8068af217004da1a4bbe301cb86cc12",
       "version_major": 2,
       "version_minor": 0
      },
      "text/plain": [
       "VBox()"
      ]
     },
     "metadata": {},
     "output_type": "display_data"
    },
    {
     "data": {
      "application/vnd.jupyter.widget-view+json": {
       "model_id": "",
       "version_major": 2,
       "version_minor": 0
      },
      "text/plain": [
       "FloatProgress(value=0.0, bar_style='info', description='Progress:', layout=Layout(height='25px', width='50%'),…"
      ]
     },
     "metadata": {},
     "output_type": "display_data"
    },
    {
     "name": "stdout",
     "output_type": "stream",
     "text": [
      "      UGC_ID  ...                                         ALL_TEXT_2\n",
      "0  325766472  ...  good bike feels really nice still getting used...\n",
      "1  325153912  ...  Motion Sickness on this machine You bob up and...\n",
      "2  325242843  ...                           its a good bike its good\n",
      "3  330372758  ...  It is a very nice i crashed into a car but the...\n",
      "4  340220163  ...  This bike is made of   k gold as much as a dec...\n",
      "\n",
      "[5 rows x 8 columns]"
     ]
    }
   ],
   "source": [
    "reviews.head()"
   ]
  },
  {
   "cell_type": "code",
   "execution_count": 13,
   "metadata": {},
   "outputs": [
    {
     "data": {
      "application/vnd.jupyter.widget-view+json": {
       "model_id": "f6aa6cbb30d04be3b925dba06f51f209",
       "version_major": 2,
       "version_minor": 0
      },
      "text/plain": [
       "VBox()"
      ]
     },
     "metadata": {},
     "output_type": "display_data"
    },
    {
     "data": {
      "application/vnd.jupyter.widget-view+json": {
       "model_id": "",
       "version_major": 2,
       "version_minor": 0
      },
      "text/plain": [
       "FloatProgress(value=0.0, bar_style='info', description='Progress:', layout=Layout(height='25px', width='50%'),…"
      ]
     },
     "metadata": {},
     "output_type": "display_data"
    }
   ],
   "source": [
    "#Apply detect from langdetect package to determine what language is being used\n",
    "#reviews['ALL_TEXT_2']=reviews['ALL_TEXT_2'].apply(str)\n",
    "#reviews['PRED_LANG'] = reviews['ALL_TEXT_2'].apply(detect)\n",
    "\n"
   ]
  },
  {
   "cell_type": "code",
   "execution_count": 14,
   "metadata": {},
   "outputs": [
    {
     "data": {
      "application/vnd.jupyter.widget-view+json": {
       "model_id": "0a4e86792a6e4342ab08b293a62ba9ec",
       "version_major": 2,
       "version_minor": 0
      },
      "text/plain": [
       "VBox()"
      ]
     },
     "metadata": {},
     "output_type": "display_data"
    },
    {
     "data": {
      "application/vnd.jupyter.widget-view+json": {
       "model_id": "",
       "version_major": 2,
       "version_minor": 0
      },
      "text/plain": [
       "FloatProgress(value=0.0, bar_style='info', description='Progress:', layout=Layout(height='25px', width='50%'),…"
      ]
     },
     "metadata": {},
     "output_type": "display_data"
    },
    {
     "name": "stdout",
     "output_type": "stream",
     "text": [
      "<string>:1: FutureWarning: Passing a negative integer is deprecated in version 1.0 and will not be supported in future version. Instead, use None to not limit the column width."
     ]
    }
   ],
   "source": [
    "pd.set_option('display.max_colwidth', -1)\n",
    "pd.set_option('display.max_columns', None)\n",
    "pd.set_option('display.max_rows', None)\n",
    "\n",
    "#reviews.head(25)"
   ]
  },
  {
   "cell_type": "code",
   "execution_count": null,
   "metadata": {},
   "outputs": [
    {
     "data": {
      "application/vnd.jupyter.widget-view+json": {
       "model_id": "7e82b85d271d455eac45c4a6ee74c517",
       "version_major": 2,
       "version_minor": 0
      },
      "text/plain": [
       "VBox()"
      ]
     },
     "metadata": {},
     "output_type": "display_data"
    },
    {
     "data": {
      "application/vnd.jupyter.widget-view+json": {
       "model_id": "8a8003c5dca94a6fa61f955629d8830c",
       "version_major": 2,
       "version_minor": 0
      },
      "text/plain": [
       "FloatProgress(value=0.0, bar_style='info', description='Progress:', layout=Layout(height='25px', width='50%'),…"
      ]
     },
     "metadata": {},
     "output_type": "display_data"
    }
   ],
   "source": [
    "#Use this instead of lambda function bc lambda will fail when it encounters just spaces and no words\n",
    "#This way doesn't error out\n",
    "texl70 = reviews['ALL_TEXT_2']\n",
    "langdet = []                                                    \n",
    "\n",
    "for i in range(len(reviews)):                                         \n",
    "    try:                                                          \n",
    "       lang=detect(texl70[i])                                      \n",
    "    except:                                                       \n",
    "       lang='no'                 \n",
    "    langdet.append(lang) \n",
    "    \n",
    "    "
   ]
  },
  {
   "cell_type": "code",
   "execution_count": null,
   "metadata": {},
   "outputs": [],
   "source": [
    "reviews['PRED_LANG'] = langdet"
   ]
  },
  {
   "cell_type": "code",
   "execution_count": null,
   "metadata": {},
   "outputs": [],
   "source": [
    "reviews.head()"
   ]
  },
  {
   "cell_type": "code",
   "execution_count": 16,
   "metadata": {},
   "outputs": [
    {
     "data": {
      "application/vnd.jupyter.widget-view+json": {
       "model_id": "e6d84f86fbac42b9a4a9eed99c813a1e",
       "version_major": 2,
       "version_minor": 0
      },
      "text/plain": [
       "VBox()"
      ]
     },
     "metadata": {},
     "output_type": "display_data"
    },
    {
     "data": {
      "application/vnd.jupyter.widget-view+json": {
       "model_id": "",
       "version_major": 2,
       "version_minor": 0
      },
      "text/plain": [
       "FloatProgress(value=0.0, bar_style='info', description='Progress:', layout=Layout(height='25px', width='50%'),…"
      ]
     },
     "metadata": {},
     "output_type": "display_data"
    }
   ],
   "source": [
    "reviews['model_FL'] = 0\n",
    "\n",
    "reviews.loc[ reviews['LANG'] != reviews['PRED_LANG'] , 'model_FL'] = 1\n",
    "\n",
    "#Short reviews like \"good good\" , \"Excellent\", \"i like this\" get predicted as \"af\"\n",
    "#label as ok bc probably mislabeled as \"af\" when actually \"en\"\n",
    "#reviews.loc[ (reviews['LANG']=='en') & (reviews['PRED_LANG']=='af') , 'model_FL'] = 0\n",
    "\n",
    "#Our setup may have accidentally used \"jp\" as well as \"ja\" for Japenese\n",
    "#\"ja\" is official code but mark \"jp\" as ok too\n",
    "reviews.loc[ (reviews['LANG']=='jp') & (reviews['PRED_LANG']=='ja') , 'model_FL'] = 0\n",
    "\n",
    "#reviews.loc[reviews['REVIEW_LENGTH'] < 40 , 'model_FL'] = 0\n",
    "\n",
    "\n"
   ]
  },
  {
   "cell_type": "code",
   "execution_count": 17,
   "metadata": {},
   "outputs": [
    {
     "data": {
      "application/vnd.jupyter.widget-view+json": {
       "model_id": "71c26ea137e344ef9e6d035c539a9482",
       "version_major": 2,
       "version_minor": 0
      },
      "text/plain": [
       "VBox()"
      ]
     },
     "metadata": {},
     "output_type": "display_data"
    },
    {
     "data": {
      "application/vnd.jupyter.widget-view+json": {
       "model_id": "",
       "version_major": 2,
       "version_minor": 0
      },
      "text/plain": [
       "FloatProgress(value=0.0, bar_style='info', description='Progress:', layout=Layout(height='25px', width='50%'),…"
      ]
     },
     "metadata": {},
     "output_type": "display_data"
    }
   ],
   "source": [
    "FP = reviews[(reviews['FL'] == 0) & (reviews['model_FL'] == 1)]\n",
    "FN = reviews[(reviews['FL'] == 1) & (reviews['model_FL'] == 0)]\n",
    "TP = reviews[(reviews['FL'] == 1) & (reviews['model_FL'] == 1)]\n",
    "TN = reviews[(reviews['FL'] == 0) & (reviews['model_FL'] == 0)]\n"
   ]
  },
  {
   "cell_type": "code",
   "execution_count": 18,
   "metadata": {},
   "outputs": [
    {
     "data": {
      "application/vnd.jupyter.widget-view+json": {
       "model_id": "9af9f16eb3f749aea5bb699d2dedaeb2",
       "version_major": 2,
       "version_minor": 0
      },
      "text/plain": [
       "VBox()"
      ]
     },
     "metadata": {},
     "output_type": "display_data"
    },
    {
     "data": {
      "application/vnd.jupyter.widget-view+json": {
       "model_id": "",
       "version_major": 2,
       "version_minor": 0
      },
      "text/plain": [
       "FloatProgress(value=0.0, bar_style='info', description='Progress:', layout=Layout(height='25px', width='50%'),…"
      ]
     },
     "metadata": {},
     "output_type": "display_data"
    },
    {
     "name": "stdout",
     "output_type": "stream",
     "text": [
      "128714"
     ]
    }
   ],
   "source": [
    "\n",
    "FP['UGC_ID'].count()"
   ]
  },
  {
   "cell_type": "code",
   "execution_count": 19,
   "metadata": {},
   "outputs": [
    {
     "data": {
      "application/vnd.jupyter.widget-view+json": {
       "model_id": "61ac75e9a3e842c38da0e09dd95309ab",
       "version_major": 2,
       "version_minor": 0
      },
      "text/plain": [
       "VBox()"
      ]
     },
     "metadata": {},
     "output_type": "display_data"
    },
    {
     "data": {
      "application/vnd.jupyter.widget-view+json": {
       "model_id": "",
       "version_major": 2,
       "version_minor": 0
      },
      "text/plain": [
       "FloatProgress(value=0.0, bar_style='info', description='Progress:', layout=Layout(height='25px', width='50%'),…"
      ]
     },
     "metadata": {},
     "output_type": "display_data"
    },
    {
     "name": "stdout",
     "output_type": "stream",
     "text": [
      "779"
     ]
    }
   ],
   "source": [
    "\n",
    "FN['UGC_ID'].count()"
   ]
  },
  {
   "cell_type": "code",
   "execution_count": 20,
   "metadata": {},
   "outputs": [
    {
     "data": {
      "application/vnd.jupyter.widget-view+json": {
       "model_id": "471e9ebdfe304bf386eae9ad48132493",
       "version_major": 2,
       "version_minor": 0
      },
      "text/plain": [
       "VBox()"
      ]
     },
     "metadata": {},
     "output_type": "display_data"
    },
    {
     "data": {
      "application/vnd.jupyter.widget-view+json": {
       "model_id": "",
       "version_major": 2,
       "version_minor": 0
      },
      "text/plain": [
       "FloatProgress(value=0.0, bar_style='info', description='Progress:', layout=Layout(height='25px', width='50%'),…"
      ]
     },
     "metadata": {},
     "output_type": "display_data"
    },
    {
     "name": "stdout",
     "output_type": "stream",
     "text": [
      "6300"
     ]
    }
   ],
   "source": [
    "\n",
    "TP['UGC_ID'].count()"
   ]
  },
  {
   "cell_type": "code",
   "execution_count": 21,
   "metadata": {},
   "outputs": [
    {
     "data": {
      "application/vnd.jupyter.widget-view+json": {
       "model_id": "7fe40fad32ce44199f932c64e5119788",
       "version_major": 2,
       "version_minor": 0
      },
      "text/plain": [
       "VBox()"
      ]
     },
     "metadata": {},
     "output_type": "display_data"
    },
    {
     "data": {
      "application/vnd.jupyter.widget-view+json": {
       "model_id": "",
       "version_major": 2,
       "version_minor": 0
      },
      "text/plain": [
       "FloatProgress(value=0.0, bar_style='info', description='Progress:', layout=Layout(height='25px', width='50%'),…"
      ]
     },
     "metadata": {},
     "output_type": "display_data"
    },
    {
     "name": "stdout",
     "output_type": "stream",
     "text": [
      "2853553"
     ]
    }
   ],
   "source": [
    "TN['UGC_ID'].count()"
   ]
  },
  {
   "cell_type": "code",
   "execution_count": 22,
   "metadata": {},
   "outputs": [
    {
     "data": {
      "application/vnd.jupyter.widget-view+json": {
       "model_id": "23b269da86d1453d9c9aaf36791c0236",
       "version_major": 2,
       "version_minor": 0
      },
      "text/plain": [
       "VBox()"
      ]
     },
     "metadata": {},
     "output_type": "display_data"
    },
    {
     "data": {
      "application/vnd.jupyter.widget-view+json": {
       "model_id": "",
       "version_major": 2,
       "version_minor": 0
      },
      "text/plain": [
       "FloatProgress(value=0.0, bar_style='info', description='Progress:', layout=Layout(height='25px', width='50%'),…"
      ]
     },
     "metadata": {},
     "output_type": "display_data"
    },
    {
     "name": "stdout",
     "output_type": "stream",
     "text": [
      "         UGC_ID                                REVIEW_HEADLINE  \\\n",
      "4     338478727  geeat                                           \n",
      "41    338479218  all good                                        \n",
      "89    338470892  Good buy                                        \n",
      "135   338465717  great                                           \n",
      "138   338464339  great                                           \n",
      "144   338473977  EASY!                                           \n",
      "157   338449696  Good                                            \n",
      "178   338440091  Cute tic tac toe decor!                         \n",
      "222   338472156  YES                                             \n",
      "282   338465969  great                                           \n",
      "312   338484927  Yws                                             \n",
      "360   338486326  Producto ok                                     \n",
      "531   330022627  Really like CK leggings                         \n",
      "537   330139494  Buy again                                       \n",
      "558   330037199  Excellent!                                      \n",
      "589   330023116  User friendy                                    \n",
      "594   330068223  Just fine.                                      \n",
      "612   330047077  YES                                             \n",
      "632   330135566  Excellent.                                      \n",
      "637   330046034  Variedad de YETI                                \n",
      "643   330028108  Awesome                                         \n",
      "650   330085078  Great card                                      \n",
      "662   330032036  ok                                              \n",
      "696   330045029  Fun                                             \n",
      "697   330045291  Elemental                                       \n",
      "710   330056010  Todo excelente                                  \n",
      "733   330017583  衣櫃收納盒                                           \n",
      "738   330033109  Excellent                                       \n",
      "763   330091797  great                                           \n",
      "764   330134812  Easy                                            \n",
      "840   330031317  great                                           \n",
      "842   330140615  easy shopping                                   \n",
      "843   330145976  great                                           \n",
      "844   330142707  神奇的軟木杯墊                                         \n",
      "845   330148195  買                                               \n",
      "846   330147811  方便使用                                            \n",
      "847   330031211  不太好組裝                                           \n",
      "848   330008212  CP值高                                            \n",
      "849   330147446  盒子配件沒有隨身附                                       \n",
      "850   330142424  箱子加蓋放在副駕駛座踏板                                    \n",
      "851   330145512  世界奇觀                                            \n",
      "871   330030661  Love                                            \n",
      "885   330145452  CP值高的收納盒                                        \n",
      "896   330055832  Easy                                            \n",
      "944   330904778  Logical                                         \n",
      "996   330918596  simple                                          \n",
      "1030  330938355  Cute                                            \n",
      "1046  330901762  good                                            \n",
      "1070  330899084  great                                           \n",
      "1075  330835798  Easy                                            \n",
      "1076  330836307  So far so good                                  \n",
      "1078  330838242  FOUND ITEMS EASILY                              \n",
      "1084  330896428  great                                           \n",
      "1085  330896597  GREAT!                                          \n",
      "1089  330902601  great                                           \n",
      "1090  330908479  very detailed site                              \n",
      "1091  330910221  GOOD --GOT ADDITIONAL 10% OFF FOR FIRST ORDER   \n",
      "1093  330916828  Great prices                                    \n",
      "1094  330916888  Easy peasy                                      \n",
      "1097  330919755  great                                           \n",
      "1098  330937097  Good, so far                                    \n",
      "1131  330839056  excellent                                       \n",
      "1133  330859634  All good stuff                                  \n",
      "1135  330895487  Password resets !                               \n",
      "1137  330897567  good                                            \n",
      "1170  330909829  great                                           \n",
      "1177  330918674  Will get again                                  \n",
      "1182  330907985  ok                                              \n",
      "1185  330907838  would get again                                 \n",
      "1215  330900593  yes                                             \n",
      "1223  330897055  good                                            \n",
      "1228  330918155  A++++++                                         \n",
      "1229  330918340  FINE                                            \n",
      "1231  330918807  ALWAYS EASY AND EFFICIENT!                      \n",
      "1269  330779452  good                                            \n",
      "1273  330860179  Good                                            \n",
      "1276  330897080  good                                            \n",
      "1277  330897946  good                                            \n",
      "1285  330939105  Good so far.                                    \n",
      "1288  330845054  test                                            \n",
      "1303  330942362  great                                           \n",
      "1426  340220895  Beautiful yarn!                                 \n",
      "1429  340229827  yes                                             \n",
      "1444  340128227  Yes                                             \n",
      "1467  340229377  Nice                                            \n",
      "1532  340175453  good                                            \n",
      "1539  340111119  Very good                                       \n",
      "1553  340163313  Top top                                         \n",
      "1650  340229033  Great polo                                      \n",
      "1678  340128196  pyjama                                          \n",
      "1685  340188249  Cr                                              \n",
      "1713  340177201  Eddie Bauer jacket                              \n",
      "1744  340127858  did                                             \n",
      "1817  340229721  good                                            \n",
      "1837  340220162  good                                            \n",
      "1855  340117336  Excellent experience                            \n",
      "1859  340121808  Good                                            \n",
      "1862  340123799  always good                                     \n",
      "1863  340124946  great                                           \n",
      "1864  340125543  great                                           \n",
      "\n",
      "                                                        REVIEW_COMMENTS LANG  \\\n",
      "4     geeat                                                              en    \n",
      "41    all good                                                           en    \n",
      "89    Great sales                                                        en    \n",
      "135   great                                                              en    \n",
      "138   great                                                              en    \n",
      "144   EASY!!!!                                                           en    \n",
      "157   Good                                                               en    \n",
      "178   So cute, you can play or decorate!                                 en    \n",
      "222   ORDERED 3 POLO SHIRTS.  RECEIVED ONLY ONE.                         en    \n",
      "282   great                                                              en    \n",
      "312   Good fit.  Everyday wear.bRed                                      en    \n",
      "360   Bien                                                               es    \n",
      "531   Nice leggings!                                                     en    \n",
      "537   Great buy again                                                    en    \n",
      "558   Excellent!                                                         en    \n",
      "589   User friendy                                                       en    \n",
      "594   Just fine.                                                         en    \n",
      "612   GREAT!!!!!!!!!!!!!!!!!!!!!                                         en    \n",
      "632   Excellent.                                                         en    \n",
      "637   Excelente servicio y variedad de productos YETI y sus accesorios.  en    \n",
      "643   Awesome                                                            en    \n",
      "650   Great card                                                         en    \n",
      "662   sandwiches                                                         en    \n",
      "696   Eat it.                                                            en    \n",
      "697   Cleaning                                                           en    \n",
      "710   Todo excelente                                                     es    \n",
      "733   整理的好幫手                                                             zh    \n",
      "738   Excellent quality and service good value                           en    \n",
      "763   great                                                              en    \n",
      "764   Easy                                                               en    \n",
      "840   great                                                              en    \n",
      "842   easy shopping                                                      en    \n",
      "843   great                                                              en    \n",
      "844   水吸多了會縮水..久了就會小一號，一段時間後要換新                                          zh    \n",
      "845   買，有人要買就買吧。                                                         zh    \n",
      "846   方便實用                                                               zh    \n",
      "847   有部分接點沒有鑽孔，組裝好久                                                     zh    \n",
      "848   外型優 又便宜 讚！                                                         zh    \n",
      "849   配件沒有在盒子裡面！\\n配件沒有在盒子裡面！\\n配件沒有在盒子裡面！                                 zh    \n",
      "850   和箱子放副駕駛座踏板高度剛好不會倒！透明的不會阻礙找東西加蓋也很好用！                                zh    \n",
      "851   超越現代，未來商品                                                          zh    \n",
      "871   Love                                                               en    \n",
      "885   極好用的抽屜收納盒，透明盒設計，使得內容物方便確認，省時又好整理喔！                                 zh    \n",
      "896   Easy                                                               en    \n",
      "944   Logical                                                            en    \n",
      "996   simple                                                             en    \n",
      "1030  Cute                                                               en    \n",
      "1046  good                                                               en    \n",
      "1070  great                                                              en    \n",
      "1075  Easy                                                               en    \n",
      "1076  So far so good                                                     en    \n",
      "1078  FOUND ITEMS EASILY                                                 en    \n",
      "1084  great                                                              en    \n",
      "1085  GREAT!                                                             en    \n",
      "1089  great                                                              en    \n",
      "1090  very detailed site                                                 en    \n",
      "1091  GOOD --GOT ADDITIONAL 10% OFF FOR FIRST ORDER                      en    \n",
      "1093  Great prices                                                       en    \n",
      "1094  Easy peasy                                                         en    \n",
      "1097  great                                                              en    \n",
      "1098  Good, so far                                                       en    \n",
      "1131  excellent                                                          en    \n",
      "1133  All good stuff                                                     en    \n",
      "1135  Password resets !                                                  en    \n",
      "1137  good                                                               en    \n",
      "1170  great                                                              en    \n",
      "1177  Taste good                                                         en    \n",
      "1182  good                                                               en    \n",
      "1185  good                                                               en    \n",
      "1215  resale                                                             en    \n",
      "1223  good                                                               en    \n",
      "1228  A++++++                                                            en    \n",
      "1229  FINE                                                               en    \n",
      "1231  ALWAYS EASY AND EFFICIENT!!!!!!                                    en    \n",
      "1269  good                                                               en    \n",
      "1273  Good                                                               en    \n",
      "1276  good                                                               en    \n",
      "1277  good                                                               en    \n",
      "1285  Good so far.                                                       en    \n",
      "1288  lorem ipsum                                                        en    \n",
      "1303  great                                                              en    \n",
      "1426  Such beautiful yarn for a baby cardigan.                           en    \n",
      "1429  Like it                                                            en    \n",
      "1444  Awesome                                                            en    \n",
      "1467  Nice                                                               en    \n",
      "1532  reloading dies are great                                           en    \n",
      "1539  Very good                                                          en    \n",
      "1553  Gostei muitooooo                                                   pt    \n",
      "1650  Great polo                                                         en    \n",
      "1678  correspond à la demande                                            fr    \n",
      "1685  Great magazine!                                                    en    \n",
      "1713  Very nice garment                                                  en    \n",
      "1744  aesome                                                             en    \n",
      "1817  good                                                               en    \n",
      "1837  good                                                               en    \n",
      "1855  Excellent experience                                               en    \n",
      "1859  Good                                                               en    \n",
      "1862  always good                                                        en    \n",
      "1863  great                                                              en    \n",
      "1864  great                                                              en    \n",
      "\n",
      "      REVIEW_LENGTH  FL  \\\n",
      "4     5              0    \n",
      "41    8              0    \n",
      "89    11             0    \n",
      "135   5              0    \n",
      "138   5              0    \n",
      "144   8              0    \n",
      "157   4              0    \n",
      "178   34             0    \n",
      "222   42             0    \n",
      "282   5              0    \n",
      "312   29             0    \n",
      "360   4              0    \n",
      "531   14             0    \n",
      "537   15             0    \n",
      "558   10             0    \n",
      "589   12             0    \n",
      "594   10             0    \n",
      "612   26             0    \n",
      "632   10             0    \n",
      "637   65             0    \n",
      "643   7              0    \n",
      "650   10             0    \n",
      "662   10             0    \n",
      "696   7              0    \n",
      "697   8              0    \n",
      "710   14             0    \n",
      "733   6              0    \n",
      "738   40             0    \n",
      "763   5              0    \n",
      "764   4              0    \n",
      "840   5              0    \n",
      "842   13             0    \n",
      "843   5              0    \n",
      "844   25             0    \n",
      "845   10             0    \n",
      "846   4              0    \n",
      "847   14             0    \n",
      "848   10             0    \n",
      "849   32             0    \n",
      "850   35             0    \n",
      "851   9              0    \n",
      "871   4              0    \n",
      "885   34             0    \n",
      "896   4              0    \n",
      "944   7              0    \n",
      "996   6              0    \n",
      "1030  4              0    \n",
      "1046  4              0    \n",
      "1070  5              0    \n",
      "1075  4              0    \n",
      "1076  14             0    \n",
      "1078  18             0    \n",
      "1084  5              0    \n",
      "1085  6              0    \n",
      "1089  5              0    \n",
      "1090  18             0    \n",
      "1091  45             0    \n",
      "1093  12             0    \n",
      "1094  10             0    \n",
      "1097  5              0    \n",
      "1098  12             0    \n",
      "1131  9              0    \n",
      "1133  14             0    \n",
      "1135  17             0    \n",
      "1137  4              0    \n",
      "1170  5              0    \n",
      "1177  10             0    \n",
      "1182  4              0    \n",
      "1185  4              0    \n",
      "1215  6              0    \n",
      "1223  4              0    \n",
      "1228  7              0    \n",
      "1229  4              0    \n",
      "1231  31             0    \n",
      "1269  4              0    \n",
      "1273  4              0    \n",
      "1276  4              0    \n",
      "1277  4              0    \n",
      "1285  12             0    \n",
      "1288  11             0    \n",
      "1303  5              0    \n",
      "1426  40             0    \n",
      "1429  7              0    \n",
      "1444  7              0    \n",
      "1467  4              0    \n",
      "1532  24             0    \n",
      "1539  9              0    \n",
      "1553  16             0    \n",
      "1650  10             0    \n",
      "1678  23             0    \n",
      "1685  15             0    \n",
      "1713  17             0    \n",
      "1744  6              0    \n",
      "1817  4              0    \n",
      "1837  4              0    \n",
      "1855  20             0    \n",
      "1859  4              0    \n",
      "1862  11             0    \n",
      "1863  5              0    \n",
      "1864  5              0    \n",
      "\n",
      "                                                                                         ALL_TEXT  \\\n",
      "4     geeat geeat                                                                                   \n",
      "41    all good all good                                                                             \n",
      "89    Good buy Great sales                                                                          \n",
      "135   great great                                                                                   \n",
      "138   great great                                                                                   \n",
      "144   EASY! EASY!!!!                                                                                \n",
      "157   Good Good                                                                                     \n",
      "178   Cute tic tac toe decor! So cute, you can play or decorate!                                    \n",
      "222   YES ORDERED 3 POLO SHIRTS.  RECEIVED ONLY ONE.                                                \n",
      "282   great great                                                                                   \n",
      "312   Yws Good fit.  Everyday wear.bRed                                                             \n",
      "360   Producto ok Bien                                                                              \n",
      "531   Really like CK leggings Nice leggings!                                                        \n",
      "537   Buy again Great buy again                                                                     \n",
      "558   Excellent! Excellent!                                                                         \n",
      "589   User friendy User friendy                                                                     \n",
      "594   Just fine. Just fine.                                                                         \n",
      "612   YES GREAT!!!!!!!!!!!!!!!!!!!!!                                                                \n",
      "632   Excellent. Excellent.                                                                         \n",
      "637   Variedad de YETI Excelente servicio y variedad de productos YETI y sus accesorios.            \n",
      "643   Awesome Awesome                                                                               \n",
      "650   Great card Great card                                                                         \n",
      "662   ok sandwiches                                                                                 \n",
      "696   Fun Eat it.                                                                                   \n",
      "697   Elemental Cleaning                                                                            \n",
      "710   Todo excelente Todo excelente                                                                 \n",
      "733   衣櫃收納盒 整理的好幫手                                                                                  \n",
      "738   Excellent Excellent quality and service good value                                            \n",
      "763   great great                                                                                   \n",
      "764   Easy Easy                                                                                     \n",
      "840   great great                                                                                   \n",
      "842   easy shopping easy shopping                                                                   \n",
      "843   great great                                                                                   \n",
      "844   神奇的軟木杯墊 水吸多了會縮水..久了就會小一號，一段時間後要換新                                                             \n",
      "845   買 買，有人要買就買吧。                                                                                  \n",
      "846   方便使用 方便實用                                                                                     \n",
      "847   不太好組裝 有部分接點沒有鑽孔，組裝好久                                                                          \n",
      "848   CP值高 外型優 又便宜 讚！                                                                               \n",
      "849   盒子配件沒有隨身附 配件沒有在盒子裡面！\\n配件沒有在盒子裡面！\\n配件沒有在盒子裡面！                                                  \n",
      "850   箱子加蓋放在副駕駛座踏板 和箱子放副駕駛座踏板高度剛好不會倒！透明的不會阻礙找東西加蓋也很好用！                                              \n",
      "851   世界奇觀 超越現代，未來商品                                                                                \n",
      "871   Love Love                                                                                     \n",
      "885   CP值高的收納盒 極好用的抽屜收納盒，透明盒設計，使得內容物方便確認，省時又好整理喔！                                                   \n",
      "896   Easy Easy                                                                                     \n",
      "944   Logical Logical                                                                               \n",
      "996   simple simple                                                                                 \n",
      "1030  Cute Cute                                                                                     \n",
      "1046  good good                                                                                     \n",
      "1070  great great                                                                                   \n",
      "1075  Easy Easy                                                                                     \n",
      "1076  So far so good So far so good                                                                 \n",
      "1078  FOUND ITEMS EASILY FOUND ITEMS EASILY                                                         \n",
      "1084  great great                                                                                   \n",
      "1085  GREAT! GREAT!                                                                                 \n",
      "1089  great great                                                                                   \n",
      "1090  very detailed site very detailed site                                                         \n",
      "1091  GOOD --GOT ADDITIONAL 10% OFF FOR FIRST ORDER GOOD --GOT ADDITIONAL 10% OFF FOR FIRST ORDER   \n",
      "1093  Great prices Great prices                                                                     \n",
      "1094  Easy peasy Easy peasy                                                                         \n",
      "1097  great great                                                                                   \n",
      "1098  Good, so far Good, so far                                                                     \n",
      "1131  excellent excellent                                                                           \n",
      "1133  All good stuff All good stuff                                                                 \n",
      "1135  Password resets ! Password resets !                                                           \n",
      "1137  good good                                                                                     \n",
      "1170  great great                                                                                   \n",
      "1177  Will get again Taste good                                                                     \n",
      "1182  ok good                                                                                       \n",
      "1185  would get again good                                                                          \n",
      "1215  yes resale                                                                                    \n",
      "1223  good good                                                                                     \n",
      "1228  A++++++ A++++++                                                                               \n",
      "1229  FINE FINE                                                                                     \n",
      "1231  ALWAYS EASY AND EFFICIENT! ALWAYS EASY AND EFFICIENT!!!!!!                                    \n",
      "1269  good good                                                                                     \n",
      "1273  Good Good                                                                                     \n",
      "1276  good good                                                                                     \n",
      "1277  good good                                                                                     \n",
      "1285  Good so far. Good so far.                                                                     \n",
      "1288  test lorem ipsum                                                                              \n",
      "1303  great great                                                                                   \n",
      "1426  Beautiful yarn! Such beautiful yarn for a baby cardigan.                                      \n",
      "1429  yes Like it                                                                                   \n",
      "1444  Yes Awesome                                                                                   \n",
      "1467  Nice Nice                                                                                     \n",
      "1532  good reloading dies are great                                                                 \n",
      "1539  Very good Very good                                                                           \n",
      "1553  Top top Gostei muitooooo                                                                      \n",
      "1650  Great polo Great polo                                                                         \n",
      "1678  pyjama correspond à la demande                                                                \n",
      "1685  Cr Great magazine!                                                                            \n",
      "1713  Eddie Bauer jacket Very nice garment                                                          \n",
      "1744  did aesome                                                                                    \n",
      "1817  good good                                                                                     \n",
      "1837  good good                                                                                     \n",
      "1855  Excellent experience Excellent experience                                                     \n",
      "1859  Good Good                                                                                     \n",
      "1862  always good always good                                                                       \n",
      "1863  great great                                                                                   \n",
      "1864  great great                                                                                   \n",
      "\n",
      "                                                                                       ALL_TEXT_2  \\\n",
      "4     geeat geeat                                                                                   \n",
      "41    all good all good                                                                             \n",
      "89    Good buy Great sales                                                                          \n",
      "135   great great                                                                                   \n",
      "138   great great                                                                                   \n",
      "144   EASY  EASY                                                                                    \n",
      "157   Good Good                                                                                     \n",
      "178   Cute tic tac toe decor  So cute  you can play or decorate                                     \n",
      "222   YES ORDERED   POLO SHIRTS   RECEIVED ONLY ONE                                                 \n",
      "282   great great                                                                                   \n",
      "312   Yws Good fit   Everyday wear bRed                                                             \n",
      "360   Producto ok Bien                                                                              \n",
      "531   Really like CK leggings Nice leggings                                                         \n",
      "537   Buy again Great buy again                                                                     \n",
      "558   Excellent  Excellent                                                                          \n",
      "589   User friendy User friendy                                                                     \n",
      "594   Just fine  Just fine                                                                          \n",
      "612   YES GREAT                                                                                     \n",
      "632   Excellent  Excellent                                                                          \n",
      "637   Variedad de YETI Excelente servicio y variedad de productos YETI y sus accesorios             \n",
      "643   Awesome Awesome                                                                               \n",
      "650   Great card Great card                                                                         \n",
      "662   ok sandwiches                                                                                 \n",
      "696   Fun Eat it                                                                                    \n",
      "697   Elemental Cleaning                                                                            \n",
      "710   Todo excelente Todo excelente                                                                 \n",
      "733   衣櫃收納盒 整理的好幫手                                                                                  \n",
      "738   Excellent Excellent quality and service good value                                            \n",
      "763   great great                                                                                   \n",
      "764   Easy Easy                                                                                     \n",
      "840   great great                                                                                   \n",
      "842   easy shopping easy shopping                                                                   \n",
      "843   great great                                                                                   \n",
      "844   神奇的軟木杯墊 水吸多了會縮水  久了就會小一號 一段時間後要換新                                                             \n",
      "845   買 買 有人要買就買吧                                                                                   \n",
      "846   方便使用 方便實用                                                                                     \n",
      "847   不太好組裝 有部分接點沒有鑽孔 組裝好久                                                                          \n",
      "848   CP值高 外型優 又便宜 讚                                                                                \n",
      "849   盒子配件沒有隨身附 配件沒有在盒子裡面  配件沒有在盒子裡面  配件沒有在盒子裡面                                                     \n",
      "850   箱子加蓋放在副駕駛座踏板 和箱子放副駕駛座踏板高度剛好不會倒 透明的不會阻礙找東西加蓋也很好用                                               \n",
      "851   世界奇觀 超越現代 未來商品                                                                                \n",
      "871   Love Love                                                                                     \n",
      "885   CP值高的收納盒 極好用的抽屜收納盒 透明盒設計 使得內容物方便確認 省時又好整理喔                                                    \n",
      "896   Easy Easy                                                                                     \n",
      "944   Logical Logical                                                                               \n",
      "996   simple simple                                                                                 \n",
      "1030  Cute Cute                                                                                     \n",
      "1046  good good                                                                                     \n",
      "1070  great great                                                                                   \n",
      "1075  Easy Easy                                                                                     \n",
      "1076  So far so good So far so good                                                                 \n",
      "1078  FOUND ITEMS EASILY FOUND ITEMS EASILY                                                         \n",
      "1084  great great                                                                                   \n",
      "1085  GREAT  GREAT                                                                                  \n",
      "1089  great great                                                                                   \n",
      "1090  very detailed site very detailed site                                                         \n",
      "1091  GOOD   GOT ADDITIONAL     OFF FOR FIRST ORDER GOOD   GOT ADDITIONAL     OFF FOR FIRST ORDER   \n",
      "1093  Great prices Great prices                                                                     \n",
      "1094  Easy peasy Easy peasy                                                                         \n",
      "1097  great great                                                                                   \n",
      "1098  Good  so far Good  so far                                                                     \n",
      "1131  excellent excellent                                                                           \n",
      "1133  All good stuff All good stuff                                                                 \n",
      "1135  Password resets   Password resets                                                             \n",
      "1137  good good                                                                                     \n",
      "1170  great great                                                                                   \n",
      "1177  Will get again Taste good                                                                     \n",
      "1182  ok good                                                                                       \n",
      "1185  would get again good                                                                          \n",
      "1215  yes resale                                                                                    \n",
      "1223  good good                                                                                     \n",
      "1228  A       A                                                                                     \n",
      "1229  FINE FINE                                                                                     \n",
      "1231  ALWAYS EASY AND EFFICIENT  ALWAYS EASY AND EFFICIENT                                          \n",
      "1269  good good                                                                                     \n",
      "1273  Good Good                                                                                     \n",
      "1276  good good                                                                                     \n",
      "1277  good good                                                                                     \n",
      "1285  Good so far  Good so far                                                                      \n",
      "1288  test lorem ipsum                                                                              \n",
      "1303  great great                                                                                   \n",
      "1426  Beautiful yarn  Such beautiful yarn for a baby cardigan                                       \n",
      "1429  yes Like it                                                                                   \n",
      "1444  Yes Awesome                                                                                   \n",
      "1467  Nice Nice                                                                                     \n",
      "1532  good reloading dies are great                                                                 \n",
      "1539  Very good Very good                                                                           \n",
      "1553  Top top Gostei muitooooo                                                                      \n",
      "1650  Great polo Great polo                                                                         \n",
      "1678  pyjama correspond à la demande                                                                \n",
      "1685  Cr Great magazine                                                                             \n",
      "1713  Eddie Bauer jacket Very nice garment                                                          \n",
      "1744  did aesome                                                                                    \n",
      "1817  good good                                                                                     \n",
      "1837  good good                                                                                     \n",
      "1855  Excellent experience Excellent experience                                                     \n",
      "1859  Good Good                                                                                     \n",
      "1862  always good always good                                                                       \n",
      "1863  great great                                                                                   \n",
      "1864  great great                                                                                   \n",
      "\n",
      "     PRED_LANG  model_FL  \n",
      "4     nl        1         \n",
      "41    cy        1         \n",
      "89    tl        1         \n",
      "135   ro        1         \n",
      "138   ro        1         \n",
      "144   es        1         \n",
      "157   so        1         \n",
      "178   es        1         \n",
      "222   pt        1         \n",
      "282   ro        1         \n",
      "312   cy        1         \n",
      "360   sk        1         \n",
      "531   no        1         \n",
      "537   tl        1         \n",
      "558   ca        1         \n",
      "589   da        1         \n",
      "594   fr        1         \n",
      "612   cy        1         \n",
      "632   ca        1         \n",
      "637   es        1         \n",
      "643   af        1         \n",
      "650   ro        1         \n",
      "662   pl        1         \n",
      "696   ca        1         \n",
      "697   ca        1         \n",
      "710   pt        1         \n",
      "733   zh-tw     1         \n",
      "738   ca        1         \n",
      "763   ro        1         \n",
      "764   tl        1         \n",
      "840   ro        1         \n",
      "842   tl        1         \n",
      "843   ro        1         \n",
      "844   ko        1         \n",
      "845   ko        1         \n",
      "846   ko        1         \n",
      "847   ko        1         \n",
      "848   ko        1         \n",
      "849   ko        1         \n",
      "850   ko        1         \n",
      "851   ko        1         \n",
      "871   sl        1         \n",
      "885   ko        1         \n",
      "896   tl        1         \n",
      "944   it        1         \n",
      "996   it        1         \n",
      "1030  ro        1         \n",
      "1046  so        1         \n",
      "1070  ro        1         \n",
      "1075  tl        1         \n",
      "1076  so        1         \n",
      "1078  de        1         \n",
      "1084  ro        1         \n",
      "1085  de        1         \n",
      "1089  ro        1         \n",
      "1090  da        1         \n",
      "1091  de        1         \n",
      "1093  ro        1         \n",
      "1094  tl        1         \n",
      "1097  ro        1         \n",
      "1098  so        1         \n",
      "1131  ca        1         \n",
      "1133  cy        1         \n",
      "1135  af        1         \n",
      "1137  so        1         \n",
      "1170  ro        1         \n",
      "1177  nl        1         \n",
      "1182  hr        1         \n",
      "1185  af        1         \n",
      "1215  es        1         \n",
      "1223  so        1         \n",
      "1228  hu        1         \n",
      "1229  de        1         \n",
      "1231  de        1         \n",
      "1269  so        1         \n",
      "1273  so        1         \n",
      "1276  so        1         \n",
      "1277  so        1         \n",
      "1285  so        1         \n",
      "1288  ro        1         \n",
      "1303  ro        1         \n",
      "1426  cy        1         \n",
      "1429  sq        1         \n",
      "1444  af        1         \n",
      "1467  ro        1         \n",
      "1532  af        1         \n",
      "1539  af        1         \n",
      "1553  af        1         \n",
      "1650  ro        1         \n",
      "1678  pt        1         \n",
      "1685  ro        1         \n",
      "1713  de        1         \n",
      "1744  af        1         \n",
      "1817  so        1         \n",
      "1837  so        1         \n",
      "1855  fr        1         \n",
      "1859  so        1         \n",
      "1862  so        1         \n",
      "1863  ro        1         \n",
      "1864  ro        1"
     ]
    }
   ],
   "source": [
    "FP.head(100)\n"
   ]
  },
  {
   "cell_type": "code",
   "execution_count": 19,
   "metadata": {},
   "outputs": [
    {
     "data": {
      "application/vnd.jupyter.widget-view+json": {
       "model_id": "02ca81056d384c2883df676e693a7e8d",
       "version_major": 2,
       "version_minor": 0
      },
      "text/plain": [
       "VBox()"
      ]
     },
     "metadata": {},
     "output_type": "display_data"
    },
    {
     "data": {
      "application/vnd.jupyter.widget-view+json": {
       "model_id": "",
       "version_major": 2,
       "version_minor": 0
      },
      "text/plain": [
       "FloatProgress(value=0.0, bar_style='info', description='Progress:', layout=Layout(height='25px', width='50%'),…"
      ]
     },
     "metadata": {},
     "output_type": "display_data"
    },
    {
     "name": "stdout",
     "output_type": "stream",
     "text": [
      "'cy'"
     ]
    }
   ],
   "source": [
    "detect('good good stuff')"
   ]
  },
  {
   "cell_type": "code",
   "execution_count": 28,
   "metadata": {},
   "outputs": [
    {
     "data": {
      "application/vnd.jupyter.widget-view+json": {
       "model_id": "df9121bbaf6b446da4c161bf2dabe36f",
       "version_major": 2,
       "version_minor": 0
      },
      "text/plain": [
       "VBox()"
      ]
     },
     "metadata": {},
     "output_type": "display_data"
    },
    {
     "data": {
      "application/vnd.jupyter.widget-view+json": {
       "model_id": "",
       "version_major": 2,
       "version_minor": 0
      },
      "text/plain": [
       "FloatProgress(value=0.0, bar_style='info', description='Progress:', layout=Layout(height='25px', width='50%'),…"
      ]
     },
     "metadata": {},
     "output_type": "display_data"
    },
    {
     "name": "stdout",
     "output_type": "stream",
     "text": [
      "<class 'pandas.core.frame.DataFrame'>\n",
      "Int64Index: 6456 entries, 638 to 8681798\n",
      "Data columns (total 17 columns):\n",
      " #   Column               Non-Null Count  Dtype \n",
      "---  ------               --------------  ----- \n",
      " 0   UGC_ID               6456 non-null   int64 \n",
      " 1   NAME                 6456 non-null   object\n",
      " 2   REVIEW_HEADLINE      6456 non-null   object\n",
      " 3   REVIEW_COMMENTS      6456 non-null   object\n",
      " 4   CR                   6456 non-null   int64 \n",
      " 5   ALL_TEXT             6456 non-null   object\n",
      " 6   NAME_1ST_PART_RAW    6456 non-null   object\n",
      " 7   NAME_1ST_PART        6456 non-null   object\n",
      " 8   ALL_TEXT_2           6456 non-null   object\n",
      " 9   ALL_TEXT_3           6456 non-null   object\n",
      " 10  ALL_TEXT_4           6456 non-null   object\n",
      " 11  ALL_TEXT_5           6456 non-null   object\n",
      " 12  ALL_TEXT_6           6456 non-null   object\n",
      " 13  ALL_TEXT_7           6456 non-null   object\n",
      " 14  regex_retailer       6456 non-null   object\n",
      " 15  retailer_not_client  6456 non-null   bool  \n",
      " 16  model_CR             6456 non-null   int64 \n",
      "dtypes: bool(1), int64(3), object(13)\n",
      "memory usage: 863.7+ KB"
     ]
    }
   ],
   "source": [
    "FP.info()"
   ]
  },
  {
   "cell_type": "code",
   "execution_count": 23,
   "metadata": {},
   "outputs": [
    {
     "data": {
      "application/vnd.jupyter.widget-view+json": {
       "model_id": "9ffe183e54604b6eac17ccd45bb18c19",
       "version_major": 2,
       "version_minor": 0
      },
      "text/plain": [
       "VBox()"
      ]
     },
     "metadata": {},
     "output_type": "display_data"
    },
    {
     "data": {
      "application/vnd.jupyter.widget-view+json": {
       "model_id": "",
       "version_major": 2,
       "version_minor": 0
      },
      "text/plain": [
       "FloatProgress(value=0.0, bar_style='info', description='Progress:', layout=Layout(height='25px', width='50%'),…"
      ]
     },
     "metadata": {},
     "output_type": "display_data"
    }
   ],
   "source": [
    "from pyspark.sql.types import *\n",
    "\n",
    "mySchema = StructType([StructField(\"UGC_ID\", StringType(), True)\\\n",
    ",StructField(\"REVIEW_HEADLINE\", StringType(), True)\\\n",
    ",StructField(\"REVIEW_COMMENTS\", StringType(), True)\\\n",
    ",StructField(\"LANG\", StringType(), True)\\\n",
    ",StructField(\"REVIEW_LENGTH\", StringType(), True)\\\n",
    ",StructField(\"FL\", IntegerType(), True)\\\n",
    ",StructField(\"ALL_TEXT\", StringType(), True)\\\n",
    ",StructField(\"ALL_TEXT_2\", StringType(), True)\\\n",
    ",StructField(\"PRED_LANG\", StringType(), True)\\\n",
    ",StructField(\"model_FL\", IntegerType(), True)])\n",
    "\n",
    "\n"
   ]
  },
  {
   "cell_type": "code",
   "execution_count": null,
   "metadata": {},
   "outputs": [],
   "source": []
  },
  {
   "cell_type": "code",
   "execution_count": 24,
   "metadata": {},
   "outputs": [
    {
     "data": {
      "application/vnd.jupyter.widget-view+json": {
       "model_id": "2abb932c2a8b498abe75a67434bb7cc6",
       "version_major": 2,
       "version_minor": 0
      },
      "text/plain": [
       "VBox()"
      ]
     },
     "metadata": {},
     "output_type": "display_data"
    },
    {
     "data": {
      "application/vnd.jupyter.widget-view+json": {
       "model_id": "",
       "version_major": 2,
       "version_minor": 0
      },
      "text/plain": [
       "FloatProgress(value=0.0, bar_style='info', description='Progress:', layout=Layout(height='25px', width='50%'),…"
      ]
     },
     "metadata": {},
     "output_type": "display_data"
    }
   ],
   "source": [
    "SNOWFLAKE_SOURCE_NAME = \"net.snowflake.spark.snowflake\"\n",
    "\n",
    "sfOptions = {\n",
    "  'sfURL' : 'powerreviews.snowflakecomputing.com',\n",
    "  'sfAccount' : 'powerreviews',\n",
    "  'sfUser' : username,\n",
    "  'sfPassword' : password,\n",
    "  'sfDatabase' : 'ANALYTICS_WORKSHOP',\n",
    "  'sfSchema' : 'DATA_SCIENCE',\n",
    "  'sfWarehouse' : 'LOWER_ENV_WAREHOUSE'\n",
    "}"
   ]
  },
  {
   "cell_type": "code",
   "execution_count": 25,
   "metadata": {},
   "outputs": [
    {
     "data": {
      "application/vnd.jupyter.widget-view+json": {
       "model_id": "b9fdfddbfc2049ec911338ac1e241893",
       "version_major": 2,
       "version_minor": 0
      },
      "text/plain": [
       "VBox()"
      ]
     },
     "metadata": {},
     "output_type": "display_data"
    },
    {
     "data": {
      "application/vnd.jupyter.widget-view+json": {
       "model_id": "",
       "version_major": 2,
       "version_minor": 0
      },
      "text/plain": [
       "FloatProgress(value=0.0, bar_style='info', description='Progress:', layout=Layout(height='25px', width='50%'),…"
      ]
     },
     "metadata": {},
     "output_type": "display_data"
    }
   ],
   "source": [
    "#Turn into spark dataframe in order to write to Snowflake\n",
    "#Couldn't get write_pandas() to work to write directly from pandas to Snowflake\n",
    "reviews = spark.createDataFrame(reviews, schema=mySchema)"
   ]
  },
  {
   "cell_type": "code",
   "execution_count": 26,
   "metadata": {},
   "outputs": [
    {
     "data": {
      "application/vnd.jupyter.widget-view+json": {
       "model_id": "e1ad3f6ebd664590ba165441b3abec09",
       "version_major": 2,
       "version_minor": 0
      },
      "text/plain": [
       "VBox()"
      ]
     },
     "metadata": {},
     "output_type": "display_data"
    },
    {
     "data": {
      "application/vnd.jupyter.widget-view+json": {
       "model_id": "3ba0d871bfb6456d983ab1ed8cec2d94",
       "version_major": 2,
       "version_minor": 0
      },
      "text/plain": [
       "FloatProgress(value=0.0, bar_style='info', description='Progress:', layout=Layout(height='25px', width='50%'),…"
      ]
     },
     "metadata": {},
     "output_type": "display_data"
    },
    {
     "name": "stderr",
     "output_type": "stream",
     "text": [
      "An error was encountered:\n",
      "Invalid status code '400' from https://10.101.214.86:18888/sessions/7/statements/26 with error payload: {\"msg\":\"requirement failed: Session isn't active.\"}\n"
     ]
    }
   ],
   "source": [
    "reviews.write.format(SNOWFLAKE_SOURCE_NAME).options(**sfOptions) \\\n",
    "    .option(\"dbtable\",\"FL_langdetect\").mode(\"append\").save()\n"
   ]
  },
  {
   "cell_type": "code",
   "execution_count": null,
   "metadata": {},
   "outputs": [],
   "source": []
  },
  {
   "cell_type": "code",
   "execution_count": null,
   "metadata": {},
   "outputs": [],
   "source": []
  },
  {
   "cell_type": "code",
   "execution_count": null,
   "metadata": {},
   "outputs": [],
   "source": []
  },
  {
   "cell_type": "code",
   "execution_count": null,
   "metadata": {},
   "outputs": [],
   "source": []
  },
  {
   "cell_type": "code",
   "execution_count": 109,
   "metadata": {},
   "outputs": [
    {
     "data": {
      "application/vnd.jupyter.widget-view+json": {
       "model_id": "93f0f332017b42a4a6ef56a59b58a396",
       "version_major": 2,
       "version_minor": 0
      },
      "text/plain": [
       "VBox()"
      ]
     },
     "metadata": {},
     "output_type": "display_data"
    },
    {
     "data": {
      "application/vnd.jupyter.widget-view+json": {
       "model_id": "",
       "version_major": 2,
       "version_minor": 0
      },
      "text/plain": [
       "FloatProgress(value=0.0, bar_style='info', description='Progress:', layout=Layout(height='25px', width='50%'),…"
      ]
     },
     "metadata": {},
     "output_type": "display_data"
    },
    {
     "name": "stdout",
     "output_type": "stream",
     "text": [
      "<snowflake.connector.cursor.SnowflakeCursor object at 0x7f19fab41fd0>"
     ]
    }
   ],
   "source": [
    "conn.cursor().execute(\"drop table if exists ANALYTICS_WORKSHOP.DATA_SCIENCE.TST_FP_TEST3\")\n",
    "conn.cursor().execute(\"drop table if exists ANALYTICS_WORKSHOP.DATA_SCIENCE.TST_FN_TEST3\")\n",
    "#conn.cursor().execute(\"drop table if exists ANALYTICS_WORKSHOP.DATA_SCIENCE.TEST_NLP_SPARK6\")\n",
    "#conn.cursor().execute(\"drop table if exists ANALYTICS_WORKSHOP.DATA_SCIENCE.TEST_NLP_SWAP_TOKENS\")"
   ]
  }
 ],
 "metadata": {
  "kernelspec": {
   "display_name": "PySpark",
   "language": "",
   "name": "pysparkkernel"
  },
  "language_info": {
   "codemirror_mode": {
    "name": "python",
    "version": 2
   },
   "mimetype": "text/x-python",
   "name": "pyspark",
   "pygments_lexer": "python2"
  }
 },
 "nbformat": 4,
 "nbformat_minor": 4
}
