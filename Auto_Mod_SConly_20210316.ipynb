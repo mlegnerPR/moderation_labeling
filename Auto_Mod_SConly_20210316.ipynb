{
 "cells": [
  {
   "cell_type": "code",
   "execution_count": 1,
   "metadata": {},
   "outputs": [
    {
     "data": {
      "application/vnd.jupyter.widget-view+json": {
       "model_id": "b40229ab38064eeeba2557488443af86",
       "version_major": 2,
       "version_minor": 0
      },
      "text/plain": [
       "VBox()"
      ]
     },
     "metadata": {},
     "output_type": "display_data"
    },
    {
     "name": "stdout",
     "output_type": "stream",
     "text": [
      "Starting Spark application\n"
     ]
    },
    {
     "data": {
      "text/html": [
       "<table>\n",
       "<tr><th>ID</th><th>YARN Application ID</th><th>Kind</th><th>State</th><th>Spark UI</th><th>Driver log</th><th>Current session?</th></tr><tr><td>6</td><td>application_1615921700910_0007</td><td>pyspark</td><td>idle</td><td><a target=\"_blank\" href=\"http://ip-10-101-213-108.us-west-2.compute.internal:20888/proxy/application_1615921700910_0007/\">Link</a></td><td><a target=\"_blank\" href=\"http://ip-10-101-213-108.us-west-2.compute.internal:8042/node/containerlogs/container_1615921700910_0007_01_000001/livy\">Link</a></td><td>✔</td></tr></table>"
      ],
      "text/plain": [
       "<IPython.core.display.HTML object>"
      ]
     },
     "metadata": {},
     "output_type": "display_data"
    },
    {
     "data": {
      "application/vnd.jupyter.widget-view+json": {
       "model_id": "",
       "version_major": 2,
       "version_minor": 0
      },
      "text/plain": [
       "FloatProgress(value=0.0, bar_style='info', description='Progress:', layout=Layout(height='25px', width='50%'),…"
      ]
     },
     "metadata": {},
     "output_type": "display_data"
    },
    {
     "name": "stdout",
     "output_type": "stream",
     "text": [
      "SparkSession available as 'spark'.\n"
     ]
    },
    {
     "data": {
      "application/vnd.jupyter.widget-view+json": {
       "model_id": "",
       "version_major": 2,
       "version_minor": 0
      },
      "text/plain": [
       "FloatProgress(value=0.0, bar_style='info', description='Progress:', layout=Layout(height='25px', width='50%'),…"
      ]
     },
     "metadata": {},
     "output_type": "display_data"
    }
   ],
   "source": [
    "#Import packages\n",
    "import numpy as np\n",
    "from numpy import argmax\n",
    "import pyspark.sql.functions as F\n",
    "import snowflake.connector\n",
    "import pandas as pd\n",
    "import spacy\n",
    "#from sparknlp.base import Finisher, DocumentAssembler\n",
    "#from sparknlp.annotator import  Normalizer, LemmatizerModel, StopWordsCleaner, Tokenizer\n",
    "#from pyspark.ml import Pipeline\n",
    "#from pyspark.ml.feature import CountVectorizer, VectorAssembler, HashingTF, IDF, Tokenizer\n",
    "#from nltk.corpus import stopwords\n",
    "from sklearn.feature_extraction.text import TfidfVectorizer\n",
    "from sklearn.model_selection import train_test_split\n",
    "from scipy import sparse\n",
    "from sklearn.linear_model import LogisticRegression\n",
    "from sklearn import svm\n",
    "from sklearn.multiclass import OneVsRestClassifier\n",
    "from sklearn import metrics\n",
    "from sklearn.metrics import f1_score, accuracy_score, recall_score, precision_score, confusion_matrix, plot_confusion_matrix, \\\n",
    "                            roc_curve, auc, classification_report, precision_recall_curve\n",
    "import matplotlib.pyplot as plt\n",
    "import boto3\n",
    "import json"
   ]
  },
  {
   "cell_type": "code",
   "execution_count": 2,
   "metadata": {},
   "outputs": [
    {
     "data": {
      "application/vnd.jupyter.widget-view+json": {
       "model_id": "ccb4b59f94444a2bad330b8832b90bda",
       "version_major": 2,
       "version_minor": 0
      },
      "text/plain": [
       "VBox()"
      ]
     },
     "metadata": {},
     "output_type": "display_data"
    },
    {
     "data": {
      "application/vnd.jupyter.widget-view+json": {
       "model_id": "",
       "version_major": 2,
       "version_minor": 0
      },
      "text/plain": [
       "FloatProgress(value=0.0, bar_style='info', description='Progress:', layout=Layout(height='25px', width='50%'),…"
      ]
     },
     "metadata": {},
     "output_type": "display_data"
    }
   ],
   "source": [
    "sm_client = boto3.client('secretsmanager',region_name='us-west-2')\n",
    "secret_value = sm_client.get_secret_value(SecretId = 'emr_spark_qa')\n",
    "username = json.loads(secret_value['SecretString'])['emr_spark_username']\n",
    "password = json.loads(secret_value['SecretString'])['emr_spark_password']\n",
    "\n",
    "#SPARK connection info\n",
    "sfOptions = {\n",
    "  'sfURL' : 'powerreviews.snowflakecomputing.com',\n",
    "  'sfAccount' : 'powerreviews',\n",
    "  'sfUser' : username,\n",
    "  'sfPassword' : password,\n",
    "  'sfDatabase' : 'ANALYTICS_PROD',\n",
    "  'sfSchema' : 'ANALYTICS',\n",
    "  'sfWarehouse' : 'LOWER_ENV_WAREHOUSE'\n",
    "}\n",
    "SNOWFLAKE_SOURCE_NAME = \"net.snowflake.spark.snowflake\"\n",
    "\n",
    "#PYTHON connection info\n",
    "conn = snowflake.connector.connect(\n",
    "    account='powerreviews',\n",
    "    database='analytics_prod',\n",
    "    warehouse='LOWER_ENV_WAREHOUSE',\n",
    "    user=username,\n",
    "    password=password\n",
    "    )\n"
   ]
  },
  {
   "cell_type": "code",
   "execution_count": 3,
   "metadata": {},
   "outputs": [
    {
     "data": {
      "application/vnd.jupyter.widget-view+json": {
       "model_id": "bd4409b07e304f379726074da8ac57f4",
       "version_major": 2,
       "version_minor": 0
      },
      "text/plain": [
       "VBox()"
      ]
     },
     "metadata": {},
     "output_type": "display_data"
    },
    {
     "data": {
      "application/vnd.jupyter.widget-view+json": {
       "model_id": "",
       "version_major": 2,
       "version_minor": 0
      },
      "text/plain": [
       "FloatProgress(value=0.0, bar_style='info', description='Progress:', layout=Layout(height='25px', width='50%'),…"
      ]
     },
     "metadata": {},
     "output_type": "display_data"
    }
   ],
   "source": [
    "#Use review data set to get observation codes bc they are already comma separated and less joins to perform\n",
    "#Still need observation set though to get observation created date\n",
    "#This is bc review could be from ages ago but we could have imported recently and moderated it\n",
    "#Want to make sure we include as many observation labels as possible for most accurate model\n",
    "\n"
   ]
  },
  {
   "cell_type": "code",
   "execution_count": 4,
   "metadata": {},
   "outputs": [
    {
     "data": {
      "application/vnd.jupyter.widget-view+json": {
       "model_id": "236b46ba122044bcafc051abf7fb6657",
       "version_major": 2,
       "version_minor": 0
      },
      "text/plain": [
       "VBox()"
      ]
     },
     "metadata": {},
     "output_type": "display_data"
    },
    {
     "data": {
      "application/vnd.jupyter.widget-view+json": {
       "model_id": "",
       "version_major": 2,
       "version_minor": 0
      },
      "text/plain": [
       "FloatProgress(value=0.0, bar_style='info', description='Progress:', layout=Layout(height='25px', width='50%'),…"
      ]
     },
     "metadata": {},
     "output_type": "display_data"
    }
   ],
   "source": [
    "#Careful not to get SSC for SC\n",
    "#PM,SC - contains(r.observations, ',SC')\n",
    "#Look for comma before, will always be before bc 'PM' is alphabetically before SC\n",
    "\n",
    "\n",
    "#HAVE OBS LABEL IN QUESTION\n",
    "query_testing = \"select distinct r.ugc_id,  r.review_headline, r.review_comments, r.review_rating, \\\n",
    "case when (contains(r.observations, ',SC')) then 1 else 0 end as SC \\\n",
    "from analytics.review as r \\\n",
    "where r.locale in ('en_US','en_GB','en_CA') and contains(r.observations, 'PM') \\\n",
    "and not contains(r.observations, 'IA') and not contains(r.observations, 'IR') \\\n",
    "and (contains(r.observations, ',SC')) \\\n",
    "and r.created_date > '2019-01-01' \\\n",
    "\""
   ]
  },
  {
   "cell_type": "code",
   "execution_count": 5,
   "metadata": {},
   "outputs": [
    {
     "data": {
      "application/vnd.jupyter.widget-view+json": {
       "model_id": "a766a3e18c6f47dca7301fdd909f5d97",
       "version_major": 2,
       "version_minor": 0
      },
      "text/plain": [
       "VBox()"
      ]
     },
     "metadata": {},
     "output_type": "display_data"
    },
    {
     "data": {
      "application/vnd.jupyter.widget-view+json": {
       "model_id": "",
       "version_major": 2,
       "version_minor": 0
      },
      "text/plain": [
       "FloatProgress(value=0.0, bar_style='info', description='Progress:', layout=Layout(height='25px', width='50%'),…"
      ]
     },
     "metadata": {},
     "output_type": "display_data"
    },
    {
     "name": "stdout",
     "output_type": "stream",
     "text": [
      "       UGC_ID                               REVIEW_HEADLINE  ... REVIEW_RATING  SC\n",
      "0   278094040      Be careful - also catches small animals.  ...             2   1\n",
      "1   278194778                                         Yikes  ...             1   1\n",
      "2   278270433  Too Heavy, not enough cushioning for running  ...             2   1\n",
      "3   278253155                                          Curl  ...             1   1\n",
      "4   278245917                           It burns your eyes!  ...             1   1\n",
      "..        ...                                           ...  ...           ...  ..\n",
      "95  268890637                                 Do Not Apply!  ...             1   1\n",
      "96  268940921                               made skin worse  ...             2   1\n",
      "97  268927554                             I liked it but...  ...             2   1\n",
      "98  268934930                           Did not work for me  ...             1   1\n",
      "99  268924339                                      Horrible  ...             1   1\n",
      "\n",
      "[100 rows x 5 columns]"
     ]
    }
   ],
   "source": [
    "#pd.set_option('display.max_colwidth', -1)\n",
    "#pd.set_option('display.max_columns', None)\n",
    "#pd.set_option('display.max_rows', None)\n",
    "reviews = pd.read_sql(query_testing, conn)\n",
    "reviews.head(100)\n",
    "#reviews.info()\n"
   ]
  },
  {
   "cell_type": "code",
   "execution_count": 6,
   "metadata": {},
   "outputs": [
    {
     "data": {
      "application/vnd.jupyter.widget-view+json": {
       "model_id": "87e77a934ebe4cdb9d64e0526905528d",
       "version_major": 2,
       "version_minor": 0
      },
      "text/plain": [
       "VBox()"
      ]
     },
     "metadata": {},
     "output_type": "display_data"
    },
    {
     "data": {
      "application/vnd.jupyter.widget-view+json": {
       "model_id": "",
       "version_major": 2,
       "version_minor": 0
      },
      "text/plain": [
       "FloatProgress(value=0.0, bar_style='info', description='Progress:', layout=Layout(height='25px', width='50%'),…"
      ]
     },
     "metadata": {},
     "output_type": "display_data"
    },
    {
     "name": "stdout",
     "output_type": "stream",
     "text": [
      "<class 'pandas.core.frame.DataFrame'>\n",
      "RangeIndex: 70317 entries, 0 to 70316\n",
      "Data columns (total 5 columns):\n",
      " #   Column           Non-Null Count  Dtype \n",
      "---  ------           --------------  ----- \n",
      " 0   UGC_ID           70317 non-null  int64 \n",
      " 1   REVIEW_HEADLINE  70316 non-null  object\n",
      " 2   REVIEW_COMMENTS  70317 non-null  object\n",
      " 3   REVIEW_RATING    70317 non-null  int64 \n",
      " 4   SC               70317 non-null  int64 \n",
      "dtypes: int64(3), object(2)\n",
      "memory usage: 2.7+ MB"
     ]
    }
   ],
   "source": [
    "reviews.info()"
   ]
  },
  {
   "cell_type": "code",
   "execution_count": 7,
   "metadata": {},
   "outputs": [
    {
     "data": {
      "application/vnd.jupyter.widget-view+json": {
       "model_id": "47693703444e4bf9a17d4406acc02ebb",
       "version_major": 2,
       "version_minor": 0
      },
      "text/plain": [
       "VBox()"
      ]
     },
     "metadata": {},
     "output_type": "display_data"
    },
    {
     "data": {
      "application/vnd.jupyter.widget-view+json": {
       "model_id": "",
       "version_major": 2,
       "version_minor": 0
      },
      "text/plain": [
       "FloatProgress(value=0.0, bar_style='info', description='Progress:', layout=Layout(height='25px', width='50%'),…"
      ]
     },
     "metadata": {},
     "output_type": "display_data"
    }
   ],
   "source": [
    "#DONT HAVE OBS LABEL IN QUESTION\n",
    "query_testing_2 = \"select distinct r.ugc_id,  r.review_headline, r.review_comments, r.review_rating, \\\n",
    "case when (contains(r.observations, ',SC')) then 1 else 0 end as SC \\\n",
    "from analytics.review as r \\\n",
    "where r.locale in ('en_US','en_GB','en_CA') and contains(r.observations, 'PM') \\\n",
    "and not contains(r.observations, 'IA') and not contains(r.observations, 'IR') \\\n",
    "and not contains(r.observations, ',SC') \\\n",
    "and r.created_date > '2019-01-01' \\\n",
    "\""
   ]
  },
  {
   "cell_type": "code",
   "execution_count": 8,
   "metadata": {},
   "outputs": [
    {
     "data": {
      "application/vnd.jupyter.widget-view+json": {
       "model_id": "082070d7a0414771aa6c3be65f39b7bb",
       "version_major": 2,
       "version_minor": 0
      },
      "text/plain": [
       "VBox()"
      ]
     },
     "metadata": {},
     "output_type": "display_data"
    },
    {
     "data": {
      "application/vnd.jupyter.widget-view+json": {
       "model_id": "",
       "version_major": 2,
       "version_minor": 0
      },
      "text/plain": [
       "FloatProgress(value=0.0, bar_style='info', description='Progress:', layout=Layout(height='25px', width='50%'),…"
      ]
     },
     "metadata": {},
     "output_type": "display_data"
    },
    {
     "name": "stdout",
     "output_type": "stream",
     "text": [
      "<class 'pandas.core.frame.DataFrame'>\n",
      "RangeIndex: 14966524 entries, 0 to 14966523\n",
      "Data columns (total 5 columns):\n",
      " #   Column           Dtype  \n",
      "---  ------           -----  \n",
      " 0   UGC_ID           int64  \n",
      " 1   REVIEW_HEADLINE  object \n",
      " 2   REVIEW_COMMENTS  object \n",
      " 3   REVIEW_RATING    float64\n",
      " 4   SC               int64  \n",
      "dtypes: float64(1), int64(2), object(2)\n",
      "memory usage: 570.9+ MB"
     ]
    }
   ],
   "source": [
    "reviews_2 = pd.read_sql(query_testing_2, conn)\n",
    "reviews_2.head(100)\n",
    "reviews_2.info()"
   ]
  },
  {
   "cell_type": "code",
   "execution_count": 9,
   "metadata": {},
   "outputs": [
    {
     "data": {
      "application/vnd.jupyter.widget-view+json": {
       "model_id": "9806f22e7dd54ea0aab95e91cc6c0469",
       "version_major": 2,
       "version_minor": 0
      },
      "text/plain": [
       "VBox()"
      ]
     },
     "metadata": {},
     "output_type": "display_data"
    },
    {
     "data": {
      "application/vnd.jupyter.widget-view+json": {
       "model_id": "",
       "version_major": 2,
       "version_minor": 0
      },
      "text/plain": [
       "FloatProgress(value=0.0, bar_style='info', description='Progress:', layout=Layout(height='25px', width='50%'),…"
      ]
     },
     "metadata": {},
     "output_type": "display_data"
    }
   ],
   "source": [
    "#Take same # of those without obs as those with obs\n",
    "#Using limit 500000 is not random, pull in all w/ no labels and then take random sample from there\n",
    "from random import sample \n",
    "reviews_2 = reviews_2.sample(n=70317, random_state=1)"
   ]
  },
  {
   "cell_type": "code",
   "execution_count": 10,
   "metadata": {},
   "outputs": [
    {
     "data": {
      "application/vnd.jupyter.widget-view+json": {
       "model_id": "d1d86bc01df7465796b43082b93cee72",
       "version_major": 2,
       "version_minor": 0
      },
      "text/plain": [
       "VBox()"
      ]
     },
     "metadata": {},
     "output_type": "display_data"
    },
    {
     "data": {
      "application/vnd.jupyter.widget-view+json": {
       "model_id": "",
       "version_major": 2,
       "version_minor": 0
      },
      "text/plain": [
       "FloatProgress(value=0.0, bar_style='info', description='Progress:', layout=Layout(height='25px', width='50%'),…"
      ]
     },
     "metadata": {},
     "output_type": "display_data"
    },
    {
     "name": "stdout",
     "output_type": "stream",
     "text": [
      "0"
     ]
    }
   ],
   "source": [
    "reviews_2['SC'].sum(axis=0)\n",
    "#reviews_2[reviews_2['SASC']==1]"
   ]
  },
  {
   "cell_type": "code",
   "execution_count": 11,
   "metadata": {},
   "outputs": [
    {
     "data": {
      "application/vnd.jupyter.widget-view+json": {
       "model_id": "0177dd82a613487e928eb865f8944fa3",
       "version_major": 2,
       "version_minor": 0
      },
      "text/plain": [
       "VBox()"
      ]
     },
     "metadata": {},
     "output_type": "display_data"
    },
    {
     "data": {
      "application/vnd.jupyter.widget-view+json": {
       "model_id": "",
       "version_major": 2,
       "version_minor": 0
      },
      "text/plain": [
       "FloatProgress(value=0.0, bar_style='info', description='Progress:', layout=Layout(height='25px', width='50%'),…"
      ]
     },
     "metadata": {},
     "output_type": "display_data"
    },
    {
     "name": "stdout",
     "output_type": "stream",
     "text": [
      "             UGC_ID  ... SC\n",
      "0         278094040  ...  1\n",
      "1         278194778  ...  1\n",
      "2         278270433  ...  1\n",
      "3         278253155  ...  1\n",
      "4         278245917  ...  1\n",
      "...             ...  ... ..\n",
      "2542441   326360932  ...  0\n",
      "1127335   300473627  ...  0\n",
      "5299684   322341013  ...  0\n",
      "8651984   308070470  ...  0\n",
      "13977825  276658554  ...  0\n",
      "\n",
      "[140634 rows x 5 columns]"
     ]
    }
   ],
   "source": [
    "reviews = pd.concat([reviews, reviews_2], axis=0)\n",
    "reviews"
   ]
  },
  {
   "cell_type": "code",
   "execution_count": 12,
   "metadata": {},
   "outputs": [
    {
     "data": {
      "application/vnd.jupyter.widget-view+json": {
       "model_id": "649d471f3fe54359b93de2e241da2abf",
       "version_major": 2,
       "version_minor": 0
      },
      "text/plain": [
       "VBox()"
      ]
     },
     "metadata": {},
     "output_type": "display_data"
    },
    {
     "data": {
      "application/vnd.jupyter.widget-view+json": {
       "model_id": "",
       "version_major": 2,
       "version_minor": 0
      },
      "text/plain": [
       "FloatProgress(value=0.0, bar_style='info', description='Progress:', layout=Layout(height='25px', width='50%'),…"
      ]
     },
     "metadata": {},
     "output_type": "display_data"
    },
    {
     "name": "stdout",
     "output_type": "stream",
     "text": [
      "70317"
     ]
    }
   ],
   "source": [
    "reviews['SC'].sum(axis=0)"
   ]
  },
  {
   "cell_type": "code",
   "execution_count": 13,
   "metadata": {},
   "outputs": [
    {
     "data": {
      "application/vnd.jupyter.widget-view+json": {
       "model_id": "ced84d2aa9c54ceb8418374ef972933a",
       "version_major": 2,
       "version_minor": 0
      },
      "text/plain": [
       "VBox()"
      ]
     },
     "metadata": {},
     "output_type": "display_data"
    },
    {
     "data": {
      "application/vnd.jupyter.widget-view+json": {
       "model_id": "",
       "version_major": 2,
       "version_minor": 0
      },
      "text/plain": [
       "FloatProgress(value=0.0, bar_style='info', description='Progress:', layout=Layout(height='25px', width='50%'),…"
      ]
     },
     "metadata": {},
     "output_type": "display_data"
    },
    {
     "name": "stdout",
     "output_type": "stream",
     "text": [
      "<class 'pandas.core.frame.DataFrame'>\n",
      "Int64Index: 140634 entries, 0 to 13977825\n",
      "Data columns (total 5 columns):\n",
      " #   Column           Non-Null Count   Dtype  \n",
      "---  ------           --------------   -----  \n",
      " 0   UGC_ID           140634 non-null  int64  \n",
      " 1   REVIEW_HEADLINE  140621 non-null  object \n",
      " 2   REVIEW_COMMENTS  140619 non-null  object \n",
      " 3   REVIEW_RATING    140633 non-null  float64\n",
      " 4   SC               140634 non-null  int64  \n",
      "dtypes: float64(1), int64(2), object(2)\n",
      "memory usage: 6.4+ MB"
     ]
    }
   ],
   "source": [
    "reviews.info()"
   ]
  },
  {
   "cell_type": "code",
   "execution_count": 14,
   "metadata": {},
   "outputs": [
    {
     "data": {
      "application/vnd.jupyter.widget-view+json": {
       "model_id": "f9f2b4951d434b3d93ac11855553890e",
       "version_major": 2,
       "version_minor": 0
      },
      "text/plain": [
       "VBox()"
      ]
     },
     "metadata": {},
     "output_type": "display_data"
    },
    {
     "data": {
      "application/vnd.jupyter.widget-view+json": {
       "model_id": "",
       "version_major": 2,
       "version_minor": 0
      },
      "text/plain": [
       "FloatProgress(value=0.0, bar_style='info', description='Progress:', layout=Layout(height='25px', width='50%'),…"
      ]
     },
     "metadata": {},
     "output_type": "display_data"
    },
    {
     "name": "stdout",
     "output_type": "stream",
     "text": [
      "       UGC_ID                               REVIEW_HEADLINE  \\\n",
      "0   278094040  Be careful - also catches small animals.       \n",
      "1   278194778  Yikes                                          \n",
      "2   278270433  Too Heavy, not enough cushioning for running   \n",
      "3   278253155  Curl                                           \n",
      "4   278245917  It burns your eyes!                            \n",
      "..        ...                  ...                            \n",
      "95  268890637  Do Not Apply!                                  \n",
      "96  268940921  made skin worse                                \n",
      "97  268927554  I liked it but...                              \n",
      "98  268934930  Did not work for me                            \n",
      "99  268924339  Horrible                                       \n",
      "\n",
      "                                                                                                                                                                                                                                                                                                                                                                                                                                                                                                                                                                                                                                                                              REVIEW_COMMENTS  \\\n",
      "0   This worked very well for trapping bugs, but unfortunately it also trapped one of our little lanai lizards or geckos (we live in Florida), which I had to pry off very slowly using Goop.  He lost his tail and part of a leg, but he was still alive and moving, so I hope he survived.  Sorry, but apparently these are not for those of us in areas with small animals.                                                                                                                                                                                                                                                                                                                  \n",
      "1   I was really excited to get this.. I bought the 40$ one that comes with the serum. This product is to say the least pretty awful. Has the weirdest tint to it. Basically orange. Also gave me little pimples on my cheeks and jawline. It blends okay but definitely need to double check since the gray formula sits on the skin. Kind of upset I wasted 40$ on this. Definitely not worth the price, ugh! \\nI reached out to them via email about returning with the response that I need to call. Which is annoying. I don't have time to sit on the phone. \\nFor such a HUGE company you would think they would have a big enough staff to return emails. Very disappointed Clinique!   \n",
      "2   Can't wear them to run. Hurt shins. Too Heavy and not enough cushioning. Came from Hoka.                                                                                                                                                                                                                                                                                                                                                                                                                                                                                                                                                                                                    \n",
      "3   I didn't like this it left my hair dry and the next morning I was brushing and brushing my hair over 15 minutes to untangle that's not fair to me products are to help your hair to smooth your hair to make your hair look beautifully not to make it fall off and nasty and dry and feel right not smooth                                                                                                                                                                                                                                                                                                                                                                                 \n",
      "4   The tea leaf and mint can burn your eyes when the suds run down your face. This is not for sensitive scalp, or curly hair individuals. It dries out your hair sooooo much. I've used it for sometime, and my hair got worse.                                                                                                                                                                                                                                                                                                                                                                                                                                                                \n",
      "..                                                                                                                                                                                                                           ...                                                                                                                                                                                                                                                                                                                                                                                                                                                                \n",
      "95  This thing burrrns irritates me my family and friends! Ever since I used this I got a layer of rash that is until nkw 3 months later didnt vanish!!! I regret this. I'm young and now I have wrinkles under my eyes                                                                                                                                                                                                                                                                                                                                                                                                                                                                         \n",
      "96  smells good, feels good and is a very pretty purple color, but that's all this product has going for it. unfortunately since i started using it, my acne on my chest has gotten significantly worse. but it also gave me tons of tiny rough bumps too (not acne).                                                                                                                                                                                                                                                                                                                                                                                                                           \n",
      "97  it is a good concealer but it oxidizes and turns orange, but the big deal breaker is that it gave me really bad acne/breakouts wherever I put it so sadly I'm returning it                                                                                                                                                                                                                                                                                                                                                                                                                                                                                                                  \n",
      "98  This did not work for me at all. I have super oily, acne prone skin and after reading all the great reviews was excited to try it. This face wash made me break out like I was a teenager again. I am 36. It made my skin feel worse than before. I though maybe it would get better so I tried it for 2 weeks and I had the worst skin I've had in a very long time. My daughter who is 16 also tried it and she also broke out horribly. I switched back to my regular cleaner which is purpose and within a few days my skin improved. This just did not work for us at all and will never purchase again.                                                                               \n",
      "99  I was hoping for it to help with my acne but it made it worse. It brought more acne and dried out my face so bad. I have really oily skin, but this product made me have super dry skin, it got to were just me touching my face made it hurt.                                                                                                                                                                                                                                                                                                                                                                                                                                              \n",
      "\n",
      "    REVIEW_RATING  SC  \\\n",
      "0   2.0            1    \n",
      "1   1.0            1    \n",
      "2   2.0            1    \n",
      "3   1.0            1    \n",
      "4   1.0            1    \n",
      "..  ...           ..    \n",
      "95  1.0            1    \n",
      "96  2.0            1    \n",
      "97  2.0            1    \n",
      "98  1.0            1    \n",
      "99  1.0            1    \n",
      "\n",
      "                                                                                                                                                                                                                                                                                                                                                                                                                                                                                                                                                                                                                                                                                           ALL_TEXT  \n",
      "0   Be careful - also catches small animals. This worked very well for trapping bugs, but unfortunately it also trapped one of our little lanai lizards or geckos (we live in Florida), which I had to pry off very slowly using Goop.  He lost his tail and part of a leg, but he was still alive and moving, so I hope he survived.  Sorry, but apparently these are not for those of us in areas with small animals.                                                                                                                                                                                                                                                                              \n",
      "1   Yikes I was really excited to get this.. I bought the 40$ one that comes with the serum. This product is to say the least pretty awful. Has the weirdest tint to it. Basically orange. Also gave me little pimples on my cheeks and jawline. It blends okay but definitely need to double check since the gray formula sits on the skin. Kind of upset I wasted 40$ on this. Definitely not worth the price, ugh! \\nI reached out to them via email about returning with the response that I need to call. Which is annoying. I don't have time to sit on the phone. \\nFor such a HUGE company you would think they would have a big enough staff to return emails. Very disappointed Clinique!  \n",
      "2   Too Heavy, not enough cushioning for running Can't wear them to run. Hurt shins. Too Heavy and not enough cushioning. Came from Hoka.                                                                                                                                                                                                                                                                                                                                                                                                                                                                                                                                                            \n",
      "3   Curl I didn't like this it left my hair dry and the next morning I was brushing and brushing my hair over 15 minutes to untangle that's not fair to me products are to help your hair to smooth your hair to make your hair look beautifully not to make it fall off and nasty and dry and feel right not smooth                                                                                                                                                                                                                                                                                                                                                                                 \n",
      "4   It burns your eyes! The tea leaf and mint can burn your eyes when the suds run down your face. This is not for sensitive scalp, or curly hair individuals. It dries out your hair sooooo much. I've used it for sometime, and my hair got worse.                                                                                                                                                                                                                                                                                                                                                                                                                                                 \n",
      "..                                                                                                                                                                                                                                               ...                                                                                                                                                                                                                                                                                                                                                                                                                                                 \n",
      "95  Do Not Apply! This thing burrrns irritates me my family and friends! Ever since I used this I got a layer of rash that is until nkw 3 months later didnt vanish!!! I regret this. I'm young and now I have wrinkles under my eyes                                                                                                                                                                                                                                                                                                                                                                                                                                                                \n",
      "96  made skin worse smells good, feels good and is a very pretty purple color, but that's all this product has going for it. unfortunately since i started using it, my acne on my chest has gotten significantly worse. but it also gave me tons of tiny rough bumps too (not acne).                                                                                                                                                                                                                                                                                                                                                                                                                \n",
      "97  I liked it but... it is a good concealer but it oxidizes and turns orange, but the big deal breaker is that it gave me really bad acne/breakouts wherever I put it so sadly I'm returning it                                                                                                                                                                                                                                                                                                                                                                                                                                                                                                     \n",
      "98  Did not work for me This did not work for me at all. I have super oily, acne prone skin and after reading all the great reviews was excited to try it. This face wash made me break out like I was a teenager again. I am 36. It made my skin feel worse than before. I though maybe it would get better so I tried it for 2 weeks and I had the worst skin I've had in a very long time. My daughter who is 16 also tried it and she also broke out horribly. I switched back to my regular cleaner which is purpose and within a few days my skin improved. This just did not work for us at all and will never purchase again.                                                                \n",
      "99  Horrible I was hoping for it to help with my acne but it made it worse. It brought more acne and dried out my face so bad. I have really oily skin, but this product made me have super dry skin, it got to were just me touching my face made it hurt.                                                                                                                                                                                                                                                                                                                                                                                                                                          \n",
      "\n",
      "[100 rows x 6 columns]\n",
      "<string>:5: FutureWarning: Passing a negative integer is deprecated in version 1.0 and will not be supported in future version. Instead, use None to not limit the column width."
     ]
    }
   ],
   "source": [
    "#reviews['ALL_TEXT'] = 'headline ' + reviews['REVIEW_HEADLINE'] + ' comment ' + reviews['REVIEW_COMMENTS'] + \\\n",
    "#        ' nickname ' + reviews['REVIEWER_NICKNAME'] + ' location ' + reviews['REVIEWER_LOCATION']\n",
    "reviews['ALL_TEXT'] =  reviews['REVIEW_HEADLINE']  + ' ' + reviews['REVIEW_COMMENTS']\n",
    "#Use set_option so text doesn't truncate\n",
    "pd.set_option('display.max_colwidth', -1)\n",
    "pd.set_option('display.max_columns', None)\n",
    "reviews.head(100)\n",
    "\n",
    "#reviews.dtypes"
   ]
  },
  {
   "cell_type": "code",
   "execution_count": 15,
   "metadata": {},
   "outputs": [
    {
     "data": {
      "application/vnd.jupyter.widget-view+json": {
       "model_id": "f7c39cbdb0b54e99b83c3e5b5036e56a",
       "version_major": 2,
       "version_minor": 0
      },
      "text/plain": [
       "VBox()"
      ]
     },
     "metadata": {},
     "output_type": "display_data"
    },
    {
     "data": {
      "application/vnd.jupyter.widget-view+json": {
       "model_id": "",
       "version_major": 2,
       "version_minor": 0
      },
      "text/plain": [
       "FloatProgress(value=0.0, bar_style='info', description='Progress:', layout=Layout(height='25px', width='50%'),…"
      ]
     },
     "metadata": {},
     "output_type": "display_data"
    },
    {
     "name": "stdout",
     "output_type": "stream",
     "text": [
      "<class 'pandas.core.frame.DataFrame'>\n",
      "Int64Index: 140634 entries, 0 to 13977825\n",
      "Data columns (total 6 columns):\n",
      " #   Column           Non-Null Count   Dtype  \n",
      "---  ------           --------------   -----  \n",
      " 0   UGC_ID           140634 non-null  int64  \n",
      " 1   REVIEW_HEADLINE  140621 non-null  object \n",
      " 2   REVIEW_COMMENTS  140619 non-null  object \n",
      " 3   REVIEW_RATING    140633 non-null  float64\n",
      " 4   SC               140634 non-null  int64  \n",
      " 5   ALL_TEXT         140607 non-null  object \n",
      "dtypes: float64(1), int64(2), object(3)\n",
      "memory usage: 7.5+ MB"
     ]
    }
   ],
   "source": [
    "reviews.info()"
   ]
  },
  {
   "cell_type": "code",
   "execution_count": 16,
   "metadata": {},
   "outputs": [
    {
     "data": {
      "application/vnd.jupyter.widget-view+json": {
       "model_id": "6edc1a40274346b9aff27dd379e7c9fb",
       "version_major": 2,
       "version_minor": 0
      },
      "text/plain": [
       "VBox()"
      ]
     },
     "metadata": {},
     "output_type": "display_data"
    },
    {
     "data": {
      "application/vnd.jupyter.widget-view+json": {
       "model_id": "",
       "version_major": 2,
       "version_minor": 0
      },
      "text/plain": [
       "FloatProgress(value=0.0, bar_style='info', description='Progress:', layout=Layout(height='25px', width='50%'),…"
      ]
     },
     "metadata": {},
     "output_type": "display_data"
    },
    {
     "name": "stdout",
     "output_type": "stream",
     "text": [
      "             UGC_ID                               REVIEW_HEADLINE  \\\n",
      "0         278094040  Be careful - also catches small animals.       \n",
      "1         278194778  Yikes                                          \n",
      "2         278270433  Too Heavy, not enough cushioning for running   \n",
      "3         278253155  Curl                                           \n",
      "4         278245917  It burns your eyes!                            \n",
      "...             ...                  ...                            \n",
      "2542441   326360932  COVID-19 Protection                            \n",
      "1127335   300473627  Mattress                                       \n",
      "5299684   322341013  Great shirt                                    \n",
      "8651984   308070470  Perfect!!                                      \n",
      "13977825  276658554  Tornado wind                                   \n",
      "\n",
      "                                                                                                                                                                                                                                                                                                                                                                                                                                                                                                                                                                                                                                                                                    REVIEW_COMMENTS  \\\n",
      "0         This worked very well for trapping bugs, but unfortunately it also trapped one of our little lanai lizards or geckos (we live in Florida), which I had to pry off very slowly using Goop.  He lost his tail and part of a leg, but he was still alive and moving, so I hope he survived.  Sorry, but apparently these are not for those of us in areas with small animals.                                                                                                                                                                                                                                                                                                                  \n",
      "1         I was really excited to get this.. I bought the 40$ one that comes with the serum. This product is to say the least pretty awful. Has the weirdest tint to it. Basically orange. Also gave me little pimples on my cheeks and jawline. It blends okay but definitely need to double check since the gray formula sits on the skin. Kind of upset I wasted 40$ on this. Definitely not worth the price, ugh! \\nI reached out to them via email about returning with the response that I need to call. Which is annoying. I don't have time to sit on the phone. \\nFor such a HUGE company you would think they would have a big enough staff to return emails. Very disappointed Clinique!   \n",
      "2         Can't wear them to run. Hurt shins. Too Heavy and not enough cushioning. Came from Hoka.                                                                                                                                                                                                                                                                                                                                                                                                                                                                                                                                                                                                    \n",
      "3         I didn't like this it left my hair dry and the next morning I was brushing and brushing my hair over 15 minutes to untangle that's not fair to me products are to help your hair to smooth your hair to make your hair look beautifully not to make it fall off and nasty and dry and feel right not smooth                                                                                                                                                                                                                                                                                                                                                                                 \n",
      "4         The tea leaf and mint can burn your eyes when the suds run down your face. This is not for sensitive scalp, or curly hair individuals. It dries out your hair sooooo much. I've used it for sometime, and my hair got worse.                                                                                                                                                                                                                                                                                                                                                                                                                                                                \n",
      "...                                                                                                                                                                                                                                ...                                                                                                                                                                                                                                                                                                                                                                                                                                                                \n",
      "2542441   In this time of a pandemic, this sanitizing wand is very useful especially when bringing in cans and packages from the supermarket.  Since so many people could have touched the items before the buyer has it put in the shopping bags, using the wand can hopefully get rid of the virus. There are if course many other uses including railings and doorknobs, chairs, tables, etc. Just one more way to keep you a little safer.                                                                                                                                                                                                                                                        \n",
      "1127335   Love my bed                                                                                                                                                                                                                                                                                                                                                                                                                                                                                                                                                                                                                                                                                 \n",
      "5299684   Perfect fit. A hit for a present.                                                                                                                                                                                                                                                                                                                                                                                                                                                                                                                                                                                                                                                           \n",
      "8651984   Perfect!!!                                                                                                                                                                                                                                                                                                                                                                                                                                                                                                                                                                                                                                                                                  \n",
      "13977825  This is by far the best hair investment I've ever made. ! Bought one for my mother for mothers day and have been borrowing it since, can't wait to pick one up for myself! Very strong so make sure to comb through your hair as you dry or else it will cause a rats nest and a half. Gives you immense volume no need for salon visit blowouts anymore!                                                                                                                                                                                                                                                                                                                                   \n",
      "\n",
      "          REVIEW_RATING  \\\n",
      "0         2.0             \n",
      "1         1.0             \n",
      "2         2.0             \n",
      "3         1.0             \n",
      "4         1.0             \n",
      "...       ...             \n",
      "2542441   4.0             \n",
      "1127335   5.0             \n",
      "5299684   5.0             \n",
      "8651984   5.0             \n",
      "13977825  5.0             \n",
      "\n",
      "                                                                                                                                                                                                                                                                                                                                                                                                                                                                                                                                                                                                                                                                                                 ALL_TEXT  \n",
      "0         Be careful - also catches small animals. This worked very well for trapping bugs, but unfortunately it also trapped one of our little lanai lizards or geckos (we live in Florida), which I had to pry off very slowly using Goop.  He lost his tail and part of a leg, but he was still alive and moving, so I hope he survived.  Sorry, but apparently these are not for those of us in areas with small animals.                                                                                                                                                                                                                                                                              \n",
      "1         Yikes I was really excited to get this.. I bought the 40$ one that comes with the serum. This product is to say the least pretty awful. Has the weirdest tint to it. Basically orange. Also gave me little pimples on my cheeks and jawline. It blends okay but definitely need to double check since the gray formula sits on the skin. Kind of upset I wasted 40$ on this. Definitely not worth the price, ugh! \\nI reached out to them via email about returning with the response that I need to call. Which is annoying. I don't have time to sit on the phone. \\nFor such a HUGE company you would think they would have a big enough staff to return emails. Very disappointed Clinique!  \n",
      "2         Too Heavy, not enough cushioning for running Can't wear them to run. Hurt shins. Too Heavy and not enough cushioning. Came from Hoka.                                                                                                                                                                                                                                                                                                                                                                                                                                                                                                                                                            \n",
      "3         Curl I didn't like this it left my hair dry and the next morning I was brushing and brushing my hair over 15 minutes to untangle that's not fair to me products are to help your hair to smooth your hair to make your hair look beautifully not to make it fall off and nasty and dry and feel right not smooth                                                                                                                                                                                                                                                                                                                                                                                 \n",
      "4         It burns your eyes! The tea leaf and mint can burn your eyes when the suds run down your face. This is not for sensitive scalp, or curly hair individuals. It dries out your hair sooooo much. I've used it for sometime, and my hair got worse.                                                                                                                                                                                                                                                                                                                                                                                                                                                 \n",
      "...                                                                                                                                                                                                                                                    ...                                                                                                                                                                                                                                                                                                                                                                                                                                                 \n",
      "2542441   COVID-19 Protection In this time of a pandemic, this sanitizing wand is very useful especially when bringing in cans and packages from the supermarket.  Since so many people could have touched the items before the buyer has it put in the shopping bags, using the wand can hopefully get rid of the virus. There are if course many other uses including railings and doorknobs, chairs, tables, etc. Just one more way to keep you a little safer.                                                                                                                                                                                                                                         \n",
      "1127335   Mattress Love my bed                                                                                                                                                                                                                                                                                                                                                                                                                                                                                                                                                                                                                                                                             \n",
      "5299684   Great shirt Perfect fit. A hit for a present.                                                                                                                                                                                                                                                                                                                                                                                                                                                                                                                                                                                                                                                    \n",
      "8651984   Perfect!! Perfect!!!                                                                                                                                                                                                                                                                                                                                                                                                                                                                                                                                                                                                                                                                             \n",
      "13977825  Tornado wind This is by far the best hair investment I've ever made. ! Bought one for my mother for mothers day and have been borrowing it since, can't wait to pick one up for myself! Very strong so make sure to comb through your hair as you dry or else it will cause a rats nest and a half. Gives you immense volume no need for salon visit blowouts anymore!                                                                                                                                                                                                                                                                                                                           \n",
      "\n",
      "[140634 rows x 5 columns]"
     ]
    }
   ],
   "source": [
    "#X = reviews[['ALL_TEXT','REVIEW_RATING']]\n",
    "#df.loc[:, df.columns != 'b']\n",
    "X = reviews.loc[:, reviews.columns != 'SC']\n",
    "X"
   ]
  },
  {
   "cell_type": "code",
   "execution_count": 17,
   "metadata": {},
   "outputs": [
    {
     "data": {
      "application/vnd.jupyter.widget-view+json": {
       "model_id": "ecc22245a9ee4a0fbe70e06de75bf1e3",
       "version_major": 2,
       "version_minor": 0
      },
      "text/plain": [
       "VBox()"
      ]
     },
     "metadata": {},
     "output_type": "display_data"
    },
    {
     "data": {
      "application/vnd.jupyter.widget-view+json": {
       "model_id": "",
       "version_major": 2,
       "version_minor": 0
      },
      "text/plain": [
       "FloatProgress(value=0.0, bar_style='info', description='Progress:', layout=Layout(height='25px', width='50%'),…"
      ]
     },
     "metadata": {},
     "output_type": "display_data"
    },
    {
     "name": "stdout",
     "output_type": "stream",
     "text": [
      "          SC\n",
      "0         1 \n",
      "1         1 \n",
      "2         1 \n",
      "3         1 \n",
      "4         1 \n",
      "...      .. \n",
      "2542441   0 \n",
      "1127335   0 \n",
      "5299684   0 \n",
      "8651984   0 \n",
      "13977825  0 \n",
      "\n",
      "[140634 rows x 1 columns]"
     ]
    }
   ],
   "source": [
    "\n",
    "y = reviews[['SC']]\n",
    "y"
   ]
  },
  {
   "cell_type": "code",
   "execution_count": 18,
   "metadata": {},
   "outputs": [
    {
     "data": {
      "application/vnd.jupyter.widget-view+json": {
       "model_id": "a7256088662d45178c86bb4d3616becd",
       "version_major": 2,
       "version_minor": 0
      },
      "text/plain": [
       "VBox()"
      ]
     },
     "metadata": {},
     "output_type": "display_data"
    },
    {
     "data": {
      "application/vnd.jupyter.widget-view+json": {
       "model_id": "",
       "version_major": 2,
       "version_minor": 0
      },
      "text/plain": [
       "FloatProgress(value=0.0, bar_style='info', description='Progress:', layout=Layout(height='25px', width='50%'),…"
      ]
     },
     "metadata": {},
     "output_type": "display_data"
    },
    {
     "name": "stdout",
     "output_type": "stream",
     "text": [
      "SC    70317\n",
      "dtype: int64"
     ]
    }
   ],
   "source": [
    "y.sum(axis=0)"
   ]
  },
  {
   "cell_type": "code",
   "execution_count": null,
   "metadata": {},
   "outputs": [],
   "source": []
  },
  {
   "cell_type": "code",
   "execution_count": 19,
   "metadata": {},
   "outputs": [
    {
     "data": {
      "application/vnd.jupyter.widget-view+json": {
       "model_id": "869062a38d0d4f75acf4b9e0dfac3f3e",
       "version_major": 2,
       "version_minor": 0
      },
      "text/plain": [
       "VBox()"
      ]
     },
     "metadata": {},
     "output_type": "display_data"
    },
    {
     "data": {
      "application/vnd.jupyter.widget-view+json": {
       "model_id": "",
       "version_major": 2,
       "version_minor": 0
      },
      "text/plain": [
       "FloatProgress(value=0.0, bar_style='info', description='Progress:', layout=Layout(height='25px', width='50%'),…"
      ]
     },
     "metadata": {},
     "output_type": "display_data"
    }
   ],
   "source": [
    "#test_size is what % of data goes to test set vs training\n",
    "#random_state - use so that when comparing models - same data is always going to test and train sets\n",
    "xtrain, xtest, ytrain, ytest = train_test_split(X, y, test_size=0.2, random_state=9, stratify = y)"
   ]
  },
  {
   "cell_type": "code",
   "execution_count": 20,
   "metadata": {},
   "outputs": [
    {
     "data": {
      "application/vnd.jupyter.widget-view+json": {
       "model_id": "3e4db0f075164ae49e4f91ff74ff890b",
       "version_major": 2,
       "version_minor": 0
      },
      "text/plain": [
       "VBox()"
      ]
     },
     "metadata": {},
     "output_type": "display_data"
    },
    {
     "data": {
      "application/vnd.jupyter.widget-view+json": {
       "model_id": "",
       "version_major": 2,
       "version_minor": 0
      },
      "text/plain": [
       "FloatProgress(value=0.0, bar_style='info', description='Progress:', layout=Layout(height='25px', width='50%'),…"
      ]
     },
     "metadata": {},
     "output_type": "display_data"
    },
    {
     "name": "stdout",
     "output_type": "stream",
     "text": [
      "             UGC_ID  \\\n",
      "5939846   315911099   \n",
      "13200239  283711601   \n",
      "38980     303694237   \n",
      "1479410   261392041   \n",
      "11342579  248990494   \n",
      "...             ...   \n",
      "3115      320901527   \n",
      "577699    241142748   \n",
      "35060     333961325   \n",
      "8731132   301866736   \n",
      "701226    237037091   \n",
      "\n",
      "                                                       REVIEW_HEADLINE  \\\n",
      "5939846   Great product                                                  \n",
      "13200239  Very Helpful                                                   \n",
      "38980     They left their tools und                                      \n",
      "1479410   I don't buy items that smell because of my allergies!          \n",
      "11342579  great                                                          \n",
      "...         ...                                                          \n",
      "3115      Not sure it's right for me                                     \n",
      "577699    This is probably my                                            \n",
      "35060     I would not buy this product again. I returned it for refund   \n",
      "8731132   Tastes great and does the                                      \n",
      "701226    I would buy this product again                                 \n",
      "\n",
      "                                                                                                                                                                                                                                                                                                                                                                                      REVIEW_COMMENTS  \\\n",
      "5939846   Love these masks. Great pack of tye dyed masks that will match many of my outfits.                                                                                                                                                                                                                                                                                                            \n",
      "13200239  There was a big sale going on and the sales people were very helpful, not pushy. The raincoat I bought is great too.                                                                                                                                                                                                                                                                          \n",
      "38980     They left their tools under the hood of my engine.  My car was in a worse state after picking it up.  It's overheating & smoking now.  This would have never happened under the previous manager Max, he took care of our cars & our family for years.  We will never go back based on this experience, they've damaged our vehicle & now we have to find someone else to fix their damage.   \n",
      "1479410   I was allergic to the smell, gave me a headache.                                                                                                                                                                                                                                                                                                                                              \n",
      "11342579  great                                                                                                                                                                                                                                                                                                                                                                                         \n",
      "...         ...                                                                                                                                                                                                                                                                                                                                                                                         \n",
      "3115      This is a great option for my morning wash, super gentle and refreshing! I supplement this with my go-to facewash from Eminence organics with great results. I tried to use as my only facewash while traveling, but my skin began to break out.                                                                                                                                              \n",
      "577699    This is probably my favorite scent from the body wash selections. I love it. It leaves my skin feeling really good!                                                                                                                                                                                                                                                                           \n",
      "35060     This pillow seemed like a good idea, but it didn't work out that way. It pressed on my R shoulder in such a way as to make it go numb., and I couldn't move it in such a way as to prevent this.                                                                                                                                                                                              \n",
      "8731132   Tastes great and does the job!                                                                                                                                                                                                                                                                                                                                                                \n",
      "701226    It is an excellent product.                                                                                                                                                                                                                                                                                                                                                                   \n",
      "\n",
      "          REVIEW_RATING  \\\n",
      "5939846   5.0             \n",
      "13200239  5.0             \n",
      "38980     1.0             \n",
      "1479410   1.0             \n",
      "11342579  5.0             \n",
      "...       ...             \n",
      "3115      3.0             \n",
      "577699    5.0             \n",
      "35060     1.0             \n",
      "8731132   5.0             \n",
      "701226    5.0             \n",
      "\n",
      "                                                                                                                                                                                                                                                                                                                                                                                                                       ALL_TEXT  \n",
      "5939846   Great product Love these masks. Great pack of tye dyed masks that will match many of my outfits.                                                                                                                                                                                                                                                                                                                       \n",
      "13200239  Very Helpful There was a big sale going on and the sales people were very helpful, not pushy. The raincoat I bought is great too.                                                                                                                                                                                                                                                                                      \n",
      "38980     They left their tools und They left their tools under the hood of my engine.  My car was in a worse state after picking it up.  It's overheating & smoking now.  This would have never happened under the previous manager Max, he took care of our cars & our family for years.  We will never go back based on this experience, they've damaged our vehicle & now we have to find someone else to fix their damage.  \n",
      "1479410   I don't buy items that smell because of my allergies! I was allergic to the smell, gave me a headache.                                                                                                                                                                                                                                                                                                                 \n",
      "11342579  great great                                                                                                                                                                                                                                                                                                                                                                                                            \n",
      "...               ...                                                                                                                                                                                                                                                                                                                                                                                                            \n",
      "3115      Not sure it's right for me This is a great option for my morning wash, super gentle and refreshing! I supplement this with my go-to facewash from Eminence organics with great results. I tried to use as my only facewash while traveling, but my skin began to break out.                                                                                                                                            \n",
      "577699    This is probably my This is probably my favorite scent from the body wash selections. I love it. It leaves my skin feeling really good!                                                                                                                                                                                                                                                                                \n",
      "35060     I would not buy this product again. I returned it for refund This pillow seemed like a good idea, but it didn't work out that way. It pressed on my R shoulder in such a way as to make it go numb., and I couldn't move it in such a way as to prevent this.                                                                                                                                                          \n",
      "8731132   Tastes great and does the Tastes great and does the job!                                                                                                                                                                                                                                                                                                                                                               \n",
      "701226    I would buy this product again It is an excellent product.                                                                                                                                                                                                                                                                                                                                                             \n",
      "\n",
      "[112507 rows x 5 columns]"
     ]
    }
   ],
   "source": [
    "print(xtrain)"
   ]
  },
  {
   "cell_type": "code",
   "execution_count": 21,
   "metadata": {},
   "outputs": [
    {
     "data": {
      "application/vnd.jupyter.widget-view+json": {
       "model_id": "7930873c538341bcba924ab836b20a3c",
       "version_major": 2,
       "version_minor": 0
      },
      "text/plain": [
       "VBox()"
      ]
     },
     "metadata": {},
     "output_type": "display_data"
    },
    {
     "data": {
      "application/vnd.jupyter.widget-view+json": {
       "model_id": "",
       "version_major": 2,
       "version_minor": 0
      },
      "text/plain": [
       "FloatProgress(value=0.0, bar_style='info', description='Progress:', layout=Layout(height='25px', width='50%'),…"
      ]
     },
     "metadata": {},
     "output_type": "display_data"
    }
   ],
   "source": [
    "#analyzer : default = word, can also test n_grams\n",
    "#max_df :  ignore terms that have a document frequency strictly higher than the given threshold\n",
    "#max_features : set total # of features used\n",
    "vectorizer = TfidfVectorizer(analyzer = 'word', max_features = 30000, stop_words= 'english', lowercase=True)\n",
    "#vectors = vectorizer.fit_transform(reviews['ALL_TEXT'].values.astype('U'))\n",
    "tfidf_vectors_xtrain = vectorizer.fit_transform(xtrain['ALL_TEXT'].apply(lambda x: np.str_(x)))\n",
    "tfidf_vectors_xtest = vectorizer.transform(xtest['ALL_TEXT'].apply(lambda x: np.str_(x)))"
   ]
  },
  {
   "cell_type": "code",
   "execution_count": 22,
   "metadata": {},
   "outputs": [
    {
     "data": {
      "application/vnd.jupyter.widget-view+json": {
       "model_id": "fffebe9d16f04e1e90064130b506214e",
       "version_major": 2,
       "version_minor": 0
      },
      "text/plain": [
       "VBox()"
      ]
     },
     "metadata": {},
     "output_type": "display_data"
    },
    {
     "data": {
      "application/vnd.jupyter.widget-view+json": {
       "model_id": "",
       "version_major": 2,
       "version_minor": 0
      },
      "text/plain": [
       "FloatProgress(value=0.0, bar_style='info', description='Progress:', layout=Layout(height='25px', width='50%'),…"
      ]
     },
     "metadata": {},
     "output_type": "display_data"
    },
    {
     "name": "stdout",
     "output_type": "stream",
     "text": [
      "  (0, 18577)\t0.3761956734107574\n",
      "  (0, 16454)\t0.27624659551379893\n",
      "  (0, 9210)\t0.36451699662608944\n",
      "  (0, 27792)\t0.4733311100504752\n",
      "  (0, 18788)\t0.2802700851572522\n",
      "  (0, 16422)\t0.5150303183152063\n",
      "  (0, 15958)\t0.122438243486629\n",
      "  (0, 20492)\t0.10718245560023913\n",
      "  (0, 12299)\t0.23444168044236194\n",
      "  (1, 4025)\t0.15365112214938315\n",
      "  (1, 21068)\t0.4501358014326747\n",
      "  (1, 20864)\t0.45472775020750983\n",
      "  (1, 19278)\t0.2036143241993006\n",
      "  (1, 22685)\t0.30932699659631874\n",
      "  (1, 12070)\t0.18986685199004552\n",
      "  (1, 22682)\t0.2512068862231052\n",
      "  (1, 3323)\t0.20109864138471834\n",
      "  (1, 12970)\t0.5254558103975328\n",
      "  (1, 12299)\t0.11895792895706289\n",
      "  (2, 7558)\t0.16287984890690904\n",
      "  (2, 10839)\t0.16849214077524655\n",
      "  (2, 28559)\t0.19811379398124943\n",
      "  (2, 7559)\t0.17043418975467442\n",
      "  (2, 28534)\t0.09650272743465611\n",
      "  (2, 10192)\t0.1355879548999516\n",
      "  :\t:\n",
      "  (112503, 15958)\t0.14571674754998304\n",
      "  (112504, 18057)\t0.30314071537278114\n",
      "  (112504, 20327)\t0.3256424870045919\n",
      "  (112504, 20356)\t0.28264264764486147\n",
      "  (112504, 23743)\t0.28964436774498475\n",
      "  (112504, 6968)\t0.20148428979525826\n",
      "  (112504, 19604)\t0.27193009572744725\n",
      "  (112504, 22087)\t0.20882727824627123\n",
      "  (112504, 21541)\t0.23507701628178446\n",
      "  (112504, 8291)\t0.15033955667810422\n",
      "  (112504, 12095)\t0.12018554858759718\n",
      "  (112504, 16207)\t0.16381435324185603\n",
      "  (112504, 29074)\t0.49601318188786464\n",
      "  (112504, 29570)\t0.15249260177916554\n",
      "  (112504, 13610)\t0.23507701628178446\n",
      "  (112504, 15629)\t0.11112400751658011\n",
      "  (112504, 4697)\t0.11819852651781591\n",
      "  (112504, 20492)\t0.10062116259230866\n",
      "  (112505, 14695)\t0.31833531050937414\n",
      "  (112505, 26482)\t0.7503928212869652\n",
      "  (112505, 8771)\t0.48119754549801996\n",
      "  (112505, 12299)\t0.3225246751034257\n",
      "  (112506, 10069)\t0.6604604330198697\n",
      "  (112506, 4697)\t0.38027289137446413\n",
      "  (112506, 20492)\t0.6474446265904995"
     ]
    }
   ],
   "source": [
    "print(tfidf_vectors_xtrain)\n",
    "#print(tfidf_vectors_xtest)"
   ]
  },
  {
   "cell_type": "code",
   "execution_count": 23,
   "metadata": {},
   "outputs": [
    {
     "data": {
      "application/vnd.jupyter.widget-view+json": {
       "model_id": "157b73c4712a44e99d932a4b201c766c",
       "version_major": 2,
       "version_minor": 0
      },
      "text/plain": [
       "VBox()"
      ]
     },
     "metadata": {},
     "output_type": "display_data"
    },
    {
     "data": {
      "application/vnd.jupyter.widget-view+json": {
       "model_id": "",
       "version_major": 2,
       "version_minor": 0
      },
      "text/plain": [
       "FloatProgress(value=0.0, bar_style='info', description='Progress:', layout=Layout(height='25px', width='50%'),…"
      ]
     },
     "metadata": {},
     "output_type": "display_data"
    }
   ],
   "source": [
    "#Test to see what output looks like - don't use for modeling - dense vectors are memory intensive\n",
    "#feature_names = vectorizer.get_feature_names()\n",
    "#dense = tfidf_vectors_xtrain.todense()\n",
    "#denselist = dense.tolist()\n",
    "#df = pd.DataFrame(denselist, columns=feature_names)\n",
    "#df.head()\n",
    "#feature_names"
   ]
  },
  {
   "cell_type": "code",
   "execution_count": 24,
   "metadata": {},
   "outputs": [
    {
     "data": {
      "application/vnd.jupyter.widget-view+json": {
       "model_id": "281773c9125e428abd549a5197a20305",
       "version_major": 2,
       "version_minor": 0
      },
      "text/plain": [
       "VBox()"
      ]
     },
     "metadata": {},
     "output_type": "display_data"
    },
    {
     "data": {
      "application/vnd.jupyter.widget-view+json": {
       "model_id": "",
       "version_major": 2,
       "version_minor": 0
      },
      "text/plain": [
       "FloatProgress(value=0.0, bar_style='info', description='Progress:', layout=Layout(height='25px', width='50%'),…"
      ]
     },
     "metadata": {},
     "output_type": "display_data"
    }
   ],
   "source": [
    "#Convert ratings to sparse vector so can join to TF-IDF sparse vector\n",
    "#ratings_vector_xtrain=sparse.csr_matrix((xtrain['REVIEW_RATING']/5).values).reshape(808202,1)\n",
    "#print(ratings_vector_xtrain)\n",
    "#ratings_vector_xtest=sparse.csr_matrix((xtest['REVIEW_RATING']/5).values).reshape(202051,1)\n",
    "#print(ratings_vector_xtest)"
   ]
  },
  {
   "cell_type": "code",
   "execution_count": 25,
   "metadata": {},
   "outputs": [
    {
     "data": {
      "application/vnd.jupyter.widget-view+json": {
       "model_id": "fedf5aaf50544f09baa18f933bb0ab63",
       "version_major": 2,
       "version_minor": 0
      },
      "text/plain": [
       "VBox()"
      ]
     },
     "metadata": {},
     "output_type": "display_data"
    },
    {
     "data": {
      "application/vnd.jupyter.widget-view+json": {
       "model_id": "",
       "version_major": 2,
       "version_minor": 0
      },
      "text/plain": [
       "FloatProgress(value=0.0, bar_style='info', description='Progress:', layout=Layout(height='25px', width='50%'),…"
      ]
     },
     "metadata": {},
     "output_type": "display_data"
    }
   ],
   "source": [
    "#Combine TF-IDF and ratings vectors\n",
    "#xtrain_final = sparse.hstack([tfidf_vectors_xtrain, ratings_vector_xtrain])\n",
    "#print(xtrain_final)\n",
    "#xtest_final = sparse.hstack([tfidf_vectors_xtest, ratings_vector_xtest])\n",
    "#print(xtest_final)"
   ]
  },
  {
   "cell_type": "code",
   "execution_count": 26,
   "metadata": {},
   "outputs": [
    {
     "data": {
      "application/vnd.jupyter.widget-view+json": {
       "model_id": "95959d8e7deb4bbdbe9a97598427f8e4",
       "version_major": 2,
       "version_minor": 0
      },
      "text/plain": [
       "VBox()"
      ]
     },
     "metadata": {},
     "output_type": "display_data"
    },
    {
     "data": {
      "application/vnd.jupyter.widget-view+json": {
       "model_id": "",
       "version_major": 2,
       "version_minor": 0
      },
      "text/plain": [
       "FloatProgress(value=0.0, bar_style='info', description='Progress:', layout=Layout(height='25px', width='50%'),…"
      ]
     },
     "metadata": {},
     "output_type": "display_data"
    }
   ],
   "source": [
    "xtrain_final = tfidf_vectors_xtrain\n",
    "xtest_final = tfidf_vectors_xtest"
   ]
  },
  {
   "cell_type": "code",
   "execution_count": 27,
   "metadata": {},
   "outputs": [
    {
     "data": {
      "application/vnd.jupyter.widget-view+json": {
       "model_id": "93e026e79a7e4edda9f16fa8bedb4b2a",
       "version_major": 2,
       "version_minor": 0
      },
      "text/plain": [
       "VBox()"
      ]
     },
     "metadata": {},
     "output_type": "display_data"
    },
    {
     "data": {
      "application/vnd.jupyter.widget-view+json": {
       "model_id": "",
       "version_major": 2,
       "version_minor": 0
      },
      "text/plain": [
       "FloatProgress(value=0.0, bar_style='info', description='Progress:', layout=Layout(height='25px', width='50%'),…"
      ]
     },
     "metadata": {},
     "output_type": "display_data"
    }
   ],
   "source": [
    "#max_iter : default =100 but getting error about not converging\n",
    "lr = LogisticRegression(max_iter=1000, solver = 'lbfgs')\n",
    "clf = lr\n"
   ]
  },
  {
   "cell_type": "code",
   "execution_count": 28,
   "metadata": {},
   "outputs": [
    {
     "data": {
      "application/vnd.jupyter.widget-view+json": {
       "model_id": "1322d9773a124d9c8646b28b28e2cd8f",
       "version_major": 2,
       "version_minor": 0
      },
      "text/plain": [
       "VBox()"
      ]
     },
     "metadata": {},
     "output_type": "display_data"
    },
    {
     "data": {
      "application/vnd.jupyter.widget-view+json": {
       "model_id": "",
       "version_major": 2,
       "version_minor": 0
      },
      "text/plain": [
       "FloatProgress(value=0.0, bar_style='info', description='Progress:', layout=Layout(height='25px', width='50%'),…"
      ]
     },
     "metadata": {},
     "output_type": "display_data"
    }
   ],
   "source": [
    "#Support Vector Machine model\n",
    "#clf = svm.SVC(probability=True)\n",
    "\n",
    "#Need to change input type of y for training model\n",
    "#ytrain = ytrain['NR'].ravel()\n",
    "#ytrain.shape"
   ]
  },
  {
   "cell_type": "code",
   "execution_count": 29,
   "metadata": {},
   "outputs": [
    {
     "data": {
      "application/vnd.jupyter.widget-view+json": {
       "model_id": "68b03324360e4245b86392be6146b251",
       "version_major": 2,
       "version_minor": 0
      },
      "text/plain": [
       "VBox()"
      ]
     },
     "metadata": {},
     "output_type": "display_data"
    },
    {
     "data": {
      "application/vnd.jupyter.widget-view+json": {
       "model_id": "",
       "version_major": 2,
       "version_minor": 0
      },
      "text/plain": [
       "FloatProgress(value=0.0, bar_style='info', description='Progress:', layout=Layout(height='25px', width='50%'),…"
      ]
     },
     "metadata": {},
     "output_type": "display_data"
    },
    {
     "name": "stdout",
     "output_type": "stream",
     "text": [
      "LogisticRegression(max_iter=1000)\n",
      "/usr/local/lib64/python3.7/site-packages/sklearn/utils/validation.py:63: DataConversionWarning: A column-vector y was passed when a 1d array was expected. Please change the shape of y to (n_samples, ), for example using ravel().\n",
      "  return f(*args, **kwargs)"
     ]
    }
   ],
   "source": [
    "#Train model\n",
    "clf.fit(xtrain_final, ytrain)"
   ]
  },
  {
   "cell_type": "code",
   "execution_count": 30,
   "metadata": {},
   "outputs": [
    {
     "data": {
      "application/vnd.jupyter.widget-view+json": {
       "model_id": "e6618e30db674da4a6e71c921e97b114",
       "version_major": 2,
       "version_minor": 0
      },
      "text/plain": [
       "VBox()"
      ]
     },
     "metadata": {},
     "output_type": "display_data"
    },
    {
     "data": {
      "application/vnd.jupyter.widget-view+json": {
       "model_id": "",
       "version_major": 2,
       "version_minor": 0
      },
      "text/plain": [
       "FloatProgress(value=0.0, bar_style='info', description='Progress:', layout=Layout(height='25px', width='50%'),…"
      ]
     },
     "metadata": {},
     "output_type": "display_data"
    },
    {
     "name": "stdout",
     "output_type": "stream",
     "text": [
      "SC    56254\n",
      "dtype: int64"
     ]
    }
   ],
   "source": [
    "#ytrain.dtypes\n",
    "ytrain.sum(axis=0)"
   ]
  },
  {
   "cell_type": "code",
   "execution_count": 31,
   "metadata": {},
   "outputs": [
    {
     "data": {
      "application/vnd.jupyter.widget-view+json": {
       "model_id": "c1da6fd337084a409b7bd14c5abb448e",
       "version_major": 2,
       "version_minor": 0
      },
      "text/plain": [
       "VBox()"
      ]
     },
     "metadata": {},
     "output_type": "display_data"
    },
    {
     "data": {
      "application/vnd.jupyter.widget-view+json": {
       "model_id": "",
       "version_major": 2,
       "version_minor": 0
      },
      "text/plain": [
       "FloatProgress(value=0.0, bar_style='info', description='Progress:', layout=Layout(height='25px', width='50%'),…"
      ]
     },
     "metadata": {},
     "output_type": "display_data"
    }
   ],
   "source": [
    "y_pred = clf.predict(xtest_final)"
   ]
  },
  {
   "cell_type": "code",
   "execution_count": 32,
   "metadata": {},
   "outputs": [
    {
     "data": {
      "application/vnd.jupyter.widget-view+json": {
       "model_id": "631d736183ae4fd9a525b1b3ad42f70b",
       "version_major": 2,
       "version_minor": 0
      },
      "text/plain": [
       "VBox()"
      ]
     },
     "metadata": {},
     "output_type": "display_data"
    },
    {
     "data": {
      "application/vnd.jupyter.widget-view+json": {
       "model_id": "",
       "version_major": 2,
       "version_minor": 0
      },
      "text/plain": [
       "FloatProgress(value=0.0, bar_style='info', description='Progress:', layout=Layout(height='25px', width='50%'),…"
      ]
     },
     "metadata": {},
     "output_type": "display_data"
    }
   ],
   "source": [
    "plt.clf()"
   ]
  },
  {
   "cell_type": "code",
   "execution_count": 33,
   "metadata": {},
   "outputs": [],
   "source": [
    "%matplotlib inline"
   ]
  },
  {
   "cell_type": "code",
   "execution_count": 34,
   "metadata": {},
   "outputs": [
    {
     "data": {
      "application/vnd.jupyter.widget-view+json": {
       "model_id": "406bfab5578344b2a59fd4609bba4f06",
       "version_major": 2,
       "version_minor": 0
      },
      "text/plain": [
       "VBox()"
      ]
     },
     "metadata": {},
     "output_type": "display_data"
    },
    {
     "data": {
      "application/vnd.jupyter.widget-view+json": {
       "model_id": "",
       "version_major": 2,
       "version_minor": 0
      },
      "text/plain": [
       "FloatProgress(value=0.0, bar_style='info', description='Progress:', layout=Layout(height='25px', width='50%'),…"
      ]
     },
     "metadata": {},
     "output_type": "display_data"
    }
   ],
   "source": [
    "#Confusion matrix\n",
    "#confusion_matrix(ytest, y_pred)\n",
    "#tn, fp, fn, tp = confusion_matrix(ytest, y_pred).ravel()\n",
    "#print(\"TN: {}\".format(tn), \"FP: {}\".format(fp), \"FN: {}\".format(fn), \"TP: {}\".format(tp))\n",
    "plot_confusion_matrix(clf, xtest_final, ytest, values_format = '.5g')\n",
    "plt.show()"
   ]
  },
  {
   "cell_type": "code",
   "execution_count": 35,
   "metadata": {},
   "outputs": [
    {
     "data": {
      "application/vnd.jupyter.widget-view+json": {
       "model_id": "",
       "version_major": 2,
       "version_minor": 0
      },
      "text/plain": [
       "FloatProgress(value=0.0, bar_style='info', description='Progress:', layout=Layout(height='25px', width='50%'),…"
      ]
     },
     "metadata": {},
     "output_type": "display_data"
    },
    {
     "data": {
      "image/png": "[encoded data removed]",
      "text/plain": [
       "<IPython.core.display.Image object>"
      ]
     },
     "metadata": {},
     "output_type": "display_data"
    }
   ],
   "source": [
    "%matplot plt"
   ]
  },
  {
   "cell_type": "code",
   "execution_count": null,
   "metadata": {},
   "outputs": [],
   "source": []
  },
  {
   "cell_type": "code",
   "execution_count": 36,
   "metadata": {},
   "outputs": [
    {
     "data": {
      "application/vnd.jupyter.widget-view+json": {
       "model_id": "3e905a81136f4fdb94986cdb74bd0e29",
       "version_major": 2,
       "version_minor": 0
      },
      "text/plain": [
       "VBox()"
      ]
     },
     "metadata": {},
     "output_type": "display_data"
    },
    {
     "data": {
      "application/vnd.jupyter.widget-view+json": {
       "model_id": "",
       "version_major": 2,
       "version_minor": 0
      },
      "text/plain": [
       "FloatProgress(value=0.0, bar_style='info', description='Progress:', layout=Layout(height='25px', width='50%'),…"
      ]
     },
     "metadata": {},
     "output_type": "display_data"
    },
    {
     "name": "stdout",
     "output_type": "stream",
     "text": [
      "<string>:1: SettingWithCopyWarning: \n",
      "A value is trying to be set on a copy of a slice from a DataFrame.\n",
      "Try using .loc[row_indexer,col_indexer] = value instead\n",
      "\n",
      "See the caveats in the documentation: https://pandas.pydata.org/pandas-docs/stable/user_guide/indexing.html#returning-a-view-versus-a-copy\n",
      "<string>:2: SettingWithCopyWarning: \n",
      "A value is trying to be set on a copy of a slice from a DataFrame.\n",
      "Try using .loc[row_indexer,col_indexer] = value instead\n",
      "\n",
      "See the caveats in the documentation: https://pandas.pydata.org/pandas-docs/stable/user_guide/indexing.html#returning-a-view-versus-a-copy"
     ]
    }
   ],
   "source": [
    "xtest['SC'] = ytest\n",
    "xtest['model_SC'] = y_pred"
   ]
  },
  {
   "cell_type": "code",
   "execution_count": 37,
   "metadata": {},
   "outputs": [
    {
     "data": {
      "application/vnd.jupyter.widget-view+json": {
       "model_id": "8be387974bf84c7390bedec195fe71e9",
       "version_major": 2,
       "version_minor": 0
      },
      "text/plain": [
       "VBox()"
      ]
     },
     "metadata": {},
     "output_type": "display_data"
    },
    {
     "data": {
      "application/vnd.jupyter.widget-view+json": {
       "model_id": "",
       "version_major": 2,
       "version_minor": 0
      },
      "text/plain": [
       "FloatProgress(value=0.0, bar_style='info', description='Progress:', layout=Layout(height='25px', width='50%'),…"
      ]
     },
     "metadata": {},
     "output_type": "display_data"
    },
    {
     "name": "stdout",
     "output_type": "stream",
     "text": [
      "<class 'pandas.core.frame.DataFrame'>\n",
      "Int64Index: 28127 entries, 4883679 to 62300\n",
      "Data columns (total 7 columns):\n",
      " #   Column           Non-Null Count  Dtype  \n",
      "---  ------           --------------  -----  \n",
      " 0   UGC_ID           28127 non-null  int64  \n",
      " 1   REVIEW_HEADLINE  28124 non-null  object \n",
      " 2   REVIEW_COMMENTS  28124 non-null  object \n",
      " 3   REVIEW_RATING    28127 non-null  float64\n",
      " 4   ALL_TEXT         28121 non-null  object \n",
      " 5   SC               28127 non-null  int64  \n",
      " 6   model_SC         28127 non-null  int64  \n",
      "dtypes: float64(1), int64(3), object(3)\n",
      "memory usage: 1.7+ MB"
     ]
    }
   ],
   "source": [
    "xtest.info()"
   ]
  },
  {
   "cell_type": "code",
   "execution_count": 38,
   "metadata": {},
   "outputs": [
    {
     "data": {
      "application/vnd.jupyter.widget-view+json": {
       "model_id": "9ce7484077aa42e79fa6f3b3d427a483",
       "version_major": 2,
       "version_minor": 0
      },
      "text/plain": [
       "VBox()"
      ]
     },
     "metadata": {},
     "output_type": "display_data"
    },
    {
     "data": {
      "application/vnd.jupyter.widget-view+json": {
       "model_id": "",
       "version_major": 2,
       "version_minor": 0
      },
      "text/plain": [
       "FloatProgress(value=0.0, bar_style='info', description='Progress:', layout=Layout(height='25px', width='50%'),…"
      ]
     },
     "metadata": {},
     "output_type": "display_data"
    }
   ],
   "source": [
    "from pyspark.sql.types import *\n",
    "\n",
    "mySchema = StructType([StructField(\"UGC_ID\", StringType(), True)\\\n",
    ",StructField(\"REVIEW_HEADLINE\", StringType(), True)\\\n",
    ",StructField(\"REVIEW_COMMENTS\", StringType(), True)\\\n",
    ",StructField(\"REVIEW_RATING\", FloatType(), True)\\\n",
    ",StructField(\"ALL_TEXT\", StringType(), True)\\\n",
    ",StructField(\"SC\", IntegerType(), True)\\\n",
    ",StructField(\"model_SC\", IntegerType(), True)])   "
   ]
  },
  {
   "cell_type": "code",
   "execution_count": 39,
   "metadata": {},
   "outputs": [
    {
     "data": {
      "application/vnd.jupyter.widget-view+json": {
       "model_id": "063343dbd5194b779bb0575144336303",
       "version_major": 2,
       "version_minor": 0
      },
      "text/plain": [
       "VBox()"
      ]
     },
     "metadata": {},
     "output_type": "display_data"
    },
    {
     "data": {
      "application/vnd.jupyter.widget-view+json": {
       "model_id": "",
       "version_major": 2,
       "version_minor": 0
      },
      "text/plain": [
       "FloatProgress(value=0.0, bar_style='info', description='Progress:', layout=Layout(height='25px', width='50%'),…"
      ]
     },
     "metadata": {},
     "output_type": "display_data"
    }
   ],
   "source": [
    "SNOWFLAKE_SOURCE_NAME = \"net.snowflake.spark.snowflake\"\n",
    "\n",
    "sfOptions = {\n",
    "  'sfURL' : 'powerreviews.snowflakecomputing.com',\n",
    "  'sfAccount' : 'powerreviews',\n",
    "  'sfUser' : username,\n",
    "  'sfPassword' : password,\n",
    "  'sfDatabase' : 'ANALYTICS_WORKSHOP',\n",
    "  'sfSchema' : 'DATA_SCIENCE',\n",
    "  'sfWarehouse' : 'LOWER_ENV_WAREHOUSE'\n",
    "}"
   ]
  },
  {
   "cell_type": "code",
   "execution_count": 40,
   "metadata": {},
   "outputs": [
    {
     "data": {
      "application/vnd.jupyter.widget-view+json": {
       "model_id": "6ca50fb37a09486f87aa61927f80e680",
       "version_major": 2,
       "version_minor": 0
      },
      "text/plain": [
       "VBox()"
      ]
     },
     "metadata": {},
     "output_type": "display_data"
    },
    {
     "data": {
      "application/vnd.jupyter.widget-view+json": {
       "model_id": "",
       "version_major": 2,
       "version_minor": 0
      },
      "text/plain": [
       "FloatProgress(value=0.0, bar_style='info', description='Progress:', layout=Layout(height='25px', width='50%'),…"
      ]
     },
     "metadata": {},
     "output_type": "display_data"
    }
   ],
   "source": [
    "#Turn into spark dataframe in order to write to Snowflake\n",
    "#Couldn't get write_pandas() to work to write directly from pandas to Snowflake\n",
    "xtest = spark.createDataFrame(xtest, schema=mySchema)"
   ]
  },
  {
   "cell_type": "code",
   "execution_count": 41,
   "metadata": {},
   "outputs": [
    {
     "data": {
      "application/vnd.jupyter.widget-view+json": {
       "model_id": "1fe2778e2ba941778fd0a0b549d9554d",
       "version_major": 2,
       "version_minor": 0
      },
      "text/plain": [
       "VBox()"
      ]
     },
     "metadata": {},
     "output_type": "display_data"
    },
    {
     "data": {
      "application/vnd.jupyter.widget-view+json": {
       "model_id": "",
       "version_major": 2,
       "version_minor": 0
      },
      "text/plain": [
       "FloatProgress(value=0.0, bar_style='info', description='Progress:', layout=Layout(height='25px', width='50%'),…"
      ]
     },
     "metadata": {},
     "output_type": "display_data"
    }
   ],
   "source": [
    "xtest.write.format(SNOWFLAKE_SOURCE_NAME).options(**sfOptions) \\\n",
    "    .option(\"dbtable\",\"SC_test1\").mode(\"append\").save()\n"
   ]
  },
  {
   "cell_type": "code",
   "execution_count": null,
   "metadata": {},
   "outputs": [],
   "source": []
  },
  {
   "cell_type": "code",
   "execution_count": null,
   "metadata": {},
   "outputs": [],
   "source": []
  },
  {
   "cell_type": "code",
   "execution_count": 42,
   "metadata": {},
   "outputs": [
    {
     "data": {
      "application/vnd.jupyter.widget-view+json": {
       "model_id": "be560ce1ca9d4f83a143a8a4400cdde7",
       "version_major": 2,
       "version_minor": 0
      },
      "text/plain": [
       "VBox()"
      ]
     },
     "metadata": {},
     "output_type": "display_data"
    },
    {
     "data": {
      "application/vnd.jupyter.widget-view+json": {
       "model_id": "",
       "version_major": 2,
       "version_minor": 0
      },
      "text/plain": [
       "FloatProgress(value=0.0, bar_style='info', description='Progress:', layout=Layout(height='25px', width='50%'),…"
      ]
     },
     "metadata": {},
     "output_type": "display_data"
    }
   ],
   "source": [
    "#Evaluating model performance\n",
    "#There are inherently mostly NOLABEL so accuracy could be high just bc of those\n",
    "#Want to make sure that when there is a label besides NOLABEL that it is being accurately predicted\n"
   ]
  },
  {
   "cell_type": "code",
   "execution_count": 47,
   "metadata": {},
   "outputs": [
    {
     "data": {
      "application/vnd.jupyter.widget-view+json": {
       "model_id": "806847f7743b4b7496f6130b87ef5aed",
       "version_major": 2,
       "version_minor": 0
      },
      "text/plain": [
       "VBox()"
      ]
     },
     "metadata": {},
     "output_type": "display_data"
    },
    {
     "data": {
      "application/vnd.jupyter.widget-view+json": {
       "model_id": "",
       "version_major": 2,
       "version_minor": 0
      },
      "text/plain": [
       "FloatProgress(value=0.0, bar_style='info', description='Progress:', layout=Layout(height='25px', width='50%'),…"
      ]
     },
     "metadata": {},
     "output_type": "display_data"
    },
    {
     "name": "stdout",
     "output_type": "stream",
     "text": [
      "Accuracy is:  0.9271518469797704\n",
      "Precision is:  0.9310419058553386\n",
      "Recall is:  0.9226338619071321\n",
      "F1 Score is:  0.9268188149576769"
     ]
    }
   ],
   "source": [
    "#Model performance metrics\n",
    "#Assess at individual label level as well as overall\n",
    "\n",
    "#Accuracy is overall correct predictions - not great measurement tool for imbalanced data\n",
    "#Precision - TP / TP + FP = spam detection - don't want to mark something as spam (FP) when it isn't\n",
    "#Recall - TP / TP + FN = sickness - don't want to tell someone they aren't sick (FN) when they are and can spread it\n",
    "#F1 - balance of precision and recall\n",
    "\n",
    "#We want to make sure if bomb emoji then it gets marked - even at the expense of marking other things potentially offensive that aren't \n",
    "#Important not to have FN - USE RECALL\n",
    "#Also don't want to be marking a bunch of stuff as offensive when it isn't and making moderation do everything anyway\n",
    "#Important not to have too many FP - USE PRECISION\n",
    "#Use F1 for balance between both\n",
    "print(\"Accuracy is:  {}\" .format(accuracy_score(ytest, y_pred)))\n",
    "print(\"Precision is:  {}\" .format(precision_score(ytest, y_pred)))\n",
    "print(\"Recall is:  {}\" .format(recall_score(ytest, y_pred)))\n",
    "print(\"F1 Score is:  {}\" .format(f1_score(ytest, y_pred)))"
   ]
  },
  {
   "cell_type": "code",
   "execution_count": 44,
   "metadata": {},
   "outputs": [
    {
     "data": {
      "application/vnd.jupyter.widget-view+json": {
       "model_id": "d5db121dd1f54438b521f9469fc6d691",
       "version_major": 2,
       "version_minor": 0
      },
      "text/plain": [
       "VBox()"
      ]
     },
     "metadata": {},
     "output_type": "display_data"
    },
    {
     "data": {
      "application/vnd.jupyter.widget-view+json": {
       "model_id": "",
       "version_major": 2,
       "version_minor": 0
      },
      "text/plain": [
       "FloatProgress(value=0.0, bar_style='info', description='Progress:', layout=Layout(height='25px', width='50%'),…"
      ]
     },
     "metadata": {},
     "output_type": "display_data"
    },
    {
     "name": "stdout",
     "output_type": "stream",
     "text": [
      "              precision    recall  f1-score   support\n",
      "\n",
      "           0       0.92      0.93      0.93     14064\n",
      "           1       0.93      0.92      0.93     14063\n",
      "\n",
      "    accuracy                           0.93     28127\n",
      "   macro avg       0.93      0.93      0.93     28127\n",
      "weighted avg       0.93      0.93      0.93     28127"
     ]
    }
   ],
   "source": [
    "print(classification_report(ytest,y_pred))"
   ]
  },
  {
   "cell_type": "code",
   "execution_count": 45,
   "metadata": {},
   "outputs": [
    {
     "data": {
      "application/vnd.jupyter.widget-view+json": {
       "model_id": "14d33b0874b34705b554d422230ccbc0",
       "version_major": 2,
       "version_minor": 0
      },
      "text/plain": [
       "VBox()"
      ]
     },
     "metadata": {},
     "output_type": "display_data"
    },
    {
     "data": {
      "application/vnd.jupyter.widget-view+json": {
       "model_id": "",
       "version_major": 2,
       "version_minor": 0
      },
      "text/plain": [
       "FloatProgress(value=0.0, bar_style='info', description='Progress:', layout=Layout(height='25px', width='50%'),…"
      ]
     },
     "metadata": {},
     "output_type": "display_data"
    }
   ],
   "source": [
    "probs = clf.predict_proba(xtest_final)\n",
    "preds = probs[:,1]\n",
    "fpr, tpr, threshold = roc_curve(ytest, preds)\n",
    "roc_auc = metrics.auc(fpr, tpr)\n",
    "#print(roc_auc)"
   ]
  },
  {
   "cell_type": "code",
   "execution_count": 46,
   "metadata": {},
   "outputs": [
    {
     "data": {
      "application/vnd.jupyter.widget-view+json": {
       "model_id": "a51320e6306243a7876a95aa611fd74b",
       "version_major": 2,
       "version_minor": 0
      },
      "text/plain": [
       "VBox()"
      ]
     },
     "metadata": {},
     "output_type": "display_data"
    },
    {
     "data": {
      "application/vnd.jupyter.widget-view+json": {
       "model_id": "",
       "version_major": 2,
       "version_minor": 0
      },
      "text/plain": [
       "FloatProgress(value=0.0, bar_style='info', description='Progress:', layout=Layout(height='25px', width='50%'),…"
      ]
     },
     "metadata": {},
     "output_type": "display_data"
    }
   ],
   "source": [
    "plt.clf()"
   ]
  },
  {
   "cell_type": "code",
   "execution_count": null,
   "metadata": {},
   "outputs": [],
   "source": []
  },
  {
   "cell_type": "code",
   "execution_count": null,
   "metadata": {},
   "outputs": [],
   "source": []
  },
  {
   "cell_type": "code",
   "execution_count": null,
   "metadata": {},
   "outputs": [],
   "source": []
  },
  {
   "cell_type": "code",
   "execution_count": null,
   "metadata": {},
   "outputs": [],
   "source": []
  },
  {
   "cell_type": "code",
   "execution_count": 40,
   "metadata": {},
   "outputs": [
    {
     "data": {
      "application/vnd.jupyter.widget-view+json": {
       "model_id": "e25bfe7297a34978aea956607d713a12",
       "version_major": 2,
       "version_minor": 0
      },
      "text/plain": [
       "VBox()"
      ]
     },
     "metadata": {},
     "output_type": "display_data"
    },
    {
     "data": {
      "application/vnd.jupyter.widget-view+json": {
       "model_id": "",
       "version_major": 2,
       "version_minor": 0
      },
      "text/plain": [
       "FloatProgress(value=0.0, bar_style='info', description='Progress:', layout=Layout(height='25px', width='50%'),…"
      ]
     },
     "metadata": {},
     "output_type": "display_data"
    }
   ],
   "source": [
    "#ROC CURVE\n",
    "#Assumes we care about 0 and 1 classification the same - we don't\n",
    "#We care more about performance of 1 classification - use precision recall curve\n",
    "plt.title('Receiver Operating Characteristic')\n",
    "plt.plot(fpr, tpr, 'b', label = 'AUC = %0.4f' % roc_auc)\n",
    "plt.legend(loc = 'lower right')\n",
    "plt.plot([0, 1], [0, 1],'r--')\n",
    "plt.xlim([0, 1])\n",
    "plt.ylim([0, 1])\n",
    "plt.ylabel('True Positive Rate')\n",
    "plt.xlabel('False Positive Rate')\n",
    "plt.show()"
   ]
  },
  {
   "cell_type": "code",
   "execution_count": 41,
   "metadata": {},
   "outputs": [
    {
     "data": {
      "application/vnd.jupyter.widget-view+json": {
       "model_id": "",
       "version_major": 2,
       "version_minor": 0
      },
      "text/plain": [
       "FloatProgress(value=0.0, bar_style='info', description='Progress:', layout=Layout(height='25px', width='50%'),…"
      ]
     },
     "metadata": {},
     "output_type": "display_data"
    },
    {
     "data": {
      "image/png": "[encoded data removed]",
      "text/plain": [
       "<IPython.core.display.Image object>"
      ]
     },
     "metadata": {},
     "output_type": "display_data"
    }
   ],
   "source": [
    "%matplot plt"
   ]
  },
  {
   "cell_type": "code",
   "execution_count": 42,
   "metadata": {},
   "outputs": [
    {
     "data": {
      "application/vnd.jupyter.widget-view+json": {
       "model_id": "1be649d176c04b9783bd6ab4d502221f",
       "version_major": 2,
       "version_minor": 0
      },
      "text/plain": [
       "VBox()"
      ]
     },
     "metadata": {},
     "output_type": "display_data"
    },
    {
     "data": {
      "application/vnd.jupyter.widget-view+json": {
       "model_id": "",
       "version_major": 2,
       "version_minor": 0
      },
      "text/plain": [
       "FloatProgress(value=0.0, bar_style='info', description='Progress:', layout=Layout(height='25px', width='50%'),…"
      ]
     },
     "metadata": {},
     "output_type": "display_data"
    },
    {
     "name": "stdout",
     "output_type": "stream",
     "text": [
      "Optimal threshold value: 0.45946357547928174\n",
      "Optimal tpr value: 0.9333503575076609\n",
      "Optimal fpr value: 0.08037538304392237"
     ]
    }
   ],
   "source": [
    "#Find best threshold (ROC Curve)\n",
    "#Ideally want tpr = 1 and fpr = 0, so want tpr - fpr as close to 1 as possible\n",
    "optimal_idx = np.argmax(tpr - fpr)\n",
    "optimal_threshold = threshold[optimal_idx]\n",
    "opt_tpr = tpr[optimal_idx]\n",
    "opt_fpr = fpr[optimal_idx]\n",
    "print(\"Optimal threshold value:\", optimal_threshold)\n",
    "print(\"Optimal tpr value:\", opt_tpr)\n",
    "print(\"Optimal fpr value:\", opt_fpr)"
   ]
  },
  {
   "cell_type": "code",
   "execution_count": 43,
   "metadata": {},
   "outputs": [
    {
     "data": {
      "application/vnd.jupyter.widget-view+json": {
       "model_id": "d36d27e424194f5688761ad7bda66157",
       "version_major": 2,
       "version_minor": 0
      },
      "text/plain": [
       "VBox()"
      ]
     },
     "metadata": {},
     "output_type": "display_data"
    },
    {
     "data": {
      "application/vnd.jupyter.widget-view+json": {
       "model_id": "",
       "version_major": 2,
       "version_minor": 0
      },
      "text/plain": [
       "FloatProgress(value=0.0, bar_style='info', description='Progress:', layout=Layout(height='25px', width='50%'),…"
      ]
     },
     "metadata": {},
     "output_type": "display_data"
    }
   ],
   "source": [
    "t = optimal_threshold\n",
    "y_pred_new = (preds >= t).astype(int)\n",
    "#y_pred_new"
   ]
  },
  {
   "cell_type": "code",
   "execution_count": 44,
   "metadata": {},
   "outputs": [
    {
     "data": {
      "application/vnd.jupyter.widget-view+json": {
       "model_id": "b805bd0a63bc4223a95bdff571677a1a",
       "version_major": 2,
       "version_minor": 0
      },
      "text/plain": [
       "VBox()"
      ]
     },
     "metadata": {},
     "output_type": "display_data"
    },
    {
     "data": {
      "application/vnd.jupyter.widget-view+json": {
       "model_id": "",
       "version_major": 2,
       "version_minor": 0
      },
      "text/plain": [
       "FloatProgress(value=0.0, bar_style='info', description='Progress:', layout=Layout(height='25px', width='50%'),…"
      ]
     },
     "metadata": {},
     "output_type": "display_data"
    },
    {
     "name": "stdout",
     "output_type": "stream",
     "text": [
      "Accuracy is:  0.9264874872318692\n",
      "Precision is:  0.9207128912400026\n",
      "Recall is:  0.9333503575076609\n",
      "F1 Score is:  0.9269885553054561"
     ]
    }
   ],
   "source": [
    "#Scores with best threshold cutoff\n",
    "print(\"Accuracy is:  {}\" .format(accuracy_score(ytest, y_pred_new)))\n",
    "print(\"Precision is:  {}\" .format(precision_score(ytest, y_pred_new)))\n",
    "print(\"Recall is:  {}\" .format(recall_score(ytest, y_pred_new)))\n",
    "print(\"F1 Score is:  {}\" .format(f1_score(ytest, y_pred_new)))"
   ]
  },
  {
   "cell_type": "code",
   "execution_count": 65,
   "metadata": {},
   "outputs": [
    {
     "data": {
      "application/vnd.jupyter.widget-view+json": {
       "model_id": "a1d8661e814946209547ee637adc7c9b",
       "version_major": 2,
       "version_minor": 0
      },
      "text/plain": [
       "VBox()"
      ]
     },
     "metadata": {},
     "output_type": "display_data"
    },
    {
     "data": {
      "application/vnd.jupyter.widget-view+json": {
       "model_id": "",
       "version_major": 2,
       "version_minor": 0
      },
      "text/plain": [
       "FloatProgress(value=0.0, bar_style='info', description='Progress:', layout=Layout(height='25px', width='50%'),…"
      ]
     },
     "metadata": {},
     "output_type": "display_data"
    },
    {
     "name": "stdout",
     "output_type": "stream",
     "text": [
      "24900"
     ]
    }
   ],
   "source": [
    "len(y_pred_new)"
   ]
  },
  {
   "cell_type": "code",
   "execution_count": null,
   "metadata": {},
   "outputs": [],
   "source": []
  },
  {
   "cell_type": "code",
   "execution_count": 66,
   "metadata": {},
   "outputs": [
    {
     "data": {
      "application/vnd.jupyter.widget-view+json": {
       "model_id": "fc409ba4e06b4b38aede532abd1b6d13",
       "version_major": 2,
       "version_minor": 0
      },
      "text/plain": [
       "VBox()"
      ]
     },
     "metadata": {},
     "output_type": "display_data"
    },
    {
     "data": {
      "application/vnd.jupyter.widget-view+json": {
       "model_id": "",
       "version_major": 2,
       "version_minor": 0
      },
      "text/plain": [
       "FloatProgress(value=0.0, bar_style='info', description='Progress:', layout=Layout(height='25px', width='50%'),…"
      ]
     },
     "metadata": {},
     "output_type": "display_data"
    }
   ],
   "source": [
    "#PRECISION RECALL CURVE\n",
    "#Better for what we want to assess which is how well label is assigned (i.e. when it gets a 1 instead of a 0)\n",
    "\n",
    "precision, recall, pr_threshold = precision_recall_curve(ytest, preds)\n",
    "pr_auc = metrics.auc(recall, precision)"
   ]
  },
  {
   "cell_type": "code",
   "execution_count": 67,
   "metadata": {},
   "outputs": [
    {
     "data": {
      "application/vnd.jupyter.widget-view+json": {
       "model_id": "99d58ae18c1444b3a185b30dc81f3ca3",
       "version_major": 2,
       "version_minor": 0
      },
      "text/plain": [
       "VBox()"
      ]
     },
     "metadata": {},
     "output_type": "display_data"
    },
    {
     "data": {
      "application/vnd.jupyter.widget-view+json": {
       "model_id": "",
       "version_major": 2,
       "version_minor": 0
      },
      "text/plain": [
       "FloatProgress(value=0.0, bar_style='info', description='Progress:', layout=Layout(height='25px', width='50%'),…"
      ]
     },
     "metadata": {},
     "output_type": "display_data"
    }
   ],
   "source": [
    "plt.clf()"
   ]
  },
  {
   "cell_type": "code",
   "execution_count": 70,
   "metadata": {},
   "outputs": [
    {
     "data": {
      "application/vnd.jupyter.widget-view+json": {
       "model_id": "0c3c650e35be46dbad6e1909bc1b47bc",
       "version_major": 2,
       "version_minor": 0
      },
      "text/plain": [
       "VBox()"
      ]
     },
     "metadata": {},
     "output_type": "display_data"
    },
    {
     "data": {
      "application/vnd.jupyter.widget-view+json": {
       "model_id": "",
       "version_major": 2,
       "version_minor": 0
      },
      "text/plain": [
       "FloatProgress(value=0.0, bar_style='info', description='Progress:', layout=Layout(height='25px', width='50%'),…"
      ]
     },
     "metadata": {},
     "output_type": "display_data"
    }
   ],
   "source": [
    "plt.title('Precision - Recall Curve')\n",
    "plt.plot(recall, precision, 'b', label = 'AUC = %0.4f' % pr_auc)\n",
    "plt.legend(loc = 'lower right')\n",
    "no_skill = len(ytest[ytest['CS']==1]) / len(ytest)\n",
    "plt.plot([0, 1], [no_skill, no_skill], 'r--', label='No Skill')\n",
    "#plt.xlim([0, 1])\n",
    "#plt.ylim([0, 1])\n",
    "plt.ylabel('Precision')\n",
    "plt.xlabel('Recall')\n",
    "plt.show()"
   ]
  },
  {
   "cell_type": "code",
   "execution_count": 71,
   "metadata": {},
   "outputs": [
    {
     "data": {
      "application/vnd.jupyter.widget-view+json": {
       "model_id": "",
       "version_major": 2,
       "version_minor": 0
      },
      "text/plain": [
       "FloatProgress(value=0.0, bar_style='info', description='Progress:', layout=Layout(height='25px', width='50%'),…"
      ]
     },
     "metadata": {},
     "output_type": "display_data"
    },
    {
     "data": {
      "image/png": "[encoded data removed]",
      "text/plain": [
       "<IPython.core.display.Image object>"
      ]
     },
     "metadata": {},
     "output_type": "display_data"
    }
   ],
   "source": [
    "%matplot plt"
   ]
  },
  {
   "cell_type": "code",
   "execution_count": 72,
   "metadata": {},
   "outputs": [
    {
     "data": {
      "application/vnd.jupyter.widget-view+json": {
       "model_id": "d0e3be2b9d5d4642b0bbacbc4ac60295",
       "version_major": 2,
       "version_minor": 0
      },
      "text/plain": [
       "VBox()"
      ]
     },
     "metadata": {},
     "output_type": "display_data"
    },
    {
     "data": {
      "application/vnd.jupyter.widget-view+json": {
       "model_id": "",
       "version_major": 2,
       "version_minor": 0
      },
      "text/plain": [
       "FloatProgress(value=0.0, bar_style='info', description='Progress:', layout=Layout(height='25px', width='50%'),…"
      ]
     },
     "metadata": {},
     "output_type": "display_data"
    },
    {
     "name": "stdout",
     "output_type": "stream",
     "text": [
      "Best Threshold=0.414175, F-Score=0.886\n",
      "Recall=0.925221\n",
      "Precision=0.850173"
     ]
    }
   ],
   "source": [
    "#Best F1 score optimizes precision recall trade off\n",
    "\n",
    "fscore = (2 * precision * recall) / (precision + recall)\n",
    "ix = argmax(fscore)\n",
    "print('Best Threshold=%f, F-Score=%.3f' % (pr_threshold[ix], fscore[ix]))\n",
    "\n",
    "print('Recall=%f' % recall[ix])\n",
    "print('Precision=%f' % precision[ix])"
   ]
  },
  {
   "cell_type": "code",
   "execution_count": 73,
   "metadata": {},
   "outputs": [
    {
     "data": {
      "application/vnd.jupyter.widget-view+json": {
       "model_id": "20fe4eaef915400caa458d95ccf5fbed",
       "version_major": 2,
       "version_minor": 0
      },
      "text/plain": [
       "VBox()"
      ]
     },
     "metadata": {},
     "output_type": "display_data"
    },
    {
     "data": {
      "application/vnd.jupyter.widget-view+json": {
       "model_id": "",
       "version_major": 2,
       "version_minor": 0
      },
      "text/plain": [
       "FloatProgress(value=0.0, bar_style='info', description='Progress:', layout=Layout(height='25px', width='50%'),…"
      ]
     },
     "metadata": {},
     "output_type": "display_data"
    }
   ],
   "source": [
    "plt.clf()"
   ]
  },
  {
   "cell_type": "code",
   "execution_count": 74,
   "metadata": {},
   "outputs": [
    {
     "data": {
      "application/vnd.jupyter.widget-view+json": {
       "model_id": "430f99baf6654cd2a20757d8c342b763",
       "version_major": 2,
       "version_minor": 0
      },
      "text/plain": [
       "VBox()"
      ]
     },
     "metadata": {},
     "output_type": "display_data"
    },
    {
     "data": {
      "application/vnd.jupyter.widget-view+json": {
       "model_id": "",
       "version_major": 2,
       "version_minor": 0
      },
      "text/plain": [
       "FloatProgress(value=0.0, bar_style='info', description='Progress:', layout=Layout(height='25px', width='50%'),…"
      ]
     },
     "metadata": {},
     "output_type": "display_data"
    }
   ],
   "source": [
    "plt.hist(preds, bins=10)\n",
    "plt.show()"
   ]
  },
  {
   "cell_type": "code",
   "execution_count": 75,
   "metadata": {},
   "outputs": [
    {
     "data": {
      "application/vnd.jupyter.widget-view+json": {
       "model_id": "",
       "version_major": 2,
       "version_minor": 0
      },
      "text/plain": [
       "FloatProgress(value=0.0, bar_style='info', description='Progress:', layout=Layout(height='25px', width='50%'),…"
      ]
     },
     "metadata": {},
     "output_type": "display_data"
    },
    {
     "data": {
      "image/png": "[encoded data removed]",
      "text/plain": [
       "<IPython.core.display.Image object>"
      ]
     },
     "metadata": {},
     "output_type": "display_data"
    }
   ],
   "source": [
    "%matplot plt"
   ]
  },
  {
   "cell_type": "code",
   "execution_count": null,
   "metadata": {},
   "outputs": [],
   "source": []
  },
  {
   "cell_type": "code",
   "execution_count": null,
   "metadata": {},
   "outputs": [],
   "source": []
  },
  {
   "cell_type": "code",
   "execution_count": 76,
   "metadata": {},
   "outputs": [
    {
     "data": {
      "application/vnd.jupyter.widget-view+json": {
       "model_id": "50041ddd95fc4de38c76915d057b22bc",
       "version_major": 2,
       "version_minor": 0
      },
      "text/plain": [
       "VBox()"
      ]
     },
     "metadata": {},
     "output_type": "display_data"
    },
    {
     "data": {
      "application/vnd.jupyter.widget-view+json": {
       "model_id": "",
       "version_major": 2,
       "version_minor": 0
      },
      "text/plain": [
       "FloatProgress(value=0.0, bar_style='info', description='Progress:', layout=Layout(height='25px', width='50%'),…"
      ]
     },
     "metadata": {},
     "output_type": "display_data"
    }
   ],
   "source": [
    "preds_df = pd.DataFrame(data=preds, columns = ['pred_prob'])\n",
    "#preds_df"
   ]
  },
  {
   "cell_type": "code",
   "execution_count": 77,
   "metadata": {},
   "outputs": [
    {
     "data": {
      "application/vnd.jupyter.widget-view+json": {
       "model_id": "a5562f6b61fa45a0827a833cd58bb508",
       "version_major": 2,
       "version_minor": 0
      },
      "text/plain": [
       "VBox()"
      ]
     },
     "metadata": {},
     "output_type": "display_data"
    },
    {
     "data": {
      "application/vnd.jupyter.widget-view+json": {
       "model_id": "",
       "version_major": 2,
       "version_minor": 0
      },
      "text/plain": [
       "FloatProgress(value=0.0, bar_style='info', description='Progress:', layout=Layout(height='25px', width='50%'),…"
      ]
     },
     "metadata": {},
     "output_type": "display_data"
    }
   ],
   "source": [
    "ytest.reset_index(drop=True, inplace=True)\n",
    "preds_df.reset_index(drop=True, inplace=True)"
   ]
  },
  {
   "cell_type": "code",
   "execution_count": 78,
   "metadata": {},
   "outputs": [
    {
     "data": {
      "application/vnd.jupyter.widget-view+json": {
       "model_id": "23ac1501f2a64a459bd99e5cde599492",
       "version_major": 2,
       "version_minor": 0
      },
      "text/plain": [
       "VBox()"
      ]
     },
     "metadata": {},
     "output_type": "display_data"
    },
    {
     "data": {
      "application/vnd.jupyter.widget-view+json": {
       "model_id": "",
       "version_major": 2,
       "version_minor": 0
      },
      "text/plain": [
       "FloatProgress(value=0.0, bar_style='info', description='Progress:', layout=Layout(height='25px', width='50%'),…"
      ]
     },
     "metadata": {},
     "output_type": "display_data"
    }
   ],
   "source": [
    "hist_plot_data = pd.concat([ytest, preds_df], axis = 1)\n",
    "#hist_plot_data"
   ]
  },
  {
   "cell_type": "code",
   "execution_count": null,
   "metadata": {},
   "outputs": [],
   "source": []
  },
  {
   "cell_type": "code",
   "execution_count": 80,
   "metadata": {},
   "outputs": [
    {
     "data": {
      "application/vnd.jupyter.widget-view+json": {
       "model_id": "2d0183a5fa2d41b49003f08de0890c96",
       "version_major": 2,
       "version_minor": 0
      },
      "text/plain": [
       "VBox()"
      ]
     },
     "metadata": {},
     "output_type": "display_data"
    },
    {
     "data": {
      "application/vnd.jupyter.widget-view+json": {
       "model_id": "",
       "version_major": 2,
       "version_minor": 0
      },
      "text/plain": [
       "FloatProgress(value=0.0, bar_style='info', description='Progress:', layout=Layout(height='25px', width='50%'),…"
      ]
     },
     "metadata": {},
     "output_type": "display_data"
    }
   ],
   "source": [
    "CS_0 = hist_plot_data.loc[hist_plot_data.CS == 0, 'pred_prob']\n",
    "CS_1 = hist_plot_data.loc[hist_plot_data.CS == 1, 'pred_prob']"
   ]
  },
  {
   "cell_type": "code",
   "execution_count": 81,
   "metadata": {},
   "outputs": [
    {
     "data": {
      "application/vnd.jupyter.widget-view+json": {
       "model_id": "8cc7f71484fa4f04bc0d0ba9e632ce62",
       "version_major": 2,
       "version_minor": 0
      },
      "text/plain": [
       "VBox()"
      ]
     },
     "metadata": {},
     "output_type": "display_data"
    },
    {
     "data": {
      "application/vnd.jupyter.widget-view+json": {
       "model_id": "",
       "version_major": 2,
       "version_minor": 0
      },
      "text/plain": [
       "FloatProgress(value=0.0, bar_style='info', description='Progress:', layout=Layout(height='25px', width='50%'),…"
      ]
     },
     "metadata": {},
     "output_type": "display_data"
    }
   ],
   "source": [
    "plt.clf()"
   ]
  },
  {
   "cell_type": "code",
   "execution_count": 82,
   "metadata": {},
   "outputs": [
    {
     "data": {
      "application/vnd.jupyter.widget-view+json": {
       "model_id": "fd43239d5e344053a184b4986cb9fb25",
       "version_major": 2,
       "version_minor": 0
      },
      "text/plain": [
       "VBox()"
      ]
     },
     "metadata": {},
     "output_type": "display_data"
    },
    {
     "data": {
      "application/vnd.jupyter.widget-view+json": {
       "model_id": "",
       "version_major": 2,
       "version_minor": 0
      },
      "text/plain": [
       "FloatProgress(value=0.0, bar_style='info', description='Progress:', layout=Layout(height='25px', width='50%'),…"
      ]
     },
     "metadata": {},
     "output_type": "display_data"
    },
    {
     "name": "stdout",
     "output_type": "stream",
     "text": [
      "<matplotlib.legend.Legend object at 0x7fc2b27b8b10>"
     ]
    }
   ],
   "source": [
    "kwargs = dict(alpha=0.5, bins=20)\n",
    "\n",
    "plt.hist(CS_0, **kwargs, color='b', label='CS=0')\n",
    "plt.hist(CS_1, **kwargs, color='g', label='CS=1')\n",
    "plt.gca().set(title='Histogram of CS Label Probs', ylabel='Frequency', xlabel = 'Predicted Probability')\n",
    "plt.legend();"
   ]
  },
  {
   "cell_type": "code",
   "execution_count": 83,
   "metadata": {},
   "outputs": [
    {
     "data": {
      "application/vnd.jupyter.widget-view+json": {
       "model_id": "",
       "version_major": 2,
       "version_minor": 0
      },
      "text/plain": [
       "FloatProgress(value=0.0, bar_style='info', description='Progress:', layout=Layout(height='25px', width='50%'),…"
      ]
     },
     "metadata": {},
     "output_type": "display_data"
    },
    {
     "data": {
      "image/png": "[encoded data removed]",
      "text/plain": [
       "<IPython.core.display.Image object>"
      ]
     },
     "metadata": {},
     "output_type": "display_data"
    }
   ],
   "source": [
    "%matplot plt"
   ]
  },
  {
   "cell_type": "code",
   "execution_count": 316,
   "metadata": {},
   "outputs": [
    {
     "data": {
      "application/vnd.jupyter.widget-view+json": {
       "model_id": "d395c296710a4dc59d80ce7df321e932",
       "version_major": 2,
       "version_minor": 0
      },
      "text/plain": [
       "VBox()"
      ]
     },
     "metadata": {},
     "output_type": "display_data"
    },
    {
     "data": {
      "application/vnd.jupyter.widget-view+json": {
       "model_id": "",
       "version_major": 2,
       "version_minor": 0
      },
      "text/plain": [
       "FloatProgress(value=0.0, bar_style='info', description='Progress:', layout=Layout(height='25px', width='50%'),…"
      ]
     },
     "metadata": {},
     "output_type": "display_data"
    },
    {
     "name": "stdout",
     "output_type": "stream",
     "text": [
      "NR           3233\n",
      "pred_prob    3233\n",
      "dtype: int64"
     ]
    }
   ],
   "source": [
    "#Amount of data that is actually 0 but predicted as 1 with probability > 80%\n",
    "hist_plot_data.loc[(hist_plot_data.NR == 0) & (hist_plot_data.pred_prob > 0.8)].count()\n",
    "#3233 / 204885 = ~1%"
   ]
  },
  {
   "cell_type": "code",
   "execution_count": 317,
   "metadata": {},
   "outputs": [
    {
     "data": {
      "application/vnd.jupyter.widget-view+json": {
       "model_id": "5de5ae5762b145ed9e7cb5df8a537aa4",
       "version_major": 2,
       "version_minor": 0
      },
      "text/plain": [
       "VBox()"
      ]
     },
     "metadata": {},
     "output_type": "display_data"
    },
    {
     "data": {
      "application/vnd.jupyter.widget-view+json": {
       "model_id": "",
       "version_major": 2,
       "version_minor": 0
      },
      "text/plain": [
       "FloatProgress(value=0.0, bar_style='info', description='Progress:', layout=Layout(height='25px', width='50%'),…"
      ]
     },
     "metadata": {},
     "output_type": "display_data"
    },
    {
     "name": "stdout",
     "output_type": "stream",
     "text": [
      "NR           3683\n",
      "pred_prob    3683\n",
      "dtype: int64"
     ]
    }
   ],
   "source": [
    "#Amount of data that is actually 1 but predicted as 0 with probability < 20%\n",
    "hist_plot_data.loc[(hist_plot_data.NR == 1) & (hist_plot_data.pred_prob < 0.2)].count()\n",
    "#3683 / 204885 = ~1%"
   ]
  },
  {
   "cell_type": "code",
   "execution_count": 318,
   "metadata": {},
   "outputs": [
    {
     "data": {
      "application/vnd.jupyter.widget-view+json": {
       "model_id": "e6e8465115924d3592827621e77cd3ad",
       "version_major": 2,
       "version_minor": 0
      },
      "text/plain": [
       "VBox()"
      ]
     },
     "metadata": {},
     "output_type": "display_data"
    },
    {
     "data": {
      "application/vnd.jupyter.widget-view+json": {
       "model_id": "",
       "version_major": 2,
       "version_minor": 0
      },
      "text/plain": [
       "FloatProgress(value=0.0, bar_style='info', description='Progress:', layout=Layout(height='25px', width='50%'),…"
      ]
     },
     "metadata": {},
     "output_type": "display_data"
    },
    {
     "name": "stdout",
     "output_type": "stream",
     "text": [
      "NR           47346\n",
      "pred_prob    47346\n",
      "dtype: int64"
     ]
    }
   ],
   "source": [
    "#Amount of data (0 or 1) that is between probabilities 20% - 80%\n",
    "hist_plot_data.loc[(hist_plot_data.pred_prob <0.8) & (hist_plot_data.pred_prob > 0.2)].count()\n",
    "#47346 / 204885 = ~23%"
   ]
  },
  {
   "cell_type": "code",
   "execution_count": 161,
   "metadata": {},
   "outputs": [
    {
     "data": {
      "application/vnd.jupyter.widget-view+json": {
       "model_id": "c777b1358e6249348dcc4c7210e64844",
       "version_major": 2,
       "version_minor": 0
      },
      "text/plain": [
       "VBox()"
      ]
     },
     "metadata": {},
     "output_type": "display_data"
    },
    {
     "data": {
      "application/vnd.jupyter.widget-view+json": {
       "model_id": "",
       "version_major": 2,
       "version_minor": 0
      },
      "text/plain": [
       "FloatProgress(value=0.0, bar_style='info', description='Progress:', layout=Layout(height='25px', width='50%'),…"
      ]
     },
     "metadata": {},
     "output_type": "display_data"
    }
   ],
   "source": [
    "#importance = clf.coef_\n",
    "#importance"
   ]
  },
  {
   "cell_type": "code",
   "execution_count": 162,
   "metadata": {},
   "outputs": [
    {
     "data": {
      "application/vnd.jupyter.widget-view+json": {
       "model_id": "ef529e01c7034a18acdc12c79c1fd802",
       "version_major": 2,
       "version_minor": 0
      },
      "text/plain": [
       "VBox()"
      ]
     },
     "metadata": {},
     "output_type": "display_data"
    },
    {
     "data": {
      "application/vnd.jupyter.widget-view+json": {
       "model_id": "",
       "version_major": 2,
       "version_minor": 0
      },
      "text/plain": [
       "FloatProgress(value=0.0, bar_style='info', description='Progress:', layout=Layout(height='25px', width='50%'),…"
      ]
     },
     "metadata": {},
     "output_type": "display_data"
    }
   ],
   "source": [
    "\n",
    "#feature_names = vectorizer.get_feature_names()\n",
    "#dense = importance\n",
    "#denselist = dense.tolist()\n",
    "#df = pd.DataFrame(denselist, columns=feature_names)\n",
    "#df"
   ]
  },
  {
   "cell_type": "code",
   "execution_count": null,
   "metadata": {},
   "outputs": [],
   "source": []
  },
  {
   "cell_type": "code",
   "execution_count": null,
   "metadata": {},
   "outputs": [],
   "source": []
  },
  {
   "cell_type": "code",
   "execution_count": null,
   "metadata": {},
   "outputs": [],
   "source": []
  },
  {
   "cell_type": "code",
   "execution_count": null,
   "metadata": {},
   "outputs": [],
   "source": []
  },
  {
   "cell_type": "code",
   "execution_count": null,
   "metadata": {},
   "outputs": [],
   "source": []
  },
  {
   "cell_type": "code",
   "execution_count": null,
   "metadata": {},
   "outputs": [],
   "source": []
  },
  {
   "cell_type": "code",
   "execution_count": 287,
   "metadata": {},
   "outputs": [
    {
     "data": {
      "application/vnd.jupyter.widget-view+json": {
       "model_id": "808ea30218d34df1bdad838bce6fe775",
       "version_major": 2,
       "version_minor": 0
      },
      "text/plain": [
       "VBox()"
      ]
     },
     "metadata": {},
     "output_type": "display_data"
    },
    {
     "data": {
      "application/vnd.jupyter.widget-view+json": {
       "model_id": "",
       "version_major": 2,
       "version_minor": 0
      },
      "text/plain": [
       "FloatProgress(value=0.0, bar_style='info', description='Progress:', layout=Layout(height='25px', width='50%'),…"
      ]
     },
     "metadata": {},
     "output_type": "display_data"
    }
   ],
   "source": [
    "xtest.reset_index(drop=True, inplace=True)\n",
    "hist_plot_data.reset_index(drop=True, inplace=True)"
   ]
  },
  {
   "cell_type": "code",
   "execution_count": 303,
   "metadata": {},
   "outputs": [
    {
     "data": {
      "application/vnd.jupyter.widget-view+json": {
       "model_id": "8bd8f8f1e5c44e8e85ae93be35c101a9",
       "version_major": 2,
       "version_minor": 0
      },
      "text/plain": [
       "VBox()"
      ]
     },
     "metadata": {},
     "output_type": "display_data"
    },
    {
     "data": {
      "application/vnd.jupyter.widget-view+json": {
       "model_id": "",
       "version_major": 2,
       "version_minor": 0
      },
      "text/plain": [
       "FloatProgress(value=0.0, bar_style='info', description='Progress:', layout=Layout(height='25px', width='50%'),…"
      ]
     },
     "metadata": {},
     "output_type": "display_data"
    },
    {
     "name": "stdout",
     "output_type": "stream",
     "text": [
      "                                                                                                                                                                                                                                                                                                                                                                                                                           ALL_TEXT  \\\n",
      "0       headline Daughter loves it!! comment This is so cute, my daughter loves all the robots from Star Wars, and here they are all on one shirt!!                                                                                                                                                                                                                                                                                   \n",
      "1       headline Love these too!!! comment The warmest earmuffs I have ever used in my life and they don't even make my ears sweat!! These are the best earmuffs EVER!!! At first I thought they were way too expensive for earmuffs but they work excellently well, they look good and I am extremely happy with them.                                                                                                               \n",
      "2       headline Five Stars comment The dress is really pretty.                                                                                                                                                                                                                                                                                                                                                                       \n",
      "3       headline Good goods comment Good running shoe\\nIt is like walking on a cloud                                                                                                                                                                                                                                                                                                                                                  \n",
      "4       headline Love, love, love these! comment I love that the ankle is cuffed so it doesn't swallow my sons foot. These are so soft, and cute! I think they run really big compared to other clothes that I have purchased for my son. I got 9/12 and even tightened all the way there is a gap. He usually wears 12/18 months. But that's okay because he can get good use out of these!                                          \n",
      "...                                                                                                                                                                                                                                                                                                                                                                                      ...                                          \n",
      "204880  headline Have not received my order, going on 3 weeks. comment I'll never order from North face again, what do I do with my egift card.                                                                                                                                                                                                                                                                                       \n",
      "204881  headline Hated them comment Hated these shoes tried to take them back to my nearest store and bc they had a little scuff on them the nasty person at Columbia mall in Baltimore Maryland said he would not take back or return them. So I told him to throw away and I won't buy another shoe from here. Which sucks bc I only wear sketchers.                                                                                \n",
      "204882  headline I can not say I was asked to review a product I don't have comment I purchased my order on 4/16 to be delivered to my new place on 5/8. I received a call on 5/6 advising me that I would not receive my bed set till 5/15. To make this worst I received a email from costumer service asking if how I like my bed. The bed set  I was supposed to sleep one in my new place but won't receive till the 15 of May   \n",
      "204883  headline Purse not received comment Purse not received                                                                                                                                                                                                                                                                                                                                                                        \n",
      "204884  headline Not worth the price tag comment Pillow sinks low after a week. I now have to fold it to get adequate support. Moreover, purchased from Mattress Firm at $99 when price here is below that. Ridiculous.                                                                                                                                                                                                               \n",
      "\n",
      "        REVIEW_RATING  NR  pred_prob  \n",
      "0       5.0            0   0.009026   \n",
      "1       5.0            0   0.312612   \n",
      "2       5.0            0   0.030589   \n",
      "3       5.0            0   0.180927   \n",
      "4       5.0            0   0.003680   \n",
      "...     ...           ..        ...   \n",
      "204880  1.0            1   0.986691   \n",
      "204881  1.0            1   0.887608   \n",
      "204882  1.0            1   0.994918   \n",
      "204883  1.0            1   0.947040   \n",
      "204884  1.0            1   0.477791   \n",
      "\n",
      "[204885 rows x 4 columns]"
     ]
    }
   ],
   "source": [
    "results = pd.concat([xtest, hist_plot_data], axis=1)\n",
    "results"
   ]
  },
  {
   "cell_type": "code",
   "execution_count": 304,
   "metadata": {},
   "outputs": [
    {
     "data": {
      "application/vnd.jupyter.widget-view+json": {
       "model_id": "81a47ff6d9b94a659c85ea4bb5665180",
       "version_major": 2,
       "version_minor": 0
      },
      "text/plain": [
       "VBox()"
      ]
     },
     "metadata": {},
     "output_type": "display_data"
    },
    {
     "data": {
      "application/vnd.jupyter.widget-view+json": {
       "model_id": "",
       "version_major": 2,
       "version_minor": 0
      },
      "text/plain": [
       "FloatProgress(value=0.0, bar_style='info', description='Progress:', layout=Layout(height='25px', width='50%'),…"
      ]
     },
     "metadata": {},
     "output_type": "display_data"
    },
    {
     "name": "stdout",
     "output_type": "stream",
     "text": [
      "                                                                                                                                                                                                                                                                                                                                                                                                                           ALL_TEXT  \\\n",
      "0       headline Daughter loves it!! comment This is so cute, my daughter loves all the robots from Star Wars, and here they are all on one shirt!!                                                                                                                                                                                                                                                                                   \n",
      "1       headline Love these too!!! comment The warmest earmuffs I have ever used in my life and they don't even make my ears sweat!! These are the best earmuffs EVER!!! At first I thought they were way too expensive for earmuffs but they work excellently well, they look good and I am extremely happy with them.                                                                                                               \n",
      "2       headline Five Stars comment The dress is really pretty.                                                                                                                                                                                                                                                                                                                                                                       \n",
      "3       headline Good goods comment Good running shoe\\nIt is like walking on a cloud                                                                                                                                                                                                                                                                                                                                                  \n",
      "4       headline Love, love, love these! comment I love that the ankle is cuffed so it doesn't swallow my sons foot. These are so soft, and cute! I think they run really big compared to other clothes that I have purchased for my son. I got 9/12 and even tightened all the way there is a gap. He usually wears 12/18 months. But that's okay because he can get good use out of these!                                          \n",
      "...                                                                                                                                                                                                                                                                                                                                                                                      ...                                          \n",
      "204880  headline Have not received my order, going on 3 weeks. comment I'll never order from North face again, what do I do with my egift card.                                                                                                                                                                                                                                                                                       \n",
      "204881  headline Hated them comment Hated these shoes tried to take them back to my nearest store and bc they had a little scuff on them the nasty person at Columbia mall in Baltimore Maryland said he would not take back or return them. So I told him to throw away and I won't buy another shoe from here. Which sucks bc I only wear sketchers.                                                                                \n",
      "204882  headline I can not say I was asked to review a product I don't have comment I purchased my order on 4/16 to be delivered to my new place on 5/8. I received a call on 5/6 advising me that I would not receive my bed set till 5/15. To make this worst I received a email from costumer service asking if how I like my bed. The bed set  I was supposed to sleep one in my new place but won't receive till the 15 of May   \n",
      "204883  headline Purse not received comment Purse not received                                                                                                                                                                                                                                                                                                                                                                        \n",
      "204884  headline Not worth the price tag comment Pillow sinks low after a week. I now have to fold it to get adequate support. Moreover, purchased from Mattress Firm at $99 when price here is below that. Ridiculous.                                                                                                                                                                                                               \n",
      "\n",
      "        REVIEW_RATING  NR  pred_prob  \n",
      "0       5.0            0   0.009026   \n",
      "1       5.0            0   0.312612   \n",
      "2       5.0            0   0.030589   \n",
      "3       5.0            0   0.180927   \n",
      "4       5.0            0   0.003680   \n",
      "...     ...           ..        ...   \n",
      "204880  1.0            1   0.986691   \n",
      "204881  1.0            1   0.887608   \n",
      "204882  1.0            1   0.994918   \n",
      "204883  1.0            1   0.947040   \n",
      "204884  1.0            1   0.477791   \n",
      "\n",
      "[204885 rows x 4 columns]"
     ]
    }
   ],
   "source": [
    "results['ALL_TEXT'] = results['ALL_TEXT'].astype(str)\n",
    "results"
   ]
  },
  {
   "cell_type": "code",
   "execution_count": 305,
   "metadata": {},
   "outputs": [
    {
     "data": {
      "application/vnd.jupyter.widget-view+json": {
       "model_id": "f187bf2f8ba341aea537001b2ec150c6",
       "version_major": 2,
       "version_minor": 0
      },
      "text/plain": [
       "VBox()"
      ]
     },
     "metadata": {},
     "output_type": "display_data"
    },
    {
     "data": {
      "application/vnd.jupyter.widget-view+json": {
       "model_id": "",
       "version_major": 2,
       "version_minor": 0
      },
      "text/plain": [
       "FloatProgress(value=0.0, bar_style='info', description='Progress:', layout=Layout(height='25px', width='50%'),…"
      ]
     },
     "metadata": {},
     "output_type": "display_data"
    }
   ],
   "source": [
    "results_sparkdf = spark.createDataFrame(results)"
   ]
  },
  {
   "cell_type": "code",
   "execution_count": 306,
   "metadata": {},
   "outputs": [
    {
     "data": {
      "application/vnd.jupyter.widget-view+json": {
       "model_id": "ce4974c112564d3288cb57c5500c6132",
       "version_major": 2,
       "version_minor": 0
      },
      "text/plain": [
       "VBox()"
      ]
     },
     "metadata": {},
     "output_type": "display_data"
    },
    {
     "data": {
      "application/vnd.jupyter.widget-view+json": {
       "model_id": "",
       "version_major": 2,
       "version_minor": 0
      },
      "text/plain": [
       "FloatProgress(value=0.0, bar_style='info', description='Progress:', layout=Layout(height='25px', width='50%'),…"
      ]
     },
     "metadata": {},
     "output_type": "display_data"
    }
   ],
   "source": [
    "sfOptions2 = {\n",
    "  'sfURL' : 'powerreviews.snowflakecomputing.com',\n",
    "  'sfAccount' : 'powerreviews',\n",
    "  'sfUser' : 'APP_SPARK_PROD',\n",
    "  'sfPassword' : '>6txhcQ*7&^Qrq`j',\n",
    "  'sfDatabase' : 'ANALYTICS_WORKSHOP',\n",
    "  'sfSchema' : 'DATA_SCIENCE',\n",
    "  'sfWarehouse' : 'LOWER_ENV_WAREHOUSE'\n",
    "}\n"
   ]
  },
  {
   "cell_type": "code",
   "execution_count": 307,
   "metadata": {},
   "outputs": [
    {
     "data": {
      "application/vnd.jupyter.widget-view+json": {
       "model_id": "bfc456d12a5b407ebac6b424c7f637b0",
       "version_major": 2,
       "version_minor": 0
      },
      "text/plain": [
       "VBox()"
      ]
     },
     "metadata": {},
     "output_type": "display_data"
    },
    {
     "data": {
      "application/vnd.jupyter.widget-view+json": {
       "model_id": "",
       "version_major": 2,
       "version_minor": 0
      },
      "text/plain": [
       "FloatProgress(value=0.0, bar_style='info', description='Progress:', layout=Layout(height='25px', width='50%'),…"
      ]
     },
     "metadata": {},
     "output_type": "display_data"
    }
   ],
   "source": [
    " results_sparkdf.write.format(SNOWFLAKE_SOURCE_NAME).options(**sfOptions2) \\\n",
    "    .option(\"dbtable\",\"MODLABEL_TEST_2\").mode(\"append\").save()"
   ]
  },
  {
   "cell_type": "code",
   "execution_count": null,
   "metadata": {},
   "outputs": [],
   "source": []
  },
  {
   "cell_type": "code",
   "execution_count": null,
   "metadata": {},
   "outputs": [],
   "source": []
  },
  {
   "cell_type": "code",
   "execution_count": null,
   "metadata": {},
   "outputs": [],
   "source": []
  },
  {
   "cell_type": "code",
   "execution_count": null,
   "metadata": {},
   "outputs": [],
   "source": []
  },
  {
   "cell_type": "code",
   "execution_count": null,
   "metadata": {},
   "outputs": [],
   "source": []
  },
  {
   "cell_type": "code",
   "execution_count": null,
   "metadata": {},
   "outputs": [],
   "source": []
  },
  {
   "cell_type": "code",
   "execution_count": null,
   "metadata": {},
   "outputs": [],
   "source": []
  }
 ],
 "metadata": {
  "kernelspec": {
   "display_name": "PySpark",
   "language": "",
   "name": "pysparkkernel"
  },
  "language_info": {
   "codemirror_mode": {
    "name": "python",
    "version": 2
   },
   "mimetype": "text/x-python",
   "name": "pyspark",
   "pygments_lexer": "python2"
  }
 },
 "nbformat": 4,
 "nbformat_minor": 4
}
