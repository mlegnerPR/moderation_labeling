{
 "cells": [
  {
   "cell_type": "code",
   "execution_count": 1,
   "metadata": {},
   "outputs": [
    {
     "data": {
      "application/vnd.jupyter.widget-view+json": {
       "model_id": "7b79b662f0f846b5969864d3283c1e86",
       "version_major": 2,
       "version_minor": 0
      },
      "text/plain": [
       "VBox()"
      ]
     },
     "metadata": {},
     "output_type": "display_data"
    },
    {
     "name": "stdout",
     "output_type": "stream",
     "text": [
      "Starting Spark application\n"
     ]
    },
    {
     "data": {
      "text/html": [
       "<table>\n",
       "<tr><th>ID</th><th>YARN Application ID</th><th>Kind</th><th>State</th><th>Spark UI</th><th>Driver log</th><th>Current session?</th></tr><tr><td>2</td><td>application_1602595798949_0003</td><td>pyspark</td><td>idle</td><td><a target=\"_blank\" href=\"http://ip-10-101-214-245.us-west-2.compute.internal:20888/proxy/application_1602595798949_0003/\">Link</a></td><td><a target=\"_blank\" href=\"http://ip-10-101-214-245.us-west-2.compute.internal:8042/node/containerlogs/container_1602595798949_0003_01_000001/livy\">Link</a></td><td>✔</td></tr></table>"
      ],
      "text/plain": [
       "<IPython.core.display.HTML object>"
      ]
     },
     "metadata": {},
     "output_type": "display_data"
    },
    {
     "data": {
      "application/vnd.jupyter.widget-view+json": {
       "model_id": "",
       "version_major": 2,
       "version_minor": 0
      },
      "text/plain": [
       "FloatProgress(value=0.0, bar_style='info', description='Progress:', layout=Layout(height='25px', width='50%'),…"
      ]
     },
     "metadata": {},
     "output_type": "display_data"
    },
    {
     "name": "stdout",
     "output_type": "stream",
     "text": [
      "SparkSession available as 'spark'.\n"
     ]
    },
    {
     "data": {
      "application/vnd.jupyter.widget-view+json": {
       "model_id": "",
       "version_major": 2,
       "version_minor": 0
      },
      "text/plain": [
       "FloatProgress(value=0.0, bar_style='info', description='Progress:', layout=Layout(height='25px', width='50%'),…"
      ]
     },
     "metadata": {},
     "output_type": "display_data"
    }
   ],
   "source": [
    "#Import packages\n",
    "import numpy as np\n",
    "from numpy import argmax\n",
    "import pyspark.sql.functions as F\n",
    "import snowflake.connector\n",
    "import pandas as pd\n",
    "import spacy\n",
    "#from sparknlp.base import Finisher, DocumentAssembler\n",
    "#from sparknlp.annotator import  Normalizer, LemmatizerModel, StopWordsCleaner, Tokenizer\n",
    "#from pyspark.ml import Pipeline\n",
    "#from pyspark.ml.feature import CountVectorizer, VectorAssembler, HashingTF, IDF, Tokenizer\n",
    "#from nltk.corpus import stopwords\n",
    "from sklearn.feature_extraction.text import TfidfVectorizer\n",
    "from sklearn.model_selection import train_test_split\n",
    "from scipy import sparse\n",
    "from sklearn.linear_model import LogisticRegression\n",
    "from sklearn.multiclass import OneVsRestClassifier\n",
    "from sklearn.metrics import f1_score, accuracy_score, recall_score, precision_score, confusion_matrix, plot_confusion_matrix, \\\n",
    "                            roc_curve, auc, classification_report, precision_recall_curve\n",
    "import matplotlib.pyplot as plt"
   ]
  },
  {
   "cell_type": "code",
   "execution_count": 2,
   "metadata": {},
   "outputs": [
    {
     "data": {
      "application/vnd.jupyter.widget-view+json": {
       "model_id": "3240577d4ef94f1cafb5eee316d219ac",
       "version_major": 2,
       "version_minor": 0
      },
      "text/plain": [
       "VBox()"
      ]
     },
     "metadata": {},
     "output_type": "display_data"
    },
    {
     "data": {
      "application/vnd.jupyter.widget-view+json": {
       "model_id": "",
       "version_major": 2,
       "version_minor": 0
      },
      "text/plain": [
       "FloatProgress(value=0.0, bar_style='info', description='Progress:', layout=Layout(height='25px', width='50%'),…"
      ]
     },
     "metadata": {},
     "output_type": "display_data"
    }
   ],
   "source": [
    "#SPARK connection info\n",
    "sfOptions = {\n",
    "  'sfURL' : 'powerreviews.snowflakecomputing.com',\n",
    "  'sfAccount' : 'powerreviews',\n",
    "  'sfUser' : 'APP_SPARK_PROD',\n",
    "  'sfPassword' : '>6txhcQ*7&^Qrq`j',\n",
    "  'sfDatabase' : 'ANALYTICS_PROD',\n",
    "  'sfSchema' : 'ANALYTICS',\n",
    "  'sfWarehouse' : 'LOWER_ENV_WAREHOUSE'\n",
    "}\n",
    "SNOWFLAKE_SOURCE_NAME = \"net.snowflake.spark.snowflake\"\n",
    "\n",
    "#PYTHON connection info\n",
    "conn = snowflake.connector.connect(\n",
    "    account='powerreviews',\n",
    "    database='analytics_prod',\n",
    "    warehouse='LOWER_ENV_WAREHOUSE',\n",
    "    user='APP_SPARK_PROD',\n",
    "    password='>6txhcQ*7&^Qrq`j'\n",
    "    )"
   ]
  },
  {
   "cell_type": "code",
   "execution_count": 3,
   "metadata": {},
   "outputs": [
    {
     "data": {
      "application/vnd.jupyter.widget-view+json": {
       "model_id": "ce36a251831d4322a9aaab3a8141e7af",
       "version_major": 2,
       "version_minor": 0
      },
      "text/plain": [
       "VBox()"
      ]
     },
     "metadata": {},
     "output_type": "display_data"
    },
    {
     "data": {
      "application/vnd.jupyter.widget-view+json": {
       "model_id": "",
       "version_major": 2,
       "version_minor": 0
      },
      "text/plain": [
       "FloatProgress(value=0.0, bar_style='info', description='Progress:', layout=Layout(height='25px', width='50%'),…"
      ]
     },
     "metadata": {},
     "output_type": "display_data"
    }
   ],
   "source": [
    "#Use review data set to get observation codes bc they are already comma separated and less joins to perform\n",
    "#Still need observation set though to get observation created date\n",
    "#This is bc review could be from ages ago but we could have imported recently and moderated it\n",
    "#Want to make sure we include as many observation labels as possible for most accurate model\n",
    "\n"
   ]
  },
  {
   "cell_type": "code",
   "execution_count": 4,
   "metadata": {},
   "outputs": [
    {
     "data": {
      "application/vnd.jupyter.widget-view+json": {
       "model_id": "b968c7e2d02a41d28b593866d367b914",
       "version_major": 2,
       "version_minor": 0
      },
      "text/plain": [
       "VBox()"
      ]
     },
     "metadata": {},
     "output_type": "display_data"
    },
    {
     "data": {
      "application/vnd.jupyter.widget-view+json": {
       "model_id": "",
       "version_major": 2,
       "version_minor": 0
      },
      "text/plain": [
       "FloatProgress(value=0.0, bar_style='info', description='Progress:', layout=Layout(height='25px', width='50%'),…"
      ]
     },
     "metadata": {},
     "output_type": "display_data"
    }
   ],
   "source": [
    "query = \"select distinct r.ugc_id, r.created_date, r.review_headline, \\\n",
    "r.review_comments, r.review_rating, r.reviewer_nickname, r.locale, r.observations, \\\n",
    "ADD IN CASE WHEN HERE \\\n",
    "from analytics.review as r \\\n",
    "left join cdm.observation as o \\\n",
    "on r.ugc_id = o.ugc_id \\\n",
    "where contains(r.observations, 'PM') \\\n",
    "and r.locale in ('en_US','en_GB','en_CA') \\\n",
    "and o.created_date > '2020-09-23'  \\\n",
    "limit 100\""
   ]
  },
  {
   "cell_type": "code",
   "execution_count": 5,
   "metadata": {},
   "outputs": [
    {
     "data": {
      "application/vnd.jupyter.widget-view+json": {
       "model_id": "a097dfd77fb8488ebdb4945471b7293f",
       "version_major": 2,
       "version_minor": 0
      },
      "text/plain": [
       "VBox()"
      ]
     },
     "metadata": {},
     "output_type": "display_data"
    },
    {
     "data": {
      "application/vnd.jupyter.widget-view+json": {
       "model_id": "",
       "version_major": 2,
       "version_minor": 0
      },
      "text/plain": [
       "FloatProgress(value=0.0, bar_style='info', description='Progress:', layout=Layout(height='25px', width='50%'),…"
      ]
     },
     "metadata": {},
     "output_type": "display_data"
    }
   ],
   "source": [
    "#Careful not to get CNR for NR\n",
    "#CNR, NR, PM - contains(r.observations, ',NR,')\n",
    "#NR, PM - substring(r.observations, 1, 2) = 'NR'\n",
    "#CNR, PM - DONT WANT\n",
    "#Careful not to get SSC for SC\n",
    "#PM, SC - \n",
    "#PM, SSC - DONT WANT\n",
    "#PM, SC, SSC\n",
    "#18 labels total - not including PM (doesn't yet include NOLABEL label - 19 labels with that)\n",
    "query_testing = \"select distinct r.ugc_id, r.created_date, r.review_headline, \\\n",
    "r.review_comments, r.review_rating, r.reviewer_nickname, r.reviewer_location, r.observations, \\\n",
    "case when contains(r.observations, 'PM') then 1 else 0 end as PM, \\\n",
    "case when (contains(r.observations, ',NR,') or substring(r.observations, 1, 2) = 'NR')  then 1 else 0 end as NR, \\\n",
    "case when contains(r.observations, 'PII') then 1 else 0 end as PII, \\\n",
    "case when contains(r.observations, 'PR') then 1 else 0 end as PR, \\\n",
    "case when contains(r.observations, 'CS') then 1 else 0 end as CS, \\\n",
    "case when contains(r.observations, 'DC') then 1 else 0 end as DC, \\\n",
    "case when contains(r.observations, 'CR') then 1 else 0 end as CR, \\\n",
    "case when contains(r.observations, 'FRD') then 1 else 0 end as FRD, \\\n",
    "case when contains(r.observations, 'TST') then 1 else 0 end as TST, \\\n",
    "case when contains(r.observations, 'CC') then 1 else 0 end as CC, \\\n",
    "case when contains(r.observations, ',SC') then 1 else 0 end as SC, \\\n",
    "case when contains(r.observations, 'PIM') then 1 else 0 end as PIM, \\\n",
    "case when contains(r.observations, 'LC') then 1 else 0 end as LC, \\\n",
    "case when contains(r.observations, 'WEB') then 1 else 0 end as WEB, \\\n",
    "case when contains(r.observations, 'FL') then 1 else 0 end as FL, \\\n",
    "case when contains(r.observations, 'SA') then 1 else 0 end as SA, \\\n",
    "case when contains(r.observations, 'URL') then 1 else 0 end as URL, \\\n",
    "case when contains(r.observations, 'CV') then 1 else 0 end as CV, \\\n",
    "case when contains(r.observations, 'US') then 1 else 0 end as US \\\n",
    "from analytics.review as r \\\n",
    "where r.locale in ('en_US','en_GB','en_CA') \\\n",
    "and r.created_date > '2019-09-01'  \\\n",
    "and contains(r.observations, 'PM') \\\n",
    "limit 50000\""
   ]
  },
  {
   "cell_type": "code",
   "execution_count": 6,
   "metadata": {},
   "outputs": [
    {
     "data": {
      "application/vnd.jupyter.widget-view+json": {
       "model_id": "05440f5ab0b544638679a14b0ea6b320",
       "version_major": 2,
       "version_minor": 0
      },
      "text/plain": [
       "VBox()"
      ]
     },
     "metadata": {},
     "output_type": "display_data"
    },
    {
     "data": {
      "application/vnd.jupyter.widget-view+json": {
       "model_id": "",
       "version_major": 2,
       "version_minor": 0
      },
      "text/plain": [
       "FloatProgress(value=0.0, bar_style='info', description='Progress:', layout=Layout(height='25px', width='50%'),…"
      ]
     },
     "metadata": {},
     "output_type": "display_data"
    },
    {
     "name": "stdout",
     "output_type": "stream",
     "text": [
      "       UGC_ID CREATED_DATE             REVIEW_HEADLINE  ... URL  CV US\n",
      "0   288149711   2020-06-07  Not submitted by reviewer.  ...   0   0  0\n",
      "1   288145566   2020-06-07  Not submitted by reviewer.  ...   0   0  0\n",
      "2   288146799   2020-06-07                  Runs small  ...   0   0  0\n",
      "3   288155846   2020-06-07              Comfy and cute  ...   0   0  0\n",
      "4   288148735   2020-06-07  Not submitted by reviewer.  ...   0   0  0\n",
      "..        ...          ...                         ...  ...  ..  .. ..\n",
      "95  286212450   2020-06-07           Beach & Pool Time  ...   0   0  0\n",
      "96  286212649   2020-06-07                        Soft  ...   0   0  0\n",
      "97  286212745   2020-06-07                   White top  ...   0   0  0\n",
      "98  286212718   2020-06-07  Not submitted by reviewer.  ...   0   0  0\n",
      "99  286211410   2020-06-07   Perfect weight for summer  ...   0   0  0\n",
      "\n",
      "[100 rows x 27 columns]"
     ]
    }
   ],
   "source": [
    "#pd.set_option('display.max_colwidth', -1)\n",
    "#pd.set_option('display.max_columns', None)\n",
    "#pd.set_option('display.max_rows', None)\n",
    "reviews = pd.read_sql(query_testing, conn)\n",
    "reviews.head(100)\n",
    "#reviews.info()\n",
    "\n",
    "#PULLING IN ALL REVIEWS SINCE '2019-09-01' (17,468,653) TAKES X MINS"
   ]
  },
  {
   "cell_type": "code",
   "execution_count": 7,
   "metadata": {},
   "outputs": [
    {
     "data": {
      "application/vnd.jupyter.widget-view+json": {
       "model_id": "7eafddb11e3641709d957aab2c51d162",
       "version_major": 2,
       "version_minor": 0
      },
      "text/plain": [
       "VBox()"
      ]
     },
     "metadata": {},
     "output_type": "display_data"
    },
    {
     "data": {
      "application/vnd.jupyter.widget-view+json": {
       "model_id": "",
       "version_major": 2,
       "version_minor": 0
      },
      "text/plain": [
       "FloatProgress(value=0.0, bar_style='info', description='Progress:', layout=Layout(height='25px', width='50%'),…"
      ]
     },
     "metadata": {},
     "output_type": "display_data"
    }
   ],
   "source": [
    "reviews.loc[reviews['REVIEWER_LOCATION'] == 'US', 'REVIEWER_LOCATION'] = 'USA'\n",
    "\n",
    "#reviews['REVIEWER_LOCATION'].head(500)"
   ]
  },
  {
   "cell_type": "code",
   "execution_count": 8,
   "metadata": {},
   "outputs": [
    {
     "data": {
      "application/vnd.jupyter.widget-view+json": {
       "model_id": "019582ea4a394c6f866bdced2f363068",
       "version_major": 2,
       "version_minor": 0
      },
      "text/plain": [
       "VBox()"
      ]
     },
     "metadata": {},
     "output_type": "display_data"
    },
    {
     "data": {
      "application/vnd.jupyter.widget-view+json": {
       "model_id": "",
       "version_major": 2,
       "version_minor": 0
      },
      "text/plain": [
       "FloatProgress(value=0.0, bar_style='info', description='Progress:', layout=Layout(height='25px', width='50%'),…"
      ]
     },
     "metadata": {},
     "output_type": "display_data"
    }
   ],
   "source": [
    "#Use set_option so text doesn't truncate\n",
    "#pd.set_option('display.max_colwidth', -1)\n",
    "#pd.set_option('display.max_columns', None)\n",
    "#pd.set_option('display.max_rows', None)\n",
    "#reviews['LABEL_SUM']= reviews.iloc[:, -18:-1].sum(axis=1)\n",
    "#reviews"
   ]
  },
  {
   "cell_type": "code",
   "execution_count": 9,
   "metadata": {},
   "outputs": [
    {
     "data": {
      "application/vnd.jupyter.widget-view+json": {
       "model_id": "072a3f79d0e14726974bbe1a1e0c1f8f",
       "version_major": 2,
       "version_minor": 0
      },
      "text/plain": [
       "VBox()"
      ]
     },
     "metadata": {},
     "output_type": "display_data"
    },
    {
     "data": {
      "application/vnd.jupyter.widget-view+json": {
       "model_id": "",
       "version_major": 2,
       "version_minor": 0
      },
      "text/plain": [
       "FloatProgress(value=0.0, bar_style='info', description='Progress:', layout=Layout(height='25px', width='50%'),…"
      ]
     },
     "metadata": {},
     "output_type": "display_data"
    }
   ],
   "source": [
    "#LOOK AT OTHER LABELS - IF NONE THEN ADD NOLABEL = 1\n",
    "#df['new column name'] = df['column name'].apply(lambda x: 'value if condition is met' if x condition else 'value if condition is not met')\n",
    "#reviews['NOLABEL'] = reviews['LABEL_SUM'].apply(lambda x: int(1) if x==0 else int(0))\n",
    "\n",
    "#df.loc[df['set_of_numbers'] <= 4, 'equal_or_lower_than_4?'] = 'True' \n",
    "#reviews.loc[reviews['NOLABEL'] == 0, 'TEST'] = 1\n",
    "#df['Fruit Total']= df.iloc[:, -4:-1].sum(axis=1)\n",
    "#reviews"
   ]
  },
  {
   "cell_type": "code",
   "execution_count": 10,
   "metadata": {},
   "outputs": [
    {
     "data": {
      "application/vnd.jupyter.widget-view+json": {
       "model_id": "5deb1346e0ca48f0ad89743a53290149",
       "version_major": 2,
       "version_minor": 0
      },
      "text/plain": [
       "VBox()"
      ]
     },
     "metadata": {},
     "output_type": "display_data"
    },
    {
     "data": {
      "application/vnd.jupyter.widget-view+json": {
       "model_id": "",
       "version_major": 2,
       "version_minor": 0
      },
      "text/plain": [
       "FloatProgress(value=0.0, bar_style='info', description='Progress:', layout=Layout(height='25px', width='50%'),…"
      ]
     },
     "metadata": {},
     "output_type": "display_data"
    }
   ],
   "source": [
    "#reviews2 = reviews.drop(['LABEL_SUM'], axis=1)\n",
    "#reviews2"
   ]
  },
  {
   "cell_type": "code",
   "execution_count": 11,
   "metadata": {},
   "outputs": [
    {
     "data": {
      "application/vnd.jupyter.widget-view+json": {
       "model_id": "45fcb99e7f714c799fdb5e1ee12f1ad2",
       "version_major": 2,
       "version_minor": 0
      },
      "text/plain": [
       "VBox()"
      ]
     },
     "metadata": {},
     "output_type": "display_data"
    },
    {
     "data": {
      "application/vnd.jupyter.widget-view+json": {
       "model_id": "",
       "version_major": 2,
       "version_minor": 0
      },
      "text/plain": [
       "FloatProgress(value=0.0, bar_style='info', description='Progress:', layout=Layout(height='25px', width='50%'),…"
      ]
     },
     "metadata": {},
     "output_type": "display_data"
    }
   ],
   "source": [
    "#reviews = reviews2\n",
    "#reviews"
   ]
  },
  {
   "cell_type": "code",
   "execution_count": 12,
   "metadata": {},
   "outputs": [
    {
     "data": {
      "application/vnd.jupyter.widget-view+json": {
       "model_id": "6052a2dcec794be693915330255915c7",
       "version_major": 2,
       "version_minor": 0
      },
      "text/plain": [
       "VBox()"
      ]
     },
     "metadata": {},
     "output_type": "display_data"
    },
    {
     "data": {
      "application/vnd.jupyter.widget-view+json": {
       "model_id": "",
       "version_major": 2,
       "version_minor": 0
      },
      "text/plain": [
       "FloatProgress(value=0.0, bar_style='info', description='Progress:', layout=Layout(height='25px', width='50%'),…"
      ]
     },
     "metadata": {},
     "output_type": "display_data"
    },
    {
     "name": "stdout",
     "output_type": "stream",
     "text": [
      "UGC_ID                        int64\n",
      "CREATED_DATE         datetime64[ns]\n",
      "REVIEW_HEADLINE              object\n",
      "REVIEW_COMMENTS              object\n",
      "REVIEW_RATING                 int64\n",
      "REVIEWER_NICKNAME            object\n",
      "REVIEWER_LOCATION            object\n",
      "OBSERVATIONS                 object\n",
      "PM                            int64\n",
      "NR                            int64\n",
      "PII                           int64\n",
      "PR                            int64\n",
      "CS                            int64\n",
      "DC                            int64\n",
      "CR                            int64\n",
      "FRD                           int64\n",
      "TST                           int64\n",
      "CC                            int64\n",
      "SC                            int64\n",
      "PIM                           int64\n",
      "LC                            int64\n",
      "WEB                           int64\n",
      "FL                            int64\n",
      "SA                            int64\n",
      "URL                           int64\n",
      "CV                            int64\n",
      "US                            int64\n",
      "dtype: object"
     ]
    }
   ],
   "source": [
    "reviews.dtypes"
   ]
  },
  {
   "cell_type": "code",
   "execution_count": 13,
   "metadata": {},
   "outputs": [
    {
     "data": {
      "application/vnd.jupyter.widget-view+json": {
       "model_id": "e8980a5e6ca04be8b211b7ca2cce5438",
       "version_major": 2,
       "version_minor": 0
      },
      "text/plain": [
       "VBox()"
      ]
     },
     "metadata": {},
     "output_type": "display_data"
    },
    {
     "data": {
      "application/vnd.jupyter.widget-view+json": {
       "model_id": "",
       "version_major": 2,
       "version_minor": 0
      },
      "text/plain": [
       "FloatProgress(value=0.0, bar_style='info', description='Progress:', layout=Layout(height='25px', width='50%'),…"
      ]
     },
     "metadata": {},
     "output_type": "display_data"
    },
    {
     "name": "stdout",
     "output_type": "stream",
     "text": [
      "       UGC_ID CREATED_DATE             REVIEW_HEADLINE  \\\n",
      "0   288149711 2020-06-07    Not submitted by reviewer.   \n",
      "1   288145566 2020-06-07    Not submitted by reviewer.   \n",
      "2   288146799 2020-06-07    Runs small                   \n",
      "3   288155846 2020-06-07    Comfy and cute               \n",
      "4   288148735 2020-06-07    Not submitted by reviewer.   \n",
      "..        ...        ...                           ...   \n",
      "95  286212450 2020-06-07    Beach & Pool Time            \n",
      "96  286212649 2020-06-07    Soft                         \n",
      "97  286212745 2020-06-07    White top                    \n",
      "98  286212718 2020-06-07    Not submitted by reviewer.   \n",
      "99  286211410 2020-06-07    Perfect weight for summer    \n",
      "\n",
      "                                                                                                                                                                                                                                                                                                                                                                                                                             REVIEW_COMMENTS  \\\n",
      "0   This was too adorable not to purchase, simple and beautiful.                                                                                                                                                                                                                                                                                                                                                                               \n",
      "1   See other reviews for more detailed feedback.                                                                                                                                                                                                                                                                                                                                                                                              \n",
      "2   I bought this for my 10 month old size 12 month - 18 months. It runs small I thought it would last him till next year but it's only going to fit him for this summer. But it's still a cute jacket.                                                                                                                                                                                                                                        \n",
      "3   this top is so comfy. I love the twist sleeve accent. Would buy this again in a minute!                                                                                                                                                                                                                                                                                                                                                    \n",
      "4   Great quality, true to fit. Perfect patriotic swim trunks for grandson.                                                                                                                                                                                                                                                                                                                                                                    \n",
      "..                                                                      ...                                                                                                                                                                                                                                                                                                                                                                    \n",
      "95  These shorts are great for the beach and pool! Perfect summer short!                                                                                                                                                                                                                                                                                                                                                                       \n",
      "96  It's summer so haven't worn but it is soft and should be very nice when I need it.                                                                                                                                                                                                                                                                                                                                                         \n",
      "97  Very cute white top.  My daughter is into white right now.  This one is good because it's not see through like some other brands.  Hopefully she can keep it clean!                                                                                                                                                                                                                                                                        \n",
      "98  My 10yo loves this tank. It fits really nice. Not to big in the armpit area!                                                                                                                                                                                                                                                                                                                                                               \n",
      "99  Living in the South, air conditioners are always on full blast during the summer. I'm always searching for the perfect layering piece to keep from being cold inside places. This wrap is perfect for layering to and from Pilates, inside restaurants, and shopping. I bought my first one full price then picked up two additional colors when they went on sale. They're soft and so comfortable. I'd love to get one in every color!   \n",
      "\n",
      "    REVIEW_RATING REVIEWER_NICKNAME REVIEWER_LOCATION OBSERVATIONS  PM  NR  \\\n",
      "0   5              Jane              Undisclosed       IA,PM        1   0    \n",
      "1   5              LMR               Undisclosed       IA,PM        1   0    \n",
      "2   3              Rey               Undisclosed       IA,PM        1   0    \n",
      "3   5              Tort              Undisclosed       IA,PM        1   0    \n",
      "4   5              Laurie            Undisclosed       IA,PM        1   0    \n",
      ".. ..                 ...                    ...         ...       ..  ..    \n",
      "95  5              JP                Undisclosed       IA,PM        1   0    \n",
      "96  5              J. MIller         Undisclosed       IA,PM        1   0    \n",
      "97  4              Twinmom           Undisclosed       IA,PM        1   0    \n",
      "98  4              kiki              Undisclosed       IA,PM        1   0    \n",
      "99  5              AshleyLA          Undisclosed       IA,PM        1   0    \n",
      "\n",
      "    PII  PR  CS  DC  CR  FRD  TST  CC  SC  PIM  LC  WEB  FL  SA  URL  CV  US  \\\n",
      "0   0    0   0   0   0   0    0    0   0   0    0   0    0   0   0    0   0    \n",
      "1   0    0   0   0   0   0    0    0   0   0    0   0    0   0   0    0   0    \n",
      "2   0    0   0   0   0   0    0    0   0   0    0   0    0   0   0    0   0    \n",
      "3   0    0   0   0   0   0    0    0   0   0    0   0    0   0   0    0   0    \n",
      "4   0    0   0   0   0   0    0    0   0   0    0   0    0   0   0    0   0    \n",
      ".. ..   ..  ..  ..  ..  ..   ..   ..  ..  ..   ..  ..   ..  ..  ..   ..  ..    \n",
      "95  0    0   0   0   0   0    0    0   0   0    0   0    0   0   0    0   0    \n",
      "96  0    0   0   0   0   0    0    0   0   0    0   0    0   0   0    0   0    \n",
      "97  0    0   0   0   0   0    0    0   0   0    0   0    0   0   0    0   0    \n",
      "98  0    0   0   0   0   0    0    0   0   0    0   0    0   0   0    0   0    \n",
      "99  0    0   0   0   0   0    0    0   0   0    0   0    0   0   0    0   0    \n",
      "\n",
      "                                                                                                                                                                                                                                                                                                                                                                                                                                                                                                                      ALL_TEXT  \n",
      "0   headline Not submitted by reviewer. comment This was too adorable not to purchase, simple and beautiful. nickname Jane location Undisclosed                                                                                                                                                                                                                                                                                                                                                                                 \n",
      "1   headline Not submitted by reviewer. comment See other reviews for more detailed feedback. nickname LMR location Undisclosed                                                                                                                                                                                                                                                                                                                                                                                                 \n",
      "2   headline Runs small comment I bought this for my 10 month old size 12 month - 18 months. It runs small I thought it would last him till next year but it's only going to fit him for this summer. But it's still a cute jacket. nickname Rey location Undisclosed                                                                                                                                                                                                                                                           \n",
      "3   headline Comfy and cute comment this top is so comfy. I love the twist sleeve accent. Would buy this again in a minute! nickname Tort location Undisclosed                                                                                                                                                                                                                                                                                                                                                                  \n",
      "4   headline Not submitted by reviewer. comment Great quality, true to fit. Perfect patriotic swim trunks for grandson. nickname Laurie location Undisclosed                                                                                                                                                                                                                                                                                                                                                                    \n",
      "..                                                                                                                                                       ...                                                                                                                                                                                                                                                                                                                                                                    \n",
      "95  headline Beach & Pool Time comment These shorts are great for the beach and pool! Perfect summer short! nickname JP location Undisclosed                                                                                                                                                                                                                                                                                                                                                                                    \n",
      "96  headline Soft comment It's summer so haven't worn but it is soft and should be very nice when I need it. nickname J. MIller location Undisclosed                                                                                                                                                                                                                                                                                                                                                                            \n",
      "97  headline White top comment Very cute white top.  My daughter is into white right now.  This one is good because it's not see through like some other brands.  Hopefully she can keep it clean! nickname Twinmom location Undisclosed                                                                                                                                                                                                                                                                                        \n",
      "98  headline Not submitted by reviewer. comment My 10yo loves this tank. It fits really nice. Not to big in the armpit area! nickname kiki location Undisclosed                                                                                                                                                                                                                                                                                                                                                                 \n",
      "99  headline Perfect weight for summer comment Living in the South, air conditioners are always on full blast during the summer. I'm always searching for the perfect layering piece to keep from being cold inside places. This wrap is perfect for layering to and from Pilates, inside restaurants, and shopping. I bought my first one full price then picked up two additional colors when they went on sale. They're soft and so comfortable. I'd love to get one in every color! nickname AshleyLA location Undisclosed  \n",
      "\n",
      "[100 rows x 28 columns]\n",
      "<string>:4: FutureWarning: Passing a negative integer is deprecated in version 1.0 and will not be supported in future version. Instead, use None to not limit the column width."
     ]
    }
   ],
   "source": [
    "reviews['ALL_TEXT'] = 'headline ' + reviews['REVIEW_HEADLINE'] + ' comment ' + reviews['REVIEW_COMMENTS'] + \\\n",
    "        ' nickname ' + reviews['REVIEWER_NICKNAME'] + ' location ' + reviews['REVIEWER_LOCATION']\n",
    "#Use set_option so text doesn't truncate\n",
    "pd.set_option('display.max_colwidth', -1)\n",
    "pd.set_option('display.max_columns', None)\n",
    "reviews.head(100)\n",
    "\n",
    "#reviews.dtypes"
   ]
  },
  {
   "cell_type": "code",
   "execution_count": 14,
   "metadata": {},
   "outputs": [
    {
     "data": {
      "application/vnd.jupyter.widget-view+json": {
       "model_id": "b5934dd3d67f497084126d4a93291630",
       "version_major": 2,
       "version_minor": 0
      },
      "text/plain": [
       "VBox()"
      ]
     },
     "metadata": {},
     "output_type": "display_data"
    },
    {
     "data": {
      "application/vnd.jupyter.widget-view+json": {
       "model_id": "",
       "version_major": 2,
       "version_minor": 0
      },
      "text/plain": [
       "FloatProgress(value=0.0, bar_style='info', description='Progress:', layout=Layout(height='25px', width='50%'),…"
      ]
     },
     "metadata": {},
     "output_type": "display_data"
    },
    {
     "name": "stdout",
     "output_type": "stream",
     "text": [
      "UGC_ID               int64         \n",
      "CREATED_DATE         datetime64[ns]\n",
      "REVIEW_HEADLINE      object        \n",
      "REVIEW_COMMENTS      object        \n",
      "REVIEW_RATING        int64         \n",
      "REVIEWER_NICKNAME    object        \n",
      "REVIEWER_LOCATION    object        \n",
      "OBSERVATIONS         object        \n",
      "PM                   int64         \n",
      "NR                   int64         \n",
      "PII                  int64         \n",
      "PR                   int64         \n",
      "CS                   int64         \n",
      "DC                   int64         \n",
      "CR                   int64         \n",
      "FRD                  int64         \n",
      "TST                  int64         \n",
      "CC                   int64         \n",
      "SC                   int64         \n",
      "PIM                  int64         \n",
      "LC                   int64         \n",
      "WEB                  int64         \n",
      "FL                   int64         \n",
      "SA                   int64         \n",
      "URL                  int64         \n",
      "CV                   int64         \n",
      "US                   int64         \n",
      "ALL_TEXT             object        \n",
      "dtype: object"
     ]
    }
   ],
   "source": [
    "reviews.dtypes"
   ]
  },
  {
   "cell_type": "code",
   "execution_count": 15,
   "metadata": {},
   "outputs": [
    {
     "data": {
      "application/vnd.jupyter.widget-view+json": {
       "model_id": "ea36514ab485454e9fa34460003d4c6e",
       "version_major": 2,
       "version_minor": 0
      },
      "text/plain": [
       "VBox()"
      ]
     },
     "metadata": {},
     "output_type": "display_data"
    },
    {
     "data": {
      "application/vnd.jupyter.widget-view+json": {
       "model_id": "",
       "version_major": 2,
       "version_minor": 0
      },
      "text/plain": [
       "FloatProgress(value=0.0, bar_style='info', description='Progress:', layout=Layout(height='25px', width='50%'),…"
      ]
     },
     "metadata": {},
     "output_type": "display_data"
    }
   ],
   "source": [
    "\n",
    "\n",
    "#reviews['PRICE'] = bool(re.match('location', str(reviews['ALL_TEXT'])))\n",
    "#reviews[reviews['PRICE']==True].head()\n"
   ]
  },
  {
   "cell_type": "code",
   "execution_count": 16,
   "metadata": {},
   "outputs": [
    {
     "data": {
      "application/vnd.jupyter.widget-view+json": {
       "model_id": "8edb230a480c43ad977e9d7f45e253f6",
       "version_major": 2,
       "version_minor": 0
      },
      "text/plain": [
       "VBox()"
      ]
     },
     "metadata": {},
     "output_type": "display_data"
    },
    {
     "data": {
      "application/vnd.jupyter.widget-view+json": {
       "model_id": "",
       "version_major": 2,
       "version_minor": 0
      },
      "text/plain": [
       "FloatProgress(value=0.0, bar_style='info', description='Progress:', layout=Layout(height='25px', width='50%'),…"
      ]
     },
     "metadata": {},
     "output_type": "display_data"
    },
    {
     "name": "stdout",
     "output_type": "stream",
     "text": [
      "          UGC_ID        CREATED_DATE  \\\n",
      "0      288149711 2020-06-07 00:00:00   \n",
      "1      288145566 2020-06-07 00:00:00   \n",
      "2      288146799 2020-06-07 00:00:00   \n",
      "3      288155846 2020-06-07 00:00:00   \n",
      "4      288148735 2020-06-07 00:00:00   \n",
      "...          ...                 ...   \n",
      "49995  277638347 2020-05-27 14:52:52   \n",
      "49996  277635761 2020-05-27 13:37:09   \n",
      "49997  277633833 2020-05-27 12:50:31   \n",
      "49998  277633222 2020-05-27 12:36:08   \n",
      "49999  277626958 2020-05-27 10:48:33   \n",
      "\n",
      "                                                REVIEW_HEADLINE  \\\n",
      "0      Not submitted by reviewer.                                 \n",
      "1      Not submitted by reviewer.                                 \n",
      "2      Runs small                                                 \n",
      "3      Comfy and cute                                             \n",
      "4      Not submitted by reviewer.                                 \n",
      "...                           ...                                 \n",
      "49995  My 3rd pair.  Love 'me all!                                \n",
      "49996  I'm pleased with the colour and quality of this product.   \n",
      "49997  Love these, so comfortable and a really good fit           \n",
      "49998  Good quality & stylish                                     \n",
      "49999  Skin care regim                                            \n",
      "\n",
      "                                                                                                                                                                                           REVIEW_COMMENTS  \\\n",
      "0      This was too adorable not to purchase, simple and beautiful.                                                                                                                                          \n",
      "1      See other reviews for more detailed feedback.                                                                                                                                                         \n",
      "2      I bought this for my 10 month old size 12 month - 18 months. It runs small I thought it would last him till next year but it's only going to fit him for this summer. But it's still a cute jacket.   \n",
      "3      this top is so comfy. I love the twist sleeve accent. Would buy this again in a minute!                                                                                                               \n",
      "4      Great quality, true to fit. Perfect patriotic swim trunks for grandson.                                                                                                                               \n",
      "...                                                                        ...                                                                                                                               \n",
      "49995  Everyday , all day use                                                                                                                                                                                \n",
      "49996  I'll use it to revamp my bathroom plain wall. It will give it the freshness and colour that's been missing.                                                                                           \n",
      "49997  Love then because they are different                                                                                                                                                                  \n",
      "49998  Looks great with trainers & think it will be as stylish with a pair of heels or sandals, so very versatile.                                                                                           \n",
      "49999  Been using this for a week and can see a difference within a week                                                                                                                                     \n",
      "\n",
      "       REVIEW_RATING REVIEWER_NICKNAME REVIEWER_LOCATION OBSERVATIONS  PM  NR  \\\n",
      "0      5              Jane              Undisclosed       IA,PM        1   0    \n",
      "1      5              LMR               Undisclosed       IA,PM        1   0    \n",
      "2      3              Rey               Undisclosed       IA,PM        1   0    \n",
      "3      5              Tort              Undisclosed       IA,PM        1   0    \n",
      "4      5              Laurie            Undisclosed       IA,PM        1   0    \n",
      "...   ..                 ...                    ...         ...       ..  ..    \n",
      "49995  5              Hard to fit       Nashville, TN     PM           1   0    \n",
      "49996  4              Canny shopper     Caithness         PM           1   0    \n",
      "49997  5              TazzyTaz          Devon             PM           1   0    \n",
      "49998  5              Jilly             Durham            PM           1   0    \n",
      "49999  5              Roshi             Gateshead         PM           1   0    \n",
      "\n",
      "       PII  PR  CS  DC  CR  FRD  TST  CC  SC  PIM  LC  WEB  FL  SA  URL  CV  \\\n",
      "0      0    0   0   0   0   0    0    0   0   0    0   0    0   0   0    0    \n",
      "1      0    0   0   0   0   0    0    0   0   0    0   0    0   0   0    0    \n",
      "2      0    0   0   0   0   0    0    0   0   0    0   0    0   0   0    0    \n",
      "3      0    0   0   0   0   0    0    0   0   0    0   0    0   0   0    0    \n",
      "4      0    0   0   0   0   0    0    0   0   0    0   0    0   0   0    0    \n",
      "...   ..   ..  ..  ..  ..  ..   ..   ..  ..  ..   ..  ..   ..  ..  ..   ..    \n",
      "49995  0    0   0   0   0   0    0    0   0   0    0   0    0   0   0    0    \n",
      "49996  0    0   0   0   0   0    0    0   0   0    0   0    0   0   0    0    \n",
      "49997  0    0   0   0   0   0    0    0   0   0    0   0    0   0   0    0    \n",
      "49998  0    0   0   0   0   0    0    0   0   0    0   0    0   0   0    0    \n",
      "49999  0    0   0   0   0   0    0    0   0   0    0   0    0   0   0    0    \n",
      "\n",
      "       US  \\\n",
      "0      0    \n",
      "1      0    \n",
      "2      0    \n",
      "3      0    \n",
      "4      0    \n",
      "...   ..    \n",
      "49995  0    \n",
      "49996  0    \n",
      "49997  0    \n",
      "49998  0    \n",
      "49999  0    \n",
      "\n",
      "                                                                                                                                                                                                                                                                ALL_TEXT  \n",
      "0      headline Not submitted by reviewer. comment This was too adorable not to purchase, simple and beautiful. nickname Jane location Undisclosed                                                                                                                        \n",
      "1      headline Not submitted by reviewer. comment See other reviews for more detailed feedback. nickname LMR location Undisclosed                                                                                                                                        \n",
      "2      headline Runs small comment I bought this for my 10 month old size 12 month - 18 months. It runs small I thought it would last him till next year but it's only going to fit him for this summer. But it's still a cute jacket. nickname Rey location Undisclosed  \n",
      "3      headline Comfy and cute comment this top is so comfy. I love the twist sleeve accent. Would buy this again in a minute! nickname Tort location Undisclosed                                                                                                         \n",
      "4      headline Not submitted by reviewer. comment Great quality, true to fit. Perfect patriotic swim trunks for grandson. nickname Laurie location Undisclosed                                                                                                           \n",
      "...                                                                                                                                                         ...                                                                                                           \n",
      "49995  headline My 3rd pair.  Love 'me all! comment Everyday , all day use nickname Hard to fit location Nashville, TN                                                                                                                                                    \n",
      "49996  headline I'm pleased with the colour and quality of this product. comment I'll use it to revamp my bathroom plain wall. It will give it the freshness and colour that's been missing. nickname Canny shopper location Caithness                                    \n",
      "49997  headline Love these, so comfortable and a really good fit comment Love then because they are different nickname TazzyTaz location Devon                                                                                                                            \n",
      "49998  headline Good quality & stylish comment Looks great with trainers & think it will be as stylish with a pair of heels or sandals, so very versatile. nickname Jilly location Durham                                                                                 \n",
      "49999  headline Skin care regim comment Been using this for a week and can see a difference within a week nickname Roshi location Gateshead                                                                                                                               \n",
      "\n",
      "[50000 rows x 28 columns]"
     ]
    }
   ],
   "source": [
    "reviews"
   ]
  },
  {
   "cell_type": "code",
   "execution_count": 17,
   "metadata": {},
   "outputs": [
    {
     "data": {
      "application/vnd.jupyter.widget-view+json": {
       "model_id": "5c64875e3c0747dbb22416879e97f28c",
       "version_major": 2,
       "version_minor": 0
      },
      "text/plain": [
       "VBox()"
      ]
     },
     "metadata": {},
     "output_type": "display_data"
    },
    {
     "data": {
      "application/vnd.jupyter.widget-view+json": {
       "model_id": "",
       "version_major": 2,
       "version_minor": 0
      },
      "text/plain": [
       "FloatProgress(value=0.0, bar_style='info', description='Progress:', layout=Layout(height='25px', width='50%'),…"
      ]
     },
     "metadata": {},
     "output_type": "display_data"
    }
   ],
   "source": [
    "nlp = spacy.load(\"en_core_web_lg\")"
   ]
  },
  {
   "cell_type": "code",
   "execution_count": 18,
   "metadata": {},
   "outputs": [
    {
     "data": {
      "application/vnd.jupyter.widget-view+json": {
       "model_id": "adeb2c4b1d7f4d139eb8e422864e680b",
       "version_major": 2,
       "version_minor": 0
      },
      "text/plain": [
       "VBox()"
      ]
     },
     "metadata": {},
     "output_type": "display_data"
    },
    {
     "data": {
      "application/vnd.jupyter.widget-view+json": {
       "model_id": "",
       "version_major": 2,
       "version_minor": 0
      },
      "text/plain": [
       "FloatProgress(value=0.0, bar_style='info', description='Progress:', layout=Layout(height='25px', width='50%'),…"
      ]
     },
     "metadata": {},
     "output_type": "display_data"
    }
   ],
   "source": [
    "def get_vec(x):\n",
    "    doc = nlp(x)\n",
    "    vec = doc.vector\n",
    "    return vec"
   ]
  },
  {
   "cell_type": "code",
   "execution_count": 19,
   "metadata": {},
   "outputs": [
    {
     "data": {
      "application/vnd.jupyter.widget-view+json": {
       "model_id": "7db3f9e12927424d908dc7b970143cf8",
       "version_major": 2,
       "version_minor": 0
      },
      "text/plain": [
       "VBox()"
      ]
     },
     "metadata": {},
     "output_type": "display_data"
    },
    {
     "data": {
      "application/vnd.jupyter.widget-view+json": {
       "model_id": "",
       "version_major": 2,
       "version_minor": 0
      },
      "text/plain": [
       "FloatProgress(value=0.0, bar_style='info', description='Progress:', layout=Layout(height='25px', width='50%'),…"
      ]
     },
     "metadata": {},
     "output_type": "display_data"
    },
    {
     "name": "stderr",
     "output_type": "stream",
     "text": [
      "object of type 'float' has no len()\n",
      "Traceback (most recent call last):\n",
      "  File \"/usr/local/lib64/python3.7/site-packages/pandas/core/series.py\", line 4200, in apply\n",
      "    mapped = lib.map_infer(values, f, convert=convert_dtype)\n",
      "  File \"pandas/_libs/lib.pyx\", line 2402, in pandas._libs.lib.map_infer\n",
      "  File \"<stdin>\", line 1, in <lambda>\n",
      "  File \"<stdin>\", line 2, in get_vec\n",
      "  File \"/usr/local/lib64/python3.7/site-packages/spacy/language.py\", line 437, in __call__\n",
      "    if len(text) > self.max_length:\n",
      "TypeError: object of type 'float' has no len()\n",
      "\n"
     ]
    }
   ],
   "source": [
    "reviews['vec'] = reviews['ALL_TEXT'].apply(lambda x: get_vec(x))"
   ]
  },
  {
   "cell_type": "code",
   "execution_count": 20,
   "metadata": {},
   "outputs": [
    {
     "data": {
      "application/vnd.jupyter.widget-view+json": {
       "model_id": "c7399f08da3d493d8aabb2d7b731cac8",
       "version_major": 2,
       "version_minor": 0
      },
      "text/plain": [
       "VBox()"
      ]
     },
     "metadata": {},
     "output_type": "display_data"
    },
    {
     "data": {
      "application/vnd.jupyter.widget-view+json": {
       "model_id": "",
       "version_major": 2,
       "version_minor": 0
      },
      "text/plain": [
       "FloatProgress(value=0.0, bar_style='info', description='Progress:', layout=Layout(height='25px', width='50%'),…"
      ]
     },
     "metadata": {},
     "output_type": "display_data"
    },
    {
     "name": "stderr",
     "output_type": "stream",
     "text": [
      "'vec'\n",
      "Traceback (most recent call last):\n",
      "  File \"/usr/local/lib64/python3.7/site-packages/pandas/core/frame.py\", line 2902, in __getitem__\n",
      "    indexer = self.columns.get_loc(key)\n",
      "  File \"/usr/local/lib64/python3.7/site-packages/pandas/core/indexes/base.py\", line 2897, in get_loc\n",
      "    raise KeyError(key) from err\n",
      "KeyError: 'vec'\n",
      "\n"
     ]
    }
   ],
   "source": [
    "reviews['vec'].shape"
   ]
  },
  {
   "cell_type": "code",
   "execution_count": 21,
   "metadata": {},
   "outputs": [
    {
     "data": {
      "application/vnd.jupyter.widget-view+json": {
       "model_id": "f0f6a4814ee44b2ba2310df92bbf479e",
       "version_major": 2,
       "version_minor": 0
      },
      "text/plain": [
       "VBox()"
      ]
     },
     "metadata": {},
     "output_type": "display_data"
    },
    {
     "data": {
      "application/vnd.jupyter.widget-view+json": {
       "model_id": "",
       "version_major": 2,
       "version_minor": 0
      },
      "text/plain": [
       "FloatProgress(value=0.0, bar_style='info', description='Progress:', layout=Layout(height='25px', width='50%'),…"
      ]
     },
     "metadata": {},
     "output_type": "display_data"
    },
    {
     "name": "stderr",
     "output_type": "stream",
     "text": [
      "'vec'\n",
      "Traceback (most recent call last):\n",
      "  File \"/usr/local/lib64/python3.7/site-packages/pandas/core/frame.py\", line 2902, in __getitem__\n",
      "    indexer = self.columns.get_loc(key)\n",
      "  File \"/usr/local/lib64/python3.7/site-packages/pandas/core/indexes/base.py\", line 2897, in get_loc\n",
      "    raise KeyError(key) from err\n",
      "KeyError: 'vec'\n",
      "\n"
     ]
    }
   ],
   "source": [
    "X_text = reviews['vec'].to_numpy().reshape(-1,1)\n",
    "X_text.shape"
   ]
  },
  {
   "cell_type": "code",
   "execution_count": 22,
   "metadata": {},
   "outputs": [
    {
     "data": {
      "application/vnd.jupyter.widget-view+json": {
       "model_id": "c3a0e855a49e4860b9d2ec42930b7d5a",
       "version_major": 2,
       "version_minor": 0
      },
      "text/plain": [
       "VBox()"
      ]
     },
     "metadata": {},
     "output_type": "display_data"
    },
    {
     "data": {
      "application/vnd.jupyter.widget-view+json": {
       "model_id": "",
       "version_major": 2,
       "version_minor": 0
      },
      "text/plain": [
       "FloatProgress(value=0.0, bar_style='info', description='Progress:', layout=Layout(height='25px', width='50%'),…"
      ]
     },
     "metadata": {},
     "output_type": "display_data"
    },
    {
     "name": "stderr",
     "output_type": "stream",
     "text": [
      "name 'X_text' is not defined\n",
      "Traceback (most recent call last):\n",
      "NameError: name 'X_text' is not defined\n",
      "\n"
     ]
    }
   ],
   "source": [
    "X_text = np.concatenate(np.concatenate(X_text, axis =0), axis = 0).reshape(-1, 300)\n",
    "X_text.shape"
   ]
  },
  {
   "cell_type": "code",
   "execution_count": 23,
   "metadata": {},
   "outputs": [
    {
     "data": {
      "application/vnd.jupyter.widget-view+json": {
       "model_id": "0d9912974c9a4b82adc421582cdea4ee",
       "version_major": 2,
       "version_minor": 0
      },
      "text/plain": [
       "VBox()"
      ]
     },
     "metadata": {},
     "output_type": "display_data"
    },
    {
     "data": {
      "application/vnd.jupyter.widget-view+json": {
       "model_id": "",
       "version_major": 2,
       "version_minor": 0
      },
      "text/plain": [
       "FloatProgress(value=0.0, bar_style='info', description='Progress:', layout=Layout(height='25px', width='50%'),…"
      ]
     },
     "metadata": {},
     "output_type": "display_data"
    },
    {
     "name": "stdout",
     "output_type": "stream",
     "text": [
      "(50000, 1)"
     ]
    }
   ],
   "source": [
    "ratings = (reviews['REVIEW_RATING']/5).to_numpy().reshape(-1,1)\n",
    "ratings.shape"
   ]
  },
  {
   "cell_type": "code",
   "execution_count": 24,
   "metadata": {},
   "outputs": [
    {
     "data": {
      "application/vnd.jupyter.widget-view+json": {
       "model_id": "039a7199cf0a4f76ba0f951bd338aaf3",
       "version_major": 2,
       "version_minor": 0
      },
      "text/plain": [
       "VBox()"
      ]
     },
     "metadata": {},
     "output_type": "display_data"
    },
    {
     "data": {
      "application/vnd.jupyter.widget-view+json": {
       "model_id": "",
       "version_major": 2,
       "version_minor": 0
      },
      "text/plain": [
       "FloatProgress(value=0.0, bar_style='info', description='Progress:', layout=Layout(height='25px', width='50%'),…"
      ]
     },
     "metadata": {},
     "output_type": "display_data"
    },
    {
     "name": "stderr",
     "output_type": "stream",
     "text": [
      "name 'X_text' is not defined\n",
      "Traceback (most recent call last):\n",
      "NameError: name 'X_text' is not defined\n",
      "\n"
     ]
    }
   ],
   "source": [
    "X = np.hstack([X_text, ratings])\n",
    "X"
   ]
  },
  {
   "cell_type": "code",
   "execution_count": null,
   "metadata": {},
   "outputs": [],
   "source": []
  },
  {
   "cell_type": "code",
   "execution_count": 25,
   "metadata": {},
   "outputs": [
    {
     "data": {
      "application/vnd.jupyter.widget-view+json": {
       "model_id": "6c038c31a2f64242a60721c7df6c3f0d",
       "version_major": 2,
       "version_minor": 0
      },
      "text/plain": [
       "VBox()"
      ]
     },
     "metadata": {},
     "output_type": "display_data"
    },
    {
     "data": {
      "application/vnd.jupyter.widget-view+json": {
       "model_id": "",
       "version_major": 2,
       "version_minor": 0
      },
      "text/plain": [
       "FloatProgress(value=0.0, bar_style='info', description='Progress:', layout=Layout(height='25px', width='50%'),…"
      ]
     },
     "metadata": {},
     "output_type": "display_data"
    },
    {
     "name": "stdout",
     "output_type": "stream",
     "text": [
      "       NR\n",
      "0      0 \n",
      "1      0 \n",
      "2      0 \n",
      "3      0 \n",
      "4      0 \n",
      "...   .. \n",
      "49995  0 \n",
      "49996  0 \n",
      "49997  0 \n",
      "49998  0 \n",
      "49999  0 \n",
      "\n",
      "[50000 rows x 1 columns]"
     ]
    }
   ],
   "source": [
    "#y = reviews[['NR','PII','PR','CS','DC','CR','FRD','TST','CC','SC','PIM','LC','WEB','FL','SA','URL','CV','US','NOLABEL']]\n",
    "#y = reviews[['NR','PII','PR','CS','DC','CR','FRD','TST','CC','SC','PIM','LC','WEB','FL','SA','URL','CV','US']]\n",
    "y = reviews[['NR']]\n",
    "y"
   ]
  },
  {
   "cell_type": "code",
   "execution_count": 26,
   "metadata": {},
   "outputs": [
    {
     "data": {
      "application/vnd.jupyter.widget-view+json": {
       "model_id": "e09c615d98ba42c2b27de3efcd7433f4",
       "version_major": 2,
       "version_minor": 0
      },
      "text/plain": [
       "VBox()"
      ]
     },
     "metadata": {},
     "output_type": "display_data"
    },
    {
     "data": {
      "application/vnd.jupyter.widget-view+json": {
       "model_id": "",
       "version_major": 2,
       "version_minor": 0
      },
      "text/plain": [
       "FloatProgress(value=0.0, bar_style='info', description='Progress:', layout=Layout(height='25px', width='50%'),…"
      ]
     },
     "metadata": {},
     "output_type": "display_data"
    },
    {
     "name": "stdout",
     "output_type": "stream",
     "text": [
      "NR    1002\n",
      "dtype: int64"
     ]
    }
   ],
   "source": [
    "y.sum(axis=0)"
   ]
  },
  {
   "cell_type": "code",
   "execution_count": 27,
   "metadata": {},
   "outputs": [
    {
     "data": {
      "application/vnd.jupyter.widget-view+json": {
       "model_id": "537027a8f3b542d7b04f41c1c8c8c388",
       "version_major": 2,
       "version_minor": 0
      },
      "text/plain": [
       "VBox()"
      ]
     },
     "metadata": {},
     "output_type": "display_data"
    },
    {
     "data": {
      "application/vnd.jupyter.widget-view+json": {
       "model_id": "",
       "version_major": 2,
       "version_minor": 0
      },
      "text/plain": [
       "FloatProgress(value=0.0, bar_style='info', description='Progress:', layout=Layout(height='25px', width='50%'),…"
      ]
     },
     "metadata": {},
     "output_type": "display_data"
    },
    {
     "name": "stderr",
     "output_type": "stream",
     "text": [
      "name 'X' is not defined\n",
      "Traceback (most recent call last):\n",
      "NameError: name 'X' is not defined\n",
      "\n"
     ]
    }
   ],
   "source": [
    "#test_size is what % of data goes to test set vs training\n",
    "#random_state - use so that when comparing models - same data is always going to test and train sets\n",
    "xtrain, xtest, ytrain, ytest = train_test_split(X, y, test_size=0.2, random_state=9, stratify = y)"
   ]
  },
  {
   "cell_type": "code",
   "execution_count": 28,
   "metadata": {},
   "outputs": [
    {
     "data": {
      "application/vnd.jupyter.widget-view+json": {
       "model_id": "e3316c68a25a4f93b33d2419f24a4113",
       "version_major": 2,
       "version_minor": 0
      },
      "text/plain": [
       "VBox()"
      ]
     },
     "metadata": {},
     "output_type": "display_data"
    },
    {
     "data": {
      "application/vnd.jupyter.widget-view+json": {
       "model_id": "",
       "version_major": 2,
       "version_minor": 0
      },
      "text/plain": [
       "FloatProgress(value=0.0, bar_style='info', description='Progress:', layout=Layout(height='25px', width='50%'),…"
      ]
     },
     "metadata": {},
     "output_type": "display_data"
    },
    {
     "name": "stderr",
     "output_type": "stream",
     "text": [
      "name 'xtrain' is not defined\n",
      "Traceback (most recent call last):\n",
      "NameError: name 'xtrain' is not defined\n",
      "\n"
     ]
    }
   ],
   "source": [
    "print(xtrain)"
   ]
  },
  {
   "cell_type": "code",
   "execution_count": 29,
   "metadata": {},
   "outputs": [
    {
     "data": {
      "application/vnd.jupyter.widget-view+json": {
       "model_id": "85c4e629fa814d5a9c95927ced4f3a87",
       "version_major": 2,
       "version_minor": 0
      },
      "text/plain": [
       "VBox()"
      ]
     },
     "metadata": {},
     "output_type": "display_data"
    },
    {
     "data": {
      "application/vnd.jupyter.widget-view+json": {
       "model_id": "",
       "version_major": 2,
       "version_minor": 0
      },
      "text/plain": [
       "FloatProgress(value=0.0, bar_style='info', description='Progress:', layout=Layout(height='25px', width='50%'),…"
      ]
     },
     "metadata": {},
     "output_type": "display_data"
    },
    {
     "name": "stderr",
     "output_type": "stream",
     "text": [
      "name 'ytrain' is not defined\n",
      "Traceback (most recent call last):\n",
      "NameError: name 'ytrain' is not defined\n",
      "\n"
     ]
    }
   ],
   "source": [
    "print(ytrain)"
   ]
  },
  {
   "cell_type": "code",
   "execution_count": 30,
   "metadata": {},
   "outputs": [
    {
     "data": {
      "application/vnd.jupyter.widget-view+json": {
       "model_id": "3ede386bedc84a7390471a400ed8cc2f",
       "version_major": 2,
       "version_minor": 0
      },
      "text/plain": [
       "VBox()"
      ]
     },
     "metadata": {},
     "output_type": "display_data"
    },
    {
     "data": {
      "application/vnd.jupyter.widget-view+json": {
       "model_id": "",
       "version_major": 2,
       "version_minor": 0
      },
      "text/plain": [
       "FloatProgress(value=0.0, bar_style='info', description='Progress:', layout=Layout(height='25px', width='50%'),…"
      ]
     },
     "metadata": {},
     "output_type": "display_data"
    }
   ],
   "source": [
    "#nlp = spacy.load(\"en_core_web_lg\")\n",
    "#tokens = nlp(\"dog cat banana afskfsd eyebrow lipliner 13\")\n",
    "\n",
    "#for token in tokens:\n",
    "#    print(token.text, token.has_vector, token.vector_norm, token.is_oov, token.vector)"
   ]
  },
  {
   "cell_type": "code",
   "execution_count": 31,
   "metadata": {},
   "outputs": [
    {
     "data": {
      "application/vnd.jupyter.widget-view+json": {
       "model_id": "9f70c38470a04595ad22835702c9fb80",
       "version_major": 2,
       "version_minor": 0
      },
      "text/plain": [
       "VBox()"
      ]
     },
     "metadata": {},
     "output_type": "display_data"
    },
    {
     "data": {
      "application/vnd.jupyter.widget-view+json": {
       "model_id": "",
       "version_major": 2,
       "version_minor": 0
      },
      "text/plain": [
       "FloatProgress(value=0.0, bar_style='info', description='Progress:', layout=Layout(height='25px', width='50%'),…"
      ]
     },
     "metadata": {},
     "output_type": "display_data"
    }
   ],
   "source": [
    "#max_iter : default =100 but getting error about not converging\n",
    "lr = LogisticRegression(max_iter=1000)\n",
    "clf = OneVsRestClassifier(lr)"
   ]
  },
  {
   "cell_type": "code",
   "execution_count": 32,
   "metadata": {},
   "outputs": [
    {
     "data": {
      "application/vnd.jupyter.widget-view+json": {
       "model_id": "59b5a326bc1e4f188ecc5bac44468c07",
       "version_major": 2,
       "version_minor": 0
      },
      "text/plain": [
       "VBox()"
      ]
     },
     "metadata": {},
     "output_type": "display_data"
    },
    {
     "data": {
      "application/vnd.jupyter.widget-view+json": {
       "model_id": "",
       "version_major": 2,
       "version_minor": 0
      },
      "text/plain": [
       "FloatProgress(value=0.0, bar_style='info', description='Progress:', layout=Layout(height='25px', width='50%'),…"
      ]
     },
     "metadata": {},
     "output_type": "display_data"
    },
    {
     "name": "stderr",
     "output_type": "stream",
     "text": [
      "name 'xtrain' is not defined\n",
      "Traceback (most recent call last):\n",
      "NameError: name 'xtrain' is not defined\n",
      "\n"
     ]
    }
   ],
   "source": [
    "#UserWarning: Label not 17 is present in all training examples.\n",
    "#Due to fact that 'US' does not appear in training set (is all 0s) \n",
    "#RESOLVES AS DATA SIZE INCREASES\n",
    "\n",
    "#Getting max iteration exceeded error\n",
    "#All TF-IDF features are range 0-1, scaled rating to be divided by 5 so that is also range 0-1\n",
    "#Lower max_features for TF-IDF to reduce dimensionality\n",
    "\n",
    "\n",
    "clf.fit(xtrain, ytrain)"
   ]
  },
  {
   "cell_type": "code",
   "execution_count": 33,
   "metadata": {},
   "outputs": [
    {
     "data": {
      "application/vnd.jupyter.widget-view+json": {
       "model_id": "33a8a09dca8546e2bf7823f598b14f8f",
       "version_major": 2,
       "version_minor": 0
      },
      "text/plain": [
       "VBox()"
      ]
     },
     "metadata": {},
     "output_type": "display_data"
    },
    {
     "data": {
      "application/vnd.jupyter.widget-view+json": {
       "model_id": "",
       "version_major": 2,
       "version_minor": 0
      },
      "text/plain": [
       "FloatProgress(value=0.0, bar_style='info', description='Progress:', layout=Layout(height='25px', width='50%'),…"
      ]
     },
     "metadata": {},
     "output_type": "display_data"
    },
    {
     "name": "stderr",
     "output_type": "stream",
     "text": [
      "name 'ytrain' is not defined\n",
      "Traceback (most recent call last):\n",
      "NameError: name 'ytrain' is not defined\n",
      "\n"
     ]
    }
   ],
   "source": [
    "#ytrain.dtypes\n",
    "#NO US LABEL\n",
    "ytrain.sum(axis=0)"
   ]
  },
  {
   "cell_type": "code",
   "execution_count": 34,
   "metadata": {},
   "outputs": [
    {
     "data": {
      "application/vnd.jupyter.widget-view+json": {
       "model_id": "86e6e6de705c47acaf714b496e0a544d",
       "version_major": 2,
       "version_minor": 0
      },
      "text/plain": [
       "VBox()"
      ]
     },
     "metadata": {},
     "output_type": "display_data"
    },
    {
     "data": {
      "application/vnd.jupyter.widget-view+json": {
       "model_id": "",
       "version_major": 2,
       "version_minor": 0
      },
      "text/plain": [
       "FloatProgress(value=0.0, bar_style='info', description='Progress:', layout=Layout(height='25px', width='50%'),…"
      ]
     },
     "metadata": {},
     "output_type": "display_data"
    },
    {
     "name": "stderr",
     "output_type": "stream",
     "text": [
      "name 'xtest' is not defined\n",
      "Traceback (most recent call last):\n",
      "NameError: name 'xtest' is not defined\n",
      "\n"
     ]
    }
   ],
   "source": [
    "y_pred = clf.predict(xtest)"
   ]
  },
  {
   "cell_type": "code",
   "execution_count": null,
   "metadata": {},
   "outputs": [],
   "source": []
  },
  {
   "cell_type": "code",
   "execution_count": 35,
   "metadata": {},
   "outputs": [
    {
     "data": {
      "application/vnd.jupyter.widget-view+json": {
       "model_id": "bceec04c4a7b410584491fe473ed4406",
       "version_major": 2,
       "version_minor": 0
      },
      "text/plain": [
       "VBox()"
      ]
     },
     "metadata": {},
     "output_type": "display_data"
    },
    {
     "data": {
      "application/vnd.jupyter.widget-view+json": {
       "model_id": "",
       "version_major": 2,
       "version_minor": 0
      },
      "text/plain": [
       "FloatProgress(value=0.0, bar_style='info', description='Progress:', layout=Layout(height='25px', width='50%'),…"
      ]
     },
     "metadata": {},
     "output_type": "display_data"
    }
   ],
   "source": [
    "plt.clf()"
   ]
  },
  {
   "cell_type": "code",
   "execution_count": 36,
   "metadata": {},
   "outputs": [],
   "source": [
    "%matplotlib inline"
   ]
  },
  {
   "cell_type": "code",
   "execution_count": 37,
   "metadata": {},
   "outputs": [
    {
     "data": {
      "application/vnd.jupyter.widget-view+json": {
       "model_id": "30195ce07ec64392813b07d90d83a802",
       "version_major": 2,
       "version_minor": 0
      },
      "text/plain": [
       "VBox()"
      ]
     },
     "metadata": {},
     "output_type": "display_data"
    },
    {
     "data": {
      "application/vnd.jupyter.widget-view+json": {
       "model_id": "",
       "version_major": 2,
       "version_minor": 0
      },
      "text/plain": [
       "FloatProgress(value=0.0, bar_style='info', description='Progress:', layout=Layout(height='25px', width='50%'),…"
      ]
     },
     "metadata": {},
     "output_type": "display_data"
    },
    {
     "name": "stderr",
     "output_type": "stream",
     "text": [
      "name 'xtest' is not defined\n",
      "Traceback (most recent call last):\n",
      "NameError: name 'xtest' is not defined\n",
      "\n"
     ]
    }
   ],
   "source": [
    "#Confusion matrix\n",
    "#confusion_matrix(ytest, y_pred)\n",
    "#tn, fp, fn, tp = confusion_matrix(ytest, y_pred).ravel()\n",
    "#print(\"TN: {}\".format(tn), \"FP: {}\".format(fp), \"FN: {}\".format(fn), \"TP: {}\".format(tp))\n",
    "plot_confusion_matrix(clf, xtest, ytest)\n",
    "plt.show()"
   ]
  },
  {
   "cell_type": "code",
   "execution_count": 38,
   "metadata": {},
   "outputs": [
    {
     "data": {
      "application/vnd.jupyter.widget-view+json": {
       "model_id": "",
       "version_major": 2,
       "version_minor": 0
      },
      "text/plain": [
       "FloatProgress(value=0.0, bar_style='info', description='Progress:', layout=Layout(height='25px', width='50%'),…"
      ]
     },
     "metadata": {},
     "output_type": "display_data"
    },
    {
     "data": {
      "image/png": "[encoded data removed]",
      "text/plain": [
       "<IPython.core.display.Image object>"
      ]
     },
     "metadata": {},
     "output_type": "display_data"
    }
   ],
   "source": [
    "%matplot plt"
   ]
  },
  {
   "cell_type": "code",
   "execution_count": 39,
   "metadata": {},
   "outputs": [
    {
     "data": {
      "application/vnd.jupyter.widget-view+json": {
       "model_id": "39525c1a65554438a81736a0f1ac2b9d",
       "version_major": 2,
       "version_minor": 0
      },
      "text/plain": [
       "VBox()"
      ]
     },
     "metadata": {},
     "output_type": "display_data"
    },
    {
     "data": {
      "application/vnd.jupyter.widget-view+json": {
       "model_id": "",
       "version_major": 2,
       "version_minor": 0
      },
      "text/plain": [
       "FloatProgress(value=0.0, bar_style='info', description='Progress:', layout=Layout(height='25px', width='50%'),…"
      ]
     },
     "metadata": {},
     "output_type": "display_data"
    }
   ],
   "source": [
    "#Evaluating model performance\n",
    "#There are inherently mostly NOLABEL so accuracy could be high just bc of those\n",
    "#Want to make sure that when there is a label besides NOLABEL that it is being accurately predicted\n"
   ]
  },
  {
   "cell_type": "code",
   "execution_count": 40,
   "metadata": {},
   "outputs": [
    {
     "data": {
      "application/vnd.jupyter.widget-view+json": {
       "model_id": "5334ced40a484608beb3ae9a3f78fba7",
       "version_major": 2,
       "version_minor": 0
      },
      "text/plain": [
       "VBox()"
      ]
     },
     "metadata": {},
     "output_type": "display_data"
    },
    {
     "data": {
      "application/vnd.jupyter.widget-view+json": {
       "model_id": "",
       "version_major": 2,
       "version_minor": 0
      },
      "text/plain": [
       "FloatProgress(value=0.0, bar_style='info', description='Progress:', layout=Layout(height='25px', width='50%'),…"
      ]
     },
     "metadata": {},
     "output_type": "display_data"
    },
    {
     "name": "stderr",
     "output_type": "stream",
     "text": [
      "name 'ytest' is not defined\n",
      "Traceback (most recent call last):\n",
      "NameError: name 'ytest' is not defined\n",
      "\n"
     ]
    }
   ],
   "source": [
    "#Model performance metrics\n",
    "#Assess at individual label level as well as overall\n",
    "\n",
    "#Accuracy is overall correct predictions - not great measurement tool for imbalanced data\n",
    "#Precision - TP / TP + FP = spam detection - don't want to mark something as spam (FP) when it isn't\n",
    "#Recall - TP / TP + FN = sickness - don't want to tell someone they aren't sick (FN) when they are and can spread it\n",
    "#F1 - balance of precision and recall\n",
    "\n",
    "#We want to make sure if bomb emoji then it gets marked - even at the expense of marking other things potentially offensive that aren't \n",
    "#Important not to have FN - USE RECALL\n",
    "#Also don't want to be marking a bunch of stuff as offensive when it isn't and making moderation do everything anyway\n",
    "#Important not to have too many FP - USE PRECISION\n",
    "#Use F1 for balance between both\n",
    "print(\"Accuracy is:  {}\" .format(accuracy_score(ytest, y_pred)))\n",
    "print(\"Precision is:  {}\" .format(precision_score(ytest, y_pred)))\n",
    "print(\"Recall is:  {}\" .format(recall_score(ytest, y_pred)))\n",
    "print(\"F1 Score is:  {}\" .format(f1_score(ytest, y_pred)))"
   ]
  },
  {
   "cell_type": "code",
   "execution_count": 41,
   "metadata": {},
   "outputs": [
    {
     "data": {
      "application/vnd.jupyter.widget-view+json": {
       "model_id": "e6be0d6360b143cbb8af30e1a118a3b9",
       "version_major": 2,
       "version_minor": 0
      },
      "text/plain": [
       "VBox()"
      ]
     },
     "metadata": {},
     "output_type": "display_data"
    },
    {
     "data": {
      "application/vnd.jupyter.widget-view+json": {
       "model_id": "",
       "version_major": 2,
       "version_minor": 0
      },
      "text/plain": [
       "FloatProgress(value=0.0, bar_style='info', description='Progress:', layout=Layout(height='25px', width='50%'),…"
      ]
     },
     "metadata": {},
     "output_type": "display_data"
    },
    {
     "name": "stderr",
     "output_type": "stream",
     "text": [
      "name 'ytest' is not defined\n",
      "Traceback (most recent call last):\n",
      "NameError: name 'ytest' is not defined\n",
      "\n"
     ]
    }
   ],
   "source": [
    "print(classification_report(ytest,y_pred))"
   ]
  },
  {
   "cell_type": "code",
   "execution_count": 42,
   "metadata": {},
   "outputs": [
    {
     "data": {
      "application/vnd.jupyter.widget-view+json": {
       "model_id": "c2f0262efe1640f4960aebdfcefaf89d",
       "version_major": 2,
       "version_minor": 0
      },
      "text/plain": [
       "VBox()"
      ]
     },
     "metadata": {},
     "output_type": "display_data"
    },
    {
     "data": {
      "application/vnd.jupyter.widget-view+json": {
       "model_id": "",
       "version_major": 2,
       "version_minor": 0
      },
      "text/plain": [
       "FloatProgress(value=0.0, bar_style='info', description='Progress:', layout=Layout(height='25px', width='50%'),…"
      ]
     },
     "metadata": {},
     "output_type": "display_data"
    },
    {
     "name": "stderr",
     "output_type": "stream",
     "text": [
      "name 'xtest' is not defined\n",
      "Traceback (most recent call last):\n",
      "NameError: name 'xtest' is not defined\n",
      "\n"
     ]
    }
   ],
   "source": [
    "probs = clf.predict_proba(xtest)\n",
    "preds = probs[:,1]\n",
    "fpr, tpr, threshold = roc_curve(ytest, preds)\n",
    "roc_auc = auc(fpr, tpr)\n",
    "print(roc_auc)"
   ]
  },
  {
   "cell_type": "code",
   "execution_count": 43,
   "metadata": {},
   "outputs": [
    {
     "data": {
      "application/vnd.jupyter.widget-view+json": {
       "model_id": "602b429452a44f449b0e5bb59fc5c3b9",
       "version_major": 2,
       "version_minor": 0
      },
      "text/plain": [
       "VBox()"
      ]
     },
     "metadata": {},
     "output_type": "display_data"
    },
    {
     "data": {
      "application/vnd.jupyter.widget-view+json": {
       "model_id": "",
       "version_major": 2,
       "version_minor": 0
      },
      "text/plain": [
       "FloatProgress(value=0.0, bar_style='info', description='Progress:', layout=Layout(height='25px', width='50%'),…"
      ]
     },
     "metadata": {},
     "output_type": "display_data"
    }
   ],
   "source": [
    "plt.clf()"
   ]
  },
  {
   "cell_type": "code",
   "execution_count": 44,
   "metadata": {},
   "outputs": [
    {
     "data": {
      "application/vnd.jupyter.widget-view+json": {
       "model_id": "c4dfc151ade342128eddbba0f851414b",
       "version_major": 2,
       "version_minor": 0
      },
      "text/plain": [
       "VBox()"
      ]
     },
     "metadata": {},
     "output_type": "display_data"
    },
    {
     "data": {
      "application/vnd.jupyter.widget-view+json": {
       "model_id": "",
       "version_major": 2,
       "version_minor": 0
      },
      "text/plain": [
       "FloatProgress(value=0.0, bar_style='info', description='Progress:', layout=Layout(height='25px', width='50%'),…"
      ]
     },
     "metadata": {},
     "output_type": "display_data"
    },
    {
     "name": "stderr",
     "output_type": "stream",
     "text": [
      "name 'fpr' is not defined\n",
      "Traceback (most recent call last):\n",
      "NameError: name 'fpr' is not defined\n",
      "\n"
     ]
    }
   ],
   "source": [
    "#ROC CURVE\n",
    "#Assumes we care about 0 and 1 classification the same - we don't\n",
    "#We care more about performance of 1 classification - use precision recall curve\n",
    "plt.title('Receiver Operating Characteristic')\n",
    "plt.plot(fpr, tpr, 'b', label = 'AUC = %0.4f' % roc_auc)\n",
    "plt.legend(loc = 'lower right')\n",
    "plt.plot([0, 1], [0, 1],'r--')\n",
    "plt.xlim([0, 1])\n",
    "plt.ylim([0, 1])\n",
    "plt.ylabel('True Positive Rate')\n",
    "plt.xlabel('False Positive Rate')\n",
    "plt.show()"
   ]
  },
  {
   "cell_type": "code",
   "execution_count": 45,
   "metadata": {},
   "outputs": [
    {
     "data": {
      "application/vnd.jupyter.widget-view+json": {
       "model_id": "",
       "version_major": 2,
       "version_minor": 0
      },
      "text/plain": [
       "FloatProgress(value=0.0, bar_style='info', description='Progress:', layout=Layout(height='25px', width='50%'),…"
      ]
     },
     "metadata": {},
     "output_type": "display_data"
    },
    {
     "data": {
      "image/png": "[encoded data removed]",
      "text/plain": [
       "<IPython.core.display.Image object>"
      ]
     },
     "metadata": {},
     "output_type": "display_data"
    }
   ],
   "source": [
    "%matplot plt"
   ]
  },
  {
   "cell_type": "code",
   "execution_count": 46,
   "metadata": {},
   "outputs": [
    {
     "data": {
      "application/vnd.jupyter.widget-view+json": {
       "model_id": "2edf81f62e7b4e6596fe2ddcadf4c115",
       "version_major": 2,
       "version_minor": 0
      },
      "text/plain": [
       "VBox()"
      ]
     },
     "metadata": {},
     "output_type": "display_data"
    },
    {
     "data": {
      "application/vnd.jupyter.widget-view+json": {
       "model_id": "",
       "version_major": 2,
       "version_minor": 0
      },
      "text/plain": [
       "FloatProgress(value=0.0, bar_style='info', description='Progress:', layout=Layout(height='25px', width='50%'),…"
      ]
     },
     "metadata": {},
     "output_type": "display_data"
    },
    {
     "name": "stderr",
     "output_type": "stream",
     "text": [
      "name 'tpr' is not defined\n",
      "Traceback (most recent call last):\n",
      "NameError: name 'tpr' is not defined\n",
      "\n"
     ]
    }
   ],
   "source": [
    "#Find best threshold (ROC Curve)\n",
    "#Ideally want tpr = 1 and fpr = 0, so want tpr - fpr as close to 1 as possible\n",
    "optimal_idx = np.argmax(tpr - fpr)\n",
    "optimal_threshold = threshold[optimal_idx]\n",
    "opt_tpr = tpr[optimal_idx]\n",
    "opt_fpr = fpr[optimal_idx]\n",
    "print(\"Optimal threshold value:\", optimal_threshold)\n",
    "print(\"Optimal tpr value:\", opt_tpr)\n",
    "print(\"Optimal fpr value:\", opt_fpr)"
   ]
  },
  {
   "cell_type": "code",
   "execution_count": 106,
   "metadata": {},
   "outputs": [
    {
     "data": {
      "application/vnd.jupyter.widget-view+json": {
       "model_id": "7e509f1bf4414b0bb2fd284b1bcafa33",
       "version_major": 2,
       "version_minor": 0
      },
      "text/plain": [
       "VBox()"
      ]
     },
     "metadata": {},
     "output_type": "display_data"
    },
    {
     "data": {
      "application/vnd.jupyter.widget-view+json": {
       "model_id": "",
       "version_major": 2,
       "version_minor": 0
      },
      "text/plain": [
       "FloatProgress(value=0.0, bar_style='info', description='Progress:', layout=Layout(height='25px', width='50%'),…"
      ]
     },
     "metadata": {},
     "output_type": "display_data"
    }
   ],
   "source": [
    "t = optimal_threshold\n",
    "y_pred_new = (preds >= t).astype(int)\n",
    "#y_pred_new"
   ]
  },
  {
   "cell_type": "code",
   "execution_count": 107,
   "metadata": {},
   "outputs": [
    {
     "data": {
      "application/vnd.jupyter.widget-view+json": {
       "model_id": "ce6b024f646548899fea71b07480bf3f",
       "version_major": 2,
       "version_minor": 0
      },
      "text/plain": [
       "VBox()"
      ]
     },
     "metadata": {},
     "output_type": "display_data"
    },
    {
     "data": {
      "application/vnd.jupyter.widget-view+json": {
       "model_id": "",
       "version_major": 2,
       "version_minor": 0
      },
      "text/plain": [
       "FloatProgress(value=0.0, bar_style='info', description='Progress:', layout=Layout(height='25px', width='50%'),…"
      ]
     },
     "metadata": {},
     "output_type": "display_data"
    },
    {
     "name": "stdout",
     "output_type": "stream",
     "text": [
      "Accuracy is:  0.8126\n",
      "Precision is:  0.08509591736350221\n",
      "Recall is:  0.9251336898395722\n",
      "F1 Score is:  0.15585585585585582"
     ]
    }
   ],
   "source": [
    "#Scores with best threshold cutoff\n",
    "print(\"Accuracy is:  {}\" .format(accuracy_score(ytest, y_pred_new)))\n",
    "print(\"Precision is:  {}\" .format(precision_score(ytest, y_pred_new)))\n",
    "print(\"Recall is:  {}\" .format(recall_score(ytest, y_pred_new)))\n",
    "print(\"F1 Score is:  {}\" .format(f1_score(ytest, y_pred_new)))"
   ]
  },
  {
   "cell_type": "code",
   "execution_count": 108,
   "metadata": {},
   "outputs": [
    {
     "data": {
      "application/vnd.jupyter.widget-view+json": {
       "model_id": "00ebce9a5e924ba4813a9e2618788e38",
       "version_major": 2,
       "version_minor": 0
      },
      "text/plain": [
       "VBox()"
      ]
     },
     "metadata": {},
     "output_type": "display_data"
    },
    {
     "data": {
      "application/vnd.jupyter.widget-view+json": {
       "model_id": "",
       "version_major": 2,
       "version_minor": 0
      },
      "text/plain": [
       "FloatProgress(value=0.0, bar_style='info', description='Progress:', layout=Layout(height='25px', width='50%'),…"
      ]
     },
     "metadata": {},
     "output_type": "display_data"
    },
    {
     "name": "stdout",
     "output_type": "stream",
     "text": [
      "10000"
     ]
    }
   ],
   "source": [
    "len(y_pred_new)"
   ]
  },
  {
   "cell_type": "code",
   "execution_count": null,
   "metadata": {},
   "outputs": [],
   "source": []
  },
  {
   "cell_type": "code",
   "execution_count": 109,
   "metadata": {},
   "outputs": [
    {
     "data": {
      "application/vnd.jupyter.widget-view+json": {
       "model_id": "c98fabe129f64bd9a60307c12afcbe1c",
       "version_major": 2,
       "version_minor": 0
      },
      "text/plain": [
       "VBox()"
      ]
     },
     "metadata": {},
     "output_type": "display_data"
    },
    {
     "data": {
      "application/vnd.jupyter.widget-view+json": {
       "model_id": "",
       "version_major": 2,
       "version_minor": 0
      },
      "text/plain": [
       "FloatProgress(value=0.0, bar_style='info', description='Progress:', layout=Layout(height='25px', width='50%'),…"
      ]
     },
     "metadata": {},
     "output_type": "display_data"
    }
   ],
   "source": [
    "#PRECISION RECALL CURVE\n",
    "#Better for what we want to assess which is how well label is assigned (i.e. when it gets a 1 instead of a 0)\n",
    "\n",
    "precision, recall, pr_threshold = precision_recall_curve(ytest, preds)\n",
    "auc = auc(recall, precision)"
   ]
  },
  {
   "cell_type": "code",
   "execution_count": 110,
   "metadata": {},
   "outputs": [
    {
     "data": {
      "application/vnd.jupyter.widget-view+json": {
       "model_id": "93d1fd0e119d422b82e7a805a050b142",
       "version_major": 2,
       "version_minor": 0
      },
      "text/plain": [
       "VBox()"
      ]
     },
     "metadata": {},
     "output_type": "display_data"
    },
    {
     "data": {
      "application/vnd.jupyter.widget-view+json": {
       "model_id": "",
       "version_major": 2,
       "version_minor": 0
      },
      "text/plain": [
       "FloatProgress(value=0.0, bar_style='info', description='Progress:', layout=Layout(height='25px', width='50%'),…"
      ]
     },
     "metadata": {},
     "output_type": "display_data"
    }
   ],
   "source": [
    "plt.clf()"
   ]
  },
  {
   "cell_type": "code",
   "execution_count": 111,
   "metadata": {},
   "outputs": [
    {
     "data": {
      "application/vnd.jupyter.widget-view+json": {
       "model_id": "9e1225f98b3a4b07b3f7a7ad0c615fb3",
       "version_major": 2,
       "version_minor": 0
      },
      "text/plain": [
       "VBox()"
      ]
     },
     "metadata": {},
     "output_type": "display_data"
    },
    {
     "data": {
      "application/vnd.jupyter.widget-view+json": {
       "model_id": "",
       "version_major": 2,
       "version_minor": 0
      },
      "text/plain": [
       "FloatProgress(value=0.0, bar_style='info', description='Progress:', layout=Layout(height='25px', width='50%'),…"
      ]
     },
     "metadata": {},
     "output_type": "display_data"
    }
   ],
   "source": [
    "plt.title('Precision - Recall Curve')\n",
    "plt.plot(recall, precision, 'b', label = 'AUC = %0.4f' % auc)\n",
    "plt.legend(loc = 'lower right')\n",
    "no_skill = len(ytest[ytest['NR']==1]) / len(ytest)\n",
    "plt.plot([0, 1], [no_skill, no_skill], 'r--', label='No Skill')\n",
    "#plt.xlim([0, 1])\n",
    "#plt.ylim([0, 1])\n",
    "plt.ylabel('Precision')\n",
    "plt.xlabel('Recall')\n",
    "plt.show()"
   ]
  },
  {
   "cell_type": "code",
   "execution_count": 112,
   "metadata": {},
   "outputs": [
    {
     "data": {
      "application/vnd.jupyter.widget-view+json": {
       "model_id": "",
       "version_major": 2,
       "version_minor": 0
      },
      "text/plain": [
       "FloatProgress(value=0.0, bar_style='info', description='Progress:', layout=Layout(height='25px', width='50%'),…"
      ]
     },
     "metadata": {},
     "output_type": "display_data"
    },
    {
     "data": {
      "image/png": "[encoded data removed]",
      "text/plain": [
       "<IPython.core.display.Image object>"
      ]
     },
     "metadata": {},
     "output_type": "display_data"
    }
   ],
   "source": [
    "%matplot plt"
   ]
  },
  {
   "cell_type": "code",
   "execution_count": 113,
   "metadata": {},
   "outputs": [
    {
     "data": {
      "application/vnd.jupyter.widget-view+json": {
       "model_id": "0b670a28dbf549b4b47214999a8d460a",
       "version_major": 2,
       "version_minor": 0
      },
      "text/plain": [
       "VBox()"
      ]
     },
     "metadata": {},
     "output_type": "display_data"
    },
    {
     "data": {
      "application/vnd.jupyter.widget-view+json": {
       "model_id": "",
       "version_major": 2,
       "version_minor": 0
      },
      "text/plain": [
       "FloatProgress(value=0.0, bar_style='info', description='Progress:', layout=Layout(height='25px', width='50%'),…"
      ]
     },
     "metadata": {},
     "output_type": "display_data"
    },
    {
     "name": "stdout",
     "output_type": "stream",
     "text": [
      "Best Threshold=0.228202, F-Score=0.471\n",
      "Recall=0.454545\n",
      "Precision=0.488506"
     ]
    }
   ],
   "source": [
    "#Best F1 score optimizes precision recall trade off\n",
    "\n",
    "fscore = (2 * precision * recall) / (precision + recall)\n",
    "ix = argmax(fscore)\n",
    "print('Best Threshold=%f, F-Score=%.3f' % (pr_threshold[ix], fscore[ix]))\n",
    "\n",
    "print('Recall=%f' % recall[ix])\n",
    "print('Precision=%f' % precision[ix])"
   ]
  },
  {
   "cell_type": "code",
   "execution_count": 122,
   "metadata": {},
   "outputs": [
    {
     "data": {
      "application/vnd.jupyter.widget-view+json": {
       "model_id": "9317202cee954081887bf6a479ed11fa",
       "version_major": 2,
       "version_minor": 0
      },
      "text/plain": [
       "VBox()"
      ]
     },
     "metadata": {},
     "output_type": "display_data"
    },
    {
     "data": {
      "application/vnd.jupyter.widget-view+json": {
       "model_id": "",
       "version_major": 2,
       "version_minor": 0
      },
      "text/plain": [
       "FloatProgress(value=0.0, bar_style='info', description='Progress:', layout=Layout(height='25px', width='50%'),…"
      ]
     },
     "metadata": {},
     "output_type": "display_data"
    }
   ],
   "source": [
    "plt.clf()"
   ]
  },
  {
   "cell_type": "code",
   "execution_count": 123,
   "metadata": {},
   "outputs": [
    {
     "data": {
      "application/vnd.jupyter.widget-view+json": {
       "model_id": "49c179a0b8984cb18e365dbef101b2d2",
       "version_major": 2,
       "version_minor": 0
      },
      "text/plain": [
       "VBox()"
      ]
     },
     "metadata": {},
     "output_type": "display_data"
    },
    {
     "data": {
      "application/vnd.jupyter.widget-view+json": {
       "model_id": "",
       "version_major": 2,
       "version_minor": 0
      },
      "text/plain": [
       "FloatProgress(value=0.0, bar_style='info', description='Progress:', layout=Layout(height='25px', width='50%'),…"
      ]
     },
     "metadata": {},
     "output_type": "display_data"
    }
   ],
   "source": [
    "plt.hist(preds, bins=10)\n",
    "plt.show()"
   ]
  },
  {
   "cell_type": "code",
   "execution_count": 124,
   "metadata": {},
   "outputs": [
    {
     "data": {
      "application/vnd.jupyter.widget-view+json": {
       "model_id": "",
       "version_major": 2,
       "version_minor": 0
      },
      "text/plain": [
       "FloatProgress(value=0.0, bar_style='info', description='Progress:', layout=Layout(height='25px', width='50%'),…"
      ]
     },
     "metadata": {},
     "output_type": "display_data"
    },
    {
     "data": {
      "image/png": "[encoded data removed]",
      "text/plain": [
       "<IPython.core.display.Image object>"
      ]
     },
     "metadata": {},
     "output_type": "display_data"
    }
   ],
   "source": [
    "%matplot plt"
   ]
  },
  {
   "cell_type": "code",
   "execution_count": 114,
   "metadata": {},
   "outputs": [
    {
     "data": {
      "application/vnd.jupyter.widget-view+json": {
       "model_id": "c35a92f19ea24063ab1171766fe67a40",
       "version_major": 2,
       "version_minor": 0
      },
      "text/plain": [
       "VBox()"
      ]
     },
     "metadata": {},
     "output_type": "display_data"
    },
    {
     "data": {
      "application/vnd.jupyter.widget-view+json": {
       "model_id": "",
       "version_major": 2,
       "version_minor": 0
      },
      "text/plain": [
       "FloatProgress(value=0.0, bar_style='info', description='Progress:', layout=Layout(height='25px', width='50%'),…"
      ]
     },
     "metadata": {},
     "output_type": "display_data"
    }
   ],
   "source": [
    "#LOGISTIC REGRESSION\n",
    "\n",
    "#Single tokens\n",
    "#data set = 500,000\n",
    "#max_features = 30000\n",
    "#Best Threshold=0.209417, F-Score=0.498\n",
    "#Recall 0.49516908212560384\n",
    "#Precision 0.5012224938875306\n",
    "\n",
    "\n",
    "#Single tokens\n",
    "#data set = 500,000\n",
    "#max_features = 50000\n",
    "#Best Threshold=0.200349, F-Score=0.499\n",
    "#Recall=0.504227\n",
    "#Precision=0.494083\n",
    "\n",
    "#Single tokens\n",
    "#data set = 5,000,000\n",
    "#max_features = 50000\n",
    "#Best Threshold=0.200349, F-Score=0.499\n",
    "#Recall=0.504227\n",
    "#Precision=0.494083\n",
    "\n",
    "#2 n-grams\n",
    "#data set = 5,000,000\n",
    "#max_features = 50000\n",
    "#Best Threshold=0.221356, F-Score=0.484\n",
    "#Recall=0.471806\n",
    "#Precision=0.495870\n",
    "\n",
    "#3 n-grams\n",
    "#data set = 5,000,000\n",
    "#max_features = 50000 or 30000\n",
    "#BOTH MAX FEATURE SIZES GIVE MEMORY ERROR\n",
    "\n",
    "#Word embeddings\n",
    "#data set = 500,000\n",
    "#Best Threshold=0.228202, F-Score=0.471\n",
    "#Recall=0.454545\n",
    "#Precision=0.488506"
   ]
  },
  {
   "cell_type": "code",
   "execution_count": null,
   "metadata": {},
   "outputs": [],
   "source": []
  },
  {
   "cell_type": "code",
   "execution_count": null,
   "metadata": {},
   "outputs": [],
   "source": []
  },
  {
   "cell_type": "code",
   "execution_count": null,
   "metadata": {},
   "outputs": [],
   "source": []
  }
 ],
 "metadata": {
  "kernelspec": {
   "display_name": "PySpark",
   "language": "",
   "name": "pysparkkernel"
  },
  "language_info": {
   "codemirror_mode": {
    "name": "python",
    "version": 2
   },
   "mimetype": "text/x-python",
   "name": "pyspark",
   "pygments_lexer": "python2"
  }
 },
 "nbformat": 4,
 "nbformat_minor": 4
}
