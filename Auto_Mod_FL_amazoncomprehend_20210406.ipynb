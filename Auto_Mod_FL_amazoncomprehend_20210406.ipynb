{
 "cells": [
  {
   "cell_type": "code",
   "execution_count": 1,
   "metadata": {},
   "outputs": [
    {
     "data": {
      "application/vnd.jupyter.widget-view+json": {
       "model_id": "1af806199baf4602ab7ac77aaa593b58",
       "version_major": 2,
       "version_minor": 0
      },
      "text/plain": [
       "VBox()"
      ]
     },
     "metadata": {},
     "output_type": "display_data"
    },
    {
     "name": "stdout",
     "output_type": "stream",
     "text": [
      "Starting Spark application\n"
     ]
    },
    {
     "data": {
      "text/html": [
       "<table>\n",
       "<tr><th>ID</th><th>YARN Application ID</th><th>Kind</th><th>State</th><th>Spark UI</th><th>Driver log</th><th>Current session?</th></tr><tr><td>0</td><td>application_1618583134697_0001</td><td>pyspark</td><td>idle</td><td><a target=\"_blank\" href=\"http://ip-10-101-214-126.us-west-2.compute.internal:20888/proxy/application_1618583134697_0001/\">Link</a></td><td><a target=\"_blank\" href=\"http://ip-10-101-214-219.us-west-2.compute.internal:8042/node/containerlogs/container_1618583134697_0001_01_000001/livy\">Link</a></td><td>✔</td></tr></table>"
      ],
      "text/plain": [
       "<IPython.core.display.HTML object>"
      ]
     },
     "metadata": {},
     "output_type": "display_data"
    },
    {
     "data": {
      "application/vnd.jupyter.widget-view+json": {
       "model_id": "",
       "version_major": 2,
       "version_minor": 0
      },
      "text/plain": [
       "FloatProgress(value=0.0, bar_style='info', description='Progress:', layout=Layout(height='25px', width='50%'),…"
      ]
     },
     "metadata": {},
     "output_type": "display_data"
    },
    {
     "name": "stdout",
     "output_type": "stream",
     "text": [
      "SparkSession available as 'spark'.\n"
     ]
    },
    {
     "data": {
      "application/vnd.jupyter.widget-view+json": {
       "model_id": "",
       "version_major": 2,
       "version_minor": 0
      },
      "text/plain": [
       "FloatProgress(value=0.0, bar_style='info', description='Progress:', layout=Layout(height='25px', width='50%'),…"
      ]
     },
     "metadata": {},
     "output_type": "display_data"
    }
   ],
   "source": [
    "#Import packages\n",
    "import boto3\n",
    "import json\n",
    "import numpy as np\n",
    "from numpy import argmax\n",
    "import pyspark.sql.functions as F\n",
    "import snowflake.connector\n",
    "import pandas as pd\n",
    "import spacy\n",
    "import matplotlib.pyplot as plt\n",
    "from vaderSentiment.vaderSentiment import SentimentIntensityAnalyzer\n",
    "from urllib.parse import urlparse\n",
    "from langdetect import detect\n",
    "from textblob import TextBlob\n",
    "#RegEx\n",
    "import regex as re"
   ]
  },
  {
   "cell_type": "code",
   "execution_count": 2,
   "metadata": {},
   "outputs": [
    {
     "data": {
      "application/vnd.jupyter.widget-view+json": {
       "model_id": "e88f09b4ad6c435f872523eaa1c8d321",
       "version_major": 2,
       "version_minor": 0
      },
      "text/plain": [
       "VBox()"
      ]
     },
     "metadata": {},
     "output_type": "display_data"
    },
    {
     "data": {
      "application/vnd.jupyter.widget-view+json": {
       "model_id": "",
       "version_major": 2,
       "version_minor": 0
      },
      "text/plain": [
       "FloatProgress(value=0.0, bar_style='info', description='Progress:', layout=Layout(height='25px', width='50%'),…"
      ]
     },
     "metadata": {},
     "output_type": "display_data"
    }
   ],
   "source": [
    "sm_client = boto3.client('secretsmanager',region_name='us-west-2')\n",
    "secret_value = sm_client.get_secret_value(SecretId = 'emr_spark_qa')\n",
    "username = json.loads(secret_value['SecretString'])['emr_spark_username']\n",
    "password = json.loads(secret_value['SecretString'])['emr_spark_password']\n",
    "#print(username)\n",
    "#print(password)"
   ]
  },
  {
   "cell_type": "code",
   "execution_count": 3,
   "metadata": {},
   "outputs": [
    {
     "data": {
      "application/vnd.jupyter.widget-view+json": {
       "model_id": "aadc35a220b549b6be4e6aa6892fd520",
       "version_major": 2,
       "version_minor": 0
      },
      "text/plain": [
       "VBox()"
      ]
     },
     "metadata": {},
     "output_type": "display_data"
    },
    {
     "data": {
      "application/vnd.jupyter.widget-view+json": {
       "model_id": "",
       "version_major": 2,
       "version_minor": 0
      },
      "text/plain": [
       "FloatProgress(value=0.0, bar_style='info', description='Progress:', layout=Layout(height='25px', width='50%'),…"
      ]
     },
     "metadata": {},
     "output_type": "display_data"
    }
   ],
   "source": [
    "#PYTHON connection info\n",
    "conn = snowflake.connector.connect(\n",
    "    account='powerreviews',\n",
    "    database='analytics_prod',\n",
    "    warehouse='LOWER_ENV_WAREHOUSE',\n",
    "    user=username,\n",
    "    password=password\n",
    "    )\n"
   ]
  },
  {
   "cell_type": "code",
   "execution_count": 16,
   "metadata": {},
   "outputs": [
    {
     "data": {
      "application/vnd.jupyter.widget-view+json": {
       "model_id": "b926275347c64edaa7a4afffd5b1dc67",
       "version_major": 2,
       "version_minor": 0
      },
      "text/plain": [
       "VBox()"
      ]
     },
     "metadata": {},
     "output_type": "display_data"
    },
    {
     "data": {
      "application/vnd.jupyter.widget-view+json": {
       "model_id": "",
       "version_major": 2,
       "version_minor": 0
      },
      "text/plain": [
       "FloatProgress(value=0.0, bar_style='info', description='Progress:', layout=Layout(height='25px', width='50%'),…"
      ]
     },
     "metadata": {},
     "output_type": "display_data"
    }
   ],
   "source": [
    "#Query some reviews\n",
    "query_1 = \"select distinct r.ugc_id, r.review_headline, r.review_comments, substr(r.locale,1,2) as lang, r.review_length, \\\n",
    "case when contains(r.observations, 'FL')  then 1 else 0 end as FL \\\n",
    "from analytics.review as r \\\n",
    "join analytics.merchant_group as mg \\\n",
    "on r.client_id = mg.client_id \\\n",
    "where contains(r.observations, 'PM') \\\n",
    "and not contains(r.observations, 'IA') and not contains(r.observations, 'IR') \\\n",
    "and mg.usage_type != 'Test' \\\n",
    "and r.created_date > '2020-01-01' \\\n",
    "and contains(r.observations, 'FL') \\\n",
    "and review_length < 40 \\\n",
    "limit 2 \\\n",
    "\"\n"
   ]
  },
  {
   "cell_type": "code",
   "execution_count": 17,
   "metadata": {},
   "outputs": [
    {
     "data": {
      "application/vnd.jupyter.widget-view+json": {
       "model_id": "3562a1ae387e43a89481511ec2190200",
       "version_major": 2,
       "version_minor": 0
      },
      "text/plain": [
       "VBox()"
      ]
     },
     "metadata": {},
     "output_type": "display_data"
    },
    {
     "data": {
      "application/vnd.jupyter.widget-view+json": {
       "model_id": "",
       "version_major": 2,
       "version_minor": 0
      },
      "text/plain": [
       "FloatProgress(value=0.0, bar_style='info', description='Progress:', layout=Layout(height='25px', width='50%'),…"
      ]
     },
     "metadata": {},
     "output_type": "display_data"
    },
    {
     "name": "stdout",
     "output_type": "stream",
     "text": [
      "<class 'pandas.core.frame.DataFrame'>\n",
      "RangeIndex: 2 entries, 0 to 1\n",
      "Data columns (total 6 columns):\n",
      " #   Column           Non-Null Count  Dtype \n",
      "---  ------           --------------  ----- \n",
      " 0   UGC_ID           2 non-null      int64 \n",
      " 1   REVIEW_HEADLINE  2 non-null      object\n",
      " 2   REVIEW_COMMENTS  2 non-null      object\n",
      " 3   LANG             2 non-null      object\n",
      " 4   REVIEW_LENGTH    2 non-null      int64 \n",
      " 5   FL               2 non-null      int64 \n",
      "dtypes: int64(3), object(3)\n",
      "memory usage: 224.0+ bytes"
     ]
    }
   ],
   "source": [
    "reviews = pd.read_sql(query_1, conn)\n",
    "reviews.head()\n",
    "reviews.info()\n"
   ]
  },
  {
   "cell_type": "code",
   "execution_count": 18,
   "metadata": {},
   "outputs": [
    {
     "data": {
      "application/vnd.jupyter.widget-view+json": {
       "model_id": "c61794dd6f574bc9b6446de64dbeda6e",
       "version_major": 2,
       "version_minor": 0
      },
      "text/plain": [
       "VBox()"
      ]
     },
     "metadata": {},
     "output_type": "display_data"
    },
    {
     "data": {
      "application/vnd.jupyter.widget-view+json": {
       "model_id": "",
       "version_major": 2,
       "version_minor": 0
      },
      "text/plain": [
       "FloatProgress(value=0.0, bar_style='info', description='Progress:', layout=Layout(height='25px', width='50%'),…"
      ]
     },
     "metadata": {},
     "output_type": "display_data"
    }
   ],
   "source": [
    "#Need to add \"word\" in front bc otherwise reviews with just emojis, symbols, #s, etc will not work in langdetect package\n",
    "#Throws this error if no words: \"langdetect.lang_detect_exception.LangDetectException: No features in text.\"\n",
    "reviews['ALL_TEXT'] = reviews['REVIEW_HEADLINE'] + ' ' + reviews['REVIEW_COMMENTS']"
   ]
  },
  {
   "cell_type": "code",
   "execution_count": 44,
   "metadata": {},
   "outputs": [
    {
     "data": {
      "application/vnd.jupyter.widget-view+json": {
       "model_id": "b86ebe6ece5a41da95fd1c1034fcab24",
       "version_major": 2,
       "version_minor": 0
      },
      "text/plain": [
       "VBox()"
      ]
     },
     "metadata": {},
     "output_type": "display_data"
    },
    {
     "data": {
      "application/vnd.jupyter.widget-view+json": {
       "model_id": "",
       "version_major": 2,
       "version_minor": 0
      },
      "text/plain": [
       "FloatProgress(value=0.0, bar_style='info', description='Progress:', layout=Layout(height='25px', width='50%'),…"
      ]
     },
     "metadata": {},
     "output_type": "display_data"
    },
    {
     "name": "stdout",
     "output_type": "stream",
     "text": [
      "Calling DetectDominantLanguage\n",
      "{\"Languages\": [{\"LanguageCode\": \"en\", \"Score\": 0.5294792056083679}, {\"LanguageCode\": \"es\", \"Score\": 0.268625408411026}, {\"LanguageCode\": \"pt\", \"Score\": 0.20022545754909515}], \"ResponseMetadata\": {\"RequestId\": \"a20c52da-2be3-487d-8332-98fdd7419e1a\", \"HTTPStatusCode\": 200, \"HTTPHeaders\": {\"x-amzn-requestid\": \"a20c52da-2be3-487d-8332-98fdd7419e1a\", \"content-type\": \"application/x-amz-json-1.1\", \"content-length\": \"162\", \"date\": \"Thu, 08 Apr 2021 16:53:13 GMT\"}, \"RetryAttempts\": 0}}\n",
      "End of DetectDominantLanguage"
     ]
    }
   ],
   "source": [
    "#EXAMPLE\n",
    "comprehend = boto3.client(service_name='comprehend', region_name='us-west-2')\n",
    "text = \"Excelente excelente\"\n",
    "\n",
    "print('Calling DetectDominantLanguage')\n",
    "print(json.dumps(comprehend.detect_dominant_language(Text = text)))\n",
    "print(\"End of DetectDominantLanguage\\n\")"
   ]
  },
  {
   "cell_type": "code",
   "execution_count": 11,
   "metadata": {},
   "outputs": [
    {
     "data": {
      "application/vnd.jupyter.widget-view+json": {
       "model_id": "4747f0fb57b24374a0df12d772abac20",
       "version_major": 2,
       "version_minor": 0
      },
      "text/plain": [
       "VBox()"
      ]
     },
     "metadata": {},
     "output_type": "display_data"
    },
    {
     "data": {
      "application/vnd.jupyter.widget-view+json": {
       "model_id": "",
       "version_major": 2,
       "version_minor": 0
      },
      "text/plain": [
       "FloatProgress(value=0.0, bar_style='info', description='Progress:', layout=Layout(height='25px', width='50%'),…"
      ]
     },
     "metadata": {},
     "output_type": "display_data"
    },
    {
     "name": "stdout",
     "output_type": "stream",
     "text": [
      "'en'"
     ]
    }
   ],
   "source": [
    "comprehend = boto3.client(service_name='comprehend', region_name='us-west-2')\n",
    "text = \"Excelente excelente\"\n",
    "\n",
    "test=comprehend.detect_dominant_language(Text = text)['Languages'][0]['LanguageCode']\n",
    "test"
   ]
  },
  {
   "cell_type": "code",
   "execution_count": 12,
   "metadata": {},
   "outputs": [
    {
     "data": {
      "application/vnd.jupyter.widget-view+json": {
       "model_id": "b5e1d2ecc4234b0eba32186439292dcb",
       "version_major": 2,
       "version_minor": 0
      },
      "text/plain": [
       "VBox()"
      ]
     },
     "metadata": {},
     "output_type": "display_data"
    },
    {
     "data": {
      "application/vnd.jupyter.widget-view+json": {
       "model_id": "",
       "version_major": 2,
       "version_minor": 0
      },
      "text/plain": [
       "FloatProgress(value=0.0, bar_style='info', description='Progress:', layout=Layout(height='25px', width='50%'),…"
      ]
     },
     "metadata": {},
     "output_type": "display_data"
    },
    {
     "name": "stdout",
     "output_type": "stream",
     "text": [
      "0.5294792056083679"
     ]
    }
   ],
   "source": [
    "test2=comprehend.detect_dominant_language(Text = text)['Languages'][0]['Score']\n",
    "test2"
   ]
  },
  {
   "cell_type": "code",
   "execution_count": 14,
   "metadata": {},
   "outputs": [
    {
     "data": {
      "application/vnd.jupyter.widget-view+json": {
       "model_id": "69d901719bf84cf59aac837f9ffbcf56",
       "version_major": 2,
       "version_minor": 0
      },
      "text/plain": [
       "VBox()"
      ]
     },
     "metadata": {},
     "output_type": "display_data"
    },
    {
     "data": {
      "application/vnd.jupyter.widget-view+json": {
       "model_id": "",
       "version_major": 2,
       "version_minor": 0
      },
      "text/plain": [
       "FloatProgress(value=0.0, bar_style='info', description='Progress:', layout=Layout(height='25px', width='50%'),…"
      ]
     },
     "metadata": {},
     "output_type": "display_data"
    },
    {
     "name": "stdout",
     "output_type": "stream",
     "text": [
      "{'Languages': [{'LanguageCode': 'en', 'Score': 0.5294792056083679}, {'LanguageCode': 'es', 'Score': 0.268625408411026}, {'LanguageCode': 'pt', 'Score': 0.20022545754909515}], 'ResponseMetadata': {'RequestId': '5890b37d-f01b-4576-931b-0a750318e8da', 'HTTPStatusCode': 200, 'HTTPHeaders': {'x-amzn-requestid': '5890b37d-f01b-4576-931b-0a750318e8da', 'content-type': 'application/x-amz-json-1.1', 'content-length': '162', 'date': 'Fri, 16 Apr 2021 19:55:27 GMT'}, 'RetryAttempts': 0}}"
     ]
    }
   ],
   "source": [
    "test3=comprehend.detect_dominant_language(Text = text)\n",
    "test3"
   ]
  },
  {
   "cell_type": "code",
   "execution_count": 15,
   "metadata": {},
   "outputs": [
    {
     "data": {
      "application/vnd.jupyter.widget-view+json": {
       "model_id": "36081159d1d64d9d86a636cb566f9c1f",
       "version_major": 2,
       "version_minor": 0
      },
      "text/plain": [
       "VBox()"
      ]
     },
     "metadata": {},
     "output_type": "display_data"
    },
    {
     "data": {
      "application/vnd.jupyter.widget-view+json": {
       "model_id": "",
       "version_major": 2,
       "version_minor": 0
      },
      "text/plain": [
       "FloatProgress(value=0.0, bar_style='info', description='Progress:', layout=Layout(height='25px', width='50%'),…"
      ]
     },
     "metadata": {},
     "output_type": "display_data"
    },
    {
     "name": "stdout",
     "output_type": "stream",
     "text": [
      "0.5294792056083679"
     ]
    }
   ],
   "source": [
    "test3['Languages'][0]['Score']"
   ]
  },
  {
   "cell_type": "code",
   "execution_count": 19,
   "metadata": {},
   "outputs": [
    {
     "data": {
      "application/vnd.jupyter.widget-view+json": {
       "model_id": "afacdf22a723488cbd1f38b68489d319",
       "version_major": 2,
       "version_minor": 0
      },
      "text/plain": [
       "VBox()"
      ]
     },
     "metadata": {},
     "output_type": "display_data"
    },
    {
     "data": {
      "application/vnd.jupyter.widget-view+json": {
       "model_id": "",
       "version_major": 2,
       "version_minor": 0
      },
      "text/plain": [
       "FloatProgress(value=0.0, bar_style='info', description='Progress:', layout=Layout(height='25px', width='50%'),…"
      ]
     },
     "metadata": {},
     "output_type": "display_data"
    }
   ],
   "source": [
    "comprehend = boto3.client(service_name='comprehend', region_name='us-west-2')\n",
    "reviews['ALL_TEXT']=reviews['ALL_TEXT'].apply(str)\n",
    "reviews['COMPREHEND'] = reviews['ALL_TEXT'].apply(lambda x: comprehend.detect_dominant_language(Text=x))"
   ]
  },
  {
   "cell_type": "code",
   "execution_count": 20,
   "metadata": {},
   "outputs": [
    {
     "data": {
      "application/vnd.jupyter.widget-view+json": {
       "model_id": "4f218a10cdc843a983cadc86f23d3c53",
       "version_major": 2,
       "version_minor": 0
      },
      "text/plain": [
       "VBox()"
      ]
     },
     "metadata": {},
     "output_type": "display_data"
    },
    {
     "data": {
      "application/vnd.jupyter.widget-view+json": {
       "model_id": "",
       "version_major": 2,
       "version_minor": 0
      },
      "text/plain": [
       "FloatProgress(value=0.0, bar_style='info', description='Progress:', layout=Layout(height='25px', width='50%'),…"
      ]
     },
     "metadata": {},
     "output_type": "display_data"
    },
    {
     "name": "stdout",
     "output_type": "stream",
     "text": [
      "      UGC_ID               REVIEW_HEADLINE                REVIEW_COMMENTS  \\\n",
      "0  314684049  사이즈는 크게 사시오                   실 사이즈보다 작다\\n한치수 크게 사야함          \n",
      "1  264758873  Une idée du prix sans fixe ?  Une idée du prix sans fixes ?   \n",
      "\n",
      "  LANG  REVIEW_LENGTH  FL  \\\n",
      "0  en   21             1    \n",
      "1  en   29             1    \n",
      "\n",
      "                                                     ALL_TEXT  \\\n",
      "0  사이즈는 크게 사시오 실 사이즈보다 작다\\n한치수 크게 사야함                           \n",
      "1  Une idée du prix sans fixe ? Une idée du prix sans fixes ?   \n",
      "\n",
      "                                                                                                                                                                                                                                                                                                                                                                               COMPREHEND  \n",
      "0  {'Languages': [{'LanguageCode': 'ko', 'Score': 0.7575757503509521}], 'ResponseMetadata': {'RequestId': 'a4e8d59a-0e80-41a2-8269-065618be9b54', 'HTTPStatusCode': 200, 'HTTPHeaders': {'x-amzn-requestid': 'a4e8d59a-0e80-41a2-8269-065618be9b54', 'content-type': 'application/x-amz-json-1.1', 'content-length': '64', 'date': 'Fri, 16 Apr 2021 19:56:27 GMT'}, 'RetryAttempts': 0}}  \n",
      "1  {'Languages': [{'LanguageCode': 'fr', 'Score': 0.9990881681442261}], 'ResponseMetadata': {'RequestId': 'cc24f30e-b0a3-4d77-8e12-04eee6244218', 'HTTPStatusCode': 200, 'HTTPHeaders': {'x-amzn-requestid': 'cc24f30e-b0a3-4d77-8e12-04eee6244218', 'content-type': 'application/x-amz-json-1.1', 'content-length': '64', 'date': 'Fri, 16 Apr 2021 19:56:27 GMT'}, 'RetryAttempts': 0}}  \n",
      "<string>:1: FutureWarning: Passing a negative integer is deprecated in version 1.0 and will not be supported in future version. Instead, use None to not limit the column width."
     ]
    }
   ],
   "source": [
    "pd.set_option('display.max_colwidth', -1)\n",
    "pd.set_option('display.max_columns', None)\n",
    "pd.set_option('display.max_rows', None)\n",
    "\n",
    "reviews.head(25)"
   ]
  },
  {
   "cell_type": "code",
   "execution_count": 99,
   "metadata": {},
   "outputs": [
    {
     "data": {
      "application/vnd.jupyter.widget-view+json": {
       "model_id": "dad8a0883de948ecbc77c5b7cc55ff5a",
       "version_major": 2,
       "version_minor": 0
      },
      "text/plain": [
       "VBox()"
      ]
     },
     "metadata": {},
     "output_type": "display_data"
    },
    {
     "data": {
      "application/vnd.jupyter.widget-view+json": {
       "model_id": "",
       "version_major": 2,
       "version_minor": 0
      },
      "text/plain": [
       "FloatProgress(value=0.0, bar_style='info', description='Progress:', layout=Layout(height='25px', width='50%'),…"
      ]
     },
     "metadata": {},
     "output_type": "display_data"
    }
   ],
   "source": [
    "#reviews['PRED_LANG'] = reviews['COMPREHEND'].apply(lambda x: x[0])\n",
    "\n",
    "#feature3 = [d.get('Feature3') for d in df.dic]\n",
    "reviews['COMPREHEND2'] = [d.get('Languages') for d in reviews['COMPREHEND']]\n",
    "reviews['COMPREHEND3'] = reviews['COMPREHEND2'].str[0]\n",
    "reviews['PRED_LANG'] = [d.get('LanguageCode') for d in reviews['COMPREHEND3']]\n",
    "reviews['PROB'] = [d.get('Score') for d in reviews['COMPREHEND3']]"
   ]
  },
  {
   "cell_type": "code",
   "execution_count": 100,
   "metadata": {},
   "outputs": [
    {
     "data": {
      "application/vnd.jupyter.widget-view+json": {
       "model_id": "118d46d712de4897a94055a66584116f",
       "version_major": 2,
       "version_minor": 0
      },
      "text/plain": [
       "VBox()"
      ]
     },
     "metadata": {},
     "output_type": "display_data"
    },
    {
     "data": {
      "application/vnd.jupyter.widget-view+json": {
       "model_id": "",
       "version_major": 2,
       "version_minor": 0
      },
      "text/plain": [
       "FloatProgress(value=0.0, bar_style='info', description='Progress:', layout=Layout(height='25px', width='50%'),…"
      ]
     },
     "metadata": {},
     "output_type": "display_data"
    },
    {
     "name": "stdout",
     "output_type": "stream",
     "text": [
      "      UGC_ID               REVIEW_HEADLINE                REVIEW_COMMENTS  \\\n",
      "0  314684049  사이즈는 크게 사시오                   실 사이즈보다 작다\\n한치수 크게 사야함          \n",
      "1  264758873  Une idée du prix sans fixe ?  Une idée du prix sans fixes ?   \n",
      "\n",
      "  LANG  REVIEW_LENGTH  FL  \\\n",
      "0  en   21             1    \n",
      "1  en   29             1    \n",
      "\n",
      "                                                     ALL_TEXT  \\\n",
      "0  사이즈는 크게 사시오 실 사이즈보다 작다\\n한치수 크게 사야함                           \n",
      "1  Une idée du prix sans fixe ? Une idée du prix sans fixes ?   \n",
      "\n",
      "                                                                                                                                                                                                                                                                                                                                                                               COMPREHEND  \\\n",
      "0  {'Languages': [{'LanguageCode': 'ko', 'Score': 0.7575757503509521}], 'ResponseMetadata': {'RequestId': 'a4e8d59a-0e80-41a2-8269-065618be9b54', 'HTTPStatusCode': 200, 'HTTPHeaders': {'x-amzn-requestid': 'a4e8d59a-0e80-41a2-8269-065618be9b54', 'content-type': 'application/x-amz-json-1.1', 'content-length': '64', 'date': 'Fri, 16 Apr 2021 19:56:27 GMT'}, 'RetryAttempts': 0}}   \n",
      "1  {'Languages': [{'LanguageCode': 'fr', 'Score': 0.9990881681442261}], 'ResponseMetadata': {'RequestId': 'cc24f30e-b0a3-4d77-8e12-04eee6244218', 'HTTPStatusCode': 200, 'HTTPHeaders': {'x-amzn-requestid': 'cc24f30e-b0a3-4d77-8e12-04eee6244218', 'content-type': 'application/x-amz-json-1.1', 'content-length': '64', 'date': 'Fri, 16 Apr 2021 19:56:27 GMT'}, 'RetryAttempts': 0}}   \n",
      "\n",
      "  PRED_LANG                                           PRED_LANG2 test  \\\n",
      "0  ko        {'LanguageCode': 'ko', 'Score': 0.7575757503509521}  ko    \n",
      "1  fr        {'LanguageCode': 'fr', 'Score': 0.9990881681442261}  fr    \n",
      "\n",
      "                                             COMPREHEND2  \\\n",
      "0  [{'LanguageCode': 'ko', 'Score': 0.7575757503509521}]   \n",
      "1  [{'LanguageCode': 'fr', 'Score': 0.9990881681442261}]   \n",
      "\n",
      "                                           COMPREHEND3      PROB  \n",
      "0  {'LanguageCode': 'ko', 'Score': 0.7575757503509521}  0.757576  \n",
      "1  {'LanguageCode': 'fr', 'Score': 0.9990881681442261}  0.999088"
     ]
    }
   ],
   "source": [
    "reviews"
   ]
  },
  {
   "cell_type": "code",
   "execution_count": 48,
   "metadata": {},
   "outputs": [
    {
     "data": {
      "application/vnd.jupyter.widget-view+json": {
       "model_id": "0852a71374a94b1081c22a6efbaf9823",
       "version_major": 2,
       "version_minor": 0
      },
      "text/plain": [
       "VBox()"
      ]
     },
     "metadata": {},
     "output_type": "display_data"
    },
    {
     "data": {
      "application/vnd.jupyter.widget-view+json": {
       "model_id": "",
       "version_major": 2,
       "version_minor": 0
      },
      "text/plain": [
       "FloatProgress(value=0.0, bar_style='info', description='Progress:', layout=Layout(height='25px', width='50%'),…"
      ]
     },
     "metadata": {},
     "output_type": "display_data"
    }
   ],
   "source": [
    "reviews['model_FL'] = 0\n",
    "\n",
    "reviews.loc[reviews['LANG'] != reviews['PRED_LANG'] , 'model_FL'] = 1\n",
    "\n",
    "#Our setup may have accidentally used \"jp\" as well as \"ja\" for Japenese\n",
    "#\"ja\" is official code but mark \"jp\" as ok too\n",
    "reviews.loc[ (reviews['LANG']=='jp') & (reviews['PRED_LANG']=='ja') , 'model_FL'] = 0\n",
    "\n",
    "#'ca' is catalan which is close to spanish\n",
    "reviews.loc[ (reviews['LANG']=='es') & (reviews['PRED_LANG']=='ca') , 'model_FL'] = 0\n",
    "\n",
    "reviews.loc[ (reviews['LANG']=='zh') & (reviews['PRED_LANG']=='zh-CN') , 'model_FL'] = 0\n",
    "\n",
    "#reviews.loc[reviews['REVIEW_LENGTH'] < 40 , 'model_FL'] = 0\n",
    "\n",
    "#reviews.loc[ (reviews['LANG']=='en') & ((reviews['firstword_eng']==True) | (reviews['secondword_eng']==True)) , 'model_FL'] = 0\n",
    "\n",
    "#reviews.loc[reviews['PRED_LANG'] == 'UNKNOWN' , 'model_FL'] = 0\n",
    "\n",
    "#reviews.loc[reviews['PRED_LANG'] == 'af' , 'model_FL'] = 0"
   ]
  },
  {
   "cell_type": "code",
   "execution_count": 49,
   "metadata": {},
   "outputs": [
    {
     "data": {
      "application/vnd.jupyter.widget-view+json": {
       "model_id": "7aa5c85c192943f48dfe37af3580f910",
       "version_major": 2,
       "version_minor": 0
      },
      "text/plain": [
       "VBox()"
      ]
     },
     "metadata": {},
     "output_type": "display_data"
    },
    {
     "data": {
      "application/vnd.jupyter.widget-view+json": {
       "model_id": "",
       "version_major": 2,
       "version_minor": 0
      },
      "text/plain": [
       "FloatProgress(value=0.0, bar_style='info', description='Progress:', layout=Layout(height='25px', width='50%'),…"
      ]
     },
     "metadata": {},
     "output_type": "display_data"
    }
   ],
   "source": [
    "FP = reviews[(reviews['FL'] == 0) & (reviews['model_FL'] == 1)]\n",
    "FN = reviews[(reviews['FL'] == 1) & (reviews['model_FL'] == 0)]\n",
    "TP = reviews[(reviews['FL'] == 1) & (reviews['model_FL'] == 1)]\n",
    "TN = reviews[(reviews['FL'] == 0) & (reviews['model_FL'] == 0)]\n"
   ]
  },
  {
   "cell_type": "code",
   "execution_count": 50,
   "metadata": {},
   "outputs": [
    {
     "data": {
      "application/vnd.jupyter.widget-view+json": {
       "model_id": "39405bc44f004cc0962f8156fa2e41f1",
       "version_major": 2,
       "version_minor": 0
      },
      "text/plain": [
       "VBox()"
      ]
     },
     "metadata": {},
     "output_type": "display_data"
    },
    {
     "data": {
      "application/vnd.jupyter.widget-view+json": {
       "model_id": "",
       "version_major": 2,
       "version_minor": 0
      },
      "text/plain": [
       "FloatProgress(value=0.0, bar_style='info', description='Progress:', layout=Layout(height='25px', width='50%'),…"
      ]
     },
     "metadata": {},
     "output_type": "display_data"
    },
    {
     "name": "stdout",
     "output_type": "stream",
     "text": [
      "0"
     ]
    }
   ],
   "source": [
    "\n",
    "FP['UGC_ID'].count()"
   ]
  },
  {
   "cell_type": "code",
   "execution_count": 51,
   "metadata": {},
   "outputs": [
    {
     "data": {
      "application/vnd.jupyter.widget-view+json": {
       "model_id": "89d595a3564e45d9a7666a3a1348b2a5",
       "version_major": 2,
       "version_minor": 0
      },
      "text/plain": [
       "VBox()"
      ]
     },
     "metadata": {},
     "output_type": "display_data"
    },
    {
     "data": {
      "application/vnd.jupyter.widget-view+json": {
       "model_id": "",
       "version_major": 2,
       "version_minor": 0
      },
      "text/plain": [
       "FloatProgress(value=0.0, bar_style='info', description='Progress:', layout=Layout(height='25px', width='50%'),…"
      ]
     },
     "metadata": {},
     "output_type": "display_data"
    },
    {
     "name": "stdout",
     "output_type": "stream",
     "text": [
      "93"
     ]
    }
   ],
   "source": [
    "\n",
    "FN['UGC_ID'].count()"
   ]
  },
  {
   "cell_type": "code",
   "execution_count": 52,
   "metadata": {},
   "outputs": [
    {
     "data": {
      "application/vnd.jupyter.widget-view+json": {
       "model_id": "db3ddbe1edf0489bb9f095e87f9da332",
       "version_major": 2,
       "version_minor": 0
      },
      "text/plain": [
       "VBox()"
      ]
     },
     "metadata": {},
     "output_type": "display_data"
    },
    {
     "data": {
      "application/vnd.jupyter.widget-view+json": {
       "model_id": "",
       "version_major": 2,
       "version_minor": 0
      },
      "text/plain": [
       "FloatProgress(value=0.0, bar_style='info', description='Progress:', layout=Layout(height='25px', width='50%'),…"
      ]
     },
     "metadata": {},
     "output_type": "display_data"
    },
    {
     "name": "stdout",
     "output_type": "stream",
     "text": [
      "907"
     ]
    }
   ],
   "source": [
    "\n",
    "TP['UGC_ID'].count()"
   ]
  },
  {
   "cell_type": "code",
   "execution_count": 53,
   "metadata": {},
   "outputs": [
    {
     "data": {
      "application/vnd.jupyter.widget-view+json": {
       "model_id": "362213d200934ce4bdfca907dbc2a4a2",
       "version_major": 2,
       "version_minor": 0
      },
      "text/plain": [
       "VBox()"
      ]
     },
     "metadata": {},
     "output_type": "display_data"
    },
    {
     "data": {
      "application/vnd.jupyter.widget-view+json": {
       "model_id": "",
       "version_major": 2,
       "version_minor": 0
      },
      "text/plain": [
       "FloatProgress(value=0.0, bar_style='info', description='Progress:', layout=Layout(height='25px', width='50%'),…"
      ]
     },
     "metadata": {},
     "output_type": "display_data"
    },
    {
     "name": "stdout",
     "output_type": "stream",
     "text": [
      "0"
     ]
    }
   ],
   "source": [
    "TN['UGC_ID'].count()"
   ]
  },
  {
   "cell_type": "code",
   "execution_count": 54,
   "metadata": {},
   "outputs": [
    {
     "data": {
      "application/vnd.jupyter.widget-view+json": {
       "model_id": "42f4f7b7c91548658f02bded544b9b89",
       "version_major": 2,
       "version_minor": 0
      },
      "text/plain": [
       "VBox()"
      ]
     },
     "metadata": {},
     "output_type": "display_data"
    },
    {
     "data": {
      "application/vnd.jupyter.widget-view+json": {
       "model_id": "",
       "version_major": 2,
       "version_minor": 0
      },
      "text/plain": [
       "FloatProgress(value=0.0, bar_style='info', description='Progress:', layout=Layout(height='25px', width='50%'),…"
      ]
     },
     "metadata": {},
     "output_type": "display_data"
    },
    {
     "name": "stdout",
     "output_type": "stream",
     "text": [
      "        UGC_ID                                              REVIEW_HEADLINE  \\\n",
      "12   293203743  Very comfortable and muy buen choes..💯❤                       \n",
      "14   307566627  Yes                                                           \n",
      "17   275365325  ممتاز انصح به                                                 \n",
      "25   312085548  Excelente!                                                    \n",
      "30   312205024  Yes                                                           \n",
      "31   314245602  I would buy this product again and again                      \n",
      "32   283954418  si                                                            \n",
      "59   284531360  www.dillards.com  1-800-DILLARD (800-345-5273)  Love it, Ha   \n",
      "62   324847043  Yes                                                           \n",
      "63   325854683  Hecho in China                                                \n",
      "67   274098105  No                                                            \n",
      "71   276243457  I would buy this product again and again                      \n",
      "81   320590378  Yes                                                           \n",
      "82   281926066  I recommend                                                   \n",
      "93   302155066  Bad quality so bad                                            \n",
      "94   331223534  1                                                             \n",
      "98   285319040  I would boy this product again                                \n",
      "103  285142265  Excelente                                                     \n",
      "104  285505068  yes                                                           \n",
      "140  321322615  Yes                                                           \n",
      "160  301552122  Yes                                                           \n",
      "175  329741801  Regular                                                       \n",
      "207  307955553  I would buy this product again                                \n",
      "209  276941338  Very nice                                                     \n",
      "218  301852992  Yes                                                           \n",
      "220  273219349  Yes                                                           \n",
      "222  298144880  💯                                                             \n",
      "246  282632177  Yes                                                           \n",
      "250  322201105  Excelente                                                     \n",
      "252  278279889  Bayaband Seasonal Printed Clog                                \n",
      "277  308406012  Yea                                                           \n",
      "286  274122974  I need recolector de grase and ignition                       \n",
      "297  326254643  Me encanto el producto                                        \n",
      "308  278885666  Yes                                                           \n",
      "350  322037531  #sweepstakes                                                  \n",
      "370  284010510  Yes                                                           \n",
      "398  280491403  yes                                                           \n",
      "410  281884342  Yes                                                           \n",
      "419  339023183  Yes                                                           \n",
      "434  332466490  Aprendi a meditar                                             \n",
      "438  302293330  Overall good credit card                                      \n",
      "439  307269910  Costco costumer satisfaction 75%                              \n",
      "457  325553854  muy rapido                                                    \n",
      "469  276376674  Viva BBQ Guys!                                                \n",
      "473  284622188  Excelente                                                     \n",
      "474  312220329  Calificacion - 1604290269900                                  \n",
      "476  298418406  Excelente                                                     \n",
      "487  330598691  Je vais en acheter un autre                                   \n",
      "501  331017267  Je recommande cette article                                   \n",
      "511  270172079  Beautiful producto                                            \n",
      "528  274141324  Yes I loved                                                   \n",
      "539  281999405  Και χαρα                                                      \n",
      "558  321375524  Yes                                                           \n",
      "565  325564405  Perfecto igual que descripcion                                \n",
      "577  277677608  Yes                                                           \n",
      "579  281889846  I love                                                        \n",
      "584  335615069  No Bueno                                                      \n",
      "585  320650739  no bueno                                                      \n",
      "595  277837995  Yes                                                           \n",
      "611  318528651  Bom                                                           \n",
      "614  308926621  Yes I edil buy again.                                         \n",
      "616  339807638  Amet soluta ut dese                                           \n",
      "630  295882911  بصراحة بايخ                                                   \n",
      "640  301641958  Taste good                                                    \n",
      "641  281415029  Nice                                                          \n",
      "646  285545437  Yes                                                           \n",
      "647  297302066  Yes                                                           \n",
      "672  275631243  Yes                                                           \n",
      "677  329758262  Je ne les ai pas reçus                                        \n",
      "680  276112250  Bekir                                                         \n",
      "698  292531615  Muy bien                                                      \n",
      "700  274064915  Yes                                                           \n",
      "725  284055131  NEVER SEND MY PURCHASE  PINCHES RATAS!                        \n",
      "732  274332474  Exelente                                                      \n",
      "754  274498607  Yes                                                           \n",
      "761  273219095  Yes                                                           \n",
      "764  273219331  Yes                                                           \n",
      "788  282613964  Yes                                                           \n",
      "791  325411121  A utiliser régulièrement                                      \n",
      "792  278276125  Yes                                                           \n",
      "795  280565843  Exelente                                                      \n",
      "804  275403189  Eggo homestyle walffles                                       \n",
      "825  333769768  Yes                                                           \n",
      "834  307092670  Yes                                                           \n",
      "844  284643702  会再次购买                                                         \n",
      "850  284368893  yes                                                           \n",
      "874  280929291  LOS AMO CON LOCURA                                            \n",
      "880  335117939  excellent choix pour une bar de sons                          \n",
      "892  324591168  Yes                                                           \n",
      "929  276603192  i buy again                                                   \n",
      "932  329402725  다른 색상 재구매의사있어요.                                               \n",
      "964  281930287  yes                                                           \n",
      "978  326816582  Excelente                                                     \n",
      "\n",
      "                   REVIEW_COMMENTS LANG  REVIEW_LENGTH  FL  \\\n",
      "12   very bueno....!!!💯             en   18             1    \n",
      "14   Me encanto esta fragancia      en   25             1    \n",
      "17   ممتاز جدا انصح به              en   17             1    \n",
      "25   Excelente producto !           en   20             1    \n",
      "30   Bueno                          en   5              1    \n",
      "31   Excelente compra               en   16             1    \n",
      "32   perfet                         en   6              1    \n",
      "59   Me encanto                     en   10             1    \n",
      "62   Muy practica                   en   12             1    \n",
      "63   Made in China                  en   13             1    \n",
      "67   Tratable!                      en   9              1    \n",
      "71   عطر جميل جدا                   en   12             1    \n",
      "81   Exelente                       en   8              1    \n",
      "82   Funciona bien \\nWorks fine     en   25             1    \n",
      "93   This product very bad quality  en   29             1    \n",
      "94   Excelente                      en   9              1    \n",
      "98   Excelente                      en   9              1    \n",
      "103  Excelente                      en   9              1    \n",
      "104  Muy bueno                      en   9              1    \n",
      "140  Excelente                      en   9              1    \n",
      "160  Excelente                      en   9              1    \n",
      "175  La junta No good               en   16             1    \n",
      "207  Muy bonito va con todo         en   22             1    \n",
      "209  Bellos                         en   6              1    \n",
      "218  Bellas                         en   6              1    \n",
      "220  Hermosos                       en   8              1    \n",
      "222  Excelente                      en   9              1    \n",
      "246  Hermoso                        en   7              1    \n",
      "250  Excelente                      en   9              1    \n",
      "252  穿起来很舒服                         en   6              1    \n",
      "277  Excelente calidad              en   17             1    \n",
      "286  Manual ensanbling              en   17             1    \n",
      "297  La beautiful                   en   12             1    \n",
      "308  Excelente producto             en   18             1    \n",
      "350  Excelente                      en   9              1    \n",
      "370  Excelente                      en   9              1    \n",
      "398  lie it si much                 en   14             1    \n",
      "410  Linda                          en   5              1    \n",
      "419  Son muy comodos                en   15             1    \n",
      "434  wonderfully gifted writer      en   25             1    \n",
      "438  Overall good credit card       en   24             1    \n",
      "439  I dont need more 1 card        en   23             1    \n",
      "457  muy rapido                     en   10             1    \n",
      "469  Viva BBQ Guys!                 en   14             1    \n",
      "473  Excelente                      en   9              1    \n",
      "474  GOOOOOOOOOOOD                  es   13             1    \n",
      "476  Excelente                      en   9              1    \n",
      "487  Perfect fit                    fr   11             1    \n",
      "501  Een must have                  fr   13             1    \n",
      "511  Excelente                      en   9              1    \n",
      "528  Me encanto.para mi  hijo.      en   25             1    \n",
      "539  Sata optical drive             el   18             1    \n",
      "558  Отлично                        en   7              1    \n",
      "565  Me encanta                     es   10             1    \n",
      "577  Buenas media size perfecto     en   26             1    \n",
      "579  Es bellisima                   en   12             1    \n",
      "584  Didn't like it.  Returning it  en   29             1    \n",
      "585  horrible                       en   8              1    \n",
      "595  Están bellos                   en   12             1    \n",
      "611  Bom                            en   3              1    \n",
      "614  Muy bueno.                     en   10             1    \n",
      "616  Omnis quo sit offic            en   19             1    \n",
      "630  Not that much                  en   13             1    \n",
      "640  Le goût est bon!               fr   16             1    \n",
      "641  Nuce                           en   4              1    \n",
      "646  Todo bien                      en   9              1    \n",
      "647  Para mi Jeep Wrangler 2010     en   26             1    \n",
      "672  Me gusto                       en   8              1    \n",
      "677  Je ne les ai pas reçus         fr   22             1    \n",
      "680  Order                          en   5              1    \n",
      "698  The product are great          en   21             1    \n",
      "700  Muy bueno                      en   9              1    \n",
      "725  NUNCA RECIBI EL PRODUCTO       en   24             1    \n",
      "732  Exelente                       en   8              1    \n",
      "754  Me fasina                      en   9              1    \n",
      "761  Hermoso                        en   7              1    \n",
      "764  Hermoso                        en   7              1    \n",
      "788  Muy buena fragancia            en   19             1    \n",
      "791  Très bon produit               fr   16             1    \n",
      "792  Excelente producto!            en   19             1    \n",
      "795  Muy buena                      en   9              1    \n",
      "804  Excelente  Porducto            en   19             1    \n",
      "825  Muy bien                       en   8              1    \n",
      "834  Excelente Tela muy fresca      en   25             1    \n",
      "844  good                           en   4              1    \n",
      "850  Elegancia                      en   9              1    \n",
      "874  IS THE BEST I LOVE IT          en   21             1    \n",
      "880  Excellent                      fr   9              1    \n",
      "892  Muy bien                       en   8              1    \n",
      "929  tang ina                       en   8              1    \n",
      "932  It's neat and pretty.          en   21             1    \n",
      "964  muy buena                      en   9              1    \n",
      "978  Excelent                       en   8              1    \n",
      "\n",
      "                                                                   ALL_TEXT  \\\n",
      "12   Very comfortable and muy buen choes..💯❤ very bueno....!!!💯               \n",
      "14   Yes Me encanto esta fragancia                                            \n",
      "17   ممتاز انصح به ممتاز جدا انصح به                                          \n",
      "25   Excelente! Excelente producto !                                          \n",
      "30   Yes Bueno                                                                \n",
      "31   I would buy this product again and again Excelente compra                \n",
      "32   si perfet                                                                \n",
      "59   www.dillards.com  1-800-DILLARD (800-345-5273)  Love it, Ha Me encanto   \n",
      "62   Yes Muy practica                                                         \n",
      "63   Hecho in China Made in China                                             \n",
      "67   No Tratable!                                                             \n",
      "71   I would buy this product again and again عطر جميل جدا                    \n",
      "81   Yes Exelente                                                             \n",
      "82   I recommend Funciona bien \\nWorks fine                                   \n",
      "93   Bad quality so bad This product very bad quality                         \n",
      "94   1 Excelente                                                              \n",
      "98   I would boy this product again Excelente                                 \n",
      "103  Excelente Excelente                                                      \n",
      "104  yes Muy bueno                                                            \n",
      "140  Yes Excelente                                                            \n",
      "160  Yes Excelente                                                            \n",
      "175  Regular La junta No good                                                 \n",
      "207  I would buy this product again Muy bonito va con todo                    \n",
      "209  Very nice Bellos                                                         \n",
      "218  Yes Bellas                                                               \n",
      "220  Yes Hermosos                                                             \n",
      "222  💯 Excelente                                                              \n",
      "246  Yes Hermoso                                                              \n",
      "250  Excelente Excelente                                                      \n",
      "252  Bayaband Seasonal Printed Clog 穿起来很舒服                                    \n",
      "277  Yea Excelente calidad                                                    \n",
      "286  I need recolector de grase and ignition Manual ensanbling                \n",
      "297  Me encanto el producto La beautiful                                      \n",
      "308  Yes Excelente producto                                                   \n",
      "350  #sweepstakes Excelente                                                   \n",
      "370  Yes Excelente                                                            \n",
      "398  yes lie it si much                                                       \n",
      "410  Yes Linda                                                                \n",
      "419  Yes Son muy comodos                                                      \n",
      "434  Aprendi a meditar wonderfully gifted writer                              \n",
      "438  Overall good credit card Overall good credit card                        \n",
      "439  Costco costumer satisfaction 75% I dont need more 1 card                 \n",
      "457  muy rapido muy rapido                                                    \n",
      "469  Viva BBQ Guys! Viva BBQ Guys!                                            \n",
      "473  Excelente Excelente                                                      \n",
      "474  Calificacion - 1604290269900 GOOOOOOOOOOOD                               \n",
      "476  Excelente Excelente                                                      \n",
      "487  Je vais en acheter un autre Perfect fit                                  \n",
      "501  Je recommande cette article Een must have                                \n",
      "511  Beautiful producto Excelente                                             \n",
      "528  Yes I loved Me encanto.para mi  hijo.                                    \n",
      "539  Και χαρα Sata optical drive                                              \n",
      "558  Yes Отлично                                                              \n",
      "565  Perfecto igual que descripcion Me encanta                                \n",
      "577  Yes Buenas media size perfecto                                           \n",
      "579  I love Es bellisima                                                      \n",
      "584  No Bueno Didn't like it.  Returning it                                   \n",
      "585  no bueno horrible                                                        \n",
      "595  Yes Están bellos                                                         \n",
      "611  Bom Bom                                                                  \n",
      "614  Yes I edil buy again. Muy bueno.                                         \n",
      "616  Amet soluta ut dese Omnis quo sit offic                                  \n",
      "630  بصراحة بايخ Not that much                                                \n",
      "640  Taste good Le goût est bon!                                              \n",
      "641  Nice Nuce                                                                \n",
      "646  Yes Todo bien                                                            \n",
      "647  Yes Para mi Jeep Wrangler 2010                                           \n",
      "672  Yes Me gusto                                                             \n",
      "677  Je ne les ai pas reçus Je ne les ai pas reçus                            \n",
      "680  Bekir Order                                                              \n",
      "698  Muy bien The product are great                                           \n",
      "700  Yes Muy bueno                                                            \n",
      "725  NEVER SEND MY PURCHASE  PINCHES RATAS! NUNCA RECIBI EL PRODUCTO          \n",
      "732  Exelente Exelente                                                        \n",
      "754  Yes Me fasina                                                            \n",
      "761  Yes Hermoso                                                              \n",
      "764  Yes Hermoso                                                              \n",
      "788  Yes Muy buena fragancia                                                  \n",
      "791  A utiliser régulièrement Très bon produit                                \n",
      "792  Yes Excelente producto!                                                  \n",
      "795  Exelente Muy buena                                                       \n",
      "804  Eggo homestyle walffles Excelente  Porducto                              \n",
      "825  Yes Muy bien                                                             \n",
      "834  Yes Excelente Tela muy fresca                                            \n",
      "844  会再次购买 good                                                               \n",
      "850  yes Elegancia                                                            \n",
      "874  LOS AMO CON LOCURA IS THE BEST I LOVE IT                                 \n",
      "880  excellent choix pour une bar de sons Excellent                           \n",
      "892  Yes Muy bien                                                             \n",
      "929  i buy again tang ina                                                     \n",
      "932  다른 색상 재구매의사있어요. It's neat and pretty.                                    \n",
      "964  yes muy buena                                                            \n",
      "978  Excelente Excelent                                                       \n",
      "\n",
      "    PRED_LANG  model_FL  \n",
      "12   en        0         \n",
      "14   en        0         \n",
      "17   en        0         \n",
      "25   en        0         \n",
      "30   en        0         \n",
      "31   en        0         \n",
      "32   en        0         \n",
      "59   en        0         \n",
      "62   en        0         \n",
      "63   en        0         \n",
      "67   en        0         \n",
      "71   en        0         \n",
      "81   en        0         \n",
      "82   en        0         \n",
      "93   en        0         \n",
      "94   en        0         \n",
      "98   en        0         \n",
      "103  en        0         \n",
      "104  en        0         \n",
      "140  en        0         \n",
      "160  en        0         \n",
      "175  en        0         \n",
      "207  en        0         \n",
      "209  en        0         \n",
      "218  en        0         \n",
      "220  en        0         \n",
      "222  en        0         \n",
      "246  en        0         \n",
      "250  en        0         \n",
      "252  en        0         \n",
      "277  en        0         \n",
      "286  en        0         \n",
      "297  en        0         \n",
      "308  en        0         \n",
      "350  en        0         \n",
      "370  en        0         \n",
      "398  en        0         \n",
      "410  en        0         \n",
      "419  en        0         \n",
      "434  en        0         \n",
      "438  en        0         \n",
      "439  en        0         \n",
      "457  en        0         \n",
      "469  en        0         \n",
      "473  en        0         \n",
      "474  es        0         \n",
      "476  en        0         \n",
      "487  fr        0         \n",
      "501  fr        0         \n",
      "511  en        0         \n",
      "528  en        0         \n",
      "539  el        0         \n",
      "558  en        0         \n",
      "565  es        0         \n",
      "577  en        0         \n",
      "579  en        0         \n",
      "584  en        0         \n",
      "585  en        0         \n",
      "595  en        0         \n",
      "611  en        0         \n",
      "614  en        0         \n",
      "616  en        0         \n",
      "630  en        0         \n",
      "640  fr        0         \n",
      "641  en        0         \n",
      "646  en        0         \n",
      "647  en        0         \n",
      "672  en        0         \n",
      "677  fr        0         \n",
      "680  en        0         \n",
      "698  en        0         \n",
      "700  en        0         \n",
      "725  en        0         \n",
      "732  en        0         \n",
      "754  en        0         \n",
      "761  en        0         \n",
      "764  en        0         \n",
      "788  en        0         \n",
      "791  fr        0         \n",
      "792  en        0         \n",
      "795  en        0         \n",
      "804  en        0         \n",
      "825  en        0         \n",
      "834  en        0         \n",
      "844  en        0         \n",
      "850  en        0         \n",
      "874  en        0         \n",
      "880  fr        0         \n",
      "892  en        0         \n",
      "929  en        0         \n",
      "932  en        0         \n",
      "964  en        0         \n",
      "978  en        0"
     ]
    }
   ],
   "source": [
    "FN.head(100)"
   ]
  },
  {
   "cell_type": "code",
   "execution_count": null,
   "metadata": {},
   "outputs": [],
   "source": []
  },
  {
   "cell_type": "code",
   "execution_count": 67,
   "metadata": {},
   "outputs": [
    {
     "data": {
      "application/vnd.jupyter.widget-view+json": {
       "model_id": "ce6d682c6f114fd19ad0f1aaf96701c8",
       "version_major": 2,
       "version_minor": 0
      },
      "text/plain": [
       "VBox()"
      ]
     },
     "metadata": {},
     "output_type": "display_data"
    },
    {
     "data": {
      "application/vnd.jupyter.widget-view+json": {
       "model_id": "",
       "version_major": 2,
       "version_minor": 0
      },
      "text/plain": [
       "FloatProgress(value=0.0, bar_style='info', description='Progress:', layout=Layout(height='25px', width='50%'),…"
      ]
     },
     "metadata": {},
     "output_type": "display_data"
    },
    {
     "name": "stderr",
     "output_type": "stream",
     "text": [
      "429 (Too Many Requests) from TTS API. Probable cause: Unknown\n",
      "Traceback (most recent call last):\n",
      "  File \"/usr/local/lib64/python3.7/site-packages/pandas/core/series.py\", line 4138, in apply\n",
      "    mapped = lib.map_infer(values, f, convert=convert_dtype)\n",
      "  File \"pandas/_libs/lib.pyx\", line 2467, in pandas._libs.lib.map_infer\n",
      "  File \"<stdin>\", line 4, in <lambda>\n",
      "  File \"/usr/local/lib/python3.7/site-packages/google_trans_new/google_trans_new.py\", line 247, in detect\n",
      "    raise google_new_transError(tts=self, response=r)\n",
      "google_trans_new.google_trans_new.google_new_transError: 429 (Too Many Requests) from TTS API. Probable cause: Unknown\n",
      "\n"
     ]
    }
   ],
   "source": [
    "#Compare to google trans\n",
    "from google_trans_new import google_translator  \n",
    "\n",
    "reviews['PRED_LANG_GOOG'] = reviews['ALL_TEXT'].apply(lambda x: google_translator().detect(x)[0])"
   ]
  },
  {
   "cell_type": "code",
   "execution_count": null,
   "metadata": {},
   "outputs": [],
   "source": [
    "reviews.head()"
   ]
  },
  {
   "cell_type": "code",
   "execution_count": 27,
   "metadata": {},
   "outputs": [
    {
     "data": {
      "application/vnd.jupyter.widget-view+json": {
       "model_id": "e59eccddc1b548fe9a6b80e049d5e07f",
       "version_major": 2,
       "version_minor": 0
      },
      "text/plain": [
       "VBox()"
      ]
     },
     "metadata": {},
     "output_type": "display_data"
    },
    {
     "data": {
      "application/vnd.jupyter.widget-view+json": {
       "model_id": "",
       "version_major": 2,
       "version_minor": 0
      },
      "text/plain": [
       "FloatProgress(value=0.0, bar_style='info', description='Progress:', layout=Layout(height='25px', width='50%'),…"
      ]
     },
     "metadata": {},
     "output_type": "display_data"
    }
   ],
   "source": [
    "reviews['model_FL_GOOG'] = 0\n",
    "\n",
    "reviews.loc[reviews['LANG'] != reviews['PRED_LANG'] , 'model_FL_GOOG'] = 1\n",
    "\n",
    "#Our setup may have accidentally used \"jp\" as well as \"ja\" for Japenese\n",
    "#\"ja\" is official code but mark \"jp\" as ok too\n",
    "reviews.loc[ (reviews['LANG']=='jp') & (reviews['PRED_LANG']=='ja') , 'model_FL_GOOG'] = 0\n",
    "\n",
    "#'ca' is catalan which is close to spanish\n",
    "reviews.loc[ (reviews['LANG']=='es') & (reviews['PRED_LANG']=='ca') , 'model_FL_GOOG'] = 0\n",
    "\n",
    "reviews.loc[ (reviews['LANG']=='zh') & (reviews['PRED_LANG']=='zh-CN') , 'model_FL_GOOG'] = 0"
   ]
  },
  {
   "cell_type": "code",
   "execution_count": 55,
   "metadata": {},
   "outputs": [
    {
     "data": {
      "application/vnd.jupyter.widget-view+json": {
       "model_id": "58541f7a86a8421fb91bec9375297bc2",
       "version_major": 2,
       "version_minor": 0
      },
      "text/plain": [
       "VBox()"
      ]
     },
     "metadata": {},
     "output_type": "display_data"
    },
    {
     "data": {
      "application/vnd.jupyter.widget-view+json": {
       "model_id": "",
       "version_major": 2,
       "version_minor": 0
      },
      "text/plain": [
       "FloatProgress(value=0.0, bar_style='info', description='Progress:', layout=Layout(height='25px', width='50%'),…"
      ]
     },
     "metadata": {},
     "output_type": "display_data"
    },
    {
     "name": "stdout",
     "output_type": "stream",
     "text": [
      "      UGC_ID                                          REVIEW_HEADLINE  \\\n",
      "0  312249489  Si                                                        \n",
      "1  340236839  Atención al cliente excelente                             \n",
      "2  318873458  이게..뭐랄까....                                               \n",
      "3  311820670  Esta bici esta dlv no sirve para atropellar embarazadas   \n",
      "4  274919545  いい感じ                                                      \n",
      "\n",
      "                REVIEW_COMMENTS LANG  REVIEW_LENGTH  FL  \\\n",
      "0  El micrófono es espectacular  en   28             1    \n",
      "1  Buena calidad y durabilidad   en   27             1    \n",
      "2  전에 벤지탈때쓰던 클립온바가 훨 편하다는게 함정    en   26             1    \n",
      "3  Vale vrg la bici              en   16             1    \n",
      "4  650B　本所フェンダー取付　最強です           en   19             1    \n",
      "\n",
      "                                                                   ALL_TEXT  \\\n",
      "0  Si El micrófono es espectacular                                            \n",
      "1  Atención al cliente excelente Buena calidad y durabilidad                  \n",
      "2  이게..뭐랄까.... 전에 벤지탈때쓰던 클립온바가 훨 편하다는게 함정                                     \n",
      "3  Esta bici esta dlv no sirve para atropellar embarazadas Vale vrg la bici   \n",
      "4  いい感じ 650B　本所フェンダー取付　最強です                                                   \n",
      "\n",
      "  PRED_LANG  model_FL  \n",
      "0  es        1         \n",
      "1  es        1         \n",
      "2  ko        1         \n",
      "3  es        1         \n",
      "4  ja        1"
     ]
    }
   ],
   "source": [
    "reviews.head()"
   ]
  },
  {
   "cell_type": "code",
   "execution_count": 32,
   "metadata": {},
   "outputs": [
    {
     "data": {
      "application/vnd.jupyter.widget-view+json": {
       "model_id": "7a514f30e5884133af0e1517ee037220",
       "version_major": 2,
       "version_minor": 0
      },
      "text/plain": [
       "VBox()"
      ]
     },
     "metadata": {},
     "output_type": "display_data"
    },
    {
     "data": {
      "application/vnd.jupyter.widget-view+json": {
       "model_id": "",
       "version_major": 2,
       "version_minor": 0
      },
      "text/plain": [
       "FloatProgress(value=0.0, bar_style='info', description='Progress:', layout=Layout(height='25px', width='50%'),…"
      ]
     },
     "metadata": {},
     "output_type": "display_data"
    }
   ],
   "source": [
    "reviews = reviews.drop(['model_FL_GOOG'], axis =1 )"
   ]
  },
  {
   "cell_type": "code",
   "execution_count": null,
   "metadata": {},
   "outputs": [],
   "source": []
  },
  {
   "cell_type": "code",
   "execution_count": null,
   "metadata": {},
   "outputs": [],
   "source": []
  },
  {
   "cell_type": "code",
   "execution_count": null,
   "metadata": {},
   "outputs": [],
   "source": []
  },
  {
   "cell_type": "code",
   "execution_count": 56,
   "metadata": {},
   "outputs": [
    {
     "data": {
      "application/vnd.jupyter.widget-view+json": {
       "model_id": "20a48ea6917749f08d88eebc9e0f3376",
       "version_major": 2,
       "version_minor": 0
      },
      "text/plain": [
       "VBox()"
      ]
     },
     "metadata": {},
     "output_type": "display_data"
    },
    {
     "data": {
      "application/vnd.jupyter.widget-view+json": {
       "model_id": "",
       "version_major": 2,
       "version_minor": 0
      },
      "text/plain": [
       "FloatProgress(value=0.0, bar_style='info', description='Progress:', layout=Layout(height='25px', width='50%'),…"
      ]
     },
     "metadata": {},
     "output_type": "display_data"
    }
   ],
   "source": [
    "from pyspark.sql.types import *\n",
    "\n",
    "mySchema = StructType([StructField(\"UGC_ID\", StringType(), True)\\\n",
    ",StructField(\"REVIEW_HEADLINE\", StringType(), True)\\\n",
    ",StructField(\"REVIEW_COMMENTS\", StringType(), True)\\\n",
    ",StructField(\"LANG\", StringType(), True)\\\n",
    ",StructField(\"REVIEW_LENGTH\", StringType(), True)\\\n",
    ",StructField(\"FL\", IntegerType(), True)\\\n",
    ",StructField(\"ALL_TEXT\", StringType(), True)\\\n",
    ",StructField(\"PRED_LANG\", StringType(), True)\\\n",
    ",StructField(\"model_FL\", IntegerType(), True)])\n",
    "\n"
   ]
  },
  {
   "cell_type": "code",
   "execution_count": null,
   "metadata": {},
   "outputs": [],
   "source": []
  },
  {
   "cell_type": "code",
   "execution_count": 57,
   "metadata": {},
   "outputs": [
    {
     "data": {
      "application/vnd.jupyter.widget-view+json": {
       "model_id": "29ba8beadbc24fe493fbd12cf96d1ab5",
       "version_major": 2,
       "version_minor": 0
      },
      "text/plain": [
       "VBox()"
      ]
     },
     "metadata": {},
     "output_type": "display_data"
    },
    {
     "data": {
      "application/vnd.jupyter.widget-view+json": {
       "model_id": "",
       "version_major": 2,
       "version_minor": 0
      },
      "text/plain": [
       "FloatProgress(value=0.0, bar_style='info', description='Progress:', layout=Layout(height='25px', width='50%'),…"
      ]
     },
     "metadata": {},
     "output_type": "display_data"
    }
   ],
   "source": [
    "SNOWFLAKE_SOURCE_NAME = \"net.snowflake.spark.snowflake\"\n",
    "\n",
    "sfOptions = {\n",
    "  'sfURL' : 'powerreviews.snowflakecomputing.com',\n",
    "  'sfAccount' : 'powerreviews',\n",
    "  'sfUser' : username,\n",
    "  'sfPassword' : password,\n",
    "  'sfDatabase' : 'ANALYTICS_WORKSHOP',\n",
    "  'sfSchema' : 'DATA_SCIENCE',\n",
    "  'sfWarehouse' : 'LOWER_ENV_WAREHOUSE'\n",
    "}"
   ]
  },
  {
   "cell_type": "code",
   "execution_count": 58,
   "metadata": {},
   "outputs": [
    {
     "data": {
      "application/vnd.jupyter.widget-view+json": {
       "model_id": "98f7a4e863b74710b5f1ced474c32252",
       "version_major": 2,
       "version_minor": 0
      },
      "text/plain": [
       "VBox()"
      ]
     },
     "metadata": {},
     "output_type": "display_data"
    },
    {
     "data": {
      "application/vnd.jupyter.widget-view+json": {
       "model_id": "",
       "version_major": 2,
       "version_minor": 0
      },
      "text/plain": [
       "FloatProgress(value=0.0, bar_style='info', description='Progress:', layout=Layout(height='25px', width='50%'),…"
      ]
     },
     "metadata": {},
     "output_type": "display_data"
    }
   ],
   "source": [
    "#Turn into spark dataframe in order to write to Snowflake\n",
    "#Couldn't get write_pandas() to work to write directly from pandas to Snowflake\n",
    "reviews = spark.createDataFrame(reviews, schema=mySchema)"
   ]
  },
  {
   "cell_type": "code",
   "execution_count": 59,
   "metadata": {},
   "outputs": [
    {
     "data": {
      "application/vnd.jupyter.widget-view+json": {
       "model_id": "07c02812525346f9aacd0037fd1d99ab",
       "version_major": 2,
       "version_minor": 0
      },
      "text/plain": [
       "VBox()"
      ]
     },
     "metadata": {},
     "output_type": "display_data"
    },
    {
     "data": {
      "application/vnd.jupyter.widget-view+json": {
       "model_id": "",
       "version_major": 2,
       "version_minor": 0
      },
      "text/plain": [
       "FloatProgress(value=0.0, bar_style='info', description='Progress:', layout=Layout(height='25px', width='50%'),…"
      ]
     },
     "metadata": {},
     "output_type": "display_data"
    }
   ],
   "source": [
    "reviews.write.format(SNOWFLAKE_SOURCE_NAME).options(**sfOptions) \\\n",
    "    .option(\"dbtable\",\"FL_FL1_amazon_comprehend\").mode(\"append\").save()\n"
   ]
  },
  {
   "cell_type": "code",
   "execution_count": null,
   "metadata": {},
   "outputs": [],
   "source": []
  },
  {
   "cell_type": "code",
   "execution_count": null,
   "metadata": {},
   "outputs": [],
   "source": []
  },
  {
   "cell_type": "code",
   "execution_count": null,
   "metadata": {},
   "outputs": [],
   "source": []
  },
  {
   "cell_type": "code",
   "execution_count": null,
   "metadata": {},
   "outputs": [],
   "source": []
  },
  {
   "cell_type": "code",
   "execution_count": 109,
   "metadata": {},
   "outputs": [
    {
     "data": {
      "application/vnd.jupyter.widget-view+json": {
       "model_id": "93f0f332017b42a4a6ef56a59b58a396",
       "version_major": 2,
       "version_minor": 0
      },
      "text/plain": [
       "VBox()"
      ]
     },
     "metadata": {},
     "output_type": "display_data"
    },
    {
     "data": {
      "application/vnd.jupyter.widget-view+json": {
       "model_id": "",
       "version_major": 2,
       "version_minor": 0
      },
      "text/plain": [
       "FloatProgress(value=0.0, bar_style='info', description='Progress:', layout=Layout(height='25px', width='50%'),…"
      ]
     },
     "metadata": {},
     "output_type": "display_data"
    },
    {
     "name": "stdout",
     "output_type": "stream",
     "text": [
      "<snowflake.connector.cursor.SnowflakeCursor object at 0x7f19fab41fd0>"
     ]
    }
   ],
   "source": [
    "conn.cursor().execute(\"drop table if exists ANALYTICS_WORKSHOP.DATA_SCIENCE.TST_FP_TEST3\")\n",
    "conn.cursor().execute(\"drop table if exists ANALYTICS_WORKSHOP.DATA_SCIENCE.TST_FN_TEST3\")\n",
    "#conn.cursor().execute(\"drop table if exists ANALYTICS_WORKSHOP.DATA_SCIENCE.TEST_NLP_SPARK6\")\n",
    "#conn.cursor().execute(\"drop table if exists ANALYTICS_WORKSHOP.DATA_SCIENCE.TEST_NLP_SWAP_TOKENS\")"
   ]
  }
 ],
 "metadata": {
  "kernelspec": {
   "display_name": "PySpark",
   "language": "",
   "name": "pysparkkernel"
  },
  "language_info": {
   "codemirror_mode": {
    "name": "python",
    "version": 2
   },
   "mimetype": "text/x-python",
   "name": "pyspark",
   "pygments_lexer": "python2"
  }
 },
 "nbformat": 4,
 "nbformat_minor": 4
}
