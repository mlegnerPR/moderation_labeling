{
 "cells": [
  {
   "cell_type": "code",
   "execution_count": 1,
   "metadata": {},
   "outputs": [
    {
     "data": {
      "application/vnd.jupyter.widget-view+json": {
       "model_id": "8d50e21575234660b16aa1f207d86cdc",
       "version_major": 2,
       "version_minor": 0
      },
      "text/plain": [
       "VBox()"
      ]
     },
     "metadata": {},
     "output_type": "display_data"
    },
    {
     "name": "stdout",
     "output_type": "stream",
     "text": [
      "Starting Spark application\n"
     ]
    },
    {
     "data": {
      "text/html": [
       "<table>\n",
       "<tr><th>ID</th><th>YARN Application ID</th><th>Kind</th><th>State</th><th>Spark UI</th><th>Driver log</th><th>Current session?</th></tr><tr><td>2</td><td>application_1618926584724_0003</td><td>pyspark</td><td>idle</td><td><a target=\"_blank\" href=\"http://ip-10-101-215-133.us-west-2.compute.internal:20888/proxy/application_1618926584724_0003/\">Link</a></td><td><a target=\"_blank\" href=\"http://ip-10-101-215-133.us-west-2.compute.internal:8042/node/containerlogs/container_1618926584724_0003_01_000001/livy\">Link</a></td><td>✔</td></tr></table>"
      ],
      "text/plain": [
       "<IPython.core.display.HTML object>"
      ]
     },
     "metadata": {},
     "output_type": "display_data"
    },
    {
     "data": {
      "application/vnd.jupyter.widget-view+json": {
       "model_id": "",
       "version_major": 2,
       "version_minor": 0
      },
      "text/plain": [
       "FloatProgress(value=0.0, bar_style='info', description='Progress:', layout=Layout(height='25px', width='50%'),…"
      ]
     },
     "metadata": {},
     "output_type": "display_data"
    },
    {
     "name": "stdout",
     "output_type": "stream",
     "text": [
      "SparkSession available as 'spark'.\n"
     ]
    },
    {
     "data": {
      "application/vnd.jupyter.widget-view+json": {
       "model_id": "",
       "version_major": 2,
       "version_minor": 0
      },
      "text/plain": [
       "FloatProgress(value=0.0, bar_style='info', description='Progress:', layout=Layout(height='25px', width='50%'),…"
      ]
     },
     "metadata": {},
     "output_type": "display_data"
    }
   ],
   "source": [
    "#Import packages\n",
    "import boto3\n",
    "import json\n",
    "import numpy as np\n",
    "from numpy import argmax\n",
    "import pyspark.sql.functions as F\n",
    "import snowflake.connector\n",
    "import pandas as pd\n",
    "import spacy\n",
    "import matplotlib.pyplot as plt\n",
    "from vaderSentiment.vaderSentiment import SentimentIntensityAnalyzer\n",
    "from urllib.parse import urlparse\n",
    "from langdetect import detect\n",
    "from textblob import TextBlob\n",
    "#RegEx\n",
    "import regex as re"
   ]
  },
  {
   "cell_type": "code",
   "execution_count": 2,
   "metadata": {},
   "outputs": [
    {
     "data": {
      "application/vnd.jupyter.widget-view+json": {
       "model_id": "94eaecd1569d418aa26ae0eace59a69b",
       "version_major": 2,
       "version_minor": 0
      },
      "text/plain": [
       "VBox()"
      ]
     },
     "metadata": {},
     "output_type": "display_data"
    },
    {
     "data": {
      "application/vnd.jupyter.widget-view+json": {
       "model_id": "",
       "version_major": 2,
       "version_minor": 0
      },
      "text/plain": [
       "FloatProgress(value=0.0, bar_style='info', description='Progress:', layout=Layout(height='25px', width='50%'),…"
      ]
     },
     "metadata": {},
     "output_type": "display_data"
    }
   ],
   "source": [
    "sm_client = boto3.client('secretsmanager',region_name='us-west-2')\n",
    "secret_value = sm_client.get_secret_value(SecretId = 'emr_spark_qa')\n",
    "username = json.loads(secret_value['SecretString'])['emr_spark_username']\n",
    "password = json.loads(secret_value['SecretString'])['emr_spark_password']\n",
    "#print(username)\n",
    "#print(password)"
   ]
  },
  {
   "cell_type": "code",
   "execution_count": 3,
   "metadata": {},
   "outputs": [
    {
     "data": {
      "application/vnd.jupyter.widget-view+json": {
       "model_id": "061bd214bc32481285f6a7f5945f65ed",
       "version_major": 2,
       "version_minor": 0
      },
      "text/plain": [
       "VBox()"
      ]
     },
     "metadata": {},
     "output_type": "display_data"
    },
    {
     "data": {
      "application/vnd.jupyter.widget-view+json": {
       "model_id": "",
       "version_major": 2,
       "version_minor": 0
      },
      "text/plain": [
       "FloatProgress(value=0.0, bar_style='info', description='Progress:', layout=Layout(height='25px', width='50%'),…"
      ]
     },
     "metadata": {},
     "output_type": "display_data"
    }
   ],
   "source": [
    "#PYTHON connection info\n",
    "conn = snowflake.connector.connect(\n",
    "    account='powerreviews',\n",
    "    database='analytics_prod',\n",
    "    warehouse='LOWER_ENV_WAREHOUSE',\n",
    "    user=username,\n",
    "    password=password\n",
    "    )\n"
   ]
  },
  {
   "cell_type": "code",
   "execution_count": 12,
   "metadata": {},
   "outputs": [
    {
     "data": {
      "application/vnd.jupyter.widget-view+json": {
       "model_id": "a2eb3d87030649e7a7d9022254fd6daa",
       "version_major": 2,
       "version_minor": 0
      },
      "text/plain": [
       "VBox()"
      ]
     },
     "metadata": {},
     "output_type": "display_data"
    },
    {
     "data": {
      "application/vnd.jupyter.widget-view+json": {
       "model_id": "",
       "version_major": 2,
       "version_minor": 0
      },
      "text/plain": [
       "FloatProgress(value=0.0, bar_style='info', description='Progress:', layout=Layout(height='25px', width='50%'),…"
      ]
     },
     "metadata": {},
     "output_type": "display_data"
    }
   ],
   "source": [
    "#Query some reviews\n",
    "query_1 = \"select distinct r.ugc_id, r.review_headline, r.review_comments, substr(r.locale,1,2) as lang, review_length, \\\n",
    "case when contains(r.observations, 'FL')  then 1 else 0 end as FL \\\n",
    "from analytics.review as r \\\n",
    "join analytics.merchant_group as mg \\\n",
    "on r.client_id = mg.client_id \\\n",
    "where contains(r.observations, 'PM') \\\n",
    "and not contains(r.observations, 'IA') and not contains(r.observations, 'IR') \\\n",
    "and mg.usage_type != 'Test' \\\n",
    "and r.created_date > '2021-01-01' \\\n",
    "and review_length <= 100 \\\n",
    "\"\n",
    "\n",
    "#193267606, 324912854\n",
    "#and r.created_date > '2020-01-01' \\"
   ]
  },
  {
   "cell_type": "code",
   "execution_count": 13,
   "metadata": {},
   "outputs": [
    {
     "data": {
      "application/vnd.jupyter.widget-view+json": {
       "model_id": "03bac31676dd495db6cdbc8bf57344bc",
       "version_major": 2,
       "version_minor": 0
      },
      "text/plain": [
       "VBox()"
      ]
     },
     "metadata": {},
     "output_type": "display_data"
    },
    {
     "data": {
      "application/vnd.jupyter.widget-view+json": {
       "model_id": "",
       "version_major": 2,
       "version_minor": 0
      },
      "text/plain": [
       "FloatProgress(value=0.0, bar_style='info', description='Progress:', layout=Layout(height='25px', width='50%'),…"
      ]
     },
     "metadata": {},
     "output_type": "display_data"
    },
    {
     "name": "stdout",
     "output_type": "stream",
     "text": [
      "<class 'pandas.core.frame.DataFrame'>\n",
      "RangeIndex: 1710235 entries, 0 to 1710234\n",
      "Data columns (total 6 columns):\n",
      " #   Column           Dtype \n",
      "---  ------           ----- \n",
      " 0   UGC_ID           int64 \n",
      " 1   REVIEW_HEADLINE  object\n",
      " 2   REVIEW_COMMENTS  object\n",
      " 3   LANG             object\n",
      " 4   REVIEW_LENGTH    int64 \n",
      " 5   FL               int64 \n",
      "dtypes: int64(3), object(3)\n",
      "memory usage: 78.3+ MB"
     ]
    }
   ],
   "source": [
    "reviews = pd.read_sql(query_1, conn)\n",
    "reviews.head()\n",
    "reviews.info()\n"
   ]
  },
  {
   "cell_type": "code",
   "execution_count": 14,
   "metadata": {},
   "outputs": [
    {
     "data": {
      "application/vnd.jupyter.widget-view+json": {
       "model_id": "244244f9d82642849800bf7c52bacf80",
       "version_major": 2,
       "version_minor": 0
      },
      "text/plain": [
       "VBox()"
      ]
     },
     "metadata": {},
     "output_type": "display_data"
    },
    {
     "data": {
      "application/vnd.jupyter.widget-view+json": {
       "model_id": "",
       "version_major": 2,
       "version_minor": 0
      },
      "text/plain": [
       "FloatProgress(value=0.0, bar_style='info', description='Progress:', layout=Layout(height='25px', width='50%'),…"
      ]
     },
     "metadata": {},
     "output_type": "display_data"
    }
   ],
   "source": [
    "#Need to add \"word\" in front bc otherwise reviews with just emojis, symbols, #s, etc will not work in langdetect package\n",
    "#Throws this error if no words: \"langdetect.lang_detect_exception.LangDetectException: No features in text.\"\n",
    "reviews['ALL_TEXT'] = reviews['REVIEW_HEADLINE'] + ' ' + reviews['REVIEW_COMMENTS']"
   ]
  },
  {
   "cell_type": "code",
   "execution_count": null,
   "metadata": {},
   "outputs": [],
   "source": []
  },
  {
   "cell_type": "code",
   "execution_count": 7,
   "metadata": {},
   "outputs": [
    {
     "data": {
      "application/vnd.jupyter.widget-view+json": {
       "model_id": "90562453007344a5b39efb2a69005721",
       "version_major": 2,
       "version_minor": 0
      },
      "text/plain": [
       "VBox()"
      ]
     },
     "metadata": {},
     "output_type": "display_data"
    },
    {
     "data": {
      "application/vnd.jupyter.widget-view+json": {
       "model_id": "",
       "version_major": 2,
       "version_minor": 0
      },
      "text/plain": [
       "FloatProgress(value=0.0, bar_style='info', description='Progress:', layout=Layout(height='25px', width='50%'),…"
      ]
     },
     "metadata": {},
     "output_type": "display_data"
    },
    {
     "name": "stdout",
     "output_type": "stream",
     "text": [
      "<spacy_langdetect.spacy_langdetect.LanguageDetector object at 0x7f455327f610>"
     ]
    }
   ],
   "source": [
    "import spacy\n",
    "from spacy.language import Language\n",
    "from spacy_langdetect import LanguageDetector\n",
    "\n",
    "def get_lang_detector(nlp, name):\n",
    "    return LanguageDetector()\n",
    "\n",
    "nlp = spacy.load(\"en_core_web_sm\")\n",
    "Language.factory(\"language_detector\", func=get_lang_detector)\n",
    "nlp.add_pipe('language_detector', last=True)\n",
    "#text = 'This is an english text.'\n",
    "#doc = nlp(text)\n",
    "#print(doc._.language)"
   ]
  },
  {
   "cell_type": "code",
   "execution_count": 8,
   "metadata": {},
   "outputs": [
    {
     "data": {
      "application/vnd.jupyter.widget-view+json": {
       "model_id": "ead98bcfca2b49558571f387fc2e3443",
       "version_major": 2,
       "version_minor": 0
      },
      "text/plain": [
       "VBox()"
      ]
     },
     "metadata": {},
     "output_type": "display_data"
    },
    {
     "data": {
      "application/vnd.jupyter.widget-view+json": {
       "model_id": "",
       "version_major": 2,
       "version_minor": 0
      },
      "text/plain": [
       "FloatProgress(value=0.0, bar_style='info', description='Progress:', layout=Layout(height='25px', width='50%'),…"
      ]
     },
     "metadata": {},
     "output_type": "display_data"
    },
    {
     "name": "stdout",
     "output_type": "stream",
     "text": [
      "{'language': 'so', 'score': 0.9999971536415062}"
     ]
    }
   ],
   "source": [
    "text = 'good good'\n",
    "doc = nlp(text)\n",
    "print(doc._.language)"
   ]
  },
  {
   "cell_type": "code",
   "execution_count": 9,
   "metadata": {},
   "outputs": [
    {
     "data": {
      "application/vnd.jupyter.widget-view+json": {
       "model_id": "5226eda5d565446e8d7d7065026b5747",
       "version_major": 2,
       "version_minor": 0
      },
      "text/plain": [
       "VBox()"
      ]
     },
     "metadata": {},
     "output_type": "display_data"
    },
    {
     "data": {
      "application/vnd.jupyter.widget-view+json": {
       "model_id": "",
       "version_major": 2,
       "version_minor": 0
      },
      "text/plain": [
       "FloatProgress(value=0.0, bar_style='info', description='Progress:', layout=Layout(height='25px', width='50%'),…"
      ]
     },
     "metadata": {},
     "output_type": "display_data"
    }
   ],
   "source": [
    "def doc_lang(text):\n",
    "    doc = nlp(text)\n",
    "    return doc._.language"
   ]
  },
  {
   "cell_type": "code",
   "execution_count": 15,
   "metadata": {},
   "outputs": [
    {
     "data": {
      "application/vnd.jupyter.widget-view+json": {
       "model_id": "a924d8fa9e9a49bc82a3ba38eccaac6d",
       "version_major": 2,
       "version_minor": 0
      },
      "text/plain": [
       "VBox()"
      ]
     },
     "metadata": {},
     "output_type": "display_data"
    },
    {
     "data": {
      "application/vnd.jupyter.widget-view+json": {
       "model_id": "",
       "version_major": 2,
       "version_minor": 0
      },
      "text/plain": [
       "FloatProgress(value=0.0, bar_style='info', description='Progress:', layout=Layout(height='25px', width='50%'),…"
      ]
     },
     "metadata": {},
     "output_type": "display_data"
    }
   ],
   "source": [
    "reviews['ALL_TEXT']=reviews['ALL_TEXT'].apply(str)\n",
    "reviews['SPACY_LANG'] = reviews['ALL_TEXT'].apply(doc_lang)\n",
    "reviews['PRED_LANG'] = [d.get('language') for d in reviews['SPACY_LANG']]\n",
    "reviews['PROB'] = [d.get('score') for d in reviews['SPACY_LANG']]"
   ]
  },
  {
   "cell_type": "code",
   "execution_count": 16,
   "metadata": {},
   "outputs": [
    {
     "data": {
      "application/vnd.jupyter.widget-view+json": {
       "model_id": "b4f977fba2034b98ab4cbe4b77f9fb24",
       "version_major": 2,
       "version_minor": 0
      },
      "text/plain": [
       "VBox()"
      ]
     },
     "metadata": {},
     "output_type": "display_data"
    },
    {
     "data": {
      "application/vnd.jupyter.widget-view+json": {
       "model_id": "",
       "version_major": 2,
       "version_minor": 0
      },
      "text/plain": [
       "FloatProgress(value=0.0, bar_style='info', description='Progress:', layout=Layout(height='25px', width='50%'),…"
      ]
     },
     "metadata": {},
     "output_type": "display_data"
    },
    {
     "name": "stdout",
     "output_type": "stream",
     "text": [
      "       UGC_ID                                              REVIEW_HEADLINE  \\\n",
      "0   325766472  good bike                                                     \n",
      "1   325153912  Motion Sickness on this machine                               \n",
      "2   325242843  its a good bike                                               \n",
      "3   330372758  It is a very nice i crashed into a car but the bike is ok     \n",
      "4   340220163  This bike is made of 24k gold as much as a decent car         \n",
      "5   330020372  wegweg                                                        \n",
      "6   330946689  Just had my bike stolen and it was locked up with this lock   \n",
      "7   338972858  yes                                                           \n",
      "8   341353488  raquel                                                        \n",
      "9   330658274  Defo one of the best bikes I've ever used except              \n",
      "10  340032764  No                                                            \n",
      "11  330485371  LOVE IT                                                       \n",
      "12  326463227  poopoo                                                        \n",
      "13  333779082  NAH!                                                          \n",
      "14  341237646  look no further. this is the ONLY one you'll need.            \n",
      "15  341216964  Would buy again-wish there were other colors                  \n",
      "16  330543978  Great computer                                                \n",
      "17  322980891  I would by this product again and again                       \n",
      "18  341299300  Fugit sed magna fug                                           \n",
      "19  341300075  Velit quasi et volup                                          \n",
      "20  324396691  Very Unique Gfit                                              \n",
      "21  341653821  Yes, I definitely would buy it again.                         \n",
      "22  341381843  My lock was cut and bike was stolen 😕                         \n",
      "23  341300310  Quam esse ut commod                                           \n",
      "24  336539028  Hanger issues                                                 \n",
      "\n",
      "                                                                                     REVIEW_COMMENTS  \\\n",
      "0   feels really nice still getting used to the size but good over all                                 \n",
      "1   You bob up and down too much on this elliptical. If susceptible, you get nauseous.                 \n",
      "2   its good                                                                                           \n",
      "3   It was nice                                                                                        \n",
      "4   Just my kidneys to afford my first bike..                                                          \n",
      "5   waegaw weewewweg gwege                                                                             \n",
      "6   A handy lock but don't count on it to save your bike from thief with the right tools.              \n",
      "7   great bike, no regrets, great price.                                                               \n",
      "8   yes                                                                                                \n",
      "9   I'm still in poverty but I'm working on it                                                         \n",
      "10  Jp                                                                                                 \n",
      "11  LOVE ITS RELLY NICE FOR BEGINNERS NO PROBLEM WITH IT AT All                                        \n",
      "12  i love itt                                                                                         \n",
      "13  It is heavy, hard to lug around, large, and a waste of money.                                      \n",
      "14  great for an everyday ride .fast and responsive.                                                   \n",
      "15  Cycling--love the durability of the zippers and overall feel. The BOA hood is another plus         \n",
      "16  My first garmin experience. Computer works great.                                                  \n",
      "17  I would use this bike for riding in road or mountains                                              \n",
      "18  Saepe veniam volupt                                                                                \n",
      "19  Aut qui quasi qui ea                                                                               \n",
      "20  so uniquie!                                                                                        \n",
      "21  I havent had a chance to actually see it myself, but I would buy again for someone.\\n\\nThank you   \n",
      "22  I was told this couldn't be cut and it was.                                                        \n",
      "23  Non ut atque dicta v                                                                               \n",
      "24  Whoa.                                                                                              \n",
      "\n",
      "   LANG  REVIEW_LENGTH  FL  \\\n",
      "0   en   66             0    \n",
      "1   en   82             0    \n",
      "2   en   8              0    \n",
      "3   en   11             0    \n",
      "4   en   41             0    \n",
      "5   en   22             0    \n",
      "6   en   85             0    \n",
      "7   en   36             0    \n",
      "8   en   3              0    \n",
      "9   en   42             0    \n",
      "10  en   2              0    \n",
      "11  en   59             0    \n",
      "12  en   10             0    \n",
      "13  en   61             0    \n",
      "14  en   48             0    \n",
      "15  en   90             0    \n",
      "16  en   49             0    \n",
      "17  en   53             0    \n",
      "18  en   19             1    \n",
      "19  en   20             1    \n",
      "20  en   11             0    \n",
      "21  en   94             0    \n",
      "22  en   43             0    \n",
      "23  en   20             1    \n",
      "24  en   5              0    \n",
      "\n",
      "                                                                                                                                             ALL_TEXT  \\\n",
      "0   good bike feels really nice still getting used to the size but good over all                                                                        \n",
      "1   Motion Sickness on this machine You bob up and down too much on this elliptical. If susceptible, you get nauseous.                                  \n",
      "2   its a good bike its good                                                                                                                            \n",
      "3   It is a very nice i crashed into a car but the bike is ok It was nice                                                                               \n",
      "4   This bike is made of 24k gold as much as a decent car Just my kidneys to afford my first bike..                                                     \n",
      "5   wegweg waegaw weewewweg gwege                                                                                                                       \n",
      "6   Just had my bike stolen and it was locked up with this lock A handy lock but don't count on it to save your bike from thief with the right tools.   \n",
      "7   yes great bike, no regrets, great price.                                                                                                            \n",
      "8   raquel yes                                                                                                                                          \n",
      "9   Defo one of the best bikes I've ever used except I'm still in poverty but I'm working on it                                                         \n",
      "10  No Jp                                                                                                                                               \n",
      "11  LOVE IT LOVE ITS RELLY NICE FOR BEGINNERS NO PROBLEM WITH IT AT All                                                                                 \n",
      "12  poopoo i love itt                                                                                                                                   \n",
      "13  NAH! It is heavy, hard to lug around, large, and a waste of money.                                                                                  \n",
      "14  look no further. this is the ONLY one you'll need. great for an everyday ride .fast and responsive.                                                 \n",
      "15  Would buy again-wish there were other colors Cycling--love the durability of the zippers and overall feel. The BOA hood is another plus             \n",
      "16  Great computer My first garmin experience. Computer works great.                                                                                    \n",
      "17  I would by this product again and again I would use this bike for riding in road or mountains                                                       \n",
      "18  Fugit sed magna fug Saepe veniam volupt                                                                                                             \n",
      "19  Velit quasi et volup Aut qui quasi qui ea                                                                                                           \n",
      "20  Very Unique Gfit so uniquie!                                                                                                                        \n",
      "21  Yes, I definitely would buy it again. I havent had a chance to actually see it myself, but I would buy again for someone.\\n\\nThank you              \n",
      "22  My lock was cut and bike was stolen 😕 I was told this couldn't be cut and it was.                                                                   \n",
      "23  Quam esse ut commod Non ut atque dicta v                                                                                                            \n",
      "24  Hanger issues Whoa.                                                                                                                                 \n",
      "\n",
      "                                          SPACY_LANG PRED_LANG      PROB  \n",
      "0   {'language': 'en', 'score': 0.9999967744417613}   en        0.999997  \n",
      "1   {'language': 'en', 'score': 0.9999984551781367}   en        0.999998  \n",
      "2   {'language': 'en', 'score': 0.5714270011929667}   en        0.571427  \n",
      "3   {'language': 'en', 'score': 0.9999972036539716}   en        0.999997  \n",
      "4   {'language': 'en', 'score': 0.9999965664494549}   en        0.999997  \n",
      "5   {'language': 'cy', 'score': 0.9999980098613488}   cy        0.999998  \n",
      "6   {'language': 'en', 'score': 0.9999980260730539}   en        0.999998  \n",
      "7   {'language': 'en', 'score': 0.571427143605964}    en        0.571427  \n",
      "8   {'language': 'es', 'score': 0.9999953857203001}   es        0.999995  \n",
      "9   {'language': 'en', 'score': 0.9999971320992651}   en        0.999997  \n",
      "10  {'language': 'pt', 'score': 0.999996565934376}    pt        0.999997  \n",
      "11  {'language': 'en', 'score': 0.9999935144912181}   en        0.999994  \n",
      "12  {'language': 'it', 'score': 0.9999967598852091}   it        0.999997  \n",
      "13  {'language': 'en', 'score': 0.9999966745030933}   en        0.999997  \n",
      "14  {'language': 'en', 'score': 0.9999977418172907}   en        0.999998  \n",
      "15  {'language': 'en', 'score': 0.9999961079383979}   en        0.999996  \n",
      "16  {'language': 'en', 'score': 0.9999966003194027}   en        0.999997  \n",
      "17  {'language': 'en', 'score': 0.9999964404445157}   en        0.999996  \n",
      "18  {'language': 'et', 'score': 0.42888543076790253}  et        0.428885  \n",
      "19  {'language': 'fr', 'score': 0.9835423388912703}   fr        0.983542  \n",
      "20  {'language': 'fr', 'score': 0.9999970709841223}   fr        0.999997  \n",
      "21  {'language': 'en', 'score': 0.9999981832100345}   en        0.999998  \n",
      "22  {'language': 'en', 'score': 0.9999962619423985}   en        0.999996  \n",
      "23  {'language': 'fr', 'score': 0.9999940551846568}   fr        0.999994  \n",
      "24  {'language': 'de', 'score': 0.9999938801150738}   de        0.999994  \n",
      "<string>:1: FutureWarning: Passing a negative integer is deprecated in version 1.0 and will not be supported in future version. Instead, use None to not limit the column width."
     ]
    }
   ],
   "source": [
    "pd.set_option('display.max_colwidth', -1)\n",
    "pd.set_option('display.max_columns', None)\n",
    "pd.set_option('display.max_rows', None)\n",
    "\n",
    "reviews.head(25)"
   ]
  },
  {
   "cell_type": "code",
   "execution_count": null,
   "metadata": {},
   "outputs": [],
   "source": []
  },
  {
   "cell_type": "code",
   "execution_count": null,
   "metadata": {},
   "outputs": [],
   "source": []
  },
  {
   "cell_type": "code",
   "execution_count": null,
   "metadata": {},
   "outputs": [],
   "source": []
  },
  {
   "cell_type": "code",
   "execution_count": 17,
   "metadata": {},
   "outputs": [
    {
     "data": {
      "application/vnd.jupyter.widget-view+json": {
       "model_id": "7c17b2b0d5334d14b01708bb414491b3",
       "version_major": 2,
       "version_minor": 0
      },
      "text/plain": [
       "VBox()"
      ]
     },
     "metadata": {},
     "output_type": "display_data"
    },
    {
     "data": {
      "application/vnd.jupyter.widget-view+json": {
       "model_id": "",
       "version_major": 2,
       "version_minor": 0
      },
      "text/plain": [
       "FloatProgress(value=0.0, bar_style='info', description='Progress:', layout=Layout(height='25px', width='50%'),…"
      ]
     },
     "metadata": {},
     "output_type": "display_data"
    }
   ],
   "source": [
    "reviews['model_FL'] = 0\n",
    "\n",
    "reviews.loc[reviews['LANG'] != reviews['PRED_LANG'] , 'model_FL'] = 1\n",
    "\n",
    "#Our setup may have accidentally used \"jp\" as well as \"ja\" for Japenese\n",
    "#\"ja\" is official code but mark \"jp\" as ok too\n",
    "reviews.loc[ (reviews['LANG']=='jp') & (reviews['PRED_LANG']=='ja') , 'model_FL'] = 0\n",
    "\n"
   ]
  },
  {
   "cell_type": "code",
   "execution_count": 18,
   "metadata": {},
   "outputs": [
    {
     "data": {
      "application/vnd.jupyter.widget-view+json": {
       "model_id": "9f3e16771a4b49fdb86777679c74addd",
       "version_major": 2,
       "version_minor": 0
      },
      "text/plain": [
       "VBox()"
      ]
     },
     "metadata": {},
     "output_type": "display_data"
    },
    {
     "data": {
      "application/vnd.jupyter.widget-view+json": {
       "model_id": "",
       "version_major": 2,
       "version_minor": 0
      },
      "text/plain": [
       "FloatProgress(value=0.0, bar_style='info', description='Progress:', layout=Layout(height='25px', width='50%'),…"
      ]
     },
     "metadata": {},
     "output_type": "display_data"
    }
   ],
   "source": [
    "FP = reviews[(reviews['FL'] == 0) & (reviews['model_FL'] == 1)]\n",
    "FN = reviews[(reviews['FL'] == 1) & (reviews['model_FL'] == 0)]\n",
    "TP = reviews[(reviews['FL'] == 1) & (reviews['model_FL'] == 1)]\n",
    "TN = reviews[(reviews['FL'] == 0) & (reviews['model_FL'] == 0)]\n"
   ]
  },
  {
   "cell_type": "code",
   "execution_count": 19,
   "metadata": {},
   "outputs": [
    {
     "data": {
      "application/vnd.jupyter.widget-view+json": {
       "model_id": "41b3eb6499d54661b4fbb28963e1603f",
       "version_major": 2,
       "version_minor": 0
      },
      "text/plain": [
       "VBox()"
      ]
     },
     "metadata": {},
     "output_type": "display_data"
    },
    {
     "data": {
      "application/vnd.jupyter.widget-view+json": {
       "model_id": "",
       "version_major": 2,
       "version_minor": 0
      },
      "text/plain": [
       "FloatProgress(value=0.0, bar_style='info', description='Progress:', layout=Layout(height='25px', width='50%'),…"
      ]
     },
     "metadata": {},
     "output_type": "display_data"
    },
    {
     "name": "stdout",
     "output_type": "stream",
     "text": [
      "143340"
     ]
    }
   ],
   "source": [
    "\n",
    "FP['UGC_ID'].count()"
   ]
  },
  {
   "cell_type": "code",
   "execution_count": 20,
   "metadata": {},
   "outputs": [
    {
     "data": {
      "application/vnd.jupyter.widget-view+json": {
       "model_id": "7ce1cec38c524f36b5fdf92710d6a6d6",
       "version_major": 2,
       "version_minor": 0
      },
      "text/plain": [
       "VBox()"
      ]
     },
     "metadata": {},
     "output_type": "display_data"
    },
    {
     "data": {
      "application/vnd.jupyter.widget-view+json": {
       "model_id": "",
       "version_major": 2,
       "version_minor": 0
      },
      "text/plain": [
       "FloatProgress(value=0.0, bar_style='info', description='Progress:', layout=Layout(height='25px', width='50%'),…"
      ]
     },
     "metadata": {},
     "output_type": "display_data"
    },
    {
     "name": "stdout",
     "output_type": "stream",
     "text": [
      "298"
     ]
    }
   ],
   "source": [
    "\n",
    "FN['UGC_ID'].count()"
   ]
  },
  {
   "cell_type": "code",
   "execution_count": 21,
   "metadata": {},
   "outputs": [
    {
     "data": {
      "application/vnd.jupyter.widget-view+json": {
       "model_id": "05d0c37466454a779370b5d5e33d6f0e",
       "version_major": 2,
       "version_minor": 0
      },
      "text/plain": [
       "VBox()"
      ]
     },
     "metadata": {},
     "output_type": "display_data"
    },
    {
     "data": {
      "application/vnd.jupyter.widget-view+json": {
       "model_id": "",
       "version_major": 2,
       "version_minor": 0
      },
      "text/plain": [
       "FloatProgress(value=0.0, bar_style='info', description='Progress:', layout=Layout(height='25px', width='50%'),…"
      ]
     },
     "metadata": {},
     "output_type": "display_data"
    },
    {
     "name": "stdout",
     "output_type": "stream",
     "text": [
      "4509"
     ]
    }
   ],
   "source": [
    "\n",
    "TP['UGC_ID'].count()"
   ]
  },
  {
   "cell_type": "code",
   "execution_count": 22,
   "metadata": {},
   "outputs": [
    {
     "data": {
      "application/vnd.jupyter.widget-view+json": {
       "model_id": "fb1425d9cc0c4dc7a73ba0ac45f94bd1",
       "version_major": 2,
       "version_minor": 0
      },
      "text/plain": [
       "VBox()"
      ]
     },
     "metadata": {},
     "output_type": "display_data"
    },
    {
     "data": {
      "application/vnd.jupyter.widget-view+json": {
       "model_id": "",
       "version_major": 2,
       "version_minor": 0
      },
      "text/plain": [
       "FloatProgress(value=0.0, bar_style='info', description='Progress:', layout=Layout(height='25px', width='50%'),…"
      ]
     },
     "metadata": {},
     "output_type": "display_data"
    },
    {
     "name": "stdout",
     "output_type": "stream",
     "text": [
      "1562088"
     ]
    }
   ],
   "source": [
    "TN['UGC_ID'].count()"
   ]
  },
  {
   "cell_type": "code",
   "execution_count": 23,
   "metadata": {},
   "outputs": [
    {
     "data": {
      "application/vnd.jupyter.widget-view+json": {
       "model_id": "fd69468d26324901a5d318f4314e2635",
       "version_major": 2,
       "version_minor": 0
      },
      "text/plain": [
       "VBox()"
      ]
     },
     "metadata": {},
     "output_type": "display_data"
    },
    {
     "data": {
      "application/vnd.jupyter.widget-view+json": {
       "model_id": "",
       "version_major": 2,
       "version_minor": 0
      },
      "text/plain": [
       "FloatProgress(value=0.0, bar_style='info', description='Progress:', layout=Layout(height='25px', width='50%'),…"
      ]
     },
     "metadata": {},
     "output_type": "display_data"
    },
    {
     "name": "stdout",
     "output_type": "stream",
     "text": [
      "         UGC_ID                                        REVIEW_HEADLINE  \\\n",
      "5     330020372  wegweg                                                  \n",
      "8     341353488  raquel                                                  \n",
      "10    340032764  No                                                      \n",
      "12    326463227  poopoo                                                  \n",
      "20    324396691  Very Unique Gfit                                        \n",
      "24    336539028  Hanger issues                                           \n",
      "36    322736496  Great product                                           \n",
      "62    329051808  weagwegaw                                               \n",
      "328   322634553  Great puzzle detail - Alabama                           \n",
      "380   332574928  Fun gift                                                \n",
      "406   341210070  No idea                                                 \n",
      "424   326843664  Beautiful crib board                                    \n",
      "552   340230820  Flooring                                                \n",
      "589   338888885  delayed delivery                                        \n",
      "631   326347841  Yes                                                     \n",
      "633   325658982  best slippers ever                                      \n",
      "718   328034296  GREAT SHOES I WOULD BUY AGAIN                           \n",
      "745   341512748  yes                                                     \n",
      "802   336539408  yes                                                     \n",
      "818   341173624  No                                                      \n",
      "834   336524221  my daughter loved it                                    \n",
      "850   340456084  Love                                                    \n",
      "869   341352006  good                                                    \n",
      "960   328278507  Perfekt                                                 \n",
      "965   332404914  Comfortable                                             \n",
      "971   341455062  maybe                                                   \n",
      "1044  327703734  Excellent look & fit!                                   \n",
      "1061  331194614  dont like                                               \n",
      "1102  324838231  awesome shoes!!!!!!                                     \n",
      "1167  338865137  loafer                                                  \n",
      "1196  340759877  P                                                       \n",
      "1308  338585138  love it                                                 \n",
      "1330  338016827  TOP                                                     \n",
      "1340  323029220  Mutt Shoes                                              \n",
      "1431  330259318  Je les adore                                            \n",
      "1442  327836677  VERY COMFORTABLE                                        \n",
      "1465  331018016  Yes!                                                    \n",
      "1476  326103998  yes                                                     \n",
      "1533  325324105  COMFY COMFY COMFY                                       \n",
      "1586  327895299  ja                                                      \n",
      "1593  333758297  never order online                                      \n",
      "1595  333784421  Bequeme Schuhe                                          \n",
      "1596  334827199  DID NOT LIKE, WOULD SLIDE UP AND DOWN ON BACK OF FOOT   \n",
      "1622  330533829  charo                                                   \n",
      "1651  339900302  Skechers Arch-Fit                                       \n",
      "1654  339945727  Yes                                                     \n",
      "1662  339898973  yes                                                     \n",
      "1694  327978523  Excellent                                               \n",
      "1706  339971390  Tolle Stiefel                                           \n",
      "1780  338289458  ++++++++                                                \n",
      "1815  330198057  would buy again                                         \n",
      "1926  335610649  Nice                                                    \n",
      "2005  326550482  yes                                                     \n",
      "2055  326830792  Estupendas!!                                            \n",
      "2072  335051971  Jvbe                                                    \n",
      "2111  333883319  Super comodos                                           \n",
      "2185  327136314  GOOD SLIP                                               \n",
      "2250  340039010  Excellent                                               \n",
      "2274  333484590  yes                                                     \n",
      "2275  333484453  A-line Rider                                            \n",
      "2292  332310147  Poppy  breezy street                                    \n",
      "2323  333489846  Antigo                                                  \n",
      "2327  329603055  Snark                                                   \n",
      "2332  326326555  Good value, mediocre quality.                           \n",
      "2338  325671650  Guitar tuner                                            \n",
      "2356  340457146  Beautiful noise                                         \n",
      "2374  341659891  Happy                                                   \n",
      "2390  331688347  Excellent                                               \n",
      "2397  339729789  Yes                                                     \n",
      "2398  339730129  great cable                                             \n",
      "2407  330734845  Good                                                    \n",
      "2427  340388461  Fast delivery not problem                               \n",
      "2442  325416570  10/10                                                   \n",
      "2448  325419421  Yes                                                     \n",
      "2466  327574490  Hasn't broken so I guess it's good                      \n",
      "2509  338838133  👌🏾                                                      \n",
      "2555  325339229  Good                                                    \n",
      "2582  330260946  Sturdy set                                              \n",
      "2594  325935953  Yes                                                     \n",
      "2630  338360585  Jazzy and sweet!!                                       \n",
      "2684  325571894  did not keep                                            \n",
      "2690  335067018  👍                                                       \n",
      "2710  340257329  👍👍👍                                                     \n",
      "2712  331840839  Fast delivery                                           \n",
      "2742  325264561  Overdrive pedal                                         \n",
      "2748  326175009  Excellent                                               \n",
      "2821  340439240  Great bedroom nightstands.                              \n",
      "2840  326106348  Guitar                                                  \n",
      "2847  341690715  Beautiful                                               \n",
      "2874  326264258  Yes                                                     \n",
      "2898  338478164  Cute!                                                   \n",
      "2922  324958788  Unique Sofa Side Table                                  \n",
      "2936  339010269  GOOD FIT FOR SPECIFIC CHAIR                             \n",
      "3011  341212200  *************                                           \n",
      "3178  336752220  Yes                                                     \n",
      "3211  325852655  I👍                                                      \n",
      "3258  330392086  Love love love ❤️                                       \n",
      "3265  338590090  test                                                    \n",
      "3284  330945981  Beautiful                                               \n",
      "3295  329600494  works great                                             \n",
      "\n",
      "                                                                                REVIEW_COMMENTS  \\\n",
      "5     waegaw weewewweg gwege                                                                      \n",
      "8     yes                                                                                         \n",
      "10    Jp                                                                                          \n",
      "12    i love itt                                                                                  \n",
      "20    so uniquie!                                                                                 \n",
      "24    Whoa.                                                                                       \n",
      "36    Great product                                                                               \n",
      "62    wegweg weg wegwea gwegwwege                                                                 \n",
      "328   Great quality product                                                                       \n",
      "380   Great gift for my boyfriend.                                                                \n",
      "406   Backordered                                                                                 \n",
      "424   Beautiful!!                                                                                 \n",
      "552   Flooring                                                                                    \n",
      "589   not yet installed                                                                           \n",
      "631   👍                                                                                           \n",
      "633   Super comfortable slippers                                                                  \n",
      "718   GREAT SHOE VERY COMFORTABLE                                                                 \n",
      "745   everyday                                                                                    \n",
      "802   nice                                                                                        \n",
      "818   na                                                                                          \n",
      "834   My daughter fell in love with the shoes, and leds are really really bright. Great product   \n",
      "850   ☺️☺️                                                                                        \n",
      "869   good                                                                                        \n",
      "960   Perfekt                                                                                     \n",
      "965   Jeans.  Cute design                                                                         \n",
      "971   so far so good                                                                              \n",
      "1044  Walking @ 1-1/2 hours 6 days / week ...                                                     \n",
      "1061  i am returning them                                                                         \n",
      "1102  awesome shoes!!!!                                                                           \n",
      "1167  j'adore le style                                                                            \n",
      "1196  P                                                                                           \n",
      "1308  just love ir                                                                                \n",
      "1330  Ich mag es robust, mega Sohle                                                               \n",
      "1340  Love Dogs                                                                                   \n",
      "1431  Excellentes                                                                                 \n",
      "1442  GREAT SHOES FITS JUST RIGHT                                                                 \n",
      "1465  Beautiful! I love it😍                                                                       \n",
      "1476  yes                                                                                         \n",
      "1533  VERY COMFORTABLE AND GREAT LOOKING SHOE                                                     \n",
      "1586  alles gut                                                                                   \n",
      "1593  Never buy online                                                                            \n",
      "1595  Alles prim                                                                                  \n",
      "1596  EVEN IN THE REGULAR WIDTH, SHOES SLID UP AND DOWN ON BACK OF FEET                           \n",
      "1622  .                                                                                           \n",
      "1651  Wonderful!                                                                                  \n",
      "1654  I have no comments.                                                                         \n",
      "1662  a ok                                                                                        \n",
      "1694  Excellent                                                                                   \n",
      "1706  supertolle Stiefel....sehr bequem                                                           \n",
      "1780  +++++++++++++                                                                               \n",
      "1815  walking                                                                                     \n",
      "1926  N/A                                                                                         \n",
      "2005  like it                                                                                     \n",
      "2055  Estupendas                                                                                  \n",
      "2072  Bien                                                                                        \n",
      "2111  Este producto super cómodo y elegante                                                       \n",
      "2185  WARM                                                                                        \n",
      "2250  I love it                                                                                   \n",
      "2274  comfertable                                                                                 \n",
      "2275  Comfortable                                                                                 \n",
      "2292  Love it                                                                                     \n",
      "2323  tres bien                                                                                   \n",
      "2327  Good tuner                                                                                  \n",
      "2332  Good value, mediocre quality.                                                               \n",
      "2338  Great tuner                                                                                 \n",
      "2356  They make a beautiful noise!                                                                \n",
      "2374  So far so good!                                                                             \n",
      "2390  Excellent                                                                                   \n",
      "2397  Very good                                                                                   \n",
      "2398  great cables                                                                                \n",
      "2407  Excellent                                                                                   \n",
      "2427  Fast delivery                                                                               \n",
      "2442  amazing cable                                                                               \n",
      "2448  Nice,                                                                                       \n",
      "2466  Good strap. Works like a strap would.                                                       \n",
      "2509  Excellent durability                                                                        \n",
      "2555  Good quality                                                                                \n",
      "2582  Sturdy set                                                                                  \n",
      "2594  I like it!!!!!!                                                                             \n",
      "2630  Awesome reeds!!                                                                             \n",
      "2684  Did not keep. Got a Bose system                                                             \n",
      "2690  fantastic!                                                                                  \n",
      "2710  👍👍👍                                                                                         \n",
      "2712  Fast free delivery 📦 💨                                                                      \n",
      "2742  Great overdrive/ boost                                                                      \n",
      "2748  Excellent                                                                                   \n",
      "2821  Looks great as nightstands. Sturdy.                                                         \n",
      "2840  Excellent service                                                                           \n",
      "2847  Beautiful & sturdy,  I love it                                                              \n",
      "2874  Love it!                                                                                    \n",
      "2898  Cute!                                                                                       \n",
      "2922  A unique side table next to my sofa. I love the ombré effect.                               \n",
      "2936  LOOKS GREAT                                                                                 \n",
      "3011  *****                                                                                       \n",
      "3178  👍                                                                                           \n",
      "3211  👍👍👍                                                                                         \n",
      "3258  Beautiful beautiful beautiful ❤️❤️❤️                                                        \n",
      "3265  test                                                                                        \n",
      "3284  Beautiful and simple.                                                                       \n",
      "3295  works great                                                                                 \n",
      "\n",
      "     LANG  REVIEW_LENGTH  FL  \\\n",
      "5     en   22             0    \n",
      "8     en   3              0    \n",
      "10    en   2              0    \n",
      "12    en   10             0    \n",
      "20    en   11             0    \n",
      "24    en   5              0    \n",
      "36    en   13             0    \n",
      "62    en   27             0    \n",
      "328   en   21             0    \n",
      "380   en   28             0    \n",
      "406   en   11             0    \n",
      "424   en   11             0    \n",
      "552   en   8              0    \n",
      "589   en   17             0    \n",
      "631   en   1              0    \n",
      "633   en   26             0    \n",
      "718   en   27             0    \n",
      "745   en   8              0    \n",
      "802   en   4              0    \n",
      "818   en   2              0    \n",
      "834   de   89             0    \n",
      "850   en   4              0    \n",
      "869   en   4              0    \n",
      "960   de   7              0    \n",
      "965   en   19             0    \n",
      "971   en   14             0    \n",
      "1044  en   39             0    \n",
      "1061  en   19             0    \n",
      "1102  en   17             0    \n",
      "1167  fr   16             0    \n",
      "1196  en   1              0    \n",
      "1308  en   12             0    \n",
      "1330  de   29             0    \n",
      "1340  en   9              0    \n",
      "1431  fr   11             0    \n",
      "1442  en   27             0    \n",
      "1465  en   21             0    \n",
      "1476  en   3              0    \n",
      "1533  en   39             0    \n",
      "1586  de   9              0    \n",
      "1593  en   16             0    \n",
      "1595  de   10             0    \n",
      "1596  en   65             0    \n",
      "1622  es   1              0    \n",
      "1651  en   10             0    \n",
      "1654  en   19             0    \n",
      "1662  en   4              0    \n",
      "1694  en   9              0    \n",
      "1706  de   33             0    \n",
      "1780  de   13             0    \n",
      "1815  en   7              0    \n",
      "1926  en   3              0    \n",
      "2005  en   7              0    \n",
      "2055  es   10             0    \n",
      "2072  es   4              0    \n",
      "2111  en   37             0    \n",
      "2185  en   4              0    \n",
      "2250  en   9              0    \n",
      "2274  en   11             0    \n",
      "2275  en   11             0    \n",
      "2292  en   7              0    \n",
      "2323  fr   9              0    \n",
      "2327  en   10             0    \n",
      "2332  en   29             0    \n",
      "2338  en   11             0    \n",
      "2356  en   28             0    \n",
      "2374  en   15             0    \n",
      "2390  en   9              0    \n",
      "2397  en   9              0    \n",
      "2398  en   12             0    \n",
      "2407  en   9              0    \n",
      "2427  en   13             0    \n",
      "2442  en   13             0    \n",
      "2448  en   5              0    \n",
      "2466  en   37             0    \n",
      "2509  en   20             0    \n",
      "2555  en   12             0    \n",
      "2582  en   10             0    \n",
      "2594  en   15             0    \n",
      "2630  en   15             0    \n",
      "2684  en   31             0    \n",
      "2690  en   10             0    \n",
      "2710  en   3              0    \n",
      "2712  en   22             0    \n",
      "2742  en   22             0    \n",
      "2748  en   9              0    \n",
      "2821  en   35             0    \n",
      "2840  en   17             0    \n",
      "2847  en   30             0    \n",
      "2874  en   8              0    \n",
      "2898  en   5              0    \n",
      "2922  en   61             0    \n",
      "2936  en   11             0    \n",
      "3011  en   5              0    \n",
      "3178  en   1              0    \n",
      "3211  en   3              0    \n",
      "3258  en   36             0    \n",
      "3265  en   4              0    \n",
      "3284  en   21             0    \n",
      "3295  en   11             0    \n",
      "\n",
      "                                                                                                                     ALL_TEXT  \\\n",
      "5     wegweg waegaw weewewweg gwege                                                                                             \n",
      "8     raquel yes                                                                                                                \n",
      "10    No Jp                                                                                                                     \n",
      "12    poopoo i love itt                                                                                                         \n",
      "20    Very Unique Gfit so uniquie!                                                                                              \n",
      "24    Hanger issues Whoa.                                                                                                       \n",
      "36    Great product Great product                                                                                               \n",
      "62    weagwegaw wegweg weg wegwea gwegwwege                                                                                     \n",
      "328   Great puzzle detail - Alabama Great quality product                                                                       \n",
      "380   Fun gift Great gift for my boyfriend.                                                                                     \n",
      "406   No idea Backordered                                                                                                       \n",
      "424   Beautiful crib board Beautiful!!                                                                                          \n",
      "552   Flooring Flooring                                                                                                         \n",
      "589   delayed delivery not yet installed                                                                                        \n",
      "631   Yes 👍                                                                                                                     \n",
      "633   best slippers ever Super comfortable slippers                                                                             \n",
      "718   GREAT SHOES I WOULD BUY AGAIN GREAT SHOE VERY COMFORTABLE                                                                 \n",
      "745   yes everyday                                                                                                              \n",
      "802   yes nice                                                                                                                  \n",
      "818   No na                                                                                                                     \n",
      "834   my daughter loved it My daughter fell in love with the shoes, and leds are really really bright. Great product            \n",
      "850   Love ☺️☺️                                                                                                                 \n",
      "869   good good                                                                                                                 \n",
      "960   Perfekt Perfekt                                                                                                           \n",
      "965   Comfortable Jeans.  Cute design                                                                                           \n",
      "971   maybe so far so good                                                                                                      \n",
      "1044  Excellent look & fit! Walking @ 1-1/2 hours 6 days / week ...                                                             \n",
      "1061  dont like i am returning them                                                                                             \n",
      "1102  awesome shoes!!!!!! awesome shoes!!!!                                                                                     \n",
      "1167  loafer j'adore le style                                                                                                   \n",
      "1196  P P                                                                                                                       \n",
      "1308  love it just love ir                                                                                                      \n",
      "1330  TOP Ich mag es robust, mega Sohle                                                                                         \n",
      "1340  Mutt Shoes Love Dogs                                                                                                      \n",
      "1431  Je les adore Excellentes                                                                                                  \n",
      "1442  VERY COMFORTABLE GREAT SHOES FITS JUST RIGHT                                                                              \n",
      "1465  Yes! Beautiful! I love it😍                                                                                                \n",
      "1476  yes yes                                                                                                                   \n",
      "1533  COMFY COMFY COMFY VERY COMFORTABLE AND GREAT LOOKING SHOE                                                                 \n",
      "1586  ja alles gut                                                                                                              \n",
      "1593  never order online Never buy online                                                                                       \n",
      "1595  Bequeme Schuhe Alles prim                                                                                                 \n",
      "1596  DID NOT LIKE, WOULD SLIDE UP AND DOWN ON BACK OF FOOT EVEN IN THE REGULAR WIDTH, SHOES SLID UP AND DOWN ON BACK OF FEET   \n",
      "1622  charo .                                                                                                                   \n",
      "1651  Skechers Arch-Fit Wonderful!                                                                                              \n",
      "1654  Yes I have no comments.                                                                                                   \n",
      "1662  yes a ok                                                                                                                  \n",
      "1694  Excellent Excellent                                                                                                       \n",
      "1706  Tolle Stiefel supertolle Stiefel....sehr bequem                                                                           \n",
      "1780  ++++++++ +++++++++++++                                                                                                    \n",
      "1815  would buy again walking                                                                                                   \n",
      "1926  Nice N/A                                                                                                                  \n",
      "2005  yes like it                                                                                                               \n",
      "2055  Estupendas!! Estupendas                                                                                                   \n",
      "2072  Jvbe Bien                                                                                                                 \n",
      "2111  Super comodos Este producto super cómodo y elegante                                                                       \n",
      "2185  GOOD SLIP WARM                                                                                                            \n",
      "2250  Excellent I love it                                                                                                       \n",
      "2274  yes comfertable                                                                                                           \n",
      "2275  A-line Rider Comfortable                                                                                                  \n",
      "2292  Poppy  breezy street Love it                                                                                              \n",
      "2323  Antigo tres bien                                                                                                          \n",
      "2327  Snark Good tuner                                                                                                          \n",
      "2332  Good value, mediocre quality. Good value, mediocre quality.                                                               \n",
      "2338  Guitar tuner Great tuner                                                                                                  \n",
      "2356  Beautiful noise They make a beautiful noise!                                                                              \n",
      "2374  Happy So far so good!                                                                                                     \n",
      "2390  Excellent Excellent                                                                                                       \n",
      "2397  Yes Very good                                                                                                             \n",
      "2398  great cable great cables                                                                                                  \n",
      "2407  Good Excellent                                                                                                            \n",
      "2427  Fast delivery not problem Fast delivery                                                                                   \n",
      "2442  10/10 amazing cable                                                                                                       \n",
      "2448  Yes Nice,                                                                                                                 \n",
      "2466  Hasn't broken so I guess it's good Good strap. Works like a strap would.                                                  \n",
      "2509  👌🏾 Excellent durability                                                                                                   \n",
      "2555  Good Good quality                                                                                                         \n",
      "2582  Sturdy set Sturdy set                                                                                                     \n",
      "2594  Yes I like it!!!!!!                                                                                                       \n",
      "2630  Jazzy and sweet!! Awesome reeds!!                                                                                         \n",
      "2684  did not keep Did not keep. Got a Bose system                                                                              \n",
      "2690  👍 fantastic!                                                                                                              \n",
      "2710  👍👍👍 👍👍👍                                                                                                                   \n",
      "2712  Fast delivery Fast free delivery 📦 💨                                                                                      \n",
      "2742  Overdrive pedal Great overdrive/ boost                                                                                    \n",
      "2748  Excellent Excellent                                                                                                       \n",
      "2821  Great bedroom nightstands. Looks great as nightstands. Sturdy.                                                            \n",
      "2840  Guitar Excellent service                                                                                                  \n",
      "2847  Beautiful Beautiful & sturdy,  I love it                                                                                  \n",
      "2874  Yes Love it!                                                                                                              \n",
      "2898  Cute! Cute!                                                                                                               \n",
      "2922  Unique Sofa Side Table A unique side table next to my sofa. I love the ombré effect.                                      \n",
      "2936  GOOD FIT FOR SPECIFIC CHAIR LOOKS GREAT                                                                                   \n",
      "3011  ************* *****                                                                                                       \n",
      "3178  Yes 👍                                                                                                                     \n",
      "3211  I👍 👍👍👍                                                                                                                    \n",
      "3258  Love love love ❤️ Beautiful beautiful beautiful ❤️❤️❤️                                                                    \n",
      "3265  test test                                                                                                                 \n",
      "3284  Beautiful Beautiful and simple.                                                                                           \n",
      "3295  works great works great                                                                                                   \n",
      "\n",
      "                                            SPACY_LANG PRED_LANG      PROB  \\\n",
      "5     {'language': 'cy', 'score': 0.9999980098613488}   cy        0.999998   \n",
      "8     {'language': 'es', 'score': 0.9999953857203001}   es        0.999995   \n",
      "10    {'language': 'pt', 'score': 0.999996565934376}    pt        0.999997   \n",
      "12    {'language': 'it', 'score': 0.9999967598852091}   it        0.999997   \n",
      "20    {'language': 'fr', 'score': 0.9999970709841223}   fr        0.999997   \n",
      "24    {'language': 'de', 'score': 0.9999938801150738}   de        0.999994   \n",
      "36    {'language': 'ro', 'score': 0.7249394436567907}   ro        0.724939   \n",
      "62    {'language': 'cy', 'score': 0.9999990973245771}   cy        0.999999   \n",
      "328   {'language': 'ca', 'score': 0.7142830470226577}   ca        0.714283   \n",
      "380   {'language': 'da', 'score': 0.9999947506285762}   da        0.999995   \n",
      "406   {'language': 'da', 'score': 0.9999933461395986}   da        0.999993   \n",
      "424   {'language': 'ro', 'score': 0.9999938400646209}   ro        0.999994   \n",
      "552   {'language': 'af', 'score': 0.9999955665935658}   af        0.999996   \n",
      "589   {'language': 'da', 'score': 0.8571372978264205}   da        0.857137   \n",
      "631   {'language': 'fr', 'score': 0.9999941623035089}   fr        0.999994   \n",
      "633   {'language': 'no', 'score': 0.9999933010147015}   no        0.999993   \n",
      "718   {'language': 'de', 'score': 0.8571379454399928}   de        0.857138   \n",
      "745   {'language': 'tr', 'score': 0.9999931847723726}   tr        0.999993   \n",
      "802   {'language': 'tr', 'score': 0.5714270677266067}   tr        0.571427   \n",
      "818   {'language': 'tl', 'score': 0.999994134137749}    tl        0.999994   \n",
      "834   {'language': 'en', 'score': 0.999998489436712}    en        0.999998   \n",
      "850   {'language': 'sl', 'score': 0.8571383070334415}   sl        0.857138   \n",
      "869   {'language': 'so', 'score': 0.9999986190081045}   so        0.999999   \n",
      "960   {'language': 'no', 'score': 0.9999951804257722}   no        0.999995   \n",
      "965   {'language': 'fr', 'score': 0.999995914679388}    fr        0.999996   \n",
      "971   {'language': 'so', 'score': 0.9999971240797754}   so        0.999997   \n",
      "1044  {'language': 'af', 'score': 0.9999933990360247}   af        0.999993   \n",
      "1061  {'language': 'no', 'score': 0.8571374418173633}   no        0.857137   \n",
      "1102  {'language': 'af', 'score': 0.7142844641999765}   af        0.714284   \n",
      "1167  {'language': 'da', 'score': 0.85712300926434}     da        0.857123   \n",
      "1196  {'language': 'pl', 'score': 0.9999919210391315}   pl        0.999992   \n",
      "1308  {'language': 'sl', 'score': 0.9999962391177404}   sl        0.999996   \n",
      "1330  {'language': 'et', 'score': 0.7141670589684377}   et        0.714167   \n",
      "1340  {'language': 'no', 'score': 0.9999956314748718}   no        0.999996   \n",
      "1431  {'language': 'es', 'score': 0.8565097404852704}   es        0.856510   \n",
      "1442  {'language': 'de', 'score': 0.9999968590637167}   de        0.999997   \n",
      "1465  {'language': 'fr', 'score': 0.7520090235624082}   fr        0.752009   \n",
      "1476  {'language': 'tr', 'score': 0.9999980721762751}   tr        0.999998   \n",
      "1533  {'language': 'cy', 'score': 0.6198833647707873}   cy        0.619883   \n",
      "1586  {'language': 'et', 'score': 0.9999976415230802}   et        0.999998   \n",
      "1593  {'language': 'no', 'score': 0.9999936965916099}   no        0.999994   \n",
      "1595  {'language': 'fr', 'score': 0.8571391757879966}   fr        0.857139   \n",
      "1596  {'language': 'de', 'score': 0.9999951316968279}   de        0.999995   \n",
      "1622  {'language': 'cy', 'score': 0.7145688781363544}   cy        0.714569   \n",
      "1651  {'language': 'de', 'score': 0.9999951614746221}   de        0.999995   \n",
      "1654  {'language': 'fr', 'score': 0.9999942415116547}   fr        0.999994   \n",
      "1662  {'language': 'tr', 'score': 0.5714295893270429}   tr        0.571430   \n",
      "1694  {'language': 'ca', 'score': 0.9999966437286435}   ca        0.999997   \n",
      "1706  {'language': 'it', 'score': 0.5714262852884803}   it        0.571426   \n",
      "1780  {'language': 'UNKNOWN', 'score': 0.0}             UNKNOWN   0.000000   \n",
      "1815  {'language': 'so', 'score': 0.4285718376360215}   so        0.428572   \n",
      "1926  {'language': 'ro', 'score': 0.9999958072282751}   ro        0.999996   \n",
      "2005  {'language': 'sq', 'score': 0.5714266547358272}   sq        0.571427   \n",
      "2055  {'language': 'pt', 'score': 0.9999934721608086}   pt        0.999993   \n",
      "2072  {'language': 'de', 'score': 0.9999939473818377}   de        0.999994   \n",
      "2111  {'language': 'es', 'score': 0.9999961462525756}   es        0.999996   \n",
      "2185  {'language': 'de', 'score': 0.9999970725616343}   de        0.999997   \n",
      "2250  {'language': 'it', 'score': 0.571426936539196}    it        0.571427   \n",
      "2274  {'language': 'es', 'score': 0.9999963699810943}   es        0.999996   \n",
      "2275  {'language': 'no', 'score': 0.9999951610724684}   no        0.999995   \n",
      "2292  {'language': 'nl', 'score': 0.7142843239574729}   nl        0.714284   \n",
      "2323  {'language': 'es', 'score': 0.9999938634622858}   es        0.999994   \n",
      "2327  {'language': 'et', 'score': 0.714284177110872}    et        0.714284   \n",
      "2332  {'language': 'ca', 'score': 0.4285715649060347}   ca        0.428572   \n",
      "2338  {'language': 'ro', 'score': 0.9999948076052096}   ro        0.999995   \n",
      "2356  {'language': 'fr', 'score': 0.8571388071145671}   fr        0.857139   \n",
      "2374  {'language': 'so', 'score': 0.7142851376724177}   so        0.714285   \n",
      "2390  {'language': 'ca', 'score': 0.9999934847606731}   ca        0.999993   \n",
      "2397  {'language': 'af', 'score': 0.7142843083917941}   af        0.714284   \n",
      "2398  {'language': 'ca', 'score': 0.999994971986211}    ca        0.999995   \n",
      "2407  {'language': 'ca', 'score': 0.42857092247513634}  ca        0.428571   \n",
      "2427  {'language': 'da', 'score': 0.8567419418400737}   da        0.856742   \n",
      "2442  {'language': 'it', 'score': 0.7142831407985424}   it        0.714283   \n",
      "2448  {'language': 'fr', 'score': 0.5762690568602984}   fr        0.576269   \n",
      "2466  {'language': 'af', 'score': 0.5714282892205091}   af        0.571428   \n",
      "2509  {'language': 'ca', 'score': 0.7142842627516938}   ca        0.714284   \n",
      "2555  {'language': 'so', 'score': 0.8571401807396457}   so        0.857140   \n",
      "2582  {'language': 'de', 'score': 0.7142838101450973}   de        0.714284   \n",
      "2594  {'language': 'af', 'score': 0.8571397455579052}   af        0.857140   \n",
      "2630  {'language': 'af', 'score': 0.9999939175763404}   af        0.999994   \n",
      "2684  {'language': 'af', 'score': 0.9999962100946878}   af        0.999996   \n",
      "2690  {'language': 'ca', 'score': 0.575714132946715}    ca        0.575714   \n",
      "2710  {'language': 'UNKNOWN', 'score': 0.0}             UNKNOWN   0.000000   \n",
      "2712  {'language': 'da', 'score': 0.571426078205225}    da        0.571426   \n",
      "2742  {'language': 'da', 'score': 0.47581267370694}     da        0.475813   \n",
      "2748  {'language': 'ca', 'score': 0.9999971518853051}   ca        0.999997   \n",
      "2821  {'language': 'af', 'score': 0.9999956866489068}   af        0.999996   \n",
      "2840  {'language': 'ca', 'score': 0.9999936902850227}   ca        0.999994   \n",
      "2847  {'language': 'ro', 'score': 0.9999967310190075}   ro        0.999997   \n",
      "2874  {'language': 'fr', 'score': 0.571454615368544}    fr        0.571455   \n",
      "2898  {'language': 'ro', 'score': 0.9999962089071787}   ro        0.999996   \n",
      "2922  {'language': 'fr', 'score': 0.8571373247806936}   fr        0.857137   \n",
      "2936  {'language': 'de', 'score': 0.9999950066247258}   de        0.999995   \n",
      "3011  {'language': 'UNKNOWN', 'score': 0.0}             UNKNOWN   0.000000   \n",
      "3178  {'language': 'fr', 'score': 0.7142805903239436}   fr        0.714281   \n",
      "3211  {'language': 'UNKNOWN', 'score': 0.0}             UNKNOWN   0.000000   \n",
      "3258  {'language': 'ro', 'score': 0.7142810168703573}   ro        0.714281   \n",
      "3265  {'language': 'fr', 'score': 0.7142832631795695}   fr        0.714283   \n",
      "3284  {'language': 'ro', 'score': 0.8571413966733977}   ro        0.857141   \n",
      "3295  {'language': 'af', 'score': 0.9999945596847217}   af        0.999995   \n",
      "\n",
      "      model_FL  \n",
      "5     1         \n",
      "8     1         \n",
      "10    1         \n",
      "12    1         \n",
      "20    1         \n",
      "24    1         \n",
      "36    1         \n",
      "62    1         \n",
      "328   1         \n",
      "380   1         \n",
      "406   1         \n",
      "424   1         \n",
      "552   1         \n",
      "589   1         \n",
      "631   1         \n",
      "633   1         \n",
      "718   1         \n",
      "745   1         \n",
      "802   1         \n",
      "818   1         \n",
      "834   1         \n",
      "850   1         \n",
      "869   1         \n",
      "960   1         \n",
      "965   1         \n",
      "971   1         \n",
      "1044  1         \n",
      "1061  1         \n",
      "1102  1         \n",
      "1167  1         \n",
      "1196  1         \n",
      "1308  1         \n",
      "1330  1         \n",
      "1340  1         \n",
      "1431  1         \n",
      "1442  1         \n",
      "1465  1         \n",
      "1476  1         \n",
      "1533  1         \n",
      "1586  1         \n",
      "1593  1         \n",
      "1595  1         \n",
      "1596  1         \n",
      "1622  1         \n",
      "1651  1         \n",
      "1654  1         \n",
      "1662  1         \n",
      "1694  1         \n",
      "1706  1         \n",
      "1780  1         \n",
      "1815  1         \n",
      "1926  1         \n",
      "2005  1         \n",
      "2055  1         \n",
      "2072  1         \n",
      "2111  1         \n",
      "2185  1         \n",
      "2250  1         \n",
      "2274  1         \n",
      "2275  1         \n",
      "2292  1         \n",
      "2323  1         \n",
      "2327  1         \n",
      "2332  1         \n",
      "2338  1         \n",
      "2356  1         \n",
      "2374  1         \n",
      "2390  1         \n",
      "2397  1         \n",
      "2398  1         \n",
      "2407  1         \n",
      "2427  1         \n",
      "2442  1         \n",
      "2448  1         \n",
      "2466  1         \n",
      "2509  1         \n",
      "2555  1         \n",
      "2582  1         \n",
      "2594  1         \n",
      "2630  1         \n",
      "2684  1         \n",
      "2690  1         \n",
      "2710  1         \n",
      "2712  1         \n",
      "2742  1         \n",
      "2748  1         \n",
      "2821  1         \n",
      "2840  1         \n",
      "2847  1         \n",
      "2874  1         \n",
      "2898  1         \n",
      "2922  1         \n",
      "2936  1         \n",
      "3011  1         \n",
      "3178  1         \n",
      "3211  1         \n",
      "3258  1         \n",
      "3265  1         \n",
      "3284  1         \n",
      "3295  1"
     ]
    }
   ],
   "source": [
    "FP.head(100)"
   ]
  },
  {
   "cell_type": "code",
   "execution_count": null,
   "metadata": {},
   "outputs": [],
   "source": []
  },
  {
   "cell_type": "code",
   "execution_count": 19,
   "metadata": {},
   "outputs": [
    {
     "data": {
      "application/vnd.jupyter.widget-view+json": {
       "model_id": "02ca81056d384c2883df676e693a7e8d",
       "version_major": 2,
       "version_minor": 0
      },
      "text/plain": [
       "VBox()"
      ]
     },
     "metadata": {},
     "output_type": "display_data"
    },
    {
     "data": {
      "application/vnd.jupyter.widget-view+json": {
       "model_id": "",
       "version_major": 2,
       "version_minor": 0
      },
      "text/plain": [
       "FloatProgress(value=0.0, bar_style='info', description='Progress:', layout=Layout(height='25px', width='50%'),…"
      ]
     },
     "metadata": {},
     "output_type": "display_data"
    },
    {
     "name": "stdout",
     "output_type": "stream",
     "text": [
      "'cy'"
     ]
    }
   ],
   "source": [
    "detect('good good stuff')"
   ]
  },
  {
   "cell_type": "code",
   "execution_count": 24,
   "metadata": {},
   "outputs": [
    {
     "data": {
      "application/vnd.jupyter.widget-view+json": {
       "model_id": "868825f261b2493b80d01673a815413e",
       "version_major": 2,
       "version_minor": 0
      },
      "text/plain": [
       "VBox()"
      ]
     },
     "metadata": {},
     "output_type": "display_data"
    },
    {
     "data": {
      "application/vnd.jupyter.widget-view+json": {
       "model_id": "",
       "version_major": 2,
       "version_minor": 0
      },
      "text/plain": [
       "FloatProgress(value=0.0, bar_style='info', description='Progress:', layout=Layout(height='25px', width='50%'),…"
      ]
     },
     "metadata": {},
     "output_type": "display_data"
    },
    {
     "name": "stdout",
     "output_type": "stream",
     "text": [
      "<class 'pandas.core.frame.DataFrame'>\n",
      "Int64Index: 143340 entries, 5 to 1710216\n",
      "Data columns (total 11 columns):\n",
      " #   Column           Non-Null Count   Dtype  \n",
      "---  ------           --------------   -----  \n",
      " 0   UGC_ID           143340 non-null  int64  \n",
      " 1   REVIEW_HEADLINE  143329 non-null  object \n",
      " 2   REVIEW_COMMENTS  143340 non-null  object \n",
      " 3   LANG             143340 non-null  object \n",
      " 4   REVIEW_LENGTH    143340 non-null  int64  \n",
      " 5   FL               143340 non-null  int64  \n",
      " 6   ALL_TEXT         143340 non-null  object \n",
      " 7   SPACY_LANG       143340 non-null  object \n",
      " 8   PRED_LANG        143340 non-null  object \n",
      " 9   PROB             143340 non-null  float64\n",
      " 10  model_FL         143340 non-null  int64  \n",
      "dtypes: float64(1), int64(4), object(6)\n",
      "memory usage: 13.1+ MB"
     ]
    }
   ],
   "source": [
    "FP.info()"
   ]
  },
  {
   "cell_type": "code",
   "execution_count": 25,
   "metadata": {},
   "outputs": [
    {
     "data": {
      "application/vnd.jupyter.widget-view+json": {
       "model_id": "eda5834cde0246d9ad140e5b41130fd4",
       "version_major": 2,
       "version_minor": 0
      },
      "text/plain": [
       "VBox()"
      ]
     },
     "metadata": {},
     "output_type": "display_data"
    },
    {
     "data": {
      "application/vnd.jupyter.widget-view+json": {
       "model_id": "",
       "version_major": 2,
       "version_minor": 0
      },
      "text/plain": [
       "FloatProgress(value=0.0, bar_style='info', description='Progress:', layout=Layout(height='25px', width='50%'),…"
      ]
     },
     "metadata": {},
     "output_type": "display_data"
    }
   ],
   "source": [
    "from pyspark.sql.types import *\n",
    "\n",
    "mySchema = StructType([StructField(\"UGC_ID\", StringType(), True)\\\n",
    ",StructField(\"REVIEW_HEADLINE\", StringType(), True)\\\n",
    ",StructField(\"REVIEW_COMMENTS\", StringType(), True)\\\n",
    ",StructField(\"LANG\", StringType(), True)\\\n",
    ",StructField(\"REVIEW_LENGTH\", StringType(), True)\\\n",
    ",StructField(\"FL\", IntegerType(), True)\\\n",
    ",StructField(\"ALL_TEXT\", StringType(), True)\\\n",
    ",StructField(\"SPACY_LANG\", StringType(), True)\\\n",
    ",StructField(\"PRED_LANG\", StringType(), True)\\\n",
    ",StructField(\"PROB\", FloatType(), True)\\\n",
    ",StructField(\"model_FL\", IntegerType(), True)])\n",
    "\n",
    "\n"
   ]
  },
  {
   "cell_type": "code",
   "execution_count": null,
   "metadata": {},
   "outputs": [],
   "source": []
  },
  {
   "cell_type": "code",
   "execution_count": 26,
   "metadata": {},
   "outputs": [
    {
     "data": {
      "application/vnd.jupyter.widget-view+json": {
       "model_id": "6a1254e18e5f419bb72d9039fa5b851e",
       "version_major": 2,
       "version_minor": 0
      },
      "text/plain": [
       "VBox()"
      ]
     },
     "metadata": {},
     "output_type": "display_data"
    },
    {
     "data": {
      "application/vnd.jupyter.widget-view+json": {
       "model_id": "",
       "version_major": 2,
       "version_minor": 0
      },
      "text/plain": [
       "FloatProgress(value=0.0, bar_style='info', description='Progress:', layout=Layout(height='25px', width='50%'),…"
      ]
     },
     "metadata": {},
     "output_type": "display_data"
    }
   ],
   "source": [
    "SNOWFLAKE_SOURCE_NAME = \"net.snowflake.spark.snowflake\"\n",
    "\n",
    "sfOptions = {\n",
    "  'sfURL' : 'powerreviews.snowflakecomputing.com',\n",
    "  'sfAccount' : 'powerreviews',\n",
    "  'sfUser' : username,\n",
    "  'sfPassword' : password,\n",
    "  'sfDatabase' : 'ANALYTICS_WORKSHOP',\n",
    "  'sfSchema' : 'DATA_SCIENCE',\n",
    "  'sfWarehouse' : 'LOWER_ENV_WAREHOUSE'\n",
    "}"
   ]
  },
  {
   "cell_type": "code",
   "execution_count": 29,
   "metadata": {},
   "outputs": [
    {
     "data": {
      "application/vnd.jupyter.widget-view+json": {
       "model_id": "614a42dc8738443289f555d90f7b57e3",
       "version_major": 2,
       "version_minor": 0
      },
      "text/plain": [
       "VBox()"
      ]
     },
     "metadata": {},
     "output_type": "display_data"
    },
    {
     "data": {
      "application/vnd.jupyter.widget-view+json": {
       "model_id": "",
       "version_major": 2,
       "version_minor": 0
      },
      "text/plain": [
       "FloatProgress(value=0.0, bar_style='info', description='Progress:', layout=Layout(height='25px', width='50%'),…"
      ]
     },
     "metadata": {},
     "output_type": "display_data"
    }
   ],
   "source": [
    "#Turn into spark dataframe in order to write to Snowflake\n",
    "#Couldn't get write_pandas() to work to write directly from pandas to Snowflake\n",
    "FN = spark.createDataFrame(FN, schema=mySchema)"
   ]
  },
  {
   "cell_type": "code",
   "execution_count": 30,
   "metadata": {},
   "outputs": [
    {
     "data": {
      "application/vnd.jupyter.widget-view+json": {
       "model_id": "616b3bc2e9f24282bc0d0277cc217900",
       "version_major": 2,
       "version_minor": 0
      },
      "text/plain": [
       "VBox()"
      ]
     },
     "metadata": {},
     "output_type": "display_data"
    },
    {
     "data": {
      "application/vnd.jupyter.widget-view+json": {
       "model_id": "",
       "version_major": 2,
       "version_minor": 0
      },
      "text/plain": [
       "FloatProgress(value=0.0, bar_style='info', description='Progress:', layout=Layout(height='25px', width='50%'),…"
      ]
     },
     "metadata": {},
     "output_type": "display_data"
    }
   ],
   "source": [
    "FN.write.format(SNOWFLAKE_SOURCE_NAME).options(**sfOptions) \\\n",
    "    .option(\"dbtable\",\"FL_FN_SPACYLANGDETECT\").mode(\"append\").save()\n"
   ]
  },
  {
   "cell_type": "code",
   "execution_count": null,
   "metadata": {},
   "outputs": [],
   "source": []
  },
  {
   "cell_type": "code",
   "execution_count": null,
   "metadata": {},
   "outputs": [],
   "source": []
  },
  {
   "cell_type": "code",
   "execution_count": null,
   "metadata": {},
   "outputs": [],
   "source": []
  },
  {
   "cell_type": "code",
   "execution_count": null,
   "metadata": {},
   "outputs": [],
   "source": []
  },
  {
   "cell_type": "code",
   "execution_count": 109,
   "metadata": {},
   "outputs": [
    {
     "data": {
      "application/vnd.jupyter.widget-view+json": {
       "model_id": "93f0f332017b42a4a6ef56a59b58a396",
       "version_major": 2,
       "version_minor": 0
      },
      "text/plain": [
       "VBox()"
      ]
     },
     "metadata": {},
     "output_type": "display_data"
    },
    {
     "data": {
      "application/vnd.jupyter.widget-view+json": {
       "model_id": "",
       "version_major": 2,
       "version_minor": 0
      },
      "text/plain": [
       "FloatProgress(value=0.0, bar_style='info', description='Progress:', layout=Layout(height='25px', width='50%'),…"
      ]
     },
     "metadata": {},
     "output_type": "display_data"
    },
    {
     "name": "stdout",
     "output_type": "stream",
     "text": [
      "<snowflake.connector.cursor.SnowflakeCursor object at 0x7f19fab41fd0>"
     ]
    }
   ],
   "source": [
    "conn.cursor().execute(\"drop table if exists ANALYTICS_WORKSHOP.DATA_SCIENCE.TST_FP_TEST3\")\n",
    "conn.cursor().execute(\"drop table if exists ANALYTICS_WORKSHOP.DATA_SCIENCE.TST_FN_TEST3\")\n",
    "#conn.cursor().execute(\"drop table if exists ANALYTICS_WORKSHOP.DATA_SCIENCE.TEST_NLP_SPARK6\")\n",
    "#conn.cursor().execute(\"drop table if exists ANALYTICS_WORKSHOP.DATA_SCIENCE.TEST_NLP_SWAP_TOKENS\")"
   ]
  }
 ],
 "metadata": {
  "kernelspec": {
   "display_name": "PySpark",
   "language": "",
   "name": "pysparkkernel"
  },
  "language_info": {
   "codemirror_mode": {
    "name": "python",
    "version": 2
   },
   "mimetype": "text/x-python",
   "name": "pyspark",
   "pygments_lexer": "python2"
  }
 },
 "nbformat": 4,
 "nbformat_minor": 4
}
