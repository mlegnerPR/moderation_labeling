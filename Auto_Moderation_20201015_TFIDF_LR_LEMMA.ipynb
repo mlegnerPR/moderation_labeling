{
 "cells": [
  {
   "cell_type": "code",
   "execution_count": 1,
   "metadata": {},
   "outputs": [
    {
     "data": {
      "application/vnd.jupyter.widget-view+json": {
       "model_id": "fc17b60e3a51434993bab453239a0b09",
       "version_major": 2,
       "version_minor": 0
      },
      "text/plain": [
       "VBox()"
      ]
     },
     "metadata": {},
     "output_type": "display_data"
    },
    {
     "name": "stdout",
     "output_type": "stream",
     "text": [
      "Starting Spark application\n"
     ]
    },
    {
     "data": {
      "text/html": [
       "<table>\n",
       "<tr><th>ID</th><th>YARN Application ID</th><th>Kind</th><th>State</th><th>Spark UI</th><th>Driver log</th><th>Current session?</th></tr><tr><td>0</td><td>application_1602781820330_0001</td><td>pyspark</td><td>idle</td><td><a target=\"_blank\" href=\"http://ip-10-101-213-125.us-west-2.compute.internal:20888/proxy/application_1602781820330_0001/\">Link</a></td><td><a target=\"_blank\" href=\"http://ip-10-101-213-125.us-west-2.compute.internal:8042/node/containerlogs/container_1602781820330_0001_01_000001/livy\">Link</a></td><td>✔</td></tr></table>"
      ],
      "text/plain": [
       "<IPython.core.display.HTML object>"
      ]
     },
     "metadata": {},
     "output_type": "display_data"
    },
    {
     "data": {
      "application/vnd.jupyter.widget-view+json": {
       "model_id": "",
       "version_major": 2,
       "version_minor": 0
      },
      "text/plain": [
       "FloatProgress(value=0.0, bar_style='info', description='Progress:', layout=Layout(height='25px', width='50%'),…"
      ]
     },
     "metadata": {},
     "output_type": "display_data"
    },
    {
     "name": "stdout",
     "output_type": "stream",
     "text": [
      "SparkSession available as 'spark'.\n"
     ]
    },
    {
     "data": {
      "application/vnd.jupyter.widget-view+json": {
       "model_id": "",
       "version_major": 2,
       "version_minor": 0
      },
      "text/plain": [
       "FloatProgress(value=0.0, bar_style='info', description='Progress:', layout=Layout(height='25px', width='50%'),…"
      ]
     },
     "metadata": {},
     "output_type": "display_data"
    }
   ],
   "source": [
    "#Import packages\n",
    "import numpy as np\n",
    "from numpy import argmax\n",
    "import pyspark.sql.functions as F\n",
    "import snowflake.connector\n",
    "import pandas as pd\n",
    "import spacy\n",
    "#from sparknlp.base import Finisher, DocumentAssembler\n",
    "#from sparknlp.annotator import  Normalizer, LemmatizerModel, StopWordsCleaner, Tokenizer\n",
    "#from pyspark.ml import Pipeline\n",
    "#from pyspark.ml.feature import CountVectorizer, VectorAssembler, HashingTF, IDF, Tokenizer\n",
    "#from nltk.corpus import stopwords\n",
    "from sklearn.feature_extraction.text import TfidfVectorizer\n",
    "from sklearn.model_selection import train_test_split\n",
    "from scipy import sparse\n",
    "from sklearn.linear_model import LogisticRegression\n",
    "from sklearn import svm\n",
    "from sklearn.multiclass import OneVsRestClassifier\n",
    "from sklearn.metrics import f1_score, accuracy_score, recall_score, precision_score, confusion_matrix, plot_confusion_matrix, \\\n",
    "                            roc_curve, auc, classification_report, precision_recall_curve\n",
    "import matplotlib.pyplot as plt\n",
    "import imblearn\n",
    "from autocorrect import Speller"
   ]
  },
  {
   "cell_type": "code",
   "execution_count": 2,
   "metadata": {},
   "outputs": [
    {
     "data": {
      "application/vnd.jupyter.widget-view+json": {
       "model_id": "b2fc050d80e34d469f86816e57b345fb",
       "version_major": 2,
       "version_minor": 0
      },
      "text/plain": [
       "VBox()"
      ]
     },
     "metadata": {},
     "output_type": "display_data"
    },
    {
     "data": {
      "application/vnd.jupyter.widget-view+json": {
       "model_id": "",
       "version_major": 2,
       "version_minor": 0
      },
      "text/plain": [
       "FloatProgress(value=0.0, bar_style='info', description='Progress:', layout=Layout(height='25px', width='50%'),…"
      ]
     },
     "metadata": {},
     "output_type": "display_data"
    }
   ],
   "source": [
    "#SPARK connection info\n",
    "sfOptions = {\n",
    "  'sfURL' : 'powerreviews.snowflakecomputing.com',\n",
    "  'sfAccount' : 'powerreviews',\n",
    "  'sfUser' : 'APP_SPARK_PROD',\n",
    "  'sfPassword' : '>6txhcQ*7&^Qrq`j',\n",
    "  'sfDatabase' : 'ANALYTICS_PROD',\n",
    "  'sfSchema' : 'ANALYTICS',\n",
    "  'sfWarehouse' : 'LOWER_ENV_WAREHOUSE'\n",
    "}\n",
    "SNOWFLAKE_SOURCE_NAME = \"net.snowflake.spark.snowflake\"\n",
    "\n",
    "#PYTHON connection info\n",
    "conn = snowflake.connector.connect(\n",
    "    account='powerreviews',\n",
    "    database='analytics_prod',\n",
    "    warehouse='LOWER_ENV_WAREHOUSE',\n",
    "    user='APP_SPARK_PROD',\n",
    "    password='>6txhcQ*7&^Qrq`j'\n",
    "    )"
   ]
  },
  {
   "cell_type": "code",
   "execution_count": 3,
   "metadata": {},
   "outputs": [
    {
     "data": {
      "application/vnd.jupyter.widget-view+json": {
       "model_id": "b1c4ae78672d4a099dfd1d0e06eefc0d",
       "version_major": 2,
       "version_minor": 0
      },
      "text/plain": [
       "VBox()"
      ]
     },
     "metadata": {},
     "output_type": "display_data"
    },
    {
     "data": {
      "application/vnd.jupyter.widget-view+json": {
       "model_id": "",
       "version_major": 2,
       "version_minor": 0
      },
      "text/plain": [
       "FloatProgress(value=0.0, bar_style='info', description='Progress:', layout=Layout(height='25px', width='50%'),…"
      ]
     },
     "metadata": {},
     "output_type": "display_data"
    }
   ],
   "source": [
    "#Use review data set to get observation codes bc they are already comma separated and less joins to perform\n",
    "#Still need observation set though to get observation created date\n",
    "#This is bc review could be from ages ago but we could have imported recently and moderated it\n",
    "#Want to make sure we include as many observation labels as possible for most accurate model\n",
    "\n"
   ]
  },
  {
   "cell_type": "code",
   "execution_count": 28,
   "metadata": {},
   "outputs": [
    {
     "data": {
      "application/vnd.jupyter.widget-view+json": {
       "model_id": "88ca1a66f01e43278a283beada124a4a",
       "version_major": 2,
       "version_minor": 0
      },
      "text/plain": [
       "VBox()"
      ]
     },
     "metadata": {},
     "output_type": "display_data"
    },
    {
     "data": {
      "application/vnd.jupyter.widget-view+json": {
       "model_id": "",
       "version_major": 2,
       "version_minor": 0
      },
      "text/plain": [
       "FloatProgress(value=0.0, bar_style='info', description='Progress:', layout=Layout(height='25px', width='50%'),…"
      ]
     },
     "metadata": {},
     "output_type": "display_data"
    }
   ],
   "source": [
    "query = \"select distinct r.ugc_id, r.created_date, r.review_headline, \\\n",
    "r.review_comments, r.review_rating, r.reviewer_nickname, r.locale, r.observations, \\\n",
    "ADD IN CASE WHEN HERE \\\n",
    "from analytics.review as r \\\n",
    "left join cdm.observation as o \\\n",
    "on r.ugc_id = o.ugc_id \\\n",
    "where contains(r.observations, 'PM') \\\n",
    "and r.locale in ('en_US','en_GB','en_CA') \\\n",
    "and o.created_date > '2020-09-23'  \\\n",
    "limit 100\""
   ]
  },
  {
   "cell_type": "code",
   "execution_count": 29,
   "metadata": {},
   "outputs": [
    {
     "data": {
      "application/vnd.jupyter.widget-view+json": {
       "model_id": "e0da7cb7f5954cef8d19a1c5516eec40",
       "version_major": 2,
       "version_minor": 0
      },
      "text/plain": [
       "VBox()"
      ]
     },
     "metadata": {},
     "output_type": "display_data"
    },
    {
     "data": {
      "application/vnd.jupyter.widget-view+json": {
       "model_id": "",
       "version_major": 2,
       "version_minor": 0
      },
      "text/plain": [
       "FloatProgress(value=0.0, bar_style='info', description='Progress:', layout=Layout(height='25px', width='50%'),…"
      ]
     },
     "metadata": {},
     "output_type": "display_data"
    }
   ],
   "source": [
    "#Careful not to get CNR for NR\n",
    "#CNR, NR, PM - contains(r.observations, ',NR,')\n",
    "#NR, PM - substring(r.observations, 1, 2) = 'NR'\n",
    "#CNR, PM - DONT WANT\n",
    "#Careful not to get SSC for SC\n",
    "#PM, SC - \n",
    "#PM, SSC - DONT WANT\n",
    "#PM, SC, SSC\n",
    "#18 labels total - not including PM (doesn't yet include NOLABEL label - 19 labels with that)\n",
    "query_testing = \"select distinct r.ugc_id, r.created_date, r.review_headline, \\\n",
    "r.review_comments, r.review_rating, r.reviewer_nickname, r.reviewer_location, r.observations, \\\n",
    "case when contains(r.observations, 'PM') then 1 else 0 end as PM, \\\n",
    "case when (contains(r.observations, ',NR,') or substring(r.observations, 1, 2) = 'NR')  then 1 else 0 end as NR \\\n",
    "from analytics.review as r \\\n",
    "left join cdm.observation as o \\\n",
    "on r.ugc_id = o.ugc_id \\\n",
    "where contains(r.observations, 'PM') \\\n",
    "and (contains(r.observations, ',NR,') or substring(r.observations, 1, 2) = 'NR') \\\n",
    "and r.locale in ('en_US','en_GB','en_CA') \\\n",
    "and o.created_date > '2018-10-01' \""
   ]
  },
  {
   "cell_type": "code",
   "execution_count": 30,
   "metadata": {},
   "outputs": [
    {
     "data": {
      "application/vnd.jupyter.widget-view+json": {
       "model_id": "8dc7ff0b77934f8995912dbbdb1eeb70",
       "version_major": 2,
       "version_minor": 0
      },
      "text/plain": [
       "VBox()"
      ]
     },
     "metadata": {},
     "output_type": "display_data"
    },
    {
     "data": {
      "application/vnd.jupyter.widget-view+json": {
       "model_id": "",
       "version_major": 2,
       "version_minor": 0
      },
      "text/plain": [
       "FloatProgress(value=0.0, bar_style='info', description='Progress:', layout=Layout(height='25px', width='50%'),…"
      ]
     },
     "metadata": {},
     "output_type": "display_data"
    },
    {
     "name": "stdout",
     "output_type": "stream",
     "text": [
      "       UGC_ID        CREATED_DATE  \\\n",
      "0   135665649 2017-12-22 17:01:41   \n",
      "1   136059039 2017-12-29 05:23:20   \n",
      "2   136087337 2017-12-29 15:33:54   \n",
      "3   136061518 2017-12-29 06:34:32   \n",
      "4   135666042 2017-12-22 17:05:51   \n",
      "..        ...                 ...   \n",
      "95  253207877 2019-09-17 11:32:33   \n",
      "96  253208366 2019-09-17 11:44:21   \n",
      "97  253207441 2019-09-17 11:24:07   \n",
      "98  253208213 2019-09-17 11:42:00   \n",
      "99  253207935 2019-09-17 11:35:05   \n",
      "\n",
      "                                    REVIEW_HEADLINE  \\\n",
      "0   No!                                               \n",
      "1   Would buy                                         \n",
      "2   No                                                \n",
      "3   Worst Customer Service Ever!!!                    \n",
      "4   Not sure if the delivery service is trustworthy   \n",
      "..                                              ...   \n",
      "95  Don't us online                                   \n",
      "96  Too much packaging                                \n",
      "97  NEVER RECEIVED                                    \n",
      "98  Extension requirement                             \n",
      "99  Mmm                                               \n",
      "\n",
      "                                                                                                                                                                                                                                                                                                                                                                                                           REVIEW_COMMENTS  \\\n",
      "0   Never received.                                                                                                                                                                                                                                                                                                                                                                                                          \n",
      "1   clouds                                                                                                                                                                                                                                                                                                                                                                                                                   \n",
      "2   I NEED MY ORDER !!                                                                                                                                                                                                                                                                                                                                                                                                       \n",
      "3   This review is not about the product itself, as I haven't received it yet. I placed an order for Expedited Shipping as I wanted to take these on a trip with me. The company shipped them Ground delivery instead. When I called to inquire about the mistake, the CSR's response was \"OK, we'll give you a credit for the shipping\". No apology. No concern whatsoever regarding my disappointment and inconvenience.   \n",
      "4   would have been happy to receive it                                                                                                                                                                                                                                                                                                                                                                                      \n",
      "..                                  ...                                                                                                                                                                                                                                                                                                                                                                                      \n",
      "95  Never picked up the item. Ordered it online for pickup in store and they tried to charge me twice. Called customer service and party city customer service is not very good.                                                                                                                                                                                                                                             \n",
      "96  The frame is great but it arrived in a huge box with 19 feet of bubble wrap. Seriously, I measured. So wasteful.                                                                                                                                                                                                                                                                                                         \n",
      "97  Ordered this item in July. Never received package. Lost by fedex. I did receive a refund but package was never located.                                                                                                                                                                                                                                                                                                  \n",
      "98  yes                                                                                                                                                                                                                                                                                                                                                                                                                      \n",
      "99  ....                                                                                                                                                                                                                                                                                                                                                                                                                     \n",
      "\n",
      "    REVIEW_RATING REVIEWER_NICKNAME    REVIEWER_LOCATION       OBSERVATIONS  \\\n",
      "0   1.0            Deshon            New york             NPO,NR,PM           \n",
      "1   5.0            Sean              Fort Washington, MD  NPO,NR,PM           \n",
      "2   1.0            Kobe              North Las Vegas,NV   NPO,NR,PM           \n",
      "3   1.0            Avid Shopper      Georgia              NPO,NR,PM           \n",
      "4   1.0            Blanco            Maple Heights Ohio   NPO,NR,PM           \n",
      "..  ...               ...                           ...         ...           \n",
      "95  1.0            Cheri             Undisclosed          CNR,NR,PM           \n",
      "96  3.0            KENDELL           Undisclosed          CM,NPO,NR,PM        \n",
      "97  1.0            Annie88           Charleston, SC       CNR,NR,PM           \n",
      "98  3.0            Anthony O'Neal    SAN TAN VALLEY       CNR,MDD,NR,PII,PM   \n",
      "99  1.0            mi                Undisclosed          CNR,NR,PM           \n",
      "\n",
      "    PM  NR  \n",
      "0   1   1   \n",
      "1   1   1   \n",
      "2   1   1   \n",
      "3   1   1   \n",
      "4   1   1   \n",
      ".. ..  ..   \n",
      "95  1   1   \n",
      "96  1   1   \n",
      "97  1   1   \n",
      "98  1   1   \n",
      "99  1   1   \n",
      "\n",
      "[100 rows x 10 columns]"
     ]
    }
   ],
   "source": [
    "#pd.set_option('display.max_colwidth', -1)\n",
    "#pd.set_option('display.max_columns', None)\n",
    "#pd.set_option('display.max_rows', None)\n",
    "reviews = pd.read_sql(query_testing, conn)\n",
    "reviews.head(100)\n",
    "#reviews.info()\n",
    "\n",
    "#PULLING IN ALL REVIEWS SINCE '2018-10-01' (64,908,446) TAKES ~15 MINS\n",
    "#PULLING IN ALL REVIEWS SINCE '2020-01-01' (30,174,364) TAKES ~15 MINS (Not any shorter?)\n",
    "#PULLING IN ALL REVIEWS SINCE '2018-10-01' with NR label only (510,253) TAKES ~few MINS "
   ]
  },
  {
   "cell_type": "code",
   "execution_count": 31,
   "metadata": {},
   "outputs": [
    {
     "data": {
      "application/vnd.jupyter.widget-view+json": {
       "model_id": "e99cc415e3624678a6f96cca695e6446",
       "version_major": 2,
       "version_minor": 0
      },
      "text/plain": [
       "VBox()"
      ]
     },
     "metadata": {},
     "output_type": "display_data"
    },
    {
     "data": {
      "application/vnd.jupyter.widget-view+json": {
       "model_id": "",
       "version_major": 2,
       "version_minor": 0
      },
      "text/plain": [
       "FloatProgress(value=0.0, bar_style='info', description='Progress:', layout=Layout(height='25px', width='50%'),…"
      ]
     },
     "metadata": {},
     "output_type": "display_data"
    },
    {
     "name": "stdout",
     "output_type": "stream",
     "text": [
      "<class 'pandas.core.frame.DataFrame'>\n",
      "RangeIndex: 512212 entries, 0 to 512211\n",
      "Data columns (total 10 columns):\n",
      " #   Column             Non-Null Count   Dtype         \n",
      "---  ------             --------------   -----         \n",
      " 0   UGC_ID             512212 non-null  int64         \n",
      " 1   CREATED_DATE       512212 non-null  datetime64[ns]\n",
      " 2   REVIEW_HEADLINE    511745 non-null  object        \n",
      " 3   REVIEW_COMMENTS    511255 non-null  object        \n",
      " 4   REVIEW_RATING      511972 non-null  float64       \n",
      " 5   REVIEWER_NICKNAME  511967 non-null  object        \n",
      " 6   REVIEWER_LOCATION  511972 non-null  object        \n",
      " 7   OBSERVATIONS       512212 non-null  object        \n",
      " 8   PM                 512212 non-null  int64         \n",
      " 9   NR                 512212 non-null  int64         \n",
      "dtypes: datetime64[ns](1), float64(1), int64(3), object(5)\n",
      "memory usage: 39.1+ MB"
     ]
    }
   ],
   "source": [
    "reviews.info()"
   ]
  },
  {
   "cell_type": "code",
   "execution_count": 32,
   "metadata": {},
   "outputs": [
    {
     "data": {
      "application/vnd.jupyter.widget-view+json": {
       "model_id": "1934aeba25a749418e6e5af0ab2ce67f",
       "version_major": 2,
       "version_minor": 0
      },
      "text/plain": [
       "VBox()"
      ]
     },
     "metadata": {},
     "output_type": "display_data"
    },
    {
     "data": {
      "application/vnd.jupyter.widget-view+json": {
       "model_id": "",
       "version_major": 2,
       "version_minor": 0
      },
      "text/plain": [
       "FloatProgress(value=0.0, bar_style='info', description='Progress:', layout=Layout(height='25px', width='50%'),…"
      ]
     },
     "metadata": {},
     "output_type": "display_data"
    }
   ],
   "source": [
    "query_testing_2 = \"select distinct r.ugc_id, r.created_date, r.review_headline, \\\n",
    "r.review_comments, r.review_rating, r.reviewer_nickname, r.reviewer_location, r.observations, \\\n",
    "case when contains(r.observations, 'PM') then 1 else 0 end as PM, \\\n",
    "case when (contains(r.observations, ',NR,') or substring(r.observations, 1, 2) = 'NR')  then 1 else 0 end as NR \\\n",
    "from analytics.review as r \\\n",
    "left join cdm.observation as o \\\n",
    "on r.ugc_id = o.ugc_id \\\n",
    "where contains(r.observations, 'PM') \\\n",
    "and not contains(r.observations, ',NR,') and substring(r.observations, 1, 2) != 'NR' \\\n",
    "and r.locale in ('en_US','en_GB','en_CA') \\\n",
    "and o.created_date > '2018-10-01' \\\n",
    "limit 500000\""
   ]
  },
  {
   "cell_type": "code",
   "execution_count": 33,
   "metadata": {},
   "outputs": [
    {
     "data": {
      "application/vnd.jupyter.widget-view+json": {
       "model_id": "4caad7c7e0e9490d9e6c3fed8c9e1b3c",
       "version_major": 2,
       "version_minor": 0
      },
      "text/plain": [
       "VBox()"
      ]
     },
     "metadata": {},
     "output_type": "display_data"
    },
    {
     "data": {
      "application/vnd.jupyter.widget-view+json": {
       "model_id": "",
       "version_major": 2,
       "version_minor": 0
      },
      "text/plain": [
       "FloatProgress(value=0.0, bar_style='info', description='Progress:', layout=Layout(height='25px', width='50%'),…"
      ]
     },
     "metadata": {},
     "output_type": "display_data"
    },
    {
     "name": "stdout",
     "output_type": "stream",
     "text": [
      "<class 'pandas.core.frame.DataFrame'>\n",
      "RangeIndex: 500000 entries, 0 to 499999\n",
      "Data columns (total 10 columns):\n",
      " #   Column             Non-Null Count   Dtype         \n",
      "---  ------             --------------   -----         \n",
      " 0   UGC_ID             500000 non-null  int64         \n",
      " 1   CREATED_DATE       500000 non-null  datetime64[ns]\n",
      " 2   REVIEW_HEADLINE    499968 non-null  object        \n",
      " 3   REVIEW_COMMENTS    499992 non-null  object        \n",
      " 4   REVIEW_RATING      499997 non-null  float64       \n",
      " 5   REVIEWER_NICKNAME  499993 non-null  object        \n",
      " 6   REVIEWER_LOCATION  499993 non-null  object        \n",
      " 7   OBSERVATIONS       500000 non-null  object        \n",
      " 8   PM                 500000 non-null  int64         \n",
      " 9   NR                 500000 non-null  int64         \n",
      "dtypes: datetime64[ns](1), float64(1), int64(3), object(5)\n",
      "memory usage: 38.1+ MB"
     ]
    }
   ],
   "source": [
    "reviews_2 = pd.read_sql(query_testing_2, conn)\n",
    "reviews_2.head(100)\n",
    "reviews_2.info()"
   ]
  },
  {
   "cell_type": "code",
   "execution_count": 34,
   "metadata": {},
   "outputs": [
    {
     "data": {
      "application/vnd.jupyter.widget-view+json": {
       "model_id": "722a7cf6c5f0436dab2d345a1067018a",
       "version_major": 2,
       "version_minor": 0
      },
      "text/plain": [
       "VBox()"
      ]
     },
     "metadata": {},
     "output_type": "display_data"
    },
    {
     "data": {
      "application/vnd.jupyter.widget-view+json": {
       "model_id": "",
       "version_major": 2,
       "version_minor": 0
      },
      "text/plain": [
       "FloatProgress(value=0.0, bar_style='info', description='Progress:', layout=Layout(height='25px', width='50%'),…"
      ]
     },
     "metadata": {},
     "output_type": "display_data"
    },
    {
     "name": "stdout",
     "output_type": "stream",
     "text": [
      "0"
     ]
    }
   ],
   "source": [
    "reviews_2['NR'].sum(axis=0)\n",
    "#reviews_2[reviews_2['NR']==1]"
   ]
  },
  {
   "cell_type": "code",
   "execution_count": 35,
   "metadata": {},
   "outputs": [
    {
     "data": {
      "application/vnd.jupyter.widget-view+json": {
       "model_id": "c1c2d2f64e6c42f097b90092aeaec2e5",
       "version_major": 2,
       "version_minor": 0
      },
      "text/plain": [
       "VBox()"
      ]
     },
     "metadata": {},
     "output_type": "display_data"
    },
    {
     "data": {
      "application/vnd.jupyter.widget-view+json": {
       "model_id": "",
       "version_major": 2,
       "version_minor": 0
      },
      "text/plain": [
       "FloatProgress(value=0.0, bar_style='info', description='Progress:', layout=Layout(height='25px', width='50%'),…"
      ]
     },
     "metadata": {},
     "output_type": "display_data"
    },
    {
     "name": "stdout",
     "output_type": "stream",
     "text": [
      "           UGC_ID        CREATED_DATE  \\\n",
      "0       135665649 2017-12-22 17:01:41   \n",
      "1       136059039 2017-12-29 05:23:20   \n",
      "2       136087337 2017-12-29 15:33:54   \n",
      "3       136061518 2017-12-29 06:34:32   \n",
      "4       135666042 2017-12-22 17:05:51   \n",
      "...           ...                 ...   \n",
      "499995  219116344 2018-12-09 22:12:08   \n",
      "499996  226464424 2012-10-17 00:00:00   \n",
      "499997  226465165 2012-12-13 00:00:00   \n",
      "499998  226468782 2013-12-06 00:00:00   \n",
      "499999  226470924 2013-12-11 00:00:00   \n",
      "\n",
      "                                                         REVIEW_HEADLINE  \\\n",
      "0       No!                                                                \n",
      "1       Would buy                                                          \n",
      "2       No                                                                 \n",
      "3       Worst Customer Service Ever!!!                                     \n",
      "4       Not sure if the delivery service is trustworthy                    \n",
      "...                                                 ...                    \n",
      "499995  AMAZING                                                            \n",
      "499996  Not the right shampoo for me!                                      \n",
      "499997  Excellent lotion                                                   \n",
      "499998  Great Blender!                                                     \n",
      "499999  Excellent for smoothies and healthy drinks and for healthy meals   \n",
      "\n",
      "                                                                                                                                                                                                                                                                                                                                                                                                                                                                                                                                                                                                                                                                                                                                                                                                                                                                                                                                                                                                                                                                                                                                                                                                                                                                                                                                                                                                                                                                                                                             REVIEW_COMMENTS  \\\n",
      "0       Never received.                                                                                                                                                                                                                                                                                                                                                                                                                                                                                                                                                                                                                                                                                                                                                                                                                                                                                                                                                                                                                                                                                                                                                                                                                                                                                                                                                                                                                                                                                                                        \n",
      "1       clouds                                                                                                                                                                                                                                                                                                                                                                                                                                                                                                                                                                                                                                                                                                                                                                                                                                                                                                                                                                                                                                                                                                                                                                                                                                                                                                                                                                                                                                                                                                                                 \n",
      "2       I NEED MY ORDER !!                                                                                                                                                                                                                                                                                                                                                                                                                                                                                                                                                                                                                                                                                                                                                                                                                                                                                                                                                                                                                                                                                                                                                                                                                                                                                                                                                                                                                                                                                                                     \n",
      "3       This review is not about the product itself, as I haven't received it yet. I placed an order for Expedited Shipping as I wanted to take these on a trip with me. The company shipped them Ground delivery instead. When I called to inquire about the mistake, the CSR's response was \"OK, we'll give you a credit for the shipping\". No apology. No concern whatsoever regarding my disappointment and inconvenience.                                                                                                                                                                                                                                                                                                                                                                                                                                                                                                                                                                                                                                                                                                                                                                                                                                                                                                                                                                                                                                                                                                                 \n",
      "4       would have been happy to receive it                                                                                                                                                                                                                                                                                                                                                                                                                                                                                                                                                                                                                                                                                                                                                                                                                                                                                                                                                                                                                                                                                                                                                                                                                                                                                                                                                                                                                                                                                                    \n",
      "...                                     ...                                                                                                                                                                                                                                                                                                                                                                                                                                                                                                                                                                                                                                                                                                                                                                                                                                                                                                                                                                                                                                                                                                                                                                                                                                                                                                                                                                                                                                                                                                    \n",
      "499995  It's Nice! It's Better than The Pictures Shows Even.                                                                                                                                                                                                                                                                                                                                                                                                                                                                                                                                                                                                                                                                                                                                                                                                                                                                                                                                                                                                                                                                                                                                                                                                                                                                                                                                                                                                                                                                                   \n",
      "499996  I was excited to try this product when it came out. After using it for a few days I noticed that my scalp and forehead started to be extremely itchy. After a week of use, my hair did not feel any softer or feel smoother. I still had unmanageable hair and it started feeling like there was a residue build up on my hair. \\nIt smells nice and is creamy but I felt like it wasn't giving me the results that it claimed.                                                                                                                                                                                                                                                                                                                                                                                                                                                                                                                                                                                                                                                                                                                                                                                                                                                                                                                                                                                                                                                                                                        \n",
      "499997  I loved this long lasting lotion. The scent was mild and not overpowering. The lotion was absorbed well into the skin, and left no greasy feeling. It was very effective on the dryness of my hands. It seemed to hold up very well, even after several hand Washings.                                                                                                                                                                                                                                                                                                                                                                                                                                                                                                                                                                                                                                                                                                                                                                                                                                                                                                                                                                                                                                                                                                                                                                                                                                                                 \n",
      "499998  I bought this blender a while ago and finally broke it out to use it. I initially bought it because I wanted to make mixed drinks and mix my protein shakes. It was affordable so I took the plunge. When I first used it, the assembly was super easy. There are only a few parts so it's easy to set up. When I made a blended drink, the ice blended smoothly along with my fruits. The top stays on tightly and I do not have to worry about leaks or splatters. It is super easy to clean and I store it right under my counter. In regards to making protein shakes, I usually put my milk on the bottom and put my powder on top of that. I recently added frozen strawberries to the mix and blended it using multiple speeds to make sure it was all blended smoothy. It worked great! The blender is a little loud for my 2 year old, but it usually does not take long to get everything blended it. The blender is also really easy to wash. I never have to take the blades apart at the bottom to get them clean. All I do is run it under water to rinse everything out, then wash as a normal dish. I definitely recommend this blender!\\n\\nBlending Power\\nBlends very smoothy!\\n\\nVersatility\\nThere are many blending options.\\n\\nEase of Cleaning\\nIt does not take much to get it clean. Just a simple rinse right after use.\\n\\nEase of Use\\nIt's easy to put together and use.\\n\\nDesign\\nI like the sleek look. More colors would be great!\\n\\nDurability\\nI've had mine for almost a year with no problems.   \n",
      "499999  Enjoy using making my healthy smoothies. Real easy to clean up.  And the blades are really sharp.\\n\\nBlending Power\\nCrushes ice in seconds and my smoothies comes out thick.  The Ninja is not noisy as other blenders.  Also it blends in seconds.\\n\\nVersatility\\nSwitching out from your healthy drinks to using it for making dough its two machines in one!\\n\\nEase of Cleaning\\nJust rinse and put it in the dishwasher its that quick and easy for clean up.\\n\\nEase of Use\\nVery easy to use just plug it in, lock in your blender in the base and push one of three buttons for your particular drink.\\n\\nDesign\\nThe clear glass of the pitchers and they are very light weight that anyone will enjoy using them if you are a baker or a smoothie person.  Storing the Ninja is easy and does not take up room on the shelf.\\n\\nDurability\\nThe blades are sharp and probably will not dull for years to come.  The containers feels and looks like glass but it is durable plastic. I believe this is one equipment that I enjoy using next to my mixer.                                                                                                                                                                                                                                                                                                                                                                                                                                                                  \n",
      "\n",
      "        REVIEW_RATING REVIEWER_NICKNAME    REVIEWER_LOCATION OBSERVATIONS  PM  \\\n",
      "0       1.0            Deshon            New york             NPO,NR,PM    1    \n",
      "1       5.0            Sean              Fort Washington, MD  NPO,NR,PM    1    \n",
      "2       1.0            Kobe              North Las Vegas,NV   NPO,NR,PM    1    \n",
      "3       1.0            Avid Shopper      Georgia              NPO,NR,PM    1    \n",
      "4       1.0            Blanco            Maple Heights Ohio   NPO,NR,PM    1    \n",
      "...     ...               ...                           ...         ...   ..    \n",
      "499995  5.0            Sydney            undisclosed          IR,PM        1    \n",
      "499996  2.0            amarie            Luttrell, TN         CM,PM        1    \n",
      "499997  5.0            linda46218        Indianapolis, IN     CM,PM        1    \n",
      "499998  5.0            MinniePerry       USA                  CM,PM        1    \n",
      "499999  5.0            Natgodfrey        USA                  CM,PM        1    \n",
      "\n",
      "        NR  \n",
      "0       1   \n",
      "1       1   \n",
      "2       1   \n",
      "3       1   \n",
      "4       1   \n",
      "...    ..   \n",
      "499995  0   \n",
      "499996  0   \n",
      "499997  0   \n",
      "499998  0   \n",
      "499999  0   \n",
      "\n",
      "[1012212 rows x 10 columns]"
     ]
    }
   ],
   "source": [
    "reviews = pd.concat([reviews, reviews_2], axis=0)\n",
    "reviews"
   ]
  },
  {
   "cell_type": "code",
   "execution_count": 36,
   "metadata": {},
   "outputs": [
    {
     "data": {
      "application/vnd.jupyter.widget-view+json": {
       "model_id": "5d1477c27f024c2998f3c40f37f1e82d",
       "version_major": 2,
       "version_minor": 0
      },
      "text/plain": [
       "VBox()"
      ]
     },
     "metadata": {},
     "output_type": "display_data"
    },
    {
     "data": {
      "application/vnd.jupyter.widget-view+json": {
       "model_id": "",
       "version_major": 2,
       "version_minor": 0
      },
      "text/plain": [
       "FloatProgress(value=0.0, bar_style='info', description='Progress:', layout=Layout(height='25px', width='50%'),…"
      ]
     },
     "metadata": {},
     "output_type": "display_data"
    },
    {
     "name": "stdout",
     "output_type": "stream",
     "text": [
      "512212"
     ]
    }
   ],
   "source": [
    "reviews['NR'].sum(axis=0)"
   ]
  },
  {
   "cell_type": "code",
   "execution_count": 37,
   "metadata": {},
   "outputs": [
    {
     "data": {
      "application/vnd.jupyter.widget-view+json": {
       "model_id": "45386cbd0d6b4746a6bcbf0ac33c9657",
       "version_major": 2,
       "version_minor": 0
      },
      "text/plain": [
       "VBox()"
      ]
     },
     "metadata": {},
     "output_type": "display_data"
    },
    {
     "data": {
      "application/vnd.jupyter.widget-view+json": {
       "model_id": "",
       "version_major": 2,
       "version_minor": 0
      },
      "text/plain": [
       "FloatProgress(value=0.0, bar_style='info', description='Progress:', layout=Layout(height='25px', width='50%'),…"
      ]
     },
     "metadata": {},
     "output_type": "display_data"
    },
    {
     "name": "stdout",
     "output_type": "stream",
     "text": [
      "<class 'pandas.core.frame.DataFrame'>\n",
      "Int64Index: 1012212 entries, 0 to 499999\n",
      "Data columns (total 10 columns):\n",
      " #   Column             Non-Null Count    Dtype         \n",
      "---  ------             --------------    -----         \n",
      " 0   UGC_ID             1012212 non-null  int64         \n",
      " 1   CREATED_DATE       1012212 non-null  datetime64[ns]\n",
      " 2   REVIEW_HEADLINE    1011713 non-null  object        \n",
      " 3   REVIEW_COMMENTS    1011247 non-null  object        \n",
      " 4   REVIEW_RATING      1011969 non-null  float64       \n",
      " 5   REVIEWER_NICKNAME  1011960 non-null  object        \n",
      " 6   REVIEWER_LOCATION  1011965 non-null  object        \n",
      " 7   OBSERVATIONS       1012212 non-null  object        \n",
      " 8   PM                 1012212 non-null  int64         \n",
      " 9   NR                 1012212 non-null  int64         \n",
      "dtypes: datetime64[ns](1), float64(1), int64(3), object(5)\n",
      "memory usage: 84.9+ MB"
     ]
    }
   ],
   "source": [
    "reviews.info()"
   ]
  },
  {
   "cell_type": "code",
   "execution_count": 38,
   "metadata": {},
   "outputs": [
    {
     "data": {
      "application/vnd.jupyter.widget-view+json": {
       "model_id": "b3f450b7d9564ca6a75ec8a027d528bd",
       "version_major": 2,
       "version_minor": 0
      },
      "text/plain": [
       "VBox()"
      ]
     },
     "metadata": {},
     "output_type": "display_data"
    },
    {
     "data": {
      "application/vnd.jupyter.widget-view+json": {
       "model_id": "",
       "version_major": 2,
       "version_minor": 0
      },
      "text/plain": [
       "FloatProgress(value=0.0, bar_style='info', description='Progress:', layout=Layout(height='25px', width='50%'),…"
      ]
     },
     "metadata": {},
     "output_type": "display_data"
    }
   ],
   "source": [
    "#reviews.loc[reviews['REVIEWER_LOCATION'] == 'US', 'REVIEWER_LOCATION'] = 'USA'\n",
    "\n",
    "#reviews['REVIEWER_LOCATION'].head(500)"
   ]
  },
  {
   "cell_type": "code",
   "execution_count": 39,
   "metadata": {},
   "outputs": [
    {
     "data": {
      "application/vnd.jupyter.widget-view+json": {
       "model_id": "51a42f27296742b79cd6a7b7affff597",
       "version_major": 2,
       "version_minor": 0
      },
      "text/plain": [
       "VBox()"
      ]
     },
     "metadata": {},
     "output_type": "display_data"
    },
    {
     "data": {
      "application/vnd.jupyter.widget-view+json": {
       "model_id": "",
       "version_major": 2,
       "version_minor": 0
      },
      "text/plain": [
       "FloatProgress(value=0.0, bar_style='info', description='Progress:', layout=Layout(height='25px', width='50%'),…"
      ]
     },
     "metadata": {},
     "output_type": "display_data"
    }
   ],
   "source": [
    "#Use set_option so text doesn't truncate\n",
    "#pd.set_option('display.max_colwidth', -1)\n",
    "#pd.set_option('display.max_columns', None)\n",
    "#pd.set_option('display.max_rows', None)\n",
    "#reviews['LABEL_SUM']= reviews.iloc[:, -18:-1].sum(axis=1)\n",
    "#reviews"
   ]
  },
  {
   "cell_type": "code",
   "execution_count": 40,
   "metadata": {},
   "outputs": [
    {
     "data": {
      "application/vnd.jupyter.widget-view+json": {
       "model_id": "5016609c7de4421a84899cd95c2ec324",
       "version_major": 2,
       "version_minor": 0
      },
      "text/plain": [
       "VBox()"
      ]
     },
     "metadata": {},
     "output_type": "display_data"
    },
    {
     "data": {
      "application/vnd.jupyter.widget-view+json": {
       "model_id": "",
       "version_major": 2,
       "version_minor": 0
      },
      "text/plain": [
       "FloatProgress(value=0.0, bar_style='info', description='Progress:', layout=Layout(height='25px', width='50%'),…"
      ]
     },
     "metadata": {},
     "output_type": "display_data"
    }
   ],
   "source": [
    "#LOOK AT OTHER LABELS - IF NONE THEN ADD NOLABEL = 1\n",
    "#df['new column name'] = df['column name'].apply(lambda x: 'value if condition is met' if x condition else 'value if condition is not met')\n",
    "#reviews['NOLABEL'] = reviews['LABEL_SUM'].apply(lambda x: int(1) if x==0 else int(0))\n"
   ]
  },
  {
   "cell_type": "code",
   "execution_count": 41,
   "metadata": {},
   "outputs": [
    {
     "data": {
      "application/vnd.jupyter.widget-view+json": {
       "model_id": "475efca2a16d46ac93f6452a6ac533ae",
       "version_major": 2,
       "version_minor": 0
      },
      "text/plain": [
       "VBox()"
      ]
     },
     "metadata": {},
     "output_type": "display_data"
    },
    {
     "data": {
      "application/vnd.jupyter.widget-view+json": {
       "model_id": "",
       "version_major": 2,
       "version_minor": 0
      },
      "text/plain": [
       "FloatProgress(value=0.0, bar_style='info', description='Progress:', layout=Layout(height='25px', width='50%'),…"
      ]
     },
     "metadata": {},
     "output_type": "display_data"
    }
   ],
   "source": [
    "#reviews2 = reviews.drop(['LABEL_SUM'], axis=1)\n",
    "#reviews2"
   ]
  },
  {
   "cell_type": "code",
   "execution_count": 42,
   "metadata": {},
   "outputs": [
    {
     "data": {
      "application/vnd.jupyter.widget-view+json": {
       "model_id": "29ff4dbb1d6244e99514f8e0bbcaea00",
       "version_major": 2,
       "version_minor": 0
      },
      "text/plain": [
       "VBox()"
      ]
     },
     "metadata": {},
     "output_type": "display_data"
    },
    {
     "data": {
      "application/vnd.jupyter.widget-view+json": {
       "model_id": "",
       "version_major": 2,
       "version_minor": 0
      },
      "text/plain": [
       "FloatProgress(value=0.0, bar_style='info', description='Progress:', layout=Layout(height='25px', width='50%'),…"
      ]
     },
     "metadata": {},
     "output_type": "display_data"
    }
   ],
   "source": [
    "#reviews = reviews2\n",
    "#reviews"
   ]
  },
  {
   "cell_type": "code",
   "execution_count": 43,
   "metadata": {},
   "outputs": [
    {
     "data": {
      "application/vnd.jupyter.widget-view+json": {
       "model_id": "1cf673c1e3c3447391fb7e7b28994afc",
       "version_major": 2,
       "version_minor": 0
      },
      "text/plain": [
       "VBox()"
      ]
     },
     "metadata": {},
     "output_type": "display_data"
    },
    {
     "data": {
      "application/vnd.jupyter.widget-view+json": {
       "model_id": "",
       "version_major": 2,
       "version_minor": 0
      },
      "text/plain": [
       "FloatProgress(value=0.0, bar_style='info', description='Progress:', layout=Layout(height='25px', width='50%'),…"
      ]
     },
     "metadata": {},
     "output_type": "display_data"
    },
    {
     "name": "stdout",
     "output_type": "stream",
     "text": [
      "UGC_ID               int64         \n",
      "CREATED_DATE         datetime64[ns]\n",
      "REVIEW_HEADLINE      object        \n",
      "REVIEW_COMMENTS      object        \n",
      "REVIEW_RATING        float64       \n",
      "REVIEWER_NICKNAME    object        \n",
      "REVIEWER_LOCATION    object        \n",
      "OBSERVATIONS         object        \n",
      "PM                   int64         \n",
      "NR                   int64         \n",
      "dtype: object"
     ]
    }
   ],
   "source": [
    "reviews.dtypes"
   ]
  },
  {
   "cell_type": "code",
   "execution_count": 44,
   "metadata": {},
   "outputs": [
    {
     "data": {
      "application/vnd.jupyter.widget-view+json": {
       "model_id": "8a57414599d143bc9c7e085d07c601be",
       "version_major": 2,
       "version_minor": 0
      },
      "text/plain": [
       "VBox()"
      ]
     },
     "metadata": {},
     "output_type": "display_data"
    },
    {
     "data": {
      "application/vnd.jupyter.widget-view+json": {
       "model_id": "",
       "version_major": 2,
       "version_minor": 0
      },
      "text/plain": [
       "FloatProgress(value=0.0, bar_style='info', description='Progress:', layout=Layout(height='25px', width='50%'),…"
      ]
     },
     "metadata": {},
     "output_type": "display_data"
    },
    {
     "name": "stdout",
     "output_type": "stream",
     "text": [
      "       UGC_ID        CREATED_DATE  \\\n",
      "0   135665649 2017-12-22 17:01:41   \n",
      "1   136059039 2017-12-29 05:23:20   \n",
      "2   136087337 2017-12-29 15:33:54   \n",
      "3   136061518 2017-12-29 06:34:32   \n",
      "4   135666042 2017-12-22 17:05:51   \n",
      "..        ...                 ...   \n",
      "95  253207877 2019-09-17 11:32:33   \n",
      "96  253208366 2019-09-17 11:44:21   \n",
      "97  253207441 2019-09-17 11:24:07   \n",
      "98  253208213 2019-09-17 11:42:00   \n",
      "99  253207935 2019-09-17 11:35:05   \n",
      "\n",
      "                                    REVIEW_HEADLINE  \\\n",
      "0   No!                                               \n",
      "1   Would buy                                         \n",
      "2   No                                                \n",
      "3   Worst Customer Service Ever!!!                    \n",
      "4   Not sure if the delivery service is trustworthy   \n",
      "..                                              ...   \n",
      "95  Don't us online                                   \n",
      "96  Too much packaging                                \n",
      "97  NEVER RECEIVED                                    \n",
      "98  Extension requirement                             \n",
      "99  Mmm                                               \n",
      "\n",
      "                                                                                                                                                                                                                                                                                                                                                                                                           REVIEW_COMMENTS  \\\n",
      "0   Never received.                                                                                                                                                                                                                                                                                                                                                                                                          \n",
      "1   clouds                                                                                                                                                                                                                                                                                                                                                                                                                   \n",
      "2   I NEED MY ORDER !!                                                                                                                                                                                                                                                                                                                                                                                                       \n",
      "3   This review is not about the product itself, as I haven't received it yet. I placed an order for Expedited Shipping as I wanted to take these on a trip with me. The company shipped them Ground delivery instead. When I called to inquire about the mistake, the CSR's response was \"OK, we'll give you a credit for the shipping\". No apology. No concern whatsoever regarding my disappointment and inconvenience.   \n",
      "4   would have been happy to receive it                                                                                                                                                                                                                                                                                                                                                                                      \n",
      "..                                  ...                                                                                                                                                                                                                                                                                                                                                                                      \n",
      "95  Never picked up the item. Ordered it online for pickup in store and they tried to charge me twice. Called customer service and party city customer service is not very good.                                                                                                                                                                                                                                             \n",
      "96  The frame is great but it arrived in a huge box with 19 feet of bubble wrap. Seriously, I measured. So wasteful.                                                                                                                                                                                                                                                                                                         \n",
      "97  Ordered this item in July. Never received package. Lost by fedex. I did receive a refund but package was never located.                                                                                                                                                                                                                                                                                                  \n",
      "98  yes                                                                                                                                                                                                                                                                                                                                                                                                                      \n",
      "99  ....                                                                                                                                                                                                                                                                                                                                                                                                                     \n",
      "\n",
      "    REVIEW_RATING REVIEWER_NICKNAME    REVIEWER_LOCATION       OBSERVATIONS  \\\n",
      "0   1.0            Deshon            New york             NPO,NR,PM           \n",
      "1   5.0            Sean              Fort Washington, MD  NPO,NR,PM           \n",
      "2   1.0            Kobe              North Las Vegas,NV   NPO,NR,PM           \n",
      "3   1.0            Avid Shopper      Georgia              NPO,NR,PM           \n",
      "4   1.0            Blanco            Maple Heights Ohio   NPO,NR,PM           \n",
      "..  ...               ...                           ...         ...           \n",
      "95  1.0            Cheri             Undisclosed          CNR,NR,PM           \n",
      "96  3.0            KENDELL           Undisclosed          CM,NPO,NR,PM        \n",
      "97  1.0            Annie88           Charleston, SC       CNR,NR,PM           \n",
      "98  3.0            Anthony O'Neal    SAN TAN VALLEY       CNR,MDD,NR,PII,PM   \n",
      "99  1.0            mi                Undisclosed          CNR,NR,PM           \n",
      "\n",
      "    PM  NR  \\\n",
      "0   1   1    \n",
      "1   1   1    \n",
      "2   1   1    \n",
      "3   1   1    \n",
      "4   1   1    \n",
      ".. ..  ..    \n",
      "95  1   1    \n",
      "96  1   1    \n",
      "97  1   1    \n",
      "98  1   1    \n",
      "99  1   1    \n",
      "\n",
      "                                                                                                                                                                                                                                                                                                                                                                                                                                                                  ALL_TEXT  \n",
      "0   headline No! comment Never received.                                                                                                                                                                                                                                                                                                                                                                                                                                    \n",
      "1   headline Would buy comment clouds                                                                                                                                                                                                                                                                                                                                                                                                                                       \n",
      "2   headline No comment I NEED MY ORDER !!                                                                                                                                                                                                                                                                                                                                                                                                                                  \n",
      "3   headline Worst Customer Service Ever!!! comment This review is not about the product itself, as I haven't received it yet. I placed an order for Expedited Shipping as I wanted to take these on a trip with me. The company shipped them Ground delivery instead. When I called to inquire about the mistake, the CSR's response was \"OK, we'll give you a credit for the shipping\". No apology. No concern whatsoever regarding my disappointment and inconvenience.  \n",
      "4   headline Not sure if the delivery service is trustworthy comment would have been happy to receive it                                                                                                                                                                                                                                                                                                                                                                    \n",
      "..                                                                                                   ...                                                                                                                                                                                                                                                                                                                                                                    \n",
      "95  headline Don't us online comment Never picked up the item. Ordered it online for pickup in store and they tried to charge me twice. Called customer service and party city customer service is not very good.                                                                                                                                                                                                                                                           \n",
      "96  headline Too much packaging comment The frame is great but it arrived in a huge box with 19 feet of bubble wrap. Seriously, I measured. So wasteful.                                                                                                                                                                                                                                                                                                                    \n",
      "97  headline NEVER RECEIVED comment Ordered this item in July. Never received package. Lost by fedex. I did receive a refund but package was never located.                                                                                                                                                                                                                                                                                                                 \n",
      "98  headline Extension requirement comment yes                                                                                                                                                                                                                                                                                                                                                                                                                              \n",
      "99  headline Mmm comment ....                                                                                                                                                                                                                                                                                                                                                                                                                                               \n",
      "\n",
      "[100 rows x 11 columns]\n",
      "<string>:5: FutureWarning: Passing a negative integer is deprecated in version 1.0 and will not be supported in future version. Instead, use None to not limit the column width."
     ]
    }
   ],
   "source": [
    "#reviews['ALL_TEXT'] = 'headline ' + reviews['REVIEW_HEADLINE'] + ' comment ' + reviews['REVIEW_COMMENTS'] + \\\n",
    "#        ' nickname ' + reviews['REVIEWER_NICKNAME'] + ' location ' + reviews['REVIEWER_LOCATION']\n",
    "reviews['ALL_TEXT'] = 'headline ' + reviews['REVIEW_HEADLINE'] + ' comment ' + reviews['REVIEW_COMMENTS']\n",
    "#Use set_option so text doesn't truncate\n",
    "pd.set_option('display.max_colwidth', -1)\n",
    "pd.set_option('display.max_columns', None)\n",
    "reviews.head(100)\n",
    "\n",
    "#reviews.dtypes"
   ]
  },
  {
   "cell_type": "code",
   "execution_count": 45,
   "metadata": {},
   "outputs": [
    {
     "data": {
      "application/vnd.jupyter.widget-view+json": {
       "model_id": "61330ef3d87e4d43bd1c8862dc91390d",
       "version_major": 2,
       "version_minor": 0
      },
      "text/plain": [
       "VBox()"
      ]
     },
     "metadata": {},
     "output_type": "display_data"
    },
    {
     "data": {
      "application/vnd.jupyter.widget-view+json": {
       "model_id": "",
       "version_major": 2,
       "version_minor": 0
      },
      "text/plain": [
       "FloatProgress(value=0.0, bar_style='info', description='Progress:', layout=Layout(height='25px', width='50%'),…"
      ]
     },
     "metadata": {},
     "output_type": "display_data"
    }
   ],
   "source": [
    "from random import sample \n",
    "reviews = reviews.sample(n=200000, random_state=1)"
   ]
  },
  {
   "cell_type": "code",
   "execution_count": 46,
   "metadata": {},
   "outputs": [
    {
     "data": {
      "application/vnd.jupyter.widget-view+json": {
       "model_id": "1e093044017445359c6e51417580cf75",
       "version_major": 2,
       "version_minor": 0
      },
      "text/plain": [
       "VBox()"
      ]
     },
     "metadata": {},
     "output_type": "display_data"
    },
    {
     "data": {
      "application/vnd.jupyter.widget-view+json": {
       "model_id": "",
       "version_major": 2,
       "version_minor": 0
      },
      "text/plain": [
       "FloatProgress(value=0.0, bar_style='info', description='Progress:', layout=Layout(height='25px', width='50%'),…"
      ]
     },
     "metadata": {},
     "output_type": "display_data"
    },
    {
     "name": "stdout",
     "output_type": "stream",
     "text": [
      "<class 'pandas.core.frame.DataFrame'>\n",
      "Int64Index: 200000 entries, 122261 to 402338\n",
      "Data columns (total 11 columns):\n",
      " #   Column             Non-Null Count   Dtype         \n",
      "---  ------             --------------   -----         \n",
      " 0   UGC_ID             200000 non-null  int64         \n",
      " 1   CREATED_DATE       200000 non-null  datetime64[ns]\n",
      " 2   REVIEW_HEADLINE    199921 non-null  object        \n",
      " 3   REVIEW_COMMENTS    199834 non-null  object        \n",
      " 4   REVIEW_RATING      199963 non-null  float64       \n",
      " 5   REVIEWER_NICKNAME  199962 non-null  object        \n",
      " 6   REVIEWER_LOCATION  199963 non-null  object        \n",
      " 7   OBSERVATIONS       200000 non-null  object        \n",
      " 8   PM                 200000 non-null  int64         \n",
      " 9   NR                 200000 non-null  int64         \n",
      " 10  ALL_TEXT           199792 non-null  object        \n",
      "dtypes: datetime64[ns](1), float64(1), int64(3), object(6)\n",
      "memory usage: 18.3+ MB"
     ]
    }
   ],
   "source": [
    "reviews.info()"
   ]
  },
  {
   "cell_type": "code",
   "execution_count": 47,
   "metadata": {},
   "outputs": [
    {
     "data": {
      "application/vnd.jupyter.widget-view+json": {
       "model_id": "765514302edb4c57a063dbdfa6eb7f86",
       "version_major": 2,
       "version_minor": 0
      },
      "text/plain": [
       "VBox()"
      ]
     },
     "metadata": {},
     "output_type": "display_data"
    },
    {
     "data": {
      "application/vnd.jupyter.widget-view+json": {
       "model_id": "",
       "version_major": 2,
       "version_minor": 0
      },
      "text/plain": [
       "FloatProgress(value=0.0, bar_style='info', description='Progress:', layout=Layout(height='25px', width='50%'),…"
      ]
     },
     "metadata": {},
     "output_type": "display_data"
    }
   ],
   "source": [
    "#spell=Speller()\n",
    "#reviews['spell_check'] = reviews['ALL_TEXT'].apply(lambda x: spell(str(x)))\n"
   ]
  },
  {
   "cell_type": "code",
   "execution_count": 48,
   "metadata": {},
   "outputs": [
    {
     "data": {
      "application/vnd.jupyter.widget-view+json": {
       "model_id": "afd36d6b65c1491eac7294f62dfe4613",
       "version_major": 2,
       "version_minor": 0
      },
      "text/plain": [
       "VBox()"
      ]
     },
     "metadata": {},
     "output_type": "display_data"
    },
    {
     "data": {
      "application/vnd.jupyter.widget-view+json": {
       "model_id": "",
       "version_major": 2,
       "version_minor": 0
      },
      "text/plain": [
       "FloatProgress(value=0.0, bar_style='info', description='Progress:', layout=Layout(height='25px', width='50%'),…"
      ]
     },
     "metadata": {},
     "output_type": "display_data"
    }
   ],
   "source": [
    "nlp = spacy.load(\"en_core_web_lg\")"
   ]
  },
  {
   "cell_type": "code",
   "execution_count": 49,
   "metadata": {},
   "outputs": [
    {
     "data": {
      "application/vnd.jupyter.widget-view+json": {
       "model_id": "077abcd55e1d4f4f9dce019aaf5f1888",
       "version_major": 2,
       "version_minor": 0
      },
      "text/plain": [
       "VBox()"
      ]
     },
     "metadata": {},
     "output_type": "display_data"
    },
    {
     "data": {
      "application/vnd.jupyter.widget-view+json": {
       "model_id": "",
       "version_major": 2,
       "version_minor": 0
      },
      "text/plain": [
       "FloatProgress(value=0.0, bar_style='info', description='Progress:', layout=Layout(height='25px', width='50%'),…"
      ]
     },
     "metadata": {},
     "output_type": "display_data"
    }
   ],
   "source": [
    "def spacy_lemmatizer(text):\n",
    "    doc = nlp(text)\n",
    "    return \" \".join([token.lemma_ for token in doc])"
   ]
  },
  {
   "cell_type": "code",
   "execution_count": 50,
   "metadata": {},
   "outputs": [
    {
     "data": {
      "application/vnd.jupyter.widget-view+json": {
       "model_id": "5c1fb335f878463f9050ae3227f81a4f",
       "version_major": 2,
       "version_minor": 0
      },
      "text/plain": [
       "VBox()"
      ]
     },
     "metadata": {},
     "output_type": "display_data"
    },
    {
     "data": {
      "application/vnd.jupyter.widget-view+json": {
       "model_id": "",
       "version_major": 2,
       "version_minor": 0
      },
      "text/plain": [
       "FloatProgress(value=0.0, bar_style='info', description='Progress:', layout=Layout(height='25px', width='50%'),…"
      ]
     },
     "metadata": {},
     "output_type": "display_data"
    },
    {
     "name": "stdout",
     "output_type": "stream",
     "text": [
      "<class 'pandas.core.frame.DataFrame'>\n",
      "Int64Index: 199791 entries, 122261 to 402338\n",
      "Data columns (total 11 columns):\n",
      " #   Column             Non-Null Count   Dtype         \n",
      "---  ------             --------------   -----         \n",
      " 0   UGC_ID             199791 non-null  int64         \n",
      " 1   CREATED_DATE       199791 non-null  datetime64[ns]\n",
      " 2   REVIEW_HEADLINE    199791 non-null  object        \n",
      " 3   REVIEW_COMMENTS    199791 non-null  object        \n",
      " 4   REVIEW_RATING      199791 non-null  float64       \n",
      " 5   REVIEWER_NICKNAME  199791 non-null  object        \n",
      " 6   REVIEWER_LOCATION  199791 non-null  object        \n",
      " 7   OBSERVATIONS       199791 non-null  object        \n",
      " 8   PM                 199791 non-null  int64         \n",
      " 9   NR                 199791 non-null  int64         \n",
      " 10  ALL_TEXT           199791 non-null  object        \n",
      "dtypes: datetime64[ns](1), float64(1), int64(3), object(6)\n",
      "memory usage: 18.3+ MB"
     ]
    }
   ],
   "source": [
    "#Some NaN values causing an error when applying word embedding vector\n",
    "#reviews['ALL_TEXT'].isnull().values.any()\n",
    "\n",
    "#Remove NaN values\n",
    "reviews.dropna(inplace=True)\n",
    "reviews.info()"
   ]
  },
  {
   "cell_type": "code",
   "execution_count": 51,
   "metadata": {},
   "outputs": [
    {
     "data": {
      "application/vnd.jupyter.widget-view+json": {
       "model_id": "a3ba09b1936a4fdb83b5481f7b166e0b",
       "version_major": 2,
       "version_minor": 0
      },
      "text/plain": [
       "VBox()"
      ]
     },
     "metadata": {},
     "output_type": "display_data"
    },
    {
     "data": {
      "application/vnd.jupyter.widget-view+json": {
       "model_id": "",
       "version_major": 2,
       "version_minor": 0
      },
      "text/plain": [
       "FloatProgress(value=0.0, bar_style='info', description='Progress:', layout=Layout(height='25px', width='50%'),…"
      ]
     },
     "metadata": {},
     "output_type": "display_data"
    }
   ],
   "source": [
    "#200k reviews\n",
    "reviews['ALL_TEXT'] = reviews['ALL_TEXT'].apply(lambda x: spacy_lemmatizer(x))"
   ]
  },
  {
   "cell_type": "code",
   "execution_count": 52,
   "metadata": {},
   "outputs": [
    {
     "data": {
      "application/vnd.jupyter.widget-view+json": {
       "model_id": "f290c9fae9e94600aa200b0c003b3ad9",
       "version_major": 2,
       "version_minor": 0
      },
      "text/plain": [
       "VBox()"
      ]
     },
     "metadata": {},
     "output_type": "display_data"
    },
    {
     "data": {
      "application/vnd.jupyter.widget-view+json": {
       "model_id": "",
       "version_major": 2,
       "version_minor": 0
      },
      "text/plain": [
       "FloatProgress(value=0.0, bar_style='info', description='Progress:', layout=Layout(height='25px', width='50%'),…"
      ]
     },
     "metadata": {},
     "output_type": "display_data"
    },
    {
     "name": "stdout",
     "output_type": "stream",
     "text": [
      "           UGC_ID        CREATED_DATE  \\\n",
      "122261  263387544 2019-12-16 12:29:57   \n",
      "355144  280972714 2020-06-22 11:59:12   \n",
      "440422  277926745 2020-05-16 14:30:53   \n",
      "190678  264339633 2020-01-02 06:13:10   \n",
      "62412   233115933 2014-05-13 00:00:00   \n",
      "...           ...                 ...   \n",
      "374201  211460733 2018-10-05 23:30:48   \n",
      "329652  226283880 2014-01-29 00:00:00   \n",
      "68953   225298670 2019-01-22 08:42:50   \n",
      "129254  213419804 2012-10-26 00:00:00   \n",
      "402338  229801826 2017-10-19 13:00:07   \n",
      "\n",
      "                                                     REVIEW_HEADLINE  \\\n",
      "122261  N/A                                                            \n",
      "355144  I returned in store but until now you don't returned my mone   \n",
      "440422  A yummy treat!                                                 \n",
      "190678  Unorganised company                                            \n",
      "62412   cute.                                                          \n",
      "...       ...                                                          \n",
      "374201  .                                                              \n",
      "329652  A comfortable durable bed at a great value.                    \n",
      "68953   Excellent for the price!                                       \n",
      "129254  Great amp for recording                                        \n",
      "402338  Undisclosed                                                    \n",
      "\n",
      "                                                                                                                                                                                                                                                                                                                                                                                                                                                                                                                                                                                                                                                                                                                                                                                                                                                                                                                                                                                                                                                                                                                                                                                                            REVIEW_COMMENTS  \\\n",
      "122261  HAVE NOT RECIEVED SHOES YET. BEEN WAITING SEVERAL WEEKS. NOT PLEASED WITH THE TIME.                                                                                                                                                                                                                                                                                                                                                                                                                                                                                                                                                                                                                                                                                                                                                                                                                                                                                                                                                                                                                                                                                                                                   \n",
      "355144  Doesn't fit, until now you didn't return my money                                                                                                                                                                                                                                                                                                                                                                                                                                                                                                                                                                                                                                                                                                                                                                                                                                                                                                                                                                                                                                                                                                                                                                     \n",
      "440422  It taste like cookie dough! I really enjoyed this marshmallow, I would definitely consider buying these for s'mores! \\n\\nI received this item for free                                                                                                                                                                                                                                                                                                                                                                                                                                                                                                                                                                                                                                                                                                                                                                                                                                                                                                                                                                                                                                                                \n",
      "190678  Jd couldn't get there act together and get this delivered to me..... shame                                                                                                                                                                                                                                                                                                                                                                                                                                                                                                                                                                                                                                                                                                                                                                                                                                                                                                                                                                                                                                                                                                                                            \n",
      "62412   For some odd reason, even though it said the size, i thought it would be bigger.  So they don't take up much room, look good, but as to how well they work i can't tell yet. It's been humid and raining a lot since i got them. But i like them so far. :)                                                                                                                                                                                                                                                                                                                                                                                                                                                                                                                                                                                                                                                                                                                                                                                                                                                                                                                                                           \n",
      "...                                                                                                                                                                                                                                                             ...                                                                                                                                                                                                                                                                                                                                                                                                                                                                                                                                                                                                                                                                                                                                                                                                                                                                                                                                                           \n",
      "374201  ......                                                                                                                                                                                                                                                                                                                                                                                                                                                                                                                                                                                                                                                                                                                                                                                                                                                                                                                                                                                                                                                                                                                                                                                                                \n",
      "329652  I've had this mattress for years now, and as a large framed guy I am impressed at how well it has held up. I like a firm mattress and this one retains its firmness to this day without the usual dips from worn out springs on some beds.  I highly suggest it for anyone looking for a long term investment in a long lasting bed situation. Much firmer than a pillow, which I appreciate, yet you can add memory foam topper to still get that effect.\\n\\nComfort\\nA great firm mattress with no springs out of place. I never feel uneven spots and padding is really decent.\\n\\nSupport\\nHolds up to larger framed individuals without undue wear. I use just a basic box spring and frame and there is no sag whatsoever even after long-term use.\\n\\nFirmness\\nI chose this mattress specifically because the firmness was better than any other brand in the price range. I went to several stores trying out different models and most were not up to my high standard. This one certainly was and still is.\\n\\nDurability\\nI have had this mattress for years now and I find it is as comfortable as the day I purchased it. The material covering is not prone to ripping the frame has help up nicely.   \n",
      "68953   Love it!                                                                                                                                                                                                                                                                                                                                                                                                                                                                                                                                                                                                                                                                                                                                                                                                                                                                                                                                                                                                                                                                                                                                                                                                              \n",
      "129254  Armed with an Eminence Ragin Cajun speaker this amp screams, no need  for stomp boxes or fx. It has 16 voices and 16 fx settings that can be fine tuned through the usb port, a great addition to a studio that can't afford several amps. a 12AX7 and two 6V6s is a classic combo and 15 watts is enough for smaller gigs and recording. The 5yr warranty is a comfort                                                                                                                                                                                                                                                                                                                                                                                                                                                                                                                                                                                                                                                                                                                                                                                                                                               \n",
      "402338  Always have a great experience here.                                                                                                                                                                                                                                                                                                                                                                                                                                                                                                                                                                                                                                                                                                                                                                                                                                                                                                                                                                                                                                                                                                                                                                                  \n",
      "\n",
      "        REVIEW_RATING REVIEWER_NICKNAME REVIEWER_LOCATION OBSERVATIONS  PM  \\\n",
      "122261  1.0            EARL              Undisclosed       CM,NR,PM     1    \n",
      "355144  1.0            Monica            Undisclosed       CS,NR,PM     1    \n",
      "440422  4.0            Courtney          undisclosed       IA,PM        1    \n",
      "190678  1.0            Katie             Undisclosed       NR,PM        1    \n",
      "62412   4.0            Amber             US                IA,PM        1    \n",
      "...     ...              ...             ..                  ...       ..    \n",
      "374201  5.0            lma21688          US                NR,PM        1    \n",
      "329652  5.0            PeteOly           USA               CM,PM        1    \n",
      "68953   5.0            Mary              undisclosed       IR,PM        1    \n",
      "129254  5.0            Soundmondan       Atascadero Ca     CM,PM        1    \n",
      "402338  5.0            Vincent  H        USA               IA,PM        1    \n",
      "\n",
      "        NR  \\\n",
      "122261  1    \n",
      "355144  1    \n",
      "440422  0    \n",
      "190678  1    \n",
      "62412   0    \n",
      "...    ..    \n",
      "374201  1    \n",
      "329652  0    \n",
      "68953   0    \n",
      "129254  0    \n",
      "402338  0    \n",
      "\n",
      "                                                                                                                                                                                                                                                                                                                                                                                                                                                                                                                                                                                                                                                                                                                                                                                                                                                                                                                                                                                                                                                                                                                                                                                                                                                                                                                                                                           ALL_TEXT  \n",
      "122261  headline N / a comment have not recieve shoe yet . be wait several week . not pleased with the time .                                                                                                                                                                                                                                                                                                                                                                                                                                                                                                                                                                                                                                                                                                                                                                                                                                                                                                                                                                                                                                                                                                                                                                                                                                                                        \n",
      "355144  headline -PRON- return in store but until now -PRON- do not return -PRON- mone comment do not fit , until now -PRON- do not return -PRON- money                                                                                                                                                                                                                                                                                                                                                                                                                                                                                                                                                                                                                                                                                                                                                                                                                                                                                                                                                                                                                                                                                                                                                                                                                              \n",
      "440422  headline a yummy treat ! comment -PRON- taste like cookie dough ! -PRON- really enjoy this marshmallow , -PRON- would definitely consider buy these for s'more ! \\n\\n -PRON- receive this item for free                                                                                                                                                                                                                                                                                                                                                                                                                                                                                                                                                                                                                                                                                                                                                                                                                                                                                                                                                                                                                                                                                                                                                                      \n",
      "190678  headline unorganised company comment Jd could not get there act together and get this deliver to -PRON- ..... shame                                                                                                                                                                                                                                                                                                                                                                                                                                                                                                                                                                                                                                                                                                                                                                                                                                                                                                                                                                                                                                                                                                                                                                                                                                                          \n",
      "62412   headline cute . comment for some odd reason , even though -PRON- say the size , i think -PRON- would be big .   so -PRON- do not take up much room , look good , but as to how well -PRON- work i can not tell yet . -PRON- be be humid and rain a lot since i get -PRON- . but i like -PRON- so far . :)                                                                                                                                                                                                                                                                                                                                                                                                                                                                                                                                                                                                                                                                                                                                                                                                                                                                                                                                                                                                                                                                    \n",
      "...                                                                                                                                                                                                                                                                                                           ...                                                                                                                                                                                                                                                                                                                                                                                                                                                                                                                                                                                                                                                                                                                                                                                                                                                                                                                                                                                                                                                                    \n",
      "374201  headline . comment ......                                                                                                                                                                                                                                                                                                                                                                                                                                                                                                                                                                                                                                                                                                                                                                                                                                                                                                                                                                                                                                                                                                                                                                                                                                                                                                                                                    \n",
      "329652  headline a comfortable durable bed at a great value . comment -PRON- have have this mattress for year now , and as a large framed guy -PRON- be impressed at how well -PRON- have hold up . -PRON- like a firm mattress and this one retain -PRON- firmness to this day without the usual dip from worn out spring on some bed .   -PRON- highly suggest -PRON- for anyone look for a long term investment in a long last bed situation . much firm than a pillow , which -PRON- appreciate , yet -PRON- can add memory foam topper to still get that effect . \\n\\n comfort \\n a great firm mattress with no spring out of place . -PRON- never feel uneven spot and padding be really decent . \\n\\n Support \\n hold up to large frame individual without undue wear . -PRON- use just a basic box spring and frame and there be no sag whatsoever even after long - term use . \\n\\n firmness \\n -PRON- choose this mattress specifically because the firmness be well than any other brand in the price range . -PRON- go to several store try out different model and most be not up to -PRON- high standard . this one certainly be and still be . \\n\\n durability \\n -PRON- have have this mattress for year now and -PRON- find -PRON- be as comfortable as the day -PRON- purchase -PRON- . the material covering be not prone to rip the frame have help up nicely .  \n",
      "68953   headline Excellent for the price ! comment love -PRON- !                                                                                                                                                                                                                                                                                                                                                                                                                                                                                                                                                                                                                                                                                                                                                                                                                                                                                                                                                                                                                                                                                                                                                                                                                                                                                                                     \n",
      "129254  headline great amp for recording comment Armed with an Eminence Ragin Cajun speaker this amp scream , no need   for stomp box or fx . -PRON- have 16 voice and 16 fx setting that can be fine tune through the usb port , a great addition to a studio that can not afford several amp . a 12ax7 and two 6v6s be a classic combo and 15 watt be enough for small gig and recording . the 5yr warranty be a comfort                                                                                                                                                                                                                                                                                                                                                                                                                                                                                                                                                                                                                                                                                                                                                                                                                                                                                                                                                           \n",
      "402338  headline undisclosed comment always have a great experience here .                                                                                                                                                                                                                                                                                                                                                                                                                                                                                                                                                                                                                                                                                                                                                                                                                                                                                                                                                                                                                                                                                                                                                                                                                                                                                                           \n",
      "\n",
      "[199791 rows x 11 columns]"
     ]
    }
   ],
   "source": [
    "reviews"
   ]
  },
  {
   "cell_type": "code",
   "execution_count": 54,
   "metadata": {},
   "outputs": [
    {
     "data": {
      "application/vnd.jupyter.widget-view+json": {
       "model_id": "ff0b778019504d28adf07dd26d2b1501",
       "version_major": 2,
       "version_minor": 0
      },
      "text/plain": [
       "VBox()"
      ]
     },
     "metadata": {},
     "output_type": "display_data"
    },
    {
     "data": {
      "application/vnd.jupyter.widget-view+json": {
       "model_id": "",
       "version_major": 2,
       "version_minor": 0
      },
      "text/plain": [
       "FloatProgress(value=0.0, bar_style='info', description='Progress:', layout=Layout(height='25px', width='50%'),…"
      ]
     },
     "metadata": {},
     "output_type": "display_data"
    },
    {
     "name": "stdout",
     "output_type": "stream",
     "text": [
      "                                                                                                                                                                                                                                                                                                                                                                                                                                                                                                                                                                                                                                                                                                                                                                                                                                                                                                                                                                                                                                                                                                                                                                                                                                                                                                                                                                           ALL_TEXT  \\\n",
      "122261  headline N / a comment have not recieve shoe yet . be wait several week . not pleased with the time .                                                                                                                                                                                                                                                                                                                                                                                                                                                                                                                                                                                                                                                                                                                                                                                                                                                                                                                                                                                                                                                                                                                                                                                                                                                                         \n",
      "355144  headline -PRON- return in store but until now -PRON- do not return -PRON- mone comment do not fit , until now -PRON- do not return -PRON- money                                                                                                                                                                                                                                                                                                                                                                                                                                                                                                                                                                                                                                                                                                                                                                                                                                                                                                                                                                                                                                                                                                                                                                                                                               \n",
      "440422  headline a yummy treat ! comment -PRON- taste like cookie dough ! -PRON- really enjoy this marshmallow , -PRON- would definitely consider buy these for s'more ! \\n\\n -PRON- receive this item for free                                                                                                                                                                                                                                                                                                                                                                                                                                                                                                                                                                                                                                                                                                                                                                                                                                                                                                                                                                                                                                                                                                                                                                       \n",
      "190678  headline unorganised company comment Jd could not get there act together and get this deliver to -PRON- ..... shame                                                                                                                                                                                                                                                                                                                                                                                                                                                                                                                                                                                                                                                                                                                                                                                                                                                                                                                                                                                                                                                                                                                                                                                                                                                           \n",
      "62412   headline cute . comment for some odd reason , even though -PRON- say the size , i think -PRON- would be big .   so -PRON- do not take up much room , look good , but as to how well -PRON- work i can not tell yet . -PRON- be be humid and rain a lot since i get -PRON- . but i like -PRON- so far . :)                                                                                                                                                                                                                                                                                                                                                                                                                                                                                                                                                                                                                                                                                                                                                                                                                                                                                                                                                                                                                                                                     \n",
      "...                                                                                                                                                                                                                                                                                                           ...                                                                                                                                                                                                                                                                                                                                                                                                                                                                                                                                                                                                                                                                                                                                                                                                                                                                                                                                                                                                                                                                     \n",
      "374201  headline . comment ......                                                                                                                                                                                                                                                                                                                                                                                                                                                                                                                                                                                                                                                                                                                                                                                                                                                                                                                                                                                                                                                                                                                                                                                                                                                                                                                                                     \n",
      "329652  headline a comfortable durable bed at a great value . comment -PRON- have have this mattress for year now , and as a large framed guy -PRON- be impressed at how well -PRON- have hold up . -PRON- like a firm mattress and this one retain -PRON- firmness to this day without the usual dip from worn out spring on some bed .   -PRON- highly suggest -PRON- for anyone look for a long term investment in a long last bed situation . much firm than a pillow , which -PRON- appreciate , yet -PRON- can add memory foam topper to still get that effect . \\n\\n comfort \\n a great firm mattress with no spring out of place . -PRON- never feel uneven spot and padding be really decent . \\n\\n Support \\n hold up to large frame individual without undue wear . -PRON- use just a basic box spring and frame and there be no sag whatsoever even after long - term use . \\n\\n firmness \\n -PRON- choose this mattress specifically because the firmness be well than any other brand in the price range . -PRON- go to several store try out different model and most be not up to -PRON- high standard . this one certainly be and still be . \\n\\n durability \\n -PRON- have have this mattress for year now and -PRON- find -PRON- be as comfortable as the day -PRON- purchase -PRON- . the material covering be not prone to rip the frame have help up nicely .   \n",
      "68953   headline Excellent for the price ! comment love -PRON- !                                                                                                                                                                                                                                                                                                                                                                                                                                                                                                                                                                                                                                                                                                                                                                                                                                                                                                                                                                                                                                                                                                                                                                                                                                                                                                                      \n",
      "129254  headline great amp for recording comment Armed with an Eminence Ragin Cajun speaker this amp scream , no need   for stomp box or fx . -PRON- have 16 voice and 16 fx setting that can be fine tune through the usb port , a great addition to a studio that can not afford several amp . a 12ax7 and two 6v6s be a classic combo and 15 watt be enough for small gig and recording . the 5yr warranty be a comfort                                                                                                                                                                                                                                                                                                                                                                                                                                                                                                                                                                                                                                                                                                                                                                                                                                                                                                                                                            \n",
      "402338  headline undisclosed comment always have a great experience here .                                                                                                                                                                                                                                                                                                                                                                                                                                                                                                                                                                                                                                                                                                                                                                                                                                                                                                                                                                                                                                                                                                                                                                                                                                                                                                            \n",
      "\n",
      "        REVIEW_RATING  \n",
      "122261  1.0            \n",
      "355144  1.0            \n",
      "440422  4.0            \n",
      "190678  1.0            \n",
      "62412   4.0            \n",
      "...     ...            \n",
      "374201  5.0            \n",
      "329652  5.0            \n",
      "68953   5.0            \n",
      "129254  5.0            \n",
      "402338  5.0            \n",
      "\n",
      "[199791 rows x 2 columns]"
     ]
    }
   ],
   "source": [
    "X = reviews[['ALL_TEXT','REVIEW_RATING']]\n",
    "X"
   ]
  },
  {
   "cell_type": "code",
   "execution_count": 55,
   "metadata": {},
   "outputs": [
    {
     "data": {
      "application/vnd.jupyter.widget-view+json": {
       "model_id": "8a2e0763227e43fbbc5388047178917d",
       "version_major": 2,
       "version_minor": 0
      },
      "text/plain": [
       "VBox()"
      ]
     },
     "metadata": {},
     "output_type": "display_data"
    },
    {
     "data": {
      "application/vnd.jupyter.widget-view+json": {
       "model_id": "",
       "version_major": 2,
       "version_minor": 0
      },
      "text/plain": [
       "FloatProgress(value=0.0, bar_style='info', description='Progress:', layout=Layout(height='25px', width='50%'),…"
      ]
     },
     "metadata": {},
     "output_type": "display_data"
    },
    {
     "name": "stdout",
     "output_type": "stream",
     "text": [
      "        NR\n",
      "122261  1 \n",
      "355144  1 \n",
      "440422  0 \n",
      "190678  1 \n",
      "62412   0 \n",
      "...    .. \n",
      "374201  1 \n",
      "329652  0 \n",
      "68953   0 \n",
      "129254  0 \n",
      "402338  0 \n",
      "\n",
      "[199791 rows x 1 columns]"
     ]
    }
   ],
   "source": [
    "#y = reviews[['NR','PII','PR','CS','DC','CR','FRD','TST','CC','SC','PIM','LC','WEB','FL','SA','URL','CV','US','NOLABEL']]\n",
    "#y = reviews[['NR','PII','PR','CS','DC','CR','FRD','TST','CC','SC','PIM','LC','WEB','FL','SA','URL','CV','US']]\n",
    "y = reviews[['NR']]\n",
    "y"
   ]
  },
  {
   "cell_type": "code",
   "execution_count": 56,
   "metadata": {},
   "outputs": [
    {
     "data": {
      "application/vnd.jupyter.widget-view+json": {
       "model_id": "26d627e63276400199f55e061316ea38",
       "version_major": 2,
       "version_minor": 0
      },
      "text/plain": [
       "VBox()"
      ]
     },
     "metadata": {},
     "output_type": "display_data"
    },
    {
     "data": {
      "application/vnd.jupyter.widget-view+json": {
       "model_id": "",
       "version_major": 2,
       "version_minor": 0
      },
      "text/plain": [
       "FloatProgress(value=0.0, bar_style='info', description='Progress:', layout=Layout(height='25px', width='50%'),…"
      ]
     },
     "metadata": {},
     "output_type": "display_data"
    },
    {
     "name": "stdout",
     "output_type": "stream",
     "text": [
      "NR    101112\n",
      "dtype: int64"
     ]
    }
   ],
   "source": [
    "y.sum(axis=0)"
   ]
  },
  {
   "cell_type": "code",
   "execution_count": null,
   "metadata": {},
   "outputs": [],
   "source": []
  },
  {
   "cell_type": "code",
   "execution_count": 57,
   "metadata": {},
   "outputs": [
    {
     "data": {
      "application/vnd.jupyter.widget-view+json": {
       "model_id": "33f1c6258130492bae3d9f2f4bd6cfd2",
       "version_major": 2,
       "version_minor": 0
      },
      "text/plain": [
       "VBox()"
      ]
     },
     "metadata": {},
     "output_type": "display_data"
    },
    {
     "data": {
      "application/vnd.jupyter.widget-view+json": {
       "model_id": "",
       "version_major": 2,
       "version_minor": 0
      },
      "text/plain": [
       "FloatProgress(value=0.0, bar_style='info', description='Progress:', layout=Layout(height='25px', width='50%'),…"
      ]
     },
     "metadata": {},
     "output_type": "display_data"
    }
   ],
   "source": [
    "#test_size is what % of data goes to test set vs training\n",
    "#random_state - use so that when comparing models - same data is always going to test and train sets\n",
    "xtrain, xtest, ytrain, ytest = train_test_split(X, y, test_size=0.2, random_state=9, stratify = y)"
   ]
  },
  {
   "cell_type": "code",
   "execution_count": 58,
   "metadata": {},
   "outputs": [
    {
     "data": {
      "application/vnd.jupyter.widget-view+json": {
       "model_id": "21e00e566f604b28860ff8e7c452dc54",
       "version_major": 2,
       "version_minor": 0
      },
      "text/plain": [
       "VBox()"
      ]
     },
     "metadata": {},
     "output_type": "display_data"
    },
    {
     "data": {
      "application/vnd.jupyter.widget-view+json": {
       "model_id": "",
       "version_major": 2,
       "version_minor": 0
      },
      "text/plain": [
       "FloatProgress(value=0.0, bar_style='info', description='Progress:', layout=Layout(height='25px', width='50%'),…"
      ]
     },
     "metadata": {},
     "output_type": "display_data"
    },
    {
     "name": "stdout",
     "output_type": "stream",
     "text": [
      "                                                                                                                                                                                                                                                                                                                                                                                                                                                                   ALL_TEXT  \\\n",
      "156833  headline keep blame system do nothing to keep customer happy comment do not recive shoe at all . customer service not willing to help solve problem . unbelievable unprofessional behaviour . unlikely i will use JD again .                                                                                                                                                                                                                                          \n",
      "129824  headline Shamrocking belt ! comment great belt for this irish guy !                                                                                                                                                                                                                                                                                                                                                                                                   \n",
      "76458   headline great experience with DT in the past , but .... comment no size 3xl ? seriously ? ! ?                                                                                                                                                                                                                                                                                                                                                                        \n",
      "109418  headline this be -PRON- second Sound Hole Tuner comment -PRON- use a tuner every time -PRON- pick up a guitar .   this be -PRON- second Round Hole Tuner , one for -PRON- Taylor and one for -PRON- Ephiphone .   -PRON- have a few other guitar and -PRON- have use snark and other tuner but -PRON- believe -PRON- like this one good .                                                                                                                             \n",
      "234058  headline hesitant to reorder after order go miss . comment -PRON- have always be happy with 4inkjet ink cartridge but this time -PRON- pay for an order and never receive -PRON- although 4inkjet tracking show -PRON- deliver . not necessarily blame -PRON- some thief probably steal the order from -PRON- porch . -PRON- be contact 4inkjet but do not hold out any hope of relief from -PRON- lost . still -PRON- be out 30 + dollar and hesitant to reorder .   \n",
      "...                                                                                                                                                                                                                                                                                                                                                                                                                                                                     ...   \n",
      "259474  headline good quality comment -PRON- be small than -PRON- expect ? for a small purse -PRON- be good quality !                                                                                                                                                                                                                                                                                                                                                         \n",
      "430810  headline Sound comment sound when on ps4 or AppleTv be not the good . regular tv sound be great !                                                                                                                                                                                                                                                                                                                                                                     \n",
      "363319  headline come defective comment get these deliver in the mail . not sure if -PRON- be the packaging or the travel , but one of the leg be loose upon open the case . tighten the screw thinking that be the issue but -PRON- be not : there be some wrong with the inner hinge . such a shame cause -PRON- have have Foster Grants before with no issue .                                                                                                             \n",
      "33420   headline never receive comment Would love to try this product because -PRON- be sure -PRON- be great . -PRON- be list in the box content . email about not receive -PRON- with no reply back in the last two week                                                                                                                                                                                                                                                     \n",
      "132490  headline not deliver - cannot get a response from customer service comment have not receive                                                                                                                                                                                                                                                                                                                                                                           \n",
      "\n",
      "        REVIEW_RATING  \n",
      "156833  1.0            \n",
      "129824  5.0            \n",
      "76458   3.0            \n",
      "109418  5.0            \n",
      "234058  1.0            \n",
      "...     ...            \n",
      "259474  5.0            \n",
      "430810  5.0            \n",
      "363319  2.0            \n",
      "33420   1.0            \n",
      "132490  1.0            \n",
      "\n",
      "[159832 rows x 2 columns]"
     ]
    }
   ],
   "source": [
    "print(xtrain)"
   ]
  },
  {
   "cell_type": "code",
   "execution_count": 59,
   "metadata": {},
   "outputs": [
    {
     "data": {
      "application/vnd.jupyter.widget-view+json": {
       "model_id": "71bdc614bb2f448c94534c8b0370638c",
       "version_major": 2,
       "version_minor": 0
      },
      "text/plain": [
       "VBox()"
      ]
     },
     "metadata": {},
     "output_type": "display_data"
    },
    {
     "data": {
      "application/vnd.jupyter.widget-view+json": {
       "model_id": "",
       "version_major": 2,
       "version_minor": 0
      },
      "text/plain": [
       "FloatProgress(value=0.0, bar_style='info', description='Progress:', layout=Layout(height='25px', width='50%'),…"
      ]
     },
     "metadata": {},
     "output_type": "display_data"
    }
   ],
   "source": [
    "#analyzer : default = word, can also test n_grams\n",
    "#max_df :  ignore terms that have a document frequency strictly higher than the given threshold\n",
    "#max_features : set total # of features used\n",
    "vectorizer = TfidfVectorizer(analyzer = 'word', max_features = 30000, stop_words= 'english', lowercase=True)\n",
    "#vectors = vectorizer.fit_transform(reviews['ALL_TEXT'].values.astype('U'))\n",
    "tfidf_vectors_xtrain = vectorizer.fit_transform(xtrain['ALL_TEXT'].apply(lambda x: np.str_(x)))\n",
    "tfidf_vectors_xtest = vectorizer.transform(xtest['ALL_TEXT'].apply(lambda x: np.str_(x)))\n",
    "#25 mins for 65 mil rows\n",
    "#16 mins for 30 mil rows"
   ]
  },
  {
   "cell_type": "code",
   "execution_count": 60,
   "metadata": {},
   "outputs": [
    {
     "data": {
      "application/vnd.jupyter.widget-view+json": {
       "model_id": "aa057c8fdc184beeb6f5721965956ba7",
       "version_major": 2,
       "version_minor": 0
      },
      "text/plain": [
       "VBox()"
      ]
     },
     "metadata": {},
     "output_type": "display_data"
    },
    {
     "data": {
      "application/vnd.jupyter.widget-view+json": {
       "model_id": "",
       "version_major": 2,
       "version_minor": 0
      },
      "text/plain": [
       "FloatProgress(value=0.0, bar_style='info', description='Progress:', layout=Layout(height='25px', width='50%'),…"
      ]
     },
     "metadata": {},
     "output_type": "display_data"
    },
    {
     "name": "stdout",
     "output_type": "stream",
     "text": [
      "  (0, 14458)\t0.24862509871634023\n",
      "  (0, 27982)\t0.10757982425172019\n",
      "  (0, 27721)\t0.33698818964138266\n",
      "  (0, 3691)\t0.3860799842479195\n",
      "  (0, 27773)\t0.29663826442583013\n",
      "  (0, 27495)\t0.28089094148052807\n",
      "  (0, 20626)\t0.16262356925763236\n",
      "  (0, 24507)\t0.2573815741064236\n",
      "  (0, 12747)\t0.16396839584448936\n",
      "  (0, 29096)\t0.2626655200056276\n",
      "  (0, 23489)\t0.1273660567954199\n",
      "  (0, 23767)\t0.1508892630865919\n",
      "  (0, 21542)\t0.3058937773083229\n",
      "  (0, 6288)\t0.035412244313595145\n",
      "  (0, 12469)\t0.15718889517947948\n",
      "  (0, 7353)\t0.26792257825431015\n",
      "  (0, 4016)\t0.27743334414192516\n",
      "  (0, 12624)\t0.035412244313595145\n",
      "  (1, 12264)\t0.3092838079504391\n",
      "  (1, 14218)\t0.5360668928753243\n",
      "  (1, 12034)\t0.14648841615649377\n",
      "  (1, 3732)\t0.7679541990056369\n",
      "  (1, 6288)\t0.053681023948152086\n",
      "  (1, 12624)\t0.053681023948152086\n",
      "  (2, 23470)\t0.38456663265706187\n",
      "  :\t:\n",
      "  (159829, 20748)\t0.1231577177716868\n",
      "  (159829, 6288)\t0.03197200475967005\n",
      "  (159829, 12624)\t0.03197200475967005\n",
      "  (159830, 6646)\t0.4224995205856612\n",
      "  (159830, 21974)\t0.3593944242855393\n",
      "  (159830, 15760)\t0.3458372717046719\n",
      "  (159830, 9379)\t0.2500418028442565\n",
      "  (159830, 28842)\t0.22919849663563643\n",
      "  (159830, 25694)\t0.2566079344582883\n",
      "  (159830, 27197)\t0.20837925727645543\n",
      "  (159830, 16006)\t0.15683578396354605\n",
      "  (159830, 20663)\t0.15861290418035737\n",
      "  (159830, 4376)\t0.2563390752223059\n",
      "  (159830, 21494)\t0.34891823966275154\n",
      "  (159830, 20748)\t0.2861371917275817\n",
      "  (159830, 12034)\t0.15202895228377747\n",
      "  (159830, 6288)\t0.055711366417119615\n",
      "  (159830, 12624)\t0.055711366417119615\n",
      "  (159831, 22094)\t0.5822703404599198\n",
      "  (159831, 7849)\t0.48513847389760295\n",
      "  (159831, 21494)\t0.326908887420108\n",
      "  (159831, 23489)\t0.3754716165965108\n",
      "  (159831, 6288)\t0.1043943178761761\n",
      "  (159831, 7353)\t0.39491417929909756\n",
      "  (159831, 12624)\t0.1043943178761761"
     ]
    }
   ],
   "source": [
    "print(tfidf_vectors_xtrain)\n",
    "#print(tfidf_vectors_xtest)"
   ]
  },
  {
   "cell_type": "code",
   "execution_count": 61,
   "metadata": {},
   "outputs": [
    {
     "data": {
      "application/vnd.jupyter.widget-view+json": {
       "model_id": "b0c63a3a8a1f4f678d7086e81573350f",
       "version_major": 2,
       "version_minor": 0
      },
      "text/plain": [
       "VBox()"
      ]
     },
     "metadata": {},
     "output_type": "display_data"
    },
    {
     "data": {
      "application/vnd.jupyter.widget-view+json": {
       "model_id": "",
       "version_major": 2,
       "version_minor": 0
      },
      "text/plain": [
       "FloatProgress(value=0.0, bar_style='info', description='Progress:', layout=Layout(height='25px', width='50%'),…"
      ]
     },
     "metadata": {},
     "output_type": "display_data"
    }
   ],
   "source": [
    "#Test to see what output looks like - don't use for modeling - dense vectors are memory intensive\n",
    "#feature_names = vectorizer.get_feature_names()\n",
    "#dense = tfidf_vectors.todense()\n",
    "#denselist = dense.tolist()\n",
    "#df = pd.DataFrame(denselist, columns=feature_names)\n",
    "#df.head()"
   ]
  },
  {
   "cell_type": "code",
   "execution_count": 62,
   "metadata": {},
   "outputs": [
    {
     "data": {
      "application/vnd.jupyter.widget-view+json": {
       "model_id": "04959336a26f4376883db56932890ae3",
       "version_major": 2,
       "version_minor": 0
      },
      "text/plain": [
       "VBox()"
      ]
     },
     "metadata": {},
     "output_type": "display_data"
    },
    {
     "data": {
      "application/vnd.jupyter.widget-view+json": {
       "model_id": "",
       "version_major": 2,
       "version_minor": 0
      },
      "text/plain": [
       "FloatProgress(value=0.0, bar_style='info', description='Progress:', layout=Layout(height='25px', width='50%'),…"
      ]
     },
     "metadata": {},
     "output_type": "display_data"
    }
   ],
   "source": [
    "#Convert ratings to sparse vector so can join to TF-IDF sparse vector\n",
    "#ratings_vector_xtrain=sparse.csr_matrix((xtrain['REVIEW_RATING']/5).values).reshape(808202,1)\n",
    "#print(ratings_vector_xtrain)\n",
    "#ratings_vector_xtest=sparse.csr_matrix((xtest['REVIEW_RATING']/5).values).reshape(202051,1)\n",
    "#print(ratings_vector_xtest)"
   ]
  },
  {
   "cell_type": "code",
   "execution_count": 63,
   "metadata": {},
   "outputs": [
    {
     "data": {
      "application/vnd.jupyter.widget-view+json": {
       "model_id": "96b72b5bf0544d248f0a2291d87e27fe",
       "version_major": 2,
       "version_minor": 0
      },
      "text/plain": [
       "VBox()"
      ]
     },
     "metadata": {},
     "output_type": "display_data"
    },
    {
     "data": {
      "application/vnd.jupyter.widget-view+json": {
       "model_id": "",
       "version_major": 2,
       "version_minor": 0
      },
      "text/plain": [
       "FloatProgress(value=0.0, bar_style='info', description='Progress:', layout=Layout(height='25px', width='50%'),…"
      ]
     },
     "metadata": {},
     "output_type": "display_data"
    }
   ],
   "source": [
    "#Combine TF-IDF and ratings vectors\n",
    "#xtrain_final = sparse.hstack([tfidf_vectors_xtrain, ratings_vector_xtrain])\n",
    "#print(xtrain_final)\n",
    "#xtest_final = sparse.hstack([tfidf_vectors_xtest, ratings_vector_xtest])\n",
    "#print(xtest_final)"
   ]
  },
  {
   "cell_type": "code",
   "execution_count": 64,
   "metadata": {},
   "outputs": [
    {
     "data": {
      "application/vnd.jupyter.widget-view+json": {
       "model_id": "af3e6f58ea5b409990c510549937e004",
       "version_major": 2,
       "version_minor": 0
      },
      "text/plain": [
       "VBox()"
      ]
     },
     "metadata": {},
     "output_type": "display_data"
    },
    {
     "data": {
      "application/vnd.jupyter.widget-view+json": {
       "model_id": "",
       "version_major": 2,
       "version_minor": 0
      },
      "text/plain": [
       "FloatProgress(value=0.0, bar_style='info', description='Progress:', layout=Layout(height='25px', width='50%'),…"
      ]
     },
     "metadata": {},
     "output_type": "display_data"
    }
   ],
   "source": [
    "xtrain_final = tfidf_vectors_xtrain\n",
    "xtest_final = tfidf_vectors_xtest"
   ]
  },
  {
   "cell_type": "code",
   "execution_count": 65,
   "metadata": {},
   "outputs": [
    {
     "data": {
      "application/vnd.jupyter.widget-view+json": {
       "model_id": "4a2c82165e0f4d3488826b0cf9dcfa91",
       "version_major": 2,
       "version_minor": 0
      },
      "text/plain": [
       "VBox()"
      ]
     },
     "metadata": {},
     "output_type": "display_data"
    },
    {
     "data": {
      "application/vnd.jupyter.widget-view+json": {
       "model_id": "",
       "version_major": 2,
       "version_minor": 0
      },
      "text/plain": [
       "FloatProgress(value=0.0, bar_style='info', description='Progress:', layout=Layout(height='25px', width='50%'),…"
      ]
     },
     "metadata": {},
     "output_type": "display_data"
    }
   ],
   "source": [
    "#max_iter : default =100 but getting error about not converging\n",
    "lr = LogisticRegression(max_iter=1000, solver = 'lbfgs')\n",
    "clf = lr\n"
   ]
  },
  {
   "cell_type": "code",
   "execution_count": 66,
   "metadata": {},
   "outputs": [
    {
     "data": {
      "application/vnd.jupyter.widget-view+json": {
       "model_id": "462db96cfdae4c7baa4b9cd80558ad0d",
       "version_major": 2,
       "version_minor": 0
      },
      "text/plain": [
       "VBox()"
      ]
     },
     "metadata": {},
     "output_type": "display_data"
    },
    {
     "data": {
      "application/vnd.jupyter.widget-view+json": {
       "model_id": "",
       "version_major": 2,
       "version_minor": 0
      },
      "text/plain": [
       "FloatProgress(value=0.0, bar_style='info', description='Progress:', layout=Layout(height='25px', width='50%'),…"
      ]
     },
     "metadata": {},
     "output_type": "display_data"
    }
   ],
   "source": [
    "#Support Vector Machine model\n",
    "#clf = svm.SVC(probability=True)\n",
    "\n",
    "#Need to change input type of y for training model\n",
    "#ytrain = ytrain['NR'].ravel()\n",
    "#ytrain.shape"
   ]
  },
  {
   "cell_type": "code",
   "execution_count": 67,
   "metadata": {},
   "outputs": [
    {
     "data": {
      "application/vnd.jupyter.widget-view+json": {
       "model_id": "77972532bba44256a9cee5f368ac1ce0",
       "version_major": 2,
       "version_minor": 0
      },
      "text/plain": [
       "VBox()"
      ]
     },
     "metadata": {},
     "output_type": "display_data"
    },
    {
     "data": {
      "application/vnd.jupyter.widget-view+json": {
       "model_id": "",
       "version_major": 2,
       "version_minor": 0
      },
      "text/plain": [
       "FloatProgress(value=0.0, bar_style='info', description='Progress:', layout=Layout(height='25px', width='50%'),…"
      ]
     },
     "metadata": {},
     "output_type": "display_data"
    },
    {
     "name": "stdout",
     "output_type": "stream",
     "text": [
      "LogisticRegression(max_iter=1000)\n",
      "/usr/local/lib64/python3.7/site-packages/sklearn/utils/validation.py:72: DataConversionWarning: A column-vector y was passed when a 1d array was expected. Please change the shape of y to (n_samples, ), for example using ravel().\n",
      "  return f(**kwargs)"
     ]
    }
   ],
   "source": [
    "#Train model\n",
    "#start 1241 for 50k\n",
    "clf.fit(xtrain_final, ytrain)"
   ]
  },
  {
   "cell_type": "code",
   "execution_count": 68,
   "metadata": {},
   "outputs": [
    {
     "data": {
      "application/vnd.jupyter.widget-view+json": {
       "model_id": "9ab23b553d7b4af699ec62dce9386c11",
       "version_major": 2,
       "version_minor": 0
      },
      "text/plain": [
       "VBox()"
      ]
     },
     "metadata": {},
     "output_type": "display_data"
    },
    {
     "data": {
      "application/vnd.jupyter.widget-view+json": {
       "model_id": "",
       "version_major": 2,
       "version_minor": 0
      },
      "text/plain": [
       "FloatProgress(value=0.0, bar_style='info', description='Progress:', layout=Layout(height='25px', width='50%'),…"
      ]
     },
     "metadata": {},
     "output_type": "display_data"
    },
    {
     "name": "stdout",
     "output_type": "stream",
     "text": [
      "NR    80889\n",
      "dtype: int64"
     ]
    }
   ],
   "source": [
    "#ytrain.dtypes\n",
    "ytrain.sum(axis=0)"
   ]
  },
  {
   "cell_type": "code",
   "execution_count": 69,
   "metadata": {},
   "outputs": [
    {
     "data": {
      "application/vnd.jupyter.widget-view+json": {
       "model_id": "620b77284ae040e2b6ee1b6646b9da12",
       "version_major": 2,
       "version_minor": 0
      },
      "text/plain": [
       "VBox()"
      ]
     },
     "metadata": {},
     "output_type": "display_data"
    },
    {
     "data": {
      "application/vnd.jupyter.widget-view+json": {
       "model_id": "",
       "version_major": 2,
       "version_minor": 0
      },
      "text/plain": [
       "FloatProgress(value=0.0, bar_style='info', description='Progress:', layout=Layout(height='25px', width='50%'),…"
      ]
     },
     "metadata": {},
     "output_type": "display_data"
    }
   ],
   "source": [
    "y_pred = clf.predict(xtest_final)"
   ]
  },
  {
   "cell_type": "code",
   "execution_count": 70,
   "metadata": {},
   "outputs": [
    {
     "data": {
      "application/vnd.jupyter.widget-view+json": {
       "model_id": "8ec21385d2fb432e98571d19052b0fd6",
       "version_major": 2,
       "version_minor": 0
      },
      "text/plain": [
       "VBox()"
      ]
     },
     "metadata": {},
     "output_type": "display_data"
    },
    {
     "data": {
      "application/vnd.jupyter.widget-view+json": {
       "model_id": "",
       "version_major": 2,
       "version_minor": 0
      },
      "text/plain": [
       "FloatProgress(value=0.0, bar_style='info', description='Progress:', layout=Layout(height='25px', width='50%'),…"
      ]
     },
     "metadata": {},
     "output_type": "display_data"
    }
   ],
   "source": [
    "plt.clf()"
   ]
  },
  {
   "cell_type": "code",
   "execution_count": 71,
   "metadata": {},
   "outputs": [],
   "source": [
    "%matplotlib inline"
   ]
  },
  {
   "cell_type": "code",
   "execution_count": 72,
   "metadata": {},
   "outputs": [
    {
     "data": {
      "application/vnd.jupyter.widget-view+json": {
       "model_id": "e33a8a8ec6f944789177774f98e5c9ea",
       "version_major": 2,
       "version_minor": 0
      },
      "text/plain": [
       "VBox()"
      ]
     },
     "metadata": {},
     "output_type": "display_data"
    },
    {
     "data": {
      "application/vnd.jupyter.widget-view+json": {
       "model_id": "",
       "version_major": 2,
       "version_minor": 0
      },
      "text/plain": [
       "FloatProgress(value=0.0, bar_style='info', description='Progress:', layout=Layout(height='25px', width='50%'),…"
      ]
     },
     "metadata": {},
     "output_type": "display_data"
    }
   ],
   "source": [
    "#Confusion matrix\n",
    "#confusion_matrix(ytest, y_pred)\n",
    "#tn, fp, fn, tp = confusion_matrix(ytest, y_pred).ravel()\n",
    "#print(\"TN: {}\".format(tn), \"FP: {}\".format(fp), \"FN: {}\".format(fn), \"TP: {}\".format(tp))\n",
    "plot_confusion_matrix(clf, xtest_final, ytest)\n",
    "plt.show()"
   ]
  },
  {
   "cell_type": "code",
   "execution_count": 73,
   "metadata": {},
   "outputs": [
    {
     "data": {
      "application/vnd.jupyter.widget-view+json": {
       "model_id": "",
       "version_major": 2,
       "version_minor": 0
      },
      "text/plain": [
       "FloatProgress(value=0.0, bar_style='info', description='Progress:', layout=Layout(height='25px', width='50%'),…"
      ]
     },
     "metadata": {},
     "output_type": "display_data"
    },
    {
     "data": {
      "image/png": "[encoded data removed]",
      "text/plain": [
       "<IPython.core.display.Image object>"
      ]
     },
     "metadata": {},
     "output_type": "display_data"
    }
   ],
   "source": [
    "%matplot plt"
   ]
  },
  {
   "cell_type": "code",
   "execution_count": 74,
   "metadata": {},
   "outputs": [
    {
     "data": {
      "application/vnd.jupyter.widget-view+json": {
       "model_id": "89aa65fa9c7e4453885cfafb7b845631",
       "version_major": 2,
       "version_minor": 0
      },
      "text/plain": [
       "VBox()"
      ]
     },
     "metadata": {},
     "output_type": "display_data"
    },
    {
     "data": {
      "application/vnd.jupyter.widget-view+json": {
       "model_id": "",
       "version_major": 2,
       "version_minor": 0
      },
      "text/plain": [
       "FloatProgress(value=0.0, bar_style='info', description='Progress:', layout=Layout(height='25px', width='50%'),…"
      ]
     },
     "metadata": {},
     "output_type": "display_data"
    }
   ],
   "source": [
    "#Evaluating model performance\n",
    "#There are inherently mostly NOLABEL so accuracy could be high just bc of those\n",
    "#Want to make sure that when there is a label besides NOLABEL that it is being accurately predicted\n"
   ]
  },
  {
   "cell_type": "code",
   "execution_count": 75,
   "metadata": {},
   "outputs": [
    {
     "data": {
      "application/vnd.jupyter.widget-view+json": {
       "model_id": "26c85f5c8e63434d8cd8b8e1599b2878",
       "version_major": 2,
       "version_minor": 0
      },
      "text/plain": [
       "VBox()"
      ]
     },
     "metadata": {},
     "output_type": "display_data"
    },
    {
     "data": {
      "application/vnd.jupyter.widget-view+json": {
       "model_id": "",
       "version_major": 2,
       "version_minor": 0
      },
      "text/plain": [
       "FloatProgress(value=0.0, bar_style='info', description='Progress:', layout=Layout(height='25px', width='50%'),…"
      ]
     },
     "metadata": {},
     "output_type": "display_data"
    },
    {
     "name": "stdout",
     "output_type": "stream",
     "text": [
      "Accuracy is:  0.878200155159038\n",
      "Precision is:  0.8862173038229376\n",
      "Recall is:  0.871186273055432\n",
      "F1 Score is:  0.8786375084158292"
     ]
    }
   ],
   "source": [
    "#Model performance metrics\n",
    "#Assess at individual label level as well as overall\n",
    "\n",
    "#Accuracy is overall correct predictions - not great measurement tool for imbalanced data\n",
    "#Precision - TP / TP + FP = spam detection - don't want to mark something as spam (FP) when it isn't\n",
    "#Recall - TP / TP + FN = sickness - don't want to tell someone they aren't sick (FN) when they are and can spread it\n",
    "#F1 - balance of precision and recall\n",
    "\n",
    "#We want to make sure if bomb emoji then it gets marked - even at the expense of marking other things potentially offensive that aren't \n",
    "#Important not to have FN - USE RECALL\n",
    "#Also don't want to be marking a bunch of stuff as offensive when it isn't and making moderation do everything anyway\n",
    "#Important not to have too many FP - USE PRECISION\n",
    "#Use F1 for balance between both\n",
    "print(\"Accuracy is:  {}\" .format(accuracy_score(ytest, y_pred)))\n",
    "print(\"Precision is:  {}\" .format(precision_score(ytest, y_pred)))\n",
    "print(\"Recall is:  {}\" .format(recall_score(ytest, y_pred)))\n",
    "print(\"F1 Score is:  {}\" .format(f1_score(ytest, y_pred)))"
   ]
  },
  {
   "cell_type": "code",
   "execution_count": 76,
   "metadata": {},
   "outputs": [
    {
     "data": {
      "application/vnd.jupyter.widget-view+json": {
       "model_id": "786be0ce3aae4528aabd7cc5cfd6e413",
       "version_major": 2,
       "version_minor": 0
      },
      "text/plain": [
       "VBox()"
      ]
     },
     "metadata": {},
     "output_type": "display_data"
    },
    {
     "data": {
      "application/vnd.jupyter.widget-view+json": {
       "model_id": "",
       "version_major": 2,
       "version_minor": 0
      },
      "text/plain": [
       "FloatProgress(value=0.0, bar_style='info', description='Progress:', layout=Layout(height='25px', width='50%'),…"
      ]
     },
     "metadata": {},
     "output_type": "display_data"
    },
    {
     "name": "stdout",
     "output_type": "stream",
     "text": [
      "              precision    recall  f1-score   support\n",
      "\n",
      "           0       0.87      0.89      0.88     19736\n",
      "           1       0.89      0.87      0.88     20223\n",
      "\n",
      "    accuracy                           0.88     39959\n",
      "   macro avg       0.88      0.88      0.88     39959\n",
      "weighted avg       0.88      0.88      0.88     39959"
     ]
    }
   ],
   "source": [
    "print(classification_report(ytest,y_pred))"
   ]
  },
  {
   "cell_type": "code",
   "execution_count": 77,
   "metadata": {},
   "outputs": [
    {
     "data": {
      "application/vnd.jupyter.widget-view+json": {
       "model_id": "3594b7041a034f989c58f7e8c9852577",
       "version_major": 2,
       "version_minor": 0
      },
      "text/plain": [
       "VBox()"
      ]
     },
     "metadata": {},
     "output_type": "display_data"
    },
    {
     "data": {
      "application/vnd.jupyter.widget-view+json": {
       "model_id": "",
       "version_major": 2,
       "version_minor": 0
      },
      "text/plain": [
       "FloatProgress(value=0.0, bar_style='info', description='Progress:', layout=Layout(height='25px', width='50%'),…"
      ]
     },
     "metadata": {},
     "output_type": "display_data"
    },
    {
     "name": "stdout",
     "output_type": "stream",
     "text": [
      "0.9485129035814912"
     ]
    }
   ],
   "source": [
    "probs = clf.predict_proba(xtest_final)\n",
    "preds = probs[:,1]\n",
    "fpr, tpr, threshold = roc_curve(ytest, preds)\n",
    "roc_auc = auc(fpr, tpr)\n",
    "print(roc_auc)"
   ]
  },
  {
   "cell_type": "code",
   "execution_count": 78,
   "metadata": {},
   "outputs": [
    {
     "data": {
      "application/vnd.jupyter.widget-view+json": {
       "model_id": "8f9ca22f739742f0abae1bf46d7017b6",
       "version_major": 2,
       "version_minor": 0
      },
      "text/plain": [
       "VBox()"
      ]
     },
     "metadata": {},
     "output_type": "display_data"
    },
    {
     "data": {
      "application/vnd.jupyter.widget-view+json": {
       "model_id": "",
       "version_major": 2,
       "version_minor": 0
      },
      "text/plain": [
       "FloatProgress(value=0.0, bar_style='info', description='Progress:', layout=Layout(height='25px', width='50%'),…"
      ]
     },
     "metadata": {},
     "output_type": "display_data"
    }
   ],
   "source": [
    "plt.clf()"
   ]
  },
  {
   "cell_type": "code",
   "execution_count": 79,
   "metadata": {},
   "outputs": [
    {
     "data": {
      "application/vnd.jupyter.widget-view+json": {
       "model_id": "f3974355b97d4ec1a5e42a76e1df840c",
       "version_major": 2,
       "version_minor": 0
      },
      "text/plain": [
       "VBox()"
      ]
     },
     "metadata": {},
     "output_type": "display_data"
    },
    {
     "data": {
      "application/vnd.jupyter.widget-view+json": {
       "model_id": "",
       "version_major": 2,
       "version_minor": 0
      },
      "text/plain": [
       "FloatProgress(value=0.0, bar_style='info', description='Progress:', layout=Layout(height='25px', width='50%'),…"
      ]
     },
     "metadata": {},
     "output_type": "display_data"
    }
   ],
   "source": [
    "#ROC CURVE\n",
    "#Assumes we care about 0 and 1 classification the same - we don't\n",
    "#We care more about performance of 1 classification - use precision recall curve\n",
    "plt.title('Receiver Operating Characteristic')\n",
    "plt.plot(fpr, tpr, 'b', label = 'AUC = %0.4f' % roc_auc)\n",
    "plt.legend(loc = 'lower right')\n",
    "plt.plot([0, 1], [0, 1],'r--')\n",
    "plt.xlim([0, 1])\n",
    "plt.ylim([0, 1])\n",
    "plt.ylabel('True Positive Rate')\n",
    "plt.xlabel('False Positive Rate')\n",
    "plt.show()"
   ]
  },
  {
   "cell_type": "code",
   "execution_count": 80,
   "metadata": {},
   "outputs": [
    {
     "data": {
      "application/vnd.jupyter.widget-view+json": {
       "model_id": "",
       "version_major": 2,
       "version_minor": 0
      },
      "text/plain": [
       "FloatProgress(value=0.0, bar_style='info', description='Progress:', layout=Layout(height='25px', width='50%'),…"
      ]
     },
     "metadata": {},
     "output_type": "display_data"
    },
    {
     "data": {
      "image/png": "[encoded data removed]",
      "text/plain": [
       "<IPython.core.display.Image object>"
      ]
     },
     "metadata": {},
     "output_type": "display_data"
    }
   ],
   "source": [
    "%matplot plt"
   ]
  },
  {
   "cell_type": "code",
   "execution_count": 81,
   "metadata": {},
   "outputs": [
    {
     "data": {
      "application/vnd.jupyter.widget-view+json": {
       "model_id": "ebbc811d22e941d19fd59ec6408c7c7f",
       "version_major": 2,
       "version_minor": 0
      },
      "text/plain": [
       "VBox()"
      ]
     },
     "metadata": {},
     "output_type": "display_data"
    },
    {
     "data": {
      "application/vnd.jupyter.widget-view+json": {
       "model_id": "",
       "version_major": 2,
       "version_minor": 0
      },
      "text/plain": [
       "FloatProgress(value=0.0, bar_style='info', description='Progress:', layout=Layout(height='25px', width='50%'),…"
      ]
     },
     "metadata": {},
     "output_type": "display_data"
    },
    {
     "name": "stdout",
     "output_type": "stream",
     "text": [
      "Optimal threshold value: 0.5245245644034537\n",
      "Optimal tpr value: 0.8620382732532266\n",
      "Optimal fpr value: 0.1041244426428861"
     ]
    }
   ],
   "source": [
    "#Find best threshold (ROC Curve)\n",
    "#Ideally want tpr = 1 and fpr = 0, so want tpr - fpr as close to 1 as possible\n",
    "optimal_idx = np.argmax(tpr - fpr)\n",
    "optimal_threshold = threshold[optimal_idx]\n",
    "opt_tpr = tpr[optimal_idx]\n",
    "opt_fpr = fpr[optimal_idx]\n",
    "print(\"Optimal threshold value:\", optimal_threshold)\n",
    "print(\"Optimal tpr value:\", opt_tpr)\n",
    "print(\"Optimal fpr value:\", opt_fpr)"
   ]
  },
  {
   "cell_type": "code",
   "execution_count": 82,
   "metadata": {},
   "outputs": [
    {
     "data": {
      "application/vnd.jupyter.widget-view+json": {
       "model_id": "68da870c83e648b9a44b38025be2042c",
       "version_major": 2,
       "version_minor": 0
      },
      "text/plain": [
       "VBox()"
      ]
     },
     "metadata": {},
     "output_type": "display_data"
    },
    {
     "data": {
      "application/vnd.jupyter.widget-view+json": {
       "model_id": "",
       "version_major": 2,
       "version_minor": 0
      },
      "text/plain": [
       "FloatProgress(value=0.0, bar_style='info', description='Progress:', layout=Layout(height='25px', width='50%'),…"
      ]
     },
     "metadata": {},
     "output_type": "display_data"
    }
   ],
   "source": [
    "t = optimal_threshold\n",
    "y_pred_new = (preds >= t).astype(int)\n",
    "#y_pred_new"
   ]
  },
  {
   "cell_type": "code",
   "execution_count": 83,
   "metadata": {},
   "outputs": [
    {
     "data": {
      "application/vnd.jupyter.widget-view+json": {
       "model_id": "229a049e66ae4d1a873de9579f6ced5d",
       "version_major": 2,
       "version_minor": 0
      },
      "text/plain": [
       "VBox()"
      ]
     },
     "metadata": {},
     "output_type": "display_data"
    },
    {
     "data": {
      "application/vnd.jupyter.widget-view+json": {
       "model_id": "",
       "version_major": 2,
       "version_minor": 0
      },
      "text/plain": [
       "FloatProgress(value=0.0, bar_style='info', description='Progress:', layout=Layout(height='25px', width='50%'),…"
      ]
     },
     "metadata": {},
     "output_type": "display_data"
    },
    {
     "name": "stdout",
     "output_type": "stream",
     "text": [
      "Accuracy is:  0.8787507194874746\n",
      "Precision is:  0.8945504926108374\n",
      "Recall is:  0.8620382732532266\n",
      "F1 Score is:  0.8779935030596057"
     ]
    }
   ],
   "source": [
    "#Scores with best threshold cutoff\n",
    "print(\"Accuracy is:  {}\" .format(accuracy_score(ytest, y_pred_new)))\n",
    "print(\"Precision is:  {}\" .format(precision_score(ytest, y_pred_new)))\n",
    "print(\"Recall is:  {}\" .format(recall_score(ytest, y_pred_new)))\n",
    "print(\"F1 Score is:  {}\" .format(f1_score(ytest, y_pred_new)))"
   ]
  },
  {
   "cell_type": "code",
   "execution_count": 84,
   "metadata": {},
   "outputs": [
    {
     "data": {
      "application/vnd.jupyter.widget-view+json": {
       "model_id": "03966942e97b4376b6a4cd4df572e40f",
       "version_major": 2,
       "version_minor": 0
      },
      "text/plain": [
       "VBox()"
      ]
     },
     "metadata": {},
     "output_type": "display_data"
    },
    {
     "data": {
      "application/vnd.jupyter.widget-view+json": {
       "model_id": "",
       "version_major": 2,
       "version_minor": 0
      },
      "text/plain": [
       "FloatProgress(value=0.0, bar_style='info', description='Progress:', layout=Layout(height='25px', width='50%'),…"
      ]
     },
     "metadata": {},
     "output_type": "display_data"
    },
    {
     "name": "stdout",
     "output_type": "stream",
     "text": [
      "39959"
     ]
    }
   ],
   "source": [
    "len(y_pred_new)"
   ]
  },
  {
   "cell_type": "code",
   "execution_count": null,
   "metadata": {},
   "outputs": [],
   "source": []
  },
  {
   "cell_type": "code",
   "execution_count": 85,
   "metadata": {},
   "outputs": [
    {
     "data": {
      "application/vnd.jupyter.widget-view+json": {
       "model_id": "09209581379c45b0b63ba1b99a8831c2",
       "version_major": 2,
       "version_minor": 0
      },
      "text/plain": [
       "VBox()"
      ]
     },
     "metadata": {},
     "output_type": "display_data"
    },
    {
     "data": {
      "application/vnd.jupyter.widget-view+json": {
       "model_id": "",
       "version_major": 2,
       "version_minor": 0
      },
      "text/plain": [
       "FloatProgress(value=0.0, bar_style='info', description='Progress:', layout=Layout(height='25px', width='50%'),…"
      ]
     },
     "metadata": {},
     "output_type": "display_data"
    }
   ],
   "source": [
    "#PRECISION RECALL CURVE\n",
    "#Better for what we want to assess which is how well label is assigned (i.e. when it gets a 1 instead of a 0)\n",
    "\n",
    "precision, recall, pr_threshold = precision_recall_curve(ytest, preds)\n",
    "auc = auc(recall, precision)"
   ]
  },
  {
   "cell_type": "code",
   "execution_count": 86,
   "metadata": {},
   "outputs": [
    {
     "data": {
      "application/vnd.jupyter.widget-view+json": {
       "model_id": "0f00624af18d496085c6a4d8f448a132",
       "version_major": 2,
       "version_minor": 0
      },
      "text/plain": [
       "VBox()"
      ]
     },
     "metadata": {},
     "output_type": "display_data"
    },
    {
     "data": {
      "application/vnd.jupyter.widget-view+json": {
       "model_id": "",
       "version_major": 2,
       "version_minor": 0
      },
      "text/plain": [
       "FloatProgress(value=0.0, bar_style='info', description='Progress:', layout=Layout(height='25px', width='50%'),…"
      ]
     },
     "metadata": {},
     "output_type": "display_data"
    }
   ],
   "source": [
    "plt.clf()"
   ]
  },
  {
   "cell_type": "code",
   "execution_count": 87,
   "metadata": {},
   "outputs": [
    {
     "data": {
      "application/vnd.jupyter.widget-view+json": {
       "model_id": "7614e7e7b39c41fa995334aff82f1ecf",
       "version_major": 2,
       "version_minor": 0
      },
      "text/plain": [
       "VBox()"
      ]
     },
     "metadata": {},
     "output_type": "display_data"
    },
    {
     "data": {
      "application/vnd.jupyter.widget-view+json": {
       "model_id": "",
       "version_major": 2,
       "version_minor": 0
      },
      "text/plain": [
       "FloatProgress(value=0.0, bar_style='info', description='Progress:', layout=Layout(height='25px', width='50%'),…"
      ]
     },
     "metadata": {},
     "output_type": "display_data"
    }
   ],
   "source": [
    "plt.title('Precision - Recall Curve')\n",
    "plt.plot(recall, precision, 'b', label = 'AUC = %0.4f' % auc)\n",
    "plt.legend(loc = 'lower right')\n",
    "no_skill = len(ytest[ytest['NR']==1]) / len(ytest)\n",
    "plt.plot([0, 1], [no_skill, no_skill], 'r--', label='No Skill')\n",
    "#plt.xlim([0, 1])\n",
    "#plt.ylim([0, 1])\n",
    "plt.ylabel('Precision')\n",
    "plt.xlabel('Recall')\n",
    "plt.show()"
   ]
  },
  {
   "cell_type": "code",
   "execution_count": 88,
   "metadata": {},
   "outputs": [
    {
     "data": {
      "application/vnd.jupyter.widget-view+json": {
       "model_id": "",
       "version_major": 2,
       "version_minor": 0
      },
      "text/plain": [
       "FloatProgress(value=0.0, bar_style='info', description='Progress:', layout=Layout(height='25px', width='50%'),…"
      ]
     },
     "metadata": {},
     "output_type": "display_data"
    },
    {
     "data": {
      "image/png": "[encoded data removed]",
      "text/plain": [
       "<IPython.core.display.Image object>"
      ]
     },
     "metadata": {},
     "output_type": "display_data"
    }
   ],
   "source": [
    "%matplot plt"
   ]
  },
  {
   "cell_type": "code",
   "execution_count": 89,
   "metadata": {},
   "outputs": [
    {
     "data": {
      "application/vnd.jupyter.widget-view+json": {
       "model_id": "4969416381ea4b02be6345cbdd33e93a",
       "version_major": 2,
       "version_minor": 0
      },
      "text/plain": [
       "VBox()"
      ]
     },
     "metadata": {},
     "output_type": "display_data"
    },
    {
     "data": {
      "application/vnd.jupyter.widget-view+json": {
       "model_id": "",
       "version_major": 2,
       "version_minor": 0
      },
      "text/plain": [
       "FloatProgress(value=0.0, bar_style='info', description='Progress:', layout=Layout(height='25px', width='50%'),…"
      ]
     },
     "metadata": {},
     "output_type": "display_data"
    },
    {
     "name": "stdout",
     "output_type": "stream",
     "text": [
      "Best Threshold=0.442825, F-Score=0.880\n",
      "Recall=0.892647\n",
      "Precision=0.867843"
     ]
    }
   ],
   "source": [
    "#Best F1 score optimizes precision recall trade off\n",
    "\n",
    "fscore = (2 * precision * recall) / (precision + recall)\n",
    "ix = argmax(fscore)\n",
    "print('Best Threshold=%f, F-Score=%.3f' % (pr_threshold[ix], fscore[ix]))\n",
    "\n",
    "print('Recall=%f' % recall[ix])\n",
    "print('Precision=%f' % precision[ix])"
   ]
  },
  {
   "cell_type": "code",
   "execution_count": 90,
   "metadata": {},
   "outputs": [
    {
     "data": {
      "application/vnd.jupyter.widget-view+json": {
       "model_id": "71235f2da6e3442eb60e511a0738467a",
       "version_major": 2,
       "version_minor": 0
      },
      "text/plain": [
       "VBox()"
      ]
     },
     "metadata": {},
     "output_type": "display_data"
    },
    {
     "data": {
      "application/vnd.jupyter.widget-view+json": {
       "model_id": "",
       "version_major": 2,
       "version_minor": 0
      },
      "text/plain": [
       "FloatProgress(value=0.0, bar_style='info', description='Progress:', layout=Layout(height='25px', width='50%'),…"
      ]
     },
     "metadata": {},
     "output_type": "display_data"
    }
   ],
   "source": [
    "plt.clf()"
   ]
  },
  {
   "cell_type": "code",
   "execution_count": 91,
   "metadata": {},
   "outputs": [
    {
     "data": {
      "application/vnd.jupyter.widget-view+json": {
       "model_id": "8de2c22fc4e64bd5b321f07a382780d4",
       "version_major": 2,
       "version_minor": 0
      },
      "text/plain": [
       "VBox()"
      ]
     },
     "metadata": {},
     "output_type": "display_data"
    },
    {
     "data": {
      "application/vnd.jupyter.widget-view+json": {
       "model_id": "",
       "version_major": 2,
       "version_minor": 0
      },
      "text/plain": [
       "FloatProgress(value=0.0, bar_style='info', description='Progress:', layout=Layout(height='25px', width='50%'),…"
      ]
     },
     "metadata": {},
     "output_type": "display_data"
    }
   ],
   "source": [
    "plt.hist(preds, bins=10)\n",
    "plt.show()"
   ]
  },
  {
   "cell_type": "code",
   "execution_count": 92,
   "metadata": {},
   "outputs": [
    {
     "data": {
      "application/vnd.jupyter.widget-view+json": {
       "model_id": "",
       "version_major": 2,
       "version_minor": 0
      },
      "text/plain": [
       "FloatProgress(value=0.0, bar_style='info', description='Progress:', layout=Layout(height='25px', width='50%'),…"
      ]
     },
     "metadata": {},
     "output_type": "display_data"
    },
    {
     "data": {
      "image/png": "[encoded data removed]",
      "text/plain": [
       "<IPython.core.display.Image object>"
      ]
     },
     "metadata": {},
     "output_type": "display_data"
    }
   ],
   "source": [
    "%matplot plt"
   ]
  },
  {
   "cell_type": "code",
   "execution_count": null,
   "metadata": {},
   "outputs": [],
   "source": []
  },
  {
   "cell_type": "code",
   "execution_count": null,
   "metadata": {},
   "outputs": [],
   "source": []
  },
  {
   "cell_type": "code",
   "execution_count": null,
   "metadata": {},
   "outputs": [],
   "source": []
  },
  {
   "cell_type": "code",
   "execution_count": null,
   "metadata": {},
   "outputs": [],
   "source": []
  },
  {
   "cell_type": "code",
   "execution_count": null,
   "metadata": {},
   "outputs": [],
   "source": []
  },
  {
   "cell_type": "code",
   "execution_count": 161,
   "metadata": {},
   "outputs": [
    {
     "data": {
      "application/vnd.jupyter.widget-view+json": {
       "model_id": "c777b1358e6249348dcc4c7210e64844",
       "version_major": 2,
       "version_minor": 0
      },
      "text/plain": [
       "VBox()"
      ]
     },
     "metadata": {},
     "output_type": "display_data"
    },
    {
     "data": {
      "application/vnd.jupyter.widget-view+json": {
       "model_id": "",
       "version_major": 2,
       "version_minor": 0
      },
      "text/plain": [
       "FloatProgress(value=0.0, bar_style='info', description='Progress:', layout=Layout(height='25px', width='50%'),…"
      ]
     },
     "metadata": {},
     "output_type": "display_data"
    }
   ],
   "source": [
    "#importance = clf.coef_\n",
    "#importance"
   ]
  },
  {
   "cell_type": "code",
   "execution_count": 162,
   "metadata": {},
   "outputs": [
    {
     "data": {
      "application/vnd.jupyter.widget-view+json": {
       "model_id": "ef529e01c7034a18acdc12c79c1fd802",
       "version_major": 2,
       "version_minor": 0
      },
      "text/plain": [
       "VBox()"
      ]
     },
     "metadata": {},
     "output_type": "display_data"
    },
    {
     "data": {
      "application/vnd.jupyter.widget-view+json": {
       "model_id": "",
       "version_major": 2,
       "version_minor": 0
      },
      "text/plain": [
       "FloatProgress(value=0.0, bar_style='info', description='Progress:', layout=Layout(height='25px', width='50%'),…"
      ]
     },
     "metadata": {},
     "output_type": "display_data"
    }
   ],
   "source": [
    "\n",
    "#feature_names = vectorizer.get_feature_names()\n",
    "#dense = importance\n",
    "#denselist = dense.tolist()\n",
    "#df = pd.DataFrame(denselist, columns=feature_names)\n",
    "#df"
   ]
  },
  {
   "cell_type": "code",
   "execution_count": null,
   "metadata": {},
   "outputs": [],
   "source": []
  },
  {
   "cell_type": "code",
   "execution_count": null,
   "metadata": {},
   "outputs": [],
   "source": []
  },
  {
   "cell_type": "code",
   "execution_count": null,
   "metadata": {},
   "outputs": [],
   "source": []
  },
  {
   "cell_type": "code",
   "execution_count": null,
   "metadata": {},
   "outputs": [],
   "source": []
  },
  {
   "cell_type": "code",
   "execution_count": null,
   "metadata": {},
   "outputs": [],
   "source": []
  },
  {
   "cell_type": "code",
   "execution_count": null,
   "metadata": {},
   "outputs": [],
   "source": []
  },
  {
   "cell_type": "code",
   "execution_count": null,
   "metadata": {},
   "outputs": [],
   "source": []
  },
  {
   "cell_type": "code",
   "execution_count": null,
   "metadata": {},
   "outputs": [],
   "source": []
  },
  {
   "cell_type": "code",
   "execution_count": null,
   "metadata": {},
   "outputs": [],
   "source": [
    "y_pred_df = pd.DataFrame(data=y_pred, columns = 'y_pred')"
   ]
  },
  {
   "cell_type": "code",
   "execution_count": 195,
   "metadata": {},
   "outputs": [
    {
     "data": {
      "application/vnd.jupyter.widget-view+json": {
       "model_id": "7b01b05e2d8045018b3ffeac3a116ab6",
       "version_major": 2,
       "version_minor": 0
      },
      "text/plain": [
       "VBox()"
      ]
     },
     "metadata": {},
     "output_type": "display_data"
    },
    {
     "data": {
      "application/vnd.jupyter.widget-view+json": {
       "model_id": "",
       "version_major": 2,
       "version_minor": 0
      },
      "text/plain": [
       "FloatProgress(value=0.0, bar_style='info', description='Progress:', layout=Layout(height='25px', width='50%'),…"
      ]
     },
     "metadata": {},
     "output_type": "display_data"
    },
    {
     "name": "stdout",
     "output_type": "stream",
     "text": [
      "                                                                                                                                                                                                                                                                                                                                                                                                                                                                                                                                                                                                                                                           ALL_TEXT  \\\n",
      "41212   headline A lot of work for ok results comment I had high hopes for this because I love almost all of my Lush products. I don't have a problem with leaving it in for 20 minutes, and it does leave my hair very soft afterwards. I just don't notice any difference at all to my blonde hair. I do bleach my hair though. Maybe it works better for natural blondes.                                                                                                                                                                                                                                                                                          \n",
      "297158  headline Every princess needs this little number comment my daughter loves this dress and doesn't ever want to take it off. Looks great.                                                                                                                                                                                                                                                                                                                                                                                                                                                                                                                      \n",
      "334122  headline Was good while it lasted comment The mattress was great and then four years later it sinks. Tempur pedics warranty test requires a quarter to rest against a pole on a  memory foam mattress. An impossible task so despite picture after picture they keep rejecting my claims. Five thousand dollars for the most part in the garbage. Way to stand by your product.                                                                                                                                                                                                                                                                               \n",
      "7519    headline Great jacket comment Great jacket for skiing.   It is a slim fitting coat so if you are broad through the shoulders or like to wear multiple layers size up.                                                                                                                                                                                                                                                                                                                                                                                                                                                                                         \n",
      "90570   headline Could you show that any item that won't be shipped until ... comment Could you show that any item that won't be shipped until a later date that my credit card won't be charged until it is shipped?                                                                                                                                                                                                                                                                                                                                                                                                                                                 \n",
      "...                                                                                                                                                                                                               ...                                                                                                                                                                                                                                                                                                                                                                                                                                                 \n",
      "266579  headline Not tailored, see through, runs big if you're a petite comment I got this in an Petite XS per the size chart even though I knew things run big now the XXS wasn't available.  I'm 5'4 and 104 lbs and sleeves hit at a good spot, longer than bracelet but otherwise, everything is too billowy and big.  There's no shape and it's boxy. I agree that the gold buttons feel cheap but they don't look it from far away so that wasn't a deal breaker for me.  The mustard yellow is beautiful but completely see through.  That wasn't even a deal breaker since I could wear a seamless cami but the length and overall fit was the dealbreaker.   \n",
      "136883  headline NOT A CONFERENCE TABLE! comment Read the description carefully before purchasing. This table is 36\" tall and cannot be used with chairs. Very disappointed.                                                                                                                                                                                                                                                                                                                                                                                                                                                                                          \n",
      "63363   headline Haven't received it yet. comment But I am going to assume it will be 5 stars!!                                                                                                                                                                                                                                                                                                                                                                                                                                                                                                                                                                       \n",
      "252820  headline worth every penny comment Worth every single penny.Walmart really knows what they're doing!                                                                                                                                                                                                                                                                                                                                                                                                                                                                                                                                                          \n",
      "73228   headline testVinod comment testVinod                                                                                                                                                                                                                                                                                                                                                                                                                                                                                                                                                                                                                          \n",
      "\n",
      "        REVIEW_RATING  NR  \n",
      "41212   3.0            0   \n",
      "297158  4.0            0   \n",
      "334122  1.0            1   \n",
      "7519    5.0            0   \n",
      "90570   5.0            1   \n",
      "...     ...           ..   \n",
      "266579  2.0            0   \n",
      "136883  1.0            1   \n",
      "63363   5.0            1   \n",
      "252820  5.0            0   \n",
      "73228   5.0            1   \n",
      "\n",
      "[202263 rows x 3 columns]"
     ]
    }
   ],
   "source": [
    "\n",
    "results = pd.concat([xtest, ytest], axis=1)\n",
    "results"
   ]
  },
  {
   "cell_type": "code",
   "execution_count": 196,
   "metadata": {},
   "outputs": [
    {
     "data": {
      "application/vnd.jupyter.widget-view+json": {
       "model_id": "1712201eb2494719b44e3c2283d701cb",
       "version_major": 2,
       "version_minor": 0
      },
      "text/plain": [
       "VBox()"
      ]
     },
     "metadata": {},
     "output_type": "display_data"
    },
    {
     "data": {
      "application/vnd.jupyter.widget-view+json": {
       "model_id": "",
       "version_major": 2,
       "version_minor": 0
      },
      "text/plain": [
       "FloatProgress(value=0.0, bar_style='info', description='Progress:', layout=Layout(height='25px', width='50%'),…"
      ]
     },
     "metadata": {},
     "output_type": "display_data"
    }
   ],
   "source": [
    "results.reset_index(drop=True, inplace=True)\n",
    "y_pred_df.reset_index(drop=True, inplace=True)"
   ]
  },
  {
   "cell_type": "code",
   "execution_count": 197,
   "metadata": {},
   "outputs": [
    {
     "data": {
      "application/vnd.jupyter.widget-view+json": {
       "model_id": "4cd7cc4131664f2bb5453d485f9b8821",
       "version_major": 2,
       "version_minor": 0
      },
      "text/plain": [
       "VBox()"
      ]
     },
     "metadata": {},
     "output_type": "display_data"
    },
    {
     "data": {
      "application/vnd.jupyter.widget-view+json": {
       "model_id": "",
       "version_major": 2,
       "version_minor": 0
      },
      "text/plain": [
       "FloatProgress(value=0.0, bar_style='info', description='Progress:', layout=Layout(height='25px', width='50%'),…"
      ]
     },
     "metadata": {},
     "output_type": "display_data"
    },
    {
     "name": "stdout",
     "output_type": "stream",
     "text": [
      "                                                                                                                                                                                                                                                                                                                                                                                                                                                                                                                                                                                                                                                           ALL_TEXT  \\\n",
      "0       headline A lot of work for ok results comment I had high hopes for this because I love almost all of my Lush products. I don't have a problem with leaving it in for 20 minutes, and it does leave my hair very soft afterwards. I just don't notice any difference at all to my blonde hair. I do bleach my hair though. Maybe it works better for natural blondes.                                                                                                                                                                                                                                                                                          \n",
      "1       headline Every princess needs this little number comment my daughter loves this dress and doesn't ever want to take it off. Looks great.                                                                                                                                                                                                                                                                                                                                                                                                                                                                                                                      \n",
      "2       headline Was good while it lasted comment The mattress was great and then four years later it sinks. Tempur pedics warranty test requires a quarter to rest against a pole on a  memory foam mattress. An impossible task so despite picture after picture they keep rejecting my claims. Five thousand dollars for the most part in the garbage. Way to stand by your product.                                                                                                                                                                                                                                                                               \n",
      "3       headline Great jacket comment Great jacket for skiing.   It is a slim fitting coat so if you are broad through the shoulders or like to wear multiple layers size up.                                                                                                                                                                                                                                                                                                                                                                                                                                                                                         \n",
      "4       headline Could you show that any item that won't be shipped until ... comment Could you show that any item that won't be shipped until a later date that my credit card won't be charged until it is shipped?                                                                                                                                                                                                                                                                                                                                                                                                                                                 \n",
      "...                                                                                                                                                                                                               ...                                                                                                                                                                                                                                                                                                                                                                                                                                                 \n",
      "202258  headline Not tailored, see through, runs big if you're a petite comment I got this in an Petite XS per the size chart even though I knew things run big now the XXS wasn't available.  I'm 5'4 and 104 lbs and sleeves hit at a good spot, longer than bracelet but otherwise, everything is too billowy and big.  There's no shape and it's boxy. I agree that the gold buttons feel cheap but they don't look it from far away so that wasn't a deal breaker for me.  The mustard yellow is beautiful but completely see through.  That wasn't even a deal breaker since I could wear a seamless cami but the length and overall fit was the dealbreaker.   \n",
      "202259  headline NOT A CONFERENCE TABLE! comment Read the description carefully before purchasing. This table is 36\" tall and cannot be used with chairs. Very disappointed.                                                                                                                                                                                                                                                                                                                                                                                                                                                                                          \n",
      "202260  headline Haven't received it yet. comment But I am going to assume it will be 5 stars!!                                                                                                                                                                                                                                                                                                                                                                                                                                                                                                                                                                       \n",
      "202261  headline worth every penny comment Worth every single penny.Walmart really knows what they're doing!                                                                                                                                                                                                                                                                                                                                                                                                                                                                                                                                                          \n",
      "202262  headline testVinod comment testVinod                                                                                                                                                                                                                                                                                                                                                                                                                                                                                                                                                                                                                          \n",
      "\n",
      "        REVIEW_RATING  NR  0  \n",
      "0       3.0            0   0  \n",
      "1       4.0            0   0  \n",
      "2       1.0            1   1  \n",
      "3       5.0            0   0  \n",
      "4       5.0            1   1  \n",
      "...     ...           ..  ..  \n",
      "202258  2.0            0   0  \n",
      "202259  1.0            1   1  \n",
      "202260  5.0            1   1  \n",
      "202261  5.0            0   0  \n",
      "202262  5.0            1   1  \n",
      "\n",
      "[202263 rows x 4 columns]"
     ]
    }
   ],
   "source": [
    "results = pd.concat([results, y_pred_df], axis = 1)\n",
    "results"
   ]
  },
  {
   "cell_type": "code",
   "execution_count": 199,
   "metadata": {},
   "outputs": [
    {
     "data": {
      "application/vnd.jupyter.widget-view+json": {
       "model_id": "3c40107a532b431296fa6e419889207d",
       "version_major": 2,
       "version_minor": 0
      },
      "text/plain": [
       "VBox()"
      ]
     },
     "metadata": {},
     "output_type": "display_data"
    },
    {
     "data": {
      "application/vnd.jupyter.widget-view+json": {
       "model_id": "",
       "version_major": 2,
       "version_minor": 0
      },
      "text/plain": [
       "FloatProgress(value=0.0, bar_style='info', description='Progress:', layout=Layout(height='25px', width='50%'),…"
      ]
     },
     "metadata": {},
     "output_type": "display_data"
    },
    {
     "name": "stderr",
     "output_type": "stream",
     "text": [
      "'0'\n",
      "Traceback (most recent call last):\n",
      "  File \"/usr/local/lib64/python3.7/site-packages/pandas/core/frame.py\", line 2902, in __getitem__\n",
      "    indexer = self.columns.get_loc(key)\n",
      "  File \"/usr/local/lib64/python3.7/site-packages/pandas/core/indexes/base.py\", line 2897, in get_loc\n",
      "    raise KeyError(key) from err\n",
      "KeyError: '0'\n",
      "\n"
     ]
    }
   ],
   "source": [
    "results[results['NR']!=results['y_pred']]"
   ]
  },
  {
   "cell_type": "code",
   "execution_count": null,
   "metadata": {},
   "outputs": [],
   "source": []
  },
  {
   "cell_type": "code",
   "execution_count": null,
   "metadata": {},
   "outputs": [],
   "source": [
    "results_sparkdf = spark.createDataFrame(results)"
   ]
  },
  {
   "cell_type": "code",
   "execution_count": 186,
   "metadata": {},
   "outputs": [
    {
     "data": {
      "application/vnd.jupyter.widget-view+json": {
       "model_id": "846349ec4ba84987beb161aa4390b761",
       "version_major": 2,
       "version_minor": 0
      },
      "text/plain": [
       "VBox()"
      ]
     },
     "metadata": {},
     "output_type": "display_data"
    },
    {
     "data": {
      "application/vnd.jupyter.widget-view+json": {
       "model_id": "",
       "version_major": 2,
       "version_minor": 0
      },
      "text/plain": [
       "FloatProgress(value=0.0, bar_style='info', description='Progress:', layout=Layout(height='25px', width='50%'),…"
      ]
     },
     "metadata": {},
     "output_type": "display_data"
    }
   ],
   "source": [
    "sfOptions2 = {\n",
    "  'sfURL' : 'powerreviews.snowflakecomputing.com',\n",
    "  'sfAccount' : 'powerreviews',\n",
    "  'sfUser' : 'APP_SPARK_PROD',\n",
    "  'sfPassword' : '>6txhcQ*7&^Qrq`j',\n",
    "  'sfDatabase' : 'ANALYTICS_WORKSHOP',\n",
    "  'sfSchema' : 'DATA_SCIENCE',\n",
    "  'sfWarehouse' : 'LOWER_ENV_WAREHOUSE'\n",
    "}\n"
   ]
  },
  {
   "cell_type": "code",
   "execution_count": 187,
   "metadata": {},
   "outputs": [
    {
     "data": {
      "application/vnd.jupyter.widget-view+json": {
       "model_id": "a36b42a54aa34b9bbb12fe9d8d5b891c",
       "version_major": 2,
       "version_minor": 0
      },
      "text/plain": [
       "VBox()"
      ]
     },
     "metadata": {},
     "output_type": "display_data"
    },
    {
     "data": {
      "application/vnd.jupyter.widget-view+json": {
       "model_id": "",
       "version_major": 2,
       "version_minor": 0
      },
      "text/plain": [
       "FloatProgress(value=0.0, bar_style='info', description='Progress:', layout=Layout(height='25px', width='50%'),…"
      ]
     },
     "metadata": {},
     "output_type": "display_data"
    },
    {
     "name": "stderr",
     "output_type": "stream",
     "text": [
      "'DataFrame' object has no attribute 'write'\n",
      "Traceback (most recent call last):\n",
      "  File \"/usr/local/lib64/python3.7/site-packages/pandas/core/generic.py\", line 5139, in __getattr__\n",
      "    return object.__getattribute__(self, name)\n",
      "AttributeError: 'DataFrame' object has no attribute 'write'\n",
      "\n"
     ]
    }
   ],
   "source": [
    " \n",
    "results_sparkdf.write.format(SNOWFLAKE_SOURCE_NAME).options(**sfOptions2) \\\n",
    "    .option(\"dbtable\",\"MODLABEL_TEST\").mode(\"append\").save()"
   ]
  },
  {
   "cell_type": "code",
   "execution_count": 198,
   "metadata": {},
   "outputs": [
    {
     "data": {
      "application/vnd.jupyter.widget-view+json": {
       "model_id": "47514d6999cf4ba58b93f7002621f6d2",
       "version_major": 2,
       "version_minor": 0
      },
      "text/plain": [
       "VBox()"
      ]
     },
     "metadata": {},
     "output_type": "display_data"
    },
    {
     "data": {
      "application/vnd.jupyter.widget-view+json": {
       "model_id": "",
       "version_major": 2,
       "version_minor": 0
      },
      "text/plain": [
       "FloatProgress(value=0.0, bar_style='info', description='Progress:', layout=Layout(height='25px', width='50%'),…"
      ]
     },
     "metadata": {},
     "output_type": "display_data"
    },
    {
     "name": "stderr",
     "output_type": "stream",
     "text": [
      "Missing optional dependency: pandas\n",
      "Traceback (most recent call last):\n",
      "  File \"/usr/local/lib64/python3.7/site-packages/snowflake/connector/pandas_tools.py\", line 143, in <module>\n",
      "    def pd_writer(table: pandas.io.sql.SQLTable,\n",
      "  File \"/usr/local/lib64/python3.7/site-packages/snowflake/connector/options.py\", line 25, in __getattr__\n",
      "    raise MissingDependencyError('pandas')\n",
      "snowflake.connector.errors.MissingDependencyError: Missing optional dependency: pandas\n",
      "\n"
     ]
    }
   ],
   "source": [
    "#import pandas\n",
    "from snowflake.connector.pandas_tools import write_pandas\n",
    "\n",
    "conn = snowflake.connector.connect(\n",
    "    account='powerreviews',\n",
    "    database='analytics_prod',\n",
    "    warehouse='LOWER_ENV_WAREHOUSE',\n",
    "    user='APP_SPARK_PROD',\n",
    "    password='>6txhcQ*7&^Qrq`j'\n",
    "    )\n",
    "\n",
    "# Write the data from the DataFrame to the table named \"customers\".\n",
    "success, nchunks, nrows, _ = pd.write_pandas(conn, results, 'MODLABEL_TEST')"
   ]
  },
  {
   "cell_type": "code",
   "execution_count": 93,
   "metadata": {},
   "outputs": [
    {
     "data": {
      "application/vnd.jupyter.widget-view+json": {
       "model_id": "5f347e30835341d38fe7269418830313",
       "version_major": 2,
       "version_minor": 0
      },
      "text/plain": [
       "VBox()"
      ]
     },
     "metadata": {},
     "output_type": "display_data"
    },
    {
     "data": {
      "application/vnd.jupyter.widget-view+json": {
       "model_id": "",
       "version_major": 2,
       "version_minor": 0
      },
      "text/plain": [
       "FloatProgress(value=0.0, bar_style='info', description='Progress:', layout=Layout(height='25px', width='50%'),…"
      ]
     },
     "metadata": {},
     "output_type": "display_data"
    }
   ],
   "source": [
    "#LOGISTIC REGRESSION - solver default=’lbfgs’\n",
    "\n",
    "#Only comments and headline - not location and nickname\n",
    "#Single tokens\n",
    "#data set = 64,908,446\n",
    "#max_features = 50000\n",
    "#ERRORS WITH: (but don't see any missing values so not sure, memory issue?)\n",
    "#Input contains NaN, infinity or a value too large for dtype('float64').\n",
    "\n",
    "#Only comments and headline - not location and nickname\n",
    "#Single tokens\n",
    "#data set = 30 mil\n",
    "#max_features = 30000\n",
    "#Best Threshold=0.245491, F-Score=0.457\n",
    "#Recall=0.445479\n",
    "#Precision=0.468923\n",
    "\n",
    "#SEE MODEL RESEARCH DOC FOR REST OF COMPARISON #S"
   ]
  },
  {
   "cell_type": "code",
   "execution_count": null,
   "metadata": {},
   "outputs": [],
   "source": []
  },
  {
   "cell_type": "code",
   "execution_count": null,
   "metadata": {},
   "outputs": [],
   "source": []
  },
  {
   "cell_type": "code",
   "execution_count": null,
   "metadata": {},
   "outputs": [],
   "source": []
  },
  {
   "cell_type": "code",
   "execution_count": null,
   "metadata": {},
   "outputs": [],
   "source": []
  }
 ],
 "metadata": {
  "kernelspec": {
   "display_name": "PySpark",
   "language": "",
   "name": "pysparkkernel"
  },
  "language_info": {
   "codemirror_mode": {
    "name": "python",
    "version": 2
   },
   "mimetype": "text/x-python",
   "name": "pyspark",
   "pygments_lexer": "python2"
  }
 },
 "nbformat": 4,
 "nbformat_minor": 4
}
