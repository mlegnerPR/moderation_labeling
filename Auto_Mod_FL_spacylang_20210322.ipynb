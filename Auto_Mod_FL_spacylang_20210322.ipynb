{
 "cells": [
  {
   "cell_type": "code",
   "execution_count": 1,
   "metadata": {},
   "outputs": [
    {
     "data": {
      "application/vnd.jupyter.widget-view+json": {
       "model_id": "decc9359b71641a1b95616a2487ef2a7",
       "version_major": 2,
       "version_minor": 0
      },
      "text/plain": [
       "VBox()"
      ]
     },
     "metadata": {},
     "output_type": "display_data"
    },
    {
     "name": "stdout",
     "output_type": "stream",
     "text": [
      "Starting Spark application\n"
     ]
    },
    {
     "data": {
      "text/html": [
       "<table>\n",
       "<tr><th>ID</th><th>YARN Application ID</th><th>Kind</th><th>State</th><th>Spark UI</th><th>Driver log</th><th>Current session?</th></tr><tr><td>3</td><td>application_1616504514575_0004</td><td>pyspark</td><td>idle</td><td><a target=\"_blank\" href=\"http://ip-10-101-212-53.us-west-2.compute.internal:20888/proxy/application_1616504514575_0004/\">Link</a></td><td><a target=\"_blank\" href=\"http://ip-10-101-212-53.us-west-2.compute.internal:8042/node/containerlogs/container_1616504514575_0004_01_000001/livy\">Link</a></td><td>✔</td></tr></table>"
      ],
      "text/plain": [
       "<IPython.core.display.HTML object>"
      ]
     },
     "metadata": {},
     "output_type": "display_data"
    },
    {
     "data": {
      "application/vnd.jupyter.widget-view+json": {
       "model_id": "",
       "version_major": 2,
       "version_minor": 0
      },
      "text/plain": [
       "FloatProgress(value=0.0, bar_style='info', description='Progress:', layout=Layout(height='25px', width='50%'),…"
      ]
     },
     "metadata": {},
     "output_type": "display_data"
    },
    {
     "name": "stdout",
     "output_type": "stream",
     "text": [
      "SparkSession available as 'spark'.\n"
     ]
    },
    {
     "data": {
      "application/vnd.jupyter.widget-view+json": {
       "model_id": "",
       "version_major": 2,
       "version_minor": 0
      },
      "text/plain": [
       "FloatProgress(value=0.0, bar_style='info', description='Progress:', layout=Layout(height='25px', width='50%'),…"
      ]
     },
     "metadata": {},
     "output_type": "display_data"
    }
   ],
   "source": [
    "#Import packages\n",
    "import boto3\n",
    "import json\n",
    "import numpy as np\n",
    "from numpy import argmax\n",
    "import pyspark.sql.functions as F\n",
    "import snowflake.connector\n",
    "import pandas as pd\n",
    "import spacy\n",
    "import matplotlib.pyplot as plt\n",
    "from vaderSentiment.vaderSentiment import SentimentIntensityAnalyzer\n",
    "from urllib.parse import urlparse\n",
    "from langdetect import detect\n",
    "from textblob import TextBlob\n",
    "#RegEx\n",
    "import regex as re"
   ]
  },
  {
   "cell_type": "code",
   "execution_count": 2,
   "metadata": {},
   "outputs": [
    {
     "data": {
      "application/vnd.jupyter.widget-view+json": {
       "model_id": "0989f16320e04c209033b67fca461852",
       "version_major": 2,
       "version_minor": 0
      },
      "text/plain": [
       "VBox()"
      ]
     },
     "metadata": {},
     "output_type": "display_data"
    },
    {
     "data": {
      "application/vnd.jupyter.widget-view+json": {
       "model_id": "",
       "version_major": 2,
       "version_minor": 0
      },
      "text/plain": [
       "FloatProgress(value=0.0, bar_style='info', description='Progress:', layout=Layout(height='25px', width='50%'),…"
      ]
     },
     "metadata": {},
     "output_type": "display_data"
    }
   ],
   "source": [
    "sm_client = boto3.client('secretsmanager',region_name='us-west-2')\n",
    "secret_value = sm_client.get_secret_value(SecretId = 'emr_spark_qa')\n",
    "username = json.loads(secret_value['SecretString'])['emr_spark_username']\n",
    "password = json.loads(secret_value['SecretString'])['emr_spark_password']\n",
    "#print(username)\n",
    "#print(password)"
   ]
  },
  {
   "cell_type": "code",
   "execution_count": 3,
   "metadata": {},
   "outputs": [
    {
     "data": {
      "application/vnd.jupyter.widget-view+json": {
       "model_id": "cb3f7a0c29e444938fd8bc5d6f7e314d",
       "version_major": 2,
       "version_minor": 0
      },
      "text/plain": [
       "VBox()"
      ]
     },
     "metadata": {},
     "output_type": "display_data"
    },
    {
     "data": {
      "application/vnd.jupyter.widget-view+json": {
       "model_id": "",
       "version_major": 2,
       "version_minor": 0
      },
      "text/plain": [
       "FloatProgress(value=0.0, bar_style='info', description='Progress:', layout=Layout(height='25px', width='50%'),…"
      ]
     },
     "metadata": {},
     "output_type": "display_data"
    }
   ],
   "source": [
    "#PYTHON connection info\n",
    "conn = snowflake.connector.connect(\n",
    "    account='powerreviews',\n",
    "    database='analytics_prod',\n",
    "    warehouse='LOWER_ENV_WAREHOUSE',\n",
    "    user=username,\n",
    "    password=password\n",
    "    )\n"
   ]
  },
  {
   "cell_type": "code",
   "execution_count": 4,
   "metadata": {},
   "outputs": [
    {
     "data": {
      "application/vnd.jupyter.widget-view+json": {
       "model_id": "088ec7908fcc400082b292f754e9768b",
       "version_major": 2,
       "version_minor": 0
      },
      "text/plain": [
       "VBox()"
      ]
     },
     "metadata": {},
     "output_type": "display_data"
    },
    {
     "data": {
      "application/vnd.jupyter.widget-view+json": {
       "model_id": "",
       "version_major": 2,
       "version_minor": 0
      },
      "text/plain": [
       "FloatProgress(value=0.0, bar_style='info', description='Progress:', layout=Layout(height='25px', width='50%'),…"
      ]
     },
     "metadata": {},
     "output_type": "display_data"
    }
   ],
   "source": [
    "#Query some reviews\n",
    "query_1 = \"select distinct r.ugc_id, r.review_headline, r.review_comments, substr(r.locale,1,2) as lang, r.review_length, \\\n",
    "case when contains(r.observations, 'FL')  then 1 else 0 end as FL \\\n",
    "from analytics.review as r \\\n",
    "join analytics.merchant_group as mg \\\n",
    "on r.client_id = mg.client_id \\\n",
    "where contains(r.observations, 'PM') \\\n",
    "and not contains(r.observations, 'IA') and not contains(r.observations, 'IR') \\\n",
    "and mg.usage_type != 'Test' \\\n",
    "and r.created_date > '2020-01-01' \\\n",
    "limit 100000 \\\n",
    "\"\n",
    "\n",
    "#193267606, 324912854\n",
    "#and r.created_date > '2020-01-01' \\"
   ]
  },
  {
   "cell_type": "code",
   "execution_count": 5,
   "metadata": {},
   "outputs": [
    {
     "data": {
      "application/vnd.jupyter.widget-view+json": {
       "model_id": "1148778264994f1cb7585be15440cf26",
       "version_major": 2,
       "version_minor": 0
      },
      "text/plain": [
       "VBox()"
      ]
     },
     "metadata": {},
     "output_type": "display_data"
    },
    {
     "data": {
      "application/vnd.jupyter.widget-view+json": {
       "model_id": "",
       "version_major": 2,
       "version_minor": 0
      },
      "text/plain": [
       "FloatProgress(value=0.0, bar_style='info', description='Progress:', layout=Layout(height='25px', width='50%'),…"
      ]
     },
     "metadata": {},
     "output_type": "display_data"
    },
    {
     "name": "stdout",
     "output_type": "stream",
     "text": [
      "<class 'pandas.core.frame.DataFrame'>\n",
      "RangeIndex: 100000 entries, 0 to 99999\n",
      "Data columns (total 6 columns):\n",
      " #   Column           Non-Null Count   Dtype  \n",
      "---  ------           --------------   -----  \n",
      " 0   UGC_ID           100000 non-null  int64  \n",
      " 1   REVIEW_HEADLINE  99999 non-null   object \n",
      " 2   REVIEW_COMMENTS  99484 non-null   object \n",
      " 3   LANG             100000 non-null  object \n",
      " 4   REVIEW_LENGTH    99484 non-null   float64\n",
      " 5   FL               100000 non-null  int64  \n",
      "dtypes: float64(1), int64(2), object(3)\n",
      "memory usage: 4.6+ MB"
     ]
    }
   ],
   "source": [
    "reviews = pd.read_sql(query_1, conn)\n",
    "reviews.head()\n",
    "reviews.info()\n"
   ]
  },
  {
   "cell_type": "code",
   "execution_count": 6,
   "metadata": {},
   "outputs": [
    {
     "data": {
      "application/vnd.jupyter.widget-view+json": {
       "model_id": "953bb9fa917e47ad9b7ce67d3a57ac53",
       "version_major": 2,
       "version_minor": 0
      },
      "text/plain": [
       "VBox()"
      ]
     },
     "metadata": {},
     "output_type": "display_data"
    },
    {
     "data": {
      "application/vnd.jupyter.widget-view+json": {
       "model_id": "",
       "version_major": 2,
       "version_minor": 0
      },
      "text/plain": [
       "FloatProgress(value=0.0, bar_style='info', description='Progress:', layout=Layout(height='25px', width='50%'),…"
      ]
     },
     "metadata": {},
     "output_type": "display_data"
    }
   ],
   "source": [
    "#Need to add \"word\" in front bc otherwise reviews with just emojis, symbols, #s, etc will not work in langdetect package\n",
    "#Throws this error if no words: \"langdetect.lang_detect_exception.LangDetectException: No features in text.\"\n",
    "reviews['ALL_TEXT'] = reviews['REVIEW_HEADLINE'] + ' ' + reviews['REVIEW_COMMENTS']"
   ]
  },
  {
   "cell_type": "code",
   "execution_count": null,
   "metadata": {},
   "outputs": [],
   "source": []
  },
  {
   "cell_type": "code",
   "execution_count": 7,
   "metadata": {},
   "outputs": [
    {
     "data": {
      "application/vnd.jupyter.widget-view+json": {
       "model_id": "65a0f0d8c1204f3b914aae619687cdce",
       "version_major": 2,
       "version_minor": 0
      },
      "text/plain": [
       "VBox()"
      ]
     },
     "metadata": {},
     "output_type": "display_data"
    },
    {
     "data": {
      "application/vnd.jupyter.widget-view+json": {
       "model_id": "",
       "version_major": 2,
       "version_minor": 0
      },
      "text/plain": [
       "FloatProgress(value=0.0, bar_style='info', description='Progress:', layout=Layout(height='25px', width='50%'),…"
      ]
     },
     "metadata": {},
     "output_type": "display_data"
    },
    {
     "name": "stdout",
     "output_type": "stream",
     "text": [
      "<spacy_langdetect.spacy_langdetect.LanguageDetector object at 0x7f173bd8e210>"
     ]
    }
   ],
   "source": [
    "import spacy\n",
    "from spacy.language import Language\n",
    "from spacy_langdetect import LanguageDetector\n",
    "\n",
    "def get_lang_detector(nlp, name):\n",
    "    return LanguageDetector()\n",
    "\n",
    "nlp = spacy.load(\"en_core_web_sm\")\n",
    "Language.factory(\"language_detector\", func=get_lang_detector)\n",
    "nlp.add_pipe('language_detector', last=True)\n",
    "#text = 'This is an english text.'\n",
    "#doc = nlp(text)\n",
    "#print(doc._.language)"
   ]
  },
  {
   "cell_type": "code",
   "execution_count": 8,
   "metadata": {},
   "outputs": [
    {
     "data": {
      "application/vnd.jupyter.widget-view+json": {
       "model_id": "1620c2d42f51473281c6dd8929eeea09",
       "version_major": 2,
       "version_minor": 0
      },
      "text/plain": [
       "VBox()"
      ]
     },
     "metadata": {},
     "output_type": "display_data"
    },
    {
     "data": {
      "application/vnd.jupyter.widget-view+json": {
       "model_id": "",
       "version_major": 2,
       "version_minor": 0
      },
      "text/plain": [
       "FloatProgress(value=0.0, bar_style='info', description='Progress:', layout=Layout(height='25px', width='50%'),…"
      ]
     },
     "metadata": {},
     "output_type": "display_data"
    }
   ],
   "source": [
    "def doc_lang(text):\n",
    "    doc = nlp(text)\n",
    "    return doc._.language['language']"
   ]
  },
  {
   "cell_type": "code",
   "execution_count": 9,
   "metadata": {},
   "outputs": [
    {
     "data": {
      "application/vnd.jupyter.widget-view+json": {
       "model_id": "b0653251580f48b6bdc0b94a3b718063",
       "version_major": 2,
       "version_minor": 0
      },
      "text/plain": [
       "VBox()"
      ]
     },
     "metadata": {},
     "output_type": "display_data"
    },
    {
     "data": {
      "application/vnd.jupyter.widget-view+json": {
       "model_id": "",
       "version_major": 2,
       "version_minor": 0
      },
      "text/plain": [
       "FloatProgress(value=0.0, bar_style='info', description='Progress:', layout=Layout(height='25px', width='50%'),…"
      ]
     },
     "metadata": {},
     "output_type": "display_data"
    }
   ],
   "source": [
    "reviews['ALL_TEXT']=reviews['ALL_TEXT'].apply(str)\n",
    "reviews['PRED_LANG'] = reviews['ALL_TEXT'].apply(doc_lang)\n"
   ]
  },
  {
   "cell_type": "code",
   "execution_count": 10,
   "metadata": {},
   "outputs": [
    {
     "data": {
      "application/vnd.jupyter.widget-view+json": {
       "model_id": "89c11548e3a745bdb86a5c0a374df3a4",
       "version_major": 2,
       "version_minor": 0
      },
      "text/plain": [
       "VBox()"
      ]
     },
     "metadata": {},
     "output_type": "display_data"
    },
    {
     "data": {
      "application/vnd.jupyter.widget-view+json": {
       "model_id": "",
       "version_major": 2,
       "version_minor": 0
      },
      "text/plain": [
       "FloatProgress(value=0.0, bar_style='info', description='Progress:', layout=Layout(height='25px', width='50%'),…"
      ]
     },
     "metadata": {},
     "output_type": "display_data"
    },
    {
     "name": "stdout",
     "output_type": "stream",
     "text": [
      "       UGC_ID                                               REVIEW_HEADLINE  \\\n",
      "0   310163689  BEAUTIFUL BAG                                                  \n",
      "1   310053706  I love this bag -                                              \n",
      "2   309950435  It was not broken                                              \n",
      "3   310088124  I'll never use another company for my water dispenser needs    \n",
      "4   309938472  Jerky Review                                                   \n",
      "5   309635349  Beef Jerky Sticks Review                                       \n",
      "6   310185959  Jerky Review                                                   \n",
      "7   310336143  Best tea I have had....amazing                                 \n",
      "8   309765207  Great support on my queries about compatible products.         \n",
      "9   310150572  the good shizzles                                              \n",
      "10  320860463  Good so far                                                    \n",
      "11  310235362  Jerky Review                                                   \n",
      "12  310220983  Gorgeous purse!                                                \n",
      "13  309865878  Love it                                                        \n",
      "14  310145351  Jerky Review                                                   \n",
      "15  309474203  Amazing product                                                \n",
      "16  309447438  good                                                           \n",
      "17  309754977  easy transaction.                                              \n",
      "18  309862216  i really appreciated getting recommendations on which kno...   \n",
      "19  310019382  Shockingly amazing                                             \n",
      "20  310050165  Amazing                                                        \n",
      "21  310237863  True match                                                     \n",
      "22  310091198  .                                                              \n",
      "23  310021948  Must buy                                                       \n",
      "24  310248876  YUH                                                            \n",
      "\n",
      "                                                                                                                                                                                                                                                                                                                                                                                                                                                                                                                                                                                                                                                                                                 REVIEW_COMMENTS  \\\n",
      "0   THIS BAG IS BEAUTIFUL EXCEPT IT HAS ONE FLAW.  FOR A BAG THIS SIZE AND THIS HEAVY, IT SHOULD DEFINITELY HAVE A WIDER SHOULDER STRAP.  I CAN SEE THE STRAP GETTING WORN WAY BEFORE THE BAG.  THE STRAP IT HAS IS TOO THIN FOR A BAG OF THIS SIZE AND WEIGHT.  YOU SHOULD UPDATE IT WITH A WIDER STRAP. OTHERWISE, IT IS LOVELY.                                                                                                                                                                                                                                                                                                                                                                                 \n",
      "1   I have a multi-colored Kate Spade bag that has seen better days (although it must be 20 years old) and decided to order the Zip Zip Satchel in French Blue to replace it.  This is the perfect size bag and the color is beautiful. I used it the other day with jeans and a lime green top and it looked fabulous but I know it will really add a beautiful pop of color when wearing black and white.  I will definitely order this bag in other colors because as I said it is the perfect size, I love the red lining and all the pockets inside as well as the exceptional quality.                                                                                                                       \n",
      "2   I have been running in the Altra Provisions for a long time, maybe the 1.5 model. I still have the I run 6 half marathons a year and have done them in different Provision models. The current model causes knee pain with  in the first 6 miles of a run and are not that comfortable and they lasted less than 200 miles. The old versions I never had an issue with and have model 2.0, wear them around town as I have retired them from running. The old versions were not broken, so please bring them back. I need the stability and the miles per shoe. It was not broken so don't fix it. try asking your customers what they would like to see changed, not just a few of your running/racing team   \n",
      "3   This is an AWESOME company. Their products are very high quality and their customer service department is top notch, polite and knowledgeable. Thank you for the great experience.                                                                                                                                                                                                                                                                                                                                                                                                                                                                                                                             \n",
      "4   This is my first time trying Archer jerky and it definitely won't be the last!  I tried the Original flavor and it was perfectly seasoned, (not too salty or peppery like some can be) with a touch of sweetness.  The jerky was fresh and easy to eat and the quality reusable package kept the remainder jerky good and fresh for later too.  I esp love that this is 100% Grass Fed quality ingredients!  Such a tasty, healthy grab and go snack!  Highly recommend!                                                                                                                                                                                                                                       \n",
      "5   I received the Beef Jerry sticks by country archer for free in exchange for my free & honest review. I was really surprised with how much I loved these from the smell to the taste there wasn't one thing I didn't like. I can't wait to get more #trynatural products.                                                                                                                                                                                                                                                                                                                                                                                                                                       \n",
      "6   Very good brand but not much flavor for my liking and without a coupon beef jerky is just super expensive for limited servings. Add more servings and call it good.                                                                                                                                                                                                                                                                                                                                                                                                                                                                                                                                            \n",
      "7   I drink a cup every night...                                                                                                                                                                                                                                                                                                                                                                                                                                                                                                                                                                                                                                                                                   \n",
      "8   Great support on my queries about compatible products.                                                                                                                                                                                                                                                                                                                                                                                                                                                                                                                                                                                                                                                         \n",
      "9   For the price you can't beat it.  Super smooth, feels good in my hand, cant ask for more from a fast action reel like this!                                                                                                                                                                                                                                                                                                                                                                                                                                                                                                                                                                                    \n",
      "10  Good so far.                                                                                                                                                                                                                                                                                                                                                                                                                                                                                                                                                                                                                                                                                                   \n",
      "11  This was the best jerky I've ever had. The ingredients and Flavours are absolutely awesome. Very tasty and easy to eat. Convenient packaging to take anywhere. My whole family approves of this wonderful jerky.                                                                                                                                                                                                                                                                                                                                                                                                                                                                                               \n",
      "12  I love my new Dooney & Bourke Double Pocket Satchel!  I would give it 4 1/2 stars !  It is the perfect medium size for me! The color is elephant. It appears more light brown than grey. Even though the color was not what I was expecting, it is still a beautiful color! The only thing that disappoints is the feel and ease of the zippers. The zippers do not glide easily and have a rough feel when using them though they do seem sturdy and of good quality.                                                                                                                                                                                                                                         \n",
      "13  Love it so much; have 3 colors and just ordered one for my sister!                                                                                                                                                                                                                                                                                                                                                                                                                                                                                                                                                                                                                                             \n",
      "14  I really enjoyed the jerky. The flavor was definitely there. I thought it wouldn't be the greatest, but was blown away by the flavor. Great job and thank you!                                                                                                                                                                                                                                                                                                                                                                                                                                                                                                                                                 \n",
      "15  I used Pennington ultragreen citrus & avocado plant food , it improved the growth of my oranges alot and the leaves were much greener.                                                                                                                                                                                                                                                                                                                                                                                                                                                                                                                                                                         \n",
      "16  good                                                                                                                                                                                                                                                                                                                                                                                                                                                                                                                                                                                                                                                                                                           \n",
      "17  easy transaction...                                                                                                                                                                                                                                                                                                                                                                                                                                                                                                                                                                                                                                                                                            \n",
      "18  i really appreciated getting recommendations on which knobs to order. I felt overwhelmed looking on my own.                                                                                                                                                                                                                                                                                                                                                                                                                                                                                                                                                                                                    \n",
      "19  At first I didn't think it was going to be that good but ohhh my goood it made my lashes look so full and long                                                                                                                                                                                                                                                                                                                                                                                                                                                                                                                                                                                                 \n",
      "20  The L'Oreal Paris Air Volume Mega Mascara is amazing! The brush is very light and this product is so easy to use.                                                                                                                                                                                                                                                                                                                                                                                                                                                                                                                                                                                              \n",
      "21  Muy buena me encanta mucho y va con mi tono de piel                                                                                                                                                                                                                                                                                                                                                                                                                                                                                                                                                                                                                                                            \n",
      "22  .                                                                                                                                                                                                                                                                                                                                                                                                                                                                                                                                                                                                                                                                                                              \n",
      "23  Love it                                                                                                                                                                                                                                                                                                                                                                                                                                                                                                                                                                                                                                                                                                        \n",
      "24  Everything a man could NEED                                                                                                                                                                                                                                                                                                                                                                                                                                                                                                                                                                                                                                                                                    \n",
      "\n",
      "   LANG  REVIEW_LENGTH  FL  \\\n",
      "0   en   318.0          0    \n",
      "1   en   568.0          0    \n",
      "2   en   684.0          0    \n",
      "3   en   178.0          0    \n",
      "4   en   456.0          0    \n",
      "5   en   264.0          0    \n",
      "6   en   163.0          0    \n",
      "7   en   28.0           0    \n",
      "8   en   54.0           0    \n",
      "9   en   123.0          0    \n",
      "10  en   12.0           0    \n",
      "11  en   208.0          0    \n",
      "12  en   454.0          0    \n",
      "13  en   66.0           0    \n",
      "14  en   158.0          0    \n",
      "15  en   134.0          0    \n",
      "16  en   4.0            0    \n",
      "17  en   19.0           0    \n",
      "18  en   107.0          0    \n",
      "19  en   110.0          0    \n",
      "20  en   113.0          0    \n",
      "21  en   51.0           1    \n",
      "22  en   1.0            0    \n",
      "23  en   7.0            0    \n",
      "24  en   27.0           0    \n",
      "\n",
      "                                                                                                                                                                                                                                                                                                                                                                                                                                                                                                                                                                                                                                                                                                                          ALL_TEXT  \\\n",
      "0   BEAUTIFUL BAG THIS BAG IS BEAUTIFUL EXCEPT IT HAS ONE FLAW.  FOR A BAG THIS SIZE AND THIS HEAVY, IT SHOULD DEFINITELY HAVE A WIDER SHOULDER STRAP.  I CAN SEE THE STRAP GETTING WORN WAY BEFORE THE BAG.  THE STRAP IT HAS IS TOO THIN FOR A BAG OF THIS SIZE AND WEIGHT.  YOU SHOULD UPDATE IT WITH A WIDER STRAP. OTHERWISE, IT IS LOVELY.                                                                                                                                                                                                                                                                                                                                                                                     \n",
      "1   I love this bag - I have a multi-colored Kate Spade bag that has seen better days (although it must be 20 years old) and decided to order the Zip Zip Satchel in French Blue to replace it.  This is the perfect size bag and the color is beautiful. I used it the other day with jeans and a lime green top and it looked fabulous but I know it will really add a beautiful pop of color when wearing black and white.  I will definitely order this bag in other colors because as I said it is the perfect size, I love the red lining and all the pockets inside as well as the exceptional quality.                                                                                                                       \n",
      "2   It was not broken I have been running in the Altra Provisions for a long time, maybe the 1.5 model. I still have the I run 6 half marathons a year and have done them in different Provision models. The current model causes knee pain with  in the first 6 miles of a run and are not that comfortable and they lasted less than 200 miles. The old versions I never had an issue with and have model 2.0, wear them around town as I have retired them from running. The old versions were not broken, so please bring them back. I need the stability and the miles per shoe. It was not broken so don't fix it. try asking your customers what they would like to see changed, not just a few of your running/racing team   \n",
      "3   I'll never use another company for my water dispenser needs This is an AWESOME company. Their products are very high quality and their customer service department is top notch, polite and knowledgeable. Thank you for the great experience.                                                                                                                                                                                                                                                                                                                                                                                                                                                                                   \n",
      "4   Jerky Review This is my first time trying Archer jerky and it definitely won't be the last!  I tried the Original flavor and it was perfectly seasoned, (not too salty or peppery like some can be) with a touch of sweetness.  The jerky was fresh and easy to eat and the quality reusable package kept the remainder jerky good and fresh for later too.  I esp love that this is 100% Grass Fed quality ingredients!  Such a tasty, healthy grab and go snack!  Highly recommend!                                                                                                                                                                                                                                            \n",
      "5   Beef Jerky Sticks Review I received the Beef Jerry sticks by country archer for free in exchange for my free & honest review. I was really surprised with how much I loved these from the smell to the taste there wasn't one thing I didn't like. I can't wait to get more #trynatural products.                                                                                                                                                                                                                                                                                                                                                                                                                                \n",
      "6   Jerky Review Very good brand but not much flavor for my liking and without a coupon beef jerky is just super expensive for limited servings. Add more servings and call it good.                                                                                                                                                                                                                                                                                                                                                                                                                                                                                                                                                 \n",
      "7   Best tea I have had....amazing I drink a cup every night...                                                                                                                                                                                                                                                                                                                                                                                                                                                                                                                                                                                                                                                                      \n",
      "8   Great support on my queries about compatible products. Great support on my queries about compatible products.                                                                                                                                                                                                                                                                                                                                                                                                                                                                                                                                                                                                                    \n",
      "9   the good shizzles For the price you can't beat it.  Super smooth, feels good in my hand, cant ask for more from a fast action reel like this!                                                                                                                                                                                                                                                                                                                                                                                                                                                                                                                                                                                    \n",
      "10  Good so far Good so far.                                                                                                                                                                                                                                                                                                                                                                                                                                                                                                                                                                                                                                                                                                         \n",
      "11  Jerky Review This was the best jerky I've ever had. The ingredients and Flavours are absolutely awesome. Very tasty and easy to eat. Convenient packaging to take anywhere. My whole family approves of this wonderful jerky.                                                                                                                                                                                                                                                                                                                                                                                                                                                                                                    \n",
      "12  Gorgeous purse! I love my new Dooney & Bourke Double Pocket Satchel!  I would give it 4 1/2 stars !  It is the perfect medium size for me! The color is elephant. It appears more light brown than grey. Even though the color was not what I was expecting, it is still a beautiful color! The only thing that disappoints is the feel and ease of the zippers. The zippers do not glide easily and have a rough feel when using them though they do seem sturdy and of good quality.                                                                                                                                                                                                                                           \n",
      "13  Love it Love it so much; have 3 colors and just ordered one for my sister!                                                                                                                                                                                                                                                                                                                                                                                                                                                                                                                                                                                                                                                       \n",
      "14  Jerky Review I really enjoyed the jerky. The flavor was definitely there. I thought it wouldn't be the greatest, but was blown away by the flavor. Great job and thank you!                                                                                                                                                                                                                                                                                                                                                                                                                                                                                                                                                      \n",
      "15  Amazing product I used Pennington ultragreen citrus & avocado plant food , it improved the growth of my oranges alot and the leaves were much greener.                                                                                                                                                                                                                                                                                                                                                                                                                                                                                                                                                                           \n",
      "16  good good                                                                                                                                                                                                                                                                                                                                                                                                                                                                                                                                                                                                                                                                                                                        \n",
      "17  easy transaction. easy transaction...                                                                                                                                                                                                                                                                                                                                                                                                                                                                                                                                                                                                                                                                                            \n",
      "18  i really appreciated getting recommendations on which kno... i really appreciated getting recommendations on which knobs to order. I felt overwhelmed looking on my own.                                                                                                                                                                                                                                                                                                                                                                                                                                                                                                                                                         \n",
      "19  Shockingly amazing At first I didn't think it was going to be that good but ohhh my goood it made my lashes look so full and long                                                                                                                                                                                                                                                                                                                                                                                                                                                                                                                                                                                                \n",
      "20  Amazing The L'Oreal Paris Air Volume Mega Mascara is amazing! The brush is very light and this product is so easy to use.                                                                                                                                                                                                                                                                                                                                                                                                                                                                                                                                                                                                        \n",
      "21  True match Muy buena me encanta mucho y va con mi tono de piel                                                                                                                                                                                                                                                                                                                                                                                                                                                                                                                                                                                                                                                                   \n",
      "22  . .                                                                                                                                                                                                                                                                                                                                                                                                                                                                                                                                                                                                                                                                                                                              \n",
      "23  Must buy Love it                                                                                                                                                                                                                                                                                                                                                                                                                                                                                                                                                                                                                                                                                                                 \n",
      "24  YUH Everything a man could NEED                                                                                                                                                                                                                                                                                                                                                                                                                                                                                                                                                                                                                                                                                                  \n",
      "\n",
      "   PRED_LANG  \n",
      "0   en        \n",
      "1   en        \n",
      "2   en        \n",
      "3   en        \n",
      "4   en        \n",
      "5   en        \n",
      "6   en        \n",
      "7   en        \n",
      "8   en        \n",
      "9   en        \n",
      "10  so        \n",
      "11  en        \n",
      "12  en        \n",
      "13  en        \n",
      "14  en        \n",
      "15  en        \n",
      "16  so        \n",
      "17  en        \n",
      "18  en        \n",
      "19  en        \n",
      "20  en        \n",
      "21  es        \n",
      "22  UNKNOWN   \n",
      "23  en        \n",
      "24  en        \n",
      "<string>:1: FutureWarning: Passing a negative integer is deprecated in version 1.0 and will not be supported in future version. Instead, use None to not limit the column width."
     ]
    }
   ],
   "source": [
    "pd.set_option('display.max_colwidth', -1)\n",
    "pd.set_option('display.max_columns', None)\n",
    "pd.set_option('display.max_rows', None)\n",
    "\n",
    "reviews.head(25)"
   ]
  },
  {
   "cell_type": "code",
   "execution_count": null,
   "metadata": {},
   "outputs": [],
   "source": []
  },
  {
   "cell_type": "code",
   "execution_count": null,
   "metadata": {},
   "outputs": [],
   "source": []
  },
  {
   "cell_type": "code",
   "execution_count": null,
   "metadata": {},
   "outputs": [],
   "source": []
  },
  {
   "cell_type": "code",
   "execution_count": 11,
   "metadata": {},
   "outputs": [
    {
     "data": {
      "application/vnd.jupyter.widget-view+json": {
       "model_id": "dca91aade9934dfdaec5a3e7d32af58f",
       "version_major": 2,
       "version_minor": 0
      },
      "text/plain": [
       "VBox()"
      ]
     },
     "metadata": {},
     "output_type": "display_data"
    },
    {
     "data": {
      "application/vnd.jupyter.widget-view+json": {
       "model_id": "",
       "version_major": 2,
       "version_minor": 0
      },
      "text/plain": [
       "FloatProgress(value=0.0, bar_style='info', description='Progress:', layout=Layout(height='25px', width='50%'),…"
      ]
     },
     "metadata": {},
     "output_type": "display_data"
    }
   ],
   "source": [
    "reviews['model_FL'] = 0\n",
    "\n",
    "reviews.loc[reviews['LANG'] != reviews['PRED_LANG'] , 'model_FL'] = 1\n",
    "\n",
    "#Our setup may have accidentally used \"jp\" as well as \"ja\" for Japenese\n",
    "#\"ja\" is official code but mark \"jp\" as ok too\n",
    "reviews.loc[ (reviews['LANG']=='jp') & (reviews['PRED_LANG']=='ja') , 'model_FL'] = 0\n",
    "\n",
    "\n",
    "reviews.loc[reviews['REVIEW_LENGTH'] < 40 , 'model_FL'] = 0\n",
    "\n"
   ]
  },
  {
   "cell_type": "code",
   "execution_count": 12,
   "metadata": {},
   "outputs": [
    {
     "data": {
      "application/vnd.jupyter.widget-view+json": {
       "model_id": "f9938f094b9849119df2ff549a36abb8",
       "version_major": 2,
       "version_minor": 0
      },
      "text/plain": [
       "VBox()"
      ]
     },
     "metadata": {},
     "output_type": "display_data"
    },
    {
     "data": {
      "application/vnd.jupyter.widget-view+json": {
       "model_id": "",
       "version_major": 2,
       "version_minor": 0
      },
      "text/plain": [
       "FloatProgress(value=0.0, bar_style='info', description='Progress:', layout=Layout(height='25px', width='50%'),…"
      ]
     },
     "metadata": {},
     "output_type": "display_data"
    }
   ],
   "source": [
    "FP = reviews[(reviews['FL'] == 0) & (reviews['model_FL'] == 1)]\n",
    "FN = reviews[(reviews['FL'] == 1) & (reviews['model_FL'] == 0)]\n",
    "TP = reviews[(reviews['FL'] == 1) & (reviews['model_FL'] == 1)]\n",
    "TN = reviews[(reviews['FL'] == 0) & (reviews['model_FL'] == 0)]\n"
   ]
  },
  {
   "cell_type": "code",
   "execution_count": 13,
   "metadata": {},
   "outputs": [
    {
     "data": {
      "application/vnd.jupyter.widget-view+json": {
       "model_id": "fa30648fdaaa4444bd5919078e50b017",
       "version_major": 2,
       "version_minor": 0
      },
      "text/plain": [
       "VBox()"
      ]
     },
     "metadata": {},
     "output_type": "display_data"
    },
    {
     "data": {
      "application/vnd.jupyter.widget-view+json": {
       "model_id": "",
       "version_major": 2,
       "version_minor": 0
      },
      "text/plain": [
       "FloatProgress(value=0.0, bar_style='info', description='Progress:', layout=Layout(height='25px', width='50%'),…"
      ]
     },
     "metadata": {},
     "output_type": "display_data"
    },
    {
     "name": "stdout",
     "output_type": "stream",
     "text": [
      "816"
     ]
    }
   ],
   "source": [
    "\n",
    "FP['UGC_ID'].count()"
   ]
  },
  {
   "cell_type": "code",
   "execution_count": 14,
   "metadata": {},
   "outputs": [
    {
     "data": {
      "application/vnd.jupyter.widget-view+json": {
       "model_id": "fbc041aea5674f64883d5e4bdbbaf01d",
       "version_major": 2,
       "version_minor": 0
      },
      "text/plain": [
       "VBox()"
      ]
     },
     "metadata": {},
     "output_type": "display_data"
    },
    {
     "data": {
      "application/vnd.jupyter.widget-view+json": {
       "model_id": "",
       "version_major": 2,
       "version_minor": 0
      },
      "text/plain": [
       "FloatProgress(value=0.0, bar_style='info', description='Progress:', layout=Layout(height='25px', width='50%'),…"
      ]
     },
     "metadata": {},
     "output_type": "display_data"
    },
    {
     "name": "stdout",
     "output_type": "stream",
     "text": [
      "78"
     ]
    }
   ],
   "source": [
    "\n",
    "FN['UGC_ID'].count()"
   ]
  },
  {
   "cell_type": "code",
   "execution_count": 15,
   "metadata": {},
   "outputs": [
    {
     "data": {
      "application/vnd.jupyter.widget-view+json": {
       "model_id": "e29a628dcee64204b7b70dff417a0c30",
       "version_major": 2,
       "version_minor": 0
      },
      "text/plain": [
       "VBox()"
      ]
     },
     "metadata": {},
     "output_type": "display_data"
    },
    {
     "data": {
      "application/vnd.jupyter.widget-view+json": {
       "model_id": "",
       "version_major": 2,
       "version_minor": 0
      },
      "text/plain": [
       "FloatProgress(value=0.0, bar_style='info', description='Progress:', layout=Layout(height='25px', width='50%'),…"
      ]
     },
     "metadata": {},
     "output_type": "display_data"
    },
    {
     "name": "stdout",
     "output_type": "stream",
     "text": [
      "125"
     ]
    }
   ],
   "source": [
    "\n",
    "TP['UGC_ID'].count()"
   ]
  },
  {
   "cell_type": "code",
   "execution_count": 16,
   "metadata": {},
   "outputs": [
    {
     "data": {
      "application/vnd.jupyter.widget-view+json": {
       "model_id": "8c2ce680de054a3495de94ec55deaeab",
       "version_major": 2,
       "version_minor": 0
      },
      "text/plain": [
       "VBox()"
      ]
     },
     "metadata": {},
     "output_type": "display_data"
    },
    {
     "data": {
      "application/vnd.jupyter.widget-view+json": {
       "model_id": "",
       "version_major": 2,
       "version_minor": 0
      },
      "text/plain": [
       "FloatProgress(value=0.0, bar_style='info', description='Progress:', layout=Layout(height='25px', width='50%'),…"
      ]
     },
     "metadata": {},
     "output_type": "display_data"
    },
    {
     "name": "stdout",
     "output_type": "stream",
     "text": [
      "98981"
     ]
    }
   ],
   "source": [
    "TN['UGC_ID'].count()"
   ]
  },
  {
   "cell_type": "code",
   "execution_count": 24,
   "metadata": {},
   "outputs": [
    {
     "data": {
      "application/vnd.jupyter.widget-view+json": {
       "model_id": "a9235bd0e594482dbe5fe50646e4c5c9",
       "version_major": 2,
       "version_minor": 0
      },
      "text/plain": [
       "VBox()"
      ]
     },
     "metadata": {},
     "output_type": "display_data"
    },
    {
     "data": {
      "application/vnd.jupyter.widget-view+json": {
       "model_id": "",
       "version_major": 2,
       "version_minor": 0
      },
      "text/plain": [
       "FloatProgress(value=0.0, bar_style='info', description='Progress:', layout=Layout(height='25px', width='50%'),…"
      ]
     },
     "metadata": {},
     "output_type": "display_data"
    },
    {
     "name": "stdout",
     "output_type": "stream",
     "text": [
      "          UGC_ID                               REVIEW_HEADLINE  \\\n",
      "1465   315360237  jim beanie                                     \n",
      "2007   315588207  ALWAYS A GREAT EXPERIENCE AND QUICK  & EASY!   \n",
      "2111   271714991  STRAWBERRY FEED EVERY SPRING                   \n",
      "3207   271393150  mNGkZEZH                                       \n",
      "3208   271202697  fJskQGcl                                       \n",
      "3209   271195879  vZInPAcU                                       \n",
      "3210   271413513  PYETXWAk                                       \n",
      "3212   271483522  OdphymAA                                       \n",
      "3879   264288603  Tevreden!                                      \n",
      "4101   264319705  Excellent                                      \n",
      "4288   264321410  方便使用價格親民                                       \n",
      "4289   264320940  還不錯，價錢貴了點                                      \n",
      "4290   264298653  中庸                                             \n",
      "4291   264324082  放化妝品很好用，可惜價格有一點偏貴                              \n",
      "4292   264325579  便宜又好用                                          \n",
      "4293   264323841  枕套顏色不錯，蠻有質感                                    \n",
      "4295   264325486  站的面積大很穩                                        \n",
      "4296   264286819  超好用                                            \n",
      "4298   264322469  防滑很好                                           \n",
      "4299   264319795  只適用溥盤子                                         \n",
      "4300   264317924  讚                                              \n",
      "4301   264323923  CP值高的馬克杯                                       \n",
      "4302   264324329  裝起來很漂亮                                         \n",
      "4303   264324622  實用                                             \n",
      "4612   264308661  Darling doll for my darling granddaughter      \n",
      "4650   264302402  Poor                                           \n",
      "4785   264354783  K.S.A Al Riyadh                                \n",
      "4792   264360390  Very nice unisex                               \n",
      "5124   281602867  Calificacion - 1593171703114                   \n",
      "5677   281626645  Happy !!!                                      \n",
      "6015   281643177  Good                                           \n",
      "6017   281643400  很有趣的布偶                                         \n",
      "6018   281643422  簡約素雅                                           \n",
      "6019   281643545  非常實用美觀                                         \n",
      "6020   281514255  非常實用！推薦！                                       \n",
      "6021   281643420  CP值高                                           \n",
      "6022   281637639  防滑膠墊裂出約15公分的裂縫                                 \n",
      "6024   281643530  美觀，實用，價格優惠                                     \n",
      "6025   281552187  買二送一                                           \n",
      "6026   281643956  組裝困難                                           \n",
      "6027   281643640  很不錯                                            \n",
      "7059   281411829  I LOVE MY TWO PIECE SPARKLY STUDDED GOWN       \n",
      "7695   281434048  Excellent Product!                             \n",
      "8977   273190420  PARECE LA PIEZA APROPIADA                      \n",
      "9346   273192188  lqEMTieK                                       \n",
      "9425   273194449  價格合理                                           \n",
      "9426   273254324  實用cp值高                                         \n",
      "9427   273151716  很經濟實惠又具有設計感                                    \n",
      "9428   273254490  外觀設計漂亮                                         \n",
      "9429   273250803  實用                                             \n",
      "9430   273178743  好吃, 小朋友很喜歡                                     \n",
      "9431   273145711  便宜 好用                                          \n",
      "9432   273213086  可以再便宜一點 相較於其他款式的收納箱                            \n",
      "9433   273164926  買到賺到的絕版品                                       \n",
      "9434   273248887  如能自己選顏色/大小更好                                   \n",
      "9435   273128441  好設計丶很輕巧易裝                                      \n",
      "9437   273254536  腳架不佔空間                                         \n",
      "9440   273144579  不錯                                             \n",
      "9442   273193924  實用                                             \n",
      "9443   273193726  好用                                             \n",
      "9514   273212988  De momento todo ok\\nEspero envio de compra.    \n",
      "9732   283781321  Leuk voor in bad                               \n",
      "10210  283801865  甜梨酒                                            \n",
      "10211  283809664  Cp值高                                           \n",
      "10212  283780712  還不錯                                            \n",
      "10213  283861643  還ok                                            \n",
      "10214  283814559  讚👍希望類似的可以出再大一點的                                \n",
      "10216  283852363  簡單實用                                           \n",
      "10217  283861120  好吃的產品                                          \n",
      "10218  283781336  左邊門公差較大，開關門會干涉                                 \n",
      "10219  283784306  CP值超高                                          \n",
      "10220  283861907  使用一個月，目前使用良好                                   \n",
      "10221  283780927  外觀不錯                                           \n",
      "10222  283780756  方便使用顏色好看                                       \n",
      "10224  283805619  CP值高                                           \n",
      "10226  283802919  好用方便吸力強                                        \n",
      "10227  283861524  厚實好開，容量適中                                      \n",
      "10229  283808859  顏色好看，價格實惠                                      \n",
      "10230  283801687  很實用                                            \n",
      "10232  283791528  實用                                             \n",
      "10235  283780958  因產品價格低廉可常換用                                    \n",
      "10236  283780891  喜歡吃馬鈴薯泥的看過來！                                   \n",
      "10726  330042905  Solid fit                                      \n",
      "11139  299174608  good value                                     \n",
      "11284  299174887  Leuk zwembad voor kleinere kindjes!            \n",
      "11304  299147970  Leuke set                                      \n",
      "11307  299174832  Leuke personalisatie van je spulletjes!        \n",
      "11311  299176434  Leuk item                                      \n",
      "11426  307484756  Trident vibes                                  \n",
      "11563  299177007  Great to keep for myself.                      \n",
      "11718  299220463  飯店早餐杯的回憶                                       \n",
      "11719  299121851  不錯用，價格實在                                       \n",
      "11720  299223743  很棒                                             \n",
      "11721  299222071  好用                                             \n",
      "11723  299145573  喜歡                                             \n",
      "11725  299177627  這是買第二盒了                                        \n",
      "11726  299222997  便宜好看，但不適合用來承裝熱食                                \n",
      "11727  299222891  很美但好像不算便宜                                      \n",
      "11728  299222965  好                                              \n",
      "11731  299167431  好用                                             \n",
      "\n",
      "                                                                                           REVIEW_COMMENTS  \\\n",
      "1465   NORTH FACE PLEASE BRING BACK THE ( TIN GREY COLOR)< THIS WAS THE BEST COLOR OF ALL IN MY OPINION...   \n",
      "2007   ALWAYS A GREAT EXPERIENCE AND QUICK  & EASY!!!!!                                                      \n",
      "2111   GIVING MY ESTABLISHED RAISED STRAWBERRY BED A FRESH FEED TO HELP TAKE OFF THIS SRPING!                \n",
      "3207   MJ9GpuT8wAvdcM6UjQyhHYaHRvBdnT95Vyk2l0IvaksYEv1rAL                                                    \n",
      "3208   HeasnT1ZzTDyVioG4vEmj9x9voNTJeVrvBxOkv14DzQAGdXfeK                                                    \n",
      "3209   eELqKhPYBw3G8vvhMLZg0AQBPgMng1IpTj4KiDQYQrl6nrExJe                                                    \n",
      "3210   qD7BzAMLMFwKJnXot1NI4JRpVhIwcKneQY8Ad97BGyXd6Lbtvg                                                    \n",
      "3212   PFhZjUQ7yJTilRvYPWkBz0lraszau0eWWyDAecBn64WrMVvCg5                                                    \n",
      "3879   Mooie donkere kleur,ook na enkele keren te wassen!                                                    \n",
      "4101   Love it. Great design. Very comfortable.                                                              \n",
      "4288   None                                                                                                  \n",
      "4289   None                                                                                                  \n",
      "4290   None                                                                                                  \n",
      "4291   None                                                                                                  \n",
      "4292   None                                                                                                  \n",
      "4293   None                                                                                                  \n",
      "4295   None                                                                                                  \n",
      "4296   None                                                                                                  \n",
      "4298   None                                                                                                  \n",
      "4299   None                                                                                                  \n",
      "4300   None                                                                                                  \n",
      "4301   None                                                                                                  \n",
      "4302   None                                                                                                  \n",
      "4303   None                                                                                                  \n",
      "4612   Beautiful small doll for my granddaughter.                                                            \n",
      "4650   Poor service took 10 days to get delivered                                                            \n",
      "4785   Riyadh, Imam Abi Hanifa Street, after Al Hilal Club\\nMobil 0591116639                                 \n",
      "4792   Best unisex perfume, it smells like Adidas.                                                           \n",
      "5124   AUN NO TENGO RESPUESTA DESDE EL 6 DE JUNIO                                                            \n",
      "5677   This was a very good deal and of great quality. \\nKudos to your team                                  \n",
      "6015   None                                                                                                  \n",
      "6017   None                                                                                                  \n",
      "6018   None                                                                                                  \n",
      "6019   None                                                                                                  \n",
      "6020   None                                                                                                  \n",
      "6021   None                                                                                                  \n",
      "6022   防滑膠墊裂出約15公分的裂縫,因急用也沒時間過去換...所以就用雙面膠黏一黏先使用了.不過我還是支持喜歡ikea的產品..此次因是個案.                                  \n",
      "6024   None                                                                                                  \n",
      "6025   None                                                                                                  \n",
      "6026   None                                                                                                  \n",
      "6027   None                                                                                                  \n",
      "7059   MY GORGEOUS TWO PIECE GOWN IS VERY FORMAL WITH SPARKLES FOR A VERY SPECIAL OCCASION                   \n",
      "7695   #sweepstakes\\nExcellent product for an excellent price!                                               \n",
      "8977   NO SE DONDE VA LA PIEZA PEQUEÑA DE COLOR BLANCO Y ROJA???\\nME LO PUEDEN INDICAR ???                   \n",
      "9346   c6jgHer6YInYVhZM1DerFPCVF9WTvZhXz1G0obcdvsDoBw9ncI                                                    \n",
      "9425   None                                                                                                  \n",
      "9426   None                                                                                                  \n",
      "9427   None                                                                                                  \n",
      "9428   None                                                                                                  \n",
      "9429   None                                                                                                  \n",
      "9430   None                                                                                                  \n",
      "9431   None                                                                                                  \n",
      "9432   None                                                                                                  \n",
      "9433   None                                                                                                  \n",
      "9434   None                                                                                                  \n",
      "9435   None                                                                                                  \n",
      "9437   None                                                                                                  \n",
      "9440   None                                                                                                  \n",
      "9442   None                                                                                                  \n",
      "9443   None                                                                                                  \n",
      "9514   De momento todo ok\\nEspero envio de compra.                                                           \n",
      "9732   Leuk speeltje voor in bad. Mooie afwerking                                                            \n",
      "10210  None                                                                                                  \n",
      "10211  None                                                                                                  \n",
      "10212  None                                                                                                  \n",
      "10213  None                                                                                                  \n",
      "10214  None                                                                                                  \n",
      "10216  None                                                                                                  \n",
      "10217  None                                                                                                  \n",
      "10218  None                                                                                                  \n",
      "10219  None                                                                                                  \n",
      "10220  None                                                                                                  \n",
      "10221  None                                                                                                  \n",
      "10222  None                                                                                                  \n",
      "10224  None                                                                                                  \n",
      "10226  None                                                                                                  \n",
      "10227  裝水裝飲料皆適合，瓶身大小適中好握好拿。提手夠寬，瓶口好開啟。容量剛好，外出散步攜帶方便。                                                         \n",
      "10229  None                                                                                                  \n",
      "10230  優惠的價格，超優質的商品，能調整自己所需要的夾層，非常棒的設計\\n而且非常有質感，推~~~~                                                        \n",
      "10232  None                                                                                                  \n",
      "10235  None                                                                                                  \n",
      "10236  大家在逛 IKEA 時不太會注意到這個產品，但喜歡吃馬鈴薯泥或是馬鈴薯沙拉的一定要有一把。                                                         \n",
      "10726  2003 mitsubishi eclipse gts, perfect fit                                                              \n",
      "11139  Great covering paint. No fumes just a damp smell... great value paint                                 \n",
      "11284  Zeer leuk zwembadje. De band is stevig en de bodem is dik dus ideaal voor kleine kindjes!             \n",
      "11304  Leuk setje ter aanvulling van andere sets                                                             \n",
      "11307  Heel gebruiksvriendelijk, snelle en leuke personalisatie van je spulletjes!                           \n",
      "11311  Super om de boterhammen fris te houden tot de middag .                                                \n",
      "11426  You won't regret buying trident vibes, great flavored gum                                             \n",
      "11563  Great to keep for myself.  Even better for gifts.                                                     \n",
      "11718  None                                                                                                  \n",
      "11719  None                                                                                                  \n",
      "11720  None                                                                                                  \n",
      "11721  None                                                                                                  \n",
      "11723  None                                                                                                  \n",
      "11725  本人固定使用IKEA浴球，目前用過是質感最好的(較市面上的柔軟)，顏色馬卡龍色很美，不像一般外面賣的死亡芭比粉很恐怖的顏色又粗                                       \n",
      "11726  None                                                                                                  \n",
      "11727  None                                                                                                  \n",
      "11728  None                                                                                                  \n",
      "11731  None                                                                                                  \n",
      "\n",
      "      LANG  REVIEW_LENGTH  FL  \\\n",
      "1465   en   99.0           0    \n",
      "2007   en   48.0           0    \n",
      "2111   en   86.0           0    \n",
      "3207   nl   50.0           0    \n",
      "3208   de   50.0           0    \n",
      "3209   es   50.0           0    \n",
      "3210   fr   50.0           0    \n",
      "3212   pt   50.0           0    \n",
      "3879   nl   50.0           0    \n",
      "4101   en   40.0           0    \n",
      "4288   zh  NaN             0    \n",
      "4289   zh  NaN             0    \n",
      "4290   zh  NaN             0    \n",
      "4291   zh  NaN             0    \n",
      "4292   zh  NaN             0    \n",
      "4293   zh  NaN             0    \n",
      "4295   zh  NaN             0    \n",
      "4296   zh  NaN             0    \n",
      "4298   zh  NaN             0    \n",
      "4299   zh  NaN             0    \n",
      "4300   zh  NaN             0    \n",
      "4301   zh  NaN             0    \n",
      "4302   zh  NaN             0    \n",
      "4303   zh  NaN             0    \n",
      "4612   en   42.0           0    \n",
      "4650   en   42.0           0    \n",
      "4785   en   68.0           0    \n",
      "4792   en   43.0           0    \n",
      "5124   es   42.0           0    \n",
      "5677   el   67.0           0    \n",
      "6015   zh  NaN             0    \n",
      "6017   zh  NaN             0    \n",
      "6018   zh  NaN             0    \n",
      "6019   zh  NaN             0    \n",
      "6020   zh  NaN             0    \n",
      "6021   zh  NaN             0    \n",
      "6022   zh   68.0           0    \n",
      "6024   zh  NaN             0    \n",
      "6025   zh  NaN             0    \n",
      "6026   zh  NaN             0    \n",
      "6027   zh  NaN             0    \n",
      "7059   en   83.0           0    \n",
      "7695   en   54.0           0    \n",
      "8977   es   82.0           0    \n",
      "9346   en   50.0           0    \n",
      "9425   zh  NaN             0    \n",
      "9426   zh  NaN             0    \n",
      "9427   zh  NaN             0    \n",
      "9428   zh  NaN             0    \n",
      "9429   zh  NaN             0    \n",
      "9430   zh  NaN             0    \n",
      "9431   zh  NaN             0    \n",
      "9432   zh  NaN             0    \n",
      "9433   zh  NaN             0    \n",
      "9434   zh  NaN             0    \n",
      "9435   zh  NaN             0    \n",
      "9437   zh  NaN             0    \n",
      "9440   zh  NaN             0    \n",
      "9442   zh  NaN             0    \n",
      "9443   zh  NaN             0    \n",
      "9514   es   42.0           0    \n",
      "9732   nl   42.0           0    \n",
      "10210  zh  NaN             0    \n",
      "10211  zh  NaN             0    \n",
      "10212  zh  NaN             0    \n",
      "10213  zh  NaN             0    \n",
      "10214  zh  NaN             0    \n",
      "10216  zh  NaN             0    \n",
      "10217  zh  NaN             0    \n",
      "10218  zh  NaN             0    \n",
      "10219  zh  NaN             0    \n",
      "10220  zh  NaN             0    \n",
      "10221  zh  NaN             0    \n",
      "10222  zh  NaN             0    \n",
      "10224  zh  NaN             0    \n",
      "10226  zh  NaN             0    \n",
      "10227  zh   45.0           0    \n",
      "10229  zh  NaN             0    \n",
      "10230  zh   45.0           0    \n",
      "10232  zh  NaN             0    \n",
      "10235  zh  NaN             0    \n",
      "10236  zh   45.0           0    \n",
      "10726  en   40.0           0    \n",
      "11139  en   69.0           0    \n",
      "11284  nl   89.0           0    \n",
      "11304  nl   41.0           0    \n",
      "11307  nl   75.0           0    \n",
      "11311  nl   54.0           0    \n",
      "11426  en   57.0           0    \n",
      "11563  en   49.0           0    \n",
      "11718  zh  NaN             0    \n",
      "11719  zh  NaN             0    \n",
      "11720  zh  NaN             0    \n",
      "11721  zh  NaN             0    \n",
      "11723  zh  NaN             0    \n",
      "11725  zh   63.0           0    \n",
      "11726  zh  NaN             0    \n",
      "11727  zh  NaN             0    \n",
      "11728  zh  NaN             0    \n",
      "11731  zh  NaN             0    \n",
      "\n",
      "                                                                                                                            ALL_TEXT  \\\n",
      "1465   jim beanie NORTH FACE PLEASE BRING BACK THE ( TIN GREY COLOR)< THIS WAS THE BEST COLOR OF ALL IN MY OPINION...                  \n",
      "2007   ALWAYS A GREAT EXPERIENCE AND QUICK  & EASY! ALWAYS A GREAT EXPERIENCE AND QUICK  & EASY!!!!!                                   \n",
      "2111   STRAWBERRY FEED EVERY SPRING GIVING MY ESTABLISHED RAISED STRAWBERRY BED A FRESH FEED TO HELP TAKE OFF THIS SRPING!             \n",
      "3207   mNGkZEZH MJ9GpuT8wAvdcM6UjQyhHYaHRvBdnT95Vyk2l0IvaksYEv1rAL                                                                     \n",
      "3208   fJskQGcl HeasnT1ZzTDyVioG4vEmj9x9voNTJeVrvBxOkv14DzQAGdXfeK                                                                     \n",
      "3209   vZInPAcU eELqKhPYBw3G8vvhMLZg0AQBPgMng1IpTj4KiDQYQrl6nrExJe                                                                     \n",
      "3210   PYETXWAk qD7BzAMLMFwKJnXot1NI4JRpVhIwcKneQY8Ad97BGyXd6Lbtvg                                                                     \n",
      "3212   OdphymAA PFhZjUQ7yJTilRvYPWkBz0lraszau0eWWyDAecBn64WrMVvCg5                                                                     \n",
      "3879   Tevreden! Mooie donkere kleur,ook na enkele keren te wassen!                                                                    \n",
      "4101   Excellent Love it. Great design. Very comfortable.                                                                              \n",
      "4288   nan                                                                                                                             \n",
      "4289   nan                                                                                                                             \n",
      "4290   nan                                                                                                                             \n",
      "4291   nan                                                                                                                             \n",
      "4292   nan                                                                                                                             \n",
      "4293   nan                                                                                                                             \n",
      "4295   nan                                                                                                                             \n",
      "4296   nan                                                                                                                             \n",
      "4298   nan                                                                                                                             \n",
      "4299   nan                                                                                                                             \n",
      "4300   nan                                                                                                                             \n",
      "4301   nan                                                                                                                             \n",
      "4302   nan                                                                                                                             \n",
      "4303   nan                                                                                                                             \n",
      "4612   Darling doll for my darling granddaughter Beautiful small doll for my granddaughter.                                            \n",
      "4650   Poor Poor service took 10 days to get delivered                                                                                 \n",
      "4785   K.S.A Al Riyadh Riyadh, Imam Abi Hanifa Street, after Al Hilal Club\\nMobil 0591116639                                           \n",
      "4792   Very nice unisex Best unisex perfume, it smells like Adidas.                                                                    \n",
      "5124   Calificacion - 1593171703114 AUN NO TENGO RESPUESTA DESDE EL 6 DE JUNIO                                                         \n",
      "5677   Happy !!! This was a very good deal and of great quality. \\nKudos to your team                                                  \n",
      "6015   nan                                                                                                                             \n",
      "6017   nan                                                                                                                             \n",
      "6018   nan                                                                                                                             \n",
      "6019   nan                                                                                                                             \n",
      "6020   nan                                                                                                                             \n",
      "6021   nan                                                                                                                             \n",
      "6022   防滑膠墊裂出約15公分的裂縫 防滑膠墊裂出約15公分的裂縫,因急用也沒時間過去換...所以就用雙面膠黏一黏先使用了.不過我還是支持喜歡ikea的產品..此次因是個案.                                             \n",
      "6024   nan                                                                                                                             \n",
      "6025   nan                                                                                                                             \n",
      "6026   nan                                                                                                                             \n",
      "6027   nan                                                                                                                             \n",
      "7059   I LOVE MY TWO PIECE SPARKLY STUDDED GOWN MY GORGEOUS TWO PIECE GOWN IS VERY FORMAL WITH SPARKLES FOR A VERY SPECIAL OCCASION    \n",
      "7695   Excellent Product! #sweepstakes\\nExcellent product for an excellent price!                                                      \n",
      "8977   PARECE LA PIEZA APROPIADA NO SE DONDE VA LA PIEZA PEQUEÑA DE COLOR BLANCO Y ROJA???\\nME LO PUEDEN INDICAR ???                   \n",
      "9346   lqEMTieK c6jgHer6YInYVhZM1DerFPCVF9WTvZhXz1G0obcdvsDoBw9ncI                                                                     \n",
      "9425   nan                                                                                                                             \n",
      "9426   nan                                                                                                                             \n",
      "9427   nan                                                                                                                             \n",
      "9428   nan                                                                                                                             \n",
      "9429   nan                                                                                                                             \n",
      "9430   nan                                                                                                                             \n",
      "9431   nan                                                                                                                             \n",
      "9432   nan                                                                                                                             \n",
      "9433   nan                                                                                                                             \n",
      "9434   nan                                                                                                                             \n",
      "9435   nan                                                                                                                             \n",
      "9437   nan                                                                                                                             \n",
      "9440   nan                                                                                                                             \n",
      "9442   nan                                                                                                                             \n",
      "9443   nan                                                                                                                             \n",
      "9514   De momento todo ok\\nEspero envio de compra. De momento todo ok\\nEspero envio de compra.                                         \n",
      "9732   Leuk voor in bad Leuk speeltje voor in bad. Mooie afwerking                                                                     \n",
      "10210  nan                                                                                                                             \n",
      "10211  nan                                                                                                                             \n",
      "10212  nan                                                                                                                             \n",
      "10213  nan                                                                                                                             \n",
      "10214  nan                                                                                                                             \n",
      "10216  nan                                                                                                                             \n",
      "10217  nan                                                                                                                             \n",
      "10218  nan                                                                                                                             \n",
      "10219  nan                                                                                                                             \n",
      "10220  nan                                                                                                                             \n",
      "10221  nan                                                                                                                             \n",
      "10222  nan                                                                                                                             \n",
      "10224  nan                                                                                                                             \n",
      "10226  nan                                                                                                                             \n",
      "10227  厚實好開，容量適中 裝水裝飲料皆適合，瓶身大小適中好握好拿。提手夠寬，瓶口好開啟。容量剛好，外出散步攜帶方便。                                                                         \n",
      "10229  nan                                                                                                                             \n",
      "10230  很實用 優惠的價格，超優質的商品，能調整自己所需要的夾層，非常棒的設計\\n而且非常有質感，推~~~~                                                                              \n",
      "10232  nan                                                                                                                             \n",
      "10235  nan                                                                                                                             \n",
      "10236  喜歡吃馬鈴薯泥的看過來！ 大家在逛 IKEA 時不太會注意到這個產品，但喜歡吃馬鈴薯泥或是馬鈴薯沙拉的一定要有一把。                                                                      \n",
      "10726  Solid fit 2003 mitsubishi eclipse gts, perfect fit                                                                              \n",
      "11139  good value Great covering paint. No fumes just a damp smell... great value paint                                                \n",
      "11284  Leuk zwembad voor kleinere kindjes! Zeer leuk zwembadje. De band is stevig en de bodem is dik dus ideaal voor kleine kindjes!   \n",
      "11304  Leuke set Leuk setje ter aanvulling van andere sets                                                                             \n",
      "11307  Leuke personalisatie van je spulletjes! Heel gebruiksvriendelijk, snelle en leuke personalisatie van je spulletjes!             \n",
      "11311  Leuk item Super om de boterhammen fris te houden tot de middag .                                                                \n",
      "11426  Trident vibes You won't regret buying trident vibes, great flavored gum                                                         \n",
      "11563  Great to keep for myself. Great to keep for myself.  Even better for gifts.                                                     \n",
      "11718  nan                                                                                                                             \n",
      "11719  nan                                                                                                                             \n",
      "11720  nan                                                                                                                             \n",
      "11721  nan                                                                                                                             \n",
      "11723  nan                                                                                                                             \n",
      "11725  這是買第二盒了 本人固定使用IKEA浴球，目前用過是質感最好的(較市面上的柔軟)，顏色馬卡龍色很美，不像一般外面賣的死亡芭比粉很恐怖的顏色又粗                                                         \n",
      "11726  nan                                                                                                                             \n",
      "11727  nan                                                                                                                             \n",
      "11728  nan                                                                                                                             \n",
      "11731  nan                                                                                                                             \n",
      "\n",
      "      PRED_LANG  model_FL  \n",
      "1465   de        1         \n",
      "2007   pt        1         \n",
      "2111   de        1         \n",
      "3207   cs        1         \n",
      "3208   sk        1         \n",
      "3209   de        1         \n",
      "3210   de        1         \n",
      "3212   pl        1         \n",
      "3879   af        1         \n",
      "4101   ca        1         \n",
      "4288   tl        1         \n",
      "4289   tl        1         \n",
      "4290   tl        1         \n",
      "4291   tl        1         \n",
      "4292   tl        1         \n",
      "4293   tl        1         \n",
      "4295   tl        1         \n",
      "4296   tl        1         \n",
      "4298   tl        1         \n",
      "4299   tl        1         \n",
      "4300   tl        1         \n",
      "4301   tl        1         \n",
      "4302   tl        1         \n",
      "4303   tl        1         \n",
      "4612   cy        1         \n",
      "4650   nl        1         \n",
      "4785   so        1         \n",
      "4792   de        1         \n",
      "5124   en        1         \n",
      "5677   en        1         \n",
      "6015   tl        1         \n",
      "6017   tl        1         \n",
      "6018   tl        1         \n",
      "6019   tl        1         \n",
      "6020   tl        1         \n",
      "6021   tl        1         \n",
      "6022   ko        1         \n",
      "6024   tl        1         \n",
      "6025   tl        1         \n",
      "6026   tl        1         \n",
      "6027   tl        1         \n",
      "7059   de        1         \n",
      "7695   fr        1         \n",
      "8977   pt        1         \n",
      "9346   de        1         \n",
      "9425   tl        1         \n",
      "9426   tl        1         \n",
      "9427   tl        1         \n",
      "9428   tl        1         \n",
      "9429   tl        1         \n",
      "9430   tl        1         \n",
      "9431   tl        1         \n",
      "9432   tl        1         \n",
      "9433   tl        1         \n",
      "9434   tl        1         \n",
      "9435   tl        1         \n",
      "9437   tl        1         \n",
      "9440   tl        1         \n",
      "9442   tl        1         \n",
      "9443   tl        1         \n",
      "9514   pt        1         \n",
      "9732   af        1         \n",
      "10210  tl        1         \n",
      "10211  tl        1         \n",
      "10212  tl        1         \n",
      "10213  tl        1         \n",
      "10214  tl        1         \n",
      "10216  tl        1         \n",
      "10217  tl        1         \n",
      "10218  tl        1         \n",
      "10219  tl        1         \n",
      "10220  tl        1         \n",
      "10221  tl        1         \n",
      "10222  tl        1         \n",
      "10224  tl        1         \n",
      "10226  tl        1         \n",
      "10227  zh-tw     1         \n",
      "10229  tl        1         \n",
      "10230  ko        1         \n",
      "10232  tl        1         \n",
      "10235  tl        1         \n",
      "10236  ko        1         \n",
      "10726  ca        1         \n",
      "11139  ca        1         \n",
      "11284  af        1         \n",
      "11304  af        1         \n",
      "11307  af        1         \n",
      "11311  da        1         \n",
      "11426  da        1         \n",
      "11563  da        1         \n",
      "11718  tl        1         \n",
      "11719  tl        1         \n",
      "11720  tl        1         \n",
      "11721  tl        1         \n",
      "11723  tl        1         \n",
      "11725  ko        1         \n",
      "11726  tl        1         \n",
      "11727  tl        1         \n",
      "11728  tl        1         \n",
      "11731  tl        1"
     ]
    }
   ],
   "source": [
    "FP.head(100)"
   ]
  },
  {
   "cell_type": "code",
   "execution_count": null,
   "metadata": {},
   "outputs": [],
   "source": []
  },
  {
   "cell_type": "code",
   "execution_count": 19,
   "metadata": {},
   "outputs": [
    {
     "data": {
      "application/vnd.jupyter.widget-view+json": {
       "model_id": "02ca81056d384c2883df676e693a7e8d",
       "version_major": 2,
       "version_minor": 0
      },
      "text/plain": [
       "VBox()"
      ]
     },
     "metadata": {},
     "output_type": "display_data"
    },
    {
     "data": {
      "application/vnd.jupyter.widget-view+json": {
       "model_id": "",
       "version_major": 2,
       "version_minor": 0
      },
      "text/plain": [
       "FloatProgress(value=0.0, bar_style='info', description='Progress:', layout=Layout(height='25px', width='50%'),…"
      ]
     },
     "metadata": {},
     "output_type": "display_data"
    },
    {
     "name": "stdout",
     "output_type": "stream",
     "text": [
      "'cy'"
     ]
    }
   ],
   "source": [
    "detect('good good stuff')"
   ]
  },
  {
   "cell_type": "code",
   "execution_count": 28,
   "metadata": {},
   "outputs": [
    {
     "data": {
      "application/vnd.jupyter.widget-view+json": {
       "model_id": "df9121bbaf6b446da4c161bf2dabe36f",
       "version_major": 2,
       "version_minor": 0
      },
      "text/plain": [
       "VBox()"
      ]
     },
     "metadata": {},
     "output_type": "display_data"
    },
    {
     "data": {
      "application/vnd.jupyter.widget-view+json": {
       "model_id": "",
       "version_major": 2,
       "version_minor": 0
      },
      "text/plain": [
       "FloatProgress(value=0.0, bar_style='info', description='Progress:', layout=Layout(height='25px', width='50%'),…"
      ]
     },
     "metadata": {},
     "output_type": "display_data"
    },
    {
     "name": "stdout",
     "output_type": "stream",
     "text": [
      "<class 'pandas.core.frame.DataFrame'>\n",
      "Int64Index: 6456 entries, 638 to 8681798\n",
      "Data columns (total 17 columns):\n",
      " #   Column               Non-Null Count  Dtype \n",
      "---  ------               --------------  ----- \n",
      " 0   UGC_ID               6456 non-null   int64 \n",
      " 1   NAME                 6456 non-null   object\n",
      " 2   REVIEW_HEADLINE      6456 non-null   object\n",
      " 3   REVIEW_COMMENTS      6456 non-null   object\n",
      " 4   CR                   6456 non-null   int64 \n",
      " 5   ALL_TEXT             6456 non-null   object\n",
      " 6   NAME_1ST_PART_RAW    6456 non-null   object\n",
      " 7   NAME_1ST_PART        6456 non-null   object\n",
      " 8   ALL_TEXT_2           6456 non-null   object\n",
      " 9   ALL_TEXT_3           6456 non-null   object\n",
      " 10  ALL_TEXT_4           6456 non-null   object\n",
      " 11  ALL_TEXT_5           6456 non-null   object\n",
      " 12  ALL_TEXT_6           6456 non-null   object\n",
      " 13  ALL_TEXT_7           6456 non-null   object\n",
      " 14  regex_retailer       6456 non-null   object\n",
      " 15  retailer_not_client  6456 non-null   bool  \n",
      " 16  model_CR             6456 non-null   int64 \n",
      "dtypes: bool(1), int64(3), object(13)\n",
      "memory usage: 863.7+ KB"
     ]
    }
   ],
   "source": [
    "FP.info()"
   ]
  },
  {
   "cell_type": "code",
   "execution_count": 29,
   "metadata": {},
   "outputs": [
    {
     "data": {
      "application/vnd.jupyter.widget-view+json": {
       "model_id": "7b63a36fbf8c48ca8fa2b67837e6b4c3",
       "version_major": 2,
       "version_minor": 0
      },
      "text/plain": [
       "VBox()"
      ]
     },
     "metadata": {},
     "output_type": "display_data"
    },
    {
     "data": {
      "application/vnd.jupyter.widget-view+json": {
       "model_id": "",
       "version_major": 2,
       "version_minor": 0
      },
      "text/plain": [
       "FloatProgress(value=0.0, bar_style='info', description='Progress:', layout=Layout(height='25px', width='50%'),…"
      ]
     },
     "metadata": {},
     "output_type": "display_data"
    }
   ],
   "source": [
    "from pyspark.sql.types import *\n",
    "\n",
    "mySchema = StructType([StructField(\"UGC_ID\", StringType(), True)\\\n",
    ",StructField(\"NAME\", StringType(), True)\\\n",
    ",StructField(\"REVIEW_HEADLINE\", StringType(), True)\\\n",
    ",StructField(\"REVIEW_COMMENTS\", StringType(), True)\\\n",
    ",StructField(\"CR\", IntegerType(), True)\\\n",
    ",StructField(\"ALL_TEXT\", StringType(), True)\\\n",
    ",StructField(\"NAME_1ST_PART_RAW\", StringType(), True)\\\n",
    ",StructField(\"NAME_1ST_PART\", StringType(), True)\\\n",
    ",StructField(\"ALL_TEXT_2\", StringType(), True)\\\n",
    ",StructField(\"ALL_TEXT_3\", StringType(), True)\\\n",
    ",StructField(\"ALL_TEXT_4\", StringType(), True)\\\n",
    ",StructField(\"ALL_TEXT_5\", StringType(), True)\\\n",
    ",StructField(\"ALL_TEXT_6\", StringType(), True)\\\n",
    ",StructField(\"ALL_TEXT_7\", StringType(), True)\\\n",
    ",StructField(\"regex_retailer\", StringType(), True)\\\n",
    ",StructField(\"retailer_not_client\", StringType(), True)\\\n",
    ",StructField(\"model_CR\", IntegerType(), True)])\n",
    "\n"
   ]
  },
  {
   "cell_type": "code",
   "execution_count": null,
   "metadata": {},
   "outputs": [],
   "source": []
  },
  {
   "cell_type": "code",
   "execution_count": 30,
   "metadata": {},
   "outputs": [
    {
     "data": {
      "application/vnd.jupyter.widget-view+json": {
       "model_id": "3eccada86461474ea2d7ef8f780bb971",
       "version_major": 2,
       "version_minor": 0
      },
      "text/plain": [
       "VBox()"
      ]
     },
     "metadata": {},
     "output_type": "display_data"
    },
    {
     "data": {
      "application/vnd.jupyter.widget-view+json": {
       "model_id": "",
       "version_major": 2,
       "version_minor": 0
      },
      "text/plain": [
       "FloatProgress(value=0.0, bar_style='info', description='Progress:', layout=Layout(height='25px', width='50%'),…"
      ]
     },
     "metadata": {},
     "output_type": "display_data"
    }
   ],
   "source": [
    "SNOWFLAKE_SOURCE_NAME = \"net.snowflake.spark.snowflake\"\n",
    "\n",
    "sfOptions = {\n",
    "  'sfURL' : 'powerreviews.snowflakecomputing.com',\n",
    "  'sfAccount' : 'powerreviews',\n",
    "  'sfUser' : username,\n",
    "  'sfPassword' : password,\n",
    "  'sfDatabase' : 'ANALYTICS_WORKSHOP',\n",
    "  'sfSchema' : 'DATA_SCIENCE',\n",
    "  'sfWarehouse' : 'LOWER_ENV_WAREHOUSE'\n",
    "}"
   ]
  },
  {
   "cell_type": "code",
   "execution_count": 33,
   "metadata": {},
   "outputs": [
    {
     "data": {
      "application/vnd.jupyter.widget-view+json": {
       "model_id": "d6261cac98964cbdb8ea3cd35b38d68f",
       "version_major": 2,
       "version_minor": 0
      },
      "text/plain": [
       "VBox()"
      ]
     },
     "metadata": {},
     "output_type": "display_data"
    },
    {
     "data": {
      "application/vnd.jupyter.widget-view+json": {
       "model_id": "",
       "version_major": 2,
       "version_minor": 0
      },
      "text/plain": [
       "FloatProgress(value=0.0, bar_style='info', description='Progress:', layout=Layout(height='25px', width='50%'),…"
      ]
     },
     "metadata": {},
     "output_type": "display_data"
    }
   ],
   "source": [
    "#Turn into spark dataframe in order to write to Snowflake\n",
    "#Couldn't get write_pandas() to work to write directly from pandas to Snowflake\n",
    "FP = spark.createDataFrame(FP, schema=mySchema)"
   ]
  },
  {
   "cell_type": "code",
   "execution_count": 34,
   "metadata": {},
   "outputs": [
    {
     "data": {
      "application/vnd.jupyter.widget-view+json": {
       "model_id": "f0ee7e7db8b248da97d5ea56606b2dab",
       "version_major": 2,
       "version_minor": 0
      },
      "text/plain": [
       "VBox()"
      ]
     },
     "metadata": {},
     "output_type": "display_data"
    },
    {
     "data": {
      "application/vnd.jupyter.widget-view+json": {
       "model_id": "",
       "version_major": 2,
       "version_minor": 0
      },
      "text/plain": [
       "FloatProgress(value=0.0, bar_style='info', description='Progress:', layout=Layout(height='25px', width='50%'),…"
      ]
     },
     "metadata": {},
     "output_type": "display_data"
    }
   ],
   "source": [
    "FP.write.format(SNOWFLAKE_SOURCE_NAME).options(**sfOptions) \\\n",
    "    .option(\"dbtable\",\"CR_FP_test4\").mode(\"append\").save()\n"
   ]
  },
  {
   "cell_type": "code",
   "execution_count": null,
   "metadata": {},
   "outputs": [],
   "source": []
  },
  {
   "cell_type": "code",
   "execution_count": null,
   "metadata": {},
   "outputs": [],
   "source": []
  },
  {
   "cell_type": "code",
   "execution_count": null,
   "metadata": {},
   "outputs": [],
   "source": []
  },
  {
   "cell_type": "code",
   "execution_count": null,
   "metadata": {},
   "outputs": [],
   "source": []
  },
  {
   "cell_type": "code",
   "execution_count": 109,
   "metadata": {},
   "outputs": [
    {
     "data": {
      "application/vnd.jupyter.widget-view+json": {
       "model_id": "93f0f332017b42a4a6ef56a59b58a396",
       "version_major": 2,
       "version_minor": 0
      },
      "text/plain": [
       "VBox()"
      ]
     },
     "metadata": {},
     "output_type": "display_data"
    },
    {
     "data": {
      "application/vnd.jupyter.widget-view+json": {
       "model_id": "",
       "version_major": 2,
       "version_minor": 0
      },
      "text/plain": [
       "FloatProgress(value=0.0, bar_style='info', description='Progress:', layout=Layout(height='25px', width='50%'),…"
      ]
     },
     "metadata": {},
     "output_type": "display_data"
    },
    {
     "name": "stdout",
     "output_type": "stream",
     "text": [
      "<snowflake.connector.cursor.SnowflakeCursor object at 0x7f19fab41fd0>"
     ]
    }
   ],
   "source": [
    "conn.cursor().execute(\"drop table if exists ANALYTICS_WORKSHOP.DATA_SCIENCE.TST_FP_TEST3\")\n",
    "conn.cursor().execute(\"drop table if exists ANALYTICS_WORKSHOP.DATA_SCIENCE.TST_FN_TEST3\")\n",
    "#conn.cursor().execute(\"drop table if exists ANALYTICS_WORKSHOP.DATA_SCIENCE.TEST_NLP_SPARK6\")\n",
    "#conn.cursor().execute(\"drop table if exists ANALYTICS_WORKSHOP.DATA_SCIENCE.TEST_NLP_SWAP_TOKENS\")"
   ]
  }
 ],
 "metadata": {
  "kernelspec": {
   "display_name": "PySpark",
   "language": "",
   "name": "pysparkkernel"
  },
  "language_info": {
   "codemirror_mode": {
    "name": "python",
    "version": 2
   },
   "mimetype": "text/x-python",
   "name": "pyspark",
   "pygments_lexer": "python2"
  }
 },
 "nbformat": 4,
 "nbformat_minor": 4
}
